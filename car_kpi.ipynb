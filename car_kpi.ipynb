{
 "cells": [
  {
   "cell_type": "code",
   "execution_count": 2,
   "id": "5578debc-7abe-40be-9373-10f0a0449549",
   "metadata": {},
   "outputs": [],
   "source": [
    "# dataset source:   https://www.kaggle.com/datasets/andreinovikov/used-cars-dataset"
   ]
  },
  {
   "cell_type": "markdown",
   "id": "9d01ec2b-745c-4bab-b015-fd38bc9d35a4",
   "metadata": {},
   "source": [
    "<div style=\"text-align: center;background-color:#f0e9d5; padding:10px; border-left: 5px solid #4CAF50; font-family: Trebuchet MS; font-size: 20px; color: #333;\">\n",
    "  LOAD LIBRARY & DATASET\n",
    "</div>\n"
   ]
  },
  {
   "cell_type": "code",
   "execution_count": 111,
   "id": "4b735bb2-56c5-41ec-a179-b8a9655f4062",
   "metadata": {},
   "outputs": [],
   "source": [
    "\n",
    "import pandas as pd\n",
    "import plotly.express as px\n",
    "import plotly.graph_objects as go\n",
    "import numpy as np\n",
    "from scipy.stats import gaussian_kde"
   ]
  },
  {
   "cell_type": "code",
   "execution_count": 112,
   "id": "fb89b60d-09b2-4b0f-918c-014df8a5d6d2",
   "metadata": {},
   "outputs": [],
   "source": [
    "data = pd.read_csv(\"../datasets/cars.csv\")"
   ]
  },
  {
   "cell_type": "code",
   "execution_count": 113,
   "id": "40491960-ae69-4751-957b-b1d3c55a3fe3",
   "metadata": {},
   "outputs": [
    {
     "data": {
      "text/plain": [
       "(762091, 20)"
      ]
     },
     "execution_count": 113,
     "metadata": {},
     "output_type": "execute_result"
    }
   ],
   "source": [
    "data.shape"
   ]
  },
  {
   "cell_type": "code",
   "execution_count": 114,
   "id": "b76fb103-4a56-4167-9eb8-fc6a7e032638",
   "metadata": {},
   "outputs": [
    {
     "data": {
      "text/html": [
       "<div>\n",
       "<style scoped>\n",
       "    .dataframe tbody tr th:only-of-type {\n",
       "        vertical-align: middle;\n",
       "    }\n",
       "\n",
       "    .dataframe tbody tr th {\n",
       "        vertical-align: top;\n",
       "    }\n",
       "\n",
       "    .dataframe thead th {\n",
       "        text-align: right;\n",
       "    }\n",
       "</style>\n",
       "<table border=\"1\" class=\"dataframe\">\n",
       "  <thead>\n",
       "    <tr style=\"text-align: right;\">\n",
       "      <th></th>\n",
       "      <th>Column</th>\n",
       "      <th>Unique Values</th>\n",
       "      <th>null values</th>\n",
       "    </tr>\n",
       "  </thead>\n",
       "  <tbody>\n",
       "    <tr>\n",
       "      <th>0</th>\n",
       "      <td>manufacturer</td>\n",
       "      <td>30</td>\n",
       "      <td>0</td>\n",
       "    </tr>\n",
       "    <tr>\n",
       "      <th>1</th>\n",
       "      <td>model</td>\n",
       "      <td>12187</td>\n",
       "      <td>0</td>\n",
       "    </tr>\n",
       "    <tr>\n",
       "      <th>2</th>\n",
       "      <td>year</td>\n",
       "      <td>100</td>\n",
       "      <td>0</td>\n",
       "    </tr>\n",
       "    <tr>\n",
       "      <th>3</th>\n",
       "      <td>mileage</td>\n",
       "      <td>158751</td>\n",
       "      <td>506</td>\n",
       "    </tr>\n",
       "    <tr>\n",
       "      <th>4</th>\n",
       "      <td>engine</td>\n",
       "      <td>6903</td>\n",
       "      <td>15050</td>\n",
       "    </tr>\n",
       "    <tr>\n",
       "      <th>5</th>\n",
       "      <td>transmission</td>\n",
       "      <td>1313</td>\n",
       "      <td>9904</td>\n",
       "    </tr>\n",
       "    <tr>\n",
       "      <th>6</th>\n",
       "      <td>drivetrain</td>\n",
       "      <td>33</td>\n",
       "      <td>21562</td>\n",
       "    </tr>\n",
       "    <tr>\n",
       "      <th>7</th>\n",
       "      <td>fuel_type</td>\n",
       "      <td>36</td>\n",
       "      <td>22927</td>\n",
       "    </tr>\n",
       "    <tr>\n",
       "      <th>8</th>\n",
       "      <td>mpg</td>\n",
       "      <td>865</td>\n",
       "      <td>142071</td>\n",
       "    </tr>\n",
       "    <tr>\n",
       "      <th>9</th>\n",
       "      <td>exterior_color</td>\n",
       "      <td>7681</td>\n",
       "      <td>8859</td>\n",
       "    </tr>\n",
       "    <tr>\n",
       "      <th>10</th>\n",
       "      <td>interior_color</td>\n",
       "      <td>4679</td>\n",
       "      <td>56975</td>\n",
       "    </tr>\n",
       "    <tr>\n",
       "      <th>11</th>\n",
       "      <td>accidents_or_damage</td>\n",
       "      <td>2</td>\n",
       "      <td>24212</td>\n",
       "    </tr>\n",
       "    <tr>\n",
       "      <th>12</th>\n",
       "      <td>one_owner</td>\n",
       "      <td>2</td>\n",
       "      <td>31483</td>\n",
       "    </tr>\n",
       "    <tr>\n",
       "      <th>13</th>\n",
       "      <td>personal_use_only</td>\n",
       "      <td>2</td>\n",
       "      <td>24852</td>\n",
       "    </tr>\n",
       "    <tr>\n",
       "      <th>14</th>\n",
       "      <td>seller_name</td>\n",
       "      <td>18254</td>\n",
       "      <td>8593</td>\n",
       "    </tr>\n",
       "    <tr>\n",
       "      <th>15</th>\n",
       "      <td>seller_rating</td>\n",
       "      <td>41</td>\n",
       "      <td>213973</td>\n",
       "    </tr>\n",
       "    <tr>\n",
       "      <th>16</th>\n",
       "      <td>driver_rating</td>\n",
       "      <td>35</td>\n",
       "      <td>31632</td>\n",
       "    </tr>\n",
       "    <tr>\n",
       "      <th>17</th>\n",
       "      <td>driver_reviews_num</td>\n",
       "      <td>369</td>\n",
       "      <td>0</td>\n",
       "    </tr>\n",
       "    <tr>\n",
       "      <th>18</th>\n",
       "      <td>price_drop</td>\n",
       "      <td>6404</td>\n",
       "      <td>351979</td>\n",
       "    </tr>\n",
       "    <tr>\n",
       "      <th>19</th>\n",
       "      <td>price</td>\n",
       "      <td>63464</td>\n",
       "      <td>0</td>\n",
       "    </tr>\n",
       "  </tbody>\n",
       "</table>\n",
       "</div>"
      ],
      "text/plain": [
       "                 Column  Unique Values  null values\n",
       "0          manufacturer             30            0\n",
       "1                 model          12187            0\n",
       "2                  year            100            0\n",
       "3               mileage         158751          506\n",
       "4                engine           6903        15050\n",
       "5          transmission           1313         9904\n",
       "6            drivetrain             33        21562\n",
       "7             fuel_type             36        22927\n",
       "8                   mpg            865       142071\n",
       "9        exterior_color           7681         8859\n",
       "10       interior_color           4679        56975\n",
       "11  accidents_or_damage              2        24212\n",
       "12            one_owner              2        31483\n",
       "13    personal_use_only              2        24852\n",
       "14          seller_name          18254         8593\n",
       "15        seller_rating             41       213973\n",
       "16        driver_rating             35        31632\n",
       "17   driver_reviews_num            369            0\n",
       "18           price_drop           6404       351979\n",
       "19                price          63464            0"
      ]
     },
     "metadata": {},
     "output_type": "display_data"
    }
   ],
   "source": [
    "# from IPython.display import display\n",
    "\n",
    "def columns_info(data):\n",
    "    \"\"\"\n",
    "    Display a table showing the number of unique values for each column in the DataFrame.\n",
    "    \"\"\"\n",
    "    unique_counts = {\n",
    "        \"Column\": data.columns,\n",
    "        \"Unique Values\": [data[col].nunique() for col in data.columns],\n",
    "        'null values': [data[col].isna().sum() for col in data.columns]\n",
    "    }\n",
    "    \n",
    "    result_df = pd.DataFrame(unique_counts)\n",
    "    display(result_df)\n",
    "columns_info(data)"
   ]
  },
  {
   "cell_type": "code",
   "execution_count": 115,
   "id": "1aaeea80-998b-4173-84e2-92038864ba6a",
   "metadata": {},
   "outputs": [
    {
     "name": "stdout",
     "output_type": "stream",
     "text": [
      "<class 'pandas.core.frame.DataFrame'>\n",
      "RangeIndex: 762091 entries, 0 to 762090\n",
      "Data columns (total 20 columns):\n",
      " #   Column               Non-Null Count   Dtype  \n",
      "---  ------               --------------   -----  \n",
      " 0   manufacturer         762091 non-null  object \n",
      " 1   model                762091 non-null  object \n",
      " 2   year                 762091 non-null  int64  \n",
      " 3   mileage              761585 non-null  float64\n",
      " 4   engine               747041 non-null  object \n",
      " 5   transmission         752187 non-null  object \n",
      " 6   drivetrain           740529 non-null  object \n",
      " 7   fuel_type            739164 non-null  object \n",
      " 8   mpg                  620020 non-null  object \n",
      " 9   exterior_color       753232 non-null  object \n",
      " 10  interior_color       705116 non-null  object \n",
      " 11  accidents_or_damage  737879 non-null  float64\n",
      " 12  one_owner            730608 non-null  float64\n",
      " 13  personal_use_only    737239 non-null  float64\n",
      " 14  seller_name          753498 non-null  object \n",
      " 15  seller_rating        548118 non-null  float64\n",
      " 16  driver_rating        730459 non-null  float64\n",
      " 17  driver_reviews_num   762091 non-null  float64\n",
      " 18  price_drop           410112 non-null  float64\n",
      " 19  price                762091 non-null  float64\n",
      "dtypes: float64(9), int64(1), object(10)\n",
      "memory usage: 116.3+ MB\n"
     ]
    }
   ],
   "source": [
    "data.info()"
   ]
  },
  {
   "cell_type": "code",
   "execution_count": 172,
   "id": "20419638-b5ab-417c-bd1c-5489d065f358",
   "metadata": {},
   "outputs": [
    {
     "data": {
      "text/html": [
       "<div>\n",
       "<style scoped>\n",
       "    .dataframe tbody tr th:only-of-type {\n",
       "        vertical-align: middle;\n",
       "    }\n",
       "\n",
       "    .dataframe tbody tr th {\n",
       "        vertical-align: top;\n",
       "    }\n",
       "\n",
       "    .dataframe thead th {\n",
       "        text-align: right;\n",
       "    }\n",
       "</style>\n",
       "<table border=\"1\" class=\"dataframe\">\n",
       "  <thead>\n",
       "    <tr style=\"text-align: right;\">\n",
       "      <th></th>\n",
       "      <th>year</th>\n",
       "      <th>mileage</th>\n",
       "      <th>mpg</th>\n",
       "      <th>accidents_or_damage</th>\n",
       "      <th>one_owner</th>\n",
       "      <th>personal_use_only</th>\n",
       "      <th>seller_rating</th>\n",
       "      <th>driver_rating</th>\n",
       "      <th>driver_reviews_num</th>\n",
       "      <th>price_drop</th>\n",
       "      <th>price</th>\n",
       "    </tr>\n",
       "  </thead>\n",
       "  <tbody>\n",
       "    <tr>\n",
       "      <th>count</th>\n",
       "      <td>750641.000000</td>\n",
       "      <td>7.501470e+05</td>\n",
       "      <td>636108.000000</td>\n",
       "      <td>750641.000000</td>\n",
       "      <td>750641.000000</td>\n",
       "      <td>750641.000000</td>\n",
       "      <td>540939.000000</td>\n",
       "      <td>719887.000000</td>\n",
       "      <td>750641.000000</td>\n",
       "      <td>407296.000000</td>\n",
       "      <td>7.506410e+05</td>\n",
       "    </tr>\n",
       "    <tr>\n",
       "      <th>mean</th>\n",
       "      <td>2017.791691</td>\n",
       "      <td>5.618931e+04</td>\n",
       "      <td>27.774688</td>\n",
       "      <td>0.192025</td>\n",
       "      <td>0.495925</td>\n",
       "      <td>0.603964</td>\n",
       "      <td>4.157025</td>\n",
       "      <td>4.623074</td>\n",
       "      <td>90.123256</td>\n",
       "      <td>1004.835164</td>\n",
       "      <td>3.641624e+04</td>\n",
       "    </tr>\n",
       "    <tr>\n",
       "      <th>std</th>\n",
       "      <td>4.962291</td>\n",
       "      <td>4.364058e+04</td>\n",
       "      <td>16.090116</td>\n",
       "      <td>0.466930</td>\n",
       "      <td>0.574835</td>\n",
       "      <td>0.550644</td>\n",
       "      <td>0.806149</td>\n",
       "      <td>0.276114</td>\n",
       "      <td>115.473138</td>\n",
       "      <td>1343.844725</td>\n",
       "      <td>1.999256e+06</td>\n",
       "    </tr>\n",
       "    <tr>\n",
       "      <th>min</th>\n",
       "      <td>1915.000000</td>\n",
       "      <td>0.000000e+00</td>\n",
       "      <td>4.000000</td>\n",
       "      <td>-1.000000</td>\n",
       "      <td>-1.000000</td>\n",
       "      <td>-1.000000</td>\n",
       "      <td>1.000000</td>\n",
       "      <td>1.000000</td>\n",
       "      <td>0.000000</td>\n",
       "      <td>100.000000</td>\n",
       "      <td>1.000000e+00</td>\n",
       "    </tr>\n",
       "    <tr>\n",
       "      <th>25%</th>\n",
       "      <td>2016.000000</td>\n",
       "      <td>2.355300e+04</td>\n",
       "      <td>21.000000</td>\n",
       "      <td>0.000000</td>\n",
       "      <td>0.000000</td>\n",
       "      <td>0.000000</td>\n",
       "      <td>3.800000</td>\n",
       "      <td>4.500000</td>\n",
       "      <td>14.000000</td>\n",
       "      <td>380.000000</td>\n",
       "      <td>1.949500e+04</td>\n",
       "    </tr>\n",
       "    <tr>\n",
       "      <th>50%</th>\n",
       "      <td>2019.000000</td>\n",
       "      <td>4.615600e+04</td>\n",
       "      <td>24.000000</td>\n",
       "      <td>0.000000</td>\n",
       "      <td>1.000000</td>\n",
       "      <td>1.000000</td>\n",
       "      <td>4.500000</td>\n",
       "      <td>4.700000</td>\n",
       "      <td>51.000000</td>\n",
       "      <td>640.000000</td>\n",
       "      <td>2.790000e+04</td>\n",
       "    </tr>\n",
       "    <tr>\n",
       "      <th>75%</th>\n",
       "      <td>2021.000000</td>\n",
       "      <td>7.899300e+04</td>\n",
       "      <td>28.000000</td>\n",
       "      <td>0.000000</td>\n",
       "      <td>1.000000</td>\n",
       "      <td>1.000000</td>\n",
       "      <td>4.700000</td>\n",
       "      <td>4.800000</td>\n",
       "      <td>119.000000</td>\n",
       "      <td>1006.000000</td>\n",
       "      <td>3.925900e+04</td>\n",
       "    </tr>\n",
       "    <tr>\n",
       "      <th>max</th>\n",
       "      <td>2024.000000</td>\n",
       "      <td>1.119067e+06</td>\n",
       "      <td>127.000000</td>\n",
       "      <td>1.000000</td>\n",
       "      <td>1.000000</td>\n",
       "      <td>1.000000</td>\n",
       "      <td>5.000000</td>\n",
       "      <td>5.000000</td>\n",
       "      <td>1025.000000</td>\n",
       "      <td>100000.000000</td>\n",
       "      <td>1.000000e+09</td>\n",
       "    </tr>\n",
       "  </tbody>\n",
       "</table>\n",
       "</div>"
      ],
      "text/plain": [
       "                year       mileage            mpg  accidents_or_damage  \\\n",
       "count  750641.000000  7.501470e+05  636108.000000        750641.000000   \n",
       "mean     2017.791691  5.618931e+04      27.774688             0.192025   \n",
       "std         4.962291  4.364058e+04      16.090116             0.466930   \n",
       "min      1915.000000  0.000000e+00       4.000000            -1.000000   \n",
       "25%      2016.000000  2.355300e+04      21.000000             0.000000   \n",
       "50%      2019.000000  4.615600e+04      24.000000             0.000000   \n",
       "75%      2021.000000  7.899300e+04      28.000000             0.000000   \n",
       "max      2024.000000  1.119067e+06     127.000000             1.000000   \n",
       "\n",
       "           one_owner  personal_use_only  seller_rating  driver_rating  \\\n",
       "count  750641.000000      750641.000000  540939.000000  719887.000000   \n",
       "mean        0.495925           0.603964       4.157025       4.623074   \n",
       "std         0.574835           0.550644       0.806149       0.276114   \n",
       "min        -1.000000          -1.000000       1.000000       1.000000   \n",
       "25%         0.000000           0.000000       3.800000       4.500000   \n",
       "50%         1.000000           1.000000       4.500000       4.700000   \n",
       "75%         1.000000           1.000000       4.700000       4.800000   \n",
       "max         1.000000           1.000000       5.000000       5.000000   \n",
       "\n",
       "       driver_reviews_num     price_drop         price  \n",
       "count       750641.000000  407296.000000  7.506410e+05  \n",
       "mean            90.123256    1004.835164  3.641624e+04  \n",
       "std            115.473138    1343.844725  1.999256e+06  \n",
       "min              0.000000     100.000000  1.000000e+00  \n",
       "25%             14.000000     380.000000  1.949500e+04  \n",
       "50%             51.000000     640.000000  2.790000e+04  \n",
       "75%            119.000000    1006.000000  3.925900e+04  \n",
       "max           1025.000000  100000.000000  1.000000e+09  "
      ]
     },
     "execution_count": 172,
     "metadata": {},
     "output_type": "execute_result"
    }
   ],
   "source": [
    "data.describe()"
   ]
  },
  {
   "cell_type": "markdown",
   "id": "e61ee170-5e96-4a68-83fe-0c249012073c",
   "metadata": {},
   "source": [
    "<div style=\"text-align: center;background-color:#f0e9d5; padding:10px; border-left: 5px solid #4CAF50; font-family: Trebuchet MS; font-size: 20px; color: #333;\">\n",
    "  Data Cleaning & Visualization\n",
    "    \n",
    "</div>"
   ]
  },
  {
   "cell_type": "code",
   "execution_count": 117,
   "id": "c7adb690-2146-4761-bd0f-b4f2de0eba09",
   "metadata": {},
   "outputs": [
    {
     "data": {
      "text/html": [
       "<div>\n",
       "<style scoped>\n",
       "    .dataframe tbody tr th:only-of-type {\n",
       "        vertical-align: middle;\n",
       "    }\n",
       "\n",
       "    .dataframe tbody tr th {\n",
       "        vertical-align: top;\n",
       "    }\n",
       "\n",
       "    .dataframe thead th {\n",
       "        text-align: right;\n",
       "    }\n",
       "</style>\n",
       "<table border=\"1\" class=\"dataframe\">\n",
       "  <thead>\n",
       "    <tr style=\"text-align: right;\">\n",
       "      <th></th>\n",
       "      <th>manufacturer</th>\n",
       "      <th>model</th>\n",
       "      <th>year</th>\n",
       "      <th>mileage</th>\n",
       "      <th>engine</th>\n",
       "      <th>transmission</th>\n",
       "      <th>drivetrain</th>\n",
       "      <th>fuel_type</th>\n",
       "      <th>mpg</th>\n",
       "      <th>exterior_color</th>\n",
       "      <th>interior_color</th>\n",
       "      <th>accidents_or_damage</th>\n",
       "      <th>one_owner</th>\n",
       "      <th>personal_use_only</th>\n",
       "      <th>seller_name</th>\n",
       "      <th>seller_rating</th>\n",
       "      <th>driver_rating</th>\n",
       "      <th>driver_reviews_num</th>\n",
       "      <th>price_drop</th>\n",
       "      <th>price</th>\n",
       "    </tr>\n",
       "  </thead>\n",
       "  <tbody>\n",
       "    <tr>\n",
       "      <th>0</th>\n",
       "      <td>Acura</td>\n",
       "      <td>ILX Hybrid 1.5L</td>\n",
       "      <td>2013</td>\n",
       "      <td>92945.0</td>\n",
       "      <td>1.5L I-4 i-VTEC variable valve control, engine...</td>\n",
       "      <td>Automatic</td>\n",
       "      <td>Front-wheel Drive</td>\n",
       "      <td>Gasoline</td>\n",
       "      <td>39-38</td>\n",
       "      <td>Black</td>\n",
       "      <td>Parchment</td>\n",
       "      <td>0.0</td>\n",
       "      <td>0.0</td>\n",
       "      <td>0.0</td>\n",
       "      <td>Iconic Coach</td>\n",
       "      <td>NaN</td>\n",
       "      <td>4.4</td>\n",
       "      <td>12.0</td>\n",
       "      <td>300.0</td>\n",
       "      <td>13988.0</td>\n",
       "    </tr>\n",
       "    <tr>\n",
       "      <th>1</th>\n",
       "      <td>Acura</td>\n",
       "      <td>ILX Hybrid 1.5L</td>\n",
       "      <td>2013</td>\n",
       "      <td>47645.0</td>\n",
       "      <td>1.5L I4 8V MPFI SOHC Hybrid</td>\n",
       "      <td>Automatic CVT</td>\n",
       "      <td>Front-wheel Drive</td>\n",
       "      <td>Hybrid</td>\n",
       "      <td>39-38</td>\n",
       "      <td>Gray</td>\n",
       "      <td>Ebony</td>\n",
       "      <td>1.0</td>\n",
       "      <td>1.0</td>\n",
       "      <td>1.0</td>\n",
       "      <td>Kars Today</td>\n",
       "      <td>NaN</td>\n",
       "      <td>4.4</td>\n",
       "      <td>12.0</td>\n",
       "      <td>NaN</td>\n",
       "      <td>17995.0</td>\n",
       "    </tr>\n",
       "    <tr>\n",
       "      <th>2</th>\n",
       "      <td>Acura</td>\n",
       "      <td>ILX Hybrid 1.5L</td>\n",
       "      <td>2013</td>\n",
       "      <td>53422.0</td>\n",
       "      <td>1.5L I4 8V MPFI SOHC Hybrid</td>\n",
       "      <td>Automatic CVT</td>\n",
       "      <td>Front-wheel Drive</td>\n",
       "      <td>Hybrid</td>\n",
       "      <td>39-38</td>\n",
       "      <td>Bellanova White Pearl</td>\n",
       "      <td>Ebony</td>\n",
       "      <td>0.0</td>\n",
       "      <td>1.0</td>\n",
       "      <td>1.0</td>\n",
       "      <td>Weiss Toyota of South County</td>\n",
       "      <td>4.3</td>\n",
       "      <td>4.4</td>\n",
       "      <td>12.0</td>\n",
       "      <td>500.0</td>\n",
       "      <td>17000.0</td>\n",
       "    </tr>\n",
       "    <tr>\n",
       "      <th>3</th>\n",
       "      <td>Acura</td>\n",
       "      <td>ILX Hybrid 1.5L</td>\n",
       "      <td>2013</td>\n",
       "      <td>117598.0</td>\n",
       "      <td>1.5L I4 8V MPFI SOHC Hybrid</td>\n",
       "      <td>Automatic CVT</td>\n",
       "      <td>Front-wheel Drive</td>\n",
       "      <td>Hybrid</td>\n",
       "      <td>39-38</td>\n",
       "      <td>Polished Metal Metallic</td>\n",
       "      <td>NaN</td>\n",
       "      <td>0.0</td>\n",
       "      <td>1.0</td>\n",
       "      <td>1.0</td>\n",
       "      <td>Apple Tree Acura</td>\n",
       "      <td>NaN</td>\n",
       "      <td>4.4</td>\n",
       "      <td>12.0</td>\n",
       "      <td>675.0</td>\n",
       "      <td>14958.0</td>\n",
       "    </tr>\n",
       "    <tr>\n",
       "      <th>4</th>\n",
       "      <td>Acura</td>\n",
       "      <td>ILX Hybrid 1.5L</td>\n",
       "      <td>2013</td>\n",
       "      <td>114865.0</td>\n",
       "      <td>1.5L I4 8V MPFI SOHC Hybrid</td>\n",
       "      <td>Automatic CVT</td>\n",
       "      <td>Front-wheel Drive</td>\n",
       "      <td>Hybrid</td>\n",
       "      <td>39-38</td>\n",
       "      <td>NaN</td>\n",
       "      <td>Ebony</td>\n",
       "      <td>1.0</td>\n",
       "      <td>0.0</td>\n",
       "      <td>1.0</td>\n",
       "      <td>Herb Connolly Chevrolet</td>\n",
       "      <td>3.7</td>\n",
       "      <td>4.4</td>\n",
       "      <td>12.0</td>\n",
       "      <td>300.0</td>\n",
       "      <td>14498.0</td>\n",
       "    </tr>\n",
       "  </tbody>\n",
       "</table>\n",
       "</div>"
      ],
      "text/plain": [
       "  manufacturer            model  year   mileage  \\\n",
       "0        Acura  ILX Hybrid 1.5L  2013   92945.0   \n",
       "1        Acura  ILX Hybrid 1.5L  2013   47645.0   \n",
       "2        Acura  ILX Hybrid 1.5L  2013   53422.0   \n",
       "3        Acura  ILX Hybrid 1.5L  2013  117598.0   \n",
       "4        Acura  ILX Hybrid 1.5L  2013  114865.0   \n",
       "\n",
       "                                              engine   transmission  \\\n",
       "0  1.5L I-4 i-VTEC variable valve control, engine...      Automatic   \n",
       "1                        1.5L I4 8V MPFI SOHC Hybrid  Automatic CVT   \n",
       "2                        1.5L I4 8V MPFI SOHC Hybrid  Automatic CVT   \n",
       "3                        1.5L I4 8V MPFI SOHC Hybrid  Automatic CVT   \n",
       "4                        1.5L I4 8V MPFI SOHC Hybrid  Automatic CVT   \n",
       "\n",
       "          drivetrain fuel_type    mpg           exterior_color interior_color  \\\n",
       "0  Front-wheel Drive  Gasoline  39-38                    Black      Parchment   \n",
       "1  Front-wheel Drive    Hybrid  39-38                     Gray          Ebony   \n",
       "2  Front-wheel Drive    Hybrid  39-38    Bellanova White Pearl          Ebony   \n",
       "3  Front-wheel Drive    Hybrid  39-38  Polished Metal Metallic            NaN   \n",
       "4  Front-wheel Drive    Hybrid  39-38                      NaN          Ebony   \n",
       "\n",
       "   accidents_or_damage  one_owner  personal_use_only  \\\n",
       "0                  0.0        0.0                0.0   \n",
       "1                  1.0        1.0                1.0   \n",
       "2                  0.0        1.0                1.0   \n",
       "3                  0.0        1.0                1.0   \n",
       "4                  1.0        0.0                1.0   \n",
       "\n",
       "                    seller_name  seller_rating  driver_rating  \\\n",
       "0                  Iconic Coach            NaN            4.4   \n",
       "1                    Kars Today            NaN            4.4   \n",
       "2  Weiss Toyota of South County            4.3            4.4   \n",
       "3              Apple Tree Acura            NaN            4.4   \n",
       "4       Herb Connolly Chevrolet            3.7            4.4   \n",
       "\n",
       "   driver_reviews_num  price_drop    price  \n",
       "0                12.0       300.0  13988.0  \n",
       "1                12.0         NaN  17995.0  \n",
       "2                12.0       500.0  17000.0  \n",
       "3                12.0       675.0  14958.0  \n",
       "4                12.0       300.0  14498.0  "
      ]
     },
     "execution_count": 117,
     "metadata": {},
     "output_type": "execute_result"
    }
   ],
   "source": [
    "data.duplicated().sum()\n",
    "data.drop_duplicates().head()"
   ]
  },
  {
   "cell_type": "markdown",
   "id": "2ed8915c",
   "metadata": {},
   "source": [
    "#### drop row if it has more than 13 null values"
   ]
  },
  {
   "cell_type": "code",
   "execution_count": 118,
   "id": "9b531550",
   "metadata": {},
   "outputs": [
    {
     "name": "stdout",
     "output_type": "stream",
     "text": [
      "Rows with >13 nulls: 0\n"
     ]
    }
   ],
   "source": [
    "rows_to_drop = (data.isnull().sum(axis=1) > 13).sum()\n",
    "print(f\"Rows with >13 nulls: {rows_to_drop}\")"
   ]
  },
  {
   "cell_type": "code",
   "execution_count": 119,
   "id": "f9f2286a",
   "metadata": {},
   "outputs": [],
   "source": [
    "bool_cols = ['accidents_or_damage', 'one_owner', 'personal_use_only']\n",
    "\n",
    "data[bool_cols] = data[bool_cols].fillna(-1)  ## here we fill with -1 to maintain datatype float. otherwise it will be object type."
   ]
  },
  {
   "cell_type": "code",
   "execution_count": 120,
   "id": "9d0830b4",
   "metadata": {},
   "outputs": [],
   "source": [
    "# Fill missing values with 'Unknown' in specified columns\n",
    "data[['exterior_color', 'interior_color', 'seller_name']] = data[['exterior_color', 'interior_color', 'seller_name']].fillna('Unknown')"
   ]
  },
  {
   "cell_type": "code",
   "execution_count": 121,
   "id": "d16c0064",
   "metadata": {},
   "outputs": [
    {
     "name": "stdout",
     "output_type": "stream",
     "text": [
      "Number of rows where both 'engine', transmission and 'fuel_type' are null: 0\n"
     ]
    }
   ],
   "source": [
    "### drop row if all mentioned column has null.\n",
    "data.dropna(subset=['engine', 'fuel_type','transmission'], how='all', inplace=True)\n",
    "\n",
    "### check for null\n",
    "both_null = data[data['engine'].isnull() & data['fuel_type'].isnull()& data['transmission'].isnull() ]\n",
    "print(\"Number of rows where both 'engine', transmission and 'fuel_type' are null:\", len(both_null))"
   ]
  },
  {
   "cell_type": "code",
   "execution_count": 122,
   "id": "3552c70a",
   "metadata": {},
   "outputs": [
    {
     "data": {
      "text/plain": [
       "0"
      ]
     },
     "execution_count": 122,
     "metadata": {},
     "output_type": "execute_result"
    }
   ],
   "source": [
    "## drop rows if both has null\n",
    "data.dropna(subset=['engine', 'fuel_type'], how='all', inplace=True)\n",
    "both_null = data[data['engine'].isnull() & data['fuel_type'].isnull()]\n",
    "len(both_null)"
   ]
  },
  {
   "cell_type": "markdown",
   "id": "72ae8d2f",
   "metadata": {},
   "source": [
    "### 'Enigne'. clean & process "
   ]
  },
  {
   "cell_type": "code",
   "execution_count": 123,
   "id": "41be986f",
   "metadata": {},
   "outputs": [],
   "source": [
    "data['engine'] = data['engine'].str.lower().str.strip()"
   ]
  },
  {
   "cell_type": "code",
   "execution_count": 124,
   "id": "48143c44",
   "metadata": {},
   "outputs": [],
   "source": [
    "import re\n",
    "\n",
    "def extract_engine_attributes(text):\n",
    "    if pd.isna(text) or str(text).strip() == \"\":\n",
    "        return {\n",
    "            \"engine_size\": \"NaN\",\n",
    "            \"cylinders\": \"NaN\",\n",
    "            \"valves\": \"NaN\",\n",
    "            \"aspiration\": \"NaN\",\n",
    "            \"fuel_type_2\": \"NaN\",\n",
    "            \"injection_system\": \"NaN\",\n",
    "            \"configuration\": \"NaN\",\n",
    "            \"horsepower\": \"NaN\"\n",
    "        }\n",
    "\n",
    "    text = str(text).lower()\n",
    "\n",
    "    return {\n",
    "        \"engine_size\": re.search(r\"\\d+(\\.\\d+)?l\", text),\n",
    "        \"cylinders\": re.search(r\"(v\\d|i\\d|w\\d|inline\\s?\\d|straight\\s?\\d)\", text),\n",
    "        \"valves\": re.search(r\"\\d+v\", text),\n",
    "        \"aspiration\": re.search(r\"(twin turbo|turbocharger|turbo|supercharged|supercharger|natural aspiration)\", text),\n",
    "        \"fuel_type_2\": re.search(r\"(gasoline|gasoline/mild|gasoline/natural|gasoline fuel|gas|unleaded|regular unleaded|premium|premium \\(required\\)|petrol|premium unleaded|diesel|turbo-diesel|turbodiesel|diesel fuel|b20-diesel|ecodiesel|tdi|cdi|dci|twin turbo diesel|dis|electric|electric fuel system|electrically|electricmotors|bev|zev|electric motor|plug-in hybrid|plug-in electric/gas|phev|plug-in|plug-in ev|hybrid|full-hybrid|electric/gas|hybrid fuel|gasoline/mild electric hybrid|gas/electric hybrid|gas/electric|gas/ethanol|mild hybrid|mhev|hev|gasoline/electric|flex fuel|flexfuel|flex-fuel|flexible|flexible fuel|flex fuel capability|e85 flex fuel|e85 fl|e85 fuel|e85 ethanol|ffv|compressed natural gas|natural gas|gaseous|cng|lng|biodiesel|bio diesel|e100|hydrogen fuel cell|hydrogen|h2|bi-fuel|b-fuel|duel fuel|ethanol)\", text),\n",
    "        \"injection_system\": re.search(r\"(mpfi|spfi|pgm-fi|gdi|ddi|pdi|di|fsi|sidi|efi|sefi|tfsi|smpi|mfi)\", text),\n",
    "        \"configuration\": re.search(r\"(sohc|dohc|ohv|vvt|vtc|vanos|valvetronic|timing)\", text),\n",
    "        \"horsepower\": re.search(r\"\\d+(\\.\\d+)?hp\", text)\n",
    "    }\n",
    "\n",
    "### Apply extraction → expand into new DataFrame\n",
    "attr_df = data[\"engine\"].apply(lambda x: pd.Series(extract_engine_attributes(x)))\n",
    "\n",
    "### Convert regex match objects → actual strings\n",
    "for col in attr_df.columns:\n",
    "    attr_df[col] = attr_df[col].apply(lambda x: x.group(0) if x and hasattr(x, \"group\") else (\"NaN\" if x != \"NaN\" else \"NaN\"))\n",
    "\n",
    "## Merge new columns into original DataFrame\n",
    "data = pd.concat([data, attr_df], axis=1)\n",
    "\n"
   ]
  },
  {
   "cell_type": "code",
   "execution_count": 125,
   "id": "a181755d",
   "metadata": {},
   "outputs": [
    {
     "data": {
      "text/html": [
       "<div>\n",
       "<style scoped>\n",
       "    .dataframe tbody tr th:only-of-type {\n",
       "        vertical-align: middle;\n",
       "    }\n",
       "\n",
       "    .dataframe tbody tr th {\n",
       "        vertical-align: top;\n",
       "    }\n",
       "\n",
       "    .dataframe thead th {\n",
       "        text-align: right;\n",
       "    }\n",
       "</style>\n",
       "<table border=\"1\" class=\"dataframe\">\n",
       "  <thead>\n",
       "    <tr style=\"text-align: right;\">\n",
       "      <th></th>\n",
       "      <th>manufacturer</th>\n",
       "      <th>model</th>\n",
       "      <th>year</th>\n",
       "      <th>mileage</th>\n",
       "      <th>engine</th>\n",
       "      <th>transmission</th>\n",
       "      <th>drivetrain</th>\n",
       "      <th>fuel_type</th>\n",
       "      <th>mpg</th>\n",
       "      <th>exterior_color</th>\n",
       "      <th>...</th>\n",
       "      <th>price_drop</th>\n",
       "      <th>price</th>\n",
       "      <th>engine_size</th>\n",
       "      <th>cylinders</th>\n",
       "      <th>valves</th>\n",
       "      <th>aspiration</th>\n",
       "      <th>fuel_type_2</th>\n",
       "      <th>injection_system</th>\n",
       "      <th>configuration</th>\n",
       "      <th>horsepower</th>\n",
       "    </tr>\n",
       "  </thead>\n",
       "  <tbody>\n",
       "    <tr>\n",
       "      <th>0</th>\n",
       "      <td>Acura</td>\n",
       "      <td>ILX Hybrid 1.5L</td>\n",
       "      <td>2013</td>\n",
       "      <td>92945.0</td>\n",
       "      <td>1.5l i-4 i-vtec variable valve control, engine...</td>\n",
       "      <td>Automatic</td>\n",
       "      <td>Front-wheel Drive</td>\n",
       "      <td>Gasoline</td>\n",
       "      <td>39-38</td>\n",
       "      <td>Black</td>\n",
       "      <td>...</td>\n",
       "      <td>300.0</td>\n",
       "      <td>13988.0</td>\n",
       "      <td>1.5l</td>\n",
       "      <td>NaN</td>\n",
       "      <td>NaN</td>\n",
       "      <td>NaN</td>\n",
       "      <td>NaN</td>\n",
       "      <td>NaN</td>\n",
       "      <td>NaN</td>\n",
       "      <td>90hp</td>\n",
       "    </tr>\n",
       "    <tr>\n",
       "      <th>1</th>\n",
       "      <td>Acura</td>\n",
       "      <td>ILX Hybrid 1.5L</td>\n",
       "      <td>2013</td>\n",
       "      <td>47645.0</td>\n",
       "      <td>1.5l i4 8v mpfi sohc hybrid</td>\n",
       "      <td>Automatic CVT</td>\n",
       "      <td>Front-wheel Drive</td>\n",
       "      <td>Hybrid</td>\n",
       "      <td>39-38</td>\n",
       "      <td>Gray</td>\n",
       "      <td>...</td>\n",
       "      <td>NaN</td>\n",
       "      <td>17995.0</td>\n",
       "      <td>1.5l</td>\n",
       "      <td>i4</td>\n",
       "      <td>8v</td>\n",
       "      <td>NaN</td>\n",
       "      <td>hybrid</td>\n",
       "      <td>mpfi</td>\n",
       "      <td>sohc</td>\n",
       "      <td>NaN</td>\n",
       "    </tr>\n",
       "    <tr>\n",
       "      <th>2</th>\n",
       "      <td>Acura</td>\n",
       "      <td>ILX Hybrid 1.5L</td>\n",
       "      <td>2013</td>\n",
       "      <td>53422.0</td>\n",
       "      <td>1.5l i4 8v mpfi sohc hybrid</td>\n",
       "      <td>Automatic CVT</td>\n",
       "      <td>Front-wheel Drive</td>\n",
       "      <td>Hybrid</td>\n",
       "      <td>39-38</td>\n",
       "      <td>Bellanova White Pearl</td>\n",
       "      <td>...</td>\n",
       "      <td>500.0</td>\n",
       "      <td>17000.0</td>\n",
       "      <td>1.5l</td>\n",
       "      <td>i4</td>\n",
       "      <td>8v</td>\n",
       "      <td>NaN</td>\n",
       "      <td>hybrid</td>\n",
       "      <td>mpfi</td>\n",
       "      <td>sohc</td>\n",
       "      <td>NaN</td>\n",
       "    </tr>\n",
       "    <tr>\n",
       "      <th>3</th>\n",
       "      <td>Acura</td>\n",
       "      <td>ILX Hybrid 1.5L</td>\n",
       "      <td>2013</td>\n",
       "      <td>117598.0</td>\n",
       "      <td>1.5l i4 8v mpfi sohc hybrid</td>\n",
       "      <td>Automatic CVT</td>\n",
       "      <td>Front-wheel Drive</td>\n",
       "      <td>Hybrid</td>\n",
       "      <td>39-38</td>\n",
       "      <td>Polished Metal Metallic</td>\n",
       "      <td>...</td>\n",
       "      <td>675.0</td>\n",
       "      <td>14958.0</td>\n",
       "      <td>1.5l</td>\n",
       "      <td>i4</td>\n",
       "      <td>8v</td>\n",
       "      <td>NaN</td>\n",
       "      <td>hybrid</td>\n",
       "      <td>mpfi</td>\n",
       "      <td>sohc</td>\n",
       "      <td>NaN</td>\n",
       "    </tr>\n",
       "    <tr>\n",
       "      <th>4</th>\n",
       "      <td>Acura</td>\n",
       "      <td>ILX Hybrid 1.5L</td>\n",
       "      <td>2013</td>\n",
       "      <td>114865.0</td>\n",
       "      <td>1.5l i4 8v mpfi sohc hybrid</td>\n",
       "      <td>Automatic CVT</td>\n",
       "      <td>Front-wheel Drive</td>\n",
       "      <td>Hybrid</td>\n",
       "      <td>39-38</td>\n",
       "      <td>Unknown</td>\n",
       "      <td>...</td>\n",
       "      <td>300.0</td>\n",
       "      <td>14498.0</td>\n",
       "      <td>1.5l</td>\n",
       "      <td>i4</td>\n",
       "      <td>8v</td>\n",
       "      <td>NaN</td>\n",
       "      <td>hybrid</td>\n",
       "      <td>mpfi</td>\n",
       "      <td>sohc</td>\n",
       "      <td>NaN</td>\n",
       "    </tr>\n",
       "  </tbody>\n",
       "</table>\n",
       "<p>5 rows × 28 columns</p>\n",
       "</div>"
      ],
      "text/plain": [
       "  manufacturer            model  year   mileage  \\\n",
       "0        Acura  ILX Hybrid 1.5L  2013   92945.0   \n",
       "1        Acura  ILX Hybrid 1.5L  2013   47645.0   \n",
       "2        Acura  ILX Hybrid 1.5L  2013   53422.0   \n",
       "3        Acura  ILX Hybrid 1.5L  2013  117598.0   \n",
       "4        Acura  ILX Hybrid 1.5L  2013  114865.0   \n",
       "\n",
       "                                              engine   transmission  \\\n",
       "0  1.5l i-4 i-vtec variable valve control, engine...      Automatic   \n",
       "1                        1.5l i4 8v mpfi sohc hybrid  Automatic CVT   \n",
       "2                        1.5l i4 8v mpfi sohc hybrid  Automatic CVT   \n",
       "3                        1.5l i4 8v mpfi sohc hybrid  Automatic CVT   \n",
       "4                        1.5l i4 8v mpfi sohc hybrid  Automatic CVT   \n",
       "\n",
       "          drivetrain fuel_type    mpg           exterior_color  ...  \\\n",
       "0  Front-wheel Drive  Gasoline  39-38                    Black  ...   \n",
       "1  Front-wheel Drive    Hybrid  39-38                     Gray  ...   \n",
       "2  Front-wheel Drive    Hybrid  39-38    Bellanova White Pearl  ...   \n",
       "3  Front-wheel Drive    Hybrid  39-38  Polished Metal Metallic  ...   \n",
       "4  Front-wheel Drive    Hybrid  39-38                  Unknown  ...   \n",
       "\n",
       "  price_drop    price  engine_size  cylinders valves  aspiration  fuel_type_2  \\\n",
       "0      300.0  13988.0         1.5l        NaN    NaN         NaN          NaN   \n",
       "1        NaN  17995.0         1.5l         i4     8v         NaN       hybrid   \n",
       "2      500.0  17000.0         1.5l         i4     8v         NaN       hybrid   \n",
       "3      675.0  14958.0         1.5l         i4     8v         NaN       hybrid   \n",
       "4      300.0  14498.0         1.5l         i4     8v         NaN       hybrid   \n",
       "\n",
       "   injection_system  configuration  horsepower  \n",
       "0               NaN            NaN        90hp  \n",
       "1              mpfi           sohc         NaN  \n",
       "2              mpfi           sohc         NaN  \n",
       "3              mpfi           sohc         NaN  \n",
       "4              mpfi           sohc         NaN  \n",
       "\n",
       "[5 rows x 28 columns]"
      ]
     },
     "execution_count": 125,
     "metadata": {},
     "output_type": "execute_result"
    }
   ],
   "source": [
    "data.head()"
   ]
  },
  {
   "cell_type": "code",
   "execution_count": 126,
   "id": "06897d39",
   "metadata": {},
   "outputs": [],
   "source": [
    "data = data.replace('NaN', np.nan)"
   ]
  },
  {
   "cell_type": "markdown",
   "id": "14bd4235",
   "metadata": {},
   "source": [
    "## Fuel_type column "
   ]
  },
  {
   "cell_type": "code",
   "execution_count": 127,
   "id": "ff908d5d",
   "metadata": {},
   "outputs": [],
   "source": [
    "data['fuel_type'] =  data['fuel_type'].str.lower().str.strip()"
   ]
  },
  {
   "cell_type": "code",
   "execution_count": 128,
   "id": "1f803661",
   "metadata": {},
   "outputs": [
    {
     "data": {
      "text/html": [
       "<div>\n",
       "<style scoped>\n",
       "    .dataframe tbody tr th:only-of-type {\n",
       "        vertical-align: middle;\n",
       "    }\n",
       "\n",
       "    .dataframe tbody tr th {\n",
       "        vertical-align: top;\n",
       "    }\n",
       "\n",
       "    .dataframe thead th {\n",
       "        text-align: right;\n",
       "    }\n",
       "</style>\n",
       "<table border=\"1\" class=\"dataframe\">\n",
       "  <thead>\n",
       "    <tr style=\"text-align: right;\">\n",
       "      <th></th>\n",
       "      <th>manufacturer</th>\n",
       "      <th>model</th>\n",
       "      <th>year</th>\n",
       "      <th>mileage</th>\n",
       "      <th>engine</th>\n",
       "      <th>transmission</th>\n",
       "      <th>drivetrain</th>\n",
       "      <th>fuel_type</th>\n",
       "      <th>mpg</th>\n",
       "      <th>exterior_color</th>\n",
       "      <th>...</th>\n",
       "      <th>price_drop</th>\n",
       "      <th>price</th>\n",
       "      <th>engine_size</th>\n",
       "      <th>cylinders</th>\n",
       "      <th>valves</th>\n",
       "      <th>aspiration</th>\n",
       "      <th>fuel_type_2</th>\n",
       "      <th>injection_system</th>\n",
       "      <th>configuration</th>\n",
       "      <th>horsepower</th>\n",
       "    </tr>\n",
       "  </thead>\n",
       "  <tbody>\n",
       "  </tbody>\n",
       "</table>\n",
       "<p>0 rows × 28 columns</p>\n",
       "</div>"
      ],
      "text/plain": [
       "Empty DataFrame\n",
       "Columns: [manufacturer, model, year, mileage, engine, transmission, drivetrain, fuel_type, mpg, exterior_color, interior_color, accidents_or_damage, one_owner, personal_use_only, seller_name, seller_rating, driver_rating, driver_reviews_num, price_drop, price, engine_size, cylinders, valves, aspiration, fuel_type_2, injection_system, configuration, horsepower]\n",
       "Index: []\n",
       "\n",
       "[0 rows x 28 columns]"
      ]
     },
     "execution_count": 128,
     "metadata": {},
     "output_type": "execute_result"
    }
   ],
   "source": [
    "data[data['fuel_type']== 'cng']"
   ]
  },
  {
   "cell_type": "code",
   "execution_count": 129,
   "id": "e4c89a2e",
   "metadata": {},
   "outputs": [
    {
     "data": {
      "text/plain": [
       "fuel_category\n",
       "gasoline          42317\n",
       "diesel            28079\n",
       "hybrid            27330\n",
       "flex fuel         18312\n",
       "electric          16091\n",
       "cng                  25\n",
       "bi-fuel               9\n",
       "plug-in hybrid        3\n",
       "hydrogen              1\n",
       "Name: count, dtype: int64"
      ]
     },
     "execution_count": 129,
     "metadata": {},
     "output_type": "execute_result"
    }
   ],
   "source": [
    "def map_fuel(fuel):\n",
    "    if pd.isnull(fuel):\n",
    "        return np.nan\n",
    "\n",
    "    fuel = fuel.lower()\n",
    "\n",
    "    if any(keyword in fuel for keyword in [\n",
    "        'gasoline', 'gasoline/mild', 'gasoline/natural', 'gasoline fuel',\n",
    "        'gas', 'unleaded', 'regular unleaded', 'premium', 'premium (required)', 'petrol','premium unleaded'\n",
    "    ]):\n",
    "        return 'gasoline'\n",
    "\n",
    "    elif any(keyword in fuel for keyword in [\n",
    "        'diesel', 'turbo-diesel', 'turbodiesel', 'diesel fuel', 'b20-diesel', 'ecodiesel','tdi','cdi','dci','twin turbo diesel','dis'\n",
    "    ]):\n",
    "        return 'diesel'\n",
    "\n",
    "    elif any(keyword in fuel for keyword in [\n",
    "        'electric', 'electric fuel system', 'electrically', 'electricmotors','bev','zev','electric motor'\n",
    "    ]):\n",
    "        return 'electric'\n",
    "\n",
    "    elif any(keyword in fuel for keyword in [\n",
    "        'plug-in hybrid', 'plug-in electric/gas', 'phev','plug-in','phev','plug-in ev'\n",
    "    ]):\n",
    "        return 'plug-in hybrid'\n",
    "\n",
    "    elif any(keyword in fuel for keyword in [\n",
    "        'hybrid', 'full-hybrid', 'electric/gas', 'hybrid fuel',\n",
    "        'gasoline/mild electric hybrid', 'gas/electric hybrid', 'gas/electric', 'gas/ethanol','mild hybrid','mhev','hev','gasoline/electric'\n",
    "    ]):\n",
    "        return 'hybrid'\n",
    "\n",
    "    elif any(keyword in fuel for keyword in [\n",
    "        'flex fuel', 'flexfuel', 'flex-fuel', 'flexible', 'flexible fuel',\n",
    "        'flex fuel capability', 'e85 flex fuel', 'e85 fl','e85 fuel','e85 ethanol','ffv'\n",
    "    ]):\n",
    "        return 'flex fuel'\n",
    "\n",
    "    elif any(keyword in fuel for keyword in [\n",
    "        'compressed natural gas', 'natural gas', 'gaseous','cng','lng'\n",
    "    ]):\n",
    "        return 'cng'\n",
    "\n",
    "    elif any(keyword in fuel for keyword in [\n",
    "        'biodiesel', 'bio diesel','e100'\n",
    "    ]):\n",
    "        return 'biodiesel'\n",
    "\n",
    "    elif any(keyword in fuel for keyword in [\n",
    "        'hydrogen fuel cell', 'hydrogen','h2'\n",
    "    ]):\n",
    "        return 'hydrogen'\n",
    "\n",
    "    elif any(keyword in fuel for keyword in [\n",
    "        'bi-fuel', 'b-fuel','duel fuel'\n",
    "    ]):\n",
    "        return 'bi-fuel'\n",
    "\n",
    "    elif 'ethanol' in fuel:\n",
    "        return 'ethanol','e100'\n",
    "\n",
    "    else:\n",
    "        return np.nan\n",
    "\n",
    "    \n",
    "data['fuel_category'] = data['engine'].apply(map_fuel)\n",
    "data['fuel_category'].value_counts()"
   ]
  },
  {
   "cell_type": "code",
   "execution_count": 130,
   "id": "b201221e",
   "metadata": {},
   "outputs": [
    {
     "data": {
      "text/plain": [
       "fuel_type\n",
       "gasoline          644939\n",
       "hybrid             29146\n",
       "diesel             27974\n",
       "flex fuel          19269\n",
       "electric           16194\n",
       "plug-in hybrid       120\n",
       "hydrogen               3\n",
       "bi-fuel                1\n",
       "Name: count, dtype: int64"
      ]
     },
     "execution_count": 130,
     "metadata": {},
     "output_type": "execute_result"
    }
   ],
   "source": [
    "data['fuel_type'] = data['fuel_type'].apply(map_fuel)\n",
    "data['fuel_type'].value_counts()"
   ]
  },
  {
   "cell_type": "code",
   "execution_count": 131,
   "id": "8715809f",
   "metadata": {},
   "outputs": [
    {
     "data": {
      "text/plain": [
       "fuel_type_2\n",
       "gasoline          42301\n",
       "diesel            28079\n",
       "hybrid            27331\n",
       "flex fuel         18322\n",
       "electric          16096\n",
       "cng                  25\n",
       "bi-fuel               9\n",
       "plug-in hybrid        3\n",
       "hydrogen              1\n",
       "Name: count, dtype: int64"
      ]
     },
     "execution_count": 131,
     "metadata": {},
     "output_type": "execute_result"
    }
   ],
   "source": [
    "data['fuel_type_2'] = data['fuel_type_2'].apply(map_fuel)\n",
    "data['fuel_type_2'].value_counts()"
   ]
  },
  {
   "cell_type": "code",
   "execution_count": 132,
   "id": "b045d6e2",
   "metadata": {},
   "outputs": [
    {
     "data": {
      "text/plain": [
       "9"
      ]
     },
     "execution_count": 132,
     "metadata": {},
     "output_type": "execute_result"
    }
   ],
   "source": [
    "data['fuel_category'].nunique()"
   ]
  },
  {
   "cell_type": "code",
   "execution_count": 133,
   "id": "b4a312fc",
   "metadata": {},
   "outputs": [
    {
     "data": {
      "text/plain": [
       "fuel_category\n",
       "gasoline          42317\n",
       "diesel            28079\n",
       "hybrid            27330\n",
       "flex fuel         18312\n",
       "electric          16091\n",
       "cng                  25\n",
       "bi-fuel               9\n",
       "plug-in hybrid        3\n",
       "hydrogen              1\n",
       "Name: count, dtype: int64"
      ]
     },
     "execution_count": 133,
     "metadata": {},
     "output_type": "execute_result"
    }
   ],
   "source": [
    "data['fuel_category'].value_counts() "
   ]
  },
  {
   "cell_type": "code",
   "execution_count": 134,
   "id": "901932c2",
   "metadata": {},
   "outputs": [
    {
     "data": {
      "text/plain": [
       "8"
      ]
     },
     "execution_count": 134,
     "metadata": {},
     "output_type": "execute_result"
    }
   ],
   "source": [
    "data['fuel_type'].nunique()"
   ]
  },
  {
   "cell_type": "code",
   "execution_count": 135,
   "id": "740a3623",
   "metadata": {},
   "outputs": [],
   "source": [
    "data['fuel_type'] = data['fuel_type'].fillna(data['fuel_category'])\n",
    "data['fuel_type'] = data['fuel_type'].fillna(data['fuel_type_2'])"
   ]
  },
  {
   "cell_type": "code",
   "execution_count": 136,
   "id": "d00945af",
   "metadata": {},
   "outputs": [
    {
     "data": {
      "text/plain": [
       "np.int64(12158)"
      ]
     },
     "execution_count": 136,
     "metadata": {},
     "output_type": "execute_result"
    }
   ],
   "source": [
    "data['fuel_type'].isnull().sum()"
   ]
  },
  {
   "cell_type": "code",
   "execution_count": 137,
   "id": "14c094ea",
   "metadata": {},
   "outputs": [],
   "source": [
    "## fill all null fuel type with gasoline where engine is not elextric\n",
    "mask = (data['fuel_type'].isna()) & (data['engine'] != 'electric')\n",
    "data.loc[mask, 'fuel_type'] = 'gasoline'\n"
   ]
  },
  {
   "cell_type": "code",
   "execution_count": 138,
   "id": "c012ea88",
   "metadata": {},
   "outputs": [],
   "source": [
    "## fill null with electric where engine is electric..\n",
    "maske = (data['fuel_type'].isna()) & (data['engine'] == 'electric')\n",
    "data.loc[mask, 'fuel_type'] = 'electric'"
   ]
  },
  {
   "cell_type": "code",
   "execution_count": 139,
   "id": "0acf90c3",
   "metadata": {},
   "outputs": [
    {
     "data": {
      "text/plain": [
       "fuel_type\n",
       "gasoline          645156\n",
       "hybrid             29329\n",
       "electric           28513\n",
       "diesel             28191\n",
       "flex fuel          19328\n",
       "plug-in hybrid       120\n",
       "hydrogen               3\n",
       "bi-fuel                1\n",
       "Name: count, dtype: int64"
      ]
     },
     "execution_count": 139,
     "metadata": {},
     "output_type": "execute_result"
    }
   ],
   "source": [
    "data['fuel_type'].value_counts()\n"
   ]
  },
  {
   "cell_type": "code",
   "execution_count": 140,
   "id": "922431b7",
   "metadata": {},
   "outputs": [
    {
     "data": {
      "text/html": [
       "<div>\n",
       "<style scoped>\n",
       "    .dataframe tbody tr th:only-of-type {\n",
       "        vertical-align: middle;\n",
       "    }\n",
       "\n",
       "    .dataframe tbody tr th {\n",
       "        vertical-align: top;\n",
       "    }\n",
       "\n",
       "    .dataframe thead th {\n",
       "        text-align: right;\n",
       "    }\n",
       "</style>\n",
       "<table border=\"1\" class=\"dataframe\">\n",
       "  <thead>\n",
       "    <tr style=\"text-align: right;\">\n",
       "      <th></th>\n",
       "      <th>Column</th>\n",
       "      <th>Unique Values</th>\n",
       "      <th>null values</th>\n",
       "    </tr>\n",
       "  </thead>\n",
       "  <tbody>\n",
       "    <tr>\n",
       "      <th>0</th>\n",
       "      <td>manufacturer</td>\n",
       "      <td>30</td>\n",
       "      <td>0</td>\n",
       "    </tr>\n",
       "    <tr>\n",
       "      <th>1</th>\n",
       "      <td>model</td>\n",
       "      <td>11916</td>\n",
       "      <td>0</td>\n",
       "    </tr>\n",
       "    <tr>\n",
       "      <th>2</th>\n",
       "      <td>year</td>\n",
       "      <td>99</td>\n",
       "      <td>0</td>\n",
       "    </tr>\n",
       "    <tr>\n",
       "      <th>3</th>\n",
       "      <td>mileage</td>\n",
       "      <td>158699</td>\n",
       "      <td>494</td>\n",
       "    </tr>\n",
       "    <tr>\n",
       "      <th>4</th>\n",
       "      <td>engine</td>\n",
       "      <td>6808</td>\n",
       "      <td>3600</td>\n",
       "    </tr>\n",
       "    <tr>\n",
       "      <th>5</th>\n",
       "      <td>transmission</td>\n",
       "      <td>1298</td>\n",
       "      <td>5449</td>\n",
       "    </tr>\n",
       "    <tr>\n",
       "      <th>6</th>\n",
       "      <td>drivetrain</td>\n",
       "      <td>28</td>\n",
       "      <td>11929</td>\n",
       "    </tr>\n",
       "    <tr>\n",
       "      <th>7</th>\n",
       "      <td>fuel_type</td>\n",
       "      <td>8</td>\n",
       "      <td>0</td>\n",
       "    </tr>\n",
       "    <tr>\n",
       "      <th>8</th>\n",
       "      <td>mpg</td>\n",
       "      <td>865</td>\n",
       "      <td>130837</td>\n",
       "    </tr>\n",
       "    <tr>\n",
       "      <th>9</th>\n",
       "      <td>exterior_color</td>\n",
       "      <td>7589</td>\n",
       "      <td>0</td>\n",
       "    </tr>\n",
       "    <tr>\n",
       "      <th>10</th>\n",
       "      <td>interior_color</td>\n",
       "      <td>4537</td>\n",
       "      <td>0</td>\n",
       "    </tr>\n",
       "    <tr>\n",
       "      <th>11</th>\n",
       "      <td>accidents_or_damage</td>\n",
       "      <td>3</td>\n",
       "      <td>0</td>\n",
       "    </tr>\n",
       "    <tr>\n",
       "      <th>12</th>\n",
       "      <td>one_owner</td>\n",
       "      <td>3</td>\n",
       "      <td>0</td>\n",
       "    </tr>\n",
       "    <tr>\n",
       "      <th>13</th>\n",
       "      <td>personal_use_only</td>\n",
       "      <td>3</td>\n",
       "      <td>0</td>\n",
       "    </tr>\n",
       "    <tr>\n",
       "      <th>14</th>\n",
       "      <td>seller_name</td>\n",
       "      <td>17453</td>\n",
       "      <td>0</td>\n",
       "    </tr>\n",
       "    <tr>\n",
       "      <th>15</th>\n",
       "      <td>seller_rating</td>\n",
       "      <td>41</td>\n",
       "      <td>209702</td>\n",
       "    </tr>\n",
       "    <tr>\n",
       "      <th>16</th>\n",
       "      <td>driver_rating</td>\n",
       "      <td>35</td>\n",
       "      <td>30754</td>\n",
       "    </tr>\n",
       "    <tr>\n",
       "      <th>17</th>\n",
       "      <td>driver_reviews_num</td>\n",
       "      <td>369</td>\n",
       "      <td>0</td>\n",
       "    </tr>\n",
       "    <tr>\n",
       "      <th>18</th>\n",
       "      <td>price_drop</td>\n",
       "      <td>6363</td>\n",
       "      <td>343345</td>\n",
       "    </tr>\n",
       "    <tr>\n",
       "      <th>19</th>\n",
       "      <td>price</td>\n",
       "      <td>63089</td>\n",
       "      <td>0</td>\n",
       "    </tr>\n",
       "    <tr>\n",
       "      <th>20</th>\n",
       "      <td>engine_size</td>\n",
       "      <td>84</td>\n",
       "      <td>42344</td>\n",
       "    </tr>\n",
       "    <tr>\n",
       "      <th>21</th>\n",
       "      <td>cylinders</td>\n",
       "      <td>20</td>\n",
       "      <td>123434</td>\n",
       "    </tr>\n",
       "    <tr>\n",
       "      <th>22</th>\n",
       "      <td>valves</td>\n",
       "      <td>16</td>\n",
       "      <td>119902</td>\n",
       "    </tr>\n",
       "    <tr>\n",
       "      <th>23</th>\n",
       "      <td>aspiration</td>\n",
       "      <td>6</td>\n",
       "      <td>508940</td>\n",
       "    </tr>\n",
       "    <tr>\n",
       "      <th>24</th>\n",
       "      <td>fuel_type_2</td>\n",
       "      <td>9</td>\n",
       "      <td>618474</td>\n",
       "    </tr>\n",
       "    <tr>\n",
       "      <th>25</th>\n",
       "      <td>injection_system</td>\n",
       "      <td>14</td>\n",
       "      <td>89900</td>\n",
       "    </tr>\n",
       "    <tr>\n",
       "      <th>26</th>\n",
       "      <td>configuration</td>\n",
       "      <td>6</td>\n",
       "      <td>75269</td>\n",
       "    </tr>\n",
       "    <tr>\n",
       "      <th>27</th>\n",
       "      <td>horsepower</td>\n",
       "      <td>658</td>\n",
       "      <td>725564</td>\n",
       "    </tr>\n",
       "    <tr>\n",
       "      <th>28</th>\n",
       "      <td>fuel_category</td>\n",
       "      <td>9</td>\n",
       "      <td>618474</td>\n",
       "    </tr>\n",
       "  </tbody>\n",
       "</table>\n",
       "</div>"
      ],
      "text/plain": [
       "                 Column  Unique Values  null values\n",
       "0          manufacturer             30            0\n",
       "1                 model          11916            0\n",
       "2                  year             99            0\n",
       "3               mileage         158699          494\n",
       "4                engine           6808         3600\n",
       "5          transmission           1298         5449\n",
       "6            drivetrain             28        11929\n",
       "7             fuel_type              8            0\n",
       "8                   mpg            865       130837\n",
       "9        exterior_color           7589            0\n",
       "10       interior_color           4537            0\n",
       "11  accidents_or_damage              3            0\n",
       "12            one_owner              3            0\n",
       "13    personal_use_only              3            0\n",
       "14          seller_name          17453            0\n",
       "15        seller_rating             41       209702\n",
       "16        driver_rating             35        30754\n",
       "17   driver_reviews_num            369            0\n",
       "18           price_drop           6363       343345\n",
       "19                price          63089            0\n",
       "20          engine_size             84        42344\n",
       "21            cylinders             20       123434\n",
       "22               valves             16       119902\n",
       "23           aspiration              6       508940\n",
       "24          fuel_type_2              9       618474\n",
       "25     injection_system             14        89900\n",
       "26        configuration              6        75269\n",
       "27           horsepower            658       725564\n",
       "28        fuel_category              9       618474"
      ]
     },
     "metadata": {},
     "output_type": "display_data"
    }
   ],
   "source": [
    "columns_info(data)"
   ]
  },
  {
   "cell_type": "markdown",
   "id": "916ae7da",
   "metadata": {},
   "source": [
    "## engine_size column"
   ]
  },
  {
   "cell_type": "code",
   "execution_count": 31,
   "id": "66cd14ce",
   "metadata": {},
   "outputs": [
    {
     "data": {
      "text/plain": [
       "engine_size\n",
       "2-3L    273722\n",
       "3-4L    220730\n",
       "1-2L     88499\n",
       "5-6L     49284\n",
       "6-7L     45485\n",
       "4-5L     29541\n",
       "7-8L       705\n",
       "8-9L       238\n",
       "0-1L        91\n",
       "Name: count, dtype: int64"
      ]
     },
     "execution_count": 31,
     "metadata": {},
     "output_type": "execute_result"
    }
   ],
   "source": [
    "def extract_engine_size(val):\n",
    "    try:\n",
    "        return float(str(val).lower().replace('l', '').strip())\n",
    "    except:\n",
    "        return np.nan\n",
    "\n",
    "data['engine_size'] = data['engine_size'].apply(extract_engine_size)\n",
    "\n",
    "bins = np.arange(0, 10, 1)  # 0-1L, 1-2L, ..., 8-9L\n",
    "labels = [f'{i}-{i+1}L' for i in bins[:-1]]\n",
    "data['engine_size'] = pd.cut(data['engine_size'], bins=bins, labels=labels, right=False)\n",
    "\n",
    "# View result\n",
    "data['engine_size'].value_counts()"
   ]
  },
  {
   "cell_type": "markdown",
   "id": "a9f6689b",
   "metadata": {},
   "source": [
    "## cylinders column"
   ]
  },
  {
   "cell_type": "code",
   "execution_count": 32,
   "id": "09f2eece",
   "metadata": {},
   "outputs": [
    {
     "data": {
      "text/plain": [
       "20"
      ]
     },
     "execution_count": 32,
     "metadata": {},
     "output_type": "execute_result"
    }
   ],
   "source": [
    "data['cylinders'].nunique()"
   ]
  },
  {
   "cell_type": "code",
   "execution_count": 33,
   "id": "742edaa0",
   "metadata": {},
   "outputs": [
    {
     "data": {
      "text/plain": [
       "cylinders\n",
       "i4       296663\n",
       "v6       199791\n",
       "v8        96863\n",
       "i6        23858\n",
       "i3         7446\n",
       "i5         1853\n",
       "other       700\n",
       "i2           18\n",
       "v4            5\n",
       "i8            4\n",
       "v3            3\n",
       "w8            2\n",
       "w5            1\n",
       "Name: count, dtype: int64"
      ]
     },
     "execution_count": 33,
     "metadata": {},
     "output_type": "execute_result"
    }
   ],
   "source": [
    "# 1. Mapping dictionary with lowercase keys and lowercase values\n",
    "engine_cylinders_mapping = {\n",
    "    'i3': 'i3',\n",
    "    'i4': 'i4',\n",
    "    'i5': 'i5',\n",
    "    'i6': 'i6',\n",
    "    'i8': 'i8',\n",
    "\n",
    "    'inline 2': 'i2',\n",
    "    'inline 4': 'i4',\n",
    "    'inline 5': 'i5',\n",
    "    'inline 6': 'i6',\n",
    "    'straight 6': 'i6',\n",
    "    'straight 8': 'i8',\n",
    "\n",
    "    'v3': 'v3',\n",
    "    'v4': 'v4',\n",
    "    'v6': 'v6',\n",
    "    'v8': 'v8',\n",
    "    'v1': 'other',\n",
    "    'v0': 'other',\n",
    "\n",
    "    'w1': 'other',\n",
    "    'w5': 'w5',\n",
    "    'w8': 'w8',\n",
    "\n",
    "    np.nan: np.nan,\n",
    "    None: np.nan\n",
    "}\n",
    "\n",
    "# 2. Convert column to lowercase, then map\n",
    "data['cylinders'] = data['cylinders'].str.lower().map(engine_cylinders_mapping)\n",
    "\n",
    "# 3. View result\n",
    "data['cylinders'].value_counts()\n"
   ]
  },
  {
   "cell_type": "code",
   "execution_count": 34,
   "id": "4920b083",
   "metadata": {},
   "outputs": [
    {
     "data": {
      "text/plain": [
       "13"
      ]
     },
     "execution_count": 34,
     "metadata": {},
     "output_type": "execute_result"
    }
   ],
   "source": [
    "data['cylinders'].nunique()"
   ]
  },
  {
   "cell_type": "markdown",
   "id": "895d1e44",
   "metadata": {},
   "source": [
    "## valves column"
   ]
  },
  {
   "cell_type": "code",
   "execution_count": 35,
   "id": "436357dc",
   "metadata": {},
   "outputs": [],
   "source": [
    "data['valves'] = data['valves'].str.lower().replace('697v', np.nan)"
   ]
  },
  {
   "cell_type": "code",
   "execution_count": 36,
   "id": "89e0e94d",
   "metadata": {},
   "outputs": [
    {
     "data": {
      "text/plain": [
       "valves\n",
       "16v    358208\n",
       "24v    213357\n",
       "32v     43375\n",
       "12v     12430\n",
       "20v      2076\n",
       "8v        552\n",
       "18v       227\n",
       "40v       220\n",
       "36v       128\n",
       "48v        84\n",
       "30v        63\n",
       "4v         10\n",
       "3v          5\n",
       "10v         2\n",
       "2v          1\n",
       "Name: count, dtype: int64"
      ]
     },
     "execution_count": 36,
     "metadata": {},
     "output_type": "execute_result"
    }
   ],
   "source": [
    "\n",
    "data['valves'].value_counts()"
   ]
  },
  {
   "cell_type": "markdown",
   "id": "4db0621c",
   "metadata": {},
   "source": [
    "## aspiration column"
   ]
  },
  {
   "cell_type": "code",
   "execution_count": 37,
   "id": "0f5cedc0",
   "metadata": {},
   "outputs": [
    {
     "data": {
      "text/plain": [
       "6"
      ]
     },
     "execution_count": 37,
     "metadata": {},
     "output_type": "execute_result"
    }
   ],
   "source": [
    "data['aspiration'].nunique()"
   ]
  },
  {
   "cell_type": "code",
   "execution_count": 38,
   "id": "b551795d",
   "metadata": {},
   "outputs": [
    {
     "data": {
      "text/plain": [
       "aspiration\n",
       "turbo                 196385\n",
       "twin turbo             37292\n",
       "supercharged            7497\n",
       "supercharger             386\n",
       "turbocharger              75\n",
       "natural aspiration        66\n",
       "Name: count, dtype: int64"
      ]
     },
     "execution_count": 38,
     "metadata": {},
     "output_type": "execute_result"
    }
   ],
   "source": [
    "data['aspiration'].value_counts()"
   ]
  },
  {
   "cell_type": "markdown",
   "id": "4b20183b",
   "metadata": {},
   "source": [
    "## injection column"
   ]
  },
  {
   "cell_type": "code",
   "execution_count": 39,
   "id": "5c41c071",
   "metadata": {},
   "outputs": [
    {
     "data": {
      "text/plain": [
       "injection_system\n",
       "gdi       326403\n",
       "mpfi      225014\n",
       "pdi        52185\n",
       "di         31992\n",
       "ddi        23885\n",
       "smpi         329\n",
       "spfi         273\n",
       "sidi         242\n",
       "efi          195\n",
       "tfsi          66\n",
       "mfi           65\n",
       "pgm-fi        31\n",
       "fsi           31\n",
       "sefi          30\n",
       "Name: count, dtype: int64"
      ]
     },
     "execution_count": 39,
     "metadata": {},
     "output_type": "execute_result"
    }
   ],
   "source": [
    "data['injection_system'].value_counts()"
   ]
  },
  {
   "cell_type": "markdown",
   "id": "73522c73",
   "metadata": {},
   "source": [
    "## configuration column"
   ]
  },
  {
   "cell_type": "code",
   "execution_count": 40,
   "id": "4f29da65",
   "metadata": {},
   "outputs": [
    {
     "data": {
      "text/plain": [
       "configuration\n",
       "dohc      568421\n",
       "ohv        66183\n",
       "sohc       39286\n",
       "vvt         1285\n",
       "timing       196\n",
       "vanos          1\n",
       "Name: count, dtype: int64"
      ]
     },
     "execution_count": 40,
     "metadata": {},
     "output_type": "execute_result"
    }
   ],
   "source": [
    "data['configuration'].value_counts()"
   ]
  },
  {
   "cell_type": "markdown",
   "id": "1fa3f0af",
   "metadata": {},
   "source": [
    "## engine column"
   ]
  },
  {
   "cell_type": "code",
   "execution_count": 41,
   "id": "b194d4a5",
   "metadata": {},
   "outputs": [
    {
     "data": {
      "text/plain": [
       "np.int64(3600)"
      ]
     },
     "execution_count": 41,
     "metadata": {},
     "output_type": "execute_result"
    }
   ],
   "source": [
    "data['engine'].isnull().sum()"
   ]
  },
  {
   "cell_type": "code",
   "execution_count": 42,
   "id": "a94c7824",
   "metadata": {},
   "outputs": [],
   "source": [
    "\n",
    "ENGINE_COLUMNS = [\n",
    "    'cylinders',\n",
    "    'valves',\n",
    "    'aspiration',\n",
    "    'fuel_type',\n",
    "    'injection_system',\n",
    "    'configuration'\n",
    "]\n",
    "\n",
    "data[ENGINE_COLUMNS] = data[ENGINE_COLUMNS].fillna('')\n",
    "\n",
    "def create_engine_details(row):\n",
    "    if pd.isna(row['engine']):\n",
    "        return np.nan\n",
    "    # concatenate non-empty strings with single space\n",
    "    return ' '.join(filter(None, [str(row[col]) for col in ENGINE_COLUMNS])).strip()\n",
    "\n",
    "data['ENGINE_DETAILS'] = data.apply(create_engine_details, axis=1)\n",
    "\n",
    "\n",
    "data[ENGINE_COLUMNS] = data[ENGINE_COLUMNS].replace('', np.nan)\n"
   ]
  },
  {
   "cell_type": "code",
   "execution_count": 43,
   "id": "07f15b02",
   "metadata": {},
   "outputs": [
    {
     "name": "stdout",
     "output_type": "stream",
     "text": [
      "Number of rows where both 'engine', transmission and 'fuel_type' are null: 0\n"
     ]
    }
   ],
   "source": [
    "### drop row if all mentioned column has null.\n",
    "data.dropna(subset=['engine', 'ENGINE_DETAILS'], how='all', inplace=True)\n",
    "\n",
    "### check for null\n",
    "both_null = data[data['engine'].isnull() & data['ENGINE_DETAILS'].isnull()]\n",
    "print(\"Number of rows where both 'engine', transmission and 'fuel_type' are null:\", len(both_null))"
   ]
  },
  {
   "cell_type": "code",
   "execution_count": 44,
   "id": "5cc8221a",
   "metadata": {},
   "outputs": [
    {
     "data": {
      "text/html": [
       "<div>\n",
       "<style scoped>\n",
       "    .dataframe tbody tr th:only-of-type {\n",
       "        vertical-align: middle;\n",
       "    }\n",
       "\n",
       "    .dataframe tbody tr th {\n",
       "        vertical-align: top;\n",
       "    }\n",
       "\n",
       "    .dataframe thead th {\n",
       "        text-align: right;\n",
       "    }\n",
       "</style>\n",
       "<table border=\"1\" class=\"dataframe\">\n",
       "  <thead>\n",
       "    <tr style=\"text-align: right;\">\n",
       "      <th></th>\n",
       "      <th>Column</th>\n",
       "      <th>Unique Values</th>\n",
       "      <th>null values</th>\n",
       "    </tr>\n",
       "  </thead>\n",
       "  <tbody>\n",
       "    <tr>\n",
       "      <th>0</th>\n",
       "      <td>manufacturer</td>\n",
       "      <td>30</td>\n",
       "      <td>0</td>\n",
       "    </tr>\n",
       "    <tr>\n",
       "      <th>1</th>\n",
       "      <td>model</td>\n",
       "      <td>11818</td>\n",
       "      <td>0</td>\n",
       "    </tr>\n",
       "    <tr>\n",
       "      <th>2</th>\n",
       "      <td>year</td>\n",
       "      <td>98</td>\n",
       "      <td>0</td>\n",
       "    </tr>\n",
       "    <tr>\n",
       "      <th>3</th>\n",
       "      <td>mileage</td>\n",
       "      <td>158672</td>\n",
       "      <td>494</td>\n",
       "    </tr>\n",
       "    <tr>\n",
       "      <th>4</th>\n",
       "      <td>engine</td>\n",
       "      <td>6808</td>\n",
       "      <td>0</td>\n",
       "    </tr>\n",
       "    <tr>\n",
       "      <th>5</th>\n",
       "      <td>transmission</td>\n",
       "      <td>1292</td>\n",
       "      <td>2750</td>\n",
       "    </tr>\n",
       "    <tr>\n",
       "      <th>6</th>\n",
       "      <td>drivetrain</td>\n",
       "      <td>27</td>\n",
       "      <td>8765</td>\n",
       "    </tr>\n",
       "    <tr>\n",
       "      <th>7</th>\n",
       "      <td>fuel_type</td>\n",
       "      <td>8</td>\n",
       "      <td>0</td>\n",
       "    </tr>\n",
       "    <tr>\n",
       "      <th>8</th>\n",
       "      <td>mpg</td>\n",
       "      <td>865</td>\n",
       "      <td>127438</td>\n",
       "    </tr>\n",
       "    <tr>\n",
       "      <th>9</th>\n",
       "      <td>exterior_color</td>\n",
       "      <td>7549</td>\n",
       "      <td>0</td>\n",
       "    </tr>\n",
       "    <tr>\n",
       "      <th>10</th>\n",
       "      <td>interior_color</td>\n",
       "      <td>4371</td>\n",
       "      <td>0</td>\n",
       "    </tr>\n",
       "    <tr>\n",
       "      <th>11</th>\n",
       "      <td>accidents_or_damage</td>\n",
       "      <td>3</td>\n",
       "      <td>0</td>\n",
       "    </tr>\n",
       "    <tr>\n",
       "      <th>12</th>\n",
       "      <td>one_owner</td>\n",
       "      <td>3</td>\n",
       "      <td>0</td>\n",
       "    </tr>\n",
       "    <tr>\n",
       "      <th>13</th>\n",
       "      <td>personal_use_only</td>\n",
       "      <td>3</td>\n",
       "      <td>0</td>\n",
       "    </tr>\n",
       "    <tr>\n",
       "      <th>14</th>\n",
       "      <td>seller_name</td>\n",
       "      <td>17032</td>\n",
       "      <td>0</td>\n",
       "    </tr>\n",
       "    <tr>\n",
       "      <th>15</th>\n",
       "      <td>seller_rating</td>\n",
       "      <td>41</td>\n",
       "      <td>208512</td>\n",
       "    </tr>\n",
       "    <tr>\n",
       "      <th>16</th>\n",
       "      <td>driver_rating</td>\n",
       "      <td>35</td>\n",
       "      <td>30441</td>\n",
       "    </tr>\n",
       "    <tr>\n",
       "      <th>17</th>\n",
       "      <td>driver_reviews_num</td>\n",
       "      <td>369</td>\n",
       "      <td>0</td>\n",
       "    </tr>\n",
       "    <tr>\n",
       "      <th>18</th>\n",
       "      <td>price_drop</td>\n",
       "      <td>6347</td>\n",
       "      <td>340895</td>\n",
       "    </tr>\n",
       "    <tr>\n",
       "      <th>19</th>\n",
       "      <td>price</td>\n",
       "      <td>62850</td>\n",
       "      <td>0</td>\n",
       "    </tr>\n",
       "    <tr>\n",
       "      <th>20</th>\n",
       "      <td>engine_size</td>\n",
       "      <td>9</td>\n",
       "      <td>38746</td>\n",
       "    </tr>\n",
       "    <tr>\n",
       "      <th>21</th>\n",
       "      <td>cylinders</td>\n",
       "      <td>13</td>\n",
       "      <td>119834</td>\n",
       "    </tr>\n",
       "    <tr>\n",
       "      <th>22</th>\n",
       "      <td>valves</td>\n",
       "      <td>15</td>\n",
       "      <td>116303</td>\n",
       "    </tr>\n",
       "    <tr>\n",
       "      <th>23</th>\n",
       "      <td>aspiration</td>\n",
       "      <td>6</td>\n",
       "      <td>505340</td>\n",
       "    </tr>\n",
       "    <tr>\n",
       "      <th>24</th>\n",
       "      <td>fuel_type_2</td>\n",
       "      <td>9</td>\n",
       "      <td>614874</td>\n",
       "    </tr>\n",
       "    <tr>\n",
       "      <th>25</th>\n",
       "      <td>injection_system</td>\n",
       "      <td>14</td>\n",
       "      <td>86300</td>\n",
       "    </tr>\n",
       "    <tr>\n",
       "      <th>26</th>\n",
       "      <td>configuration</td>\n",
       "      <td>6</td>\n",
       "      <td>71669</td>\n",
       "    </tr>\n",
       "    <tr>\n",
       "      <th>27</th>\n",
       "      <td>horsepower</td>\n",
       "      <td>658</td>\n",
       "      <td>721964</td>\n",
       "    </tr>\n",
       "    <tr>\n",
       "      <th>28</th>\n",
       "      <td>fuel_category</td>\n",
       "      <td>9</td>\n",
       "      <td>614874</td>\n",
       "    </tr>\n",
       "    <tr>\n",
       "      <th>29</th>\n",
       "      <td>ENGINE_DETAILS</td>\n",
       "      <td>643</td>\n",
       "      <td>0</td>\n",
       "    </tr>\n",
       "  </tbody>\n",
       "</table>\n",
       "</div>"
      ],
      "text/plain": [
       "                 Column  Unique Values  null values\n",
       "0          manufacturer             30            0\n",
       "1                 model          11818            0\n",
       "2                  year             98            0\n",
       "3               mileage         158672          494\n",
       "4                engine           6808            0\n",
       "5          transmission           1292         2750\n",
       "6            drivetrain             27         8765\n",
       "7             fuel_type              8            0\n",
       "8                   mpg            865       127438\n",
       "9        exterior_color           7549            0\n",
       "10       interior_color           4371            0\n",
       "11  accidents_or_damage              3            0\n",
       "12            one_owner              3            0\n",
       "13    personal_use_only              3            0\n",
       "14          seller_name          17032            0\n",
       "15        seller_rating             41       208512\n",
       "16        driver_rating             35        30441\n",
       "17   driver_reviews_num            369            0\n",
       "18           price_drop           6347       340895\n",
       "19                price          62850            0\n",
       "20          engine_size              9        38746\n",
       "21            cylinders             13       119834\n",
       "22               valves             15       116303\n",
       "23           aspiration              6       505340\n",
       "24          fuel_type_2              9       614874\n",
       "25     injection_system             14        86300\n",
       "26        configuration              6        71669\n",
       "27           horsepower            658       721964\n",
       "28        fuel_category              9       614874\n",
       "29       ENGINE_DETAILS            643            0"
      ]
     },
     "metadata": {},
     "output_type": "display_data"
    }
   ],
   "source": [
    "columns_info(data)"
   ]
  },
  {
   "cell_type": "markdown",
   "id": "951cb05e",
   "metadata": {},
   "source": [
    "## Transmission column"
   ]
  },
  {
   "cell_type": "code",
   "execution_count": 45,
   "id": "a01c76c1",
   "metadata": {},
   "outputs": [],
   "source": [
    "data['transmission']= data['transmission'].str.lower().str.strip()"
   ]
  },
  {
   "cell_type": "code",
   "execution_count": 46,
   "id": "b6f76aca",
   "metadata": {},
   "outputs": [
    {
     "data": {
      "text/plain": [
       "transmission\n",
       "Automatic         716442\n",
       "Manual             23716\n",
       "Unknown             4575\n",
       "CVT                 2258\n",
       "Dual-Clutch           49\n",
       "Semi-Automatic         1\n",
       "Name: count, dtype: int64"
      ]
     },
     "execution_count": 46,
     "metadata": {},
     "output_type": "execute_result"
    }
   ],
   "source": [
    "def map_transmission(trans):\n",
    "\n",
    "    if pd.isnull(trans):\n",
    "        return 'Unknown'\n",
    "    \n",
    "    trans = trans.lower()\n",
    "    if 'manual' in trans or 'm/t' in trans or '5-spd w/overdrive' in trans or '5-speed manual' in trans or '6 speed manual' in trans or 'manual 5-speed' in trans or 'stick' in trans or '4+3 manual' in trans or 'tremec' in trans or 'muncie' in trans or 'on the tree' in trans :\n",
    "        return 'Manual'\n",
    "    \n",
    "    elif 'automatic' in trans or 'auto' in trans or 'a/t' in trans or 'a' in trans or '6-spd seq sptshft' in trans or '7-spd S trnc Spt' in trans or '8-speed' in trans or 'geartronic' in trans or 'steptronic' in trans or 'shiftronic' in trans or 'tiptronic' in trans or 'powershift' in trans or 'selectshift' in trans or 'torqshift' in trans or 'hydramatic' in trans or 'speedshift' in trans: \n",
    "        return 'Automatic'\n",
    "    \n",
    "    elif ('cvt' in trans or 'continuously variable' in trans or \n",
    "          'ecvt' in trans or 'ivt' in trans or \n",
    "          'xtronic' in trans or 'multitronic' in trans or \n",
    "          'lineartronic' in trans or 'variabl' in trans):\n",
    "        return 'CVT'\n",
    "    \n",
    "    elif 'semi' in trans or 'sequential' in trans or 'w/dual' in trans or 'smg' in trans or 'autostick' in trans:\n",
    "        return 'Semi-Automatic'\n",
    "    \n",
    "\n",
    "    elif 'dual' in trans or 'dct' in trans or 'dual clutch' in trans or 'dual-clutch' in trans or 'double clutch' in trans or 's tronic' in trans or 'pdk' in trans or 'dsg' in trans:\n",
    "        return 'Dual-Clutch'\n",
    "    \n",
    "    elif 'tiptronic' in trans or 'shiftable' in trans or  'geartronic' in trans:\n",
    "        return 'Automatic'\n",
    "    \n",
    "    elif ('select' in trans or 'not specified' in trans or \n",
    "          'unspecified' in trans or 'unknown' in trans or \n",
    "          'other' in trans or trans.strip() in ['a', 'nan']):\n",
    "        return 'Unknown'\n",
    "\n",
    "    else:\n",
    "        return 'Unknown'\n",
    "data['transmission'] = data['transmission'].apply(map_transmission)\n",
    "data['transmission'].value_counts()"
   ]
  },
  {
   "cell_type": "code",
   "execution_count": 47,
   "id": "458ecd8e",
   "metadata": {},
   "outputs": [
    {
     "data": {
      "text/html": [
       "<div>\n",
       "<style scoped>\n",
       "    .dataframe tbody tr th:only-of-type {\n",
       "        vertical-align: middle;\n",
       "    }\n",
       "\n",
       "    .dataframe tbody tr th {\n",
       "        vertical-align: top;\n",
       "    }\n",
       "\n",
       "    .dataframe thead th {\n",
       "        text-align: right;\n",
       "    }\n",
       "</style>\n",
       "<table border=\"1\" class=\"dataframe\">\n",
       "  <thead>\n",
       "    <tr style=\"text-align: right;\">\n",
       "      <th></th>\n",
       "      <th>Column</th>\n",
       "      <th>Unique Values</th>\n",
       "      <th>null values</th>\n",
       "    </tr>\n",
       "  </thead>\n",
       "  <tbody>\n",
       "    <tr>\n",
       "      <th>0</th>\n",
       "      <td>manufacturer</td>\n",
       "      <td>30</td>\n",
       "      <td>0</td>\n",
       "    </tr>\n",
       "    <tr>\n",
       "      <th>1</th>\n",
       "      <td>model</td>\n",
       "      <td>11818</td>\n",
       "      <td>0</td>\n",
       "    </tr>\n",
       "    <tr>\n",
       "      <th>2</th>\n",
       "      <td>year</td>\n",
       "      <td>98</td>\n",
       "      <td>0</td>\n",
       "    </tr>\n",
       "    <tr>\n",
       "      <th>3</th>\n",
       "      <td>mileage</td>\n",
       "      <td>158672</td>\n",
       "      <td>494</td>\n",
       "    </tr>\n",
       "    <tr>\n",
       "      <th>4</th>\n",
       "      <td>engine</td>\n",
       "      <td>6808</td>\n",
       "      <td>0</td>\n",
       "    </tr>\n",
       "    <tr>\n",
       "      <th>5</th>\n",
       "      <td>transmission</td>\n",
       "      <td>6</td>\n",
       "      <td>0</td>\n",
       "    </tr>\n",
       "    <tr>\n",
       "      <th>6</th>\n",
       "      <td>drivetrain</td>\n",
       "      <td>27</td>\n",
       "      <td>8765</td>\n",
       "    </tr>\n",
       "    <tr>\n",
       "      <th>7</th>\n",
       "      <td>fuel_type</td>\n",
       "      <td>8</td>\n",
       "      <td>0</td>\n",
       "    </tr>\n",
       "    <tr>\n",
       "      <th>8</th>\n",
       "      <td>mpg</td>\n",
       "      <td>865</td>\n",
       "      <td>127438</td>\n",
       "    </tr>\n",
       "    <tr>\n",
       "      <th>9</th>\n",
       "      <td>exterior_color</td>\n",
       "      <td>7549</td>\n",
       "      <td>0</td>\n",
       "    </tr>\n",
       "    <tr>\n",
       "      <th>10</th>\n",
       "      <td>interior_color</td>\n",
       "      <td>4371</td>\n",
       "      <td>0</td>\n",
       "    </tr>\n",
       "    <tr>\n",
       "      <th>11</th>\n",
       "      <td>accidents_or_damage</td>\n",
       "      <td>3</td>\n",
       "      <td>0</td>\n",
       "    </tr>\n",
       "    <tr>\n",
       "      <th>12</th>\n",
       "      <td>one_owner</td>\n",
       "      <td>3</td>\n",
       "      <td>0</td>\n",
       "    </tr>\n",
       "    <tr>\n",
       "      <th>13</th>\n",
       "      <td>personal_use_only</td>\n",
       "      <td>3</td>\n",
       "      <td>0</td>\n",
       "    </tr>\n",
       "    <tr>\n",
       "      <th>14</th>\n",
       "      <td>seller_name</td>\n",
       "      <td>17032</td>\n",
       "      <td>0</td>\n",
       "    </tr>\n",
       "    <tr>\n",
       "      <th>15</th>\n",
       "      <td>seller_rating</td>\n",
       "      <td>41</td>\n",
       "      <td>208512</td>\n",
       "    </tr>\n",
       "    <tr>\n",
       "      <th>16</th>\n",
       "      <td>driver_rating</td>\n",
       "      <td>35</td>\n",
       "      <td>30441</td>\n",
       "    </tr>\n",
       "    <tr>\n",
       "      <th>17</th>\n",
       "      <td>driver_reviews_num</td>\n",
       "      <td>369</td>\n",
       "      <td>0</td>\n",
       "    </tr>\n",
       "    <tr>\n",
       "      <th>18</th>\n",
       "      <td>price_drop</td>\n",
       "      <td>6347</td>\n",
       "      <td>340895</td>\n",
       "    </tr>\n",
       "    <tr>\n",
       "      <th>19</th>\n",
       "      <td>price</td>\n",
       "      <td>62850</td>\n",
       "      <td>0</td>\n",
       "    </tr>\n",
       "    <tr>\n",
       "      <th>20</th>\n",
       "      <td>engine_size</td>\n",
       "      <td>9</td>\n",
       "      <td>38746</td>\n",
       "    </tr>\n",
       "    <tr>\n",
       "      <th>21</th>\n",
       "      <td>cylinders</td>\n",
       "      <td>13</td>\n",
       "      <td>119834</td>\n",
       "    </tr>\n",
       "    <tr>\n",
       "      <th>22</th>\n",
       "      <td>valves</td>\n",
       "      <td>15</td>\n",
       "      <td>116303</td>\n",
       "    </tr>\n",
       "    <tr>\n",
       "      <th>23</th>\n",
       "      <td>aspiration</td>\n",
       "      <td>6</td>\n",
       "      <td>505340</td>\n",
       "    </tr>\n",
       "    <tr>\n",
       "      <th>24</th>\n",
       "      <td>fuel_type_2</td>\n",
       "      <td>9</td>\n",
       "      <td>614874</td>\n",
       "    </tr>\n",
       "    <tr>\n",
       "      <th>25</th>\n",
       "      <td>injection_system</td>\n",
       "      <td>14</td>\n",
       "      <td>86300</td>\n",
       "    </tr>\n",
       "    <tr>\n",
       "      <th>26</th>\n",
       "      <td>configuration</td>\n",
       "      <td>6</td>\n",
       "      <td>71669</td>\n",
       "    </tr>\n",
       "    <tr>\n",
       "      <th>27</th>\n",
       "      <td>horsepower</td>\n",
       "      <td>658</td>\n",
       "      <td>721964</td>\n",
       "    </tr>\n",
       "    <tr>\n",
       "      <th>28</th>\n",
       "      <td>fuel_category</td>\n",
       "      <td>9</td>\n",
       "      <td>614874</td>\n",
       "    </tr>\n",
       "    <tr>\n",
       "      <th>29</th>\n",
       "      <td>ENGINE_DETAILS</td>\n",
       "      <td>643</td>\n",
       "      <td>0</td>\n",
       "    </tr>\n",
       "  </tbody>\n",
       "</table>\n",
       "</div>"
      ],
      "text/plain": [
       "                 Column  Unique Values  null values\n",
       "0          manufacturer             30            0\n",
       "1                 model          11818            0\n",
       "2                  year             98            0\n",
       "3               mileage         158672          494\n",
       "4                engine           6808            0\n",
       "5          transmission              6            0\n",
       "6            drivetrain             27         8765\n",
       "7             fuel_type              8            0\n",
       "8                   mpg            865       127438\n",
       "9        exterior_color           7549            0\n",
       "10       interior_color           4371            0\n",
       "11  accidents_or_damage              3            0\n",
       "12            one_owner              3            0\n",
       "13    personal_use_only              3            0\n",
       "14          seller_name          17032            0\n",
       "15        seller_rating             41       208512\n",
       "16        driver_rating             35        30441\n",
       "17   driver_reviews_num            369            0\n",
       "18           price_drop           6347       340895\n",
       "19                price          62850            0\n",
       "20          engine_size              9        38746\n",
       "21            cylinders             13       119834\n",
       "22               valves             15       116303\n",
       "23           aspiration              6       505340\n",
       "24          fuel_type_2              9       614874\n",
       "25     injection_system             14        86300\n",
       "26        configuration              6        71669\n",
       "27           horsepower            658       721964\n",
       "28        fuel_category              9       614874\n",
       "29       ENGINE_DETAILS            643            0"
      ]
     },
     "metadata": {},
     "output_type": "display_data"
    }
   ],
   "source": [
    "columns_info(data)"
   ]
  },
  {
   "cell_type": "code",
   "execution_count": 48,
   "id": "86e40c6e",
   "metadata": {},
   "outputs": [
    {
     "data": {
      "text/html": [
       "<div>\n",
       "<style scoped>\n",
       "    .dataframe tbody tr th:only-of-type {\n",
       "        vertical-align: middle;\n",
       "    }\n",
       "\n",
       "    .dataframe tbody tr th {\n",
       "        vertical-align: top;\n",
       "    }\n",
       "\n",
       "    .dataframe thead th {\n",
       "        text-align: right;\n",
       "    }\n",
       "</style>\n",
       "<table border=\"1\" class=\"dataframe\">\n",
       "  <thead>\n",
       "    <tr style=\"text-align: right;\">\n",
       "      <th></th>\n",
       "      <th>manufacturer</th>\n",
       "      <th>model</th>\n",
       "      <th>year</th>\n",
       "      <th>mileage</th>\n",
       "      <th>engine</th>\n",
       "      <th>transmission</th>\n",
       "      <th>drivetrain</th>\n",
       "      <th>fuel_type</th>\n",
       "      <th>mpg</th>\n",
       "      <th>exterior_color</th>\n",
       "      <th>...</th>\n",
       "      <th>engine_size</th>\n",
       "      <th>cylinders</th>\n",
       "      <th>valves</th>\n",
       "      <th>aspiration</th>\n",
       "      <th>fuel_type_2</th>\n",
       "      <th>injection_system</th>\n",
       "      <th>configuration</th>\n",
       "      <th>horsepower</th>\n",
       "      <th>fuel_category</th>\n",
       "      <th>ENGINE_DETAILS</th>\n",
       "    </tr>\n",
       "  </thead>\n",
       "  <tbody>\n",
       "  </tbody>\n",
       "</table>\n",
       "<p>0 rows × 30 columns</p>\n",
       "</div>"
      ],
      "text/plain": [
       "Empty DataFrame\n",
       "Columns: [manufacturer, model, year, mileage, engine, transmission, drivetrain, fuel_type, mpg, exterior_color, interior_color, accidents_or_damage, one_owner, personal_use_only, seller_name, seller_rating, driver_rating, driver_reviews_num, price_drop, price, engine_size, cylinders, valves, aspiration, fuel_type_2, injection_system, configuration, horsepower, fuel_category, ENGINE_DETAILS]\n",
       "Index: []\n",
       "\n",
       "[0 rows x 30 columns]"
      ]
     },
     "execution_count": 48,
     "metadata": {},
     "output_type": "execute_result"
    }
   ],
   "source": [
    "engine_null = data[pd.isna(data['engine'])]\n",
    "engine_null\n",
    "# data['engine'].isnull().sum()"
   ]
  },
  {
   "cell_type": "markdown",
   "id": "3b3121dd-9412-4d9b-85a2-92c301539b4f",
   "metadata": {},
   "source": [
    "###  'Mileage' column"
   ]
  },
  {
   "cell_type": "code",
   "execution_count": 49,
   "id": "35f9fbae-b168-4bac-adad-24774440f459",
   "metadata": {},
   "outputs": [
    {
     "data": {
      "application/vnd.plotly.v1+json": {
       "config": {
        "plotlyServerURL": "https://plot.ly"
       },
       "data": [
        {
         "hovertemplate": "Mileage=%{x}<br>Density=%{y}<extra></extra>",
         "legendgroup": "",
         "line": {
          "color": "#636efa",
          "dash": "solid"
         },
         "marker": {
          "symbol": "circle"
         },
         "mode": "lines",
         "name": "",
         "orientation": "v",
         "showlegend": false,
         "type": "scatter",
         "x": {
          "bdata": "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",
          "dtype": "f8"
         },
         "xaxis": "x",
         "y": {
          "bdata": "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",
          "dtype": "f8"
         },
         "yaxis": "y"
        }
       ],
       "layout": {
        "legend": {
         "tracegroupgap": 0
        },
        "template": {
         "data": {
          "bar": [
           {
            "error_x": {
             "color": "#2a3f5f"
            },
            "error_y": {
             "color": "#2a3f5f"
            },
            "marker": {
             "line": {
              "color": "white",
              "width": 0.5
             },
             "pattern": {
              "fillmode": "overlay",
              "size": 10,
              "solidity": 0.2
             }
            },
            "type": "bar"
           }
          ],
          "barpolar": [
           {
            "marker": {
             "line": {
              "color": "white",
              "width": 0.5
             },
             "pattern": {
              "fillmode": "overlay",
              "size": 10,
              "solidity": 0.2
             }
            },
            "type": "barpolar"
           }
          ],
          "carpet": [
           {
            "aaxis": {
             "endlinecolor": "#2a3f5f",
             "gridcolor": "#C8D4E3",
             "linecolor": "#C8D4E3",
             "minorgridcolor": "#C8D4E3",
             "startlinecolor": "#2a3f5f"
            },
            "baxis": {
             "endlinecolor": "#2a3f5f",
             "gridcolor": "#C8D4E3",
             "linecolor": "#C8D4E3",
             "minorgridcolor": "#C8D4E3",
             "startlinecolor": "#2a3f5f"
            },
            "type": "carpet"
           }
          ],
          "choropleth": [
           {
            "colorbar": {
             "outlinewidth": 0,
             "ticks": ""
            },
            "type": "choropleth"
           }
          ],
          "contour": [
           {
            "colorbar": {
             "outlinewidth": 0,
             "ticks": ""
            },
            "colorscale": [
             [
              0,
              "#0d0887"
             ],
             [
              0.1111111111111111,
              "#46039f"
             ],
             [
              0.2222222222222222,
              "#7201a8"
             ],
             [
              0.3333333333333333,
              "#9c179e"
             ],
             [
              0.4444444444444444,
              "#bd3786"
             ],
             [
              0.5555555555555556,
              "#d8576b"
             ],
             [
              0.6666666666666666,
              "#ed7953"
             ],
             [
              0.7777777777777778,
              "#fb9f3a"
             ],
             [
              0.8888888888888888,
              "#fdca26"
             ],
             [
              1,
              "#f0f921"
             ]
            ],
            "type": "contour"
           }
          ],
          "contourcarpet": [
           {
            "colorbar": {
             "outlinewidth": 0,
             "ticks": ""
            },
            "type": "contourcarpet"
           }
          ],
          "heatmap": [
           {
            "colorbar": {
             "outlinewidth": 0,
             "ticks": ""
            },
            "colorscale": [
             [
              0,
              "#0d0887"
             ],
             [
              0.1111111111111111,
              "#46039f"
             ],
             [
              0.2222222222222222,
              "#7201a8"
             ],
             [
              0.3333333333333333,
              "#9c179e"
             ],
             [
              0.4444444444444444,
              "#bd3786"
             ],
             [
              0.5555555555555556,
              "#d8576b"
             ],
             [
              0.6666666666666666,
              "#ed7953"
             ],
             [
              0.7777777777777778,
              "#fb9f3a"
             ],
             [
              0.8888888888888888,
              "#fdca26"
             ],
             [
              1,
              "#f0f921"
             ]
            ],
            "type": "heatmap"
           }
          ],
          "histogram": [
           {
            "marker": {
             "pattern": {
              "fillmode": "overlay",
              "size": 10,
              "solidity": 0.2
             }
            },
            "type": "histogram"
           }
          ],
          "histogram2d": [
           {
            "colorbar": {
             "outlinewidth": 0,
             "ticks": ""
            },
            "colorscale": [
             [
              0,
              "#0d0887"
             ],
             [
              0.1111111111111111,
              "#46039f"
             ],
             [
              0.2222222222222222,
              "#7201a8"
             ],
             [
              0.3333333333333333,
              "#9c179e"
             ],
             [
              0.4444444444444444,
              "#bd3786"
             ],
             [
              0.5555555555555556,
              "#d8576b"
             ],
             [
              0.6666666666666666,
              "#ed7953"
             ],
             [
              0.7777777777777778,
              "#fb9f3a"
             ],
             [
              0.8888888888888888,
              "#fdca26"
             ],
             [
              1,
              "#f0f921"
             ]
            ],
            "type": "histogram2d"
           }
          ],
          "histogram2dcontour": [
           {
            "colorbar": {
             "outlinewidth": 0,
             "ticks": ""
            },
            "colorscale": [
             [
              0,
              "#0d0887"
             ],
             [
              0.1111111111111111,
              "#46039f"
             ],
             [
              0.2222222222222222,
              "#7201a8"
             ],
             [
              0.3333333333333333,
              "#9c179e"
             ],
             [
              0.4444444444444444,
              "#bd3786"
             ],
             [
              0.5555555555555556,
              "#d8576b"
             ],
             [
              0.6666666666666666,
              "#ed7953"
             ],
             [
              0.7777777777777778,
              "#fb9f3a"
             ],
             [
              0.8888888888888888,
              "#fdca26"
             ],
             [
              1,
              "#f0f921"
             ]
            ],
            "type": "histogram2dcontour"
           }
          ],
          "mesh3d": [
           {
            "colorbar": {
             "outlinewidth": 0,
             "ticks": ""
            },
            "type": "mesh3d"
           }
          ],
          "parcoords": [
           {
            "line": {
             "colorbar": {
              "outlinewidth": 0,
              "ticks": ""
             }
            },
            "type": "parcoords"
           }
          ],
          "pie": [
           {
            "automargin": true,
            "type": "pie"
           }
          ],
          "scatter": [
           {
            "fillpattern": {
             "fillmode": "overlay",
             "size": 10,
             "solidity": 0.2
            },
            "type": "scatter"
           }
          ],
          "scatter3d": [
           {
            "line": {
             "colorbar": {
              "outlinewidth": 0,
              "ticks": ""
             }
            },
            "marker": {
             "colorbar": {
              "outlinewidth": 0,
              "ticks": ""
             }
            },
            "type": "scatter3d"
           }
          ],
          "scattercarpet": [
           {
            "marker": {
             "colorbar": {
              "outlinewidth": 0,
              "ticks": ""
             }
            },
            "type": "scattercarpet"
           }
          ],
          "scattergeo": [
           {
            "marker": {
             "colorbar": {
              "outlinewidth": 0,
              "ticks": ""
             }
            },
            "type": "scattergeo"
           }
          ],
          "scattergl": [
           {
            "marker": {
             "colorbar": {
              "outlinewidth": 0,
              "ticks": ""
             }
            },
            "type": "scattergl"
           }
          ],
          "scattermap": [
           {
            "marker": {
             "colorbar": {
              "outlinewidth": 0,
              "ticks": ""
             }
            },
            "type": "scattermap"
           }
          ],
          "scattermapbox": [
           {
            "marker": {
             "colorbar": {
              "outlinewidth": 0,
              "ticks": ""
             }
            },
            "type": "scattermapbox"
           }
          ],
          "scatterpolar": [
           {
            "marker": {
             "colorbar": {
              "outlinewidth": 0,
              "ticks": ""
             }
            },
            "type": "scatterpolar"
           }
          ],
          "scatterpolargl": [
           {
            "marker": {
             "colorbar": {
              "outlinewidth": 0,
              "ticks": ""
             }
            },
            "type": "scatterpolargl"
           }
          ],
          "scatterternary": [
           {
            "marker": {
             "colorbar": {
              "outlinewidth": 0,
              "ticks": ""
             }
            },
            "type": "scatterternary"
           }
          ],
          "surface": [
           {
            "colorbar": {
             "outlinewidth": 0,
             "ticks": ""
            },
            "colorscale": [
             [
              0,
              "#0d0887"
             ],
             [
              0.1111111111111111,
              "#46039f"
             ],
             [
              0.2222222222222222,
              "#7201a8"
             ],
             [
              0.3333333333333333,
              "#9c179e"
             ],
             [
              0.4444444444444444,
              "#bd3786"
             ],
             [
              0.5555555555555556,
              "#d8576b"
             ],
             [
              0.6666666666666666,
              "#ed7953"
             ],
             [
              0.7777777777777778,
              "#fb9f3a"
             ],
             [
              0.8888888888888888,
              "#fdca26"
             ],
             [
              1,
              "#f0f921"
             ]
            ],
            "type": "surface"
           }
          ],
          "table": [
           {
            "cells": {
             "fill": {
              "color": "#EBF0F8"
             },
             "line": {
              "color": "white"
             }
            },
            "header": {
             "fill": {
              "color": "#C8D4E3"
             },
             "line": {
              "color": "white"
             }
            },
            "type": "table"
           }
          ]
         },
         "layout": {
          "annotationdefaults": {
           "arrowcolor": "#2a3f5f",
           "arrowhead": 0,
           "arrowwidth": 1
          },
          "autotypenumbers": "strict",
          "coloraxis": {
           "colorbar": {
            "outlinewidth": 0,
            "ticks": ""
           }
          },
          "colorscale": {
           "diverging": [
            [
             0,
             "#8e0152"
            ],
            [
             0.1,
             "#c51b7d"
            ],
            [
             0.2,
             "#de77ae"
            ],
            [
             0.3,
             "#f1b6da"
            ],
            [
             0.4,
             "#fde0ef"
            ],
            [
             0.5,
             "#f7f7f7"
            ],
            [
             0.6,
             "#e6f5d0"
            ],
            [
             0.7,
             "#b8e186"
            ],
            [
             0.8,
             "#7fbc41"
            ],
            [
             0.9,
             "#4d9221"
            ],
            [
             1,
             "#276419"
            ]
           ],
           "sequential": [
            [
             0,
             "#0d0887"
            ],
            [
             0.1111111111111111,
             "#46039f"
            ],
            [
             0.2222222222222222,
             "#7201a8"
            ],
            [
             0.3333333333333333,
             "#9c179e"
            ],
            [
             0.4444444444444444,
             "#bd3786"
            ],
            [
             0.5555555555555556,
             "#d8576b"
            ],
            [
             0.6666666666666666,
             "#ed7953"
            ],
            [
             0.7777777777777778,
             "#fb9f3a"
            ],
            [
             0.8888888888888888,
             "#fdca26"
            ],
            [
             1,
             "#f0f921"
            ]
           ],
           "sequentialminus": [
            [
             0,
             "#0d0887"
            ],
            [
             0.1111111111111111,
             "#46039f"
            ],
            [
             0.2222222222222222,
             "#7201a8"
            ],
            [
             0.3333333333333333,
             "#9c179e"
            ],
            [
             0.4444444444444444,
             "#bd3786"
            ],
            [
             0.5555555555555556,
             "#d8576b"
            ],
            [
             0.6666666666666666,
             "#ed7953"
            ],
            [
             0.7777777777777778,
             "#fb9f3a"
            ],
            [
             0.8888888888888888,
             "#fdca26"
            ],
            [
             1,
             "#f0f921"
            ]
           ]
          },
          "colorway": [
           "#636efa",
           "#EF553B",
           "#00cc96",
           "#ab63fa",
           "#FFA15A",
           "#19d3f3",
           "#FF6692",
           "#B6E880",
           "#FF97FF",
           "#FECB52"
          ],
          "font": {
           "color": "#2a3f5f"
          },
          "geo": {
           "bgcolor": "white",
           "lakecolor": "white",
           "landcolor": "white",
           "showlakes": true,
           "showland": true,
           "subunitcolor": "#C8D4E3"
          },
          "hoverlabel": {
           "align": "left"
          },
          "hovermode": "closest",
          "mapbox": {
           "style": "light"
          },
          "paper_bgcolor": "white",
          "plot_bgcolor": "white",
          "polar": {
           "angularaxis": {
            "gridcolor": "#EBF0F8",
            "linecolor": "#EBF0F8",
            "ticks": ""
           },
           "bgcolor": "white",
           "radialaxis": {
            "gridcolor": "#EBF0F8",
            "linecolor": "#EBF0F8",
            "ticks": ""
           }
          },
          "scene": {
           "xaxis": {
            "backgroundcolor": "white",
            "gridcolor": "#DFE8F3",
            "gridwidth": 2,
            "linecolor": "#EBF0F8",
            "showbackground": true,
            "ticks": "",
            "zerolinecolor": "#EBF0F8"
           },
           "yaxis": {
            "backgroundcolor": "white",
            "gridcolor": "#DFE8F3",
            "gridwidth": 2,
            "linecolor": "#EBF0F8",
            "showbackground": true,
            "ticks": "",
            "zerolinecolor": "#EBF0F8"
           },
           "zaxis": {
            "backgroundcolor": "white",
            "gridcolor": "#DFE8F3",
            "gridwidth": 2,
            "linecolor": "#EBF0F8",
            "showbackground": true,
            "ticks": "",
            "zerolinecolor": "#EBF0F8"
           }
          },
          "shapedefaults": {
           "line": {
            "color": "#2a3f5f"
           }
          },
          "ternary": {
           "aaxis": {
            "gridcolor": "#DFE8F3",
            "linecolor": "#A2B1C6",
            "ticks": ""
           },
           "baxis": {
            "gridcolor": "#DFE8F3",
            "linecolor": "#A2B1C6",
            "ticks": ""
           },
           "bgcolor": "white",
           "caxis": {
            "gridcolor": "#DFE8F3",
            "linecolor": "#A2B1C6",
            "ticks": ""
           }
          },
          "title": {
           "x": 0.05
          },
          "xaxis": {
           "automargin": true,
           "gridcolor": "#EBF0F8",
           "linecolor": "#EBF0F8",
           "ticks": "",
           "title": {
            "standoff": 15
           },
           "zerolinecolor": "#EBF0F8",
           "zerolinewidth": 2
          },
          "yaxis": {
           "automargin": true,
           "gridcolor": "#EBF0F8",
           "linecolor": "#EBF0F8",
           "ticks": "",
           "title": {
            "standoff": 15
           },
           "zerolinecolor": "#EBF0F8",
           "zerolinewidth": 2
          }
         }
        },
        "title": {
         "text": "Mileage Bell Curve (KDE)"
        },
        "xaxis": {
         "anchor": "y",
         "domain": [
          0,
          1
         ],
         "title": {
          "text": "Mileage"
         }
        },
        "yaxis": {
         "anchor": "x",
         "domain": [
          0,
          1
         ],
         "title": {
          "text": "Density"
         }
        }
       }
      }
     },
     "metadata": {},
     "output_type": "display_data"
    }
   ],
   "source": [
    "mileage = data['mileage'].dropna()\n",
    "\n",
    "kde = gaussian_kde(mileage)\n",
    "x = np.linspace(mileage.min(), mileage.max(), 500)\n",
    "y = kde(x)\n",
    "\n",
    "fig = px.line(x=x, y=y, labels={'x': 'Mileage', 'y': 'Density'}, title='Mileage Bell Curve (KDE)')\n",
    "fig.update_layout(template='plotly_white')\n",
    "\n",
    "fig.show()"
   ]
  },
  {
   "cell_type": "code",
   "execution_count": 50,
   "id": "ba446319-3fa9-4d90-8730-930c327a730b",
   "metadata": {},
   "outputs": [
    {
     "data": {
      "text/plain": [
       "np.int64(494)"
      ]
     },
     "execution_count": 50,
     "metadata": {},
     "output_type": "execute_result"
    }
   ],
   "source": [
    "data['mileage'].isnull().sum()"
   ]
  },
  {
   "cell_type": "code",
   "execution_count": 51,
   "id": "6e7d7bfc-5ac4-41ce-a035-3a6af40e7910",
   "metadata": {},
   "outputs": [],
   "source": [
    "data['age'] = 2023 - data['year']\n",
    "\n",
    "data['age_group'] = pd.cut(\n",
    "    data['age'],\n",
    "    bins=[0, 20, 40, 80, 108],\n",
    "    labels=['0-20', '21-40', '41-80', '81+']\n",
    ")\n",
    "\n",
    "df_20 = data[data['age_group'] == '0-20']\n",
    "df_40 = data[data['age_group'] == '21-40']\n",
    "df_80 = data[data['age_group'] == '41-80']\n",
    "df_80_plus = data[data['age_group'] == '81+']"
   ]
  },
  {
   "cell_type": "code",
   "execution_count": 52,
   "id": "7aafd60e-160f-475d-8b75-2fd45ecf5174",
   "metadata": {},
   "outputs": [
    {
     "data": {
      "text/plain": [
       "count    7.205360e+05\n",
       "mean     5.720791e+04\n",
       "std      4.274810e+04\n",
       "min      0.000000e+00\n",
       "25%      2.513800e+04\n",
       "50%      4.737700e+04\n",
       "75%      7.971500e+04\n",
       "max      1.119067e+06\n",
       "Name: mileage, dtype: float64"
      ]
     },
     "execution_count": 52,
     "metadata": {},
     "output_type": "execute_result"
    }
   ],
   "source": [
    "df_20['mileage'].describe()"
   ]
  },
  {
   "cell_type": "code",
   "execution_count": 53,
   "id": "984463fe-47f5-4adb-b099-5108431e7da0",
   "metadata": {},
   "outputs": [
    {
     "data": {
      "text/plain": [
       "count      6560.000000\n",
       "mean     108493.888262\n",
       "std       71424.333383\n",
       "min           0.000000\n",
       "25%       55545.250000\n",
       "50%       97956.000000\n",
       "75%      153028.250000\n",
       "max      999999.000000\n",
       "Name: mileage, dtype: float64"
      ]
     },
     "execution_count": 53,
     "metadata": {},
     "output_type": "execute_result"
    }
   ],
   "source": [
    "df_40['mileage'].describe()"
   ]
  },
  {
   "cell_type": "code",
   "execution_count": 54,
   "id": "71098bd0-8442-49ed-b566-1cbd93d22653",
   "metadata": {},
   "outputs": [
    {
     "data": {
      "text/plain": [
       "count      1765.000000\n",
       "mean      39732.109915\n",
       "std       45063.490053\n",
       "min           0.000000\n",
       "25%        3400.000000\n",
       "50%       31787.000000\n",
       "75%       67752.000000\n",
       "max      999999.000000\n",
       "Name: mileage, dtype: float64"
      ]
     },
     "execution_count": 54,
     "metadata": {},
     "output_type": "execute_result"
    }
   ],
   "source": [
    "df_80['mileage'].describe()"
   ]
  },
  {
   "cell_type": "code",
   "execution_count": 55,
   "id": "c1f85b5a-93a2-45be-9100-8a8d201f6913",
   "metadata": {},
   "outputs": [
    {
     "data": {
      "text/plain": [
       "count      125.000000\n",
       "mean     19424.088000\n",
       "std      27020.034248\n",
       "min          0.000000\n",
       "25%        142.000000\n",
       "50%       5724.000000\n",
       "75%      28844.000000\n",
       "max      99944.000000\n",
       "Name: mileage, dtype: float64"
      ]
     },
     "execution_count": 55,
     "metadata": {},
     "output_type": "execute_result"
    }
   ],
   "source": [
    "df_80_plus['mileage'].describe()"
   ]
  },
  {
   "cell_type": "code",
   "execution_count": 56,
   "id": "6c10a3fe-5cae-4f2a-af23-c75e1ad54697",
   "metadata": {},
   "outputs": [
    {
     "name": "stdout",
     "output_type": "stream",
     "text": [
      "✅ Mileage nulls remaining: 0\n"
     ]
    }
   ],
   "source": [
    "data.loc[(data['age'] >= 0) & (data['age'] <= 20) & (data['mileage'].isna()), 'mileage'] = 46625.0\n",
    "data.loc[(data['age'] > 20) & (data['age'] <= 40) & (data['mileage'].isna()), 'mileage'] = 97518.5\n",
    "data.loc[(data['age'] > 40) & (data['age'] <= 80) & (data['mileage'].isna()), 'mileage'] = 27995.5\n",
    "data.loc[(data['age'] > 80) & (data['mileage'].isna()), 'mileage'] = 5559.5\n",
    "\n",
    "data.fillna({'mileage': data['mileage'].median()}, inplace=True)\n",
    "\n",
    "\n",
    "missing_count = data['mileage'].isna().sum()\n",
    "print(f\"✅ Mileage nulls remaining: {missing_count}\")\n"
   ]
  },
  {
   "cell_type": "code",
   "execution_count": 57,
   "id": "c8709ebe-d23d-446a-82b6-121185c4b4cc",
   "metadata": {},
   "outputs": [
    {
     "data": {
      "application/vnd.plotly.v1+json": {
       "config": {
        "plotlyServerURL": "https://plot.ly"
       },
       "data": [
        {
         "hovertemplate": "Mileage=%{x}<br>Density=%{y}<extra></extra>",
         "legendgroup": "",
         "line": {
          "color": "#636efa",
          "dash": "solid"
         },
         "marker": {
          "symbol": "circle"
         },
         "mode": "lines",
         "name": "",
         "orientation": "v",
         "showlegend": false,
         "type": "scatter",
         "x": {
          "bdata": "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",
          "dtype": "f8"
         },
         "xaxis": "x",
         "y": {
          "bdata": "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",
          "dtype": "f8"
         },
         "yaxis": "y"
        }
       ],
       "layout": {
        "legend": {
         "tracegroupgap": 0
        },
        "template": {
         "data": {
          "bar": [
           {
            "error_x": {
             "color": "#2a3f5f"
            },
            "error_y": {
             "color": "#2a3f5f"
            },
            "marker": {
             "line": {
              "color": "white",
              "width": 0.5
             },
             "pattern": {
              "fillmode": "overlay",
              "size": 10,
              "solidity": 0.2
             }
            },
            "type": "bar"
           }
          ],
          "barpolar": [
           {
            "marker": {
             "line": {
              "color": "white",
              "width": 0.5
             },
             "pattern": {
              "fillmode": "overlay",
              "size": 10,
              "solidity": 0.2
             }
            },
            "type": "barpolar"
           }
          ],
          "carpet": [
           {
            "aaxis": {
             "endlinecolor": "#2a3f5f",
             "gridcolor": "#C8D4E3",
             "linecolor": "#C8D4E3",
             "minorgridcolor": "#C8D4E3",
             "startlinecolor": "#2a3f5f"
            },
            "baxis": {
             "endlinecolor": "#2a3f5f",
             "gridcolor": "#C8D4E3",
             "linecolor": "#C8D4E3",
             "minorgridcolor": "#C8D4E3",
             "startlinecolor": "#2a3f5f"
            },
            "type": "carpet"
           }
          ],
          "choropleth": [
           {
            "colorbar": {
             "outlinewidth": 0,
             "ticks": ""
            },
            "type": "choropleth"
           }
          ],
          "contour": [
           {
            "colorbar": {
             "outlinewidth": 0,
             "ticks": ""
            },
            "colorscale": [
             [
              0,
              "#0d0887"
             ],
             [
              0.1111111111111111,
              "#46039f"
             ],
             [
              0.2222222222222222,
              "#7201a8"
             ],
             [
              0.3333333333333333,
              "#9c179e"
             ],
             [
              0.4444444444444444,
              "#bd3786"
             ],
             [
              0.5555555555555556,
              "#d8576b"
             ],
             [
              0.6666666666666666,
              "#ed7953"
             ],
             [
              0.7777777777777778,
              "#fb9f3a"
             ],
             [
              0.8888888888888888,
              "#fdca26"
             ],
             [
              1,
              "#f0f921"
             ]
            ],
            "type": "contour"
           }
          ],
          "contourcarpet": [
           {
            "colorbar": {
             "outlinewidth": 0,
             "ticks": ""
            },
            "type": "contourcarpet"
           }
          ],
          "heatmap": [
           {
            "colorbar": {
             "outlinewidth": 0,
             "ticks": ""
            },
            "colorscale": [
             [
              0,
              "#0d0887"
             ],
             [
              0.1111111111111111,
              "#46039f"
             ],
             [
              0.2222222222222222,
              "#7201a8"
             ],
             [
              0.3333333333333333,
              "#9c179e"
             ],
             [
              0.4444444444444444,
              "#bd3786"
             ],
             [
              0.5555555555555556,
              "#d8576b"
             ],
             [
              0.6666666666666666,
              "#ed7953"
             ],
             [
              0.7777777777777778,
              "#fb9f3a"
             ],
             [
              0.8888888888888888,
              "#fdca26"
             ],
             [
              1,
              "#f0f921"
             ]
            ],
            "type": "heatmap"
           }
          ],
          "histogram": [
           {
            "marker": {
             "pattern": {
              "fillmode": "overlay",
              "size": 10,
              "solidity": 0.2
             }
            },
            "type": "histogram"
           }
          ],
          "histogram2d": [
           {
            "colorbar": {
             "outlinewidth": 0,
             "ticks": ""
            },
            "colorscale": [
             [
              0,
              "#0d0887"
             ],
             [
              0.1111111111111111,
              "#46039f"
             ],
             [
              0.2222222222222222,
              "#7201a8"
             ],
             [
              0.3333333333333333,
              "#9c179e"
             ],
             [
              0.4444444444444444,
              "#bd3786"
             ],
             [
              0.5555555555555556,
              "#d8576b"
             ],
             [
              0.6666666666666666,
              "#ed7953"
             ],
             [
              0.7777777777777778,
              "#fb9f3a"
             ],
             [
              0.8888888888888888,
              "#fdca26"
             ],
             [
              1,
              "#f0f921"
             ]
            ],
            "type": "histogram2d"
           }
          ],
          "histogram2dcontour": [
           {
            "colorbar": {
             "outlinewidth": 0,
             "ticks": ""
            },
            "colorscale": [
             [
              0,
              "#0d0887"
             ],
             [
              0.1111111111111111,
              "#46039f"
             ],
             [
              0.2222222222222222,
              "#7201a8"
             ],
             [
              0.3333333333333333,
              "#9c179e"
             ],
             [
              0.4444444444444444,
              "#bd3786"
             ],
             [
              0.5555555555555556,
              "#d8576b"
             ],
             [
              0.6666666666666666,
              "#ed7953"
             ],
             [
              0.7777777777777778,
              "#fb9f3a"
             ],
             [
              0.8888888888888888,
              "#fdca26"
             ],
             [
              1,
              "#f0f921"
             ]
            ],
            "type": "histogram2dcontour"
           }
          ],
          "mesh3d": [
           {
            "colorbar": {
             "outlinewidth": 0,
             "ticks": ""
            },
            "type": "mesh3d"
           }
          ],
          "parcoords": [
           {
            "line": {
             "colorbar": {
              "outlinewidth": 0,
              "ticks": ""
             }
            },
            "type": "parcoords"
           }
          ],
          "pie": [
           {
            "automargin": true,
            "type": "pie"
           }
          ],
          "scatter": [
           {
            "fillpattern": {
             "fillmode": "overlay",
             "size": 10,
             "solidity": 0.2
            },
            "type": "scatter"
           }
          ],
          "scatter3d": [
           {
            "line": {
             "colorbar": {
              "outlinewidth": 0,
              "ticks": ""
             }
            },
            "marker": {
             "colorbar": {
              "outlinewidth": 0,
              "ticks": ""
             }
            },
            "type": "scatter3d"
           }
          ],
          "scattercarpet": [
           {
            "marker": {
             "colorbar": {
              "outlinewidth": 0,
              "ticks": ""
             }
            },
            "type": "scattercarpet"
           }
          ],
          "scattergeo": [
           {
            "marker": {
             "colorbar": {
              "outlinewidth": 0,
              "ticks": ""
             }
            },
            "type": "scattergeo"
           }
          ],
          "scattergl": [
           {
            "marker": {
             "colorbar": {
              "outlinewidth": 0,
              "ticks": ""
             }
            },
            "type": "scattergl"
           }
          ],
          "scattermap": [
           {
            "marker": {
             "colorbar": {
              "outlinewidth": 0,
              "ticks": ""
             }
            },
            "type": "scattermap"
           }
          ],
          "scattermapbox": [
           {
            "marker": {
             "colorbar": {
              "outlinewidth": 0,
              "ticks": ""
             }
            },
            "type": "scattermapbox"
           }
          ],
          "scatterpolar": [
           {
            "marker": {
             "colorbar": {
              "outlinewidth": 0,
              "ticks": ""
             }
            },
            "type": "scatterpolar"
           }
          ],
          "scatterpolargl": [
           {
            "marker": {
             "colorbar": {
              "outlinewidth": 0,
              "ticks": ""
             }
            },
            "type": "scatterpolargl"
           }
          ],
          "scatterternary": [
           {
            "marker": {
             "colorbar": {
              "outlinewidth": 0,
              "ticks": ""
             }
            },
            "type": "scatterternary"
           }
          ],
          "surface": [
           {
            "colorbar": {
             "outlinewidth": 0,
             "ticks": ""
            },
            "colorscale": [
             [
              0,
              "#0d0887"
             ],
             [
              0.1111111111111111,
              "#46039f"
             ],
             [
              0.2222222222222222,
              "#7201a8"
             ],
             [
              0.3333333333333333,
              "#9c179e"
             ],
             [
              0.4444444444444444,
              "#bd3786"
             ],
             [
              0.5555555555555556,
              "#d8576b"
             ],
             [
              0.6666666666666666,
              "#ed7953"
             ],
             [
              0.7777777777777778,
              "#fb9f3a"
             ],
             [
              0.8888888888888888,
              "#fdca26"
             ],
             [
              1,
              "#f0f921"
             ]
            ],
            "type": "surface"
           }
          ],
          "table": [
           {
            "cells": {
             "fill": {
              "color": "#EBF0F8"
             },
             "line": {
              "color": "white"
             }
            },
            "header": {
             "fill": {
              "color": "#C8D4E3"
             },
             "line": {
              "color": "white"
             }
            },
            "type": "table"
           }
          ]
         },
         "layout": {
          "annotationdefaults": {
           "arrowcolor": "#2a3f5f",
           "arrowhead": 0,
           "arrowwidth": 1
          },
          "autotypenumbers": "strict",
          "coloraxis": {
           "colorbar": {
            "outlinewidth": 0,
            "ticks": ""
           }
          },
          "colorscale": {
           "diverging": [
            [
             0,
             "#8e0152"
            ],
            [
             0.1,
             "#c51b7d"
            ],
            [
             0.2,
             "#de77ae"
            ],
            [
             0.3,
             "#f1b6da"
            ],
            [
             0.4,
             "#fde0ef"
            ],
            [
             0.5,
             "#f7f7f7"
            ],
            [
             0.6,
             "#e6f5d0"
            ],
            [
             0.7,
             "#b8e186"
            ],
            [
             0.8,
             "#7fbc41"
            ],
            [
             0.9,
             "#4d9221"
            ],
            [
             1,
             "#276419"
            ]
           ],
           "sequential": [
            [
             0,
             "#0d0887"
            ],
            [
             0.1111111111111111,
             "#46039f"
            ],
            [
             0.2222222222222222,
             "#7201a8"
            ],
            [
             0.3333333333333333,
             "#9c179e"
            ],
            [
             0.4444444444444444,
             "#bd3786"
            ],
            [
             0.5555555555555556,
             "#d8576b"
            ],
            [
             0.6666666666666666,
             "#ed7953"
            ],
            [
             0.7777777777777778,
             "#fb9f3a"
            ],
            [
             0.8888888888888888,
             "#fdca26"
            ],
            [
             1,
             "#f0f921"
            ]
           ],
           "sequentialminus": [
            [
             0,
             "#0d0887"
            ],
            [
             0.1111111111111111,
             "#46039f"
            ],
            [
             0.2222222222222222,
             "#7201a8"
            ],
            [
             0.3333333333333333,
             "#9c179e"
            ],
            [
             0.4444444444444444,
             "#bd3786"
            ],
            [
             0.5555555555555556,
             "#d8576b"
            ],
            [
             0.6666666666666666,
             "#ed7953"
            ],
            [
             0.7777777777777778,
             "#fb9f3a"
            ],
            [
             0.8888888888888888,
             "#fdca26"
            ],
            [
             1,
             "#f0f921"
            ]
           ]
          },
          "colorway": [
           "#636efa",
           "#EF553B",
           "#00cc96",
           "#ab63fa",
           "#FFA15A",
           "#19d3f3",
           "#FF6692",
           "#B6E880",
           "#FF97FF",
           "#FECB52"
          ],
          "font": {
           "color": "#2a3f5f"
          },
          "geo": {
           "bgcolor": "white",
           "lakecolor": "white",
           "landcolor": "white",
           "showlakes": true,
           "showland": true,
           "subunitcolor": "#C8D4E3"
          },
          "hoverlabel": {
           "align": "left"
          },
          "hovermode": "closest",
          "mapbox": {
           "style": "light"
          },
          "paper_bgcolor": "white",
          "plot_bgcolor": "white",
          "polar": {
           "angularaxis": {
            "gridcolor": "#EBF0F8",
            "linecolor": "#EBF0F8",
            "ticks": ""
           },
           "bgcolor": "white",
           "radialaxis": {
            "gridcolor": "#EBF0F8",
            "linecolor": "#EBF0F8",
            "ticks": ""
           }
          },
          "scene": {
           "xaxis": {
            "backgroundcolor": "white",
            "gridcolor": "#DFE8F3",
            "gridwidth": 2,
            "linecolor": "#EBF0F8",
            "showbackground": true,
            "ticks": "",
            "zerolinecolor": "#EBF0F8"
           },
           "yaxis": {
            "backgroundcolor": "white",
            "gridcolor": "#DFE8F3",
            "gridwidth": 2,
            "linecolor": "#EBF0F8",
            "showbackground": true,
            "ticks": "",
            "zerolinecolor": "#EBF0F8"
           },
           "zaxis": {
            "backgroundcolor": "white",
            "gridcolor": "#DFE8F3",
            "gridwidth": 2,
            "linecolor": "#EBF0F8",
            "showbackground": true,
            "ticks": "",
            "zerolinecolor": "#EBF0F8"
           }
          },
          "shapedefaults": {
           "line": {
            "color": "#2a3f5f"
           }
          },
          "ternary": {
           "aaxis": {
            "gridcolor": "#DFE8F3",
            "linecolor": "#A2B1C6",
            "ticks": ""
           },
           "baxis": {
            "gridcolor": "#DFE8F3",
            "linecolor": "#A2B1C6",
            "ticks": ""
           },
           "bgcolor": "white",
           "caxis": {
            "gridcolor": "#DFE8F3",
            "linecolor": "#A2B1C6",
            "ticks": ""
           }
          },
          "title": {
           "x": 0.05
          },
          "xaxis": {
           "automargin": true,
           "gridcolor": "#EBF0F8",
           "linecolor": "#EBF0F8",
           "ticks": "",
           "title": {
            "standoff": 15
           },
           "zerolinecolor": "#EBF0F8",
           "zerolinewidth": 2
          },
          "yaxis": {
           "automargin": true,
           "gridcolor": "#EBF0F8",
           "linecolor": "#EBF0F8",
           "ticks": "",
           "title": {
            "standoff": 15
           },
           "zerolinecolor": "#EBF0F8",
           "zerolinewidth": 2
          }
         }
        },
        "title": {
         "text": "Mileage Bell Curve (KDE)"
        },
        "xaxis": {
         "anchor": "y",
         "domain": [
          0,
          1
         ],
         "title": {
          "text": "Mileage"
         }
        },
        "yaxis": {
         "anchor": "x",
         "domain": [
          0,
          1
         ],
         "title": {
          "text": "Density"
         }
        }
       }
      }
     },
     "metadata": {},
     "output_type": "display_data"
    }
   ],
   "source": [
    "from scipy.stats import gaussian_kde\n",
    "\n",
    "kde = gaussian_kde(data['mileage'])\n",
    "x = np.linspace(data['mileage'].min(), data['mileage'].max(), 500)\n",
    "y = kde(x)\n",
    "\n",
    "fig = px.line(x=x, y=y, labels={'x': 'Mileage', 'y': 'Density'}, title='Mileage Bell Curve (KDE)')\n",
    "fig.update_layout(template='plotly_white')\n",
    "\n",
    "fig.show()"
   ]
  },
  {
   "cell_type": "code",
   "execution_count": 58,
   "id": "c3fe62a1",
   "metadata": {},
   "outputs": [
    {
     "data": {
      "text/html": [
       "<div>\n",
       "<style scoped>\n",
       "    .dataframe tbody tr th:only-of-type {\n",
       "        vertical-align: middle;\n",
       "    }\n",
       "\n",
       "    .dataframe tbody tr th {\n",
       "        vertical-align: top;\n",
       "    }\n",
       "\n",
       "    .dataframe thead th {\n",
       "        text-align: right;\n",
       "    }\n",
       "</style>\n",
       "<table border=\"1\" class=\"dataframe\">\n",
       "  <thead>\n",
       "    <tr style=\"text-align: right;\">\n",
       "      <th></th>\n",
       "      <th>Column</th>\n",
       "      <th>Unique Values</th>\n",
       "      <th>null values</th>\n",
       "    </tr>\n",
       "  </thead>\n",
       "  <tbody>\n",
       "    <tr>\n",
       "      <th>0</th>\n",
       "      <td>manufacturer</td>\n",
       "      <td>30</td>\n",
       "      <td>0</td>\n",
       "    </tr>\n",
       "    <tr>\n",
       "      <th>1</th>\n",
       "      <td>model</td>\n",
       "      <td>11818</td>\n",
       "      <td>0</td>\n",
       "    </tr>\n",
       "    <tr>\n",
       "      <th>2</th>\n",
       "      <td>year</td>\n",
       "      <td>98</td>\n",
       "      <td>0</td>\n",
       "    </tr>\n",
       "    <tr>\n",
       "      <th>3</th>\n",
       "      <td>mileage</td>\n",
       "      <td>158674</td>\n",
       "      <td>0</td>\n",
       "    </tr>\n",
       "    <tr>\n",
       "      <th>4</th>\n",
       "      <td>engine</td>\n",
       "      <td>6808</td>\n",
       "      <td>0</td>\n",
       "    </tr>\n",
       "    <tr>\n",
       "      <th>5</th>\n",
       "      <td>transmission</td>\n",
       "      <td>6</td>\n",
       "      <td>0</td>\n",
       "    </tr>\n",
       "    <tr>\n",
       "      <th>6</th>\n",
       "      <td>drivetrain</td>\n",
       "      <td>27</td>\n",
       "      <td>8765</td>\n",
       "    </tr>\n",
       "    <tr>\n",
       "      <th>7</th>\n",
       "      <td>fuel_type</td>\n",
       "      <td>8</td>\n",
       "      <td>0</td>\n",
       "    </tr>\n",
       "    <tr>\n",
       "      <th>8</th>\n",
       "      <td>mpg</td>\n",
       "      <td>865</td>\n",
       "      <td>127438</td>\n",
       "    </tr>\n",
       "    <tr>\n",
       "      <th>9</th>\n",
       "      <td>exterior_color</td>\n",
       "      <td>7549</td>\n",
       "      <td>0</td>\n",
       "    </tr>\n",
       "    <tr>\n",
       "      <th>10</th>\n",
       "      <td>interior_color</td>\n",
       "      <td>4371</td>\n",
       "      <td>0</td>\n",
       "    </tr>\n",
       "    <tr>\n",
       "      <th>11</th>\n",
       "      <td>accidents_or_damage</td>\n",
       "      <td>3</td>\n",
       "      <td>0</td>\n",
       "    </tr>\n",
       "    <tr>\n",
       "      <th>12</th>\n",
       "      <td>one_owner</td>\n",
       "      <td>3</td>\n",
       "      <td>0</td>\n",
       "    </tr>\n",
       "    <tr>\n",
       "      <th>13</th>\n",
       "      <td>personal_use_only</td>\n",
       "      <td>3</td>\n",
       "      <td>0</td>\n",
       "    </tr>\n",
       "    <tr>\n",
       "      <th>14</th>\n",
       "      <td>seller_name</td>\n",
       "      <td>17032</td>\n",
       "      <td>0</td>\n",
       "    </tr>\n",
       "    <tr>\n",
       "      <th>15</th>\n",
       "      <td>seller_rating</td>\n",
       "      <td>41</td>\n",
       "      <td>208512</td>\n",
       "    </tr>\n",
       "    <tr>\n",
       "      <th>16</th>\n",
       "      <td>driver_rating</td>\n",
       "      <td>35</td>\n",
       "      <td>30441</td>\n",
       "    </tr>\n",
       "    <tr>\n",
       "      <th>17</th>\n",
       "      <td>driver_reviews_num</td>\n",
       "      <td>369</td>\n",
       "      <td>0</td>\n",
       "    </tr>\n",
       "    <tr>\n",
       "      <th>18</th>\n",
       "      <td>price_drop</td>\n",
       "      <td>6347</td>\n",
       "      <td>340895</td>\n",
       "    </tr>\n",
       "    <tr>\n",
       "      <th>19</th>\n",
       "      <td>price</td>\n",
       "      <td>62850</td>\n",
       "      <td>0</td>\n",
       "    </tr>\n",
       "    <tr>\n",
       "      <th>20</th>\n",
       "      <td>engine_size</td>\n",
       "      <td>9</td>\n",
       "      <td>38746</td>\n",
       "    </tr>\n",
       "    <tr>\n",
       "      <th>21</th>\n",
       "      <td>cylinders</td>\n",
       "      <td>13</td>\n",
       "      <td>119834</td>\n",
       "    </tr>\n",
       "    <tr>\n",
       "      <th>22</th>\n",
       "      <td>valves</td>\n",
       "      <td>15</td>\n",
       "      <td>116303</td>\n",
       "    </tr>\n",
       "    <tr>\n",
       "      <th>23</th>\n",
       "      <td>aspiration</td>\n",
       "      <td>6</td>\n",
       "      <td>505340</td>\n",
       "    </tr>\n",
       "    <tr>\n",
       "      <th>24</th>\n",
       "      <td>fuel_type_2</td>\n",
       "      <td>9</td>\n",
       "      <td>614874</td>\n",
       "    </tr>\n",
       "    <tr>\n",
       "      <th>25</th>\n",
       "      <td>injection_system</td>\n",
       "      <td>14</td>\n",
       "      <td>86300</td>\n",
       "    </tr>\n",
       "    <tr>\n",
       "      <th>26</th>\n",
       "      <td>configuration</td>\n",
       "      <td>6</td>\n",
       "      <td>71669</td>\n",
       "    </tr>\n",
       "    <tr>\n",
       "      <th>27</th>\n",
       "      <td>horsepower</td>\n",
       "      <td>658</td>\n",
       "      <td>721964</td>\n",
       "    </tr>\n",
       "    <tr>\n",
       "      <th>28</th>\n",
       "      <td>fuel_category</td>\n",
       "      <td>9</td>\n",
       "      <td>614874</td>\n",
       "    </tr>\n",
       "    <tr>\n",
       "      <th>29</th>\n",
       "      <td>ENGINE_DETAILS</td>\n",
       "      <td>643</td>\n",
       "      <td>0</td>\n",
       "    </tr>\n",
       "    <tr>\n",
       "      <th>30</th>\n",
       "      <td>age</td>\n",
       "      <td>98</td>\n",
       "      <td>0</td>\n",
       "    </tr>\n",
       "    <tr>\n",
       "      <th>31</th>\n",
       "      <td>age_group</td>\n",
       "      <td>4</td>\n",
       "      <td>17700</td>\n",
       "    </tr>\n",
       "  </tbody>\n",
       "</table>\n",
       "</div>"
      ],
      "text/plain": [
       "                 Column  Unique Values  null values\n",
       "0          manufacturer             30            0\n",
       "1                 model          11818            0\n",
       "2                  year             98            0\n",
       "3               mileage         158674            0\n",
       "4                engine           6808            0\n",
       "5          transmission              6            0\n",
       "6            drivetrain             27         8765\n",
       "7             fuel_type              8            0\n",
       "8                   mpg            865       127438\n",
       "9        exterior_color           7549            0\n",
       "10       interior_color           4371            0\n",
       "11  accidents_or_damage              3            0\n",
       "12            one_owner              3            0\n",
       "13    personal_use_only              3            0\n",
       "14          seller_name          17032            0\n",
       "15        seller_rating             41       208512\n",
       "16        driver_rating             35        30441\n",
       "17   driver_reviews_num            369            0\n",
       "18           price_drop           6347       340895\n",
       "19                price          62850            0\n",
       "20          engine_size              9        38746\n",
       "21            cylinders             13       119834\n",
       "22               valves             15       116303\n",
       "23           aspiration              6       505340\n",
       "24          fuel_type_2              9       614874\n",
       "25     injection_system             14        86300\n",
       "26        configuration              6        71669\n",
       "27           horsepower            658       721964\n",
       "28        fuel_category              9       614874\n",
       "29       ENGINE_DETAILS            643            0\n",
       "30                  age             98            0\n",
       "31            age_group              4        17700"
      ]
     },
     "metadata": {},
     "output_type": "display_data"
    }
   ],
   "source": [
    "columns_info(data)"
   ]
  },
  {
   "cell_type": "code",
   "execution_count": 59,
   "id": "f47c2975",
   "metadata": {},
   "outputs": [],
   "source": [
    "data['age_group'] = data['age_group'].fillna('0-20')\n"
   ]
  },
  {
   "cell_type": "markdown",
   "id": "4d26a949",
   "metadata": {},
   "source": [
    "## drivetrain column"
   ]
  },
  {
   "cell_type": "code",
   "execution_count": 60,
   "id": "d156c43a-798f-4bc4-8194-6de6f76aa16b",
   "metadata": {},
   "outputs": [],
   "source": [
    "# Define a mapping dictionary\n",
    "engine_mapping = {\n",
    "    # Front-wheel Drive variations\n",
    "    'Front-wheel Drive': 'FWD',\n",
    "    'Front-Wheel Drive': 'FWD',\n",
    "    'Front Wheel Drive': 'FWD',\n",
    "    'Front-Wheel Drive with Limited-Slip Differential': 'FWD',\n",
    "\n",
    "    # Rear-wheel Drive variations\n",
    "    'Rear-wheel Drive': 'RWD',\n",
    "    'Rear-Wheel Drive': 'RWD',\n",
    "    'Rear Wheel Drive': 'RWD',\n",
    "    'Rear-Wheel Drive with Limited-Slip Differential': 'RWD',\n",
    "\n",
    "    # All-wheel Drive variations\n",
    "    'All-wheel Drive': 'AWD',\n",
    "    'All-Wheel Drive': 'AWD',\n",
    "    'All Wheel Drive': 'AWD',\n",
    "    'All-Wheel Drive with Locking and Limited-Slip Differential': 'AWD',\n",
    "    'All-Wheel Drive with Locking Differential': 'AWD',\n",
    "\n",
    "    # Four-wheel Drive (4WD / 4x4) variations\n",
    "    'Four-wheel Drive': '4WD',\n",
    "    'Four-Wheel Drive': '4WD',\n",
    "    'Four Wheel Drive': '4WD',\n",
    "    'Four-Wheel Drive with Locking and Limited-Slip Differential': '4WD',\n",
    "    'Four-Wheel Drive with Locking Differential': '4WD',\n",
    "    '4WD': '4WD',\n",
    "    '4x4': '4WD',\n",
    "    '4X4': '4WD',\n",
    "    '4x2': '2WD',\n",
    "    '2WD': '2WD',\n",
    "\n",
    "    # Already short forms — map to themselves (optional but safe)\n",
    "    'FWD': 'FWD',\n",
    "    'RWD': 'RWD',\n",
    "    'AWD': 'AWD',\n",
    "\n",
    "    # Optional cleanup\n",
    "    'Unknown': 'Unknown',\n",
    "    float('nan'): 'Unknown' \n",
    "}\n",
    "data['drivetrain'] = data['drivetrain'].map(engine_mapping)"
   ]
  },
  {
   "cell_type": "markdown",
   "id": "de4a15ad",
   "metadata": {},
   "source": []
  },
  {
   "cell_type": "code",
   "execution_count": 61,
   "id": "e54eec2e",
   "metadata": {},
   "outputs": [
    {
     "data": {
      "text/plain": [
       "count    538529.000000\n",
       "mean          4.156340\n",
       "std           0.805793\n",
       "min           1.000000\n",
       "25%           3.800000\n",
       "50%           4.500000\n",
       "75%           4.700000\n",
       "max           5.000000\n",
       "Name: seller_rating, dtype: float64"
      ]
     },
     "execution_count": 61,
     "metadata": {},
     "output_type": "execute_result"
    }
   ],
   "source": [
    "data['seller_rating'].describe()"
   ]
  },
  {
   "cell_type": "code",
   "execution_count": 62,
   "id": "75dbcfdf",
   "metadata": {},
   "outputs": [],
   "source": [
    "# data = data.drop(columns=['exterior_color','interior_color'],axis =1)"
   ]
  },
  {
   "cell_type": "markdown",
   "id": "25490662",
   "metadata": {},
   "source": [
    "### MPG [mileage per gallon] column"
   ]
  },
  {
   "cell_type": "code",
   "execution_count": 141,
   "id": "95536de7",
   "metadata": {},
   "outputs": [
    {
     "data": {
      "text/plain": [
       "array([ 38.,  nan,  21.,  20.,  10.,  22.,  19.,  29.,  30.,  26.,  35.,\n",
       "        17.,  12.,  27.,  28.,  32.,  31.,  33.,  25.,  24.,  23.,   9.,\n",
       "         8.,  34.,  11.,  18.,  15.,  16.,   6.,  36.,  37.,  77.,  13.,\n",
       "        94.,  86.,   7.,  14.,  76.,  72.,  69.,  56.,   5.,  42.,  71.,\n",
       "        41.,  39., 127.,  40.,  43.,  66.,  81.,  60.,   4.,  47.,  48.,\n",
       "        52.,  45.,  44.,  50.,  58.,  54.,  55.,  59.,  73., 121.,  49.,\n",
       "        46.,  53., 102., 118.])"
      ]
     },
     "execution_count": 141,
     "metadata": {},
     "output_type": "execute_result"
    }
   ],
   "source": [
    "def clean_mpg(val):\n",
    "    try:\n",
    "        if pd.isna(val):\n",
    "            return np.nan\n",
    "            \n",
    "        parts = val.split('-')\n",
    "        low = float(parts[0])\n",
    "        high = float(parts[1])\n",
    "        \n",
    "        if low == 0 and high == 0:\n",
    "            return np.nan\n",
    "            \n",
    "        return (low + high) //2\n",
    "        \n",
    "    except:\n",
    "        return np.nan\n",
    "\n",
    "data['mpg'] = data['mpg'].apply(clean_mpg)\n",
    "data['mpg'].unique()"
   ]
  },
  {
   "cell_type": "code",
   "execution_count": 64,
   "id": "ca728aac",
   "metadata": {},
   "outputs": [
    {
     "data": {
      "text/plain": [
       "array(['gasoline', 'hybrid', 'electric', 'diesel', 'flex fuel',\n",
       "       'plug-in hybrid', 'bi-fuel', 'hydrogen'], dtype=object)"
      ]
     },
     "execution_count": 64,
     "metadata": {},
     "output_type": "execute_result"
    }
   ],
   "source": [
    "data['fuel_type'].unique()"
   ]
  },
  {
   "cell_type": "code",
   "execution_count": 65,
   "id": "61b36a9f",
   "metadata": {},
   "outputs": [],
   "source": [
    "gasoline = data[data['fuel_type'] == 'gasoline']\n",
    "hybrid = data[data['fuel_type'] == 'hybrid']\n",
    "\n",
    "electric = data[data['fuel_type'] == 'electric']\n",
    "\n",
    "diesel = data[data['fuel_type'] == 'diesel']\n",
    "\n",
    "flex_fuel = data[data['fuel_type'] == 'flex fuel']\n",
    "\n",
    "hydrogen = data[data['fuel_type'] == 'hydrogen']\n",
    "plug_in_hybrid = data[data['fuel_type'] == 'plug in hybrid']\n",
    "bi_fuel = data[data['fuel_type'] == 'bi-fuel']\n"
   ]
  },
  {
   "cell_type": "code",
   "execution_count": 66,
   "id": "997a3d56",
   "metadata": {},
   "outputs": [],
   "source": [
    "## Replace all different sub category with mean #############\n",
    "\n",
    "for fuel in data['fuel_type'].unique():\n",
    "    mean_val = data.loc[data['fuel_type'] == fuel, 'mpg'].mean()\n",
    "    data.loc[(data['fuel_type'] == fuel) & (data['mpg'].isna()), 'mpg'] = mean_val"
   ]
  },
  {
   "cell_type": "code",
   "execution_count": null,
   "id": "2b12362a",
   "metadata": {},
   "outputs": [],
   "source": []
  },
  {
   "cell_type": "code",
   "execution_count": 67,
   "id": "2cbaac39",
   "metadata": {},
   "outputs": [
    {
     "data": {
      "text/html": [
       "<div>\n",
       "<style scoped>\n",
       "    .dataframe tbody tr th:only-of-type {\n",
       "        vertical-align: middle;\n",
       "    }\n",
       "\n",
       "    .dataframe tbody tr th {\n",
       "        vertical-align: top;\n",
       "    }\n",
       "\n",
       "    .dataframe thead th {\n",
       "        text-align: right;\n",
       "    }\n",
       "</style>\n",
       "<table border=\"1\" class=\"dataframe\">\n",
       "  <thead>\n",
       "    <tr style=\"text-align: right;\">\n",
       "      <th></th>\n",
       "      <th>manufacturer</th>\n",
       "      <th>model</th>\n",
       "      <th>year</th>\n",
       "      <th>mileage</th>\n",
       "      <th>engine</th>\n",
       "      <th>transmission</th>\n",
       "      <th>drivetrain</th>\n",
       "      <th>fuel_type</th>\n",
       "      <th>mpg</th>\n",
       "      <th>exterior_color</th>\n",
       "      <th>...</th>\n",
       "      <th>valves</th>\n",
       "      <th>aspiration</th>\n",
       "      <th>fuel_type_2</th>\n",
       "      <th>injection_system</th>\n",
       "      <th>configuration</th>\n",
       "      <th>horsepower</th>\n",
       "      <th>fuel_category</th>\n",
       "      <th>ENGINE_DETAILS</th>\n",
       "      <th>age</th>\n",
       "      <th>age_group</th>\n",
       "    </tr>\n",
       "  </thead>\n",
       "  <tbody>\n",
       "    <tr>\n",
       "      <th>8497</th>\n",
       "      <td>Audi</td>\n",
       "      <td>RS e-tron GT Base</td>\n",
       "      <td>2022</td>\n",
       "      <td>1502.0</td>\n",
       "      <td>electric</td>\n",
       "      <td>Automatic</td>\n",
       "      <td>AWD</td>\n",
       "      <td>electric</td>\n",
       "      <td>NaN</td>\n",
       "      <td>Suzuka Gray Metallic</td>\n",
       "      <td>...</td>\n",
       "      <td>NaN</td>\n",
       "      <td>NaN</td>\n",
       "      <td>electric</td>\n",
       "      <td>NaN</td>\n",
       "      <td>NaN</td>\n",
       "      <td>NaN</td>\n",
       "      <td>electric</td>\n",
       "      <td>electric</td>\n",
       "      <td>1</td>\n",
       "      <td>0-20</td>\n",
       "    </tr>\n",
       "    <tr>\n",
       "      <th>8498</th>\n",
       "      <td>Audi</td>\n",
       "      <td>RS e-tron GT Base</td>\n",
       "      <td>2022</td>\n",
       "      <td>11020.0</td>\n",
       "      <td>electric</td>\n",
       "      <td>Automatic</td>\n",
       "      <td>AWD</td>\n",
       "      <td>electric</td>\n",
       "      <td>NaN</td>\n",
       "      <td>Daytona Gray Pearl Effect</td>\n",
       "      <td>...</td>\n",
       "      <td>NaN</td>\n",
       "      <td>NaN</td>\n",
       "      <td>electric</td>\n",
       "      <td>NaN</td>\n",
       "      <td>NaN</td>\n",
       "      <td>NaN</td>\n",
       "      <td>electric</td>\n",
       "      <td>electric</td>\n",
       "      <td>1</td>\n",
       "      <td>0-20</td>\n",
       "    </tr>\n",
       "    <tr>\n",
       "      <th>8499</th>\n",
       "      <td>Audi</td>\n",
       "      <td>RS e-tron GT Base</td>\n",
       "      <td>2022</td>\n",
       "      <td>6741.0</td>\n",
       "      <td>electric</td>\n",
       "      <td>Automatic</td>\n",
       "      <td>AWD</td>\n",
       "      <td>electric</td>\n",
       "      <td>NaN</td>\n",
       "      <td>Mythos Black Metallic</td>\n",
       "      <td>...</td>\n",
       "      <td>NaN</td>\n",
       "      <td>NaN</td>\n",
       "      <td>electric</td>\n",
       "      <td>NaN</td>\n",
       "      <td>NaN</td>\n",
       "      <td>NaN</td>\n",
       "      <td>electric</td>\n",
       "      <td>electric</td>\n",
       "      <td>1</td>\n",
       "      <td>0-20</td>\n",
       "    </tr>\n",
       "    <tr>\n",
       "      <th>8500</th>\n",
       "      <td>Audi</td>\n",
       "      <td>RS e-tron GT Base</td>\n",
       "      <td>2022</td>\n",
       "      <td>7822.0</td>\n",
       "      <td>electric</td>\n",
       "      <td>Automatic</td>\n",
       "      <td>AWD</td>\n",
       "      <td>electric</td>\n",
       "      <td>NaN</td>\n",
       "      <td>Ascari Blue Metallic</td>\n",
       "      <td>...</td>\n",
       "      <td>NaN</td>\n",
       "      <td>NaN</td>\n",
       "      <td>electric</td>\n",
       "      <td>NaN</td>\n",
       "      <td>NaN</td>\n",
       "      <td>NaN</td>\n",
       "      <td>electric</td>\n",
       "      <td>electric</td>\n",
       "      <td>1</td>\n",
       "      <td>0-20</td>\n",
       "    </tr>\n",
       "    <tr>\n",
       "      <th>8502</th>\n",
       "      <td>Audi</td>\n",
       "      <td>RS e-tron GT Base</td>\n",
       "      <td>2022</td>\n",
       "      <td>2319.0</td>\n",
       "      <td>electric</td>\n",
       "      <td>Automatic</td>\n",
       "      <td>AWD</td>\n",
       "      <td>electric</td>\n",
       "      <td>NaN</td>\n",
       "      <td>Mythos Black Metallic</td>\n",
       "      <td>...</td>\n",
       "      <td>NaN</td>\n",
       "      <td>NaN</td>\n",
       "      <td>electric</td>\n",
       "      <td>NaN</td>\n",
       "      <td>NaN</td>\n",
       "      <td>NaN</td>\n",
       "      <td>electric</td>\n",
       "      <td>electric</td>\n",
       "      <td>1</td>\n",
       "      <td>0-20</td>\n",
       "    </tr>\n",
       "    <tr>\n",
       "      <th>...</th>\n",
       "      <td>...</td>\n",
       "      <td>...</td>\n",
       "      <td>...</td>\n",
       "      <td>...</td>\n",
       "      <td>...</td>\n",
       "      <td>...</td>\n",
       "      <td>...</td>\n",
       "      <td>...</td>\n",
       "      <td>...</td>\n",
       "      <td>...</td>\n",
       "      <td>...</td>\n",
       "      <td>...</td>\n",
       "      <td>...</td>\n",
       "      <td>...</td>\n",
       "      <td>...</td>\n",
       "      <td>...</td>\n",
       "      <td>...</td>\n",
       "      <td>...</td>\n",
       "      <td>...</td>\n",
       "      <td>...</td>\n",
       "      <td>...</td>\n",
       "    </tr>\n",
       "    <tr>\n",
       "      <th>760565</th>\n",
       "      <td>Volvo</td>\n",
       "      <td>C40 Recharge Pure Electric P8 Ultimate</td>\n",
       "      <td>2022</td>\n",
       "      <td>6004.0</td>\n",
       "      <td>electric</td>\n",
       "      <td>Automatic</td>\n",
       "      <td>AWD</td>\n",
       "      <td>electric</td>\n",
       "      <td>NaN</td>\n",
       "      <td>Fjord Blue Metallic</td>\n",
       "      <td>...</td>\n",
       "      <td>NaN</td>\n",
       "      <td>NaN</td>\n",
       "      <td>electric</td>\n",
       "      <td>NaN</td>\n",
       "      <td>NaN</td>\n",
       "      <td>NaN</td>\n",
       "      <td>electric</td>\n",
       "      <td>electric</td>\n",
       "      <td>1</td>\n",
       "      <td>0-20</td>\n",
       "    </tr>\n",
       "    <tr>\n",
       "      <th>760566</th>\n",
       "      <td>Volvo</td>\n",
       "      <td>C40 Recharge Pure Electric P8 Ultimate</td>\n",
       "      <td>2022</td>\n",
       "      <td>7596.0</td>\n",
       "      <td>electric</td>\n",
       "      <td>Automatic</td>\n",
       "      <td>AWD</td>\n",
       "      <td>electric</td>\n",
       "      <td>NaN</td>\n",
       "      <td>Fjord Blue Metallic</td>\n",
       "      <td>...</td>\n",
       "      <td>NaN</td>\n",
       "      <td>NaN</td>\n",
       "      <td>electric</td>\n",
       "      <td>NaN</td>\n",
       "      <td>NaN</td>\n",
       "      <td>NaN</td>\n",
       "      <td>electric</td>\n",
       "      <td>electric</td>\n",
       "      <td>1</td>\n",
       "      <td>0-20</td>\n",
       "    </tr>\n",
       "    <tr>\n",
       "      <th>760567</th>\n",
       "      <td>Volvo</td>\n",
       "      <td>C40 Recharge Pure Electric Twin Ultimate</td>\n",
       "      <td>2023</td>\n",
       "      <td>2899.0</td>\n",
       "      <td>electric</td>\n",
       "      <td>Automatic</td>\n",
       "      <td>AWD</td>\n",
       "      <td>electric</td>\n",
       "      <td>NaN</td>\n",
       "      <td>Fjord Blue Metallic</td>\n",
       "      <td>...</td>\n",
       "      <td>NaN</td>\n",
       "      <td>NaN</td>\n",
       "      <td>electric</td>\n",
       "      <td>NaN</td>\n",
       "      <td>NaN</td>\n",
       "      <td>NaN</td>\n",
       "      <td>electric</td>\n",
       "      <td>electric</td>\n",
       "      <td>0</td>\n",
       "      <td>0-20</td>\n",
       "    </tr>\n",
       "    <tr>\n",
       "      <th>760568</th>\n",
       "      <td>Volvo</td>\n",
       "      <td>C40 Recharge Pure Electric Twin Ultimate</td>\n",
       "      <td>2023</td>\n",
       "      <td>938.0</td>\n",
       "      <td>electric</td>\n",
       "      <td>Automatic</td>\n",
       "      <td>AWD</td>\n",
       "      <td>electric</td>\n",
       "      <td>NaN</td>\n",
       "      <td>Crystal White Metallic</td>\n",
       "      <td>...</td>\n",
       "      <td>NaN</td>\n",
       "      <td>NaN</td>\n",
       "      <td>electric</td>\n",
       "      <td>NaN</td>\n",
       "      <td>NaN</td>\n",
       "      <td>NaN</td>\n",
       "      <td>electric</td>\n",
       "      <td>electric</td>\n",
       "      <td>0</td>\n",
       "      <td>0-20</td>\n",
       "    </tr>\n",
       "    <tr>\n",
       "      <th>760569</th>\n",
       "      <td>Volvo</td>\n",
       "      <td>C40 Recharge Pure Electric Twin Ultimate</td>\n",
       "      <td>2023</td>\n",
       "      <td>311.0</td>\n",
       "      <td>electric</td>\n",
       "      <td>Automatic</td>\n",
       "      <td>AWD</td>\n",
       "      <td>electric</td>\n",
       "      <td>NaN</td>\n",
       "      <td>Sage Green Metallic</td>\n",
       "      <td>...</td>\n",
       "      <td>NaN</td>\n",
       "      <td>NaN</td>\n",
       "      <td>electric</td>\n",
       "      <td>NaN</td>\n",
       "      <td>NaN</td>\n",
       "      <td>NaN</td>\n",
       "      <td>electric</td>\n",
       "      <td>electric</td>\n",
       "      <td>0</td>\n",
       "      <td>0-20</td>\n",
       "    </tr>\n",
       "  </tbody>\n",
       "</table>\n",
       "<p>16240 rows × 32 columns</p>\n",
       "</div>"
      ],
      "text/plain": [
       "       manufacturer                                     model  year  mileage  \\\n",
       "8497           Audi                         RS e-tron GT Base  2022   1502.0   \n",
       "8498           Audi                         RS e-tron GT Base  2022  11020.0   \n",
       "8499           Audi                         RS e-tron GT Base  2022   6741.0   \n",
       "8500           Audi                         RS e-tron GT Base  2022   7822.0   \n",
       "8502           Audi                         RS e-tron GT Base  2022   2319.0   \n",
       "...             ...                                       ...   ...      ...   \n",
       "760565        Volvo    C40 Recharge Pure Electric P8 Ultimate  2022   6004.0   \n",
       "760566        Volvo    C40 Recharge Pure Electric P8 Ultimate  2022   7596.0   \n",
       "760567        Volvo  C40 Recharge Pure Electric Twin Ultimate  2023   2899.0   \n",
       "760568        Volvo  C40 Recharge Pure Electric Twin Ultimate  2023    938.0   \n",
       "760569        Volvo  C40 Recharge Pure Electric Twin Ultimate  2023    311.0   \n",
       "\n",
       "          engine transmission drivetrain fuel_type  mpg  \\\n",
       "8497    electric    Automatic        AWD  electric  NaN   \n",
       "8498    electric    Automatic        AWD  electric  NaN   \n",
       "8499    electric    Automatic        AWD  electric  NaN   \n",
       "8500    electric    Automatic        AWD  electric  NaN   \n",
       "8502    electric    Automatic        AWD  electric  NaN   \n",
       "...          ...          ...        ...       ...  ...   \n",
       "760565  electric    Automatic        AWD  electric  NaN   \n",
       "760566  electric    Automatic        AWD  electric  NaN   \n",
       "760567  electric    Automatic        AWD  electric  NaN   \n",
       "760568  electric    Automatic        AWD  electric  NaN   \n",
       "760569  electric    Automatic        AWD  electric  NaN   \n",
       "\n",
       "                   exterior_color  ... valves  aspiration  fuel_type_2  \\\n",
       "8497         Suzuka Gray Metallic  ...    NaN         NaN     electric   \n",
       "8498    Daytona Gray Pearl Effect  ...    NaN         NaN     electric   \n",
       "8499        Mythos Black Metallic  ...    NaN         NaN     electric   \n",
       "8500         Ascari Blue Metallic  ...    NaN         NaN     electric   \n",
       "8502        Mythos Black Metallic  ...    NaN         NaN     electric   \n",
       "...                           ...  ...    ...         ...          ...   \n",
       "760565        Fjord Blue Metallic  ...    NaN         NaN     electric   \n",
       "760566        Fjord Blue Metallic  ...    NaN         NaN     electric   \n",
       "760567        Fjord Blue Metallic  ...    NaN         NaN     electric   \n",
       "760568     Crystal White Metallic  ...    NaN         NaN     electric   \n",
       "760569        Sage Green Metallic  ...    NaN         NaN     electric   \n",
       "\n",
       "        injection_system configuration  horsepower  fuel_category  \\\n",
       "8497                 NaN           NaN         NaN       electric   \n",
       "8498                 NaN           NaN         NaN       electric   \n",
       "8499                 NaN           NaN         NaN       electric   \n",
       "8500                 NaN           NaN         NaN       electric   \n",
       "8502                 NaN           NaN         NaN       electric   \n",
       "...                  ...           ...         ...            ...   \n",
       "760565               NaN           NaN         NaN       electric   \n",
       "760566               NaN           NaN         NaN       electric   \n",
       "760567               NaN           NaN         NaN       electric   \n",
       "760568               NaN           NaN         NaN       electric   \n",
       "760569               NaN           NaN         NaN       electric   \n",
       "\n",
       "        ENGINE_DETAILS  age  age_group  \n",
       "8497          electric    1       0-20  \n",
       "8498          electric    1       0-20  \n",
       "8499          electric    1       0-20  \n",
       "8500          electric    1       0-20  \n",
       "8502          electric    1       0-20  \n",
       "...                ...  ...        ...  \n",
       "760565        electric    1       0-20  \n",
       "760566        electric    1       0-20  \n",
       "760567        electric    0       0-20  \n",
       "760568        electric    0       0-20  \n",
       "760569        electric    0       0-20  \n",
       "\n",
       "[16240 rows x 32 columns]"
      ]
     },
     "execution_count": 67,
     "metadata": {},
     "output_type": "execute_result"
    }
   ],
   "source": [
    "data[pd.isna(data['mpg'])]"
   ]
  },
  {
   "cell_type": "code",
   "execution_count": 68,
   "id": "31c649af",
   "metadata": {},
   "outputs": [],
   "source": [
    "######### replace gasoline with mean and it 'mpg' as exceptional value replaced by actual values.\n",
    "replace_map = {\n",
    "    127.0: 12.7,\n",
    "    121.0: 12.1,\n",
    "    118.0: 11.8,\n",
    "    102.0: 10.2,\n",
    "}\n",
    "\n",
    "# Create a mask for cars that are NOT electric or hybrid\n",
    "mask = ~data['fuel_type'].isin(['electric', 'hybrid'])\n",
    "\n",
    "# Loop through each mpg value and replace only for non-electric/hybrid cars\n",
    "for wrong_mpg, correct_mpg in replace_map.items():\n",
    "    data.loc[mask & (data['mpg'] == wrong_mpg), 'mpg'] = correct_mpg"
   ]
  },
  {
   "cell_type": "code",
   "execution_count": 69,
   "id": "3e4a9178",
   "metadata": {},
   "outputs": [
    {
     "data": {
      "text/plain": [
       "count    571862.000000\n",
       "mean         24.188156\n",
       "std           5.057483\n",
       "min           4.000000\n",
       "25%          21.000000\n",
       "50%          24.000000\n",
       "75%          27.000000\n",
       "max         127.000000\n",
       "Name: mpg, dtype: float64"
      ]
     },
     "execution_count": 69,
     "metadata": {},
     "output_type": "execute_result"
    }
   ],
   "source": [
    "gasoline['mpg'].describe()"
   ]
  },
  {
   "cell_type": "code",
   "execution_count": 70,
   "id": "f72c1cbc",
   "metadata": {},
   "outputs": [
    {
     "data": {
      "text/plain": [
       "np.int64(82461)"
      ]
     },
     "execution_count": 70,
     "metadata": {},
     "output_type": "execute_result"
    }
   ],
   "source": [
    "gasoline['mpg'].isnull().sum()"
   ]
  },
  {
   "cell_type": "code",
   "execution_count": 71,
   "id": "39717f37",
   "metadata": {},
   "outputs": [
    {
     "data": {
      "text/plain": [
       "count    18794.000000\n",
       "mean        41.038523\n",
       "std          7.724938\n",
       "min         16.000000\n",
       "25%         37.000000\n",
       "50%         40.000000\n",
       "75%         48.000000\n",
       "max         86.000000\n",
       "Name: mpg, dtype: float64"
      ]
     },
     "execution_count": 71,
     "metadata": {},
     "output_type": "execute_result"
    }
   ],
   "source": [
    "hybrid['mpg'].describe()"
   ]
  },
  {
   "cell_type": "code",
   "execution_count": 166,
   "id": "35cbf564",
   "metadata": {},
   "outputs": [
    {
     "data": {
      "text/plain": [
       "np.int64(16239)"
      ]
     },
     "execution_count": 166,
     "metadata": {},
     "output_type": "execute_result"
    }
   ],
   "source": [
    "electric['mpg'].isnull().sum()"
   ]
  },
  {
   "cell_type": "code",
   "execution_count": 170,
   "id": "adc9cc0d",
   "metadata": {},
   "outputs": [],
   "source": [
    "\n",
    "data.loc[(data['engine'] == 'electric') & (data['mpg'].isna()), 'mpg'] = 100\n",
    "# data.loc[(data['fuel_type'] == 'bi fuel') & (data['mpg'].isna()), 'mpg'] = 50\n"
   ]
  },
  {
   "cell_type": "code",
   "execution_count": 171,
   "id": "ffc56883",
   "metadata": {},
   "outputs": [
    {
     "data": {
      "text/html": [
       "<div>\n",
       "<style scoped>\n",
       "    .dataframe tbody tr th:only-of-type {\n",
       "        vertical-align: middle;\n",
       "    }\n",
       "\n",
       "    .dataframe tbody tr th {\n",
       "        vertical-align: top;\n",
       "    }\n",
       "\n",
       "    .dataframe thead th {\n",
       "        text-align: right;\n",
       "    }\n",
       "</style>\n",
       "<table border=\"1\" class=\"dataframe\">\n",
       "  <thead>\n",
       "    <tr style=\"text-align: right;\">\n",
       "      <th></th>\n",
       "      <th>manufacturer</th>\n",
       "      <th>model</th>\n",
       "      <th>year</th>\n",
       "      <th>mileage</th>\n",
       "      <th>engine</th>\n",
       "      <th>transmission</th>\n",
       "      <th>drivetrain</th>\n",
       "      <th>fuel_type</th>\n",
       "      <th>mpg</th>\n",
       "      <th>exterior_color</th>\n",
       "      <th>...</th>\n",
       "      <th>valves</th>\n",
       "      <th>aspiration</th>\n",
       "      <th>fuel_type_2</th>\n",
       "      <th>injection_system</th>\n",
       "      <th>configuration</th>\n",
       "      <th>horsepower</th>\n",
       "      <th>fuel_category</th>\n",
       "      <th>ENGINE_DETAILS</th>\n",
       "      <th>age</th>\n",
       "      <th>age_group</th>\n",
       "    </tr>\n",
       "  </thead>\n",
       "  <tbody>\n",
       "    <tr>\n",
       "      <th>8497</th>\n",
       "      <td>Audi</td>\n",
       "      <td>RS e-tron GT Base</td>\n",
       "      <td>2022</td>\n",
       "      <td>1502.0</td>\n",
       "      <td>electric</td>\n",
       "      <td>Automatic</td>\n",
       "      <td>AWD</td>\n",
       "      <td>electric</td>\n",
       "      <td>NaN</td>\n",
       "      <td>Suzuka Gray Metallic</td>\n",
       "      <td>...</td>\n",
       "      <td>NaN</td>\n",
       "      <td>NaN</td>\n",
       "      <td>electric</td>\n",
       "      <td>NaN</td>\n",
       "      <td>NaN</td>\n",
       "      <td>NaN</td>\n",
       "      <td>electric</td>\n",
       "      <td>electric</td>\n",
       "      <td>1</td>\n",
       "      <td>0-20</td>\n",
       "    </tr>\n",
       "    <tr>\n",
       "      <th>8498</th>\n",
       "      <td>Audi</td>\n",
       "      <td>RS e-tron GT Base</td>\n",
       "      <td>2022</td>\n",
       "      <td>11020.0</td>\n",
       "      <td>electric</td>\n",
       "      <td>Automatic</td>\n",
       "      <td>AWD</td>\n",
       "      <td>electric</td>\n",
       "      <td>NaN</td>\n",
       "      <td>Daytona Gray Pearl Effect</td>\n",
       "      <td>...</td>\n",
       "      <td>NaN</td>\n",
       "      <td>NaN</td>\n",
       "      <td>electric</td>\n",
       "      <td>NaN</td>\n",
       "      <td>NaN</td>\n",
       "      <td>NaN</td>\n",
       "      <td>electric</td>\n",
       "      <td>electric</td>\n",
       "      <td>1</td>\n",
       "      <td>0-20</td>\n",
       "    </tr>\n",
       "    <tr>\n",
       "      <th>8499</th>\n",
       "      <td>Audi</td>\n",
       "      <td>RS e-tron GT Base</td>\n",
       "      <td>2022</td>\n",
       "      <td>6741.0</td>\n",
       "      <td>electric</td>\n",
       "      <td>Automatic</td>\n",
       "      <td>AWD</td>\n",
       "      <td>electric</td>\n",
       "      <td>NaN</td>\n",
       "      <td>Mythos Black Metallic</td>\n",
       "      <td>...</td>\n",
       "      <td>NaN</td>\n",
       "      <td>NaN</td>\n",
       "      <td>electric</td>\n",
       "      <td>NaN</td>\n",
       "      <td>NaN</td>\n",
       "      <td>NaN</td>\n",
       "      <td>electric</td>\n",
       "      <td>electric</td>\n",
       "      <td>1</td>\n",
       "      <td>0-20</td>\n",
       "    </tr>\n",
       "    <tr>\n",
       "      <th>8500</th>\n",
       "      <td>Audi</td>\n",
       "      <td>RS e-tron GT Base</td>\n",
       "      <td>2022</td>\n",
       "      <td>7822.0</td>\n",
       "      <td>electric</td>\n",
       "      <td>Automatic</td>\n",
       "      <td>AWD</td>\n",
       "      <td>electric</td>\n",
       "      <td>NaN</td>\n",
       "      <td>Ascari Blue Metallic</td>\n",
       "      <td>...</td>\n",
       "      <td>NaN</td>\n",
       "      <td>NaN</td>\n",
       "      <td>electric</td>\n",
       "      <td>NaN</td>\n",
       "      <td>NaN</td>\n",
       "      <td>NaN</td>\n",
       "      <td>electric</td>\n",
       "      <td>electric</td>\n",
       "      <td>1</td>\n",
       "      <td>0-20</td>\n",
       "    </tr>\n",
       "    <tr>\n",
       "      <th>8502</th>\n",
       "      <td>Audi</td>\n",
       "      <td>RS e-tron GT Base</td>\n",
       "      <td>2022</td>\n",
       "      <td>2319.0</td>\n",
       "      <td>electric</td>\n",
       "      <td>Automatic</td>\n",
       "      <td>AWD</td>\n",
       "      <td>electric</td>\n",
       "      <td>NaN</td>\n",
       "      <td>Mythos Black Metallic</td>\n",
       "      <td>...</td>\n",
       "      <td>NaN</td>\n",
       "      <td>NaN</td>\n",
       "      <td>electric</td>\n",
       "      <td>NaN</td>\n",
       "      <td>NaN</td>\n",
       "      <td>NaN</td>\n",
       "      <td>electric</td>\n",
       "      <td>electric</td>\n",
       "      <td>1</td>\n",
       "      <td>0-20</td>\n",
       "    </tr>\n",
       "  </tbody>\n",
       "</table>\n",
       "<p>5 rows × 32 columns</p>\n",
       "</div>"
      ],
      "text/plain": [
       "     manufacturer              model  year  mileage    engine transmission  \\\n",
       "8497         Audi  RS e-tron GT Base  2022   1502.0  electric    Automatic   \n",
       "8498         Audi  RS e-tron GT Base  2022  11020.0  electric    Automatic   \n",
       "8499         Audi  RS e-tron GT Base  2022   6741.0  electric    Automatic   \n",
       "8500         Audi  RS e-tron GT Base  2022   7822.0  electric    Automatic   \n",
       "8502         Audi  RS e-tron GT Base  2022   2319.0  electric    Automatic   \n",
       "\n",
       "     drivetrain fuel_type  mpg             exterior_color  ... valves  \\\n",
       "8497        AWD  electric  NaN       Suzuka Gray Metallic  ...    NaN   \n",
       "8498        AWD  electric  NaN  Daytona Gray Pearl Effect  ...    NaN   \n",
       "8499        AWD  electric  NaN      Mythos Black Metallic  ...    NaN   \n",
       "8500        AWD  electric  NaN       Ascari Blue Metallic  ...    NaN   \n",
       "8502        AWD  electric  NaN      Mythos Black Metallic  ...    NaN   \n",
       "\n",
       "      aspiration  fuel_type_2  injection_system configuration  horsepower  \\\n",
       "8497         NaN     electric               NaN           NaN         NaN   \n",
       "8498         NaN     electric               NaN           NaN         NaN   \n",
       "8499         NaN     electric               NaN           NaN         NaN   \n",
       "8500         NaN     electric               NaN           NaN         NaN   \n",
       "8502         NaN     electric               NaN           NaN         NaN   \n",
       "\n",
       "      fuel_category  ENGINE_DETAILS  age  age_group  \n",
       "8497       electric        electric    1       0-20  \n",
       "8498       electric        electric    1       0-20  \n",
       "8499       electric        electric    1       0-20  \n",
       "8500       electric        electric    1       0-20  \n",
       "8502       electric        electric    1       0-20  \n",
       "\n",
       "[5 rows x 32 columns]"
      ]
     },
     "execution_count": 171,
     "metadata": {},
     "output_type": "execute_result"
    }
   ],
   "source": [
    "electric.head()"
   ]
  },
  {
   "cell_type": "code",
   "execution_count": 160,
   "id": "f5b5e35e",
   "metadata": {},
   "outputs": [
    {
     "data": {
      "text/plain": [
       "count    0.0\n",
       "mean     NaN\n",
       "std      NaN\n",
       "min      NaN\n",
       "25%      NaN\n",
       "50%      NaN\n",
       "75%      NaN\n",
       "max      NaN\n",
       "Name: mpg, dtype: float64"
      ]
     },
     "execution_count": 160,
     "metadata": {},
     "output_type": "execute_result"
    }
   ],
   "source": [
    "electric['mpg'].describe()"
   ]
  },
  {
   "cell_type": "code",
   "execution_count": 77,
   "id": "ac250804",
   "metadata": {},
   "outputs": [
    {
     "data": {
      "text/plain": [
       "count    4507.000000\n",
       "mean       24.899268\n",
       "std         7.298047\n",
       "min         6.000000\n",
       "25%        19.000000\n",
       "50%        23.000000\n",
       "75%        30.000000\n",
       "max       127.000000\n",
       "Name: mpg, dtype: float64"
      ]
     },
     "execution_count": 77,
     "metadata": {},
     "output_type": "execute_result"
    }
   ],
   "source": [
    "diesel['mpg'].describe()"
   ]
  },
  {
   "cell_type": "code",
   "execution_count": 78,
   "id": "97fb52a1",
   "metadata": {},
   "outputs": [
    {
     "data": {
      "text/plain": [
       "count    14572.000000\n",
       "mean        21.987510\n",
       "std          4.645661\n",
       "min          5.000000\n",
       "25%         19.000000\n",
       "50%         21.000000\n",
       "75%         24.000000\n",
       "max         33.000000\n",
       "Name: mpg, dtype: float64"
      ]
     },
     "execution_count": 78,
     "metadata": {},
     "output_type": "execute_result"
    }
   ],
   "source": [
    "flex_fuel['mpg'].describe()"
   ]
  },
  {
   "cell_type": "code",
   "execution_count": 79,
   "id": "b7d2f82f",
   "metadata": {},
   "outputs": [
    {
     "data": {
      "text/plain": [
       "count     2.000000\n",
       "mean     69.500000\n",
       "std       4.949747\n",
       "min      66.000000\n",
       "25%      67.750000\n",
       "50%      69.500000\n",
       "75%      71.250000\n",
       "max      73.000000\n",
       "Name: mpg, dtype: float64"
      ]
     },
     "execution_count": 79,
     "metadata": {},
     "output_type": "execute_result"
    }
   ],
   "source": [
    "hydrogen['mpg'].describe()"
   ]
  },
  {
   "cell_type": "code",
   "execution_count": 80,
   "id": "006a44be",
   "metadata": {},
   "outputs": [
    {
     "data": {
      "text/plain": [
       "np.int64(0)"
      ]
     },
     "execution_count": 80,
     "metadata": {},
     "output_type": "execute_result"
    }
   ],
   "source": [
    "plug_in_hybrid['mpg'].isnull().sum()\n"
   ]
  },
  {
   "cell_type": "code",
   "execution_count": 81,
   "id": "5aa3600a",
   "metadata": {},
   "outputs": [
    {
     "data": {
      "text/plain": [
       "np.int64(1)"
      ]
     },
     "execution_count": 81,
     "metadata": {},
     "output_type": "execute_result"
    }
   ],
   "source": [
    "bi_fuel['mpg'].isnull().sum()"
   ]
  },
  {
   "cell_type": "code",
   "execution_count": 82,
   "id": "4b3a1d93",
   "metadata": {},
   "outputs": [
    {
     "data": {
      "text/plain": [
       "np.int64(1)"
      ]
     },
     "execution_count": 82,
     "metadata": {},
     "output_type": "execute_result"
    }
   ],
   "source": [
    "data['mpg'].isnull().sum()"
   ]
  },
  {
   "cell_type": "code",
   "execution_count": 151,
   "id": "e374fac3",
   "metadata": {},
   "outputs": [
    {
     "data": {
      "application/vnd.plotly.v1+json": {
       "config": {
        "plotlyServerURL": "https://plot.ly"
       },
       "data": [
        {
         "mode": "lines",
         "name": "Gasoline",
         "type": "scatter",
         "x": {
          "bdata": "AAAAAAAAEECExUWoaPwQQAiLi1DR+BFAjFDR+Dn1EkAPFhehovETQJPbXEkL7hRAF6Gi8XPqFUCbZuiZ3OYWQB8sLkJF4xdAovFz6q3fGEAmt7mSFtwZQKp8/zp/2BpALkJF4+fUG0CyB4uLUNEcQDbN0DO5zR1AupIW3CHKHkA+WFyEisYfQOAOUZZ5YSBAovFz6q3fIEBk1JY+4l0hQCa3uZIW3CFA6Jnc5kpaIkCqfP86f9giQGxfIo+zViNALkJF4+fUI0DwJGg3HFMkQLIHi4tQ0SRAdOqt34RPJUA2zdAzuc0lQPiv84ftSyZAupIW3CHKJkB8dTkwVkgnQD5YXISKxidA/zp/2L5EKEDBHaIs88IoQIMAxYAnQSlARePn1Fu/KUAHxgopkD0qQMmoLX3EuypAi4tQ0fg5K0BNbnMlLbgrQA9RlnlhNixA0TO5zZW0LECTFtwhyjItQFX5/nX+sC1AFtwhyjIvLkDYvkQeZ60uQJqhZ3KbKy9AXISKxs+pL0CPs1YNAhQwQPAkaDccUzBAUZZ5YTaSMECyB4uLUNEwQBN5nLVqEDFAdOqt34RPMUDVW78Jn44xQDbN0DO5zTFAlz7iXdMMMkD4r/OH7UsyQFghBbIHizJAupIW3CHKMkAaBCgGPAkzQHx1OTBWSDNA3OZKWnCHM0A+WFyEisYzQJ7Jba6kBTRA/zp/2L5ENEBgrJAC2YM0QMEdoizzwjRAIo+zVg0CNUCDAMWAJ0E1QORx1qpBgDVARePn1Fu/NUCmVPn+df41QAfGCimQPTZAaDccU6p8NkDJqC19xLs2QCoaP6fe+jZAi4tQ0fg5N0Ds/GH7Enk3QE1ucyUtuDdArt+ET0f3N0APUZZ5YTY4QHDCp6N7dThA0TO5zZW0OEAypcr3r/M4QJMW3CHKMjlA9IftS+RxOUBV+f51/rA5QLZqEKAY8DlAFtwhyjIvOkB3TTP0TG46QNi+RB5nrTpAOTBWSIHsOkCaoWdymys7QPsSeZy1ajtAXISKxs+pO0C99Zvw6eg7QB5nrRoEKDxAf9i+RB5nPEDgSdBuOKY8QEG74ZhS5TxAoizzwmwkPUADngTthmM9QGQPFhehoj1AxYAnQbvhPUAm8jhr1SA+QIdjSpXvXz5A6NRbvwmfPkBJRm3pI94+QKq3fhM+HT9ACymQPVhcP0BsmqFncps/QM0Ls5GM2j9Alz7iXdMMQEBI9+pyYCxAQPiv84ftS0BAqGj8nHprQEBYIQWyB4tAQAnaDceUqkBAupIW3CHKQEBqSx/xrulAQBoEKAY8CUFAy7wwG8koQUB8dTkwVkhBQCwuQkXjZ0FA3OZKWnCHQUCNn1Nv/aZBQD5YXISKxkFA7hBlmRfmQUCeyW2upAVCQE+CdsMxJUJA/zp/2L5EQkCw84ftS2RCQGCskALZg0JAEWWZF2ajQkDBHaIs88JCQHLWqkGA4kJAIo+zVg0CQ0DTR7xrmiFDQIMAxYAnQUNANLnNlbRgQ0DkcdaqQYBDQJUq37/On0NARePn1Fu/Q0D2m/Dp6N5DQKZU+f51/kNAVw0CFAMeREAHxgopkD1EQLh+Ez4dXURAaDccU6p8REAZ8CRoN5xEQMmoLX3Eu0RAemE2klHbREAqGj+n3vpEQNrSR7xrGkVAi4tQ0fg5RUA7RFnmhVlFQOz8YfsSeUVAnLVqEKCYRUBNbnMlLbhFQP0mfDq610VArt+ET0f3RUBemI1k1BZGQA9RlnlhNkZAvwmfju5VRkBwwqeje3VGQCB7sLgIlUZA0TO5zZW0RkCB7MHiItRGQDKlyvev80ZA4l3TDD0TR0CTFtwhyjJHQEPP5DZXUkdA9IftS+RxR0CkQPZgcZFHQFX5/nX+sEdABbIHi4vQR0C2ahCgGPBHQGYjGbWlD0hAFtwhyjIvSEDHlCrfv05IQHdNM/RMbkhAKAY8CdqNSEDYvkQeZ61IQIl3TTP0zEhAOTBWSIHsSEDq6F5dDgxJQJqhZ3KbK0lAS1pwhyhLSUD7EnmctWpJQKzLgbFCiklAXISKxs+pSUANPZPbXMlJQL31m/Dp6ElAbq6kBXcISkAeZ60aBChKQM8fti+RR0pAf9i+RB5nSkAwkcdZq4ZKQOBJ0G44pkpAkQLZg8XFSkBBu+GYUuVKQPJz6q3fBEtAoizzwmwkS0BS5fvX+UNLQAOeBO2GY0tAs1YNAhSDS0BkDxYXoaJLQBTIHiwuwktAxYAnQbvhS0B1OTBWSAFMQCbyOGvVIExA1qpBgGJATECHY0qV719MQDccU6p8f0xA6NRbvwmfTECYjWTUlr5MQElGbekj3kxA+f51/rD9TECqt34TPh1NQFpwhyjLPE1ACymQPVhcTUC74ZhS5XtNQGyaoWdym01AHFOqfP+6TUDNC7ORjNpNQH3Eu6YZ+k1ALn3Eu6YZTkDeNc3QMzlOQI/u1eXAWE5AP6fe+k14TkDvX+cP25dOQKAY8CRot05AUNH4OfXWTkABigFPgvZOQLFCCmQPFk9AYvsSeZw1T0AStBuOKVVPQMNsJKO2dE9AcyUtuEOUT0Ak3jXN0LNPQNSWPuJd009AhU9H9+ryT0AaBCgGPAlQQHNgrJACGVBAy7wwG8koUEAkGbWljzhQQHx1OTBWSFBA1NG9uhxYUEAsLkJF42dQQISKxs+pd1BA3OZKWnCHUEA1Q8/kNpdQQI2fU2/9plBA5vvX+cO2UEA+WFyEisZQQJa04A5R1lBA7hBlmRfmUEBGbekj3vVQQJ7Jba6kBVFA9yXyOGsVUUBPgnbDMSVRQKfe+k34NFFA/zp/2L5EUUBYlwNjhVRRQLDzh+1LZFFACFAMeBJ0UUBgrJAC2YNRQLkIFY2fk1FAEWWZF2ajUUBpwR2iLLNRQMEdoizzwlFAGnomt7nSUUBy1qpBgOJRQMoyL8xG8lFAIo+zVg0CUkB76zfh0xFSQNNHvGuaIVJAK6RA9mAxUkCDAMWAJ0FSQNxcSQvuUFJANLnNlbRgUkCMFVIge3BSQORx1qpBgFJAPM5aNQiQUkCVKt+/zp9SQO2GY0qVr1JARePn1Fu/UkCdP2xfIs9SQPab8Ono3lJATvh0dK/uUkCmVPn+df5SQP6wfYk8DlNAVw0CFAMeU0CvaYaeyS1TQAfGCimQPVNAXyKPs1ZNU0C4fhM+HV1TQBDbl8jjbFNAaDccU6p8U0DAk6DdcIxTQBnwJGg3nFNAcUyp8v2rU0DJqC19xLtTQCEFsgeLy1NAemE2klHbU0DSvbocGOtTQCoaP6fe+lNAgnbDMaUKVEDa0ke8axpUQDMvzEYyKlRAi4tQ0fg5VEDj59Rbv0lUQDtEWeaFWVRAlKDdcExpVEDs/GH7EnlUQERZ5oXZiFRAnLVqEKCYVED1Ee+aZqhUQE1ucyUtuFRApcr3r/PHVED9Jnw6utdUQFaDAMWA51RArt+ET0f3VEAGPAnaDQdVQF6YjWTUFlVAt/QR75omVUAPUZZ5YTZVQGetGgQoRlVAvwmfju5VVUAYZiMZtWVVQHDCp6N7dVVAyB4sLkKFVUAge7C4CJVVQHjXNEPPpFVA0TO5zZW0VUApkD1YXMRVQIHsweIi1FVA2UhGbenjVUAypcr3r/NVQIoBT4J2A1ZA4l3TDD0TVkA6uleXAyNWQJMW3CHKMlZA63JgrJBCVkBDz+Q2V1JWQJsracEdYlZA9IftS+RxVkBM5HHWqoFWQKRA9mBxkVZA/Jx66zehVkBV+f51/rBWQK1VgwDFwFZABbIHi4vQVkBdDowVUuBWQLZqEKAY8FZADseUKt//VkBmIxm1pQ9XQL5/nT9sH1dAFtwhyjIvV0BvOKZU+T5XQMeUKt+/TldAH/GuaYZeV0B3TTP0TG5XQNCpt34TfldAKAY8CdqNV0CAYsCToJ1XQNi+RB5nrVdAMRvJqC29V0CJd00z9MxXQOHT0b263FdAOTBWSIHsV0CSjNrSR/xXQOroXl0ODFhAQkXj59QbWECaoWdymytYQPP96/xhO1hAS1pwhyhLWECjtvQR71pYQPsSeZy1alhAVG/9Jnx6WECsy4GxQopYQAQoBjwJmlhAXISKxs+pWEC04A5RlrlYQA09k9tcyVhAZZkXZiPZWEC99Zvw6ehYQBVSIHuw+FhAbq6kBXcIWUDGCimQPRhZQB5nrRoEKFlAdsMxpco3WUDPH7YvkUdZQCd8OrpXV1lAf9i+RB5nWUDXNEPP5HZZQDCRx1mrhllAiO1L5HGWWUDgSdBuOKZZQDimVPn+tVlAkQLZg8XFWUDpXl0OjNVZQEG74ZhS5VlAmRdmIxn1WUDyc+qt3wRaQErQbjimFFpAoizzwmwkWkD6iHdNMzRaQFLl+9f5Q1pAq0GAYsBTWkADngTthmNaQFv6iHdNc1pAs1YNAhSDWkAMs5GM2pJaQGQPFheholpAvGuaoWeyWkAUyB4sLsJaQG0ko7b00VpAxYAnQbvhWkAd3avLgfFaQHU5MFZIAVtAzpW04A4RW0Am8jhr1SBbQH5OvfWbMFtA1qpBgGJAW0AvB8YKKVBbQIdjSpXvX1tA37/OH7ZvW0A3HFOqfH9bQJB41zRDj1tA6NRbvwmfW0BAMeBJ0K5bQJiNZNSWvltA8enoXl3OW0BJRm3pI95bQKGi8XPq7VtA+f51/rD9W0BRW/qIdw1cQKq3fhM+HVxAAhQDngQtXEBacIcoyzxcQLLMC7ORTFxACymQPVhcXEBjhRTIHmxcQLvhmFLle1xAEz4d3auLXEBsmqFncptcQMT2JfI4q1xAHFOqfP+6XEB0ry4HxspcQM0Ls5GM2lxAJWg3HFPqXEB9xLumGfpcQNUgQDHgCV1ALn3Eu6YZXUCG2UhGbSldQN41zdAzOV1ANpJRW/pIXUCP7tXlwFhdQOdKWnCHaF1AP6fe+k14XUCXA2OFFIhdQO9f5w/bl11ASLxrmqGnXUCgGPAkaLddQPh0dK8ux11AUNH4OfXWXUCpLX3Eu+ZdQAGKAU+C9l1AWeaF2UgGXkCxQgpkDxZeQAqfju7VJV5AYvsSeZw1XkC6V5cDY0VeQBK0G44pVV5AaxCgGPBkXkDDbCSjtnReQBvJqC19hF5AcyUtuEOUXkDMgbFCCqReQCTeNc3Qs15AfDq6V5fDXkDUlj7iXdNeQC3zwmwk415AhU9H9+ryXkDdq8uBsQJfQDUIUAx4El9AjWTUlj4iX0DmwFghBTJfQD4d3avLQV9AlnlhNpJRX0Du1eXAWGFfQEcyaksfcV9An47u1eWAX0D36nJgrJBfQE9H9+pyoF9AqKN7dTmwX0AAAAAAAMBfQA==",
          "dtype": "f8"
         },
         "xaxis": "x",
         "y": {
          "bdata": "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",
          "dtype": "f8"
         },
         "yaxis": "y"
        },
        {
         "mode": "lines",
         "name": "Hybrid",
         "type": "scatter",
         "x": {
          "bdata": "AAAAAAAAMEDaSEZt6SMwQLORjNrSRzBAjdrSR7xrMEBmIxm1pY8wQEBsXyKPszBAGbWlj3jXMEDz/ev8YfswQMxGMmpLHzFApo941zRDMUB/2L5EHmcxQFkhBbIHizFAMmpLH/GuMUAMs5GM2tIxQOX71/nD9jFAv0QeZ60aMkCYjWTUlj4yQHLWqkGAYjJASx/xrmmGMkAlaDccU6oyQP6wfYk8zjJA2PnD9iXyMkCyQgpkDxYzQIuLUNH4OTNAZNSWPuJdM0A+Hd2ry4EzQBhmIxm1pTNA8a5php7JM0DL96/zh+0zQKRA9mBxETRAfok8zlo1NEBX0oI7RFk0QDEbyagtfTRACmQPFhehNEDkrFWDAMU0QL31m/Dp6DRAlz7iXdMMNUBwhyjLvDA1QErQbjimVDVAJBm1pY94NUD9YfsSeZw1QNaqQYBiwDVAsPOH7UvkNUCKPM5aNQg2QGOFFMgeLDZAPM5aNQhQNkAWF6Gi8XM2QPBf5w/blzZAyagtfcS7NkCj8XPqrd82QHw6uleXAzdAVoMAxYAnN0AvzEYyaks3QAkVjZ9TbzdA4l3TDD2TN0C8phl6Jrc3QJXvX+cP2zdAbzimVPn+N0BIgezB4iI4QCLKMi/MRjhA/BJ5nLVqOEDVW78Jn444QK6kBXeIsjhAiO1L5HHWOEBiNpJRW/o4QDt/2L5EHjlAFMgeLC5COUDuEGWZF2Y5QMhZqwYBijlAoaLxc+qtOUB66zfh09E5QFQ0fk699TlALn3Eu6YZOkAHxgopkD06QOAOUZZ5YTpAuleXA2OFOkCUoN1wTKk6QG7pI941zTpARzJqSx/xOkAge7C4CBU7QPrD9iXyODtA1Aw9k9tcO0CtVYMAxYA7QIaeyW2upDtAYOcP25fIO0A6MFZIgew7QBN5nLVqEDxA7MHiIlQ0PEDGCimQPVg8QKBTb/0mfDxAeZy1ahCgPEBS5fvX+cM8QCwuQkXj5zxABneIsswLPUDfv84fti89QLgIFY2fUz1AklFb+oh3PUBsmqFncps9QEbj59Rbvz1AHywuQkXjPUD4dHSvLgc+QNK9uhwYKz5ArAYBigFPPkCFT0f36nI+QF6YjWTUlj5AOOHT0b26PkASKho/p94+QOtyYKyQAj9AxLumGXomP0CeBO2GY0o/QHhNM/RMbj9AUZZ5YTaSP0Aq37/OH7Y/QAQoBjwJ2j9A3nBMqfL9P0DcXEkL7hBAQEiB7MHiIkBAtaWPeNc0QEAiyjIvzEZAQI7u1eXAWEBA/BJ5nLVqQEBoNxxTqnxAQNVbvwmfjkBAQoBiwJOgQECupAV3iLJAQBvJqC19xEBAiO1L5HHWQED0Ee+aZuhAQGI2klFb+kBAzlo1CFAMQUA7f9i+RB5BQKije3U5MEFAFMgeLC5CQUCC7MHiIlRBQO4QZZkXZkFAWzUIUAx4QUDIWasGAYpBQDR+Tr31m0FAoaLxc+qtQUAOx5Qq379BQHrrN+HT0UFA6A/bl8jjQUBUNH5OvfVBQMFYIQWyB0JALn3Eu6YZQkCaoWdymytCQAfGCimQPUJAdOqt34RPQkDgDlGWeWFCQE4z9Exuc0JAuleXA2OFQkAnfDq6V5dCQJSg3XBMqUJAAMWAJ0G7QkBu6SPeNc1CQNoNx5Qq30JARzJqSx/xQkC0Vg0CFANDQCB7sLgIFUNAjZ9Tb/0mQ0D6w/Yl8jhDQGbomdzmSkNA1Aw9k9tcQ0BAMeBJ0G5DQK1VgwDFgENAGnomt7mSQ0CGnsltrqRDQPPCbCSjtkNAYOcP25fIQ0DMC7ORjNpDQDowVkiB7ENAplT5/nX+Q0ATeZy1ahBEQICdP2xfIkRA7MHiIlQ0REBa5oXZSEZEQMYKKZA9WERAMy/MRjJqRECgU2/9JnxEQAx4ErQbjkRAeZy1ahCgREDmwFghBbJEQFLl+9f5w0RAwAmfju7VREAsLkJF4+dEQJlS5fvX+URABneIsswLRUBymytpwR1FQN+/zh+2L0VATORx1qpBRUC4CBWNn1NFQCYtuEOUZUVAklFb+oh3RUD/df6wfYlFQGyaoWdym0VA2L5EHmetRUBG4+fUW79FQLIHi4tQ0UVAHywuQkXjRUCMUNH4OfVFQPh0dK8uB0ZAZZkXZiMZRkDSvbocGCtGQD7iXdMMPUZArAYBigFPRkAYK6RA9mBGQIVPR/fqckZA8nPqrd+ERkBemI1k1JZGQMu8MBvJqEZAOOHT0b26RkCkBXeIssxGQBIqGj+n3kZAfk699ZvwRkDrcmCskAJHQFiXA2OFFEdAxLumGXomR0Ay4EnQbjhHQJ4E7YZjSkdACymQPVhcR0B4TTP0TG5HQORx1qpBgEdAUZZ5YTaSR0C+uhwYK6RHQCrfv84ftkdAmANjhRTIR0AEKAY8CdpHQHFMqfL960dA3nBMqfL9R0BKle9f5w9IQLe5khbcIUhAJN41zdAzSECRAtmDxUVIQP0mfDq6V0hAaksf8a5pSEDXb8Kno3tIQESUZV6YjUhAsbgIFY2fSEAd3avLgbFIQIoBT4J2w0hA9yXyOGvVSEBkSpXvX+dIQNBuOKZU+UhAPZPbXEkLSUCqt34TPh1JQBfcIcoyL0lAgwDFgCdBSUDwJGg3HFNJQF1JC+4QZUlAym2upAV3SUA2klFb+ohJQKO29BHvmklAENuXyOOsSUB9/zp/2L5JQOkj3jXN0ElAVkiB7MHiSUDDbCSjtvRJQDCRx1mrBkpAnbVqEKAYSkAJ2g3HlCpKQHb+sH2JPEpA4yJUNH5OSkBQR/fqcmBKQLxrmqFnckpAKZA9WFyESkCWtOAOUZZKQAPZg8VFqEpAb/0mfDq6SkDcIcoyL8xKQElGbekj3kpAtmoQoBjwSkAij7NWDQJLQI+zVg0CFEtA/Nf5w/YlS0Bp/Jx66zdLQNUgQDHgSUtAQkXj59RbS0CvaYaeyW1LQByOKVW+f0tAibLMC7ORS0D11m/Cp6NLQGL7EnmctUtAzx+2L5HHS0A8RFnmhdlLQKho/Jx660tAFY2fU2/9S0CCsUIKZA9MQO/V5cBYIUxAW/qId00zTEDIHiwuQkVMQDVDz+Q2V0xAomdymytpTEAOjBVSIHtMQHuwuAgVjUxA6NRbvwmfTEBV+f51/rBMQMEdoizzwkxALkJF4+fUTECbZuiZ3OZMQAiLi1DR+ExAda8uB8YKTUDh09G9uhxNQE74dHSvLk1AuxwYK6RATUAoQbvhmFJNQJRlXpiNZE1AAYoBT4J2TUBurqQFd4hNQNvSR7xrmk1AR/fqcmCsTUC0G44pVb5NQCFAMeBJ0E1AjmTUlj7iTUD6iHdNM/RNQGetGgQoBk5A1NG9uhwYTkBB9mBxESpOQK0aBCgGPE5AGj+n3vpNTkCHY0qV719OQPSH7UvkcU5AYayQAtmDTkDN0DO5zZVOQDr11m/Cp05Apxl6Jre5TkAUPh3dq8tOQIBiwJOg3U5A7YZjSpXvTkBaqwYBigFPQMfPqbd+E09AM/RMbnMlT0CgGPAkaDdPQA09k9tcSU9AemE2klFbT0DmhdlIRm1PQFOqfP86f09AwM4fti+RT0At88JsJKNPQJkXZiMZtU9ABjwJ2g3HT0BzYKyQAtlPQOCET0f36k9ATany/ev8T0Dc5kpacAdQQBN5nLVqEFBASgvuEGUZUECAnT9sXyJQQLYvkcdZK1BA7MHiIlQ0UEAjVDR+Tj1QQFrmhdlIRlBAkHjXNENPUEDGCimQPVhQQPyceus3YVBAMy/MRjJqUEBpwR2iLHNQQKBTb/0mfFBA1uXAWCGFUEAMeBK0G45QQEIKZA8Wl1BAeZy1ahCgUECwLgfGCqlQQObAWCEFslBAHFOqfP+6UEBS5fvX+cNQQIl3TTP0zFBAwAmfju7VUED2m/Dp6N5QQCwuQkXj51BAYsCToN3wUECZUuX71/lQQNDkNlfSAlFABneIsswLUUA8CdoNxxRRQHKbK2nBHVFAqS19xLsmUUDfv84fti9RQBZSIHuwOFFATORx1qpBUUCCdsMxpUpRQLgIFY2fU1FA75pm6JlcUUAmLbhDlGVRQFy/CZ+OblFAklFb+oh3UUDI46xVg4BRQP91/rB9iVFANghQDHiSUUBsmqFncptRQKIs88JspFFA2L5EHmetUUAPUZZ5YbZRQEbj59Rbv1FAfHU5MFbIUUCyB4uLUNFRQOiZ3OZK2lFAHywuQkXjUUBVvn+dP+xRQIxQ0fg59VFAwuIiVDT+UUD4dHSvLgdSQC4HxgopEFJAZZkXZiMZUkCcK2nBHSJSQNK9uhwYK1JACFAMeBI0UkA+4l3TDD1SQHV0ry4HRlJArAYBigFPUkDimFLl+1dSQBgrpED2YFJATr31m/BpUkCFT0f36nJSQLzhmFLle1JA8nPqrd+EUkAoBjwJ2o1SQF6YjWTUllJAlSrfv86fUkDLvDAbyahSQAJPgnbDsVJAOOHT0b26UkBucyUtuMNSQKQFd4iyzFJA25fI46zVUkASKho/p95SQEi8a5qh51JAfk699ZvwUkC04A5RlvlSQOtyYKyQAlNAIgWyB4sLU0BYlwNjhRRTQI4pVb5/HVNAxLumGXomU0D7Tfh0dC9TQDLgSdBuOFNAaHKbK2lBU0CeBO2GY0pTQNSWPuJdU1NACymQPVhcU0BBu+GYUmVTQHhNM/RMblNArt+ET0d3U0DkcdaqQYBTQBoEKAY8iVNAUZZ5YTaSU0CIKMu8MJtTQL66HBgrpFNA9ExucyWtU0Aq37/OH7ZTQGFxESoav1NAmANjhRTIU0DOlbTgDtFTQAQoBjwJ2lNAOrpXlwPjU0BxTKny/etTQKje+k349FNA3nBMqfL9U0AUA54E7QZUQEqV71/nD1RAgSdBu+EYVEC3uZIW3CFUQO5L5HHWKlRAJN41zdAzVEBacIcoyzxUQJEC2YPFRVRAx5Qq379OVED9Jnw6uldUQDS5zZW0YFRAaksf8a5pVECh3XBMqXJUQNdvwqeje1RADQIUA56EVEBElGVemI1UQHomt7mSllRAsbgIFY2fVEDnSlpwh6hUQB3dq8uBsVRAVG/9Jny6VECKAU+CdsNUQMCToN1wzFRA9yXyOGvVVEAtuEOUZd5UQGRKle9f51RAmtzmSlrwVEDQbjimVPlUQAcBigFPAlVAPZPbXEkLVUBzJS24QxRVQKq3fhM+HVVA4EnQbjgmVUAX3CHKMi9VQE1ucyUtOFVAgwDFgCdBVUC6khbcIUpVQPAkaDccU1VAJ7e5khZcVUBdSQvuEGVVQJPbXEkLblVAym2upAV3VUAAAAAAAIBVQA==",
          "dtype": "f8"
         },
         "xaxis": "x2",
         "y": {
          "bdata": "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",
          "dtype": "f8"
         },
         "yaxis": "y2"
        },
        {
         "mode": "lines",
         "name": "Flex fuel",
         "type": "scatter",
         "x": {
          "bdata": "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",
          "dtype": "f8"
         },
         "xaxis": "x3",
         "y": {
          "bdata": "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",
          "dtype": "f8"
         },
         "yaxis": "y3"
        },
        {
         "mode": "lines",
         "name": "Diesel",
         "type": "scatter",
         "x": {
          "bdata": "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",
          "dtype": "f8"
         },
         "xaxis": "x4",
         "y": {
          "bdata": "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",
          "dtype": "f8"
         },
         "yaxis": "y4"
        }
       ],
       "layout": {
        "annotations": [
         {
          "font": {
           "size": 16
          },
          "showarrow": false,
          "text": "Gasoline",
          "x": 0.225,
          "xanchor": "center",
          "xref": "paper",
          "y": 1,
          "yanchor": "bottom",
          "yref": "paper"
         },
         {
          "font": {
           "size": 16
          },
          "showarrow": false,
          "text": "Hybrid",
          "x": 0.775,
          "xanchor": "center",
          "xref": "paper",
          "y": 1,
          "yanchor": "bottom",
          "yref": "paper"
         },
         {
          "font": {
           "size": 16
          },
          "showarrow": false,
          "text": "Flex fuel",
          "x": 0.225,
          "xanchor": "center",
          "xref": "paper",
          "y": 0.375,
          "yanchor": "bottom",
          "yref": "paper"
         },
         {
          "font": {
           "size": 16
          },
          "showarrow": false,
          "text": "Diesel",
          "x": 0.775,
          "xanchor": "center",
          "xref": "paper",
          "y": 0.375,
          "yanchor": "bottom",
          "yref": "paper"
         }
        ],
        "height": 600,
        "showlegend": false,
        "template": {
         "data": {
          "bar": [
           {
            "error_x": {
             "color": "#2a3f5f"
            },
            "error_y": {
             "color": "#2a3f5f"
            },
            "marker": {
             "line": {
              "color": "white",
              "width": 0.5
             },
             "pattern": {
              "fillmode": "overlay",
              "size": 10,
              "solidity": 0.2
             }
            },
            "type": "bar"
           }
          ],
          "barpolar": [
           {
            "marker": {
             "line": {
              "color": "white",
              "width": 0.5
             },
             "pattern": {
              "fillmode": "overlay",
              "size": 10,
              "solidity": 0.2
             }
            },
            "type": "barpolar"
           }
          ],
          "carpet": [
           {
            "aaxis": {
             "endlinecolor": "#2a3f5f",
             "gridcolor": "#C8D4E3",
             "linecolor": "#C8D4E3",
             "minorgridcolor": "#C8D4E3",
             "startlinecolor": "#2a3f5f"
            },
            "baxis": {
             "endlinecolor": "#2a3f5f",
             "gridcolor": "#C8D4E3",
             "linecolor": "#C8D4E3",
             "minorgridcolor": "#C8D4E3",
             "startlinecolor": "#2a3f5f"
            },
            "type": "carpet"
           }
          ],
          "choropleth": [
           {
            "colorbar": {
             "outlinewidth": 0,
             "ticks": ""
            },
            "type": "choropleth"
           }
          ],
          "contour": [
           {
            "colorbar": {
             "outlinewidth": 0,
             "ticks": ""
            },
            "colorscale": [
             [
              0,
              "#0d0887"
             ],
             [
              0.1111111111111111,
              "#46039f"
             ],
             [
              0.2222222222222222,
              "#7201a8"
             ],
             [
              0.3333333333333333,
              "#9c179e"
             ],
             [
              0.4444444444444444,
              "#bd3786"
             ],
             [
              0.5555555555555556,
              "#d8576b"
             ],
             [
              0.6666666666666666,
              "#ed7953"
             ],
             [
              0.7777777777777778,
              "#fb9f3a"
             ],
             [
              0.8888888888888888,
              "#fdca26"
             ],
             [
              1,
              "#f0f921"
             ]
            ],
            "type": "contour"
           }
          ],
          "contourcarpet": [
           {
            "colorbar": {
             "outlinewidth": 0,
             "ticks": ""
            },
            "type": "contourcarpet"
           }
          ],
          "heatmap": [
           {
            "colorbar": {
             "outlinewidth": 0,
             "ticks": ""
            },
            "colorscale": [
             [
              0,
              "#0d0887"
             ],
             [
              0.1111111111111111,
              "#46039f"
             ],
             [
              0.2222222222222222,
              "#7201a8"
             ],
             [
              0.3333333333333333,
              "#9c179e"
             ],
             [
              0.4444444444444444,
              "#bd3786"
             ],
             [
              0.5555555555555556,
              "#d8576b"
             ],
             [
              0.6666666666666666,
              "#ed7953"
             ],
             [
              0.7777777777777778,
              "#fb9f3a"
             ],
             [
              0.8888888888888888,
              "#fdca26"
             ],
             [
              1,
              "#f0f921"
             ]
            ],
            "type": "heatmap"
           }
          ],
          "histogram": [
           {
            "marker": {
             "pattern": {
              "fillmode": "overlay",
              "size": 10,
              "solidity": 0.2
             }
            },
            "type": "histogram"
           }
          ],
          "histogram2d": [
           {
            "colorbar": {
             "outlinewidth": 0,
             "ticks": ""
            },
            "colorscale": [
             [
              0,
              "#0d0887"
             ],
             [
              0.1111111111111111,
              "#46039f"
             ],
             [
              0.2222222222222222,
              "#7201a8"
             ],
             [
              0.3333333333333333,
              "#9c179e"
             ],
             [
              0.4444444444444444,
              "#bd3786"
             ],
             [
              0.5555555555555556,
              "#d8576b"
             ],
             [
              0.6666666666666666,
              "#ed7953"
             ],
             [
              0.7777777777777778,
              "#fb9f3a"
             ],
             [
              0.8888888888888888,
              "#fdca26"
             ],
             [
              1,
              "#f0f921"
             ]
            ],
            "type": "histogram2d"
           }
          ],
          "histogram2dcontour": [
           {
            "colorbar": {
             "outlinewidth": 0,
             "ticks": ""
            },
            "colorscale": [
             [
              0,
              "#0d0887"
             ],
             [
              0.1111111111111111,
              "#46039f"
             ],
             [
              0.2222222222222222,
              "#7201a8"
             ],
             [
              0.3333333333333333,
              "#9c179e"
             ],
             [
              0.4444444444444444,
              "#bd3786"
             ],
             [
              0.5555555555555556,
              "#d8576b"
             ],
             [
              0.6666666666666666,
              "#ed7953"
             ],
             [
              0.7777777777777778,
              "#fb9f3a"
             ],
             [
              0.8888888888888888,
              "#fdca26"
             ],
             [
              1,
              "#f0f921"
             ]
            ],
            "type": "histogram2dcontour"
           }
          ],
          "mesh3d": [
           {
            "colorbar": {
             "outlinewidth": 0,
             "ticks": ""
            },
            "type": "mesh3d"
           }
          ],
          "parcoords": [
           {
            "line": {
             "colorbar": {
              "outlinewidth": 0,
              "ticks": ""
             }
            },
            "type": "parcoords"
           }
          ],
          "pie": [
           {
            "automargin": true,
            "type": "pie"
           }
          ],
          "scatter": [
           {
            "fillpattern": {
             "fillmode": "overlay",
             "size": 10,
             "solidity": 0.2
            },
            "type": "scatter"
           }
          ],
          "scatter3d": [
           {
            "line": {
             "colorbar": {
              "outlinewidth": 0,
              "ticks": ""
             }
            },
            "marker": {
             "colorbar": {
              "outlinewidth": 0,
              "ticks": ""
             }
            },
            "type": "scatter3d"
           }
          ],
          "scattercarpet": [
           {
            "marker": {
             "colorbar": {
              "outlinewidth": 0,
              "ticks": ""
             }
            },
            "type": "scattercarpet"
           }
          ],
          "scattergeo": [
           {
            "marker": {
             "colorbar": {
              "outlinewidth": 0,
              "ticks": ""
             }
            },
            "type": "scattergeo"
           }
          ],
          "scattergl": [
           {
            "marker": {
             "colorbar": {
              "outlinewidth": 0,
              "ticks": ""
             }
            },
            "type": "scattergl"
           }
          ],
          "scattermap": [
           {
            "marker": {
             "colorbar": {
              "outlinewidth": 0,
              "ticks": ""
             }
            },
            "type": "scattermap"
           }
          ],
          "scattermapbox": [
           {
            "marker": {
             "colorbar": {
              "outlinewidth": 0,
              "ticks": ""
             }
            },
            "type": "scattermapbox"
           }
          ],
          "scatterpolar": [
           {
            "marker": {
             "colorbar": {
              "outlinewidth": 0,
              "ticks": ""
             }
            },
            "type": "scatterpolar"
           }
          ],
          "scatterpolargl": [
           {
            "marker": {
             "colorbar": {
              "outlinewidth": 0,
              "ticks": ""
             }
            },
            "type": "scatterpolargl"
           }
          ],
          "scatterternary": [
           {
            "marker": {
             "colorbar": {
              "outlinewidth": 0,
              "ticks": ""
             }
            },
            "type": "scatterternary"
           }
          ],
          "surface": [
           {
            "colorbar": {
             "outlinewidth": 0,
             "ticks": ""
            },
            "colorscale": [
             [
              0,
              "#0d0887"
             ],
             [
              0.1111111111111111,
              "#46039f"
             ],
             [
              0.2222222222222222,
              "#7201a8"
             ],
             [
              0.3333333333333333,
              "#9c179e"
             ],
             [
              0.4444444444444444,
              "#bd3786"
             ],
             [
              0.5555555555555556,
              "#d8576b"
             ],
             [
              0.6666666666666666,
              "#ed7953"
             ],
             [
              0.7777777777777778,
              "#fb9f3a"
             ],
             [
              0.8888888888888888,
              "#fdca26"
             ],
             [
              1,
              "#f0f921"
             ]
            ],
            "type": "surface"
           }
          ],
          "table": [
           {
            "cells": {
             "fill": {
              "color": "#EBF0F8"
             },
             "line": {
              "color": "white"
             }
            },
            "header": {
             "fill": {
              "color": "#C8D4E3"
             },
             "line": {
              "color": "white"
             }
            },
            "type": "table"
           }
          ]
         },
         "layout": {
          "annotationdefaults": {
           "arrowcolor": "#2a3f5f",
           "arrowhead": 0,
           "arrowwidth": 1
          },
          "autotypenumbers": "strict",
          "coloraxis": {
           "colorbar": {
            "outlinewidth": 0,
            "ticks": ""
           }
          },
          "colorscale": {
           "diverging": [
            [
             0,
             "#8e0152"
            ],
            [
             0.1,
             "#c51b7d"
            ],
            [
             0.2,
             "#de77ae"
            ],
            [
             0.3,
             "#f1b6da"
            ],
            [
             0.4,
             "#fde0ef"
            ],
            [
             0.5,
             "#f7f7f7"
            ],
            [
             0.6,
             "#e6f5d0"
            ],
            [
             0.7,
             "#b8e186"
            ],
            [
             0.8,
             "#7fbc41"
            ],
            [
             0.9,
             "#4d9221"
            ],
            [
             1,
             "#276419"
            ]
           ],
           "sequential": [
            [
             0,
             "#0d0887"
            ],
            [
             0.1111111111111111,
             "#46039f"
            ],
            [
             0.2222222222222222,
             "#7201a8"
            ],
            [
             0.3333333333333333,
             "#9c179e"
            ],
            [
             0.4444444444444444,
             "#bd3786"
            ],
            [
             0.5555555555555556,
             "#d8576b"
            ],
            [
             0.6666666666666666,
             "#ed7953"
            ],
            [
             0.7777777777777778,
             "#fb9f3a"
            ],
            [
             0.8888888888888888,
             "#fdca26"
            ],
            [
             1,
             "#f0f921"
            ]
           ],
           "sequentialminus": [
            [
             0,
             "#0d0887"
            ],
            [
             0.1111111111111111,
             "#46039f"
            ],
            [
             0.2222222222222222,
             "#7201a8"
            ],
            [
             0.3333333333333333,
             "#9c179e"
            ],
            [
             0.4444444444444444,
             "#bd3786"
            ],
            [
             0.5555555555555556,
             "#d8576b"
            ],
            [
             0.6666666666666666,
             "#ed7953"
            ],
            [
             0.7777777777777778,
             "#fb9f3a"
            ],
            [
             0.8888888888888888,
             "#fdca26"
            ],
            [
             1,
             "#f0f921"
            ]
           ]
          },
          "colorway": [
           "#636efa",
           "#EF553B",
           "#00cc96",
           "#ab63fa",
           "#FFA15A",
           "#19d3f3",
           "#FF6692",
           "#B6E880",
           "#FF97FF",
           "#FECB52"
          ],
          "font": {
           "color": "#2a3f5f"
          },
          "geo": {
           "bgcolor": "white",
           "lakecolor": "white",
           "landcolor": "white",
           "showlakes": true,
           "showland": true,
           "subunitcolor": "#C8D4E3"
          },
          "hoverlabel": {
           "align": "left"
          },
          "hovermode": "closest",
          "mapbox": {
           "style": "light"
          },
          "paper_bgcolor": "white",
          "plot_bgcolor": "white",
          "polar": {
           "angularaxis": {
            "gridcolor": "#EBF0F8",
            "linecolor": "#EBF0F8",
            "ticks": ""
           },
           "bgcolor": "white",
           "radialaxis": {
            "gridcolor": "#EBF0F8",
            "linecolor": "#EBF0F8",
            "ticks": ""
           }
          },
          "scene": {
           "xaxis": {
            "backgroundcolor": "white",
            "gridcolor": "#DFE8F3",
            "gridwidth": 2,
            "linecolor": "#EBF0F8",
            "showbackground": true,
            "ticks": "",
            "zerolinecolor": "#EBF0F8"
           },
           "yaxis": {
            "backgroundcolor": "white",
            "gridcolor": "#DFE8F3",
            "gridwidth": 2,
            "linecolor": "#EBF0F8",
            "showbackground": true,
            "ticks": "",
            "zerolinecolor": "#EBF0F8"
           },
           "zaxis": {
            "backgroundcolor": "white",
            "gridcolor": "#DFE8F3",
            "gridwidth": 2,
            "linecolor": "#EBF0F8",
            "showbackground": true,
            "ticks": "",
            "zerolinecolor": "#EBF0F8"
           }
          },
          "shapedefaults": {
           "line": {
            "color": "#2a3f5f"
           }
          },
          "ternary": {
           "aaxis": {
            "gridcolor": "#DFE8F3",
            "linecolor": "#A2B1C6",
            "ticks": ""
           },
           "baxis": {
            "gridcolor": "#DFE8F3",
            "linecolor": "#A2B1C6",
            "ticks": ""
           },
           "bgcolor": "white",
           "caxis": {
            "gridcolor": "#DFE8F3",
            "linecolor": "#A2B1C6",
            "ticks": ""
           }
          },
          "title": {
           "x": 0.05
          },
          "xaxis": {
           "automargin": true,
           "gridcolor": "#EBF0F8",
           "linecolor": "#EBF0F8",
           "ticks": "",
           "title": {
            "standoff": 15
           },
           "zerolinecolor": "#EBF0F8",
           "zerolinewidth": 2
          },
          "yaxis": {
           "automargin": true,
           "gridcolor": "#EBF0F8",
           "linecolor": "#EBF0F8",
           "ticks": "",
           "title": {
            "standoff": 15
           },
           "zerolinecolor": "#EBF0F8",
           "zerolinewidth": 2
          }
         }
        },
        "title": {
         "text": "Mileage Distribution by Fuel Type (KDE)"
        },
        "width": 1000,
        "xaxis": {
         "anchor": "y",
         "domain": [
          0,
          0.45
         ],
         "title": {
          "text": "Mileage (mpg)"
         }
        },
        "xaxis2": {
         "anchor": "y2",
         "domain": [
          0.55,
          1
         ],
         "title": {
          "text": "Mileage (mpg)"
         }
        },
        "xaxis3": {
         "anchor": "y3",
         "domain": [
          0,
          0.45
         ],
         "title": {
          "text": "Mileage (mpg)"
         }
        },
        "xaxis4": {
         "anchor": "y4",
         "domain": [
          0.55,
          1
         ],
         "title": {
          "text": "Mileage (mpg)"
         }
        },
        "yaxis": {
         "anchor": "x",
         "domain": [
          0.625,
          1
         ],
         "title": {
          "text": "Density"
         }
        },
        "yaxis2": {
         "anchor": "x2",
         "domain": [
          0.625,
          1
         ],
         "title": {
          "text": "Density"
         }
        },
        "yaxis3": {
         "anchor": "x3",
         "domain": [
          0,
          0.375
         ],
         "title": {
          "text": "Density"
         }
        },
        "yaxis4": {
         "anchor": "x4",
         "domain": [
          0,
          0.375
         ],
         "title": {
          "text": "Density"
         }
        }
       }
      }
     },
     "metadata": {},
     "output_type": "display_data"
    }
   ],
   "source": [
    "from plotly.subplots import make_subplots\n",
    "\n",
    "\n",
    "fuel_types = ['gasoline', 'hybrid', 'flex fuel','diesel']\n",
    "\n",
    "\n",
    "fig = make_subplots(\n",
    "    rows=2, cols=2,\n",
    "    subplot_titles=[ft.capitalize() for ft in fuel_types],\n",
    "    shared_xaxes=False,\n",
    "    shared_yaxes=False\n",
    ")\n",
    "\n",
    "row_col_map = [(1, 1), (1, 2), (2, 1), (2, 2)]\n",
    "\n",
    "for i, fuel in enumerate(fuel_types):\n",
    "    row, col = row_col_map[i]\n",
    "\n",
    "    subset = data[data['fuel_type'] == fuel]\n",
    "\n",
    "   \n",
    "    mpg_values = pd.to_numeric(subset['mpg'], errors='coerce').dropna()\n",
    "\n",
    "    if len(mpg_values) > 1:\n",
    "        kde = gaussian_kde(mpg_values)\n",
    "        x = np.linspace(mpg_values.min(), mpg_values.max(), 500)\n",
    "        y = kde(x)\n",
    "\n",
    "        \n",
    "        fig.add_trace(\n",
    "            go.Scatter(x=x, y=y, mode='lines', name=fuel.capitalize()),\n",
    "            row=row, col=col\n",
    "        )\n",
    "\n",
    "\n",
    "fig.update_layout(\n",
    "    height=600,\n",
    "    width=1000,\n",
    "    title_text='Mileage Distribution by Fuel Type (KDE)',\n",
    "    template='plotly_white',\n",
    "    showlegend=False\n",
    ")\n",
    "\n",
    "fig.update_xaxes(title_text=\"Mileage (mpg)\")\n",
    "fig.update_yaxes(title_text=\"Density\")\n",
    "\n",
    "fig.show()\n"
   ]
  },
  {
   "cell_type": "code",
   "execution_count": 152,
   "id": "06ced9d5",
   "metadata": {},
   "outputs": [
    {
     "name": "stderr",
     "output_type": "stream",
     "text": [
      "C:\\Users\\Kartik\\AppData\\Local\\Temp\\ipykernel_13416\\1637220966.py:3: SettingWithCopyWarning:\n",
      "\n",
      "\n",
      "A value is trying to be set on a copy of a slice from a DataFrame.\n",
      "Try using .loc[row_indexer,col_indexer] = value instead\n",
      "\n",
      "See the caveats in the documentation: https://pandas.pydata.org/pandas-docs/stable/user_guide/indexing.html#returning-a-view-versus-a-copy\n",
      "\n"
     ]
    },
    {
     "data": {
      "application/vnd.plotly.v1+json": {
       "config": {
        "plotlyServerURL": "https://plot.ly"
       },
       "data": [
        {
         "hovertemplate": "Mileage (mpg)=%{x}<br>Density=%{y}<extra></extra>",
         "legendgroup": "",
         "line": {
          "color": "#636efa",
          "dash": "solid"
         },
         "marker": {
          "symbol": "circle"
         },
         "mode": "lines",
         "name": "",
         "orientation": "v",
         "showlegend": false,
         "type": "scatter",
         "x": {
          "bdata": "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",
          "dtype": "f8"
         },
         "xaxis": "x",
         "y": {
          "bdata": "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",
          "dtype": "f8"
         },
         "yaxis": "y"
        }
       ],
       "layout": {
        "legend": {
         "tracegroupgap": 0
        },
        "template": {
         "data": {
          "bar": [
           {
            "error_x": {
             "color": "#2a3f5f"
            },
            "error_y": {
             "color": "#2a3f5f"
            },
            "marker": {
             "line": {
              "color": "white",
              "width": 0.5
             },
             "pattern": {
              "fillmode": "overlay",
              "size": 10,
              "solidity": 0.2
             }
            },
            "type": "bar"
           }
          ],
          "barpolar": [
           {
            "marker": {
             "line": {
              "color": "white",
              "width": 0.5
             },
             "pattern": {
              "fillmode": "overlay",
              "size": 10,
              "solidity": 0.2
             }
            },
            "type": "barpolar"
           }
          ],
          "carpet": [
           {
            "aaxis": {
             "endlinecolor": "#2a3f5f",
             "gridcolor": "#C8D4E3",
             "linecolor": "#C8D4E3",
             "minorgridcolor": "#C8D4E3",
             "startlinecolor": "#2a3f5f"
            },
            "baxis": {
             "endlinecolor": "#2a3f5f",
             "gridcolor": "#C8D4E3",
             "linecolor": "#C8D4E3",
             "minorgridcolor": "#C8D4E3",
             "startlinecolor": "#2a3f5f"
            },
            "type": "carpet"
           }
          ],
          "choropleth": [
           {
            "colorbar": {
             "outlinewidth": 0,
             "ticks": ""
            },
            "type": "choropleth"
           }
          ],
          "contour": [
           {
            "colorbar": {
             "outlinewidth": 0,
             "ticks": ""
            },
            "colorscale": [
             [
              0,
              "#0d0887"
             ],
             [
              0.1111111111111111,
              "#46039f"
             ],
             [
              0.2222222222222222,
              "#7201a8"
             ],
             [
              0.3333333333333333,
              "#9c179e"
             ],
             [
              0.4444444444444444,
              "#bd3786"
             ],
             [
              0.5555555555555556,
              "#d8576b"
             ],
             [
              0.6666666666666666,
              "#ed7953"
             ],
             [
              0.7777777777777778,
              "#fb9f3a"
             ],
             [
              0.8888888888888888,
              "#fdca26"
             ],
             [
              1,
              "#f0f921"
             ]
            ],
            "type": "contour"
           }
          ],
          "contourcarpet": [
           {
            "colorbar": {
             "outlinewidth": 0,
             "ticks": ""
            },
            "type": "contourcarpet"
           }
          ],
          "heatmap": [
           {
            "colorbar": {
             "outlinewidth": 0,
             "ticks": ""
            },
            "colorscale": [
             [
              0,
              "#0d0887"
             ],
             [
              0.1111111111111111,
              "#46039f"
             ],
             [
              0.2222222222222222,
              "#7201a8"
             ],
             [
              0.3333333333333333,
              "#9c179e"
             ],
             [
              0.4444444444444444,
              "#bd3786"
             ],
             [
              0.5555555555555556,
              "#d8576b"
             ],
             [
              0.6666666666666666,
              "#ed7953"
             ],
             [
              0.7777777777777778,
              "#fb9f3a"
             ],
             [
              0.8888888888888888,
              "#fdca26"
             ],
             [
              1,
              "#f0f921"
             ]
            ],
            "type": "heatmap"
           }
          ],
          "histogram": [
           {
            "marker": {
             "pattern": {
              "fillmode": "overlay",
              "size": 10,
              "solidity": 0.2
             }
            },
            "type": "histogram"
           }
          ],
          "histogram2d": [
           {
            "colorbar": {
             "outlinewidth": 0,
             "ticks": ""
            },
            "colorscale": [
             [
              0,
              "#0d0887"
             ],
             [
              0.1111111111111111,
              "#46039f"
             ],
             [
              0.2222222222222222,
              "#7201a8"
             ],
             [
              0.3333333333333333,
              "#9c179e"
             ],
             [
              0.4444444444444444,
              "#bd3786"
             ],
             [
              0.5555555555555556,
              "#d8576b"
             ],
             [
              0.6666666666666666,
              "#ed7953"
             ],
             [
              0.7777777777777778,
              "#fb9f3a"
             ],
             [
              0.8888888888888888,
              "#fdca26"
             ],
             [
              1,
              "#f0f921"
             ]
            ],
            "type": "histogram2d"
           }
          ],
          "histogram2dcontour": [
           {
            "colorbar": {
             "outlinewidth": 0,
             "ticks": ""
            },
            "colorscale": [
             [
              0,
              "#0d0887"
             ],
             [
              0.1111111111111111,
              "#46039f"
             ],
             [
              0.2222222222222222,
              "#7201a8"
             ],
             [
              0.3333333333333333,
              "#9c179e"
             ],
             [
              0.4444444444444444,
              "#bd3786"
             ],
             [
              0.5555555555555556,
              "#d8576b"
             ],
             [
              0.6666666666666666,
              "#ed7953"
             ],
             [
              0.7777777777777778,
              "#fb9f3a"
             ],
             [
              0.8888888888888888,
              "#fdca26"
             ],
             [
              1,
              "#f0f921"
             ]
            ],
            "type": "histogram2dcontour"
           }
          ],
          "mesh3d": [
           {
            "colorbar": {
             "outlinewidth": 0,
             "ticks": ""
            },
            "type": "mesh3d"
           }
          ],
          "parcoords": [
           {
            "line": {
             "colorbar": {
              "outlinewidth": 0,
              "ticks": ""
             }
            },
            "type": "parcoords"
           }
          ],
          "pie": [
           {
            "automargin": true,
            "type": "pie"
           }
          ],
          "scatter": [
           {
            "fillpattern": {
             "fillmode": "overlay",
             "size": 10,
             "solidity": 0.2
            },
            "type": "scatter"
           }
          ],
          "scatter3d": [
           {
            "line": {
             "colorbar": {
              "outlinewidth": 0,
              "ticks": ""
             }
            },
            "marker": {
             "colorbar": {
              "outlinewidth": 0,
              "ticks": ""
             }
            },
            "type": "scatter3d"
           }
          ],
          "scattercarpet": [
           {
            "marker": {
             "colorbar": {
              "outlinewidth": 0,
              "ticks": ""
             }
            },
            "type": "scattercarpet"
           }
          ],
          "scattergeo": [
           {
            "marker": {
             "colorbar": {
              "outlinewidth": 0,
              "ticks": ""
             }
            },
            "type": "scattergeo"
           }
          ],
          "scattergl": [
           {
            "marker": {
             "colorbar": {
              "outlinewidth": 0,
              "ticks": ""
             }
            },
            "type": "scattergl"
           }
          ],
          "scattermap": [
           {
            "marker": {
             "colorbar": {
              "outlinewidth": 0,
              "ticks": ""
             }
            },
            "type": "scattermap"
           }
          ],
          "scattermapbox": [
           {
            "marker": {
             "colorbar": {
              "outlinewidth": 0,
              "ticks": ""
             }
            },
            "type": "scattermapbox"
           }
          ],
          "scatterpolar": [
           {
            "marker": {
             "colorbar": {
              "outlinewidth": 0,
              "ticks": ""
             }
            },
            "type": "scatterpolar"
           }
          ],
          "scatterpolargl": [
           {
            "marker": {
             "colorbar": {
              "outlinewidth": 0,
              "ticks": ""
             }
            },
            "type": "scatterpolargl"
           }
          ],
          "scatterternary": [
           {
            "marker": {
             "colorbar": {
              "outlinewidth": 0,
              "ticks": ""
             }
            },
            "type": "scatterternary"
           }
          ],
          "surface": [
           {
            "colorbar": {
             "outlinewidth": 0,
             "ticks": ""
            },
            "colorscale": [
             [
              0,
              "#0d0887"
             ],
             [
              0.1111111111111111,
              "#46039f"
             ],
             [
              0.2222222222222222,
              "#7201a8"
             ],
             [
              0.3333333333333333,
              "#9c179e"
             ],
             [
              0.4444444444444444,
              "#bd3786"
             ],
             [
              0.5555555555555556,
              "#d8576b"
             ],
             [
              0.6666666666666666,
              "#ed7953"
             ],
             [
              0.7777777777777778,
              "#fb9f3a"
             ],
             [
              0.8888888888888888,
              "#fdca26"
             ],
             [
              1,
              "#f0f921"
             ]
            ],
            "type": "surface"
           }
          ],
          "table": [
           {
            "cells": {
             "fill": {
              "color": "#EBF0F8"
             },
             "line": {
              "color": "white"
             }
            },
            "header": {
             "fill": {
              "color": "#C8D4E3"
             },
             "line": {
              "color": "white"
             }
            },
            "type": "table"
           }
          ]
         },
         "layout": {
          "annotationdefaults": {
           "arrowcolor": "#2a3f5f",
           "arrowhead": 0,
           "arrowwidth": 1
          },
          "autotypenumbers": "strict",
          "coloraxis": {
           "colorbar": {
            "outlinewidth": 0,
            "ticks": ""
           }
          },
          "colorscale": {
           "diverging": [
            [
             0,
             "#8e0152"
            ],
            [
             0.1,
             "#c51b7d"
            ],
            [
             0.2,
             "#de77ae"
            ],
            [
             0.3,
             "#f1b6da"
            ],
            [
             0.4,
             "#fde0ef"
            ],
            [
             0.5,
             "#f7f7f7"
            ],
            [
             0.6,
             "#e6f5d0"
            ],
            [
             0.7,
             "#b8e186"
            ],
            [
             0.8,
             "#7fbc41"
            ],
            [
             0.9,
             "#4d9221"
            ],
            [
             1,
             "#276419"
            ]
           ],
           "sequential": [
            [
             0,
             "#0d0887"
            ],
            [
             0.1111111111111111,
             "#46039f"
            ],
            [
             0.2222222222222222,
             "#7201a8"
            ],
            [
             0.3333333333333333,
             "#9c179e"
            ],
            [
             0.4444444444444444,
             "#bd3786"
            ],
            [
             0.5555555555555556,
             "#d8576b"
            ],
            [
             0.6666666666666666,
             "#ed7953"
            ],
            [
             0.7777777777777778,
             "#fb9f3a"
            ],
            [
             0.8888888888888888,
             "#fdca26"
            ],
            [
             1,
             "#f0f921"
            ]
           ],
           "sequentialminus": [
            [
             0,
             "#0d0887"
            ],
            [
             0.1111111111111111,
             "#46039f"
            ],
            [
             0.2222222222222222,
             "#7201a8"
            ],
            [
             0.3333333333333333,
             "#9c179e"
            ],
            [
             0.4444444444444444,
             "#bd3786"
            ],
            [
             0.5555555555555556,
             "#d8576b"
            ],
            [
             0.6666666666666666,
             "#ed7953"
            ],
            [
             0.7777777777777778,
             "#fb9f3a"
            ],
            [
             0.8888888888888888,
             "#fdca26"
            ],
            [
             1,
             "#f0f921"
            ]
           ]
          },
          "colorway": [
           "#636efa",
           "#EF553B",
           "#00cc96",
           "#ab63fa",
           "#FFA15A",
           "#19d3f3",
           "#FF6692",
           "#B6E880",
           "#FF97FF",
           "#FECB52"
          ],
          "font": {
           "color": "#2a3f5f"
          },
          "geo": {
           "bgcolor": "white",
           "lakecolor": "white",
           "landcolor": "white",
           "showlakes": true,
           "showland": true,
           "subunitcolor": "#C8D4E3"
          },
          "hoverlabel": {
           "align": "left"
          },
          "hovermode": "closest",
          "mapbox": {
           "style": "light"
          },
          "paper_bgcolor": "white",
          "plot_bgcolor": "white",
          "polar": {
           "angularaxis": {
            "gridcolor": "#EBF0F8",
            "linecolor": "#EBF0F8",
            "ticks": ""
           },
           "bgcolor": "white",
           "radialaxis": {
            "gridcolor": "#EBF0F8",
            "linecolor": "#EBF0F8",
            "ticks": ""
           }
          },
          "scene": {
           "xaxis": {
            "backgroundcolor": "white",
            "gridcolor": "#DFE8F3",
            "gridwidth": 2,
            "linecolor": "#EBF0F8",
            "showbackground": true,
            "ticks": "",
            "zerolinecolor": "#EBF0F8"
           },
           "yaxis": {
            "backgroundcolor": "white",
            "gridcolor": "#DFE8F3",
            "gridwidth": 2,
            "linecolor": "#EBF0F8",
            "showbackground": true,
            "ticks": "",
            "zerolinecolor": "#EBF0F8"
           },
           "zaxis": {
            "backgroundcolor": "white",
            "gridcolor": "#DFE8F3",
            "gridwidth": 2,
            "linecolor": "#EBF0F8",
            "showbackground": true,
            "ticks": "",
            "zerolinecolor": "#EBF0F8"
           }
          },
          "shapedefaults": {
           "line": {
            "color": "#2a3f5f"
           }
          },
          "ternary": {
           "aaxis": {
            "gridcolor": "#DFE8F3",
            "linecolor": "#A2B1C6",
            "ticks": ""
           },
           "baxis": {
            "gridcolor": "#DFE8F3",
            "linecolor": "#A2B1C6",
            "ticks": ""
           },
           "bgcolor": "white",
           "caxis": {
            "gridcolor": "#DFE8F3",
            "linecolor": "#A2B1C6",
            "ticks": ""
           }
          },
          "title": {
           "x": 0.05
          },
          "xaxis": {
           "automargin": true,
           "gridcolor": "#EBF0F8",
           "linecolor": "#EBF0F8",
           "ticks": "",
           "title": {
            "standoff": 15
           },
           "zerolinecolor": "#EBF0F8",
           "zerolinewidth": 2
          },
          "yaxis": {
           "automargin": true,
           "gridcolor": "#EBF0F8",
           "linecolor": "#EBF0F8",
           "ticks": "",
           "title": {
            "standoff": 15
           },
           "zerolinecolor": "#EBF0F8",
           "zerolinewidth": 2
          }
         }
        },
        "title": {
         "text": "Mileage Distribution for non Electric Cars (KDE)"
        },
        "xaxis": {
         "anchor": "y",
         "domain": [
          0,
          1
         ],
         "title": {
          "text": "Mileage (mpg)"
         }
        },
        "yaxis": {
         "anchor": "x",
         "domain": [
          0,
          1
         ],
         "title": {
          "text": "Density"
         }
        }
       }
      }
     },
     "metadata": {},
     "output_type": "display_data"
    }
   ],
   "source": [
    "mileage_fuel = data[data['fuel_type'] == 'gasoline']\n",
    "\n",
    "mileage_fuel['mpg'] = pd.to_numeric(mileage_fuel['mpg'], errors='coerce')\n",
    "\n",
    "mpg_values = mileage_fuel['mpg'].dropna()\n",
    "\n",
    "\n",
    "\n",
    "\n",
    "if len(mpg_values) > 1:\n",
    " \n",
    "    kde = gaussian_kde(mpg_values)\n",
    "\n",
    "\n",
    "    x = np.linspace(mpg_values.min(), mpg_values.max(), 500)\n",
    "    y = kde(x)\n",
    "\n",
    "\n",
    "    fig = px.line(x=x, y=y, labels={'x': 'Mileage (mpg)', 'y': 'Density'},\n",
    "                  title='Mileage Distribution for non Electric Cars (KDE)')\n",
    "    fig.update_layout(template='plotly_white')\n",
    "    fig.show()\n",
    "\n",
    "else:\n",
    "    print(\"Not enough data points to plot KDE for  cars.\")\n"
   ]
  },
  {
   "cell_type": "code",
   "execution_count": 85,
   "id": "8153995e",
   "metadata": {},
   "outputs": [
    {
     "data": {
      "text/plain": [
       "array(['Acura', 'Audi', 'BMW', 'Buick', 'Cadillac', 'Chevrolet',\n",
       "       'Chrysler', 'Dodge', 'Ford', 'GMC', 'Honda', 'Hyundai', 'INFINITI',\n",
       "       'Jaguar', 'Jeep', 'Kia', 'Land Rover', 'Lexus', 'Lincoln', 'Mazda',\n",
       "       'Mercedes-Benz', 'Mitsubishi', 'Nissan', 'Porsche', 'RAM',\n",
       "       'Subaru', 'Tesla', 'Toyota', 'Volkswagen', 'Volvo'], dtype=object)"
      ]
     },
     "execution_count": 85,
     "metadata": {},
     "output_type": "execute_result"
    }
   ],
   "source": [
    "data['manufacturer'].unique()"
   ]
  },
  {
   "cell_type": "code",
   "execution_count": 86,
   "id": "de263374",
   "metadata": {},
   "outputs": [],
   "source": [
    "data.loc[data['manufacturer'] == 'Tesla', 'fuel_category'] = data.loc[data['manufacturer'] == 'Tesla', 'fuel_category'].fillna('electric')\n",
    "\n",
    "data.loc[data['manufacturer'] == 'Tesla', 'engine'] = data.loc[data['manufacturer'] == 'Tesla', 'engine'].fillna('electric')\n"
   ]
  },
  {
   "cell_type": "code",
   "execution_count": 87,
   "id": "f97a94f6",
   "metadata": {},
   "outputs": [],
   "source": [
    "\n",
    "data['age_group'] = data['age_group'].fillna('0-20')"
   ]
  },
  {
   "cell_type": "code",
   "execution_count": null,
   "id": "e47a25f0",
   "metadata": {},
   "outputs": [],
   "source": []
  },
  {
   "cell_type": "code",
   "execution_count": 153,
   "id": "8232a51a",
   "metadata": {},
   "outputs": [
    {
     "data": {
      "text/html": [
       "<div>\n",
       "<style scoped>\n",
       "    .dataframe tbody tr th:only-of-type {\n",
       "        vertical-align: middle;\n",
       "    }\n",
       "\n",
       "    .dataframe tbody tr th {\n",
       "        vertical-align: top;\n",
       "    }\n",
       "\n",
       "    .dataframe thead th {\n",
       "        text-align: right;\n",
       "    }\n",
       "</style>\n",
       "<table border=\"1\" class=\"dataframe\">\n",
       "  <thead>\n",
       "    <tr style=\"text-align: right;\">\n",
       "      <th></th>\n",
       "      <th>Column</th>\n",
       "      <th>Unique Values</th>\n",
       "      <th>null values</th>\n",
       "    </tr>\n",
       "  </thead>\n",
       "  <tbody>\n",
       "    <tr>\n",
       "      <th>0</th>\n",
       "      <td>manufacturer</td>\n",
       "      <td>30</td>\n",
       "      <td>0</td>\n",
       "    </tr>\n",
       "    <tr>\n",
       "      <th>1</th>\n",
       "      <td>model</td>\n",
       "      <td>11916</td>\n",
       "      <td>0</td>\n",
       "    </tr>\n",
       "    <tr>\n",
       "      <th>2</th>\n",
       "      <td>year</td>\n",
       "      <td>99</td>\n",
       "      <td>0</td>\n",
       "    </tr>\n",
       "    <tr>\n",
       "      <th>3</th>\n",
       "      <td>mileage</td>\n",
       "      <td>158699</td>\n",
       "      <td>494</td>\n",
       "    </tr>\n",
       "    <tr>\n",
       "      <th>4</th>\n",
       "      <td>engine</td>\n",
       "      <td>6808</td>\n",
       "      <td>3600</td>\n",
       "    </tr>\n",
       "    <tr>\n",
       "      <th>5</th>\n",
       "      <td>transmission</td>\n",
       "      <td>1298</td>\n",
       "      <td>5449</td>\n",
       "    </tr>\n",
       "    <tr>\n",
       "      <th>6</th>\n",
       "      <td>drivetrain</td>\n",
       "      <td>28</td>\n",
       "      <td>11929</td>\n",
       "    </tr>\n",
       "    <tr>\n",
       "      <th>7</th>\n",
       "      <td>fuel_type</td>\n",
       "      <td>8</td>\n",
       "      <td>0</td>\n",
       "    </tr>\n",
       "    <tr>\n",
       "      <th>8</th>\n",
       "      <td>mpg</td>\n",
       "      <td>70</td>\n",
       "      <td>114567</td>\n",
       "    </tr>\n",
       "    <tr>\n",
       "      <th>9</th>\n",
       "      <td>exterior_color</td>\n",
       "      <td>7589</td>\n",
       "      <td>0</td>\n",
       "    </tr>\n",
       "    <tr>\n",
       "      <th>10</th>\n",
       "      <td>interior_color</td>\n",
       "      <td>4537</td>\n",
       "      <td>0</td>\n",
       "    </tr>\n",
       "    <tr>\n",
       "      <th>11</th>\n",
       "      <td>accidents_or_damage</td>\n",
       "      <td>3</td>\n",
       "      <td>0</td>\n",
       "    </tr>\n",
       "    <tr>\n",
       "      <th>12</th>\n",
       "      <td>one_owner</td>\n",
       "      <td>3</td>\n",
       "      <td>0</td>\n",
       "    </tr>\n",
       "    <tr>\n",
       "      <th>13</th>\n",
       "      <td>personal_use_only</td>\n",
       "      <td>3</td>\n",
       "      <td>0</td>\n",
       "    </tr>\n",
       "    <tr>\n",
       "      <th>14</th>\n",
       "      <td>seller_name</td>\n",
       "      <td>17453</td>\n",
       "      <td>0</td>\n",
       "    </tr>\n",
       "    <tr>\n",
       "      <th>15</th>\n",
       "      <td>seller_rating</td>\n",
       "      <td>41</td>\n",
       "      <td>209702</td>\n",
       "    </tr>\n",
       "    <tr>\n",
       "      <th>16</th>\n",
       "      <td>driver_rating</td>\n",
       "      <td>35</td>\n",
       "      <td>30754</td>\n",
       "    </tr>\n",
       "    <tr>\n",
       "      <th>17</th>\n",
       "      <td>driver_reviews_num</td>\n",
       "      <td>369</td>\n",
       "      <td>0</td>\n",
       "    </tr>\n",
       "    <tr>\n",
       "      <th>18</th>\n",
       "      <td>price_drop</td>\n",
       "      <td>6363</td>\n",
       "      <td>343345</td>\n",
       "    </tr>\n",
       "    <tr>\n",
       "      <th>19</th>\n",
       "      <td>price</td>\n",
       "      <td>63089</td>\n",
       "      <td>0</td>\n",
       "    </tr>\n",
       "    <tr>\n",
       "      <th>20</th>\n",
       "      <td>engine_size</td>\n",
       "      <td>84</td>\n",
       "      <td>42344</td>\n",
       "    </tr>\n",
       "    <tr>\n",
       "      <th>21</th>\n",
       "      <td>cylinders</td>\n",
       "      <td>20</td>\n",
       "      <td>123434</td>\n",
       "    </tr>\n",
       "    <tr>\n",
       "      <th>22</th>\n",
       "      <td>valves</td>\n",
       "      <td>16</td>\n",
       "      <td>119902</td>\n",
       "    </tr>\n",
       "    <tr>\n",
       "      <th>23</th>\n",
       "      <td>aspiration</td>\n",
       "      <td>6</td>\n",
       "      <td>508940</td>\n",
       "    </tr>\n",
       "    <tr>\n",
       "      <th>24</th>\n",
       "      <td>fuel_type_2</td>\n",
       "      <td>9</td>\n",
       "      <td>618474</td>\n",
       "    </tr>\n",
       "    <tr>\n",
       "      <th>25</th>\n",
       "      <td>injection_system</td>\n",
       "      <td>14</td>\n",
       "      <td>89900</td>\n",
       "    </tr>\n",
       "    <tr>\n",
       "      <th>26</th>\n",
       "      <td>configuration</td>\n",
       "      <td>6</td>\n",
       "      <td>75269</td>\n",
       "    </tr>\n",
       "    <tr>\n",
       "      <th>27</th>\n",
       "      <td>horsepower</td>\n",
       "      <td>658</td>\n",
       "      <td>725564</td>\n",
       "    </tr>\n",
       "    <tr>\n",
       "      <th>28</th>\n",
       "      <td>fuel_category</td>\n",
       "      <td>9</td>\n",
       "      <td>618474</td>\n",
       "    </tr>\n",
       "  </tbody>\n",
       "</table>\n",
       "</div>"
      ],
      "text/plain": [
       "                 Column  Unique Values  null values\n",
       "0          manufacturer             30            0\n",
       "1                 model          11916            0\n",
       "2                  year             99            0\n",
       "3               mileage         158699          494\n",
       "4                engine           6808         3600\n",
       "5          transmission           1298         5449\n",
       "6            drivetrain             28        11929\n",
       "7             fuel_type              8            0\n",
       "8                   mpg             70       114567\n",
       "9        exterior_color           7589            0\n",
       "10       interior_color           4537            0\n",
       "11  accidents_or_damage              3            0\n",
       "12            one_owner              3            0\n",
       "13    personal_use_only              3            0\n",
       "14          seller_name          17453            0\n",
       "15        seller_rating             41       209702\n",
       "16        driver_rating             35        30754\n",
       "17   driver_reviews_num            369            0\n",
       "18           price_drop           6363       343345\n",
       "19                price          63089            0\n",
       "20          engine_size             84        42344\n",
       "21            cylinders             20       123434\n",
       "22               valves             16       119902\n",
       "23           aspiration              6       508940\n",
       "24          fuel_type_2              9       618474\n",
       "25     injection_system             14        89900\n",
       "26        configuration              6        75269\n",
       "27           horsepower            658       725564\n",
       "28        fuel_category              9       618474"
      ]
     },
     "metadata": {},
     "output_type": "display_data"
    }
   ],
   "source": [
    "columns_info(data)"
   ]
  },
  {
   "cell_type": "code",
   "execution_count": 89,
   "id": "c6af4b5c",
   "metadata": {},
   "outputs": [
    {
     "data": {
      "text/plain": [
       "count    538529.000000\n",
       "mean          4.156340\n",
       "std           0.805793\n",
       "min           1.000000\n",
       "25%           3.800000\n",
       "50%           4.500000\n",
       "75%           4.700000\n",
       "max           5.000000\n",
       "Name: seller_rating, dtype: float64"
      ]
     },
     "execution_count": 89,
     "metadata": {},
     "output_type": "execute_result"
    }
   ],
   "source": [
    "data['seller_rating'].describe()"
   ]
  },
  {
   "cell_type": "code",
   "execution_count": 90,
   "id": "b6aa7dbd",
   "metadata": {},
   "outputs": [],
   "source": [
    "# data['seller_rating'].fillna(data['seller_rating'].mean(), inplace=True)\n",
    "data['seller_rating'] = data['seller_rating'].fillna(data['seller_rating'].mean())\n",
    "\n"
   ]
  },
  {
   "cell_type": "code",
   "execution_count": 91,
   "id": "9c05b598",
   "metadata": {},
   "outputs": [
    {
     "data": {
      "text/plain": [
       "count    747041.000000\n",
       "mean          4.156340\n",
       "std           0.684157\n",
       "min           1.000000\n",
       "25%           4.100000\n",
       "50%           4.156340\n",
       "75%           4.600000\n",
       "max           5.000000\n",
       "Name: seller_rating, dtype: float64"
      ]
     },
     "execution_count": 91,
     "metadata": {},
     "output_type": "execute_result"
    }
   ],
   "source": [
    "data['seller_rating'].describe()"
   ]
  },
  {
   "cell_type": "code",
   "execution_count": 92,
   "id": "91e261c5",
   "metadata": {},
   "outputs": [
    {
     "data": {
      "text/plain": [
       "count    716600.000000\n",
       "mean          4.623261\n",
       "std           0.275780\n",
       "min           1.000000\n",
       "25%           4.500000\n",
       "50%           4.700000\n",
       "75%           4.800000\n",
       "max           5.000000\n",
       "Name: driver_rating, dtype: float64"
      ]
     },
     "execution_count": 92,
     "metadata": {},
     "output_type": "execute_result"
    }
   ],
   "source": [
    "data['driver_rating'].describe()"
   ]
  },
  {
   "cell_type": "code",
   "execution_count": 93,
   "id": "98073d32",
   "metadata": {},
   "outputs": [],
   "source": [
    "data['driver_rating'] = data['driver_rating'].fillna(data['driver_rating'].mean())"
   ]
  },
  {
   "cell_type": "code",
   "execution_count": 94,
   "id": "a46372e7",
   "metadata": {},
   "outputs": [
    {
     "data": {
      "text/plain": [
       "count    747041.000000\n",
       "mean          4.623261\n",
       "std           0.270103\n",
       "min           1.000000\n",
       "25%           4.500000\n",
       "50%           4.700000\n",
       "75%           4.800000\n",
       "max           5.000000\n",
       "Name: driver_rating, dtype: float64"
      ]
     },
     "execution_count": 94,
     "metadata": {},
     "output_type": "execute_result"
    }
   ],
   "source": [
    "data['driver_rating'].describe()"
   ]
  },
  {
   "cell_type": "code",
   "execution_count": 96,
   "id": "83a3f857",
   "metadata": {},
   "outputs": [],
   "source": [
    "cols_to_exclude = [\n",
    "    'engine_size', 'cylinders', 'valves', 'aspiration',\n",
    "    'fuel_type_2', 'injection_system', 'configuration',\n",
    "    'horsepower', 'fuel_category','transmission'\n",
    "]\n",
    "\n",
    "new_data = data.drop(columns=cols_to_exclude)"
   ]
  },
  {
   "cell_type": "code",
   "execution_count": 97,
   "id": "b6ee8d44",
   "metadata": {},
   "outputs": [
    {
     "data": {
      "text/html": [
       "<div>\n",
       "<style scoped>\n",
       "    .dataframe tbody tr th:only-of-type {\n",
       "        vertical-align: middle;\n",
       "    }\n",
       "\n",
       "    .dataframe tbody tr th {\n",
       "        vertical-align: top;\n",
       "    }\n",
       "\n",
       "    .dataframe thead th {\n",
       "        text-align: right;\n",
       "    }\n",
       "</style>\n",
       "<table border=\"1\" class=\"dataframe\">\n",
       "  <thead>\n",
       "    <tr style=\"text-align: right;\">\n",
       "      <th></th>\n",
       "      <th>Column</th>\n",
       "      <th>Unique Values</th>\n",
       "      <th>null values</th>\n",
       "    </tr>\n",
       "  </thead>\n",
       "  <tbody>\n",
       "    <tr>\n",
       "      <th>0</th>\n",
       "      <td>manufacturer</td>\n",
       "      <td>30</td>\n",
       "      <td>0</td>\n",
       "    </tr>\n",
       "    <tr>\n",
       "      <th>1</th>\n",
       "      <td>model</td>\n",
       "      <td>11818</td>\n",
       "      <td>0</td>\n",
       "    </tr>\n",
       "    <tr>\n",
       "      <th>2</th>\n",
       "      <td>year</td>\n",
       "      <td>98</td>\n",
       "      <td>0</td>\n",
       "    </tr>\n",
       "    <tr>\n",
       "      <th>3</th>\n",
       "      <td>mileage</td>\n",
       "      <td>158674</td>\n",
       "      <td>0</td>\n",
       "    </tr>\n",
       "    <tr>\n",
       "      <th>4</th>\n",
       "      <td>engine</td>\n",
       "      <td>6808</td>\n",
       "      <td>0</td>\n",
       "    </tr>\n",
       "    <tr>\n",
       "      <th>5</th>\n",
       "      <td>drivetrain</td>\n",
       "      <td>6</td>\n",
       "      <td>0</td>\n",
       "    </tr>\n",
       "    <tr>\n",
       "      <th>6</th>\n",
       "      <td>fuel_type</td>\n",
       "      <td>8</td>\n",
       "      <td>0</td>\n",
       "    </tr>\n",
       "    <tr>\n",
       "      <th>7</th>\n",
       "      <td>mpg</td>\n",
       "      <td>75</td>\n",
       "      <td>1</td>\n",
       "    </tr>\n",
       "    <tr>\n",
       "      <th>8</th>\n",
       "      <td>exterior_color</td>\n",
       "      <td>7549</td>\n",
       "      <td>0</td>\n",
       "    </tr>\n",
       "    <tr>\n",
       "      <th>9</th>\n",
       "      <td>interior_color</td>\n",
       "      <td>4371</td>\n",
       "      <td>0</td>\n",
       "    </tr>\n",
       "    <tr>\n",
       "      <th>10</th>\n",
       "      <td>accidents_or_damage</td>\n",
       "      <td>3</td>\n",
       "      <td>0</td>\n",
       "    </tr>\n",
       "    <tr>\n",
       "      <th>11</th>\n",
       "      <td>one_owner</td>\n",
       "      <td>3</td>\n",
       "      <td>0</td>\n",
       "    </tr>\n",
       "    <tr>\n",
       "      <th>12</th>\n",
       "      <td>personal_use_only</td>\n",
       "      <td>3</td>\n",
       "      <td>0</td>\n",
       "    </tr>\n",
       "    <tr>\n",
       "      <th>13</th>\n",
       "      <td>seller_name</td>\n",
       "      <td>17032</td>\n",
       "      <td>0</td>\n",
       "    </tr>\n",
       "    <tr>\n",
       "      <th>14</th>\n",
       "      <td>seller_rating</td>\n",
       "      <td>42</td>\n",
       "      <td>0</td>\n",
       "    </tr>\n",
       "    <tr>\n",
       "      <th>15</th>\n",
       "      <td>driver_rating</td>\n",
       "      <td>36</td>\n",
       "      <td>0</td>\n",
       "    </tr>\n",
       "    <tr>\n",
       "      <th>16</th>\n",
       "      <td>driver_reviews_num</td>\n",
       "      <td>369</td>\n",
       "      <td>0</td>\n",
       "    </tr>\n",
       "    <tr>\n",
       "      <th>17</th>\n",
       "      <td>price_drop</td>\n",
       "      <td>6347</td>\n",
       "      <td>340895</td>\n",
       "    </tr>\n",
       "    <tr>\n",
       "      <th>18</th>\n",
       "      <td>price</td>\n",
       "      <td>62850</td>\n",
       "      <td>0</td>\n",
       "    </tr>\n",
       "    <tr>\n",
       "      <th>19</th>\n",
       "      <td>ENGINE_DETAILS</td>\n",
       "      <td>643</td>\n",
       "      <td>0</td>\n",
       "    </tr>\n",
       "    <tr>\n",
       "      <th>20</th>\n",
       "      <td>age</td>\n",
       "      <td>98</td>\n",
       "      <td>0</td>\n",
       "    </tr>\n",
       "    <tr>\n",
       "      <th>21</th>\n",
       "      <td>age_group</td>\n",
       "      <td>4</td>\n",
       "      <td>0</td>\n",
       "    </tr>\n",
       "  </tbody>\n",
       "</table>\n",
       "</div>"
      ],
      "text/plain": [
       "                 Column  Unique Values  null values\n",
       "0          manufacturer             30            0\n",
       "1                 model          11818            0\n",
       "2                  year             98            0\n",
       "3               mileage         158674            0\n",
       "4                engine           6808            0\n",
       "5            drivetrain              6            0\n",
       "6             fuel_type              8            0\n",
       "7                   mpg             75            1\n",
       "8        exterior_color           7549            0\n",
       "9        interior_color           4371            0\n",
       "10  accidents_or_damage              3            0\n",
       "11            one_owner              3            0\n",
       "12    personal_use_only              3            0\n",
       "13          seller_name          17032            0\n",
       "14        seller_rating             42            0\n",
       "15        driver_rating             36            0\n",
       "16   driver_reviews_num            369            0\n",
       "17           price_drop           6347       340895\n",
       "18                price          62850            0\n",
       "19       ENGINE_DETAILS            643            0\n",
       "20                  age             98            0\n",
       "21            age_group              4            0"
      ]
     },
     "metadata": {},
     "output_type": "display_data"
    }
   ],
   "source": [
    "columns_info(new_data)"
   ]
  },
  {
   "cell_type": "code",
   "execution_count": 103,
   "id": "98d7320b",
   "metadata": {},
   "outputs": [
    {
     "data": {
      "text/html": [
       "<div>\n",
       "<style scoped>\n",
       "    .dataframe tbody tr th:only-of-type {\n",
       "        vertical-align: middle;\n",
       "    }\n",
       "\n",
       "    .dataframe tbody tr th {\n",
       "        vertical-align: top;\n",
       "    }\n",
       "\n",
       "    .dataframe thead th {\n",
       "        text-align: right;\n",
       "    }\n",
       "</style>\n",
       "<table border=\"1\" class=\"dataframe\">\n",
       "  <thead>\n",
       "    <tr style=\"text-align: right;\">\n",
       "      <th></th>\n",
       "      <th>manufacturer</th>\n",
       "      <th>model</th>\n",
       "      <th>year</th>\n",
       "      <th>mileage</th>\n",
       "      <th>engine</th>\n",
       "      <th>drivetrain</th>\n",
       "      <th>fuel_type</th>\n",
       "      <th>mpg</th>\n",
       "      <th>exterior_color</th>\n",
       "      <th>interior_color</th>\n",
       "      <th>...</th>\n",
       "      <th>personal_use_only</th>\n",
       "      <th>seller_name</th>\n",
       "      <th>seller_rating</th>\n",
       "      <th>driver_rating</th>\n",
       "      <th>driver_reviews_num</th>\n",
       "      <th>price_drop</th>\n",
       "      <th>price</th>\n",
       "      <th>ENGINE_DETAILS</th>\n",
       "      <th>age</th>\n",
       "      <th>age_group</th>\n",
       "    </tr>\n",
       "  </thead>\n",
       "  <tbody>\n",
       "    <tr>\n",
       "      <th>0</th>\n",
       "      <td>Acura</td>\n",
       "      <td>ILX Hybrid 1.5L</td>\n",
       "      <td>2013</td>\n",
       "      <td>92945.0</td>\n",
       "      <td>1.5l i-4 i-vtec variable valve control, engine...</td>\n",
       "      <td>FWD</td>\n",
       "      <td>gasoline</td>\n",
       "      <td>38.0</td>\n",
       "      <td>Black</td>\n",
       "      <td>Parchment</td>\n",
       "      <td>...</td>\n",
       "      <td>0.0</td>\n",
       "      <td>Iconic Coach</td>\n",
       "      <td>4.15634</td>\n",
       "      <td>4.4</td>\n",
       "      <td>12.0</td>\n",
       "      <td>300.0</td>\n",
       "      <td>13988.0</td>\n",
       "      <td>gasoline</td>\n",
       "      <td>10</td>\n",
       "      <td>0-20</td>\n",
       "    </tr>\n",
       "    <tr>\n",
       "      <th>1</th>\n",
       "      <td>Acura</td>\n",
       "      <td>ILX Hybrid 1.5L</td>\n",
       "      <td>2013</td>\n",
       "      <td>47645.0</td>\n",
       "      <td>1.5l i4 8v mpfi sohc hybrid</td>\n",
       "      <td>FWD</td>\n",
       "      <td>hybrid</td>\n",
       "      <td>38.0</td>\n",
       "      <td>Gray</td>\n",
       "      <td>Ebony</td>\n",
       "      <td>...</td>\n",
       "      <td>1.0</td>\n",
       "      <td>Kars Today</td>\n",
       "      <td>4.15634</td>\n",
       "      <td>4.4</td>\n",
       "      <td>12.0</td>\n",
       "      <td>NaN</td>\n",
       "      <td>17995.0</td>\n",
       "      <td>i4 8v hybrid mpfi sohc</td>\n",
       "      <td>10</td>\n",
       "      <td>0-20</td>\n",
       "    </tr>\n",
       "    <tr>\n",
       "      <th>2</th>\n",
       "      <td>Acura</td>\n",
       "      <td>ILX Hybrid 1.5L</td>\n",
       "      <td>2013</td>\n",
       "      <td>53422.0</td>\n",
       "      <td>1.5l i4 8v mpfi sohc hybrid</td>\n",
       "      <td>FWD</td>\n",
       "      <td>hybrid</td>\n",
       "      <td>38.0</td>\n",
       "      <td>Bellanova White Pearl</td>\n",
       "      <td>Ebony</td>\n",
       "      <td>...</td>\n",
       "      <td>1.0</td>\n",
       "      <td>Weiss Toyota of South County</td>\n",
       "      <td>4.30000</td>\n",
       "      <td>4.4</td>\n",
       "      <td>12.0</td>\n",
       "      <td>500.0</td>\n",
       "      <td>17000.0</td>\n",
       "      <td>i4 8v hybrid mpfi sohc</td>\n",
       "      <td>10</td>\n",
       "      <td>0-20</td>\n",
       "    </tr>\n",
       "    <tr>\n",
       "      <th>3</th>\n",
       "      <td>Acura</td>\n",
       "      <td>ILX Hybrid 1.5L</td>\n",
       "      <td>2013</td>\n",
       "      <td>117598.0</td>\n",
       "      <td>1.5l i4 8v mpfi sohc hybrid</td>\n",
       "      <td>FWD</td>\n",
       "      <td>hybrid</td>\n",
       "      <td>38.0</td>\n",
       "      <td>Polished Metal Metallic</td>\n",
       "      <td>Unknown</td>\n",
       "      <td>...</td>\n",
       "      <td>1.0</td>\n",
       "      <td>Apple Tree Acura</td>\n",
       "      <td>4.15634</td>\n",
       "      <td>4.4</td>\n",
       "      <td>12.0</td>\n",
       "      <td>675.0</td>\n",
       "      <td>14958.0</td>\n",
       "      <td>i4 8v hybrid mpfi sohc</td>\n",
       "      <td>10</td>\n",
       "      <td>0-20</td>\n",
       "    </tr>\n",
       "    <tr>\n",
       "      <th>4</th>\n",
       "      <td>Acura</td>\n",
       "      <td>ILX Hybrid 1.5L</td>\n",
       "      <td>2013</td>\n",
       "      <td>114865.0</td>\n",
       "      <td>1.5l i4 8v mpfi sohc hybrid</td>\n",
       "      <td>FWD</td>\n",
       "      <td>hybrid</td>\n",
       "      <td>38.0</td>\n",
       "      <td>Unknown</td>\n",
       "      <td>Ebony</td>\n",
       "      <td>...</td>\n",
       "      <td>1.0</td>\n",
       "      <td>Herb Connolly Chevrolet</td>\n",
       "      <td>3.70000</td>\n",
       "      <td>4.4</td>\n",
       "      <td>12.0</td>\n",
       "      <td>300.0</td>\n",
       "      <td>14498.0</td>\n",
       "      <td>i4 8v hybrid mpfi sohc</td>\n",
       "      <td>10</td>\n",
       "      <td>0-20</td>\n",
       "    </tr>\n",
       "  </tbody>\n",
       "</table>\n",
       "<p>5 rows × 22 columns</p>\n",
       "</div>"
      ],
      "text/plain": [
       "  manufacturer            model  year   mileage  \\\n",
       "0        Acura  ILX Hybrid 1.5L  2013   92945.0   \n",
       "1        Acura  ILX Hybrid 1.5L  2013   47645.0   \n",
       "2        Acura  ILX Hybrid 1.5L  2013   53422.0   \n",
       "3        Acura  ILX Hybrid 1.5L  2013  117598.0   \n",
       "4        Acura  ILX Hybrid 1.5L  2013  114865.0   \n",
       "\n",
       "                                              engine drivetrain fuel_type  \\\n",
       "0  1.5l i-4 i-vtec variable valve control, engine...        FWD  gasoline   \n",
       "1                        1.5l i4 8v mpfi sohc hybrid        FWD    hybrid   \n",
       "2                        1.5l i4 8v mpfi sohc hybrid        FWD    hybrid   \n",
       "3                        1.5l i4 8v mpfi sohc hybrid        FWD    hybrid   \n",
       "4                        1.5l i4 8v mpfi sohc hybrid        FWD    hybrid   \n",
       "\n",
       "    mpg           exterior_color interior_color  ...  personal_use_only  \\\n",
       "0  38.0                    Black      Parchment  ...                0.0   \n",
       "1  38.0                     Gray          Ebony  ...                1.0   \n",
       "2  38.0    Bellanova White Pearl          Ebony  ...                1.0   \n",
       "3  38.0  Polished Metal Metallic        Unknown  ...                1.0   \n",
       "4  38.0                  Unknown          Ebony  ...                1.0   \n",
       "\n",
       "                    seller_name  seller_rating driver_rating  \\\n",
       "0                  Iconic Coach        4.15634           4.4   \n",
       "1                    Kars Today        4.15634           4.4   \n",
       "2  Weiss Toyota of South County        4.30000           4.4   \n",
       "3              Apple Tree Acura        4.15634           4.4   \n",
       "4       Herb Connolly Chevrolet        3.70000           4.4   \n",
       "\n",
       "   driver_reviews_num  price_drop    price          ENGINE_DETAILS  age  \\\n",
       "0                12.0       300.0  13988.0                gasoline   10   \n",
       "1                12.0         NaN  17995.0  i4 8v hybrid mpfi sohc   10   \n",
       "2                12.0       500.0  17000.0  i4 8v hybrid mpfi sohc   10   \n",
       "3                12.0       675.0  14958.0  i4 8v hybrid mpfi sohc   10   \n",
       "4                12.0       300.0  14498.0  i4 8v hybrid mpfi sohc   10   \n",
       "\n",
       "  age_group  \n",
       "0      0-20  \n",
       "1      0-20  \n",
       "2      0-20  \n",
       "3      0-20  \n",
       "4      0-20  \n",
       "\n",
       "[5 rows x 22 columns]"
      ]
     },
     "execution_count": 103,
     "metadata": {},
     "output_type": "execute_result"
    }
   ],
   "source": [
    "new_data.head()"
   ]
  },
  {
   "cell_type": "markdown",
   "id": "fee67da0-548e-44c2-998a-5e1d6af95b96",
   "metadata": {},
   "source": [
    "<div style=\"text-align: center;background-color:#f0e9d5; padding:10px; border-left: 5px solid #4CAF50; font-family: Trebuchet MS; font-size: 20px; color: #333;\">\n",
    "  Data Analysis\n",
    "</div>"
   ]
  },
  {
   "cell_type": "code",
   "execution_count": 642,
   "id": "f2c63bdb-90f6-48fc-b876-691f90c4d9a7",
   "metadata": {},
   "outputs": [
    {
     "data": {
      "application/vnd.plotly.v1+json": {
       "config": {
        "plotlyServerURL": "https://plot.ly"
       },
       "data": [
        {
         "hovertemplate": "x=%{x}<br>y=%{y}<br>text=%{text}<extra></extra>",
         "legendgroup": "",
         "marker": {
          "color": [
           "crimson",
           "lightslategray",
           "lightslategray",
           "lightslategray",
           "lightslategray",
           "lightslategray",
           "lightslategray",
           "lightslategray",
           "lightslategray",
           "lightslategray",
           "lightslategray",
           "lightslategray",
           "lightslategray",
           "lightslategray",
           "lightslategray",
           "lightslategray",
           "lightslategray",
           "lightslategray",
           "lightslategray",
           "lightslategray",
           "lightslategray",
           "lightslategray",
           "lightslategray",
           "lightslategray",
           "lightslategray",
           "lightslategray",
           "lightslategray",
           "lightslategray",
           "lightslategray",
           "lightslategray"
          ],
          "pattern": {
           "shape": ""
          }
         },
         "name": "",
         "orientation": "h",
         "showlegend": false,
         "text": {
          "bdata": "AAAAAOBd80AAAAAAwAztQAAAAADgAOtAAAAAAKCw50AAAAAAAFTkQAAAAABgmuJAAAAAAOBQ4UAAAAAA4CjhQAAAAADgV+BAAAAAAMCn3EAAAAAAgJnYQAAAAAAAL9hAAAAAAICc1kAAAAAAAK7VQAAAAAAAy9RAAAAAAIDm0kAAAAAAAHDRQAAAAACAWdBAAAAAAAA5zkAAAAAAgNPLQAAAAACAqchAAAAAAAAAyEAAAAAAAN3HQAAAAACA8cRAAAAAAICuxEAAAAAAgH/DQAAAAAAAeb1AAAAAAADXtkAAAAAAAG62QAAAAAAArqpA",
          "dtype": "f8"
         },
         "textposition": "auto",
         "type": "bar",
         "x": {
          "bdata": "3jUBAGboAAAH2AAAhb0AAKCiAADTlAAAh4oAAEeJAAC/ggAAn3IAAGZiAAC8YAAAcloAALhWAAAsUwAAmksAAMBFAABmQQAAcjwAAKc3AABTMQAAADAAALovAADjKQAAXSkAAP8mAAB5HQAA1xYAAG4WAABXDQAA",
          "dtype": "i4"
         },
         "xaxis": "x",
         "y": [
          "Ford",
          "Toyota",
          "Chevrolet",
          "Nissan",
          "Jeep",
          "Mercedes-Benz",
          "Honda",
          "BMW",
          "Kia",
          "GMC",
          "Dodge",
          "Subaru",
          "Volkswagen",
          "Hyundai",
          "Lexus",
          "RAM",
          "Audi",
          "Cadillac",
          "Mazda",
          "Buick",
          "Chrysler",
          "INFINITI",
          "Land Rover",
          "Porsche",
          "Lincoln",
          "Volvo",
          "Acura",
          "Tesla",
          "Mitsubishi",
          "Jaguar"
         ],
         "yaxis": "y"
        }
       ],
       "layout": {
        "barmode": "relative",
        "font": {
         "size": 14
        },
        "height": 1000,
        "legend": {
         "tracegroupgap": 0
        },
        "margin": {
         "t": 60
        },
        "showlegend": false,
        "template": {
         "data": {
          "bar": [
           {
            "error_x": {
             "color": "rgb(36,36,36)"
            },
            "error_y": {
             "color": "rgb(36,36,36)"
            },
            "marker": {
             "line": {
              "color": "white",
              "width": 0.5
             },
             "pattern": {
              "fillmode": "overlay",
              "size": 10,
              "solidity": 0.2
             }
            },
            "type": "bar"
           }
          ],
          "barpolar": [
           {
            "marker": {
             "line": {
              "color": "white",
              "width": 0.5
             },
             "pattern": {
              "fillmode": "overlay",
              "size": 10,
              "solidity": 0.2
             }
            },
            "type": "barpolar"
           }
          ],
          "carpet": [
           {
            "aaxis": {
             "endlinecolor": "rgb(36,36,36)",
             "gridcolor": "white",
             "linecolor": "white",
             "minorgridcolor": "white",
             "startlinecolor": "rgb(36,36,36)"
            },
            "baxis": {
             "endlinecolor": "rgb(36,36,36)",
             "gridcolor": "white",
             "linecolor": "white",
             "minorgridcolor": "white",
             "startlinecolor": "rgb(36,36,36)"
            },
            "type": "carpet"
           }
          ],
          "choropleth": [
           {
            "colorbar": {
             "outlinewidth": 1,
             "tickcolor": "rgb(36,36,36)",
             "ticks": "outside"
            },
            "type": "choropleth"
           }
          ],
          "contour": [
           {
            "colorbar": {
             "outlinewidth": 1,
             "tickcolor": "rgb(36,36,36)",
             "ticks": "outside"
            },
            "colorscale": [
             [
              0,
              "#440154"
             ],
             [
              0.1111111111111111,
              "#482878"
             ],
             [
              0.2222222222222222,
              "#3e4989"
             ],
             [
              0.3333333333333333,
              "#31688e"
             ],
             [
              0.4444444444444444,
              "#26828e"
             ],
             [
              0.5555555555555556,
              "#1f9e89"
             ],
             [
              0.6666666666666666,
              "#35b779"
             ],
             [
              0.7777777777777778,
              "#6ece58"
             ],
             [
              0.8888888888888888,
              "#b5de2b"
             ],
             [
              1,
              "#fde725"
             ]
            ],
            "type": "contour"
           }
          ],
          "contourcarpet": [
           {
            "colorbar": {
             "outlinewidth": 1,
             "tickcolor": "rgb(36,36,36)",
             "ticks": "outside"
            },
            "type": "contourcarpet"
           }
          ],
          "heatmap": [
           {
            "colorbar": {
             "outlinewidth": 1,
             "tickcolor": "rgb(36,36,36)",
             "ticks": "outside"
            },
            "colorscale": [
             [
              0,
              "#440154"
             ],
             [
              0.1111111111111111,
              "#482878"
             ],
             [
              0.2222222222222222,
              "#3e4989"
             ],
             [
              0.3333333333333333,
              "#31688e"
             ],
             [
              0.4444444444444444,
              "#26828e"
             ],
             [
              0.5555555555555556,
              "#1f9e89"
             ],
             [
              0.6666666666666666,
              "#35b779"
             ],
             [
              0.7777777777777778,
              "#6ece58"
             ],
             [
              0.8888888888888888,
              "#b5de2b"
             ],
             [
              1,
              "#fde725"
             ]
            ],
            "type": "heatmap"
           }
          ],
          "histogram": [
           {
            "marker": {
             "line": {
              "color": "white",
              "width": 0.6
             }
            },
            "type": "histogram"
           }
          ],
          "histogram2d": [
           {
            "colorbar": {
             "outlinewidth": 1,
             "tickcolor": "rgb(36,36,36)",
             "ticks": "outside"
            },
            "colorscale": [
             [
              0,
              "#440154"
             ],
             [
              0.1111111111111111,
              "#482878"
             ],
             [
              0.2222222222222222,
              "#3e4989"
             ],
             [
              0.3333333333333333,
              "#31688e"
             ],
             [
              0.4444444444444444,
              "#26828e"
             ],
             [
              0.5555555555555556,
              "#1f9e89"
             ],
             [
              0.6666666666666666,
              "#35b779"
             ],
             [
              0.7777777777777778,
              "#6ece58"
             ],
             [
              0.8888888888888888,
              "#b5de2b"
             ],
             [
              1,
              "#fde725"
             ]
            ],
            "type": "histogram2d"
           }
          ],
          "histogram2dcontour": [
           {
            "colorbar": {
             "outlinewidth": 1,
             "tickcolor": "rgb(36,36,36)",
             "ticks": "outside"
            },
            "colorscale": [
             [
              0,
              "#440154"
             ],
             [
              0.1111111111111111,
              "#482878"
             ],
             [
              0.2222222222222222,
              "#3e4989"
             ],
             [
              0.3333333333333333,
              "#31688e"
             ],
             [
              0.4444444444444444,
              "#26828e"
             ],
             [
              0.5555555555555556,
              "#1f9e89"
             ],
             [
              0.6666666666666666,
              "#35b779"
             ],
             [
              0.7777777777777778,
              "#6ece58"
             ],
             [
              0.8888888888888888,
              "#b5de2b"
             ],
             [
              1,
              "#fde725"
             ]
            ],
            "type": "histogram2dcontour"
           }
          ],
          "mesh3d": [
           {
            "colorbar": {
             "outlinewidth": 1,
             "tickcolor": "rgb(36,36,36)",
             "ticks": "outside"
            },
            "type": "mesh3d"
           }
          ],
          "parcoords": [
           {
            "line": {
             "colorbar": {
              "outlinewidth": 1,
              "tickcolor": "rgb(36,36,36)",
              "ticks": "outside"
             }
            },
            "type": "parcoords"
           }
          ],
          "pie": [
           {
            "automargin": true,
            "type": "pie"
           }
          ],
          "scatter": [
           {
            "fillpattern": {
             "fillmode": "overlay",
             "size": 10,
             "solidity": 0.2
            },
            "type": "scatter"
           }
          ],
          "scatter3d": [
           {
            "line": {
             "colorbar": {
              "outlinewidth": 1,
              "tickcolor": "rgb(36,36,36)",
              "ticks": "outside"
             }
            },
            "marker": {
             "colorbar": {
              "outlinewidth": 1,
              "tickcolor": "rgb(36,36,36)",
              "ticks": "outside"
             }
            },
            "type": "scatter3d"
           }
          ],
          "scattercarpet": [
           {
            "marker": {
             "colorbar": {
              "outlinewidth": 1,
              "tickcolor": "rgb(36,36,36)",
              "ticks": "outside"
             }
            },
            "type": "scattercarpet"
           }
          ],
          "scattergeo": [
           {
            "marker": {
             "colorbar": {
              "outlinewidth": 1,
              "tickcolor": "rgb(36,36,36)",
              "ticks": "outside"
             }
            },
            "type": "scattergeo"
           }
          ],
          "scattergl": [
           {
            "marker": {
             "colorbar": {
              "outlinewidth": 1,
              "tickcolor": "rgb(36,36,36)",
              "ticks": "outside"
             }
            },
            "type": "scattergl"
           }
          ],
          "scattermap": [
           {
            "marker": {
             "colorbar": {
              "outlinewidth": 1,
              "tickcolor": "rgb(36,36,36)",
              "ticks": "outside"
             }
            },
            "type": "scattermap"
           }
          ],
          "scattermapbox": [
           {
            "marker": {
             "colorbar": {
              "outlinewidth": 1,
              "tickcolor": "rgb(36,36,36)",
              "ticks": "outside"
             }
            },
            "type": "scattermapbox"
           }
          ],
          "scatterpolar": [
           {
            "marker": {
             "colorbar": {
              "outlinewidth": 1,
              "tickcolor": "rgb(36,36,36)",
              "ticks": "outside"
             }
            },
            "type": "scatterpolar"
           }
          ],
          "scatterpolargl": [
           {
            "marker": {
             "colorbar": {
              "outlinewidth": 1,
              "tickcolor": "rgb(36,36,36)",
              "ticks": "outside"
             }
            },
            "type": "scatterpolargl"
           }
          ],
          "scatterternary": [
           {
            "marker": {
             "colorbar": {
              "outlinewidth": 1,
              "tickcolor": "rgb(36,36,36)",
              "ticks": "outside"
             }
            },
            "type": "scatterternary"
           }
          ],
          "surface": [
           {
            "colorbar": {
             "outlinewidth": 1,
             "tickcolor": "rgb(36,36,36)",
             "ticks": "outside"
            },
            "colorscale": [
             [
              0,
              "#440154"
             ],
             [
              0.1111111111111111,
              "#482878"
             ],
             [
              0.2222222222222222,
              "#3e4989"
             ],
             [
              0.3333333333333333,
              "#31688e"
             ],
             [
              0.4444444444444444,
              "#26828e"
             ],
             [
              0.5555555555555556,
              "#1f9e89"
             ],
             [
              0.6666666666666666,
              "#35b779"
             ],
             [
              0.7777777777777778,
              "#6ece58"
             ],
             [
              0.8888888888888888,
              "#b5de2b"
             ],
             [
              1,
              "#fde725"
             ]
            ],
            "type": "surface"
           }
          ],
          "table": [
           {
            "cells": {
             "fill": {
              "color": "rgb(237,237,237)"
             },
             "line": {
              "color": "white"
             }
            },
            "header": {
             "fill": {
              "color": "rgb(217,217,217)"
             },
             "line": {
              "color": "white"
             }
            },
            "type": "table"
           }
          ]
         },
         "layout": {
          "annotationdefaults": {
           "arrowhead": 0,
           "arrowwidth": 1
          },
          "autotypenumbers": "strict",
          "coloraxis": {
           "colorbar": {
            "outlinewidth": 1,
            "tickcolor": "rgb(36,36,36)",
            "ticks": "outside"
           }
          },
          "colorscale": {
           "diverging": [
            [
             0,
             "rgb(103,0,31)"
            ],
            [
             0.1,
             "rgb(178,24,43)"
            ],
            [
             0.2,
             "rgb(214,96,77)"
            ],
            [
             0.3,
             "rgb(244,165,130)"
            ],
            [
             0.4,
             "rgb(253,219,199)"
            ],
            [
             0.5,
             "rgb(247,247,247)"
            ],
            [
             0.6,
             "rgb(209,229,240)"
            ],
            [
             0.7,
             "rgb(146,197,222)"
            ],
            [
             0.8,
             "rgb(67,147,195)"
            ],
            [
             0.9,
             "rgb(33,102,172)"
            ],
            [
             1,
             "rgb(5,48,97)"
            ]
           ],
           "sequential": [
            [
             0,
             "#440154"
            ],
            [
             0.1111111111111111,
             "#482878"
            ],
            [
             0.2222222222222222,
             "#3e4989"
            ],
            [
             0.3333333333333333,
             "#31688e"
            ],
            [
             0.4444444444444444,
             "#26828e"
            ],
            [
             0.5555555555555556,
             "#1f9e89"
            ],
            [
             0.6666666666666666,
             "#35b779"
            ],
            [
             0.7777777777777778,
             "#6ece58"
            ],
            [
             0.8888888888888888,
             "#b5de2b"
            ],
            [
             1,
             "#fde725"
            ]
           ],
           "sequentialminus": [
            [
             0,
             "#440154"
            ],
            [
             0.1111111111111111,
             "#482878"
            ],
            [
             0.2222222222222222,
             "#3e4989"
            ],
            [
             0.3333333333333333,
             "#31688e"
            ],
            [
             0.4444444444444444,
             "#26828e"
            ],
            [
             0.5555555555555556,
             "#1f9e89"
            ],
            [
             0.6666666666666666,
             "#35b779"
            ],
            [
             0.7777777777777778,
             "#6ece58"
            ],
            [
             0.8888888888888888,
             "#b5de2b"
            ],
            [
             1,
             "#fde725"
            ]
           ]
          },
          "colorway": [
           "#1F77B4",
           "#FF7F0E",
           "#2CA02C",
           "#D62728",
           "#9467BD",
           "#8C564B",
           "#E377C2",
           "#7F7F7F",
           "#BCBD22",
           "#17BECF"
          ],
          "font": {
           "color": "rgb(36,36,36)"
          },
          "geo": {
           "bgcolor": "white",
           "lakecolor": "white",
           "landcolor": "white",
           "showlakes": true,
           "showland": true,
           "subunitcolor": "white"
          },
          "hoverlabel": {
           "align": "left"
          },
          "hovermode": "closest",
          "mapbox": {
           "style": "light"
          },
          "paper_bgcolor": "white",
          "plot_bgcolor": "white",
          "polar": {
           "angularaxis": {
            "gridcolor": "rgb(232,232,232)",
            "linecolor": "rgb(36,36,36)",
            "showgrid": false,
            "showline": true,
            "ticks": "outside"
           },
           "bgcolor": "white",
           "radialaxis": {
            "gridcolor": "rgb(232,232,232)",
            "linecolor": "rgb(36,36,36)",
            "showgrid": false,
            "showline": true,
            "ticks": "outside"
           }
          },
          "scene": {
           "xaxis": {
            "backgroundcolor": "white",
            "gridcolor": "rgb(232,232,232)",
            "gridwidth": 2,
            "linecolor": "rgb(36,36,36)",
            "showbackground": true,
            "showgrid": false,
            "showline": true,
            "ticks": "outside",
            "zeroline": false,
            "zerolinecolor": "rgb(36,36,36)"
           },
           "yaxis": {
            "backgroundcolor": "white",
            "gridcolor": "rgb(232,232,232)",
            "gridwidth": 2,
            "linecolor": "rgb(36,36,36)",
            "showbackground": true,
            "showgrid": false,
            "showline": true,
            "ticks": "outside",
            "zeroline": false,
            "zerolinecolor": "rgb(36,36,36)"
           },
           "zaxis": {
            "backgroundcolor": "white",
            "gridcolor": "rgb(232,232,232)",
            "gridwidth": 2,
            "linecolor": "rgb(36,36,36)",
            "showbackground": true,
            "showgrid": false,
            "showline": true,
            "ticks": "outside",
            "zeroline": false,
            "zerolinecolor": "rgb(36,36,36)"
           }
          },
          "shapedefaults": {
           "fillcolor": "black",
           "line": {
            "width": 0
           },
           "opacity": 0.3
          },
          "ternary": {
           "aaxis": {
            "gridcolor": "rgb(232,232,232)",
            "linecolor": "rgb(36,36,36)",
            "showgrid": false,
            "showline": true,
            "ticks": "outside"
           },
           "baxis": {
            "gridcolor": "rgb(232,232,232)",
            "linecolor": "rgb(36,36,36)",
            "showgrid": false,
            "showline": true,
            "ticks": "outside"
           },
           "bgcolor": "white",
           "caxis": {
            "gridcolor": "rgb(232,232,232)",
            "linecolor": "rgb(36,36,36)",
            "showgrid": false,
            "showline": true,
            "ticks": "outside"
           }
          },
          "title": {
           "x": 0.05
          },
          "xaxis": {
           "automargin": true,
           "gridcolor": "rgb(232,232,232)",
           "linecolor": "rgb(36,36,36)",
           "showgrid": false,
           "showline": true,
           "ticks": "outside",
           "title": {
            "standoff": 15
           },
           "zeroline": false,
           "zerolinecolor": "rgb(36,36,36)"
          },
          "yaxis": {
           "automargin": true,
           "gridcolor": "rgb(232,232,232)",
           "linecolor": "rgb(36,36,36)",
           "showgrid": false,
           "showline": true,
           "ticks": "outside",
           "title": {
            "standoff": 15
           },
           "zeroline": false,
           "zerolinecolor": "rgb(36,36,36)"
          }
         }
        },
        "title": {
         "text": "Most resold car brand until 2023",
         "x": 0.5,
         "y": 0.96
        },
        "width": 1400,
        "xaxis": {
         "anchor": "y",
         "domain": [
          0,
          1
         ],
         "title": {
          "text": "Manufacturer"
         }
        },
        "yaxis": {
         "anchor": "x",
         "domain": [
          0,
          1
         ],
         "title": {
          "text": "Number of Cars"
         }
        }
       }
      }
     },
     "metadata": {},
     "output_type": "display_data"
    }
   ],
   "source": [
    "color = ['lightslategray']*30\n",
    "color[0] = 'crimson'\n",
    "\n",
    "fig = px.bar(y = data['manufacturer'].value_counts().index, x = data['manufacturer'].value_counts(),\n",
    "             # color = data['manufacturer'].value_counts().index,\n",
    "             # orintation='h',\n",
    "              template = 'simple_white',text = data['manufacturer'].value_counts(),)\n",
    "\n",
    "fig.update_traces(marker_color=color) \n",
    "\n",
    "fig.update_layout(\n",
    "    xaxis_title=\"Manufacturer\",\n",
    "    yaxis_title=\"Number of Cars\",\n",
    "    showlegend = False,\n",
    "    height=1000,\n",
    "    width=1400\n",
    "    ,\n",
    "    \n",
    "    font = dict(size = 14),    \n",
    "    title={\n",
    "        'text': \"Most resold car brand until 2023\",\n",
    "        'y':0.96,\n",
    "        'x':0.5\n",
    "        }\n",
    "    )\n",
    "\n",
    "fig.show()"
   ]
  },
  {
   "cell_type": "code",
   "execution_count": 641,
   "id": "92d41711-83d1-4b9d-b019-f478b1993a8e",
   "metadata": {},
   "outputs": [
    {
     "data": {
      "application/vnd.plotly.v1+json": {
       "config": {
        "plotlyServerURL": "https://plot.ly"
       },
       "data": [
        {
         "hovertemplate": "x=%{x}<br>y=%{y}<extra></extra>",
         "legendgroup": "",
         "marker": {
          "color": [
           "crimson",
           "lightslategray",
           "lightslategray",
           "lightslategray",
           "lightslategray",
           "lightslategray",
           "lightslategray",
           "lightslategray",
           "lightslategray",
           "lightslategray",
           "lightslategray",
           "lightslategray",
           "lightslategray",
           "lightslategray",
           "lightslategray",
           "lightslategray",
           "lightslategray",
           "lightslategray",
           "lightslategray",
           "lightslategray",
           "lightslategray",
           "lightslategray",
           "lightslategray",
           "lightslategray",
           "lightslategray",
           "lightslategray",
           "lightslategray",
           "lightslategray",
           "lightslategray",
           "lightslategray"
          ],
          "pattern": {
           "shape": ""
          }
         },
         "name": "",
         "orientation": "h",
         "showlegend": false,
         "textposition": "auto",
         "type": "bar",
         "x": {
          "bdata": "GScBAG2KAACMaQAATkwAAP1GAACuQwAAZ0MAAOA7AABAOQAAwzUAAE4yAADrKwAA0isAANsqAADsJgAA",
          "dtype": "i4"
         },
         "xaxis": "x",
         "y": [
          "2.0l i4 16v gdi dohc turbo",
          "3.6l v6 24v mpfi dohc",
          "3.6l v6 24v gdi dohc",
          "2.0l i4 16v mpfi dohc",
          "1.5l i4 16v gdi dohc turbo",
          "3.5l v6 24v mpfi dohc",
          "2.4l i4 16v gdi dohc",
          "3.5l v6 24v pdi dohc",
          "electric",
          "2.5l i4 16v gdi dohc",
          "2.0l i4 16v gdi dohc",
          "3.0l i6 24v gdi dohc turbo",
          "2.4l i4 16v mpfi sohc",
          "5.3l v8 16v gdi ohv",
          "5.7l v8 16v mpfi ohv"
         ],
         "yaxis": "y"
        }
       ],
       "layout": {
        "barmode": "relative",
        "font": {
         "size": 14
        },
        "height": 600,
        "legend": {
         "tracegroupgap": 0
        },
        "margin": {
         "t": 60
        },
        "showlegend": false,
        "template": {
         "data": {
          "bar": [
           {
            "error_x": {
             "color": "#2a3f5f"
            },
            "error_y": {
             "color": "#2a3f5f"
            },
            "marker": {
             "line": {
              "color": "#E5ECF6",
              "width": 0.5
             },
             "pattern": {
              "fillmode": "overlay",
              "size": 10,
              "solidity": 0.2
             }
            },
            "type": "bar"
           }
          ],
          "barpolar": [
           {
            "marker": {
             "line": {
              "color": "#E5ECF6",
              "width": 0.5
             },
             "pattern": {
              "fillmode": "overlay",
              "size": 10,
              "solidity": 0.2
             }
            },
            "type": "barpolar"
           }
          ],
          "carpet": [
           {
            "aaxis": {
             "endlinecolor": "#2a3f5f",
             "gridcolor": "white",
             "linecolor": "white",
             "minorgridcolor": "white",
             "startlinecolor": "#2a3f5f"
            },
            "baxis": {
             "endlinecolor": "#2a3f5f",
             "gridcolor": "white",
             "linecolor": "white",
             "minorgridcolor": "white",
             "startlinecolor": "#2a3f5f"
            },
            "type": "carpet"
           }
          ],
          "choropleth": [
           {
            "colorbar": {
             "outlinewidth": 0,
             "ticks": ""
            },
            "type": "choropleth"
           }
          ],
          "contour": [
           {
            "colorbar": {
             "outlinewidth": 0,
             "ticks": ""
            },
            "colorscale": [
             [
              0,
              "#0d0887"
             ],
             [
              0.1111111111111111,
              "#46039f"
             ],
             [
              0.2222222222222222,
              "#7201a8"
             ],
             [
              0.3333333333333333,
              "#9c179e"
             ],
             [
              0.4444444444444444,
              "#bd3786"
             ],
             [
              0.5555555555555556,
              "#d8576b"
             ],
             [
              0.6666666666666666,
              "#ed7953"
             ],
             [
              0.7777777777777778,
              "#fb9f3a"
             ],
             [
              0.8888888888888888,
              "#fdca26"
             ],
             [
              1,
              "#f0f921"
             ]
            ],
            "type": "contour"
           }
          ],
          "contourcarpet": [
           {
            "colorbar": {
             "outlinewidth": 0,
             "ticks": ""
            },
            "type": "contourcarpet"
           }
          ],
          "heatmap": [
           {
            "colorbar": {
             "outlinewidth": 0,
             "ticks": ""
            },
            "colorscale": [
             [
              0,
              "#0d0887"
             ],
             [
              0.1111111111111111,
              "#46039f"
             ],
             [
              0.2222222222222222,
              "#7201a8"
             ],
             [
              0.3333333333333333,
              "#9c179e"
             ],
             [
              0.4444444444444444,
              "#bd3786"
             ],
             [
              0.5555555555555556,
              "#d8576b"
             ],
             [
              0.6666666666666666,
              "#ed7953"
             ],
             [
              0.7777777777777778,
              "#fb9f3a"
             ],
             [
              0.8888888888888888,
              "#fdca26"
             ],
             [
              1,
              "#f0f921"
             ]
            ],
            "type": "heatmap"
           }
          ],
          "histogram": [
           {
            "marker": {
             "pattern": {
              "fillmode": "overlay",
              "size": 10,
              "solidity": 0.2
             }
            },
            "type": "histogram"
           }
          ],
          "histogram2d": [
           {
            "colorbar": {
             "outlinewidth": 0,
             "ticks": ""
            },
            "colorscale": [
             [
              0,
              "#0d0887"
             ],
             [
              0.1111111111111111,
              "#46039f"
             ],
             [
              0.2222222222222222,
              "#7201a8"
             ],
             [
              0.3333333333333333,
              "#9c179e"
             ],
             [
              0.4444444444444444,
              "#bd3786"
             ],
             [
              0.5555555555555556,
              "#d8576b"
             ],
             [
              0.6666666666666666,
              "#ed7953"
             ],
             [
              0.7777777777777778,
              "#fb9f3a"
             ],
             [
              0.8888888888888888,
              "#fdca26"
             ],
             [
              1,
              "#f0f921"
             ]
            ],
            "type": "histogram2d"
           }
          ],
          "histogram2dcontour": [
           {
            "colorbar": {
             "outlinewidth": 0,
             "ticks": ""
            },
            "colorscale": [
             [
              0,
              "#0d0887"
             ],
             [
              0.1111111111111111,
              "#46039f"
             ],
             [
              0.2222222222222222,
              "#7201a8"
             ],
             [
              0.3333333333333333,
              "#9c179e"
             ],
             [
              0.4444444444444444,
              "#bd3786"
             ],
             [
              0.5555555555555556,
              "#d8576b"
             ],
             [
              0.6666666666666666,
              "#ed7953"
             ],
             [
              0.7777777777777778,
              "#fb9f3a"
             ],
             [
              0.8888888888888888,
              "#fdca26"
             ],
             [
              1,
              "#f0f921"
             ]
            ],
            "type": "histogram2dcontour"
           }
          ],
          "mesh3d": [
           {
            "colorbar": {
             "outlinewidth": 0,
             "ticks": ""
            },
            "type": "mesh3d"
           }
          ],
          "parcoords": [
           {
            "line": {
             "colorbar": {
              "outlinewidth": 0,
              "ticks": ""
             }
            },
            "type": "parcoords"
           }
          ],
          "pie": [
           {
            "automargin": true,
            "type": "pie"
           }
          ],
          "scatter": [
           {
            "fillpattern": {
             "fillmode": "overlay",
             "size": 10,
             "solidity": 0.2
            },
            "type": "scatter"
           }
          ],
          "scatter3d": [
           {
            "line": {
             "colorbar": {
              "outlinewidth": 0,
              "ticks": ""
             }
            },
            "marker": {
             "colorbar": {
              "outlinewidth": 0,
              "ticks": ""
             }
            },
            "type": "scatter3d"
           }
          ],
          "scattercarpet": [
           {
            "marker": {
             "colorbar": {
              "outlinewidth": 0,
              "ticks": ""
             }
            },
            "type": "scattercarpet"
           }
          ],
          "scattergeo": [
           {
            "marker": {
             "colorbar": {
              "outlinewidth": 0,
              "ticks": ""
             }
            },
            "type": "scattergeo"
           }
          ],
          "scattergl": [
           {
            "marker": {
             "colorbar": {
              "outlinewidth": 0,
              "ticks": ""
             }
            },
            "type": "scattergl"
           }
          ],
          "scattermap": [
           {
            "marker": {
             "colorbar": {
              "outlinewidth": 0,
              "ticks": ""
             }
            },
            "type": "scattermap"
           }
          ],
          "scattermapbox": [
           {
            "marker": {
             "colorbar": {
              "outlinewidth": 0,
              "ticks": ""
             }
            },
            "type": "scattermapbox"
           }
          ],
          "scatterpolar": [
           {
            "marker": {
             "colorbar": {
              "outlinewidth": 0,
              "ticks": ""
             }
            },
            "type": "scatterpolar"
           }
          ],
          "scatterpolargl": [
           {
            "marker": {
             "colorbar": {
              "outlinewidth": 0,
              "ticks": ""
             }
            },
            "type": "scatterpolargl"
           }
          ],
          "scatterternary": [
           {
            "marker": {
             "colorbar": {
              "outlinewidth": 0,
              "ticks": ""
             }
            },
            "type": "scatterternary"
           }
          ],
          "surface": [
           {
            "colorbar": {
             "outlinewidth": 0,
             "ticks": ""
            },
            "colorscale": [
             [
              0,
              "#0d0887"
             ],
             [
              0.1111111111111111,
              "#46039f"
             ],
             [
              0.2222222222222222,
              "#7201a8"
             ],
             [
              0.3333333333333333,
              "#9c179e"
             ],
             [
              0.4444444444444444,
              "#bd3786"
             ],
             [
              0.5555555555555556,
              "#d8576b"
             ],
             [
              0.6666666666666666,
              "#ed7953"
             ],
             [
              0.7777777777777778,
              "#fb9f3a"
             ],
             [
              0.8888888888888888,
              "#fdca26"
             ],
             [
              1,
              "#f0f921"
             ]
            ],
            "type": "surface"
           }
          ],
          "table": [
           {
            "cells": {
             "fill": {
              "color": "#EBF0F8"
             },
             "line": {
              "color": "white"
             }
            },
            "header": {
             "fill": {
              "color": "#C8D4E3"
             },
             "line": {
              "color": "white"
             }
            },
            "type": "table"
           }
          ]
         },
         "layout": {
          "annotationdefaults": {
           "arrowcolor": "#2a3f5f",
           "arrowhead": 0,
           "arrowwidth": 1
          },
          "autotypenumbers": "strict",
          "coloraxis": {
           "colorbar": {
            "outlinewidth": 0,
            "ticks": ""
           }
          },
          "colorscale": {
           "diverging": [
            [
             0,
             "#8e0152"
            ],
            [
             0.1,
             "#c51b7d"
            ],
            [
             0.2,
             "#de77ae"
            ],
            [
             0.3,
             "#f1b6da"
            ],
            [
             0.4,
             "#fde0ef"
            ],
            [
             0.5,
             "#f7f7f7"
            ],
            [
             0.6,
             "#e6f5d0"
            ],
            [
             0.7,
             "#b8e186"
            ],
            [
             0.8,
             "#7fbc41"
            ],
            [
             0.9,
             "#4d9221"
            ],
            [
             1,
             "#276419"
            ]
           ],
           "sequential": [
            [
             0,
             "#0d0887"
            ],
            [
             0.1111111111111111,
             "#46039f"
            ],
            [
             0.2222222222222222,
             "#7201a8"
            ],
            [
             0.3333333333333333,
             "#9c179e"
            ],
            [
             0.4444444444444444,
             "#bd3786"
            ],
            [
             0.5555555555555556,
             "#d8576b"
            ],
            [
             0.6666666666666666,
             "#ed7953"
            ],
            [
             0.7777777777777778,
             "#fb9f3a"
            ],
            [
             0.8888888888888888,
             "#fdca26"
            ],
            [
             1,
             "#f0f921"
            ]
           ],
           "sequentialminus": [
            [
             0,
             "#0d0887"
            ],
            [
             0.1111111111111111,
             "#46039f"
            ],
            [
             0.2222222222222222,
             "#7201a8"
            ],
            [
             0.3333333333333333,
             "#9c179e"
            ],
            [
             0.4444444444444444,
             "#bd3786"
            ],
            [
             0.5555555555555556,
             "#d8576b"
            ],
            [
             0.6666666666666666,
             "#ed7953"
            ],
            [
             0.7777777777777778,
             "#fb9f3a"
            ],
            [
             0.8888888888888888,
             "#fdca26"
            ],
            [
             1,
             "#f0f921"
            ]
           ]
          },
          "colorway": [
           "#636efa",
           "#EF553B",
           "#00cc96",
           "#ab63fa",
           "#FFA15A",
           "#19d3f3",
           "#FF6692",
           "#B6E880",
           "#FF97FF",
           "#FECB52"
          ],
          "font": {
           "color": "#2a3f5f"
          },
          "geo": {
           "bgcolor": "white",
           "lakecolor": "white",
           "landcolor": "#E5ECF6",
           "showlakes": true,
           "showland": true,
           "subunitcolor": "white"
          },
          "hoverlabel": {
           "align": "left"
          },
          "hovermode": "closest",
          "mapbox": {
           "style": "light"
          },
          "paper_bgcolor": "white",
          "plot_bgcolor": "#E5ECF6",
          "polar": {
           "angularaxis": {
            "gridcolor": "white",
            "linecolor": "white",
            "ticks": ""
           },
           "bgcolor": "#E5ECF6",
           "radialaxis": {
            "gridcolor": "white",
            "linecolor": "white",
            "ticks": ""
           }
          },
          "scene": {
           "xaxis": {
            "backgroundcolor": "#E5ECF6",
            "gridcolor": "white",
            "gridwidth": 2,
            "linecolor": "white",
            "showbackground": true,
            "ticks": "",
            "zerolinecolor": "white"
           },
           "yaxis": {
            "backgroundcolor": "#E5ECF6",
            "gridcolor": "white",
            "gridwidth": 2,
            "linecolor": "white",
            "showbackground": true,
            "ticks": "",
            "zerolinecolor": "white"
           },
           "zaxis": {
            "backgroundcolor": "#E5ECF6",
            "gridcolor": "white",
            "gridwidth": 2,
            "linecolor": "white",
            "showbackground": true,
            "ticks": "",
            "zerolinecolor": "white"
           }
          },
          "shapedefaults": {
           "line": {
            "color": "#2a3f5f"
           }
          },
          "ternary": {
           "aaxis": {
            "gridcolor": "white",
            "linecolor": "white",
            "ticks": ""
           },
           "baxis": {
            "gridcolor": "white",
            "linecolor": "white",
            "ticks": ""
           },
           "bgcolor": "#E5ECF6",
           "caxis": {
            "gridcolor": "white",
            "linecolor": "white",
            "ticks": ""
           }
          },
          "title": {
           "x": 0.05
          },
          "xaxis": {
           "automargin": true,
           "gridcolor": "white",
           "linecolor": "white",
           "ticks": "",
           "title": {
            "standoff": 15
           },
           "zerolinecolor": "white",
           "zerolinewidth": 2
          },
          "yaxis": {
           "automargin": true,
           "gridcolor": "white",
           "linecolor": "white",
           "ticks": "",
           "title": {
            "standoff": 15
           },
           "zerolinecolor": "white",
           "zerolinewidth": 2
          }
         }
        },
        "title": {
         "text": "Top 15 engine used",
         "x": 0.5,
         "y": 0.96
        },
        "width": 1200,
        "xaxis": {
         "anchor": "y",
         "domain": [
          0,
          1
         ],
         "title": {
          "text": "No of cars"
         }
        },
        "yaxis": {
         "anchor": "x",
         "domain": [
          0,
          1
         ],
         "title": {
          "text": "Engine"
         }
        }
       }
      }
     },
     "metadata": {},
     "output_type": "display_data"
    }
   ],
   "source": [
    "most_used_engin = data['engine'].value_counts().head(15)\n",
    "\n",
    "color = ['lightslategray']*30\n",
    "color[0] = 'crimson'\n",
    "\n",
    "fig = px.bar(\n",
    "    x=most_used_engin.values,       \n",
    "    y=most_used_engin.index,\n",
    "    orientation='h',\n",
    ")\n",
    "fig.update_traces(marker_color=color) \n",
    "\n",
    "fig.update_layout(\n",
    "    yaxis_title=\"Engine\",\n",
    "    xaxis_title=\"No of cars\",\n",
    "    showlegend = False,\n",
    "    height=600,\n",
    "    width=1200,\n",
    "    font = dict(size = 14),    \n",
    "    title={\n",
    "        'text': \"Top 15 engine used\",\n",
    "        'y':0.96,\n",
    "        'x':0.5\n",
    "        }\n",
    "    )\n",
    "fig.show()"
   ]
  },
  {
   "cell_type": "code",
   "execution_count": 644,
   "id": "f4e93a45-190c-481a-bfbc-701b55eab896",
   "metadata": {},
   "outputs": [
    {
     "data": {
      "application/vnd.plotly.v1+json": {
       "config": {
        "plotlyServerURL": "https://plot.ly"
       },
       "data": [
        {
         "hovertemplate": "x=%{x}<br>y=%{y}<extra></extra>",
         "legendgroup": "",
         "marker": {
          "color": [
           "crimson",
           "lightslategray",
           "lightslategray",
           "lightslategray",
           "lightslategray",
           "lightslategray"
          ],
          "pattern": {
           "shape": ""
          }
         },
         "name": "",
         "orientation": "h",
         "showlegend": false,
         "textposition": "auto",
         "type": "bar",
         "x": {
          "bdata": "mu4KAKRcAADfEQAA0ggAADEAAAABAAAA",
          "dtype": "i4"
         },
         "xaxis": "x",
         "y": [
          "Automatic",
          "Manual",
          "Unknown",
          "CVT",
          "Dual-Clutch",
          "Semi-Automatic"
         ],
         "yaxis": "y"
        }
       ],
       "layout": {
        "barmode": "relative",
        "font": {
         "size": 14
        },
        "height": 600,
        "legend": {
         "tracegroupgap": 0
        },
        "margin": {
         "t": 60
        },
        "showlegend": false,
        "template": {
         "data": {
          "bar": [
           {
            "error_x": {
             "color": "#2a3f5f"
            },
            "error_y": {
             "color": "#2a3f5f"
            },
            "marker": {
             "line": {
              "color": "#E5ECF6",
              "width": 0.5
             },
             "pattern": {
              "fillmode": "overlay",
              "size": 10,
              "solidity": 0.2
             }
            },
            "type": "bar"
           }
          ],
          "barpolar": [
           {
            "marker": {
             "line": {
              "color": "#E5ECF6",
              "width": 0.5
             },
             "pattern": {
              "fillmode": "overlay",
              "size": 10,
              "solidity": 0.2
             }
            },
            "type": "barpolar"
           }
          ],
          "carpet": [
           {
            "aaxis": {
             "endlinecolor": "#2a3f5f",
             "gridcolor": "white",
             "linecolor": "white",
             "minorgridcolor": "white",
             "startlinecolor": "#2a3f5f"
            },
            "baxis": {
             "endlinecolor": "#2a3f5f",
             "gridcolor": "white",
             "linecolor": "white",
             "minorgridcolor": "white",
             "startlinecolor": "#2a3f5f"
            },
            "type": "carpet"
           }
          ],
          "choropleth": [
           {
            "colorbar": {
             "outlinewidth": 0,
             "ticks": ""
            },
            "type": "choropleth"
           }
          ],
          "contour": [
           {
            "colorbar": {
             "outlinewidth": 0,
             "ticks": ""
            },
            "colorscale": [
             [
              0,
              "#0d0887"
             ],
             [
              0.1111111111111111,
              "#46039f"
             ],
             [
              0.2222222222222222,
              "#7201a8"
             ],
             [
              0.3333333333333333,
              "#9c179e"
             ],
             [
              0.4444444444444444,
              "#bd3786"
             ],
             [
              0.5555555555555556,
              "#d8576b"
             ],
             [
              0.6666666666666666,
              "#ed7953"
             ],
             [
              0.7777777777777778,
              "#fb9f3a"
             ],
             [
              0.8888888888888888,
              "#fdca26"
             ],
             [
              1,
              "#f0f921"
             ]
            ],
            "type": "contour"
           }
          ],
          "contourcarpet": [
           {
            "colorbar": {
             "outlinewidth": 0,
             "ticks": ""
            },
            "type": "contourcarpet"
           }
          ],
          "heatmap": [
           {
            "colorbar": {
             "outlinewidth": 0,
             "ticks": ""
            },
            "colorscale": [
             [
              0,
              "#0d0887"
             ],
             [
              0.1111111111111111,
              "#46039f"
             ],
             [
              0.2222222222222222,
              "#7201a8"
             ],
             [
              0.3333333333333333,
              "#9c179e"
             ],
             [
              0.4444444444444444,
              "#bd3786"
             ],
             [
              0.5555555555555556,
              "#d8576b"
             ],
             [
              0.6666666666666666,
              "#ed7953"
             ],
             [
              0.7777777777777778,
              "#fb9f3a"
             ],
             [
              0.8888888888888888,
              "#fdca26"
             ],
             [
              1,
              "#f0f921"
             ]
            ],
            "type": "heatmap"
           }
          ],
          "histogram": [
           {
            "marker": {
             "pattern": {
              "fillmode": "overlay",
              "size": 10,
              "solidity": 0.2
             }
            },
            "type": "histogram"
           }
          ],
          "histogram2d": [
           {
            "colorbar": {
             "outlinewidth": 0,
             "ticks": ""
            },
            "colorscale": [
             [
              0,
              "#0d0887"
             ],
             [
              0.1111111111111111,
              "#46039f"
             ],
             [
              0.2222222222222222,
              "#7201a8"
             ],
             [
              0.3333333333333333,
              "#9c179e"
             ],
             [
              0.4444444444444444,
              "#bd3786"
             ],
             [
              0.5555555555555556,
              "#d8576b"
             ],
             [
              0.6666666666666666,
              "#ed7953"
             ],
             [
              0.7777777777777778,
              "#fb9f3a"
             ],
             [
              0.8888888888888888,
              "#fdca26"
             ],
             [
              1,
              "#f0f921"
             ]
            ],
            "type": "histogram2d"
           }
          ],
          "histogram2dcontour": [
           {
            "colorbar": {
             "outlinewidth": 0,
             "ticks": ""
            },
            "colorscale": [
             [
              0,
              "#0d0887"
             ],
             [
              0.1111111111111111,
              "#46039f"
             ],
             [
              0.2222222222222222,
              "#7201a8"
             ],
             [
              0.3333333333333333,
              "#9c179e"
             ],
             [
              0.4444444444444444,
              "#bd3786"
             ],
             [
              0.5555555555555556,
              "#d8576b"
             ],
             [
              0.6666666666666666,
              "#ed7953"
             ],
             [
              0.7777777777777778,
              "#fb9f3a"
             ],
             [
              0.8888888888888888,
              "#fdca26"
             ],
             [
              1,
              "#f0f921"
             ]
            ],
            "type": "histogram2dcontour"
           }
          ],
          "mesh3d": [
           {
            "colorbar": {
             "outlinewidth": 0,
             "ticks": ""
            },
            "type": "mesh3d"
           }
          ],
          "parcoords": [
           {
            "line": {
             "colorbar": {
              "outlinewidth": 0,
              "ticks": ""
             }
            },
            "type": "parcoords"
           }
          ],
          "pie": [
           {
            "automargin": true,
            "type": "pie"
           }
          ],
          "scatter": [
           {
            "fillpattern": {
             "fillmode": "overlay",
             "size": 10,
             "solidity": 0.2
            },
            "type": "scatter"
           }
          ],
          "scatter3d": [
           {
            "line": {
             "colorbar": {
              "outlinewidth": 0,
              "ticks": ""
             }
            },
            "marker": {
             "colorbar": {
              "outlinewidth": 0,
              "ticks": ""
             }
            },
            "type": "scatter3d"
           }
          ],
          "scattercarpet": [
           {
            "marker": {
             "colorbar": {
              "outlinewidth": 0,
              "ticks": ""
             }
            },
            "type": "scattercarpet"
           }
          ],
          "scattergeo": [
           {
            "marker": {
             "colorbar": {
              "outlinewidth": 0,
              "ticks": ""
             }
            },
            "type": "scattergeo"
           }
          ],
          "scattergl": [
           {
            "marker": {
             "colorbar": {
              "outlinewidth": 0,
              "ticks": ""
             }
            },
            "type": "scattergl"
           }
          ],
          "scattermap": [
           {
            "marker": {
             "colorbar": {
              "outlinewidth": 0,
              "ticks": ""
             }
            },
            "type": "scattermap"
           }
          ],
          "scattermapbox": [
           {
            "marker": {
             "colorbar": {
              "outlinewidth": 0,
              "ticks": ""
             }
            },
            "type": "scattermapbox"
           }
          ],
          "scatterpolar": [
           {
            "marker": {
             "colorbar": {
              "outlinewidth": 0,
              "ticks": ""
             }
            },
            "type": "scatterpolar"
           }
          ],
          "scatterpolargl": [
           {
            "marker": {
             "colorbar": {
              "outlinewidth": 0,
              "ticks": ""
             }
            },
            "type": "scatterpolargl"
           }
          ],
          "scatterternary": [
           {
            "marker": {
             "colorbar": {
              "outlinewidth": 0,
              "ticks": ""
             }
            },
            "type": "scatterternary"
           }
          ],
          "surface": [
           {
            "colorbar": {
             "outlinewidth": 0,
             "ticks": ""
            },
            "colorscale": [
             [
              0,
              "#0d0887"
             ],
             [
              0.1111111111111111,
              "#46039f"
             ],
             [
              0.2222222222222222,
              "#7201a8"
             ],
             [
              0.3333333333333333,
              "#9c179e"
             ],
             [
              0.4444444444444444,
              "#bd3786"
             ],
             [
              0.5555555555555556,
              "#d8576b"
             ],
             [
              0.6666666666666666,
              "#ed7953"
             ],
             [
              0.7777777777777778,
              "#fb9f3a"
             ],
             [
              0.8888888888888888,
              "#fdca26"
             ],
             [
              1,
              "#f0f921"
             ]
            ],
            "type": "surface"
           }
          ],
          "table": [
           {
            "cells": {
             "fill": {
              "color": "#EBF0F8"
             },
             "line": {
              "color": "white"
             }
            },
            "header": {
             "fill": {
              "color": "#C8D4E3"
             },
             "line": {
              "color": "white"
             }
            },
            "type": "table"
           }
          ]
         },
         "layout": {
          "annotationdefaults": {
           "arrowcolor": "#2a3f5f",
           "arrowhead": 0,
           "arrowwidth": 1
          },
          "autotypenumbers": "strict",
          "coloraxis": {
           "colorbar": {
            "outlinewidth": 0,
            "ticks": ""
           }
          },
          "colorscale": {
           "diverging": [
            [
             0,
             "#8e0152"
            ],
            [
             0.1,
             "#c51b7d"
            ],
            [
             0.2,
             "#de77ae"
            ],
            [
             0.3,
             "#f1b6da"
            ],
            [
             0.4,
             "#fde0ef"
            ],
            [
             0.5,
             "#f7f7f7"
            ],
            [
             0.6,
             "#e6f5d0"
            ],
            [
             0.7,
             "#b8e186"
            ],
            [
             0.8,
             "#7fbc41"
            ],
            [
             0.9,
             "#4d9221"
            ],
            [
             1,
             "#276419"
            ]
           ],
           "sequential": [
            [
             0,
             "#0d0887"
            ],
            [
             0.1111111111111111,
             "#46039f"
            ],
            [
             0.2222222222222222,
             "#7201a8"
            ],
            [
             0.3333333333333333,
             "#9c179e"
            ],
            [
             0.4444444444444444,
             "#bd3786"
            ],
            [
             0.5555555555555556,
             "#d8576b"
            ],
            [
             0.6666666666666666,
             "#ed7953"
            ],
            [
             0.7777777777777778,
             "#fb9f3a"
            ],
            [
             0.8888888888888888,
             "#fdca26"
            ],
            [
             1,
             "#f0f921"
            ]
           ],
           "sequentialminus": [
            [
             0,
             "#0d0887"
            ],
            [
             0.1111111111111111,
             "#46039f"
            ],
            [
             0.2222222222222222,
             "#7201a8"
            ],
            [
             0.3333333333333333,
             "#9c179e"
            ],
            [
             0.4444444444444444,
             "#bd3786"
            ],
            [
             0.5555555555555556,
             "#d8576b"
            ],
            [
             0.6666666666666666,
             "#ed7953"
            ],
            [
             0.7777777777777778,
             "#fb9f3a"
            ],
            [
             0.8888888888888888,
             "#fdca26"
            ],
            [
             1,
             "#f0f921"
            ]
           ]
          },
          "colorway": [
           "#636efa",
           "#EF553B",
           "#00cc96",
           "#ab63fa",
           "#FFA15A",
           "#19d3f3",
           "#FF6692",
           "#B6E880",
           "#FF97FF",
           "#FECB52"
          ],
          "font": {
           "color": "#2a3f5f"
          },
          "geo": {
           "bgcolor": "white",
           "lakecolor": "white",
           "landcolor": "#E5ECF6",
           "showlakes": true,
           "showland": true,
           "subunitcolor": "white"
          },
          "hoverlabel": {
           "align": "left"
          },
          "hovermode": "closest",
          "mapbox": {
           "style": "light"
          },
          "paper_bgcolor": "white",
          "plot_bgcolor": "#E5ECF6",
          "polar": {
           "angularaxis": {
            "gridcolor": "white",
            "linecolor": "white",
            "ticks": ""
           },
           "bgcolor": "#E5ECF6",
           "radialaxis": {
            "gridcolor": "white",
            "linecolor": "white",
            "ticks": ""
           }
          },
          "scene": {
           "xaxis": {
            "backgroundcolor": "#E5ECF6",
            "gridcolor": "white",
            "gridwidth": 2,
            "linecolor": "white",
            "showbackground": true,
            "ticks": "",
            "zerolinecolor": "white"
           },
           "yaxis": {
            "backgroundcolor": "#E5ECF6",
            "gridcolor": "white",
            "gridwidth": 2,
            "linecolor": "white",
            "showbackground": true,
            "ticks": "",
            "zerolinecolor": "white"
           },
           "zaxis": {
            "backgroundcolor": "#E5ECF6",
            "gridcolor": "white",
            "gridwidth": 2,
            "linecolor": "white",
            "showbackground": true,
            "ticks": "",
            "zerolinecolor": "white"
           }
          },
          "shapedefaults": {
           "line": {
            "color": "#2a3f5f"
           }
          },
          "ternary": {
           "aaxis": {
            "gridcolor": "white",
            "linecolor": "white",
            "ticks": ""
           },
           "baxis": {
            "gridcolor": "white",
            "linecolor": "white",
            "ticks": ""
           },
           "bgcolor": "#E5ECF6",
           "caxis": {
            "gridcolor": "white",
            "linecolor": "white",
            "ticks": ""
           }
          },
          "title": {
           "x": 0.05
          },
          "xaxis": {
           "automargin": true,
           "gridcolor": "white",
           "linecolor": "white",
           "ticks": "",
           "title": {
            "standoff": 15
           },
           "zerolinecolor": "white",
           "zerolinewidth": 2
          },
          "yaxis": {
           "automargin": true,
           "gridcolor": "white",
           "linecolor": "white",
           "ticks": "",
           "title": {
            "standoff": 15
           },
           "zerolinecolor": "white",
           "zerolinewidth": 2
          }
         }
        },
        "title": {
         "text": "Gear Transmission used",
         "x": 0.5,
         "y": 0.96
        },
        "width": 1200,
        "xaxis": {
         "anchor": "y",
         "domain": [
          0,
          1
         ],
         "title": {
          "text": "No of cars"
         }
        },
        "yaxis": {
         "anchor": "x",
         "domain": [
          0,
          1
         ],
         "title": {
          "text": "Transmissions"
         }
        }
       }
      }
     },
     "metadata": {},
     "output_type": "display_data"
    }
   ],
   "source": [
    "most_used_engin = data['transmission_category'].value_counts()\n",
    "color = ['lightslategray']*6\n",
    "color[0] = 'crimson'\n",
    "\n",
    "fig = px.bar(\n",
    "    x=most_used_engin.values,       \n",
    "    y=most_used_engin.index,\n",
    "    orientation='h')\n",
    "\n",
    "fig.update_traces(marker_color=color)\n",
    "\n",
    "fig.update_layout(\n",
    "    yaxis_title=\"Transmissions\",\n",
    "    xaxis_title=\"No of cars\",\n",
    "    showlegend = False,\n",
    "    height=600,\n",
    "    width=1200\n",
    "    ,\n",
    "    \n",
    "    font = dict(size = 14),    \n",
    "    title={\n",
    "        'text': \"Gear Transmission used\",\n",
    "        'y':0.96,\n",
    "        'x':0.5\n",
    "        }\n",
    "    )\n",
    "\n",
    "fig.show()"
   ]
  },
  {
   "cell_type": "code",
   "execution_count": 645,
   "id": "1c97d31b-ad32-45ea-b9f0-a467342313e5",
   "metadata": {},
   "outputs": [
    {
     "data": {
      "application/vnd.plotly.v1+json": {
       "config": {
        "plotlyServerURL": "https://plot.ly"
       },
       "data": [
        {
         "hovertemplate": "x=%{x}<br>y=%{y}<extra></extra>",
         "legendgroup": "",
         "marker": {
          "color": [
           "crimson",
           "lightslategray",
           "lightslategray",
           "lightslategray",
           "lightslategray",
           "lightslategray",
           "lightslategray",
           "lightslategray",
           "lightslategray",
           "lightslategray",
           "lightslategray",
           "lightslategray",
           "lightslategray",
           "lightslategray",
           "lightslategray",
           "lightslategray",
           "lightslategray",
           "lightslategray",
           "lightslategray",
           "lightslategray",
           "lightslategray",
           "lightslategray",
           "lightslategray",
           "lightslategray",
           "lightslategray",
           "lightslategray",
           "lightslategray",
           "lightslategray",
           "lightslategray",
           "lightslategray"
          ],
          "pattern": {
           "shape": ""
          }
         },
         "name": "",
         "orientation": "h",
         "showlegend": false,
         "textposition": "auto",
         "type": "bar",
         "x": {
          "bdata": "l8QDABGPAwAibQIAxYIBAI8iAAA=",
          "dtype": "i4"
         },
         "xaxis": "x",
         "y": [
          "FWD",
          "AWD",
          "4WD",
          "RWD",
          "Unknown"
         ],
         "yaxis": "y"
        }
       ],
       "layout": {
        "barmode": "relative",
        "font": {
         "size": 14
        },
        "height": 600,
        "legend": {
         "tracegroupgap": 0
        },
        "margin": {
         "t": 60
        },
        "showlegend": false,
        "template": {
         "data": {
          "bar": [
           {
            "error_x": {
             "color": "#2a3f5f"
            },
            "error_y": {
             "color": "#2a3f5f"
            },
            "marker": {
             "line": {
              "color": "#E5ECF6",
              "width": 0.5
             },
             "pattern": {
              "fillmode": "overlay",
              "size": 10,
              "solidity": 0.2
             }
            },
            "type": "bar"
           }
          ],
          "barpolar": [
           {
            "marker": {
             "line": {
              "color": "#E5ECF6",
              "width": 0.5
             },
             "pattern": {
              "fillmode": "overlay",
              "size": 10,
              "solidity": 0.2
             }
            },
            "type": "barpolar"
           }
          ],
          "carpet": [
           {
            "aaxis": {
             "endlinecolor": "#2a3f5f",
             "gridcolor": "white",
             "linecolor": "white",
             "minorgridcolor": "white",
             "startlinecolor": "#2a3f5f"
            },
            "baxis": {
             "endlinecolor": "#2a3f5f",
             "gridcolor": "white",
             "linecolor": "white",
             "minorgridcolor": "white",
             "startlinecolor": "#2a3f5f"
            },
            "type": "carpet"
           }
          ],
          "choropleth": [
           {
            "colorbar": {
             "outlinewidth": 0,
             "ticks": ""
            },
            "type": "choropleth"
           }
          ],
          "contour": [
           {
            "colorbar": {
             "outlinewidth": 0,
             "ticks": ""
            },
            "colorscale": [
             [
              0,
              "#0d0887"
             ],
             [
              0.1111111111111111,
              "#46039f"
             ],
             [
              0.2222222222222222,
              "#7201a8"
             ],
             [
              0.3333333333333333,
              "#9c179e"
             ],
             [
              0.4444444444444444,
              "#bd3786"
             ],
             [
              0.5555555555555556,
              "#d8576b"
             ],
             [
              0.6666666666666666,
              "#ed7953"
             ],
             [
              0.7777777777777778,
              "#fb9f3a"
             ],
             [
              0.8888888888888888,
              "#fdca26"
             ],
             [
              1,
              "#f0f921"
             ]
            ],
            "type": "contour"
           }
          ],
          "contourcarpet": [
           {
            "colorbar": {
             "outlinewidth": 0,
             "ticks": ""
            },
            "type": "contourcarpet"
           }
          ],
          "heatmap": [
           {
            "colorbar": {
             "outlinewidth": 0,
             "ticks": ""
            },
            "colorscale": [
             [
              0,
              "#0d0887"
             ],
             [
              0.1111111111111111,
              "#46039f"
             ],
             [
              0.2222222222222222,
              "#7201a8"
             ],
             [
              0.3333333333333333,
              "#9c179e"
             ],
             [
              0.4444444444444444,
              "#bd3786"
             ],
             [
              0.5555555555555556,
              "#d8576b"
             ],
             [
              0.6666666666666666,
              "#ed7953"
             ],
             [
              0.7777777777777778,
              "#fb9f3a"
             ],
             [
              0.8888888888888888,
              "#fdca26"
             ],
             [
              1,
              "#f0f921"
             ]
            ],
            "type": "heatmap"
           }
          ],
          "histogram": [
           {
            "marker": {
             "pattern": {
              "fillmode": "overlay",
              "size": 10,
              "solidity": 0.2
             }
            },
            "type": "histogram"
           }
          ],
          "histogram2d": [
           {
            "colorbar": {
             "outlinewidth": 0,
             "ticks": ""
            },
            "colorscale": [
             [
              0,
              "#0d0887"
             ],
             [
              0.1111111111111111,
              "#46039f"
             ],
             [
              0.2222222222222222,
              "#7201a8"
             ],
             [
              0.3333333333333333,
              "#9c179e"
             ],
             [
              0.4444444444444444,
              "#bd3786"
             ],
             [
              0.5555555555555556,
              "#d8576b"
             ],
             [
              0.6666666666666666,
              "#ed7953"
             ],
             [
              0.7777777777777778,
              "#fb9f3a"
             ],
             [
              0.8888888888888888,
              "#fdca26"
             ],
             [
              1,
              "#f0f921"
             ]
            ],
            "type": "histogram2d"
           }
          ],
          "histogram2dcontour": [
           {
            "colorbar": {
             "outlinewidth": 0,
             "ticks": ""
            },
            "colorscale": [
             [
              0,
              "#0d0887"
             ],
             [
              0.1111111111111111,
              "#46039f"
             ],
             [
              0.2222222222222222,
              "#7201a8"
             ],
             [
              0.3333333333333333,
              "#9c179e"
             ],
             [
              0.4444444444444444,
              "#bd3786"
             ],
             [
              0.5555555555555556,
              "#d8576b"
             ],
             [
              0.6666666666666666,
              "#ed7953"
             ],
             [
              0.7777777777777778,
              "#fb9f3a"
             ],
             [
              0.8888888888888888,
              "#fdca26"
             ],
             [
              1,
              "#f0f921"
             ]
            ],
            "type": "histogram2dcontour"
           }
          ],
          "mesh3d": [
           {
            "colorbar": {
             "outlinewidth": 0,
             "ticks": ""
            },
            "type": "mesh3d"
           }
          ],
          "parcoords": [
           {
            "line": {
             "colorbar": {
              "outlinewidth": 0,
              "ticks": ""
             }
            },
            "type": "parcoords"
           }
          ],
          "pie": [
           {
            "automargin": true,
            "type": "pie"
           }
          ],
          "scatter": [
           {
            "fillpattern": {
             "fillmode": "overlay",
             "size": 10,
             "solidity": 0.2
            },
            "type": "scatter"
           }
          ],
          "scatter3d": [
           {
            "line": {
             "colorbar": {
              "outlinewidth": 0,
              "ticks": ""
             }
            },
            "marker": {
             "colorbar": {
              "outlinewidth": 0,
              "ticks": ""
             }
            },
            "type": "scatter3d"
           }
          ],
          "scattercarpet": [
           {
            "marker": {
             "colorbar": {
              "outlinewidth": 0,
              "ticks": ""
             }
            },
            "type": "scattercarpet"
           }
          ],
          "scattergeo": [
           {
            "marker": {
             "colorbar": {
              "outlinewidth": 0,
              "ticks": ""
             }
            },
            "type": "scattergeo"
           }
          ],
          "scattergl": [
           {
            "marker": {
             "colorbar": {
              "outlinewidth": 0,
              "ticks": ""
             }
            },
            "type": "scattergl"
           }
          ],
          "scattermap": [
           {
            "marker": {
             "colorbar": {
              "outlinewidth": 0,
              "ticks": ""
             }
            },
            "type": "scattermap"
           }
          ],
          "scattermapbox": [
           {
            "marker": {
             "colorbar": {
              "outlinewidth": 0,
              "ticks": ""
             }
            },
            "type": "scattermapbox"
           }
          ],
          "scatterpolar": [
           {
            "marker": {
             "colorbar": {
              "outlinewidth": 0,
              "ticks": ""
             }
            },
            "type": "scatterpolar"
           }
          ],
          "scatterpolargl": [
           {
            "marker": {
             "colorbar": {
              "outlinewidth": 0,
              "ticks": ""
             }
            },
            "type": "scatterpolargl"
           }
          ],
          "scatterternary": [
           {
            "marker": {
             "colorbar": {
              "outlinewidth": 0,
              "ticks": ""
             }
            },
            "type": "scatterternary"
           }
          ],
          "surface": [
           {
            "colorbar": {
             "outlinewidth": 0,
             "ticks": ""
            },
            "colorscale": [
             [
              0,
              "#0d0887"
             ],
             [
              0.1111111111111111,
              "#46039f"
             ],
             [
              0.2222222222222222,
              "#7201a8"
             ],
             [
              0.3333333333333333,
              "#9c179e"
             ],
             [
              0.4444444444444444,
              "#bd3786"
             ],
             [
              0.5555555555555556,
              "#d8576b"
             ],
             [
              0.6666666666666666,
              "#ed7953"
             ],
             [
              0.7777777777777778,
              "#fb9f3a"
             ],
             [
              0.8888888888888888,
              "#fdca26"
             ],
             [
              1,
              "#f0f921"
             ]
            ],
            "type": "surface"
           }
          ],
          "table": [
           {
            "cells": {
             "fill": {
              "color": "#EBF0F8"
             },
             "line": {
              "color": "white"
             }
            },
            "header": {
             "fill": {
              "color": "#C8D4E3"
             },
             "line": {
              "color": "white"
             }
            },
            "type": "table"
           }
          ]
         },
         "layout": {
          "annotationdefaults": {
           "arrowcolor": "#2a3f5f",
           "arrowhead": 0,
           "arrowwidth": 1
          },
          "autotypenumbers": "strict",
          "coloraxis": {
           "colorbar": {
            "outlinewidth": 0,
            "ticks": ""
           }
          },
          "colorscale": {
           "diverging": [
            [
             0,
             "#8e0152"
            ],
            [
             0.1,
             "#c51b7d"
            ],
            [
             0.2,
             "#de77ae"
            ],
            [
             0.3,
             "#f1b6da"
            ],
            [
             0.4,
             "#fde0ef"
            ],
            [
             0.5,
             "#f7f7f7"
            ],
            [
             0.6,
             "#e6f5d0"
            ],
            [
             0.7,
             "#b8e186"
            ],
            [
             0.8,
             "#7fbc41"
            ],
            [
             0.9,
             "#4d9221"
            ],
            [
             1,
             "#276419"
            ]
           ],
           "sequential": [
            [
             0,
             "#0d0887"
            ],
            [
             0.1111111111111111,
             "#46039f"
            ],
            [
             0.2222222222222222,
             "#7201a8"
            ],
            [
             0.3333333333333333,
             "#9c179e"
            ],
            [
             0.4444444444444444,
             "#bd3786"
            ],
            [
             0.5555555555555556,
             "#d8576b"
            ],
            [
             0.6666666666666666,
             "#ed7953"
            ],
            [
             0.7777777777777778,
             "#fb9f3a"
            ],
            [
             0.8888888888888888,
             "#fdca26"
            ],
            [
             1,
             "#f0f921"
            ]
           ],
           "sequentialminus": [
            [
             0,
             "#0d0887"
            ],
            [
             0.1111111111111111,
             "#46039f"
            ],
            [
             0.2222222222222222,
             "#7201a8"
            ],
            [
             0.3333333333333333,
             "#9c179e"
            ],
            [
             0.4444444444444444,
             "#bd3786"
            ],
            [
             0.5555555555555556,
             "#d8576b"
            ],
            [
             0.6666666666666666,
             "#ed7953"
            ],
            [
             0.7777777777777778,
             "#fb9f3a"
            ],
            [
             0.8888888888888888,
             "#fdca26"
            ],
            [
             1,
             "#f0f921"
            ]
           ]
          },
          "colorway": [
           "#636efa",
           "#EF553B",
           "#00cc96",
           "#ab63fa",
           "#FFA15A",
           "#19d3f3",
           "#FF6692",
           "#B6E880",
           "#FF97FF",
           "#FECB52"
          ],
          "font": {
           "color": "#2a3f5f"
          },
          "geo": {
           "bgcolor": "white",
           "lakecolor": "white",
           "landcolor": "#E5ECF6",
           "showlakes": true,
           "showland": true,
           "subunitcolor": "white"
          },
          "hoverlabel": {
           "align": "left"
          },
          "hovermode": "closest",
          "mapbox": {
           "style": "light"
          },
          "paper_bgcolor": "white",
          "plot_bgcolor": "#E5ECF6",
          "polar": {
           "angularaxis": {
            "gridcolor": "white",
            "linecolor": "white",
            "ticks": ""
           },
           "bgcolor": "#E5ECF6",
           "radialaxis": {
            "gridcolor": "white",
            "linecolor": "white",
            "ticks": ""
           }
          },
          "scene": {
           "xaxis": {
            "backgroundcolor": "#E5ECF6",
            "gridcolor": "white",
            "gridwidth": 2,
            "linecolor": "white",
            "showbackground": true,
            "ticks": "",
            "zerolinecolor": "white"
           },
           "yaxis": {
            "backgroundcolor": "#E5ECF6",
            "gridcolor": "white",
            "gridwidth": 2,
            "linecolor": "white",
            "showbackground": true,
            "ticks": "",
            "zerolinecolor": "white"
           },
           "zaxis": {
            "backgroundcolor": "#E5ECF6",
            "gridcolor": "white",
            "gridwidth": 2,
            "linecolor": "white",
            "showbackground": true,
            "ticks": "",
            "zerolinecolor": "white"
           }
          },
          "shapedefaults": {
           "line": {
            "color": "#2a3f5f"
           }
          },
          "ternary": {
           "aaxis": {
            "gridcolor": "white",
            "linecolor": "white",
            "ticks": ""
           },
           "baxis": {
            "gridcolor": "white",
            "linecolor": "white",
            "ticks": ""
           },
           "bgcolor": "#E5ECF6",
           "caxis": {
            "gridcolor": "white",
            "linecolor": "white",
            "ticks": ""
           }
          },
          "title": {
           "x": 0.05
          },
          "xaxis": {
           "automargin": true,
           "gridcolor": "white",
           "linecolor": "white",
           "ticks": "",
           "title": {
            "standoff": 15
           },
           "zerolinecolor": "white",
           "zerolinewidth": 2
          },
          "yaxis": {
           "automargin": true,
           "gridcolor": "white",
           "linecolor": "white",
           "ticks": "",
           "title": {
            "standoff": 15
           },
           "zerolinecolor": "white",
           "zerolinewidth": 2
          }
         }
        },
        "title": {
         "text": "Most Prefered Drivetrain",
         "x": 0.5,
         "y": 0.96
        },
        "width": 1200,
        "xaxis": {
         "anchor": "y",
         "domain": [
          0,
          1
         ],
         "title": {
          "text": "No of cars"
         }
        },
        "yaxis": {
         "anchor": "x",
         "domain": [
          0,
          1
         ],
         "title": {
          "text": "drivetrain"
         }
        }
       }
      }
     },
     "metadata": {},
     "output_type": "display_data"
    }
   ],
   "source": [
    "most_used_engin = data['drivetrain'].value_counts().head(5)\n",
    "color = ['lightslategray']*30\n",
    "color[0] = 'crimson'\n",
    "\n",
    "fig = px.bar(\n",
    "    x=most_used_engin.values,       \n",
    "    y=most_used_engin.index,\n",
    "    orientation='h')\n",
    "\n",
    "fig.update_traces(marker_color=color)\n",
    "\n",
    "fig.update_layout(\n",
    "    yaxis_title=\"drivetrain\",\n",
    "    xaxis_title=\"No of cars\",\n",
    "    showlegend = False,\n",
    "    height=600,\n",
    "    width=1200,\n",
    "    font = dict(size = 14),    \n",
    "    title={\n",
    "        'text': \"Most Prefered Drivetrain\",\n",
    "        'y':0.96,\n",
    "        'x':0.5\n",
    "        }\n",
    "    )\n",
    "\n",
    "fig.show()"
   ]
  },
  {
   "cell_type": "code",
   "execution_count": 647,
   "id": "a7b7bf1e-a6bc-458f-91e2-249892013ced",
   "metadata": {},
   "outputs": [
    {
     "data": {
      "application/vnd.plotly.v1+json": {
       "config": {
        "plotlyServerURL": "https://plot.ly"
       },
       "data": [
        {
         "hovertemplate": "x=%{x}<br>y=%{y}<extra></extra>",
         "legendgroup": "",
         "marker": {
          "color": [
           "#00BFFF",
           "#FF4500",
           "#FF4500",
           "#FF4500",
           "#FF4500",
           "#FF4500",
           "#FF4500",
           "#FF4500",
           "#FF4500",
           "#FF4500",
           "#FF4500",
           "#FF4500",
           "#FF4500",
           "#FF4500",
           "#FF4500",
           "#FF4500",
           "#FF4500",
           "#FF4500",
           "#FF4500",
           "#FF4500",
           "#FF4500",
           "#FF4500",
           "#FF4500",
           "#FF4500",
           "#FF4500",
           "#FF4500",
           "#FF4500",
           "#FF4500",
           "#FF4500",
           "#FF4500"
          ],
          "pattern": {
           "shape": ""
          }
         },
         "name": "",
         "orientation": "h",
         "showlegend": false,
         "textposition": "auto",
         "type": "bar",
         "x": {
          "bdata": "8/sJAMpwAAAGbgAAdEsAAG8/AAA=",
          "dtype": "i4"
         },
         "xaxis": "x",
         "y": [
          "gasoline",
          "hybrid",
          "diesel",
          "flex fuel",
          "electric"
         ],
         "yaxis": "y"
        }
       ],
       "layout": {
        "barmode": "relative",
        "font": {
         "size": 14
        },
        "height": 600,
        "legend": {
         "tracegroupgap": 0
        },
        "margin": {
         "t": 60
        },
        "showlegend": false,
        "template": {
         "data": {
          "bar": [
           {
            "error_x": {
             "color": "#2a3f5f"
            },
            "error_y": {
             "color": "#2a3f5f"
            },
            "marker": {
             "line": {
              "color": "#E5ECF6",
              "width": 0.5
             },
             "pattern": {
              "fillmode": "overlay",
              "size": 10,
              "solidity": 0.2
             }
            },
            "type": "bar"
           }
          ],
          "barpolar": [
           {
            "marker": {
             "line": {
              "color": "#E5ECF6",
              "width": 0.5
             },
             "pattern": {
              "fillmode": "overlay",
              "size": 10,
              "solidity": 0.2
             }
            },
            "type": "barpolar"
           }
          ],
          "carpet": [
           {
            "aaxis": {
             "endlinecolor": "#2a3f5f",
             "gridcolor": "white",
             "linecolor": "white",
             "minorgridcolor": "white",
             "startlinecolor": "#2a3f5f"
            },
            "baxis": {
             "endlinecolor": "#2a3f5f",
             "gridcolor": "white",
             "linecolor": "white",
             "minorgridcolor": "white",
             "startlinecolor": "#2a3f5f"
            },
            "type": "carpet"
           }
          ],
          "choropleth": [
           {
            "colorbar": {
             "outlinewidth": 0,
             "ticks": ""
            },
            "type": "choropleth"
           }
          ],
          "contour": [
           {
            "colorbar": {
             "outlinewidth": 0,
             "ticks": ""
            },
            "colorscale": [
             [
              0,
              "#0d0887"
             ],
             [
              0.1111111111111111,
              "#46039f"
             ],
             [
              0.2222222222222222,
              "#7201a8"
             ],
             [
              0.3333333333333333,
              "#9c179e"
             ],
             [
              0.4444444444444444,
              "#bd3786"
             ],
             [
              0.5555555555555556,
              "#d8576b"
             ],
             [
              0.6666666666666666,
              "#ed7953"
             ],
             [
              0.7777777777777778,
              "#fb9f3a"
             ],
             [
              0.8888888888888888,
              "#fdca26"
             ],
             [
              1,
              "#f0f921"
             ]
            ],
            "type": "contour"
           }
          ],
          "contourcarpet": [
           {
            "colorbar": {
             "outlinewidth": 0,
             "ticks": ""
            },
            "type": "contourcarpet"
           }
          ],
          "heatmap": [
           {
            "colorbar": {
             "outlinewidth": 0,
             "ticks": ""
            },
            "colorscale": [
             [
              0,
              "#0d0887"
             ],
             [
              0.1111111111111111,
              "#46039f"
             ],
             [
              0.2222222222222222,
              "#7201a8"
             ],
             [
              0.3333333333333333,
              "#9c179e"
             ],
             [
              0.4444444444444444,
              "#bd3786"
             ],
             [
              0.5555555555555556,
              "#d8576b"
             ],
             [
              0.6666666666666666,
              "#ed7953"
             ],
             [
              0.7777777777777778,
              "#fb9f3a"
             ],
             [
              0.8888888888888888,
              "#fdca26"
             ],
             [
              1,
              "#f0f921"
             ]
            ],
            "type": "heatmap"
           }
          ],
          "histogram": [
           {
            "marker": {
             "pattern": {
              "fillmode": "overlay",
              "size": 10,
              "solidity": 0.2
             }
            },
            "type": "histogram"
           }
          ],
          "histogram2d": [
           {
            "colorbar": {
             "outlinewidth": 0,
             "ticks": ""
            },
            "colorscale": [
             [
              0,
              "#0d0887"
             ],
             [
              0.1111111111111111,
              "#46039f"
             ],
             [
              0.2222222222222222,
              "#7201a8"
             ],
             [
              0.3333333333333333,
              "#9c179e"
             ],
             [
              0.4444444444444444,
              "#bd3786"
             ],
             [
              0.5555555555555556,
              "#d8576b"
             ],
             [
              0.6666666666666666,
              "#ed7953"
             ],
             [
              0.7777777777777778,
              "#fb9f3a"
             ],
             [
              0.8888888888888888,
              "#fdca26"
             ],
             [
              1,
              "#f0f921"
             ]
            ],
            "type": "histogram2d"
           }
          ],
          "histogram2dcontour": [
           {
            "colorbar": {
             "outlinewidth": 0,
             "ticks": ""
            },
            "colorscale": [
             [
              0,
              "#0d0887"
             ],
             [
              0.1111111111111111,
              "#46039f"
             ],
             [
              0.2222222222222222,
              "#7201a8"
             ],
             [
              0.3333333333333333,
              "#9c179e"
             ],
             [
              0.4444444444444444,
              "#bd3786"
             ],
             [
              0.5555555555555556,
              "#d8576b"
             ],
             [
              0.6666666666666666,
              "#ed7953"
             ],
             [
              0.7777777777777778,
              "#fb9f3a"
             ],
             [
              0.8888888888888888,
              "#fdca26"
             ],
             [
              1,
              "#f0f921"
             ]
            ],
            "type": "histogram2dcontour"
           }
          ],
          "mesh3d": [
           {
            "colorbar": {
             "outlinewidth": 0,
             "ticks": ""
            },
            "type": "mesh3d"
           }
          ],
          "parcoords": [
           {
            "line": {
             "colorbar": {
              "outlinewidth": 0,
              "ticks": ""
             }
            },
            "type": "parcoords"
           }
          ],
          "pie": [
           {
            "automargin": true,
            "type": "pie"
           }
          ],
          "scatter": [
           {
            "fillpattern": {
             "fillmode": "overlay",
             "size": 10,
             "solidity": 0.2
            },
            "type": "scatter"
           }
          ],
          "scatter3d": [
           {
            "line": {
             "colorbar": {
              "outlinewidth": 0,
              "ticks": ""
             }
            },
            "marker": {
             "colorbar": {
              "outlinewidth": 0,
              "ticks": ""
             }
            },
            "type": "scatter3d"
           }
          ],
          "scattercarpet": [
           {
            "marker": {
             "colorbar": {
              "outlinewidth": 0,
              "ticks": ""
             }
            },
            "type": "scattercarpet"
           }
          ],
          "scattergeo": [
           {
            "marker": {
             "colorbar": {
              "outlinewidth": 0,
              "ticks": ""
             }
            },
            "type": "scattergeo"
           }
          ],
          "scattergl": [
           {
            "marker": {
             "colorbar": {
              "outlinewidth": 0,
              "ticks": ""
             }
            },
            "type": "scattergl"
           }
          ],
          "scattermap": [
           {
            "marker": {
             "colorbar": {
              "outlinewidth": 0,
              "ticks": ""
             }
            },
            "type": "scattermap"
           }
          ],
          "scattermapbox": [
           {
            "marker": {
             "colorbar": {
              "outlinewidth": 0,
              "ticks": ""
             }
            },
            "type": "scattermapbox"
           }
          ],
          "scatterpolar": [
           {
            "marker": {
             "colorbar": {
              "outlinewidth": 0,
              "ticks": ""
             }
            },
            "type": "scatterpolar"
           }
          ],
          "scatterpolargl": [
           {
            "marker": {
             "colorbar": {
              "outlinewidth": 0,
              "ticks": ""
             }
            },
            "type": "scatterpolargl"
           }
          ],
          "scatterternary": [
           {
            "marker": {
             "colorbar": {
              "outlinewidth": 0,
              "ticks": ""
             }
            },
            "type": "scatterternary"
           }
          ],
          "surface": [
           {
            "colorbar": {
             "outlinewidth": 0,
             "ticks": ""
            },
            "colorscale": [
             [
              0,
              "#0d0887"
             ],
             [
              0.1111111111111111,
              "#46039f"
             ],
             [
              0.2222222222222222,
              "#7201a8"
             ],
             [
              0.3333333333333333,
              "#9c179e"
             ],
             [
              0.4444444444444444,
              "#bd3786"
             ],
             [
              0.5555555555555556,
              "#d8576b"
             ],
             [
              0.6666666666666666,
              "#ed7953"
             ],
             [
              0.7777777777777778,
              "#fb9f3a"
             ],
             [
              0.8888888888888888,
              "#fdca26"
             ],
             [
              1,
              "#f0f921"
             ]
            ],
            "type": "surface"
           }
          ],
          "table": [
           {
            "cells": {
             "fill": {
              "color": "#EBF0F8"
             },
             "line": {
              "color": "white"
             }
            },
            "header": {
             "fill": {
              "color": "#C8D4E3"
             },
             "line": {
              "color": "white"
             }
            },
            "type": "table"
           }
          ]
         },
         "layout": {
          "annotationdefaults": {
           "arrowcolor": "#2a3f5f",
           "arrowhead": 0,
           "arrowwidth": 1
          },
          "autotypenumbers": "strict",
          "coloraxis": {
           "colorbar": {
            "outlinewidth": 0,
            "ticks": ""
           }
          },
          "colorscale": {
           "diverging": [
            [
             0,
             "#8e0152"
            ],
            [
             0.1,
             "#c51b7d"
            ],
            [
             0.2,
             "#de77ae"
            ],
            [
             0.3,
             "#f1b6da"
            ],
            [
             0.4,
             "#fde0ef"
            ],
            [
             0.5,
             "#f7f7f7"
            ],
            [
             0.6,
             "#e6f5d0"
            ],
            [
             0.7,
             "#b8e186"
            ],
            [
             0.8,
             "#7fbc41"
            ],
            [
             0.9,
             "#4d9221"
            ],
            [
             1,
             "#276419"
            ]
           ],
           "sequential": [
            [
             0,
             "#0d0887"
            ],
            [
             0.1111111111111111,
             "#46039f"
            ],
            [
             0.2222222222222222,
             "#7201a8"
            ],
            [
             0.3333333333333333,
             "#9c179e"
            ],
            [
             0.4444444444444444,
             "#bd3786"
            ],
            [
             0.5555555555555556,
             "#d8576b"
            ],
            [
             0.6666666666666666,
             "#ed7953"
            ],
            [
             0.7777777777777778,
             "#fb9f3a"
            ],
            [
             0.8888888888888888,
             "#fdca26"
            ],
            [
             1,
             "#f0f921"
            ]
           ],
           "sequentialminus": [
            [
             0,
             "#0d0887"
            ],
            [
             0.1111111111111111,
             "#46039f"
            ],
            [
             0.2222222222222222,
             "#7201a8"
            ],
            [
             0.3333333333333333,
             "#9c179e"
            ],
            [
             0.4444444444444444,
             "#bd3786"
            ],
            [
             0.5555555555555556,
             "#d8576b"
            ],
            [
             0.6666666666666666,
             "#ed7953"
            ],
            [
             0.7777777777777778,
             "#fb9f3a"
            ],
            [
             0.8888888888888888,
             "#fdca26"
            ],
            [
             1,
             "#f0f921"
            ]
           ]
          },
          "colorway": [
           "#636efa",
           "#EF553B",
           "#00cc96",
           "#ab63fa",
           "#FFA15A",
           "#19d3f3",
           "#FF6692",
           "#B6E880",
           "#FF97FF",
           "#FECB52"
          ],
          "font": {
           "color": "#2a3f5f"
          },
          "geo": {
           "bgcolor": "white",
           "lakecolor": "white",
           "landcolor": "#E5ECF6",
           "showlakes": true,
           "showland": true,
           "subunitcolor": "white"
          },
          "hoverlabel": {
           "align": "left"
          },
          "hovermode": "closest",
          "mapbox": {
           "style": "light"
          },
          "paper_bgcolor": "white",
          "plot_bgcolor": "#E5ECF6",
          "polar": {
           "angularaxis": {
            "gridcolor": "white",
            "linecolor": "white",
            "ticks": ""
           },
           "bgcolor": "#E5ECF6",
           "radialaxis": {
            "gridcolor": "white",
            "linecolor": "white",
            "ticks": ""
           }
          },
          "scene": {
           "xaxis": {
            "backgroundcolor": "#E5ECF6",
            "gridcolor": "white",
            "gridwidth": 2,
            "linecolor": "white",
            "showbackground": true,
            "ticks": "",
            "zerolinecolor": "white"
           },
           "yaxis": {
            "backgroundcolor": "#E5ECF6",
            "gridcolor": "white",
            "gridwidth": 2,
            "linecolor": "white",
            "showbackground": true,
            "ticks": "",
            "zerolinecolor": "white"
           },
           "zaxis": {
            "backgroundcolor": "#E5ECF6",
            "gridcolor": "white",
            "gridwidth": 2,
            "linecolor": "white",
            "showbackground": true,
            "ticks": "",
            "zerolinecolor": "white"
           }
          },
          "shapedefaults": {
           "line": {
            "color": "#2a3f5f"
           }
          },
          "ternary": {
           "aaxis": {
            "gridcolor": "white",
            "linecolor": "white",
            "ticks": ""
           },
           "baxis": {
            "gridcolor": "white",
            "linecolor": "white",
            "ticks": ""
           },
           "bgcolor": "#E5ECF6",
           "caxis": {
            "gridcolor": "white",
            "linecolor": "white",
            "ticks": ""
           }
          },
          "title": {
           "x": 0.05
          },
          "xaxis": {
           "automargin": true,
           "gridcolor": "white",
           "linecolor": "white",
           "ticks": "",
           "title": {
            "standoff": 15
           },
           "zerolinecolor": "white",
           "zerolinewidth": 2
          },
          "yaxis": {
           "automargin": true,
           "gridcolor": "white",
           "linecolor": "white",
           "ticks": "",
           "title": {
            "standoff": 15
           },
           "zerolinecolor": "white",
           "zerolinewidth": 2
          }
         }
        },
        "title": {
         "text": "Most prefered fuel types",
         "x": 0.5,
         "y": 0.96
        },
        "width": 1300,
        "xaxis": {
         "anchor": "y",
         "domain": [
          0,
          1
         ],
         "title": {
          "text": "fuel_type"
         }
        },
        "yaxis": {
         "anchor": "x",
         "domain": [
          0,
          1
         ],
         "title": {
          "text": "No of cars"
         }
        }
       }
      }
     },
     "metadata": {},
     "output_type": "display_data"
    }
   ],
   "source": [
    "most_used_engin = data['fuel_type'].value_counts().head(5)\n",
    "\n",
    "color = ['#FF4500']*30\n",
    "color[0] = '#00BFFF' \n",
    "\n",
    "fig = px.bar(\n",
    "    x=most_used_engin.values,       \n",
    "    y=most_used_engin.index,\n",
    "    orientation='h')\n",
    "\n",
    "fig.update_traces(marker_color=color)\n",
    "fig.update_layout(\n",
    "    xaxis_title=\"fuel_type\",\n",
    "    yaxis_title=\"No of cars\",\n",
    "    showlegend = False,\n",
    "    height=600,\n",
    "    width=1300,\n",
    "    font = dict(size = 14),    \n",
    "    title={\n",
    "        'text': \"Most prefered fuel types\",\n",
    "        'y':0.96,\n",
    "        'x':0.5\n",
    "        }\n",
    "    )\n",
    "fig.show()"
   ]
  },
  {
   "cell_type": "code",
   "execution_count": null,
   "id": "8757c362-be2e-40b4-91f9-ee2dddc33783",
   "metadata": {},
   "outputs": [],
   "source": []
  },
  {
   "cell_type": "code",
   "execution_count": 648,
   "id": "2d580ec7-bd47-4763-846f-cb010d6a45e2",
   "metadata": {},
   "outputs": [
    {
     "data": {
      "application/vnd.plotly.v1+json": {
       "config": {
        "plotlyServerURL": "https://plot.ly"
       },
       "data": [
        {
         "hovertemplate": "x=%{x}<br>y=%{y}<extra></extra>",
         "legendgroup": "",
         "marker": {
          "color": [
           "crimson",
           "#db4062",
           "lightslategray",
           "lightslategray",
           "lightslategray",
           "lightslategray",
           "lightslategray",
           "lightslategray",
           "lightslategray",
           "lightslategray",
           "lightslategray",
           "lightslategray",
           "lightslategray",
           "lightslategray",
           "lightslategray",
           "lightslategray",
           "lightslategray",
           "lightslategray",
           "lightslategray",
           "lightslategray",
           "lightslategray",
           "lightslategray",
           "lightslategray",
           "lightslategray",
           "lightslategray",
           "lightslategray",
           "lightslategray",
           "lightslategray",
           "lightslategray",
           "lightslategray"
          ],
          "pattern": {
           "shape": ""
          }
         },
         "name": "",
         "orientation": "h",
         "showlegend": false,
         "textposition": "auto",
         "type": "bar",
         "x": {
          "bdata": "gzswWVQC+kBqA5tB7On0QAN3CK6D3elAgeZbNV836EAc6ivzgvfnQKE2CrBzI+dAxbXNIIiC5UCmkkmRbZXjQOCRKjAzMeNAcbz19l4x4kBuuOGGz+ThQPn3xk+Hd+FAuftke9Ab4UBjHUjywAfhQGbuieTA0+BAbmcJoZZp4EBz2OThnIHeQFVVVbUjkd1AhtmsSVV53UChJ/CqIq7bQKO3CftngthAP9wei8j910A14vWU8vHWQLANxi158NZAHC1IQC3U1kAz7ulyh4bWQGI+uZUdQNZAxas6N/X51UCPwvUovCPVQMAoASXH9NJA",
          "dtype": "f8"
         },
         "xaxis": "x",
         "y": [
          "Dodge",
          "Porsche",
          "Land Rover",
          "Chevrolet",
          "Tesla",
          "Mercedes-Benz",
          "RAM",
          "GMC",
          "Cadillac",
          "BMW",
          "Audi",
          "Volvo",
          "Lincoln",
          "Jaguar",
          "Lexus",
          "Ford",
          "Jeep",
          "INFINITI",
          "Toyota",
          "Acura",
          "Subaru",
          "Honda",
          "Buick",
          "Nissan",
          "Volkswagen",
          "Mazda",
          "Chrysler",
          "Kia",
          "Hyundai",
          "Mitsubishi"
         ],
         "yaxis": "y"
        }
       ],
       "layout": {
        "barmode": "relative",
        "font": {
         "size": 14
        },
        "height": 900,
        "legend": {
         "tracegroupgap": 0
        },
        "margin": {
         "t": 60
        },
        "showlegend": false,
        "template": {
         "data": {
          "bar": [
           {
            "error_x": {
             "color": "#2a3f5f"
            },
            "error_y": {
             "color": "#2a3f5f"
            },
            "marker": {
             "line": {
              "color": "#E5ECF6",
              "width": 0.5
             },
             "pattern": {
              "fillmode": "overlay",
              "size": 10,
              "solidity": 0.2
             }
            },
            "type": "bar"
           }
          ],
          "barpolar": [
           {
            "marker": {
             "line": {
              "color": "#E5ECF6",
              "width": 0.5
             },
             "pattern": {
              "fillmode": "overlay",
              "size": 10,
              "solidity": 0.2
             }
            },
            "type": "barpolar"
           }
          ],
          "carpet": [
           {
            "aaxis": {
             "endlinecolor": "#2a3f5f",
             "gridcolor": "white",
             "linecolor": "white",
             "minorgridcolor": "white",
             "startlinecolor": "#2a3f5f"
            },
            "baxis": {
             "endlinecolor": "#2a3f5f",
             "gridcolor": "white",
             "linecolor": "white",
             "minorgridcolor": "white",
             "startlinecolor": "#2a3f5f"
            },
            "type": "carpet"
           }
          ],
          "choropleth": [
           {
            "colorbar": {
             "outlinewidth": 0,
             "ticks": ""
            },
            "type": "choropleth"
           }
          ],
          "contour": [
           {
            "colorbar": {
             "outlinewidth": 0,
             "ticks": ""
            },
            "colorscale": [
             [
              0,
              "#0d0887"
             ],
             [
              0.1111111111111111,
              "#46039f"
             ],
             [
              0.2222222222222222,
              "#7201a8"
             ],
             [
              0.3333333333333333,
              "#9c179e"
             ],
             [
              0.4444444444444444,
              "#bd3786"
             ],
             [
              0.5555555555555556,
              "#d8576b"
             ],
             [
              0.6666666666666666,
              "#ed7953"
             ],
             [
              0.7777777777777778,
              "#fb9f3a"
             ],
             [
              0.8888888888888888,
              "#fdca26"
             ],
             [
              1,
              "#f0f921"
             ]
            ],
            "type": "contour"
           }
          ],
          "contourcarpet": [
           {
            "colorbar": {
             "outlinewidth": 0,
             "ticks": ""
            },
            "type": "contourcarpet"
           }
          ],
          "heatmap": [
           {
            "colorbar": {
             "outlinewidth": 0,
             "ticks": ""
            },
            "colorscale": [
             [
              0,
              "#0d0887"
             ],
             [
              0.1111111111111111,
              "#46039f"
             ],
             [
              0.2222222222222222,
              "#7201a8"
             ],
             [
              0.3333333333333333,
              "#9c179e"
             ],
             [
              0.4444444444444444,
              "#bd3786"
             ],
             [
              0.5555555555555556,
              "#d8576b"
             ],
             [
              0.6666666666666666,
              "#ed7953"
             ],
             [
              0.7777777777777778,
              "#fb9f3a"
             ],
             [
              0.8888888888888888,
              "#fdca26"
             ],
             [
              1,
              "#f0f921"
             ]
            ],
            "type": "heatmap"
           }
          ],
          "histogram": [
           {
            "marker": {
             "pattern": {
              "fillmode": "overlay",
              "size": 10,
              "solidity": 0.2
             }
            },
            "type": "histogram"
           }
          ],
          "histogram2d": [
           {
            "colorbar": {
             "outlinewidth": 0,
             "ticks": ""
            },
            "colorscale": [
             [
              0,
              "#0d0887"
             ],
             [
              0.1111111111111111,
              "#46039f"
             ],
             [
              0.2222222222222222,
              "#7201a8"
             ],
             [
              0.3333333333333333,
              "#9c179e"
             ],
             [
              0.4444444444444444,
              "#bd3786"
             ],
             [
              0.5555555555555556,
              "#d8576b"
             ],
             [
              0.6666666666666666,
              "#ed7953"
             ],
             [
              0.7777777777777778,
              "#fb9f3a"
             ],
             [
              0.8888888888888888,
              "#fdca26"
             ],
             [
              1,
              "#f0f921"
             ]
            ],
            "type": "histogram2d"
           }
          ],
          "histogram2dcontour": [
           {
            "colorbar": {
             "outlinewidth": 0,
             "ticks": ""
            },
            "colorscale": [
             [
              0,
              "#0d0887"
             ],
             [
              0.1111111111111111,
              "#46039f"
             ],
             [
              0.2222222222222222,
              "#7201a8"
             ],
             [
              0.3333333333333333,
              "#9c179e"
             ],
             [
              0.4444444444444444,
              "#bd3786"
             ],
             [
              0.5555555555555556,
              "#d8576b"
             ],
             [
              0.6666666666666666,
              "#ed7953"
             ],
             [
              0.7777777777777778,
              "#fb9f3a"
             ],
             [
              0.8888888888888888,
              "#fdca26"
             ],
             [
              1,
              "#f0f921"
             ]
            ],
            "type": "histogram2dcontour"
           }
          ],
          "mesh3d": [
           {
            "colorbar": {
             "outlinewidth": 0,
             "ticks": ""
            },
            "type": "mesh3d"
           }
          ],
          "parcoords": [
           {
            "line": {
             "colorbar": {
              "outlinewidth": 0,
              "ticks": ""
             }
            },
            "type": "parcoords"
           }
          ],
          "pie": [
           {
            "automargin": true,
            "type": "pie"
           }
          ],
          "scatter": [
           {
            "fillpattern": {
             "fillmode": "overlay",
             "size": 10,
             "solidity": 0.2
            },
            "type": "scatter"
           }
          ],
          "scatter3d": [
           {
            "line": {
             "colorbar": {
              "outlinewidth": 0,
              "ticks": ""
             }
            },
            "marker": {
             "colorbar": {
              "outlinewidth": 0,
              "ticks": ""
             }
            },
            "type": "scatter3d"
           }
          ],
          "scattercarpet": [
           {
            "marker": {
             "colorbar": {
              "outlinewidth": 0,
              "ticks": ""
             }
            },
            "type": "scattercarpet"
           }
          ],
          "scattergeo": [
           {
            "marker": {
             "colorbar": {
              "outlinewidth": 0,
              "ticks": ""
             }
            },
            "type": "scattergeo"
           }
          ],
          "scattergl": [
           {
            "marker": {
             "colorbar": {
              "outlinewidth": 0,
              "ticks": ""
             }
            },
            "type": "scattergl"
           }
          ],
          "scattermap": [
           {
            "marker": {
             "colorbar": {
              "outlinewidth": 0,
              "ticks": ""
             }
            },
            "type": "scattermap"
           }
          ],
          "scattermapbox": [
           {
            "marker": {
             "colorbar": {
              "outlinewidth": 0,
              "ticks": ""
             }
            },
            "type": "scattermapbox"
           }
          ],
          "scatterpolar": [
           {
            "marker": {
             "colorbar": {
              "outlinewidth": 0,
              "ticks": ""
             }
            },
            "type": "scatterpolar"
           }
          ],
          "scatterpolargl": [
           {
            "marker": {
             "colorbar": {
              "outlinewidth": 0,
              "ticks": ""
             }
            },
            "type": "scatterpolargl"
           }
          ],
          "scatterternary": [
           {
            "marker": {
             "colorbar": {
              "outlinewidth": 0,
              "ticks": ""
             }
            },
            "type": "scatterternary"
           }
          ],
          "surface": [
           {
            "colorbar": {
             "outlinewidth": 0,
             "ticks": ""
            },
            "colorscale": [
             [
              0,
              "#0d0887"
             ],
             [
              0.1111111111111111,
              "#46039f"
             ],
             [
              0.2222222222222222,
              "#7201a8"
             ],
             [
              0.3333333333333333,
              "#9c179e"
             ],
             [
              0.4444444444444444,
              "#bd3786"
             ],
             [
              0.5555555555555556,
              "#d8576b"
             ],
             [
              0.6666666666666666,
              "#ed7953"
             ],
             [
              0.7777777777777778,
              "#fb9f3a"
             ],
             [
              0.8888888888888888,
              "#fdca26"
             ],
             [
              1,
              "#f0f921"
             ]
            ],
            "type": "surface"
           }
          ],
          "table": [
           {
            "cells": {
             "fill": {
              "color": "#EBF0F8"
             },
             "line": {
              "color": "white"
             }
            },
            "header": {
             "fill": {
              "color": "#C8D4E3"
             },
             "line": {
              "color": "white"
             }
            },
            "type": "table"
           }
          ]
         },
         "layout": {
          "annotationdefaults": {
           "arrowcolor": "#2a3f5f",
           "arrowhead": 0,
           "arrowwidth": 1
          },
          "autotypenumbers": "strict",
          "coloraxis": {
           "colorbar": {
            "outlinewidth": 0,
            "ticks": ""
           }
          },
          "colorscale": {
           "diverging": [
            [
             0,
             "#8e0152"
            ],
            [
             0.1,
             "#c51b7d"
            ],
            [
             0.2,
             "#de77ae"
            ],
            [
             0.3,
             "#f1b6da"
            ],
            [
             0.4,
             "#fde0ef"
            ],
            [
             0.5,
             "#f7f7f7"
            ],
            [
             0.6,
             "#e6f5d0"
            ],
            [
             0.7,
             "#b8e186"
            ],
            [
             0.8,
             "#7fbc41"
            ],
            [
             0.9,
             "#4d9221"
            ],
            [
             1,
             "#276419"
            ]
           ],
           "sequential": [
            [
             0,
             "#0d0887"
            ],
            [
             0.1111111111111111,
             "#46039f"
            ],
            [
             0.2222222222222222,
             "#7201a8"
            ],
            [
             0.3333333333333333,
             "#9c179e"
            ],
            [
             0.4444444444444444,
             "#bd3786"
            ],
            [
             0.5555555555555556,
             "#d8576b"
            ],
            [
             0.6666666666666666,
             "#ed7953"
            ],
            [
             0.7777777777777778,
             "#fb9f3a"
            ],
            [
             0.8888888888888888,
             "#fdca26"
            ],
            [
             1,
             "#f0f921"
            ]
           ],
           "sequentialminus": [
            [
             0,
             "#0d0887"
            ],
            [
             0.1111111111111111,
             "#46039f"
            ],
            [
             0.2222222222222222,
             "#7201a8"
            ],
            [
             0.3333333333333333,
             "#9c179e"
            ],
            [
             0.4444444444444444,
             "#bd3786"
            ],
            [
             0.5555555555555556,
             "#d8576b"
            ],
            [
             0.6666666666666666,
             "#ed7953"
            ],
            [
             0.7777777777777778,
             "#fb9f3a"
            ],
            [
             0.8888888888888888,
             "#fdca26"
            ],
            [
             1,
             "#f0f921"
            ]
           ]
          },
          "colorway": [
           "#636efa",
           "#EF553B",
           "#00cc96",
           "#ab63fa",
           "#FFA15A",
           "#19d3f3",
           "#FF6692",
           "#B6E880",
           "#FF97FF",
           "#FECB52"
          ],
          "font": {
           "color": "#2a3f5f"
          },
          "geo": {
           "bgcolor": "white",
           "lakecolor": "white",
           "landcolor": "#E5ECF6",
           "showlakes": true,
           "showland": true,
           "subunitcolor": "white"
          },
          "hoverlabel": {
           "align": "left"
          },
          "hovermode": "closest",
          "mapbox": {
           "style": "light"
          },
          "paper_bgcolor": "white",
          "plot_bgcolor": "#E5ECF6",
          "polar": {
           "angularaxis": {
            "gridcolor": "white",
            "linecolor": "white",
            "ticks": ""
           },
           "bgcolor": "#E5ECF6",
           "radialaxis": {
            "gridcolor": "white",
            "linecolor": "white",
            "ticks": ""
           }
          },
          "scene": {
           "xaxis": {
            "backgroundcolor": "#E5ECF6",
            "gridcolor": "white",
            "gridwidth": 2,
            "linecolor": "white",
            "showbackground": true,
            "ticks": "",
            "zerolinecolor": "white"
           },
           "yaxis": {
            "backgroundcolor": "#E5ECF6",
            "gridcolor": "white",
            "gridwidth": 2,
            "linecolor": "white",
            "showbackground": true,
            "ticks": "",
            "zerolinecolor": "white"
           },
           "zaxis": {
            "backgroundcolor": "#E5ECF6",
            "gridcolor": "white",
            "gridwidth": 2,
            "linecolor": "white",
            "showbackground": true,
            "ticks": "",
            "zerolinecolor": "white"
           }
          },
          "shapedefaults": {
           "line": {
            "color": "#2a3f5f"
           }
          },
          "ternary": {
           "aaxis": {
            "gridcolor": "white",
            "linecolor": "white",
            "ticks": ""
           },
           "baxis": {
            "gridcolor": "white",
            "linecolor": "white",
            "ticks": ""
           },
           "bgcolor": "#E5ECF6",
           "caxis": {
            "gridcolor": "white",
            "linecolor": "white",
            "ticks": ""
           }
          },
          "title": {
           "x": 0.05
          },
          "xaxis": {
           "automargin": true,
           "gridcolor": "white",
           "linecolor": "white",
           "ticks": "",
           "title": {
            "standoff": 15
           },
           "zerolinecolor": "white",
           "zerolinewidth": 2
          },
          "yaxis": {
           "automargin": true,
           "gridcolor": "white",
           "linecolor": "white",
           "ticks": "",
           "title": {
            "standoff": 15
           },
           "zerolinecolor": "white",
           "zerolinewidth": 2
          }
         }
        },
        "title": {
         "text": "Average reselling price by brands",
         "x": 0.5,
         "y": 0.96
        },
        "width": 1300,
        "xaxis": {
         "anchor": "y",
         "domain": [
          0,
          1
         ],
         "title": {
          "text": "Price"
         }
        },
        "yaxis": {
         "anchor": "x",
         "domain": [
          0,
          1
         ],
         "title": {
          "text": "Car"
         }
        }
       }
      }
     },
     "metadata": {},
     "output_type": "display_data"
    }
   ],
   "source": [
    "top_brand = data.groupby('manufacturer')['price'].mean().sort_values(ascending=False)\n",
    "color = ['lightslategray']*30\n",
    "color[1] = '#db4062'\n",
    "color[0] = 'crimson'\n",
    "\n",
    "fig = px.bar(\n",
    "    x=top_brand.values,       \n",
    "    y=top_brand.index,\n",
    "    orientation='h')\n",
    "fig.update_traces(marker_color=color)\n",
    "\n",
    "fig.update_layout(\n",
    "    yaxis_title=\"Car\",\n",
    "    xaxis_title=\"Price\",\n",
    "    showlegend = False,\n",
    "    height=900,\n",
    "    width=1300,\n",
    "    font = dict(size = 14),    \n",
    "    title={\n",
    "        'text': \"Average reselling price by brands\",\n",
    "        'y':0.96,\n",
    "        'x':0.5\n",
    "        }\n",
    "    )\n",
    "fig.show()"
   ]
  },
  {
   "cell_type": "code",
   "execution_count": 653,
   "id": "8623e28b-f0b5-4847-bb49-6d1f4926deb6",
   "metadata": {},
   "outputs": [
    {
     "data": {
      "application/vnd.plotly.v1+json": {
       "config": {
        "plotlyServerURL": "https://plot.ly"
       },
       "data": [
        {
         "hovertemplate": "x=%{x}<br>y=%{y}<br>text=%{text}<extra></extra>",
         "legendgroup": "",
         "marker": {
          "color": [
           "#ebe834",
           "#db4062",
           "lightslategray",
           "lightslategray",
           "lightslategray",
           "lightslategray",
           "lightslategray",
           "lightslategray",
           "lightslategray",
           "lightslategray",
           "lightslategray",
           "lightslategray",
           "lightslategray",
           "lightslategray",
           "lightslategray",
           "lightslategray",
           "lightslategray",
           "lightslategray",
           "lightslategray",
           "lightslategray",
           "lightslategray",
           "lightslategray",
           "lightslategray",
           "lightslategray",
           "lightslategray",
           "lightslategray",
           "lightslategray",
           "lightslategray",
           "lightslategray",
           "lightslategray"
          ],
          "pattern": {
           "shape": ""
          }
         },
         "name": "",
         "orientation": "h",
         "showlegend": false,
         "text": {
          "bdata": "zczMzMzMEEAAAAAAAAAQQDMzMzMzMw9AZmZmZmZmDkDNzMzMzMwMQM3MzMzMzAxAAAAAAAAADEAAAAAAAAAMQAAAAAAAAAxAAAAAAAAADEAzMzMzMzMLQDMzMzMzMwtAMzMzMzMzC0AzMzMzMzMLQDMzMzMzMwtAMzMzMzMzC0BmZmZmZmYKQGZmZmZmZgpAZmZmZmZmCkCamZmZmZkJQJqZmZmZmQlAmpmZmZmZCUCamZmZmZkJQM3MzMzMzAhAzczMzMzMCEAAAAAAAAAIQGZmZmZmZgZAZmZmZmZmBkBmZmZmZmYGQJqZmZmZmQVA",
          "dtype": "f8"
         },
         "textposition": "auto",
         "type": "bar",
         "x": {
          "bdata": "PROmIanvEEA5w1iTjywQQOp2AgjbUw9A9ZxPqeSMDkB2V2Xe1ikNQBp9d2PMCg1AU6GyyC04DEDC4qo5kAoMQJ2l1/L48QtApUO3BRPgC0B57AE0p0wLQKhtQClV9wpAbG9Hlc3zCkDL4IwknPIKQIrVdmsI7ApA/EE5/MzcCkBszAg7Q8wKQFoEt5b/bApAPbpjOqRMCkADX7iVov4JQBMjvHZzmAlABG5lBWBwCUDsAXx2wW8JQHi91UpqFwlA0QIaDnEJCUDCs1g3TtsHQDoKXXtVWAZAat+uBZotBkAMdfS/TxwGQAQh6wEywQVA",
          "dtype": "f8"
         },
         "xaxis": "x",
         "y": [
          "Mitsubishi",
          "Chrysler",
          "Dodge",
          "Nissan",
          "Volkswagen",
          "Hyundai",
          "Kia",
          "Buick",
          "Jaguar",
          "Mazda",
          "BMW",
          "Honda",
          "Ford",
          "INFINITI",
          "Chevrolet",
          "Acura",
          "Mercedes-Benz",
          "Land Rover",
          "Subaru",
          "Lincoln",
          "Tesla",
          "Toyota",
          "Audi",
          "Cadillac",
          "Jeep",
          "Lexus",
          "Volvo",
          "Porsche",
          "GMC",
          "RAM"
         ],
         "yaxis": "y"
        }
       ],
       "layout": {
        "barmode": "relative",
        "font": {
         "size": 14
        },
        "height": 900,
        "legend": {
         "tracegroupgap": 0
        },
        "margin": {
         "t": 60
        },
        "showlegend": false,
        "template": {
         "data": {
          "bar": [
           {
            "error_x": {
             "color": "#2a3f5f"
            },
            "error_y": {
             "color": "#2a3f5f"
            },
            "marker": {
             "line": {
              "color": "#E5ECF6",
              "width": 0.5
             },
             "pattern": {
              "fillmode": "overlay",
              "size": 10,
              "solidity": 0.2
             }
            },
            "type": "bar"
           }
          ],
          "barpolar": [
           {
            "marker": {
             "line": {
              "color": "#E5ECF6",
              "width": 0.5
             },
             "pattern": {
              "fillmode": "overlay",
              "size": 10,
              "solidity": 0.2
             }
            },
            "type": "barpolar"
           }
          ],
          "carpet": [
           {
            "aaxis": {
             "endlinecolor": "#2a3f5f",
             "gridcolor": "white",
             "linecolor": "white",
             "minorgridcolor": "white",
             "startlinecolor": "#2a3f5f"
            },
            "baxis": {
             "endlinecolor": "#2a3f5f",
             "gridcolor": "white",
             "linecolor": "white",
             "minorgridcolor": "white",
             "startlinecolor": "#2a3f5f"
            },
            "type": "carpet"
           }
          ],
          "choropleth": [
           {
            "colorbar": {
             "outlinewidth": 0,
             "ticks": ""
            },
            "type": "choropleth"
           }
          ],
          "contour": [
           {
            "colorbar": {
             "outlinewidth": 0,
             "ticks": ""
            },
            "colorscale": [
             [
              0,
              "#0d0887"
             ],
             [
              0.1111111111111111,
              "#46039f"
             ],
             [
              0.2222222222222222,
              "#7201a8"
             ],
             [
              0.3333333333333333,
              "#9c179e"
             ],
             [
              0.4444444444444444,
              "#bd3786"
             ],
             [
              0.5555555555555556,
              "#d8576b"
             ],
             [
              0.6666666666666666,
              "#ed7953"
             ],
             [
              0.7777777777777778,
              "#fb9f3a"
             ],
             [
              0.8888888888888888,
              "#fdca26"
             ],
             [
              1,
              "#f0f921"
             ]
            ],
            "type": "contour"
           }
          ],
          "contourcarpet": [
           {
            "colorbar": {
             "outlinewidth": 0,
             "ticks": ""
            },
            "type": "contourcarpet"
           }
          ],
          "heatmap": [
           {
            "colorbar": {
             "outlinewidth": 0,
             "ticks": ""
            },
            "colorscale": [
             [
              0,
              "#0d0887"
             ],
             [
              0.1111111111111111,
              "#46039f"
             ],
             [
              0.2222222222222222,
              "#7201a8"
             ],
             [
              0.3333333333333333,
              "#9c179e"
             ],
             [
              0.4444444444444444,
              "#bd3786"
             ],
             [
              0.5555555555555556,
              "#d8576b"
             ],
             [
              0.6666666666666666,
              "#ed7953"
             ],
             [
              0.7777777777777778,
              "#fb9f3a"
             ],
             [
              0.8888888888888888,
              "#fdca26"
             ],
             [
              1,
              "#f0f921"
             ]
            ],
            "type": "heatmap"
           }
          ],
          "histogram": [
           {
            "marker": {
             "pattern": {
              "fillmode": "overlay",
              "size": 10,
              "solidity": 0.2
             }
            },
            "type": "histogram"
           }
          ],
          "histogram2d": [
           {
            "colorbar": {
             "outlinewidth": 0,
             "ticks": ""
            },
            "colorscale": [
             [
              0,
              "#0d0887"
             ],
             [
              0.1111111111111111,
              "#46039f"
             ],
             [
              0.2222222222222222,
              "#7201a8"
             ],
             [
              0.3333333333333333,
              "#9c179e"
             ],
             [
              0.4444444444444444,
              "#bd3786"
             ],
             [
              0.5555555555555556,
              "#d8576b"
             ],
             [
              0.6666666666666666,
              "#ed7953"
             ],
             [
              0.7777777777777778,
              "#fb9f3a"
             ],
             [
              0.8888888888888888,
              "#fdca26"
             ],
             [
              1,
              "#f0f921"
             ]
            ],
            "type": "histogram2d"
           }
          ],
          "histogram2dcontour": [
           {
            "colorbar": {
             "outlinewidth": 0,
             "ticks": ""
            },
            "colorscale": [
             [
              0,
              "#0d0887"
             ],
             [
              0.1111111111111111,
              "#46039f"
             ],
             [
              0.2222222222222222,
              "#7201a8"
             ],
             [
              0.3333333333333333,
              "#9c179e"
             ],
             [
              0.4444444444444444,
              "#bd3786"
             ],
             [
              0.5555555555555556,
              "#d8576b"
             ],
             [
              0.6666666666666666,
              "#ed7953"
             ],
             [
              0.7777777777777778,
              "#fb9f3a"
             ],
             [
              0.8888888888888888,
              "#fdca26"
             ],
             [
              1,
              "#f0f921"
             ]
            ],
            "type": "histogram2dcontour"
           }
          ],
          "mesh3d": [
           {
            "colorbar": {
             "outlinewidth": 0,
             "ticks": ""
            },
            "type": "mesh3d"
           }
          ],
          "parcoords": [
           {
            "line": {
             "colorbar": {
              "outlinewidth": 0,
              "ticks": ""
             }
            },
            "type": "parcoords"
           }
          ],
          "pie": [
           {
            "automargin": true,
            "type": "pie"
           }
          ],
          "scatter": [
           {
            "fillpattern": {
             "fillmode": "overlay",
             "size": 10,
             "solidity": 0.2
            },
            "type": "scatter"
           }
          ],
          "scatter3d": [
           {
            "line": {
             "colorbar": {
              "outlinewidth": 0,
              "ticks": ""
             }
            },
            "marker": {
             "colorbar": {
              "outlinewidth": 0,
              "ticks": ""
             }
            },
            "type": "scatter3d"
           }
          ],
          "scattercarpet": [
           {
            "marker": {
             "colorbar": {
              "outlinewidth": 0,
              "ticks": ""
             }
            },
            "type": "scattercarpet"
           }
          ],
          "scattergeo": [
           {
            "marker": {
             "colorbar": {
              "outlinewidth": 0,
              "ticks": ""
             }
            },
            "type": "scattergeo"
           }
          ],
          "scattergl": [
           {
            "marker": {
             "colorbar": {
              "outlinewidth": 0,
              "ticks": ""
             }
            },
            "type": "scattergl"
           }
          ],
          "scattermap": [
           {
            "marker": {
             "colorbar": {
              "outlinewidth": 0,
              "ticks": ""
             }
            },
            "type": "scattermap"
           }
          ],
          "scattermapbox": [
           {
            "marker": {
             "colorbar": {
              "outlinewidth": 0,
              "ticks": ""
             }
            },
            "type": "scattermapbox"
           }
          ],
          "scatterpolar": [
           {
            "marker": {
             "colorbar": {
              "outlinewidth": 0,
              "ticks": ""
             }
            },
            "type": "scatterpolar"
           }
          ],
          "scatterpolargl": [
           {
            "marker": {
             "colorbar": {
              "outlinewidth": 0,
              "ticks": ""
             }
            },
            "type": "scatterpolargl"
           }
          ],
          "scatterternary": [
           {
            "marker": {
             "colorbar": {
              "outlinewidth": 0,
              "ticks": ""
             }
            },
            "type": "scatterternary"
           }
          ],
          "surface": [
           {
            "colorbar": {
             "outlinewidth": 0,
             "ticks": ""
            },
            "colorscale": [
             [
              0,
              "#0d0887"
             ],
             [
              0.1111111111111111,
              "#46039f"
             ],
             [
              0.2222222222222222,
              "#7201a8"
             ],
             [
              0.3333333333333333,
              "#9c179e"
             ],
             [
              0.4444444444444444,
              "#bd3786"
             ],
             [
              0.5555555555555556,
              "#d8576b"
             ],
             [
              0.6666666666666666,
              "#ed7953"
             ],
             [
              0.7777777777777778,
              "#fb9f3a"
             ],
             [
              0.8888888888888888,
              "#fdca26"
             ],
             [
              1,
              "#f0f921"
             ]
            ],
            "type": "surface"
           }
          ],
          "table": [
           {
            "cells": {
             "fill": {
              "color": "#EBF0F8"
             },
             "line": {
              "color": "white"
             }
            },
            "header": {
             "fill": {
              "color": "#C8D4E3"
             },
             "line": {
              "color": "white"
             }
            },
            "type": "table"
           }
          ]
         },
         "layout": {
          "annotationdefaults": {
           "arrowcolor": "#2a3f5f",
           "arrowhead": 0,
           "arrowwidth": 1
          },
          "autotypenumbers": "strict",
          "coloraxis": {
           "colorbar": {
            "outlinewidth": 0,
            "ticks": ""
           }
          },
          "colorscale": {
           "diverging": [
            [
             0,
             "#8e0152"
            ],
            [
             0.1,
             "#c51b7d"
            ],
            [
             0.2,
             "#de77ae"
            ],
            [
             0.3,
             "#f1b6da"
            ],
            [
             0.4,
             "#fde0ef"
            ],
            [
             0.5,
             "#f7f7f7"
            ],
            [
             0.6,
             "#e6f5d0"
            ],
            [
             0.7,
             "#b8e186"
            ],
            [
             0.8,
             "#7fbc41"
            ],
            [
             0.9,
             "#4d9221"
            ],
            [
             1,
             "#276419"
            ]
           ],
           "sequential": [
            [
             0,
             "#0d0887"
            ],
            [
             0.1111111111111111,
             "#46039f"
            ],
            [
             0.2222222222222222,
             "#7201a8"
            ],
            [
             0.3333333333333333,
             "#9c179e"
            ],
            [
             0.4444444444444444,
             "#bd3786"
            ],
            [
             0.5555555555555556,
             "#d8576b"
            ],
            [
             0.6666666666666666,
             "#ed7953"
            ],
            [
             0.7777777777777778,
             "#fb9f3a"
            ],
            [
             0.8888888888888888,
             "#fdca26"
            ],
            [
             1,
             "#f0f921"
            ]
           ],
           "sequentialminus": [
            [
             0,
             "#0d0887"
            ],
            [
             0.1111111111111111,
             "#46039f"
            ],
            [
             0.2222222222222222,
             "#7201a8"
            ],
            [
             0.3333333333333333,
             "#9c179e"
            ],
            [
             0.4444444444444444,
             "#bd3786"
            ],
            [
             0.5555555555555556,
             "#d8576b"
            ],
            [
             0.6666666666666666,
             "#ed7953"
            ],
            [
             0.7777777777777778,
             "#fb9f3a"
            ],
            [
             0.8888888888888888,
             "#fdca26"
            ],
            [
             1,
             "#f0f921"
            ]
           ]
          },
          "colorway": [
           "#636efa",
           "#EF553B",
           "#00cc96",
           "#ab63fa",
           "#FFA15A",
           "#19d3f3",
           "#FF6692",
           "#B6E880",
           "#FF97FF",
           "#FECB52"
          ],
          "font": {
           "color": "#2a3f5f"
          },
          "geo": {
           "bgcolor": "white",
           "lakecolor": "white",
           "landcolor": "#E5ECF6",
           "showlakes": true,
           "showland": true,
           "subunitcolor": "white"
          },
          "hoverlabel": {
           "align": "left"
          },
          "hovermode": "closest",
          "mapbox": {
           "style": "light"
          },
          "paper_bgcolor": "white",
          "plot_bgcolor": "#E5ECF6",
          "polar": {
           "angularaxis": {
            "gridcolor": "white",
            "linecolor": "white",
            "ticks": ""
           },
           "bgcolor": "#E5ECF6",
           "radialaxis": {
            "gridcolor": "white",
            "linecolor": "white",
            "ticks": ""
           }
          },
          "scene": {
           "xaxis": {
            "backgroundcolor": "#E5ECF6",
            "gridcolor": "white",
            "gridwidth": 2,
            "linecolor": "white",
            "showbackground": true,
            "ticks": "",
            "zerolinecolor": "white"
           },
           "yaxis": {
            "backgroundcolor": "#E5ECF6",
            "gridcolor": "white",
            "gridwidth": 2,
            "linecolor": "white",
            "showbackground": true,
            "ticks": "",
            "zerolinecolor": "white"
           },
           "zaxis": {
            "backgroundcolor": "#E5ECF6",
            "gridcolor": "white",
            "gridwidth": 2,
            "linecolor": "white",
            "showbackground": true,
            "ticks": "",
            "zerolinecolor": "white"
           }
          },
          "shapedefaults": {
           "line": {
            "color": "#2a3f5f"
           }
          },
          "ternary": {
           "aaxis": {
            "gridcolor": "white",
            "linecolor": "white",
            "ticks": ""
           },
           "baxis": {
            "gridcolor": "white",
            "linecolor": "white",
            "ticks": ""
           },
           "bgcolor": "#E5ECF6",
           "caxis": {
            "gridcolor": "white",
            "linecolor": "white",
            "ticks": ""
           }
          },
          "title": {
           "x": 0.05
          },
          "xaxis": {
           "automargin": true,
           "gridcolor": "white",
           "linecolor": "white",
           "ticks": "",
           "title": {
            "standoff": 15
           },
           "zerolinecolor": "white",
           "zerolinewidth": 2
          },
          "yaxis": {
           "automargin": true,
           "gridcolor": "white",
           "linecolor": "white",
           "ticks": "",
           "title": {
            "standoff": 15
           },
           "zerolinecolor": "white",
           "zerolinewidth": 2
          }
         }
        },
        "title": {
         "text": "Average % Price Drop by Top 30 Brands",
         "x": 0.5,
         "y": 0.96
        },
        "width": 1400,
        "xaxis": {
         "anchor": "y",
         "domain": [
          0,
          1
         ],
         "title": {
          "text": "Average % Price Drop"
         }
        },
        "yaxis": {
         "anchor": "x",
         "domain": [
          0,
          1
         ],
         "title": {
          "text": "Brand"
         }
        }
       }
      }
     },
     "metadata": {},
     "output_type": "display_data"
    }
   ],
   "source": [
    "data['price_drop_pct'] = (data['price_drop'] / (data['price'] + data['price_drop'])) * 100\n",
    "\n",
    "avg_price_drop_by_brand = data.groupby('manufacturer')['price_drop_pct'].mean().sort_values(ascending=False).head(30)\n",
    "\n",
    "color[0] = '#ebe834'\n",
    "\n",
    "fig = px.bar(\n",
    "    x=avg_price_drop_by_brand.values,\n",
    "    y=avg_price_drop_by_brand.index,\n",
    "    orientation='h',\n",
    "    text = avg_price_drop_by_brand.values.round(1)\n",
    ")\n",
    "fig.update_traces(marker_color=color)\n",
    "fig.update_layout(\n",
    "    yaxis_title=\"Brand\",\n",
    "    xaxis_title=\"Average % Price Drop\",\n",
    "    showlegend=False,\n",
    "    height=900,\n",
    "    width=1400,\n",
    "    font=dict(size=14),\n",
    "    title={\n",
    "        'text': \"Average % Price Drop by Top 30 Brands\",\n",
    "        'y': 0.96,\n",
    "        'x': 0.5\n",
    "    }\n",
    ")\n",
    "fig.show()"
   ]
  },
  {
   "cell_type": "code",
   "execution_count": null,
   "id": "d4517b8f-5752-483c-bef6-e110d13075b1",
   "metadata": {},
   "outputs": [],
   "source": []
  },
  {
   "cell_type": "code",
   "execution_count": 654,
   "id": "3b5de204-ed45-477f-ac13-ba60eeb8a525",
   "metadata": {},
   "outputs": [
    {
     "data": {
      "application/vnd.plotly.v1+json": {
       "config": {
        "plotlyServerURL": "https://plot.ly"
       },
       "data": [
        {
         "hovertemplate": "Year=%{x}<br>Number of Cars=%{y}<extra></extra>",
         "legendgroup": "",
         "line": {
          "color": "#636efa",
          "dash": "solid"
         },
         "marker": {
          "symbol": "circle"
         },
         "mode": "lines",
         "name": "",
         "orientation": "v",
         "showlegend": false,
         "type": "scatter",
         "x": {
          "bdata": "ewd9B38HgweFB4YHhweIB4kHigeLB4wHjweQB5EHkgeTB5QHlQeaB5sHnAedB54HnwegB6EHogejB6QHpQemB6cHqAepB6oHqwesB60HrgevB7AHsQeyB7MHtAe1B7YHtwe4B7kHuge7B7wHvQe+B78HwAfBB8IHwwfEB8UHxgfHB8gHyQfKB8sHzAfNB84HzwfQB9EH0gfTB9QH1QfWB9cH2AfZB9oH2wfcB90H3gffB+AH4QfiB+MH5AflB+YH5wfoBw==",
          "dtype": "i2"
         },
         "xaxis": "x",
         "y": {
          "bdata": "AgAAAAEAAAABAAAAAwAAAAEAAAAFAAAAAgAAAAgAAAAOAAAADAAAABAAAAAPAAAAAQAAAAEAAAAIAAAABAAAAAYAAAAMAAAADQAAAAUAAAAFAAAABgAAAAkAAAAMAAAABwAAAAYAAAASAAAAGgAAAD4AAAAvAAAASQAAAA0AAAAQAAAAEQAAAB4AAAArAAAAJAAAAD4AAABCAAAAawAAAG4AAABfAAAAnQAAAGsAAABaAAAAVQAAADAAAAArAAAAHwAAADcAAAArAAAARQAAAEkAAAAhAAAAJgAAACMAAAA7AAAARgAAAEkAAABlAAAAiAAAAJsAAAB8AAAAmAAAAKcAAACBAAAArwAAAOcAAAAXAQAA7gAAAFYBAABWAQAAMQIAAAYDAADvAwAAuwUAAOcGAACDCQAAQwsAAHcOAACFFAAAbRgAAPESAAA6HgAA4CwAAHg8AABRVQAADGoAAJWQAAATpQAAs8sAAL7zAAAplAEA9PgBAEydAQBgLwEAIkUAAAIAAAA=",
          "dtype": "i4"
         },
         "yaxis": "y"
        }
       ],
       "layout": {
        "font": {
         "size": 14
        },
        "height": 600,
        "legend": {
         "tracegroupgap": 0
        },
        "template": {
         "data": {
          "bar": [
           {
            "error_x": {
             "color": "#2a3f5f"
            },
            "error_y": {
             "color": "#2a3f5f"
            },
            "marker": {
             "line": {
              "color": "#E5ECF6",
              "width": 0.5
             },
             "pattern": {
              "fillmode": "overlay",
              "size": 10,
              "solidity": 0.2
             }
            },
            "type": "bar"
           }
          ],
          "barpolar": [
           {
            "marker": {
             "line": {
              "color": "#E5ECF6",
              "width": 0.5
             },
             "pattern": {
              "fillmode": "overlay",
              "size": 10,
              "solidity": 0.2
             }
            },
            "type": "barpolar"
           }
          ],
          "carpet": [
           {
            "aaxis": {
             "endlinecolor": "#2a3f5f",
             "gridcolor": "white",
             "linecolor": "white",
             "minorgridcolor": "white",
             "startlinecolor": "#2a3f5f"
            },
            "baxis": {
             "endlinecolor": "#2a3f5f",
             "gridcolor": "white",
             "linecolor": "white",
             "minorgridcolor": "white",
             "startlinecolor": "#2a3f5f"
            },
            "type": "carpet"
           }
          ],
          "choropleth": [
           {
            "colorbar": {
             "outlinewidth": 0,
             "ticks": ""
            },
            "type": "choropleth"
           }
          ],
          "contour": [
           {
            "colorbar": {
             "outlinewidth": 0,
             "ticks": ""
            },
            "colorscale": [
             [
              0,
              "#0d0887"
             ],
             [
              0.1111111111111111,
              "#46039f"
             ],
             [
              0.2222222222222222,
              "#7201a8"
             ],
             [
              0.3333333333333333,
              "#9c179e"
             ],
             [
              0.4444444444444444,
              "#bd3786"
             ],
             [
              0.5555555555555556,
              "#d8576b"
             ],
             [
              0.6666666666666666,
              "#ed7953"
             ],
             [
              0.7777777777777778,
              "#fb9f3a"
             ],
             [
              0.8888888888888888,
              "#fdca26"
             ],
             [
              1,
              "#f0f921"
             ]
            ],
            "type": "contour"
           }
          ],
          "contourcarpet": [
           {
            "colorbar": {
             "outlinewidth": 0,
             "ticks": ""
            },
            "type": "contourcarpet"
           }
          ],
          "heatmap": [
           {
            "colorbar": {
             "outlinewidth": 0,
             "ticks": ""
            },
            "colorscale": [
             [
              0,
              "#0d0887"
             ],
             [
              0.1111111111111111,
              "#46039f"
             ],
             [
              0.2222222222222222,
              "#7201a8"
             ],
             [
              0.3333333333333333,
              "#9c179e"
             ],
             [
              0.4444444444444444,
              "#bd3786"
             ],
             [
              0.5555555555555556,
              "#d8576b"
             ],
             [
              0.6666666666666666,
              "#ed7953"
             ],
             [
              0.7777777777777778,
              "#fb9f3a"
             ],
             [
              0.8888888888888888,
              "#fdca26"
             ],
             [
              1,
              "#f0f921"
             ]
            ],
            "type": "heatmap"
           }
          ],
          "histogram": [
           {
            "marker": {
             "pattern": {
              "fillmode": "overlay",
              "size": 10,
              "solidity": 0.2
             }
            },
            "type": "histogram"
           }
          ],
          "histogram2d": [
           {
            "colorbar": {
             "outlinewidth": 0,
             "ticks": ""
            },
            "colorscale": [
             [
              0,
              "#0d0887"
             ],
             [
              0.1111111111111111,
              "#46039f"
             ],
             [
              0.2222222222222222,
              "#7201a8"
             ],
             [
              0.3333333333333333,
              "#9c179e"
             ],
             [
              0.4444444444444444,
              "#bd3786"
             ],
             [
              0.5555555555555556,
              "#d8576b"
             ],
             [
              0.6666666666666666,
              "#ed7953"
             ],
             [
              0.7777777777777778,
              "#fb9f3a"
             ],
             [
              0.8888888888888888,
              "#fdca26"
             ],
             [
              1,
              "#f0f921"
             ]
            ],
            "type": "histogram2d"
           }
          ],
          "histogram2dcontour": [
           {
            "colorbar": {
             "outlinewidth": 0,
             "ticks": ""
            },
            "colorscale": [
             [
              0,
              "#0d0887"
             ],
             [
              0.1111111111111111,
              "#46039f"
             ],
             [
              0.2222222222222222,
              "#7201a8"
             ],
             [
              0.3333333333333333,
              "#9c179e"
             ],
             [
              0.4444444444444444,
              "#bd3786"
             ],
             [
              0.5555555555555556,
              "#d8576b"
             ],
             [
              0.6666666666666666,
              "#ed7953"
             ],
             [
              0.7777777777777778,
              "#fb9f3a"
             ],
             [
              0.8888888888888888,
              "#fdca26"
             ],
             [
              1,
              "#f0f921"
             ]
            ],
            "type": "histogram2dcontour"
           }
          ],
          "mesh3d": [
           {
            "colorbar": {
             "outlinewidth": 0,
             "ticks": ""
            },
            "type": "mesh3d"
           }
          ],
          "parcoords": [
           {
            "line": {
             "colorbar": {
              "outlinewidth": 0,
              "ticks": ""
             }
            },
            "type": "parcoords"
           }
          ],
          "pie": [
           {
            "automargin": true,
            "type": "pie"
           }
          ],
          "scatter": [
           {
            "fillpattern": {
             "fillmode": "overlay",
             "size": 10,
             "solidity": 0.2
            },
            "type": "scatter"
           }
          ],
          "scatter3d": [
           {
            "line": {
             "colorbar": {
              "outlinewidth": 0,
              "ticks": ""
             }
            },
            "marker": {
             "colorbar": {
              "outlinewidth": 0,
              "ticks": ""
             }
            },
            "type": "scatter3d"
           }
          ],
          "scattercarpet": [
           {
            "marker": {
             "colorbar": {
              "outlinewidth": 0,
              "ticks": ""
             }
            },
            "type": "scattercarpet"
           }
          ],
          "scattergeo": [
           {
            "marker": {
             "colorbar": {
              "outlinewidth": 0,
              "ticks": ""
             }
            },
            "type": "scattergeo"
           }
          ],
          "scattergl": [
           {
            "marker": {
             "colorbar": {
              "outlinewidth": 0,
              "ticks": ""
             }
            },
            "type": "scattergl"
           }
          ],
          "scattermap": [
           {
            "marker": {
             "colorbar": {
              "outlinewidth": 0,
              "ticks": ""
             }
            },
            "type": "scattermap"
           }
          ],
          "scattermapbox": [
           {
            "marker": {
             "colorbar": {
              "outlinewidth": 0,
              "ticks": ""
             }
            },
            "type": "scattermapbox"
           }
          ],
          "scatterpolar": [
           {
            "marker": {
             "colorbar": {
              "outlinewidth": 0,
              "ticks": ""
             }
            },
            "type": "scatterpolar"
           }
          ],
          "scatterpolargl": [
           {
            "marker": {
             "colorbar": {
              "outlinewidth": 0,
              "ticks": ""
             }
            },
            "type": "scatterpolargl"
           }
          ],
          "scatterternary": [
           {
            "marker": {
             "colorbar": {
              "outlinewidth": 0,
              "ticks": ""
             }
            },
            "type": "scatterternary"
           }
          ],
          "surface": [
           {
            "colorbar": {
             "outlinewidth": 0,
             "ticks": ""
            },
            "colorscale": [
             [
              0,
              "#0d0887"
             ],
             [
              0.1111111111111111,
              "#46039f"
             ],
             [
              0.2222222222222222,
              "#7201a8"
             ],
             [
              0.3333333333333333,
              "#9c179e"
             ],
             [
              0.4444444444444444,
              "#bd3786"
             ],
             [
              0.5555555555555556,
              "#d8576b"
             ],
             [
              0.6666666666666666,
              "#ed7953"
             ],
             [
              0.7777777777777778,
              "#fb9f3a"
             ],
             [
              0.8888888888888888,
              "#fdca26"
             ],
             [
              1,
              "#f0f921"
             ]
            ],
            "type": "surface"
           }
          ],
          "table": [
           {
            "cells": {
             "fill": {
              "color": "#EBF0F8"
             },
             "line": {
              "color": "white"
             }
            },
            "header": {
             "fill": {
              "color": "#C8D4E3"
             },
             "line": {
              "color": "white"
             }
            },
            "type": "table"
           }
          ]
         },
         "layout": {
          "annotationdefaults": {
           "arrowcolor": "#2a3f5f",
           "arrowhead": 0,
           "arrowwidth": 1
          },
          "autotypenumbers": "strict",
          "coloraxis": {
           "colorbar": {
            "outlinewidth": 0,
            "ticks": ""
           }
          },
          "colorscale": {
           "diverging": [
            [
             0,
             "#8e0152"
            ],
            [
             0.1,
             "#c51b7d"
            ],
            [
             0.2,
             "#de77ae"
            ],
            [
             0.3,
             "#f1b6da"
            ],
            [
             0.4,
             "#fde0ef"
            ],
            [
             0.5,
             "#f7f7f7"
            ],
            [
             0.6,
             "#e6f5d0"
            ],
            [
             0.7,
             "#b8e186"
            ],
            [
             0.8,
             "#7fbc41"
            ],
            [
             0.9,
             "#4d9221"
            ],
            [
             1,
             "#276419"
            ]
           ],
           "sequential": [
            [
             0,
             "#0d0887"
            ],
            [
             0.1111111111111111,
             "#46039f"
            ],
            [
             0.2222222222222222,
             "#7201a8"
            ],
            [
             0.3333333333333333,
             "#9c179e"
            ],
            [
             0.4444444444444444,
             "#bd3786"
            ],
            [
             0.5555555555555556,
             "#d8576b"
            ],
            [
             0.6666666666666666,
             "#ed7953"
            ],
            [
             0.7777777777777778,
             "#fb9f3a"
            ],
            [
             0.8888888888888888,
             "#fdca26"
            ],
            [
             1,
             "#f0f921"
            ]
           ],
           "sequentialminus": [
            [
             0,
             "#0d0887"
            ],
            [
             0.1111111111111111,
             "#46039f"
            ],
            [
             0.2222222222222222,
             "#7201a8"
            ],
            [
             0.3333333333333333,
             "#9c179e"
            ],
            [
             0.4444444444444444,
             "#bd3786"
            ],
            [
             0.5555555555555556,
             "#d8576b"
            ],
            [
             0.6666666666666666,
             "#ed7953"
            ],
            [
             0.7777777777777778,
             "#fb9f3a"
            ],
            [
             0.8888888888888888,
             "#fdca26"
            ],
            [
             1,
             "#f0f921"
            ]
           ]
          },
          "colorway": [
           "#636efa",
           "#EF553B",
           "#00cc96",
           "#ab63fa",
           "#FFA15A",
           "#19d3f3",
           "#FF6692",
           "#B6E880",
           "#FF97FF",
           "#FECB52"
          ],
          "font": {
           "color": "#2a3f5f"
          },
          "geo": {
           "bgcolor": "white",
           "lakecolor": "white",
           "landcolor": "#E5ECF6",
           "showlakes": true,
           "showland": true,
           "subunitcolor": "white"
          },
          "hoverlabel": {
           "align": "left"
          },
          "hovermode": "closest",
          "mapbox": {
           "style": "light"
          },
          "paper_bgcolor": "white",
          "plot_bgcolor": "#E5ECF6",
          "polar": {
           "angularaxis": {
            "gridcolor": "white",
            "linecolor": "white",
            "ticks": ""
           },
           "bgcolor": "#E5ECF6",
           "radialaxis": {
            "gridcolor": "white",
            "linecolor": "white",
            "ticks": ""
           }
          },
          "scene": {
           "xaxis": {
            "backgroundcolor": "#E5ECF6",
            "gridcolor": "white",
            "gridwidth": 2,
            "linecolor": "white",
            "showbackground": true,
            "ticks": "",
            "zerolinecolor": "white"
           },
           "yaxis": {
            "backgroundcolor": "#E5ECF6",
            "gridcolor": "white",
            "gridwidth": 2,
            "linecolor": "white",
            "showbackground": true,
            "ticks": "",
            "zerolinecolor": "white"
           },
           "zaxis": {
            "backgroundcolor": "#E5ECF6",
            "gridcolor": "white",
            "gridwidth": 2,
            "linecolor": "white",
            "showbackground": true,
            "ticks": "",
            "zerolinecolor": "white"
           }
          },
          "shapedefaults": {
           "line": {
            "color": "#2a3f5f"
           }
          },
          "ternary": {
           "aaxis": {
            "gridcolor": "white",
            "linecolor": "white",
            "ticks": ""
           },
           "baxis": {
            "gridcolor": "white",
            "linecolor": "white",
            "ticks": ""
           },
           "bgcolor": "#E5ECF6",
           "caxis": {
            "gridcolor": "white",
            "linecolor": "white",
            "ticks": ""
           }
          },
          "title": {
           "x": 0.05
          },
          "xaxis": {
           "automargin": true,
           "gridcolor": "white",
           "linecolor": "white",
           "ticks": "",
           "title": {
            "standoff": 15
           },
           "zerolinecolor": "white",
           "zerolinewidth": 2
          },
          "yaxis": {
           "automargin": true,
           "gridcolor": "white",
           "linecolor": "white",
           "ticks": "",
           "title": {
            "standoff": 15
           },
           "zerolinecolor": "white",
           "zerolinewidth": 2
          }
         }
        },
        "title": {
         "text": "Number of listed Cars by Model Year at 2023"
        },
        "width": 1200,
        "xaxis": {
         "anchor": "y",
         "domain": [
          0,
          1
         ],
         "title": {
          "text": "Year"
         }
        },
        "yaxis": {
         "anchor": "x",
         "domain": [
          0,
          1
         ],
         "title": {
          "text": "Number of Cars"
         }
        }
       }
      }
     },
     "metadata": {},
     "output_type": "display_data"
    }
   ],
   "source": [
    "cars_per_year = data['year'].value_counts().sort_index()\n",
    "\n",
    "import plotly.express as px\n",
    "\n",
    "fig = px.line(\n",
    "    x=cars_per_year.index,\n",
    "    y=cars_per_year.values,\n",
    "    labels={'x': 'Year', 'y': 'Number of Cars'},\n",
    "    title='Number of listed Cars by Model Year at 2023'\n",
    ")\n",
    "\n",
    "fig.update_layout(\n",
    "    height=600,\n",
    "    width=1200,\n",
    "    font=dict(size=14)\n",
    ")\n",
    "\n",
    "fig.show()\n"
   ]
  },
  {
   "cell_type": "code",
   "execution_count": 661,
   "id": "b6c5d901-83a4-42f3-a0d9-7e22056135d5",
   "metadata": {},
   "outputs": [
    {
     "data": {
      "application/vnd.plotly.v1+json": {
       "config": {
        "plotlyServerURL": "https://plot.ly"
       },
       "data": [
        {
         "hovertemplate": "x=%{x}<br>y=%{y}<br>text=%{text}<extra></extra>",
         "legendgroup": "",
         "marker": {
          "color": [
           "#80f0f0",
           "#f08080",
           "#f08080",
           "#f08080",
           "#f08080",
           "#f08080",
           "#f08080",
           "#f08080",
           "#f08080",
           "#f08080",
           "#f08080",
           "#f08080",
           "#f08080",
           "#f08080",
           "#f08080",
           "#f08080",
           "#f08080",
           "#f08080",
           "#f08080",
           "#f08080",
           "#f08080",
           "#f08080",
           "#f08080",
           "#f08080",
           "#f08080",
           "#f08080",
           "#f08080",
           "#f08080",
           "#f08080",
           "#f08080"
          ],
          "pattern": {
           "shape": ""
          }
         },
         "name": "",
         "orientation": "h",
         "showlegend": false,
         "text": {
          "bdata": "MzMzMzOzPEAzMzMzM7M8QDMzMzMzMzxAzczMzMzMO0CamZmZmZk7QJqZmZmZmTtAAAAAAACAO0AAAAAAAAA7QJqZmZmZmTpAzczMzMxMOUBmZmZmZuY4QM3MzMzMzDhAAAAAAACAOEAAAAAAAIA4QAAAAAAAgDhAZmZmZmZmOEDNzMzMzEw4QJqZmZmZGThAMzMzMzOzN0CamZmZmRk3QGZmZmZmZjZAAAAAAAAANkDNzMzMzMw1QM3MzMzMzDVAMzMzMzMzNUBmZmZmZuY0QM3MzMzMzDRAZmZmZmZmNEBmZmZmZmY0QAAAAAAAAPh/",
          "dtype": "f8"
         },
         "textposition": "auto",
         "type": "bar",
         "x": {
          "bdata": "ATvV+qmvPEAkXmMwY6w8QIueGgT5PjxAMtmZNjfMO0Be4iy3pJM7QLPGb9b4jTtAHqix+Hd2O0DKCFqX//M6QIxW8db6nzpAIy9H9KVAOUAbINydke84QFBgABkJzjhAnkXb0JGKOEC3v82PKIc4QHa+yAIwgzhA5qhqaYhyOEBVcR9DbFk4QCzcx2fkGjhAW1RAXuyuN0CHKhx2xiM3QLvtouaZbDZAiS/ZakEFNkD5yRtk49c1QJkDdvrmxzVAwFqhvmEpNUCt4zM0Y+00QLc6H3S4zjRA41Lb2cNpNEC6Qo87ymE0QAAAAAAAAPh/",
          "dtype": "f8"
         },
         "xaxis": "x",
         "y": [
          "Hyundai",
          "Honda",
          "Toyota",
          "Kia",
          "Subaru",
          "Mitsubishi",
          "Mazda",
          "Volkswagen",
          "Nissan",
          "Acura",
          "Buick",
          "BMW",
          "Lexus",
          "Volvo",
          "Audi",
          "Jaguar",
          "Chevrolet",
          "Ford",
          "Chrysler",
          "Mercedes-Benz",
          "Lincoln",
          "Jeep",
          "INFINITI",
          "Cadillac",
          "Dodge",
          "Porsche",
          "GMC",
          "Land Rover",
          "RAM",
          "Tesla"
         ],
         "yaxis": "y"
        }
       ],
       "layout": {
        "barmode": "relative",
        "font": {
         "size": 14
        },
        "height": 900,
        "legend": {
         "tracegroupgap": 0
        },
        "margin": {
         "t": 60
        },
        "showlegend": false,
        "template": {
         "data": {
          "bar": [
           {
            "error_x": {
             "color": "rgb(36,36,36)"
            },
            "error_y": {
             "color": "rgb(36,36,36)"
            },
            "marker": {
             "line": {
              "color": "white",
              "width": 0.5
             },
             "pattern": {
              "fillmode": "overlay",
              "size": 10,
              "solidity": 0.2
             }
            },
            "type": "bar"
           }
          ],
          "barpolar": [
           {
            "marker": {
             "line": {
              "color": "white",
              "width": 0.5
             },
             "pattern": {
              "fillmode": "overlay",
              "size": 10,
              "solidity": 0.2
             }
            },
            "type": "barpolar"
           }
          ],
          "carpet": [
           {
            "aaxis": {
             "endlinecolor": "rgb(36,36,36)",
             "gridcolor": "white",
             "linecolor": "white",
             "minorgridcolor": "white",
             "startlinecolor": "rgb(36,36,36)"
            },
            "baxis": {
             "endlinecolor": "rgb(36,36,36)",
             "gridcolor": "white",
             "linecolor": "white",
             "minorgridcolor": "white",
             "startlinecolor": "rgb(36,36,36)"
            },
            "type": "carpet"
           }
          ],
          "choropleth": [
           {
            "colorbar": {
             "outlinewidth": 1,
             "tickcolor": "rgb(36,36,36)",
             "ticks": "outside"
            },
            "type": "choropleth"
           }
          ],
          "contour": [
           {
            "colorbar": {
             "outlinewidth": 1,
             "tickcolor": "rgb(36,36,36)",
             "ticks": "outside"
            },
            "colorscale": [
             [
              0,
              "#440154"
             ],
             [
              0.1111111111111111,
              "#482878"
             ],
             [
              0.2222222222222222,
              "#3e4989"
             ],
             [
              0.3333333333333333,
              "#31688e"
             ],
             [
              0.4444444444444444,
              "#26828e"
             ],
             [
              0.5555555555555556,
              "#1f9e89"
             ],
             [
              0.6666666666666666,
              "#35b779"
             ],
             [
              0.7777777777777778,
              "#6ece58"
             ],
             [
              0.8888888888888888,
              "#b5de2b"
             ],
             [
              1,
              "#fde725"
             ]
            ],
            "type": "contour"
           }
          ],
          "contourcarpet": [
           {
            "colorbar": {
             "outlinewidth": 1,
             "tickcolor": "rgb(36,36,36)",
             "ticks": "outside"
            },
            "type": "contourcarpet"
           }
          ],
          "heatmap": [
           {
            "colorbar": {
             "outlinewidth": 1,
             "tickcolor": "rgb(36,36,36)",
             "ticks": "outside"
            },
            "colorscale": [
             [
              0,
              "#440154"
             ],
             [
              0.1111111111111111,
              "#482878"
             ],
             [
              0.2222222222222222,
              "#3e4989"
             ],
             [
              0.3333333333333333,
              "#31688e"
             ],
             [
              0.4444444444444444,
              "#26828e"
             ],
             [
              0.5555555555555556,
              "#1f9e89"
             ],
             [
              0.6666666666666666,
              "#35b779"
             ],
             [
              0.7777777777777778,
              "#6ece58"
             ],
             [
              0.8888888888888888,
              "#b5de2b"
             ],
             [
              1,
              "#fde725"
             ]
            ],
            "type": "heatmap"
           }
          ],
          "histogram": [
           {
            "marker": {
             "line": {
              "color": "white",
              "width": 0.6
             }
            },
            "type": "histogram"
           }
          ],
          "histogram2d": [
           {
            "colorbar": {
             "outlinewidth": 1,
             "tickcolor": "rgb(36,36,36)",
             "ticks": "outside"
            },
            "colorscale": [
             [
              0,
              "#440154"
             ],
             [
              0.1111111111111111,
              "#482878"
             ],
             [
              0.2222222222222222,
              "#3e4989"
             ],
             [
              0.3333333333333333,
              "#31688e"
             ],
             [
              0.4444444444444444,
              "#26828e"
             ],
             [
              0.5555555555555556,
              "#1f9e89"
             ],
             [
              0.6666666666666666,
              "#35b779"
             ],
             [
              0.7777777777777778,
              "#6ece58"
             ],
             [
              0.8888888888888888,
              "#b5de2b"
             ],
             [
              1,
              "#fde725"
             ]
            ],
            "type": "histogram2d"
           }
          ],
          "histogram2dcontour": [
           {
            "colorbar": {
             "outlinewidth": 1,
             "tickcolor": "rgb(36,36,36)",
             "ticks": "outside"
            },
            "colorscale": [
             [
              0,
              "#440154"
             ],
             [
              0.1111111111111111,
              "#482878"
             ],
             [
              0.2222222222222222,
              "#3e4989"
             ],
             [
              0.3333333333333333,
              "#31688e"
             ],
             [
              0.4444444444444444,
              "#26828e"
             ],
             [
              0.5555555555555556,
              "#1f9e89"
             ],
             [
              0.6666666666666666,
              "#35b779"
             ],
             [
              0.7777777777777778,
              "#6ece58"
             ],
             [
              0.8888888888888888,
              "#b5de2b"
             ],
             [
              1,
              "#fde725"
             ]
            ],
            "type": "histogram2dcontour"
           }
          ],
          "mesh3d": [
           {
            "colorbar": {
             "outlinewidth": 1,
             "tickcolor": "rgb(36,36,36)",
             "ticks": "outside"
            },
            "type": "mesh3d"
           }
          ],
          "parcoords": [
           {
            "line": {
             "colorbar": {
              "outlinewidth": 1,
              "tickcolor": "rgb(36,36,36)",
              "ticks": "outside"
             }
            },
            "type": "parcoords"
           }
          ],
          "pie": [
           {
            "automargin": true,
            "type": "pie"
           }
          ],
          "scatter": [
           {
            "fillpattern": {
             "fillmode": "overlay",
             "size": 10,
             "solidity": 0.2
            },
            "type": "scatter"
           }
          ],
          "scatter3d": [
           {
            "line": {
             "colorbar": {
              "outlinewidth": 1,
              "tickcolor": "rgb(36,36,36)",
              "ticks": "outside"
             }
            },
            "marker": {
             "colorbar": {
              "outlinewidth": 1,
              "tickcolor": "rgb(36,36,36)",
              "ticks": "outside"
             }
            },
            "type": "scatter3d"
           }
          ],
          "scattercarpet": [
           {
            "marker": {
             "colorbar": {
              "outlinewidth": 1,
              "tickcolor": "rgb(36,36,36)",
              "ticks": "outside"
             }
            },
            "type": "scattercarpet"
           }
          ],
          "scattergeo": [
           {
            "marker": {
             "colorbar": {
              "outlinewidth": 1,
              "tickcolor": "rgb(36,36,36)",
              "ticks": "outside"
             }
            },
            "type": "scattergeo"
           }
          ],
          "scattergl": [
           {
            "marker": {
             "colorbar": {
              "outlinewidth": 1,
              "tickcolor": "rgb(36,36,36)",
              "ticks": "outside"
             }
            },
            "type": "scattergl"
           }
          ],
          "scattermap": [
           {
            "marker": {
             "colorbar": {
              "outlinewidth": 1,
              "tickcolor": "rgb(36,36,36)",
              "ticks": "outside"
             }
            },
            "type": "scattermap"
           }
          ],
          "scattermapbox": [
           {
            "marker": {
             "colorbar": {
              "outlinewidth": 1,
              "tickcolor": "rgb(36,36,36)",
              "ticks": "outside"
             }
            },
            "type": "scattermapbox"
           }
          ],
          "scatterpolar": [
           {
            "marker": {
             "colorbar": {
              "outlinewidth": 1,
              "tickcolor": "rgb(36,36,36)",
              "ticks": "outside"
             }
            },
            "type": "scatterpolar"
           }
          ],
          "scatterpolargl": [
           {
            "marker": {
             "colorbar": {
              "outlinewidth": 1,
              "tickcolor": "rgb(36,36,36)",
              "ticks": "outside"
             }
            },
            "type": "scatterpolargl"
           }
          ],
          "scatterternary": [
           {
            "marker": {
             "colorbar": {
              "outlinewidth": 1,
              "tickcolor": "rgb(36,36,36)",
              "ticks": "outside"
             }
            },
            "type": "scatterternary"
           }
          ],
          "surface": [
           {
            "colorbar": {
             "outlinewidth": 1,
             "tickcolor": "rgb(36,36,36)",
             "ticks": "outside"
            },
            "colorscale": [
             [
              0,
              "#440154"
             ],
             [
              0.1111111111111111,
              "#482878"
             ],
             [
              0.2222222222222222,
              "#3e4989"
             ],
             [
              0.3333333333333333,
              "#31688e"
             ],
             [
              0.4444444444444444,
              "#26828e"
             ],
             [
              0.5555555555555556,
              "#1f9e89"
             ],
             [
              0.6666666666666666,
              "#35b779"
             ],
             [
              0.7777777777777778,
              "#6ece58"
             ],
             [
              0.8888888888888888,
              "#b5de2b"
             ],
             [
              1,
              "#fde725"
             ]
            ],
            "type": "surface"
           }
          ],
          "table": [
           {
            "cells": {
             "fill": {
              "color": "rgb(237,237,237)"
             },
             "line": {
              "color": "white"
             }
            },
            "header": {
             "fill": {
              "color": "rgb(217,217,217)"
             },
             "line": {
              "color": "white"
             }
            },
            "type": "table"
           }
          ]
         },
         "layout": {
          "annotationdefaults": {
           "arrowhead": 0,
           "arrowwidth": 1
          },
          "autotypenumbers": "strict",
          "coloraxis": {
           "colorbar": {
            "outlinewidth": 1,
            "tickcolor": "rgb(36,36,36)",
            "ticks": "outside"
           }
          },
          "colorscale": {
           "diverging": [
            [
             0,
             "rgb(103,0,31)"
            ],
            [
             0.1,
             "rgb(178,24,43)"
            ],
            [
             0.2,
             "rgb(214,96,77)"
            ],
            [
             0.3,
             "rgb(244,165,130)"
            ],
            [
             0.4,
             "rgb(253,219,199)"
            ],
            [
             0.5,
             "rgb(247,247,247)"
            ],
            [
             0.6,
             "rgb(209,229,240)"
            ],
            [
             0.7,
             "rgb(146,197,222)"
            ],
            [
             0.8,
             "rgb(67,147,195)"
            ],
            [
             0.9,
             "rgb(33,102,172)"
            ],
            [
             1,
             "rgb(5,48,97)"
            ]
           ],
           "sequential": [
            [
             0,
             "#440154"
            ],
            [
             0.1111111111111111,
             "#482878"
            ],
            [
             0.2222222222222222,
             "#3e4989"
            ],
            [
             0.3333333333333333,
             "#31688e"
            ],
            [
             0.4444444444444444,
             "#26828e"
            ],
            [
             0.5555555555555556,
             "#1f9e89"
            ],
            [
             0.6666666666666666,
             "#35b779"
            ],
            [
             0.7777777777777778,
             "#6ece58"
            ],
            [
             0.8888888888888888,
             "#b5de2b"
            ],
            [
             1,
             "#fde725"
            ]
           ],
           "sequentialminus": [
            [
             0,
             "#440154"
            ],
            [
             0.1111111111111111,
             "#482878"
            ],
            [
             0.2222222222222222,
             "#3e4989"
            ],
            [
             0.3333333333333333,
             "#31688e"
            ],
            [
             0.4444444444444444,
             "#26828e"
            ],
            [
             0.5555555555555556,
             "#1f9e89"
            ],
            [
             0.6666666666666666,
             "#35b779"
            ],
            [
             0.7777777777777778,
             "#6ece58"
            ],
            [
             0.8888888888888888,
             "#b5de2b"
            ],
            [
             1,
             "#fde725"
            ]
           ]
          },
          "colorway": [
           "#1F77B4",
           "#FF7F0E",
           "#2CA02C",
           "#D62728",
           "#9467BD",
           "#8C564B",
           "#E377C2",
           "#7F7F7F",
           "#BCBD22",
           "#17BECF"
          ],
          "font": {
           "color": "rgb(36,36,36)"
          },
          "geo": {
           "bgcolor": "white",
           "lakecolor": "white",
           "landcolor": "white",
           "showlakes": true,
           "showland": true,
           "subunitcolor": "white"
          },
          "hoverlabel": {
           "align": "left"
          },
          "hovermode": "closest",
          "mapbox": {
           "style": "light"
          },
          "paper_bgcolor": "white",
          "plot_bgcolor": "white",
          "polar": {
           "angularaxis": {
            "gridcolor": "rgb(232,232,232)",
            "linecolor": "rgb(36,36,36)",
            "showgrid": false,
            "showline": true,
            "ticks": "outside"
           },
           "bgcolor": "white",
           "radialaxis": {
            "gridcolor": "rgb(232,232,232)",
            "linecolor": "rgb(36,36,36)",
            "showgrid": false,
            "showline": true,
            "ticks": "outside"
           }
          },
          "scene": {
           "xaxis": {
            "backgroundcolor": "white",
            "gridcolor": "rgb(232,232,232)",
            "gridwidth": 2,
            "linecolor": "rgb(36,36,36)",
            "showbackground": true,
            "showgrid": false,
            "showline": true,
            "ticks": "outside",
            "zeroline": false,
            "zerolinecolor": "rgb(36,36,36)"
           },
           "yaxis": {
            "backgroundcolor": "white",
            "gridcolor": "rgb(232,232,232)",
            "gridwidth": 2,
            "linecolor": "rgb(36,36,36)",
            "showbackground": true,
            "showgrid": false,
            "showline": true,
            "ticks": "outside",
            "zeroline": false,
            "zerolinecolor": "rgb(36,36,36)"
           },
           "zaxis": {
            "backgroundcolor": "white",
            "gridcolor": "rgb(232,232,232)",
            "gridwidth": 2,
            "linecolor": "rgb(36,36,36)",
            "showbackground": true,
            "showgrid": false,
            "showline": true,
            "ticks": "outside",
            "zeroline": false,
            "zerolinecolor": "rgb(36,36,36)"
           }
          },
          "shapedefaults": {
           "fillcolor": "black",
           "line": {
            "width": 0
           },
           "opacity": 0.3
          },
          "ternary": {
           "aaxis": {
            "gridcolor": "rgb(232,232,232)",
            "linecolor": "rgb(36,36,36)",
            "showgrid": false,
            "showline": true,
            "ticks": "outside"
           },
           "baxis": {
            "gridcolor": "rgb(232,232,232)",
            "linecolor": "rgb(36,36,36)",
            "showgrid": false,
            "showline": true,
            "ticks": "outside"
           },
           "bgcolor": "white",
           "caxis": {
            "gridcolor": "rgb(232,232,232)",
            "linecolor": "rgb(36,36,36)",
            "showgrid": false,
            "showline": true,
            "ticks": "outside"
           }
          },
          "title": {
           "x": 0.05
          },
          "xaxis": {
           "automargin": true,
           "gridcolor": "rgb(232,232,232)",
           "linecolor": "rgb(36,36,36)",
           "showgrid": false,
           "showline": true,
           "ticks": "outside",
           "title": {
            "standoff": 15
           },
           "zeroline": false,
           "zerolinecolor": "rgb(36,36,36)"
          },
          "yaxis": {
           "automargin": true,
           "gridcolor": "rgb(232,232,232)",
           "linecolor": "rgb(36,36,36)",
           "showgrid": false,
           "showline": true,
           "ticks": "outside",
           "title": {
            "standoff": 15
           },
           "zeroline": false,
           "zerolinecolor": "rgb(36,36,36)"
          }
         }
        },
        "title": {
         "text": "Average % mpg by Top 30 Brands (MPG = Miles per Gallon)",
         "x": 0.5,
         "y": 0.98
        },
        "width": 1400,
        "xaxis": {
         "anchor": "y",
         "domain": [
          0,
          1
         ],
         "title": {
          "text": "Average % mpg"
         }
        },
        "yaxis": {
         "anchor": "x",
         "domain": [
          0,
          1
         ],
         "title": {
          "text": "Brand"
         }
        }
       }
      }
     },
     "metadata": {},
     "output_type": "display_data"
    }
   ],
   "source": [
    "\n",
    "mpg_of_brand = new_data.groupby('manufacturer')['mpg'].mean().sort_values(ascending=False).head(30)\n",
    "\n",
    "color = ['#f08080']*30\n",
    "color[0] = '#80f0f0'\n",
    "\n",
    "fig = px.bar(\n",
    "    x=mpg_of_brand.values,\n",
    "    y=mpg_of_brand.index,\n",
    "    orientation='h',\n",
    "    text = mpg_of_brand.values.round(1),\n",
    "    template=\"simple_white\"\n",
    ")\n",
    "\n",
    "fig.update_layout(\n",
    "    yaxis_title=\"Brand\",\n",
    "    xaxis_title=\"Average % mpg\",\n",
    "    showlegend=False,\n",
    "    height=900,\n",
    "    width=1400,\n",
    "    font=dict(size=14),\n",
    "    title={\n",
    "        'text': \"Average % mpg by Top 30 Brands (MPG = Miles per Gallon)\",\n",
    "        'y': 0.98,\n",
    "        'x': 0.5,\n",
    "    },\n",
    ")\n",
    "\n",
    "fig.update_traces(marker_color=color)   \n",
    "\n",
    "fig.show()"
   ]
  },
  {
   "cell_type": "code",
   "execution_count": null,
   "id": "1b659a4f-d12c-438c-a918-71c8c7b506b9",
   "metadata": {},
   "outputs": [],
   "source": []
  },
  {
   "cell_type": "code",
   "execution_count": null,
   "id": "fc288722-1717-4adc-88de-9ed3167ce459",
   "metadata": {},
   "outputs": [],
   "source": []
  },
  {
   "cell_type": "code",
   "execution_count": 665,
   "id": "3e072619-674b-49a7-8ccb-323d8b45184e",
   "metadata": {},
   "outputs": [
    {
     "data": {
      "application/vnd.plotly.v1+json": {
       "config": {
        "plotlyServerURL": "https://plot.ly"
       },
       "data": [
        {
         "name": "Top 20",
         "orientation": "h",
         "text": {
          "bdata": "AAAAAAAAHEAAAAAAAAAcQDMzMzMzMxtAZmZmZmZmGkAAAAAAAAAaQAAAAAAAABpAAAAAAAAAGkCamZmZmZkZQM3MzMzMzBhAzczMzMzMGEBmZmZmZmYYQGZmZmZmZhhAZmZmZmZmGEAAAAAAAAAYQAAAAAAAABhAAAAAAAAAGEAAAAAAAAAYQAAAAAAAABhAmpmZmZmZF0DNzMzMzMwWQA==",
          "dtype": "f8"
         },
         "type": "bar",
         "visible": true,
         "x": {
          "bdata": "7T3qdF7nG0Buq08Vw+MbQOTJUVGYShtAJl2pHDSQGkBN+xixHCQaQPqGGwllDhpAUCbyOQjVGUAluyUryW4ZQB6GZoIe7xhAILUb8kSsGEA4NzIezo0YQPMb0d/0YBhAwfawOqVYGECOUTN0JRsYQA//cvA5CxhAfam2A2UGGEBrT7jdDvAXQIugxXD/6hdAj7/O4Ci0F0Bsqc+/Y9EWQA==",
          "dtype": "f8"
         },
         "y": [
          "Dodge",
          "Lexus",
          "Jaguar",
          "Chrysler",
          "Porsche",
          "Acura",
          "Honda",
          "BMW",
          "Cadillac",
          "Chevrolet",
          "INFINITI",
          "Mercedes-Benz",
          "Buick",
          "Ford",
          "Toyota",
          "Mazda",
          "Lincoln",
          "Audi",
          "Volkswagen",
          "Subaru"
         ]
        },
        {
         "name": "Top 15",
         "orientation": "h",
         "text": {
          "bdata": "AAAAAAAAHEAAAAAAAAAcQDMzMzMzMxtAZmZmZmZmGkAAAAAAAAAaQAAAAAAAABpAAAAAAAAAGkCamZmZmZkZQM3MzMzMzBhAzczMzMzMGEBmZmZmZmYYQGZmZmZmZhhAZmZmZmZmGEAAAAAAAAAYQAAAAAAAABhA",
          "dtype": "f8"
         },
         "type": "bar",
         "visible": false,
         "x": {
          "bdata": "7T3qdF7nG0Buq08Vw+MbQOTJUVGYShtAJl2pHDSQGkBN+xixHCQaQPqGGwllDhpAUCbyOQjVGUAluyUryW4ZQB6GZoIe7xhAILUb8kSsGEA4NzIezo0YQPMb0d/0YBhAwfawOqVYGECOUTN0JRsYQA//cvA5CxhA",
          "dtype": "f8"
         },
         "y": [
          "Dodge",
          "Lexus",
          "Jaguar",
          "Chrysler",
          "Porsche",
          "Acura",
          "Honda",
          "BMW",
          "Cadillac",
          "Chevrolet",
          "INFINITI",
          "Mercedes-Benz",
          "Buick",
          "Ford",
          "Toyota"
         ]
        },
        {
         "name": "Top 10",
         "orientation": "h",
         "text": {
          "bdata": "AAAAAAAAHEAAAAAAAAAcQDMzMzMzMxtAZmZmZmZmGkAAAAAAAAAaQAAAAAAAABpAAAAAAAAAGkCamZmZmZkZQM3MzMzMzBhAzczMzMzMGEA=",
          "dtype": "f8"
         },
         "type": "bar",
         "visible": false,
         "x": {
          "bdata": "7T3qdF7nG0Buq08Vw+MbQOTJUVGYShtAJl2pHDSQGkBN+xixHCQaQPqGGwllDhpAUCbyOQjVGUAluyUryW4ZQB6GZoIe7xhAILUb8kSsGEA=",
          "dtype": "f8"
         },
         "y": [
          "Dodge",
          "Lexus",
          "Jaguar",
          "Chrysler",
          "Porsche",
          "Acura",
          "Honda",
          "BMW",
          "Cadillac",
          "Chevrolet"
         ]
        },
        {
         "name": "Top 30",
         "orientation": "h",
         "text": {
          "bdata": "AAAAAAAAHEAAAAAAAAAcQDMzMzMzMxtAZmZmZmZmGkAAAAAAAAAaQAAAAAAAABpAAAAAAAAAGkCamZmZmZkZQM3MzMzMzBhAzczMzMzMGEBmZmZmZmYYQGZmZmZmZhhAZmZmZmZmGEAAAAAAAAAYQAAAAAAAABhAAAAAAAAAGEAAAAAAAAAYQAAAAAAAABhAmpmZmZmZF0DNzMzMzMwWQGZmZmZmZhZAZmZmZmZmFkAAAAAAAAAWQAAAAAAAABZAAAAAAAAAFkAzMzMzMzMVQGZmZmZmZhRAZmZmZmZmFEAAAAAAAAAUQDMzMzMzMxNA",
          "dtype": "f8"
         },
         "type": "bar",
         "visible": false,
         "x": {
          "bdata": "7T3qdF7nG0Buq08Vw+MbQOTJUVGYShtAJl2pHDSQGkBN+xixHCQaQPqGGwllDhpAUCbyOQjVGUAluyUryW4ZQB6GZoIe7xhAILUb8kSsGEA4NzIezo0YQPMb0d/0YBhAwfawOqVYGECOUTN0JRsYQA//cvA5CxhAfam2A2UGGEBrT7jdDvAXQIugxXD/6hdAj7/O4Ci0F0Bsqc+/Y9EWQDNkcbsbkRZAekGojN10FkDXc4HPVjIWQMAUVn2xFxZAG+wqOhQKFkBiEQ6rkxAVQHXKZPnWYxRAJX4tPLxjFEBn6Fw6LeETQAzh2STLBRNA",
          "dtype": "f8"
         },
         "y": [
          "Dodge",
          "Lexus",
          "Jaguar",
          "Chrysler",
          "Porsche",
          "Acura",
          "Honda",
          "BMW",
          "Cadillac",
          "Chevrolet",
          "INFINITI",
          "Mercedes-Benz",
          "Buick",
          "Ford",
          "Toyota",
          "Mazda",
          "Lincoln",
          "Audi",
          "Volkswagen",
          "Subaru",
          "Jeep",
          "Nissan",
          "Land Rover",
          "GMC",
          "Hyundai",
          "Mitsubishi",
          "Volvo",
          "Kia",
          "Tesla",
          "RAM"
         ]
        }
       ],
       "layout": {
        "font": {
         "size": 14
        },
        "height": 900,
        "showlegend": false,
        "template": {
         "data": {
          "bar": [
           {
            "error_x": {
             "color": "#2a3f5f"
            },
            "error_y": {
             "color": "#2a3f5f"
            },
            "marker": {
             "line": {
              "color": "#E5ECF6",
              "width": 0.5
             },
             "pattern": {
              "fillmode": "overlay",
              "size": 10,
              "solidity": 0.2
             }
            },
            "type": "bar"
           }
          ],
          "barpolar": [
           {
            "marker": {
             "line": {
              "color": "#E5ECF6",
              "width": 0.5
             },
             "pattern": {
              "fillmode": "overlay",
              "size": 10,
              "solidity": 0.2
             }
            },
            "type": "barpolar"
           }
          ],
          "carpet": [
           {
            "aaxis": {
             "endlinecolor": "#2a3f5f",
             "gridcolor": "white",
             "linecolor": "white",
             "minorgridcolor": "white",
             "startlinecolor": "#2a3f5f"
            },
            "baxis": {
             "endlinecolor": "#2a3f5f",
             "gridcolor": "white",
             "linecolor": "white",
             "minorgridcolor": "white",
             "startlinecolor": "#2a3f5f"
            },
            "type": "carpet"
           }
          ],
          "choropleth": [
           {
            "colorbar": {
             "outlinewidth": 0,
             "ticks": ""
            },
            "type": "choropleth"
           }
          ],
          "contour": [
           {
            "colorbar": {
             "outlinewidth": 0,
             "ticks": ""
            },
            "colorscale": [
             [
              0,
              "#0d0887"
             ],
             [
              0.1111111111111111,
              "#46039f"
             ],
             [
              0.2222222222222222,
              "#7201a8"
             ],
             [
              0.3333333333333333,
              "#9c179e"
             ],
             [
              0.4444444444444444,
              "#bd3786"
             ],
             [
              0.5555555555555556,
              "#d8576b"
             ],
             [
              0.6666666666666666,
              "#ed7953"
             ],
             [
              0.7777777777777778,
              "#fb9f3a"
             ],
             [
              0.8888888888888888,
              "#fdca26"
             ],
             [
              1,
              "#f0f921"
             ]
            ],
            "type": "contour"
           }
          ],
          "contourcarpet": [
           {
            "colorbar": {
             "outlinewidth": 0,
             "ticks": ""
            },
            "type": "contourcarpet"
           }
          ],
          "heatmap": [
           {
            "colorbar": {
             "outlinewidth": 0,
             "ticks": ""
            },
            "colorscale": [
             [
              0,
              "#0d0887"
             ],
             [
              0.1111111111111111,
              "#46039f"
             ],
             [
              0.2222222222222222,
              "#7201a8"
             ],
             [
              0.3333333333333333,
              "#9c179e"
             ],
             [
              0.4444444444444444,
              "#bd3786"
             ],
             [
              0.5555555555555556,
              "#d8576b"
             ],
             [
              0.6666666666666666,
              "#ed7953"
             ],
             [
              0.7777777777777778,
              "#fb9f3a"
             ],
             [
              0.8888888888888888,
              "#fdca26"
             ],
             [
              1,
              "#f0f921"
             ]
            ],
            "type": "heatmap"
           }
          ],
          "histogram": [
           {
            "marker": {
             "pattern": {
              "fillmode": "overlay",
              "size": 10,
              "solidity": 0.2
             }
            },
            "type": "histogram"
           }
          ],
          "histogram2d": [
           {
            "colorbar": {
             "outlinewidth": 0,
             "ticks": ""
            },
            "colorscale": [
             [
              0,
              "#0d0887"
             ],
             [
              0.1111111111111111,
              "#46039f"
             ],
             [
              0.2222222222222222,
              "#7201a8"
             ],
             [
              0.3333333333333333,
              "#9c179e"
             ],
             [
              0.4444444444444444,
              "#bd3786"
             ],
             [
              0.5555555555555556,
              "#d8576b"
             ],
             [
              0.6666666666666666,
              "#ed7953"
             ],
             [
              0.7777777777777778,
              "#fb9f3a"
             ],
             [
              0.8888888888888888,
              "#fdca26"
             ],
             [
              1,
              "#f0f921"
             ]
            ],
            "type": "histogram2d"
           }
          ],
          "histogram2dcontour": [
           {
            "colorbar": {
             "outlinewidth": 0,
             "ticks": ""
            },
            "colorscale": [
             [
              0,
              "#0d0887"
             ],
             [
              0.1111111111111111,
              "#46039f"
             ],
             [
              0.2222222222222222,
              "#7201a8"
             ],
             [
              0.3333333333333333,
              "#9c179e"
             ],
             [
              0.4444444444444444,
              "#bd3786"
             ],
             [
              0.5555555555555556,
              "#d8576b"
             ],
             [
              0.6666666666666666,
              "#ed7953"
             ],
             [
              0.7777777777777778,
              "#fb9f3a"
             ],
             [
              0.8888888888888888,
              "#fdca26"
             ],
             [
              1,
              "#f0f921"
             ]
            ],
            "type": "histogram2dcontour"
           }
          ],
          "mesh3d": [
           {
            "colorbar": {
             "outlinewidth": 0,
             "ticks": ""
            },
            "type": "mesh3d"
           }
          ],
          "parcoords": [
           {
            "line": {
             "colorbar": {
              "outlinewidth": 0,
              "ticks": ""
             }
            },
            "type": "parcoords"
           }
          ],
          "pie": [
           {
            "automargin": true,
            "type": "pie"
           }
          ],
          "scatter": [
           {
            "fillpattern": {
             "fillmode": "overlay",
             "size": 10,
             "solidity": 0.2
            },
            "type": "scatter"
           }
          ],
          "scatter3d": [
           {
            "line": {
             "colorbar": {
              "outlinewidth": 0,
              "ticks": ""
             }
            },
            "marker": {
             "colorbar": {
              "outlinewidth": 0,
              "ticks": ""
             }
            },
            "type": "scatter3d"
           }
          ],
          "scattercarpet": [
           {
            "marker": {
             "colorbar": {
              "outlinewidth": 0,
              "ticks": ""
             }
            },
            "type": "scattercarpet"
           }
          ],
          "scattergeo": [
           {
            "marker": {
             "colorbar": {
              "outlinewidth": 0,
              "ticks": ""
             }
            },
            "type": "scattergeo"
           }
          ],
          "scattergl": [
           {
            "marker": {
             "colorbar": {
              "outlinewidth": 0,
              "ticks": ""
             }
            },
            "type": "scattergl"
           }
          ],
          "scattermap": [
           {
            "marker": {
             "colorbar": {
              "outlinewidth": 0,
              "ticks": ""
             }
            },
            "type": "scattermap"
           }
          ],
          "scattermapbox": [
           {
            "marker": {
             "colorbar": {
              "outlinewidth": 0,
              "ticks": ""
             }
            },
            "type": "scattermapbox"
           }
          ],
          "scatterpolar": [
           {
            "marker": {
             "colorbar": {
              "outlinewidth": 0,
              "ticks": ""
             }
            },
            "type": "scatterpolar"
           }
          ],
          "scatterpolargl": [
           {
            "marker": {
             "colorbar": {
              "outlinewidth": 0,
              "ticks": ""
             }
            },
            "type": "scatterpolargl"
           }
          ],
          "scatterternary": [
           {
            "marker": {
             "colorbar": {
              "outlinewidth": 0,
              "ticks": ""
             }
            },
            "type": "scatterternary"
           }
          ],
          "surface": [
           {
            "colorbar": {
             "outlinewidth": 0,
             "ticks": ""
            },
            "colorscale": [
             [
              0,
              "#0d0887"
             ],
             [
              0.1111111111111111,
              "#46039f"
             ],
             [
              0.2222222222222222,
              "#7201a8"
             ],
             [
              0.3333333333333333,
              "#9c179e"
             ],
             [
              0.4444444444444444,
              "#bd3786"
             ],
             [
              0.5555555555555556,
              "#d8576b"
             ],
             [
              0.6666666666666666,
              "#ed7953"
             ],
             [
              0.7777777777777778,
              "#fb9f3a"
             ],
             [
              0.8888888888888888,
              "#fdca26"
             ],
             [
              1,
              "#f0f921"
             ]
            ],
            "type": "surface"
           }
          ],
          "table": [
           {
            "cells": {
             "fill": {
              "color": "#EBF0F8"
             },
             "line": {
              "color": "white"
             }
            },
            "header": {
             "fill": {
              "color": "#C8D4E3"
             },
             "line": {
              "color": "white"
             }
            },
            "type": "table"
           }
          ]
         },
         "layout": {
          "annotationdefaults": {
           "arrowcolor": "#2a3f5f",
           "arrowhead": 0,
           "arrowwidth": 1
          },
          "autotypenumbers": "strict",
          "coloraxis": {
           "colorbar": {
            "outlinewidth": 0,
            "ticks": ""
           }
          },
          "colorscale": {
           "diverging": [
            [
             0,
             "#8e0152"
            ],
            [
             0.1,
             "#c51b7d"
            ],
            [
             0.2,
             "#de77ae"
            ],
            [
             0.3,
             "#f1b6da"
            ],
            [
             0.4,
             "#fde0ef"
            ],
            [
             0.5,
             "#f7f7f7"
            ],
            [
             0.6,
             "#e6f5d0"
            ],
            [
             0.7,
             "#b8e186"
            ],
            [
             0.8,
             "#7fbc41"
            ],
            [
             0.9,
             "#4d9221"
            ],
            [
             1,
             "#276419"
            ]
           ],
           "sequential": [
            [
             0,
             "#0d0887"
            ],
            [
             0.1111111111111111,
             "#46039f"
            ],
            [
             0.2222222222222222,
             "#7201a8"
            ],
            [
             0.3333333333333333,
             "#9c179e"
            ],
            [
             0.4444444444444444,
             "#bd3786"
            ],
            [
             0.5555555555555556,
             "#d8576b"
            ],
            [
             0.6666666666666666,
             "#ed7953"
            ],
            [
             0.7777777777777778,
             "#fb9f3a"
            ],
            [
             0.8888888888888888,
             "#fdca26"
            ],
            [
             1,
             "#f0f921"
            ]
           ],
           "sequentialminus": [
            [
             0,
             "#0d0887"
            ],
            [
             0.1111111111111111,
             "#46039f"
            ],
            [
             0.2222222222222222,
             "#7201a8"
            ],
            [
             0.3333333333333333,
             "#9c179e"
            ],
            [
             0.4444444444444444,
             "#bd3786"
            ],
            [
             0.5555555555555556,
             "#d8576b"
            ],
            [
             0.6666666666666666,
             "#ed7953"
            ],
            [
             0.7777777777777778,
             "#fb9f3a"
            ],
            [
             0.8888888888888888,
             "#fdca26"
            ],
            [
             1,
             "#f0f921"
            ]
           ]
          },
          "colorway": [
           "#636efa",
           "#EF553B",
           "#00cc96",
           "#ab63fa",
           "#FFA15A",
           "#19d3f3",
           "#FF6692",
           "#B6E880",
           "#FF97FF",
           "#FECB52"
          ],
          "font": {
           "color": "#2a3f5f"
          },
          "geo": {
           "bgcolor": "white",
           "lakecolor": "white",
           "landcolor": "#E5ECF6",
           "showlakes": true,
           "showland": true,
           "subunitcolor": "white"
          },
          "hoverlabel": {
           "align": "left"
          },
          "hovermode": "closest",
          "mapbox": {
           "style": "light"
          },
          "paper_bgcolor": "white",
          "plot_bgcolor": "#E5ECF6",
          "polar": {
           "angularaxis": {
            "gridcolor": "white",
            "linecolor": "white",
            "ticks": ""
           },
           "bgcolor": "#E5ECF6",
           "radialaxis": {
            "gridcolor": "white",
            "linecolor": "white",
            "ticks": ""
           }
          },
          "scene": {
           "xaxis": {
            "backgroundcolor": "#E5ECF6",
            "gridcolor": "white",
            "gridwidth": 2,
            "linecolor": "white",
            "showbackground": true,
            "ticks": "",
            "zerolinecolor": "white"
           },
           "yaxis": {
            "backgroundcolor": "#E5ECF6",
            "gridcolor": "white",
            "gridwidth": 2,
            "linecolor": "white",
            "showbackground": true,
            "ticks": "",
            "zerolinecolor": "white"
           },
           "zaxis": {
            "backgroundcolor": "#E5ECF6",
            "gridcolor": "white",
            "gridwidth": 2,
            "linecolor": "white",
            "showbackground": true,
            "ticks": "",
            "zerolinecolor": "white"
           }
          },
          "shapedefaults": {
           "line": {
            "color": "#2a3f5f"
           }
          },
          "ternary": {
           "aaxis": {
            "gridcolor": "white",
            "linecolor": "white",
            "ticks": ""
           },
           "baxis": {
            "gridcolor": "white",
            "linecolor": "white",
            "ticks": ""
           },
           "bgcolor": "#E5ECF6",
           "caxis": {
            "gridcolor": "white",
            "linecolor": "white",
            "ticks": ""
           }
          },
          "title": {
           "x": 0.05
          },
          "xaxis": {
           "automargin": true,
           "gridcolor": "white",
           "linecolor": "white",
           "ticks": "",
           "title": {
            "standoff": 15
           },
           "zerolinecolor": "white",
           "zerolinewidth": 2
          },
          "yaxis": {
           "automargin": true,
           "gridcolor": "white",
           "linecolor": "white",
           "ticks": "",
           "title": {
            "standoff": 15
           },
           "zerolinecolor": "white",
           "zerolinewidth": 2
          }
         }
        },
        "title": {
         "text": "Average Age of Cars by Brand",
         "x": 0.4,
         "y": 0.98
        },
        "updatemenus": [
         {
          "buttons": [
           {
            "args": [
             {
              "visible": [
               true,
               false,
               false,
               false
              ]
             },
             {
              "title": "Average Age of Cars (Top 20 Brands)"
             }
            ],
            "label": "Top 20",
            "method": "update"
           },
           {
            "args": [
             {
              "visible": [
               false,
               true,
               false,
               false
              ]
             },
             {
              "title": "Average Age of Cars (Top 15 Brands)"
             }
            ],
            "label": "Top 15",
            "method": "update"
           },
           {
            "args": [
             {
              "visible": [
               false,
               false,
               true,
               false
              ]
             },
             {
              "title": "Average Age of Cars (Top 10 Brands)"
             }
            ],
            "label": "Top 10",
            "method": "update"
           },
           {
            "args": [
             {
              "visible": [
               false,
               false,
               false,
               true
              ]
             },
             {
              "title": "Average Age of Cars (Top 30 Brands)"
             }
            ],
            "label": "Top 30",
            "method": "update"
           }
          ],
          "direction": "down",
          "showactive": true,
          "type": "dropdown",
          "x": 0.1,
          "y": 1.15
         }
        ],
        "width": 1200,
        "xaxis": {
         "title": {
          "text": "Average Age (Years)"
         }
        },
        "yaxis": {
         "title": {
          "text": "Brand"
         }
        }
       }
      }
     },
     "metadata": {},
     "output_type": "display_data"
    }
   ],
   "source": [
    "data['age'] = 2024 - data['year']\n",
    "\n",
    "data_2000 = data[data['year'] > 2000]\n",
    "\n",
    "avg_age_by_brand = data_2000.groupby('manufacturer')['age'].mean().sort_values(ascending=False)\n",
    "\n",
    "top_options = [20, 15, 10, 30]\n",
    "traces = []\n",
    "\n",
    "for top_n in top_options:\n",
    "    subset = avg_age_by_brand.head(top_n)\n",
    "    trace = go.Bar(\n",
    "        x=subset.values,\n",
    "        y=subset.index,\n",
    "        orientation='h',\n",
    "        name=f'Top {top_n}',\n",
    "        text=subset.values.round(1),\n",
    "        # textposition='auto',\n",
    "        visible=(top_n == 20)  \n",
    "    )\n",
    "    traces.append(trace)\n",
    "\n",
    "buttons = [\n",
    "    dict(label=f'Top {n}',\n",
    "         method='update',\n",
    "         args=[{'visible': [i == idx for i in range(len(top_options))]},\n",
    "               {'title': f'Average Age of Cars (Top {n} Brands)'}])\n",
    "    for idx, n in enumerate(top_options)\n",
    "]\n",
    "\n",
    "fig = go.Figure(data=traces)\n",
    "\n",
    "fig.update_layout(\n",
    "    updatemenus=[dict(\n",
    "        type=\"dropdown\",\n",
    "        direction=\"down\",\n",
    "        buttons=buttons,\n",
    "        y=1.15,\n",
    "        x=0.1,\n",
    "        showactive=True\n",
    "    )],\n",
    "    yaxis_title=\"Brand\",\n",
    "    xaxis_title=\"Average Age (Years)\",\n",
    "    showlegend=False,\n",
    "    height=900,\n",
    "    width=1200,\n",
    "    font=dict(size=14),\n",
    "    title={\n",
    "        'text': \"Average Age of Cars by Brand\",\n",
    "        'y': 0.98,\n",
    "        'x': 0.4\n",
    "    }\n",
    ")\n",
    "fig.show()"
   ]
  },
  {
   "cell_type": "code",
   "execution_count": 669,
   "id": "496b6d08",
   "metadata": {},
   "outputs": [
    {
     "data": {
      "text/plain": [
       "one_owner\n",
       " 1.0    0.535544\n",
       " 0.0    0.424500\n",
       "-1.0    0.039956\n",
       "Name: proportion, dtype: float64"
      ]
     },
     "execution_count": 669,
     "metadata": {},
     "output_type": "execute_result"
    }
   ],
   "source": [
    "one_owner_ratio = data['one_owner'].value_counts(normalize=True)\n",
    "one_owner_ratio"
   ]
  },
  {
   "cell_type": "code",
   "execution_count": 672,
   "id": "c7fc309a-bf8c-4e32-8ce7-9c0e9cf0c43d",
   "metadata": {},
   "outputs": [
    {
     "data": {
      "application/vnd.plotly.v1+json": {
       "config": {
        "plotlyServerURL": "https://plot.ly"
       },
       "data": [
        {
         "domain": {
          "x": [
           0,
           1
          ],
          "y": [
           0,
           1
          ]
         },
         "hole": 0.4,
         "hovertemplate": "label=%{label}<br>value=%{value}<extra></extra>",
         "labels": [
          "One Owner",
          "Not One Owner",
          "Unknown"
         ],
         "legendgroup": "",
         "name": "",
         "showlegend": true,
         "textinfo": "percent+label",
         "type": "pie",
         "values": {
          "bdata": "Sn/pQSwj4T94fI2VAivbP5wn/DQndaQ/",
          "dtype": "f8"
         }
        }
       ],
       "layout": {
        "height": 500,
        "legend": {
         "tracegroupgap": 0
        },
        "template": {
         "data": {
          "bar": [
           {
            "error_x": {
             "color": "#2a3f5f"
            },
            "error_y": {
             "color": "#2a3f5f"
            },
            "marker": {
             "line": {
              "color": "#E5ECF6",
              "width": 0.5
             },
             "pattern": {
              "fillmode": "overlay",
              "size": 10,
              "solidity": 0.2
             }
            },
            "type": "bar"
           }
          ],
          "barpolar": [
           {
            "marker": {
             "line": {
              "color": "#E5ECF6",
              "width": 0.5
             },
             "pattern": {
              "fillmode": "overlay",
              "size": 10,
              "solidity": 0.2
             }
            },
            "type": "barpolar"
           }
          ],
          "carpet": [
           {
            "aaxis": {
             "endlinecolor": "#2a3f5f",
             "gridcolor": "white",
             "linecolor": "white",
             "minorgridcolor": "white",
             "startlinecolor": "#2a3f5f"
            },
            "baxis": {
             "endlinecolor": "#2a3f5f",
             "gridcolor": "white",
             "linecolor": "white",
             "minorgridcolor": "white",
             "startlinecolor": "#2a3f5f"
            },
            "type": "carpet"
           }
          ],
          "choropleth": [
           {
            "colorbar": {
             "outlinewidth": 0,
             "ticks": ""
            },
            "type": "choropleth"
           }
          ],
          "contour": [
           {
            "colorbar": {
             "outlinewidth": 0,
             "ticks": ""
            },
            "colorscale": [
             [
              0,
              "#0d0887"
             ],
             [
              0.1111111111111111,
              "#46039f"
             ],
             [
              0.2222222222222222,
              "#7201a8"
             ],
             [
              0.3333333333333333,
              "#9c179e"
             ],
             [
              0.4444444444444444,
              "#bd3786"
             ],
             [
              0.5555555555555556,
              "#d8576b"
             ],
             [
              0.6666666666666666,
              "#ed7953"
             ],
             [
              0.7777777777777778,
              "#fb9f3a"
             ],
             [
              0.8888888888888888,
              "#fdca26"
             ],
             [
              1,
              "#f0f921"
             ]
            ],
            "type": "contour"
           }
          ],
          "contourcarpet": [
           {
            "colorbar": {
             "outlinewidth": 0,
             "ticks": ""
            },
            "type": "contourcarpet"
           }
          ],
          "heatmap": [
           {
            "colorbar": {
             "outlinewidth": 0,
             "ticks": ""
            },
            "colorscale": [
             [
              0,
              "#0d0887"
             ],
             [
              0.1111111111111111,
              "#46039f"
             ],
             [
              0.2222222222222222,
              "#7201a8"
             ],
             [
              0.3333333333333333,
              "#9c179e"
             ],
             [
              0.4444444444444444,
              "#bd3786"
             ],
             [
              0.5555555555555556,
              "#d8576b"
             ],
             [
              0.6666666666666666,
              "#ed7953"
             ],
             [
              0.7777777777777778,
              "#fb9f3a"
             ],
             [
              0.8888888888888888,
              "#fdca26"
             ],
             [
              1,
              "#f0f921"
             ]
            ],
            "type": "heatmap"
           }
          ],
          "histogram": [
           {
            "marker": {
             "pattern": {
              "fillmode": "overlay",
              "size": 10,
              "solidity": 0.2
             }
            },
            "type": "histogram"
           }
          ],
          "histogram2d": [
           {
            "colorbar": {
             "outlinewidth": 0,
             "ticks": ""
            },
            "colorscale": [
             [
              0,
              "#0d0887"
             ],
             [
              0.1111111111111111,
              "#46039f"
             ],
             [
              0.2222222222222222,
              "#7201a8"
             ],
             [
              0.3333333333333333,
              "#9c179e"
             ],
             [
              0.4444444444444444,
              "#bd3786"
             ],
             [
              0.5555555555555556,
              "#d8576b"
             ],
             [
              0.6666666666666666,
              "#ed7953"
             ],
             [
              0.7777777777777778,
              "#fb9f3a"
             ],
             [
              0.8888888888888888,
              "#fdca26"
             ],
             [
              1,
              "#f0f921"
             ]
            ],
            "type": "histogram2d"
           }
          ],
          "histogram2dcontour": [
           {
            "colorbar": {
             "outlinewidth": 0,
             "ticks": ""
            },
            "colorscale": [
             [
              0,
              "#0d0887"
             ],
             [
              0.1111111111111111,
              "#46039f"
             ],
             [
              0.2222222222222222,
              "#7201a8"
             ],
             [
              0.3333333333333333,
              "#9c179e"
             ],
             [
              0.4444444444444444,
              "#bd3786"
             ],
             [
              0.5555555555555556,
              "#d8576b"
             ],
             [
              0.6666666666666666,
              "#ed7953"
             ],
             [
              0.7777777777777778,
              "#fb9f3a"
             ],
             [
              0.8888888888888888,
              "#fdca26"
             ],
             [
              1,
              "#f0f921"
             ]
            ],
            "type": "histogram2dcontour"
           }
          ],
          "mesh3d": [
           {
            "colorbar": {
             "outlinewidth": 0,
             "ticks": ""
            },
            "type": "mesh3d"
           }
          ],
          "parcoords": [
           {
            "line": {
             "colorbar": {
              "outlinewidth": 0,
              "ticks": ""
             }
            },
            "type": "parcoords"
           }
          ],
          "pie": [
           {
            "automargin": true,
            "type": "pie"
           }
          ],
          "scatter": [
           {
            "fillpattern": {
             "fillmode": "overlay",
             "size": 10,
             "solidity": 0.2
            },
            "type": "scatter"
           }
          ],
          "scatter3d": [
           {
            "line": {
             "colorbar": {
              "outlinewidth": 0,
              "ticks": ""
             }
            },
            "marker": {
             "colorbar": {
              "outlinewidth": 0,
              "ticks": ""
             }
            },
            "type": "scatter3d"
           }
          ],
          "scattercarpet": [
           {
            "marker": {
             "colorbar": {
              "outlinewidth": 0,
              "ticks": ""
             }
            },
            "type": "scattercarpet"
           }
          ],
          "scattergeo": [
           {
            "marker": {
             "colorbar": {
              "outlinewidth": 0,
              "ticks": ""
             }
            },
            "type": "scattergeo"
           }
          ],
          "scattergl": [
           {
            "marker": {
             "colorbar": {
              "outlinewidth": 0,
              "ticks": ""
             }
            },
            "type": "scattergl"
           }
          ],
          "scattermap": [
           {
            "marker": {
             "colorbar": {
              "outlinewidth": 0,
              "ticks": ""
             }
            },
            "type": "scattermap"
           }
          ],
          "scattermapbox": [
           {
            "marker": {
             "colorbar": {
              "outlinewidth": 0,
              "ticks": ""
             }
            },
            "type": "scattermapbox"
           }
          ],
          "scatterpolar": [
           {
            "marker": {
             "colorbar": {
              "outlinewidth": 0,
              "ticks": ""
             }
            },
            "type": "scatterpolar"
           }
          ],
          "scatterpolargl": [
           {
            "marker": {
             "colorbar": {
              "outlinewidth": 0,
              "ticks": ""
             }
            },
            "type": "scatterpolargl"
           }
          ],
          "scatterternary": [
           {
            "marker": {
             "colorbar": {
              "outlinewidth": 0,
              "ticks": ""
             }
            },
            "type": "scatterternary"
           }
          ],
          "surface": [
           {
            "colorbar": {
             "outlinewidth": 0,
             "ticks": ""
            },
            "colorscale": [
             [
              0,
              "#0d0887"
             ],
             [
              0.1111111111111111,
              "#46039f"
             ],
             [
              0.2222222222222222,
              "#7201a8"
             ],
             [
              0.3333333333333333,
              "#9c179e"
             ],
             [
              0.4444444444444444,
              "#bd3786"
             ],
             [
              0.5555555555555556,
              "#d8576b"
             ],
             [
              0.6666666666666666,
              "#ed7953"
             ],
             [
              0.7777777777777778,
              "#fb9f3a"
             ],
             [
              0.8888888888888888,
              "#fdca26"
             ],
             [
              1,
              "#f0f921"
             ]
            ],
            "type": "surface"
           }
          ],
          "table": [
           {
            "cells": {
             "fill": {
              "color": "#EBF0F8"
             },
             "line": {
              "color": "white"
             }
            },
            "header": {
             "fill": {
              "color": "#C8D4E3"
             },
             "line": {
              "color": "white"
             }
            },
            "type": "table"
           }
          ]
         },
         "layout": {
          "annotationdefaults": {
           "arrowcolor": "#2a3f5f",
           "arrowhead": 0,
           "arrowwidth": 1
          },
          "autotypenumbers": "strict",
          "coloraxis": {
           "colorbar": {
            "outlinewidth": 0,
            "ticks": ""
           }
          },
          "colorscale": {
           "diverging": [
            [
             0,
             "#8e0152"
            ],
            [
             0.1,
             "#c51b7d"
            ],
            [
             0.2,
             "#de77ae"
            ],
            [
             0.3,
             "#f1b6da"
            ],
            [
             0.4,
             "#fde0ef"
            ],
            [
             0.5,
             "#f7f7f7"
            ],
            [
             0.6,
             "#e6f5d0"
            ],
            [
             0.7,
             "#b8e186"
            ],
            [
             0.8,
             "#7fbc41"
            ],
            [
             0.9,
             "#4d9221"
            ],
            [
             1,
             "#276419"
            ]
           ],
           "sequential": [
            [
             0,
             "#0d0887"
            ],
            [
             0.1111111111111111,
             "#46039f"
            ],
            [
             0.2222222222222222,
             "#7201a8"
            ],
            [
             0.3333333333333333,
             "#9c179e"
            ],
            [
             0.4444444444444444,
             "#bd3786"
            ],
            [
             0.5555555555555556,
             "#d8576b"
            ],
            [
             0.6666666666666666,
             "#ed7953"
            ],
            [
             0.7777777777777778,
             "#fb9f3a"
            ],
            [
             0.8888888888888888,
             "#fdca26"
            ],
            [
             1,
             "#f0f921"
            ]
           ],
           "sequentialminus": [
            [
             0,
             "#0d0887"
            ],
            [
             0.1111111111111111,
             "#46039f"
            ],
            [
             0.2222222222222222,
             "#7201a8"
            ],
            [
             0.3333333333333333,
             "#9c179e"
            ],
            [
             0.4444444444444444,
             "#bd3786"
            ],
            [
             0.5555555555555556,
             "#d8576b"
            ],
            [
             0.6666666666666666,
             "#ed7953"
            ],
            [
             0.7777777777777778,
             "#fb9f3a"
            ],
            [
             0.8888888888888888,
             "#fdca26"
            ],
            [
             1,
             "#f0f921"
            ]
           ]
          },
          "colorway": [
           "#636efa",
           "#EF553B",
           "#00cc96",
           "#ab63fa",
           "#FFA15A",
           "#19d3f3",
           "#FF6692",
           "#B6E880",
           "#FF97FF",
           "#FECB52"
          ],
          "font": {
           "color": "#2a3f5f"
          },
          "geo": {
           "bgcolor": "white",
           "lakecolor": "white",
           "landcolor": "#E5ECF6",
           "showlakes": true,
           "showland": true,
           "subunitcolor": "white"
          },
          "hoverlabel": {
           "align": "left"
          },
          "hovermode": "closest",
          "mapbox": {
           "style": "light"
          },
          "paper_bgcolor": "white",
          "plot_bgcolor": "#E5ECF6",
          "polar": {
           "angularaxis": {
            "gridcolor": "white",
            "linecolor": "white",
            "ticks": ""
           },
           "bgcolor": "#E5ECF6",
           "radialaxis": {
            "gridcolor": "white",
            "linecolor": "white",
            "ticks": ""
           }
          },
          "scene": {
           "xaxis": {
            "backgroundcolor": "#E5ECF6",
            "gridcolor": "white",
            "gridwidth": 2,
            "linecolor": "white",
            "showbackground": true,
            "ticks": "",
            "zerolinecolor": "white"
           },
           "yaxis": {
            "backgroundcolor": "#E5ECF6",
            "gridcolor": "white",
            "gridwidth": 2,
            "linecolor": "white",
            "showbackground": true,
            "ticks": "",
            "zerolinecolor": "white"
           },
           "zaxis": {
            "backgroundcolor": "#E5ECF6",
            "gridcolor": "white",
            "gridwidth": 2,
            "linecolor": "white",
            "showbackground": true,
            "ticks": "",
            "zerolinecolor": "white"
           }
          },
          "shapedefaults": {
           "line": {
            "color": "#2a3f5f"
           }
          },
          "ternary": {
           "aaxis": {
            "gridcolor": "white",
            "linecolor": "white",
            "ticks": ""
           },
           "baxis": {
            "gridcolor": "white",
            "linecolor": "white",
            "ticks": ""
           },
           "bgcolor": "#E5ECF6",
           "caxis": {
            "gridcolor": "white",
            "linecolor": "white",
            "ticks": ""
           }
          },
          "title": {
           "x": 0.05
          },
          "xaxis": {
           "automargin": true,
           "gridcolor": "white",
           "linecolor": "white",
           "ticks": "",
           "title": {
            "standoff": 15
           },
           "zerolinecolor": "white",
           "zerolinewidth": 2
          },
          "yaxis": {
           "automargin": true,
           "gridcolor": "white",
           "linecolor": "white",
           "ticks": "",
           "title": {
            "standoff": 15
           },
           "zerolinecolor": "white",
           "zerolinewidth": 2
          }
         }
        },
        "title": {
         "text": "Distribution of One-Owner Cars"
        },
        "width": 500
       }
      }
     },
     "metadata": {},
     "output_type": "display_data"
    }
   ],
   "source": [
    "one_owner_ratio = data['one_owner'].value_counts(normalize=True)\n",
    "\n",
    "label_map = {\n",
    "    1.0: 'One Owner',\n",
    "    0.0: 'Not One Owner',\n",
    "   -1.0: 'Unknown'\n",
    "}\n",
    "\n",
    "import plotly.express as px\n",
    "\n",
    "fig = px.pie(\n",
    "    names = label_map,\n",
    "    values=one_owner_ratio.values,\n",
    "    title='Distribution of One-Owner Cars',\n",
    "    hole=0.4\n",
    ")\n",
    "fig.update_layout(\n",
    "    height=500,\n",
    "    width=500,\n",
    ")\n",
    "fig.update_traces(textinfo='percent+label')\n",
    "fig.show()\n"
   ]
  },
  {
   "cell_type": "code",
   "execution_count": 673,
   "id": "c5dcdf38-6154-4dde-bdd7-065ce3344c85",
   "metadata": {},
   "outputs": [
    {
     "data": {
      "application/vnd.plotly.v1+json": {
       "config": {
        "plotlyServerURL": "https://plot.ly"
       },
       "data": [
        {
         "domain": {
          "x": [
           0,
           1
          ],
          "y": [
           0,
           1
          ]
         },
         "hole": 0.4,
         "hovertemplate": "label=%{label}<br>value=%{value}<extra></extra>",
         "labels": [
          "Personal use",
          "Not",
          "Unknown"
         ],
         "legendgroup": "",
         "name": "",
         "showlegend": true,
         "type": "pie",
         "values": {
          "bdata": "DFcdziNc5D/cln/eoT3VP1rYLSq0UKA/",
          "dtype": "f8"
         }
        }
       ],
       "layout": {
        "height": 500,
        "legend": {
         "tracegroupgap": 0
        },
        "template": {
         "data": {
          "bar": [
           {
            "error_x": {
             "color": "#2a3f5f"
            },
            "error_y": {
             "color": "#2a3f5f"
            },
            "marker": {
             "line": {
              "color": "#E5ECF6",
              "width": 0.5
             },
             "pattern": {
              "fillmode": "overlay",
              "size": 10,
              "solidity": 0.2
             }
            },
            "type": "bar"
           }
          ],
          "barpolar": [
           {
            "marker": {
             "line": {
              "color": "#E5ECF6",
              "width": 0.5
             },
             "pattern": {
              "fillmode": "overlay",
              "size": 10,
              "solidity": 0.2
             }
            },
            "type": "barpolar"
           }
          ],
          "carpet": [
           {
            "aaxis": {
             "endlinecolor": "#2a3f5f",
             "gridcolor": "white",
             "linecolor": "white",
             "minorgridcolor": "white",
             "startlinecolor": "#2a3f5f"
            },
            "baxis": {
             "endlinecolor": "#2a3f5f",
             "gridcolor": "white",
             "linecolor": "white",
             "minorgridcolor": "white",
             "startlinecolor": "#2a3f5f"
            },
            "type": "carpet"
           }
          ],
          "choropleth": [
           {
            "colorbar": {
             "outlinewidth": 0,
             "ticks": ""
            },
            "type": "choropleth"
           }
          ],
          "contour": [
           {
            "colorbar": {
             "outlinewidth": 0,
             "ticks": ""
            },
            "colorscale": [
             [
              0,
              "#0d0887"
             ],
             [
              0.1111111111111111,
              "#46039f"
             ],
             [
              0.2222222222222222,
              "#7201a8"
             ],
             [
              0.3333333333333333,
              "#9c179e"
             ],
             [
              0.4444444444444444,
              "#bd3786"
             ],
             [
              0.5555555555555556,
              "#d8576b"
             ],
             [
              0.6666666666666666,
              "#ed7953"
             ],
             [
              0.7777777777777778,
              "#fb9f3a"
             ],
             [
              0.8888888888888888,
              "#fdca26"
             ],
             [
              1,
              "#f0f921"
             ]
            ],
            "type": "contour"
           }
          ],
          "contourcarpet": [
           {
            "colorbar": {
             "outlinewidth": 0,
             "ticks": ""
            },
            "type": "contourcarpet"
           }
          ],
          "heatmap": [
           {
            "colorbar": {
             "outlinewidth": 0,
             "ticks": ""
            },
            "colorscale": [
             [
              0,
              "#0d0887"
             ],
             [
              0.1111111111111111,
              "#46039f"
             ],
             [
              0.2222222222222222,
              "#7201a8"
             ],
             [
              0.3333333333333333,
              "#9c179e"
             ],
             [
              0.4444444444444444,
              "#bd3786"
             ],
             [
              0.5555555555555556,
              "#d8576b"
             ],
             [
              0.6666666666666666,
              "#ed7953"
             ],
             [
              0.7777777777777778,
              "#fb9f3a"
             ],
             [
              0.8888888888888888,
              "#fdca26"
             ],
             [
              1,
              "#f0f921"
             ]
            ],
            "type": "heatmap"
           }
          ],
          "histogram": [
           {
            "marker": {
             "pattern": {
              "fillmode": "overlay",
              "size": 10,
              "solidity": 0.2
             }
            },
            "type": "histogram"
           }
          ],
          "histogram2d": [
           {
            "colorbar": {
             "outlinewidth": 0,
             "ticks": ""
            },
            "colorscale": [
             [
              0,
              "#0d0887"
             ],
             [
              0.1111111111111111,
              "#46039f"
             ],
             [
              0.2222222222222222,
              "#7201a8"
             ],
             [
              0.3333333333333333,
              "#9c179e"
             ],
             [
              0.4444444444444444,
              "#bd3786"
             ],
             [
              0.5555555555555556,
              "#d8576b"
             ],
             [
              0.6666666666666666,
              "#ed7953"
             ],
             [
              0.7777777777777778,
              "#fb9f3a"
             ],
             [
              0.8888888888888888,
              "#fdca26"
             ],
             [
              1,
              "#f0f921"
             ]
            ],
            "type": "histogram2d"
           }
          ],
          "histogram2dcontour": [
           {
            "colorbar": {
             "outlinewidth": 0,
             "ticks": ""
            },
            "colorscale": [
             [
              0,
              "#0d0887"
             ],
             [
              0.1111111111111111,
              "#46039f"
             ],
             [
              0.2222222222222222,
              "#7201a8"
             ],
             [
              0.3333333333333333,
              "#9c179e"
             ],
             [
              0.4444444444444444,
              "#bd3786"
             ],
             [
              0.5555555555555556,
              "#d8576b"
             ],
             [
              0.6666666666666666,
              "#ed7953"
             ],
             [
              0.7777777777777778,
              "#fb9f3a"
             ],
             [
              0.8888888888888888,
              "#fdca26"
             ],
             [
              1,
              "#f0f921"
             ]
            ],
            "type": "histogram2dcontour"
           }
          ],
          "mesh3d": [
           {
            "colorbar": {
             "outlinewidth": 0,
             "ticks": ""
            },
            "type": "mesh3d"
           }
          ],
          "parcoords": [
           {
            "line": {
             "colorbar": {
              "outlinewidth": 0,
              "ticks": ""
             }
            },
            "type": "parcoords"
           }
          ],
          "pie": [
           {
            "automargin": true,
            "type": "pie"
           }
          ],
          "scatter": [
           {
            "fillpattern": {
             "fillmode": "overlay",
             "size": 10,
             "solidity": 0.2
            },
            "type": "scatter"
           }
          ],
          "scatter3d": [
           {
            "line": {
             "colorbar": {
              "outlinewidth": 0,
              "ticks": ""
             }
            },
            "marker": {
             "colorbar": {
              "outlinewidth": 0,
              "ticks": ""
             }
            },
            "type": "scatter3d"
           }
          ],
          "scattercarpet": [
           {
            "marker": {
             "colorbar": {
              "outlinewidth": 0,
              "ticks": ""
             }
            },
            "type": "scattercarpet"
           }
          ],
          "scattergeo": [
           {
            "marker": {
             "colorbar": {
              "outlinewidth": 0,
              "ticks": ""
             }
            },
            "type": "scattergeo"
           }
          ],
          "scattergl": [
           {
            "marker": {
             "colorbar": {
              "outlinewidth": 0,
              "ticks": ""
             }
            },
            "type": "scattergl"
           }
          ],
          "scattermap": [
           {
            "marker": {
             "colorbar": {
              "outlinewidth": 0,
              "ticks": ""
             }
            },
            "type": "scattermap"
           }
          ],
          "scattermapbox": [
           {
            "marker": {
             "colorbar": {
              "outlinewidth": 0,
              "ticks": ""
             }
            },
            "type": "scattermapbox"
           }
          ],
          "scatterpolar": [
           {
            "marker": {
             "colorbar": {
              "outlinewidth": 0,
              "ticks": ""
             }
            },
            "type": "scatterpolar"
           }
          ],
          "scatterpolargl": [
           {
            "marker": {
             "colorbar": {
              "outlinewidth": 0,
              "ticks": ""
             }
            },
            "type": "scatterpolargl"
           }
          ],
          "scatterternary": [
           {
            "marker": {
             "colorbar": {
              "outlinewidth": 0,
              "ticks": ""
             }
            },
            "type": "scatterternary"
           }
          ],
          "surface": [
           {
            "colorbar": {
             "outlinewidth": 0,
             "ticks": ""
            },
            "colorscale": [
             [
              0,
              "#0d0887"
             ],
             [
              0.1111111111111111,
              "#46039f"
             ],
             [
              0.2222222222222222,
              "#7201a8"
             ],
             [
              0.3333333333333333,
              "#9c179e"
             ],
             [
              0.4444444444444444,
              "#bd3786"
             ],
             [
              0.5555555555555556,
              "#d8576b"
             ],
             [
              0.6666666666666666,
              "#ed7953"
             ],
             [
              0.7777777777777778,
              "#fb9f3a"
             ],
             [
              0.8888888888888888,
              "#fdca26"
             ],
             [
              1,
              "#f0f921"
             ]
            ],
            "type": "surface"
           }
          ],
          "table": [
           {
            "cells": {
             "fill": {
              "color": "#EBF0F8"
             },
             "line": {
              "color": "white"
             }
            },
            "header": {
             "fill": {
              "color": "#C8D4E3"
             },
             "line": {
              "color": "white"
             }
            },
            "type": "table"
           }
          ]
         },
         "layout": {
          "annotationdefaults": {
           "arrowcolor": "#2a3f5f",
           "arrowhead": 0,
           "arrowwidth": 1
          },
          "autotypenumbers": "strict",
          "coloraxis": {
           "colorbar": {
            "outlinewidth": 0,
            "ticks": ""
           }
          },
          "colorscale": {
           "diverging": [
            [
             0,
             "#8e0152"
            ],
            [
             0.1,
             "#c51b7d"
            ],
            [
             0.2,
             "#de77ae"
            ],
            [
             0.3,
             "#f1b6da"
            ],
            [
             0.4,
             "#fde0ef"
            ],
            [
             0.5,
             "#f7f7f7"
            ],
            [
             0.6,
             "#e6f5d0"
            ],
            [
             0.7,
             "#b8e186"
            ],
            [
             0.8,
             "#7fbc41"
            ],
            [
             0.9,
             "#4d9221"
            ],
            [
             1,
             "#276419"
            ]
           ],
           "sequential": [
            [
             0,
             "#0d0887"
            ],
            [
             0.1111111111111111,
             "#46039f"
            ],
            [
             0.2222222222222222,
             "#7201a8"
            ],
            [
             0.3333333333333333,
             "#9c179e"
            ],
            [
             0.4444444444444444,
             "#bd3786"
            ],
            [
             0.5555555555555556,
             "#d8576b"
            ],
            [
             0.6666666666666666,
             "#ed7953"
            ],
            [
             0.7777777777777778,
             "#fb9f3a"
            ],
            [
             0.8888888888888888,
             "#fdca26"
            ],
            [
             1,
             "#f0f921"
            ]
           ],
           "sequentialminus": [
            [
             0,
             "#0d0887"
            ],
            [
             0.1111111111111111,
             "#46039f"
            ],
            [
             0.2222222222222222,
             "#7201a8"
            ],
            [
             0.3333333333333333,
             "#9c179e"
            ],
            [
             0.4444444444444444,
             "#bd3786"
            ],
            [
             0.5555555555555556,
             "#d8576b"
            ],
            [
             0.6666666666666666,
             "#ed7953"
            ],
            [
             0.7777777777777778,
             "#fb9f3a"
            ],
            [
             0.8888888888888888,
             "#fdca26"
            ],
            [
             1,
             "#f0f921"
            ]
           ]
          },
          "colorway": [
           "#636efa",
           "#EF553B",
           "#00cc96",
           "#ab63fa",
           "#FFA15A",
           "#19d3f3",
           "#FF6692",
           "#B6E880",
           "#FF97FF",
           "#FECB52"
          ],
          "font": {
           "color": "#2a3f5f"
          },
          "geo": {
           "bgcolor": "white",
           "lakecolor": "white",
           "landcolor": "#E5ECF6",
           "showlakes": true,
           "showland": true,
           "subunitcolor": "white"
          },
          "hoverlabel": {
           "align": "left"
          },
          "hovermode": "closest",
          "mapbox": {
           "style": "light"
          },
          "paper_bgcolor": "white",
          "plot_bgcolor": "#E5ECF6",
          "polar": {
           "angularaxis": {
            "gridcolor": "white",
            "linecolor": "white",
            "ticks": ""
           },
           "bgcolor": "#E5ECF6",
           "radialaxis": {
            "gridcolor": "white",
            "linecolor": "white",
            "ticks": ""
           }
          },
          "scene": {
           "xaxis": {
            "backgroundcolor": "#E5ECF6",
            "gridcolor": "white",
            "gridwidth": 2,
            "linecolor": "white",
            "showbackground": true,
            "ticks": "",
            "zerolinecolor": "white"
           },
           "yaxis": {
            "backgroundcolor": "#E5ECF6",
            "gridcolor": "white",
            "gridwidth": 2,
            "linecolor": "white",
            "showbackground": true,
            "ticks": "",
            "zerolinecolor": "white"
           },
           "zaxis": {
            "backgroundcolor": "#E5ECF6",
            "gridcolor": "white",
            "gridwidth": 2,
            "linecolor": "white",
            "showbackground": true,
            "ticks": "",
            "zerolinecolor": "white"
           }
          },
          "shapedefaults": {
           "line": {
            "color": "#2a3f5f"
           }
          },
          "ternary": {
           "aaxis": {
            "gridcolor": "white",
            "linecolor": "white",
            "ticks": ""
           },
           "baxis": {
            "gridcolor": "white",
            "linecolor": "white",
            "ticks": ""
           },
           "bgcolor": "#E5ECF6",
           "caxis": {
            "gridcolor": "white",
            "linecolor": "white",
            "ticks": ""
           }
          },
          "title": {
           "x": 0.05
          },
          "xaxis": {
           "automargin": true,
           "gridcolor": "white",
           "linecolor": "white",
           "ticks": "",
           "title": {
            "standoff": 15
           },
           "zerolinecolor": "white",
           "zerolinewidth": 2
          },
          "yaxis": {
           "automargin": true,
           "gridcolor": "white",
           "linecolor": "white",
           "ticks": "",
           "title": {
            "standoff": 15
           },
           "zerolinecolor": "white",
           "zerolinewidth": 2
          }
         }
        },
        "title": {
         "text": "Count of Personal Use vs Other Cars"
        },
        "width": 500
       }
      }
     },
     "metadata": {},
     "output_type": "display_data"
    }
   ],
   "source": [
    "personal_use_ratio = data['personal_use_only'].value_counts(normalize=True)\n",
    "\n",
    "label_names = ['Personal use','Not','Unknown']\n",
    "\n",
    "fig = px.pie(\n",
    "    names = label_names,\n",
    "    values=personal_use_ratio.values,\n",
    "    title='Count of Personal Use vs Other Cars',\n",
    "    hole=0.4\n",
    ")\n",
    "fig.update_layout(\n",
    "    height = 500,\n",
    "    width = 500,\n",
    ")\n",
    "fig.show()"
   ]
  },
  {
   "cell_type": "code",
   "execution_count": null,
   "id": "4b06bf25-8269-4969-ab28-eec008ea9b9f",
   "metadata": {},
   "outputs": [],
   "source": []
  },
  {
   "cell_type": "code",
   "execution_count": 674,
   "id": "65c3b463-b1d7-4b15-a272-d39c18809cd8",
   "metadata": {},
   "outputs": [
    {
     "data": {
      "application/vnd.plotly.v1+json": {
       "config": {
        "plotlyServerURL": "https://plot.ly"
       },
       "data": [
        {
         "domain": {
          "x": [
           0,
           1
          ],
          "y": [
           0,
           1
          ]
         },
         "hole": 0.4,
         "hovertemplate": "label=%{label}<br>value=%{value}<extra></extra>",
         "labels": [
          "Not",
          "Accidents or damage",
          "Unknown"
         ],
         "legendgroup": "",
         "name": "",
         "showlegend": true,
         "type": "pie",
         "values": {
          "bdata": "HQiflTrT5z+AGNfDgbHMPyccs5ZPBqA/",
          "dtype": "f8"
         }
        }
       ],
       "layout": {
        "height": 550,
        "legend": {
         "tracegroupgap": 0
        },
        "template": {
         "data": {
          "bar": [
           {
            "error_x": {
             "color": "#2a3f5f"
            },
            "error_y": {
             "color": "#2a3f5f"
            },
            "marker": {
             "line": {
              "color": "#E5ECF6",
              "width": 0.5
             },
             "pattern": {
              "fillmode": "overlay",
              "size": 10,
              "solidity": 0.2
             }
            },
            "type": "bar"
           }
          ],
          "barpolar": [
           {
            "marker": {
             "line": {
              "color": "#E5ECF6",
              "width": 0.5
             },
             "pattern": {
              "fillmode": "overlay",
              "size": 10,
              "solidity": 0.2
             }
            },
            "type": "barpolar"
           }
          ],
          "carpet": [
           {
            "aaxis": {
             "endlinecolor": "#2a3f5f",
             "gridcolor": "white",
             "linecolor": "white",
             "minorgridcolor": "white",
             "startlinecolor": "#2a3f5f"
            },
            "baxis": {
             "endlinecolor": "#2a3f5f",
             "gridcolor": "white",
             "linecolor": "white",
             "minorgridcolor": "white",
             "startlinecolor": "#2a3f5f"
            },
            "type": "carpet"
           }
          ],
          "choropleth": [
           {
            "colorbar": {
             "outlinewidth": 0,
             "ticks": ""
            },
            "type": "choropleth"
           }
          ],
          "contour": [
           {
            "colorbar": {
             "outlinewidth": 0,
             "ticks": ""
            },
            "colorscale": [
             [
              0,
              "#0d0887"
             ],
             [
              0.1111111111111111,
              "#46039f"
             ],
             [
              0.2222222222222222,
              "#7201a8"
             ],
             [
              0.3333333333333333,
              "#9c179e"
             ],
             [
              0.4444444444444444,
              "#bd3786"
             ],
             [
              0.5555555555555556,
              "#d8576b"
             ],
             [
              0.6666666666666666,
              "#ed7953"
             ],
             [
              0.7777777777777778,
              "#fb9f3a"
             ],
             [
              0.8888888888888888,
              "#fdca26"
             ],
             [
              1,
              "#f0f921"
             ]
            ],
            "type": "contour"
           }
          ],
          "contourcarpet": [
           {
            "colorbar": {
             "outlinewidth": 0,
             "ticks": ""
            },
            "type": "contourcarpet"
           }
          ],
          "heatmap": [
           {
            "colorbar": {
             "outlinewidth": 0,
             "ticks": ""
            },
            "colorscale": [
             [
              0,
              "#0d0887"
             ],
             [
              0.1111111111111111,
              "#46039f"
             ],
             [
              0.2222222222222222,
              "#7201a8"
             ],
             [
              0.3333333333333333,
              "#9c179e"
             ],
             [
              0.4444444444444444,
              "#bd3786"
             ],
             [
              0.5555555555555556,
              "#d8576b"
             ],
             [
              0.6666666666666666,
              "#ed7953"
             ],
             [
              0.7777777777777778,
              "#fb9f3a"
             ],
             [
              0.8888888888888888,
              "#fdca26"
             ],
             [
              1,
              "#f0f921"
             ]
            ],
            "type": "heatmap"
           }
          ],
          "histogram": [
           {
            "marker": {
             "pattern": {
              "fillmode": "overlay",
              "size": 10,
              "solidity": 0.2
             }
            },
            "type": "histogram"
           }
          ],
          "histogram2d": [
           {
            "colorbar": {
             "outlinewidth": 0,
             "ticks": ""
            },
            "colorscale": [
             [
              0,
              "#0d0887"
             ],
             [
              0.1111111111111111,
              "#46039f"
             ],
             [
              0.2222222222222222,
              "#7201a8"
             ],
             [
              0.3333333333333333,
              "#9c179e"
             ],
             [
              0.4444444444444444,
              "#bd3786"
             ],
             [
              0.5555555555555556,
              "#d8576b"
             ],
             [
              0.6666666666666666,
              "#ed7953"
             ],
             [
              0.7777777777777778,
              "#fb9f3a"
             ],
             [
              0.8888888888888888,
              "#fdca26"
             ],
             [
              1,
              "#f0f921"
             ]
            ],
            "type": "histogram2d"
           }
          ],
          "histogram2dcontour": [
           {
            "colorbar": {
             "outlinewidth": 0,
             "ticks": ""
            },
            "colorscale": [
             [
              0,
              "#0d0887"
             ],
             [
              0.1111111111111111,
              "#46039f"
             ],
             [
              0.2222222222222222,
              "#7201a8"
             ],
             [
              0.3333333333333333,
              "#9c179e"
             ],
             [
              0.4444444444444444,
              "#bd3786"
             ],
             [
              0.5555555555555556,
              "#d8576b"
             ],
             [
              0.6666666666666666,
              "#ed7953"
             ],
             [
              0.7777777777777778,
              "#fb9f3a"
             ],
             [
              0.8888888888888888,
              "#fdca26"
             ],
             [
              1,
              "#f0f921"
             ]
            ],
            "type": "histogram2dcontour"
           }
          ],
          "mesh3d": [
           {
            "colorbar": {
             "outlinewidth": 0,
             "ticks": ""
            },
            "type": "mesh3d"
           }
          ],
          "parcoords": [
           {
            "line": {
             "colorbar": {
              "outlinewidth": 0,
              "ticks": ""
             }
            },
            "type": "parcoords"
           }
          ],
          "pie": [
           {
            "automargin": true,
            "type": "pie"
           }
          ],
          "scatter": [
           {
            "fillpattern": {
             "fillmode": "overlay",
             "size": 10,
             "solidity": 0.2
            },
            "type": "scatter"
           }
          ],
          "scatter3d": [
           {
            "line": {
             "colorbar": {
              "outlinewidth": 0,
              "ticks": ""
             }
            },
            "marker": {
             "colorbar": {
              "outlinewidth": 0,
              "ticks": ""
             }
            },
            "type": "scatter3d"
           }
          ],
          "scattercarpet": [
           {
            "marker": {
             "colorbar": {
              "outlinewidth": 0,
              "ticks": ""
             }
            },
            "type": "scattercarpet"
           }
          ],
          "scattergeo": [
           {
            "marker": {
             "colorbar": {
              "outlinewidth": 0,
              "ticks": ""
             }
            },
            "type": "scattergeo"
           }
          ],
          "scattergl": [
           {
            "marker": {
             "colorbar": {
              "outlinewidth": 0,
              "ticks": ""
             }
            },
            "type": "scattergl"
           }
          ],
          "scattermap": [
           {
            "marker": {
             "colorbar": {
              "outlinewidth": 0,
              "ticks": ""
             }
            },
            "type": "scattermap"
           }
          ],
          "scattermapbox": [
           {
            "marker": {
             "colorbar": {
              "outlinewidth": 0,
              "ticks": ""
             }
            },
            "type": "scattermapbox"
           }
          ],
          "scatterpolar": [
           {
            "marker": {
             "colorbar": {
              "outlinewidth": 0,
              "ticks": ""
             }
            },
            "type": "scatterpolar"
           }
          ],
          "scatterpolargl": [
           {
            "marker": {
             "colorbar": {
              "outlinewidth": 0,
              "ticks": ""
             }
            },
            "type": "scatterpolargl"
           }
          ],
          "scatterternary": [
           {
            "marker": {
             "colorbar": {
              "outlinewidth": 0,
              "ticks": ""
             }
            },
            "type": "scatterternary"
           }
          ],
          "surface": [
           {
            "colorbar": {
             "outlinewidth": 0,
             "ticks": ""
            },
            "colorscale": [
             [
              0,
              "#0d0887"
             ],
             [
              0.1111111111111111,
              "#46039f"
             ],
             [
              0.2222222222222222,
              "#7201a8"
             ],
             [
              0.3333333333333333,
              "#9c179e"
             ],
             [
              0.4444444444444444,
              "#bd3786"
             ],
             [
              0.5555555555555556,
              "#d8576b"
             ],
             [
              0.6666666666666666,
              "#ed7953"
             ],
             [
              0.7777777777777778,
              "#fb9f3a"
             ],
             [
              0.8888888888888888,
              "#fdca26"
             ],
             [
              1,
              "#f0f921"
             ]
            ],
            "type": "surface"
           }
          ],
          "table": [
           {
            "cells": {
             "fill": {
              "color": "#EBF0F8"
             },
             "line": {
              "color": "white"
             }
            },
            "header": {
             "fill": {
              "color": "#C8D4E3"
             },
             "line": {
              "color": "white"
             }
            },
            "type": "table"
           }
          ]
         },
         "layout": {
          "annotationdefaults": {
           "arrowcolor": "#2a3f5f",
           "arrowhead": 0,
           "arrowwidth": 1
          },
          "autotypenumbers": "strict",
          "coloraxis": {
           "colorbar": {
            "outlinewidth": 0,
            "ticks": ""
           }
          },
          "colorscale": {
           "diverging": [
            [
             0,
             "#8e0152"
            ],
            [
             0.1,
             "#c51b7d"
            ],
            [
             0.2,
             "#de77ae"
            ],
            [
             0.3,
             "#f1b6da"
            ],
            [
             0.4,
             "#fde0ef"
            ],
            [
             0.5,
             "#f7f7f7"
            ],
            [
             0.6,
             "#e6f5d0"
            ],
            [
             0.7,
             "#b8e186"
            ],
            [
             0.8,
             "#7fbc41"
            ],
            [
             0.9,
             "#4d9221"
            ],
            [
             1,
             "#276419"
            ]
           ],
           "sequential": [
            [
             0,
             "#0d0887"
            ],
            [
             0.1111111111111111,
             "#46039f"
            ],
            [
             0.2222222222222222,
             "#7201a8"
            ],
            [
             0.3333333333333333,
             "#9c179e"
            ],
            [
             0.4444444444444444,
             "#bd3786"
            ],
            [
             0.5555555555555556,
             "#d8576b"
            ],
            [
             0.6666666666666666,
             "#ed7953"
            ],
            [
             0.7777777777777778,
             "#fb9f3a"
            ],
            [
             0.8888888888888888,
             "#fdca26"
            ],
            [
             1,
             "#f0f921"
            ]
           ],
           "sequentialminus": [
            [
             0,
             "#0d0887"
            ],
            [
             0.1111111111111111,
             "#46039f"
            ],
            [
             0.2222222222222222,
             "#7201a8"
            ],
            [
             0.3333333333333333,
             "#9c179e"
            ],
            [
             0.4444444444444444,
             "#bd3786"
            ],
            [
             0.5555555555555556,
             "#d8576b"
            ],
            [
             0.6666666666666666,
             "#ed7953"
            ],
            [
             0.7777777777777778,
             "#fb9f3a"
            ],
            [
             0.8888888888888888,
             "#fdca26"
            ],
            [
             1,
             "#f0f921"
            ]
           ]
          },
          "colorway": [
           "#636efa",
           "#EF553B",
           "#00cc96",
           "#ab63fa",
           "#FFA15A",
           "#19d3f3",
           "#FF6692",
           "#B6E880",
           "#FF97FF",
           "#FECB52"
          ],
          "font": {
           "color": "#2a3f5f"
          },
          "geo": {
           "bgcolor": "white",
           "lakecolor": "white",
           "landcolor": "#E5ECF6",
           "showlakes": true,
           "showland": true,
           "subunitcolor": "white"
          },
          "hoverlabel": {
           "align": "left"
          },
          "hovermode": "closest",
          "mapbox": {
           "style": "light"
          },
          "paper_bgcolor": "white",
          "plot_bgcolor": "#E5ECF6",
          "polar": {
           "angularaxis": {
            "gridcolor": "white",
            "linecolor": "white",
            "ticks": ""
           },
           "bgcolor": "#E5ECF6",
           "radialaxis": {
            "gridcolor": "white",
            "linecolor": "white",
            "ticks": ""
           }
          },
          "scene": {
           "xaxis": {
            "backgroundcolor": "#E5ECF6",
            "gridcolor": "white",
            "gridwidth": 2,
            "linecolor": "white",
            "showbackground": true,
            "ticks": "",
            "zerolinecolor": "white"
           },
           "yaxis": {
            "backgroundcolor": "#E5ECF6",
            "gridcolor": "white",
            "gridwidth": 2,
            "linecolor": "white",
            "showbackground": true,
            "ticks": "",
            "zerolinecolor": "white"
           },
           "zaxis": {
            "backgroundcolor": "#E5ECF6",
            "gridcolor": "white",
            "gridwidth": 2,
            "linecolor": "white",
            "showbackground": true,
            "ticks": "",
            "zerolinecolor": "white"
           }
          },
          "shapedefaults": {
           "line": {
            "color": "#2a3f5f"
           }
          },
          "ternary": {
           "aaxis": {
            "gridcolor": "white",
            "linecolor": "white",
            "ticks": ""
           },
           "baxis": {
            "gridcolor": "white",
            "linecolor": "white",
            "ticks": ""
           },
           "bgcolor": "#E5ECF6",
           "caxis": {
            "gridcolor": "white",
            "linecolor": "white",
            "ticks": ""
           }
          },
          "title": {
           "x": 0.05
          },
          "xaxis": {
           "automargin": true,
           "gridcolor": "white",
           "linecolor": "white",
           "ticks": "",
           "title": {
            "standoff": 15
           },
           "zerolinecolor": "white",
           "zerolinewidth": 2
          },
          "yaxis": {
           "automargin": true,
           "gridcolor": "white",
           "linecolor": "white",
           "ticks": "",
           "title": {
            "standoff": 15
           },
           "zerolinecolor": "white",
           "zerolinewidth": 2
          }
         }
        },
        "title": {
         "text": "Retio of Accidents_or_damage vs Not"
        },
        "width": 550
       }
      }
     },
     "metadata": {},
     "output_type": "display_data"
    }
   ],
   "source": [
    "damage_ratio = data['accidents_or_damage'].value_counts(normalize = True)\n",
    "\n",
    "label_names = ['Not','Accidents or damage','Unknown']\n",
    "\n",
    "fig = px.pie(\n",
    "    names = label_names,\n",
    "    values=damage_ratio.values,\n",
    "    title='Retio of Accidents_or_damage vs Not',\n",
    "    hole=0.4\n",
    ")\n",
    "fig.update_layout(\n",
    "    height = 550,\n",
    "    width = 550,\n",
    ")\n",
    "fig.show()"
   ]
  },
  {
   "cell_type": "code",
   "execution_count": 675,
   "id": "e17918b0-2b1c-43a1-b6e2-6f23c886c71b",
   "metadata": {},
   "outputs": [
    {
     "data": {
      "application/vnd.plotly.v1+json": {
       "config": {
        "plotlyServerURL": "https://plot.ly"
       },
       "data": [
        {
         "hovertemplate": "Seller=%{x}<br>Number of Cars Listed=%{y}<br>Average Rating=%{marker.color}<extra></extra>",
         "legendgroup": "",
         "marker": {
          "color": {
           "bdata": "pHA9CtejEECkcD0K16MQQPYoXI/C9fw/hetRuB6FEkBI4XoUrkcQQDMzMzMzMxNAzczMzMzMCEDNzMzMzMz8PwAAAAAAAAxAmpmZmZmZE0BI4XoUrkcQQDMzMzMzMxNAMzMzMzMzD0B7FK5H4XoKQGZmZmZmZhJAMzMzMzMzE0AzMzMzMzMTQAAAAAAAABNAw/UoXI/CCUAzMzMzMzMRQA==",
           "dtype": "f8"
          },
          "coloraxis": "coloraxis",
          "pattern": {
           "shape": ""
          }
         },
         "name": "",
         "orientation": "v",
         "showlegend": false,
         "textposition": "auto",
         "type": "bar",
         "x": [
          "Unknown",
          "Gateway Classic Cars",
          "East Coast Auto Source",
          "Auto Boutique",
          "Adams North Charlotte",
          "Automotive Avenues",
          "Pacific Auto Center - Fontana",
          "A Better Way Wholesale",
          "Auto Spot LLC",
          "Off Lease Only Orlando",
          "Merchants Automotive Group",
          "Sundance Chevrolet",
          "The Sharpest Rides",
          "Westgate Chrysler Jeep Dodge Ram",
          "Peterson Auto Group",
          "HGreg.com Orlando",
          "Shelor Motor Mile",
          "Impex Auto Sales",
          "Car Revolution",
          "Anchor Auto Group - Subaru Nissan"
         ],
         "xaxis": "x",
         "y": {
          "bdata": "5iBmBiAEzAKEAn0CQwIZAgUC/wHvAegB2AHSAc4BxwHFAb0BrwGtAQ==",
          "dtype": "i2"
         },
         "yaxis": "y"
        }
       ],
       "layout": {
        "barmode": "relative",
        "coloraxis": {
         "colorbar": {
          "title": {
           "text": "Avg Rating"
          }
         },
         "colorscale": [
          [
           0,
           "#440154"
          ],
          [
           0.1111111111111111,
           "#482878"
          ],
          [
           0.2222222222222222,
           "#3e4989"
          ],
          [
           0.3333333333333333,
           "#31688e"
          ],
          [
           0.4444444444444444,
           "#26828e"
          ],
          [
           0.5555555555555556,
           "#1f9e89"
          ],
          [
           0.6666666666666666,
           "#35b779"
          ],
          [
           0.7777777777777778,
           "#6ece58"
          ],
          [
           0.8888888888888888,
           "#b5de2b"
          ],
          [
           1,
           "#fde725"
          ]
         ]
        },
        "height": 700,
        "legend": {
         "tracegroupgap": 0
        },
        "showlegend": false,
        "template": {
         "data": {
          "bar": [
           {
            "error_x": {
             "color": "#2a3f5f"
            },
            "error_y": {
             "color": "#2a3f5f"
            },
            "marker": {
             "line": {
              "color": "#E5ECF6",
              "width": 0.5
             },
             "pattern": {
              "fillmode": "overlay",
              "size": 10,
              "solidity": 0.2
             }
            },
            "type": "bar"
           }
          ],
          "barpolar": [
           {
            "marker": {
             "line": {
              "color": "#E5ECF6",
              "width": 0.5
             },
             "pattern": {
              "fillmode": "overlay",
              "size": 10,
              "solidity": 0.2
             }
            },
            "type": "barpolar"
           }
          ],
          "carpet": [
           {
            "aaxis": {
             "endlinecolor": "#2a3f5f",
             "gridcolor": "white",
             "linecolor": "white",
             "minorgridcolor": "white",
             "startlinecolor": "#2a3f5f"
            },
            "baxis": {
             "endlinecolor": "#2a3f5f",
             "gridcolor": "white",
             "linecolor": "white",
             "minorgridcolor": "white",
             "startlinecolor": "#2a3f5f"
            },
            "type": "carpet"
           }
          ],
          "choropleth": [
           {
            "colorbar": {
             "outlinewidth": 0,
             "ticks": ""
            },
            "type": "choropleth"
           }
          ],
          "contour": [
           {
            "colorbar": {
             "outlinewidth": 0,
             "ticks": ""
            },
            "colorscale": [
             [
              0,
              "#0d0887"
             ],
             [
              0.1111111111111111,
              "#46039f"
             ],
             [
              0.2222222222222222,
              "#7201a8"
             ],
             [
              0.3333333333333333,
              "#9c179e"
             ],
             [
              0.4444444444444444,
              "#bd3786"
             ],
             [
              0.5555555555555556,
              "#d8576b"
             ],
             [
              0.6666666666666666,
              "#ed7953"
             ],
             [
              0.7777777777777778,
              "#fb9f3a"
             ],
             [
              0.8888888888888888,
              "#fdca26"
             ],
             [
              1,
              "#f0f921"
             ]
            ],
            "type": "contour"
           }
          ],
          "contourcarpet": [
           {
            "colorbar": {
             "outlinewidth": 0,
             "ticks": ""
            },
            "type": "contourcarpet"
           }
          ],
          "heatmap": [
           {
            "colorbar": {
             "outlinewidth": 0,
             "ticks": ""
            },
            "colorscale": [
             [
              0,
              "#0d0887"
             ],
             [
              0.1111111111111111,
              "#46039f"
             ],
             [
              0.2222222222222222,
              "#7201a8"
             ],
             [
              0.3333333333333333,
              "#9c179e"
             ],
             [
              0.4444444444444444,
              "#bd3786"
             ],
             [
              0.5555555555555556,
              "#d8576b"
             ],
             [
              0.6666666666666666,
              "#ed7953"
             ],
             [
              0.7777777777777778,
              "#fb9f3a"
             ],
             [
              0.8888888888888888,
              "#fdca26"
             ],
             [
              1,
              "#f0f921"
             ]
            ],
            "type": "heatmap"
           }
          ],
          "histogram": [
           {
            "marker": {
             "pattern": {
              "fillmode": "overlay",
              "size": 10,
              "solidity": 0.2
             }
            },
            "type": "histogram"
           }
          ],
          "histogram2d": [
           {
            "colorbar": {
             "outlinewidth": 0,
             "ticks": ""
            },
            "colorscale": [
             [
              0,
              "#0d0887"
             ],
             [
              0.1111111111111111,
              "#46039f"
             ],
             [
              0.2222222222222222,
              "#7201a8"
             ],
             [
              0.3333333333333333,
              "#9c179e"
             ],
             [
              0.4444444444444444,
              "#bd3786"
             ],
             [
              0.5555555555555556,
              "#d8576b"
             ],
             [
              0.6666666666666666,
              "#ed7953"
             ],
             [
              0.7777777777777778,
              "#fb9f3a"
             ],
             [
              0.8888888888888888,
              "#fdca26"
             ],
             [
              1,
              "#f0f921"
             ]
            ],
            "type": "histogram2d"
           }
          ],
          "histogram2dcontour": [
           {
            "colorbar": {
             "outlinewidth": 0,
             "ticks": ""
            },
            "colorscale": [
             [
              0,
              "#0d0887"
             ],
             [
              0.1111111111111111,
              "#46039f"
             ],
             [
              0.2222222222222222,
              "#7201a8"
             ],
             [
              0.3333333333333333,
              "#9c179e"
             ],
             [
              0.4444444444444444,
              "#bd3786"
             ],
             [
              0.5555555555555556,
              "#d8576b"
             ],
             [
              0.6666666666666666,
              "#ed7953"
             ],
             [
              0.7777777777777778,
              "#fb9f3a"
             ],
             [
              0.8888888888888888,
              "#fdca26"
             ],
             [
              1,
              "#f0f921"
             ]
            ],
            "type": "histogram2dcontour"
           }
          ],
          "mesh3d": [
           {
            "colorbar": {
             "outlinewidth": 0,
             "ticks": ""
            },
            "type": "mesh3d"
           }
          ],
          "parcoords": [
           {
            "line": {
             "colorbar": {
              "outlinewidth": 0,
              "ticks": ""
             }
            },
            "type": "parcoords"
           }
          ],
          "pie": [
           {
            "automargin": true,
            "type": "pie"
           }
          ],
          "scatter": [
           {
            "fillpattern": {
             "fillmode": "overlay",
             "size": 10,
             "solidity": 0.2
            },
            "type": "scatter"
           }
          ],
          "scatter3d": [
           {
            "line": {
             "colorbar": {
              "outlinewidth": 0,
              "ticks": ""
             }
            },
            "marker": {
             "colorbar": {
              "outlinewidth": 0,
              "ticks": ""
             }
            },
            "type": "scatter3d"
           }
          ],
          "scattercarpet": [
           {
            "marker": {
             "colorbar": {
              "outlinewidth": 0,
              "ticks": ""
             }
            },
            "type": "scattercarpet"
           }
          ],
          "scattergeo": [
           {
            "marker": {
             "colorbar": {
              "outlinewidth": 0,
              "ticks": ""
             }
            },
            "type": "scattergeo"
           }
          ],
          "scattergl": [
           {
            "marker": {
             "colorbar": {
              "outlinewidth": 0,
              "ticks": ""
             }
            },
            "type": "scattergl"
           }
          ],
          "scattermap": [
           {
            "marker": {
             "colorbar": {
              "outlinewidth": 0,
              "ticks": ""
             }
            },
            "type": "scattermap"
           }
          ],
          "scattermapbox": [
           {
            "marker": {
             "colorbar": {
              "outlinewidth": 0,
              "ticks": ""
             }
            },
            "type": "scattermapbox"
           }
          ],
          "scatterpolar": [
           {
            "marker": {
             "colorbar": {
              "outlinewidth": 0,
              "ticks": ""
             }
            },
            "type": "scatterpolar"
           }
          ],
          "scatterpolargl": [
           {
            "marker": {
             "colorbar": {
              "outlinewidth": 0,
              "ticks": ""
             }
            },
            "type": "scatterpolargl"
           }
          ],
          "scatterternary": [
           {
            "marker": {
             "colorbar": {
              "outlinewidth": 0,
              "ticks": ""
             }
            },
            "type": "scatterternary"
           }
          ],
          "surface": [
           {
            "colorbar": {
             "outlinewidth": 0,
             "ticks": ""
            },
            "colorscale": [
             [
              0,
              "#0d0887"
             ],
             [
              0.1111111111111111,
              "#46039f"
             ],
             [
              0.2222222222222222,
              "#7201a8"
             ],
             [
              0.3333333333333333,
              "#9c179e"
             ],
             [
              0.4444444444444444,
              "#bd3786"
             ],
             [
              0.5555555555555556,
              "#d8576b"
             ],
             [
              0.6666666666666666,
              "#ed7953"
             ],
             [
              0.7777777777777778,
              "#fb9f3a"
             ],
             [
              0.8888888888888888,
              "#fdca26"
             ],
             [
              1,
              "#f0f921"
             ]
            ],
            "type": "surface"
           }
          ],
          "table": [
           {
            "cells": {
             "fill": {
              "color": "#EBF0F8"
             },
             "line": {
              "color": "white"
             }
            },
            "header": {
             "fill": {
              "color": "#C8D4E3"
             },
             "line": {
              "color": "white"
             }
            },
            "type": "table"
           }
          ]
         },
         "layout": {
          "annotationdefaults": {
           "arrowcolor": "#2a3f5f",
           "arrowhead": 0,
           "arrowwidth": 1
          },
          "autotypenumbers": "strict",
          "coloraxis": {
           "colorbar": {
            "outlinewidth": 0,
            "ticks": ""
           }
          },
          "colorscale": {
           "diverging": [
            [
             0,
             "#8e0152"
            ],
            [
             0.1,
             "#c51b7d"
            ],
            [
             0.2,
             "#de77ae"
            ],
            [
             0.3,
             "#f1b6da"
            ],
            [
             0.4,
             "#fde0ef"
            ],
            [
             0.5,
             "#f7f7f7"
            ],
            [
             0.6,
             "#e6f5d0"
            ],
            [
             0.7,
             "#b8e186"
            ],
            [
             0.8,
             "#7fbc41"
            ],
            [
             0.9,
             "#4d9221"
            ],
            [
             1,
             "#276419"
            ]
           ],
           "sequential": [
            [
             0,
             "#0d0887"
            ],
            [
             0.1111111111111111,
             "#46039f"
            ],
            [
             0.2222222222222222,
             "#7201a8"
            ],
            [
             0.3333333333333333,
             "#9c179e"
            ],
            [
             0.4444444444444444,
             "#bd3786"
            ],
            [
             0.5555555555555556,
             "#d8576b"
            ],
            [
             0.6666666666666666,
             "#ed7953"
            ],
            [
             0.7777777777777778,
             "#fb9f3a"
            ],
            [
             0.8888888888888888,
             "#fdca26"
            ],
            [
             1,
             "#f0f921"
            ]
           ],
           "sequentialminus": [
            [
             0,
             "#0d0887"
            ],
            [
             0.1111111111111111,
             "#46039f"
            ],
            [
             0.2222222222222222,
             "#7201a8"
            ],
            [
             0.3333333333333333,
             "#9c179e"
            ],
            [
             0.4444444444444444,
             "#bd3786"
            ],
            [
             0.5555555555555556,
             "#d8576b"
            ],
            [
             0.6666666666666666,
             "#ed7953"
            ],
            [
             0.7777777777777778,
             "#fb9f3a"
            ],
            [
             0.8888888888888888,
             "#fdca26"
            ],
            [
             1,
             "#f0f921"
            ]
           ]
          },
          "colorway": [
           "#636efa",
           "#EF553B",
           "#00cc96",
           "#ab63fa",
           "#FFA15A",
           "#19d3f3",
           "#FF6692",
           "#B6E880",
           "#FF97FF",
           "#FECB52"
          ],
          "font": {
           "color": "#2a3f5f"
          },
          "geo": {
           "bgcolor": "white",
           "lakecolor": "white",
           "landcolor": "#E5ECF6",
           "showlakes": true,
           "showland": true,
           "subunitcolor": "white"
          },
          "hoverlabel": {
           "align": "left"
          },
          "hovermode": "closest",
          "mapbox": {
           "style": "light"
          },
          "paper_bgcolor": "white",
          "plot_bgcolor": "#E5ECF6",
          "polar": {
           "angularaxis": {
            "gridcolor": "white",
            "linecolor": "white",
            "ticks": ""
           },
           "bgcolor": "#E5ECF6",
           "radialaxis": {
            "gridcolor": "white",
            "linecolor": "white",
            "ticks": ""
           }
          },
          "scene": {
           "xaxis": {
            "backgroundcolor": "#E5ECF6",
            "gridcolor": "white",
            "gridwidth": 2,
            "linecolor": "white",
            "showbackground": true,
            "ticks": "",
            "zerolinecolor": "white"
           },
           "yaxis": {
            "backgroundcolor": "#E5ECF6",
            "gridcolor": "white",
            "gridwidth": 2,
            "linecolor": "white",
            "showbackground": true,
            "ticks": "",
            "zerolinecolor": "white"
           },
           "zaxis": {
            "backgroundcolor": "#E5ECF6",
            "gridcolor": "white",
            "gridwidth": 2,
            "linecolor": "white",
            "showbackground": true,
            "ticks": "",
            "zerolinecolor": "white"
           }
          },
          "shapedefaults": {
           "line": {
            "color": "#2a3f5f"
           }
          },
          "ternary": {
           "aaxis": {
            "gridcolor": "white",
            "linecolor": "white",
            "ticks": ""
           },
           "baxis": {
            "gridcolor": "white",
            "linecolor": "white",
            "ticks": ""
           },
           "bgcolor": "#E5ECF6",
           "caxis": {
            "gridcolor": "white",
            "linecolor": "white",
            "ticks": ""
           }
          },
          "title": {
           "x": 0.05
          },
          "xaxis": {
           "automargin": true,
           "gridcolor": "white",
           "linecolor": "white",
           "ticks": "",
           "title": {
            "standoff": 15
           },
           "zerolinecolor": "white",
           "zerolinewidth": 2
          },
          "yaxis": {
           "automargin": true,
           "gridcolor": "white",
           "linecolor": "white",
           "ticks": "",
           "title": {
            "standoff": 15
           },
           "zerolinecolor": "white",
           "zerolinewidth": 2
          }
         }
        },
        "title": {
         "text": "Top 10 Sellers by Number of Cars Listed with Average Seller Rating"
        },
        "width": 1500,
        "xaxis": {
         "anchor": "y",
         "domain": [
          0,
          1
         ],
         "title": {
          "text": "Seller"
         }
        },
        "yaxis": {
         "anchor": "x",
         "domain": [
          0,
          1
         ],
         "title": {
          "text": "Number of Cars Listed"
         }
        }
       }
      }
     },
     "metadata": {},
     "output_type": "display_data"
    }
   ],
   "source": [
    "total_listings = data['seller_name'].value_counts()\n",
    "\n",
    "average_ratings = (data[data['seller_rating'].notnull()].groupby('seller_name').agg({'seller_rating': 'mean'}))\n",
    "\n",
    "combined = pd.DataFrame({'total_listings': total_listings}).join(average_ratings)\n",
    "\n",
    "combined['seller_rating'] = combined['seller_rating'].round(2)\n",
    "\n",
    "combined_sorted = combined.sort_values(by='total_listings', ascending=False)\n",
    "\n",
    "\n",
    "top_seller = combined_sorted.head(20).reset_index()\n",
    "\n",
    "fig = px.bar(\n",
    "    top_seller,\n",
    "    x='seller_name',\n",
    "    y='total_listings',\n",
    "    color='seller_rating',\n",
    "    color_continuous_scale='Viridis',\n",
    "    labels={'seller_name': 'Seller', 'total_listings': 'Number of Cars Listed', 'seller_rating': 'Average Rating'},\n",
    "    title='Top 10 Sellers by Number of Cars Listed with Average Seller Rating',\n",
    ")\n",
    "fig.update_layout(\n",
    "    height = 700,\n",
    "    width = 1500,\n",
    "    showlegend = False\n",
    ")\n",
    "fig.update_layout(coloraxis_colorbar=dict(title=\"Avg Rating\"))\n",
    "\n",
    "fig.show()\n"
   ]
  },
  {
   "cell_type": "code",
   "execution_count": null,
   "id": "9cd30717-ee32-4558-9258-6c43d1a006c9",
   "metadata": {},
   "outputs": [],
   "source": []
  },
  {
   "cell_type": "code",
   "execution_count": null,
   "id": "7fcf4bf8-2e36-4b6e-8b7b-1c1fb0995d62",
   "metadata": {},
   "outputs": [],
   "source": [
    "Dodge_data = data[data['manufacturer'] == 'Dodge']"
   ]
  },
  {
   "cell_type": "code",
   "execution_count": null,
   "id": "527982c9-47ab-484d-817a-0916208514d3",
   "metadata": {},
   "outputs": [
    {
     "data": {
      "text/plain": [
       "165030              Aspen\n",
       "165031         Caravan SE\n",
       "165032        Caravan SXT\n",
       "165033      Caravan Cargo\n",
       "165034         Caravan SE\n",
       "               ...       \n",
       "190275    Durango GT Plus\n",
       "190276        Durango R/T\n",
       "190277    Durango Limited\n",
       "190278        Durango SXT\n",
       "190279         Durango GT\n",
       "Name: model, Length: 25250, dtype: object"
      ]
     },
     "execution_count": 164,
     "metadata": {},
     "output_type": "execute_result"
    }
   ],
   "source": [
    "Dodge_data['model']"
   ]
  },
  {
   "cell_type": "code",
   "execution_count": null,
   "id": "f00c7e32-c47f-4811-9847-c571835d1867",
   "metadata": {},
   "outputs": [
    {
     "data": {
      "text/plain": [
       "manufacturer           5883\n",
       "model                  5883\n",
       "year                   5883\n",
       "mileage                5883\n",
       "engine                 5847\n",
       "transmission           5883\n",
       "drivetrain             5883\n",
       "fuel_type              5873\n",
       "mpg                       0\n",
       "accidents_or_damage    5359\n",
       "one_owner              5347\n",
       "personal_use_only      5359\n",
       "seller_rating          4206\n",
       "driver_rating          5517\n",
       "driver_reviews_num     5883\n",
       "price_drop             3463\n",
       "price                  5883\n",
       "price_drop_pct         3463\n",
       "dtype: int64"
      ]
     },
     "execution_count": 109,
     "metadata": {},
     "output_type": "execute_result"
    }
   ],
   "source": [
    "tesla_data = data[data['manufacturer'] == 'Tesla']\n",
    "tesla_data.count()"
   ]
  },
  {
   "cell_type": "code",
   "execution_count": null,
   "id": "e5f928d1-693e-4aa5-bf4a-c313942f26c7",
   "metadata": {},
   "outputs": [
    {
     "data": {
      "text/html": [
       "<div>\n",
       "<style scoped>\n",
       "    .dataframe tbody tr th:only-of-type {\n",
       "        vertical-align: middle;\n",
       "    }\n",
       "\n",
       "    .dataframe tbody tr th {\n",
       "        vertical-align: top;\n",
       "    }\n",
       "\n",
       "    .dataframe thead th {\n",
       "        text-align: right;\n",
       "    }\n",
       "</style>\n",
       "<table border=\"1\" class=\"dataframe\">\n",
       "  <thead>\n",
       "    <tr style=\"text-align: right;\">\n",
       "      <th></th>\n",
       "      <th>manufacturer</th>\n",
       "      <th>model</th>\n",
       "      <th>year</th>\n",
       "      <th>mileage</th>\n",
       "      <th>engine</th>\n",
       "      <th>transmission</th>\n",
       "      <th>drivetrain</th>\n",
       "      <th>fuel_type</th>\n",
       "      <th>mpg</th>\n",
       "      <th>accidents_or_damage</th>\n",
       "      <th>one_owner</th>\n",
       "      <th>personal_use_only</th>\n",
       "      <th>seller_name</th>\n",
       "      <th>seller_rating</th>\n",
       "      <th>driver_rating</th>\n",
       "      <th>driver_reviews_num</th>\n",
       "      <th>price_drop</th>\n",
       "      <th>price</th>\n",
       "      <th>age</th>\n",
       "      <th>top_sellers</th>\n",
       "    </tr>\n",
       "  </thead>\n",
       "  <tbody>\n",
       "    <tr>\n",
       "      <th>11288</th>\n",
       "      <td>Audi</td>\n",
       "      <td>Q7 3.0T Premium</td>\n",
       "      <td>2017</td>\n",
       "      <td>97123.0</td>\n",
       "      <td>V6 Cylinder Engine</td>\n",
       "      <td>8spd automatic</td>\n",
       "      <td>AWD</td>\n",
       "      <td>Gasoline</td>\n",
       "      <td>22.0</td>\n",
       "      <td>1.0</td>\n",
       "      <td>0.0</td>\n",
       "      <td>1.0</td>\n",
       "      <td>Gateway Classic Cars</td>\n",
       "      <td>NaN</td>\n",
       "      <td>4.7</td>\n",
       "      <td>72.0</td>\n",
       "      <td>4000.0</td>\n",
       "      <td>42000.0</td>\n",
       "      <td>7</td>\n",
       "      <td>NaN</td>\n",
       "    </tr>\n",
       "    <tr>\n",
       "      <th>17208</th>\n",
       "      <td>Audi</td>\n",
       "      <td>TT 2.0T</td>\n",
       "      <td>2014</td>\n",
       "      <td>60209.0</td>\n",
       "      <td>2L I-4 gasoline direct injection, DOHC, variab...</td>\n",
       "      <td>Automatic</td>\n",
       "      <td>AWD</td>\n",
       "      <td>Gasoline</td>\n",
       "      <td>26.5</td>\n",
       "      <td>0.0</td>\n",
       "      <td>0.0</td>\n",
       "      <td>1.0</td>\n",
       "      <td>Gateway Classic Cars</td>\n",
       "      <td>NaN</td>\n",
       "      <td>4.1</td>\n",
       "      <td>6.0</td>\n",
       "      <td>6000.0</td>\n",
       "      <td>35000.0</td>\n",
       "      <td>10</td>\n",
       "      <td>NaN</td>\n",
       "    </tr>\n",
       "    <tr>\n",
       "      <th>22985</th>\n",
       "      <td>Audi</td>\n",
       "      <td>S6 5.2 Prestige</td>\n",
       "      <td>2011</td>\n",
       "      <td>33380.0</td>\n",
       "      <td>5.2L V-10 gasoline direct injection, DOHC, var...</td>\n",
       "      <td>Automatic</td>\n",
       "      <td>AWD</td>\n",
       "      <td>Gasoline</td>\n",
       "      <td>16.5</td>\n",
       "      <td>0.0</td>\n",
       "      <td>0.0</td>\n",
       "      <td>1.0</td>\n",
       "      <td>Gateway Classic Cars</td>\n",
       "      <td>NaN</td>\n",
       "      <td>5.0</td>\n",
       "      <td>1.0</td>\n",
       "      <td>1000.0</td>\n",
       "      <td>35000.0</td>\n",
       "      <td>13</td>\n",
       "      <td>NaN</td>\n",
       "    </tr>\n",
       "    <tr>\n",
       "      <th>27022</th>\n",
       "      <td>BMW</td>\n",
       "      <td>650 650Ci</td>\n",
       "      <td>2006</td>\n",
       "      <td>69104.0</td>\n",
       "      <td>4.8L V-8 DOHC, Double VANOS variable valve con...</td>\n",
       "      <td>6 Speed Automatic</td>\n",
       "      <td>RWD</td>\n",
       "      <td>Gasoline</td>\n",
       "      <td>18.0</td>\n",
       "      <td>0.0</td>\n",
       "      <td>0.0</td>\n",
       "      <td>0.0</td>\n",
       "      <td>Gateway Classic Cars</td>\n",
       "      <td>NaN</td>\n",
       "      <td>4.7</td>\n",
       "      <td>19.0</td>\n",
       "      <td>NaN</td>\n",
       "      <td>14500.0</td>\n",
       "      <td>18</td>\n",
       "      <td>NaN</td>\n",
       "    </tr>\n",
       "    <tr>\n",
       "      <th>28226</th>\n",
       "      <td>BMW</td>\n",
       "      <td>M6 Base</td>\n",
       "      <td>1988</td>\n",
       "      <td>89091.0</td>\n",
       "      <td>3.5L F DOHC I6</td>\n",
       "      <td>5 Speed Manual</td>\n",
       "      <td>Unknown</td>\n",
       "      <td>NaN</td>\n",
       "      <td>NaN</td>\n",
       "      <td>0.0</td>\n",
       "      <td>0.0</td>\n",
       "      <td>1.0</td>\n",
       "      <td>Gateway Classic Cars</td>\n",
       "      <td>NaN</td>\n",
       "      <td>NaN</td>\n",
       "      <td>0.0</td>\n",
       "      <td>6000.0</td>\n",
       "      <td>70000.0</td>\n",
       "      <td>36</td>\n",
       "      <td>NaN</td>\n",
       "    </tr>\n",
       "    <tr>\n",
       "      <th>...</th>\n",
       "      <td>...</td>\n",
       "      <td>...</td>\n",
       "      <td>...</td>\n",
       "      <td>...</td>\n",
       "      <td>...</td>\n",
       "      <td>...</td>\n",
       "      <td>...</td>\n",
       "      <td>...</td>\n",
       "      <td>...</td>\n",
       "      <td>...</td>\n",
       "      <td>...</td>\n",
       "      <td>...</td>\n",
       "      <td>...</td>\n",
       "      <td>...</td>\n",
       "      <td>...</td>\n",
       "      <td>...</td>\n",
       "      <td>...</td>\n",
       "      <td>...</td>\n",
       "      <td>...</td>\n",
       "      <td>...</td>\n",
       "    </tr>\n",
       "    <tr>\n",
       "      <th>741540</th>\n",
       "      <td>Volkswagen</td>\n",
       "      <td>Karmann Ghia</td>\n",
       "      <td>1971</td>\n",
       "      <td>81097.0</td>\n",
       "      <td>4 Cyl  1600 cc</td>\n",
       "      <td>4-speed Manual</td>\n",
       "      <td>Unknown</td>\n",
       "      <td>NaN</td>\n",
       "      <td>NaN</td>\n",
       "      <td>0.0</td>\n",
       "      <td>NaN</td>\n",
       "      <td>1.0</td>\n",
       "      <td>Gateway Classic Cars</td>\n",
       "      <td>NaN</td>\n",
       "      <td>4.4</td>\n",
       "      <td>3.0</td>\n",
       "      <td>NaN</td>\n",
       "      <td>33000.0</td>\n",
       "      <td>53</td>\n",
       "      <td>NaN</td>\n",
       "    </tr>\n",
       "    <tr>\n",
       "      <th>741542</th>\n",
       "      <td>Volkswagen</td>\n",
       "      <td>Karmann Ghia</td>\n",
       "      <td>1971</td>\n",
       "      <td>29000.0</td>\n",
       "      <td>Electric</td>\n",
       "      <td>4-Spd Manual</td>\n",
       "      <td>Unknown</td>\n",
       "      <td>NaN</td>\n",
       "      <td>NaN</td>\n",
       "      <td>0.0</td>\n",
       "      <td>NaN</td>\n",
       "      <td>1.0</td>\n",
       "      <td>Gateway Classic Cars</td>\n",
       "      <td>NaN</td>\n",
       "      <td>4.4</td>\n",
       "      <td>3.0</td>\n",
       "      <td>1000.0</td>\n",
       "      <td>62000.0</td>\n",
       "      <td>53</td>\n",
       "      <td>NaN</td>\n",
       "    </tr>\n",
       "    <tr>\n",
       "      <th>755336</th>\n",
       "      <td>Volvo</td>\n",
       "      <td>240 DL</td>\n",
       "      <td>1988</td>\n",
       "      <td>120321.0</td>\n",
       "      <td>I-4 B-23</td>\n",
       "      <td>4 Speed Automatic</td>\n",
       "      <td>Unknown</td>\n",
       "      <td>NaN</td>\n",
       "      <td>NaN</td>\n",
       "      <td>NaN</td>\n",
       "      <td>NaN</td>\n",
       "      <td>NaN</td>\n",
       "      <td>Gateway Classic Cars</td>\n",
       "      <td>NaN</td>\n",
       "      <td>4.6</td>\n",
       "      <td>1.0</td>\n",
       "      <td>NaN</td>\n",
       "      <td>11500.0</td>\n",
       "      <td>36</td>\n",
       "      <td>NaN</td>\n",
       "    </tr>\n",
       "    <tr>\n",
       "      <th>755337</th>\n",
       "      <td>Volvo</td>\n",
       "      <td>240</td>\n",
       "      <td>1992</td>\n",
       "      <td>138802.0</td>\n",
       "      <td>2.3L I-4 engine with 114HP</td>\n",
       "      <td>Automatic</td>\n",
       "      <td>Unknown</td>\n",
       "      <td>Gasoline</td>\n",
       "      <td>24.5</td>\n",
       "      <td>0.0</td>\n",
       "      <td>0.0</td>\n",
       "      <td>1.0</td>\n",
       "      <td>Gateway Classic Cars</td>\n",
       "      <td>NaN</td>\n",
       "      <td>4.4</td>\n",
       "      <td>4.0</td>\n",
       "      <td>5000.0</td>\n",
       "      <td>16500.0</td>\n",
       "      <td>32</td>\n",
       "      <td>NaN</td>\n",
       "    </tr>\n",
       "    <tr>\n",
       "      <th>759950</th>\n",
       "      <td>Volvo</td>\n",
       "      <td>740 GLE</td>\n",
       "      <td>1990</td>\n",
       "      <td>1177.0</td>\n",
       "      <td>4 Cylinder Engine</td>\n",
       "      <td>700R4 Automatic</td>\n",
       "      <td>Unknown</td>\n",
       "      <td>Gasoline</td>\n",
       "      <td>NaN</td>\n",
       "      <td>1.0</td>\n",
       "      <td>0.0</td>\n",
       "      <td>1.0</td>\n",
       "      <td>Gateway Classic Cars</td>\n",
       "      <td>NaN</td>\n",
       "      <td>3.9</td>\n",
       "      <td>4.0</td>\n",
       "      <td>NaN</td>\n",
       "      <td>22000.0</td>\n",
       "      <td>34</td>\n",
       "      <td>NaN</td>\n",
       "    </tr>\n",
       "  </tbody>\n",
       "</table>\n",
       "<p>1638 rows × 20 columns</p>\n",
       "</div>"
      ],
      "text/plain": [
       "       manufacturer            model  year   mileage  \\\n",
       "11288          Audi  Q7 3.0T Premium  2017   97123.0   \n",
       "17208          Audi          TT 2.0T  2014   60209.0   \n",
       "22985          Audi  S6 5.2 Prestige  2011   33380.0   \n",
       "27022           BMW        650 650Ci  2006   69104.0   \n",
       "28226           BMW          M6 Base  1988   89091.0   \n",
       "...             ...              ...   ...       ...   \n",
       "741540   Volkswagen     Karmann Ghia  1971   81097.0   \n",
       "741542   Volkswagen     Karmann Ghia  1971   29000.0   \n",
       "755336        Volvo           240 DL  1988  120321.0   \n",
       "755337        Volvo              240  1992  138802.0   \n",
       "759950        Volvo          740 GLE  1990    1177.0   \n",
       "\n",
       "                                                   engine       transmission  \\\n",
       "11288                                  V6 Cylinder Engine     8spd automatic   \n",
       "17208   2L I-4 gasoline direct injection, DOHC, variab...          Automatic   \n",
       "22985   5.2L V-10 gasoline direct injection, DOHC, var...          Automatic   \n",
       "27022   4.8L V-8 DOHC, Double VANOS variable valve con...  6 Speed Automatic   \n",
       "28226                                      3.5L F DOHC I6     5 Speed Manual   \n",
       "...                                                   ...                ...   \n",
       "741540                                     4 Cyl  1600 cc     4-speed Manual   \n",
       "741542                                           Electric       4-Spd Manual   \n",
       "755336                                           I-4 B-23  4 Speed Automatic   \n",
       "755337                         2.3L I-4 engine with 114HP          Automatic   \n",
       "759950                                  4 Cylinder Engine    700R4 Automatic   \n",
       "\n",
       "       drivetrain fuel_type   mpg  accidents_or_damage  one_owner  \\\n",
       "11288         AWD  Gasoline  22.0                  1.0        0.0   \n",
       "17208         AWD  Gasoline  26.5                  0.0        0.0   \n",
       "22985         AWD  Gasoline  16.5                  0.0        0.0   \n",
       "27022         RWD  Gasoline  18.0                  0.0        0.0   \n",
       "28226     Unknown       NaN   NaN                  0.0        0.0   \n",
       "...           ...       ...   ...                  ...        ...   \n",
       "741540    Unknown       NaN   NaN                  0.0        NaN   \n",
       "741542    Unknown       NaN   NaN                  0.0        NaN   \n",
       "755336    Unknown       NaN   NaN                  NaN        NaN   \n",
       "755337    Unknown  Gasoline  24.5                  0.0        0.0   \n",
       "759950    Unknown  Gasoline   NaN                  1.0        0.0   \n",
       "\n",
       "        personal_use_only           seller_name  seller_rating  driver_rating  \\\n",
       "11288                 1.0  Gateway Classic Cars            NaN            4.7   \n",
       "17208                 1.0  Gateway Classic Cars            NaN            4.1   \n",
       "22985                 1.0  Gateway Classic Cars            NaN            5.0   \n",
       "27022                 0.0  Gateway Classic Cars            NaN            4.7   \n",
       "28226                 1.0  Gateway Classic Cars            NaN            NaN   \n",
       "...                   ...                   ...            ...            ...   \n",
       "741540                1.0  Gateway Classic Cars            NaN            4.4   \n",
       "741542                1.0  Gateway Classic Cars            NaN            4.4   \n",
       "755336                NaN  Gateway Classic Cars            NaN            4.6   \n",
       "755337                1.0  Gateway Classic Cars            NaN            4.4   \n",
       "759950                1.0  Gateway Classic Cars            NaN            3.9   \n",
       "\n",
       "        driver_reviews_num  price_drop    price  age  top_sellers  \n",
       "11288                 72.0      4000.0  42000.0    7          NaN  \n",
       "17208                  6.0      6000.0  35000.0   10          NaN  \n",
       "22985                  1.0      1000.0  35000.0   13          NaN  \n",
       "27022                 19.0         NaN  14500.0   18          NaN  \n",
       "28226                  0.0      6000.0  70000.0   36          NaN  \n",
       "...                    ...         ...      ...  ...          ...  \n",
       "741540                 3.0         NaN  33000.0   53          NaN  \n",
       "741542                 3.0      1000.0  62000.0   53          NaN  \n",
       "755336                 1.0         NaN  11500.0   36          NaN  \n",
       "755337                 4.0      5000.0  16500.0   32          NaN  \n",
       "759950                 4.0         NaN  22000.0   34          NaN  \n",
       "\n",
       "[1638 rows x 20 columns]"
      ]
     },
     "execution_count": 342,
     "metadata": {},
     "output_type": "execute_result"
    }
   ],
   "source": [
    "Gateway_Classic_Cars_data = data[data['seller_name']=='Gateway Classic Cars']\n",
    "Gateway_Classic_Cars_data"
   ]
  },
  {
   "cell_type": "code",
   "execution_count": null,
   "id": "52be9c5b-793a-4ded-bbb9-d7c8bf97a895",
   "metadata": {},
   "outputs": [],
   "source": []
  },
  {
   "cell_type": "code",
   "execution_count": null,
   "id": "db9a8f8c-6445-42a3-bc3c-bd8a09a61b69",
   "metadata": {},
   "outputs": [],
   "source": []
  },
  {
   "cell_type": "code",
   "execution_count": null,
   "id": "1e571159-4f65-4435-a3e3-f5653a5c7649",
   "metadata": {},
   "outputs": [],
   "source": []
  },
  {
   "cell_type": "code",
   "execution_count": null,
   "id": "783fd20b-c0d3-4f0e-b52a-f0235cf36a22",
   "metadata": {},
   "outputs": [],
   "source": []
  },
  {
   "cell_type": "code",
   "execution_count": null,
   "id": "d7849c32-016b-4b39-b417-d432b0ca35a5",
   "metadata": {},
   "outputs": [],
   "source": []
  },
  {
   "cell_type": "code",
   "execution_count": null,
   "id": "61a9aba4-25d4-4d79-9256-359063391043",
   "metadata": {},
   "outputs": [],
   "source": []
  },
  {
   "cell_type": "code",
   "execution_count": null,
   "id": "95ef0fc5-06bd-4d49-b39b-7510f53fc0bf",
   "metadata": {},
   "outputs": [],
   "source": []
  },
  {
   "cell_type": "code",
   "execution_count": null,
   "id": "eccab354-1af9-47df-923b-7c831b495474",
   "metadata": {},
   "outputs": [],
   "source": []
  },
  {
   "cell_type": "code",
   "execution_count": null,
   "id": "50850947-ac05-499f-bf8e-3b7cd1fb04d1",
   "metadata": {},
   "outputs": [],
   "source": []
  },
  {
   "cell_type": "code",
   "execution_count": null,
   "id": "1e5abea4-8da2-433a-8011-b00b6794c937",
   "metadata": {},
   "outputs": [],
   "source": []
  },
  {
   "cell_type": "code",
   "execution_count": null,
   "id": "07bef809-292a-4a90-9bea-b64a5377afc1",
   "metadata": {},
   "outputs": [],
   "source": []
  },
  {
   "cell_type": "code",
   "execution_count": null,
   "id": "0a334af6-435a-4c92-9b2b-8890b61df5f7",
   "metadata": {},
   "outputs": [],
   "source": []
  },
  {
   "cell_type": "code",
   "execution_count": null,
   "id": "03b8b672-46ab-4ef2-8249-0d4ddb92df09",
   "metadata": {},
   "outputs": [],
   "source": []
  },
  {
   "cell_type": "code",
   "execution_count": null,
   "id": "2de9dc49-e242-48a3-8649-d802ef5b8449",
   "metadata": {},
   "outputs": [],
   "source": []
  },
  {
   "cell_type": "code",
   "execution_count": null,
   "id": "6f5bdbc3-dc64-4c97-acda-fee23daef6c4",
   "metadata": {},
   "outputs": [],
   "source": []
  },
  {
   "cell_type": "code",
   "execution_count": null,
   "id": "587f2bcb-e3c0-4759-8cf9-20b1c962fe5f",
   "metadata": {},
   "outputs": [],
   "source": []
  },
  {
   "cell_type": "code",
   "execution_count": null,
   "id": "09da6818-7ad0-45fc-ab56-cada9deaff2f",
   "metadata": {},
   "outputs": [],
   "source": []
  },
  {
   "cell_type": "code",
   "execution_count": null,
   "id": "8bb091b3-f4d0-46b9-afa8-90c99670eaa7",
   "metadata": {},
   "outputs": [],
   "source": []
  }
 ],
 "metadata": {
  "kernelspec": {
   "display_name": "env",
   "language": "python",
   "name": "python3"
  },
  "language_info": {
   "codemirror_mode": {
    "name": "ipython",
    "version": 3
   },
   "file_extension": ".py",
   "mimetype": "text/x-python",
   "name": "python",
   "nbconvert_exporter": "python",
   "pygments_lexer": "ipython3",
   "version": "3.13.5"
  }
 },
 "nbformat": 4,
 "nbformat_minor": 5
}
