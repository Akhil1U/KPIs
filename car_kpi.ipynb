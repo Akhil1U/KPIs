{
 "cells": [
  {
   "cell_type": "code",
   "execution_count": 2,
   "id": "5578debc-7abe-40be-9373-10f0a0449549",
   "metadata": {},
   "outputs": [],
   "source": [
    "# dataset source:   https://www.kaggle.com/datasets/andreinovikov/used-cars-dataset"
   ]
  },
  {
   "cell_type": "markdown",
   "id": "9d01ec2b-745c-4bab-b015-fd38bc9d35a4",
   "metadata": {},
   "source": [
    "<div style=\"text-align: center;background-color:#f0e9d5; padding:10px; border-left: 5px solid #4CAF50; font-family: Trebuchet MS; font-size: 20px; color: #333;\">\n",
    "  LOAD LIBRARY & DATASET\n",
    "</div>\n"
   ]
  },
  {
   "cell_type": "code",
   "execution_count": 676,
   "id": "4b735bb2-56c5-41ec-a179-b8a9655f4062",
   "metadata": {},
   "outputs": [],
   "source": [
    "\n",
    "import pandas as pd\n",
    "import plotly.express as px\n",
    "import plotly.graph_objects as go\n",
    "import numpy as np\n",
    "from scipy.stats import gaussian_kde"
   ]
  },
  {
   "cell_type": "code",
   "execution_count": 677,
   "id": "fb89b60d-09b2-4b0f-918c-014df8a5d6d2",
   "metadata": {},
   "outputs": [],
   "source": [
    "data = pd.read_csv(\"../datasets/cars.csv\")"
   ]
  },
  {
   "cell_type": "code",
   "execution_count": 678,
   "id": "40491960-ae69-4751-957b-b1d3c55a3fe3",
   "metadata": {},
   "outputs": [
    {
     "data": {
      "text/plain": [
       "(762091, 20)"
      ]
     },
     "execution_count": 678,
     "metadata": {},
     "output_type": "execute_result"
    }
   ],
   "source": [
    "data.shape"
   ]
  },
  {
   "cell_type": "code",
   "execution_count": 679,
   "id": "b76fb103-4a56-4167-9eb8-fc6a7e032638",
   "metadata": {},
   "outputs": [
    {
     "data": {
      "text/html": [
       "<div>\n",
       "<style scoped>\n",
       "    .dataframe tbody tr th:only-of-type {\n",
       "        vertical-align: middle;\n",
       "    }\n",
       "\n",
       "    .dataframe tbody tr th {\n",
       "        vertical-align: top;\n",
       "    }\n",
       "\n",
       "    .dataframe thead th {\n",
       "        text-align: right;\n",
       "    }\n",
       "</style>\n",
       "<table border=\"1\" class=\"dataframe\">\n",
       "  <thead>\n",
       "    <tr style=\"text-align: right;\">\n",
       "      <th></th>\n",
       "      <th>Column</th>\n",
       "      <th>Unique Values</th>\n",
       "      <th>null values</th>\n",
       "    </tr>\n",
       "  </thead>\n",
       "  <tbody>\n",
       "    <tr>\n",
       "      <th>0</th>\n",
       "      <td>manufacturer</td>\n",
       "      <td>30</td>\n",
       "      <td>0</td>\n",
       "    </tr>\n",
       "    <tr>\n",
       "      <th>1</th>\n",
       "      <td>model</td>\n",
       "      <td>12187</td>\n",
       "      <td>0</td>\n",
       "    </tr>\n",
       "    <tr>\n",
       "      <th>2</th>\n",
       "      <td>year</td>\n",
       "      <td>100</td>\n",
       "      <td>0</td>\n",
       "    </tr>\n",
       "    <tr>\n",
       "      <th>3</th>\n",
       "      <td>mileage</td>\n",
       "      <td>158751</td>\n",
       "      <td>506</td>\n",
       "    </tr>\n",
       "    <tr>\n",
       "      <th>4</th>\n",
       "      <td>engine</td>\n",
       "      <td>6903</td>\n",
       "      <td>15050</td>\n",
       "    </tr>\n",
       "    <tr>\n",
       "      <th>5</th>\n",
       "      <td>transmission</td>\n",
       "      <td>1313</td>\n",
       "      <td>9904</td>\n",
       "    </tr>\n",
       "    <tr>\n",
       "      <th>6</th>\n",
       "      <td>drivetrain</td>\n",
       "      <td>33</td>\n",
       "      <td>21562</td>\n",
       "    </tr>\n",
       "    <tr>\n",
       "      <th>7</th>\n",
       "      <td>fuel_type</td>\n",
       "      <td>36</td>\n",
       "      <td>22927</td>\n",
       "    </tr>\n",
       "    <tr>\n",
       "      <th>8</th>\n",
       "      <td>mpg</td>\n",
       "      <td>865</td>\n",
       "      <td>142071</td>\n",
       "    </tr>\n",
       "    <tr>\n",
       "      <th>9</th>\n",
       "      <td>exterior_color</td>\n",
       "      <td>7681</td>\n",
       "      <td>8859</td>\n",
       "    </tr>\n",
       "    <tr>\n",
       "      <th>10</th>\n",
       "      <td>interior_color</td>\n",
       "      <td>4679</td>\n",
       "      <td>56975</td>\n",
       "    </tr>\n",
       "    <tr>\n",
       "      <th>11</th>\n",
       "      <td>accidents_or_damage</td>\n",
       "      <td>2</td>\n",
       "      <td>24212</td>\n",
       "    </tr>\n",
       "    <tr>\n",
       "      <th>12</th>\n",
       "      <td>one_owner</td>\n",
       "      <td>2</td>\n",
       "      <td>31483</td>\n",
       "    </tr>\n",
       "    <tr>\n",
       "      <th>13</th>\n",
       "      <td>personal_use_only</td>\n",
       "      <td>2</td>\n",
       "      <td>24852</td>\n",
       "    </tr>\n",
       "    <tr>\n",
       "      <th>14</th>\n",
       "      <td>seller_name</td>\n",
       "      <td>18254</td>\n",
       "      <td>8593</td>\n",
       "    </tr>\n",
       "    <tr>\n",
       "      <th>15</th>\n",
       "      <td>seller_rating</td>\n",
       "      <td>41</td>\n",
       "      <td>213973</td>\n",
       "    </tr>\n",
       "    <tr>\n",
       "      <th>16</th>\n",
       "      <td>driver_rating</td>\n",
       "      <td>35</td>\n",
       "      <td>31632</td>\n",
       "    </tr>\n",
       "    <tr>\n",
       "      <th>17</th>\n",
       "      <td>driver_reviews_num</td>\n",
       "      <td>369</td>\n",
       "      <td>0</td>\n",
       "    </tr>\n",
       "    <tr>\n",
       "      <th>18</th>\n",
       "      <td>price_drop</td>\n",
       "      <td>6404</td>\n",
       "      <td>351979</td>\n",
       "    </tr>\n",
       "    <tr>\n",
       "      <th>19</th>\n",
       "      <td>price</td>\n",
       "      <td>63464</td>\n",
       "      <td>0</td>\n",
       "    </tr>\n",
       "  </tbody>\n",
       "</table>\n",
       "</div>"
      ],
      "text/plain": [
       "                 Column  Unique Values  null values\n",
       "0          manufacturer             30            0\n",
       "1                 model          12187            0\n",
       "2                  year            100            0\n",
       "3               mileage         158751          506\n",
       "4                engine           6903        15050\n",
       "5          transmission           1313         9904\n",
       "6            drivetrain             33        21562\n",
       "7             fuel_type             36        22927\n",
       "8                   mpg            865       142071\n",
       "9        exterior_color           7681         8859\n",
       "10       interior_color           4679        56975\n",
       "11  accidents_or_damage              2        24212\n",
       "12            one_owner              2        31483\n",
       "13    personal_use_only              2        24852\n",
       "14          seller_name          18254         8593\n",
       "15        seller_rating             41       213973\n",
       "16        driver_rating             35        31632\n",
       "17   driver_reviews_num            369            0\n",
       "18           price_drop           6404       351979\n",
       "19                price          63464            0"
      ]
     },
     "metadata": {},
     "output_type": "display_data"
    }
   ],
   "source": [
    "# from IPython.display import display\n",
    "\n",
    "def columns_info(data):\n",
    "    \"\"\"\n",
    "    Display a table showing the number of unique values for each column in the DataFrame.\n",
    "    \"\"\"\n",
    "    unique_counts = {\n",
    "        \"Column\": data.columns,\n",
    "        \"Unique Values\": [data[col].nunique() for col in data.columns],\n",
    "        'null values': [data[col].isna().sum() for col in data.columns]\n",
    "    }\n",
    "    \n",
    "    result_df = pd.DataFrame(unique_counts)\n",
    "    display(result_df)\n",
    "columns_info(data)"
   ]
  },
  {
   "cell_type": "code",
   "execution_count": 680,
   "id": "1aaeea80-998b-4173-84e2-92038864ba6a",
   "metadata": {},
   "outputs": [
    {
     "name": "stdout",
     "output_type": "stream",
     "text": [
      "<class 'pandas.core.frame.DataFrame'>\n",
      "RangeIndex: 762091 entries, 0 to 762090\n",
      "Data columns (total 20 columns):\n",
      " #   Column               Non-Null Count   Dtype  \n",
      "---  ------               --------------   -----  \n",
      " 0   manufacturer         762091 non-null  object \n",
      " 1   model                762091 non-null  object \n",
      " 2   year                 762091 non-null  int64  \n",
      " 3   mileage              761585 non-null  float64\n",
      " 4   engine               747041 non-null  object \n",
      " 5   transmission         752187 non-null  object \n",
      " 6   drivetrain           740529 non-null  object \n",
      " 7   fuel_type            739164 non-null  object \n",
      " 8   mpg                  620020 non-null  object \n",
      " 9   exterior_color       753232 non-null  object \n",
      " 10  interior_color       705116 non-null  object \n",
      " 11  accidents_or_damage  737879 non-null  float64\n",
      " 12  one_owner            730608 non-null  float64\n",
      " 13  personal_use_only    737239 non-null  float64\n",
      " 14  seller_name          753498 non-null  object \n",
      " 15  seller_rating        548118 non-null  float64\n",
      " 16  driver_rating        730459 non-null  float64\n",
      " 17  driver_reviews_num   762091 non-null  float64\n",
      " 18  price_drop           410112 non-null  float64\n",
      " 19  price                762091 non-null  float64\n",
      "dtypes: float64(9), int64(1), object(10)\n",
      "memory usage: 116.3+ MB\n"
     ]
    }
   ],
   "source": [
    "data.info()"
   ]
  },
  {
   "cell_type": "code",
   "execution_count": 681,
   "id": "20419638-b5ab-417c-bd1c-5489d065f358",
   "metadata": {},
   "outputs": [
    {
     "data": {
      "text/html": [
       "<div>\n",
       "<style scoped>\n",
       "    .dataframe tbody tr th:only-of-type {\n",
       "        vertical-align: middle;\n",
       "    }\n",
       "\n",
       "    .dataframe tbody tr th {\n",
       "        vertical-align: top;\n",
       "    }\n",
       "\n",
       "    .dataframe thead th {\n",
       "        text-align: right;\n",
       "    }\n",
       "</style>\n",
       "<table border=\"1\" class=\"dataframe\">\n",
       "  <thead>\n",
       "    <tr style=\"text-align: right;\">\n",
       "      <th></th>\n",
       "      <th>year</th>\n",
       "      <th>mileage</th>\n",
       "      <th>accidents_or_damage</th>\n",
       "      <th>one_owner</th>\n",
       "      <th>personal_use_only</th>\n",
       "      <th>seller_rating</th>\n",
       "      <th>driver_rating</th>\n",
       "      <th>driver_reviews_num</th>\n",
       "      <th>price_drop</th>\n",
       "      <th>price</th>\n",
       "    </tr>\n",
       "  </thead>\n",
       "  <tbody>\n",
       "    <tr>\n",
       "      <th>count</th>\n",
       "      <td>762091.000000</td>\n",
       "      <td>7.615850e+05</td>\n",
       "      <td>737879.000000</td>\n",
       "      <td>730608.000000</td>\n",
       "      <td>737239.000000</td>\n",
       "      <td>548118.000000</td>\n",
       "      <td>730459.000000</td>\n",
       "      <td>762091.000000</td>\n",
       "      <td>410112.000000</td>\n",
       "      <td>7.620910e+05</td>\n",
       "    </tr>\n",
       "    <tr>\n",
       "      <th>mean</th>\n",
       "      <td>2017.791398</td>\n",
       "      <td>5.578169e+04</td>\n",
       "      <td>0.228616</td>\n",
       "      <td>0.561969</td>\n",
       "      <td>0.657212</td>\n",
       "      <td>4.158568</td>\n",
       "      <td>4.623523</td>\n",
       "      <td>89.550900</td>\n",
       "      <td>1007.467068</td>\n",
       "      <td>3.648898e+04</td>\n",
       "    </tr>\n",
       "    <tr>\n",
       "      <th>std</th>\n",
       "      <td>5.110532</td>\n",
       "      <td>4.355788e+04</td>\n",
       "      <td>0.419942</td>\n",
       "      <td>0.496145</td>\n",
       "      <td>0.474642</td>\n",
       "      <td>0.805741</td>\n",
       "      <td>0.276902</td>\n",
       "      <td>115.082266</td>\n",
       "      <td>1375.122208</td>\n",
       "      <td>1.984183e+06</td>\n",
       "    </tr>\n",
       "    <tr>\n",
       "      <th>min</th>\n",
       "      <td>1915.000000</td>\n",
       "      <td>0.000000e+00</td>\n",
       "      <td>0.000000</td>\n",
       "      <td>0.000000</td>\n",
       "      <td>0.000000</td>\n",
       "      <td>1.000000</td>\n",
       "      <td>1.000000</td>\n",
       "      <td>0.000000</td>\n",
       "      <td>100.000000</td>\n",
       "      <td>1.000000e+00</td>\n",
       "    </tr>\n",
       "    <tr>\n",
       "      <th>25%</th>\n",
       "      <td>2016.000000</td>\n",
       "      <td>2.328700e+04</td>\n",
       "      <td>0.000000</td>\n",
       "      <td>0.000000</td>\n",
       "      <td>0.000000</td>\n",
       "      <td>3.800000</td>\n",
       "      <td>4.500000</td>\n",
       "      <td>14.000000</td>\n",
       "      <td>380.000000</td>\n",
       "      <td>1.958300e+04</td>\n",
       "    </tr>\n",
       "    <tr>\n",
       "      <th>50%</th>\n",
       "      <td>2019.000000</td>\n",
       "      <td>4.559600e+04</td>\n",
       "      <td>0.000000</td>\n",
       "      <td>1.000000</td>\n",
       "      <td>1.000000</td>\n",
       "      <td>4.500000</td>\n",
       "      <td>4.700000</td>\n",
       "      <td>51.000000</td>\n",
       "      <td>642.000000</td>\n",
       "      <td>2.798900e+04</td>\n",
       "    </tr>\n",
       "    <tr>\n",
       "      <th>75%</th>\n",
       "      <td>2021.000000</td>\n",
       "      <td>7.836500e+04</td>\n",
       "      <td>0.000000</td>\n",
       "      <td>1.000000</td>\n",
       "      <td>1.000000</td>\n",
       "      <td>4.700000</td>\n",
       "      <td>4.800000</td>\n",
       "      <td>119.000000</td>\n",
       "      <td>1007.000000</td>\n",
       "      <td>3.948800e+04</td>\n",
       "    </tr>\n",
       "    <tr>\n",
       "      <th>max</th>\n",
       "      <td>2024.000000</td>\n",
       "      <td>1.119067e+06</td>\n",
       "      <td>1.000000</td>\n",
       "      <td>1.000000</td>\n",
       "      <td>1.000000</td>\n",
       "      <td>5.000000</td>\n",
       "      <td>5.000000</td>\n",
       "      <td>1025.000000</td>\n",
       "      <td>170995.000000</td>\n",
       "      <td>1.000000e+09</td>\n",
       "    </tr>\n",
       "  </tbody>\n",
       "</table>\n",
       "</div>"
      ],
      "text/plain": [
       "                year       mileage  accidents_or_damage      one_owner  \\\n",
       "count  762091.000000  7.615850e+05        737879.000000  730608.000000   \n",
       "mean     2017.791398  5.578169e+04             0.228616       0.561969   \n",
       "std         5.110532  4.355788e+04             0.419942       0.496145   \n",
       "min      1915.000000  0.000000e+00             0.000000       0.000000   \n",
       "25%      2016.000000  2.328700e+04             0.000000       0.000000   \n",
       "50%      2019.000000  4.559600e+04             0.000000       1.000000   \n",
       "75%      2021.000000  7.836500e+04             0.000000       1.000000   \n",
       "max      2024.000000  1.119067e+06             1.000000       1.000000   \n",
       "\n",
       "       personal_use_only  seller_rating  driver_rating  driver_reviews_num  \\\n",
       "count      737239.000000  548118.000000  730459.000000       762091.000000   \n",
       "mean            0.657212       4.158568       4.623523           89.550900   \n",
       "std             0.474642       0.805741       0.276902          115.082266   \n",
       "min             0.000000       1.000000       1.000000            0.000000   \n",
       "25%             0.000000       3.800000       4.500000           14.000000   \n",
       "50%             1.000000       4.500000       4.700000           51.000000   \n",
       "75%             1.000000       4.700000       4.800000          119.000000   \n",
       "max             1.000000       5.000000       5.000000         1025.000000   \n",
       "\n",
       "          price_drop         price  \n",
       "count  410112.000000  7.620910e+05  \n",
       "mean     1007.467068  3.648898e+04  \n",
       "std      1375.122208  1.984183e+06  \n",
       "min       100.000000  1.000000e+00  \n",
       "25%       380.000000  1.958300e+04  \n",
       "50%       642.000000  2.798900e+04  \n",
       "75%      1007.000000  3.948800e+04  \n",
       "max    170995.000000  1.000000e+09  "
      ]
     },
     "execution_count": 681,
     "metadata": {},
     "output_type": "execute_result"
    }
   ],
   "source": [
    "data.describe()"
   ]
  },
  {
   "cell_type": "markdown",
   "id": "e61ee170-5e96-4a68-83fe-0c249012073c",
   "metadata": {},
   "source": [
    "<div style=\"text-align: center;background-color:#f0e9d5; padding:10px; border-left: 5px solid #4CAF50; font-family: Trebuchet MS; font-size: 20px; color: #333;\">\n",
    "  Data Cleaning & Visualization\n",
    "    \n",
    "</div>"
   ]
  },
  {
   "cell_type": "code",
   "execution_count": 682,
   "id": "c7adb690-2146-4761-bd0f-b4f2de0eba09",
   "metadata": {},
   "outputs": [
    {
     "data": {
      "text/html": [
       "<div>\n",
       "<style scoped>\n",
       "    .dataframe tbody tr th:only-of-type {\n",
       "        vertical-align: middle;\n",
       "    }\n",
       "\n",
       "    .dataframe tbody tr th {\n",
       "        vertical-align: top;\n",
       "    }\n",
       "\n",
       "    .dataframe thead th {\n",
       "        text-align: right;\n",
       "    }\n",
       "</style>\n",
       "<table border=\"1\" class=\"dataframe\">\n",
       "  <thead>\n",
       "    <tr style=\"text-align: right;\">\n",
       "      <th></th>\n",
       "      <th>manufacturer</th>\n",
       "      <th>model</th>\n",
       "      <th>year</th>\n",
       "      <th>mileage</th>\n",
       "      <th>engine</th>\n",
       "      <th>transmission</th>\n",
       "      <th>drivetrain</th>\n",
       "      <th>fuel_type</th>\n",
       "      <th>mpg</th>\n",
       "      <th>exterior_color</th>\n",
       "      <th>interior_color</th>\n",
       "      <th>accidents_or_damage</th>\n",
       "      <th>one_owner</th>\n",
       "      <th>personal_use_only</th>\n",
       "      <th>seller_name</th>\n",
       "      <th>seller_rating</th>\n",
       "      <th>driver_rating</th>\n",
       "      <th>driver_reviews_num</th>\n",
       "      <th>price_drop</th>\n",
       "      <th>price</th>\n",
       "    </tr>\n",
       "  </thead>\n",
       "  <tbody>\n",
       "    <tr>\n",
       "      <th>0</th>\n",
       "      <td>Acura</td>\n",
       "      <td>ILX Hybrid 1.5L</td>\n",
       "      <td>2013</td>\n",
       "      <td>92945.0</td>\n",
       "      <td>1.5L I-4 i-VTEC variable valve control, engine...</td>\n",
       "      <td>Automatic</td>\n",
       "      <td>Front-wheel Drive</td>\n",
       "      <td>Gasoline</td>\n",
       "      <td>39-38</td>\n",
       "      <td>Black</td>\n",
       "      <td>Parchment</td>\n",
       "      <td>0.0</td>\n",
       "      <td>0.0</td>\n",
       "      <td>0.0</td>\n",
       "      <td>Iconic Coach</td>\n",
       "      <td>NaN</td>\n",
       "      <td>4.4</td>\n",
       "      <td>12.0</td>\n",
       "      <td>300.0</td>\n",
       "      <td>13988.0</td>\n",
       "    </tr>\n",
       "    <tr>\n",
       "      <th>1</th>\n",
       "      <td>Acura</td>\n",
       "      <td>ILX Hybrid 1.5L</td>\n",
       "      <td>2013</td>\n",
       "      <td>47645.0</td>\n",
       "      <td>1.5L I4 8V MPFI SOHC Hybrid</td>\n",
       "      <td>Automatic CVT</td>\n",
       "      <td>Front-wheel Drive</td>\n",
       "      <td>Hybrid</td>\n",
       "      <td>39-38</td>\n",
       "      <td>Gray</td>\n",
       "      <td>Ebony</td>\n",
       "      <td>1.0</td>\n",
       "      <td>1.0</td>\n",
       "      <td>1.0</td>\n",
       "      <td>Kars Today</td>\n",
       "      <td>NaN</td>\n",
       "      <td>4.4</td>\n",
       "      <td>12.0</td>\n",
       "      <td>NaN</td>\n",
       "      <td>17995.0</td>\n",
       "    </tr>\n",
       "    <tr>\n",
       "      <th>2</th>\n",
       "      <td>Acura</td>\n",
       "      <td>ILX Hybrid 1.5L</td>\n",
       "      <td>2013</td>\n",
       "      <td>53422.0</td>\n",
       "      <td>1.5L I4 8V MPFI SOHC Hybrid</td>\n",
       "      <td>Automatic CVT</td>\n",
       "      <td>Front-wheel Drive</td>\n",
       "      <td>Hybrid</td>\n",
       "      <td>39-38</td>\n",
       "      <td>Bellanova White Pearl</td>\n",
       "      <td>Ebony</td>\n",
       "      <td>0.0</td>\n",
       "      <td>1.0</td>\n",
       "      <td>1.0</td>\n",
       "      <td>Weiss Toyota of South County</td>\n",
       "      <td>4.3</td>\n",
       "      <td>4.4</td>\n",
       "      <td>12.0</td>\n",
       "      <td>500.0</td>\n",
       "      <td>17000.0</td>\n",
       "    </tr>\n",
       "    <tr>\n",
       "      <th>3</th>\n",
       "      <td>Acura</td>\n",
       "      <td>ILX Hybrid 1.5L</td>\n",
       "      <td>2013</td>\n",
       "      <td>117598.0</td>\n",
       "      <td>1.5L I4 8V MPFI SOHC Hybrid</td>\n",
       "      <td>Automatic CVT</td>\n",
       "      <td>Front-wheel Drive</td>\n",
       "      <td>Hybrid</td>\n",
       "      <td>39-38</td>\n",
       "      <td>Polished Metal Metallic</td>\n",
       "      <td>NaN</td>\n",
       "      <td>0.0</td>\n",
       "      <td>1.0</td>\n",
       "      <td>1.0</td>\n",
       "      <td>Apple Tree Acura</td>\n",
       "      <td>NaN</td>\n",
       "      <td>4.4</td>\n",
       "      <td>12.0</td>\n",
       "      <td>675.0</td>\n",
       "      <td>14958.0</td>\n",
       "    </tr>\n",
       "    <tr>\n",
       "      <th>4</th>\n",
       "      <td>Acura</td>\n",
       "      <td>ILX Hybrid 1.5L</td>\n",
       "      <td>2013</td>\n",
       "      <td>114865.0</td>\n",
       "      <td>1.5L I4 8V MPFI SOHC Hybrid</td>\n",
       "      <td>Automatic CVT</td>\n",
       "      <td>Front-wheel Drive</td>\n",
       "      <td>Hybrid</td>\n",
       "      <td>39-38</td>\n",
       "      <td>NaN</td>\n",
       "      <td>Ebony</td>\n",
       "      <td>1.0</td>\n",
       "      <td>0.0</td>\n",
       "      <td>1.0</td>\n",
       "      <td>Herb Connolly Chevrolet</td>\n",
       "      <td>3.7</td>\n",
       "      <td>4.4</td>\n",
       "      <td>12.0</td>\n",
       "      <td>300.0</td>\n",
       "      <td>14498.0</td>\n",
       "    </tr>\n",
       "    <tr>\n",
       "      <th>...</th>\n",
       "      <td>...</td>\n",
       "      <td>...</td>\n",
       "      <td>...</td>\n",
       "      <td>...</td>\n",
       "      <td>...</td>\n",
       "      <td>...</td>\n",
       "      <td>...</td>\n",
       "      <td>...</td>\n",
       "      <td>...</td>\n",
       "      <td>...</td>\n",
       "      <td>...</td>\n",
       "      <td>...</td>\n",
       "      <td>...</td>\n",
       "      <td>...</td>\n",
       "      <td>...</td>\n",
       "      <td>...</td>\n",
       "      <td>...</td>\n",
       "      <td>...</td>\n",
       "      <td>...</td>\n",
       "      <td>...</td>\n",
       "    </tr>\n",
       "    <tr>\n",
       "      <th>762086</th>\n",
       "      <td>Volvo</td>\n",
       "      <td>S60 B5 Momentum</td>\n",
       "      <td>2022</td>\n",
       "      <td>22877.0</td>\n",
       "      <td>2.0L I4 16V GDI DOHC Turbo</td>\n",
       "      <td>8-Speed Automatic</td>\n",
       "      <td>All-wheel Drive</td>\n",
       "      <td>Gasoline</td>\n",
       "      <td>25-33</td>\n",
       "      <td>Bright Silver Metallic</td>\n",
       "      <td>Blond</td>\n",
       "      <td>0.0</td>\n",
       "      <td>1.0</td>\n",
       "      <td>0.0</td>\n",
       "      <td>Volvo Cars Danbury</td>\n",
       "      <td>4.2</td>\n",
       "      <td>4.2</td>\n",
       "      <td>2.0</td>\n",
       "      <td>250.0</td>\n",
       "      <td>34798.0</td>\n",
       "    </tr>\n",
       "    <tr>\n",
       "      <th>762087</th>\n",
       "      <td>Volvo</td>\n",
       "      <td>S60 T5</td>\n",
       "      <td>2012</td>\n",
       "      <td>72900.0</td>\n",
       "      <td>250.0HP 2.5L 5 Cylinder Engine Gasoline Fuel</td>\n",
       "      <td>A/T</td>\n",
       "      <td>Front-wheel Drive</td>\n",
       "      <td>Gasoline</td>\n",
       "      <td>NaN</td>\n",
       "      <td>Red</td>\n",
       "      <td>Beige</td>\n",
       "      <td>NaN</td>\n",
       "      <td>NaN</td>\n",
       "      <td>NaN</td>\n",
       "      <td>NaN</td>\n",
       "      <td>NaN</td>\n",
       "      <td>4.5</td>\n",
       "      <td>101.0</td>\n",
       "      <td>NaN</td>\n",
       "      <td>12500.0</td>\n",
       "    </tr>\n",
       "    <tr>\n",
       "      <th>762088</th>\n",
       "      <td>Volvo</td>\n",
       "      <td>S60 T5</td>\n",
       "      <td>2014</td>\n",
       "      <td>92000.0</td>\n",
       "      <td>2.5L I5 20V MPFI DOHC Turbo</td>\n",
       "      <td>6-Speed Automatic</td>\n",
       "      <td>Front-wheel Drive</td>\n",
       "      <td>Gasoline</td>\n",
       "      <td>21-30</td>\n",
       "      <td>Ice White</td>\n",
       "      <td>Soft Beige</td>\n",
       "      <td>0.0</td>\n",
       "      <td>0.0</td>\n",
       "      <td>1.0</td>\n",
       "      <td>Dapper Car Sales</td>\n",
       "      <td>NaN</td>\n",
       "      <td>4.8</td>\n",
       "      <td>36.0</td>\n",
       "      <td>300.0</td>\n",
       "      <td>12299.0</td>\n",
       "    </tr>\n",
       "    <tr>\n",
       "      <th>762089</th>\n",
       "      <td>Volvo</td>\n",
       "      <td>S60 T5 Platinum</td>\n",
       "      <td>2013</td>\n",
       "      <td>132000.0</td>\n",
       "      <td>2.5L I5 20V MPFI DOHC Turbo</td>\n",
       "      <td>6-Speed Automatic</td>\n",
       "      <td>All-wheel Drive</td>\n",
       "      <td>Gasoline</td>\n",
       "      <td>20-29</td>\n",
       "      <td>Ice White</td>\n",
       "      <td>Off Black</td>\n",
       "      <td>1.0</td>\n",
       "      <td>0.0</td>\n",
       "      <td>0.0</td>\n",
       "      <td>Legend Auto Sales Inc.</td>\n",
       "      <td>4.6</td>\n",
       "      <td>4.7</td>\n",
       "      <td>62.0</td>\n",
       "      <td>1000.0</td>\n",
       "      <td>8995.0</td>\n",
       "    </tr>\n",
       "    <tr>\n",
       "      <th>762090</th>\n",
       "      <td>Volvo</td>\n",
       "      <td>S60 T5 Premier</td>\n",
       "      <td>2015</td>\n",
       "      <td>115592.0</td>\n",
       "      <td>2.5L I5 20V MPFI DOHC Turbo</td>\n",
       "      <td>6-Speed Automatic</td>\n",
       "      <td>All-wheel Drive</td>\n",
       "      <td>Gasoline</td>\n",
       "      <td>20-29</td>\n",
       "      <td>Savile Gray Metallic</td>\n",
       "      <td>Off-Black</td>\n",
       "      <td>1.0</td>\n",
       "      <td>0.0</td>\n",
       "      <td>1.0</td>\n",
       "      <td>Plymouth Auto Sales</td>\n",
       "      <td>NaN</td>\n",
       "      <td>4.7</td>\n",
       "      <td>51.0</td>\n",
       "      <td>501.0</td>\n",
       "      <td>12999.0</td>\n",
       "    </tr>\n",
       "  </tbody>\n",
       "</table>\n",
       "<p>752946 rows × 20 columns</p>\n",
       "</div>"
      ],
      "text/plain": [
       "       manufacturer            model  year   mileage  \\\n",
       "0             Acura  ILX Hybrid 1.5L  2013   92945.0   \n",
       "1             Acura  ILX Hybrid 1.5L  2013   47645.0   \n",
       "2             Acura  ILX Hybrid 1.5L  2013   53422.0   \n",
       "3             Acura  ILX Hybrid 1.5L  2013  117598.0   \n",
       "4             Acura  ILX Hybrid 1.5L  2013  114865.0   \n",
       "...             ...              ...   ...       ...   \n",
       "762086        Volvo  S60 B5 Momentum  2022   22877.0   \n",
       "762087        Volvo           S60 T5  2012   72900.0   \n",
       "762088        Volvo           S60 T5  2014   92000.0   \n",
       "762089        Volvo  S60 T5 Platinum  2013  132000.0   \n",
       "762090        Volvo   S60 T5 Premier  2015  115592.0   \n",
       "\n",
       "                                                   engine       transmission  \\\n",
       "0       1.5L I-4 i-VTEC variable valve control, engine...          Automatic   \n",
       "1                             1.5L I4 8V MPFI SOHC Hybrid      Automatic CVT   \n",
       "2                             1.5L I4 8V MPFI SOHC Hybrid      Automatic CVT   \n",
       "3                             1.5L I4 8V MPFI SOHC Hybrid      Automatic CVT   \n",
       "4                             1.5L I4 8V MPFI SOHC Hybrid      Automatic CVT   \n",
       "...                                                   ...                ...   \n",
       "762086                         2.0L I4 16V GDI DOHC Turbo  8-Speed Automatic   \n",
       "762087       250.0HP 2.5L 5 Cylinder Engine Gasoline Fuel                A/T   \n",
       "762088                        2.5L I5 20V MPFI DOHC Turbo  6-Speed Automatic   \n",
       "762089                        2.5L I5 20V MPFI DOHC Turbo  6-Speed Automatic   \n",
       "762090                        2.5L I5 20V MPFI DOHC Turbo  6-Speed Automatic   \n",
       "\n",
       "               drivetrain fuel_type    mpg           exterior_color  \\\n",
       "0       Front-wheel Drive  Gasoline  39-38                    Black   \n",
       "1       Front-wheel Drive    Hybrid  39-38                     Gray   \n",
       "2       Front-wheel Drive    Hybrid  39-38    Bellanova White Pearl   \n",
       "3       Front-wheel Drive    Hybrid  39-38  Polished Metal Metallic   \n",
       "4       Front-wheel Drive    Hybrid  39-38                      NaN   \n",
       "...                   ...       ...    ...                      ...   \n",
       "762086    All-wheel Drive  Gasoline  25-33   Bright Silver Metallic   \n",
       "762087  Front-wheel Drive  Gasoline    NaN                      Red   \n",
       "762088  Front-wheel Drive  Gasoline  21-30                Ice White   \n",
       "762089    All-wheel Drive  Gasoline  20-29                Ice White   \n",
       "762090    All-wheel Drive  Gasoline  20-29     Savile Gray Metallic   \n",
       "\n",
       "       interior_color  accidents_or_damage  one_owner  personal_use_only  \\\n",
       "0           Parchment                  0.0        0.0                0.0   \n",
       "1               Ebony                  1.0        1.0                1.0   \n",
       "2               Ebony                  0.0        1.0                1.0   \n",
       "3                 NaN                  0.0        1.0                1.0   \n",
       "4               Ebony                  1.0        0.0                1.0   \n",
       "...               ...                  ...        ...                ...   \n",
       "762086          Blond                  0.0        1.0                0.0   \n",
       "762087          Beige                  NaN        NaN                NaN   \n",
       "762088     Soft Beige                  0.0        0.0                1.0   \n",
       "762089      Off Black                  1.0        0.0                0.0   \n",
       "762090      Off-Black                  1.0        0.0                1.0   \n",
       "\n",
       "                         seller_name  seller_rating  driver_rating  \\\n",
       "0                       Iconic Coach            NaN            4.4   \n",
       "1                         Kars Today            NaN            4.4   \n",
       "2       Weiss Toyota of South County            4.3            4.4   \n",
       "3                   Apple Tree Acura            NaN            4.4   \n",
       "4            Herb Connolly Chevrolet            3.7            4.4   \n",
       "...                              ...            ...            ...   \n",
       "762086            Volvo Cars Danbury            4.2            4.2   \n",
       "762087                           NaN            NaN            4.5   \n",
       "762088              Dapper Car Sales            NaN            4.8   \n",
       "762089        Legend Auto Sales Inc.            4.6            4.7   \n",
       "762090           Plymouth Auto Sales            NaN            4.7   \n",
       "\n",
       "        driver_reviews_num  price_drop    price  \n",
       "0                     12.0       300.0  13988.0  \n",
       "1                     12.0         NaN  17995.0  \n",
       "2                     12.0       500.0  17000.0  \n",
       "3                     12.0       675.0  14958.0  \n",
       "4                     12.0       300.0  14498.0  \n",
       "...                    ...         ...      ...  \n",
       "762086                 2.0       250.0  34798.0  \n",
       "762087               101.0         NaN  12500.0  \n",
       "762088                36.0       300.0  12299.0  \n",
       "762089                62.0      1000.0   8995.0  \n",
       "762090                51.0       501.0  12999.0  \n",
       "\n",
       "[752946 rows x 20 columns]"
      ]
     },
     "execution_count": 682,
     "metadata": {},
     "output_type": "execute_result"
    }
   ],
   "source": [
    "data.duplicated().sum()\n",
    "data.drop_duplicates()"
   ]
  },
  {
   "cell_type": "markdown",
   "id": "2ed8915c",
   "metadata": {},
   "source": [
    "#### drop row if it has more than 13 null values"
   ]
  },
  {
   "cell_type": "code",
   "execution_count": 683,
   "id": "9b531550",
   "metadata": {},
   "outputs": [
    {
     "name": "stdout",
     "output_type": "stream",
     "text": [
      "Rows with >13 nulls: 0\n"
     ]
    }
   ],
   "source": [
    "rows_to_drop = (data.isnull().sum(axis=1) > 13).sum()\n",
    "print(f\"Rows with >13 nulls: {rows_to_drop}\")"
   ]
  },
  {
   "cell_type": "code",
   "execution_count": 522,
   "id": "f9f2286a",
   "metadata": {},
   "outputs": [],
   "source": [
    "bool_cols = ['accidents_or_damage', 'one_owner', 'personal_use_only']\n",
    "\n",
    "data[bool_cols] = data[bool_cols].fillna(-1)  ## here we fill with -1 to maintain datatype float. otherwise it will be object type."
   ]
  },
  {
   "cell_type": "code",
   "execution_count": 523,
   "id": "9d0830b4",
   "metadata": {},
   "outputs": [],
   "source": [
    "# Fill missing values with 'Unknown' in specified columns\n",
    "data[['exterior_color', 'interior_color', 'seller_name']] = data[['exterior_color', 'interior_color', 'seller_name']].fillna('Unknown')"
   ]
  },
  {
   "cell_type": "code",
   "execution_count": 525,
   "id": "d16c0064",
   "metadata": {},
   "outputs": [
    {
     "name": "stdout",
     "output_type": "stream",
     "text": [
      "Number of rows where both 'engine', transmission and 'fuel_type' are null: 0\n"
     ]
    }
   ],
   "source": [
    "### drop row if all mentioned column has null.\n",
    "data.dropna(subset=['engine', 'fuel_type','transmission'], how='all', inplace=True)\n",
    "\n",
    "### check for null\n",
    "both_null = data[data['engine'].isnull() & data['fuel_type'].isnull()& data['transmission'].isnull() ]\n",
    "print(\"Number of rows where both 'engine', transmission and 'fuel_type' are null:\", len(both_null))"
   ]
  },
  {
   "cell_type": "code",
   "execution_count": null,
   "id": "3552c70a",
   "metadata": {},
   "outputs": [
    {
     "data": {
      "text/plain": [
       "0"
      ]
     },
     "execution_count": 526,
     "metadata": {},
     "output_type": "execute_result"
    }
   ],
   "source": [
    "## drop rows if both has null\n",
    "data.dropna(subset=['engine', 'fuel_type'], how='all', inplace=True)\n",
    "both_null = data[data['engine'].isnull() & data['fuel_type'].isnull()]\n",
    "len(both_null)"
   ]
  },
  {
   "cell_type": "markdown",
   "id": "72ae8d2f",
   "metadata": {},
   "source": [
    "### 'Enigne'. clean & process "
   ]
  },
  {
   "cell_type": "code",
   "execution_count": 684,
   "id": "41be986f",
   "metadata": {},
   "outputs": [],
   "source": [
    "data['engine'] = data['engine'].str.lower().str.strip()"
   ]
  },
  {
   "cell_type": "code",
   "execution_count": 685,
   "id": "48143c44",
   "metadata": {},
   "outputs": [],
   "source": [
    "import re\n",
    "\n",
    "def extract_engine_attributes(text):\n",
    "    if pd.isna(text) or str(text).strip() == \"\":\n",
    "        return {\n",
    "            \"engine_size\": \"NaN\",\n",
    "            \"cylinders\": \"NaN\",\n",
    "            \"valves\": \"NaN\",\n",
    "            \"aspiration\": \"NaN\",\n",
    "            \"fuel_type_2\": \"NaN\",\n",
    "            \"injection_system\": \"NaN\",\n",
    "            \"configuration\": \"NaN\",\n",
    "            \"horsepower\": \"NaN\"\n",
    "        }\n",
    "\n",
    "    text = str(text).lower()\n",
    "\n",
    "    return {\n",
    "        \"engine_size\": re.search(r\"\\d+(\\.\\d+)?l\", text),\n",
    "        \"cylinders\": re.search(r\"(v\\d|i\\d|w\\d|inline\\s?\\d|straight\\s?\\d)\", text),\n",
    "        \"valves\": re.search(r\"\\d+v\", text),\n",
    "        \"aspiration\": re.search(r\"(twin turbo|turbocharger|turbo|supercharged|supercharger|natural aspiration)\", text),\n",
    "        \"fuel_type_2\": re.search(r\"(gasoline|gasoline/mild|gasoline/natural|gasoline fuel|gas|unleaded|regular unleaded|premium|premium \\(required\\)|petrol|premium unleaded|diesel|turbo-diesel|turbodiesel|diesel fuel|b20-diesel|ecodiesel|tdi|cdi|dci|twin turbo diesel|dis|electric|electric fuel system|electrically|electricmotors|bev|zev|electric motor|plug-in hybrid|plug-in electric/gas|phev|plug-in|plug-in ev|hybrid|full-hybrid|electric/gas|hybrid fuel|gasoline/mild electric hybrid|gas/electric hybrid|gas/electric|gas/ethanol|mild hybrid|mhev|hev|gasoline/electric|flex fuel|flexfuel|flex-fuel|flexible|flexible fuel|flex fuel capability|e85 flex fuel|e85 fl|e85 fuel|e85 ethanol|ffv|compressed natural gas|natural gas|gaseous|cng|lng|biodiesel|bio diesel|e100|hydrogen fuel cell|hydrogen|h2|bi-fuel|b-fuel|duel fuel|ethanol)\", text),\n",
    "        \"injection_system\": re.search(r\"(mpfi|spfi|pgm-fi|gdi|ddi|pdi|di|fsi|sidi|efi|sefi|tfsi|smpi|mfi)\", text),\n",
    "        \"configuration\": re.search(r\"(sohc|dohc|ohv|vvt|vtc|vanos|valvetronic|timing)\", text),\n",
    "        \"horsepower\": re.search(r\"\\d+(\\.\\d+)?hp\", text)\n",
    "    }\n",
    "\n",
    "### Apply extraction → expand into new DataFrame\n",
    "attr_df = data[\"engine\"].apply(lambda x: pd.Series(extract_engine_attributes(x)))\n",
    "\n",
    "### Convert regex match objects → actual strings\n",
    "for col in attr_df.columns:\n",
    "    attr_df[col] = attr_df[col].apply(lambda x: x.group(0) if x and hasattr(x, \"group\") else (\"NaN\" if x != \"NaN\" else \"NaN\"))\n",
    "\n",
    "## Merge new columns into original DataFrame\n",
    "data = pd.concat([data, attr_df], axis=1)\n",
    "\n"
   ]
  },
  {
   "cell_type": "code",
   "execution_count": 686,
   "id": "a181755d",
   "metadata": {},
   "outputs": [
    {
     "data": {
      "text/html": [
       "<div>\n",
       "<style scoped>\n",
       "    .dataframe tbody tr th:only-of-type {\n",
       "        vertical-align: middle;\n",
       "    }\n",
       "\n",
       "    .dataframe tbody tr th {\n",
       "        vertical-align: top;\n",
       "    }\n",
       "\n",
       "    .dataframe thead th {\n",
       "        text-align: right;\n",
       "    }\n",
       "</style>\n",
       "<table border=\"1\" class=\"dataframe\">\n",
       "  <thead>\n",
       "    <tr style=\"text-align: right;\">\n",
       "      <th></th>\n",
       "      <th>manufacturer</th>\n",
       "      <th>model</th>\n",
       "      <th>year</th>\n",
       "      <th>mileage</th>\n",
       "      <th>engine</th>\n",
       "      <th>transmission</th>\n",
       "      <th>drivetrain</th>\n",
       "      <th>fuel_type</th>\n",
       "      <th>mpg</th>\n",
       "      <th>exterior_color</th>\n",
       "      <th>...</th>\n",
       "      <th>price_drop</th>\n",
       "      <th>price</th>\n",
       "      <th>engine_size</th>\n",
       "      <th>cylinders</th>\n",
       "      <th>valves</th>\n",
       "      <th>aspiration</th>\n",
       "      <th>fuel_type_2</th>\n",
       "      <th>injection_system</th>\n",
       "      <th>configuration</th>\n",
       "      <th>horsepower</th>\n",
       "    </tr>\n",
       "  </thead>\n",
       "  <tbody>\n",
       "    <tr>\n",
       "      <th>0</th>\n",
       "      <td>Acura</td>\n",
       "      <td>ILX Hybrid 1.5L</td>\n",
       "      <td>2013</td>\n",
       "      <td>92945.0</td>\n",
       "      <td>1.5l i-4 i-vtec variable valve control, engine...</td>\n",
       "      <td>Automatic</td>\n",
       "      <td>Front-wheel Drive</td>\n",
       "      <td>Gasoline</td>\n",
       "      <td>39-38</td>\n",
       "      <td>Black</td>\n",
       "      <td>...</td>\n",
       "      <td>300.0</td>\n",
       "      <td>13988.0</td>\n",
       "      <td>1.5l</td>\n",
       "      <td>NaN</td>\n",
       "      <td>NaN</td>\n",
       "      <td>NaN</td>\n",
       "      <td>NaN</td>\n",
       "      <td>NaN</td>\n",
       "      <td>NaN</td>\n",
       "      <td>90hp</td>\n",
       "    </tr>\n",
       "    <tr>\n",
       "      <th>1</th>\n",
       "      <td>Acura</td>\n",
       "      <td>ILX Hybrid 1.5L</td>\n",
       "      <td>2013</td>\n",
       "      <td>47645.0</td>\n",
       "      <td>1.5l i4 8v mpfi sohc hybrid</td>\n",
       "      <td>Automatic CVT</td>\n",
       "      <td>Front-wheel Drive</td>\n",
       "      <td>Hybrid</td>\n",
       "      <td>39-38</td>\n",
       "      <td>Gray</td>\n",
       "      <td>...</td>\n",
       "      <td>NaN</td>\n",
       "      <td>17995.0</td>\n",
       "      <td>1.5l</td>\n",
       "      <td>i4</td>\n",
       "      <td>8v</td>\n",
       "      <td>NaN</td>\n",
       "      <td>hybrid</td>\n",
       "      <td>mpfi</td>\n",
       "      <td>sohc</td>\n",
       "      <td>NaN</td>\n",
       "    </tr>\n",
       "    <tr>\n",
       "      <th>2</th>\n",
       "      <td>Acura</td>\n",
       "      <td>ILX Hybrid 1.5L</td>\n",
       "      <td>2013</td>\n",
       "      <td>53422.0</td>\n",
       "      <td>1.5l i4 8v mpfi sohc hybrid</td>\n",
       "      <td>Automatic CVT</td>\n",
       "      <td>Front-wheel Drive</td>\n",
       "      <td>Hybrid</td>\n",
       "      <td>39-38</td>\n",
       "      <td>Bellanova White Pearl</td>\n",
       "      <td>...</td>\n",
       "      <td>500.0</td>\n",
       "      <td>17000.0</td>\n",
       "      <td>1.5l</td>\n",
       "      <td>i4</td>\n",
       "      <td>8v</td>\n",
       "      <td>NaN</td>\n",
       "      <td>hybrid</td>\n",
       "      <td>mpfi</td>\n",
       "      <td>sohc</td>\n",
       "      <td>NaN</td>\n",
       "    </tr>\n",
       "    <tr>\n",
       "      <th>3</th>\n",
       "      <td>Acura</td>\n",
       "      <td>ILX Hybrid 1.5L</td>\n",
       "      <td>2013</td>\n",
       "      <td>117598.0</td>\n",
       "      <td>1.5l i4 8v mpfi sohc hybrid</td>\n",
       "      <td>Automatic CVT</td>\n",
       "      <td>Front-wheel Drive</td>\n",
       "      <td>Hybrid</td>\n",
       "      <td>39-38</td>\n",
       "      <td>Polished Metal Metallic</td>\n",
       "      <td>...</td>\n",
       "      <td>675.0</td>\n",
       "      <td>14958.0</td>\n",
       "      <td>1.5l</td>\n",
       "      <td>i4</td>\n",
       "      <td>8v</td>\n",
       "      <td>NaN</td>\n",
       "      <td>hybrid</td>\n",
       "      <td>mpfi</td>\n",
       "      <td>sohc</td>\n",
       "      <td>NaN</td>\n",
       "    </tr>\n",
       "    <tr>\n",
       "      <th>4</th>\n",
       "      <td>Acura</td>\n",
       "      <td>ILX Hybrid 1.5L</td>\n",
       "      <td>2013</td>\n",
       "      <td>114865.0</td>\n",
       "      <td>1.5l i4 8v mpfi sohc hybrid</td>\n",
       "      <td>Automatic CVT</td>\n",
       "      <td>Front-wheel Drive</td>\n",
       "      <td>Hybrid</td>\n",
       "      <td>39-38</td>\n",
       "      <td>NaN</td>\n",
       "      <td>...</td>\n",
       "      <td>300.0</td>\n",
       "      <td>14498.0</td>\n",
       "      <td>1.5l</td>\n",
       "      <td>i4</td>\n",
       "      <td>8v</td>\n",
       "      <td>NaN</td>\n",
       "      <td>hybrid</td>\n",
       "      <td>mpfi</td>\n",
       "      <td>sohc</td>\n",
       "      <td>NaN</td>\n",
       "    </tr>\n",
       "  </tbody>\n",
       "</table>\n",
       "<p>5 rows × 28 columns</p>\n",
       "</div>"
      ],
      "text/plain": [
       "  manufacturer            model  year   mileage  \\\n",
       "0        Acura  ILX Hybrid 1.5L  2013   92945.0   \n",
       "1        Acura  ILX Hybrid 1.5L  2013   47645.0   \n",
       "2        Acura  ILX Hybrid 1.5L  2013   53422.0   \n",
       "3        Acura  ILX Hybrid 1.5L  2013  117598.0   \n",
       "4        Acura  ILX Hybrid 1.5L  2013  114865.0   \n",
       "\n",
       "                                              engine   transmission  \\\n",
       "0  1.5l i-4 i-vtec variable valve control, engine...      Automatic   \n",
       "1                        1.5l i4 8v mpfi sohc hybrid  Automatic CVT   \n",
       "2                        1.5l i4 8v mpfi sohc hybrid  Automatic CVT   \n",
       "3                        1.5l i4 8v mpfi sohc hybrid  Automatic CVT   \n",
       "4                        1.5l i4 8v mpfi sohc hybrid  Automatic CVT   \n",
       "\n",
       "          drivetrain fuel_type    mpg           exterior_color  ...  \\\n",
       "0  Front-wheel Drive  Gasoline  39-38                    Black  ...   \n",
       "1  Front-wheel Drive    Hybrid  39-38                     Gray  ...   \n",
       "2  Front-wheel Drive    Hybrid  39-38    Bellanova White Pearl  ...   \n",
       "3  Front-wheel Drive    Hybrid  39-38  Polished Metal Metallic  ...   \n",
       "4  Front-wheel Drive    Hybrid  39-38                      NaN  ...   \n",
       "\n",
       "  price_drop    price  engine_size  cylinders valves  aspiration  fuel_type_2  \\\n",
       "0      300.0  13988.0         1.5l        NaN    NaN         NaN          NaN   \n",
       "1        NaN  17995.0         1.5l         i4     8v         NaN       hybrid   \n",
       "2      500.0  17000.0         1.5l         i4     8v         NaN       hybrid   \n",
       "3      675.0  14958.0         1.5l         i4     8v         NaN       hybrid   \n",
       "4      300.0  14498.0         1.5l         i4     8v         NaN       hybrid   \n",
       "\n",
       "   injection_system  configuration  horsepower  \n",
       "0               NaN            NaN        90hp  \n",
       "1              mpfi           sohc         NaN  \n",
       "2              mpfi           sohc         NaN  \n",
       "3              mpfi           sohc         NaN  \n",
       "4              mpfi           sohc         NaN  \n",
       "\n",
       "[5 rows x 28 columns]"
      ]
     },
     "execution_count": 686,
     "metadata": {},
     "output_type": "execute_result"
    }
   ],
   "source": [
    "data.head()"
   ]
  },
  {
   "cell_type": "code",
   "execution_count": 687,
   "id": "06897d39",
   "metadata": {},
   "outputs": [],
   "source": [
    "data = data.replace('NaN', np.nan)"
   ]
  },
  {
   "cell_type": "markdown",
   "id": "14bd4235",
   "metadata": {},
   "source": [
    "## Fuel_type column "
   ]
  },
  {
   "cell_type": "code",
   "execution_count": 688,
   "id": "ff908d5d",
   "metadata": {},
   "outputs": [],
   "source": [
    "data['fuel_type'] =  data['fuel_type'].str.lower().str.strip()"
   ]
  },
  {
   "cell_type": "code",
   "execution_count": 689,
   "id": "1f803661",
   "metadata": {},
   "outputs": [
    {
     "data": {
      "text/html": [
       "<div>\n",
       "<style scoped>\n",
       "    .dataframe tbody tr th:only-of-type {\n",
       "        vertical-align: middle;\n",
       "    }\n",
       "\n",
       "    .dataframe tbody tr th {\n",
       "        vertical-align: top;\n",
       "    }\n",
       "\n",
       "    .dataframe thead th {\n",
       "        text-align: right;\n",
       "    }\n",
       "</style>\n",
       "<table border=\"1\" class=\"dataframe\">\n",
       "  <thead>\n",
       "    <tr style=\"text-align: right;\">\n",
       "      <th></th>\n",
       "      <th>manufacturer</th>\n",
       "      <th>model</th>\n",
       "      <th>year</th>\n",
       "      <th>mileage</th>\n",
       "      <th>engine</th>\n",
       "      <th>transmission</th>\n",
       "      <th>drivetrain</th>\n",
       "      <th>fuel_type</th>\n",
       "      <th>mpg</th>\n",
       "      <th>exterior_color</th>\n",
       "      <th>...</th>\n",
       "      <th>price_drop</th>\n",
       "      <th>price</th>\n",
       "      <th>engine_size</th>\n",
       "      <th>cylinders</th>\n",
       "      <th>valves</th>\n",
       "      <th>aspiration</th>\n",
       "      <th>fuel_type_2</th>\n",
       "      <th>injection_system</th>\n",
       "      <th>configuration</th>\n",
       "      <th>horsepower</th>\n",
       "    </tr>\n",
       "  </thead>\n",
       "  <tbody>\n",
       "  </tbody>\n",
       "</table>\n",
       "<p>0 rows × 28 columns</p>\n",
       "</div>"
      ],
      "text/plain": [
       "Empty DataFrame\n",
       "Columns: [manufacturer, model, year, mileage, engine, transmission, drivetrain, fuel_type, mpg, exterior_color, interior_color, accidents_or_damage, one_owner, personal_use_only, seller_name, seller_rating, driver_rating, driver_reviews_num, price_drop, price, engine_size, cylinders, valves, aspiration, fuel_type_2, injection_system, configuration, horsepower]\n",
       "Index: []\n",
       "\n",
       "[0 rows x 28 columns]"
      ]
     },
     "execution_count": 689,
     "metadata": {},
     "output_type": "execute_result"
    }
   ],
   "source": [
    "data[data['fuel_type']== 'cng']"
   ]
  },
  {
   "cell_type": "code",
   "execution_count": 690,
   "id": "e4c89a2e",
   "metadata": {},
   "outputs": [
    {
     "data": {
      "text/plain": [
       "fuel_category\n",
       "gasoline          42317\n",
       "diesel            28079\n",
       "hybrid            27330\n",
       "flex fuel         18312\n",
       "electric          16091\n",
       "cng                  25\n",
       "bi-fuel               9\n",
       "plug-in hybrid        3\n",
       "hydrogen              1\n",
       "Name: count, dtype: int64"
      ]
     },
     "execution_count": 690,
     "metadata": {},
     "output_type": "execute_result"
    }
   ],
   "source": [
    "def map_fuel(fuel):\n",
    "    if pd.isnull(fuel):\n",
    "        return np.nan\n",
    "\n",
    "    fuel = fuel.lower()\n",
    "\n",
    "    if any(keyword in fuel for keyword in [\n",
    "        'gasoline', 'gasoline/mild', 'gasoline/natural', 'gasoline fuel',\n",
    "        'gas', 'unleaded', 'regular unleaded', 'premium', 'premium (required)', 'petrol','premium unleaded'\n",
    "    ]):\n",
    "        return 'gasoline'\n",
    "\n",
    "    elif any(keyword in fuel for keyword in [\n",
    "        'diesel', 'turbo-diesel', 'turbodiesel', 'diesel fuel', 'b20-diesel', 'ecodiesel','tdi','cdi','dci','twin turbo diesel','dis'\n",
    "    ]):\n",
    "        return 'diesel'\n",
    "\n",
    "    elif any(keyword in fuel for keyword in [\n",
    "        'electric', 'electric fuel system', 'electrically', 'electricmotors','bev','zev','electric motor'\n",
    "    ]):\n",
    "        return 'electric'\n",
    "\n",
    "    elif any(keyword in fuel for keyword in [\n",
    "        'plug-in hybrid', 'plug-in electric/gas', 'phev','plug-in','phev','plug-in ev'\n",
    "    ]):\n",
    "        return 'plug-in hybrid'\n",
    "\n",
    "    elif any(keyword in fuel for keyword in [\n",
    "        'hybrid', 'full-hybrid', 'electric/gas', 'hybrid fuel',\n",
    "        'gasoline/mild electric hybrid', 'gas/electric hybrid', 'gas/electric', 'gas/ethanol','mild hybrid','mhev','hev','gasoline/electric'\n",
    "    ]):\n",
    "        return 'hybrid'\n",
    "\n",
    "    elif any(keyword in fuel for keyword in [\n",
    "        'flex fuel', 'flexfuel', 'flex-fuel', 'flexible', 'flexible fuel',\n",
    "        'flex fuel capability', 'e85 flex fuel', 'e85 fl','e85 fuel','e85 ethanol','ffv'\n",
    "    ]):\n",
    "        return 'flex fuel'\n",
    "\n",
    "    elif any(keyword in fuel for keyword in [\n",
    "        'compressed natural gas', 'natural gas', 'gaseous','cng','lng'\n",
    "    ]):\n",
    "        return 'cng'\n",
    "\n",
    "    elif any(keyword in fuel for keyword in [\n",
    "        'biodiesel', 'bio diesel','e100'\n",
    "    ]):\n",
    "        return 'biodiesel'\n",
    "\n",
    "    elif any(keyword in fuel for keyword in [\n",
    "        'hydrogen fuel cell', 'hydrogen','h2'\n",
    "    ]):\n",
    "        return 'hydrogen'\n",
    "\n",
    "    elif any(keyword in fuel for keyword in [\n",
    "        'bi-fuel', 'b-fuel','duel fuel'\n",
    "    ]):\n",
    "        return 'bi-fuel'\n",
    "\n",
    "    elif 'ethanol' in fuel:\n",
    "        return 'ethanol','e100'\n",
    "\n",
    "    else:\n",
    "        return np.nan\n",
    "\n",
    "    \n",
    "data['fuel_category'] = data['engine'].apply(map_fuel)\n",
    "data['fuel_category'].value_counts()"
   ]
  },
  {
   "cell_type": "code",
   "execution_count": 691,
   "id": "b201221e",
   "metadata": {},
   "outputs": [
    {
     "data": {
      "text/plain": [
       "fuel_type\n",
       "gasoline          644939\n",
       "hybrid             29146\n",
       "diesel             27974\n",
       "flex fuel          19269\n",
       "electric           16194\n",
       "plug-in hybrid       120\n",
       "hydrogen               3\n",
       "bi-fuel                1\n",
       "Name: count, dtype: int64"
      ]
     },
     "execution_count": 691,
     "metadata": {},
     "output_type": "execute_result"
    }
   ],
   "source": [
    "data['fuel_type'] = data['fuel_type'].apply(map_fuel)\n",
    "data['fuel_type'].value_counts()"
   ]
  },
  {
   "cell_type": "code",
   "execution_count": 692,
   "id": "8715809f",
   "metadata": {},
   "outputs": [
    {
     "data": {
      "text/plain": [
       "fuel_type_2\n",
       "gasoline          42301\n",
       "diesel            28079\n",
       "hybrid            27331\n",
       "flex fuel         18322\n",
       "electric          16096\n",
       "cng                  25\n",
       "bi-fuel               9\n",
       "plug-in hybrid        3\n",
       "hydrogen              1\n",
       "Name: count, dtype: int64"
      ]
     },
     "execution_count": 692,
     "metadata": {},
     "output_type": "execute_result"
    }
   ],
   "source": [
    "data['fuel_type_2'] = data['fuel_type_2'].apply(map_fuel)\n",
    "data['fuel_type_2'].value_counts()"
   ]
  },
  {
   "cell_type": "code",
   "execution_count": 693,
   "id": "b045d6e2",
   "metadata": {},
   "outputs": [
    {
     "data": {
      "text/plain": [
       "9"
      ]
     },
     "execution_count": 693,
     "metadata": {},
     "output_type": "execute_result"
    }
   ],
   "source": [
    "data['fuel_category'].nunique()"
   ]
  },
  {
   "cell_type": "code",
   "execution_count": 694,
   "id": "b4a312fc",
   "metadata": {},
   "outputs": [
    {
     "data": {
      "text/plain": [
       "fuel_category\n",
       "gasoline          42317\n",
       "diesel            28079\n",
       "hybrid            27330\n",
       "flex fuel         18312\n",
       "electric          16091\n",
       "cng                  25\n",
       "bi-fuel               9\n",
       "plug-in hybrid        3\n",
       "hydrogen              1\n",
       "Name: count, dtype: int64"
      ]
     },
     "execution_count": 694,
     "metadata": {},
     "output_type": "execute_result"
    }
   ],
   "source": [
    "data['fuel_category'].value_counts() "
   ]
  },
  {
   "cell_type": "code",
   "execution_count": 695,
   "id": "901932c2",
   "metadata": {},
   "outputs": [
    {
     "data": {
      "text/plain": [
       "8"
      ]
     },
     "execution_count": 695,
     "metadata": {},
     "output_type": "execute_result"
    }
   ],
   "source": [
    "data['fuel_type'].nunique()"
   ]
  },
  {
   "cell_type": "code",
   "execution_count": 696,
   "id": "740a3623",
   "metadata": {},
   "outputs": [],
   "source": [
    "data['fuel_type'] = data['fuel_type'].fillna(data['fuel_category'])\n",
    "data['fuel_type'] = data['fuel_type'].fillna(data['fuel_type_2'])"
   ]
  },
  {
   "cell_type": "code",
   "execution_count": 697,
   "id": "d00945af",
   "metadata": {},
   "outputs": [
    {
     "data": {
      "text/plain": [
       "np.int64(23608)"
      ]
     },
     "execution_count": 697,
     "metadata": {},
     "output_type": "execute_result"
    }
   ],
   "source": [
    "data['fuel_type'].isnull().sum()"
   ]
  },
  {
   "cell_type": "code",
   "execution_count": 717,
   "id": "14c094ea",
   "metadata": {},
   "outputs": [],
   "source": [
    "data['fuel_type'] = data['fuel_type'].fillna('gasoline')  "
   ]
  },
  {
   "cell_type": "code",
   "execution_count": 698,
   "id": "0acf90c3",
   "metadata": {},
   "outputs": [
    {
     "data": {
      "text/plain": [
       "array(['gasoline', 'hybrid', nan, 'electric', 'diesel', 'flex fuel',\n",
       "       'plug-in hybrid', 'bi-fuel', 'hydrogen'], dtype=object)"
      ]
     },
     "execution_count": 698,
     "metadata": {},
     "output_type": "execute_result"
    }
   ],
   "source": [
    "data['fuel_type'].unique()"
   ]
  },
  {
   "cell_type": "code",
   "execution_count": 699,
   "id": "922431b7",
   "metadata": {},
   "outputs": [
    {
     "data": {
      "text/html": [
       "<div>\n",
       "<style scoped>\n",
       "    .dataframe tbody tr th:only-of-type {\n",
       "        vertical-align: middle;\n",
       "    }\n",
       "\n",
       "    .dataframe tbody tr th {\n",
       "        vertical-align: top;\n",
       "    }\n",
       "\n",
       "    .dataframe thead th {\n",
       "        text-align: right;\n",
       "    }\n",
       "</style>\n",
       "<table border=\"1\" class=\"dataframe\">\n",
       "  <thead>\n",
       "    <tr style=\"text-align: right;\">\n",
       "      <th></th>\n",
       "      <th>Column</th>\n",
       "      <th>Unique Values</th>\n",
       "      <th>null values</th>\n",
       "    </tr>\n",
       "  </thead>\n",
       "  <tbody>\n",
       "    <tr>\n",
       "      <th>0</th>\n",
       "      <td>manufacturer</td>\n",
       "      <td>30</td>\n",
       "      <td>0</td>\n",
       "    </tr>\n",
       "    <tr>\n",
       "      <th>1</th>\n",
       "      <td>model</td>\n",
       "      <td>12187</td>\n",
       "      <td>0</td>\n",
       "    </tr>\n",
       "    <tr>\n",
       "      <th>2</th>\n",
       "      <td>year</td>\n",
       "      <td>100</td>\n",
       "      <td>0</td>\n",
       "    </tr>\n",
       "    <tr>\n",
       "      <th>3</th>\n",
       "      <td>mileage</td>\n",
       "      <td>158751</td>\n",
       "      <td>506</td>\n",
       "    </tr>\n",
       "    <tr>\n",
       "      <th>4</th>\n",
       "      <td>engine</td>\n",
       "      <td>6808</td>\n",
       "      <td>15050</td>\n",
       "    </tr>\n",
       "    <tr>\n",
       "      <th>5</th>\n",
       "      <td>transmission</td>\n",
       "      <td>1313</td>\n",
       "      <td>9904</td>\n",
       "    </tr>\n",
       "    <tr>\n",
       "      <th>6</th>\n",
       "      <td>drivetrain</td>\n",
       "      <td>33</td>\n",
       "      <td>21562</td>\n",
       "    </tr>\n",
       "    <tr>\n",
       "      <th>7</th>\n",
       "      <td>fuel_type</td>\n",
       "      <td>8</td>\n",
       "      <td>23608</td>\n",
       "    </tr>\n",
       "    <tr>\n",
       "      <th>8</th>\n",
       "      <td>mpg</td>\n",
       "      <td>865</td>\n",
       "      <td>142071</td>\n",
       "    </tr>\n",
       "    <tr>\n",
       "      <th>9</th>\n",
       "      <td>exterior_color</td>\n",
       "      <td>7681</td>\n",
       "      <td>8859</td>\n",
       "    </tr>\n",
       "    <tr>\n",
       "      <th>10</th>\n",
       "      <td>interior_color</td>\n",
       "      <td>4679</td>\n",
       "      <td>56975</td>\n",
       "    </tr>\n",
       "    <tr>\n",
       "      <th>11</th>\n",
       "      <td>accidents_or_damage</td>\n",
       "      <td>2</td>\n",
       "      <td>24212</td>\n",
       "    </tr>\n",
       "    <tr>\n",
       "      <th>12</th>\n",
       "      <td>one_owner</td>\n",
       "      <td>2</td>\n",
       "      <td>31483</td>\n",
       "    </tr>\n",
       "    <tr>\n",
       "      <th>13</th>\n",
       "      <td>personal_use_only</td>\n",
       "      <td>2</td>\n",
       "      <td>24852</td>\n",
       "    </tr>\n",
       "    <tr>\n",
       "      <th>14</th>\n",
       "      <td>seller_name</td>\n",
       "      <td>18254</td>\n",
       "      <td>8593</td>\n",
       "    </tr>\n",
       "    <tr>\n",
       "      <th>15</th>\n",
       "      <td>seller_rating</td>\n",
       "      <td>41</td>\n",
       "      <td>213973</td>\n",
       "    </tr>\n",
       "    <tr>\n",
       "      <th>16</th>\n",
       "      <td>driver_rating</td>\n",
       "      <td>35</td>\n",
       "      <td>31632</td>\n",
       "    </tr>\n",
       "    <tr>\n",
       "      <th>17</th>\n",
       "      <td>driver_reviews_num</td>\n",
       "      <td>369</td>\n",
       "      <td>0</td>\n",
       "    </tr>\n",
       "    <tr>\n",
       "      <th>18</th>\n",
       "      <td>price_drop</td>\n",
       "      <td>6404</td>\n",
       "      <td>351979</td>\n",
       "    </tr>\n",
       "    <tr>\n",
       "      <th>19</th>\n",
       "      <td>price</td>\n",
       "      <td>63464</td>\n",
       "      <td>0</td>\n",
       "    </tr>\n",
       "    <tr>\n",
       "      <th>20</th>\n",
       "      <td>engine_size</td>\n",
       "      <td>84</td>\n",
       "      <td>53794</td>\n",
       "    </tr>\n",
       "    <tr>\n",
       "      <th>21</th>\n",
       "      <td>cylinders</td>\n",
       "      <td>20</td>\n",
       "      <td>134884</td>\n",
       "    </tr>\n",
       "    <tr>\n",
       "      <th>22</th>\n",
       "      <td>valves</td>\n",
       "      <td>16</td>\n",
       "      <td>131352</td>\n",
       "    </tr>\n",
       "    <tr>\n",
       "      <th>23</th>\n",
       "      <td>aspiration</td>\n",
       "      <td>6</td>\n",
       "      <td>520390</td>\n",
       "    </tr>\n",
       "    <tr>\n",
       "      <th>24</th>\n",
       "      <td>fuel_type_2</td>\n",
       "      <td>9</td>\n",
       "      <td>629924</td>\n",
       "    </tr>\n",
       "    <tr>\n",
       "      <th>25</th>\n",
       "      <td>injection_system</td>\n",
       "      <td>14</td>\n",
       "      <td>101350</td>\n",
       "    </tr>\n",
       "    <tr>\n",
       "      <th>26</th>\n",
       "      <td>configuration</td>\n",
       "      <td>6</td>\n",
       "      <td>86719</td>\n",
       "    </tr>\n",
       "    <tr>\n",
       "      <th>27</th>\n",
       "      <td>horsepower</td>\n",
       "      <td>658</td>\n",
       "      <td>737014</td>\n",
       "    </tr>\n",
       "    <tr>\n",
       "      <th>28</th>\n",
       "      <td>fuel_category</td>\n",
       "      <td>9</td>\n",
       "      <td>629924</td>\n",
       "    </tr>\n",
       "  </tbody>\n",
       "</table>\n",
       "</div>"
      ],
      "text/plain": [
       "                 Column  Unique Values  null values\n",
       "0          manufacturer             30            0\n",
       "1                 model          12187            0\n",
       "2                  year            100            0\n",
       "3               mileage         158751          506\n",
       "4                engine           6808        15050\n",
       "5          transmission           1313         9904\n",
       "6            drivetrain             33        21562\n",
       "7             fuel_type              8        23608\n",
       "8                   mpg            865       142071\n",
       "9        exterior_color           7681         8859\n",
       "10       interior_color           4679        56975\n",
       "11  accidents_or_damage              2        24212\n",
       "12            one_owner              2        31483\n",
       "13    personal_use_only              2        24852\n",
       "14          seller_name          18254         8593\n",
       "15        seller_rating             41       213973\n",
       "16        driver_rating             35        31632\n",
       "17   driver_reviews_num            369            0\n",
       "18           price_drop           6404       351979\n",
       "19                price          63464            0\n",
       "20          engine_size             84        53794\n",
       "21            cylinders             20       134884\n",
       "22               valves             16       131352\n",
       "23           aspiration              6       520390\n",
       "24          fuel_type_2              9       629924\n",
       "25     injection_system             14       101350\n",
       "26        configuration              6        86719\n",
       "27           horsepower            658       737014\n",
       "28        fuel_category              9       629924"
      ]
     },
     "metadata": {},
     "output_type": "display_data"
    }
   ],
   "source": [
    "columns_info(data)"
   ]
  },
  {
   "cell_type": "markdown",
   "id": "916ae7da",
   "metadata": {},
   "source": [
    "## engine_size column"
   ]
  },
  {
   "cell_type": "code",
   "execution_count": 700,
   "id": "66cd14ce",
   "metadata": {},
   "outputs": [
    {
     "data": {
      "text/plain": [
       "engine_size\n",
       "2-3L    273722\n",
       "3-4L    220730\n",
       "1-2L     88499\n",
       "5-6L     49284\n",
       "6-7L     45485\n",
       "4-5L     29541\n",
       "7-8L       705\n",
       "8-9L       238\n",
       "0-1L        91\n",
       "Name: count, dtype: int64"
      ]
     },
     "execution_count": 700,
     "metadata": {},
     "output_type": "execute_result"
    }
   ],
   "source": [
    "def extract_engine_size(val):\n",
    "    try:\n",
    "        return float(str(val).lower().replace('l', '').strip())\n",
    "    except:\n",
    "        return np.nan\n",
    "\n",
    "data['engine_size'] = data['engine_size'].apply(extract_engine_size)\n",
    "\n",
    "bins = np.arange(0, 10, 1)  # 0-1L, 1-2L, ..., 8-9L\n",
    "labels = [f'{i}-{i+1}L' for i in bins[:-1]]\n",
    "data['engine_size'] = pd.cut(data['engine_size'], bins=bins, labels=labels, right=False)\n",
    "\n",
    "# View result\n",
    "data['engine_size'].value_counts()"
   ]
  },
  {
   "cell_type": "markdown",
   "id": "a9f6689b",
   "metadata": {},
   "source": [
    "## cylinders column"
   ]
  },
  {
   "cell_type": "code",
   "execution_count": 545,
   "id": "09f2eece",
   "metadata": {},
   "outputs": [
    {
     "data": {
      "text/plain": [
       "20"
      ]
     },
     "execution_count": 545,
     "metadata": {},
     "output_type": "execute_result"
    }
   ],
   "source": [
    "data['cylinders'].nunique()"
   ]
  },
  {
   "cell_type": "code",
   "execution_count": 701,
   "id": "742edaa0",
   "metadata": {},
   "outputs": [
    {
     "data": {
      "text/plain": [
       "cylinders\n",
       "i4       296663\n",
       "v6       199791\n",
       "v8        96863\n",
       "i6        23858\n",
       "i3         7446\n",
       "i5         1853\n",
       "other       700\n",
       "i2           18\n",
       "v4            5\n",
       "i8            4\n",
       "v3            3\n",
       "w8            2\n",
       "w5            1\n",
       "Name: count, dtype: int64"
      ]
     },
     "execution_count": 701,
     "metadata": {},
     "output_type": "execute_result"
    }
   ],
   "source": [
    "# 1. Mapping dictionary with lowercase keys and lowercase values\n",
    "engine_cylinders_mapping = {\n",
    "    'i3': 'i3',\n",
    "    'i4': 'i4',\n",
    "    'i5': 'i5',\n",
    "    'i6': 'i6',\n",
    "    'i8': 'i8',\n",
    "\n",
    "    'inline 2': 'i2',\n",
    "    'inline 4': 'i4',\n",
    "    'inline 5': 'i5',\n",
    "    'inline 6': 'i6',\n",
    "    'straight 6': 'i6',\n",
    "    'straight 8': 'i8',\n",
    "\n",
    "    'v3': 'v3',\n",
    "    'v4': 'v4',\n",
    "    'v6': 'v6',\n",
    "    'v8': 'v8',\n",
    "    'v1': 'other',\n",
    "    'v0': 'other',\n",
    "\n",
    "    'w1': 'other',\n",
    "    'w5': 'w5',\n",
    "    'w8': 'w8',\n",
    "\n",
    "    np.nan: np.nan,\n",
    "    None: np.nan\n",
    "}\n",
    "\n",
    "# 2. Convert column to lowercase, then map\n",
    "data['cylinders'] = data['cylinders'].str.lower().map(engine_cylinders_mapping)\n",
    "\n",
    "# 3. View result\n",
    "data['cylinders'].value_counts()\n"
   ]
  },
  {
   "cell_type": "code",
   "execution_count": 702,
   "id": "4920b083",
   "metadata": {},
   "outputs": [
    {
     "data": {
      "text/plain": [
       "13"
      ]
     },
     "execution_count": 702,
     "metadata": {},
     "output_type": "execute_result"
    }
   ],
   "source": [
    "data['cylinders'].nunique()"
   ]
  },
  {
   "cell_type": "markdown",
   "id": "895d1e44",
   "metadata": {},
   "source": [
    "## valves column"
   ]
  },
  {
   "cell_type": "code",
   "execution_count": 703,
   "id": "436357dc",
   "metadata": {},
   "outputs": [],
   "source": [
    "data['valves'] = data['valves'].str.lower().replace('697v', np.nan)"
   ]
  },
  {
   "cell_type": "code",
   "execution_count": 704,
   "id": "89e0e94d",
   "metadata": {},
   "outputs": [
    {
     "data": {
      "text/plain": [
       "valves\n",
       "16v    358208\n",
       "24v    213357\n",
       "32v     43375\n",
       "12v     12430\n",
       "20v      2076\n",
       "8v        552\n",
       "18v       227\n",
       "40v       220\n",
       "36v       128\n",
       "48v        84\n",
       "30v        63\n",
       "4v         10\n",
       "3v          5\n",
       "10v         2\n",
       "2v          1\n",
       "Name: count, dtype: int64"
      ]
     },
     "execution_count": 704,
     "metadata": {},
     "output_type": "execute_result"
    }
   ],
   "source": [
    "\n",
    "data['valves'].value_counts()"
   ]
  },
  {
   "cell_type": "markdown",
   "id": "4db0621c",
   "metadata": {},
   "source": [
    "## aspiration column"
   ]
  },
  {
   "cell_type": "code",
   "execution_count": 705,
   "id": "0f5cedc0",
   "metadata": {},
   "outputs": [
    {
     "data": {
      "text/plain": [
       "6"
      ]
     },
     "execution_count": 705,
     "metadata": {},
     "output_type": "execute_result"
    }
   ],
   "source": [
    "data['aspiration'].nunique()"
   ]
  },
  {
   "cell_type": "code",
   "execution_count": 706,
   "id": "b551795d",
   "metadata": {},
   "outputs": [
    {
     "data": {
      "text/plain": [
       "aspiration\n",
       "turbo                 196385\n",
       "twin turbo             37292\n",
       "supercharged            7497\n",
       "supercharger             386\n",
       "turbocharger              75\n",
       "natural aspiration        66\n",
       "Name: count, dtype: int64"
      ]
     },
     "execution_count": 706,
     "metadata": {},
     "output_type": "execute_result"
    }
   ],
   "source": [
    "data['aspiration'].value_counts()"
   ]
  },
  {
   "cell_type": "markdown",
   "id": "4b20183b",
   "metadata": {},
   "source": [
    "## injection column"
   ]
  },
  {
   "cell_type": "code",
   "execution_count": 708,
   "id": "5c41c071",
   "metadata": {},
   "outputs": [
    {
     "data": {
      "text/plain": [
       "injection_system\n",
       "gdi       326403\n",
       "mpfi      225014\n",
       "pdi        52185\n",
       "di         31992\n",
       "ddi        23885\n",
       "smpi         329\n",
       "spfi         273\n",
       "sidi         242\n",
       "efi          195\n",
       "tfsi          66\n",
       "mfi           65\n",
       "pgm-fi        31\n",
       "fsi           31\n",
       "sefi          30\n",
       "Name: count, dtype: int64"
      ]
     },
     "execution_count": 708,
     "metadata": {},
     "output_type": "execute_result"
    }
   ],
   "source": [
    "data['injection_system'].value_counts()"
   ]
  },
  {
   "cell_type": "markdown",
   "id": "73522c73",
   "metadata": {},
   "source": [
    "## configuration column"
   ]
  },
  {
   "cell_type": "code",
   "execution_count": 554,
   "id": "4f29da65",
   "metadata": {},
   "outputs": [
    {
     "data": {
      "text/plain": [
       "configuration\n",
       "dohc      568421\n",
       "ohv        66183\n",
       "sohc       39286\n",
       "vvt         1285\n",
       "timing       196\n",
       "vanos          1\n",
       "Name: count, dtype: int64"
      ]
     },
     "execution_count": 554,
     "metadata": {},
     "output_type": "execute_result"
    }
   ],
   "source": [
    "data['configuration'].value_counts()"
   ]
  },
  {
   "cell_type": "markdown",
   "id": "1fa3f0af",
   "metadata": {},
   "source": [
    "## engine column"
   ]
  },
  {
   "cell_type": "code",
   "execution_count": 709,
   "id": "b194d4a5",
   "metadata": {},
   "outputs": [
    {
     "data": {
      "text/plain": [
       "np.int64(15050)"
      ]
     },
     "execution_count": 709,
     "metadata": {},
     "output_type": "execute_result"
    }
   ],
   "source": [
    "data['engine'].isnull().sum()"
   ]
  },
  {
   "cell_type": "code",
   "execution_count": 710,
   "id": "a94c7824",
   "metadata": {},
   "outputs": [],
   "source": [
    "\n",
    "ENGINE_COLUMNS = [\n",
    "    'cylinders',\n",
    "    'valves',\n",
    "    'aspiration',\n",
    "    'fuel_type',\n",
    "    'injection_system',\n",
    "    'configuration'\n",
    "]\n",
    "\n",
    "data[ENGINE_COLUMNS] = data[ENGINE_COLUMNS].fillna('')\n",
    "\n",
    "def create_engine_details(row):\n",
    "    if pd.isna(row['engine']):\n",
    "        return np.nan\n",
    "    # concatenate non-empty strings with single space\n",
    "    return ' '.join(filter(None, [str(row[col]) for col in ENGINE_COLUMNS])).strip()\n",
    "\n",
    "data['ENGINE_DETAILS'] = data.apply(create_engine_details, axis=1)\n",
    "\n",
    "\n",
    "data[ENGINE_COLUMNS] = data[ENGINE_COLUMNS].replace('', np.nan)\n"
   ]
  },
  {
   "cell_type": "code",
   "execution_count": 711,
   "id": "07f15b02",
   "metadata": {},
   "outputs": [
    {
     "name": "stdout",
     "output_type": "stream",
     "text": [
      "Number of rows where both 'engine', transmission and 'fuel_type' are null: 0\n"
     ]
    }
   ],
   "source": [
    "### drop row if all mentioned column has null.\n",
    "data.dropna(subset=['engine', 'ENGINE_DETAILS'], how='all', inplace=True)\n",
    "\n",
    "### check for null\n",
    "both_null = data[data['engine'].isnull() & data['ENGINE_DETAILS'].isnull()]\n",
    "print(\"Number of rows where both 'engine', transmission and 'fuel_type' are null:\", len(both_null))"
   ]
  },
  {
   "cell_type": "code",
   "execution_count": 595,
   "id": "5cc8221a",
   "metadata": {},
   "outputs": [
    {
     "data": {
      "text/html": [
       "<div>\n",
       "<style scoped>\n",
       "    .dataframe tbody tr th:only-of-type {\n",
       "        vertical-align: middle;\n",
       "    }\n",
       "\n",
       "    .dataframe tbody tr th {\n",
       "        vertical-align: top;\n",
       "    }\n",
       "\n",
       "    .dataframe thead th {\n",
       "        text-align: right;\n",
       "    }\n",
       "</style>\n",
       "<table border=\"1\" class=\"dataframe\">\n",
       "  <thead>\n",
       "    <tr style=\"text-align: right;\">\n",
       "      <th></th>\n",
       "      <th>Column</th>\n",
       "      <th>Unique Values</th>\n",
       "      <th>null values</th>\n",
       "    </tr>\n",
       "  </thead>\n",
       "  <tbody>\n",
       "    <tr>\n",
       "      <th>0</th>\n",
       "      <td>manufacturer</td>\n",
       "      <td>30</td>\n",
       "      <td>0</td>\n",
       "    </tr>\n",
       "    <tr>\n",
       "      <th>1</th>\n",
       "      <td>model</td>\n",
       "      <td>11818</td>\n",
       "      <td>0</td>\n",
       "    </tr>\n",
       "    <tr>\n",
       "      <th>2</th>\n",
       "      <td>year</td>\n",
       "      <td>98</td>\n",
       "      <td>0</td>\n",
       "    </tr>\n",
       "    <tr>\n",
       "      <th>3</th>\n",
       "      <td>mileage</td>\n",
       "      <td>158672</td>\n",
       "      <td>494</td>\n",
       "    </tr>\n",
       "    <tr>\n",
       "      <th>4</th>\n",
       "      <td>engine</td>\n",
       "      <td>6808</td>\n",
       "      <td>0</td>\n",
       "    </tr>\n",
       "    <tr>\n",
       "      <th>5</th>\n",
       "      <td>transmission</td>\n",
       "      <td>1154</td>\n",
       "      <td>2750</td>\n",
       "    </tr>\n",
       "    <tr>\n",
       "      <th>6</th>\n",
       "      <td>drivetrain</td>\n",
       "      <td>27</td>\n",
       "      <td>8765</td>\n",
       "    </tr>\n",
       "    <tr>\n",
       "      <th>7</th>\n",
       "      <td>fuel_type</td>\n",
       "      <td>8</td>\n",
       "      <td>12153</td>\n",
       "    </tr>\n",
       "    <tr>\n",
       "      <th>8</th>\n",
       "      <td>mpg</td>\n",
       "      <td>865</td>\n",
       "      <td>127438</td>\n",
       "    </tr>\n",
       "    <tr>\n",
       "      <th>9</th>\n",
       "      <td>exterior_color</td>\n",
       "      <td>7549</td>\n",
       "      <td>0</td>\n",
       "    </tr>\n",
       "    <tr>\n",
       "      <th>10</th>\n",
       "      <td>interior_color</td>\n",
       "      <td>4371</td>\n",
       "      <td>0</td>\n",
       "    </tr>\n",
       "    <tr>\n",
       "      <th>11</th>\n",
       "      <td>accidents_or_damage</td>\n",
       "      <td>3</td>\n",
       "      <td>0</td>\n",
       "    </tr>\n",
       "    <tr>\n",
       "      <th>12</th>\n",
       "      <td>one_owner</td>\n",
       "      <td>3</td>\n",
       "      <td>0</td>\n",
       "    </tr>\n",
       "    <tr>\n",
       "      <th>13</th>\n",
       "      <td>personal_use_only</td>\n",
       "      <td>3</td>\n",
       "      <td>0</td>\n",
       "    </tr>\n",
       "    <tr>\n",
       "      <th>14</th>\n",
       "      <td>seller_name</td>\n",
       "      <td>17032</td>\n",
       "      <td>0</td>\n",
       "    </tr>\n",
       "    <tr>\n",
       "      <th>15</th>\n",
       "      <td>seller_rating</td>\n",
       "      <td>41</td>\n",
       "      <td>208512</td>\n",
       "    </tr>\n",
       "    <tr>\n",
       "      <th>16</th>\n",
       "      <td>driver_rating</td>\n",
       "      <td>35</td>\n",
       "      <td>30441</td>\n",
       "    </tr>\n",
       "    <tr>\n",
       "      <th>17</th>\n",
       "      <td>driver_reviews_num</td>\n",
       "      <td>369</td>\n",
       "      <td>0</td>\n",
       "    </tr>\n",
       "    <tr>\n",
       "      <th>18</th>\n",
       "      <td>price_drop</td>\n",
       "      <td>6347</td>\n",
       "      <td>340895</td>\n",
       "    </tr>\n",
       "    <tr>\n",
       "      <th>19</th>\n",
       "      <td>price</td>\n",
       "      <td>62850</td>\n",
       "      <td>0</td>\n",
       "    </tr>\n",
       "    <tr>\n",
       "      <th>20</th>\n",
       "      <td>engine_size</td>\n",
       "      <td>10</td>\n",
       "      <td>0</td>\n",
       "    </tr>\n",
       "    <tr>\n",
       "      <th>21</th>\n",
       "      <td>cylinders</td>\n",
       "      <td>13</td>\n",
       "      <td>119834</td>\n",
       "    </tr>\n",
       "    <tr>\n",
       "      <th>22</th>\n",
       "      <td>valves</td>\n",
       "      <td>15</td>\n",
       "      <td>116303</td>\n",
       "    </tr>\n",
       "    <tr>\n",
       "      <th>23</th>\n",
       "      <td>aspiration</td>\n",
       "      <td>6</td>\n",
       "      <td>505340</td>\n",
       "    </tr>\n",
       "    <tr>\n",
       "      <th>24</th>\n",
       "      <td>fuel_type_2</td>\n",
       "      <td>9</td>\n",
       "      <td>614874</td>\n",
       "    </tr>\n",
       "    <tr>\n",
       "      <th>25</th>\n",
       "      <td>injection_system</td>\n",
       "      <td>14</td>\n",
       "      <td>86300</td>\n",
       "    </tr>\n",
       "    <tr>\n",
       "      <th>26</th>\n",
       "      <td>configuration</td>\n",
       "      <td>6</td>\n",
       "      <td>71669</td>\n",
       "    </tr>\n",
       "    <tr>\n",
       "      <th>27</th>\n",
       "      <td>horsepower</td>\n",
       "      <td>658</td>\n",
       "      <td>721964</td>\n",
       "    </tr>\n",
       "    <tr>\n",
       "      <th>28</th>\n",
       "      <td>fuel_category</td>\n",
       "      <td>9</td>\n",
       "      <td>614874</td>\n",
       "    </tr>\n",
       "    <tr>\n",
       "      <th>29</th>\n",
       "      <td>ENGINE_DETAILS</td>\n",
       "      <td>723</td>\n",
       "      <td>0</td>\n",
       "    </tr>\n",
       "    <tr>\n",
       "      <th>30</th>\n",
       "      <td>transmission_category</td>\n",
       "      <td>6</td>\n",
       "      <td>0</td>\n",
       "    </tr>\n",
       "    <tr>\n",
       "      <th>31</th>\n",
       "      <td>engine_column</td>\n",
       "      <td>1126</td>\n",
       "      <td>0</td>\n",
       "    </tr>\n",
       "  </tbody>\n",
       "</table>\n",
       "</div>"
      ],
      "text/plain": [
       "                   Column  Unique Values  null values\n",
       "0            manufacturer             30            0\n",
       "1                   model          11818            0\n",
       "2                    year             98            0\n",
       "3                 mileage         158672          494\n",
       "4                  engine           6808            0\n",
       "5            transmission           1154         2750\n",
       "6              drivetrain             27         8765\n",
       "7               fuel_type              8        12153\n",
       "8                     mpg            865       127438\n",
       "9          exterior_color           7549            0\n",
       "10         interior_color           4371            0\n",
       "11    accidents_or_damage              3            0\n",
       "12              one_owner              3            0\n",
       "13      personal_use_only              3            0\n",
       "14            seller_name          17032            0\n",
       "15          seller_rating             41       208512\n",
       "16          driver_rating             35        30441\n",
       "17     driver_reviews_num            369            0\n",
       "18             price_drop           6347       340895\n",
       "19                  price          62850            0\n",
       "20            engine_size             10            0\n",
       "21              cylinders             13       119834\n",
       "22                 valves             15       116303\n",
       "23             aspiration              6       505340\n",
       "24            fuel_type_2              9       614874\n",
       "25       injection_system             14        86300\n",
       "26          configuration              6        71669\n",
       "27             horsepower            658       721964\n",
       "28          fuel_category              9       614874\n",
       "29         ENGINE_DETAILS            723            0\n",
       "30  transmission_category              6            0\n",
       "31          engine_column           1126            0"
      ]
     },
     "metadata": {},
     "output_type": "display_data"
    }
   ],
   "source": [
    "columns_info(data)"
   ]
  },
  {
   "cell_type": "markdown",
   "id": "951cb05e",
   "metadata": {},
   "source": [
    "## Transmission column"
   ]
  },
  {
   "cell_type": "code",
   "execution_count": 596,
   "id": "a01c76c1",
   "metadata": {},
   "outputs": [],
   "source": [
    "data['transmission']= data['transmission'].str.lower().str.strip()"
   ]
  },
  {
   "cell_type": "code",
   "execution_count": 712,
   "id": "b6f76aca",
   "metadata": {},
   "outputs": [
    {
     "data": {
      "text/plain": [
       "transmission\n",
       "Automatic         716442\n",
       "Manual             23716\n",
       "Unknown             4575\n",
       "CVT                 2258\n",
       "Dual-Clutch           49\n",
       "Semi-Automatic         1\n",
       "Name: count, dtype: int64"
      ]
     },
     "execution_count": 712,
     "metadata": {},
     "output_type": "execute_result"
    }
   ],
   "source": [
    "def map_transmission(trans):\n",
    "\n",
    "    if pd.isnull(trans):\n",
    "        return 'Unknown'\n",
    "    \n",
    "    trans = trans.lower()\n",
    "    if 'manual' in trans or 'm/t' in trans or '5-spd w/overdrive' in trans or '5-speed manual' in trans or '6 speed manual' in trans or 'manual 5-speed' in trans or 'stick' in trans or '4+3 manual' in trans or 'tremec' in trans or 'muncie' in trans or 'on the tree' in trans :\n",
    "        return 'Manual'\n",
    "    \n",
    "    elif 'automatic' in trans or 'auto' in trans or 'a/t' in trans or 'a' in trans or '6-spd seq sptshft' in trans or '7-spd S trnc Spt' in trans or '8-speed' in trans or 'geartronic' in trans or 'steptronic' in trans or 'shiftronic' in trans or 'tiptronic' in trans or 'powershift' in trans or 'selectshift' in trans or 'torqshift' in trans or 'hydramatic' in trans or 'speedshift' in trans: \n",
    "        return 'Automatic'\n",
    "    \n",
    "    elif ('cvt' in trans or 'continuously variable' in trans or \n",
    "          'ecvt' in trans or 'ivt' in trans or \n",
    "          'xtronic' in trans or 'multitronic' in trans or \n",
    "          'lineartronic' in trans or 'variabl' in trans):\n",
    "        return 'CVT'\n",
    "    \n",
    "    elif 'semi' in trans or 'sequential' in trans or 'w/dual' in trans or 'smg' in trans or 'autostick' in trans:\n",
    "        return 'Semi-Automatic'\n",
    "    \n",
    "\n",
    "    elif 'dual' in trans or 'dct' in trans or 'dual clutch' in trans or 'dual-clutch' in trans or 'double clutch' in trans or 's tronic' in trans or 'pdk' in trans or 'dsg' in trans:\n",
    "        return 'Dual-Clutch'\n",
    "    \n",
    "    elif 'tiptronic' in trans or 'shiftable' in trans or  'geartronic' in trans:\n",
    "        return 'Automatic'\n",
    "    \n",
    "    elif ('select' in trans or 'not specified' in trans or \n",
    "          'unspecified' in trans or 'unknown' in trans or \n",
    "          'other' in trans or trans.strip() in ['a', 'nan']):\n",
    "        return 'Unknown'\n",
    "\n",
    "    else:\n",
    "        return 'Unknown'\n",
    "data['transmission'] = data['transmission'].apply(map_transmission)\n",
    "data['transmission'].value_counts()"
   ]
  },
  {
   "cell_type": "code",
   "execution_count": 713,
   "id": "458ecd8e",
   "metadata": {},
   "outputs": [
    {
     "data": {
      "text/html": [
       "<div>\n",
       "<style scoped>\n",
       "    .dataframe tbody tr th:only-of-type {\n",
       "        vertical-align: middle;\n",
       "    }\n",
       "\n",
       "    .dataframe tbody tr th {\n",
       "        vertical-align: top;\n",
       "    }\n",
       "\n",
       "    .dataframe thead th {\n",
       "        text-align: right;\n",
       "    }\n",
       "</style>\n",
       "<table border=\"1\" class=\"dataframe\">\n",
       "  <thead>\n",
       "    <tr style=\"text-align: right;\">\n",
       "      <th></th>\n",
       "      <th>Column</th>\n",
       "      <th>Unique Values</th>\n",
       "      <th>null values</th>\n",
       "    </tr>\n",
       "  </thead>\n",
       "  <tbody>\n",
       "    <tr>\n",
       "      <th>0</th>\n",
       "      <td>manufacturer</td>\n",
       "      <td>30</td>\n",
       "      <td>0</td>\n",
       "    </tr>\n",
       "    <tr>\n",
       "      <th>1</th>\n",
       "      <td>model</td>\n",
       "      <td>11818</td>\n",
       "      <td>0</td>\n",
       "    </tr>\n",
       "    <tr>\n",
       "      <th>2</th>\n",
       "      <td>year</td>\n",
       "      <td>98</td>\n",
       "      <td>0</td>\n",
       "    </tr>\n",
       "    <tr>\n",
       "      <th>3</th>\n",
       "      <td>mileage</td>\n",
       "      <td>158672</td>\n",
       "      <td>494</td>\n",
       "    </tr>\n",
       "    <tr>\n",
       "      <th>4</th>\n",
       "      <td>engine</td>\n",
       "      <td>6808</td>\n",
       "      <td>0</td>\n",
       "    </tr>\n",
       "    <tr>\n",
       "      <th>5</th>\n",
       "      <td>transmission</td>\n",
       "      <td>6</td>\n",
       "      <td>0</td>\n",
       "    </tr>\n",
       "    <tr>\n",
       "      <th>6</th>\n",
       "      <td>drivetrain</td>\n",
       "      <td>27</td>\n",
       "      <td>8765</td>\n",
       "    </tr>\n",
       "    <tr>\n",
       "      <th>7</th>\n",
       "      <td>fuel_type</td>\n",
       "      <td>8</td>\n",
       "      <td>12153</td>\n",
       "    </tr>\n",
       "    <tr>\n",
       "      <th>8</th>\n",
       "      <td>mpg</td>\n",
       "      <td>865</td>\n",
       "      <td>127438</td>\n",
       "    </tr>\n",
       "    <tr>\n",
       "      <th>9</th>\n",
       "      <td>exterior_color</td>\n",
       "      <td>7548</td>\n",
       "      <td>8736</td>\n",
       "    </tr>\n",
       "    <tr>\n",
       "      <th>10</th>\n",
       "      <td>interior_color</td>\n",
       "      <td>4370</td>\n",
       "      <td>52518</td>\n",
       "    </tr>\n",
       "    <tr>\n",
       "      <th>11</th>\n",
       "      <td>accidents_or_damage</td>\n",
       "      <td>2</td>\n",
       "      <td>23381</td>\n",
       "    </tr>\n",
       "    <tr>\n",
       "      <th>12</th>\n",
       "      <td>one_owner</td>\n",
       "      <td>2</td>\n",
       "      <td>29849</td>\n",
       "    </tr>\n",
       "    <tr>\n",
       "      <th>13</th>\n",
       "      <td>personal_use_only</td>\n",
       "      <td>2</td>\n",
       "      <td>23805</td>\n",
       "    </tr>\n",
       "    <tr>\n",
       "      <th>14</th>\n",
       "      <td>seller_name</td>\n",
       "      <td>17031</td>\n",
       "      <td>8422</td>\n",
       "    </tr>\n",
       "    <tr>\n",
       "      <th>15</th>\n",
       "      <td>seller_rating</td>\n",
       "      <td>41</td>\n",
       "      <td>208512</td>\n",
       "    </tr>\n",
       "    <tr>\n",
       "      <th>16</th>\n",
       "      <td>driver_rating</td>\n",
       "      <td>35</td>\n",
       "      <td>30441</td>\n",
       "    </tr>\n",
       "    <tr>\n",
       "      <th>17</th>\n",
       "      <td>driver_reviews_num</td>\n",
       "      <td>369</td>\n",
       "      <td>0</td>\n",
       "    </tr>\n",
       "    <tr>\n",
       "      <th>18</th>\n",
       "      <td>price_drop</td>\n",
       "      <td>6347</td>\n",
       "      <td>340895</td>\n",
       "    </tr>\n",
       "    <tr>\n",
       "      <th>19</th>\n",
       "      <td>price</td>\n",
       "      <td>62850</td>\n",
       "      <td>0</td>\n",
       "    </tr>\n",
       "    <tr>\n",
       "      <th>20</th>\n",
       "      <td>engine_size</td>\n",
       "      <td>9</td>\n",
       "      <td>38746</td>\n",
       "    </tr>\n",
       "    <tr>\n",
       "      <th>21</th>\n",
       "      <td>cylinders</td>\n",
       "      <td>13</td>\n",
       "      <td>119834</td>\n",
       "    </tr>\n",
       "    <tr>\n",
       "      <th>22</th>\n",
       "      <td>valves</td>\n",
       "      <td>15</td>\n",
       "      <td>116303</td>\n",
       "    </tr>\n",
       "    <tr>\n",
       "      <th>23</th>\n",
       "      <td>aspiration</td>\n",
       "      <td>6</td>\n",
       "      <td>505340</td>\n",
       "    </tr>\n",
       "    <tr>\n",
       "      <th>24</th>\n",
       "      <td>fuel_type_2</td>\n",
       "      <td>9</td>\n",
       "      <td>614874</td>\n",
       "    </tr>\n",
       "    <tr>\n",
       "      <th>25</th>\n",
       "      <td>injection_system</td>\n",
       "      <td>14</td>\n",
       "      <td>86300</td>\n",
       "    </tr>\n",
       "    <tr>\n",
       "      <th>26</th>\n",
       "      <td>configuration</td>\n",
       "      <td>6</td>\n",
       "      <td>71669</td>\n",
       "    </tr>\n",
       "    <tr>\n",
       "      <th>27</th>\n",
       "      <td>horsepower</td>\n",
       "      <td>658</td>\n",
       "      <td>721964</td>\n",
       "    </tr>\n",
       "    <tr>\n",
       "      <th>28</th>\n",
       "      <td>fuel_category</td>\n",
       "      <td>9</td>\n",
       "      <td>614874</td>\n",
       "    </tr>\n",
       "    <tr>\n",
       "      <th>29</th>\n",
       "      <td>ENGINE_DETAILS</td>\n",
       "      <td>723</td>\n",
       "      <td>0</td>\n",
       "    </tr>\n",
       "  </tbody>\n",
       "</table>\n",
       "</div>"
      ],
      "text/plain": [
       "                 Column  Unique Values  null values\n",
       "0          manufacturer             30            0\n",
       "1                 model          11818            0\n",
       "2                  year             98            0\n",
       "3               mileage         158672          494\n",
       "4                engine           6808            0\n",
       "5          transmission              6            0\n",
       "6            drivetrain             27         8765\n",
       "7             fuel_type              8        12153\n",
       "8                   mpg            865       127438\n",
       "9        exterior_color           7548         8736\n",
       "10       interior_color           4370        52518\n",
       "11  accidents_or_damage              2        23381\n",
       "12            one_owner              2        29849\n",
       "13    personal_use_only              2        23805\n",
       "14          seller_name          17031         8422\n",
       "15        seller_rating             41       208512\n",
       "16        driver_rating             35        30441\n",
       "17   driver_reviews_num            369            0\n",
       "18           price_drop           6347       340895\n",
       "19                price          62850            0\n",
       "20          engine_size              9        38746\n",
       "21            cylinders             13       119834\n",
       "22               valves             15       116303\n",
       "23           aspiration              6       505340\n",
       "24          fuel_type_2              9       614874\n",
       "25     injection_system             14        86300\n",
       "26        configuration              6        71669\n",
       "27           horsepower            658       721964\n",
       "28        fuel_category              9       614874\n",
       "29       ENGINE_DETAILS            723            0"
      ]
     },
     "metadata": {},
     "output_type": "display_data"
    }
   ],
   "source": [
    "columns_info(data)"
   ]
  },
  {
   "cell_type": "code",
   "execution_count": 714,
   "id": "86e40c6e",
   "metadata": {},
   "outputs": [
    {
     "data": {
      "text/html": [
       "<div>\n",
       "<style scoped>\n",
       "    .dataframe tbody tr th:only-of-type {\n",
       "        vertical-align: middle;\n",
       "    }\n",
       "\n",
       "    .dataframe tbody tr th {\n",
       "        vertical-align: top;\n",
       "    }\n",
       "\n",
       "    .dataframe thead th {\n",
       "        text-align: right;\n",
       "    }\n",
       "</style>\n",
       "<table border=\"1\" class=\"dataframe\">\n",
       "  <thead>\n",
       "    <tr style=\"text-align: right;\">\n",
       "      <th></th>\n",
       "      <th>manufacturer</th>\n",
       "      <th>model</th>\n",
       "      <th>year</th>\n",
       "      <th>mileage</th>\n",
       "      <th>engine</th>\n",
       "      <th>transmission</th>\n",
       "      <th>drivetrain</th>\n",
       "      <th>fuel_type</th>\n",
       "      <th>mpg</th>\n",
       "      <th>exterior_color</th>\n",
       "      <th>...</th>\n",
       "      <th>engine_size</th>\n",
       "      <th>cylinders</th>\n",
       "      <th>valves</th>\n",
       "      <th>aspiration</th>\n",
       "      <th>fuel_type_2</th>\n",
       "      <th>injection_system</th>\n",
       "      <th>configuration</th>\n",
       "      <th>horsepower</th>\n",
       "      <th>fuel_category</th>\n",
       "      <th>ENGINE_DETAILS</th>\n",
       "    </tr>\n",
       "  </thead>\n",
       "  <tbody>\n",
       "  </tbody>\n",
       "</table>\n",
       "<p>0 rows × 30 columns</p>\n",
       "</div>"
      ],
      "text/plain": [
       "Empty DataFrame\n",
       "Columns: [manufacturer, model, year, mileage, engine, transmission, drivetrain, fuel_type, mpg, exterior_color, interior_color, accidents_or_damage, one_owner, personal_use_only, seller_name, seller_rating, driver_rating, driver_reviews_num, price_drop, price, engine_size, cylinders, valves, aspiration, fuel_type_2, injection_system, configuration, horsepower, fuel_category, ENGINE_DETAILS]\n",
       "Index: []\n",
       "\n",
       "[0 rows x 30 columns]"
      ]
     },
     "execution_count": 714,
     "metadata": {},
     "output_type": "execute_result"
    }
   ],
   "source": [
    "engine_null = data[pd.isna(data['engine'])]\n",
    "engine_null\n",
    "# data['engine'].isnull().sum()"
   ]
  },
  {
   "cell_type": "markdown",
   "id": "3b3121dd-9412-4d9b-85a2-92c301539b4f",
   "metadata": {},
   "source": [
    "###  'Mileage' column"
   ]
  },
  {
   "cell_type": "code",
   "execution_count": 715,
   "id": "35f9fbae-b168-4bac-adad-24774440f459",
   "metadata": {},
   "outputs": [
    {
     "data": {
      "application/vnd.plotly.v1+json": {
       "config": {
        "plotlyServerURL": "https://plot.ly"
       },
       "data": [
        {
         "hovertemplate": "Mileage=%{x}<br>Density=%{y}<extra></extra>",
         "legendgroup": "",
         "line": {
          "color": "#636efa",
          "dash": "solid"
         },
         "marker": {
          "symbol": "circle"
         },
         "mode": "lines",
         "name": "",
         "orientation": "v",
         "showlegend": false,
         "type": "scatter",
         "x": {
          "bdata": "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",
          "dtype": "f8"
         },
         "xaxis": "x",
         "y": {
          "bdata": "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",
          "dtype": "f8"
         },
         "yaxis": "y"
        }
       ],
       "layout": {
        "legend": {
         "tracegroupgap": 0
        },
        "template": {
         "data": {
          "bar": [
           {
            "error_x": {
             "color": "#2a3f5f"
            },
            "error_y": {
             "color": "#2a3f5f"
            },
            "marker": {
             "line": {
              "color": "white",
              "width": 0.5
             },
             "pattern": {
              "fillmode": "overlay",
              "size": 10,
              "solidity": 0.2
             }
            },
            "type": "bar"
           }
          ],
          "barpolar": [
           {
            "marker": {
             "line": {
              "color": "white",
              "width": 0.5
             },
             "pattern": {
              "fillmode": "overlay",
              "size": 10,
              "solidity": 0.2
             }
            },
            "type": "barpolar"
           }
          ],
          "carpet": [
           {
            "aaxis": {
             "endlinecolor": "#2a3f5f",
             "gridcolor": "#C8D4E3",
             "linecolor": "#C8D4E3",
             "minorgridcolor": "#C8D4E3",
             "startlinecolor": "#2a3f5f"
            },
            "baxis": {
             "endlinecolor": "#2a3f5f",
             "gridcolor": "#C8D4E3",
             "linecolor": "#C8D4E3",
             "minorgridcolor": "#C8D4E3",
             "startlinecolor": "#2a3f5f"
            },
            "type": "carpet"
           }
          ],
          "choropleth": [
           {
            "colorbar": {
             "outlinewidth": 0,
             "ticks": ""
            },
            "type": "choropleth"
           }
          ],
          "contour": [
           {
            "colorbar": {
             "outlinewidth": 0,
             "ticks": ""
            },
            "colorscale": [
             [
              0,
              "#0d0887"
             ],
             [
              0.1111111111111111,
              "#46039f"
             ],
             [
              0.2222222222222222,
              "#7201a8"
             ],
             [
              0.3333333333333333,
              "#9c179e"
             ],
             [
              0.4444444444444444,
              "#bd3786"
             ],
             [
              0.5555555555555556,
              "#d8576b"
             ],
             [
              0.6666666666666666,
              "#ed7953"
             ],
             [
              0.7777777777777778,
              "#fb9f3a"
             ],
             [
              0.8888888888888888,
              "#fdca26"
             ],
             [
              1,
              "#f0f921"
             ]
            ],
            "type": "contour"
           }
          ],
          "contourcarpet": [
           {
            "colorbar": {
             "outlinewidth": 0,
             "ticks": ""
            },
            "type": "contourcarpet"
           }
          ],
          "heatmap": [
           {
            "colorbar": {
             "outlinewidth": 0,
             "ticks": ""
            },
            "colorscale": [
             [
              0,
              "#0d0887"
             ],
             [
              0.1111111111111111,
              "#46039f"
             ],
             [
              0.2222222222222222,
              "#7201a8"
             ],
             [
              0.3333333333333333,
              "#9c179e"
             ],
             [
              0.4444444444444444,
              "#bd3786"
             ],
             [
              0.5555555555555556,
              "#d8576b"
             ],
             [
              0.6666666666666666,
              "#ed7953"
             ],
             [
              0.7777777777777778,
              "#fb9f3a"
             ],
             [
              0.8888888888888888,
              "#fdca26"
             ],
             [
              1,
              "#f0f921"
             ]
            ],
            "type": "heatmap"
           }
          ],
          "histogram": [
           {
            "marker": {
             "pattern": {
              "fillmode": "overlay",
              "size": 10,
              "solidity": 0.2
             }
            },
            "type": "histogram"
           }
          ],
          "histogram2d": [
           {
            "colorbar": {
             "outlinewidth": 0,
             "ticks": ""
            },
            "colorscale": [
             [
              0,
              "#0d0887"
             ],
             [
              0.1111111111111111,
              "#46039f"
             ],
             [
              0.2222222222222222,
              "#7201a8"
             ],
             [
              0.3333333333333333,
              "#9c179e"
             ],
             [
              0.4444444444444444,
              "#bd3786"
             ],
             [
              0.5555555555555556,
              "#d8576b"
             ],
             [
              0.6666666666666666,
              "#ed7953"
             ],
             [
              0.7777777777777778,
              "#fb9f3a"
             ],
             [
              0.8888888888888888,
              "#fdca26"
             ],
             [
              1,
              "#f0f921"
             ]
            ],
            "type": "histogram2d"
           }
          ],
          "histogram2dcontour": [
           {
            "colorbar": {
             "outlinewidth": 0,
             "ticks": ""
            },
            "colorscale": [
             [
              0,
              "#0d0887"
             ],
             [
              0.1111111111111111,
              "#46039f"
             ],
             [
              0.2222222222222222,
              "#7201a8"
             ],
             [
              0.3333333333333333,
              "#9c179e"
             ],
             [
              0.4444444444444444,
              "#bd3786"
             ],
             [
              0.5555555555555556,
              "#d8576b"
             ],
             [
              0.6666666666666666,
              "#ed7953"
             ],
             [
              0.7777777777777778,
              "#fb9f3a"
             ],
             [
              0.8888888888888888,
              "#fdca26"
             ],
             [
              1,
              "#f0f921"
             ]
            ],
            "type": "histogram2dcontour"
           }
          ],
          "mesh3d": [
           {
            "colorbar": {
             "outlinewidth": 0,
             "ticks": ""
            },
            "type": "mesh3d"
           }
          ],
          "parcoords": [
           {
            "line": {
             "colorbar": {
              "outlinewidth": 0,
              "ticks": ""
             }
            },
            "type": "parcoords"
           }
          ],
          "pie": [
           {
            "automargin": true,
            "type": "pie"
           }
          ],
          "scatter": [
           {
            "fillpattern": {
             "fillmode": "overlay",
             "size": 10,
             "solidity": 0.2
            },
            "type": "scatter"
           }
          ],
          "scatter3d": [
           {
            "line": {
             "colorbar": {
              "outlinewidth": 0,
              "ticks": ""
             }
            },
            "marker": {
             "colorbar": {
              "outlinewidth": 0,
              "ticks": ""
             }
            },
            "type": "scatter3d"
           }
          ],
          "scattercarpet": [
           {
            "marker": {
             "colorbar": {
              "outlinewidth": 0,
              "ticks": ""
             }
            },
            "type": "scattercarpet"
           }
          ],
          "scattergeo": [
           {
            "marker": {
             "colorbar": {
              "outlinewidth": 0,
              "ticks": ""
             }
            },
            "type": "scattergeo"
           }
          ],
          "scattergl": [
           {
            "marker": {
             "colorbar": {
              "outlinewidth": 0,
              "ticks": ""
             }
            },
            "type": "scattergl"
           }
          ],
          "scattermap": [
           {
            "marker": {
             "colorbar": {
              "outlinewidth": 0,
              "ticks": ""
             }
            },
            "type": "scattermap"
           }
          ],
          "scattermapbox": [
           {
            "marker": {
             "colorbar": {
              "outlinewidth": 0,
              "ticks": ""
             }
            },
            "type": "scattermapbox"
           }
          ],
          "scatterpolar": [
           {
            "marker": {
             "colorbar": {
              "outlinewidth": 0,
              "ticks": ""
             }
            },
            "type": "scatterpolar"
           }
          ],
          "scatterpolargl": [
           {
            "marker": {
             "colorbar": {
              "outlinewidth": 0,
              "ticks": ""
             }
            },
            "type": "scatterpolargl"
           }
          ],
          "scatterternary": [
           {
            "marker": {
             "colorbar": {
              "outlinewidth": 0,
              "ticks": ""
             }
            },
            "type": "scatterternary"
           }
          ],
          "surface": [
           {
            "colorbar": {
             "outlinewidth": 0,
             "ticks": ""
            },
            "colorscale": [
             [
              0,
              "#0d0887"
             ],
             [
              0.1111111111111111,
              "#46039f"
             ],
             [
              0.2222222222222222,
              "#7201a8"
             ],
             [
              0.3333333333333333,
              "#9c179e"
             ],
             [
              0.4444444444444444,
              "#bd3786"
             ],
             [
              0.5555555555555556,
              "#d8576b"
             ],
             [
              0.6666666666666666,
              "#ed7953"
             ],
             [
              0.7777777777777778,
              "#fb9f3a"
             ],
             [
              0.8888888888888888,
              "#fdca26"
             ],
             [
              1,
              "#f0f921"
             ]
            ],
            "type": "surface"
           }
          ],
          "table": [
           {
            "cells": {
             "fill": {
              "color": "#EBF0F8"
             },
             "line": {
              "color": "white"
             }
            },
            "header": {
             "fill": {
              "color": "#C8D4E3"
             },
             "line": {
              "color": "white"
             }
            },
            "type": "table"
           }
          ]
         },
         "layout": {
          "annotationdefaults": {
           "arrowcolor": "#2a3f5f",
           "arrowhead": 0,
           "arrowwidth": 1
          },
          "autotypenumbers": "strict",
          "coloraxis": {
           "colorbar": {
            "outlinewidth": 0,
            "ticks": ""
           }
          },
          "colorscale": {
           "diverging": [
            [
             0,
             "#8e0152"
            ],
            [
             0.1,
             "#c51b7d"
            ],
            [
             0.2,
             "#de77ae"
            ],
            [
             0.3,
             "#f1b6da"
            ],
            [
             0.4,
             "#fde0ef"
            ],
            [
             0.5,
             "#f7f7f7"
            ],
            [
             0.6,
             "#e6f5d0"
            ],
            [
             0.7,
             "#b8e186"
            ],
            [
             0.8,
             "#7fbc41"
            ],
            [
             0.9,
             "#4d9221"
            ],
            [
             1,
             "#276419"
            ]
           ],
           "sequential": [
            [
             0,
             "#0d0887"
            ],
            [
             0.1111111111111111,
             "#46039f"
            ],
            [
             0.2222222222222222,
             "#7201a8"
            ],
            [
             0.3333333333333333,
             "#9c179e"
            ],
            [
             0.4444444444444444,
             "#bd3786"
            ],
            [
             0.5555555555555556,
             "#d8576b"
            ],
            [
             0.6666666666666666,
             "#ed7953"
            ],
            [
             0.7777777777777778,
             "#fb9f3a"
            ],
            [
             0.8888888888888888,
             "#fdca26"
            ],
            [
             1,
             "#f0f921"
            ]
           ],
           "sequentialminus": [
            [
             0,
             "#0d0887"
            ],
            [
             0.1111111111111111,
             "#46039f"
            ],
            [
             0.2222222222222222,
             "#7201a8"
            ],
            [
             0.3333333333333333,
             "#9c179e"
            ],
            [
             0.4444444444444444,
             "#bd3786"
            ],
            [
             0.5555555555555556,
             "#d8576b"
            ],
            [
             0.6666666666666666,
             "#ed7953"
            ],
            [
             0.7777777777777778,
             "#fb9f3a"
            ],
            [
             0.8888888888888888,
             "#fdca26"
            ],
            [
             1,
             "#f0f921"
            ]
           ]
          },
          "colorway": [
           "#636efa",
           "#EF553B",
           "#00cc96",
           "#ab63fa",
           "#FFA15A",
           "#19d3f3",
           "#FF6692",
           "#B6E880",
           "#FF97FF",
           "#FECB52"
          ],
          "font": {
           "color": "#2a3f5f"
          },
          "geo": {
           "bgcolor": "white",
           "lakecolor": "white",
           "landcolor": "white",
           "showlakes": true,
           "showland": true,
           "subunitcolor": "#C8D4E3"
          },
          "hoverlabel": {
           "align": "left"
          },
          "hovermode": "closest",
          "mapbox": {
           "style": "light"
          },
          "paper_bgcolor": "white",
          "plot_bgcolor": "white",
          "polar": {
           "angularaxis": {
            "gridcolor": "#EBF0F8",
            "linecolor": "#EBF0F8",
            "ticks": ""
           },
           "bgcolor": "white",
           "radialaxis": {
            "gridcolor": "#EBF0F8",
            "linecolor": "#EBF0F8",
            "ticks": ""
           }
          },
          "scene": {
           "xaxis": {
            "backgroundcolor": "white",
            "gridcolor": "#DFE8F3",
            "gridwidth": 2,
            "linecolor": "#EBF0F8",
            "showbackground": true,
            "ticks": "",
            "zerolinecolor": "#EBF0F8"
           },
           "yaxis": {
            "backgroundcolor": "white",
            "gridcolor": "#DFE8F3",
            "gridwidth": 2,
            "linecolor": "#EBF0F8",
            "showbackground": true,
            "ticks": "",
            "zerolinecolor": "#EBF0F8"
           },
           "zaxis": {
            "backgroundcolor": "white",
            "gridcolor": "#DFE8F3",
            "gridwidth": 2,
            "linecolor": "#EBF0F8",
            "showbackground": true,
            "ticks": "",
            "zerolinecolor": "#EBF0F8"
           }
          },
          "shapedefaults": {
           "line": {
            "color": "#2a3f5f"
           }
          },
          "ternary": {
           "aaxis": {
            "gridcolor": "#DFE8F3",
            "linecolor": "#A2B1C6",
            "ticks": ""
           },
           "baxis": {
            "gridcolor": "#DFE8F3",
            "linecolor": "#A2B1C6",
            "ticks": ""
           },
           "bgcolor": "white",
           "caxis": {
            "gridcolor": "#DFE8F3",
            "linecolor": "#A2B1C6",
            "ticks": ""
           }
          },
          "title": {
           "x": 0.05
          },
          "xaxis": {
           "automargin": true,
           "gridcolor": "#EBF0F8",
           "linecolor": "#EBF0F8",
           "ticks": "",
           "title": {
            "standoff": 15
           },
           "zerolinecolor": "#EBF0F8",
           "zerolinewidth": 2
          },
          "yaxis": {
           "automargin": true,
           "gridcolor": "#EBF0F8",
           "linecolor": "#EBF0F8",
           "ticks": "",
           "title": {
            "standoff": 15
           },
           "zerolinecolor": "#EBF0F8",
           "zerolinewidth": 2
          }
         }
        },
        "title": {
         "text": "Mileage Bell Curve (KDE)"
        },
        "xaxis": {
         "anchor": "y",
         "domain": [
          0,
          1
         ],
         "title": {
          "text": "Mileage"
         }
        },
        "yaxis": {
         "anchor": "x",
         "domain": [
          0,
          1
         ],
         "title": {
          "text": "Density"
         }
        }
       }
      }
     },
     "metadata": {},
     "output_type": "display_data"
    }
   ],
   "source": [
    "mileage = data['mileage'].dropna()\n",
    "\n",
    "kde = gaussian_kde(mileage)\n",
    "x = np.linspace(mileage.min(), mileage.max(), 500)\n",
    "y = kde(x)\n",
    "\n",
    "fig = px.line(x=x, y=y, labels={'x': 'Mileage', 'y': 'Density'}, title='Mileage Bell Curve (KDE)')\n",
    "fig.update_layout(template='plotly_white')\n",
    "\n",
    "fig.show()"
   ]
  },
  {
   "cell_type": "code",
   "execution_count": 716,
   "id": "ba446319-3fa9-4d90-8730-930c327a730b",
   "metadata": {},
   "outputs": [
    {
     "data": {
      "text/plain": [
       "np.int64(494)"
      ]
     },
     "execution_count": 716,
     "metadata": {},
     "output_type": "execute_result"
    }
   ],
   "source": [
    "data['mileage'].isnull().sum()"
   ]
  },
  {
   "cell_type": "code",
   "execution_count": 602,
   "id": "6e7d7bfc-5ac4-41ce-a035-3a6af40e7910",
   "metadata": {},
   "outputs": [],
   "source": [
    "data['age'] = 2023 - data['year']\n",
    "\n",
    "data['age_group'] = pd.cut(\n",
    "    data['age'],\n",
    "    bins=[0, 20, 40, 80, 108],\n",
    "    labels=['0-20', '21-40', '41-80', '81+']\n",
    ")\n",
    "\n",
    "df_20 = data[data['age_group'] == '0-20']\n",
    "df_40 = data[data['age_group'] == '21-40']\n",
    "df_80 = data[data['age_group'] == '41-80']\n",
    "df_80_plus = data[data['age_group'] == '81+']"
   ]
  },
  {
   "cell_type": "code",
   "execution_count": 603,
   "id": "7aafd60e-160f-475d-8b75-2fd45ecf5174",
   "metadata": {},
   "outputs": [
    {
     "data": {
      "text/plain": [
       "count    7.205360e+05\n",
       "mean     5.720791e+04\n",
       "std      4.274810e+04\n",
       "min      0.000000e+00\n",
       "25%      2.513800e+04\n",
       "50%      4.737700e+04\n",
       "75%      7.971500e+04\n",
       "max      1.119067e+06\n",
       "Name: mileage, dtype: float64"
      ]
     },
     "execution_count": 603,
     "metadata": {},
     "output_type": "execute_result"
    }
   ],
   "source": [
    "df_20['mileage'].describe()"
   ]
  },
  {
   "cell_type": "code",
   "execution_count": 604,
   "id": "984463fe-47f5-4adb-b099-5108431e7da0",
   "metadata": {},
   "outputs": [
    {
     "data": {
      "text/plain": [
       "count      6560.000000\n",
       "mean     108493.888262\n",
       "std       71424.333383\n",
       "min           0.000000\n",
       "25%       55545.250000\n",
       "50%       97956.000000\n",
       "75%      153028.250000\n",
       "max      999999.000000\n",
       "Name: mileage, dtype: float64"
      ]
     },
     "execution_count": 604,
     "metadata": {},
     "output_type": "execute_result"
    }
   ],
   "source": [
    "df_40['mileage'].describe()"
   ]
  },
  {
   "cell_type": "code",
   "execution_count": 605,
   "id": "71098bd0-8442-49ed-b566-1cbd93d22653",
   "metadata": {},
   "outputs": [
    {
     "data": {
      "text/plain": [
       "count      1765.000000\n",
       "mean      39732.109915\n",
       "std       45063.490053\n",
       "min           0.000000\n",
       "25%        3400.000000\n",
       "50%       31787.000000\n",
       "75%       67752.000000\n",
       "max      999999.000000\n",
       "Name: mileage, dtype: float64"
      ]
     },
     "execution_count": 605,
     "metadata": {},
     "output_type": "execute_result"
    }
   ],
   "source": [
    "df_80['mileage'].describe()"
   ]
  },
  {
   "cell_type": "code",
   "execution_count": 606,
   "id": "c1f85b5a-93a2-45be-9100-8a8d201f6913",
   "metadata": {},
   "outputs": [
    {
     "data": {
      "text/plain": [
       "count      125.000000\n",
       "mean     19424.088000\n",
       "std      27020.034248\n",
       "min          0.000000\n",
       "25%        142.000000\n",
       "50%       5724.000000\n",
       "75%      28844.000000\n",
       "max      99944.000000\n",
       "Name: mileage, dtype: float64"
      ]
     },
     "execution_count": 606,
     "metadata": {},
     "output_type": "execute_result"
    }
   ],
   "source": [
    "df_80_plus['mileage'].describe()"
   ]
  },
  {
   "cell_type": "code",
   "execution_count": 607,
   "id": "6c10a3fe-5cae-4f2a-af23-c75e1ad54697",
   "metadata": {},
   "outputs": [
    {
     "name": "stdout",
     "output_type": "stream",
     "text": [
      "✅ Mileage nulls remaining: 0\n"
     ]
    }
   ],
   "source": [
    "data.loc[(data['age'] >= 0) & (data['age'] <= 20) & (data['mileage'].isna()), 'mileage'] = 46625.0\n",
    "data.loc[(data['age'] > 20) & (data['age'] <= 40) & (data['mileage'].isna()), 'mileage'] = 97518.5\n",
    "data.loc[(data['age'] > 40) & (data['age'] <= 80) & (data['mileage'].isna()), 'mileage'] = 27995.5\n",
    "data.loc[(data['age'] > 80) & (data['mileage'].isna()), 'mileage'] = 5559.5\n",
    "\n",
    "data.fillna({'mileage': data['mileage'].median()}, inplace=True)\n",
    "\n",
    "\n",
    "missing_count = data['mileage'].isna().sum()\n",
    "print(f\"✅ Mileage nulls remaining: {missing_count}\")\n"
   ]
  },
  {
   "cell_type": "code",
   "execution_count": 608,
   "id": "c8709ebe-d23d-446a-82b6-121185c4b4cc",
   "metadata": {},
   "outputs": [
    {
     "data": {
      "application/vnd.plotly.v1+json": {
       "config": {
        "plotlyServerURL": "https://plot.ly"
       },
       "data": [
        {
         "hovertemplate": "Mileage=%{x}<br>Density=%{y}<extra></extra>",
         "legendgroup": "",
         "line": {
          "color": "#636efa",
          "dash": "solid"
         },
         "marker": {
          "symbol": "circle"
         },
         "mode": "lines",
         "name": "",
         "orientation": "v",
         "showlegend": false,
         "type": "scatter",
         "x": {
          "bdata": "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",
          "dtype": "f8"
         },
         "xaxis": "x",
         "y": {
          "bdata": "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",
          "dtype": "f8"
         },
         "yaxis": "y"
        }
       ],
       "layout": {
        "legend": {
         "tracegroupgap": 0
        },
        "template": {
         "data": {
          "bar": [
           {
            "error_x": {
             "color": "#2a3f5f"
            },
            "error_y": {
             "color": "#2a3f5f"
            },
            "marker": {
             "line": {
              "color": "white",
              "width": 0.5
             },
             "pattern": {
              "fillmode": "overlay",
              "size": 10,
              "solidity": 0.2
             }
            },
            "type": "bar"
           }
          ],
          "barpolar": [
           {
            "marker": {
             "line": {
              "color": "white",
              "width": 0.5
             },
             "pattern": {
              "fillmode": "overlay",
              "size": 10,
              "solidity": 0.2
             }
            },
            "type": "barpolar"
           }
          ],
          "carpet": [
           {
            "aaxis": {
             "endlinecolor": "#2a3f5f",
             "gridcolor": "#C8D4E3",
             "linecolor": "#C8D4E3",
             "minorgridcolor": "#C8D4E3",
             "startlinecolor": "#2a3f5f"
            },
            "baxis": {
             "endlinecolor": "#2a3f5f",
             "gridcolor": "#C8D4E3",
             "linecolor": "#C8D4E3",
             "minorgridcolor": "#C8D4E3",
             "startlinecolor": "#2a3f5f"
            },
            "type": "carpet"
           }
          ],
          "choropleth": [
           {
            "colorbar": {
             "outlinewidth": 0,
             "ticks": ""
            },
            "type": "choropleth"
           }
          ],
          "contour": [
           {
            "colorbar": {
             "outlinewidth": 0,
             "ticks": ""
            },
            "colorscale": [
             [
              0,
              "#0d0887"
             ],
             [
              0.1111111111111111,
              "#46039f"
             ],
             [
              0.2222222222222222,
              "#7201a8"
             ],
             [
              0.3333333333333333,
              "#9c179e"
             ],
             [
              0.4444444444444444,
              "#bd3786"
             ],
             [
              0.5555555555555556,
              "#d8576b"
             ],
             [
              0.6666666666666666,
              "#ed7953"
             ],
             [
              0.7777777777777778,
              "#fb9f3a"
             ],
             [
              0.8888888888888888,
              "#fdca26"
             ],
             [
              1,
              "#f0f921"
             ]
            ],
            "type": "contour"
           }
          ],
          "contourcarpet": [
           {
            "colorbar": {
             "outlinewidth": 0,
             "ticks": ""
            },
            "type": "contourcarpet"
           }
          ],
          "heatmap": [
           {
            "colorbar": {
             "outlinewidth": 0,
             "ticks": ""
            },
            "colorscale": [
             [
              0,
              "#0d0887"
             ],
             [
              0.1111111111111111,
              "#46039f"
             ],
             [
              0.2222222222222222,
              "#7201a8"
             ],
             [
              0.3333333333333333,
              "#9c179e"
             ],
             [
              0.4444444444444444,
              "#bd3786"
             ],
             [
              0.5555555555555556,
              "#d8576b"
             ],
             [
              0.6666666666666666,
              "#ed7953"
             ],
             [
              0.7777777777777778,
              "#fb9f3a"
             ],
             [
              0.8888888888888888,
              "#fdca26"
             ],
             [
              1,
              "#f0f921"
             ]
            ],
            "type": "heatmap"
           }
          ],
          "histogram": [
           {
            "marker": {
             "pattern": {
              "fillmode": "overlay",
              "size": 10,
              "solidity": 0.2
             }
            },
            "type": "histogram"
           }
          ],
          "histogram2d": [
           {
            "colorbar": {
             "outlinewidth": 0,
             "ticks": ""
            },
            "colorscale": [
             [
              0,
              "#0d0887"
             ],
             [
              0.1111111111111111,
              "#46039f"
             ],
             [
              0.2222222222222222,
              "#7201a8"
             ],
             [
              0.3333333333333333,
              "#9c179e"
             ],
             [
              0.4444444444444444,
              "#bd3786"
             ],
             [
              0.5555555555555556,
              "#d8576b"
             ],
             [
              0.6666666666666666,
              "#ed7953"
             ],
             [
              0.7777777777777778,
              "#fb9f3a"
             ],
             [
              0.8888888888888888,
              "#fdca26"
             ],
             [
              1,
              "#f0f921"
             ]
            ],
            "type": "histogram2d"
           }
          ],
          "histogram2dcontour": [
           {
            "colorbar": {
             "outlinewidth": 0,
             "ticks": ""
            },
            "colorscale": [
             [
              0,
              "#0d0887"
             ],
             [
              0.1111111111111111,
              "#46039f"
             ],
             [
              0.2222222222222222,
              "#7201a8"
             ],
             [
              0.3333333333333333,
              "#9c179e"
             ],
             [
              0.4444444444444444,
              "#bd3786"
             ],
             [
              0.5555555555555556,
              "#d8576b"
             ],
             [
              0.6666666666666666,
              "#ed7953"
             ],
             [
              0.7777777777777778,
              "#fb9f3a"
             ],
             [
              0.8888888888888888,
              "#fdca26"
             ],
             [
              1,
              "#f0f921"
             ]
            ],
            "type": "histogram2dcontour"
           }
          ],
          "mesh3d": [
           {
            "colorbar": {
             "outlinewidth": 0,
             "ticks": ""
            },
            "type": "mesh3d"
           }
          ],
          "parcoords": [
           {
            "line": {
             "colorbar": {
              "outlinewidth": 0,
              "ticks": ""
             }
            },
            "type": "parcoords"
           }
          ],
          "pie": [
           {
            "automargin": true,
            "type": "pie"
           }
          ],
          "scatter": [
           {
            "fillpattern": {
             "fillmode": "overlay",
             "size": 10,
             "solidity": 0.2
            },
            "type": "scatter"
           }
          ],
          "scatter3d": [
           {
            "line": {
             "colorbar": {
              "outlinewidth": 0,
              "ticks": ""
             }
            },
            "marker": {
             "colorbar": {
              "outlinewidth": 0,
              "ticks": ""
             }
            },
            "type": "scatter3d"
           }
          ],
          "scattercarpet": [
           {
            "marker": {
             "colorbar": {
              "outlinewidth": 0,
              "ticks": ""
             }
            },
            "type": "scattercarpet"
           }
          ],
          "scattergeo": [
           {
            "marker": {
             "colorbar": {
              "outlinewidth": 0,
              "ticks": ""
             }
            },
            "type": "scattergeo"
           }
          ],
          "scattergl": [
           {
            "marker": {
             "colorbar": {
              "outlinewidth": 0,
              "ticks": ""
             }
            },
            "type": "scattergl"
           }
          ],
          "scattermap": [
           {
            "marker": {
             "colorbar": {
              "outlinewidth": 0,
              "ticks": ""
             }
            },
            "type": "scattermap"
           }
          ],
          "scattermapbox": [
           {
            "marker": {
             "colorbar": {
              "outlinewidth": 0,
              "ticks": ""
             }
            },
            "type": "scattermapbox"
           }
          ],
          "scatterpolar": [
           {
            "marker": {
             "colorbar": {
              "outlinewidth": 0,
              "ticks": ""
             }
            },
            "type": "scatterpolar"
           }
          ],
          "scatterpolargl": [
           {
            "marker": {
             "colorbar": {
              "outlinewidth": 0,
              "ticks": ""
             }
            },
            "type": "scatterpolargl"
           }
          ],
          "scatterternary": [
           {
            "marker": {
             "colorbar": {
              "outlinewidth": 0,
              "ticks": ""
             }
            },
            "type": "scatterternary"
           }
          ],
          "surface": [
           {
            "colorbar": {
             "outlinewidth": 0,
             "ticks": ""
            },
            "colorscale": [
             [
              0,
              "#0d0887"
             ],
             [
              0.1111111111111111,
              "#46039f"
             ],
             [
              0.2222222222222222,
              "#7201a8"
             ],
             [
              0.3333333333333333,
              "#9c179e"
             ],
             [
              0.4444444444444444,
              "#bd3786"
             ],
             [
              0.5555555555555556,
              "#d8576b"
             ],
             [
              0.6666666666666666,
              "#ed7953"
             ],
             [
              0.7777777777777778,
              "#fb9f3a"
             ],
             [
              0.8888888888888888,
              "#fdca26"
             ],
             [
              1,
              "#f0f921"
             ]
            ],
            "type": "surface"
           }
          ],
          "table": [
           {
            "cells": {
             "fill": {
              "color": "#EBF0F8"
             },
             "line": {
              "color": "white"
             }
            },
            "header": {
             "fill": {
              "color": "#C8D4E3"
             },
             "line": {
              "color": "white"
             }
            },
            "type": "table"
           }
          ]
         },
         "layout": {
          "annotationdefaults": {
           "arrowcolor": "#2a3f5f",
           "arrowhead": 0,
           "arrowwidth": 1
          },
          "autotypenumbers": "strict",
          "coloraxis": {
           "colorbar": {
            "outlinewidth": 0,
            "ticks": ""
           }
          },
          "colorscale": {
           "diverging": [
            [
             0,
             "#8e0152"
            ],
            [
             0.1,
             "#c51b7d"
            ],
            [
             0.2,
             "#de77ae"
            ],
            [
             0.3,
             "#f1b6da"
            ],
            [
             0.4,
             "#fde0ef"
            ],
            [
             0.5,
             "#f7f7f7"
            ],
            [
             0.6,
             "#e6f5d0"
            ],
            [
             0.7,
             "#b8e186"
            ],
            [
             0.8,
             "#7fbc41"
            ],
            [
             0.9,
             "#4d9221"
            ],
            [
             1,
             "#276419"
            ]
           ],
           "sequential": [
            [
             0,
             "#0d0887"
            ],
            [
             0.1111111111111111,
             "#46039f"
            ],
            [
             0.2222222222222222,
             "#7201a8"
            ],
            [
             0.3333333333333333,
             "#9c179e"
            ],
            [
             0.4444444444444444,
             "#bd3786"
            ],
            [
             0.5555555555555556,
             "#d8576b"
            ],
            [
             0.6666666666666666,
             "#ed7953"
            ],
            [
             0.7777777777777778,
             "#fb9f3a"
            ],
            [
             0.8888888888888888,
             "#fdca26"
            ],
            [
             1,
             "#f0f921"
            ]
           ],
           "sequentialminus": [
            [
             0,
             "#0d0887"
            ],
            [
             0.1111111111111111,
             "#46039f"
            ],
            [
             0.2222222222222222,
             "#7201a8"
            ],
            [
             0.3333333333333333,
             "#9c179e"
            ],
            [
             0.4444444444444444,
             "#bd3786"
            ],
            [
             0.5555555555555556,
             "#d8576b"
            ],
            [
             0.6666666666666666,
             "#ed7953"
            ],
            [
             0.7777777777777778,
             "#fb9f3a"
            ],
            [
             0.8888888888888888,
             "#fdca26"
            ],
            [
             1,
             "#f0f921"
            ]
           ]
          },
          "colorway": [
           "#636efa",
           "#EF553B",
           "#00cc96",
           "#ab63fa",
           "#FFA15A",
           "#19d3f3",
           "#FF6692",
           "#B6E880",
           "#FF97FF",
           "#FECB52"
          ],
          "font": {
           "color": "#2a3f5f"
          },
          "geo": {
           "bgcolor": "white",
           "lakecolor": "white",
           "landcolor": "white",
           "showlakes": true,
           "showland": true,
           "subunitcolor": "#C8D4E3"
          },
          "hoverlabel": {
           "align": "left"
          },
          "hovermode": "closest",
          "mapbox": {
           "style": "light"
          },
          "paper_bgcolor": "white",
          "plot_bgcolor": "white",
          "polar": {
           "angularaxis": {
            "gridcolor": "#EBF0F8",
            "linecolor": "#EBF0F8",
            "ticks": ""
           },
           "bgcolor": "white",
           "radialaxis": {
            "gridcolor": "#EBF0F8",
            "linecolor": "#EBF0F8",
            "ticks": ""
           }
          },
          "scene": {
           "xaxis": {
            "backgroundcolor": "white",
            "gridcolor": "#DFE8F3",
            "gridwidth": 2,
            "linecolor": "#EBF0F8",
            "showbackground": true,
            "ticks": "",
            "zerolinecolor": "#EBF0F8"
           },
           "yaxis": {
            "backgroundcolor": "white",
            "gridcolor": "#DFE8F3",
            "gridwidth": 2,
            "linecolor": "#EBF0F8",
            "showbackground": true,
            "ticks": "",
            "zerolinecolor": "#EBF0F8"
           },
           "zaxis": {
            "backgroundcolor": "white",
            "gridcolor": "#DFE8F3",
            "gridwidth": 2,
            "linecolor": "#EBF0F8",
            "showbackground": true,
            "ticks": "",
            "zerolinecolor": "#EBF0F8"
           }
          },
          "shapedefaults": {
           "line": {
            "color": "#2a3f5f"
           }
          },
          "ternary": {
           "aaxis": {
            "gridcolor": "#DFE8F3",
            "linecolor": "#A2B1C6",
            "ticks": ""
           },
           "baxis": {
            "gridcolor": "#DFE8F3",
            "linecolor": "#A2B1C6",
            "ticks": ""
           },
           "bgcolor": "white",
           "caxis": {
            "gridcolor": "#DFE8F3",
            "linecolor": "#A2B1C6",
            "ticks": ""
           }
          },
          "title": {
           "x": 0.05
          },
          "xaxis": {
           "automargin": true,
           "gridcolor": "#EBF0F8",
           "linecolor": "#EBF0F8",
           "ticks": "",
           "title": {
            "standoff": 15
           },
           "zerolinecolor": "#EBF0F8",
           "zerolinewidth": 2
          },
          "yaxis": {
           "automargin": true,
           "gridcolor": "#EBF0F8",
           "linecolor": "#EBF0F8",
           "ticks": "",
           "title": {
            "standoff": 15
           },
           "zerolinecolor": "#EBF0F8",
           "zerolinewidth": 2
          }
         }
        },
        "title": {
         "text": "Mileage Bell Curve (KDE)"
        },
        "xaxis": {
         "anchor": "y",
         "domain": [
          0,
          1
         ],
         "title": {
          "text": "Mileage"
         }
        },
        "yaxis": {
         "anchor": "x",
         "domain": [
          0,
          1
         ],
         "title": {
          "text": "Density"
         }
        }
       }
      }
     },
     "metadata": {},
     "output_type": "display_data"
    }
   ],
   "source": [
    "from scipy.stats import gaussian_kde\n",
    "\n",
    "kde = gaussian_kde(data['mileage'])\n",
    "x = np.linspace(data['mileage'].min(), data['mileage'].max(), 500)\n",
    "y = kde(x)\n",
    "\n",
    "fig = px.line(x=x, y=y, labels={'x': 'Mileage', 'y': 'Density'}, title='Mileage Bell Curve (KDE)')\n",
    "fig.update_layout(template='plotly_white')\n",
    "\n",
    "fig.show()"
   ]
  },
  {
   "cell_type": "code",
   "execution_count": 609,
   "id": "c3fe62a1",
   "metadata": {},
   "outputs": [
    {
     "data": {
      "text/html": [
       "<div>\n",
       "<style scoped>\n",
       "    .dataframe tbody tr th:only-of-type {\n",
       "        vertical-align: middle;\n",
       "    }\n",
       "\n",
       "    .dataframe tbody tr th {\n",
       "        vertical-align: top;\n",
       "    }\n",
       "\n",
       "    .dataframe thead th {\n",
       "        text-align: right;\n",
       "    }\n",
       "</style>\n",
       "<table border=\"1\" class=\"dataframe\">\n",
       "  <thead>\n",
       "    <tr style=\"text-align: right;\">\n",
       "      <th></th>\n",
       "      <th>Column</th>\n",
       "      <th>Unique Values</th>\n",
       "      <th>null values</th>\n",
       "    </tr>\n",
       "  </thead>\n",
       "  <tbody>\n",
       "    <tr>\n",
       "      <th>0</th>\n",
       "      <td>manufacturer</td>\n",
       "      <td>30</td>\n",
       "      <td>0</td>\n",
       "    </tr>\n",
       "    <tr>\n",
       "      <th>1</th>\n",
       "      <td>model</td>\n",
       "      <td>11818</td>\n",
       "      <td>0</td>\n",
       "    </tr>\n",
       "    <tr>\n",
       "      <th>2</th>\n",
       "      <td>year</td>\n",
       "      <td>98</td>\n",
       "      <td>0</td>\n",
       "    </tr>\n",
       "    <tr>\n",
       "      <th>3</th>\n",
       "      <td>mileage</td>\n",
       "      <td>158674</td>\n",
       "      <td>0</td>\n",
       "    </tr>\n",
       "    <tr>\n",
       "      <th>4</th>\n",
       "      <td>engine</td>\n",
       "      <td>6808</td>\n",
       "      <td>0</td>\n",
       "    </tr>\n",
       "    <tr>\n",
       "      <th>5</th>\n",
       "      <td>transmission</td>\n",
       "      <td>1154</td>\n",
       "      <td>2750</td>\n",
       "    </tr>\n",
       "    <tr>\n",
       "      <th>6</th>\n",
       "      <td>drivetrain</td>\n",
       "      <td>27</td>\n",
       "      <td>8765</td>\n",
       "    </tr>\n",
       "    <tr>\n",
       "      <th>7</th>\n",
       "      <td>fuel_type</td>\n",
       "      <td>8</td>\n",
       "      <td>12153</td>\n",
       "    </tr>\n",
       "    <tr>\n",
       "      <th>8</th>\n",
       "      <td>mpg</td>\n",
       "      <td>865</td>\n",
       "      <td>127438</td>\n",
       "    </tr>\n",
       "    <tr>\n",
       "      <th>9</th>\n",
       "      <td>exterior_color</td>\n",
       "      <td>7549</td>\n",
       "      <td>0</td>\n",
       "    </tr>\n",
       "    <tr>\n",
       "      <th>10</th>\n",
       "      <td>interior_color</td>\n",
       "      <td>4371</td>\n",
       "      <td>0</td>\n",
       "    </tr>\n",
       "    <tr>\n",
       "      <th>11</th>\n",
       "      <td>accidents_or_damage</td>\n",
       "      <td>3</td>\n",
       "      <td>0</td>\n",
       "    </tr>\n",
       "    <tr>\n",
       "      <th>12</th>\n",
       "      <td>one_owner</td>\n",
       "      <td>3</td>\n",
       "      <td>0</td>\n",
       "    </tr>\n",
       "    <tr>\n",
       "      <th>13</th>\n",
       "      <td>personal_use_only</td>\n",
       "      <td>3</td>\n",
       "      <td>0</td>\n",
       "    </tr>\n",
       "    <tr>\n",
       "      <th>14</th>\n",
       "      <td>seller_name</td>\n",
       "      <td>17032</td>\n",
       "      <td>0</td>\n",
       "    </tr>\n",
       "    <tr>\n",
       "      <th>15</th>\n",
       "      <td>seller_rating</td>\n",
       "      <td>41</td>\n",
       "      <td>208512</td>\n",
       "    </tr>\n",
       "    <tr>\n",
       "      <th>16</th>\n",
       "      <td>driver_rating</td>\n",
       "      <td>35</td>\n",
       "      <td>30441</td>\n",
       "    </tr>\n",
       "    <tr>\n",
       "      <th>17</th>\n",
       "      <td>driver_reviews_num</td>\n",
       "      <td>369</td>\n",
       "      <td>0</td>\n",
       "    </tr>\n",
       "    <tr>\n",
       "      <th>18</th>\n",
       "      <td>price_drop</td>\n",
       "      <td>6347</td>\n",
       "      <td>340895</td>\n",
       "    </tr>\n",
       "    <tr>\n",
       "      <th>19</th>\n",
       "      <td>price</td>\n",
       "      <td>62850</td>\n",
       "      <td>0</td>\n",
       "    </tr>\n",
       "    <tr>\n",
       "      <th>20</th>\n",
       "      <td>engine_size</td>\n",
       "      <td>10</td>\n",
       "      <td>0</td>\n",
       "    </tr>\n",
       "    <tr>\n",
       "      <th>21</th>\n",
       "      <td>cylinders</td>\n",
       "      <td>13</td>\n",
       "      <td>119834</td>\n",
       "    </tr>\n",
       "    <tr>\n",
       "      <th>22</th>\n",
       "      <td>valves</td>\n",
       "      <td>15</td>\n",
       "      <td>116303</td>\n",
       "    </tr>\n",
       "    <tr>\n",
       "      <th>23</th>\n",
       "      <td>aspiration</td>\n",
       "      <td>6</td>\n",
       "      <td>505340</td>\n",
       "    </tr>\n",
       "    <tr>\n",
       "      <th>24</th>\n",
       "      <td>fuel_type_2</td>\n",
       "      <td>9</td>\n",
       "      <td>614874</td>\n",
       "    </tr>\n",
       "    <tr>\n",
       "      <th>25</th>\n",
       "      <td>injection_system</td>\n",
       "      <td>14</td>\n",
       "      <td>86300</td>\n",
       "    </tr>\n",
       "    <tr>\n",
       "      <th>26</th>\n",
       "      <td>configuration</td>\n",
       "      <td>6</td>\n",
       "      <td>71669</td>\n",
       "    </tr>\n",
       "    <tr>\n",
       "      <th>27</th>\n",
       "      <td>horsepower</td>\n",
       "      <td>658</td>\n",
       "      <td>721964</td>\n",
       "    </tr>\n",
       "    <tr>\n",
       "      <th>28</th>\n",
       "      <td>fuel_category</td>\n",
       "      <td>9</td>\n",
       "      <td>614874</td>\n",
       "    </tr>\n",
       "    <tr>\n",
       "      <th>29</th>\n",
       "      <td>ENGINE_DETAILS</td>\n",
       "      <td>723</td>\n",
       "      <td>0</td>\n",
       "    </tr>\n",
       "    <tr>\n",
       "      <th>30</th>\n",
       "      <td>transmission_category</td>\n",
       "      <td>6</td>\n",
       "      <td>0</td>\n",
       "    </tr>\n",
       "    <tr>\n",
       "      <th>31</th>\n",
       "      <td>engine_column</td>\n",
       "      <td>1126</td>\n",
       "      <td>0</td>\n",
       "    </tr>\n",
       "    <tr>\n",
       "      <th>32</th>\n",
       "      <td>age</td>\n",
       "      <td>98</td>\n",
       "      <td>0</td>\n",
       "    </tr>\n",
       "    <tr>\n",
       "      <th>33</th>\n",
       "      <td>age_group</td>\n",
       "      <td>4</td>\n",
       "      <td>17700</td>\n",
       "    </tr>\n",
       "  </tbody>\n",
       "</table>\n",
       "</div>"
      ],
      "text/plain": [
       "                   Column  Unique Values  null values\n",
       "0            manufacturer             30            0\n",
       "1                   model          11818            0\n",
       "2                    year             98            0\n",
       "3                 mileage         158674            0\n",
       "4                  engine           6808            0\n",
       "5            transmission           1154         2750\n",
       "6              drivetrain             27         8765\n",
       "7               fuel_type              8        12153\n",
       "8                     mpg            865       127438\n",
       "9          exterior_color           7549            0\n",
       "10         interior_color           4371            0\n",
       "11    accidents_or_damage              3            0\n",
       "12              one_owner              3            0\n",
       "13      personal_use_only              3            0\n",
       "14            seller_name          17032            0\n",
       "15          seller_rating             41       208512\n",
       "16          driver_rating             35        30441\n",
       "17     driver_reviews_num            369            0\n",
       "18             price_drop           6347       340895\n",
       "19                  price          62850            0\n",
       "20            engine_size             10            0\n",
       "21              cylinders             13       119834\n",
       "22                 valves             15       116303\n",
       "23             aspiration              6       505340\n",
       "24            fuel_type_2              9       614874\n",
       "25       injection_system             14        86300\n",
       "26          configuration              6        71669\n",
       "27             horsepower            658       721964\n",
       "28          fuel_category              9       614874\n",
       "29         ENGINE_DETAILS            723            0\n",
       "30  transmission_category              6            0\n",
       "31          engine_column           1126            0\n",
       "32                    age             98            0\n",
       "33              age_group              4        17700"
      ]
     },
     "metadata": {},
     "output_type": "display_data"
    }
   ],
   "source": [
    "columns_info(data)"
   ]
  },
  {
   "cell_type": "code",
   "execution_count": 610,
   "id": "f47c2975",
   "metadata": {},
   "outputs": [],
   "source": [
    "data['age_group'] = data['age_group'].fillna('0-20')\n"
   ]
  },
  {
   "cell_type": "markdown",
   "id": "4d26a949",
   "metadata": {},
   "source": [
    "## drivetrain column"
   ]
  },
  {
   "cell_type": "code",
   "execution_count": 612,
   "id": "d156c43a-798f-4bc4-8194-6de6f76aa16b",
   "metadata": {},
   "outputs": [],
   "source": [
    "# Define a mapping dictionary\n",
    "engine_mapping = {\n",
    "    # Front-wheel Drive variations\n",
    "    'Front-wheel Drive': 'FWD',\n",
    "    'Front-Wheel Drive': 'FWD',\n",
    "    'Front Wheel Drive': 'FWD',\n",
    "    'Front-Wheel Drive with Limited-Slip Differential': 'FWD',\n",
    "\n",
    "    # Rear-wheel Drive variations\n",
    "    'Rear-wheel Drive': 'RWD',\n",
    "    'Rear-Wheel Drive': 'RWD',\n",
    "    'Rear Wheel Drive': 'RWD',\n",
    "    'Rear-Wheel Drive with Limited-Slip Differential': 'RWD',\n",
    "\n",
    "    # All-wheel Drive variations\n",
    "    'All-wheel Drive': 'AWD',\n",
    "    'All-Wheel Drive': 'AWD',\n",
    "    'All Wheel Drive': 'AWD',\n",
    "    'All-Wheel Drive with Locking and Limited-Slip Differential': 'AWD',\n",
    "    'All-Wheel Drive with Locking Differential': 'AWD',\n",
    "\n",
    "    # Four-wheel Drive (4WD / 4x4) variations\n",
    "    'Four-wheel Drive': '4WD',\n",
    "    'Four-Wheel Drive': '4WD',\n",
    "    'Four Wheel Drive': '4WD',\n",
    "    'Four-Wheel Drive with Locking and Limited-Slip Differential': '4WD',\n",
    "    'Four-Wheel Drive with Locking Differential': '4WD',\n",
    "    '4WD': '4WD',\n",
    "    '4x4': '4WD',\n",
    "    '4X4': '4WD',\n",
    "    '4x2': '2WD',\n",
    "    '2WD': '2WD',\n",
    "\n",
    "    # Already short forms — map to themselves (optional but safe)\n",
    "    'FWD': 'FWD',\n",
    "    'RWD': 'RWD',\n",
    "    'AWD': 'AWD',\n",
    "\n",
    "    # Optional cleanup\n",
    "    'Unknown': 'Unknown',\n",
    "    float('nan'): 'Unknown' \n",
    "}\n",
    "data['drivetrain'] = data['drivetrain'].map(engine_mapping)"
   ]
  },
  {
   "cell_type": "markdown",
   "id": "de4a15ad",
   "metadata": {},
   "source": []
  },
  {
   "cell_type": "code",
   "execution_count": 615,
   "id": "e54eec2e",
   "metadata": {},
   "outputs": [
    {
     "data": {
      "text/plain": [
       "count    538529.000000\n",
       "mean          4.156340\n",
       "std           0.805793\n",
       "min           1.000000\n",
       "25%           3.800000\n",
       "50%           4.500000\n",
       "75%           4.700000\n",
       "max           5.000000\n",
       "Name: seller_rating, dtype: float64"
      ]
     },
     "execution_count": 615,
     "metadata": {},
     "output_type": "execute_result"
    }
   ],
   "source": [
    "data['seller_rating'].describe()"
   ]
  },
  {
   "cell_type": "code",
   "execution_count": null,
   "id": "75dbcfdf",
   "metadata": {},
   "outputs": [],
   "source": [
    "# data = data.drop(columns=['exterior_color','interior_color'],axis =1)"
   ]
  },
  {
   "cell_type": "markdown",
   "id": "25490662",
   "metadata": {},
   "source": [
    "### MPG [mileage per gallon] column"
   ]
  },
  {
   "cell_type": "code",
   "execution_count": 768,
   "id": "95536de7",
   "metadata": {},
   "outputs": [
    {
     "data": {
      "text/plain": [
       "array([ 38.,  nan,  21.,  20.,  10.,  22.,  19.,  29.,  30.,  26.,  35.,\n",
       "        17.,  12.,  27.,  28.,  32.,  31.,  33.,  25.,  24.,  23.,   9.,\n",
       "         8.,  34.,  11.,  18.,  15.,  16.,   6.,  36.,  37.,  77.,  13.,\n",
       "        94.,  86.,   7.,  14.,  76.,  72.,  69.,  56.,   5.,  42.,  71.,\n",
       "        41.,  39., 127.,  40.,  43.,  66.,  81.,  60.,   4.,  47.,  48.,\n",
       "        52.,  45.,  44.,  50.,  58.,  54.,  55.,  59.,  73., 121.,  49.,\n",
       "        46.,  53., 102., 118.])"
      ]
     },
     "execution_count": 768,
     "metadata": {},
     "output_type": "execute_result"
    }
   ],
   "source": [
    "def clean_mpg(val):\n",
    "    try:\n",
    "        if pd.isna(val):\n",
    "            return np.nan\n",
    "            \n",
    "        parts = val.split('-')\n",
    "        low = float(parts[0])\n",
    "        high = float(parts[1])\n",
    "        \n",
    "        if low == 0 and high == 0:\n",
    "            return np.nan\n",
    "            \n",
    "        return (low + high) //2\n",
    "        \n",
    "    except:\n",
    "        return np.nan\n",
    "\n",
    "data['mpg'] = data['mpg'].apply(clean_mpg)\n",
    "data['mpg'].unique()"
   ]
  },
  {
   "cell_type": "code",
   "execution_count": 769,
   "id": "ca728aac",
   "metadata": {},
   "outputs": [
    {
     "data": {
      "text/plain": [
       "array(['gasoline', 'hybrid', 'electric', 'diesel', 'flex fuel',\n",
       "       'plug-in hybrid', 'bi-fuel', 'hydrogen'], dtype=object)"
      ]
     },
     "execution_count": 769,
     "metadata": {},
     "output_type": "execute_result"
    }
   ],
   "source": [
    "data['fuel_type'].unique()"
   ]
  },
  {
   "cell_type": "code",
   "execution_count": 868,
   "id": "61b36a9f",
   "metadata": {},
   "outputs": [],
   "source": [
    "gasoline = data[data['fuel_type'] == 'gasoline']\n",
    "hybrid = data[data['fuel_type'] == 'hybrid']\n",
    "\n",
    "electric = data[data['fuel_type'] == 'electric']\n",
    "\n",
    "diesel = data[data['fuel_type'] == 'diesel']\n",
    "\n",
    "flex_fuel = data[data['fuel_type'] == 'flex fuel']\n",
    "\n",
    "hydrogen = data[data['fuel_type'] == 'hydrogen']\n",
    "plug_in_hybrid = data[data['fuel_type'] == 'plug in hybrid']\n",
    "bi_fuel = data[data['fuel_type'] == 'bi-fuel']\n"
   ]
  },
  {
   "cell_type": "code",
   "execution_count": 869,
   "id": "997a3d56",
   "metadata": {},
   "outputs": [],
   "source": [
    "## Replace all different sub category with mean #############\n",
    "\n",
    "for fuel in data['fuel_type'].unique():\n",
    "    mean_val = data.loc[data['fuel_type'] == fuel, 'mpg'].mean()\n",
    "    data.loc[(data['fuel_type'] == fuel) & (data['mpg'].isna()), 'mpg'] = mean_val"
   ]
  },
  {
   "cell_type": "code",
   "execution_count": null,
   "id": "2b12362a",
   "metadata": {},
   "outputs": [],
   "source": []
  },
  {
   "cell_type": "code",
   "execution_count": 889,
   "id": "2cbaac39",
   "metadata": {},
   "outputs": [
    {
     "data": {
      "text/html": [
       "<div>\n",
       "<style scoped>\n",
       "    .dataframe tbody tr th:only-of-type {\n",
       "        vertical-align: middle;\n",
       "    }\n",
       "\n",
       "    .dataframe tbody tr th {\n",
       "        vertical-align: top;\n",
       "    }\n",
       "\n",
       "    .dataframe thead th {\n",
       "        text-align: right;\n",
       "    }\n",
       "</style>\n",
       "<table border=\"1\" class=\"dataframe\">\n",
       "  <thead>\n",
       "    <tr style=\"text-align: right;\">\n",
       "      <th></th>\n",
       "      <th>manufacturer</th>\n",
       "      <th>model</th>\n",
       "      <th>year</th>\n",
       "      <th>mileage</th>\n",
       "      <th>engine</th>\n",
       "      <th>transmission</th>\n",
       "      <th>drivetrain</th>\n",
       "      <th>fuel_type</th>\n",
       "      <th>mpg</th>\n",
       "      <th>exterior_color</th>\n",
       "      <th>...</th>\n",
       "      <th>engine_size</th>\n",
       "      <th>cylinders</th>\n",
       "      <th>valves</th>\n",
       "      <th>aspiration</th>\n",
       "      <th>fuel_type_2</th>\n",
       "      <th>injection_system</th>\n",
       "      <th>configuration</th>\n",
       "      <th>horsepower</th>\n",
       "      <th>fuel_category</th>\n",
       "      <th>ENGINE_DETAILS</th>\n",
       "    </tr>\n",
       "  </thead>\n",
       "  <tbody>\n",
       "    <tr>\n",
       "      <th>134462</th>\n",
       "      <td>Chevrolet</td>\n",
       "      <td>S-10 Blazer LT</td>\n",
       "      <td>1992</td>\n",
       "      <td>149637.0</td>\n",
       "      <td>4.3l v6 12v mpfi ohv bi-fuel</td>\n",
       "      <td>Automatic</td>\n",
       "      <td>4WD</td>\n",
       "      <td>bi-fuel</td>\n",
       "      <td>NaN</td>\n",
       "      <td>White</td>\n",
       "      <td>...</td>\n",
       "      <td>4-5L</td>\n",
       "      <td>v6</td>\n",
       "      <td>12v</td>\n",
       "      <td>NaN</td>\n",
       "      <td>bi-fuel</td>\n",
       "      <td>mpfi</td>\n",
       "      <td>ohv</td>\n",
       "      <td>NaN</td>\n",
       "      <td>bi-fuel</td>\n",
       "      <td>v6 12v bi-fuel mpfi ohv</td>\n",
       "    </tr>\n",
       "  </tbody>\n",
       "</table>\n",
       "<p>1 rows × 30 columns</p>\n",
       "</div>"
      ],
      "text/plain": [
       "       manufacturer           model  year   mileage  \\\n",
       "134462    Chevrolet  S-10 Blazer LT  1992  149637.0   \n",
       "\n",
       "                              engine transmission drivetrain fuel_type  mpg  \\\n",
       "134462  4.3l v6 12v mpfi ohv bi-fuel    Automatic        4WD   bi-fuel  NaN   \n",
       "\n",
       "       exterior_color  ... engine_size  cylinders  valves  aspiration  \\\n",
       "134462          White  ...        4-5L         v6     12v         NaN   \n",
       "\n",
       "       fuel_type_2  injection_system  configuration  horsepower  \\\n",
       "134462     bi-fuel              mpfi            ohv         NaN   \n",
       "\n",
       "        fuel_category           ENGINE_DETAILS  \n",
       "134462        bi-fuel  v6 12v bi-fuel mpfi ohv  \n",
       "\n",
       "[1 rows x 30 columns]"
      ]
     },
     "execution_count": 889,
     "metadata": {},
     "output_type": "execute_result"
    }
   ],
   "source": [
    "data[pd.isna(data['mpg'])]"
   ]
  },
  {
   "cell_type": "code",
   "execution_count": 871,
   "id": "31c649af",
   "metadata": {},
   "outputs": [],
   "source": [
    "######### replace gasoline with mean and it 'mpg' as exceptional value replaced by actual values.\n",
    "replace_map = {\n",
    "    127.0: 12.7,\n",
    "    121.0: 12.1,\n",
    "    118.0: 11.8,\n",
    "    102.0: 10.2,\n",
    "}\n",
    "\n",
    "# Create a mask for cars that are NOT electric or hybrid\n",
    "mask = ~data['fuel_type'].isin(['electric', 'hybrid'])\n",
    "\n",
    "# Loop through each mpg value and replace only for non-electric/hybrid cars\n",
    "for wrong_mpg, correct_mpg in replace_map.items():\n",
    "    data.loc[mask & (data['mpg'] == wrong_mpg), 'mpg'] = correct_mpg"
   ]
  },
  {
   "cell_type": "code",
   "execution_count": 872,
   "id": "3e4a9178",
   "metadata": {},
   "outputs": [
    {
     "data": {
      "text/plain": [
       "count    654323.000000\n",
       "mean         24.186448\n",
       "std           4.714680\n",
       "min           4.000000\n",
       "25%          21.000000\n",
       "50%          24.186448\n",
       "75%          27.000000\n",
       "max          94.000000\n",
       "Name: mpg, dtype: float64"
      ]
     },
     "execution_count": 872,
     "metadata": {},
     "output_type": "execute_result"
    }
   ],
   "source": [
    "gasoline['mpg'].describe()"
   ]
  },
  {
   "cell_type": "code",
   "execution_count": 873,
   "id": "f72c1cbc",
   "metadata": {},
   "outputs": [
    {
     "data": {
      "text/plain": [
       "np.int64(0)"
      ]
     },
     "execution_count": 873,
     "metadata": {},
     "output_type": "execute_result"
    }
   ],
   "source": [
    "gasoline['mpg'].isnull().sum()"
   ]
  },
  {
   "cell_type": "code",
   "execution_count": 874,
   "id": "39717f37",
   "metadata": {},
   "outputs": [
    {
     "data": {
      "text/plain": [
       "count    28874.000000\n",
       "mean        41.038523\n",
       "std          6.232282\n",
       "min         16.000000\n",
       "25%         39.000000\n",
       "50%         41.038523\n",
       "75%         42.000000\n",
       "max         86.000000\n",
       "Name: mpg, dtype: float64"
      ]
     },
     "execution_count": 874,
     "metadata": {},
     "output_type": "execute_result"
    }
   ],
   "source": [
    "hybrid['mpg'].describe()"
   ]
  },
  {
   "cell_type": "code",
   "execution_count": 875,
   "id": "35cbf564",
   "metadata": {},
   "outputs": [
    {
     "data": {
      "text/plain": [
       "np.int64(16239)"
      ]
     },
     "execution_count": 875,
     "metadata": {},
     "output_type": "execute_result"
    }
   ],
   "source": [
    "electric['mpg'].isnull().sum()"
   ]
  },
  {
   "cell_type": "code",
   "execution_count": 890,
   "id": "adc9cc0d",
   "metadata": {},
   "outputs": [],
   "source": [
    "data.loc[(data['fuel_type'] == 'electric') & (data['mpg'].isna()), 'mpg'] = 100\n",
    "data.loc[(data['fuel_type'] == 'bi fuel') & (data['mpg'].isna()), 'mpg'] = 50\n"
   ]
  },
  {
   "cell_type": "code",
   "execution_count": 877,
   "id": "f5b5e35e",
   "metadata": {},
   "outputs": [
    {
     "data": {
      "text/plain": [
       "count    16239.0\n",
       "mean       100.0\n",
       "std          0.0\n",
       "min        100.0\n",
       "25%        100.0\n",
       "50%        100.0\n",
       "75%        100.0\n",
       "max        100.0\n",
       "Name: mpg, dtype: float64"
      ]
     },
     "execution_count": 877,
     "metadata": {},
     "output_type": "execute_result"
    }
   ],
   "source": [
    "electric['mpg'].describe()"
   ]
  },
  {
   "cell_type": "code",
   "execution_count": 878,
   "id": "ac250804",
   "metadata": {},
   "outputs": [
    {
     "data": {
      "text/plain": [
       "count    28166.000000\n",
       "mean        24.797826\n",
       "std          2.657080\n",
       "min          6.000000\n",
       "25%         24.797826\n",
       "50%         24.797826\n",
       "75%         24.797826\n",
       "max         44.000000\n",
       "Name: mpg, dtype: float64"
      ]
     },
     "execution_count": 878,
     "metadata": {},
     "output_type": "execute_result"
    }
   ],
   "source": [
    "diesel['mpg'].describe()"
   ]
  },
  {
   "cell_type": "code",
   "execution_count": 879,
   "id": "97fb52a1",
   "metadata": {},
   "outputs": [
    {
     "data": {
      "text/plain": [
       "count    19316.000000\n",
       "mean        21.987510\n",
       "std          4.035012\n",
       "min          5.000000\n",
       "25%         20.000000\n",
       "50%         21.987510\n",
       "75%         23.000000\n",
       "max         33.000000\n",
       "Name: mpg, dtype: float64"
      ]
     },
     "execution_count": 879,
     "metadata": {},
     "output_type": "execute_result"
    }
   ],
   "source": [
    "flex_fuel['mpg'].describe()"
   ]
  },
  {
   "cell_type": "code",
   "execution_count": 880,
   "id": "b7d2f82f",
   "metadata": {},
   "outputs": [
    {
     "data": {
      "text/plain": [
       "count     3.00\n",
       "mean     69.50\n",
       "std       3.50\n",
       "min      66.00\n",
       "25%      67.75\n",
       "50%      69.50\n",
       "75%      71.25\n",
       "max      73.00\n",
       "Name: mpg, dtype: float64"
      ]
     },
     "execution_count": 880,
     "metadata": {},
     "output_type": "execute_result"
    }
   ],
   "source": [
    "hydrogen['mpg'].describe()"
   ]
  },
  {
   "cell_type": "code",
   "execution_count": 881,
   "id": "006a44be",
   "metadata": {},
   "outputs": [
    {
     "data": {
      "text/plain": [
       "np.int64(0)"
      ]
     },
     "execution_count": 881,
     "metadata": {},
     "output_type": "execute_result"
    }
   ],
   "source": [
    "plug_in_hybrid['mpg'].isnull().sum()\n"
   ]
  },
  {
   "cell_type": "code",
   "execution_count": 882,
   "id": "5aa3600a",
   "metadata": {},
   "outputs": [
    {
     "data": {
      "text/plain": [
       "np.int64(1)"
      ]
     },
     "execution_count": 882,
     "metadata": {},
     "output_type": "execute_result"
    }
   ],
   "source": [
    "bi_fuel['mpg'].isnull().sum()"
   ]
  },
  {
   "cell_type": "code",
   "execution_count": 891,
   "id": "4b3a1d93",
   "metadata": {},
   "outputs": [
    {
     "data": {
      "text/plain": [
       "np.int64(1)"
      ]
     },
     "execution_count": 891,
     "metadata": {},
     "output_type": "execute_result"
    }
   ],
   "source": [
    "data['mpg'].isnull().sum()"
   ]
  },
  {
   "cell_type": "code",
   "execution_count": 746,
   "id": "e374fac3",
   "metadata": {},
   "outputs": [
    {
     "data": {
      "application/vnd.plotly.v1+json": {
       "config": {
        "plotlyServerURL": "https://plot.ly"
       },
       "data": [
        {
         "mode": "lines",
         "name": "Gasoline",
         "type": "scatter",
         "x": {
          "bdata": "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",
          "dtype": "f8"
         },
         "xaxis": "x",
         "y": {
          "bdata": "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",
          "dtype": "f8"
         },
         "yaxis": "y"
        },
        {
         "mode": "lines",
         "name": "Hybrid",
         "type": "scatter",
         "x": {
          "bdata": "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",
          "dtype": "f8"
         },
         "xaxis": "x2",
         "y": {
          "bdata": "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",
          "dtype": "f8"
         },
         "yaxis": "y2"
        },
        {
         "mode": "lines",
         "name": "Flex fuel",
         "type": "scatter",
         "x": {
          "bdata": "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",
          "dtype": "f8"
         },
         "xaxis": "x3",
         "y": {
          "bdata": "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",
          "dtype": "f8"
         },
         "yaxis": "y3"
        },
        {
         "mode": "lines",
         "name": "Diesel",
         "type": "scatter",
         "x": {
          "bdata": "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",
          "dtype": "f8"
         },
         "xaxis": "x4",
         "y": {
          "bdata": "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",
          "dtype": "f8"
         },
         "yaxis": "y4"
        }
       ],
       "layout": {
        "annotations": [
         {
          "font": {
           "size": 16
          },
          "showarrow": false,
          "text": "Gasoline",
          "x": 0.225,
          "xanchor": "center",
          "xref": "paper",
          "y": 1,
          "yanchor": "bottom",
          "yref": "paper"
         },
         {
          "font": {
           "size": 16
          },
          "showarrow": false,
          "text": "Hybrid",
          "x": 0.775,
          "xanchor": "center",
          "xref": "paper",
          "y": 1,
          "yanchor": "bottom",
          "yref": "paper"
         },
         {
          "font": {
           "size": 16
          },
          "showarrow": false,
          "text": "Flex fuel",
          "x": 0.225,
          "xanchor": "center",
          "xref": "paper",
          "y": 0.375,
          "yanchor": "bottom",
          "yref": "paper"
         },
         {
          "font": {
           "size": 16
          },
          "showarrow": false,
          "text": "Diesel",
          "x": 0.775,
          "xanchor": "center",
          "xref": "paper",
          "y": 0.375,
          "yanchor": "bottom",
          "yref": "paper"
         }
        ],
        "height": 600,
        "showlegend": false,
        "template": {
         "data": {
          "bar": [
           {
            "error_x": {
             "color": "#2a3f5f"
            },
            "error_y": {
             "color": "#2a3f5f"
            },
            "marker": {
             "line": {
              "color": "white",
              "width": 0.5
             },
             "pattern": {
              "fillmode": "overlay",
              "size": 10,
              "solidity": 0.2
             }
            },
            "type": "bar"
           }
          ],
          "barpolar": [
           {
            "marker": {
             "line": {
              "color": "white",
              "width": 0.5
             },
             "pattern": {
              "fillmode": "overlay",
              "size": 10,
              "solidity": 0.2
             }
            },
            "type": "barpolar"
           }
          ],
          "carpet": [
           {
            "aaxis": {
             "endlinecolor": "#2a3f5f",
             "gridcolor": "#C8D4E3",
             "linecolor": "#C8D4E3",
             "minorgridcolor": "#C8D4E3",
             "startlinecolor": "#2a3f5f"
            },
            "baxis": {
             "endlinecolor": "#2a3f5f",
             "gridcolor": "#C8D4E3",
             "linecolor": "#C8D4E3",
             "minorgridcolor": "#C8D4E3",
             "startlinecolor": "#2a3f5f"
            },
            "type": "carpet"
           }
          ],
          "choropleth": [
           {
            "colorbar": {
             "outlinewidth": 0,
             "ticks": ""
            },
            "type": "choropleth"
           }
          ],
          "contour": [
           {
            "colorbar": {
             "outlinewidth": 0,
             "ticks": ""
            },
            "colorscale": [
             [
              0,
              "#0d0887"
             ],
             [
              0.1111111111111111,
              "#46039f"
             ],
             [
              0.2222222222222222,
              "#7201a8"
             ],
             [
              0.3333333333333333,
              "#9c179e"
             ],
             [
              0.4444444444444444,
              "#bd3786"
             ],
             [
              0.5555555555555556,
              "#d8576b"
             ],
             [
              0.6666666666666666,
              "#ed7953"
             ],
             [
              0.7777777777777778,
              "#fb9f3a"
             ],
             [
              0.8888888888888888,
              "#fdca26"
             ],
             [
              1,
              "#f0f921"
             ]
            ],
            "type": "contour"
           }
          ],
          "contourcarpet": [
           {
            "colorbar": {
             "outlinewidth": 0,
             "ticks": ""
            },
            "type": "contourcarpet"
           }
          ],
          "heatmap": [
           {
            "colorbar": {
             "outlinewidth": 0,
             "ticks": ""
            },
            "colorscale": [
             [
              0,
              "#0d0887"
             ],
             [
              0.1111111111111111,
              "#46039f"
             ],
             [
              0.2222222222222222,
              "#7201a8"
             ],
             [
              0.3333333333333333,
              "#9c179e"
             ],
             [
              0.4444444444444444,
              "#bd3786"
             ],
             [
              0.5555555555555556,
              "#d8576b"
             ],
             [
              0.6666666666666666,
              "#ed7953"
             ],
             [
              0.7777777777777778,
              "#fb9f3a"
             ],
             [
              0.8888888888888888,
              "#fdca26"
             ],
             [
              1,
              "#f0f921"
             ]
            ],
            "type": "heatmap"
           }
          ],
          "histogram": [
           {
            "marker": {
             "pattern": {
              "fillmode": "overlay",
              "size": 10,
              "solidity": 0.2
             }
            },
            "type": "histogram"
           }
          ],
          "histogram2d": [
           {
            "colorbar": {
             "outlinewidth": 0,
             "ticks": ""
            },
            "colorscale": [
             [
              0,
              "#0d0887"
             ],
             [
              0.1111111111111111,
              "#46039f"
             ],
             [
              0.2222222222222222,
              "#7201a8"
             ],
             [
              0.3333333333333333,
              "#9c179e"
             ],
             [
              0.4444444444444444,
              "#bd3786"
             ],
             [
              0.5555555555555556,
              "#d8576b"
             ],
             [
              0.6666666666666666,
              "#ed7953"
             ],
             [
              0.7777777777777778,
              "#fb9f3a"
             ],
             [
              0.8888888888888888,
              "#fdca26"
             ],
             [
              1,
              "#f0f921"
             ]
            ],
            "type": "histogram2d"
           }
          ],
          "histogram2dcontour": [
           {
            "colorbar": {
             "outlinewidth": 0,
             "ticks": ""
            },
            "colorscale": [
             [
              0,
              "#0d0887"
             ],
             [
              0.1111111111111111,
              "#46039f"
             ],
             [
              0.2222222222222222,
              "#7201a8"
             ],
             [
              0.3333333333333333,
              "#9c179e"
             ],
             [
              0.4444444444444444,
              "#bd3786"
             ],
             [
              0.5555555555555556,
              "#d8576b"
             ],
             [
              0.6666666666666666,
              "#ed7953"
             ],
             [
              0.7777777777777778,
              "#fb9f3a"
             ],
             [
              0.8888888888888888,
              "#fdca26"
             ],
             [
              1,
              "#f0f921"
             ]
            ],
            "type": "histogram2dcontour"
           }
          ],
          "mesh3d": [
           {
            "colorbar": {
             "outlinewidth": 0,
             "ticks": ""
            },
            "type": "mesh3d"
           }
          ],
          "parcoords": [
           {
            "line": {
             "colorbar": {
              "outlinewidth": 0,
              "ticks": ""
             }
            },
            "type": "parcoords"
           }
          ],
          "pie": [
           {
            "automargin": true,
            "type": "pie"
           }
          ],
          "scatter": [
           {
            "fillpattern": {
             "fillmode": "overlay",
             "size": 10,
             "solidity": 0.2
            },
            "type": "scatter"
           }
          ],
          "scatter3d": [
           {
            "line": {
             "colorbar": {
              "outlinewidth": 0,
              "ticks": ""
             }
            },
            "marker": {
             "colorbar": {
              "outlinewidth": 0,
              "ticks": ""
             }
            },
            "type": "scatter3d"
           }
          ],
          "scattercarpet": [
           {
            "marker": {
             "colorbar": {
              "outlinewidth": 0,
              "ticks": ""
             }
            },
            "type": "scattercarpet"
           }
          ],
          "scattergeo": [
           {
            "marker": {
             "colorbar": {
              "outlinewidth": 0,
              "ticks": ""
             }
            },
            "type": "scattergeo"
           }
          ],
          "scattergl": [
           {
            "marker": {
             "colorbar": {
              "outlinewidth": 0,
              "ticks": ""
             }
            },
            "type": "scattergl"
           }
          ],
          "scattermap": [
           {
            "marker": {
             "colorbar": {
              "outlinewidth": 0,
              "ticks": ""
             }
            },
            "type": "scattermap"
           }
          ],
          "scattermapbox": [
           {
            "marker": {
             "colorbar": {
              "outlinewidth": 0,
              "ticks": ""
             }
            },
            "type": "scattermapbox"
           }
          ],
          "scatterpolar": [
           {
            "marker": {
             "colorbar": {
              "outlinewidth": 0,
              "ticks": ""
             }
            },
            "type": "scatterpolar"
           }
          ],
          "scatterpolargl": [
           {
            "marker": {
             "colorbar": {
              "outlinewidth": 0,
              "ticks": ""
             }
            },
            "type": "scatterpolargl"
           }
          ],
          "scatterternary": [
           {
            "marker": {
             "colorbar": {
              "outlinewidth": 0,
              "ticks": ""
             }
            },
            "type": "scatterternary"
           }
          ],
          "surface": [
           {
            "colorbar": {
             "outlinewidth": 0,
             "ticks": ""
            },
            "colorscale": [
             [
              0,
              "#0d0887"
             ],
             [
              0.1111111111111111,
              "#46039f"
             ],
             [
              0.2222222222222222,
              "#7201a8"
             ],
             [
              0.3333333333333333,
              "#9c179e"
             ],
             [
              0.4444444444444444,
              "#bd3786"
             ],
             [
              0.5555555555555556,
              "#d8576b"
             ],
             [
              0.6666666666666666,
              "#ed7953"
             ],
             [
              0.7777777777777778,
              "#fb9f3a"
             ],
             [
              0.8888888888888888,
              "#fdca26"
             ],
             [
              1,
              "#f0f921"
             ]
            ],
            "type": "surface"
           }
          ],
          "table": [
           {
            "cells": {
             "fill": {
              "color": "#EBF0F8"
             },
             "line": {
              "color": "white"
             }
            },
            "header": {
             "fill": {
              "color": "#C8D4E3"
             },
             "line": {
              "color": "white"
             }
            },
            "type": "table"
           }
          ]
         },
         "layout": {
          "annotationdefaults": {
           "arrowcolor": "#2a3f5f",
           "arrowhead": 0,
           "arrowwidth": 1
          },
          "autotypenumbers": "strict",
          "coloraxis": {
           "colorbar": {
            "outlinewidth": 0,
            "ticks": ""
           }
          },
          "colorscale": {
           "diverging": [
            [
             0,
             "#8e0152"
            ],
            [
             0.1,
             "#c51b7d"
            ],
            [
             0.2,
             "#de77ae"
            ],
            [
             0.3,
             "#f1b6da"
            ],
            [
             0.4,
             "#fde0ef"
            ],
            [
             0.5,
             "#f7f7f7"
            ],
            [
             0.6,
             "#e6f5d0"
            ],
            [
             0.7,
             "#b8e186"
            ],
            [
             0.8,
             "#7fbc41"
            ],
            [
             0.9,
             "#4d9221"
            ],
            [
             1,
             "#276419"
            ]
           ],
           "sequential": [
            [
             0,
             "#0d0887"
            ],
            [
             0.1111111111111111,
             "#46039f"
            ],
            [
             0.2222222222222222,
             "#7201a8"
            ],
            [
             0.3333333333333333,
             "#9c179e"
            ],
            [
             0.4444444444444444,
             "#bd3786"
            ],
            [
             0.5555555555555556,
             "#d8576b"
            ],
            [
             0.6666666666666666,
             "#ed7953"
            ],
            [
             0.7777777777777778,
             "#fb9f3a"
            ],
            [
             0.8888888888888888,
             "#fdca26"
            ],
            [
             1,
             "#f0f921"
            ]
           ],
           "sequentialminus": [
            [
             0,
             "#0d0887"
            ],
            [
             0.1111111111111111,
             "#46039f"
            ],
            [
             0.2222222222222222,
             "#7201a8"
            ],
            [
             0.3333333333333333,
             "#9c179e"
            ],
            [
             0.4444444444444444,
             "#bd3786"
            ],
            [
             0.5555555555555556,
             "#d8576b"
            ],
            [
             0.6666666666666666,
             "#ed7953"
            ],
            [
             0.7777777777777778,
             "#fb9f3a"
            ],
            [
             0.8888888888888888,
             "#fdca26"
            ],
            [
             1,
             "#f0f921"
            ]
           ]
          },
          "colorway": [
           "#636efa",
           "#EF553B",
           "#00cc96",
           "#ab63fa",
           "#FFA15A",
           "#19d3f3",
           "#FF6692",
           "#B6E880",
           "#FF97FF",
           "#FECB52"
          ],
          "font": {
           "color": "#2a3f5f"
          },
          "geo": {
           "bgcolor": "white",
           "lakecolor": "white",
           "landcolor": "white",
           "showlakes": true,
           "showland": true,
           "subunitcolor": "#C8D4E3"
          },
          "hoverlabel": {
           "align": "left"
          },
          "hovermode": "closest",
          "mapbox": {
           "style": "light"
          },
          "paper_bgcolor": "white",
          "plot_bgcolor": "white",
          "polar": {
           "angularaxis": {
            "gridcolor": "#EBF0F8",
            "linecolor": "#EBF0F8",
            "ticks": ""
           },
           "bgcolor": "white",
           "radialaxis": {
            "gridcolor": "#EBF0F8",
            "linecolor": "#EBF0F8",
            "ticks": ""
           }
          },
          "scene": {
           "xaxis": {
            "backgroundcolor": "white",
            "gridcolor": "#DFE8F3",
            "gridwidth": 2,
            "linecolor": "#EBF0F8",
            "showbackground": true,
            "ticks": "",
            "zerolinecolor": "#EBF0F8"
           },
           "yaxis": {
            "backgroundcolor": "white",
            "gridcolor": "#DFE8F3",
            "gridwidth": 2,
            "linecolor": "#EBF0F8",
            "showbackground": true,
            "ticks": "",
            "zerolinecolor": "#EBF0F8"
           },
           "zaxis": {
            "backgroundcolor": "white",
            "gridcolor": "#DFE8F3",
            "gridwidth": 2,
            "linecolor": "#EBF0F8",
            "showbackground": true,
            "ticks": "",
            "zerolinecolor": "#EBF0F8"
           }
          },
          "shapedefaults": {
           "line": {
            "color": "#2a3f5f"
           }
          },
          "ternary": {
           "aaxis": {
            "gridcolor": "#DFE8F3",
            "linecolor": "#A2B1C6",
            "ticks": ""
           },
           "baxis": {
            "gridcolor": "#DFE8F3",
            "linecolor": "#A2B1C6",
            "ticks": ""
           },
           "bgcolor": "white",
           "caxis": {
            "gridcolor": "#DFE8F3",
            "linecolor": "#A2B1C6",
            "ticks": ""
           }
          },
          "title": {
           "x": 0.05
          },
          "xaxis": {
           "automargin": true,
           "gridcolor": "#EBF0F8",
           "linecolor": "#EBF0F8",
           "ticks": "",
           "title": {
            "standoff": 15
           },
           "zerolinecolor": "#EBF0F8",
           "zerolinewidth": 2
          },
          "yaxis": {
           "automargin": true,
           "gridcolor": "#EBF0F8",
           "linecolor": "#EBF0F8",
           "ticks": "",
           "title": {
            "standoff": 15
           },
           "zerolinecolor": "#EBF0F8",
           "zerolinewidth": 2
          }
         }
        },
        "title": {
         "text": "Mileage Distribution by Fuel Type (KDE)"
        },
        "width": 1000,
        "xaxis": {
         "anchor": "y",
         "domain": [
          0,
          0.45
         ],
         "title": {
          "text": "Mileage (mpg)"
         }
        },
        "xaxis2": {
         "anchor": "y2",
         "domain": [
          0.55,
          1
         ],
         "title": {
          "text": "Mileage (mpg)"
         }
        },
        "xaxis3": {
         "anchor": "y3",
         "domain": [
          0,
          0.45
         ],
         "title": {
          "text": "Mileage (mpg)"
         }
        },
        "xaxis4": {
         "anchor": "y4",
         "domain": [
          0.55,
          1
         ],
         "title": {
          "text": "Mileage (mpg)"
         }
        },
        "yaxis": {
         "anchor": "x",
         "domain": [
          0.625,
          1
         ],
         "title": {
          "text": "Density"
         }
        },
        "yaxis2": {
         "anchor": "x2",
         "domain": [
          0.625,
          1
         ],
         "title": {
          "text": "Density"
         }
        },
        "yaxis3": {
         "anchor": "x3",
         "domain": [
          0,
          0.375
         ],
         "title": {
          "text": "Density"
         }
        },
        "yaxis4": {
         "anchor": "x4",
         "domain": [
          0,
          0.375
         ],
         "title": {
          "text": "Density"
         }
        }
       }
      }
     },
     "metadata": {},
     "output_type": "display_data"
    }
   ],
   "source": [
    "from plotly.subplots import make_subplots\n",
    "\n",
    "\n",
    "fuel_types = ['gasoline', 'hybrid', 'flex fuel','diesel']\n",
    "\n",
    "\n",
    "fig = make_subplots(\n",
    "    rows=2, cols=2,\n",
    "    subplot_titles=[ft.capitalize() for ft in fuel_types],\n",
    "    shared_xaxes=False,\n",
    "    shared_yaxes=False\n",
    ")\n",
    "\n",
    "row_col_map = [(1, 1), (1, 2), (2, 1), (2, 2)]\n",
    "\n",
    "for i, fuel in enumerate(fuel_types):\n",
    "    row, col = row_col_map[i]\n",
    "\n",
    "    subset = data[data['fuel_type'] == fuel]\n",
    "\n",
    "   \n",
    "    mpg_values = pd.to_numeric(subset['mpg'], errors='coerce').dropna()\n",
    "\n",
    "    if len(mpg_values) > 1:\n",
    "        kde = gaussian_kde(mpg_values)\n",
    "        x = np.linspace(mpg_values.min(), mpg_values.max(), 500)\n",
    "        y = kde(x)\n",
    "\n",
    "        \n",
    "        fig.add_trace(\n",
    "            go.Scatter(x=x, y=y, mode='lines', name=fuel.capitalize()),\n",
    "            row=row, col=col\n",
    "        )\n",
    "\n",
    "\n",
    "fig.update_layout(\n",
    "    height=600,\n",
    "    width=1000,\n",
    "    title_text='Mileage Distribution by Fuel Type (KDE)',\n",
    "    template='plotly_white',\n",
    "    showlegend=False\n",
    ")\n",
    "\n",
    "fig.update_xaxes(title_text=\"Mileage (mpg)\")\n",
    "fig.update_yaxes(title_text=\"Density\")\n",
    "\n",
    "fig.show()\n"
   ]
  },
  {
   "cell_type": "code",
   "execution_count": null,
   "id": "06ced9d5",
   "metadata": {},
   "outputs": [
    {
     "name": "stderr",
     "output_type": "stream",
     "text": [
      "C:\\Users\\Kartik\\AppData\\Local\\Temp\\ipykernel_16424\\20282551.py:3: SettingWithCopyWarning:\n",
      "\n",
      "\n",
      "A value is trying to be set on a copy of a slice from a DataFrame.\n",
      "Try using .loc[row_indexer,col_indexer] = value instead\n",
      "\n",
      "See the caveats in the documentation: https://pandas.pydata.org/pandas-docs/stable/user_guide/indexing.html#returning-a-view-versus-a-copy\n",
      "\n"
     ]
    },
    {
     "data": {
      "application/vnd.plotly.v1+json": {
       "config": {
        "plotlyServerURL": "https://plot.ly"
       },
       "data": [
        {
         "hovertemplate": "Mileage (mpg)=%{x}<br>Density=%{y}<extra></extra>",
         "legendgroup": "",
         "line": {
          "color": "#636efa",
          "dash": "solid"
         },
         "marker": {
          "symbol": "circle"
         },
         "mode": "lines",
         "name": "",
         "orientation": "v",
         "showlegend": false,
         "type": "scatter",
         "x": {
          "bdata": "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",
          "dtype": "f8"
         },
         "xaxis": "x",
         "y": {
          "bdata": "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",
          "dtype": "f8"
         },
         "yaxis": "y"
        }
       ],
       "layout": {
        "legend": {
         "tracegroupgap": 0
        },
        "template": {
         "data": {
          "bar": [
           {
            "error_x": {
             "color": "#2a3f5f"
            },
            "error_y": {
             "color": "#2a3f5f"
            },
            "marker": {
             "line": {
              "color": "white",
              "width": 0.5
             },
             "pattern": {
              "fillmode": "overlay",
              "size": 10,
              "solidity": 0.2
             }
            },
            "type": "bar"
           }
          ],
          "barpolar": [
           {
            "marker": {
             "line": {
              "color": "white",
              "width": 0.5
             },
             "pattern": {
              "fillmode": "overlay",
              "size": 10,
              "solidity": 0.2
             }
            },
            "type": "barpolar"
           }
          ],
          "carpet": [
           {
            "aaxis": {
             "endlinecolor": "#2a3f5f",
             "gridcolor": "#C8D4E3",
             "linecolor": "#C8D4E3",
             "minorgridcolor": "#C8D4E3",
             "startlinecolor": "#2a3f5f"
            },
            "baxis": {
             "endlinecolor": "#2a3f5f",
             "gridcolor": "#C8D4E3",
             "linecolor": "#C8D4E3",
             "minorgridcolor": "#C8D4E3",
             "startlinecolor": "#2a3f5f"
            },
            "type": "carpet"
           }
          ],
          "choropleth": [
           {
            "colorbar": {
             "outlinewidth": 0,
             "ticks": ""
            },
            "type": "choropleth"
           }
          ],
          "contour": [
           {
            "colorbar": {
             "outlinewidth": 0,
             "ticks": ""
            },
            "colorscale": [
             [
              0,
              "#0d0887"
             ],
             [
              0.1111111111111111,
              "#46039f"
             ],
             [
              0.2222222222222222,
              "#7201a8"
             ],
             [
              0.3333333333333333,
              "#9c179e"
             ],
             [
              0.4444444444444444,
              "#bd3786"
             ],
             [
              0.5555555555555556,
              "#d8576b"
             ],
             [
              0.6666666666666666,
              "#ed7953"
             ],
             [
              0.7777777777777778,
              "#fb9f3a"
             ],
             [
              0.8888888888888888,
              "#fdca26"
             ],
             [
              1,
              "#f0f921"
             ]
            ],
            "type": "contour"
           }
          ],
          "contourcarpet": [
           {
            "colorbar": {
             "outlinewidth": 0,
             "ticks": ""
            },
            "type": "contourcarpet"
           }
          ],
          "heatmap": [
           {
            "colorbar": {
             "outlinewidth": 0,
             "ticks": ""
            },
            "colorscale": [
             [
              0,
              "#0d0887"
             ],
             [
              0.1111111111111111,
              "#46039f"
             ],
             [
              0.2222222222222222,
              "#7201a8"
             ],
             [
              0.3333333333333333,
              "#9c179e"
             ],
             [
              0.4444444444444444,
              "#bd3786"
             ],
             [
              0.5555555555555556,
              "#d8576b"
             ],
             [
              0.6666666666666666,
              "#ed7953"
             ],
             [
              0.7777777777777778,
              "#fb9f3a"
             ],
             [
              0.8888888888888888,
              "#fdca26"
             ],
             [
              1,
              "#f0f921"
             ]
            ],
            "type": "heatmap"
           }
          ],
          "histogram": [
           {
            "marker": {
             "pattern": {
              "fillmode": "overlay",
              "size": 10,
              "solidity": 0.2
             }
            },
            "type": "histogram"
           }
          ],
          "histogram2d": [
           {
            "colorbar": {
             "outlinewidth": 0,
             "ticks": ""
            },
            "colorscale": [
             [
              0,
              "#0d0887"
             ],
             [
              0.1111111111111111,
              "#46039f"
             ],
             [
              0.2222222222222222,
              "#7201a8"
             ],
             [
              0.3333333333333333,
              "#9c179e"
             ],
             [
              0.4444444444444444,
              "#bd3786"
             ],
             [
              0.5555555555555556,
              "#d8576b"
             ],
             [
              0.6666666666666666,
              "#ed7953"
             ],
             [
              0.7777777777777778,
              "#fb9f3a"
             ],
             [
              0.8888888888888888,
              "#fdca26"
             ],
             [
              1,
              "#f0f921"
             ]
            ],
            "type": "histogram2d"
           }
          ],
          "histogram2dcontour": [
           {
            "colorbar": {
             "outlinewidth": 0,
             "ticks": ""
            },
            "colorscale": [
             [
              0,
              "#0d0887"
             ],
             [
              0.1111111111111111,
              "#46039f"
             ],
             [
              0.2222222222222222,
              "#7201a8"
             ],
             [
              0.3333333333333333,
              "#9c179e"
             ],
             [
              0.4444444444444444,
              "#bd3786"
             ],
             [
              0.5555555555555556,
              "#d8576b"
             ],
             [
              0.6666666666666666,
              "#ed7953"
             ],
             [
              0.7777777777777778,
              "#fb9f3a"
             ],
             [
              0.8888888888888888,
              "#fdca26"
             ],
             [
              1,
              "#f0f921"
             ]
            ],
            "type": "histogram2dcontour"
           }
          ],
          "mesh3d": [
           {
            "colorbar": {
             "outlinewidth": 0,
             "ticks": ""
            },
            "type": "mesh3d"
           }
          ],
          "parcoords": [
           {
            "line": {
             "colorbar": {
              "outlinewidth": 0,
              "ticks": ""
             }
            },
            "type": "parcoords"
           }
          ],
          "pie": [
           {
            "automargin": true,
            "type": "pie"
           }
          ],
          "scatter": [
           {
            "fillpattern": {
             "fillmode": "overlay",
             "size": 10,
             "solidity": 0.2
            },
            "type": "scatter"
           }
          ],
          "scatter3d": [
           {
            "line": {
             "colorbar": {
              "outlinewidth": 0,
              "ticks": ""
             }
            },
            "marker": {
             "colorbar": {
              "outlinewidth": 0,
              "ticks": ""
             }
            },
            "type": "scatter3d"
           }
          ],
          "scattercarpet": [
           {
            "marker": {
             "colorbar": {
              "outlinewidth": 0,
              "ticks": ""
             }
            },
            "type": "scattercarpet"
           }
          ],
          "scattergeo": [
           {
            "marker": {
             "colorbar": {
              "outlinewidth": 0,
              "ticks": ""
             }
            },
            "type": "scattergeo"
           }
          ],
          "scattergl": [
           {
            "marker": {
             "colorbar": {
              "outlinewidth": 0,
              "ticks": ""
             }
            },
            "type": "scattergl"
           }
          ],
          "scattermap": [
           {
            "marker": {
             "colorbar": {
              "outlinewidth": 0,
              "ticks": ""
             }
            },
            "type": "scattermap"
           }
          ],
          "scattermapbox": [
           {
            "marker": {
             "colorbar": {
              "outlinewidth": 0,
              "ticks": ""
             }
            },
            "type": "scattermapbox"
           }
          ],
          "scatterpolar": [
           {
            "marker": {
             "colorbar": {
              "outlinewidth": 0,
              "ticks": ""
             }
            },
            "type": "scatterpolar"
           }
          ],
          "scatterpolargl": [
           {
            "marker": {
             "colorbar": {
              "outlinewidth": 0,
              "ticks": ""
             }
            },
            "type": "scatterpolargl"
           }
          ],
          "scatterternary": [
           {
            "marker": {
             "colorbar": {
              "outlinewidth": 0,
              "ticks": ""
             }
            },
            "type": "scatterternary"
           }
          ],
          "surface": [
           {
            "colorbar": {
             "outlinewidth": 0,
             "ticks": ""
            },
            "colorscale": [
             [
              0,
              "#0d0887"
             ],
             [
              0.1111111111111111,
              "#46039f"
             ],
             [
              0.2222222222222222,
              "#7201a8"
             ],
             [
              0.3333333333333333,
              "#9c179e"
             ],
             [
              0.4444444444444444,
              "#bd3786"
             ],
             [
              0.5555555555555556,
              "#d8576b"
             ],
             [
              0.6666666666666666,
              "#ed7953"
             ],
             [
              0.7777777777777778,
              "#fb9f3a"
             ],
             [
              0.8888888888888888,
              "#fdca26"
             ],
             [
              1,
              "#f0f921"
             ]
            ],
            "type": "surface"
           }
          ],
          "table": [
           {
            "cells": {
             "fill": {
              "color": "#EBF0F8"
             },
             "line": {
              "color": "white"
             }
            },
            "header": {
             "fill": {
              "color": "#C8D4E3"
             },
             "line": {
              "color": "white"
             }
            },
            "type": "table"
           }
          ]
         },
         "layout": {
          "annotationdefaults": {
           "arrowcolor": "#2a3f5f",
           "arrowhead": 0,
           "arrowwidth": 1
          },
          "autotypenumbers": "strict",
          "coloraxis": {
           "colorbar": {
            "outlinewidth": 0,
            "ticks": ""
           }
          },
          "colorscale": {
           "diverging": [
            [
             0,
             "#8e0152"
            ],
            [
             0.1,
             "#c51b7d"
            ],
            [
             0.2,
             "#de77ae"
            ],
            [
             0.3,
             "#f1b6da"
            ],
            [
             0.4,
             "#fde0ef"
            ],
            [
             0.5,
             "#f7f7f7"
            ],
            [
             0.6,
             "#e6f5d0"
            ],
            [
             0.7,
             "#b8e186"
            ],
            [
             0.8,
             "#7fbc41"
            ],
            [
             0.9,
             "#4d9221"
            ],
            [
             1,
             "#276419"
            ]
           ],
           "sequential": [
            [
             0,
             "#0d0887"
            ],
            [
             0.1111111111111111,
             "#46039f"
            ],
            [
             0.2222222222222222,
             "#7201a8"
            ],
            [
             0.3333333333333333,
             "#9c179e"
            ],
            [
             0.4444444444444444,
             "#bd3786"
            ],
            [
             0.5555555555555556,
             "#d8576b"
            ],
            [
             0.6666666666666666,
             "#ed7953"
            ],
            [
             0.7777777777777778,
             "#fb9f3a"
            ],
            [
             0.8888888888888888,
             "#fdca26"
            ],
            [
             1,
             "#f0f921"
            ]
           ],
           "sequentialminus": [
            [
             0,
             "#0d0887"
            ],
            [
             0.1111111111111111,
             "#46039f"
            ],
            [
             0.2222222222222222,
             "#7201a8"
            ],
            [
             0.3333333333333333,
             "#9c179e"
            ],
            [
             0.4444444444444444,
             "#bd3786"
            ],
            [
             0.5555555555555556,
             "#d8576b"
            ],
            [
             0.6666666666666666,
             "#ed7953"
            ],
            [
             0.7777777777777778,
             "#fb9f3a"
            ],
            [
             0.8888888888888888,
             "#fdca26"
            ],
            [
             1,
             "#f0f921"
            ]
           ]
          },
          "colorway": [
           "#636efa",
           "#EF553B",
           "#00cc96",
           "#ab63fa",
           "#FFA15A",
           "#19d3f3",
           "#FF6692",
           "#B6E880",
           "#FF97FF",
           "#FECB52"
          ],
          "font": {
           "color": "#2a3f5f"
          },
          "geo": {
           "bgcolor": "white",
           "lakecolor": "white",
           "landcolor": "white",
           "showlakes": true,
           "showland": true,
           "subunitcolor": "#C8D4E3"
          },
          "hoverlabel": {
           "align": "left"
          },
          "hovermode": "closest",
          "mapbox": {
           "style": "light"
          },
          "paper_bgcolor": "white",
          "plot_bgcolor": "white",
          "polar": {
           "angularaxis": {
            "gridcolor": "#EBF0F8",
            "linecolor": "#EBF0F8",
            "ticks": ""
           },
           "bgcolor": "white",
           "radialaxis": {
            "gridcolor": "#EBF0F8",
            "linecolor": "#EBF0F8",
            "ticks": ""
           }
          },
          "scene": {
           "xaxis": {
            "backgroundcolor": "white",
            "gridcolor": "#DFE8F3",
            "gridwidth": 2,
            "linecolor": "#EBF0F8",
            "showbackground": true,
            "ticks": "",
            "zerolinecolor": "#EBF0F8"
           },
           "yaxis": {
            "backgroundcolor": "white",
            "gridcolor": "#DFE8F3",
            "gridwidth": 2,
            "linecolor": "#EBF0F8",
            "showbackground": true,
            "ticks": "",
            "zerolinecolor": "#EBF0F8"
           },
           "zaxis": {
            "backgroundcolor": "white",
            "gridcolor": "#DFE8F3",
            "gridwidth": 2,
            "linecolor": "#EBF0F8",
            "showbackground": true,
            "ticks": "",
            "zerolinecolor": "#EBF0F8"
           }
          },
          "shapedefaults": {
           "line": {
            "color": "#2a3f5f"
           }
          },
          "ternary": {
           "aaxis": {
            "gridcolor": "#DFE8F3",
            "linecolor": "#A2B1C6",
            "ticks": ""
           },
           "baxis": {
            "gridcolor": "#DFE8F3",
            "linecolor": "#A2B1C6",
            "ticks": ""
           },
           "bgcolor": "white",
           "caxis": {
            "gridcolor": "#DFE8F3",
            "linecolor": "#A2B1C6",
            "ticks": ""
           }
          },
          "title": {
           "x": 0.05
          },
          "xaxis": {
           "automargin": true,
           "gridcolor": "#EBF0F8",
           "linecolor": "#EBF0F8",
           "ticks": "",
           "title": {
            "standoff": 15
           },
           "zerolinecolor": "#EBF0F8",
           "zerolinewidth": 2
          },
          "yaxis": {
           "automargin": true,
           "gridcolor": "#EBF0F8",
           "linecolor": "#EBF0F8",
           "ticks": "",
           "title": {
            "standoff": 15
           },
           "zerolinecolor": "#EBF0F8",
           "zerolinewidth": 2
          }
         }
        },
        "title": {
         "text": "Mileage Distribution for non Electric Cars (KDE)"
        },
        "xaxis": {
         "anchor": "y",
         "domain": [
          0,
          1
         ],
         "title": {
          "text": "Mileage (mpg)"
         }
        },
        "yaxis": {
         "anchor": "x",
         "domain": [
          0,
          1
         ],
         "title": {
          "text": "Density"
         }
        }
       }
      }
     },
     "metadata": {},
     "output_type": "display_data"
    }
   ],
   "source": [
    "mileage_fuel = data[data['fuel_type'] == 'gasoline']\n",
    "\n",
    "mileage_fuel['mpg'] = pd.to_numeric(mileage_fuel['mpg'], errors='coerce')\n",
    "\n",
    "mpg_values = mileage_fuel['mpg'].dropna()\n",
    "\n",
    "\n",
    "\n",
    "\n",
    "if len(mpg_values) > 1:\n",
    " \n",
    "    kde = gaussian_kde(mpg_values)\n",
    "\n",
    "\n",
    "    x = np.linspace(mpg_values.min(), mpg_values.max(), 500)\n",
    "    y = kde(x)\n",
    "\n",
    "\n",
    "    fig = px.line(x=x, y=y, labels={'x': 'Mileage (mpg)', 'y': 'Density'},\n",
    "                  title='Mileage Distribution for non Electric Cars (KDE)')\n",
    "    fig.update_layout(template='plotly_white')\n",
    "    fig.show()\n",
    "\n",
    "else:\n",
    "    print(\"Not enough data points to plot KDE for  cars.\")\n"
   ]
  },
  {
   "cell_type": "code",
   "execution_count": 621,
   "id": "8153995e",
   "metadata": {},
   "outputs": [
    {
     "data": {
      "text/plain": [
       "array(['Acura', 'Audi', 'BMW', 'Buick', 'Cadillac', 'Chevrolet',\n",
       "       'Chrysler', 'Dodge', 'Ford', 'GMC', 'Honda', 'Hyundai', 'INFINITI',\n",
       "       'Jaguar', 'Jeep', 'Kia', 'Land Rover', 'Lexus', 'Lincoln', 'Mazda',\n",
       "       'Mercedes-Benz', 'Mitsubishi', 'Nissan', 'Porsche', 'RAM',\n",
       "       'Subaru', 'Tesla', 'Toyota', 'Volkswagen', 'Volvo'], dtype=object)"
      ]
     },
     "execution_count": 621,
     "metadata": {},
     "output_type": "execute_result"
    }
   ],
   "source": [
    "data['manufacturer'].unique()"
   ]
  },
  {
   "cell_type": "code",
   "execution_count": 622,
   "id": "de263374",
   "metadata": {},
   "outputs": [],
   "source": [
    "data.loc[data['manufacturer'] == 'Tesla', 'fuel_category'] = data.loc[data['manufacturer'] == 'Tesla', 'fuel_category'].fillna('electric')\n",
    "\n",
    "data.loc[data['manufacturer'] == 'Tesla', 'engine'] = data.loc[data['manufacturer'] == 'Tesla', 'engine'].fillna('electric')\n"
   ]
  },
  {
   "cell_type": "code",
   "execution_count": 624,
   "id": "f97a94f6",
   "metadata": {},
   "outputs": [],
   "source": [
    "\n",
    "data['age_group'] = data['age_group'].fillna('0-20')"
   ]
  },
  {
   "cell_type": "code",
   "execution_count": null,
   "id": "e47a25f0",
   "metadata": {},
   "outputs": [],
   "source": []
  },
  {
   "cell_type": "code",
   "execution_count": 626,
   "id": "8232a51a",
   "metadata": {},
   "outputs": [
    {
     "data": {
      "text/html": [
       "<div>\n",
       "<style scoped>\n",
       "    .dataframe tbody tr th:only-of-type {\n",
       "        vertical-align: middle;\n",
       "    }\n",
       "\n",
       "    .dataframe tbody tr th {\n",
       "        vertical-align: top;\n",
       "    }\n",
       "\n",
       "    .dataframe thead th {\n",
       "        text-align: right;\n",
       "    }\n",
       "</style>\n",
       "<table border=\"1\" class=\"dataframe\">\n",
       "  <thead>\n",
       "    <tr style=\"text-align: right;\">\n",
       "      <th></th>\n",
       "      <th>Column</th>\n",
       "      <th>Unique Values</th>\n",
       "      <th>null values</th>\n",
       "    </tr>\n",
       "  </thead>\n",
       "  <tbody>\n",
       "    <tr>\n",
       "      <th>0</th>\n",
       "      <td>manufacturer</td>\n",
       "      <td>30</td>\n",
       "      <td>0</td>\n",
       "    </tr>\n",
       "    <tr>\n",
       "      <th>1</th>\n",
       "      <td>model</td>\n",
       "      <td>11818</td>\n",
       "      <td>0</td>\n",
       "    </tr>\n",
       "    <tr>\n",
       "      <th>2</th>\n",
       "      <td>year</td>\n",
       "      <td>98</td>\n",
       "      <td>0</td>\n",
       "    </tr>\n",
       "    <tr>\n",
       "      <th>3</th>\n",
       "      <td>mileage</td>\n",
       "      <td>158674</td>\n",
       "      <td>0</td>\n",
       "    </tr>\n",
       "    <tr>\n",
       "      <th>4</th>\n",
       "      <td>engine</td>\n",
       "      <td>6808</td>\n",
       "      <td>0</td>\n",
       "    </tr>\n",
       "    <tr>\n",
       "      <th>5</th>\n",
       "      <td>transmission</td>\n",
       "      <td>1154</td>\n",
       "      <td>2750</td>\n",
       "    </tr>\n",
       "    <tr>\n",
       "      <th>6</th>\n",
       "      <td>drivetrain</td>\n",
       "      <td>6</td>\n",
       "      <td>0</td>\n",
       "    </tr>\n",
       "    <tr>\n",
       "      <th>7</th>\n",
       "      <td>fuel_type</td>\n",
       "      <td>8</td>\n",
       "      <td>0</td>\n",
       "    </tr>\n",
       "    <tr>\n",
       "      <th>8</th>\n",
       "      <td>mpg</td>\n",
       "      <td>156</td>\n",
       "      <td>137303</td>\n",
       "    </tr>\n",
       "    <tr>\n",
       "      <th>9</th>\n",
       "      <td>exterior_color</td>\n",
       "      <td>7549</td>\n",
       "      <td>0</td>\n",
       "    </tr>\n",
       "    <tr>\n",
       "      <th>10</th>\n",
       "      <td>interior_color</td>\n",
       "      <td>4371</td>\n",
       "      <td>0</td>\n",
       "    </tr>\n",
       "    <tr>\n",
       "      <th>11</th>\n",
       "      <td>accidents_or_damage</td>\n",
       "      <td>3</td>\n",
       "      <td>0</td>\n",
       "    </tr>\n",
       "    <tr>\n",
       "      <th>12</th>\n",
       "      <td>one_owner</td>\n",
       "      <td>3</td>\n",
       "      <td>0</td>\n",
       "    </tr>\n",
       "    <tr>\n",
       "      <th>13</th>\n",
       "      <td>personal_use_only</td>\n",
       "      <td>3</td>\n",
       "      <td>0</td>\n",
       "    </tr>\n",
       "    <tr>\n",
       "      <th>14</th>\n",
       "      <td>seller_name</td>\n",
       "      <td>17032</td>\n",
       "      <td>0</td>\n",
       "    </tr>\n",
       "    <tr>\n",
       "      <th>15</th>\n",
       "      <td>seller_rating</td>\n",
       "      <td>41</td>\n",
       "      <td>208512</td>\n",
       "    </tr>\n",
       "    <tr>\n",
       "      <th>16</th>\n",
       "      <td>driver_rating</td>\n",
       "      <td>35</td>\n",
       "      <td>30441</td>\n",
       "    </tr>\n",
       "    <tr>\n",
       "      <th>17</th>\n",
       "      <td>driver_reviews_num</td>\n",
       "      <td>369</td>\n",
       "      <td>0</td>\n",
       "    </tr>\n",
       "    <tr>\n",
       "      <th>18</th>\n",
       "      <td>price_drop</td>\n",
       "      <td>6347</td>\n",
       "      <td>340895</td>\n",
       "    </tr>\n",
       "    <tr>\n",
       "      <th>19</th>\n",
       "      <td>price</td>\n",
       "      <td>62850</td>\n",
       "      <td>0</td>\n",
       "    </tr>\n",
       "    <tr>\n",
       "      <th>20</th>\n",
       "      <td>engine_size</td>\n",
       "      <td>10</td>\n",
       "      <td>0</td>\n",
       "    </tr>\n",
       "    <tr>\n",
       "      <th>21</th>\n",
       "      <td>cylinders</td>\n",
       "      <td>13</td>\n",
       "      <td>119834</td>\n",
       "    </tr>\n",
       "    <tr>\n",
       "      <th>22</th>\n",
       "      <td>valves</td>\n",
       "      <td>15</td>\n",
       "      <td>116303</td>\n",
       "    </tr>\n",
       "    <tr>\n",
       "      <th>23</th>\n",
       "      <td>aspiration</td>\n",
       "      <td>6</td>\n",
       "      <td>505340</td>\n",
       "    </tr>\n",
       "    <tr>\n",
       "      <th>24</th>\n",
       "      <td>fuel_type_2</td>\n",
       "      <td>9</td>\n",
       "      <td>614874</td>\n",
       "    </tr>\n",
       "    <tr>\n",
       "      <th>25</th>\n",
       "      <td>injection_system</td>\n",
       "      <td>14</td>\n",
       "      <td>86300</td>\n",
       "    </tr>\n",
       "    <tr>\n",
       "      <th>26</th>\n",
       "      <td>configuration</td>\n",
       "      <td>6</td>\n",
       "      <td>71669</td>\n",
       "    </tr>\n",
       "    <tr>\n",
       "      <th>27</th>\n",
       "      <td>horsepower</td>\n",
       "      <td>658</td>\n",
       "      <td>721964</td>\n",
       "    </tr>\n",
       "    <tr>\n",
       "      <th>28</th>\n",
       "      <td>fuel_category</td>\n",
       "      <td>9</td>\n",
       "      <td>614723</td>\n",
       "    </tr>\n",
       "    <tr>\n",
       "      <th>29</th>\n",
       "      <td>ENGINE_DETAILS</td>\n",
       "      <td>723</td>\n",
       "      <td>0</td>\n",
       "    </tr>\n",
       "    <tr>\n",
       "      <th>30</th>\n",
       "      <td>transmission_category</td>\n",
       "      <td>6</td>\n",
       "      <td>0</td>\n",
       "    </tr>\n",
       "    <tr>\n",
       "      <th>31</th>\n",
       "      <td>engine_column</td>\n",
       "      <td>1126</td>\n",
       "      <td>0</td>\n",
       "    </tr>\n",
       "    <tr>\n",
       "      <th>32</th>\n",
       "      <td>age</td>\n",
       "      <td>98</td>\n",
       "      <td>0</td>\n",
       "    </tr>\n",
       "    <tr>\n",
       "      <th>33</th>\n",
       "      <td>age_group</td>\n",
       "      <td>4</td>\n",
       "      <td>0</td>\n",
       "    </tr>\n",
       "  </tbody>\n",
       "</table>\n",
       "</div>"
      ],
      "text/plain": [
       "                   Column  Unique Values  null values\n",
       "0            manufacturer             30            0\n",
       "1                   model          11818            0\n",
       "2                    year             98            0\n",
       "3                 mileage         158674            0\n",
       "4                  engine           6808            0\n",
       "5            transmission           1154         2750\n",
       "6              drivetrain              6            0\n",
       "7               fuel_type              8            0\n",
       "8                     mpg            156       137303\n",
       "9          exterior_color           7549            0\n",
       "10         interior_color           4371            0\n",
       "11    accidents_or_damage              3            0\n",
       "12              one_owner              3            0\n",
       "13      personal_use_only              3            0\n",
       "14            seller_name          17032            0\n",
       "15          seller_rating             41       208512\n",
       "16          driver_rating             35        30441\n",
       "17     driver_reviews_num            369            0\n",
       "18             price_drop           6347       340895\n",
       "19                  price          62850            0\n",
       "20            engine_size             10            0\n",
       "21              cylinders             13       119834\n",
       "22                 valves             15       116303\n",
       "23             aspiration              6       505340\n",
       "24            fuel_type_2              9       614874\n",
       "25       injection_system             14        86300\n",
       "26          configuration              6        71669\n",
       "27             horsepower            658       721964\n",
       "28          fuel_category              9       614723\n",
       "29         ENGINE_DETAILS            723            0\n",
       "30  transmission_category              6            0\n",
       "31          engine_column           1126            0\n",
       "32                    age             98            0\n",
       "33              age_group              4            0"
      ]
     },
     "metadata": {},
     "output_type": "display_data"
    }
   ],
   "source": [
    "columns_info(data)"
   ]
  },
  {
   "cell_type": "code",
   "execution_count": 627,
   "id": "c6af4b5c",
   "metadata": {},
   "outputs": [
    {
     "data": {
      "text/plain": [
       "count    538529.000000\n",
       "mean          4.156340\n",
       "std           0.805793\n",
       "min           1.000000\n",
       "25%           3.800000\n",
       "50%           4.500000\n",
       "75%           4.700000\n",
       "max           5.000000\n",
       "Name: seller_rating, dtype: float64"
      ]
     },
     "execution_count": 627,
     "metadata": {},
     "output_type": "execute_result"
    }
   ],
   "source": [
    "data['seller_rating'].describe()"
   ]
  },
  {
   "cell_type": "code",
   "execution_count": 628,
   "id": "b6aa7dbd",
   "metadata": {},
   "outputs": [],
   "source": [
    "# data['seller_rating'].fillna(data['seller_rating'].mean(), inplace=True)\n",
    "data['seller_rating'] = data['seller_rating'].fillna(data['seller_rating'].mean())\n",
    "\n"
   ]
  },
  {
   "cell_type": "code",
   "execution_count": 629,
   "metadata": {},
   "outputs": [
    {
     "data": {
      "text/plain": [
       "count    747041.000000\n",
       "mean          4.156340\n",
       "std           0.684157\n",
       "min           1.000000\n",
       "25%           4.100000\n",
       "50%           4.156340\n",
       "75%           4.600000\n",
       "max           5.000000\n",
       "Name: seller_rating, dtype: float64"
      ]
     },
     "execution_count": 629,
     "metadata": {},
     "output_type": "execute_result"
    }
   ],
   "source": [
    "data['seller_rating'].describe()"
   ]
  },
  {
   "cell_type": "code",
   "execution_count": 630,
   "id": "91e261c5",
   "metadata": {},
   "outputs": [
    {
     "data": {
      "text/plain": [
       "count    716600.000000\n",
       "mean          4.623261\n",
       "std           0.275780\n",
       "min           1.000000\n",
       "25%           4.500000\n",
       "50%           4.700000\n",
       "75%           4.800000\n",
       "max           5.000000\n",
       "Name: driver_rating, dtype: float64"
      ]
     },
     "execution_count": 630,
     "metadata": {},
     "output_type": "execute_result"
    }
   ],
   "source": [
    "data['driver_rating'].describe()"
   ]
  },
  {
   "cell_type": "code",
   "execution_count": 631,
   "id": "98073d32",
   "metadata": {},
   "outputs": [],
   "source": [
    "data['driver_rating'] = data['driver_rating'].fillna(data['driver_rating'].mean())"
   ]
  },
  {
   "cell_type": "code",
   "execution_count": 632,
   "id": "a46372e7",
   "metadata": {},
   "outputs": [
    {
     "data": {
      "text/plain": [
       "count    747041.000000\n",
       "mean          4.623261\n",
       "std           0.270103\n",
       "min           1.000000\n",
       "25%           4.500000\n",
       "50%           4.700000\n",
       "75%           4.800000\n",
       "max           5.000000\n",
       "Name: driver_rating, dtype: float64"
      ]
     },
     "execution_count": 632,
     "metadata": {},
     "output_type": "execute_result"
    }
   ],
   "source": [
    "data['driver_rating'].describe()"
   ]
  },
  {
   "cell_type": "code",
   "execution_count": 635,
   "id": "83a3f857",
   "metadata": {},
   "outputs": [],
   "source": [
    "cols_to_exclude = [\n",
    "    'engine_size', 'cylinders', 'valves', 'aspiration',\n",
    "    'fuel_type_2', 'injection_system', 'configuration',\n",
    "    'horsepower', 'fuel_category','transmission','engine_column'\n",
    "]\n",
    "\n",
    "new_data = data.drop(columns=cols_to_exclude)"
   ]
  },
  {
   "cell_type": "code",
   "execution_count": 636,
   "id": "b6ee8d44",
   "metadata": {},
   "outputs": [
    {
     "data": {
      "text/html": [
       "<div>\n",
       "<style scoped>\n",
       "    .dataframe tbody tr th:only-of-type {\n",
       "        vertical-align: middle;\n",
       "    }\n",
       "\n",
       "    .dataframe tbody tr th {\n",
       "        vertical-align: top;\n",
       "    }\n",
       "\n",
       "    .dataframe thead th {\n",
       "        text-align: right;\n",
       "    }\n",
       "</style>\n",
       "<table border=\"1\" class=\"dataframe\">\n",
       "  <thead>\n",
       "    <tr style=\"text-align: right;\">\n",
       "      <th></th>\n",
       "      <th>Column</th>\n",
       "      <th>Unique Values</th>\n",
       "      <th>null values</th>\n",
       "    </tr>\n",
       "  </thead>\n",
       "  <tbody>\n",
       "    <tr>\n",
       "      <th>0</th>\n",
       "      <td>manufacturer</td>\n",
       "      <td>30</td>\n",
       "      <td>0</td>\n",
       "    </tr>\n",
       "    <tr>\n",
       "      <th>1</th>\n",
       "      <td>model</td>\n",
       "      <td>11818</td>\n",
       "      <td>0</td>\n",
       "    </tr>\n",
       "    <tr>\n",
       "      <th>2</th>\n",
       "      <td>year</td>\n",
       "      <td>98</td>\n",
       "      <td>0</td>\n",
       "    </tr>\n",
       "    <tr>\n",
       "      <th>3</th>\n",
       "      <td>mileage</td>\n",
       "      <td>158674</td>\n",
       "      <td>0</td>\n",
       "    </tr>\n",
       "    <tr>\n",
       "      <th>4</th>\n",
       "      <td>engine</td>\n",
       "      <td>6808</td>\n",
       "      <td>0</td>\n",
       "    </tr>\n",
       "    <tr>\n",
       "      <th>5</th>\n",
       "      <td>drivetrain</td>\n",
       "      <td>6</td>\n",
       "      <td>0</td>\n",
       "    </tr>\n",
       "    <tr>\n",
       "      <th>6</th>\n",
       "      <td>fuel_type</td>\n",
       "      <td>8</td>\n",
       "      <td>0</td>\n",
       "    </tr>\n",
       "    <tr>\n",
       "      <th>7</th>\n",
       "      <td>mpg</td>\n",
       "      <td>156</td>\n",
       "      <td>137303</td>\n",
       "    </tr>\n",
       "    <tr>\n",
       "      <th>8</th>\n",
       "      <td>exterior_color</td>\n",
       "      <td>7549</td>\n",
       "      <td>0</td>\n",
       "    </tr>\n",
       "    <tr>\n",
       "      <th>9</th>\n",
       "      <td>interior_color</td>\n",
       "      <td>4371</td>\n",
       "      <td>0</td>\n",
       "    </tr>\n",
       "    <tr>\n",
       "      <th>10</th>\n",
       "      <td>accidents_or_damage</td>\n",
       "      <td>3</td>\n",
       "      <td>0</td>\n",
       "    </tr>\n",
       "    <tr>\n",
       "      <th>11</th>\n",
       "      <td>one_owner</td>\n",
       "      <td>3</td>\n",
       "      <td>0</td>\n",
       "    </tr>\n",
       "    <tr>\n",
       "      <th>12</th>\n",
       "      <td>personal_use_only</td>\n",
       "      <td>3</td>\n",
       "      <td>0</td>\n",
       "    </tr>\n",
       "    <tr>\n",
       "      <th>13</th>\n",
       "      <td>seller_name</td>\n",
       "      <td>17032</td>\n",
       "      <td>0</td>\n",
       "    </tr>\n",
       "    <tr>\n",
       "      <th>14</th>\n",
       "      <td>seller_rating</td>\n",
       "      <td>42</td>\n",
       "      <td>0</td>\n",
       "    </tr>\n",
       "    <tr>\n",
       "      <th>15</th>\n",
       "      <td>driver_rating</td>\n",
       "      <td>36</td>\n",
       "      <td>0</td>\n",
       "    </tr>\n",
       "    <tr>\n",
       "      <th>16</th>\n",
       "      <td>driver_reviews_num</td>\n",
       "      <td>369</td>\n",
       "      <td>0</td>\n",
       "    </tr>\n",
       "    <tr>\n",
       "      <th>17</th>\n",
       "      <td>price_drop</td>\n",
       "      <td>6347</td>\n",
       "      <td>340895</td>\n",
       "    </tr>\n",
       "    <tr>\n",
       "      <th>18</th>\n",
       "      <td>price</td>\n",
       "      <td>62850</td>\n",
       "      <td>0</td>\n",
       "    </tr>\n",
       "    <tr>\n",
       "      <th>19</th>\n",
       "      <td>ENGINE_DETAILS</td>\n",
       "      <td>723</td>\n",
       "      <td>0</td>\n",
       "    </tr>\n",
       "    <tr>\n",
       "      <th>20</th>\n",
       "      <td>transmission_category</td>\n",
       "      <td>6</td>\n",
       "      <td>0</td>\n",
       "    </tr>\n",
       "    <tr>\n",
       "      <th>21</th>\n",
       "      <td>age</td>\n",
       "      <td>98</td>\n",
       "      <td>0</td>\n",
       "    </tr>\n",
       "    <tr>\n",
       "      <th>22</th>\n",
       "      <td>age_group</td>\n",
       "      <td>4</td>\n",
       "      <td>0</td>\n",
       "    </tr>\n",
       "  </tbody>\n",
       "</table>\n",
       "</div>"
      ],
      "text/plain": [
       "                   Column  Unique Values  null values\n",
       "0            manufacturer             30            0\n",
       "1                   model          11818            0\n",
       "2                    year             98            0\n",
       "3                 mileage         158674            0\n",
       "4                  engine           6808            0\n",
       "5              drivetrain              6            0\n",
       "6               fuel_type              8            0\n",
       "7                     mpg            156       137303\n",
       "8          exterior_color           7549            0\n",
       "9          interior_color           4371            0\n",
       "10    accidents_or_damage              3            0\n",
       "11              one_owner              3            0\n",
       "12      personal_use_only              3            0\n",
       "13            seller_name          17032            0\n",
       "14          seller_rating             42            0\n",
       "15          driver_rating             36            0\n",
       "16     driver_reviews_num            369            0\n",
       "17             price_drop           6347       340895\n",
       "18                  price          62850            0\n",
       "19         ENGINE_DETAILS            723            0\n",
       "20  transmission_category              6            0\n",
       "21                    age             98            0\n",
       "22              age_group              4            0"
      ]
     },
     "metadata": {},
     "output_type": "display_data"
    }
   ],
   "source": [
    "columns_info(new_data)"
   ]
  },
  {
   "cell_type": "code",
   "execution_count": 639,
   "id": "98d7320b",
   "metadata": {},
   "outputs": [
    {
     "data": {
      "text/html": [
       "<div>\n",
       "<style scoped>\n",
       "    .dataframe tbody tr th:only-of-type {\n",
       "        vertical-align: middle;\n",
       "    }\n",
       "\n",
       "    .dataframe tbody tr th {\n",
       "        vertical-align: top;\n",
       "    }\n",
       "\n",
       "    .dataframe thead th {\n",
       "        text-align: right;\n",
       "    }\n",
       "</style>\n",
       "<table border=\"1\" class=\"dataframe\">\n",
       "  <thead>\n",
       "    <tr style=\"text-align: right;\">\n",
       "      <th></th>\n",
       "      <th>manufacturer</th>\n",
       "      <th>model</th>\n",
       "      <th>year</th>\n",
       "      <th>mileage</th>\n",
       "      <th>engine</th>\n",
       "      <th>drivetrain</th>\n",
       "      <th>fuel_type</th>\n",
       "      <th>mpg</th>\n",
       "      <th>exterior_color</th>\n",
       "      <th>interior_color</th>\n",
       "      <th>...</th>\n",
       "      <th>seller_name</th>\n",
       "      <th>seller_rating</th>\n",
       "      <th>driver_rating</th>\n",
       "      <th>driver_reviews_num</th>\n",
       "      <th>price_drop</th>\n",
       "      <th>price</th>\n",
       "      <th>ENGINE_DETAILS</th>\n",
       "      <th>transmission_category</th>\n",
       "      <th>age</th>\n",
       "      <th>age_group</th>\n",
       "    </tr>\n",
       "  </thead>\n",
       "  <tbody>\n",
       "    <tr>\n",
       "      <th>0</th>\n",
       "      <td>Acura</td>\n",
       "      <td>ILX Hybrid 1.5L</td>\n",
       "      <td>2013</td>\n",
       "      <td>92945.0</td>\n",
       "      <td>1.5l i-4 i-vtec variable valve control, engine...</td>\n",
       "      <td>FWD</td>\n",
       "      <td>gasoline</td>\n",
       "      <td>38.5</td>\n",
       "      <td>Black</td>\n",
       "      <td>Parchment</td>\n",
       "      <td>...</td>\n",
       "      <td>Iconic Coach</td>\n",
       "      <td>4.15634</td>\n",
       "      <td>4.4</td>\n",
       "      <td>12.0</td>\n",
       "      <td>300.0</td>\n",
       "      <td>13988.0</td>\n",
       "      <td>gasoline</td>\n",
       "      <td>Automatic</td>\n",
       "      <td>10</td>\n",
       "      <td>0-20</td>\n",
       "    </tr>\n",
       "    <tr>\n",
       "      <th>1</th>\n",
       "      <td>Acura</td>\n",
       "      <td>ILX Hybrid 1.5L</td>\n",
       "      <td>2013</td>\n",
       "      <td>47645.0</td>\n",
       "      <td>1.5l i4 8v mpfi sohc hybrid</td>\n",
       "      <td>FWD</td>\n",
       "      <td>hybrid</td>\n",
       "      <td>38.5</td>\n",
       "      <td>Gray</td>\n",
       "      <td>Ebony</td>\n",
       "      <td>...</td>\n",
       "      <td>Kars Today</td>\n",
       "      <td>4.15634</td>\n",
       "      <td>4.4</td>\n",
       "      <td>12.0</td>\n",
       "      <td>NaN</td>\n",
       "      <td>17995.0</td>\n",
       "      <td>i4 8v hybrid mpfi sohc</td>\n",
       "      <td>Automatic</td>\n",
       "      <td>10</td>\n",
       "      <td>0-20</td>\n",
       "    </tr>\n",
       "    <tr>\n",
       "      <th>2</th>\n",
       "      <td>Acura</td>\n",
       "      <td>ILX Hybrid 1.5L</td>\n",
       "      <td>2013</td>\n",
       "      <td>53422.0</td>\n",
       "      <td>1.5l i4 8v mpfi sohc hybrid</td>\n",
       "      <td>FWD</td>\n",
       "      <td>hybrid</td>\n",
       "      <td>38.5</td>\n",
       "      <td>Bellanova White Pearl</td>\n",
       "      <td>Ebony</td>\n",
       "      <td>...</td>\n",
       "      <td>Weiss Toyota of South County</td>\n",
       "      <td>4.30000</td>\n",
       "      <td>4.4</td>\n",
       "      <td>12.0</td>\n",
       "      <td>500.0</td>\n",
       "      <td>17000.0</td>\n",
       "      <td>i4 8v hybrid mpfi sohc</td>\n",
       "      <td>Automatic</td>\n",
       "      <td>10</td>\n",
       "      <td>0-20</td>\n",
       "    </tr>\n",
       "    <tr>\n",
       "      <th>3</th>\n",
       "      <td>Acura</td>\n",
       "      <td>ILX Hybrid 1.5L</td>\n",
       "      <td>2013</td>\n",
       "      <td>117598.0</td>\n",
       "      <td>1.5l i4 8v mpfi sohc hybrid</td>\n",
       "      <td>FWD</td>\n",
       "      <td>hybrid</td>\n",
       "      <td>38.5</td>\n",
       "      <td>Polished Metal Metallic</td>\n",
       "      <td>Unknown</td>\n",
       "      <td>...</td>\n",
       "      <td>Apple Tree Acura</td>\n",
       "      <td>4.15634</td>\n",
       "      <td>4.4</td>\n",
       "      <td>12.0</td>\n",
       "      <td>675.0</td>\n",
       "      <td>14958.0</td>\n",
       "      <td>i4 8v hybrid mpfi sohc</td>\n",
       "      <td>Automatic</td>\n",
       "      <td>10</td>\n",
       "      <td>0-20</td>\n",
       "    </tr>\n",
       "    <tr>\n",
       "      <th>4</th>\n",
       "      <td>Acura</td>\n",
       "      <td>ILX Hybrid 1.5L</td>\n",
       "      <td>2013</td>\n",
       "      <td>114865.0</td>\n",
       "      <td>1.5l i4 8v mpfi sohc hybrid</td>\n",
       "      <td>FWD</td>\n",
       "      <td>hybrid</td>\n",
       "      <td>38.5</td>\n",
       "      <td>Unknown</td>\n",
       "      <td>Ebony</td>\n",
       "      <td>...</td>\n",
       "      <td>Herb Connolly Chevrolet</td>\n",
       "      <td>3.70000</td>\n",
       "      <td>4.4</td>\n",
       "      <td>12.0</td>\n",
       "      <td>300.0</td>\n",
       "      <td>14498.0</td>\n",
       "      <td>i4 8v hybrid mpfi sohc</td>\n",
       "      <td>Automatic</td>\n",
       "      <td>10</td>\n",
       "      <td>0-20</td>\n",
       "    </tr>\n",
       "    <tr>\n",
       "      <th>...</th>\n",
       "      <td>...</td>\n",
       "      <td>...</td>\n",
       "      <td>...</td>\n",
       "      <td>...</td>\n",
       "      <td>...</td>\n",
       "      <td>...</td>\n",
       "      <td>...</td>\n",
       "      <td>...</td>\n",
       "      <td>...</td>\n",
       "      <td>...</td>\n",
       "      <td>...</td>\n",
       "      <td>...</td>\n",
       "      <td>...</td>\n",
       "      <td>...</td>\n",
       "      <td>...</td>\n",
       "      <td>...</td>\n",
       "      <td>...</td>\n",
       "      <td>...</td>\n",
       "      <td>...</td>\n",
       "      <td>...</td>\n",
       "      <td>...</td>\n",
       "    </tr>\n",
       "    <tr>\n",
       "      <th>762086</th>\n",
       "      <td>Volvo</td>\n",
       "      <td>S60 B5 Momentum</td>\n",
       "      <td>2022</td>\n",
       "      <td>22877.0</td>\n",
       "      <td>2.0l i4 16v gdi dohc turbo</td>\n",
       "      <td>AWD</td>\n",
       "      <td>gasoline</td>\n",
       "      <td>29.0</td>\n",
       "      <td>Bright Silver Metallic</td>\n",
       "      <td>Blond</td>\n",
       "      <td>...</td>\n",
       "      <td>Volvo Cars Danbury</td>\n",
       "      <td>4.20000</td>\n",
       "      <td>4.2</td>\n",
       "      <td>2.0</td>\n",
       "      <td>250.0</td>\n",
       "      <td>34798.0</td>\n",
       "      <td>i4 16v turbo gasoline gdi dohc</td>\n",
       "      <td>Automatic</td>\n",
       "      <td>1</td>\n",
       "      <td>0-20</td>\n",
       "    </tr>\n",
       "    <tr>\n",
       "      <th>762087</th>\n",
       "      <td>Volvo</td>\n",
       "      <td>S60 T5</td>\n",
       "      <td>2012</td>\n",
       "      <td>72900.0</td>\n",
       "      <td>250.0hp 2.5l 5 cylinder engine gasoline fuel</td>\n",
       "      <td>FWD</td>\n",
       "      <td>gasoline</td>\n",
       "      <td>NaN</td>\n",
       "      <td>Red</td>\n",
       "      <td>Beige</td>\n",
       "      <td>...</td>\n",
       "      <td>Unknown</td>\n",
       "      <td>4.15634</td>\n",
       "      <td>4.5</td>\n",
       "      <td>101.0</td>\n",
       "      <td>NaN</td>\n",
       "      <td>12500.0</td>\n",
       "      <td>gasoline</td>\n",
       "      <td>Automatic</td>\n",
       "      <td>11</td>\n",
       "      <td>0-20</td>\n",
       "    </tr>\n",
       "    <tr>\n",
       "      <th>762088</th>\n",
       "      <td>Volvo</td>\n",
       "      <td>S60 T5</td>\n",
       "      <td>2014</td>\n",
       "      <td>92000.0</td>\n",
       "      <td>2.5l i5 20v mpfi dohc turbo</td>\n",
       "      <td>FWD</td>\n",
       "      <td>gasoline</td>\n",
       "      <td>25.5</td>\n",
       "      <td>Ice White</td>\n",
       "      <td>Soft Beige</td>\n",
       "      <td>...</td>\n",
       "      <td>Dapper Car Sales</td>\n",
       "      <td>4.15634</td>\n",
       "      <td>4.8</td>\n",
       "      <td>36.0</td>\n",
       "      <td>300.0</td>\n",
       "      <td>12299.0</td>\n",
       "      <td>i5 20v turbo gasoline mpfi dohc</td>\n",
       "      <td>Automatic</td>\n",
       "      <td>9</td>\n",
       "      <td>0-20</td>\n",
       "    </tr>\n",
       "    <tr>\n",
       "      <th>762089</th>\n",
       "      <td>Volvo</td>\n",
       "      <td>S60 T5 Platinum</td>\n",
       "      <td>2013</td>\n",
       "      <td>132000.0</td>\n",
       "      <td>2.5l i5 20v mpfi dohc turbo</td>\n",
       "      <td>AWD</td>\n",
       "      <td>gasoline</td>\n",
       "      <td>24.5</td>\n",
       "      <td>Ice White</td>\n",
       "      <td>Off Black</td>\n",
       "      <td>...</td>\n",
       "      <td>Legend Auto Sales Inc.</td>\n",
       "      <td>4.60000</td>\n",
       "      <td>4.7</td>\n",
       "      <td>62.0</td>\n",
       "      <td>1000.0</td>\n",
       "      <td>8995.0</td>\n",
       "      <td>i5 20v turbo gasoline mpfi dohc</td>\n",
       "      <td>Automatic</td>\n",
       "      <td>10</td>\n",
       "      <td>0-20</td>\n",
       "    </tr>\n",
       "    <tr>\n",
       "      <th>762090</th>\n",
       "      <td>Volvo</td>\n",
       "      <td>S60 T5 Premier</td>\n",
       "      <td>2015</td>\n",
       "      <td>115592.0</td>\n",
       "      <td>2.5l i5 20v mpfi dohc turbo</td>\n",
       "      <td>AWD</td>\n",
       "      <td>gasoline</td>\n",
       "      <td>24.5</td>\n",
       "      <td>Savile Gray Metallic</td>\n",
       "      <td>Off-Black</td>\n",
       "      <td>...</td>\n",
       "      <td>Plymouth Auto Sales</td>\n",
       "      <td>4.15634</td>\n",
       "      <td>4.7</td>\n",
       "      <td>51.0</td>\n",
       "      <td>501.0</td>\n",
       "      <td>12999.0</td>\n",
       "      <td>i5 20v turbo gasoline mpfi dohc</td>\n",
       "      <td>Automatic</td>\n",
       "      <td>8</td>\n",
       "      <td>0-20</td>\n",
       "    </tr>\n",
       "  </tbody>\n",
       "</table>\n",
       "<p>747041 rows × 23 columns</p>\n",
       "</div>"
      ],
      "text/plain": [
       "       manufacturer            model  year   mileage  \\\n",
       "0             Acura  ILX Hybrid 1.5L  2013   92945.0   \n",
       "1             Acura  ILX Hybrid 1.5L  2013   47645.0   \n",
       "2             Acura  ILX Hybrid 1.5L  2013   53422.0   \n",
       "3             Acura  ILX Hybrid 1.5L  2013  117598.0   \n",
       "4             Acura  ILX Hybrid 1.5L  2013  114865.0   \n",
       "...             ...              ...   ...       ...   \n",
       "762086        Volvo  S60 B5 Momentum  2022   22877.0   \n",
       "762087        Volvo           S60 T5  2012   72900.0   \n",
       "762088        Volvo           S60 T5  2014   92000.0   \n",
       "762089        Volvo  S60 T5 Platinum  2013  132000.0   \n",
       "762090        Volvo   S60 T5 Premier  2015  115592.0   \n",
       "\n",
       "                                                   engine drivetrain  \\\n",
       "0       1.5l i-4 i-vtec variable valve control, engine...        FWD   \n",
       "1                             1.5l i4 8v mpfi sohc hybrid        FWD   \n",
       "2                             1.5l i4 8v mpfi sohc hybrid        FWD   \n",
       "3                             1.5l i4 8v mpfi sohc hybrid        FWD   \n",
       "4                             1.5l i4 8v mpfi sohc hybrid        FWD   \n",
       "...                                                   ...        ...   \n",
       "762086                         2.0l i4 16v gdi dohc turbo        AWD   \n",
       "762087       250.0hp 2.5l 5 cylinder engine gasoline fuel        FWD   \n",
       "762088                        2.5l i5 20v mpfi dohc turbo        FWD   \n",
       "762089                        2.5l i5 20v mpfi dohc turbo        AWD   \n",
       "762090                        2.5l i5 20v mpfi dohc turbo        AWD   \n",
       "\n",
       "       fuel_type   mpg           exterior_color interior_color  ...  \\\n",
       "0       gasoline  38.5                    Black      Parchment  ...   \n",
       "1         hybrid  38.5                     Gray          Ebony  ...   \n",
       "2         hybrid  38.5    Bellanova White Pearl          Ebony  ...   \n",
       "3         hybrid  38.5  Polished Metal Metallic        Unknown  ...   \n",
       "4         hybrid  38.5                  Unknown          Ebony  ...   \n",
       "...          ...   ...                      ...            ...  ...   \n",
       "762086  gasoline  29.0   Bright Silver Metallic          Blond  ...   \n",
       "762087  gasoline   NaN                      Red          Beige  ...   \n",
       "762088  gasoline  25.5                Ice White     Soft Beige  ...   \n",
       "762089  gasoline  24.5                Ice White      Off Black  ...   \n",
       "762090  gasoline  24.5     Savile Gray Metallic      Off-Black  ...   \n",
       "\n",
       "                         seller_name  seller_rating  driver_rating  \\\n",
       "0                       Iconic Coach        4.15634            4.4   \n",
       "1                         Kars Today        4.15634            4.4   \n",
       "2       Weiss Toyota of South County        4.30000            4.4   \n",
       "3                   Apple Tree Acura        4.15634            4.4   \n",
       "4            Herb Connolly Chevrolet        3.70000            4.4   \n",
       "...                              ...            ...            ...   \n",
       "762086            Volvo Cars Danbury        4.20000            4.2   \n",
       "762087                       Unknown        4.15634            4.5   \n",
       "762088              Dapper Car Sales        4.15634            4.8   \n",
       "762089        Legend Auto Sales Inc.        4.60000            4.7   \n",
       "762090           Plymouth Auto Sales        4.15634            4.7   \n",
       "\n",
       "       driver_reviews_num  price_drop    price  \\\n",
       "0                    12.0       300.0  13988.0   \n",
       "1                    12.0         NaN  17995.0   \n",
       "2                    12.0       500.0  17000.0   \n",
       "3                    12.0       675.0  14958.0   \n",
       "4                    12.0       300.0  14498.0   \n",
       "...                   ...         ...      ...   \n",
       "762086                2.0       250.0  34798.0   \n",
       "762087              101.0         NaN  12500.0   \n",
       "762088               36.0       300.0  12299.0   \n",
       "762089               62.0      1000.0   8995.0   \n",
       "762090               51.0       501.0  12999.0   \n",
       "\n",
       "                         ENGINE_DETAILS  transmission_category  age age_group  \n",
       "0                              gasoline              Automatic   10      0-20  \n",
       "1                i4 8v hybrid mpfi sohc              Automatic   10      0-20  \n",
       "2                i4 8v hybrid mpfi sohc              Automatic   10      0-20  \n",
       "3                i4 8v hybrid mpfi sohc              Automatic   10      0-20  \n",
       "4                i4 8v hybrid mpfi sohc              Automatic   10      0-20  \n",
       "...                                 ...                    ...  ...       ...  \n",
       "762086   i4 16v turbo gasoline gdi dohc              Automatic    1      0-20  \n",
       "762087                         gasoline              Automatic   11      0-20  \n",
       "762088  i5 20v turbo gasoline mpfi dohc              Automatic    9      0-20  \n",
       "762089  i5 20v turbo gasoline mpfi dohc              Automatic   10      0-20  \n",
       "762090  i5 20v turbo gasoline mpfi dohc              Automatic    8      0-20  \n",
       "\n",
       "[747041 rows x 23 columns]"
      ]
     },
     "execution_count": 639,
     "metadata": {},
     "output_type": "execute_result"
    }
   ],
   "source": [
    "new_data"
   ]
  },
  {
   "cell_type": "code",
   "execution_count": null,
   "id": "40f6844c",
   "metadata": {},
   "outputs": [],
   "source": []
  },
  {
   "cell_type": "markdown",
   "id": "fee67da0-548e-44c2-998a-5e1d6af95b96",
   "metadata": {},
   "source": [
    "<div style=\"text-align: center;background-color:#f0e9d5; padding:10px; border-left: 5px solid #4CAF50; font-family: Trebuchet MS; font-size: 20px; color: #333;\">\n",
    "  Data Analysis\n",
    "</div>"
   ]
  },
  {
   "cell_type": "code",
   "execution_count": 642,
   "id": "f2c63bdb-90f6-48fc-b876-691f90c4d9a7",
   "metadata": {},
   "outputs": [
    {
     "data": {
      "application/vnd.plotly.v1+json": {
       "config": {
        "plotlyServerURL": "https://plot.ly"
       },
       "data": [
        {
         "hovertemplate": "x=%{x}<br>y=%{y}<br>text=%{text}<extra></extra>",
         "legendgroup": "",
         "marker": {
          "color": [
           "crimson",
           "lightslategray",
           "lightslategray",
           "lightslategray",
           "lightslategray",
           "lightslategray",
           "lightslategray",
           "lightslategray",
           "lightslategray",
           "lightslategray",
           "lightslategray",
           "lightslategray",
           "lightslategray",
           "lightslategray",
           "lightslategray",
           "lightslategray",
           "lightslategray",
           "lightslategray",
           "lightslategray",
           "lightslategray",
           "lightslategray",
           "lightslategray",
           "lightslategray",
           "lightslategray",
           "lightslategray",
           "lightslategray",
           "lightslategray",
           "lightslategray",
           "lightslategray",
           "lightslategray"
          ],
          "pattern": {
           "shape": ""
          }
         },
         "name": "",
         "orientation": "h",
         "showlegend": false,
         "text": {
          "bdata": "AAAAAOBd80AAAAAAwAztQAAAAADgAOtAAAAAAKCw50AAAAAAAFTkQAAAAABgmuJAAAAAAOBQ4UAAAAAA4CjhQAAAAADgV+BAAAAAAMCn3EAAAAAAgJnYQAAAAAAAL9hAAAAAAICc1kAAAAAAAK7VQAAAAAAAy9RAAAAAAIDm0kAAAAAAAHDRQAAAAACAWdBAAAAAAAA5zkAAAAAAgNPLQAAAAACAqchAAAAAAAAAyEAAAAAAAN3HQAAAAACA8cRAAAAAAICuxEAAAAAAgH/DQAAAAAAAeb1AAAAAAADXtkAAAAAAAG62QAAAAAAArqpA",
          "dtype": "f8"
         },
         "textposition": "auto",
         "type": "bar",
         "x": {
          "bdata": "3jUBAGboAAAH2AAAhb0AAKCiAADTlAAAh4oAAEeJAAC/ggAAn3IAAGZiAAC8YAAAcloAALhWAAAsUwAAmksAAMBFAABmQQAAcjwAAKc3AABTMQAAADAAALovAADjKQAAXSkAAP8mAAB5HQAA1xYAAG4WAABXDQAA",
          "dtype": "i4"
         },
         "xaxis": "x",
         "y": [
          "Ford",
          "Toyota",
          "Chevrolet",
          "Nissan",
          "Jeep",
          "Mercedes-Benz",
          "Honda",
          "BMW",
          "Kia",
          "GMC",
          "Dodge",
          "Subaru",
          "Volkswagen",
          "Hyundai",
          "Lexus",
          "RAM",
          "Audi",
          "Cadillac",
          "Mazda",
          "Buick",
          "Chrysler",
          "INFINITI",
          "Land Rover",
          "Porsche",
          "Lincoln",
          "Volvo",
          "Acura",
          "Tesla",
          "Mitsubishi",
          "Jaguar"
         ],
         "yaxis": "y"
        }
       ],
       "layout": {
        "barmode": "relative",
        "font": {
         "size": 14
        },
        "height": 1000,
        "legend": {
         "tracegroupgap": 0
        },
        "margin": {
         "t": 60
        },
        "showlegend": false,
        "template": {
         "data": {
          "bar": [
           {
            "error_x": {
             "color": "rgb(36,36,36)"
            },
            "error_y": {
             "color": "rgb(36,36,36)"
            },
            "marker": {
             "line": {
              "color": "white",
              "width": 0.5
             },
             "pattern": {
              "fillmode": "overlay",
              "size": 10,
              "solidity": 0.2
             }
            },
            "type": "bar"
           }
          ],
          "barpolar": [
           {
            "marker": {
             "line": {
              "color": "white",
              "width": 0.5
             },
             "pattern": {
              "fillmode": "overlay",
              "size": 10,
              "solidity": 0.2
             }
            },
            "type": "barpolar"
           }
          ],
          "carpet": [
           {
            "aaxis": {
             "endlinecolor": "rgb(36,36,36)",
             "gridcolor": "white",
             "linecolor": "white",
             "minorgridcolor": "white",
             "startlinecolor": "rgb(36,36,36)"
            },
            "baxis": {
             "endlinecolor": "rgb(36,36,36)",
             "gridcolor": "white",
             "linecolor": "white",
             "minorgridcolor": "white",
             "startlinecolor": "rgb(36,36,36)"
            },
            "type": "carpet"
           }
          ],
          "choropleth": [
           {
            "colorbar": {
             "outlinewidth": 1,
             "tickcolor": "rgb(36,36,36)",
             "ticks": "outside"
            },
            "type": "choropleth"
           }
          ],
          "contour": [
           {
            "colorbar": {
             "outlinewidth": 1,
             "tickcolor": "rgb(36,36,36)",
             "ticks": "outside"
            },
            "colorscale": [
             [
              0,
              "#440154"
             ],
             [
              0.1111111111111111,
              "#482878"
             ],
             [
              0.2222222222222222,
              "#3e4989"
             ],
             [
              0.3333333333333333,
              "#31688e"
             ],
             [
              0.4444444444444444,
              "#26828e"
             ],
             [
              0.5555555555555556,
              "#1f9e89"
             ],
             [
              0.6666666666666666,
              "#35b779"
             ],
             [
              0.7777777777777778,
              "#6ece58"
             ],
             [
              0.8888888888888888,
              "#b5de2b"
             ],
             [
              1,
              "#fde725"
             ]
            ],
            "type": "contour"
           }
          ],
          "contourcarpet": [
           {
            "colorbar": {
             "outlinewidth": 1,
             "tickcolor": "rgb(36,36,36)",
             "ticks": "outside"
            },
            "type": "contourcarpet"
           }
          ],
          "heatmap": [
           {
            "colorbar": {
             "outlinewidth": 1,
             "tickcolor": "rgb(36,36,36)",
             "ticks": "outside"
            },
            "colorscale": [
             [
              0,
              "#440154"
             ],
             [
              0.1111111111111111,
              "#482878"
             ],
             [
              0.2222222222222222,
              "#3e4989"
             ],
             [
              0.3333333333333333,
              "#31688e"
             ],
             [
              0.4444444444444444,
              "#26828e"
             ],
             [
              0.5555555555555556,
              "#1f9e89"
             ],
             [
              0.6666666666666666,
              "#35b779"
             ],
             [
              0.7777777777777778,
              "#6ece58"
             ],
             [
              0.8888888888888888,
              "#b5de2b"
             ],
             [
              1,
              "#fde725"
             ]
            ],
            "type": "heatmap"
           }
          ],
          "histogram": [
           {
            "marker": {
             "line": {
              "color": "white",
              "width": 0.6
             }
            },
            "type": "histogram"
           }
          ],
          "histogram2d": [
           {
            "colorbar": {
             "outlinewidth": 1,
             "tickcolor": "rgb(36,36,36)",
             "ticks": "outside"
            },
            "colorscale": [
             [
              0,
              "#440154"
             ],
             [
              0.1111111111111111,
              "#482878"
             ],
             [
              0.2222222222222222,
              "#3e4989"
             ],
             [
              0.3333333333333333,
              "#31688e"
             ],
             [
              0.4444444444444444,
              "#26828e"
             ],
             [
              0.5555555555555556,
              "#1f9e89"
             ],
             [
              0.6666666666666666,
              "#35b779"
             ],
             [
              0.7777777777777778,
              "#6ece58"
             ],
             [
              0.8888888888888888,
              "#b5de2b"
             ],
             [
              1,
              "#fde725"
             ]
            ],
            "type": "histogram2d"
           }
          ],
          "histogram2dcontour": [
           {
            "colorbar": {
             "outlinewidth": 1,
             "tickcolor": "rgb(36,36,36)",
             "ticks": "outside"
            },
            "colorscale": [
             [
              0,
              "#440154"
             ],
             [
              0.1111111111111111,
              "#482878"
             ],
             [
              0.2222222222222222,
              "#3e4989"
             ],
             [
              0.3333333333333333,
              "#31688e"
             ],
             [
              0.4444444444444444,
              "#26828e"
             ],
             [
              0.5555555555555556,
              "#1f9e89"
             ],
             [
              0.6666666666666666,
              "#35b779"
             ],
             [
              0.7777777777777778,
              "#6ece58"
             ],
             [
              0.8888888888888888,
              "#b5de2b"
             ],
             [
              1,
              "#fde725"
             ]
            ],
            "type": "histogram2dcontour"
           }
          ],
          "mesh3d": [
           {
            "colorbar": {
             "outlinewidth": 1,
             "tickcolor": "rgb(36,36,36)",
             "ticks": "outside"
            },
            "type": "mesh3d"
           }
          ],
          "parcoords": [
           {
            "line": {
             "colorbar": {
              "outlinewidth": 1,
              "tickcolor": "rgb(36,36,36)",
              "ticks": "outside"
             }
            },
            "type": "parcoords"
           }
          ],
          "pie": [
           {
            "automargin": true,
            "type": "pie"
           }
          ],
          "scatter": [
           {
            "fillpattern": {
             "fillmode": "overlay",
             "size": 10,
             "solidity": 0.2
            },
            "type": "scatter"
           }
          ],
          "scatter3d": [
           {
            "line": {
             "colorbar": {
              "outlinewidth": 1,
              "tickcolor": "rgb(36,36,36)",
              "ticks": "outside"
             }
            },
            "marker": {
             "colorbar": {
              "outlinewidth": 1,
              "tickcolor": "rgb(36,36,36)",
              "ticks": "outside"
             }
            },
            "type": "scatter3d"
           }
          ],
          "scattercarpet": [
           {
            "marker": {
             "colorbar": {
              "outlinewidth": 1,
              "tickcolor": "rgb(36,36,36)",
              "ticks": "outside"
             }
            },
            "type": "scattercarpet"
           }
          ],
          "scattergeo": [
           {
            "marker": {
             "colorbar": {
              "outlinewidth": 1,
              "tickcolor": "rgb(36,36,36)",
              "ticks": "outside"
             }
            },
            "type": "scattergeo"
           }
          ],
          "scattergl": [
           {
            "marker": {
             "colorbar": {
              "outlinewidth": 1,
              "tickcolor": "rgb(36,36,36)",
              "ticks": "outside"
             }
            },
            "type": "scattergl"
           }
          ],
          "scattermap": [
           {
            "marker": {
             "colorbar": {
              "outlinewidth": 1,
              "tickcolor": "rgb(36,36,36)",
              "ticks": "outside"
             }
            },
            "type": "scattermap"
           }
          ],
          "scattermapbox": [
           {
            "marker": {
             "colorbar": {
              "outlinewidth": 1,
              "tickcolor": "rgb(36,36,36)",
              "ticks": "outside"
             }
            },
            "type": "scattermapbox"
           }
          ],
          "scatterpolar": [
           {
            "marker": {
             "colorbar": {
              "outlinewidth": 1,
              "tickcolor": "rgb(36,36,36)",
              "ticks": "outside"
             }
            },
            "type": "scatterpolar"
           }
          ],
          "scatterpolargl": [
           {
            "marker": {
             "colorbar": {
              "outlinewidth": 1,
              "tickcolor": "rgb(36,36,36)",
              "ticks": "outside"
             }
            },
            "type": "scatterpolargl"
           }
          ],
          "scatterternary": [
           {
            "marker": {
             "colorbar": {
              "outlinewidth": 1,
              "tickcolor": "rgb(36,36,36)",
              "ticks": "outside"
             }
            },
            "type": "scatterternary"
           }
          ],
          "surface": [
           {
            "colorbar": {
             "outlinewidth": 1,
             "tickcolor": "rgb(36,36,36)",
             "ticks": "outside"
            },
            "colorscale": [
             [
              0,
              "#440154"
             ],
             [
              0.1111111111111111,
              "#482878"
             ],
             [
              0.2222222222222222,
              "#3e4989"
             ],
             [
              0.3333333333333333,
              "#31688e"
             ],
             [
              0.4444444444444444,
              "#26828e"
             ],
             [
              0.5555555555555556,
              "#1f9e89"
             ],
             [
              0.6666666666666666,
              "#35b779"
             ],
             [
              0.7777777777777778,
              "#6ece58"
             ],
             [
              0.8888888888888888,
              "#b5de2b"
             ],
             [
              1,
              "#fde725"
             ]
            ],
            "type": "surface"
           }
          ],
          "table": [
           {
            "cells": {
             "fill": {
              "color": "rgb(237,237,237)"
             },
             "line": {
              "color": "white"
             }
            },
            "header": {
             "fill": {
              "color": "rgb(217,217,217)"
             },
             "line": {
              "color": "white"
             }
            },
            "type": "table"
           }
          ]
         },
         "layout": {
          "annotationdefaults": {
           "arrowhead": 0,
           "arrowwidth": 1
          },
          "autotypenumbers": "strict",
          "coloraxis": {
           "colorbar": {
            "outlinewidth": 1,
            "tickcolor": "rgb(36,36,36)",
            "ticks": "outside"
           }
          },
          "colorscale": {
           "diverging": [
            [
             0,
             "rgb(103,0,31)"
            ],
            [
             0.1,
             "rgb(178,24,43)"
            ],
            [
             0.2,
             "rgb(214,96,77)"
            ],
            [
             0.3,
             "rgb(244,165,130)"
            ],
            [
             0.4,
             "rgb(253,219,199)"
            ],
            [
             0.5,
             "rgb(247,247,247)"
            ],
            [
             0.6,
             "rgb(209,229,240)"
            ],
            [
             0.7,
             "rgb(146,197,222)"
            ],
            [
             0.8,
             "rgb(67,147,195)"
            ],
            [
             0.9,
             "rgb(33,102,172)"
            ],
            [
             1,
             "rgb(5,48,97)"
            ]
           ],
           "sequential": [
            [
             0,
             "#440154"
            ],
            [
             0.1111111111111111,
             "#482878"
            ],
            [
             0.2222222222222222,
             "#3e4989"
            ],
            [
             0.3333333333333333,
             "#31688e"
            ],
            [
             0.4444444444444444,
             "#26828e"
            ],
            [
             0.5555555555555556,
             "#1f9e89"
            ],
            [
             0.6666666666666666,
             "#35b779"
            ],
            [
             0.7777777777777778,
             "#6ece58"
            ],
            [
             0.8888888888888888,
             "#b5de2b"
            ],
            [
             1,
             "#fde725"
            ]
           ],
           "sequentialminus": [
            [
             0,
             "#440154"
            ],
            [
             0.1111111111111111,
             "#482878"
            ],
            [
             0.2222222222222222,
             "#3e4989"
            ],
            [
             0.3333333333333333,
             "#31688e"
            ],
            [
             0.4444444444444444,
             "#26828e"
            ],
            [
             0.5555555555555556,
             "#1f9e89"
            ],
            [
             0.6666666666666666,
             "#35b779"
            ],
            [
             0.7777777777777778,
             "#6ece58"
            ],
            [
             0.8888888888888888,
             "#b5de2b"
            ],
            [
             1,
             "#fde725"
            ]
           ]
          },
          "colorway": [
           "#1F77B4",
           "#FF7F0E",
           "#2CA02C",
           "#D62728",
           "#9467BD",
           "#8C564B",
           "#E377C2",
           "#7F7F7F",
           "#BCBD22",
           "#17BECF"
          ],
          "font": {
           "color": "rgb(36,36,36)"
          },
          "geo": {
           "bgcolor": "white",
           "lakecolor": "white",
           "landcolor": "white",
           "showlakes": true,
           "showland": true,
           "subunitcolor": "white"
          },
          "hoverlabel": {
           "align": "left"
          },
          "hovermode": "closest",
          "mapbox": {
           "style": "light"
          },
          "paper_bgcolor": "white",
          "plot_bgcolor": "white",
          "polar": {
           "angularaxis": {
            "gridcolor": "rgb(232,232,232)",
            "linecolor": "rgb(36,36,36)",
            "showgrid": false,
            "showline": true,
            "ticks": "outside"
           },
           "bgcolor": "white",
           "radialaxis": {
            "gridcolor": "rgb(232,232,232)",
            "linecolor": "rgb(36,36,36)",
            "showgrid": false,
            "showline": true,
            "ticks": "outside"
           }
          },
          "scene": {
           "xaxis": {
            "backgroundcolor": "white",
            "gridcolor": "rgb(232,232,232)",
            "gridwidth": 2,
            "linecolor": "rgb(36,36,36)",
            "showbackground": true,
            "showgrid": false,
            "showline": true,
            "ticks": "outside",
            "zeroline": false,
            "zerolinecolor": "rgb(36,36,36)"
           },
           "yaxis": {
            "backgroundcolor": "white",
            "gridcolor": "rgb(232,232,232)",
            "gridwidth": 2,
            "linecolor": "rgb(36,36,36)",
            "showbackground": true,
            "showgrid": false,
            "showline": true,
            "ticks": "outside",
            "zeroline": false,
            "zerolinecolor": "rgb(36,36,36)"
           },
           "zaxis": {
            "backgroundcolor": "white",
            "gridcolor": "rgb(232,232,232)",
            "gridwidth": 2,
            "linecolor": "rgb(36,36,36)",
            "showbackground": true,
            "showgrid": false,
            "showline": true,
            "ticks": "outside",
            "zeroline": false,
            "zerolinecolor": "rgb(36,36,36)"
           }
          },
          "shapedefaults": {
           "fillcolor": "black",
           "line": {
            "width": 0
           },
           "opacity": 0.3
          },
          "ternary": {
           "aaxis": {
            "gridcolor": "rgb(232,232,232)",
            "linecolor": "rgb(36,36,36)",
            "showgrid": false,
            "showline": true,
            "ticks": "outside"
           },
           "baxis": {
            "gridcolor": "rgb(232,232,232)",
            "linecolor": "rgb(36,36,36)",
            "showgrid": false,
            "showline": true,
            "ticks": "outside"
           },
           "bgcolor": "white",
           "caxis": {
            "gridcolor": "rgb(232,232,232)",
            "linecolor": "rgb(36,36,36)",
            "showgrid": false,
            "showline": true,
            "ticks": "outside"
           }
          },
          "title": {
           "x": 0.05
          },
          "xaxis": {
           "automargin": true,
           "gridcolor": "rgb(232,232,232)",
           "linecolor": "rgb(36,36,36)",
           "showgrid": false,
           "showline": true,
           "ticks": "outside",
           "title": {
            "standoff": 15
           },
           "zeroline": false,
           "zerolinecolor": "rgb(36,36,36)"
          },
          "yaxis": {
           "automargin": true,
           "gridcolor": "rgb(232,232,232)",
           "linecolor": "rgb(36,36,36)",
           "showgrid": false,
           "showline": true,
           "ticks": "outside",
           "title": {
            "standoff": 15
           },
           "zeroline": false,
           "zerolinecolor": "rgb(36,36,36)"
          }
         }
        },
        "title": {
         "text": "Most resold car brand until 2023",
         "x": 0.5,
         "y": 0.96
        },
        "width": 1400,
        "xaxis": {
         "anchor": "y",
         "domain": [
          0,
          1
         ],
         "title": {
          "text": "Manufacturer"
         }
        },
        "yaxis": {
         "anchor": "x",
         "domain": [
          0,
          1
         ],
         "title": {
          "text": "Number of Cars"
         }
        }
       }
      }
     },
     "metadata": {},
     "output_type": "display_data"
    }
   ],
   "source": [
    "color = ['lightslategray']*30\n",
    "color[0] = 'crimson'\n",
    "\n",
    "fig = px.bar(y = data['manufacturer'].value_counts().index, x = data['manufacturer'].value_counts(),\n",
    "             # color = data['manufacturer'].value_counts().index,\n",
    "             # orintation='h',\n",
    "              template = 'simple_white',text = data['manufacturer'].value_counts(),)\n",
    "\n",
    "fig.update_traces(marker_color=color) \n",
    "\n",
    "fig.update_layout(\n",
    "    xaxis_title=\"Manufacturer\",\n",
    "    yaxis_title=\"Number of Cars\",\n",
    "    showlegend = False,\n",
    "    height=1000,\n",
    "    width=1400\n",
    "    ,\n",
    "    \n",
    "    font = dict(size = 14),    \n",
    "    title={\n",
    "        'text': \"Most resold car brand until 2023\",\n",
    "        'y':0.96,\n",
    "        'x':0.5\n",
    "        }\n",
    "    )\n",
    "\n",
    "fig.show()"
   ]
  },
  {
   "cell_type": "code",
   "execution_count": 641,
   "id": "92d41711-83d1-4b9d-b019-f478b1993a8e",
   "metadata": {},
   "outputs": [
    {
     "data": {
      "application/vnd.plotly.v1+json": {
       "config": {
        "plotlyServerURL": "https://plot.ly"
       },
       "data": [
        {
         "hovertemplate": "x=%{x}<br>y=%{y}<extra></extra>",
         "legendgroup": "",
         "marker": {
          "color": [
           "crimson",
           "lightslategray",
           "lightslategray",
           "lightslategray",
           "lightslategray",
           "lightslategray",
           "lightslategray",
           "lightslategray",
           "lightslategray",
           "lightslategray",
           "lightslategray",
           "lightslategray",
           "lightslategray",
           "lightslategray",
           "lightslategray",
           "lightslategray",
           "lightslategray",
           "lightslategray",
           "lightslategray",
           "lightslategray",
           "lightslategray",
           "lightslategray",
           "lightslategray",
           "lightslategray",
           "lightslategray",
           "lightslategray",
           "lightslategray",
           "lightslategray",
           "lightslategray",
           "lightslategray"
          ],
          "pattern": {
           "shape": ""
          }
         },
         "name": "",
         "orientation": "h",
         "showlegend": false,
         "textposition": "auto",
         "type": "bar",
         "x": {
          "bdata": "GScBAG2KAACMaQAATkwAAP1GAACuQwAAZ0MAAOA7AABAOQAAwzUAAE4yAADrKwAA0isAANsqAADsJgAA",
          "dtype": "i4"
         },
         "xaxis": "x",
         "y": [
          "2.0l i4 16v gdi dohc turbo",
          "3.6l v6 24v mpfi dohc",
          "3.6l v6 24v gdi dohc",
          "2.0l i4 16v mpfi dohc",
          "1.5l i4 16v gdi dohc turbo",
          "3.5l v6 24v mpfi dohc",
          "2.4l i4 16v gdi dohc",
          "3.5l v6 24v pdi dohc",
          "electric",
          "2.5l i4 16v gdi dohc",
          "2.0l i4 16v gdi dohc",
          "3.0l i6 24v gdi dohc turbo",
          "2.4l i4 16v mpfi sohc",
          "5.3l v8 16v gdi ohv",
          "5.7l v8 16v mpfi ohv"
         ],
         "yaxis": "y"
        }
       ],
       "layout": {
        "barmode": "relative",
        "font": {
         "size": 14
        },
        "height": 600,
        "legend": {
         "tracegroupgap": 0
        },
        "margin": {
         "t": 60
        },
        "showlegend": false,
        "template": {
         "data": {
          "bar": [
           {
            "error_x": {
             "color": "#2a3f5f"
            },
            "error_y": {
             "color": "#2a3f5f"
            },
            "marker": {
             "line": {
              "color": "#E5ECF6",
              "width": 0.5
             },
             "pattern": {
              "fillmode": "overlay",
              "size": 10,
              "solidity": 0.2
             }
            },
            "type": "bar"
           }
          ],
          "barpolar": [
           {
            "marker": {
             "line": {
              "color": "#E5ECF6",
              "width": 0.5
             },
             "pattern": {
              "fillmode": "overlay",
              "size": 10,
              "solidity": 0.2
             }
            },
            "type": "barpolar"
           }
          ],
          "carpet": [
           {
            "aaxis": {
             "endlinecolor": "#2a3f5f",
             "gridcolor": "white",
             "linecolor": "white",
             "minorgridcolor": "white",
             "startlinecolor": "#2a3f5f"
            },
            "baxis": {
             "endlinecolor": "#2a3f5f",
             "gridcolor": "white",
             "linecolor": "white",
             "minorgridcolor": "white",
             "startlinecolor": "#2a3f5f"
            },
            "type": "carpet"
           }
          ],
          "choropleth": [
           {
            "colorbar": {
             "outlinewidth": 0,
             "ticks": ""
            },
            "type": "choropleth"
           }
          ],
          "contour": [
           {
            "colorbar": {
             "outlinewidth": 0,
             "ticks": ""
            },
            "colorscale": [
             [
              0,
              "#0d0887"
             ],
             [
              0.1111111111111111,
              "#46039f"
             ],
             [
              0.2222222222222222,
              "#7201a8"
             ],
             [
              0.3333333333333333,
              "#9c179e"
             ],
             [
              0.4444444444444444,
              "#bd3786"
             ],
             [
              0.5555555555555556,
              "#d8576b"
             ],
             [
              0.6666666666666666,
              "#ed7953"
             ],
             [
              0.7777777777777778,
              "#fb9f3a"
             ],
             [
              0.8888888888888888,
              "#fdca26"
             ],
             [
              1,
              "#f0f921"
             ]
            ],
            "type": "contour"
           }
          ],
          "contourcarpet": [
           {
            "colorbar": {
             "outlinewidth": 0,
             "ticks": ""
            },
            "type": "contourcarpet"
           }
          ],
          "heatmap": [
           {
            "colorbar": {
             "outlinewidth": 0,
             "ticks": ""
            },
            "colorscale": [
             [
              0,
              "#0d0887"
             ],
             [
              0.1111111111111111,
              "#46039f"
             ],
             [
              0.2222222222222222,
              "#7201a8"
             ],
             [
              0.3333333333333333,
              "#9c179e"
             ],
             [
              0.4444444444444444,
              "#bd3786"
             ],
             [
              0.5555555555555556,
              "#d8576b"
             ],
             [
              0.6666666666666666,
              "#ed7953"
             ],
             [
              0.7777777777777778,
              "#fb9f3a"
             ],
             [
              0.8888888888888888,
              "#fdca26"
             ],
             [
              1,
              "#f0f921"
             ]
            ],
            "type": "heatmap"
           }
          ],
          "histogram": [
           {
            "marker": {
             "pattern": {
              "fillmode": "overlay",
              "size": 10,
              "solidity": 0.2
             }
            },
            "type": "histogram"
           }
          ],
          "histogram2d": [
           {
            "colorbar": {
             "outlinewidth": 0,
             "ticks": ""
            },
            "colorscale": [
             [
              0,
              "#0d0887"
             ],
             [
              0.1111111111111111,
              "#46039f"
             ],
             [
              0.2222222222222222,
              "#7201a8"
             ],
             [
              0.3333333333333333,
              "#9c179e"
             ],
             [
              0.4444444444444444,
              "#bd3786"
             ],
             [
              0.5555555555555556,
              "#d8576b"
             ],
             [
              0.6666666666666666,
              "#ed7953"
             ],
             [
              0.7777777777777778,
              "#fb9f3a"
             ],
             [
              0.8888888888888888,
              "#fdca26"
             ],
             [
              1,
              "#f0f921"
             ]
            ],
            "type": "histogram2d"
           }
          ],
          "histogram2dcontour": [
           {
            "colorbar": {
             "outlinewidth": 0,
             "ticks": ""
            },
            "colorscale": [
             [
              0,
              "#0d0887"
             ],
             [
              0.1111111111111111,
              "#46039f"
             ],
             [
              0.2222222222222222,
              "#7201a8"
             ],
             [
              0.3333333333333333,
              "#9c179e"
             ],
             [
              0.4444444444444444,
              "#bd3786"
             ],
             [
              0.5555555555555556,
              "#d8576b"
             ],
             [
              0.6666666666666666,
              "#ed7953"
             ],
             [
              0.7777777777777778,
              "#fb9f3a"
             ],
             [
              0.8888888888888888,
              "#fdca26"
             ],
             [
              1,
              "#f0f921"
             ]
            ],
            "type": "histogram2dcontour"
           }
          ],
          "mesh3d": [
           {
            "colorbar": {
             "outlinewidth": 0,
             "ticks": ""
            },
            "type": "mesh3d"
           }
          ],
          "parcoords": [
           {
            "line": {
             "colorbar": {
              "outlinewidth": 0,
              "ticks": ""
             }
            },
            "type": "parcoords"
           }
          ],
          "pie": [
           {
            "automargin": true,
            "type": "pie"
           }
          ],
          "scatter": [
           {
            "fillpattern": {
             "fillmode": "overlay",
             "size": 10,
             "solidity": 0.2
            },
            "type": "scatter"
           }
          ],
          "scatter3d": [
           {
            "line": {
             "colorbar": {
              "outlinewidth": 0,
              "ticks": ""
             }
            },
            "marker": {
             "colorbar": {
              "outlinewidth": 0,
              "ticks": ""
             }
            },
            "type": "scatter3d"
           }
          ],
          "scattercarpet": [
           {
            "marker": {
             "colorbar": {
              "outlinewidth": 0,
              "ticks": ""
             }
            },
            "type": "scattercarpet"
           }
          ],
          "scattergeo": [
           {
            "marker": {
             "colorbar": {
              "outlinewidth": 0,
              "ticks": ""
             }
            },
            "type": "scattergeo"
           }
          ],
          "scattergl": [
           {
            "marker": {
             "colorbar": {
              "outlinewidth": 0,
              "ticks": ""
             }
            },
            "type": "scattergl"
           }
          ],
          "scattermap": [
           {
            "marker": {
             "colorbar": {
              "outlinewidth": 0,
              "ticks": ""
             }
            },
            "type": "scattermap"
           }
          ],
          "scattermapbox": [
           {
            "marker": {
             "colorbar": {
              "outlinewidth": 0,
              "ticks": ""
             }
            },
            "type": "scattermapbox"
           }
          ],
          "scatterpolar": [
           {
            "marker": {
             "colorbar": {
              "outlinewidth": 0,
              "ticks": ""
             }
            },
            "type": "scatterpolar"
           }
          ],
          "scatterpolargl": [
           {
            "marker": {
             "colorbar": {
              "outlinewidth": 0,
              "ticks": ""
             }
            },
            "type": "scatterpolargl"
           }
          ],
          "scatterternary": [
           {
            "marker": {
             "colorbar": {
              "outlinewidth": 0,
              "ticks": ""
             }
            },
            "type": "scatterternary"
           }
          ],
          "surface": [
           {
            "colorbar": {
             "outlinewidth": 0,
             "ticks": ""
            },
            "colorscale": [
             [
              0,
              "#0d0887"
             ],
             [
              0.1111111111111111,
              "#46039f"
             ],
             [
              0.2222222222222222,
              "#7201a8"
             ],
             [
              0.3333333333333333,
              "#9c179e"
             ],
             [
              0.4444444444444444,
              "#bd3786"
             ],
             [
              0.5555555555555556,
              "#d8576b"
             ],
             [
              0.6666666666666666,
              "#ed7953"
             ],
             [
              0.7777777777777778,
              "#fb9f3a"
             ],
             [
              0.8888888888888888,
              "#fdca26"
             ],
             [
              1,
              "#f0f921"
             ]
            ],
            "type": "surface"
           }
          ],
          "table": [
           {
            "cells": {
             "fill": {
              "color": "#EBF0F8"
             },
             "line": {
              "color": "white"
             }
            },
            "header": {
             "fill": {
              "color": "#C8D4E3"
             },
             "line": {
              "color": "white"
             }
            },
            "type": "table"
           }
          ]
         },
         "layout": {
          "annotationdefaults": {
           "arrowcolor": "#2a3f5f",
           "arrowhead": 0,
           "arrowwidth": 1
          },
          "autotypenumbers": "strict",
          "coloraxis": {
           "colorbar": {
            "outlinewidth": 0,
            "ticks": ""
           }
          },
          "colorscale": {
           "diverging": [
            [
             0,
             "#8e0152"
            ],
            [
             0.1,
             "#c51b7d"
            ],
            [
             0.2,
             "#de77ae"
            ],
            [
             0.3,
             "#f1b6da"
            ],
            [
             0.4,
             "#fde0ef"
            ],
            [
             0.5,
             "#f7f7f7"
            ],
            [
             0.6,
             "#e6f5d0"
            ],
            [
             0.7,
             "#b8e186"
            ],
            [
             0.8,
             "#7fbc41"
            ],
            [
             0.9,
             "#4d9221"
            ],
            [
             1,
             "#276419"
            ]
           ],
           "sequential": [
            [
             0,
             "#0d0887"
            ],
            [
             0.1111111111111111,
             "#46039f"
            ],
            [
             0.2222222222222222,
             "#7201a8"
            ],
            [
             0.3333333333333333,
             "#9c179e"
            ],
            [
             0.4444444444444444,
             "#bd3786"
            ],
            [
             0.5555555555555556,
             "#d8576b"
            ],
            [
             0.6666666666666666,
             "#ed7953"
            ],
            [
             0.7777777777777778,
             "#fb9f3a"
            ],
            [
             0.8888888888888888,
             "#fdca26"
            ],
            [
             1,
             "#f0f921"
            ]
           ],
           "sequentialminus": [
            [
             0,
             "#0d0887"
            ],
            [
             0.1111111111111111,
             "#46039f"
            ],
            [
             0.2222222222222222,
             "#7201a8"
            ],
            [
             0.3333333333333333,
             "#9c179e"
            ],
            [
             0.4444444444444444,
             "#bd3786"
            ],
            [
             0.5555555555555556,
             "#d8576b"
            ],
            [
             0.6666666666666666,
             "#ed7953"
            ],
            [
             0.7777777777777778,
             "#fb9f3a"
            ],
            [
             0.8888888888888888,
             "#fdca26"
            ],
            [
             1,
             "#f0f921"
            ]
           ]
          },
          "colorway": [
           "#636efa",
           "#EF553B",
           "#00cc96",
           "#ab63fa",
           "#FFA15A",
           "#19d3f3",
           "#FF6692",
           "#B6E880",
           "#FF97FF",
           "#FECB52"
          ],
          "font": {
           "color": "#2a3f5f"
          },
          "geo": {
           "bgcolor": "white",
           "lakecolor": "white",
           "landcolor": "#E5ECF6",
           "showlakes": true,
           "showland": true,
           "subunitcolor": "white"
          },
          "hoverlabel": {
           "align": "left"
          },
          "hovermode": "closest",
          "mapbox": {
           "style": "light"
          },
          "paper_bgcolor": "white",
          "plot_bgcolor": "#E5ECF6",
          "polar": {
           "angularaxis": {
            "gridcolor": "white",
            "linecolor": "white",
            "ticks": ""
           },
           "bgcolor": "#E5ECF6",
           "radialaxis": {
            "gridcolor": "white",
            "linecolor": "white",
            "ticks": ""
           }
          },
          "scene": {
           "xaxis": {
            "backgroundcolor": "#E5ECF6",
            "gridcolor": "white",
            "gridwidth": 2,
            "linecolor": "white",
            "showbackground": true,
            "ticks": "",
            "zerolinecolor": "white"
           },
           "yaxis": {
            "backgroundcolor": "#E5ECF6",
            "gridcolor": "white",
            "gridwidth": 2,
            "linecolor": "white",
            "showbackground": true,
            "ticks": "",
            "zerolinecolor": "white"
           },
           "zaxis": {
            "backgroundcolor": "#E5ECF6",
            "gridcolor": "white",
            "gridwidth": 2,
            "linecolor": "white",
            "showbackground": true,
            "ticks": "",
            "zerolinecolor": "white"
           }
          },
          "shapedefaults": {
           "line": {
            "color": "#2a3f5f"
           }
          },
          "ternary": {
           "aaxis": {
            "gridcolor": "white",
            "linecolor": "white",
            "ticks": ""
           },
           "baxis": {
            "gridcolor": "white",
            "linecolor": "white",
            "ticks": ""
           },
           "bgcolor": "#E5ECF6",
           "caxis": {
            "gridcolor": "white",
            "linecolor": "white",
            "ticks": ""
           }
          },
          "title": {
           "x": 0.05
          },
          "xaxis": {
           "automargin": true,
           "gridcolor": "white",
           "linecolor": "white",
           "ticks": "",
           "title": {
            "standoff": 15
           },
           "zerolinecolor": "white",
           "zerolinewidth": 2
          },
          "yaxis": {
           "automargin": true,
           "gridcolor": "white",
           "linecolor": "white",
           "ticks": "",
           "title": {
            "standoff": 15
           },
           "zerolinecolor": "white",
           "zerolinewidth": 2
          }
         }
        },
        "title": {
         "text": "Top 15 engine used",
         "x": 0.5,
         "y": 0.96
        },
        "width": 1200,
        "xaxis": {
         "anchor": "y",
         "domain": [
          0,
          1
         ],
         "title": {
          "text": "No of cars"
         }
        },
        "yaxis": {
         "anchor": "x",
         "domain": [
          0,
          1
         ],
         "title": {
          "text": "Engine"
         }
        }
       }
      }
     },
     "metadata": {},
     "output_type": "display_data"
    }
   ],
   "source": [
    "most_used_engin = data['engine'].value_counts().head(15)\n",
    "\n",
    "color = ['lightslategray']*30\n",
    "color[0] = 'crimson'\n",
    "\n",
    "fig = px.bar(\n",
    "    x=most_used_engin.values,       \n",
    "    y=most_used_engin.index,\n",
    "    orientation='h',\n",
    ")\n",
    "fig.update_traces(marker_color=color) \n",
    "\n",
    "fig.update_layout(\n",
    "    yaxis_title=\"Engine\",\n",
    "    xaxis_title=\"No of cars\",\n",
    "    showlegend = False,\n",
    "    height=600,\n",
    "    width=1200,\n",
    "    font = dict(size = 14),    \n",
    "    title={\n",
    "        'text': \"Top 15 engine used\",\n",
    "        'y':0.96,\n",
    "        'x':0.5\n",
    "        }\n",
    "    )\n",
    "fig.show()"
   ]
  },
  {
   "cell_type": "code",
   "execution_count": 644,
   "id": "f4e93a45-190c-481a-bfbc-701b55eab896",
   "metadata": {},
   "outputs": [
    {
     "data": {
      "application/vnd.plotly.v1+json": {
       "config": {
        "plotlyServerURL": "https://plot.ly"
       },
       "data": [
        {
         "hovertemplate": "x=%{x}<br>y=%{y}<extra></extra>",
         "legendgroup": "",
         "marker": {
          "color": [
           "crimson",
           "lightslategray",
           "lightslategray",
           "lightslategray",
           "lightslategray",
           "lightslategray"
          ],
          "pattern": {
           "shape": ""
          }
         },
         "name": "",
         "orientation": "h",
         "showlegend": false,
         "textposition": "auto",
         "type": "bar",
         "x": {
          "bdata": "mu4KAKRcAADfEQAA0ggAADEAAAABAAAA",
          "dtype": "i4"
         },
         "xaxis": "x",
         "y": [
          "Automatic",
          "Manual",
          "Unknown",
          "CVT",
          "Dual-Clutch",
          "Semi-Automatic"
         ],
         "yaxis": "y"
        }
       ],
       "layout": {
        "barmode": "relative",
        "font": {
         "size": 14
        },
        "height": 600,
        "legend": {
         "tracegroupgap": 0
        },
        "margin": {
         "t": 60
        },
        "showlegend": false,
        "template": {
         "data": {
          "bar": [
           {
            "error_x": {
             "color": "#2a3f5f"
            },
            "error_y": {
             "color": "#2a3f5f"
            },
            "marker": {
             "line": {
              "color": "#E5ECF6",
              "width": 0.5
             },
             "pattern": {
              "fillmode": "overlay",
              "size": 10,
              "solidity": 0.2
             }
            },
            "type": "bar"
           }
          ],
          "barpolar": [
           {
            "marker": {
             "line": {
              "color": "#E5ECF6",
              "width": 0.5
             },
             "pattern": {
              "fillmode": "overlay",
              "size": 10,
              "solidity": 0.2
             }
            },
            "type": "barpolar"
           }
          ],
          "carpet": [
           {
            "aaxis": {
             "endlinecolor": "#2a3f5f",
             "gridcolor": "white",
             "linecolor": "white",
             "minorgridcolor": "white",
             "startlinecolor": "#2a3f5f"
            },
            "baxis": {
             "endlinecolor": "#2a3f5f",
             "gridcolor": "white",
             "linecolor": "white",
             "minorgridcolor": "white",
             "startlinecolor": "#2a3f5f"
            },
            "type": "carpet"
           }
          ],
          "choropleth": [
           {
            "colorbar": {
             "outlinewidth": 0,
             "ticks": ""
            },
            "type": "choropleth"
           }
          ],
          "contour": [
           {
            "colorbar": {
             "outlinewidth": 0,
             "ticks": ""
            },
            "colorscale": [
             [
              0,
              "#0d0887"
             ],
             [
              0.1111111111111111,
              "#46039f"
             ],
             [
              0.2222222222222222,
              "#7201a8"
             ],
             [
              0.3333333333333333,
              "#9c179e"
             ],
             [
              0.4444444444444444,
              "#bd3786"
             ],
             [
              0.5555555555555556,
              "#d8576b"
             ],
             [
              0.6666666666666666,
              "#ed7953"
             ],
             [
              0.7777777777777778,
              "#fb9f3a"
             ],
             [
              0.8888888888888888,
              "#fdca26"
             ],
             [
              1,
              "#f0f921"
             ]
            ],
            "type": "contour"
           }
          ],
          "contourcarpet": [
           {
            "colorbar": {
             "outlinewidth": 0,
             "ticks": ""
            },
            "type": "contourcarpet"
           }
          ],
          "heatmap": [
           {
            "colorbar": {
             "outlinewidth": 0,
             "ticks": ""
            },
            "colorscale": [
             [
              0,
              "#0d0887"
             ],
             [
              0.1111111111111111,
              "#46039f"
             ],
             [
              0.2222222222222222,
              "#7201a8"
             ],
             [
              0.3333333333333333,
              "#9c179e"
             ],
             [
              0.4444444444444444,
              "#bd3786"
             ],
             [
              0.5555555555555556,
              "#d8576b"
             ],
             [
              0.6666666666666666,
              "#ed7953"
             ],
             [
              0.7777777777777778,
              "#fb9f3a"
             ],
             [
              0.8888888888888888,
              "#fdca26"
             ],
             [
              1,
              "#f0f921"
             ]
            ],
            "type": "heatmap"
           }
          ],
          "histogram": [
           {
            "marker": {
             "pattern": {
              "fillmode": "overlay",
              "size": 10,
              "solidity": 0.2
             }
            },
            "type": "histogram"
           }
          ],
          "histogram2d": [
           {
            "colorbar": {
             "outlinewidth": 0,
             "ticks": ""
            },
            "colorscale": [
             [
              0,
              "#0d0887"
             ],
             [
              0.1111111111111111,
              "#46039f"
             ],
             [
              0.2222222222222222,
              "#7201a8"
             ],
             [
              0.3333333333333333,
              "#9c179e"
             ],
             [
              0.4444444444444444,
              "#bd3786"
             ],
             [
              0.5555555555555556,
              "#d8576b"
             ],
             [
              0.6666666666666666,
              "#ed7953"
             ],
             [
              0.7777777777777778,
              "#fb9f3a"
             ],
             [
              0.8888888888888888,
              "#fdca26"
             ],
             [
              1,
              "#f0f921"
             ]
            ],
            "type": "histogram2d"
           }
          ],
          "histogram2dcontour": [
           {
            "colorbar": {
             "outlinewidth": 0,
             "ticks": ""
            },
            "colorscale": [
             [
              0,
              "#0d0887"
             ],
             [
              0.1111111111111111,
              "#46039f"
             ],
             [
              0.2222222222222222,
              "#7201a8"
             ],
             [
              0.3333333333333333,
              "#9c179e"
             ],
             [
              0.4444444444444444,
              "#bd3786"
             ],
             [
              0.5555555555555556,
              "#d8576b"
             ],
             [
              0.6666666666666666,
              "#ed7953"
             ],
             [
              0.7777777777777778,
              "#fb9f3a"
             ],
             [
              0.8888888888888888,
              "#fdca26"
             ],
             [
              1,
              "#f0f921"
             ]
            ],
            "type": "histogram2dcontour"
           }
          ],
          "mesh3d": [
           {
            "colorbar": {
             "outlinewidth": 0,
             "ticks": ""
            },
            "type": "mesh3d"
           }
          ],
          "parcoords": [
           {
            "line": {
             "colorbar": {
              "outlinewidth": 0,
              "ticks": ""
             }
            },
            "type": "parcoords"
           }
          ],
          "pie": [
           {
            "automargin": true,
            "type": "pie"
           }
          ],
          "scatter": [
           {
            "fillpattern": {
             "fillmode": "overlay",
             "size": 10,
             "solidity": 0.2
            },
            "type": "scatter"
           }
          ],
          "scatter3d": [
           {
            "line": {
             "colorbar": {
              "outlinewidth": 0,
              "ticks": ""
             }
            },
            "marker": {
             "colorbar": {
              "outlinewidth": 0,
              "ticks": ""
             }
            },
            "type": "scatter3d"
           }
          ],
          "scattercarpet": [
           {
            "marker": {
             "colorbar": {
              "outlinewidth": 0,
              "ticks": ""
             }
            },
            "type": "scattercarpet"
           }
          ],
          "scattergeo": [
           {
            "marker": {
             "colorbar": {
              "outlinewidth": 0,
              "ticks": ""
             }
            },
            "type": "scattergeo"
           }
          ],
          "scattergl": [
           {
            "marker": {
             "colorbar": {
              "outlinewidth": 0,
              "ticks": ""
             }
            },
            "type": "scattergl"
           }
          ],
          "scattermap": [
           {
            "marker": {
             "colorbar": {
              "outlinewidth": 0,
              "ticks": ""
             }
            },
            "type": "scattermap"
           }
          ],
          "scattermapbox": [
           {
            "marker": {
             "colorbar": {
              "outlinewidth": 0,
              "ticks": ""
             }
            },
            "type": "scattermapbox"
           }
          ],
          "scatterpolar": [
           {
            "marker": {
             "colorbar": {
              "outlinewidth": 0,
              "ticks": ""
             }
            },
            "type": "scatterpolar"
           }
          ],
          "scatterpolargl": [
           {
            "marker": {
             "colorbar": {
              "outlinewidth": 0,
              "ticks": ""
             }
            },
            "type": "scatterpolargl"
           }
          ],
          "scatterternary": [
           {
            "marker": {
             "colorbar": {
              "outlinewidth": 0,
              "ticks": ""
             }
            },
            "type": "scatterternary"
           }
          ],
          "surface": [
           {
            "colorbar": {
             "outlinewidth": 0,
             "ticks": ""
            },
            "colorscale": [
             [
              0,
              "#0d0887"
             ],
             [
              0.1111111111111111,
              "#46039f"
             ],
             [
              0.2222222222222222,
              "#7201a8"
             ],
             [
              0.3333333333333333,
              "#9c179e"
             ],
             [
              0.4444444444444444,
              "#bd3786"
             ],
             [
              0.5555555555555556,
              "#d8576b"
             ],
             [
              0.6666666666666666,
              "#ed7953"
             ],
             [
              0.7777777777777778,
              "#fb9f3a"
             ],
             [
              0.8888888888888888,
              "#fdca26"
             ],
             [
              1,
              "#f0f921"
             ]
            ],
            "type": "surface"
           }
          ],
          "table": [
           {
            "cells": {
             "fill": {
              "color": "#EBF0F8"
             },
             "line": {
              "color": "white"
             }
            },
            "header": {
             "fill": {
              "color": "#C8D4E3"
             },
             "line": {
              "color": "white"
             }
            },
            "type": "table"
           }
          ]
         },
         "layout": {
          "annotationdefaults": {
           "arrowcolor": "#2a3f5f",
           "arrowhead": 0,
           "arrowwidth": 1
          },
          "autotypenumbers": "strict",
          "coloraxis": {
           "colorbar": {
            "outlinewidth": 0,
            "ticks": ""
           }
          },
          "colorscale": {
           "diverging": [
            [
             0,
             "#8e0152"
            ],
            [
             0.1,
             "#c51b7d"
            ],
            [
             0.2,
             "#de77ae"
            ],
            [
             0.3,
             "#f1b6da"
            ],
            [
             0.4,
             "#fde0ef"
            ],
            [
             0.5,
             "#f7f7f7"
            ],
            [
             0.6,
             "#e6f5d0"
            ],
            [
             0.7,
             "#b8e186"
            ],
            [
             0.8,
             "#7fbc41"
            ],
            [
             0.9,
             "#4d9221"
            ],
            [
             1,
             "#276419"
            ]
           ],
           "sequential": [
            [
             0,
             "#0d0887"
            ],
            [
             0.1111111111111111,
             "#46039f"
            ],
            [
             0.2222222222222222,
             "#7201a8"
            ],
            [
             0.3333333333333333,
             "#9c179e"
            ],
            [
             0.4444444444444444,
             "#bd3786"
            ],
            [
             0.5555555555555556,
             "#d8576b"
            ],
            [
             0.6666666666666666,
             "#ed7953"
            ],
            [
             0.7777777777777778,
             "#fb9f3a"
            ],
            [
             0.8888888888888888,
             "#fdca26"
            ],
            [
             1,
             "#f0f921"
            ]
           ],
           "sequentialminus": [
            [
             0,
             "#0d0887"
            ],
            [
             0.1111111111111111,
             "#46039f"
            ],
            [
             0.2222222222222222,
             "#7201a8"
            ],
            [
             0.3333333333333333,
             "#9c179e"
            ],
            [
             0.4444444444444444,
             "#bd3786"
            ],
            [
             0.5555555555555556,
             "#d8576b"
            ],
            [
             0.6666666666666666,
             "#ed7953"
            ],
            [
             0.7777777777777778,
             "#fb9f3a"
            ],
            [
             0.8888888888888888,
             "#fdca26"
            ],
            [
             1,
             "#f0f921"
            ]
           ]
          },
          "colorway": [
           "#636efa",
           "#EF553B",
           "#00cc96",
           "#ab63fa",
           "#FFA15A",
           "#19d3f3",
           "#FF6692",
           "#B6E880",
           "#FF97FF",
           "#FECB52"
          ],
          "font": {
           "color": "#2a3f5f"
          },
          "geo": {
           "bgcolor": "white",
           "lakecolor": "white",
           "landcolor": "#E5ECF6",
           "showlakes": true,
           "showland": true,
           "subunitcolor": "white"
          },
          "hoverlabel": {
           "align": "left"
          },
          "hovermode": "closest",
          "mapbox": {
           "style": "light"
          },
          "paper_bgcolor": "white",
          "plot_bgcolor": "#E5ECF6",
          "polar": {
           "angularaxis": {
            "gridcolor": "white",
            "linecolor": "white",
            "ticks": ""
           },
           "bgcolor": "#E5ECF6",
           "radialaxis": {
            "gridcolor": "white",
            "linecolor": "white",
            "ticks": ""
           }
          },
          "scene": {
           "xaxis": {
            "backgroundcolor": "#E5ECF6",
            "gridcolor": "white",
            "gridwidth": 2,
            "linecolor": "white",
            "showbackground": true,
            "ticks": "",
            "zerolinecolor": "white"
           },
           "yaxis": {
            "backgroundcolor": "#E5ECF6",
            "gridcolor": "white",
            "gridwidth": 2,
            "linecolor": "white",
            "showbackground": true,
            "ticks": "",
            "zerolinecolor": "white"
           },
           "zaxis": {
            "backgroundcolor": "#E5ECF6",
            "gridcolor": "white",
            "gridwidth": 2,
            "linecolor": "white",
            "showbackground": true,
            "ticks": "",
            "zerolinecolor": "white"
           }
          },
          "shapedefaults": {
           "line": {
            "color": "#2a3f5f"
           }
          },
          "ternary": {
           "aaxis": {
            "gridcolor": "white",
            "linecolor": "white",
            "ticks": ""
           },
           "baxis": {
            "gridcolor": "white",
            "linecolor": "white",
            "ticks": ""
           },
           "bgcolor": "#E5ECF6",
           "caxis": {
            "gridcolor": "white",
            "linecolor": "white",
            "ticks": ""
           }
          },
          "title": {
           "x": 0.05
          },
          "xaxis": {
           "automargin": true,
           "gridcolor": "white",
           "linecolor": "white",
           "ticks": "",
           "title": {
            "standoff": 15
           },
           "zerolinecolor": "white",
           "zerolinewidth": 2
          },
          "yaxis": {
           "automargin": true,
           "gridcolor": "white",
           "linecolor": "white",
           "ticks": "",
           "title": {
            "standoff": 15
           },
           "zerolinecolor": "white",
           "zerolinewidth": 2
          }
         }
        },
        "title": {
         "text": "Gear Transmission used",
         "x": 0.5,
         "y": 0.96
        },
        "width": 1200,
        "xaxis": {
         "anchor": "y",
         "domain": [
          0,
          1
         ],
         "title": {
          "text": "No of cars"
         }
        },
        "yaxis": {
         "anchor": "x",
         "domain": [
          0,
          1
         ],
         "title": {
          "text": "Transmissions"
         }
        }
       }
      }
     },
     "metadata": {},
     "output_type": "display_data"
    }
   ],
   "source": [
    "most_used_engin = data['transmission_category'].value_counts()\n",
    "color = ['lightslategray']*6\n",
    "color[0] = 'crimson'\n",
    "\n",
    "fig = px.bar(\n",
    "    x=most_used_engin.values,       \n",
    "    y=most_used_engin.index,\n",
    "    orientation='h')\n",
    "\n",
    "fig.update_traces(marker_color=color)\n",
    "\n",
    "fig.update_layout(\n",
    "    yaxis_title=\"Transmissions\",\n",
    "    xaxis_title=\"No of cars\",\n",
    "    showlegend = False,\n",
    "    height=600,\n",
    "    width=1200\n",
    "    ,\n",
    "    \n",
    "    font = dict(size = 14),    \n",
    "    title={\n",
    "        'text': \"Gear Transmission used\",\n",
    "        'y':0.96,\n",
    "        'x':0.5\n",
    "        }\n",
    "    )\n",
    "\n",
    "fig.show()"
   ]
  },
  {
   "cell_type": "code",
   "execution_count": 645,
   "id": "1c97d31b-ad32-45ea-b9f0-a467342313e5",
   "metadata": {},
   "outputs": [
    {
     "data": {
      "application/vnd.plotly.v1+json": {
       "config": {
        "plotlyServerURL": "https://plot.ly"
       },
       "data": [
        {
         "hovertemplate": "x=%{x}<br>y=%{y}<extra></extra>",
         "legendgroup": "",
         "marker": {
          "color": [
           "crimson",
           "lightslategray",
           "lightslategray",
           "lightslategray",
           "lightslategray",
           "lightslategray",
           "lightslategray",
           "lightslategray",
           "lightslategray",
           "lightslategray",
           "lightslategray",
           "lightslategray",
           "lightslategray",
           "lightslategray",
           "lightslategray",
           "lightslategray",
           "lightslategray",
           "lightslategray",
           "lightslategray",
           "lightslategray",
           "lightslategray",
           "lightslategray",
           "lightslategray",
           "lightslategray",
           "lightslategray",
           "lightslategray",
           "lightslategray",
           "lightslategray",
           "lightslategray",
           "lightslategray"
          ],
          "pattern": {
           "shape": ""
          }
         },
         "name": "",
         "orientation": "h",
         "showlegend": false,
         "textposition": "auto",
         "type": "bar",
         "x": {
          "bdata": "l8QDABGPAwAibQIAxYIBAI8iAAA=",
          "dtype": "i4"
         },
         "xaxis": "x",
         "y": [
          "FWD",
          "AWD",
          "4WD",
          "RWD",
          "Unknown"
         ],
         "yaxis": "y"
        }
       ],
       "layout": {
        "barmode": "relative",
        "font": {
         "size": 14
        },
        "height": 600,
        "legend": {
         "tracegroupgap": 0
        },
        "margin": {
         "t": 60
        },
        "showlegend": false,
        "template": {
         "data": {
          "bar": [
           {
            "error_x": {
             "color": "#2a3f5f"
            },
            "error_y": {
             "color": "#2a3f5f"
            },
            "marker": {
             "line": {
              "color": "#E5ECF6",
              "width": 0.5
             },
             "pattern": {
              "fillmode": "overlay",
              "size": 10,
              "solidity": 0.2
             }
            },
            "type": "bar"
           }
          ],
          "barpolar": [
           {
            "marker": {
             "line": {
              "color": "#E5ECF6",
              "width": 0.5
             },
             "pattern": {
              "fillmode": "overlay",
              "size": 10,
              "solidity": 0.2
             }
            },
            "type": "barpolar"
           }
          ],
          "carpet": [
           {
            "aaxis": {
             "endlinecolor": "#2a3f5f",
             "gridcolor": "white",
             "linecolor": "white",
             "minorgridcolor": "white",
             "startlinecolor": "#2a3f5f"
            },
            "baxis": {
             "endlinecolor": "#2a3f5f",
             "gridcolor": "white",
             "linecolor": "white",
             "minorgridcolor": "white",
             "startlinecolor": "#2a3f5f"
            },
            "type": "carpet"
           }
          ],
          "choropleth": [
           {
            "colorbar": {
             "outlinewidth": 0,
             "ticks": ""
            },
            "type": "choropleth"
           }
          ],
          "contour": [
           {
            "colorbar": {
             "outlinewidth": 0,
             "ticks": ""
            },
            "colorscale": [
             [
              0,
              "#0d0887"
             ],
             [
              0.1111111111111111,
              "#46039f"
             ],
             [
              0.2222222222222222,
              "#7201a8"
             ],
             [
              0.3333333333333333,
              "#9c179e"
             ],
             [
              0.4444444444444444,
              "#bd3786"
             ],
             [
              0.5555555555555556,
              "#d8576b"
             ],
             [
              0.6666666666666666,
              "#ed7953"
             ],
             [
              0.7777777777777778,
              "#fb9f3a"
             ],
             [
              0.8888888888888888,
              "#fdca26"
             ],
             [
              1,
              "#f0f921"
             ]
            ],
            "type": "contour"
           }
          ],
          "contourcarpet": [
           {
            "colorbar": {
             "outlinewidth": 0,
             "ticks": ""
            },
            "type": "contourcarpet"
           }
          ],
          "heatmap": [
           {
            "colorbar": {
             "outlinewidth": 0,
             "ticks": ""
            },
            "colorscale": [
             [
              0,
              "#0d0887"
             ],
             [
              0.1111111111111111,
              "#46039f"
             ],
             [
              0.2222222222222222,
              "#7201a8"
             ],
             [
              0.3333333333333333,
              "#9c179e"
             ],
             [
              0.4444444444444444,
              "#bd3786"
             ],
             [
              0.5555555555555556,
              "#d8576b"
             ],
             [
              0.6666666666666666,
              "#ed7953"
             ],
             [
              0.7777777777777778,
              "#fb9f3a"
             ],
             [
              0.8888888888888888,
              "#fdca26"
             ],
             [
              1,
              "#f0f921"
             ]
            ],
            "type": "heatmap"
           }
          ],
          "histogram": [
           {
            "marker": {
             "pattern": {
              "fillmode": "overlay",
              "size": 10,
              "solidity": 0.2
             }
            },
            "type": "histogram"
           }
          ],
          "histogram2d": [
           {
            "colorbar": {
             "outlinewidth": 0,
             "ticks": ""
            },
            "colorscale": [
             [
              0,
              "#0d0887"
             ],
             [
              0.1111111111111111,
              "#46039f"
             ],
             [
              0.2222222222222222,
              "#7201a8"
             ],
             [
              0.3333333333333333,
              "#9c179e"
             ],
             [
              0.4444444444444444,
              "#bd3786"
             ],
             [
              0.5555555555555556,
              "#d8576b"
             ],
             [
              0.6666666666666666,
              "#ed7953"
             ],
             [
              0.7777777777777778,
              "#fb9f3a"
             ],
             [
              0.8888888888888888,
              "#fdca26"
             ],
             [
              1,
              "#f0f921"
             ]
            ],
            "type": "histogram2d"
           }
          ],
          "histogram2dcontour": [
           {
            "colorbar": {
             "outlinewidth": 0,
             "ticks": ""
            },
            "colorscale": [
             [
              0,
              "#0d0887"
             ],
             [
              0.1111111111111111,
              "#46039f"
             ],
             [
              0.2222222222222222,
              "#7201a8"
             ],
             [
              0.3333333333333333,
              "#9c179e"
             ],
             [
              0.4444444444444444,
              "#bd3786"
             ],
             [
              0.5555555555555556,
              "#d8576b"
             ],
             [
              0.6666666666666666,
              "#ed7953"
             ],
             [
              0.7777777777777778,
              "#fb9f3a"
             ],
             [
              0.8888888888888888,
              "#fdca26"
             ],
             [
              1,
              "#f0f921"
             ]
            ],
            "type": "histogram2dcontour"
           }
          ],
          "mesh3d": [
           {
            "colorbar": {
             "outlinewidth": 0,
             "ticks": ""
            },
            "type": "mesh3d"
           }
          ],
          "parcoords": [
           {
            "line": {
             "colorbar": {
              "outlinewidth": 0,
              "ticks": ""
             }
            },
            "type": "parcoords"
           }
          ],
          "pie": [
           {
            "automargin": true,
            "type": "pie"
           }
          ],
          "scatter": [
           {
            "fillpattern": {
             "fillmode": "overlay",
             "size": 10,
             "solidity": 0.2
            },
            "type": "scatter"
           }
          ],
          "scatter3d": [
           {
            "line": {
             "colorbar": {
              "outlinewidth": 0,
              "ticks": ""
             }
            },
            "marker": {
             "colorbar": {
              "outlinewidth": 0,
              "ticks": ""
             }
            },
            "type": "scatter3d"
           }
          ],
          "scattercarpet": [
           {
            "marker": {
             "colorbar": {
              "outlinewidth": 0,
              "ticks": ""
             }
            },
            "type": "scattercarpet"
           }
          ],
          "scattergeo": [
           {
            "marker": {
             "colorbar": {
              "outlinewidth": 0,
              "ticks": ""
             }
            },
            "type": "scattergeo"
           }
          ],
          "scattergl": [
           {
            "marker": {
             "colorbar": {
              "outlinewidth": 0,
              "ticks": ""
             }
            },
            "type": "scattergl"
           }
          ],
          "scattermap": [
           {
            "marker": {
             "colorbar": {
              "outlinewidth": 0,
              "ticks": ""
             }
            },
            "type": "scattermap"
           }
          ],
          "scattermapbox": [
           {
            "marker": {
             "colorbar": {
              "outlinewidth": 0,
              "ticks": ""
             }
            },
            "type": "scattermapbox"
           }
          ],
          "scatterpolar": [
           {
            "marker": {
             "colorbar": {
              "outlinewidth": 0,
              "ticks": ""
             }
            },
            "type": "scatterpolar"
           }
          ],
          "scatterpolargl": [
           {
            "marker": {
             "colorbar": {
              "outlinewidth": 0,
              "ticks": ""
             }
            },
            "type": "scatterpolargl"
           }
          ],
          "scatterternary": [
           {
            "marker": {
             "colorbar": {
              "outlinewidth": 0,
              "ticks": ""
             }
            },
            "type": "scatterternary"
           }
          ],
          "surface": [
           {
            "colorbar": {
             "outlinewidth": 0,
             "ticks": ""
            },
            "colorscale": [
             [
              0,
              "#0d0887"
             ],
             [
              0.1111111111111111,
              "#46039f"
             ],
             [
              0.2222222222222222,
              "#7201a8"
             ],
             [
              0.3333333333333333,
              "#9c179e"
             ],
             [
              0.4444444444444444,
              "#bd3786"
             ],
             [
              0.5555555555555556,
              "#d8576b"
             ],
             [
              0.6666666666666666,
              "#ed7953"
             ],
             [
              0.7777777777777778,
              "#fb9f3a"
             ],
             [
              0.8888888888888888,
              "#fdca26"
             ],
             [
              1,
              "#f0f921"
             ]
            ],
            "type": "surface"
           }
          ],
          "table": [
           {
            "cells": {
             "fill": {
              "color": "#EBF0F8"
             },
             "line": {
              "color": "white"
             }
            },
            "header": {
             "fill": {
              "color": "#C8D4E3"
             },
             "line": {
              "color": "white"
             }
            },
            "type": "table"
           }
          ]
         },
         "layout": {
          "annotationdefaults": {
           "arrowcolor": "#2a3f5f",
           "arrowhead": 0,
           "arrowwidth": 1
          },
          "autotypenumbers": "strict",
          "coloraxis": {
           "colorbar": {
            "outlinewidth": 0,
            "ticks": ""
           }
          },
          "colorscale": {
           "diverging": [
            [
             0,
             "#8e0152"
            ],
            [
             0.1,
             "#c51b7d"
            ],
            [
             0.2,
             "#de77ae"
            ],
            [
             0.3,
             "#f1b6da"
            ],
            [
             0.4,
             "#fde0ef"
            ],
            [
             0.5,
             "#f7f7f7"
            ],
            [
             0.6,
             "#e6f5d0"
            ],
            [
             0.7,
             "#b8e186"
            ],
            [
             0.8,
             "#7fbc41"
            ],
            [
             0.9,
             "#4d9221"
            ],
            [
             1,
             "#276419"
            ]
           ],
           "sequential": [
            [
             0,
             "#0d0887"
            ],
            [
             0.1111111111111111,
             "#46039f"
            ],
            [
             0.2222222222222222,
             "#7201a8"
            ],
            [
             0.3333333333333333,
             "#9c179e"
            ],
            [
             0.4444444444444444,
             "#bd3786"
            ],
            [
             0.5555555555555556,
             "#d8576b"
            ],
            [
             0.6666666666666666,
             "#ed7953"
            ],
            [
             0.7777777777777778,
             "#fb9f3a"
            ],
            [
             0.8888888888888888,
             "#fdca26"
            ],
            [
             1,
             "#f0f921"
            ]
           ],
           "sequentialminus": [
            [
             0,
             "#0d0887"
            ],
            [
             0.1111111111111111,
             "#46039f"
            ],
            [
             0.2222222222222222,
             "#7201a8"
            ],
            [
             0.3333333333333333,
             "#9c179e"
            ],
            [
             0.4444444444444444,
             "#bd3786"
            ],
            [
             0.5555555555555556,
             "#d8576b"
            ],
            [
             0.6666666666666666,
             "#ed7953"
            ],
            [
             0.7777777777777778,
             "#fb9f3a"
            ],
            [
             0.8888888888888888,
             "#fdca26"
            ],
            [
             1,
             "#f0f921"
            ]
           ]
          },
          "colorway": [
           "#636efa",
           "#EF553B",
           "#00cc96",
           "#ab63fa",
           "#FFA15A",
           "#19d3f3",
           "#FF6692",
           "#B6E880",
           "#FF97FF",
           "#FECB52"
          ],
          "font": {
           "color": "#2a3f5f"
          },
          "geo": {
           "bgcolor": "white",
           "lakecolor": "white",
           "landcolor": "#E5ECF6",
           "showlakes": true,
           "showland": true,
           "subunitcolor": "white"
          },
          "hoverlabel": {
           "align": "left"
          },
          "hovermode": "closest",
          "mapbox": {
           "style": "light"
          },
          "paper_bgcolor": "white",
          "plot_bgcolor": "#E5ECF6",
          "polar": {
           "angularaxis": {
            "gridcolor": "white",
            "linecolor": "white",
            "ticks": ""
           },
           "bgcolor": "#E5ECF6",
           "radialaxis": {
            "gridcolor": "white",
            "linecolor": "white",
            "ticks": ""
           }
          },
          "scene": {
           "xaxis": {
            "backgroundcolor": "#E5ECF6",
            "gridcolor": "white",
            "gridwidth": 2,
            "linecolor": "white",
            "showbackground": true,
            "ticks": "",
            "zerolinecolor": "white"
           },
           "yaxis": {
            "backgroundcolor": "#E5ECF6",
            "gridcolor": "white",
            "gridwidth": 2,
            "linecolor": "white",
            "showbackground": true,
            "ticks": "",
            "zerolinecolor": "white"
           },
           "zaxis": {
            "backgroundcolor": "#E5ECF6",
            "gridcolor": "white",
            "gridwidth": 2,
            "linecolor": "white",
            "showbackground": true,
            "ticks": "",
            "zerolinecolor": "white"
           }
          },
          "shapedefaults": {
           "line": {
            "color": "#2a3f5f"
           }
          },
          "ternary": {
           "aaxis": {
            "gridcolor": "white",
            "linecolor": "white",
            "ticks": ""
           },
           "baxis": {
            "gridcolor": "white",
            "linecolor": "white",
            "ticks": ""
           },
           "bgcolor": "#E5ECF6",
           "caxis": {
            "gridcolor": "white",
            "linecolor": "white",
            "ticks": ""
           }
          },
          "title": {
           "x": 0.05
          },
          "xaxis": {
           "automargin": true,
           "gridcolor": "white",
           "linecolor": "white",
           "ticks": "",
           "title": {
            "standoff": 15
           },
           "zerolinecolor": "white",
           "zerolinewidth": 2
          },
          "yaxis": {
           "automargin": true,
           "gridcolor": "white",
           "linecolor": "white",
           "ticks": "",
           "title": {
            "standoff": 15
           },
           "zerolinecolor": "white",
           "zerolinewidth": 2
          }
         }
        },
        "title": {
         "text": "Most Prefered Drivetrain",
         "x": 0.5,
         "y": 0.96
        },
        "width": 1200,
        "xaxis": {
         "anchor": "y",
         "domain": [
          0,
          1
         ],
         "title": {
          "text": "No of cars"
         }
        },
        "yaxis": {
         "anchor": "x",
         "domain": [
          0,
          1
         ],
         "title": {
          "text": "drivetrain"
         }
        }
       }
      }
     },
     "metadata": {},
     "output_type": "display_data"
    }
   ],
   "source": [
    "most_used_engin = data['drivetrain'].value_counts().head(5)\n",
    "color = ['lightslategray']*30\n",
    "color[0] = 'crimson'\n",
    "\n",
    "fig = px.bar(\n",
    "    x=most_used_engin.values,       \n",
    "    y=most_used_engin.index,\n",
    "    orientation='h')\n",
    "\n",
    "fig.update_traces(marker_color=color)\n",
    "\n",
    "fig.update_layout(\n",
    "    yaxis_title=\"drivetrain\",\n",
    "    xaxis_title=\"No of cars\",\n",
    "    showlegend = False,\n",
    "    height=600,\n",
    "    width=1200,\n",
    "    font = dict(size = 14),    \n",
    "    title={\n",
    "        'text': \"Most Prefered Drivetrain\",\n",
    "        'y':0.96,\n",
    "        'x':0.5\n",
    "        }\n",
    "    )\n",
    "\n",
    "fig.show()"
   ]
  },
  {
   "cell_type": "code",
   "execution_count": 647,
   "id": "a7b7bf1e-a6bc-458f-91e2-249892013ced",
   "metadata": {},
   "outputs": [
    {
     "data": {
      "application/vnd.plotly.v1+json": {
       "config": {
        "plotlyServerURL": "https://plot.ly"
       },
       "data": [
        {
         "hovertemplate": "x=%{x}<br>y=%{y}<extra></extra>",
         "legendgroup": "",
         "marker": {
          "color": [
           "#00BFFF",
           "#FF4500",
           "#FF4500",
           "#FF4500",
           "#FF4500",
           "#FF4500",
           "#FF4500",
           "#FF4500",
           "#FF4500",
           "#FF4500",
           "#FF4500",
           "#FF4500",
           "#FF4500",
           "#FF4500",
           "#FF4500",
           "#FF4500",
           "#FF4500",
           "#FF4500",
           "#FF4500",
           "#FF4500",
           "#FF4500",
           "#FF4500",
           "#FF4500",
           "#FF4500",
           "#FF4500",
           "#FF4500",
           "#FF4500",
           "#FF4500",
           "#FF4500",
           "#FF4500"
          ],
          "pattern": {
           "shape": ""
          }
         },
         "name": "",
         "orientation": "h",
         "showlegend": false,
         "textposition": "auto",
         "type": "bar",
         "x": {
          "bdata": "8/sJAMpwAAAGbgAAdEsAAG8/AAA=",
          "dtype": "i4"
         },
         "xaxis": "x",
         "y": [
          "gasoline",
          "hybrid",
          "diesel",
          "flex fuel",
          "electric"
         ],
         "yaxis": "y"
        }
       ],
       "layout": {
        "barmode": "relative",
        "font": {
         "size": 14
        },
        "height": 600,
        "legend": {
         "tracegroupgap": 0
        },
        "margin": {
         "t": 60
        },
        "showlegend": false,
        "template": {
         "data": {
          "bar": [
           {
            "error_x": {
             "color": "#2a3f5f"
            },
            "error_y": {
             "color": "#2a3f5f"
            },
            "marker": {
             "line": {
              "color": "#E5ECF6",
              "width": 0.5
             },
             "pattern": {
              "fillmode": "overlay",
              "size": 10,
              "solidity": 0.2
             }
            },
            "type": "bar"
           }
          ],
          "barpolar": [
           {
            "marker": {
             "line": {
              "color": "#E5ECF6",
              "width": 0.5
             },
             "pattern": {
              "fillmode": "overlay",
              "size": 10,
              "solidity": 0.2
             }
            },
            "type": "barpolar"
           }
          ],
          "carpet": [
           {
            "aaxis": {
             "endlinecolor": "#2a3f5f",
             "gridcolor": "white",
             "linecolor": "white",
             "minorgridcolor": "white",
             "startlinecolor": "#2a3f5f"
            },
            "baxis": {
             "endlinecolor": "#2a3f5f",
             "gridcolor": "white",
             "linecolor": "white",
             "minorgridcolor": "white",
             "startlinecolor": "#2a3f5f"
            },
            "type": "carpet"
           }
          ],
          "choropleth": [
           {
            "colorbar": {
             "outlinewidth": 0,
             "ticks": ""
            },
            "type": "choropleth"
           }
          ],
          "contour": [
           {
            "colorbar": {
             "outlinewidth": 0,
             "ticks": ""
            },
            "colorscale": [
             [
              0,
              "#0d0887"
             ],
             [
              0.1111111111111111,
              "#46039f"
             ],
             [
              0.2222222222222222,
              "#7201a8"
             ],
             [
              0.3333333333333333,
              "#9c179e"
             ],
             [
              0.4444444444444444,
              "#bd3786"
             ],
             [
              0.5555555555555556,
              "#d8576b"
             ],
             [
              0.6666666666666666,
              "#ed7953"
             ],
             [
              0.7777777777777778,
              "#fb9f3a"
             ],
             [
              0.8888888888888888,
              "#fdca26"
             ],
             [
              1,
              "#f0f921"
             ]
            ],
            "type": "contour"
           }
          ],
          "contourcarpet": [
           {
            "colorbar": {
             "outlinewidth": 0,
             "ticks": ""
            },
            "type": "contourcarpet"
           }
          ],
          "heatmap": [
           {
            "colorbar": {
             "outlinewidth": 0,
             "ticks": ""
            },
            "colorscale": [
             [
              0,
              "#0d0887"
             ],
             [
              0.1111111111111111,
              "#46039f"
             ],
             [
              0.2222222222222222,
              "#7201a8"
             ],
             [
              0.3333333333333333,
              "#9c179e"
             ],
             [
              0.4444444444444444,
              "#bd3786"
             ],
             [
              0.5555555555555556,
              "#d8576b"
             ],
             [
              0.6666666666666666,
              "#ed7953"
             ],
             [
              0.7777777777777778,
              "#fb9f3a"
             ],
             [
              0.8888888888888888,
              "#fdca26"
             ],
             [
              1,
              "#f0f921"
             ]
            ],
            "type": "heatmap"
           }
          ],
          "histogram": [
           {
            "marker": {
             "pattern": {
              "fillmode": "overlay",
              "size": 10,
              "solidity": 0.2
             }
            },
            "type": "histogram"
           }
          ],
          "histogram2d": [
           {
            "colorbar": {
             "outlinewidth": 0,
             "ticks": ""
            },
            "colorscale": [
             [
              0,
              "#0d0887"
             ],
             [
              0.1111111111111111,
              "#46039f"
             ],
             [
              0.2222222222222222,
              "#7201a8"
             ],
             [
              0.3333333333333333,
              "#9c179e"
             ],
             [
              0.4444444444444444,
              "#bd3786"
             ],
             [
              0.5555555555555556,
              "#d8576b"
             ],
             [
              0.6666666666666666,
              "#ed7953"
             ],
             [
              0.7777777777777778,
              "#fb9f3a"
             ],
             [
              0.8888888888888888,
              "#fdca26"
             ],
             [
              1,
              "#f0f921"
             ]
            ],
            "type": "histogram2d"
           }
          ],
          "histogram2dcontour": [
           {
            "colorbar": {
             "outlinewidth": 0,
             "ticks": ""
            },
            "colorscale": [
             [
              0,
              "#0d0887"
             ],
             [
              0.1111111111111111,
              "#46039f"
             ],
             [
              0.2222222222222222,
              "#7201a8"
             ],
             [
              0.3333333333333333,
              "#9c179e"
             ],
             [
              0.4444444444444444,
              "#bd3786"
             ],
             [
              0.5555555555555556,
              "#d8576b"
             ],
             [
              0.6666666666666666,
              "#ed7953"
             ],
             [
              0.7777777777777778,
              "#fb9f3a"
             ],
             [
              0.8888888888888888,
              "#fdca26"
             ],
             [
              1,
              "#f0f921"
             ]
            ],
            "type": "histogram2dcontour"
           }
          ],
          "mesh3d": [
           {
            "colorbar": {
             "outlinewidth": 0,
             "ticks": ""
            },
            "type": "mesh3d"
           }
          ],
          "parcoords": [
           {
            "line": {
             "colorbar": {
              "outlinewidth": 0,
              "ticks": ""
             }
            },
            "type": "parcoords"
           }
          ],
          "pie": [
           {
            "automargin": true,
            "type": "pie"
           }
          ],
          "scatter": [
           {
            "fillpattern": {
             "fillmode": "overlay",
             "size": 10,
             "solidity": 0.2
            },
            "type": "scatter"
           }
          ],
          "scatter3d": [
           {
            "line": {
             "colorbar": {
              "outlinewidth": 0,
              "ticks": ""
             }
            },
            "marker": {
             "colorbar": {
              "outlinewidth": 0,
              "ticks": ""
             }
            },
            "type": "scatter3d"
           }
          ],
          "scattercarpet": [
           {
            "marker": {
             "colorbar": {
              "outlinewidth": 0,
              "ticks": ""
             }
            },
            "type": "scattercarpet"
           }
          ],
          "scattergeo": [
           {
            "marker": {
             "colorbar": {
              "outlinewidth": 0,
              "ticks": ""
             }
            },
            "type": "scattergeo"
           }
          ],
          "scattergl": [
           {
            "marker": {
             "colorbar": {
              "outlinewidth": 0,
              "ticks": ""
             }
            },
            "type": "scattergl"
           }
          ],
          "scattermap": [
           {
            "marker": {
             "colorbar": {
              "outlinewidth": 0,
              "ticks": ""
             }
            },
            "type": "scattermap"
           }
          ],
          "scattermapbox": [
           {
            "marker": {
             "colorbar": {
              "outlinewidth": 0,
              "ticks": ""
             }
            },
            "type": "scattermapbox"
           }
          ],
          "scatterpolar": [
           {
            "marker": {
             "colorbar": {
              "outlinewidth": 0,
              "ticks": ""
             }
            },
            "type": "scatterpolar"
           }
          ],
          "scatterpolargl": [
           {
            "marker": {
             "colorbar": {
              "outlinewidth": 0,
              "ticks": ""
             }
            },
            "type": "scatterpolargl"
           }
          ],
          "scatterternary": [
           {
            "marker": {
             "colorbar": {
              "outlinewidth": 0,
              "ticks": ""
             }
            },
            "type": "scatterternary"
           }
          ],
          "surface": [
           {
            "colorbar": {
             "outlinewidth": 0,
             "ticks": ""
            },
            "colorscale": [
             [
              0,
              "#0d0887"
             ],
             [
              0.1111111111111111,
              "#46039f"
             ],
             [
              0.2222222222222222,
              "#7201a8"
             ],
             [
              0.3333333333333333,
              "#9c179e"
             ],
             [
              0.4444444444444444,
              "#bd3786"
             ],
             [
              0.5555555555555556,
              "#d8576b"
             ],
             [
              0.6666666666666666,
              "#ed7953"
             ],
             [
              0.7777777777777778,
              "#fb9f3a"
             ],
             [
              0.8888888888888888,
              "#fdca26"
             ],
             [
              1,
              "#f0f921"
             ]
            ],
            "type": "surface"
           }
          ],
          "table": [
           {
            "cells": {
             "fill": {
              "color": "#EBF0F8"
             },
             "line": {
              "color": "white"
             }
            },
            "header": {
             "fill": {
              "color": "#C8D4E3"
             },
             "line": {
              "color": "white"
             }
            },
            "type": "table"
           }
          ]
         },
         "layout": {
          "annotationdefaults": {
           "arrowcolor": "#2a3f5f",
           "arrowhead": 0,
           "arrowwidth": 1
          },
          "autotypenumbers": "strict",
          "coloraxis": {
           "colorbar": {
            "outlinewidth": 0,
            "ticks": ""
           }
          },
          "colorscale": {
           "diverging": [
            [
             0,
             "#8e0152"
            ],
            [
             0.1,
             "#c51b7d"
            ],
            [
             0.2,
             "#de77ae"
            ],
            [
             0.3,
             "#f1b6da"
            ],
            [
             0.4,
             "#fde0ef"
            ],
            [
             0.5,
             "#f7f7f7"
            ],
            [
             0.6,
             "#e6f5d0"
            ],
            [
             0.7,
             "#b8e186"
            ],
            [
             0.8,
             "#7fbc41"
            ],
            [
             0.9,
             "#4d9221"
            ],
            [
             1,
             "#276419"
            ]
           ],
           "sequential": [
            [
             0,
             "#0d0887"
            ],
            [
             0.1111111111111111,
             "#46039f"
            ],
            [
             0.2222222222222222,
             "#7201a8"
            ],
            [
             0.3333333333333333,
             "#9c179e"
            ],
            [
             0.4444444444444444,
             "#bd3786"
            ],
            [
             0.5555555555555556,
             "#d8576b"
            ],
            [
             0.6666666666666666,
             "#ed7953"
            ],
            [
             0.7777777777777778,
             "#fb9f3a"
            ],
            [
             0.8888888888888888,
             "#fdca26"
            ],
            [
             1,
             "#f0f921"
            ]
           ],
           "sequentialminus": [
            [
             0,
             "#0d0887"
            ],
            [
             0.1111111111111111,
             "#46039f"
            ],
            [
             0.2222222222222222,
             "#7201a8"
            ],
            [
             0.3333333333333333,
             "#9c179e"
            ],
            [
             0.4444444444444444,
             "#bd3786"
            ],
            [
             0.5555555555555556,
             "#d8576b"
            ],
            [
             0.6666666666666666,
             "#ed7953"
            ],
            [
             0.7777777777777778,
             "#fb9f3a"
            ],
            [
             0.8888888888888888,
             "#fdca26"
            ],
            [
             1,
             "#f0f921"
            ]
           ]
          },
          "colorway": [
           "#636efa",
           "#EF553B",
           "#00cc96",
           "#ab63fa",
           "#FFA15A",
           "#19d3f3",
           "#FF6692",
           "#B6E880",
           "#FF97FF",
           "#FECB52"
          ],
          "font": {
           "color": "#2a3f5f"
          },
          "geo": {
           "bgcolor": "white",
           "lakecolor": "white",
           "landcolor": "#E5ECF6",
           "showlakes": true,
           "showland": true,
           "subunitcolor": "white"
          },
          "hoverlabel": {
           "align": "left"
          },
          "hovermode": "closest",
          "mapbox": {
           "style": "light"
          },
          "paper_bgcolor": "white",
          "plot_bgcolor": "#E5ECF6",
          "polar": {
           "angularaxis": {
            "gridcolor": "white",
            "linecolor": "white",
            "ticks": ""
           },
           "bgcolor": "#E5ECF6",
           "radialaxis": {
            "gridcolor": "white",
            "linecolor": "white",
            "ticks": ""
           }
          },
          "scene": {
           "xaxis": {
            "backgroundcolor": "#E5ECF6",
            "gridcolor": "white",
            "gridwidth": 2,
            "linecolor": "white",
            "showbackground": true,
            "ticks": "",
            "zerolinecolor": "white"
           },
           "yaxis": {
            "backgroundcolor": "#E5ECF6",
            "gridcolor": "white",
            "gridwidth": 2,
            "linecolor": "white",
            "showbackground": true,
            "ticks": "",
            "zerolinecolor": "white"
           },
           "zaxis": {
            "backgroundcolor": "#E5ECF6",
            "gridcolor": "white",
            "gridwidth": 2,
            "linecolor": "white",
            "showbackground": true,
            "ticks": "",
            "zerolinecolor": "white"
           }
          },
          "shapedefaults": {
           "line": {
            "color": "#2a3f5f"
           }
          },
          "ternary": {
           "aaxis": {
            "gridcolor": "white",
            "linecolor": "white",
            "ticks": ""
           },
           "baxis": {
            "gridcolor": "white",
            "linecolor": "white",
            "ticks": ""
           },
           "bgcolor": "#E5ECF6",
           "caxis": {
            "gridcolor": "white",
            "linecolor": "white",
            "ticks": ""
           }
          },
          "title": {
           "x": 0.05
          },
          "xaxis": {
           "automargin": true,
           "gridcolor": "white",
           "linecolor": "white",
           "ticks": "",
           "title": {
            "standoff": 15
           },
           "zerolinecolor": "white",
           "zerolinewidth": 2
          },
          "yaxis": {
           "automargin": true,
           "gridcolor": "white",
           "linecolor": "white",
           "ticks": "",
           "title": {
            "standoff": 15
           },
           "zerolinecolor": "white",
           "zerolinewidth": 2
          }
         }
        },
        "title": {
         "text": "Most prefered fuel types",
         "x": 0.5,
         "y": 0.96
        },
        "width": 1300,
        "xaxis": {
         "anchor": "y",
         "domain": [
          0,
          1
         ],
         "title": {
          "text": "fuel_type"
         }
        },
        "yaxis": {
         "anchor": "x",
         "domain": [
          0,
          1
         ],
         "title": {
          "text": "No of cars"
         }
        }
       }
      }
     },
     "metadata": {},
     "output_type": "display_data"
    }
   ],
   "source": [
    "most_used_engin = data['fuel_type'].value_counts().head(5)\n",
    "\n",
    "color = ['#FF4500']*30\n",
    "color[0] = '#00BFFF' \n",
    "\n",
    "fig = px.bar(\n",
    "    x=most_used_engin.values,       \n",
    "    y=most_used_engin.index,\n",
    "    orientation='h')\n",
    "\n",
    "fig.update_traces(marker_color=color)\n",
    "fig.update_layout(\n",
    "    xaxis_title=\"fuel_type\",\n",
    "    yaxis_title=\"No of cars\",\n",
    "    showlegend = False,\n",
    "    height=600,\n",
    "    width=1300,\n",
    "    font = dict(size = 14),    \n",
    "    title={\n",
    "        'text': \"Most prefered fuel types\",\n",
    "        'y':0.96,\n",
    "        'x':0.5\n",
    "        }\n",
    "    )\n",
    "fig.show()"
   ]
  },
  {
   "cell_type": "code",
   "execution_count": null,
   "id": "8757c362-be2e-40b4-91f9-ee2dddc33783",
   "metadata": {},
   "outputs": [],
   "source": []
  },
  {
   "cell_type": "code",
   "execution_count": 648,
   "id": "2d580ec7-bd47-4763-846f-cb010d6a45e2",
   "metadata": {},
   "outputs": [
    {
     "data": {
      "application/vnd.plotly.v1+json": {
       "config": {
        "plotlyServerURL": "https://plot.ly"
       },
       "data": [
        {
         "hovertemplate": "x=%{x}<br>y=%{y}<extra></extra>",
         "legendgroup": "",
         "marker": {
          "color": [
           "crimson",
           "#db4062",
           "lightslategray",
           "lightslategray",
           "lightslategray",
           "lightslategray",
           "lightslategray",
           "lightslategray",
           "lightslategray",
           "lightslategray",
           "lightslategray",
           "lightslategray",
           "lightslategray",
           "lightslategray",
           "lightslategray",
           "lightslategray",
           "lightslategray",
           "lightslategray",
           "lightslategray",
           "lightslategray",
           "lightslategray",
           "lightslategray",
           "lightslategray",
           "lightslategray",
           "lightslategray",
           "lightslategray",
           "lightslategray",
           "lightslategray",
           "lightslategray",
           "lightslategray"
          ],
          "pattern": {
           "shape": ""
          }
         },
         "name": "",
         "orientation": "h",
         "showlegend": false,
         "textposition": "auto",
         "type": "bar",
         "x": {
          "bdata": "gzswWVQC+kBqA5tB7On0QAN3CK6D3elAgeZbNV836EAc6ivzgvfnQKE2CrBzI+dAxbXNIIiC5UCmkkmRbZXjQOCRKjAzMeNAcbz19l4x4kBuuOGGz+ThQPn3xk+Hd+FAuftke9Ab4UBjHUjywAfhQGbuieTA0+BAbmcJoZZp4EBz2OThnIHeQFVVVbUjkd1AhtmsSVV53UChJ/CqIq7bQKO3CftngthAP9wei8j910A14vWU8vHWQLANxi158NZAHC1IQC3U1kAz7ulyh4bWQGI+uZUdQNZAxas6N/X51UCPwvUovCPVQMAoASXH9NJA",
          "dtype": "f8"
         },
         "xaxis": "x",
         "y": [
          "Dodge",
          "Porsche",
          "Land Rover",
          "Chevrolet",
          "Tesla",
          "Mercedes-Benz",
          "RAM",
          "GMC",
          "Cadillac",
          "BMW",
          "Audi",
          "Volvo",
          "Lincoln",
          "Jaguar",
          "Lexus",
          "Ford",
          "Jeep",
          "INFINITI",
          "Toyota",
          "Acura",
          "Subaru",
          "Honda",
          "Buick",
          "Nissan",
          "Volkswagen",
          "Mazda",
          "Chrysler",
          "Kia",
          "Hyundai",
          "Mitsubishi"
         ],
         "yaxis": "y"
        }
       ],
       "layout": {
        "barmode": "relative",
        "font": {
         "size": 14
        },
        "height": 900,
        "legend": {
         "tracegroupgap": 0
        },
        "margin": {
         "t": 60
        },
        "showlegend": false,
        "template": {
         "data": {
          "bar": [
           {
            "error_x": {
             "color": "#2a3f5f"
            },
            "error_y": {
             "color": "#2a3f5f"
            },
            "marker": {
             "line": {
              "color": "#E5ECF6",
              "width": 0.5
             },
             "pattern": {
              "fillmode": "overlay",
              "size": 10,
              "solidity": 0.2
             }
            },
            "type": "bar"
           }
          ],
          "barpolar": [
           {
            "marker": {
             "line": {
              "color": "#E5ECF6",
              "width": 0.5
             },
             "pattern": {
              "fillmode": "overlay",
              "size": 10,
              "solidity": 0.2
             }
            },
            "type": "barpolar"
           }
          ],
          "carpet": [
           {
            "aaxis": {
             "endlinecolor": "#2a3f5f",
             "gridcolor": "white",
             "linecolor": "white",
             "minorgridcolor": "white",
             "startlinecolor": "#2a3f5f"
            },
            "baxis": {
             "endlinecolor": "#2a3f5f",
             "gridcolor": "white",
             "linecolor": "white",
             "minorgridcolor": "white",
             "startlinecolor": "#2a3f5f"
            },
            "type": "carpet"
           }
          ],
          "choropleth": [
           {
            "colorbar": {
             "outlinewidth": 0,
             "ticks": ""
            },
            "type": "choropleth"
           }
          ],
          "contour": [
           {
            "colorbar": {
             "outlinewidth": 0,
             "ticks": ""
            },
            "colorscale": [
             [
              0,
              "#0d0887"
             ],
             [
              0.1111111111111111,
              "#46039f"
             ],
             [
              0.2222222222222222,
              "#7201a8"
             ],
             [
              0.3333333333333333,
              "#9c179e"
             ],
             [
              0.4444444444444444,
              "#bd3786"
             ],
             [
              0.5555555555555556,
              "#d8576b"
             ],
             [
              0.6666666666666666,
              "#ed7953"
             ],
             [
              0.7777777777777778,
              "#fb9f3a"
             ],
             [
              0.8888888888888888,
              "#fdca26"
             ],
             [
              1,
              "#f0f921"
             ]
            ],
            "type": "contour"
           }
          ],
          "contourcarpet": [
           {
            "colorbar": {
             "outlinewidth": 0,
             "ticks": ""
            },
            "type": "contourcarpet"
           }
          ],
          "heatmap": [
           {
            "colorbar": {
             "outlinewidth": 0,
             "ticks": ""
            },
            "colorscale": [
             [
              0,
              "#0d0887"
             ],
             [
              0.1111111111111111,
              "#46039f"
             ],
             [
              0.2222222222222222,
              "#7201a8"
             ],
             [
              0.3333333333333333,
              "#9c179e"
             ],
             [
              0.4444444444444444,
              "#bd3786"
             ],
             [
              0.5555555555555556,
              "#d8576b"
             ],
             [
              0.6666666666666666,
              "#ed7953"
             ],
             [
              0.7777777777777778,
              "#fb9f3a"
             ],
             [
              0.8888888888888888,
              "#fdca26"
             ],
             [
              1,
              "#f0f921"
             ]
            ],
            "type": "heatmap"
           }
          ],
          "histogram": [
           {
            "marker": {
             "pattern": {
              "fillmode": "overlay",
              "size": 10,
              "solidity": 0.2
             }
            },
            "type": "histogram"
           }
          ],
          "histogram2d": [
           {
            "colorbar": {
             "outlinewidth": 0,
             "ticks": ""
            },
            "colorscale": [
             [
              0,
              "#0d0887"
             ],
             [
              0.1111111111111111,
              "#46039f"
             ],
             [
              0.2222222222222222,
              "#7201a8"
             ],
             [
              0.3333333333333333,
              "#9c179e"
             ],
             [
              0.4444444444444444,
              "#bd3786"
             ],
             [
              0.5555555555555556,
              "#d8576b"
             ],
             [
              0.6666666666666666,
              "#ed7953"
             ],
             [
              0.7777777777777778,
              "#fb9f3a"
             ],
             [
              0.8888888888888888,
              "#fdca26"
             ],
             [
              1,
              "#f0f921"
             ]
            ],
            "type": "histogram2d"
           }
          ],
          "histogram2dcontour": [
           {
            "colorbar": {
             "outlinewidth": 0,
             "ticks": ""
            },
            "colorscale": [
             [
              0,
              "#0d0887"
             ],
             [
              0.1111111111111111,
              "#46039f"
             ],
             [
              0.2222222222222222,
              "#7201a8"
             ],
             [
              0.3333333333333333,
              "#9c179e"
             ],
             [
              0.4444444444444444,
              "#bd3786"
             ],
             [
              0.5555555555555556,
              "#d8576b"
             ],
             [
              0.6666666666666666,
              "#ed7953"
             ],
             [
              0.7777777777777778,
              "#fb9f3a"
             ],
             [
              0.8888888888888888,
              "#fdca26"
             ],
             [
              1,
              "#f0f921"
             ]
            ],
            "type": "histogram2dcontour"
           }
          ],
          "mesh3d": [
           {
            "colorbar": {
             "outlinewidth": 0,
             "ticks": ""
            },
            "type": "mesh3d"
           }
          ],
          "parcoords": [
           {
            "line": {
             "colorbar": {
              "outlinewidth": 0,
              "ticks": ""
             }
            },
            "type": "parcoords"
           }
          ],
          "pie": [
           {
            "automargin": true,
            "type": "pie"
           }
          ],
          "scatter": [
           {
            "fillpattern": {
             "fillmode": "overlay",
             "size": 10,
             "solidity": 0.2
            },
            "type": "scatter"
           }
          ],
          "scatter3d": [
           {
            "line": {
             "colorbar": {
              "outlinewidth": 0,
              "ticks": ""
             }
            },
            "marker": {
             "colorbar": {
              "outlinewidth": 0,
              "ticks": ""
             }
            },
            "type": "scatter3d"
           }
          ],
          "scattercarpet": [
           {
            "marker": {
             "colorbar": {
              "outlinewidth": 0,
              "ticks": ""
             }
            },
            "type": "scattercarpet"
           }
          ],
          "scattergeo": [
           {
            "marker": {
             "colorbar": {
              "outlinewidth": 0,
              "ticks": ""
             }
            },
            "type": "scattergeo"
           }
          ],
          "scattergl": [
           {
            "marker": {
             "colorbar": {
              "outlinewidth": 0,
              "ticks": ""
             }
            },
            "type": "scattergl"
           }
          ],
          "scattermap": [
           {
            "marker": {
             "colorbar": {
              "outlinewidth": 0,
              "ticks": ""
             }
            },
            "type": "scattermap"
           }
          ],
          "scattermapbox": [
           {
            "marker": {
             "colorbar": {
              "outlinewidth": 0,
              "ticks": ""
             }
            },
            "type": "scattermapbox"
           }
          ],
          "scatterpolar": [
           {
            "marker": {
             "colorbar": {
              "outlinewidth": 0,
              "ticks": ""
             }
            },
            "type": "scatterpolar"
           }
          ],
          "scatterpolargl": [
           {
            "marker": {
             "colorbar": {
              "outlinewidth": 0,
              "ticks": ""
             }
            },
            "type": "scatterpolargl"
           }
          ],
          "scatterternary": [
           {
            "marker": {
             "colorbar": {
              "outlinewidth": 0,
              "ticks": ""
             }
            },
            "type": "scatterternary"
           }
          ],
          "surface": [
           {
            "colorbar": {
             "outlinewidth": 0,
             "ticks": ""
            },
            "colorscale": [
             [
              0,
              "#0d0887"
             ],
             [
              0.1111111111111111,
              "#46039f"
             ],
             [
              0.2222222222222222,
              "#7201a8"
             ],
             [
              0.3333333333333333,
              "#9c179e"
             ],
             [
              0.4444444444444444,
              "#bd3786"
             ],
             [
              0.5555555555555556,
              "#d8576b"
             ],
             [
              0.6666666666666666,
              "#ed7953"
             ],
             [
              0.7777777777777778,
              "#fb9f3a"
             ],
             [
              0.8888888888888888,
              "#fdca26"
             ],
             [
              1,
              "#f0f921"
             ]
            ],
            "type": "surface"
           }
          ],
          "table": [
           {
            "cells": {
             "fill": {
              "color": "#EBF0F8"
             },
             "line": {
              "color": "white"
             }
            },
            "header": {
             "fill": {
              "color": "#C8D4E3"
             },
             "line": {
              "color": "white"
             }
            },
            "type": "table"
           }
          ]
         },
         "layout": {
          "annotationdefaults": {
           "arrowcolor": "#2a3f5f",
           "arrowhead": 0,
           "arrowwidth": 1
          },
          "autotypenumbers": "strict",
          "coloraxis": {
           "colorbar": {
            "outlinewidth": 0,
            "ticks": ""
           }
          },
          "colorscale": {
           "diverging": [
            [
             0,
             "#8e0152"
            ],
            [
             0.1,
             "#c51b7d"
            ],
            [
             0.2,
             "#de77ae"
            ],
            [
             0.3,
             "#f1b6da"
            ],
            [
             0.4,
             "#fde0ef"
            ],
            [
             0.5,
             "#f7f7f7"
            ],
            [
             0.6,
             "#e6f5d0"
            ],
            [
             0.7,
             "#b8e186"
            ],
            [
             0.8,
             "#7fbc41"
            ],
            [
             0.9,
             "#4d9221"
            ],
            [
             1,
             "#276419"
            ]
           ],
           "sequential": [
            [
             0,
             "#0d0887"
            ],
            [
             0.1111111111111111,
             "#46039f"
            ],
            [
             0.2222222222222222,
             "#7201a8"
            ],
            [
             0.3333333333333333,
             "#9c179e"
            ],
            [
             0.4444444444444444,
             "#bd3786"
            ],
            [
             0.5555555555555556,
             "#d8576b"
            ],
            [
             0.6666666666666666,
             "#ed7953"
            ],
            [
             0.7777777777777778,
             "#fb9f3a"
            ],
            [
             0.8888888888888888,
             "#fdca26"
            ],
            [
             1,
             "#f0f921"
            ]
           ],
           "sequentialminus": [
            [
             0,
             "#0d0887"
            ],
            [
             0.1111111111111111,
             "#46039f"
            ],
            [
             0.2222222222222222,
             "#7201a8"
            ],
            [
             0.3333333333333333,
             "#9c179e"
            ],
            [
             0.4444444444444444,
             "#bd3786"
            ],
            [
             0.5555555555555556,
             "#d8576b"
            ],
            [
             0.6666666666666666,
             "#ed7953"
            ],
            [
             0.7777777777777778,
             "#fb9f3a"
            ],
            [
             0.8888888888888888,
             "#fdca26"
            ],
            [
             1,
             "#f0f921"
            ]
           ]
          },
          "colorway": [
           "#636efa",
           "#EF553B",
           "#00cc96",
           "#ab63fa",
           "#FFA15A",
           "#19d3f3",
           "#FF6692",
           "#B6E880",
           "#FF97FF",
           "#FECB52"
          ],
          "font": {
           "color": "#2a3f5f"
          },
          "geo": {
           "bgcolor": "white",
           "lakecolor": "white",
           "landcolor": "#E5ECF6",
           "showlakes": true,
           "showland": true,
           "subunitcolor": "white"
          },
          "hoverlabel": {
           "align": "left"
          },
          "hovermode": "closest",
          "mapbox": {
           "style": "light"
          },
          "paper_bgcolor": "white",
          "plot_bgcolor": "#E5ECF6",
          "polar": {
           "angularaxis": {
            "gridcolor": "white",
            "linecolor": "white",
            "ticks": ""
           },
           "bgcolor": "#E5ECF6",
           "radialaxis": {
            "gridcolor": "white",
            "linecolor": "white",
            "ticks": ""
           }
          },
          "scene": {
           "xaxis": {
            "backgroundcolor": "#E5ECF6",
            "gridcolor": "white",
            "gridwidth": 2,
            "linecolor": "white",
            "showbackground": true,
            "ticks": "",
            "zerolinecolor": "white"
           },
           "yaxis": {
            "backgroundcolor": "#E5ECF6",
            "gridcolor": "white",
            "gridwidth": 2,
            "linecolor": "white",
            "showbackground": true,
            "ticks": "",
            "zerolinecolor": "white"
           },
           "zaxis": {
            "backgroundcolor": "#E5ECF6",
            "gridcolor": "white",
            "gridwidth": 2,
            "linecolor": "white",
            "showbackground": true,
            "ticks": "",
            "zerolinecolor": "white"
           }
          },
          "shapedefaults": {
           "line": {
            "color": "#2a3f5f"
           }
          },
          "ternary": {
           "aaxis": {
            "gridcolor": "white",
            "linecolor": "white",
            "ticks": ""
           },
           "baxis": {
            "gridcolor": "white",
            "linecolor": "white",
            "ticks": ""
           },
           "bgcolor": "#E5ECF6",
           "caxis": {
            "gridcolor": "white",
            "linecolor": "white",
            "ticks": ""
           }
          },
          "title": {
           "x": 0.05
          },
          "xaxis": {
           "automargin": true,
           "gridcolor": "white",
           "linecolor": "white",
           "ticks": "",
           "title": {
            "standoff": 15
           },
           "zerolinecolor": "white",
           "zerolinewidth": 2
          },
          "yaxis": {
           "automargin": true,
           "gridcolor": "white",
           "linecolor": "white",
           "ticks": "",
           "title": {
            "standoff": 15
           },
           "zerolinecolor": "white",
           "zerolinewidth": 2
          }
         }
        },
        "title": {
         "text": "Average reselling price by brands",
         "x": 0.5,
         "y": 0.96
        },
        "width": 1300,
        "xaxis": {
         "anchor": "y",
         "domain": [
          0,
          1
         ],
         "title": {
          "text": "Price"
         }
        },
        "yaxis": {
         "anchor": "x",
         "domain": [
          0,
          1
         ],
         "title": {
          "text": "Car"
         }
        }
       }
      }
     },
     "metadata": {},
     "output_type": "display_data"
    }
   ],
   "source": [
    "top_brand = data.groupby('manufacturer')['price'].mean().sort_values(ascending=False)\n",
    "color = ['lightslategray']*30\n",
    "color[1] = '#db4062'\n",
    "color[0] = 'crimson'\n",
    "\n",
    "fig = px.bar(\n",
    "    x=top_brand.values,       \n",
    "    y=top_brand.index,\n",
    "    orientation='h')\n",
    "fig.update_traces(marker_color=color)\n",
    "\n",
    "fig.update_layout(\n",
    "    yaxis_title=\"Car\",\n",
    "    xaxis_title=\"Price\",\n",
    "    showlegend = False,\n",
    "    height=900,\n",
    "    width=1300,\n",
    "    font = dict(size = 14),    \n",
    "    title={\n",
    "        'text': \"Average reselling price by brands\",\n",
    "        'y':0.96,\n",
    "        'x':0.5\n",
    "        }\n",
    "    )\n",
    "fig.show()"
   ]
  },
  {
   "cell_type": "code",
   "execution_count": 653,
   "id": "8623e28b-f0b5-4847-bb49-6d1f4926deb6",
   "metadata": {},
   "outputs": [
    {
     "data": {
      "application/vnd.plotly.v1+json": {
       "config": {
        "plotlyServerURL": "https://plot.ly"
       },
       "data": [
        {
         "hovertemplate": "x=%{x}<br>y=%{y}<br>text=%{text}<extra></extra>",
         "legendgroup": "",
         "marker": {
          "color": [
           "#ebe834",
           "#db4062",
           "lightslategray",
           "lightslategray",
           "lightslategray",
           "lightslategray",
           "lightslategray",
           "lightslategray",
           "lightslategray",
           "lightslategray",
           "lightslategray",
           "lightslategray",
           "lightslategray",
           "lightslategray",
           "lightslategray",
           "lightslategray",
           "lightslategray",
           "lightslategray",
           "lightslategray",
           "lightslategray",
           "lightslategray",
           "lightslategray",
           "lightslategray",
           "lightslategray",
           "lightslategray",
           "lightslategray",
           "lightslategray",
           "lightslategray",
           "lightslategray",
           "lightslategray"
          ],
          "pattern": {
           "shape": ""
          }
         },
         "name": "",
         "orientation": "h",
         "showlegend": false,
         "text": {
          "bdata": "zczMzMzMEEAAAAAAAAAQQDMzMzMzMw9AZmZmZmZmDkDNzMzMzMwMQM3MzMzMzAxAAAAAAAAADEAAAAAAAAAMQAAAAAAAAAxAAAAAAAAADEAzMzMzMzMLQDMzMzMzMwtAMzMzMzMzC0AzMzMzMzMLQDMzMzMzMwtAMzMzMzMzC0BmZmZmZmYKQGZmZmZmZgpAZmZmZmZmCkCamZmZmZkJQJqZmZmZmQlAmpmZmZmZCUCamZmZmZkJQM3MzMzMzAhAzczMzMzMCEAAAAAAAAAIQGZmZmZmZgZAZmZmZmZmBkBmZmZmZmYGQJqZmZmZmQVA",
          "dtype": "f8"
         },
         "textposition": "auto",
         "type": "bar",
         "x": {
          "bdata": "PROmIanvEEA5w1iTjywQQOp2AgjbUw9A9ZxPqeSMDkB2V2Xe1ikNQBp9d2PMCg1AU6GyyC04DEDC4qo5kAoMQJ2l1/L48QtApUO3BRPgC0B57AE0p0wLQKhtQClV9wpAbG9Hlc3zCkDL4IwknPIKQIrVdmsI7ApA/EE5/MzcCkBszAg7Q8wKQFoEt5b/bApAPbpjOqRMCkADX7iVov4JQBMjvHZzmAlABG5lBWBwCUDsAXx2wW8JQHi91UpqFwlA0QIaDnEJCUDCs1g3TtsHQDoKXXtVWAZAat+uBZotBkAMdfS/TxwGQAQh6wEywQVA",
          "dtype": "f8"
         },
         "xaxis": "x",
         "y": [
          "Mitsubishi",
          "Chrysler",
          "Dodge",
          "Nissan",
          "Volkswagen",
          "Hyundai",
          "Kia",
          "Buick",
          "Jaguar",
          "Mazda",
          "BMW",
          "Honda",
          "Ford",
          "INFINITI",
          "Chevrolet",
          "Acura",
          "Mercedes-Benz",
          "Land Rover",
          "Subaru",
          "Lincoln",
          "Tesla",
          "Toyota",
          "Audi",
          "Cadillac",
          "Jeep",
          "Lexus",
          "Volvo",
          "Porsche",
          "GMC",
          "RAM"
         ],
         "yaxis": "y"
        }
       ],
       "layout": {
        "barmode": "relative",
        "font": {
         "size": 14
        },
        "height": 900,
        "legend": {
         "tracegroupgap": 0
        },
        "margin": {
         "t": 60
        },
        "showlegend": false,
        "template": {
         "data": {
          "bar": [
           {
            "error_x": {
             "color": "#2a3f5f"
            },
            "error_y": {
             "color": "#2a3f5f"
            },
            "marker": {
             "line": {
              "color": "#E5ECF6",
              "width": 0.5
             },
             "pattern": {
              "fillmode": "overlay",
              "size": 10,
              "solidity": 0.2
             }
            },
            "type": "bar"
           }
          ],
          "barpolar": [
           {
            "marker": {
             "line": {
              "color": "#E5ECF6",
              "width": 0.5
             },
             "pattern": {
              "fillmode": "overlay",
              "size": 10,
              "solidity": 0.2
             }
            },
            "type": "barpolar"
           }
          ],
          "carpet": [
           {
            "aaxis": {
             "endlinecolor": "#2a3f5f",
             "gridcolor": "white",
             "linecolor": "white",
             "minorgridcolor": "white",
             "startlinecolor": "#2a3f5f"
            },
            "baxis": {
             "endlinecolor": "#2a3f5f",
             "gridcolor": "white",
             "linecolor": "white",
             "minorgridcolor": "white",
             "startlinecolor": "#2a3f5f"
            },
            "type": "carpet"
           }
          ],
          "choropleth": [
           {
            "colorbar": {
             "outlinewidth": 0,
             "ticks": ""
            },
            "type": "choropleth"
           }
          ],
          "contour": [
           {
            "colorbar": {
             "outlinewidth": 0,
             "ticks": ""
            },
            "colorscale": [
             [
              0,
              "#0d0887"
             ],
             [
              0.1111111111111111,
              "#46039f"
             ],
             [
              0.2222222222222222,
              "#7201a8"
             ],
             [
              0.3333333333333333,
              "#9c179e"
             ],
             [
              0.4444444444444444,
              "#bd3786"
             ],
             [
              0.5555555555555556,
              "#d8576b"
             ],
             [
              0.6666666666666666,
              "#ed7953"
             ],
             [
              0.7777777777777778,
              "#fb9f3a"
             ],
             [
              0.8888888888888888,
              "#fdca26"
             ],
             [
              1,
              "#f0f921"
             ]
            ],
            "type": "contour"
           }
          ],
          "contourcarpet": [
           {
            "colorbar": {
             "outlinewidth": 0,
             "ticks": ""
            },
            "type": "contourcarpet"
           }
          ],
          "heatmap": [
           {
            "colorbar": {
             "outlinewidth": 0,
             "ticks": ""
            },
            "colorscale": [
             [
              0,
              "#0d0887"
             ],
             [
              0.1111111111111111,
              "#46039f"
             ],
             [
              0.2222222222222222,
              "#7201a8"
             ],
             [
              0.3333333333333333,
              "#9c179e"
             ],
             [
              0.4444444444444444,
              "#bd3786"
             ],
             [
              0.5555555555555556,
              "#d8576b"
             ],
             [
              0.6666666666666666,
              "#ed7953"
             ],
             [
              0.7777777777777778,
              "#fb9f3a"
             ],
             [
              0.8888888888888888,
              "#fdca26"
             ],
             [
              1,
              "#f0f921"
             ]
            ],
            "type": "heatmap"
           }
          ],
          "histogram": [
           {
            "marker": {
             "pattern": {
              "fillmode": "overlay",
              "size": 10,
              "solidity": 0.2
             }
            },
            "type": "histogram"
           }
          ],
          "histogram2d": [
           {
            "colorbar": {
             "outlinewidth": 0,
             "ticks": ""
            },
            "colorscale": [
             [
              0,
              "#0d0887"
             ],
             [
              0.1111111111111111,
              "#46039f"
             ],
             [
              0.2222222222222222,
              "#7201a8"
             ],
             [
              0.3333333333333333,
              "#9c179e"
             ],
             [
              0.4444444444444444,
              "#bd3786"
             ],
             [
              0.5555555555555556,
              "#d8576b"
             ],
             [
              0.6666666666666666,
              "#ed7953"
             ],
             [
              0.7777777777777778,
              "#fb9f3a"
             ],
             [
              0.8888888888888888,
              "#fdca26"
             ],
             [
              1,
              "#f0f921"
             ]
            ],
            "type": "histogram2d"
           }
          ],
          "histogram2dcontour": [
           {
            "colorbar": {
             "outlinewidth": 0,
             "ticks": ""
            },
            "colorscale": [
             [
              0,
              "#0d0887"
             ],
             [
              0.1111111111111111,
              "#46039f"
             ],
             [
              0.2222222222222222,
              "#7201a8"
             ],
             [
              0.3333333333333333,
              "#9c179e"
             ],
             [
              0.4444444444444444,
              "#bd3786"
             ],
             [
              0.5555555555555556,
              "#d8576b"
             ],
             [
              0.6666666666666666,
              "#ed7953"
             ],
             [
              0.7777777777777778,
              "#fb9f3a"
             ],
             [
              0.8888888888888888,
              "#fdca26"
             ],
             [
              1,
              "#f0f921"
             ]
            ],
            "type": "histogram2dcontour"
           }
          ],
          "mesh3d": [
           {
            "colorbar": {
             "outlinewidth": 0,
             "ticks": ""
            },
            "type": "mesh3d"
           }
          ],
          "parcoords": [
           {
            "line": {
             "colorbar": {
              "outlinewidth": 0,
              "ticks": ""
             }
            },
            "type": "parcoords"
           }
          ],
          "pie": [
           {
            "automargin": true,
            "type": "pie"
           }
          ],
          "scatter": [
           {
            "fillpattern": {
             "fillmode": "overlay",
             "size": 10,
             "solidity": 0.2
            },
            "type": "scatter"
           }
          ],
          "scatter3d": [
           {
            "line": {
             "colorbar": {
              "outlinewidth": 0,
              "ticks": ""
             }
            },
            "marker": {
             "colorbar": {
              "outlinewidth": 0,
              "ticks": ""
             }
            },
            "type": "scatter3d"
           }
          ],
          "scattercarpet": [
           {
            "marker": {
             "colorbar": {
              "outlinewidth": 0,
              "ticks": ""
             }
            },
            "type": "scattercarpet"
           }
          ],
          "scattergeo": [
           {
            "marker": {
             "colorbar": {
              "outlinewidth": 0,
              "ticks": ""
             }
            },
            "type": "scattergeo"
           }
          ],
          "scattergl": [
           {
            "marker": {
             "colorbar": {
              "outlinewidth": 0,
              "ticks": ""
             }
            },
            "type": "scattergl"
           }
          ],
          "scattermap": [
           {
            "marker": {
             "colorbar": {
              "outlinewidth": 0,
              "ticks": ""
             }
            },
            "type": "scattermap"
           }
          ],
          "scattermapbox": [
           {
            "marker": {
             "colorbar": {
              "outlinewidth": 0,
              "ticks": ""
             }
            },
            "type": "scattermapbox"
           }
          ],
          "scatterpolar": [
           {
            "marker": {
             "colorbar": {
              "outlinewidth": 0,
              "ticks": ""
             }
            },
            "type": "scatterpolar"
           }
          ],
          "scatterpolargl": [
           {
            "marker": {
             "colorbar": {
              "outlinewidth": 0,
              "ticks": ""
             }
            },
            "type": "scatterpolargl"
           }
          ],
          "scatterternary": [
           {
            "marker": {
             "colorbar": {
              "outlinewidth": 0,
              "ticks": ""
             }
            },
            "type": "scatterternary"
           }
          ],
          "surface": [
           {
            "colorbar": {
             "outlinewidth": 0,
             "ticks": ""
            },
            "colorscale": [
             [
              0,
              "#0d0887"
             ],
             [
              0.1111111111111111,
              "#46039f"
             ],
             [
              0.2222222222222222,
              "#7201a8"
             ],
             [
              0.3333333333333333,
              "#9c179e"
             ],
             [
              0.4444444444444444,
              "#bd3786"
             ],
             [
              0.5555555555555556,
              "#d8576b"
             ],
             [
              0.6666666666666666,
              "#ed7953"
             ],
             [
              0.7777777777777778,
              "#fb9f3a"
             ],
             [
              0.8888888888888888,
              "#fdca26"
             ],
             [
              1,
              "#f0f921"
             ]
            ],
            "type": "surface"
           }
          ],
          "table": [
           {
            "cells": {
             "fill": {
              "color": "#EBF0F8"
             },
             "line": {
              "color": "white"
             }
            },
            "header": {
             "fill": {
              "color": "#C8D4E3"
             },
             "line": {
              "color": "white"
             }
            },
            "type": "table"
           }
          ]
         },
         "layout": {
          "annotationdefaults": {
           "arrowcolor": "#2a3f5f",
           "arrowhead": 0,
           "arrowwidth": 1
          },
          "autotypenumbers": "strict",
          "coloraxis": {
           "colorbar": {
            "outlinewidth": 0,
            "ticks": ""
           }
          },
          "colorscale": {
           "diverging": [
            [
             0,
             "#8e0152"
            ],
            [
             0.1,
             "#c51b7d"
            ],
            [
             0.2,
             "#de77ae"
            ],
            [
             0.3,
             "#f1b6da"
            ],
            [
             0.4,
             "#fde0ef"
            ],
            [
             0.5,
             "#f7f7f7"
            ],
            [
             0.6,
             "#e6f5d0"
            ],
            [
             0.7,
             "#b8e186"
            ],
            [
             0.8,
             "#7fbc41"
            ],
            [
             0.9,
             "#4d9221"
            ],
            [
             1,
             "#276419"
            ]
           ],
           "sequential": [
            [
             0,
             "#0d0887"
            ],
            [
             0.1111111111111111,
             "#46039f"
            ],
            [
             0.2222222222222222,
             "#7201a8"
            ],
            [
             0.3333333333333333,
             "#9c179e"
            ],
            [
             0.4444444444444444,
             "#bd3786"
            ],
            [
             0.5555555555555556,
             "#d8576b"
            ],
            [
             0.6666666666666666,
             "#ed7953"
            ],
            [
             0.7777777777777778,
             "#fb9f3a"
            ],
            [
             0.8888888888888888,
             "#fdca26"
            ],
            [
             1,
             "#f0f921"
            ]
           ],
           "sequentialminus": [
            [
             0,
             "#0d0887"
            ],
            [
             0.1111111111111111,
             "#46039f"
            ],
            [
             0.2222222222222222,
             "#7201a8"
            ],
            [
             0.3333333333333333,
             "#9c179e"
            ],
            [
             0.4444444444444444,
             "#bd3786"
            ],
            [
             0.5555555555555556,
             "#d8576b"
            ],
            [
             0.6666666666666666,
             "#ed7953"
            ],
            [
             0.7777777777777778,
             "#fb9f3a"
            ],
            [
             0.8888888888888888,
             "#fdca26"
            ],
            [
             1,
             "#f0f921"
            ]
           ]
          },
          "colorway": [
           "#636efa",
           "#EF553B",
           "#00cc96",
           "#ab63fa",
           "#FFA15A",
           "#19d3f3",
           "#FF6692",
           "#B6E880",
           "#FF97FF",
           "#FECB52"
          ],
          "font": {
           "color": "#2a3f5f"
          },
          "geo": {
           "bgcolor": "white",
           "lakecolor": "white",
           "landcolor": "#E5ECF6",
           "showlakes": true,
           "showland": true,
           "subunitcolor": "white"
          },
          "hoverlabel": {
           "align": "left"
          },
          "hovermode": "closest",
          "mapbox": {
           "style": "light"
          },
          "paper_bgcolor": "white",
          "plot_bgcolor": "#E5ECF6",
          "polar": {
           "angularaxis": {
            "gridcolor": "white",
            "linecolor": "white",
            "ticks": ""
           },
           "bgcolor": "#E5ECF6",
           "radialaxis": {
            "gridcolor": "white",
            "linecolor": "white",
            "ticks": ""
           }
          },
          "scene": {
           "xaxis": {
            "backgroundcolor": "#E5ECF6",
            "gridcolor": "white",
            "gridwidth": 2,
            "linecolor": "white",
            "showbackground": true,
            "ticks": "",
            "zerolinecolor": "white"
           },
           "yaxis": {
            "backgroundcolor": "#E5ECF6",
            "gridcolor": "white",
            "gridwidth": 2,
            "linecolor": "white",
            "showbackground": true,
            "ticks": "",
            "zerolinecolor": "white"
           },
           "zaxis": {
            "backgroundcolor": "#E5ECF6",
            "gridcolor": "white",
            "gridwidth": 2,
            "linecolor": "white",
            "showbackground": true,
            "ticks": "",
            "zerolinecolor": "white"
           }
          },
          "shapedefaults": {
           "line": {
            "color": "#2a3f5f"
           }
          },
          "ternary": {
           "aaxis": {
            "gridcolor": "white",
            "linecolor": "white",
            "ticks": ""
           },
           "baxis": {
            "gridcolor": "white",
            "linecolor": "white",
            "ticks": ""
           },
           "bgcolor": "#E5ECF6",
           "caxis": {
            "gridcolor": "white",
            "linecolor": "white",
            "ticks": ""
           }
          },
          "title": {
           "x": 0.05
          },
          "xaxis": {
           "automargin": true,
           "gridcolor": "white",
           "linecolor": "white",
           "ticks": "",
           "title": {
            "standoff": 15
           },
           "zerolinecolor": "white",
           "zerolinewidth": 2
          },
          "yaxis": {
           "automargin": true,
           "gridcolor": "white",
           "linecolor": "white",
           "ticks": "",
           "title": {
            "standoff": 15
           },
           "zerolinecolor": "white",
           "zerolinewidth": 2
          }
         }
        },
        "title": {
         "text": "Average % Price Drop by Top 30 Brands",
         "x": 0.5,
         "y": 0.96
        },
        "width": 1400,
        "xaxis": {
         "anchor": "y",
         "domain": [
          0,
          1
         ],
         "title": {
          "text": "Average % Price Drop"
         }
        },
        "yaxis": {
         "anchor": "x",
         "domain": [
          0,
          1
         ],
         "title": {
          "text": "Brand"
         }
        }
       }
      }
     },
     "metadata": {},
     "output_type": "display_data"
    }
   ],
   "source": [
    "data['price_drop_pct'] = (data['price_drop'] / (data['price'] + data['price_drop'])) * 100\n",
    "\n",
    "avg_price_drop_by_brand = data.groupby('manufacturer')['price_drop_pct'].mean().sort_values(ascending=False).head(30)\n",
    "\n",
    "color[0] = '#ebe834'\n",
    "\n",
    "fig = px.bar(\n",
    "    x=avg_price_drop_by_brand.values,\n",
    "    y=avg_price_drop_by_brand.index,\n",
    "    orientation='h',\n",
    "    text = avg_price_drop_by_brand.values.round(1)\n",
    ")\n",
    "fig.update_traces(marker_color=color)\n",
    "fig.update_layout(\n",
    "    yaxis_title=\"Brand\",\n",
    "    xaxis_title=\"Average % Price Drop\",\n",
    "    showlegend=False,\n",
    "    height=900,\n",
    "    width=1400,\n",
    "    font=dict(size=14),\n",
    "    title={\n",
    "        'text': \"Average % Price Drop by Top 30 Brands\",\n",
    "        'y': 0.96,\n",
    "        'x': 0.5\n",
    "    }\n",
    ")\n",
    "fig.show()"
   ]
  },
  {
   "cell_type": "code",
   "execution_count": null,
   "id": "d4517b8f-5752-483c-bef6-e110d13075b1",
   "metadata": {},
   "outputs": [],
   "source": []
  },
  {
   "cell_type": "code",
   "execution_count": 654,
   "id": "3b5de204-ed45-477f-ac13-ba60eeb8a525",
   "metadata": {},
   "outputs": [
    {
     "data": {
      "application/vnd.plotly.v1+json": {
       "config": {
        "plotlyServerURL": "https://plot.ly"
       },
       "data": [
        {
         "hovertemplate": "Year=%{x}<br>Number of Cars=%{y}<extra></extra>",
         "legendgroup": "",
         "line": {
          "color": "#636efa",
          "dash": "solid"
         },
         "marker": {
          "symbol": "circle"
         },
         "mode": "lines",
         "name": "",
         "orientation": "v",
         "showlegend": false,
         "type": "scatter",
         "x": {
          "bdata": "ewd9B38HgweFB4YHhweIB4kHigeLB4wHjweQB5EHkgeTB5QHlQeaB5sHnAedB54HnwegB6EHogejB6QHpQemB6cHqAepB6oHqwesB60HrgevB7AHsQeyB7MHtAe1B7YHtwe4B7kHuge7B7wHvQe+B78HwAfBB8IHwwfEB8UHxgfHB8gHyQfKB8sHzAfNB84HzwfQB9EH0gfTB9QH1QfWB9cH2AfZB9oH2wfcB90H3gffB+AH4QfiB+MH5AflB+YH5wfoBw==",
          "dtype": "i2"
         },
         "xaxis": "x",
         "y": {
          "bdata": "AgAAAAEAAAABAAAAAwAAAAEAAAAFAAAAAgAAAAgAAAAOAAAADAAAABAAAAAPAAAAAQAAAAEAAAAIAAAABAAAAAYAAAAMAAAADQAAAAUAAAAFAAAABgAAAAkAAAAMAAAABwAAAAYAAAASAAAAGgAAAD4AAAAvAAAASQAAAA0AAAAQAAAAEQAAAB4AAAArAAAAJAAAAD4AAABCAAAAawAAAG4AAABfAAAAnQAAAGsAAABaAAAAVQAAADAAAAArAAAAHwAAADcAAAArAAAARQAAAEkAAAAhAAAAJgAAACMAAAA7AAAARgAAAEkAAABlAAAAiAAAAJsAAAB8AAAAmAAAAKcAAACBAAAArwAAAOcAAAAXAQAA7gAAAFYBAABWAQAAMQIAAAYDAADvAwAAuwUAAOcGAACDCQAAQwsAAHcOAACFFAAAbRgAAPESAAA6HgAA4CwAAHg8AABRVQAADGoAAJWQAAATpQAAs8sAAL7zAAAplAEA9PgBAEydAQBgLwEAIkUAAAIAAAA=",
          "dtype": "i4"
         },
         "yaxis": "y"
        }
       ],
       "layout": {
        "font": {
         "size": 14
        },
        "height": 600,
        "legend": {
         "tracegroupgap": 0
        },
        "template": {
         "data": {
          "bar": [
           {
            "error_x": {
             "color": "#2a3f5f"
            },
            "error_y": {
             "color": "#2a3f5f"
            },
            "marker": {
             "line": {
              "color": "#E5ECF6",
              "width": 0.5
             },
             "pattern": {
              "fillmode": "overlay",
              "size": 10,
              "solidity": 0.2
             }
            },
            "type": "bar"
           }
          ],
          "barpolar": [
           {
            "marker": {
             "line": {
              "color": "#E5ECF6",
              "width": 0.5
             },
             "pattern": {
              "fillmode": "overlay",
              "size": 10,
              "solidity": 0.2
             }
            },
            "type": "barpolar"
           }
          ],
          "carpet": [
           {
            "aaxis": {
             "endlinecolor": "#2a3f5f",
             "gridcolor": "white",
             "linecolor": "white",
             "minorgridcolor": "white",
             "startlinecolor": "#2a3f5f"
            },
            "baxis": {
             "endlinecolor": "#2a3f5f",
             "gridcolor": "white",
             "linecolor": "white",
             "minorgridcolor": "white",
             "startlinecolor": "#2a3f5f"
            },
            "type": "carpet"
           }
          ],
          "choropleth": [
           {
            "colorbar": {
             "outlinewidth": 0,
             "ticks": ""
            },
            "type": "choropleth"
           }
          ],
          "contour": [
           {
            "colorbar": {
             "outlinewidth": 0,
             "ticks": ""
            },
            "colorscale": [
             [
              0,
              "#0d0887"
             ],
             [
              0.1111111111111111,
              "#46039f"
             ],
             [
              0.2222222222222222,
              "#7201a8"
             ],
             [
              0.3333333333333333,
              "#9c179e"
             ],
             [
              0.4444444444444444,
              "#bd3786"
             ],
             [
              0.5555555555555556,
              "#d8576b"
             ],
             [
              0.6666666666666666,
              "#ed7953"
             ],
             [
              0.7777777777777778,
              "#fb9f3a"
             ],
             [
              0.8888888888888888,
              "#fdca26"
             ],
             [
              1,
              "#f0f921"
             ]
            ],
            "type": "contour"
           }
          ],
          "contourcarpet": [
           {
            "colorbar": {
             "outlinewidth": 0,
             "ticks": ""
            },
            "type": "contourcarpet"
           }
          ],
          "heatmap": [
           {
            "colorbar": {
             "outlinewidth": 0,
             "ticks": ""
            },
            "colorscale": [
             [
              0,
              "#0d0887"
             ],
             [
              0.1111111111111111,
              "#46039f"
             ],
             [
              0.2222222222222222,
              "#7201a8"
             ],
             [
              0.3333333333333333,
              "#9c179e"
             ],
             [
              0.4444444444444444,
              "#bd3786"
             ],
             [
              0.5555555555555556,
              "#d8576b"
             ],
             [
              0.6666666666666666,
              "#ed7953"
             ],
             [
              0.7777777777777778,
              "#fb9f3a"
             ],
             [
              0.8888888888888888,
              "#fdca26"
             ],
             [
              1,
              "#f0f921"
             ]
            ],
            "type": "heatmap"
           }
          ],
          "histogram": [
           {
            "marker": {
             "pattern": {
              "fillmode": "overlay",
              "size": 10,
              "solidity": 0.2
             }
            },
            "type": "histogram"
           }
          ],
          "histogram2d": [
           {
            "colorbar": {
             "outlinewidth": 0,
             "ticks": ""
            },
            "colorscale": [
             [
              0,
              "#0d0887"
             ],
             [
              0.1111111111111111,
              "#46039f"
             ],
             [
              0.2222222222222222,
              "#7201a8"
             ],
             [
              0.3333333333333333,
              "#9c179e"
             ],
             [
              0.4444444444444444,
              "#bd3786"
             ],
             [
              0.5555555555555556,
              "#d8576b"
             ],
             [
              0.6666666666666666,
              "#ed7953"
             ],
             [
              0.7777777777777778,
              "#fb9f3a"
             ],
             [
              0.8888888888888888,
              "#fdca26"
             ],
             [
              1,
              "#f0f921"
             ]
            ],
            "type": "histogram2d"
           }
          ],
          "histogram2dcontour": [
           {
            "colorbar": {
             "outlinewidth": 0,
             "ticks": ""
            },
            "colorscale": [
             [
              0,
              "#0d0887"
             ],
             [
              0.1111111111111111,
              "#46039f"
             ],
             [
              0.2222222222222222,
              "#7201a8"
             ],
             [
              0.3333333333333333,
              "#9c179e"
             ],
             [
              0.4444444444444444,
              "#bd3786"
             ],
             [
              0.5555555555555556,
              "#d8576b"
             ],
             [
              0.6666666666666666,
              "#ed7953"
             ],
             [
              0.7777777777777778,
              "#fb9f3a"
             ],
             [
              0.8888888888888888,
              "#fdca26"
             ],
             [
              1,
              "#f0f921"
             ]
            ],
            "type": "histogram2dcontour"
           }
          ],
          "mesh3d": [
           {
            "colorbar": {
             "outlinewidth": 0,
             "ticks": ""
            },
            "type": "mesh3d"
           }
          ],
          "parcoords": [
           {
            "line": {
             "colorbar": {
              "outlinewidth": 0,
              "ticks": ""
             }
            },
            "type": "parcoords"
           }
          ],
          "pie": [
           {
            "automargin": true,
            "type": "pie"
           }
          ],
          "scatter": [
           {
            "fillpattern": {
             "fillmode": "overlay",
             "size": 10,
             "solidity": 0.2
            },
            "type": "scatter"
           }
          ],
          "scatter3d": [
           {
            "line": {
             "colorbar": {
              "outlinewidth": 0,
              "ticks": ""
             }
            },
            "marker": {
             "colorbar": {
              "outlinewidth": 0,
              "ticks": ""
             }
            },
            "type": "scatter3d"
           }
          ],
          "scattercarpet": [
           {
            "marker": {
             "colorbar": {
              "outlinewidth": 0,
              "ticks": ""
             }
            },
            "type": "scattercarpet"
           }
          ],
          "scattergeo": [
           {
            "marker": {
             "colorbar": {
              "outlinewidth": 0,
              "ticks": ""
             }
            },
            "type": "scattergeo"
           }
          ],
          "scattergl": [
           {
            "marker": {
             "colorbar": {
              "outlinewidth": 0,
              "ticks": ""
             }
            },
            "type": "scattergl"
           }
          ],
          "scattermap": [
           {
            "marker": {
             "colorbar": {
              "outlinewidth": 0,
              "ticks": ""
             }
            },
            "type": "scattermap"
           }
          ],
          "scattermapbox": [
           {
            "marker": {
             "colorbar": {
              "outlinewidth": 0,
              "ticks": ""
             }
            },
            "type": "scattermapbox"
           }
          ],
          "scatterpolar": [
           {
            "marker": {
             "colorbar": {
              "outlinewidth": 0,
              "ticks": ""
             }
            },
            "type": "scatterpolar"
           }
          ],
          "scatterpolargl": [
           {
            "marker": {
             "colorbar": {
              "outlinewidth": 0,
              "ticks": ""
             }
            },
            "type": "scatterpolargl"
           }
          ],
          "scatterternary": [
           {
            "marker": {
             "colorbar": {
              "outlinewidth": 0,
              "ticks": ""
             }
            },
            "type": "scatterternary"
           }
          ],
          "surface": [
           {
            "colorbar": {
             "outlinewidth": 0,
             "ticks": ""
            },
            "colorscale": [
             [
              0,
              "#0d0887"
             ],
             [
              0.1111111111111111,
              "#46039f"
             ],
             [
              0.2222222222222222,
              "#7201a8"
             ],
             [
              0.3333333333333333,
              "#9c179e"
             ],
             [
              0.4444444444444444,
              "#bd3786"
             ],
             [
              0.5555555555555556,
              "#d8576b"
             ],
             [
              0.6666666666666666,
              "#ed7953"
             ],
             [
              0.7777777777777778,
              "#fb9f3a"
             ],
             [
              0.8888888888888888,
              "#fdca26"
             ],
             [
              1,
              "#f0f921"
             ]
            ],
            "type": "surface"
           }
          ],
          "table": [
           {
            "cells": {
             "fill": {
              "color": "#EBF0F8"
             },
             "line": {
              "color": "white"
             }
            },
            "header": {
             "fill": {
              "color": "#C8D4E3"
             },
             "line": {
              "color": "white"
             }
            },
            "type": "table"
           }
          ]
         },
         "layout": {
          "annotationdefaults": {
           "arrowcolor": "#2a3f5f",
           "arrowhead": 0,
           "arrowwidth": 1
          },
          "autotypenumbers": "strict",
          "coloraxis": {
           "colorbar": {
            "outlinewidth": 0,
            "ticks": ""
           }
          },
          "colorscale": {
           "diverging": [
            [
             0,
             "#8e0152"
            ],
            [
             0.1,
             "#c51b7d"
            ],
            [
             0.2,
             "#de77ae"
            ],
            [
             0.3,
             "#f1b6da"
            ],
            [
             0.4,
             "#fde0ef"
            ],
            [
             0.5,
             "#f7f7f7"
            ],
            [
             0.6,
             "#e6f5d0"
            ],
            [
             0.7,
             "#b8e186"
            ],
            [
             0.8,
             "#7fbc41"
            ],
            [
             0.9,
             "#4d9221"
            ],
            [
             1,
             "#276419"
            ]
           ],
           "sequential": [
            [
             0,
             "#0d0887"
            ],
            [
             0.1111111111111111,
             "#46039f"
            ],
            [
             0.2222222222222222,
             "#7201a8"
            ],
            [
             0.3333333333333333,
             "#9c179e"
            ],
            [
             0.4444444444444444,
             "#bd3786"
            ],
            [
             0.5555555555555556,
             "#d8576b"
            ],
            [
             0.6666666666666666,
             "#ed7953"
            ],
            [
             0.7777777777777778,
             "#fb9f3a"
            ],
            [
             0.8888888888888888,
             "#fdca26"
            ],
            [
             1,
             "#f0f921"
            ]
           ],
           "sequentialminus": [
            [
             0,
             "#0d0887"
            ],
            [
             0.1111111111111111,
             "#46039f"
            ],
            [
             0.2222222222222222,
             "#7201a8"
            ],
            [
             0.3333333333333333,
             "#9c179e"
            ],
            [
             0.4444444444444444,
             "#bd3786"
            ],
            [
             0.5555555555555556,
             "#d8576b"
            ],
            [
             0.6666666666666666,
             "#ed7953"
            ],
            [
             0.7777777777777778,
             "#fb9f3a"
            ],
            [
             0.8888888888888888,
             "#fdca26"
            ],
            [
             1,
             "#f0f921"
            ]
           ]
          },
          "colorway": [
           "#636efa",
           "#EF553B",
           "#00cc96",
           "#ab63fa",
           "#FFA15A",
           "#19d3f3",
           "#FF6692",
           "#B6E880",
           "#FF97FF",
           "#FECB52"
          ],
          "font": {
           "color": "#2a3f5f"
          },
          "geo": {
           "bgcolor": "white",
           "lakecolor": "white",
           "landcolor": "#E5ECF6",
           "showlakes": true,
           "showland": true,
           "subunitcolor": "white"
          },
          "hoverlabel": {
           "align": "left"
          },
          "hovermode": "closest",
          "mapbox": {
           "style": "light"
          },
          "paper_bgcolor": "white",
          "plot_bgcolor": "#E5ECF6",
          "polar": {
           "angularaxis": {
            "gridcolor": "white",
            "linecolor": "white",
            "ticks": ""
           },
           "bgcolor": "#E5ECF6",
           "radialaxis": {
            "gridcolor": "white",
            "linecolor": "white",
            "ticks": ""
           }
          },
          "scene": {
           "xaxis": {
            "backgroundcolor": "#E5ECF6",
            "gridcolor": "white",
            "gridwidth": 2,
            "linecolor": "white",
            "showbackground": true,
            "ticks": "",
            "zerolinecolor": "white"
           },
           "yaxis": {
            "backgroundcolor": "#E5ECF6",
            "gridcolor": "white",
            "gridwidth": 2,
            "linecolor": "white",
            "showbackground": true,
            "ticks": "",
            "zerolinecolor": "white"
           },
           "zaxis": {
            "backgroundcolor": "#E5ECF6",
            "gridcolor": "white",
            "gridwidth": 2,
            "linecolor": "white",
            "showbackground": true,
            "ticks": "",
            "zerolinecolor": "white"
           }
          },
          "shapedefaults": {
           "line": {
            "color": "#2a3f5f"
           }
          },
          "ternary": {
           "aaxis": {
            "gridcolor": "white",
            "linecolor": "white",
            "ticks": ""
           },
           "baxis": {
            "gridcolor": "white",
            "linecolor": "white",
            "ticks": ""
           },
           "bgcolor": "#E5ECF6",
           "caxis": {
            "gridcolor": "white",
            "linecolor": "white",
            "ticks": ""
           }
          },
          "title": {
           "x": 0.05
          },
          "xaxis": {
           "automargin": true,
           "gridcolor": "white",
           "linecolor": "white",
           "ticks": "",
           "title": {
            "standoff": 15
           },
           "zerolinecolor": "white",
           "zerolinewidth": 2
          },
          "yaxis": {
           "automargin": true,
           "gridcolor": "white",
           "linecolor": "white",
           "ticks": "",
           "title": {
            "standoff": 15
           },
           "zerolinecolor": "white",
           "zerolinewidth": 2
          }
         }
        },
        "title": {
         "text": "Number of listed Cars by Model Year at 2023"
        },
        "width": 1200,
        "xaxis": {
         "anchor": "y",
         "domain": [
          0,
          1
         ],
         "title": {
          "text": "Year"
         }
        },
        "yaxis": {
         "anchor": "x",
         "domain": [
          0,
          1
         ],
         "title": {
          "text": "Number of Cars"
         }
        }
       }
      }
     },
     "metadata": {},
     "output_type": "display_data"
    }
   ],
   "source": [
    "cars_per_year = data['year'].value_counts().sort_index()\n",
    "\n",
    "import plotly.express as px\n",
    "\n",
    "fig = px.line(\n",
    "    x=cars_per_year.index,\n",
    "    y=cars_per_year.values,\n",
    "    labels={'x': 'Year', 'y': 'Number of Cars'},\n",
    "    title='Number of listed Cars by Model Year at 2023'\n",
    ")\n",
    "\n",
    "fig.update_layout(\n",
    "    height=600,\n",
    "    width=1200,\n",
    "    font=dict(size=14)\n",
    ")\n",
    "\n",
    "fig.show()\n"
   ]
  },
  {
   "cell_type": "code",
   "execution_count": 661,
   "id": "b6c5d901-83a4-42f3-a0d9-7e22056135d5",
   "metadata": {},
   "outputs": [
    {
     "data": {
      "application/vnd.plotly.v1+json": {
       "config": {
        "plotlyServerURL": "https://plot.ly"
       },
       "data": [
        {
         "hovertemplate": "x=%{x}<br>y=%{y}<br>text=%{text}<extra></extra>",
         "legendgroup": "",
         "marker": {
          "color": [
           "#80f0f0",
           "#f08080",
           "#f08080",
           "#f08080",
           "#f08080",
           "#f08080",
           "#f08080",
           "#f08080",
           "#f08080",
           "#f08080",
           "#f08080",
           "#f08080",
           "#f08080",
           "#f08080",
           "#f08080",
           "#f08080",
           "#f08080",
           "#f08080",
           "#f08080",
           "#f08080",
           "#f08080",
           "#f08080",
           "#f08080",
           "#f08080",
           "#f08080",
           "#f08080",
           "#f08080",
           "#f08080",
           "#f08080",
           "#f08080"
          ],
          "pattern": {
           "shape": ""
          }
         },
         "name": "",
         "orientation": "h",
         "showlegend": false,
         "text": {
          "bdata": "MzMzMzOzPEAzMzMzM7M8QDMzMzMzMzxAzczMzMzMO0CamZmZmZk7QJqZmZmZmTtAAAAAAACAO0AAAAAAAAA7QJqZmZmZmTpAzczMzMxMOUBmZmZmZuY4QM3MzMzMzDhAAAAAAACAOEAAAAAAAIA4QAAAAAAAgDhAZmZmZmZmOEDNzMzMzEw4QJqZmZmZGThAMzMzMzOzN0CamZmZmRk3QGZmZmZmZjZAAAAAAAAANkDNzMzMzMw1QM3MzMzMzDVAMzMzMzMzNUBmZmZmZuY0QM3MzMzMzDRAZmZmZmZmNEBmZmZmZmY0QAAAAAAAAPh/",
          "dtype": "f8"
         },
         "textposition": "auto",
         "type": "bar",
         "x": {
          "bdata": "ATvV+qmvPEAkXmMwY6w8QIueGgT5PjxAMtmZNjfMO0Be4iy3pJM7QLPGb9b4jTtAHqix+Hd2O0DKCFqX//M6QIxW8db6nzpAIy9H9KVAOUAbINydke84QFBgABkJzjhAnkXb0JGKOEC3v82PKIc4QHa+yAIwgzhA5qhqaYhyOEBVcR9DbFk4QCzcx2fkGjhAW1RAXuyuN0CHKhx2xiM3QLvtouaZbDZAiS/ZakEFNkD5yRtk49c1QJkDdvrmxzVAwFqhvmEpNUCt4zM0Y+00QLc6H3S4zjRA41Lb2cNpNEC6Qo87ymE0QAAAAAAAAPh/",
          "dtype": "f8"
         },
         "xaxis": "x",
         "y": [
          "Hyundai",
          "Honda",
          "Toyota",
          "Kia",
          "Subaru",
          "Mitsubishi",
          "Mazda",
          "Volkswagen",
          "Nissan",
          "Acura",
          "Buick",
          "BMW",
          "Lexus",
          "Volvo",
          "Audi",
          "Jaguar",
          "Chevrolet",
          "Ford",
          "Chrysler",
          "Mercedes-Benz",
          "Lincoln",
          "Jeep",
          "INFINITI",
          "Cadillac",
          "Dodge",
          "Porsche",
          "GMC",
          "Land Rover",
          "RAM",
          "Tesla"
         ],
         "yaxis": "y"
        }
       ],
       "layout": {
        "barmode": "relative",
        "font": {
         "size": 14
        },
        "height": 900,
        "legend": {
         "tracegroupgap": 0
        },
        "margin": {
         "t": 60
        },
        "showlegend": false,
        "template": {
         "data": {
          "bar": [
           {
            "error_x": {
             "color": "rgb(36,36,36)"
            },
            "error_y": {
             "color": "rgb(36,36,36)"
            },
            "marker": {
             "line": {
              "color": "white",
              "width": 0.5
             },
             "pattern": {
              "fillmode": "overlay",
              "size": 10,
              "solidity": 0.2
             }
            },
            "type": "bar"
           }
          ],
          "barpolar": [
           {
            "marker": {
             "line": {
              "color": "white",
              "width": 0.5
             },
             "pattern": {
              "fillmode": "overlay",
              "size": 10,
              "solidity": 0.2
             }
            },
            "type": "barpolar"
           }
          ],
          "carpet": [
           {
            "aaxis": {
             "endlinecolor": "rgb(36,36,36)",
             "gridcolor": "white",
             "linecolor": "white",
             "minorgridcolor": "white",
             "startlinecolor": "rgb(36,36,36)"
            },
            "baxis": {
             "endlinecolor": "rgb(36,36,36)",
             "gridcolor": "white",
             "linecolor": "white",
             "minorgridcolor": "white",
             "startlinecolor": "rgb(36,36,36)"
            },
            "type": "carpet"
           }
          ],
          "choropleth": [
           {
            "colorbar": {
             "outlinewidth": 1,
             "tickcolor": "rgb(36,36,36)",
             "ticks": "outside"
            },
            "type": "choropleth"
           }
          ],
          "contour": [
           {
            "colorbar": {
             "outlinewidth": 1,
             "tickcolor": "rgb(36,36,36)",
             "ticks": "outside"
            },
            "colorscale": [
             [
              0,
              "#440154"
             ],
             [
              0.1111111111111111,
              "#482878"
             ],
             [
              0.2222222222222222,
              "#3e4989"
             ],
             [
              0.3333333333333333,
              "#31688e"
             ],
             [
              0.4444444444444444,
              "#26828e"
             ],
             [
              0.5555555555555556,
              "#1f9e89"
             ],
             [
              0.6666666666666666,
              "#35b779"
             ],
             [
              0.7777777777777778,
              "#6ece58"
             ],
             [
              0.8888888888888888,
              "#b5de2b"
             ],
             [
              1,
              "#fde725"
             ]
            ],
            "type": "contour"
           }
          ],
          "contourcarpet": [
           {
            "colorbar": {
             "outlinewidth": 1,
             "tickcolor": "rgb(36,36,36)",
             "ticks": "outside"
            },
            "type": "contourcarpet"
           }
          ],
          "heatmap": [
           {
            "colorbar": {
             "outlinewidth": 1,
             "tickcolor": "rgb(36,36,36)",
             "ticks": "outside"
            },
            "colorscale": [
             [
              0,
              "#440154"
             ],
             [
              0.1111111111111111,
              "#482878"
             ],
             [
              0.2222222222222222,
              "#3e4989"
             ],
             [
              0.3333333333333333,
              "#31688e"
             ],
             [
              0.4444444444444444,
              "#26828e"
             ],
             [
              0.5555555555555556,
              "#1f9e89"
             ],
             [
              0.6666666666666666,
              "#35b779"
             ],
             [
              0.7777777777777778,
              "#6ece58"
             ],
             [
              0.8888888888888888,
              "#b5de2b"
             ],
             [
              1,
              "#fde725"
             ]
            ],
            "type": "heatmap"
           }
          ],
          "histogram": [
           {
            "marker": {
             "line": {
              "color": "white",
              "width": 0.6
             }
            },
            "type": "histogram"
           }
          ],
          "histogram2d": [
           {
            "colorbar": {
             "outlinewidth": 1,
             "tickcolor": "rgb(36,36,36)",
             "ticks": "outside"
            },
            "colorscale": [
             [
              0,
              "#440154"
             ],
             [
              0.1111111111111111,
              "#482878"
             ],
             [
              0.2222222222222222,
              "#3e4989"
             ],
             [
              0.3333333333333333,
              "#31688e"
             ],
             [
              0.4444444444444444,
              "#26828e"
             ],
             [
              0.5555555555555556,
              "#1f9e89"
             ],
             [
              0.6666666666666666,
              "#35b779"
             ],
             [
              0.7777777777777778,
              "#6ece58"
             ],
             [
              0.8888888888888888,
              "#b5de2b"
             ],
             [
              1,
              "#fde725"
             ]
            ],
            "type": "histogram2d"
           }
          ],
          "histogram2dcontour": [
           {
            "colorbar": {
             "outlinewidth": 1,
             "tickcolor": "rgb(36,36,36)",
             "ticks": "outside"
            },
            "colorscale": [
             [
              0,
              "#440154"
             ],
             [
              0.1111111111111111,
              "#482878"
             ],
             [
              0.2222222222222222,
              "#3e4989"
             ],
             [
              0.3333333333333333,
              "#31688e"
             ],
             [
              0.4444444444444444,
              "#26828e"
             ],
             [
              0.5555555555555556,
              "#1f9e89"
             ],
             [
              0.6666666666666666,
              "#35b779"
             ],
             [
              0.7777777777777778,
              "#6ece58"
             ],
             [
              0.8888888888888888,
              "#b5de2b"
             ],
             [
              1,
              "#fde725"
             ]
            ],
            "type": "histogram2dcontour"
           }
          ],
          "mesh3d": [
           {
            "colorbar": {
             "outlinewidth": 1,
             "tickcolor": "rgb(36,36,36)",
             "ticks": "outside"
            },
            "type": "mesh3d"
           }
          ],
          "parcoords": [
           {
            "line": {
             "colorbar": {
              "outlinewidth": 1,
              "tickcolor": "rgb(36,36,36)",
              "ticks": "outside"
             }
            },
            "type": "parcoords"
           }
          ],
          "pie": [
           {
            "automargin": true,
            "type": "pie"
           }
          ],
          "scatter": [
           {
            "fillpattern": {
             "fillmode": "overlay",
             "size": 10,
             "solidity": 0.2
            },
            "type": "scatter"
           }
          ],
          "scatter3d": [
           {
            "line": {
             "colorbar": {
              "outlinewidth": 1,
              "tickcolor": "rgb(36,36,36)",
              "ticks": "outside"
             }
            },
            "marker": {
             "colorbar": {
              "outlinewidth": 1,
              "tickcolor": "rgb(36,36,36)",
              "ticks": "outside"
             }
            },
            "type": "scatter3d"
           }
          ],
          "scattercarpet": [
           {
            "marker": {
             "colorbar": {
              "outlinewidth": 1,
              "tickcolor": "rgb(36,36,36)",
              "ticks": "outside"
             }
            },
            "type": "scattercarpet"
           }
          ],
          "scattergeo": [
           {
            "marker": {
             "colorbar": {
              "outlinewidth": 1,
              "tickcolor": "rgb(36,36,36)",
              "ticks": "outside"
             }
            },
            "type": "scattergeo"
           }
          ],
          "scattergl": [
           {
            "marker": {
             "colorbar": {
              "outlinewidth": 1,
              "tickcolor": "rgb(36,36,36)",
              "ticks": "outside"
             }
            },
            "type": "scattergl"
           }
          ],
          "scattermap": [
           {
            "marker": {
             "colorbar": {
              "outlinewidth": 1,
              "tickcolor": "rgb(36,36,36)",
              "ticks": "outside"
             }
            },
            "type": "scattermap"
           }
          ],
          "scattermapbox": [
           {
            "marker": {
             "colorbar": {
              "outlinewidth": 1,
              "tickcolor": "rgb(36,36,36)",
              "ticks": "outside"
             }
            },
            "type": "scattermapbox"
           }
          ],
          "scatterpolar": [
           {
            "marker": {
             "colorbar": {
              "outlinewidth": 1,
              "tickcolor": "rgb(36,36,36)",
              "ticks": "outside"
             }
            },
            "type": "scatterpolar"
           }
          ],
          "scatterpolargl": [
           {
            "marker": {
             "colorbar": {
              "outlinewidth": 1,
              "tickcolor": "rgb(36,36,36)",
              "ticks": "outside"
             }
            },
            "type": "scatterpolargl"
           }
          ],
          "scatterternary": [
           {
            "marker": {
             "colorbar": {
              "outlinewidth": 1,
              "tickcolor": "rgb(36,36,36)",
              "ticks": "outside"
             }
            },
            "type": "scatterternary"
           }
          ],
          "surface": [
           {
            "colorbar": {
             "outlinewidth": 1,
             "tickcolor": "rgb(36,36,36)",
             "ticks": "outside"
            },
            "colorscale": [
             [
              0,
              "#440154"
             ],
             [
              0.1111111111111111,
              "#482878"
             ],
             [
              0.2222222222222222,
              "#3e4989"
             ],
             [
              0.3333333333333333,
              "#31688e"
             ],
             [
              0.4444444444444444,
              "#26828e"
             ],
             [
              0.5555555555555556,
              "#1f9e89"
             ],
             [
              0.6666666666666666,
              "#35b779"
             ],
             [
              0.7777777777777778,
              "#6ece58"
             ],
             [
              0.8888888888888888,
              "#b5de2b"
             ],
             [
              1,
              "#fde725"
             ]
            ],
            "type": "surface"
           }
          ],
          "table": [
           {
            "cells": {
             "fill": {
              "color": "rgb(237,237,237)"
             },
             "line": {
              "color": "white"
             }
            },
            "header": {
             "fill": {
              "color": "rgb(217,217,217)"
             },
             "line": {
              "color": "white"
             }
            },
            "type": "table"
           }
          ]
         },
         "layout": {
          "annotationdefaults": {
           "arrowhead": 0,
           "arrowwidth": 1
          },
          "autotypenumbers": "strict",
          "coloraxis": {
           "colorbar": {
            "outlinewidth": 1,
            "tickcolor": "rgb(36,36,36)",
            "ticks": "outside"
           }
          },
          "colorscale": {
           "diverging": [
            [
             0,
             "rgb(103,0,31)"
            ],
            [
             0.1,
             "rgb(178,24,43)"
            ],
            [
             0.2,
             "rgb(214,96,77)"
            ],
            [
             0.3,
             "rgb(244,165,130)"
            ],
            [
             0.4,
             "rgb(253,219,199)"
            ],
            [
             0.5,
             "rgb(247,247,247)"
            ],
            [
             0.6,
             "rgb(209,229,240)"
            ],
            [
             0.7,
             "rgb(146,197,222)"
            ],
            [
             0.8,
             "rgb(67,147,195)"
            ],
            [
             0.9,
             "rgb(33,102,172)"
            ],
            [
             1,
             "rgb(5,48,97)"
            ]
           ],
           "sequential": [
            [
             0,
             "#440154"
            ],
            [
             0.1111111111111111,
             "#482878"
            ],
            [
             0.2222222222222222,
             "#3e4989"
            ],
            [
             0.3333333333333333,
             "#31688e"
            ],
            [
             0.4444444444444444,
             "#26828e"
            ],
            [
             0.5555555555555556,
             "#1f9e89"
            ],
            [
             0.6666666666666666,
             "#35b779"
            ],
            [
             0.7777777777777778,
             "#6ece58"
            ],
            [
             0.8888888888888888,
             "#b5de2b"
            ],
            [
             1,
             "#fde725"
            ]
           ],
           "sequentialminus": [
            [
             0,
             "#440154"
            ],
            [
             0.1111111111111111,
             "#482878"
            ],
            [
             0.2222222222222222,
             "#3e4989"
            ],
            [
             0.3333333333333333,
             "#31688e"
            ],
            [
             0.4444444444444444,
             "#26828e"
            ],
            [
             0.5555555555555556,
             "#1f9e89"
            ],
            [
             0.6666666666666666,
             "#35b779"
            ],
            [
             0.7777777777777778,
             "#6ece58"
            ],
            [
             0.8888888888888888,
             "#b5de2b"
            ],
            [
             1,
             "#fde725"
            ]
           ]
          },
          "colorway": [
           "#1F77B4",
           "#FF7F0E",
           "#2CA02C",
           "#D62728",
           "#9467BD",
           "#8C564B",
           "#E377C2",
           "#7F7F7F",
           "#BCBD22",
           "#17BECF"
          ],
          "font": {
           "color": "rgb(36,36,36)"
          },
          "geo": {
           "bgcolor": "white",
           "lakecolor": "white",
           "landcolor": "white",
           "showlakes": true,
           "showland": true,
           "subunitcolor": "white"
          },
          "hoverlabel": {
           "align": "left"
          },
          "hovermode": "closest",
          "mapbox": {
           "style": "light"
          },
          "paper_bgcolor": "white",
          "plot_bgcolor": "white",
          "polar": {
           "angularaxis": {
            "gridcolor": "rgb(232,232,232)",
            "linecolor": "rgb(36,36,36)",
            "showgrid": false,
            "showline": true,
            "ticks": "outside"
           },
           "bgcolor": "white",
           "radialaxis": {
            "gridcolor": "rgb(232,232,232)",
            "linecolor": "rgb(36,36,36)",
            "showgrid": false,
            "showline": true,
            "ticks": "outside"
           }
          },
          "scene": {
           "xaxis": {
            "backgroundcolor": "white",
            "gridcolor": "rgb(232,232,232)",
            "gridwidth": 2,
            "linecolor": "rgb(36,36,36)",
            "showbackground": true,
            "showgrid": false,
            "showline": true,
            "ticks": "outside",
            "zeroline": false,
            "zerolinecolor": "rgb(36,36,36)"
           },
           "yaxis": {
            "backgroundcolor": "white",
            "gridcolor": "rgb(232,232,232)",
            "gridwidth": 2,
            "linecolor": "rgb(36,36,36)",
            "showbackground": true,
            "showgrid": false,
            "showline": true,
            "ticks": "outside",
            "zeroline": false,
            "zerolinecolor": "rgb(36,36,36)"
           },
           "zaxis": {
            "backgroundcolor": "white",
            "gridcolor": "rgb(232,232,232)",
            "gridwidth": 2,
            "linecolor": "rgb(36,36,36)",
            "showbackground": true,
            "showgrid": false,
            "showline": true,
            "ticks": "outside",
            "zeroline": false,
            "zerolinecolor": "rgb(36,36,36)"
           }
          },
          "shapedefaults": {
           "fillcolor": "black",
           "line": {
            "width": 0
           },
           "opacity": 0.3
          },
          "ternary": {
           "aaxis": {
            "gridcolor": "rgb(232,232,232)",
            "linecolor": "rgb(36,36,36)",
            "showgrid": false,
            "showline": true,
            "ticks": "outside"
           },
           "baxis": {
            "gridcolor": "rgb(232,232,232)",
            "linecolor": "rgb(36,36,36)",
            "showgrid": false,
            "showline": true,
            "ticks": "outside"
           },
           "bgcolor": "white",
           "caxis": {
            "gridcolor": "rgb(232,232,232)",
            "linecolor": "rgb(36,36,36)",
            "showgrid": false,
            "showline": true,
            "ticks": "outside"
           }
          },
          "title": {
           "x": 0.05
          },
          "xaxis": {
           "automargin": true,
           "gridcolor": "rgb(232,232,232)",
           "linecolor": "rgb(36,36,36)",
           "showgrid": false,
           "showline": true,
           "ticks": "outside",
           "title": {
            "standoff": 15
           },
           "zeroline": false,
           "zerolinecolor": "rgb(36,36,36)"
          },
          "yaxis": {
           "automargin": true,
           "gridcolor": "rgb(232,232,232)",
           "linecolor": "rgb(36,36,36)",
           "showgrid": false,
           "showline": true,
           "ticks": "outside",
           "title": {
            "standoff": 15
           },
           "zeroline": false,
           "zerolinecolor": "rgb(36,36,36)"
          }
         }
        },
        "title": {
         "text": "Average % mpg by Top 30 Brands (MPG = Miles per Gallon)",
         "x": 0.5,
         "y": 0.98
        },
        "width": 1400,
        "xaxis": {
         "anchor": "y",
         "domain": [
          0,
          1
         ],
         "title": {
          "text": "Average % mpg"
         }
        },
        "yaxis": {
         "anchor": "x",
         "domain": [
          0,
          1
         ],
         "title": {
          "text": "Brand"
         }
        }
       }
      }
     },
     "metadata": {},
     "output_type": "display_data"
    }
   ],
   "source": [
    "\n",
    "mpg_of_brand = new_data.groupby('manufacturer')['mpg'].mean().sort_values(ascending=False).head(30)\n",
    "\n",
    "color = ['#f08080']*30\n",
    "color[0] = '#80f0f0'\n",
    "\n",
    "fig = px.bar(\n",
    "    x=mpg_of_brand.values,\n",
    "    y=mpg_of_brand.index,\n",
    "    orientation='h',\n",
    "    text = mpg_of_brand.values.round(1),\n",
    "    template=\"simple_white\"\n",
    ")\n",
    "\n",
    "fig.update_layout(\n",
    "    yaxis_title=\"Brand\",\n",
    "    xaxis_title=\"Average % mpg\",\n",
    "    showlegend=False,\n",
    "    height=900,\n",
    "    width=1400,\n",
    "    font=dict(size=14),\n",
    "    title={\n",
    "        'text': \"Average % mpg by Top 30 Brands (MPG = Miles per Gallon)\",\n",
    "        'y': 0.98,\n",
    "        'x': 0.5,\n",
    "    },\n",
    ")\n",
    "\n",
    "fig.update_traces(marker_color=color)   \n",
    "\n",
    "fig.show()"
   ]
  },
  {
   "cell_type": "code",
   "execution_count": null,
   "id": "1b659a4f-d12c-438c-a918-71c8c7b506b9",
   "metadata": {},
   "outputs": [],
   "source": []
  },
  {
   "cell_type": "code",
   "execution_count": null,
   "id": "fc288722-1717-4adc-88de-9ed3167ce459",
   "metadata": {},
   "outputs": [],
   "source": []
  },
  {
   "cell_type": "code",
   "execution_count": 665,
   "id": "3e072619-674b-49a7-8ccb-323d8b45184e",
   "metadata": {},
   "outputs": [
    {
     "data": {
      "application/vnd.plotly.v1+json": {
       "config": {
        "plotlyServerURL": "https://plot.ly"
       },
       "data": [
        {
         "name": "Top 20",
         "orientation": "h",
         "text": {
          "bdata": "AAAAAAAAHEAAAAAAAAAcQDMzMzMzMxtAZmZmZmZmGkAAAAAAAAAaQAAAAAAAABpAAAAAAAAAGkCamZmZmZkZQM3MzMzMzBhAzczMzMzMGEBmZmZmZmYYQGZmZmZmZhhAZmZmZmZmGEAAAAAAAAAYQAAAAAAAABhAAAAAAAAAGEAAAAAAAAAYQAAAAAAAABhAmpmZmZmZF0DNzMzMzMwWQA==",
          "dtype": "f8"
         },
         "type": "bar",
         "visible": true,
         "x": {
          "bdata": "7T3qdF7nG0Buq08Vw+MbQOTJUVGYShtAJl2pHDSQGkBN+xixHCQaQPqGGwllDhpAUCbyOQjVGUAluyUryW4ZQB6GZoIe7xhAILUb8kSsGEA4NzIezo0YQPMb0d/0YBhAwfawOqVYGECOUTN0JRsYQA//cvA5CxhAfam2A2UGGEBrT7jdDvAXQIugxXD/6hdAj7/O4Ci0F0Bsqc+/Y9EWQA==",
          "dtype": "f8"
         },
         "y": [
          "Dodge",
          "Lexus",
          "Jaguar",
          "Chrysler",
          "Porsche",
          "Acura",
          "Honda",
          "BMW",
          "Cadillac",
          "Chevrolet",
          "INFINITI",
          "Mercedes-Benz",
          "Buick",
          "Ford",
          "Toyota",
          "Mazda",
          "Lincoln",
          "Audi",
          "Volkswagen",
          "Subaru"
         ]
        },
        {
         "name": "Top 15",
         "orientation": "h",
         "text": {
          "bdata": "AAAAAAAAHEAAAAAAAAAcQDMzMzMzMxtAZmZmZmZmGkAAAAAAAAAaQAAAAAAAABpAAAAAAAAAGkCamZmZmZkZQM3MzMzMzBhAzczMzMzMGEBmZmZmZmYYQGZmZmZmZhhAZmZmZmZmGEAAAAAAAAAYQAAAAAAAABhA",
          "dtype": "f8"
         },
         "type": "bar",
         "visible": false,
         "x": {
          "bdata": "7T3qdF7nG0Buq08Vw+MbQOTJUVGYShtAJl2pHDSQGkBN+xixHCQaQPqGGwllDhpAUCbyOQjVGUAluyUryW4ZQB6GZoIe7xhAILUb8kSsGEA4NzIezo0YQPMb0d/0YBhAwfawOqVYGECOUTN0JRsYQA//cvA5CxhA",
          "dtype": "f8"
         },
         "y": [
          "Dodge",
          "Lexus",
          "Jaguar",
          "Chrysler",
          "Porsche",
          "Acura",
          "Honda",
          "BMW",
          "Cadillac",
          "Chevrolet",
          "INFINITI",
          "Mercedes-Benz",
          "Buick",
          "Ford",
          "Toyota"
         ]
        },
        {
         "name": "Top 10",
         "orientation": "h",
         "text": {
          "bdata": "AAAAAAAAHEAAAAAAAAAcQDMzMzMzMxtAZmZmZmZmGkAAAAAAAAAaQAAAAAAAABpAAAAAAAAAGkCamZmZmZkZQM3MzMzMzBhAzczMzMzMGEA=",
          "dtype": "f8"
         },
         "type": "bar",
         "visible": false,
         "x": {
          "bdata": "7T3qdF7nG0Buq08Vw+MbQOTJUVGYShtAJl2pHDSQGkBN+xixHCQaQPqGGwllDhpAUCbyOQjVGUAluyUryW4ZQB6GZoIe7xhAILUb8kSsGEA=",
          "dtype": "f8"
         },
         "y": [
          "Dodge",
          "Lexus",
          "Jaguar",
          "Chrysler",
          "Porsche",
          "Acura",
          "Honda",
          "BMW",
          "Cadillac",
          "Chevrolet"
         ]
        },
        {
         "name": "Top 30",
         "orientation": "h",
         "text": {
          "bdata": "AAAAAAAAHEAAAAAAAAAcQDMzMzMzMxtAZmZmZmZmGkAAAAAAAAAaQAAAAAAAABpAAAAAAAAAGkCamZmZmZkZQM3MzMzMzBhAzczMzMzMGEBmZmZmZmYYQGZmZmZmZhhAZmZmZmZmGEAAAAAAAAAYQAAAAAAAABhAAAAAAAAAGEAAAAAAAAAYQAAAAAAAABhAmpmZmZmZF0DNzMzMzMwWQGZmZmZmZhZAZmZmZmZmFkAAAAAAAAAWQAAAAAAAABZAAAAAAAAAFkAzMzMzMzMVQGZmZmZmZhRAZmZmZmZmFEAAAAAAAAAUQDMzMzMzMxNA",
          "dtype": "f8"
         },
         "type": "bar",
         "visible": false,
         "x": {
          "bdata": "7T3qdF7nG0Buq08Vw+MbQOTJUVGYShtAJl2pHDSQGkBN+xixHCQaQPqGGwllDhpAUCbyOQjVGUAluyUryW4ZQB6GZoIe7xhAILUb8kSsGEA4NzIezo0YQPMb0d/0YBhAwfawOqVYGECOUTN0JRsYQA//cvA5CxhAfam2A2UGGEBrT7jdDvAXQIugxXD/6hdAj7/O4Ci0F0Bsqc+/Y9EWQDNkcbsbkRZAekGojN10FkDXc4HPVjIWQMAUVn2xFxZAG+wqOhQKFkBiEQ6rkxAVQHXKZPnWYxRAJX4tPLxjFEBn6Fw6LeETQAzh2STLBRNA",
          "dtype": "f8"
         },
         "y": [
          "Dodge",
          "Lexus",
          "Jaguar",
          "Chrysler",
          "Porsche",
          "Acura",
          "Honda",
          "BMW",
          "Cadillac",
          "Chevrolet",
          "INFINITI",
          "Mercedes-Benz",
          "Buick",
          "Ford",
          "Toyota",
          "Mazda",
          "Lincoln",
          "Audi",
          "Volkswagen",
          "Subaru",
          "Jeep",
          "Nissan",
          "Land Rover",
          "GMC",
          "Hyundai",
          "Mitsubishi",
          "Volvo",
          "Kia",
          "Tesla",
          "RAM"
         ]
        }
       ],
       "layout": {
        "font": {
         "size": 14
        },
        "height": 900,
        "showlegend": false,
        "template": {
         "data": {
          "bar": [
           {
            "error_x": {
             "color": "#2a3f5f"
            },
            "error_y": {
             "color": "#2a3f5f"
            },
            "marker": {
             "line": {
              "color": "#E5ECF6",
              "width": 0.5
             },
             "pattern": {
              "fillmode": "overlay",
              "size": 10,
              "solidity": 0.2
             }
            },
            "type": "bar"
           }
          ],
          "barpolar": [
           {
            "marker": {
             "line": {
              "color": "#E5ECF6",
              "width": 0.5
             },
             "pattern": {
              "fillmode": "overlay",
              "size": 10,
              "solidity": 0.2
             }
            },
            "type": "barpolar"
           }
          ],
          "carpet": [
           {
            "aaxis": {
             "endlinecolor": "#2a3f5f",
             "gridcolor": "white",
             "linecolor": "white",
             "minorgridcolor": "white",
             "startlinecolor": "#2a3f5f"
            },
            "baxis": {
             "endlinecolor": "#2a3f5f",
             "gridcolor": "white",
             "linecolor": "white",
             "minorgridcolor": "white",
             "startlinecolor": "#2a3f5f"
            },
            "type": "carpet"
           }
          ],
          "choropleth": [
           {
            "colorbar": {
             "outlinewidth": 0,
             "ticks": ""
            },
            "type": "choropleth"
           }
          ],
          "contour": [
           {
            "colorbar": {
             "outlinewidth": 0,
             "ticks": ""
            },
            "colorscale": [
             [
              0,
              "#0d0887"
             ],
             [
              0.1111111111111111,
              "#46039f"
             ],
             [
              0.2222222222222222,
              "#7201a8"
             ],
             [
              0.3333333333333333,
              "#9c179e"
             ],
             [
              0.4444444444444444,
              "#bd3786"
             ],
             [
              0.5555555555555556,
              "#d8576b"
             ],
             [
              0.6666666666666666,
              "#ed7953"
             ],
             [
              0.7777777777777778,
              "#fb9f3a"
             ],
             [
              0.8888888888888888,
              "#fdca26"
             ],
             [
              1,
              "#f0f921"
             ]
            ],
            "type": "contour"
           }
          ],
          "contourcarpet": [
           {
            "colorbar": {
             "outlinewidth": 0,
             "ticks": ""
            },
            "type": "contourcarpet"
           }
          ],
          "heatmap": [
           {
            "colorbar": {
             "outlinewidth": 0,
             "ticks": ""
            },
            "colorscale": [
             [
              0,
              "#0d0887"
             ],
             [
              0.1111111111111111,
              "#46039f"
             ],
             [
              0.2222222222222222,
              "#7201a8"
             ],
             [
              0.3333333333333333,
              "#9c179e"
             ],
             [
              0.4444444444444444,
              "#bd3786"
             ],
             [
              0.5555555555555556,
              "#d8576b"
             ],
             [
              0.6666666666666666,
              "#ed7953"
             ],
             [
              0.7777777777777778,
              "#fb9f3a"
             ],
             [
              0.8888888888888888,
              "#fdca26"
             ],
             [
              1,
              "#f0f921"
             ]
            ],
            "type": "heatmap"
           }
          ],
          "histogram": [
           {
            "marker": {
             "pattern": {
              "fillmode": "overlay",
              "size": 10,
              "solidity": 0.2
             }
            },
            "type": "histogram"
           }
          ],
          "histogram2d": [
           {
            "colorbar": {
             "outlinewidth": 0,
             "ticks": ""
            },
            "colorscale": [
             [
              0,
              "#0d0887"
             ],
             [
              0.1111111111111111,
              "#46039f"
             ],
             [
              0.2222222222222222,
              "#7201a8"
             ],
             [
              0.3333333333333333,
              "#9c179e"
             ],
             [
              0.4444444444444444,
              "#bd3786"
             ],
             [
              0.5555555555555556,
              "#d8576b"
             ],
             [
              0.6666666666666666,
              "#ed7953"
             ],
             [
              0.7777777777777778,
              "#fb9f3a"
             ],
             [
              0.8888888888888888,
              "#fdca26"
             ],
             [
              1,
              "#f0f921"
             ]
            ],
            "type": "histogram2d"
           }
          ],
          "histogram2dcontour": [
           {
            "colorbar": {
             "outlinewidth": 0,
             "ticks": ""
            },
            "colorscale": [
             [
              0,
              "#0d0887"
             ],
             [
              0.1111111111111111,
              "#46039f"
             ],
             [
              0.2222222222222222,
              "#7201a8"
             ],
             [
              0.3333333333333333,
              "#9c179e"
             ],
             [
              0.4444444444444444,
              "#bd3786"
             ],
             [
              0.5555555555555556,
              "#d8576b"
             ],
             [
              0.6666666666666666,
              "#ed7953"
             ],
             [
              0.7777777777777778,
              "#fb9f3a"
             ],
             [
              0.8888888888888888,
              "#fdca26"
             ],
             [
              1,
              "#f0f921"
             ]
            ],
            "type": "histogram2dcontour"
           }
          ],
          "mesh3d": [
           {
            "colorbar": {
             "outlinewidth": 0,
             "ticks": ""
            },
            "type": "mesh3d"
           }
          ],
          "parcoords": [
           {
            "line": {
             "colorbar": {
              "outlinewidth": 0,
              "ticks": ""
             }
            },
            "type": "parcoords"
           }
          ],
          "pie": [
           {
            "automargin": true,
            "type": "pie"
           }
          ],
          "scatter": [
           {
            "fillpattern": {
             "fillmode": "overlay",
             "size": 10,
             "solidity": 0.2
            },
            "type": "scatter"
           }
          ],
          "scatter3d": [
           {
            "line": {
             "colorbar": {
              "outlinewidth": 0,
              "ticks": ""
             }
            },
            "marker": {
             "colorbar": {
              "outlinewidth": 0,
              "ticks": ""
             }
            },
            "type": "scatter3d"
           }
          ],
          "scattercarpet": [
           {
            "marker": {
             "colorbar": {
              "outlinewidth": 0,
              "ticks": ""
             }
            },
            "type": "scattercarpet"
           }
          ],
          "scattergeo": [
           {
            "marker": {
             "colorbar": {
              "outlinewidth": 0,
              "ticks": ""
             }
            },
            "type": "scattergeo"
           }
          ],
          "scattergl": [
           {
            "marker": {
             "colorbar": {
              "outlinewidth": 0,
              "ticks": ""
             }
            },
            "type": "scattergl"
           }
          ],
          "scattermap": [
           {
            "marker": {
             "colorbar": {
              "outlinewidth": 0,
              "ticks": ""
             }
            },
            "type": "scattermap"
           }
          ],
          "scattermapbox": [
           {
            "marker": {
             "colorbar": {
              "outlinewidth": 0,
              "ticks": ""
             }
            },
            "type": "scattermapbox"
           }
          ],
          "scatterpolar": [
           {
            "marker": {
             "colorbar": {
              "outlinewidth": 0,
              "ticks": ""
             }
            },
            "type": "scatterpolar"
           }
          ],
          "scatterpolargl": [
           {
            "marker": {
             "colorbar": {
              "outlinewidth": 0,
              "ticks": ""
             }
            },
            "type": "scatterpolargl"
           }
          ],
          "scatterternary": [
           {
            "marker": {
             "colorbar": {
              "outlinewidth": 0,
              "ticks": ""
             }
            },
            "type": "scatterternary"
           }
          ],
          "surface": [
           {
            "colorbar": {
             "outlinewidth": 0,
             "ticks": ""
            },
            "colorscale": [
             [
              0,
              "#0d0887"
             ],
             [
              0.1111111111111111,
              "#46039f"
             ],
             [
              0.2222222222222222,
              "#7201a8"
             ],
             [
              0.3333333333333333,
              "#9c179e"
             ],
             [
              0.4444444444444444,
              "#bd3786"
             ],
             [
              0.5555555555555556,
              "#d8576b"
             ],
             [
              0.6666666666666666,
              "#ed7953"
             ],
             [
              0.7777777777777778,
              "#fb9f3a"
             ],
             [
              0.8888888888888888,
              "#fdca26"
             ],
             [
              1,
              "#f0f921"
             ]
            ],
            "type": "surface"
           }
          ],
          "table": [
           {
            "cells": {
             "fill": {
              "color": "#EBF0F8"
             },
             "line": {
              "color": "white"
             }
            },
            "header": {
             "fill": {
              "color": "#C8D4E3"
             },
             "line": {
              "color": "white"
             }
            },
            "type": "table"
           }
          ]
         },
         "layout": {
          "annotationdefaults": {
           "arrowcolor": "#2a3f5f",
           "arrowhead": 0,
           "arrowwidth": 1
          },
          "autotypenumbers": "strict",
          "coloraxis": {
           "colorbar": {
            "outlinewidth": 0,
            "ticks": ""
           }
          },
          "colorscale": {
           "diverging": [
            [
             0,
             "#8e0152"
            ],
            [
             0.1,
             "#c51b7d"
            ],
            [
             0.2,
             "#de77ae"
            ],
            [
             0.3,
             "#f1b6da"
            ],
            [
             0.4,
             "#fde0ef"
            ],
            [
             0.5,
             "#f7f7f7"
            ],
            [
             0.6,
             "#e6f5d0"
            ],
            [
             0.7,
             "#b8e186"
            ],
            [
             0.8,
             "#7fbc41"
            ],
            [
             0.9,
             "#4d9221"
            ],
            [
             1,
             "#276419"
            ]
           ],
           "sequential": [
            [
             0,
             "#0d0887"
            ],
            [
             0.1111111111111111,
             "#46039f"
            ],
            [
             0.2222222222222222,
             "#7201a8"
            ],
            [
             0.3333333333333333,
             "#9c179e"
            ],
            [
             0.4444444444444444,
             "#bd3786"
            ],
            [
             0.5555555555555556,
             "#d8576b"
            ],
            [
             0.6666666666666666,
             "#ed7953"
            ],
            [
             0.7777777777777778,
             "#fb9f3a"
            ],
            [
             0.8888888888888888,
             "#fdca26"
            ],
            [
             1,
             "#f0f921"
            ]
           ],
           "sequentialminus": [
            [
             0,
             "#0d0887"
            ],
            [
             0.1111111111111111,
             "#46039f"
            ],
            [
             0.2222222222222222,
             "#7201a8"
            ],
            [
             0.3333333333333333,
             "#9c179e"
            ],
            [
             0.4444444444444444,
             "#bd3786"
            ],
            [
             0.5555555555555556,
             "#d8576b"
            ],
            [
             0.6666666666666666,
             "#ed7953"
            ],
            [
             0.7777777777777778,
             "#fb9f3a"
            ],
            [
             0.8888888888888888,
             "#fdca26"
            ],
            [
             1,
             "#f0f921"
            ]
           ]
          },
          "colorway": [
           "#636efa",
           "#EF553B",
           "#00cc96",
           "#ab63fa",
           "#FFA15A",
           "#19d3f3",
           "#FF6692",
           "#B6E880",
           "#FF97FF",
           "#FECB52"
          ],
          "font": {
           "color": "#2a3f5f"
          },
          "geo": {
           "bgcolor": "white",
           "lakecolor": "white",
           "landcolor": "#E5ECF6",
           "showlakes": true,
           "showland": true,
           "subunitcolor": "white"
          },
          "hoverlabel": {
           "align": "left"
          },
          "hovermode": "closest",
          "mapbox": {
           "style": "light"
          },
          "paper_bgcolor": "white",
          "plot_bgcolor": "#E5ECF6",
          "polar": {
           "angularaxis": {
            "gridcolor": "white",
            "linecolor": "white",
            "ticks": ""
           },
           "bgcolor": "#E5ECF6",
           "radialaxis": {
            "gridcolor": "white",
            "linecolor": "white",
            "ticks": ""
           }
          },
          "scene": {
           "xaxis": {
            "backgroundcolor": "#E5ECF6",
            "gridcolor": "white",
            "gridwidth": 2,
            "linecolor": "white",
            "showbackground": true,
            "ticks": "",
            "zerolinecolor": "white"
           },
           "yaxis": {
            "backgroundcolor": "#E5ECF6",
            "gridcolor": "white",
            "gridwidth": 2,
            "linecolor": "white",
            "showbackground": true,
            "ticks": "",
            "zerolinecolor": "white"
           },
           "zaxis": {
            "backgroundcolor": "#E5ECF6",
            "gridcolor": "white",
            "gridwidth": 2,
            "linecolor": "white",
            "showbackground": true,
            "ticks": "",
            "zerolinecolor": "white"
           }
          },
          "shapedefaults": {
           "line": {
            "color": "#2a3f5f"
           }
          },
          "ternary": {
           "aaxis": {
            "gridcolor": "white",
            "linecolor": "white",
            "ticks": ""
           },
           "baxis": {
            "gridcolor": "white",
            "linecolor": "white",
            "ticks": ""
           },
           "bgcolor": "#E5ECF6",
           "caxis": {
            "gridcolor": "white",
            "linecolor": "white",
            "ticks": ""
           }
          },
          "title": {
           "x": 0.05
          },
          "xaxis": {
           "automargin": true,
           "gridcolor": "white",
           "linecolor": "white",
           "ticks": "",
           "title": {
            "standoff": 15
           },
           "zerolinecolor": "white",
           "zerolinewidth": 2
          },
          "yaxis": {
           "automargin": true,
           "gridcolor": "white",
           "linecolor": "white",
           "ticks": "",
           "title": {
            "standoff": 15
           },
           "zerolinecolor": "white",
           "zerolinewidth": 2
          }
         }
        },
        "title": {
         "text": "Average Age of Cars by Brand",
         "x": 0.4,
         "y": 0.98
        },
        "updatemenus": [
         {
          "buttons": [
           {
            "args": [
             {
              "visible": [
               true,
               false,
               false,
               false
              ]
             },
             {
              "title": "Average Age of Cars (Top 20 Brands)"
             }
            ],
            "label": "Top 20",
            "method": "update"
           },
           {
            "args": [
             {
              "visible": [
               false,
               true,
               false,
               false
              ]
             },
             {
              "title": "Average Age of Cars (Top 15 Brands)"
             }
            ],
            "label": "Top 15",
            "method": "update"
           },
           {
            "args": [
             {
              "visible": [
               false,
               false,
               true,
               false
              ]
             },
             {
              "title": "Average Age of Cars (Top 10 Brands)"
             }
            ],
            "label": "Top 10",
            "method": "update"
           },
           {
            "args": [
             {
              "visible": [
               false,
               false,
               false,
               true
              ]
             },
             {
              "title": "Average Age of Cars (Top 30 Brands)"
             }
            ],
            "label": "Top 30",
            "method": "update"
           }
          ],
          "direction": "down",
          "showactive": true,
          "type": "dropdown",
          "x": 0.1,
          "y": 1.15
         }
        ],
        "width": 1200,
        "xaxis": {
         "title": {
          "text": "Average Age (Years)"
         }
        },
        "yaxis": {
         "title": {
          "text": "Brand"
         }
        }
       }
      }
     },
     "metadata": {},
     "output_type": "display_data"
    }
   ],
   "source": [
    "data['age'] = 2024 - data['year']\n",
    "\n",
    "data_2000 = data[data['year'] > 2000]\n",
    "\n",
    "avg_age_by_brand = data_2000.groupby('manufacturer')['age'].mean().sort_values(ascending=False)\n",
    "\n",
    "top_options = [20, 15, 10, 30]\n",
    "traces = []\n",
    "\n",
    "for top_n in top_options:\n",
    "    subset = avg_age_by_brand.head(top_n)\n",
    "    trace = go.Bar(\n",
    "        x=subset.values,\n",
    "        y=subset.index,\n",
    "        orientation='h',\n",
    "        name=f'Top {top_n}',\n",
    "        text=subset.values.round(1),\n",
    "        # textposition='auto',\n",
    "        visible=(top_n == 20)  \n",
    "    )\n",
    "    traces.append(trace)\n",
    "\n",
    "buttons = [\n",
    "    dict(label=f'Top {n}',\n",
    "         method='update',\n",
    "         args=[{'visible': [i == idx for i in range(len(top_options))]},\n",
    "               {'title': f'Average Age of Cars (Top {n} Brands)'}])\n",
    "    for idx, n in enumerate(top_options)\n",
    "]\n",
    "\n",
    "fig = go.Figure(data=traces)\n",
    "\n",
    "fig.update_layout(\n",
    "    updatemenus=[dict(\n",
    "        type=\"dropdown\",\n",
    "        direction=\"down\",\n",
    "        buttons=buttons,\n",
    "        y=1.15,\n",
    "        x=0.1,\n",
    "        showactive=True\n",
    "    )],\n",
    "    yaxis_title=\"Brand\",\n",
    "    xaxis_title=\"Average Age (Years)\",\n",
    "    showlegend=False,\n",
    "    height=900,\n",
    "    width=1200,\n",
    "    font=dict(size=14),\n",
    "    title={\n",
    "        'text': \"Average Age of Cars by Brand\",\n",
    "        'y': 0.98,\n",
    "        'x': 0.4\n",
    "    }\n",
    ")\n",
    "fig.show()"
   ]
  },
  {
   "cell_type": "code",
   "execution_count": 669,
   "id": "496b6d08",
   "metadata": {},
   "outputs": [
    {
     "data": {
      "text/plain": [
       "one_owner\n",
       " 1.0    0.535544\n",
       " 0.0    0.424500\n",
       "-1.0    0.039956\n",
       "Name: proportion, dtype: float64"
      ]
     },
     "execution_count": 669,
     "metadata": {},
     "output_type": "execute_result"
    }
   ],
   "source": [
    "one_owner_ratio = data['one_owner'].value_counts(normalize=True)\n",
    "one_owner_ratio"
   ]
  },
  {
   "cell_type": "code",
   "execution_count": 672,
   "id": "c7fc309a-bf8c-4e32-8ce7-9c0e9cf0c43d",
   "metadata": {},
   "outputs": [
    {
     "data": {
      "application/vnd.plotly.v1+json": {
       "config": {
        "plotlyServerURL": "https://plot.ly"
       },
       "data": [
        {
         "domain": {
          "x": [
           0,
           1
          ],
          "y": [
           0,
           1
          ]
         },
         "hole": 0.4,
         "hovertemplate": "label=%{label}<br>value=%{value}<extra></extra>",
         "labels": [
          "One Owner",
          "Not One Owner",
          "Unknown"
         ],
         "legendgroup": "",
         "name": "",
         "showlegend": true,
         "textinfo": "percent+label",
         "type": "pie",
         "values": {
          "bdata": "Sn/pQSwj4T94fI2VAivbP5wn/DQndaQ/",
          "dtype": "f8"
         }
        }
       ],
       "layout": {
        "height": 500,
        "legend": {
         "tracegroupgap": 0
        },
        "template": {
         "data": {
          "bar": [
           {
            "error_x": {
             "color": "#2a3f5f"
            },
            "error_y": {
             "color": "#2a3f5f"
            },
            "marker": {
             "line": {
              "color": "#E5ECF6",
              "width": 0.5
             },
             "pattern": {
              "fillmode": "overlay",
              "size": 10,
              "solidity": 0.2
             }
            },
            "type": "bar"
           }
          ],
          "barpolar": [
           {
            "marker": {
             "line": {
              "color": "#E5ECF6",
              "width": 0.5
             },
             "pattern": {
              "fillmode": "overlay",
              "size": 10,
              "solidity": 0.2
             }
            },
            "type": "barpolar"
           }
          ],
          "carpet": [
           {
            "aaxis": {
             "endlinecolor": "#2a3f5f",
             "gridcolor": "white",
             "linecolor": "white",
             "minorgridcolor": "white",
             "startlinecolor": "#2a3f5f"
            },
            "baxis": {
             "endlinecolor": "#2a3f5f",
             "gridcolor": "white",
             "linecolor": "white",
             "minorgridcolor": "white",
             "startlinecolor": "#2a3f5f"
            },
            "type": "carpet"
           }
          ],
          "choropleth": [
           {
            "colorbar": {
             "outlinewidth": 0,
             "ticks": ""
            },
            "type": "choropleth"
           }
          ],
          "contour": [
           {
            "colorbar": {
             "outlinewidth": 0,
             "ticks": ""
            },
            "colorscale": [
             [
              0,
              "#0d0887"
             ],
             [
              0.1111111111111111,
              "#46039f"
             ],
             [
              0.2222222222222222,
              "#7201a8"
             ],
             [
              0.3333333333333333,
              "#9c179e"
             ],
             [
              0.4444444444444444,
              "#bd3786"
             ],
             [
              0.5555555555555556,
              "#d8576b"
             ],
             [
              0.6666666666666666,
              "#ed7953"
             ],
             [
              0.7777777777777778,
              "#fb9f3a"
             ],
             [
              0.8888888888888888,
              "#fdca26"
             ],
             [
              1,
              "#f0f921"
             ]
            ],
            "type": "contour"
           }
          ],
          "contourcarpet": [
           {
            "colorbar": {
             "outlinewidth": 0,
             "ticks": ""
            },
            "type": "contourcarpet"
           }
          ],
          "heatmap": [
           {
            "colorbar": {
             "outlinewidth": 0,
             "ticks": ""
            },
            "colorscale": [
             [
              0,
              "#0d0887"
             ],
             [
              0.1111111111111111,
              "#46039f"
             ],
             [
              0.2222222222222222,
              "#7201a8"
             ],
             [
              0.3333333333333333,
              "#9c179e"
             ],
             [
              0.4444444444444444,
              "#bd3786"
             ],
             [
              0.5555555555555556,
              "#d8576b"
             ],
             [
              0.6666666666666666,
              "#ed7953"
             ],
             [
              0.7777777777777778,
              "#fb9f3a"
             ],
             [
              0.8888888888888888,
              "#fdca26"
             ],
             [
              1,
              "#f0f921"
             ]
            ],
            "type": "heatmap"
           }
          ],
          "histogram": [
           {
            "marker": {
             "pattern": {
              "fillmode": "overlay",
              "size": 10,
              "solidity": 0.2
             }
            },
            "type": "histogram"
           }
          ],
          "histogram2d": [
           {
            "colorbar": {
             "outlinewidth": 0,
             "ticks": ""
            },
            "colorscale": [
             [
              0,
              "#0d0887"
             ],
             [
              0.1111111111111111,
              "#46039f"
             ],
             [
              0.2222222222222222,
              "#7201a8"
             ],
             [
              0.3333333333333333,
              "#9c179e"
             ],
             [
              0.4444444444444444,
              "#bd3786"
             ],
             [
              0.5555555555555556,
              "#d8576b"
             ],
             [
              0.6666666666666666,
              "#ed7953"
             ],
             [
              0.7777777777777778,
              "#fb9f3a"
             ],
             [
              0.8888888888888888,
              "#fdca26"
             ],
             [
              1,
              "#f0f921"
             ]
            ],
            "type": "histogram2d"
           }
          ],
          "histogram2dcontour": [
           {
            "colorbar": {
             "outlinewidth": 0,
             "ticks": ""
            },
            "colorscale": [
             [
              0,
              "#0d0887"
             ],
             [
              0.1111111111111111,
              "#46039f"
             ],
             [
              0.2222222222222222,
              "#7201a8"
             ],
             [
              0.3333333333333333,
              "#9c179e"
             ],
             [
              0.4444444444444444,
              "#bd3786"
             ],
             [
              0.5555555555555556,
              "#d8576b"
             ],
             [
              0.6666666666666666,
              "#ed7953"
             ],
             [
              0.7777777777777778,
              "#fb9f3a"
             ],
             [
              0.8888888888888888,
              "#fdca26"
             ],
             [
              1,
              "#f0f921"
             ]
            ],
            "type": "histogram2dcontour"
           }
          ],
          "mesh3d": [
           {
            "colorbar": {
             "outlinewidth": 0,
             "ticks": ""
            },
            "type": "mesh3d"
           }
          ],
          "parcoords": [
           {
            "line": {
             "colorbar": {
              "outlinewidth": 0,
              "ticks": ""
             }
            },
            "type": "parcoords"
           }
          ],
          "pie": [
           {
            "automargin": true,
            "type": "pie"
           }
          ],
          "scatter": [
           {
            "fillpattern": {
             "fillmode": "overlay",
             "size": 10,
             "solidity": 0.2
            },
            "type": "scatter"
           }
          ],
          "scatter3d": [
           {
            "line": {
             "colorbar": {
              "outlinewidth": 0,
              "ticks": ""
             }
            },
            "marker": {
             "colorbar": {
              "outlinewidth": 0,
              "ticks": ""
             }
            },
            "type": "scatter3d"
           }
          ],
          "scattercarpet": [
           {
            "marker": {
             "colorbar": {
              "outlinewidth": 0,
              "ticks": ""
             }
            },
            "type": "scattercarpet"
           }
          ],
          "scattergeo": [
           {
            "marker": {
             "colorbar": {
              "outlinewidth": 0,
              "ticks": ""
             }
            },
            "type": "scattergeo"
           }
          ],
          "scattergl": [
           {
            "marker": {
             "colorbar": {
              "outlinewidth": 0,
              "ticks": ""
             }
            },
            "type": "scattergl"
           }
          ],
          "scattermap": [
           {
            "marker": {
             "colorbar": {
              "outlinewidth": 0,
              "ticks": ""
             }
            },
            "type": "scattermap"
           }
          ],
          "scattermapbox": [
           {
            "marker": {
             "colorbar": {
              "outlinewidth": 0,
              "ticks": ""
             }
            },
            "type": "scattermapbox"
           }
          ],
          "scatterpolar": [
           {
            "marker": {
             "colorbar": {
              "outlinewidth": 0,
              "ticks": ""
             }
            },
            "type": "scatterpolar"
           }
          ],
          "scatterpolargl": [
           {
            "marker": {
             "colorbar": {
              "outlinewidth": 0,
              "ticks": ""
             }
            },
            "type": "scatterpolargl"
           }
          ],
          "scatterternary": [
           {
            "marker": {
             "colorbar": {
              "outlinewidth": 0,
              "ticks": ""
             }
            },
            "type": "scatterternary"
           }
          ],
          "surface": [
           {
            "colorbar": {
             "outlinewidth": 0,
             "ticks": ""
            },
            "colorscale": [
             [
              0,
              "#0d0887"
             ],
             [
              0.1111111111111111,
              "#46039f"
             ],
             [
              0.2222222222222222,
              "#7201a8"
             ],
             [
              0.3333333333333333,
              "#9c179e"
             ],
             [
              0.4444444444444444,
              "#bd3786"
             ],
             [
              0.5555555555555556,
              "#d8576b"
             ],
             [
              0.6666666666666666,
              "#ed7953"
             ],
             [
              0.7777777777777778,
              "#fb9f3a"
             ],
             [
              0.8888888888888888,
              "#fdca26"
             ],
             [
              1,
              "#f0f921"
             ]
            ],
            "type": "surface"
           }
          ],
          "table": [
           {
            "cells": {
             "fill": {
              "color": "#EBF0F8"
             },
             "line": {
              "color": "white"
             }
            },
            "header": {
             "fill": {
              "color": "#C8D4E3"
             },
             "line": {
              "color": "white"
             }
            },
            "type": "table"
           }
          ]
         },
         "layout": {
          "annotationdefaults": {
           "arrowcolor": "#2a3f5f",
           "arrowhead": 0,
           "arrowwidth": 1
          },
          "autotypenumbers": "strict",
          "coloraxis": {
           "colorbar": {
            "outlinewidth": 0,
            "ticks": ""
           }
          },
          "colorscale": {
           "diverging": [
            [
             0,
             "#8e0152"
            ],
            [
             0.1,
             "#c51b7d"
            ],
            [
             0.2,
             "#de77ae"
            ],
            [
             0.3,
             "#f1b6da"
            ],
            [
             0.4,
             "#fde0ef"
            ],
            [
             0.5,
             "#f7f7f7"
            ],
            [
             0.6,
             "#e6f5d0"
            ],
            [
             0.7,
             "#b8e186"
            ],
            [
             0.8,
             "#7fbc41"
            ],
            [
             0.9,
             "#4d9221"
            ],
            [
             1,
             "#276419"
            ]
           ],
           "sequential": [
            [
             0,
             "#0d0887"
            ],
            [
             0.1111111111111111,
             "#46039f"
            ],
            [
             0.2222222222222222,
             "#7201a8"
            ],
            [
             0.3333333333333333,
             "#9c179e"
            ],
            [
             0.4444444444444444,
             "#bd3786"
            ],
            [
             0.5555555555555556,
             "#d8576b"
            ],
            [
             0.6666666666666666,
             "#ed7953"
            ],
            [
             0.7777777777777778,
             "#fb9f3a"
            ],
            [
             0.8888888888888888,
             "#fdca26"
            ],
            [
             1,
             "#f0f921"
            ]
           ],
           "sequentialminus": [
            [
             0,
             "#0d0887"
            ],
            [
             0.1111111111111111,
             "#46039f"
            ],
            [
             0.2222222222222222,
             "#7201a8"
            ],
            [
             0.3333333333333333,
             "#9c179e"
            ],
            [
             0.4444444444444444,
             "#bd3786"
            ],
            [
             0.5555555555555556,
             "#d8576b"
            ],
            [
             0.6666666666666666,
             "#ed7953"
            ],
            [
             0.7777777777777778,
             "#fb9f3a"
            ],
            [
             0.8888888888888888,
             "#fdca26"
            ],
            [
             1,
             "#f0f921"
            ]
           ]
          },
          "colorway": [
           "#636efa",
           "#EF553B",
           "#00cc96",
           "#ab63fa",
           "#FFA15A",
           "#19d3f3",
           "#FF6692",
           "#B6E880",
           "#FF97FF",
           "#FECB52"
          ],
          "font": {
           "color": "#2a3f5f"
          },
          "geo": {
           "bgcolor": "white",
           "lakecolor": "white",
           "landcolor": "#E5ECF6",
           "showlakes": true,
           "showland": true,
           "subunitcolor": "white"
          },
          "hoverlabel": {
           "align": "left"
          },
          "hovermode": "closest",
          "mapbox": {
           "style": "light"
          },
          "paper_bgcolor": "white",
          "plot_bgcolor": "#E5ECF6",
          "polar": {
           "angularaxis": {
            "gridcolor": "white",
            "linecolor": "white",
            "ticks": ""
           },
           "bgcolor": "#E5ECF6",
           "radialaxis": {
            "gridcolor": "white",
            "linecolor": "white",
            "ticks": ""
           }
          },
          "scene": {
           "xaxis": {
            "backgroundcolor": "#E5ECF6",
            "gridcolor": "white",
            "gridwidth": 2,
            "linecolor": "white",
            "showbackground": true,
            "ticks": "",
            "zerolinecolor": "white"
           },
           "yaxis": {
            "backgroundcolor": "#E5ECF6",
            "gridcolor": "white",
            "gridwidth": 2,
            "linecolor": "white",
            "showbackground": true,
            "ticks": "",
            "zerolinecolor": "white"
           },
           "zaxis": {
            "backgroundcolor": "#E5ECF6",
            "gridcolor": "white",
            "gridwidth": 2,
            "linecolor": "white",
            "showbackground": true,
            "ticks": "",
            "zerolinecolor": "white"
           }
          },
          "shapedefaults": {
           "line": {
            "color": "#2a3f5f"
           }
          },
          "ternary": {
           "aaxis": {
            "gridcolor": "white",
            "linecolor": "white",
            "ticks": ""
           },
           "baxis": {
            "gridcolor": "white",
            "linecolor": "white",
            "ticks": ""
           },
           "bgcolor": "#E5ECF6",
           "caxis": {
            "gridcolor": "white",
            "linecolor": "white",
            "ticks": ""
           }
          },
          "title": {
           "x": 0.05
          },
          "xaxis": {
           "automargin": true,
           "gridcolor": "white",
           "linecolor": "white",
           "ticks": "",
           "title": {
            "standoff": 15
           },
           "zerolinecolor": "white",
           "zerolinewidth": 2
          },
          "yaxis": {
           "automargin": true,
           "gridcolor": "white",
           "linecolor": "white",
           "ticks": "",
           "title": {
            "standoff": 15
           },
           "zerolinecolor": "white",
           "zerolinewidth": 2
          }
         }
        },
        "title": {
         "text": "Distribution of One-Owner Cars"
        },
        "width": 500
       }
      }
     },
     "metadata": {},
     "output_type": "display_data"
    }
   ],
   "source": [
    "one_owner_ratio = data['one_owner'].value_counts(normalize=True)\n",
    "\n",
    "label_map = {\n",
    "    1.0: 'One Owner',\n",
    "    0.0: 'Not One Owner',\n",
    "   -1.0: 'Unknown'\n",
    "}\n",
    "\n",
    "import plotly.express as px\n",
    "\n",
    "fig = px.pie(\n",
    "    names = label_map,\n",
    "    values=one_owner_ratio.values,\n",
    "    title='Distribution of One-Owner Cars',\n",
    "    hole=0.4\n",
    ")\n",
    "fig.update_layout(\n",
    "    height=500,\n",
    "    width=500,\n",
    ")\n",
    "fig.update_traces(textinfo='percent+label')\n",
    "fig.show()\n"
   ]
  },
  {
   "cell_type": "code",
   "execution_count": 673,
   "id": "c5dcdf38-6154-4dde-bdd7-065ce3344c85",
   "metadata": {},
   "outputs": [
    {
     "data": {
      "application/vnd.plotly.v1+json": {
       "config": {
        "plotlyServerURL": "https://plot.ly"
       },
       "data": [
        {
         "domain": {
          "x": [
           0,
           1
          ],
          "y": [
           0,
           1
          ]
         },
         "hole": 0.4,
         "hovertemplate": "label=%{label}<br>value=%{value}<extra></extra>",
         "labels": [
          "Personal use",
          "Not",
          "Unknown"
         ],
         "legendgroup": "",
         "name": "",
         "showlegend": true,
         "type": "pie",
         "values": {
          "bdata": "DFcdziNc5D/cln/eoT3VP1rYLSq0UKA/",
          "dtype": "f8"
         }
        }
       ],
       "layout": {
        "height": 500,
        "legend": {
         "tracegroupgap": 0
        },
        "template": {
         "data": {
          "bar": [
           {
            "error_x": {
             "color": "#2a3f5f"
            },
            "error_y": {
             "color": "#2a3f5f"
            },
            "marker": {
             "line": {
              "color": "#E5ECF6",
              "width": 0.5
             },
             "pattern": {
              "fillmode": "overlay",
              "size": 10,
              "solidity": 0.2
             }
            },
            "type": "bar"
           }
          ],
          "barpolar": [
           {
            "marker": {
             "line": {
              "color": "#E5ECF6",
              "width": 0.5
             },
             "pattern": {
              "fillmode": "overlay",
              "size": 10,
              "solidity": 0.2
             }
            },
            "type": "barpolar"
           }
          ],
          "carpet": [
           {
            "aaxis": {
             "endlinecolor": "#2a3f5f",
             "gridcolor": "white",
             "linecolor": "white",
             "minorgridcolor": "white",
             "startlinecolor": "#2a3f5f"
            },
            "baxis": {
             "endlinecolor": "#2a3f5f",
             "gridcolor": "white",
             "linecolor": "white",
             "minorgridcolor": "white",
             "startlinecolor": "#2a3f5f"
            },
            "type": "carpet"
           }
          ],
          "choropleth": [
           {
            "colorbar": {
             "outlinewidth": 0,
             "ticks": ""
            },
            "type": "choropleth"
           }
          ],
          "contour": [
           {
            "colorbar": {
             "outlinewidth": 0,
             "ticks": ""
            },
            "colorscale": [
             [
              0,
              "#0d0887"
             ],
             [
              0.1111111111111111,
              "#46039f"
             ],
             [
              0.2222222222222222,
              "#7201a8"
             ],
             [
              0.3333333333333333,
              "#9c179e"
             ],
             [
              0.4444444444444444,
              "#bd3786"
             ],
             [
              0.5555555555555556,
              "#d8576b"
             ],
             [
              0.6666666666666666,
              "#ed7953"
             ],
             [
              0.7777777777777778,
              "#fb9f3a"
             ],
             [
              0.8888888888888888,
              "#fdca26"
             ],
             [
              1,
              "#f0f921"
             ]
            ],
            "type": "contour"
           }
          ],
          "contourcarpet": [
           {
            "colorbar": {
             "outlinewidth": 0,
             "ticks": ""
            },
            "type": "contourcarpet"
           }
          ],
          "heatmap": [
           {
            "colorbar": {
             "outlinewidth": 0,
             "ticks": ""
            },
            "colorscale": [
             [
              0,
              "#0d0887"
             ],
             [
              0.1111111111111111,
              "#46039f"
             ],
             [
              0.2222222222222222,
              "#7201a8"
             ],
             [
              0.3333333333333333,
              "#9c179e"
             ],
             [
              0.4444444444444444,
              "#bd3786"
             ],
             [
              0.5555555555555556,
              "#d8576b"
             ],
             [
              0.6666666666666666,
              "#ed7953"
             ],
             [
              0.7777777777777778,
              "#fb9f3a"
             ],
             [
              0.8888888888888888,
              "#fdca26"
             ],
             [
              1,
              "#f0f921"
             ]
            ],
            "type": "heatmap"
           }
          ],
          "histogram": [
           {
            "marker": {
             "pattern": {
              "fillmode": "overlay",
              "size": 10,
              "solidity": 0.2
             }
            },
            "type": "histogram"
           }
          ],
          "histogram2d": [
           {
            "colorbar": {
             "outlinewidth": 0,
             "ticks": ""
            },
            "colorscale": [
             [
              0,
              "#0d0887"
             ],
             [
              0.1111111111111111,
              "#46039f"
             ],
             [
              0.2222222222222222,
              "#7201a8"
             ],
             [
              0.3333333333333333,
              "#9c179e"
             ],
             [
              0.4444444444444444,
              "#bd3786"
             ],
             [
              0.5555555555555556,
              "#d8576b"
             ],
             [
              0.6666666666666666,
              "#ed7953"
             ],
             [
              0.7777777777777778,
              "#fb9f3a"
             ],
             [
              0.8888888888888888,
              "#fdca26"
             ],
             [
              1,
              "#f0f921"
             ]
            ],
            "type": "histogram2d"
           }
          ],
          "histogram2dcontour": [
           {
            "colorbar": {
             "outlinewidth": 0,
             "ticks": ""
            },
            "colorscale": [
             [
              0,
              "#0d0887"
             ],
             [
              0.1111111111111111,
              "#46039f"
             ],
             [
              0.2222222222222222,
              "#7201a8"
             ],
             [
              0.3333333333333333,
              "#9c179e"
             ],
             [
              0.4444444444444444,
              "#bd3786"
             ],
             [
              0.5555555555555556,
              "#d8576b"
             ],
             [
              0.6666666666666666,
              "#ed7953"
             ],
             [
              0.7777777777777778,
              "#fb9f3a"
             ],
             [
              0.8888888888888888,
              "#fdca26"
             ],
             [
              1,
              "#f0f921"
             ]
            ],
            "type": "histogram2dcontour"
           }
          ],
          "mesh3d": [
           {
            "colorbar": {
             "outlinewidth": 0,
             "ticks": ""
            },
            "type": "mesh3d"
           }
          ],
          "parcoords": [
           {
            "line": {
             "colorbar": {
              "outlinewidth": 0,
              "ticks": ""
             }
            },
            "type": "parcoords"
           }
          ],
          "pie": [
           {
            "automargin": true,
            "type": "pie"
           }
          ],
          "scatter": [
           {
            "fillpattern": {
             "fillmode": "overlay",
             "size": 10,
             "solidity": 0.2
            },
            "type": "scatter"
           }
          ],
          "scatter3d": [
           {
            "line": {
             "colorbar": {
              "outlinewidth": 0,
              "ticks": ""
             }
            },
            "marker": {
             "colorbar": {
              "outlinewidth": 0,
              "ticks": ""
             }
            },
            "type": "scatter3d"
           }
          ],
          "scattercarpet": [
           {
            "marker": {
             "colorbar": {
              "outlinewidth": 0,
              "ticks": ""
             }
            },
            "type": "scattercarpet"
           }
          ],
          "scattergeo": [
           {
            "marker": {
             "colorbar": {
              "outlinewidth": 0,
              "ticks": ""
             }
            },
            "type": "scattergeo"
           }
          ],
          "scattergl": [
           {
            "marker": {
             "colorbar": {
              "outlinewidth": 0,
              "ticks": ""
             }
            },
            "type": "scattergl"
           }
          ],
          "scattermap": [
           {
            "marker": {
             "colorbar": {
              "outlinewidth": 0,
              "ticks": ""
             }
            },
            "type": "scattermap"
           }
          ],
          "scattermapbox": [
           {
            "marker": {
             "colorbar": {
              "outlinewidth": 0,
              "ticks": ""
             }
            },
            "type": "scattermapbox"
           }
          ],
          "scatterpolar": [
           {
            "marker": {
             "colorbar": {
              "outlinewidth": 0,
              "ticks": ""
             }
            },
            "type": "scatterpolar"
           }
          ],
          "scatterpolargl": [
           {
            "marker": {
             "colorbar": {
              "outlinewidth": 0,
              "ticks": ""
             }
            },
            "type": "scatterpolargl"
           }
          ],
          "scatterternary": [
           {
            "marker": {
             "colorbar": {
              "outlinewidth": 0,
              "ticks": ""
             }
            },
            "type": "scatterternary"
           }
          ],
          "surface": [
           {
            "colorbar": {
             "outlinewidth": 0,
             "ticks": ""
            },
            "colorscale": [
             [
              0,
              "#0d0887"
             ],
             [
              0.1111111111111111,
              "#46039f"
             ],
             [
              0.2222222222222222,
              "#7201a8"
             ],
             [
              0.3333333333333333,
              "#9c179e"
             ],
             [
              0.4444444444444444,
              "#bd3786"
             ],
             [
              0.5555555555555556,
              "#d8576b"
             ],
             [
              0.6666666666666666,
              "#ed7953"
             ],
             [
              0.7777777777777778,
              "#fb9f3a"
             ],
             [
              0.8888888888888888,
              "#fdca26"
             ],
             [
              1,
              "#f0f921"
             ]
            ],
            "type": "surface"
           }
          ],
          "table": [
           {
            "cells": {
             "fill": {
              "color": "#EBF0F8"
             },
             "line": {
              "color": "white"
             }
            },
            "header": {
             "fill": {
              "color": "#C8D4E3"
             },
             "line": {
              "color": "white"
             }
            },
            "type": "table"
           }
          ]
         },
         "layout": {
          "annotationdefaults": {
           "arrowcolor": "#2a3f5f",
           "arrowhead": 0,
           "arrowwidth": 1
          },
          "autotypenumbers": "strict",
          "coloraxis": {
           "colorbar": {
            "outlinewidth": 0,
            "ticks": ""
           }
          },
          "colorscale": {
           "diverging": [
            [
             0,
             "#8e0152"
            ],
            [
             0.1,
             "#c51b7d"
            ],
            [
             0.2,
             "#de77ae"
            ],
            [
             0.3,
             "#f1b6da"
            ],
            [
             0.4,
             "#fde0ef"
            ],
            [
             0.5,
             "#f7f7f7"
            ],
            [
             0.6,
             "#e6f5d0"
            ],
            [
             0.7,
             "#b8e186"
            ],
            [
             0.8,
             "#7fbc41"
            ],
            [
             0.9,
             "#4d9221"
            ],
            [
             1,
             "#276419"
            ]
           ],
           "sequential": [
            [
             0,
             "#0d0887"
            ],
            [
             0.1111111111111111,
             "#46039f"
            ],
            [
             0.2222222222222222,
             "#7201a8"
            ],
            [
             0.3333333333333333,
             "#9c179e"
            ],
            [
             0.4444444444444444,
             "#bd3786"
            ],
            [
             0.5555555555555556,
             "#d8576b"
            ],
            [
             0.6666666666666666,
             "#ed7953"
            ],
            [
             0.7777777777777778,
             "#fb9f3a"
            ],
            [
             0.8888888888888888,
             "#fdca26"
            ],
            [
             1,
             "#f0f921"
            ]
           ],
           "sequentialminus": [
            [
             0,
             "#0d0887"
            ],
            [
             0.1111111111111111,
             "#46039f"
            ],
            [
             0.2222222222222222,
             "#7201a8"
            ],
            [
             0.3333333333333333,
             "#9c179e"
            ],
            [
             0.4444444444444444,
             "#bd3786"
            ],
            [
             0.5555555555555556,
             "#d8576b"
            ],
            [
             0.6666666666666666,
             "#ed7953"
            ],
            [
             0.7777777777777778,
             "#fb9f3a"
            ],
            [
             0.8888888888888888,
             "#fdca26"
            ],
            [
             1,
             "#f0f921"
            ]
           ]
          },
          "colorway": [
           "#636efa",
           "#EF553B",
           "#00cc96",
           "#ab63fa",
           "#FFA15A",
           "#19d3f3",
           "#FF6692",
           "#B6E880",
           "#FF97FF",
           "#FECB52"
          ],
          "font": {
           "color": "#2a3f5f"
          },
          "geo": {
           "bgcolor": "white",
           "lakecolor": "white",
           "landcolor": "#E5ECF6",
           "showlakes": true,
           "showland": true,
           "subunitcolor": "white"
          },
          "hoverlabel": {
           "align": "left"
          },
          "hovermode": "closest",
          "mapbox": {
           "style": "light"
          },
          "paper_bgcolor": "white",
          "plot_bgcolor": "#E5ECF6",
          "polar": {
           "angularaxis": {
            "gridcolor": "white",
            "linecolor": "white",
            "ticks": ""
           },
           "bgcolor": "#E5ECF6",
           "radialaxis": {
            "gridcolor": "white",
            "linecolor": "white",
            "ticks": ""
           }
          },
          "scene": {
           "xaxis": {
            "backgroundcolor": "#E5ECF6",
            "gridcolor": "white",
            "gridwidth": 2,
            "linecolor": "white",
            "showbackground": true,
            "ticks": "",
            "zerolinecolor": "white"
           },
           "yaxis": {
            "backgroundcolor": "#E5ECF6",
            "gridcolor": "white",
            "gridwidth": 2,
            "linecolor": "white",
            "showbackground": true,
            "ticks": "",
            "zerolinecolor": "white"
           },
           "zaxis": {
            "backgroundcolor": "#E5ECF6",
            "gridcolor": "white",
            "gridwidth": 2,
            "linecolor": "white",
            "showbackground": true,
            "ticks": "",
            "zerolinecolor": "white"
           }
          },
          "shapedefaults": {
           "line": {
            "color": "#2a3f5f"
           }
          },
          "ternary": {
           "aaxis": {
            "gridcolor": "white",
            "linecolor": "white",
            "ticks": ""
           },
           "baxis": {
            "gridcolor": "white",
            "linecolor": "white",
            "ticks": ""
           },
           "bgcolor": "#E5ECF6",
           "caxis": {
            "gridcolor": "white",
            "linecolor": "white",
            "ticks": ""
           }
          },
          "title": {
           "x": 0.05
          },
          "xaxis": {
           "automargin": true,
           "gridcolor": "white",
           "linecolor": "white",
           "ticks": "",
           "title": {
            "standoff": 15
           },
           "zerolinecolor": "white",
           "zerolinewidth": 2
          },
          "yaxis": {
           "automargin": true,
           "gridcolor": "white",
           "linecolor": "white",
           "ticks": "",
           "title": {
            "standoff": 15
           },
           "zerolinecolor": "white",
           "zerolinewidth": 2
          }
         }
        },
        "title": {
         "text": "Count of Personal Use vs Other Cars"
        },
        "width": 500
       }
      }
     },
     "metadata": {},
     "output_type": "display_data"
    }
   ],
   "source": [
    "personal_use_ratio = data['personal_use_only'].value_counts(normalize=True)\n",
    "\n",
    "label_names = ['Personal use','Not','Unknown']\n",
    "\n",
    "fig = px.pie(\n",
    "    names = label_names,\n",
    "    values=personal_use_ratio.values,\n",
    "    title='Count of Personal Use vs Other Cars',\n",
    "    hole=0.4\n",
    ")\n",
    "fig.update_layout(\n",
    "    height = 500,\n",
    "    width = 500,\n",
    ")\n",
    "fig.show()"
   ]
  },
  {
   "cell_type": "code",
   "execution_count": null,
   "id": "4b06bf25-8269-4969-ab28-eec008ea9b9f",
   "metadata": {},
   "outputs": [],
   "source": []
  },
  {
   "cell_type": "code",
   "execution_count": 674,
   "id": "65c3b463-b1d7-4b15-a272-d39c18809cd8",
   "metadata": {},
   "outputs": [
    {
     "data": {
      "application/vnd.plotly.v1+json": {
       "config": {
        "plotlyServerURL": "https://plot.ly"
       },
       "data": [
        {
         "domain": {
          "x": [
           0,
           1
          ],
          "y": [
           0,
           1
          ]
         },
         "hole": 0.4,
         "hovertemplate": "label=%{label}<br>value=%{value}<extra></extra>",
         "labels": [
          "Not",
          "Accidents or damage",
          "Unknown"
         ],
         "legendgroup": "",
         "name": "",
         "showlegend": true,
         "type": "pie",
         "values": {
          "bdata": "HQiflTrT5z+AGNfDgbHMPyccs5ZPBqA/",
          "dtype": "f8"
         }
        }
       ],
       "layout": {
        "height": 550,
        "legend": {
         "tracegroupgap": 0
        },
        "template": {
         "data": {
          "bar": [
           {
            "error_x": {
             "color": "#2a3f5f"
            },
            "error_y": {
             "color": "#2a3f5f"
            },
            "marker": {
             "line": {
              "color": "#E5ECF6",
              "width": 0.5
             },
             "pattern": {
              "fillmode": "overlay",
              "size": 10,
              "solidity": 0.2
             }
            },
            "type": "bar"
           }
          ],
          "barpolar": [
           {
            "marker": {
             "line": {
              "color": "#E5ECF6",
              "width": 0.5
             },
             "pattern": {
              "fillmode": "overlay",
              "size": 10,
              "solidity": 0.2
             }
            },
            "type": "barpolar"
           }
          ],
          "carpet": [
           {
            "aaxis": {
             "endlinecolor": "#2a3f5f",
             "gridcolor": "white",
             "linecolor": "white",
             "minorgridcolor": "white",
             "startlinecolor": "#2a3f5f"
            },
            "baxis": {
             "endlinecolor": "#2a3f5f",
             "gridcolor": "white",
             "linecolor": "white",
             "minorgridcolor": "white",
             "startlinecolor": "#2a3f5f"
            },
            "type": "carpet"
           }
          ],
          "choropleth": [
           {
            "colorbar": {
             "outlinewidth": 0,
             "ticks": ""
            },
            "type": "choropleth"
           }
          ],
          "contour": [
           {
            "colorbar": {
             "outlinewidth": 0,
             "ticks": ""
            },
            "colorscale": [
             [
              0,
              "#0d0887"
             ],
             [
              0.1111111111111111,
              "#46039f"
             ],
             [
              0.2222222222222222,
              "#7201a8"
             ],
             [
              0.3333333333333333,
              "#9c179e"
             ],
             [
              0.4444444444444444,
              "#bd3786"
             ],
             [
              0.5555555555555556,
              "#d8576b"
             ],
             [
              0.6666666666666666,
              "#ed7953"
             ],
             [
              0.7777777777777778,
              "#fb9f3a"
             ],
             [
              0.8888888888888888,
              "#fdca26"
             ],
             [
              1,
              "#f0f921"
             ]
            ],
            "type": "contour"
           }
          ],
          "contourcarpet": [
           {
            "colorbar": {
             "outlinewidth": 0,
             "ticks": ""
            },
            "type": "contourcarpet"
           }
          ],
          "heatmap": [
           {
            "colorbar": {
             "outlinewidth": 0,
             "ticks": ""
            },
            "colorscale": [
             [
              0,
              "#0d0887"
             ],
             [
              0.1111111111111111,
              "#46039f"
             ],
             [
              0.2222222222222222,
              "#7201a8"
             ],
             [
              0.3333333333333333,
              "#9c179e"
             ],
             [
              0.4444444444444444,
              "#bd3786"
             ],
             [
              0.5555555555555556,
              "#d8576b"
             ],
             [
              0.6666666666666666,
              "#ed7953"
             ],
             [
              0.7777777777777778,
              "#fb9f3a"
             ],
             [
              0.8888888888888888,
              "#fdca26"
             ],
             [
              1,
              "#f0f921"
             ]
            ],
            "type": "heatmap"
           }
          ],
          "histogram": [
           {
            "marker": {
             "pattern": {
              "fillmode": "overlay",
              "size": 10,
              "solidity": 0.2
             }
            },
            "type": "histogram"
           }
          ],
          "histogram2d": [
           {
            "colorbar": {
             "outlinewidth": 0,
             "ticks": ""
            },
            "colorscale": [
             [
              0,
              "#0d0887"
             ],
             [
              0.1111111111111111,
              "#46039f"
             ],
             [
              0.2222222222222222,
              "#7201a8"
             ],
             [
              0.3333333333333333,
              "#9c179e"
             ],
             [
              0.4444444444444444,
              "#bd3786"
             ],
             [
              0.5555555555555556,
              "#d8576b"
             ],
             [
              0.6666666666666666,
              "#ed7953"
             ],
             [
              0.7777777777777778,
              "#fb9f3a"
             ],
             [
              0.8888888888888888,
              "#fdca26"
             ],
             [
              1,
              "#f0f921"
             ]
            ],
            "type": "histogram2d"
           }
          ],
          "histogram2dcontour": [
           {
            "colorbar": {
             "outlinewidth": 0,
             "ticks": ""
            },
            "colorscale": [
             [
              0,
              "#0d0887"
             ],
             [
              0.1111111111111111,
              "#46039f"
             ],
             [
              0.2222222222222222,
              "#7201a8"
             ],
             [
              0.3333333333333333,
              "#9c179e"
             ],
             [
              0.4444444444444444,
              "#bd3786"
             ],
             [
              0.5555555555555556,
              "#d8576b"
             ],
             [
              0.6666666666666666,
              "#ed7953"
             ],
             [
              0.7777777777777778,
              "#fb9f3a"
             ],
             [
              0.8888888888888888,
              "#fdca26"
             ],
             [
              1,
              "#f0f921"
             ]
            ],
            "type": "histogram2dcontour"
           }
          ],
          "mesh3d": [
           {
            "colorbar": {
             "outlinewidth": 0,
             "ticks": ""
            },
            "type": "mesh3d"
           }
          ],
          "parcoords": [
           {
            "line": {
             "colorbar": {
              "outlinewidth": 0,
              "ticks": ""
             }
            },
            "type": "parcoords"
           }
          ],
          "pie": [
           {
            "automargin": true,
            "type": "pie"
           }
          ],
          "scatter": [
           {
            "fillpattern": {
             "fillmode": "overlay",
             "size": 10,
             "solidity": 0.2
            },
            "type": "scatter"
           }
          ],
          "scatter3d": [
           {
            "line": {
             "colorbar": {
              "outlinewidth": 0,
              "ticks": ""
             }
            },
            "marker": {
             "colorbar": {
              "outlinewidth": 0,
              "ticks": ""
             }
            },
            "type": "scatter3d"
           }
          ],
          "scattercarpet": [
           {
            "marker": {
             "colorbar": {
              "outlinewidth": 0,
              "ticks": ""
             }
            },
            "type": "scattercarpet"
           }
          ],
          "scattergeo": [
           {
            "marker": {
             "colorbar": {
              "outlinewidth": 0,
              "ticks": ""
             }
            },
            "type": "scattergeo"
           }
          ],
          "scattergl": [
           {
            "marker": {
             "colorbar": {
              "outlinewidth": 0,
              "ticks": ""
             }
            },
            "type": "scattergl"
           }
          ],
          "scattermap": [
           {
            "marker": {
             "colorbar": {
              "outlinewidth": 0,
              "ticks": ""
             }
            },
            "type": "scattermap"
           }
          ],
          "scattermapbox": [
           {
            "marker": {
             "colorbar": {
              "outlinewidth": 0,
              "ticks": ""
             }
            },
            "type": "scattermapbox"
           }
          ],
          "scatterpolar": [
           {
            "marker": {
             "colorbar": {
              "outlinewidth": 0,
              "ticks": ""
             }
            },
            "type": "scatterpolar"
           }
          ],
          "scatterpolargl": [
           {
            "marker": {
             "colorbar": {
              "outlinewidth": 0,
              "ticks": ""
             }
            },
            "type": "scatterpolargl"
           }
          ],
          "scatterternary": [
           {
            "marker": {
             "colorbar": {
              "outlinewidth": 0,
              "ticks": ""
             }
            },
            "type": "scatterternary"
           }
          ],
          "surface": [
           {
            "colorbar": {
             "outlinewidth": 0,
             "ticks": ""
            },
            "colorscale": [
             [
              0,
              "#0d0887"
             ],
             [
              0.1111111111111111,
              "#46039f"
             ],
             [
              0.2222222222222222,
              "#7201a8"
             ],
             [
              0.3333333333333333,
              "#9c179e"
             ],
             [
              0.4444444444444444,
              "#bd3786"
             ],
             [
              0.5555555555555556,
              "#d8576b"
             ],
             [
              0.6666666666666666,
              "#ed7953"
             ],
             [
              0.7777777777777778,
              "#fb9f3a"
             ],
             [
              0.8888888888888888,
              "#fdca26"
             ],
             [
              1,
              "#f0f921"
             ]
            ],
            "type": "surface"
           }
          ],
          "table": [
           {
            "cells": {
             "fill": {
              "color": "#EBF0F8"
             },
             "line": {
              "color": "white"
             }
            },
            "header": {
             "fill": {
              "color": "#C8D4E3"
             },
             "line": {
              "color": "white"
             }
            },
            "type": "table"
           }
          ]
         },
         "layout": {
          "annotationdefaults": {
           "arrowcolor": "#2a3f5f",
           "arrowhead": 0,
           "arrowwidth": 1
          },
          "autotypenumbers": "strict",
          "coloraxis": {
           "colorbar": {
            "outlinewidth": 0,
            "ticks": ""
           }
          },
          "colorscale": {
           "diverging": [
            [
             0,
             "#8e0152"
            ],
            [
             0.1,
             "#c51b7d"
            ],
            [
             0.2,
             "#de77ae"
            ],
            [
             0.3,
             "#f1b6da"
            ],
            [
             0.4,
             "#fde0ef"
            ],
            [
             0.5,
             "#f7f7f7"
            ],
            [
             0.6,
             "#e6f5d0"
            ],
            [
             0.7,
             "#b8e186"
            ],
            [
             0.8,
             "#7fbc41"
            ],
            [
             0.9,
             "#4d9221"
            ],
            [
             1,
             "#276419"
            ]
           ],
           "sequential": [
            [
             0,
             "#0d0887"
            ],
            [
             0.1111111111111111,
             "#46039f"
            ],
            [
             0.2222222222222222,
             "#7201a8"
            ],
            [
             0.3333333333333333,
             "#9c179e"
            ],
            [
             0.4444444444444444,
             "#bd3786"
            ],
            [
             0.5555555555555556,
             "#d8576b"
            ],
            [
             0.6666666666666666,
             "#ed7953"
            ],
            [
             0.7777777777777778,
             "#fb9f3a"
            ],
            [
             0.8888888888888888,
             "#fdca26"
            ],
            [
             1,
             "#f0f921"
            ]
           ],
           "sequentialminus": [
            [
             0,
             "#0d0887"
            ],
            [
             0.1111111111111111,
             "#46039f"
            ],
            [
             0.2222222222222222,
             "#7201a8"
            ],
            [
             0.3333333333333333,
             "#9c179e"
            ],
            [
             0.4444444444444444,
             "#bd3786"
            ],
            [
             0.5555555555555556,
             "#d8576b"
            ],
            [
             0.6666666666666666,
             "#ed7953"
            ],
            [
             0.7777777777777778,
             "#fb9f3a"
            ],
            [
             0.8888888888888888,
             "#fdca26"
            ],
            [
             1,
             "#f0f921"
            ]
           ]
          },
          "colorway": [
           "#636efa",
           "#EF553B",
           "#00cc96",
           "#ab63fa",
           "#FFA15A",
           "#19d3f3",
           "#FF6692",
           "#B6E880",
           "#FF97FF",
           "#FECB52"
          ],
          "font": {
           "color": "#2a3f5f"
          },
          "geo": {
           "bgcolor": "white",
           "lakecolor": "white",
           "landcolor": "#E5ECF6",
           "showlakes": true,
           "showland": true,
           "subunitcolor": "white"
          },
          "hoverlabel": {
           "align": "left"
          },
          "hovermode": "closest",
          "mapbox": {
           "style": "light"
          },
          "paper_bgcolor": "white",
          "plot_bgcolor": "#E5ECF6",
          "polar": {
           "angularaxis": {
            "gridcolor": "white",
            "linecolor": "white",
            "ticks": ""
           },
           "bgcolor": "#E5ECF6",
           "radialaxis": {
            "gridcolor": "white",
            "linecolor": "white",
            "ticks": ""
           }
          },
          "scene": {
           "xaxis": {
            "backgroundcolor": "#E5ECF6",
            "gridcolor": "white",
            "gridwidth": 2,
            "linecolor": "white",
            "showbackground": true,
            "ticks": "",
            "zerolinecolor": "white"
           },
           "yaxis": {
            "backgroundcolor": "#E5ECF6",
            "gridcolor": "white",
            "gridwidth": 2,
            "linecolor": "white",
            "showbackground": true,
            "ticks": "",
            "zerolinecolor": "white"
           },
           "zaxis": {
            "backgroundcolor": "#E5ECF6",
            "gridcolor": "white",
            "gridwidth": 2,
            "linecolor": "white",
            "showbackground": true,
            "ticks": "",
            "zerolinecolor": "white"
           }
          },
          "shapedefaults": {
           "line": {
            "color": "#2a3f5f"
           }
          },
          "ternary": {
           "aaxis": {
            "gridcolor": "white",
            "linecolor": "white",
            "ticks": ""
           },
           "baxis": {
            "gridcolor": "white",
            "linecolor": "white",
            "ticks": ""
           },
           "bgcolor": "#E5ECF6",
           "caxis": {
            "gridcolor": "white",
            "linecolor": "white",
            "ticks": ""
           }
          },
          "title": {
           "x": 0.05
          },
          "xaxis": {
           "automargin": true,
           "gridcolor": "white",
           "linecolor": "white",
           "ticks": "",
           "title": {
            "standoff": 15
           },
           "zerolinecolor": "white",
           "zerolinewidth": 2
          },
          "yaxis": {
           "automargin": true,
           "gridcolor": "white",
           "linecolor": "white",
           "ticks": "",
           "title": {
            "standoff": 15
           },
           "zerolinecolor": "white",
           "zerolinewidth": 2
          }
         }
        },
        "title": {
         "text": "Retio of Accidents_or_damage vs Not"
        },
        "width": 550
       }
      }
     },
     "metadata": {},
     "output_type": "display_data"
    }
   ],
   "source": [
    "damage_ratio = data['accidents_or_damage'].value_counts(normalize = True)\n",
    "\n",
    "label_names = ['Not','Accidents or damage','Unknown']\n",
    "\n",
    "fig = px.pie(\n",
    "    names = label_names,\n",
    "    values=damage_ratio.values,\n",
    "    title='Retio of Accidents_or_damage vs Not',\n",
    "    hole=0.4\n",
    ")\n",
    "fig.update_layout(\n",
    "    height = 550,\n",
    "    width = 550,\n",
    ")\n",
    "fig.show()"
   ]
  },
  {
   "cell_type": "code",
   "execution_count": 675,
   "id": "e17918b0-2b1c-43a1-b6e2-6f23c886c71b",
   "metadata": {},
   "outputs": [
    {
     "data": {
      "application/vnd.plotly.v1+json": {
       "config": {
        "plotlyServerURL": "https://plot.ly"
       },
       "data": [
        {
         "hovertemplate": "Seller=%{x}<br>Number of Cars Listed=%{y}<br>Average Rating=%{marker.color}<extra></extra>",
         "legendgroup": "",
         "marker": {
          "color": {
           "bdata": "pHA9CtejEECkcD0K16MQQPYoXI/C9fw/hetRuB6FEkBI4XoUrkcQQDMzMzMzMxNAzczMzMzMCEDNzMzMzMz8PwAAAAAAAAxAmpmZmZmZE0BI4XoUrkcQQDMzMzMzMxNAMzMzMzMzD0B7FK5H4XoKQGZmZmZmZhJAMzMzMzMzE0AzMzMzMzMTQAAAAAAAABNAw/UoXI/CCUAzMzMzMzMRQA==",
           "dtype": "f8"
          },
          "coloraxis": "coloraxis",
          "pattern": {
           "shape": ""
          }
         },
         "name": "",
         "orientation": "v",
         "showlegend": false,
         "textposition": "auto",
         "type": "bar",
         "x": [
          "Unknown",
          "Gateway Classic Cars",
          "East Coast Auto Source",
          "Auto Boutique",
          "Adams North Charlotte",
          "Automotive Avenues",
          "Pacific Auto Center - Fontana",
          "A Better Way Wholesale",
          "Auto Spot LLC",
          "Off Lease Only Orlando",
          "Merchants Automotive Group",
          "Sundance Chevrolet",
          "The Sharpest Rides",
          "Westgate Chrysler Jeep Dodge Ram",
          "Peterson Auto Group",
          "HGreg.com Orlando",
          "Shelor Motor Mile",
          "Impex Auto Sales",
          "Car Revolution",
          "Anchor Auto Group - Subaru Nissan"
         ],
         "xaxis": "x",
         "y": {
          "bdata": "5iBmBiAEzAKEAn0CQwIZAgUC/wHvAegB2AHSAc4BxwHFAb0BrwGtAQ==",
          "dtype": "i2"
         },
         "yaxis": "y"
        }
       ],
       "layout": {
        "barmode": "relative",
        "coloraxis": {
         "colorbar": {
          "title": {
           "text": "Avg Rating"
          }
         },
         "colorscale": [
          [
           0,
           "#440154"
          ],
          [
           0.1111111111111111,
           "#482878"
          ],
          [
           0.2222222222222222,
           "#3e4989"
          ],
          [
           0.3333333333333333,
           "#31688e"
          ],
          [
           0.4444444444444444,
           "#26828e"
          ],
          [
           0.5555555555555556,
           "#1f9e89"
          ],
          [
           0.6666666666666666,
           "#35b779"
          ],
          [
           0.7777777777777778,
           "#6ece58"
          ],
          [
           0.8888888888888888,
           "#b5de2b"
          ],
          [
           1,
           "#fde725"
          ]
         ]
        },
        "height": 700,
        "legend": {
         "tracegroupgap": 0
        },
        "showlegend": false,
        "template": {
         "data": {
          "bar": [
           {
            "error_x": {
             "color": "#2a3f5f"
            },
            "error_y": {
             "color": "#2a3f5f"
            },
            "marker": {
             "line": {
              "color": "#E5ECF6",
              "width": 0.5
             },
             "pattern": {
              "fillmode": "overlay",
              "size": 10,
              "solidity": 0.2
             }
            },
            "type": "bar"
           }
          ],
          "barpolar": [
           {
            "marker": {
             "line": {
              "color": "#E5ECF6",
              "width": 0.5
             },
             "pattern": {
              "fillmode": "overlay",
              "size": 10,
              "solidity": 0.2
             }
            },
            "type": "barpolar"
           }
          ],
          "carpet": [
           {
            "aaxis": {
             "endlinecolor": "#2a3f5f",
             "gridcolor": "white",
             "linecolor": "white",
             "minorgridcolor": "white",
             "startlinecolor": "#2a3f5f"
            },
            "baxis": {
             "endlinecolor": "#2a3f5f",
             "gridcolor": "white",
             "linecolor": "white",
             "minorgridcolor": "white",
             "startlinecolor": "#2a3f5f"
            },
            "type": "carpet"
           }
          ],
          "choropleth": [
           {
            "colorbar": {
             "outlinewidth": 0,
             "ticks": ""
            },
            "type": "choropleth"
           }
          ],
          "contour": [
           {
            "colorbar": {
             "outlinewidth": 0,
             "ticks": ""
            },
            "colorscale": [
             [
              0,
              "#0d0887"
             ],
             [
              0.1111111111111111,
              "#46039f"
             ],
             [
              0.2222222222222222,
              "#7201a8"
             ],
             [
              0.3333333333333333,
              "#9c179e"
             ],
             [
              0.4444444444444444,
              "#bd3786"
             ],
             [
              0.5555555555555556,
              "#d8576b"
             ],
             [
              0.6666666666666666,
              "#ed7953"
             ],
             [
              0.7777777777777778,
              "#fb9f3a"
             ],
             [
              0.8888888888888888,
              "#fdca26"
             ],
             [
              1,
              "#f0f921"
             ]
            ],
            "type": "contour"
           }
          ],
          "contourcarpet": [
           {
            "colorbar": {
             "outlinewidth": 0,
             "ticks": ""
            },
            "type": "contourcarpet"
           }
          ],
          "heatmap": [
           {
            "colorbar": {
             "outlinewidth": 0,
             "ticks": ""
            },
            "colorscale": [
             [
              0,
              "#0d0887"
             ],
             [
              0.1111111111111111,
              "#46039f"
             ],
             [
              0.2222222222222222,
              "#7201a8"
             ],
             [
              0.3333333333333333,
              "#9c179e"
             ],
             [
              0.4444444444444444,
              "#bd3786"
             ],
             [
              0.5555555555555556,
              "#d8576b"
             ],
             [
              0.6666666666666666,
              "#ed7953"
             ],
             [
              0.7777777777777778,
              "#fb9f3a"
             ],
             [
              0.8888888888888888,
              "#fdca26"
             ],
             [
              1,
              "#f0f921"
             ]
            ],
            "type": "heatmap"
           }
          ],
          "histogram": [
           {
            "marker": {
             "pattern": {
              "fillmode": "overlay",
              "size": 10,
              "solidity": 0.2
             }
            },
            "type": "histogram"
           }
          ],
          "histogram2d": [
           {
            "colorbar": {
             "outlinewidth": 0,
             "ticks": ""
            },
            "colorscale": [
             [
              0,
              "#0d0887"
             ],
             [
              0.1111111111111111,
              "#46039f"
             ],
             [
              0.2222222222222222,
              "#7201a8"
             ],
             [
              0.3333333333333333,
              "#9c179e"
             ],
             [
              0.4444444444444444,
              "#bd3786"
             ],
             [
              0.5555555555555556,
              "#d8576b"
             ],
             [
              0.6666666666666666,
              "#ed7953"
             ],
             [
              0.7777777777777778,
              "#fb9f3a"
             ],
             [
              0.8888888888888888,
              "#fdca26"
             ],
             [
              1,
              "#f0f921"
             ]
            ],
            "type": "histogram2d"
           }
          ],
          "histogram2dcontour": [
           {
            "colorbar": {
             "outlinewidth": 0,
             "ticks": ""
            },
            "colorscale": [
             [
              0,
              "#0d0887"
             ],
             [
              0.1111111111111111,
              "#46039f"
             ],
             [
              0.2222222222222222,
              "#7201a8"
             ],
             [
              0.3333333333333333,
              "#9c179e"
             ],
             [
              0.4444444444444444,
              "#bd3786"
             ],
             [
              0.5555555555555556,
              "#d8576b"
             ],
             [
              0.6666666666666666,
              "#ed7953"
             ],
             [
              0.7777777777777778,
              "#fb9f3a"
             ],
             [
              0.8888888888888888,
              "#fdca26"
             ],
             [
              1,
              "#f0f921"
             ]
            ],
            "type": "histogram2dcontour"
           }
          ],
          "mesh3d": [
           {
            "colorbar": {
             "outlinewidth": 0,
             "ticks": ""
            },
            "type": "mesh3d"
           }
          ],
          "parcoords": [
           {
            "line": {
             "colorbar": {
              "outlinewidth": 0,
              "ticks": ""
             }
            },
            "type": "parcoords"
           }
          ],
          "pie": [
           {
            "automargin": true,
            "type": "pie"
           }
          ],
          "scatter": [
           {
            "fillpattern": {
             "fillmode": "overlay",
             "size": 10,
             "solidity": 0.2
            },
            "type": "scatter"
           }
          ],
          "scatter3d": [
           {
            "line": {
             "colorbar": {
              "outlinewidth": 0,
              "ticks": ""
             }
            },
            "marker": {
             "colorbar": {
              "outlinewidth": 0,
              "ticks": ""
             }
            },
            "type": "scatter3d"
           }
          ],
          "scattercarpet": [
           {
            "marker": {
             "colorbar": {
              "outlinewidth": 0,
              "ticks": ""
             }
            },
            "type": "scattercarpet"
           }
          ],
          "scattergeo": [
           {
            "marker": {
             "colorbar": {
              "outlinewidth": 0,
              "ticks": ""
             }
            },
            "type": "scattergeo"
           }
          ],
          "scattergl": [
           {
            "marker": {
             "colorbar": {
              "outlinewidth": 0,
              "ticks": ""
             }
            },
            "type": "scattergl"
           }
          ],
          "scattermap": [
           {
            "marker": {
             "colorbar": {
              "outlinewidth": 0,
              "ticks": ""
             }
            },
            "type": "scattermap"
           }
          ],
          "scattermapbox": [
           {
            "marker": {
             "colorbar": {
              "outlinewidth": 0,
              "ticks": ""
             }
            },
            "type": "scattermapbox"
           }
          ],
          "scatterpolar": [
           {
            "marker": {
             "colorbar": {
              "outlinewidth": 0,
              "ticks": ""
             }
            },
            "type": "scatterpolar"
           }
          ],
          "scatterpolargl": [
           {
            "marker": {
             "colorbar": {
              "outlinewidth": 0,
              "ticks": ""
             }
            },
            "type": "scatterpolargl"
           }
          ],
          "scatterternary": [
           {
            "marker": {
             "colorbar": {
              "outlinewidth": 0,
              "ticks": ""
             }
            },
            "type": "scatterternary"
           }
          ],
          "surface": [
           {
            "colorbar": {
             "outlinewidth": 0,
             "ticks": ""
            },
            "colorscale": [
             [
              0,
              "#0d0887"
             ],
             [
              0.1111111111111111,
              "#46039f"
             ],
             [
              0.2222222222222222,
              "#7201a8"
             ],
             [
              0.3333333333333333,
              "#9c179e"
             ],
             [
              0.4444444444444444,
              "#bd3786"
             ],
             [
              0.5555555555555556,
              "#d8576b"
             ],
             [
              0.6666666666666666,
              "#ed7953"
             ],
             [
              0.7777777777777778,
              "#fb9f3a"
             ],
             [
              0.8888888888888888,
              "#fdca26"
             ],
             [
              1,
              "#f0f921"
             ]
            ],
            "type": "surface"
           }
          ],
          "table": [
           {
            "cells": {
             "fill": {
              "color": "#EBF0F8"
             },
             "line": {
              "color": "white"
             }
            },
            "header": {
             "fill": {
              "color": "#C8D4E3"
             },
             "line": {
              "color": "white"
             }
            },
            "type": "table"
           }
          ]
         },
         "layout": {
          "annotationdefaults": {
           "arrowcolor": "#2a3f5f",
           "arrowhead": 0,
           "arrowwidth": 1
          },
          "autotypenumbers": "strict",
          "coloraxis": {
           "colorbar": {
            "outlinewidth": 0,
            "ticks": ""
           }
          },
          "colorscale": {
           "diverging": [
            [
             0,
             "#8e0152"
            ],
            [
             0.1,
             "#c51b7d"
            ],
            [
             0.2,
             "#de77ae"
            ],
            [
             0.3,
             "#f1b6da"
            ],
            [
             0.4,
             "#fde0ef"
            ],
            [
             0.5,
             "#f7f7f7"
            ],
            [
             0.6,
             "#e6f5d0"
            ],
            [
             0.7,
             "#b8e186"
            ],
            [
             0.8,
             "#7fbc41"
            ],
            [
             0.9,
             "#4d9221"
            ],
            [
             1,
             "#276419"
            ]
           ],
           "sequential": [
            [
             0,
             "#0d0887"
            ],
            [
             0.1111111111111111,
             "#46039f"
            ],
            [
             0.2222222222222222,
             "#7201a8"
            ],
            [
             0.3333333333333333,
             "#9c179e"
            ],
            [
             0.4444444444444444,
             "#bd3786"
            ],
            [
             0.5555555555555556,
             "#d8576b"
            ],
            [
             0.6666666666666666,
             "#ed7953"
            ],
            [
             0.7777777777777778,
             "#fb9f3a"
            ],
            [
             0.8888888888888888,
             "#fdca26"
            ],
            [
             1,
             "#f0f921"
            ]
           ],
           "sequentialminus": [
            [
             0,
             "#0d0887"
            ],
            [
             0.1111111111111111,
             "#46039f"
            ],
            [
             0.2222222222222222,
             "#7201a8"
            ],
            [
             0.3333333333333333,
             "#9c179e"
            ],
            [
             0.4444444444444444,
             "#bd3786"
            ],
            [
             0.5555555555555556,
             "#d8576b"
            ],
            [
             0.6666666666666666,
             "#ed7953"
            ],
            [
             0.7777777777777778,
             "#fb9f3a"
            ],
            [
             0.8888888888888888,
             "#fdca26"
            ],
            [
             1,
             "#f0f921"
            ]
           ]
          },
          "colorway": [
           "#636efa",
           "#EF553B",
           "#00cc96",
           "#ab63fa",
           "#FFA15A",
           "#19d3f3",
           "#FF6692",
           "#B6E880",
           "#FF97FF",
           "#FECB52"
          ],
          "font": {
           "color": "#2a3f5f"
          },
          "geo": {
           "bgcolor": "white",
           "lakecolor": "white",
           "landcolor": "#E5ECF6",
           "showlakes": true,
           "showland": true,
           "subunitcolor": "white"
          },
          "hoverlabel": {
           "align": "left"
          },
          "hovermode": "closest",
          "mapbox": {
           "style": "light"
          },
          "paper_bgcolor": "white",
          "plot_bgcolor": "#E5ECF6",
          "polar": {
           "angularaxis": {
            "gridcolor": "white",
            "linecolor": "white",
            "ticks": ""
           },
           "bgcolor": "#E5ECF6",
           "radialaxis": {
            "gridcolor": "white",
            "linecolor": "white",
            "ticks": ""
           }
          },
          "scene": {
           "xaxis": {
            "backgroundcolor": "#E5ECF6",
            "gridcolor": "white",
            "gridwidth": 2,
            "linecolor": "white",
            "showbackground": true,
            "ticks": "",
            "zerolinecolor": "white"
           },
           "yaxis": {
            "backgroundcolor": "#E5ECF6",
            "gridcolor": "white",
            "gridwidth": 2,
            "linecolor": "white",
            "showbackground": true,
            "ticks": "",
            "zerolinecolor": "white"
           },
           "zaxis": {
            "backgroundcolor": "#E5ECF6",
            "gridcolor": "white",
            "gridwidth": 2,
            "linecolor": "white",
            "showbackground": true,
            "ticks": "",
            "zerolinecolor": "white"
           }
          },
          "shapedefaults": {
           "line": {
            "color": "#2a3f5f"
           }
          },
          "ternary": {
           "aaxis": {
            "gridcolor": "white",
            "linecolor": "white",
            "ticks": ""
           },
           "baxis": {
            "gridcolor": "white",
            "linecolor": "white",
            "ticks": ""
           },
           "bgcolor": "#E5ECF6",
           "caxis": {
            "gridcolor": "white",
            "linecolor": "white",
            "ticks": ""
           }
          },
          "title": {
           "x": 0.05
          },
          "xaxis": {
           "automargin": true,
           "gridcolor": "white",
           "linecolor": "white",
           "ticks": "",
           "title": {
            "standoff": 15
           },
           "zerolinecolor": "white",
           "zerolinewidth": 2
          },
          "yaxis": {
           "automargin": true,
           "gridcolor": "white",
           "linecolor": "white",
           "ticks": "",
           "title": {
            "standoff": 15
           },
           "zerolinecolor": "white",
           "zerolinewidth": 2
          }
         }
        },
        "title": {
         "text": "Top 10 Sellers by Number of Cars Listed with Average Seller Rating"
        },
        "width": 1500,
        "xaxis": {
         "anchor": "y",
         "domain": [
          0,
          1
         ],
         "title": {
          "text": "Seller"
         }
        },
        "yaxis": {
         "anchor": "x",
         "domain": [
          0,
          1
         ],
         "title": {
          "text": "Number of Cars Listed"
         }
        }
       }
      }
     },
     "metadata": {},
     "output_type": "display_data"
    }
   ],
   "source": [
    "total_listings = data['seller_name'].value_counts()\n",
    "\n",
    "average_ratings = (data[data['seller_rating'].notnull()].groupby('seller_name').agg({'seller_rating': 'mean'}))\n",
    "\n",
    "combined = pd.DataFrame({'total_listings': total_listings}).join(average_ratings)\n",
    "\n",
    "combined['seller_rating'] = combined['seller_rating'].round(2)\n",
    "\n",
    "combined_sorted = combined.sort_values(by='total_listings', ascending=False)\n",
    "\n",
    "\n",
    "top_seller = combined_sorted.head(20).reset_index()\n",
    "\n",
    "fig = px.bar(\n",
    "    top_seller,\n",
    "    x='seller_name',\n",
    "    y='total_listings',\n",
    "    color='seller_rating',\n",
    "    color_continuous_scale='Viridis',\n",
    "    labels={'seller_name': 'Seller', 'total_listings': 'Number of Cars Listed', 'seller_rating': 'Average Rating'},\n",
    "    title='Top 10 Sellers by Number of Cars Listed with Average Seller Rating',\n",
    ")\n",
    "fig.update_layout(\n",
    "    height = 700,\n",
    "    width = 1500,\n",
    "    showlegend = False\n",
    ")\n",
    "fig.update_layout(coloraxis_colorbar=dict(title=\"Avg Rating\"))\n",
    "\n",
    "fig.show()\n"
   ]
  },
  {
   "cell_type": "code",
   "execution_count": null,
   "id": "9cd30717-ee32-4558-9258-6c43d1a006c9",
   "metadata": {},
   "outputs": [],
   "source": []
  },
  {
   "cell_type": "code",
   "execution_count": null,
   "id": "7fcf4bf8-2e36-4b6e-8b7b-1c1fb0995d62",
   "metadata": {},
   "outputs": [],
   "source": [
    "Dodge_data = data[data['manufacturer'] == 'Dodge']"
   ]
  },
  {
   "cell_type": "code",
   "execution_count": null,
   "id": "527982c9-47ab-484d-817a-0916208514d3",
   "metadata": {},
   "outputs": [
    {
     "data": {
      "text/plain": [
       "165030              Aspen\n",
       "165031         Caravan SE\n",
       "165032        Caravan SXT\n",
       "165033      Caravan Cargo\n",
       "165034         Caravan SE\n",
       "               ...       \n",
       "190275    Durango GT Plus\n",
       "190276        Durango R/T\n",
       "190277    Durango Limited\n",
       "190278        Durango SXT\n",
       "190279         Durango GT\n",
       "Name: model, Length: 25250, dtype: object"
      ]
     },
     "execution_count": 164,
     "metadata": {},
     "output_type": "execute_result"
    }
   ],
   "source": [
    "Dodge_data['model']"
   ]
  },
  {
   "cell_type": "code",
   "execution_count": null,
   "id": "f00c7e32-c47f-4811-9847-c571835d1867",
   "metadata": {},
   "outputs": [
    {
     "data": {
      "text/plain": [
       "manufacturer           5883\n",
       "model                  5883\n",
       "year                   5883\n",
       "mileage                5883\n",
       "engine                 5847\n",
       "transmission           5883\n",
       "drivetrain             5883\n",
       "fuel_type              5873\n",
       "mpg                       0\n",
       "accidents_or_damage    5359\n",
       "one_owner              5347\n",
       "personal_use_only      5359\n",
       "seller_rating          4206\n",
       "driver_rating          5517\n",
       "driver_reviews_num     5883\n",
       "price_drop             3463\n",
       "price                  5883\n",
       "price_drop_pct         3463\n",
       "dtype: int64"
      ]
     },
     "execution_count": 109,
     "metadata": {},
     "output_type": "execute_result"
    }
   ],
   "source": [
    "tesla_data = data[data['manufacturer'] == 'Tesla']\n",
    "tesla_data.count()"
   ]
  },
  {
   "cell_type": "code",
   "execution_count": null,
   "id": "e5f928d1-693e-4aa5-bf4a-c313942f26c7",
   "metadata": {},
   "outputs": [
    {
     "data": {
      "text/html": [
       "<div>\n",
       "<style scoped>\n",
       "    .dataframe tbody tr th:only-of-type {\n",
       "        vertical-align: middle;\n",
       "    }\n",
       "\n",
       "    .dataframe tbody tr th {\n",
       "        vertical-align: top;\n",
       "    }\n",
       "\n",
       "    .dataframe thead th {\n",
       "        text-align: right;\n",
       "    }\n",
       "</style>\n",
       "<table border=\"1\" class=\"dataframe\">\n",
       "  <thead>\n",
       "    <tr style=\"text-align: right;\">\n",
       "      <th></th>\n",
       "      <th>manufacturer</th>\n",
       "      <th>model</th>\n",
       "      <th>year</th>\n",
       "      <th>mileage</th>\n",
       "      <th>engine</th>\n",
       "      <th>transmission</th>\n",
       "      <th>drivetrain</th>\n",
       "      <th>fuel_type</th>\n",
       "      <th>mpg</th>\n",
       "      <th>accidents_or_damage</th>\n",
       "      <th>one_owner</th>\n",
       "      <th>personal_use_only</th>\n",
       "      <th>seller_name</th>\n",
       "      <th>seller_rating</th>\n",
       "      <th>driver_rating</th>\n",
       "      <th>driver_reviews_num</th>\n",
       "      <th>price_drop</th>\n",
       "      <th>price</th>\n",
       "      <th>age</th>\n",
       "      <th>top_sellers</th>\n",
       "    </tr>\n",
       "  </thead>\n",
       "  <tbody>\n",
       "    <tr>\n",
       "      <th>11288</th>\n",
       "      <td>Audi</td>\n",
       "      <td>Q7 3.0T Premium</td>\n",
       "      <td>2017</td>\n",
       "      <td>97123.0</td>\n",
       "      <td>V6 Cylinder Engine</td>\n",
       "      <td>8spd automatic</td>\n",
       "      <td>AWD</td>\n",
       "      <td>Gasoline</td>\n",
       "      <td>22.0</td>\n",
       "      <td>1.0</td>\n",
       "      <td>0.0</td>\n",
       "      <td>1.0</td>\n",
       "      <td>Gateway Classic Cars</td>\n",
       "      <td>NaN</td>\n",
       "      <td>4.7</td>\n",
       "      <td>72.0</td>\n",
       "      <td>4000.0</td>\n",
       "      <td>42000.0</td>\n",
       "      <td>7</td>\n",
       "      <td>NaN</td>\n",
       "    </tr>\n",
       "    <tr>\n",
       "      <th>17208</th>\n",
       "      <td>Audi</td>\n",
       "      <td>TT 2.0T</td>\n",
       "      <td>2014</td>\n",
       "      <td>60209.0</td>\n",
       "      <td>2L I-4 gasoline direct injection, DOHC, variab...</td>\n",
       "      <td>Automatic</td>\n",
       "      <td>AWD</td>\n",
       "      <td>Gasoline</td>\n",
       "      <td>26.5</td>\n",
       "      <td>0.0</td>\n",
       "      <td>0.0</td>\n",
       "      <td>1.0</td>\n",
       "      <td>Gateway Classic Cars</td>\n",
       "      <td>NaN</td>\n",
       "      <td>4.1</td>\n",
       "      <td>6.0</td>\n",
       "      <td>6000.0</td>\n",
       "      <td>35000.0</td>\n",
       "      <td>10</td>\n",
       "      <td>NaN</td>\n",
       "    </tr>\n",
       "    <tr>\n",
       "      <th>22985</th>\n",
       "      <td>Audi</td>\n",
       "      <td>S6 5.2 Prestige</td>\n",
       "      <td>2011</td>\n",
       "      <td>33380.0</td>\n",
       "      <td>5.2L V-10 gasoline direct injection, DOHC, var...</td>\n",
       "      <td>Automatic</td>\n",
       "      <td>AWD</td>\n",
       "      <td>Gasoline</td>\n",
       "      <td>16.5</td>\n",
       "      <td>0.0</td>\n",
       "      <td>0.0</td>\n",
       "      <td>1.0</td>\n",
       "      <td>Gateway Classic Cars</td>\n",
       "      <td>NaN</td>\n",
       "      <td>5.0</td>\n",
       "      <td>1.0</td>\n",
       "      <td>1000.0</td>\n",
       "      <td>35000.0</td>\n",
       "      <td>13</td>\n",
       "      <td>NaN</td>\n",
       "    </tr>\n",
       "    <tr>\n",
       "      <th>27022</th>\n",
       "      <td>BMW</td>\n",
       "      <td>650 650Ci</td>\n",
       "      <td>2006</td>\n",
       "      <td>69104.0</td>\n",
       "      <td>4.8L V-8 DOHC, Double VANOS variable valve con...</td>\n",
       "      <td>6 Speed Automatic</td>\n",
       "      <td>RWD</td>\n",
       "      <td>Gasoline</td>\n",
       "      <td>18.0</td>\n",
       "      <td>0.0</td>\n",
       "      <td>0.0</td>\n",
       "      <td>0.0</td>\n",
       "      <td>Gateway Classic Cars</td>\n",
       "      <td>NaN</td>\n",
       "      <td>4.7</td>\n",
       "      <td>19.0</td>\n",
       "      <td>NaN</td>\n",
       "      <td>14500.0</td>\n",
       "      <td>18</td>\n",
       "      <td>NaN</td>\n",
       "    </tr>\n",
       "    <tr>\n",
       "      <th>28226</th>\n",
       "      <td>BMW</td>\n",
       "      <td>M6 Base</td>\n",
       "      <td>1988</td>\n",
       "      <td>89091.0</td>\n",
       "      <td>3.5L F DOHC I6</td>\n",
       "      <td>5 Speed Manual</td>\n",
       "      <td>Unknown</td>\n",
       "      <td>NaN</td>\n",
       "      <td>NaN</td>\n",
       "      <td>0.0</td>\n",
       "      <td>0.0</td>\n",
       "      <td>1.0</td>\n",
       "      <td>Gateway Classic Cars</td>\n",
       "      <td>NaN</td>\n",
       "      <td>NaN</td>\n",
       "      <td>0.0</td>\n",
       "      <td>6000.0</td>\n",
       "      <td>70000.0</td>\n",
       "      <td>36</td>\n",
       "      <td>NaN</td>\n",
       "    </tr>\n",
       "    <tr>\n",
       "      <th>...</th>\n",
       "      <td>...</td>\n",
       "      <td>...</td>\n",
       "      <td>...</td>\n",
       "      <td>...</td>\n",
       "      <td>...</td>\n",
       "      <td>...</td>\n",
       "      <td>...</td>\n",
       "      <td>...</td>\n",
       "      <td>...</td>\n",
       "      <td>...</td>\n",
       "      <td>...</td>\n",
       "      <td>...</td>\n",
       "      <td>...</td>\n",
       "      <td>...</td>\n",
       "      <td>...</td>\n",
       "      <td>...</td>\n",
       "      <td>...</td>\n",
       "      <td>...</td>\n",
       "      <td>...</td>\n",
       "      <td>...</td>\n",
       "    </tr>\n",
       "    <tr>\n",
       "      <th>741540</th>\n",
       "      <td>Volkswagen</td>\n",
       "      <td>Karmann Ghia</td>\n",
       "      <td>1971</td>\n",
       "      <td>81097.0</td>\n",
       "      <td>4 Cyl  1600 cc</td>\n",
       "      <td>4-speed Manual</td>\n",
       "      <td>Unknown</td>\n",
       "      <td>NaN</td>\n",
       "      <td>NaN</td>\n",
       "      <td>0.0</td>\n",
       "      <td>NaN</td>\n",
       "      <td>1.0</td>\n",
       "      <td>Gateway Classic Cars</td>\n",
       "      <td>NaN</td>\n",
       "      <td>4.4</td>\n",
       "      <td>3.0</td>\n",
       "      <td>NaN</td>\n",
       "      <td>33000.0</td>\n",
       "      <td>53</td>\n",
       "      <td>NaN</td>\n",
       "    </tr>\n",
       "    <tr>\n",
       "      <th>741542</th>\n",
       "      <td>Volkswagen</td>\n",
       "      <td>Karmann Ghia</td>\n",
       "      <td>1971</td>\n",
       "      <td>29000.0</td>\n",
       "      <td>Electric</td>\n",
       "      <td>4-Spd Manual</td>\n",
       "      <td>Unknown</td>\n",
       "      <td>NaN</td>\n",
       "      <td>NaN</td>\n",
       "      <td>0.0</td>\n",
       "      <td>NaN</td>\n",
       "      <td>1.0</td>\n",
       "      <td>Gateway Classic Cars</td>\n",
       "      <td>NaN</td>\n",
       "      <td>4.4</td>\n",
       "      <td>3.0</td>\n",
       "      <td>1000.0</td>\n",
       "      <td>62000.0</td>\n",
       "      <td>53</td>\n",
       "      <td>NaN</td>\n",
       "    </tr>\n",
       "    <tr>\n",
       "      <th>755336</th>\n",
       "      <td>Volvo</td>\n",
       "      <td>240 DL</td>\n",
       "      <td>1988</td>\n",
       "      <td>120321.0</td>\n",
       "      <td>I-4 B-23</td>\n",
       "      <td>4 Speed Automatic</td>\n",
       "      <td>Unknown</td>\n",
       "      <td>NaN</td>\n",
       "      <td>NaN</td>\n",
       "      <td>NaN</td>\n",
       "      <td>NaN</td>\n",
       "      <td>NaN</td>\n",
       "      <td>Gateway Classic Cars</td>\n",
       "      <td>NaN</td>\n",
       "      <td>4.6</td>\n",
       "      <td>1.0</td>\n",
       "      <td>NaN</td>\n",
       "      <td>11500.0</td>\n",
       "      <td>36</td>\n",
       "      <td>NaN</td>\n",
       "    </tr>\n",
       "    <tr>\n",
       "      <th>755337</th>\n",
       "      <td>Volvo</td>\n",
       "      <td>240</td>\n",
       "      <td>1992</td>\n",
       "      <td>138802.0</td>\n",
       "      <td>2.3L I-4 engine with 114HP</td>\n",
       "      <td>Automatic</td>\n",
       "      <td>Unknown</td>\n",
       "      <td>Gasoline</td>\n",
       "      <td>24.5</td>\n",
       "      <td>0.0</td>\n",
       "      <td>0.0</td>\n",
       "      <td>1.0</td>\n",
       "      <td>Gateway Classic Cars</td>\n",
       "      <td>NaN</td>\n",
       "      <td>4.4</td>\n",
       "      <td>4.0</td>\n",
       "      <td>5000.0</td>\n",
       "      <td>16500.0</td>\n",
       "      <td>32</td>\n",
       "      <td>NaN</td>\n",
       "    </tr>\n",
       "    <tr>\n",
       "      <th>759950</th>\n",
       "      <td>Volvo</td>\n",
       "      <td>740 GLE</td>\n",
       "      <td>1990</td>\n",
       "      <td>1177.0</td>\n",
       "      <td>4 Cylinder Engine</td>\n",
       "      <td>700R4 Automatic</td>\n",
       "      <td>Unknown</td>\n",
       "      <td>Gasoline</td>\n",
       "      <td>NaN</td>\n",
       "      <td>1.0</td>\n",
       "      <td>0.0</td>\n",
       "      <td>1.0</td>\n",
       "      <td>Gateway Classic Cars</td>\n",
       "      <td>NaN</td>\n",
       "      <td>3.9</td>\n",
       "      <td>4.0</td>\n",
       "      <td>NaN</td>\n",
       "      <td>22000.0</td>\n",
       "      <td>34</td>\n",
       "      <td>NaN</td>\n",
       "    </tr>\n",
       "  </tbody>\n",
       "</table>\n",
       "<p>1638 rows × 20 columns</p>\n",
       "</div>"
      ],
      "text/plain": [
       "       manufacturer            model  year   mileage  \\\n",
       "11288          Audi  Q7 3.0T Premium  2017   97123.0   \n",
       "17208          Audi          TT 2.0T  2014   60209.0   \n",
       "22985          Audi  S6 5.2 Prestige  2011   33380.0   \n",
       "27022           BMW        650 650Ci  2006   69104.0   \n",
       "28226           BMW          M6 Base  1988   89091.0   \n",
       "...             ...              ...   ...       ...   \n",
       "741540   Volkswagen     Karmann Ghia  1971   81097.0   \n",
       "741542   Volkswagen     Karmann Ghia  1971   29000.0   \n",
       "755336        Volvo           240 DL  1988  120321.0   \n",
       "755337        Volvo              240  1992  138802.0   \n",
       "759950        Volvo          740 GLE  1990    1177.0   \n",
       "\n",
       "                                                   engine       transmission  \\\n",
       "11288                                  V6 Cylinder Engine     8spd automatic   \n",
       "17208   2L I-4 gasoline direct injection, DOHC, variab...          Automatic   \n",
       "22985   5.2L V-10 gasoline direct injection, DOHC, var...          Automatic   \n",
       "27022   4.8L V-8 DOHC, Double VANOS variable valve con...  6 Speed Automatic   \n",
       "28226                                      3.5L F DOHC I6     5 Speed Manual   \n",
       "...                                                   ...                ...   \n",
       "741540                                     4 Cyl  1600 cc     4-speed Manual   \n",
       "741542                                           Electric       4-Spd Manual   \n",
       "755336                                           I-4 B-23  4 Speed Automatic   \n",
       "755337                         2.3L I-4 engine with 114HP          Automatic   \n",
       "759950                                  4 Cylinder Engine    700R4 Automatic   \n",
       "\n",
       "       drivetrain fuel_type   mpg  accidents_or_damage  one_owner  \\\n",
       "11288         AWD  Gasoline  22.0                  1.0        0.0   \n",
       "17208         AWD  Gasoline  26.5                  0.0        0.0   \n",
       "22985         AWD  Gasoline  16.5                  0.0        0.0   \n",
       "27022         RWD  Gasoline  18.0                  0.0        0.0   \n",
       "28226     Unknown       NaN   NaN                  0.0        0.0   \n",
       "...           ...       ...   ...                  ...        ...   \n",
       "741540    Unknown       NaN   NaN                  0.0        NaN   \n",
       "741542    Unknown       NaN   NaN                  0.0        NaN   \n",
       "755336    Unknown       NaN   NaN                  NaN        NaN   \n",
       "755337    Unknown  Gasoline  24.5                  0.0        0.0   \n",
       "759950    Unknown  Gasoline   NaN                  1.0        0.0   \n",
       "\n",
       "        personal_use_only           seller_name  seller_rating  driver_rating  \\\n",
       "11288                 1.0  Gateway Classic Cars            NaN            4.7   \n",
       "17208                 1.0  Gateway Classic Cars            NaN            4.1   \n",
       "22985                 1.0  Gateway Classic Cars            NaN            5.0   \n",
       "27022                 0.0  Gateway Classic Cars            NaN            4.7   \n",
       "28226                 1.0  Gateway Classic Cars            NaN            NaN   \n",
       "...                   ...                   ...            ...            ...   \n",
       "741540                1.0  Gateway Classic Cars            NaN            4.4   \n",
       "741542                1.0  Gateway Classic Cars            NaN            4.4   \n",
       "755336                NaN  Gateway Classic Cars            NaN            4.6   \n",
       "755337                1.0  Gateway Classic Cars            NaN            4.4   \n",
       "759950                1.0  Gateway Classic Cars            NaN            3.9   \n",
       "\n",
       "        driver_reviews_num  price_drop    price  age  top_sellers  \n",
       "11288                 72.0      4000.0  42000.0    7          NaN  \n",
       "17208                  6.0      6000.0  35000.0   10          NaN  \n",
       "22985                  1.0      1000.0  35000.0   13          NaN  \n",
       "27022                 19.0         NaN  14500.0   18          NaN  \n",
       "28226                  0.0      6000.0  70000.0   36          NaN  \n",
       "...                    ...         ...      ...  ...          ...  \n",
       "741540                 3.0         NaN  33000.0   53          NaN  \n",
       "741542                 3.0      1000.0  62000.0   53          NaN  \n",
       "755336                 1.0         NaN  11500.0   36          NaN  \n",
       "755337                 4.0      5000.0  16500.0   32          NaN  \n",
       "759950                 4.0         NaN  22000.0   34          NaN  \n",
       "\n",
       "[1638 rows x 20 columns]"
      ]
     },
     "execution_count": 342,
     "metadata": {},
     "output_type": "execute_result"
    }
   ],
   "source": [
    "Gateway_Classic_Cars_data = data[data['seller_name']=='Gateway Classic Cars']\n",
    "Gateway_Classic_Cars_data"
   ]
  },
  {
   "cell_type": "code",
   "execution_count": null,
   "id": "52be9c5b-793a-4ded-bbb9-d7c8bf97a895",
   "metadata": {},
   "outputs": [],
   "source": []
  },
  {
   "cell_type": "code",
   "execution_count": null,
   "id": "db9a8f8c-6445-42a3-bc3c-bd8a09a61b69",
   "metadata": {},
   "outputs": [],
   "source": []
  },
  {
   "cell_type": "code",
   "execution_count": null,
   "id": "1e571159-4f65-4435-a3e3-f5653a5c7649",
   "metadata": {},
   "outputs": [],
   "source": []
  },
  {
   "cell_type": "code",
   "execution_count": null,
   "id": "783fd20b-c0d3-4f0e-b52a-f0235cf36a22",
   "metadata": {},
   "outputs": [],
   "source": []
  },
  {
   "cell_type": "code",
   "execution_count": null,
   "id": "d7849c32-016b-4b39-b417-d432b0ca35a5",
   "metadata": {},
   "outputs": [],
   "source": []
  },
  {
   "cell_type": "code",
   "execution_count": null,
   "id": "61a9aba4-25d4-4d79-9256-359063391043",
   "metadata": {},
   "outputs": [],
   "source": []
  },
  {
   "cell_type": "code",
   "execution_count": null,
   "id": "95ef0fc5-06bd-4d49-b39b-7510f53fc0bf",
   "metadata": {},
   "outputs": [],
   "source": []
  },
  {
   "cell_type": "code",
   "execution_count": null,
   "id": "eccab354-1af9-47df-923b-7c831b495474",
   "metadata": {},
   "outputs": [],
   "source": []
  },
  {
   "cell_type": "code",
   "execution_count": null,
   "id": "50850947-ac05-499f-bf8e-3b7cd1fb04d1",
   "metadata": {},
   "outputs": [],
   "source": []
  },
  {
   "cell_type": "code",
   "execution_count": null,
   "id": "1e5abea4-8da2-433a-8011-b00b6794c937",
   "metadata": {},
   "outputs": [],
   "source": []
  },
  {
   "cell_type": "code",
   "execution_count": null,
   "id": "07bef809-292a-4a90-9bea-b64a5377afc1",
   "metadata": {},
   "outputs": [],
   "source": []
  },
  {
   "cell_type": "code",
   "execution_count": null,
   "id": "0a334af6-435a-4c92-9b2b-8890b61df5f7",
   "metadata": {},
   "outputs": [],
   "source": []
  },
  {
   "cell_type": "code",
   "execution_count": null,
   "id": "03b8b672-46ab-4ef2-8249-0d4ddb92df09",
   "metadata": {},
   "outputs": [],
   "source": []
  },
  {
   "cell_type": "code",
   "execution_count": null,
   "id": "2de9dc49-e242-48a3-8649-d802ef5b8449",
   "metadata": {},
   "outputs": [],
   "source": []
  },
  {
   "cell_type": "code",
   "execution_count": null,
   "id": "6f5bdbc3-dc64-4c97-acda-fee23daef6c4",
   "metadata": {},
   "outputs": [],
   "source": []
  },
  {
   "cell_type": "code",
   "execution_count": null,
   "id": "587f2bcb-e3c0-4759-8cf9-20b1c962fe5f",
   "metadata": {},
   "outputs": [],
   "source": []
  },
  {
   "cell_type": "code",
   "execution_count": null,
   "id": "09da6818-7ad0-45fc-ab56-cada9deaff2f",
   "metadata": {},
   "outputs": [],
   "source": []
  },
  {
   "cell_type": "code",
   "execution_count": null,
   "id": "8bb091b3-f4d0-46b9-afa8-90c99670eaa7",
   "metadata": {},
   "outputs": [],
   "source": []
  }
 ],
 "metadata": {
  "kernelspec": {
   "display_name": "env",
   "language": "python",
   "name": "python3"
  },
  "language_info": {
   "codemirror_mode": {
    "name": "ipython",
    "version": 3
   },
   "file_extension": ".py",
   "mimetype": "text/x-python",
   "name": "python",
   "nbconvert_exporter": "python",
   "pygments_lexer": "ipython3",
   "version": "3.13.5"
  }
 },
 "nbformat": 4,
 "nbformat_minor": 5
}
