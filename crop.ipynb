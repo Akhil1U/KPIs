{
 "cells": [
  {
   "cell_type": "markdown",
   "id": "f1a8f86f",
   "metadata": {},
   "source": [
    "<div style=\"text-align: center;background-color:#f0e9d5; padding:10px; border-left: 5px solid #4CAF50; font-family: Trebuchet MS; font-size: 20px; color: #333;\">\n",
    "  LOAD LIBRARY & DATASET\n",
    "</div>\n"
   ]
  },
  {
   "cell_type": "code",
   "execution_count": 2,
   "id": "fc30d277",
   "metadata": {},
   "outputs": [],
   "source": [
    "import pandas as pd\n",
    "import plotly.express as px\n",
    "import plotly.graph_objects as go\n",
    "import numpy as np\n",
    "from scipy.stats import gaussian_kde"
   ]
  },
  {
   "cell_type": "code",
   "execution_count": null,
   "id": "f488eafc",
   "metadata": {},
   "outputs": [],
   "source": [
    "data = pd.read_csv(\"../datasets/agriculture/ICRISAT-District Level Data.csv\")"
   ]
  },
  {
   "cell_type": "code",
   "execution_count": null,
   "id": "eec3df43",
   "metadata": {},
   "outputs": [
    {
     "name": "stdout",
     "output_type": "stream",
     "text": [
      "shape of dataset(16146, 38)\n"
     ]
    }
   ],
   "source": [
    "print(f'shape of dataset {data.shape}')\n"
   ]
  },
  {
   "cell_type": "markdown",
   "id": "1db6f099",
   "metadata": {},
   "source": [
    "<div style=\"text-align: center;background-color:#f0e9d5; padding:10px; border-left: 5px solid #4CAF50; font-family: Trebuchet MS; font-size: 20px; color: #333;\">\n",
    "  Data Overview\n",
    "</div>"
   ]
  },
  {
   "cell_type": "code",
   "execution_count": 5,
   "id": "bf16cff6",
   "metadata": {},
   "outputs": [
    {
     "data": {
      "text/html": [
       "<div>\n",
       "<style scoped>\n",
       "    .dataframe tbody tr th:only-of-type {\n",
       "        vertical-align: middle;\n",
       "    }\n",
       "\n",
       "    .dataframe tbody tr th {\n",
       "        vertical-align: top;\n",
       "    }\n",
       "\n",
       "    .dataframe thead th {\n",
       "        text-align: right;\n",
       "    }\n",
       "</style>\n",
       "<table border=\"1\" class=\"dataframe\">\n",
       "  <thead>\n",
       "    <tr style=\"text-align: right;\">\n",
       "      <th></th>\n",
       "      <th>Dist Code</th>\n",
       "      <th>Year</th>\n",
       "      <th>State Code</th>\n",
       "      <th>State Name</th>\n",
       "      <th>Dist Name</th>\n",
       "      <th>RICE AREA (1000 ha)</th>\n",
       "      <th>RICE PRODUCTION (1000 tons)</th>\n",
       "      <th>RICE YIELD (Kg per ha)</th>\n",
       "      <th>WHEAT AREA (1000 ha)</th>\n",
       "      <th>WHEAT PRODUCTION (1000 tons)</th>\n",
       "      <th>...</th>\n",
       "      <th>LINSEED YIELD (Kg per ha)</th>\n",
       "      <th>SUNFLOWER AREA (1000 ha)</th>\n",
       "      <th>SUNFLOWER PRODUCTION (1000 tons)</th>\n",
       "      <th>SUNFLOWER YIELD (Kg per ha)</th>\n",
       "      <th>OILSEEDS AREA (1000 ha)</th>\n",
       "      <th>OILSEEDS PRODUCTION (1000 tons)</th>\n",
       "      <th>OILSEEDS YIELD (Kg per ha)</th>\n",
       "      <th>SUGARCANE AREA (1000 ha)</th>\n",
       "      <th>SUGARCANE PRODUCTION (1000 tons)</th>\n",
       "      <th>SUGARCANE YIELD (Kg per ha)</th>\n",
       "    </tr>\n",
       "  </thead>\n",
       "  <tbody>\n",
       "    <tr>\n",
       "      <th>0</th>\n",
       "      <td>1</td>\n",
       "      <td>1966</td>\n",
       "      <td>14</td>\n",
       "      <td>Chhattisgarh</td>\n",
       "      <td>Durg</td>\n",
       "      <td>548.0</td>\n",
       "      <td>185.0</td>\n",
       "      <td>337.59</td>\n",
       "      <td>44.0</td>\n",
       "      <td>20.0</td>\n",
       "      <td>...</td>\n",
       "      <td>148.80</td>\n",
       "      <td>0.0</td>\n",
       "      <td>0.0</td>\n",
       "      <td>0.0</td>\n",
       "      <td>50.70</td>\n",
       "      <td>-1.0</td>\n",
       "      <td>-1.00</td>\n",
       "      <td>0.9</td>\n",
       "      <td>1.6</td>\n",
       "      <td>1777.78</td>\n",
       "    </tr>\n",
       "    <tr>\n",
       "      <th>1</th>\n",
       "      <td>1</td>\n",
       "      <td>1967</td>\n",
       "      <td>14</td>\n",
       "      <td>Chhattisgarh</td>\n",
       "      <td>Durg</td>\n",
       "      <td>547.0</td>\n",
       "      <td>409.0</td>\n",
       "      <td>747.71</td>\n",
       "      <td>50.0</td>\n",
       "      <td>26.0</td>\n",
       "      <td>...</td>\n",
       "      <td>257.74</td>\n",
       "      <td>0.0</td>\n",
       "      <td>0.0</td>\n",
       "      <td>0.0</td>\n",
       "      <td>113.55</td>\n",
       "      <td>-1.0</td>\n",
       "      <td>-1.00</td>\n",
       "      <td>0.8</td>\n",
       "      <td>1.2</td>\n",
       "      <td>1500.00</td>\n",
       "    </tr>\n",
       "    <tr>\n",
       "      <th>2</th>\n",
       "      <td>1</td>\n",
       "      <td>1968</td>\n",
       "      <td>14</td>\n",
       "      <td>Chhattisgarh</td>\n",
       "      <td>Durg</td>\n",
       "      <td>556.3</td>\n",
       "      <td>468.0</td>\n",
       "      <td>841.27</td>\n",
       "      <td>53.7</td>\n",
       "      <td>30.0</td>\n",
       "      <td>...</td>\n",
       "      <td>210.06</td>\n",
       "      <td>0.0</td>\n",
       "      <td>0.0</td>\n",
       "      <td>0.0</td>\n",
       "      <td>126.62</td>\n",
       "      <td>-1.0</td>\n",
       "      <td>-1.00</td>\n",
       "      <td>1.0</td>\n",
       "      <td>1.0</td>\n",
       "      <td>1000.00</td>\n",
       "    </tr>\n",
       "    <tr>\n",
       "      <th>3</th>\n",
       "      <td>1</td>\n",
       "      <td>1969</td>\n",
       "      <td>14</td>\n",
       "      <td>Chhattisgarh</td>\n",
       "      <td>Durg</td>\n",
       "      <td>563.4</td>\n",
       "      <td>400.8</td>\n",
       "      <td>711.40</td>\n",
       "      <td>49.4</td>\n",
       "      <td>26.5</td>\n",
       "      <td>...</td>\n",
       "      <td>128.59</td>\n",
       "      <td>0.0</td>\n",
       "      <td>0.0</td>\n",
       "      <td>0.0</td>\n",
       "      <td>114.14</td>\n",
       "      <td>14.9</td>\n",
       "      <td>130.54</td>\n",
       "      <td>1.0</td>\n",
       "      <td>1.9</td>\n",
       "      <td>1900.00</td>\n",
       "    </tr>\n",
       "    <tr>\n",
       "      <th>4</th>\n",
       "      <td>1</td>\n",
       "      <td>1970</td>\n",
       "      <td>14</td>\n",
       "      <td>Chhattisgarh</td>\n",
       "      <td>Durg</td>\n",
       "      <td>571.6</td>\n",
       "      <td>473.6</td>\n",
       "      <td>828.55</td>\n",
       "      <td>44.2</td>\n",
       "      <td>29.0</td>\n",
       "      <td>...</td>\n",
       "      <td>198.95</td>\n",
       "      <td>0.0</td>\n",
       "      <td>0.0</td>\n",
       "      <td>0.0</td>\n",
       "      <td>126.40</td>\n",
       "      <td>24.3</td>\n",
       "      <td>192.25</td>\n",
       "      <td>0.7</td>\n",
       "      <td>1.4</td>\n",
       "      <td>2000.00</td>\n",
       "    </tr>\n",
       "  </tbody>\n",
       "</table>\n",
       "<p>5 rows × 38 columns</p>\n",
       "</div>"
      ],
      "text/plain": [
       "   Dist Code  Year  State Code    State Name Dist Name  RICE AREA (1000 ha)  \\\n",
       "0          1  1966          14  Chhattisgarh      Durg                548.0   \n",
       "1          1  1967          14  Chhattisgarh      Durg                547.0   \n",
       "2          1  1968          14  Chhattisgarh      Durg                556.3   \n",
       "3          1  1969          14  Chhattisgarh      Durg                563.4   \n",
       "4          1  1970          14  Chhattisgarh      Durg                571.6   \n",
       "\n",
       "   RICE PRODUCTION (1000 tons)  RICE YIELD (Kg per ha)  WHEAT AREA (1000 ha)  \\\n",
       "0                        185.0                  337.59                  44.0   \n",
       "1                        409.0                  747.71                  50.0   \n",
       "2                        468.0                  841.27                  53.7   \n",
       "3                        400.8                  711.40                  49.4   \n",
       "4                        473.6                  828.55                  44.2   \n",
       "\n",
       "   WHEAT PRODUCTION (1000 tons)  ...  LINSEED YIELD (Kg per ha)  \\\n",
       "0                          20.0  ...                     148.80   \n",
       "1                          26.0  ...                     257.74   \n",
       "2                          30.0  ...                     210.06   \n",
       "3                          26.5  ...                     128.59   \n",
       "4                          29.0  ...                     198.95   \n",
       "\n",
       "   SUNFLOWER AREA (1000 ha)  SUNFLOWER PRODUCTION (1000 tons)  \\\n",
       "0                       0.0                               0.0   \n",
       "1                       0.0                               0.0   \n",
       "2                       0.0                               0.0   \n",
       "3                       0.0                               0.0   \n",
       "4                       0.0                               0.0   \n",
       "\n",
       "   SUNFLOWER YIELD (Kg per ha)  OILSEEDS AREA (1000 ha)  \\\n",
       "0                          0.0                    50.70   \n",
       "1                          0.0                   113.55   \n",
       "2                          0.0                   126.62   \n",
       "3                          0.0                   114.14   \n",
       "4                          0.0                   126.40   \n",
       "\n",
       "   OILSEEDS PRODUCTION (1000 tons)  OILSEEDS YIELD (Kg per ha)  \\\n",
       "0                             -1.0                       -1.00   \n",
       "1                             -1.0                       -1.00   \n",
       "2                             -1.0                       -1.00   \n",
       "3                             14.9                      130.54   \n",
       "4                             24.3                      192.25   \n",
       "\n",
       "   SUGARCANE AREA (1000 ha)  SUGARCANE PRODUCTION (1000 tons)  \\\n",
       "0                       0.9                               1.6   \n",
       "1                       0.8                               1.2   \n",
       "2                       1.0                               1.0   \n",
       "3                       1.0                               1.9   \n",
       "4                       0.7                               1.4   \n",
       "\n",
       "   SUGARCANE YIELD (Kg per ha)  \n",
       "0                      1777.78  \n",
       "1                      1500.00  \n",
       "2                      1000.00  \n",
       "3                      1900.00  \n",
       "4                      2000.00  \n",
       "\n",
       "[5 rows x 38 columns]"
      ]
     },
     "execution_count": 5,
     "metadata": {},
     "output_type": "execute_result"
    }
   ],
   "source": [
    "data.head()"
   ]
  },
  {
   "cell_type": "code",
   "execution_count": 6,
   "id": "3e5b8af9",
   "metadata": {},
   "outputs": [
    {
     "data": {
      "text/html": [
       "<div>\n",
       "<style scoped>\n",
       "    .dataframe tbody tr th:only-of-type {\n",
       "        vertical-align: middle;\n",
       "    }\n",
       "\n",
       "    .dataframe tbody tr th {\n",
       "        vertical-align: top;\n",
       "    }\n",
       "\n",
       "    .dataframe thead th {\n",
       "        text-align: right;\n",
       "    }\n",
       "</style>\n",
       "<table border=\"1\" class=\"dataframe\">\n",
       "  <thead>\n",
       "    <tr style=\"text-align: right;\">\n",
       "      <th></th>\n",
       "      <th>Dist Code</th>\n",
       "      <th>Year</th>\n",
       "      <th>State Code</th>\n",
       "      <th>RICE AREA (1000 ha)</th>\n",
       "      <th>RICE PRODUCTION (1000 tons)</th>\n",
       "      <th>RICE YIELD (Kg per ha)</th>\n",
       "      <th>WHEAT AREA (1000 ha)</th>\n",
       "      <th>WHEAT PRODUCTION (1000 tons)</th>\n",
       "      <th>WHEAT YIELD (Kg per ha)</th>\n",
       "      <th>MAIZE AREA (1000 ha)</th>\n",
       "      <th>...</th>\n",
       "      <th>LINSEED YIELD (Kg per ha)</th>\n",
       "      <th>SUNFLOWER AREA (1000 ha)</th>\n",
       "      <th>SUNFLOWER PRODUCTION (1000 tons)</th>\n",
       "      <th>SUNFLOWER YIELD (Kg per ha)</th>\n",
       "      <th>OILSEEDS AREA (1000 ha)</th>\n",
       "      <th>OILSEEDS PRODUCTION (1000 tons)</th>\n",
       "      <th>OILSEEDS YIELD (Kg per ha)</th>\n",
       "      <th>SUGARCANE AREA (1000 ha)</th>\n",
       "      <th>SUGARCANE PRODUCTION (1000 tons)</th>\n",
       "      <th>SUGARCANE YIELD (Kg per ha)</th>\n",
       "    </tr>\n",
       "  </thead>\n",
       "  <tbody>\n",
       "    <tr>\n",
       "      <th>count</th>\n",
       "      <td>16146.000000</td>\n",
       "      <td>16146.000000</td>\n",
       "      <td>16146.000000</td>\n",
       "      <td>16146.000000</td>\n",
       "      <td>16146.000000</td>\n",
       "      <td>16146.000000</td>\n",
       "      <td>16146.000000</td>\n",
       "      <td>16146.000000</td>\n",
       "      <td>16146.000000</td>\n",
       "      <td>16146.00000</td>\n",
       "      <td>...</td>\n",
       "      <td>16146.000000</td>\n",
       "      <td>16146.000000</td>\n",
       "      <td>16146.000000</td>\n",
       "      <td>16146.000000</td>\n",
       "      <td>16146.000000</td>\n",
       "      <td>16146.000000</td>\n",
       "      <td>16146.000000</td>\n",
       "      <td>16146.000000</td>\n",
       "      <td>16146.000000</td>\n",
       "      <td>16146.00000</td>\n",
       "    </tr>\n",
       "    <tr>\n",
       "      <th>mean</th>\n",
       "      <td>269.769231</td>\n",
       "      <td>1991.496841</td>\n",
       "      <td>9.568562</td>\n",
       "      <td>128.593192</td>\n",
       "      <td>224.889565</td>\n",
       "      <td>1486.924784</td>\n",
       "      <td>77.057946</td>\n",
       "      <td>182.012746</td>\n",
       "      <td>1492.419859</td>\n",
       "      <td>20.12212</td>\n",
       "      <td>...</td>\n",
       "      <td>175.548071</td>\n",
       "      <td>3.008939</td>\n",
       "      <td>1.591570</td>\n",
       "      <td>278.449695</td>\n",
       "      <td>66.740024</td>\n",
       "      <td>50.909822</td>\n",
       "      <td>593.659625</td>\n",
       "      <td>11.905851</td>\n",
       "      <td>75.511777</td>\n",
       "      <td>4500.15306</td>\n",
       "    </tr>\n",
       "    <tr>\n",
       "      <th>std</th>\n",
       "      <td>278.309125</td>\n",
       "      <td>15.011185</td>\n",
       "      <td>4.988538</td>\n",
       "      <td>160.078825</td>\n",
       "      <td>326.629828</td>\n",
       "      <td>956.185281</td>\n",
       "      <td>100.394479</td>\n",
       "      <td>348.834254</td>\n",
       "      <td>1081.255367</td>\n",
       "      <td>34.81708</td>\n",
       "      <td>...</td>\n",
       "      <td>271.867902</td>\n",
       "      <td>18.734039</td>\n",
       "      <td>8.432117</td>\n",
       "      <td>503.515134</td>\n",
       "      <td>94.033750</td>\n",
       "      <td>99.834037</td>\n",
       "      <td>673.280027</td>\n",
       "      <td>29.590148</td>\n",
       "      <td>198.815998</td>\n",
       "      <td>3153.97042</td>\n",
       "    </tr>\n",
       "    <tr>\n",
       "      <th>min</th>\n",
       "      <td>1.000000</td>\n",
       "      <td>1966.000000</td>\n",
       "      <td>1.000000</td>\n",
       "      <td>-1.000000</td>\n",
       "      <td>-1.000000</td>\n",
       "      <td>-1.000000</td>\n",
       "      <td>-1.000000</td>\n",
       "      <td>-1.000000</td>\n",
       "      <td>-1.000000</td>\n",
       "      <td>-1.00000</td>\n",
       "      <td>...</td>\n",
       "      <td>-1.000000</td>\n",
       "      <td>-1.000000</td>\n",
       "      <td>-1.000000</td>\n",
       "      <td>-1.000000</td>\n",
       "      <td>-1.000000</td>\n",
       "      <td>-1.000000</td>\n",
       "      <td>-1.000000</td>\n",
       "      <td>-1.000000</td>\n",
       "      <td>-1.000000</td>\n",
       "      <td>-1.00000</td>\n",
       "    </tr>\n",
       "    <tr>\n",
       "      <th>25%</th>\n",
       "      <td>78.000000</td>\n",
       "      <td>1978.000000</td>\n",
       "      <td>6.000000</td>\n",
       "      <td>10.400000</td>\n",
       "      <td>9.460000</td>\n",
       "      <td>800.000000</td>\n",
       "      <td>1.770000</td>\n",
       "      <td>2.000000</td>\n",
       "      <td>750.000000</td>\n",
       "      <td>0.53000</td>\n",
       "      <td>...</td>\n",
       "      <td>0.000000</td>\n",
       "      <td>0.000000</td>\n",
       "      <td>0.000000</td>\n",
       "      <td>0.000000</td>\n",
       "      <td>7.950000</td>\n",
       "      <td>0.730000</td>\n",
       "      <td>199.362500</td>\n",
       "      <td>0.140000</td>\n",
       "      <td>0.452500</td>\n",
       "      <td>2000.00000</td>\n",
       "    </tr>\n",
       "    <tr>\n",
       "      <th>50%</th>\n",
       "      <td>156.000000</td>\n",
       "      <td>1991.000000</td>\n",
       "      <td>10.000000</td>\n",
       "      <td>66.800000</td>\n",
       "      <td>95.840000</td>\n",
       "      <td>1333.210000</td>\n",
       "      <td>36.800000</td>\n",
       "      <td>42.700000</td>\n",
       "      <td>1347.450000</td>\n",
       "      <td>5.13000</td>\n",
       "      <td>...</td>\n",
       "      <td>0.000000</td>\n",
       "      <td>0.000000</td>\n",
       "      <td>0.000000</td>\n",
       "      <td>0.000000</td>\n",
       "      <td>32.880000</td>\n",
       "      <td>13.200000</td>\n",
       "      <td>536.260000</td>\n",
       "      <td>1.730000</td>\n",
       "      <td>7.240000</td>\n",
       "      <td>4502.21000</td>\n",
       "    </tr>\n",
       "    <tr>\n",
       "      <th>75%</th>\n",
       "      <td>241.000000</td>\n",
       "      <td>2005.000000</td>\n",
       "      <td>12.000000</td>\n",
       "      <td>191.390000</td>\n",
       "      <td>315.715000</td>\n",
       "      <td>2113.517500</td>\n",
       "      <td>123.000000</td>\n",
       "      <td>215.192500</td>\n",
       "      <td>2131.580000</td>\n",
       "      <td>24.50000</td>\n",
       "      <td>...</td>\n",
       "      <td>310.340000</td>\n",
       "      <td>0.080000</td>\n",
       "      <td>0.050000</td>\n",
       "      <td>454.245000</td>\n",
       "      <td>82.200000</td>\n",
       "      <td>52.400000</td>\n",
       "      <td>852.445000</td>\n",
       "      <td>9.000000</td>\n",
       "      <td>50.200000</td>\n",
       "      <td>6704.60500</td>\n",
       "    </tr>\n",
       "    <tr>\n",
       "      <th>max</th>\n",
       "      <td>917.000000</td>\n",
       "      <td>2017.000000</td>\n",
       "      <td>20.000000</td>\n",
       "      <td>1154.230000</td>\n",
       "      <td>3215.010000</td>\n",
       "      <td>5653.830000</td>\n",
       "      <td>879.490000</td>\n",
       "      <td>4305.500000</td>\n",
       "      <td>5541.520000</td>\n",
       "      <td>295.00000</td>\n",
       "      <td>...</td>\n",
       "      <td>7000.000000</td>\n",
       "      <td>476.670000</td>\n",
       "      <td>222.670000</td>\n",
       "      <td>4282.050000</td>\n",
       "      <td>951.240000</td>\n",
       "      <td>1712.920000</td>\n",
       "      <td>25500.000000</td>\n",
       "      <td>342.410000</td>\n",
       "      <td>3252.900000</td>\n",
       "      <td>22062.30000</td>\n",
       "    </tr>\n",
       "  </tbody>\n",
       "</table>\n",
       "<p>8 rows × 36 columns</p>\n",
       "</div>"
      ],
      "text/plain": [
       "          Dist Code          Year    State Code  RICE AREA (1000 ha)  \\\n",
       "count  16146.000000  16146.000000  16146.000000         16146.000000   \n",
       "mean     269.769231   1991.496841      9.568562           128.593192   \n",
       "std      278.309125     15.011185      4.988538           160.078825   \n",
       "min        1.000000   1966.000000      1.000000            -1.000000   \n",
       "25%       78.000000   1978.000000      6.000000            10.400000   \n",
       "50%      156.000000   1991.000000     10.000000            66.800000   \n",
       "75%      241.000000   2005.000000     12.000000           191.390000   \n",
       "max      917.000000   2017.000000     20.000000          1154.230000   \n",
       "\n",
       "       RICE PRODUCTION (1000 tons)  RICE YIELD (Kg per ha)  \\\n",
       "count                 16146.000000            16146.000000   \n",
       "mean                    224.889565             1486.924784   \n",
       "std                     326.629828              956.185281   \n",
       "min                      -1.000000               -1.000000   \n",
       "25%                       9.460000              800.000000   \n",
       "50%                      95.840000             1333.210000   \n",
       "75%                     315.715000             2113.517500   \n",
       "max                    3215.010000             5653.830000   \n",
       "\n",
       "       WHEAT AREA (1000 ha)  WHEAT PRODUCTION (1000 tons)  \\\n",
       "count          16146.000000                  16146.000000   \n",
       "mean              77.057946                    182.012746   \n",
       "std              100.394479                    348.834254   \n",
       "min               -1.000000                     -1.000000   \n",
       "25%                1.770000                      2.000000   \n",
       "50%               36.800000                     42.700000   \n",
       "75%              123.000000                    215.192500   \n",
       "max              879.490000                   4305.500000   \n",
       "\n",
       "       WHEAT YIELD (Kg per ha)  MAIZE AREA (1000 ha)  ...  \\\n",
       "count             16146.000000           16146.00000  ...   \n",
       "mean               1492.419859              20.12212  ...   \n",
       "std                1081.255367              34.81708  ...   \n",
       "min                  -1.000000              -1.00000  ...   \n",
       "25%                 750.000000               0.53000  ...   \n",
       "50%                1347.450000               5.13000  ...   \n",
       "75%                2131.580000              24.50000  ...   \n",
       "max                5541.520000             295.00000  ...   \n",
       "\n",
       "       LINSEED YIELD (Kg per ha)  SUNFLOWER AREA (1000 ha)  \\\n",
       "count               16146.000000              16146.000000   \n",
       "mean                  175.548071                  3.008939   \n",
       "std                   271.867902                 18.734039   \n",
       "min                    -1.000000                 -1.000000   \n",
       "25%                     0.000000                  0.000000   \n",
       "50%                     0.000000                  0.000000   \n",
       "75%                   310.340000                  0.080000   \n",
       "max                  7000.000000                476.670000   \n",
       "\n",
       "       SUNFLOWER PRODUCTION (1000 tons)  SUNFLOWER YIELD (Kg per ha)  \\\n",
       "count                      16146.000000                 16146.000000   \n",
       "mean                           1.591570                   278.449695   \n",
       "std                            8.432117                   503.515134   \n",
       "min                           -1.000000                    -1.000000   \n",
       "25%                            0.000000                     0.000000   \n",
       "50%                            0.000000                     0.000000   \n",
       "75%                            0.050000                   454.245000   \n",
       "max                          222.670000                  4282.050000   \n",
       "\n",
       "       OILSEEDS AREA (1000 ha)  OILSEEDS PRODUCTION (1000 tons)  \\\n",
       "count             16146.000000                     16146.000000   \n",
       "mean                 66.740024                        50.909822   \n",
       "std                  94.033750                        99.834037   \n",
       "min                  -1.000000                        -1.000000   \n",
       "25%                   7.950000                         0.730000   \n",
       "50%                  32.880000                        13.200000   \n",
       "75%                  82.200000                        52.400000   \n",
       "max                 951.240000                      1712.920000   \n",
       "\n",
       "       OILSEEDS YIELD (Kg per ha)  SUGARCANE AREA (1000 ha)  \\\n",
       "count                16146.000000              16146.000000   \n",
       "mean                   593.659625                 11.905851   \n",
       "std                    673.280027                 29.590148   \n",
       "min                     -1.000000                 -1.000000   \n",
       "25%                    199.362500                  0.140000   \n",
       "50%                    536.260000                  1.730000   \n",
       "75%                    852.445000                  9.000000   \n",
       "max                  25500.000000                342.410000   \n",
       "\n",
       "       SUGARCANE PRODUCTION (1000 tons)  SUGARCANE YIELD (Kg per ha)  \n",
       "count                      16146.000000                  16146.00000  \n",
       "mean                          75.511777                   4500.15306  \n",
       "std                          198.815998                   3153.97042  \n",
       "min                           -1.000000                     -1.00000  \n",
       "25%                            0.452500                   2000.00000  \n",
       "50%                            7.240000                   4502.21000  \n",
       "75%                           50.200000                   6704.60500  \n",
       "max                         3252.900000                  22062.30000  \n",
       "\n",
       "[8 rows x 36 columns]"
      ]
     },
     "execution_count": 6,
     "metadata": {},
     "output_type": "execute_result"
    }
   ],
   "source": [
    "data.describe()"
   ]
  },
  {
   "cell_type": "code",
   "execution_count": 7,
   "id": "e654881e",
   "metadata": {},
   "outputs": [
    {
     "name": "stdout",
     "output_type": "stream",
     "text": [
      "<class 'pandas.core.frame.DataFrame'>\n",
      "RangeIndex: 16146 entries, 0 to 16145\n",
      "Data columns (total 38 columns):\n",
      " #   Column                                       Non-Null Count  Dtype  \n",
      "---  ------                                       --------------  -----  \n",
      " 0   Dist Code                                    16146 non-null  int64  \n",
      " 1   Year                                         16146 non-null  int64  \n",
      " 2   State Code                                   16146 non-null  int64  \n",
      " 3   State Name                                   16146 non-null  object \n",
      " 4   Dist Name                                    16146 non-null  object \n",
      " 5   RICE AREA (1000 ha)                          16146 non-null  float64\n",
      " 6   RICE PRODUCTION (1000 tons)                  16146 non-null  float64\n",
      " 7   RICE YIELD (Kg per ha)                       16146 non-null  float64\n",
      " 8   WHEAT AREA (1000 ha)                         16146 non-null  float64\n",
      " 9   WHEAT PRODUCTION (1000 tons)                 16146 non-null  float64\n",
      " 10  WHEAT YIELD (Kg per ha)                      16146 non-null  float64\n",
      " 11  MAIZE AREA (1000 ha)                         16146 non-null  float64\n",
      " 12  MAIZE PRODUCTION (1000 tons)                 16146 non-null  float64\n",
      " 13  MAIZE YIELD (Kg per ha)                      16146 non-null  float64\n",
      " 14  MINOR PULSES AREA (1000 ha)                  16146 non-null  float64\n",
      " 15  MINOR PULSES PRODUCTION (1000 tons)          16146 non-null  float64\n",
      " 16  MINOR PULSES YIELD (Kg per ha)               16146 non-null  float64\n",
      " 17  GROUNDNUT AREA (1000 ha)                     16146 non-null  float64\n",
      " 18  GROUNDNUT PRODUCTION (1000 tons)             16146 non-null  float64\n",
      " 19  GROUNDNUT YIELD (Kg per ha)                  16146 non-null  float64\n",
      " 20  SESAMUM AREA (1000 ha)                       16146 non-null  float64\n",
      " 21  SESAMUM PRODUCTION (1000 tons)               16146 non-null  float64\n",
      " 22  SESAMUM YIELD (Kg per ha)                    16146 non-null  float64\n",
      " 23  RAPESEED AND MUSTARD AREA (1000 ha)          16146 non-null  float64\n",
      " 24  RAPESEED AND MUSTARD PRODUCTION (1000 tons)  16146 non-null  float64\n",
      " 25  RAPESEED AND MUSTARD YIELD (Kg per ha)       16146 non-null  float64\n",
      " 26  LINSEED AREA (1000 ha)                       16146 non-null  float64\n",
      " 27  LINSEED PRODUCTION (1000 tons)               16146 non-null  float64\n",
      " 28  LINSEED YIELD (Kg per ha)                    16146 non-null  float64\n",
      " 29  SUNFLOWER AREA (1000 ha)                     16146 non-null  float64\n",
      " 30  SUNFLOWER PRODUCTION (1000 tons)             16146 non-null  float64\n",
      " 31  SUNFLOWER YIELD (Kg per ha)                  16146 non-null  float64\n",
      " 32  OILSEEDS AREA (1000 ha)                      16146 non-null  float64\n",
      " 33  OILSEEDS PRODUCTION (1000 tons)              16146 non-null  float64\n",
      " 34  OILSEEDS YIELD (Kg per ha)                   16146 non-null  float64\n",
      " 35  SUGARCANE AREA (1000 ha)                     16146 non-null  float64\n",
      " 36  SUGARCANE PRODUCTION (1000 tons)             16146 non-null  float64\n",
      " 37  SUGARCANE YIELD (Kg per ha)                  16146 non-null  float64\n",
      "dtypes: float64(33), int64(3), object(2)\n",
      "memory usage: 4.7+ MB\n"
     ]
    }
   ],
   "source": [
    "data.info()"
   ]
  },
  {
   "cell_type": "code",
   "execution_count": 26,
   "id": "2ce9f540",
   "metadata": {},
   "outputs": [
    {
     "data": {
      "text/html": [
       "<div>\n",
       "<style scoped>\n",
       "    .dataframe tbody tr th:only-of-type {\n",
       "        vertical-align: middle;\n",
       "    }\n",
       "\n",
       "    .dataframe tbody tr th {\n",
       "        vertical-align: top;\n",
       "    }\n",
       "\n",
       "    .dataframe thead th {\n",
       "        text-align: right;\n",
       "    }\n",
       "</style>\n",
       "<table border=\"1\" class=\"dataframe\">\n",
       "  <thead>\n",
       "    <tr style=\"text-align: right;\">\n",
       "      <th></th>\n",
       "      <th>Dist Code</th>\n",
       "      <th>Year</th>\n",
       "      <th>State Code</th>\n",
       "      <th>State Name</th>\n",
       "      <th>Dist Name</th>\n",
       "      <th>RICE AREA (1000 ha)</th>\n",
       "      <th>RICE PRODUCTION (1000 tons)</th>\n",
       "      <th>RICE YIELD (Kg per ha)</th>\n",
       "      <th>WHEAT AREA (1000 ha)</th>\n",
       "      <th>WHEAT PRODUCTION (1000 tons)</th>\n",
       "      <th>...</th>\n",
       "      <th>LINSEED YIELD (Kg per ha)</th>\n",
       "      <th>SUNFLOWER AREA (1000 ha)</th>\n",
       "      <th>SUNFLOWER PRODUCTION (1000 tons)</th>\n",
       "      <th>SUNFLOWER YIELD (Kg per ha)</th>\n",
       "      <th>OILSEEDS AREA (1000 ha)</th>\n",
       "      <th>OILSEEDS PRODUCTION (1000 tons)</th>\n",
       "      <th>OILSEEDS YIELD (Kg per ha)</th>\n",
       "      <th>SUGARCANE AREA (1000 ha)</th>\n",
       "      <th>SUGARCANE PRODUCTION (1000 tons)</th>\n",
       "      <th>SUGARCANE YIELD (Kg per ha)</th>\n",
       "    </tr>\n",
       "  </thead>\n",
       "  <tbody>\n",
       "    <tr>\n",
       "      <th>1246</th>\n",
       "      <td>24</td>\n",
       "      <td>2016</td>\n",
       "      <td>6</td>\n",
       "      <td>Madhya Pradesh</td>\n",
       "      <td>Guna</td>\n",
       "      <td>0.0</td>\n",
       "      <td>0.0</td>\n",
       "      <td>0.0</td>\n",
       "      <td>295.0</td>\n",
       "      <td>914.0</td>\n",
       "      <td>...</td>\n",
       "      <td>0.00</td>\n",
       "      <td>0.02</td>\n",
       "      <td>0.02</td>\n",
       "      <td>1000.00</td>\n",
       "      <td>0.00</td>\n",
       "      <td>0.0</td>\n",
       "      <td>0.00</td>\n",
       "      <td>0.00</td>\n",
       "      <td>0.0</td>\n",
       "      <td>0.00</td>\n",
       "    </tr>\n",
       "    <tr>\n",
       "      <th>1432</th>\n",
       "      <td>28</td>\n",
       "      <td>1994</td>\n",
       "      <td>6</td>\n",
       "      <td>Madhya Pradesh</td>\n",
       "      <td>Indore</td>\n",
       "      <td>0.0</td>\n",
       "      <td>0.0</td>\n",
       "      <td>0.0</td>\n",
       "      <td>98.8</td>\n",
       "      <td>282.1</td>\n",
       "      <td>...</td>\n",
       "      <td>500.00</td>\n",
       "      <td>0.03</td>\n",
       "      <td>0.01</td>\n",
       "      <td>333.33</td>\n",
       "      <td>199.00</td>\n",
       "      <td>182.5</td>\n",
       "      <td>917.09</td>\n",
       "      <td>0.30</td>\n",
       "      <td>1.1</td>\n",
       "      <td>3666.67</td>\n",
       "    </tr>\n",
       "    <tr>\n",
       "      <th>1433</th>\n",
       "      <td>28</td>\n",
       "      <td>1995</td>\n",
       "      <td>6</td>\n",
       "      <td>Madhya Pradesh</td>\n",
       "      <td>Indore</td>\n",
       "      <td>0.0</td>\n",
       "      <td>0.0</td>\n",
       "      <td>0.0</td>\n",
       "      <td>96.3</td>\n",
       "      <td>266.2</td>\n",
       "      <td>...</td>\n",
       "      <td>571.43</td>\n",
       "      <td>0.00</td>\n",
       "      <td>0.00</td>\n",
       "      <td>0.00</td>\n",
       "      <td>203.50</td>\n",
       "      <td>224.4</td>\n",
       "      <td>1102.70</td>\n",
       "      <td>0.40</td>\n",
       "      <td>1.4</td>\n",
       "      <td>3500.00</td>\n",
       "    </tr>\n",
       "    <tr>\n",
       "      <th>1434</th>\n",
       "      <td>28</td>\n",
       "      <td>1996</td>\n",
       "      <td>6</td>\n",
       "      <td>Madhya Pradesh</td>\n",
       "      <td>Indore</td>\n",
       "      <td>0.0</td>\n",
       "      <td>0.0</td>\n",
       "      <td>0.0</td>\n",
       "      <td>102.0</td>\n",
       "      <td>314.1</td>\n",
       "      <td>...</td>\n",
       "      <td>733.33</td>\n",
       "      <td>0.00</td>\n",
       "      <td>0.00</td>\n",
       "      <td>0.00</td>\n",
       "      <td>205.90</td>\n",
       "      <td>206.8</td>\n",
       "      <td>1004.37</td>\n",
       "      <td>0.50</td>\n",
       "      <td>1.6</td>\n",
       "      <td>3200.00</td>\n",
       "    </tr>\n",
       "    <tr>\n",
       "      <th>1435</th>\n",
       "      <td>28</td>\n",
       "      <td>1997</td>\n",
       "      <td>6</td>\n",
       "      <td>Madhya Pradesh</td>\n",
       "      <td>Indore</td>\n",
       "      <td>0.0</td>\n",
       "      <td>0.0</td>\n",
       "      <td>0.0</td>\n",
       "      <td>115.7</td>\n",
       "      <td>274.2</td>\n",
       "      <td>...</td>\n",
       "      <td>625.00</td>\n",
       "      <td>0.00</td>\n",
       "      <td>0.00</td>\n",
       "      <td>0.00</td>\n",
       "      <td>212.59</td>\n",
       "      <td>245.8</td>\n",
       "      <td>1156.22</td>\n",
       "      <td>0.25</td>\n",
       "      <td>0.8</td>\n",
       "      <td>3200.00</td>\n",
       "    </tr>\n",
       "    <tr>\n",
       "      <th>...</th>\n",
       "      <td>...</td>\n",
       "      <td>...</td>\n",
       "      <td>...</td>\n",
       "      <td>...</td>\n",
       "      <td>...</td>\n",
       "      <td>...</td>\n",
       "      <td>...</td>\n",
       "      <td>...</td>\n",
       "      <td>...</td>\n",
       "      <td>...</td>\n",
       "      <td>...</td>\n",
       "      <td>...</td>\n",
       "      <td>...</td>\n",
       "      <td>...</td>\n",
       "      <td>...</td>\n",
       "      <td>...</td>\n",
       "      <td>...</td>\n",
       "      <td>...</td>\n",
       "      <td>...</td>\n",
       "      <td>...</td>\n",
       "      <td>...</td>\n",
       "    </tr>\n",
       "    <tr>\n",
       "      <th>15926</th>\n",
       "      <td>913</td>\n",
       "      <td>1998</td>\n",
       "      <td>15</td>\n",
       "      <td>Jharkhand</td>\n",
       "      <td>Hazaribagh</td>\n",
       "      <td>0.0</td>\n",
       "      <td>0.0</td>\n",
       "      <td>0.0</td>\n",
       "      <td>0.0</td>\n",
       "      <td>0.0</td>\n",
       "      <td>...</td>\n",
       "      <td>0.00</td>\n",
       "      <td>0.00</td>\n",
       "      <td>0.00</td>\n",
       "      <td>0.00</td>\n",
       "      <td>0.00</td>\n",
       "      <td>0.0</td>\n",
       "      <td>0.00</td>\n",
       "      <td>0.00</td>\n",
       "      <td>0.0</td>\n",
       "      <td>0.00</td>\n",
       "    </tr>\n",
       "    <tr>\n",
       "      <th>15976</th>\n",
       "      <td>914</td>\n",
       "      <td>1998</td>\n",
       "      <td>15</td>\n",
       "      <td>Jharkhand</td>\n",
       "      <td>Dhanbad</td>\n",
       "      <td>0.0</td>\n",
       "      <td>0.0</td>\n",
       "      <td>0.0</td>\n",
       "      <td>0.0</td>\n",
       "      <td>0.0</td>\n",
       "      <td>...</td>\n",
       "      <td>0.00</td>\n",
       "      <td>0.00</td>\n",
       "      <td>0.00</td>\n",
       "      <td>0.00</td>\n",
       "      <td>0.00</td>\n",
       "      <td>0.0</td>\n",
       "      <td>0.00</td>\n",
       "      <td>0.00</td>\n",
       "      <td>0.0</td>\n",
       "      <td>0.00</td>\n",
       "    </tr>\n",
       "    <tr>\n",
       "      <th>16026</th>\n",
       "      <td>915</td>\n",
       "      <td>1998</td>\n",
       "      <td>15</td>\n",
       "      <td>Jharkhand</td>\n",
       "      <td>Palamau</td>\n",
       "      <td>0.0</td>\n",
       "      <td>0.0</td>\n",
       "      <td>0.0</td>\n",
       "      <td>0.0</td>\n",
       "      <td>0.0</td>\n",
       "      <td>...</td>\n",
       "      <td>0.00</td>\n",
       "      <td>0.00</td>\n",
       "      <td>0.00</td>\n",
       "      <td>0.00</td>\n",
       "      <td>0.00</td>\n",
       "      <td>0.0</td>\n",
       "      <td>0.00</td>\n",
       "      <td>0.00</td>\n",
       "      <td>0.0</td>\n",
       "      <td>0.00</td>\n",
       "    </tr>\n",
       "    <tr>\n",
       "      <th>16076</th>\n",
       "      <td>916</td>\n",
       "      <td>1998</td>\n",
       "      <td>15</td>\n",
       "      <td>Jharkhand</td>\n",
       "      <td>Ranchi</td>\n",
       "      <td>0.0</td>\n",
       "      <td>0.0</td>\n",
       "      <td>0.0</td>\n",
       "      <td>0.0</td>\n",
       "      <td>0.0</td>\n",
       "      <td>...</td>\n",
       "      <td>0.00</td>\n",
       "      <td>0.00</td>\n",
       "      <td>0.00</td>\n",
       "      <td>0.00</td>\n",
       "      <td>0.00</td>\n",
       "      <td>0.0</td>\n",
       "      <td>0.00</td>\n",
       "      <td>0.00</td>\n",
       "      <td>0.0</td>\n",
       "      <td>0.00</td>\n",
       "    </tr>\n",
       "    <tr>\n",
       "      <th>16126</th>\n",
       "      <td>917</td>\n",
       "      <td>1998</td>\n",
       "      <td>15</td>\n",
       "      <td>Jharkhand</td>\n",
       "      <td>Singhbhum</td>\n",
       "      <td>0.0</td>\n",
       "      <td>0.0</td>\n",
       "      <td>0.0</td>\n",
       "      <td>0.0</td>\n",
       "      <td>0.0</td>\n",
       "      <td>...</td>\n",
       "      <td>0.00</td>\n",
       "      <td>0.00</td>\n",
       "      <td>0.00</td>\n",
       "      <td>0.00</td>\n",
       "      <td>0.00</td>\n",
       "      <td>0.0</td>\n",
       "      <td>0.00</td>\n",
       "      <td>0.00</td>\n",
       "      <td>0.0</td>\n",
       "      <td>0.00</td>\n",
       "    </tr>\n",
       "  </tbody>\n",
       "</table>\n",
       "<p>1094 rows × 38 columns</p>\n",
       "</div>"
      ],
      "text/plain": [
       "       Dist Code  Year  State Code      State Name   Dist Name  \\\n",
       "1246          24  2016           6  Madhya Pradesh        Guna   \n",
       "1432          28  1994           6  Madhya Pradesh      Indore   \n",
       "1433          28  1995           6  Madhya Pradesh      Indore   \n",
       "1434          28  1996           6  Madhya Pradesh      Indore   \n",
       "1435          28  1997           6  Madhya Pradesh      Indore   \n",
       "...          ...   ...         ...             ...         ...   \n",
       "15926        913  1998          15       Jharkhand  Hazaribagh   \n",
       "15976        914  1998          15       Jharkhand     Dhanbad   \n",
       "16026        915  1998          15       Jharkhand     Palamau   \n",
       "16076        916  1998          15       Jharkhand      Ranchi   \n",
       "16126        917  1998          15       Jharkhand   Singhbhum   \n",
       "\n",
       "       RICE AREA (1000 ha)  RICE PRODUCTION (1000 tons)  \\\n",
       "1246                   0.0                          0.0   \n",
       "1432                   0.0                          0.0   \n",
       "1433                   0.0                          0.0   \n",
       "1434                   0.0                          0.0   \n",
       "1435                   0.0                          0.0   \n",
       "...                    ...                          ...   \n",
       "15926                  0.0                          0.0   \n",
       "15976                  0.0                          0.0   \n",
       "16026                  0.0                          0.0   \n",
       "16076                  0.0                          0.0   \n",
       "16126                  0.0                          0.0   \n",
       "\n",
       "       RICE YIELD (Kg per ha)  WHEAT AREA (1000 ha)  \\\n",
       "1246                      0.0                 295.0   \n",
       "1432                      0.0                  98.8   \n",
       "1433                      0.0                  96.3   \n",
       "1434                      0.0                 102.0   \n",
       "1435                      0.0                 115.7   \n",
       "...                       ...                   ...   \n",
       "15926                     0.0                   0.0   \n",
       "15976                     0.0                   0.0   \n",
       "16026                     0.0                   0.0   \n",
       "16076                     0.0                   0.0   \n",
       "16126                     0.0                   0.0   \n",
       "\n",
       "       WHEAT PRODUCTION (1000 tons)  ...  LINSEED YIELD (Kg per ha)  \\\n",
       "1246                          914.0  ...                       0.00   \n",
       "1432                          282.1  ...                     500.00   \n",
       "1433                          266.2  ...                     571.43   \n",
       "1434                          314.1  ...                     733.33   \n",
       "1435                          274.2  ...                     625.00   \n",
       "...                             ...  ...                        ...   \n",
       "15926                           0.0  ...                       0.00   \n",
       "15976                           0.0  ...                       0.00   \n",
       "16026                           0.0  ...                       0.00   \n",
       "16076                           0.0  ...                       0.00   \n",
       "16126                           0.0  ...                       0.00   \n",
       "\n",
       "       SUNFLOWER AREA (1000 ha)  SUNFLOWER PRODUCTION (1000 tons)  \\\n",
       "1246                       0.02                              0.02   \n",
       "1432                       0.03                              0.01   \n",
       "1433                       0.00                              0.00   \n",
       "1434                       0.00                              0.00   \n",
       "1435                       0.00                              0.00   \n",
       "...                         ...                               ...   \n",
       "15926                      0.00                              0.00   \n",
       "15976                      0.00                              0.00   \n",
       "16026                      0.00                              0.00   \n",
       "16076                      0.00                              0.00   \n",
       "16126                      0.00                              0.00   \n",
       "\n",
       "       SUNFLOWER YIELD (Kg per ha)  OILSEEDS AREA (1000 ha)  \\\n",
       "1246                       1000.00                     0.00   \n",
       "1432                        333.33                   199.00   \n",
       "1433                          0.00                   203.50   \n",
       "1434                          0.00                   205.90   \n",
       "1435                          0.00                   212.59   \n",
       "...                            ...                      ...   \n",
       "15926                         0.00                     0.00   \n",
       "15976                         0.00                     0.00   \n",
       "16026                         0.00                     0.00   \n",
       "16076                         0.00                     0.00   \n",
       "16126                         0.00                     0.00   \n",
       "\n",
       "       OILSEEDS PRODUCTION (1000 tons)  OILSEEDS YIELD (Kg per ha)  \\\n",
       "1246                               0.0                        0.00   \n",
       "1432                             182.5                      917.09   \n",
       "1433                             224.4                     1102.70   \n",
       "1434                             206.8                     1004.37   \n",
       "1435                             245.8                     1156.22   \n",
       "...                                ...                         ...   \n",
       "15926                              0.0                        0.00   \n",
       "15976                              0.0                        0.00   \n",
       "16026                              0.0                        0.00   \n",
       "16076                              0.0                        0.00   \n",
       "16126                              0.0                        0.00   \n",
       "\n",
       "       SUGARCANE AREA (1000 ha)  SUGARCANE PRODUCTION (1000 tons)  \\\n",
       "1246                       0.00                               0.0   \n",
       "1432                       0.30                               1.1   \n",
       "1433                       0.40                               1.4   \n",
       "1434                       0.50                               1.6   \n",
       "1435                       0.25                               0.8   \n",
       "...                         ...                               ...   \n",
       "15926                      0.00                               0.0   \n",
       "15976                      0.00                               0.0   \n",
       "16026                      0.00                               0.0   \n",
       "16076                      0.00                               0.0   \n",
       "16126                      0.00                               0.0   \n",
       "\n",
       "       SUGARCANE YIELD (Kg per ha)  \n",
       "1246                          0.00  \n",
       "1432                       3666.67  \n",
       "1433                       3500.00  \n",
       "1434                       3200.00  \n",
       "1435                       3200.00  \n",
       "...                            ...  \n",
       "15926                         0.00  \n",
       "15976                         0.00  \n",
       "16026                         0.00  \n",
       "16076                         0.00  \n",
       "16126                         0.00  \n",
       "\n",
       "[1094 rows x 38 columns]"
      ]
     },
     "execution_count": 26,
     "metadata": {},
     "output_type": "execute_result"
    }
   ],
   "source": [
    "rice = data[data['RICE AREA (1000 ha)'] == 0]\n",
    "hp = data[data['State Name'] == 'Gujarat']\n",
    "rice"
   ]
  },
  {
   "cell_type": "code",
   "execution_count": null,
   "id": "0eeb5e46",
   "metadata": {},
   "outputs": [
    {
     "data": {
      "text/html": [
       "<div>\n",
       "<style scoped>\n",
       "    .dataframe tbody tr th:only-of-type {\n",
       "        vertical-align: middle;\n",
       "    }\n",
       "\n",
       "    .dataframe tbody tr th {\n",
       "        vertical-align: top;\n",
       "    }\n",
       "\n",
       "    .dataframe thead th {\n",
       "        text-align: right;\n",
       "    }\n",
       "</style>\n",
       "<table border=\"1\" class=\"dataframe\">\n",
       "  <thead>\n",
       "    <tr style=\"text-align: right;\">\n",
       "      <th></th>\n",
       "      <th>Column</th>\n",
       "      <th>Unique Values</th>\n",
       "      <th>null values</th>\n",
       "    </tr>\n",
       "  </thead>\n",
       "  <tbody>\n",
       "    <tr>\n",
       "      <th>0</th>\n",
       "      <td>Dist Code</td>\n",
       "      <td>311</td>\n",
       "      <td>0</td>\n",
       "    </tr>\n",
       "    <tr>\n",
       "      <th>1</th>\n",
       "      <td>Year</td>\n",
       "      <td>52</td>\n",
       "      <td>0</td>\n",
       "    </tr>\n",
       "    <tr>\n",
       "      <th>2</th>\n",
       "      <td>State Code</td>\n",
       "      <td>20</td>\n",
       "      <td>0</td>\n",
       "    </tr>\n",
       "    <tr>\n",
       "      <th>3</th>\n",
       "      <td>State Name</td>\n",
       "      <td>20</td>\n",
       "      <td>0</td>\n",
       "    </tr>\n",
       "    <tr>\n",
       "      <th>4</th>\n",
       "      <td>Dist Name</td>\n",
       "      <td>311</td>\n",
       "      <td>0</td>\n",
       "    </tr>\n",
       "    <tr>\n",
       "      <th>5</th>\n",
       "      <td>RICE AREA (1000 ha)</td>\n",
       "      <td>8447</td>\n",
       "      <td>0</td>\n",
       "    </tr>\n",
       "    <tr>\n",
       "      <th>6</th>\n",
       "      <td>RICE PRODUCTION (1000 tons)</td>\n",
       "      <td>9392</td>\n",
       "      <td>0</td>\n",
       "    </tr>\n",
       "    <tr>\n",
       "      <th>7</th>\n",
       "      <td>RICE YIELD (Kg per ha)</td>\n",
       "      <td>12907</td>\n",
       "      <td>0</td>\n",
       "    </tr>\n",
       "    <tr>\n",
       "      <th>8</th>\n",
       "      <td>WHEAT AREA (1000 ha)</td>\n",
       "      <td>6562</td>\n",
       "      <td>0</td>\n",
       "    </tr>\n",
       "    <tr>\n",
       "      <th>9</th>\n",
       "      <td>WHEAT PRODUCTION (1000 tons)</td>\n",
       "      <td>7775</td>\n",
       "      <td>0</td>\n",
       "    </tr>\n",
       "    <tr>\n",
       "      <th>10</th>\n",
       "      <td>WHEAT YIELD (Kg per ha)</td>\n",
       "      <td>11798</td>\n",
       "      <td>0</td>\n",
       "    </tr>\n",
       "    <tr>\n",
       "      <th>11</th>\n",
       "      <td>MAIZE AREA (1000 ha)</td>\n",
       "      <td>4113</td>\n",
       "      <td>0</td>\n",
       "    </tr>\n",
       "    <tr>\n",
       "      <th>12</th>\n",
       "      <td>MAIZE PRODUCTION (1000 tons)</td>\n",
       "      <td>4875</td>\n",
       "      <td>0</td>\n",
       "    </tr>\n",
       "    <tr>\n",
       "      <th>13</th>\n",
       "      <td>MAIZE YIELD (Kg per ha)</td>\n",
       "      <td>9174</td>\n",
       "      <td>0</td>\n",
       "    </tr>\n",
       "    <tr>\n",
       "      <th>14</th>\n",
       "      <td>MINOR PULSES AREA (1000 ha)</td>\n",
       "      <td>6984</td>\n",
       "      <td>0</td>\n",
       "    </tr>\n",
       "    <tr>\n",
       "      <th>15</th>\n",
       "      <td>MINOR PULSES PRODUCTION (1000 tons)</td>\n",
       "      <td>4409</td>\n",
       "      <td>0</td>\n",
       "    </tr>\n",
       "    <tr>\n",
       "      <th>16</th>\n",
       "      <td>MINOR PULSES YIELD (Kg per ha)</td>\n",
       "      <td>11827</td>\n",
       "      <td>0</td>\n",
       "    </tr>\n",
       "    <tr>\n",
       "      <th>17</th>\n",
       "      <td>GROUNDNUT AREA (1000 ha)</td>\n",
       "      <td>3371</td>\n",
       "      <td>0</td>\n",
       "    </tr>\n",
       "    <tr>\n",
       "      <th>18</th>\n",
       "      <td>GROUNDNUT PRODUCTION (1000 tons)</td>\n",
       "      <td>3458</td>\n",
       "      <td>0</td>\n",
       "    </tr>\n",
       "    <tr>\n",
       "      <th>19</th>\n",
       "      <td>GROUNDNUT YIELD (Kg per ha)</td>\n",
       "      <td>7176</td>\n",
       "      <td>0</td>\n",
       "    </tr>\n",
       "    <tr>\n",
       "      <th>20</th>\n",
       "      <td>SESAMUM AREA (1000 ha)</td>\n",
       "      <td>2215</td>\n",
       "      <td>0</td>\n",
       "    </tr>\n",
       "    <tr>\n",
       "      <th>21</th>\n",
       "      <td>SESAMUM PRODUCTION (1000 tons)</td>\n",
       "      <td>1301</td>\n",
       "      <td>0</td>\n",
       "    </tr>\n",
       "    <tr>\n",
       "      <th>22</th>\n",
       "      <td>SESAMUM YIELD (Kg per ha)</td>\n",
       "      <td>5840</td>\n",
       "      <td>0</td>\n",
       "    </tr>\n",
       "    <tr>\n",
       "      <th>23</th>\n",
       "      <td>RAPESEED AND MUSTARD AREA (1000 ha)</td>\n",
       "      <td>3464</td>\n",
       "      <td>0</td>\n",
       "    </tr>\n",
       "    <tr>\n",
       "      <th>24</th>\n",
       "      <td>RAPESEED AND MUSTARD PRODUCTION (1000 tons)</td>\n",
       "      <td>3028</td>\n",
       "      <td>0</td>\n",
       "    </tr>\n",
       "    <tr>\n",
       "      <th>25</th>\n",
       "      <td>RAPESEED AND MUSTARD YIELD (Kg per ha)</td>\n",
       "      <td>7019</td>\n",
       "      <td>0</td>\n",
       "    </tr>\n",
       "    <tr>\n",
       "      <th>26</th>\n",
       "      <td>LINSEED AREA (1000 ha)</td>\n",
       "      <td>1111</td>\n",
       "      <td>0</td>\n",
       "    </tr>\n",
       "    <tr>\n",
       "      <th>27</th>\n",
       "      <td>LINSEED PRODUCTION (1000 tons)</td>\n",
       "      <td>596</td>\n",
       "      <td>0</td>\n",
       "    </tr>\n",
       "    <tr>\n",
       "      <th>28</th>\n",
       "      <td>LINSEED YIELD (Kg per ha)</td>\n",
       "      <td>2740</td>\n",
       "      <td>0</td>\n",
       "    </tr>\n",
       "    <tr>\n",
       "      <th>29</th>\n",
       "      <td>SUNFLOWER AREA (1000 ha)</td>\n",
       "      <td>1226</td>\n",
       "      <td>0</td>\n",
       "    </tr>\n",
       "    <tr>\n",
       "      <th>30</th>\n",
       "      <td>SUNFLOWER PRODUCTION (1000 tons)</td>\n",
       "      <td>1112</td>\n",
       "      <td>0</td>\n",
       "    </tr>\n",
       "    <tr>\n",
       "      <th>31</th>\n",
       "      <td>SUNFLOWER YIELD (Kg per ha)</td>\n",
       "      <td>2423</td>\n",
       "      <td>0</td>\n",
       "    </tr>\n",
       "    <tr>\n",
       "      <th>32</th>\n",
       "      <td>OILSEEDS AREA (1000 ha)</td>\n",
       "      <td>8232</td>\n",
       "      <td>0</td>\n",
       "    </tr>\n",
       "    <tr>\n",
       "      <th>33</th>\n",
       "      <td>OILSEEDS PRODUCTION (1000 tons)</td>\n",
       "      <td>6261</td>\n",
       "      <td>0</td>\n",
       "    </tr>\n",
       "    <tr>\n",
       "      <th>34</th>\n",
       "      <td>OILSEEDS YIELD (Kg per ha)</td>\n",
       "      <td>11683</td>\n",
       "      <td>0</td>\n",
       "    </tr>\n",
       "    <tr>\n",
       "      <th>35</th>\n",
       "      <td>SUGARCANE AREA (1000 ha)</td>\n",
       "      <td>2828</td>\n",
       "      <td>0</td>\n",
       "    </tr>\n",
       "    <tr>\n",
       "      <th>36</th>\n",
       "      <td>SUGARCANE PRODUCTION (1000 tons)</td>\n",
       "      <td>5598</td>\n",
       "      <td>0</td>\n",
       "    </tr>\n",
       "    <tr>\n",
       "      <th>37</th>\n",
       "      <td>SUGARCANE YIELD (Kg per ha)</td>\n",
       "      <td>8932</td>\n",
       "      <td>0</td>\n",
       "    </tr>\n",
       "  </tbody>\n",
       "</table>\n",
       "</div>"
      ],
      "text/plain": [
       "                                         Column  Unique Values  null values\n",
       "0                                     Dist Code            311            0\n",
       "1                                          Year             52            0\n",
       "2                                    State Code             20            0\n",
       "3                                    State Name             20            0\n",
       "4                                     Dist Name            311            0\n",
       "5                           RICE AREA (1000 ha)           8447            0\n",
       "6                   RICE PRODUCTION (1000 tons)           9392            0\n",
       "7                        RICE YIELD (Kg per ha)          12907            0\n",
       "8                          WHEAT AREA (1000 ha)           6562            0\n",
       "9                  WHEAT PRODUCTION (1000 tons)           7775            0\n",
       "10                      WHEAT YIELD (Kg per ha)          11798            0\n",
       "11                         MAIZE AREA (1000 ha)           4113            0\n",
       "12                 MAIZE PRODUCTION (1000 tons)           4875            0\n",
       "13                      MAIZE YIELD (Kg per ha)           9174            0\n",
       "14                  MINOR PULSES AREA (1000 ha)           6984            0\n",
       "15          MINOR PULSES PRODUCTION (1000 tons)           4409            0\n",
       "16               MINOR PULSES YIELD (Kg per ha)          11827            0\n",
       "17                     GROUNDNUT AREA (1000 ha)           3371            0\n",
       "18             GROUNDNUT PRODUCTION (1000 tons)           3458            0\n",
       "19                  GROUNDNUT YIELD (Kg per ha)           7176            0\n",
       "20                       SESAMUM AREA (1000 ha)           2215            0\n",
       "21               SESAMUM PRODUCTION (1000 tons)           1301            0\n",
       "22                    SESAMUM YIELD (Kg per ha)           5840            0\n",
       "23          RAPESEED AND MUSTARD AREA (1000 ha)           3464            0\n",
       "24  RAPESEED AND MUSTARD PRODUCTION (1000 tons)           3028            0\n",
       "25       RAPESEED AND MUSTARD YIELD (Kg per ha)           7019            0\n",
       "26                       LINSEED AREA (1000 ha)           1111            0\n",
       "27               LINSEED PRODUCTION (1000 tons)            596            0\n",
       "28                    LINSEED YIELD (Kg per ha)           2740            0\n",
       "29                     SUNFLOWER AREA (1000 ha)           1226            0\n",
       "30             SUNFLOWER PRODUCTION (1000 tons)           1112            0\n",
       "31                  SUNFLOWER YIELD (Kg per ha)           2423            0\n",
       "32                      OILSEEDS AREA (1000 ha)           8232            0\n",
       "33              OILSEEDS PRODUCTION (1000 tons)           6261            0\n",
       "34                   OILSEEDS YIELD (Kg per ha)          11683            0\n",
       "35                     SUGARCANE AREA (1000 ha)           2828            0\n",
       "36             SUGARCANE PRODUCTION (1000 tons)           5598            0\n",
       "37                  SUGARCANE YIELD (Kg per ha)           8932            0"
      ]
     },
     "metadata": {},
     "output_type": "display_data"
    }
   ],
   "source": [
    "def columns_info(data):\n",
    "    \"\"\"\n",
    "    Display a table showing the number of unique values for each column in the DataFrame.\n",
    "    \"\"\"\n",
    "    unique_counts = {\n",
    "        \"Column\": data.columns,\n",
    "        \"Unique Values\": [data[col].nunique() for col in data.columns],\n",
    "        'null values': [data[col].isna().sum() for col in data.columns]\n",
    "    }\n",
    "    \n",
    "    result_df = pd.DataFrame(unique_counts)\n",
    "    display(result_df)\n",
    "columns_info(data)"
   ]
  },
  {
   "cell_type": "markdown",
   "id": "ea95064c",
   "metadata": {},
   "source": [
    "<div style=\"text-align: center;background-color:#f0e9d5; padding:10px; border-left: 5px solid #4CAF50; font-family: Trebuchet MS; font-size: 20px; color: #333;\">\n",
    "  India\n",
    "</div>"
   ]
  },
  {
   "cell_type": "code",
   "execution_count": 217,
   "id": "af7d54d2",
   "metadata": {},
   "outputs": [],
   "source": [
    "bins = list(range(1966, 2021, 5))  \n",
    "\n",
    "labels = [f\"{bins[i]}-{bins[i+1]-1}\" for i in range(len(bins)-1)]\n",
    "\n",
    "\n",
    "data['year_to_decade'] = pd.cut(data['Year'], bins=bins, labels=labels, right=False)\n"
   ]
  },
  {
   "cell_type": "code",
   "execution_count": 232,
   "id": "e9e4b881",
   "metadata": {},
   "outputs": [],
   "source": [
    "production_cols = [col for col in data.columns if 'PRODUCTION' in col]\n",
    "production_data = data[['year_to_decade'] + production_cols]"
   ]
  },
  {
   "cell_type": "code",
   "execution_count": null,
   "id": "4b6f9602",
   "metadata": {},
   "outputs": [
    {
     "data": {
      "application/vnd.plotly.v1+json": {
       "config": {
        "plotlyServerURL": "https://plot.ly"
       },
       "data": [
        {
         "coloraxis": "coloraxis",
         "hovertemplate": "Year: %{x}<br>Crop: %{y}<br>Production (1000 tons): %{z}<extra></extra>",
         "name": "0",
         "type": "heatmap",
         "x": [
          "1966-1970",
          "1971-1975",
          "1976-1980",
          "1981-1985",
          "1986-1990",
          "1991-1995",
          "1996-2000",
          "2001-2005",
          "2006-2010",
          "2011-2015"
         ],
         "xaxis": "x",
         "y": [
          "GROUNDNUT PRODUCTION (1000 tons)",
          "LINSEED PRODUCTION (1000 tons)",
          "MAIZE PRODUCTION (1000 tons)",
          "MINOR PULSES PRODUCTION (1000 tons)",
          "OILSEEDS PRODUCTION (1000 tons)",
          "RAPESEED AND MUSTARD PRODUCTION (1000 tons)",
          "RICE PRODUCTION (1000 tons)",
          "SESAMUM PRODUCTION (1000 tons)",
          "SUGARCANE PRODUCTION (1000 tons)",
          "SUNFLOWER PRODUCTION (1000 tons)",
          "WHEAT PRODUCTION (1000 tons)"
         ],
         "yaxis": "y",
         "z": {
          "bdata": "ZmZmZsan2UAK16Nw/R3cQBSuR+GaPdxAzczMzMxP3kBSuB6FCwDiQOxRuB5dzONAZmZmZl5H4kBxPQrXUwThQHE9Ctd7tOFAKVyPwsUc4kBcj8L1KASNQM3MzMzMSZhAmpmZmZkAlEC4HoXrUVeUQFyPwvUolJNAUrgehevdlEDsUbgehRKSQNejcD0KyYhAUrgeheu5g0A9CtejcIGBQEjhehQerNpA4XoUruca20CkcD0KR+TbQLgeheuhg+BAMzMzMzMS4kB7FK5HGfTkQI/C9SiM3elAFa5H4Up470DXo3A9ttj1QOF6FK6LyvxAAAAAAMASxUBxPQrXY13QQBSuR+GaitRACtejcD3l2kCamZmZKd7YQB+F61E4pttAXI/C9Vhv20BmZmZm5mvaQK5H4XokZN1A16NwPaJP4EDNzMzM3JnWQLgehetxLOBAmpmZmdk64kCPwvUoNHvpQD0K16MQ5PFAzczMzMz6+EAUrkfhihv6QM3MzMwwuvtACtejcAOvAEGuR+F6ynUAQR+F61E4bqVAmpmZmZlXsEC4HoXrURSwQK5H4Xr0asNAMzMzM2Ol0EDD9Shc313YQFK4HoWbU9hAMzMzM/Nz3EDXo3A96iPgQLgehevZkuBAj8L1KBw/BUHXo3A9tN4IQY/C9ShWrAxB9ihcj2+6EEHhehSu9v0TQbgehev0phZBrkfhejgWGUEK16Nw4U8ZQeF6FK6iHBxBFK5H4SQYIEEfhetRuI6cQEjhehSutJpAuB6F61Eom0Bcj8L1qBOgQJqZmZkZvKZAhetRuB47rEApXI/CdTunQNejcD0KX6tAw/UoXA/mr0CF61G4XkewQIXrUbi+M+xAuB6F65mm8EDXo3A94tDyQKRwPQqXcfVAw/UoXC9G+UBxPQrXsQIAQSlcj8JTugFB9ihcjx5+AEEAAAAAaMgDQTMzMzO/NwZBuB6F61E4Q8ApXI/C9SgCQOtRuB6FK1JAPQrXo3AXlEAfhetRuC+lQI/C9Sgc87RAuB6F69GQr0BxPQrXIwWzQK5H4XqU0rJAAAAAAABWoEB7FK5HlRD1QMP1KFzTGf1AuB6F631LA0EAAAAADkEKQQrXo3BfbQ5BPQrXoz8xEkHhehSuglYVQRSuR+GQMhVBPQrXo1lDGUHD9Shc1jYdQQ==",
          "dtype": "f8",
          "shape": "11, 10"
         }
        }
       ],
       "layout": {
        "coloraxis": {
         "colorbar": {
          "title": {
           "text": "Production (1000 tons)"
          }
         },
         "colorscale": [
          [
           0,
           "#440154"
          ],
          [
           0.1111111111111111,
           "#482878"
          ],
          [
           0.2222222222222222,
           "#3e4989"
          ],
          [
           0.3333333333333333,
           "#31688e"
          ],
          [
           0.4444444444444444,
           "#26828e"
          ],
          [
           0.5555555555555556,
           "#1f9e89"
          ],
          [
           0.6666666666666666,
           "#35b779"
          ],
          [
           0.7777777777777778,
           "#6ece58"
          ],
          [
           0.8888888888888888,
           "#b5de2b"
          ],
          [
           1,
           "#fde725"
          ]
         ]
        },
        "height": 500,
        "margin": {
         "t": 60
        },
        "template": {
         "data": {
          "bar": [
           {
            "error_x": {
             "color": "#2a3f5f"
            },
            "error_y": {
             "color": "#2a3f5f"
            },
            "marker": {
             "line": {
              "color": "#E5ECF6",
              "width": 0.5
             },
             "pattern": {
              "fillmode": "overlay",
              "size": 10,
              "solidity": 0.2
             }
            },
            "type": "bar"
           }
          ],
          "barpolar": [
           {
            "marker": {
             "line": {
              "color": "#E5ECF6",
              "width": 0.5
             },
             "pattern": {
              "fillmode": "overlay",
              "size": 10,
              "solidity": 0.2
             }
            },
            "type": "barpolar"
           }
          ],
          "carpet": [
           {
            "aaxis": {
             "endlinecolor": "#2a3f5f",
             "gridcolor": "white",
             "linecolor": "white",
             "minorgridcolor": "white",
             "startlinecolor": "#2a3f5f"
            },
            "baxis": {
             "endlinecolor": "#2a3f5f",
             "gridcolor": "white",
             "linecolor": "white",
             "minorgridcolor": "white",
             "startlinecolor": "#2a3f5f"
            },
            "type": "carpet"
           }
          ],
          "choropleth": [
           {
            "colorbar": {
             "outlinewidth": 0,
             "ticks": ""
            },
            "type": "choropleth"
           }
          ],
          "contour": [
           {
            "colorbar": {
             "outlinewidth": 0,
             "ticks": ""
            },
            "colorscale": [
             [
              0,
              "#0d0887"
             ],
             [
              0.1111111111111111,
              "#46039f"
             ],
             [
              0.2222222222222222,
              "#7201a8"
             ],
             [
              0.3333333333333333,
              "#9c179e"
             ],
             [
              0.4444444444444444,
              "#bd3786"
             ],
             [
              0.5555555555555556,
              "#d8576b"
             ],
             [
              0.6666666666666666,
              "#ed7953"
             ],
             [
              0.7777777777777778,
              "#fb9f3a"
             ],
             [
              0.8888888888888888,
              "#fdca26"
             ],
             [
              1,
              "#f0f921"
             ]
            ],
            "type": "contour"
           }
          ],
          "contourcarpet": [
           {
            "colorbar": {
             "outlinewidth": 0,
             "ticks": ""
            },
            "type": "contourcarpet"
           }
          ],
          "heatmap": [
           {
            "colorbar": {
             "outlinewidth": 0,
             "ticks": ""
            },
            "colorscale": [
             [
              0,
              "#0d0887"
             ],
             [
              0.1111111111111111,
              "#46039f"
             ],
             [
              0.2222222222222222,
              "#7201a8"
             ],
             [
              0.3333333333333333,
              "#9c179e"
             ],
             [
              0.4444444444444444,
              "#bd3786"
             ],
             [
              0.5555555555555556,
              "#d8576b"
             ],
             [
              0.6666666666666666,
              "#ed7953"
             ],
             [
              0.7777777777777778,
              "#fb9f3a"
             ],
             [
              0.8888888888888888,
              "#fdca26"
             ],
             [
              1,
              "#f0f921"
             ]
            ],
            "type": "heatmap"
           }
          ],
          "histogram": [
           {
            "marker": {
             "pattern": {
              "fillmode": "overlay",
              "size": 10,
              "solidity": 0.2
             }
            },
            "type": "histogram"
           }
          ],
          "histogram2d": [
           {
            "colorbar": {
             "outlinewidth": 0,
             "ticks": ""
            },
            "colorscale": [
             [
              0,
              "#0d0887"
             ],
             [
              0.1111111111111111,
              "#46039f"
             ],
             [
              0.2222222222222222,
              "#7201a8"
             ],
             [
              0.3333333333333333,
              "#9c179e"
             ],
             [
              0.4444444444444444,
              "#bd3786"
             ],
             [
              0.5555555555555556,
              "#d8576b"
             ],
             [
              0.6666666666666666,
              "#ed7953"
             ],
             [
              0.7777777777777778,
              "#fb9f3a"
             ],
             [
              0.8888888888888888,
              "#fdca26"
             ],
             [
              1,
              "#f0f921"
             ]
            ],
            "type": "histogram2d"
           }
          ],
          "histogram2dcontour": [
           {
            "colorbar": {
             "outlinewidth": 0,
             "ticks": ""
            },
            "colorscale": [
             [
              0,
              "#0d0887"
             ],
             [
              0.1111111111111111,
              "#46039f"
             ],
             [
              0.2222222222222222,
              "#7201a8"
             ],
             [
              0.3333333333333333,
              "#9c179e"
             ],
             [
              0.4444444444444444,
              "#bd3786"
             ],
             [
              0.5555555555555556,
              "#d8576b"
             ],
             [
              0.6666666666666666,
              "#ed7953"
             ],
             [
              0.7777777777777778,
              "#fb9f3a"
             ],
             [
              0.8888888888888888,
              "#fdca26"
             ],
             [
              1,
              "#f0f921"
             ]
            ],
            "type": "histogram2dcontour"
           }
          ],
          "mesh3d": [
           {
            "colorbar": {
             "outlinewidth": 0,
             "ticks": ""
            },
            "type": "mesh3d"
           }
          ],
          "parcoords": [
           {
            "line": {
             "colorbar": {
              "outlinewidth": 0,
              "ticks": ""
             }
            },
            "type": "parcoords"
           }
          ],
          "pie": [
           {
            "automargin": true,
            "type": "pie"
           }
          ],
          "scatter": [
           {
            "fillpattern": {
             "fillmode": "overlay",
             "size": 10,
             "solidity": 0.2
            },
            "type": "scatter"
           }
          ],
          "scatter3d": [
           {
            "line": {
             "colorbar": {
              "outlinewidth": 0,
              "ticks": ""
             }
            },
            "marker": {
             "colorbar": {
              "outlinewidth": 0,
              "ticks": ""
             }
            },
            "type": "scatter3d"
           }
          ],
          "scattercarpet": [
           {
            "marker": {
             "colorbar": {
              "outlinewidth": 0,
              "ticks": ""
             }
            },
            "type": "scattercarpet"
           }
          ],
          "scattergeo": [
           {
            "marker": {
             "colorbar": {
              "outlinewidth": 0,
              "ticks": ""
             }
            },
            "type": "scattergeo"
           }
          ],
          "scattergl": [
           {
            "marker": {
             "colorbar": {
              "outlinewidth": 0,
              "ticks": ""
             }
            },
            "type": "scattergl"
           }
          ],
          "scattermap": [
           {
            "marker": {
             "colorbar": {
              "outlinewidth": 0,
              "ticks": ""
             }
            },
            "type": "scattermap"
           }
          ],
          "scattermapbox": [
           {
            "marker": {
             "colorbar": {
              "outlinewidth": 0,
              "ticks": ""
             }
            },
            "type": "scattermapbox"
           }
          ],
          "scatterpolar": [
           {
            "marker": {
             "colorbar": {
              "outlinewidth": 0,
              "ticks": ""
             }
            },
            "type": "scatterpolar"
           }
          ],
          "scatterpolargl": [
           {
            "marker": {
             "colorbar": {
              "outlinewidth": 0,
              "ticks": ""
             }
            },
            "type": "scatterpolargl"
           }
          ],
          "scatterternary": [
           {
            "marker": {
             "colorbar": {
              "outlinewidth": 0,
              "ticks": ""
             }
            },
            "type": "scatterternary"
           }
          ],
          "surface": [
           {
            "colorbar": {
             "outlinewidth": 0,
             "ticks": ""
            },
            "colorscale": [
             [
              0,
              "#0d0887"
             ],
             [
              0.1111111111111111,
              "#46039f"
             ],
             [
              0.2222222222222222,
              "#7201a8"
             ],
             [
              0.3333333333333333,
              "#9c179e"
             ],
             [
              0.4444444444444444,
              "#bd3786"
             ],
             [
              0.5555555555555556,
              "#d8576b"
             ],
             [
              0.6666666666666666,
              "#ed7953"
             ],
             [
              0.7777777777777778,
              "#fb9f3a"
             ],
             [
              0.8888888888888888,
              "#fdca26"
             ],
             [
              1,
              "#f0f921"
             ]
            ],
            "type": "surface"
           }
          ],
          "table": [
           {
            "cells": {
             "fill": {
              "color": "#EBF0F8"
             },
             "line": {
              "color": "white"
             }
            },
            "header": {
             "fill": {
              "color": "#C8D4E3"
             },
             "line": {
              "color": "white"
             }
            },
            "type": "table"
           }
          ]
         },
         "layout": {
          "annotationdefaults": {
           "arrowcolor": "#2a3f5f",
           "arrowhead": 0,
           "arrowwidth": 1
          },
          "autotypenumbers": "strict",
          "coloraxis": {
           "colorbar": {
            "outlinewidth": 0,
            "ticks": ""
           }
          },
          "colorscale": {
           "diverging": [
            [
             0,
             "#8e0152"
            ],
            [
             0.1,
             "#c51b7d"
            ],
            [
             0.2,
             "#de77ae"
            ],
            [
             0.3,
             "#f1b6da"
            ],
            [
             0.4,
             "#fde0ef"
            ],
            [
             0.5,
             "#f7f7f7"
            ],
            [
             0.6,
             "#e6f5d0"
            ],
            [
             0.7,
             "#b8e186"
            ],
            [
             0.8,
             "#7fbc41"
            ],
            [
             0.9,
             "#4d9221"
            ],
            [
             1,
             "#276419"
            ]
           ],
           "sequential": [
            [
             0,
             "#0d0887"
            ],
            [
             0.1111111111111111,
             "#46039f"
            ],
            [
             0.2222222222222222,
             "#7201a8"
            ],
            [
             0.3333333333333333,
             "#9c179e"
            ],
            [
             0.4444444444444444,
             "#bd3786"
            ],
            [
             0.5555555555555556,
             "#d8576b"
            ],
            [
             0.6666666666666666,
             "#ed7953"
            ],
            [
             0.7777777777777778,
             "#fb9f3a"
            ],
            [
             0.8888888888888888,
             "#fdca26"
            ],
            [
             1,
             "#f0f921"
            ]
           ],
           "sequentialminus": [
            [
             0,
             "#0d0887"
            ],
            [
             0.1111111111111111,
             "#46039f"
            ],
            [
             0.2222222222222222,
             "#7201a8"
            ],
            [
             0.3333333333333333,
             "#9c179e"
            ],
            [
             0.4444444444444444,
             "#bd3786"
            ],
            [
             0.5555555555555556,
             "#d8576b"
            ],
            [
             0.6666666666666666,
             "#ed7953"
            ],
            [
             0.7777777777777778,
             "#fb9f3a"
            ],
            [
             0.8888888888888888,
             "#fdca26"
            ],
            [
             1,
             "#f0f921"
            ]
           ]
          },
          "colorway": [
           "#636efa",
           "#EF553B",
           "#00cc96",
           "#ab63fa",
           "#FFA15A",
           "#19d3f3",
           "#FF6692",
           "#B6E880",
           "#FF97FF",
           "#FECB52"
          ],
          "font": {
           "color": "#2a3f5f"
          },
          "geo": {
           "bgcolor": "white",
           "lakecolor": "white",
           "landcolor": "#E5ECF6",
           "showlakes": true,
           "showland": true,
           "subunitcolor": "white"
          },
          "hoverlabel": {
           "align": "left"
          },
          "hovermode": "closest",
          "mapbox": {
           "style": "light"
          },
          "paper_bgcolor": "white",
          "plot_bgcolor": "#E5ECF6",
          "polar": {
           "angularaxis": {
            "gridcolor": "white",
            "linecolor": "white",
            "ticks": ""
           },
           "bgcolor": "#E5ECF6",
           "radialaxis": {
            "gridcolor": "white",
            "linecolor": "white",
            "ticks": ""
           }
          },
          "scene": {
           "xaxis": {
            "backgroundcolor": "#E5ECF6",
            "gridcolor": "white",
            "gridwidth": 2,
            "linecolor": "white",
            "showbackground": true,
            "ticks": "",
            "zerolinecolor": "white"
           },
           "yaxis": {
            "backgroundcolor": "#E5ECF6",
            "gridcolor": "white",
            "gridwidth": 2,
            "linecolor": "white",
            "showbackground": true,
            "ticks": "",
            "zerolinecolor": "white"
           },
           "zaxis": {
            "backgroundcolor": "#E5ECF6",
            "gridcolor": "white",
            "gridwidth": 2,
            "linecolor": "white",
            "showbackground": true,
            "ticks": "",
            "zerolinecolor": "white"
           }
          },
          "shapedefaults": {
           "line": {
            "color": "#2a3f5f"
           }
          },
          "ternary": {
           "aaxis": {
            "gridcolor": "white",
            "linecolor": "white",
            "ticks": ""
           },
           "baxis": {
            "gridcolor": "white",
            "linecolor": "white",
            "ticks": ""
           },
           "bgcolor": "#E5ECF6",
           "caxis": {
            "gridcolor": "white",
            "linecolor": "white",
            "ticks": ""
           }
          },
          "title": {
           "x": 0.05
          },
          "xaxis": {
           "automargin": true,
           "gridcolor": "white",
           "linecolor": "white",
           "ticks": "",
           "title": {
            "standoff": 15
           },
           "zerolinecolor": "white",
           "zerolinewidth": 2
          },
          "yaxis": {
           "automargin": true,
           "gridcolor": "white",
           "linecolor": "white",
           "ticks": "",
           "title": {
            "standoff": 15
           },
           "zerolinecolor": "white",
           "zerolinewidth": 2
          }
         }
        },
        "title": {
         "text": "Crop Production per Year Heatmap"
        },
        "xaxis": {
         "anchor": "y",
         "domain": [
          0,
          1
         ],
         "nticks": 20,
         "title": {
          "text": "Year"
         }
        },
        "yaxis": {
         "anchor": "x",
         "autorange": "reversed",
         "domain": [
          0,
          1
         ],
         "title": {
          "text": "Crop"
         }
        }
       }
      }
     },
     "metadata": {},
     "output_type": "display_data"
    }
   ],
   "source": [
    "grouped_data = production_data.groupby('year_to_decade', observed=True, as_index=False).sum()\n",
    "\n",
    "heatmap_data = grouped_data.melt(id_vars='year_to_decade', \n",
    "                                 var_name='Crop', \n",
    "                                 value_name='Production (1000 tons)')\n",
    "\n",
    "heatmap_matrix = heatmap_data.pivot(index='Crop', columns='year_to_decade', values='Production (1000 tons)')\n",
    "\n",
    "fig = px.imshow(\n",
    "    heatmap_matrix,\n",
    "    labels=dict(x=\"Year\", y=\"Crop\", color=\"Production (1000 tons)\"),\n",
    "    color_continuous_scale='Viridis',\n",
    "    aspect=\"auto\"\n",
    ")\n",
    "\n",
    "fig.update_layout(\n",
    "    title='Crop Production per Year Heatmap',\n",
    "    height=500,\n",
    "    xaxis_nticks=20\n",
    ")\n",
    "\n",
    "fig.show()"
   ]
  },
  {
   "cell_type": "code",
   "execution_count": 230,
   "id": "9d942170",
   "metadata": {},
   "outputs": [
    {
     "data": {
      "application/vnd.plotly.v1+json": {
       "config": {
        "plotlyServerURL": "https://plot.ly"
       },
       "data": [
        {
         "coloraxis": "coloraxis",
         "hovertemplate": "Year: %{x}<br>Crop: %{y}<br>Area (1000 ha): %{z}<extra></extra>",
         "name": "0",
         "type": "heatmap",
         "x": [
          "1966-1970",
          "1971-1975",
          "1976-1980",
          "1981-1985",
          "1986-1990",
          "1991-1995",
          "1996-2000",
          "2001-2005",
          "2006-2010",
          "2011-2015"
         ],
         "xaxis": "x",
         "y": [
          "GROUNDNUT AREA (1000 ha)",
          "LINSEED AREA (1000 ha)",
          "MAIZE AREA (1000 ha)",
          "MINOR PULSES AREA (1000 ha)",
          "OILSEEDS AREA (1000 ha)",
          "RAPESEED AND MUSTARD AREA (1000 ha)",
          "RICE AREA (1000 ha)",
          "SESAMUM AREA (1000 ha)",
          "SUGARCANE AREA (1000 ha)",
          "SUNFLOWER AREA (1000 ha)",
          "WHEAT AREA (1000 ha)"
         ],
         "yaxis": "y",
         "z": {
          "bdata": "hetRuF4q4kDD9Shcb0ziQOxRuB49GOFAFK5H4WLx4UDhehSu707jQOxRuB51NuRArkfheiSv4UAAAAAAoFzfQMP1KFy/pt1ACtejcB0i2UBmZmZmZuGxQKRwPQrXzLhAH4XrUTgEt0CkcD0K17K0QNejcD0KxrFA16NwPYpBsECPwvUoXCKqQI/C9ShcI6BA7FG4HoUTmUCkcD0K18uRQOF6FK7ng9lACtejcO0T20AAAAAAUPnaQI/C9ShMdNpAzczMzLxt2kDsUbgeZVDbQOF6FK53Ot1AKVyPwlUt4ECPwvUoJJviQI/C9SgEiORAAAAAALSo8EBSuB6Fy6zuQK5H4XrYGvBAH4XrUSwZ8EB7FK5H2UvvQNejcD2S7+9AhetRuOaK7kA9CtejMC/uQAAAAADY7+5AH4XrUVhS7EAAAAAA+IvxQNejcD3O9PFAZmZmZhY/8kCF61G4QoP1QLgehettkfpA4XoUro1HAEEfhetRdIj/QJqZmZnpsv9ApHA9Cu/pAEFcj8L16IT+QM3MzMyM7rdAuB6F6/FLwEApXI/CtaHAQM3MzMxMMMtAzczMzCw81EBSuB6Fq7bbQD0K16MQr9pArkfheuTo2kCPwvUo7MbbQM3MzMxszNtAPQrXo2ZqBUE9CtejrGAGQUjhehTSeQdBZmZmZsjNB0GkcD0Kv3QIQeF6FK7ZzghBzczMzHTECUHNzMzMWFgJQTMzMzMb0glBj8L1KHywCUF7FK5HYeTCQMP1KFwvYsBAw/UoXE/mvkD2KFyPAs7BQFK4HoUrVcNApHA9CndbxkBSuB6FK6/BQM3MzMysHcJACtejcF3AxEA9Ctej8PnCQArXo3B9lsdASOF6FC4dykDD9ShcT8zLQI/C9Sicx81ACtejcE0l0EDD9ShcX6fSQJqZmZm5tNRASOF6FC7D1EDsUbgetSbYQArXo3BdydhA4XoUrkfBQcDsUbgehesSQHsUrkfhil9AhetRuB4PpUAUrkfh+tO3QKRwPQr3eMRACtejcD2VvkDD9ShcjyrCQJqZmZk5BsBAAAAAAIBGqUBSuB6FX2DyQM3MzMzEU/ZA9ihcj/6k+UAzMzMz7yL8QJqZmZmFkfxACtejcCXi/UD2KFyPgh4AQYXrUbjG3P9AzczMzG5jAUE9CtejJHUCQQ==",
          "dtype": "f8",
          "shape": "11, 10"
         }
        }
       ],
       "layout": {
        "coloraxis": {
         "colorbar": {
          "title": {
           "text": "Area (1000 ha)"
          }
         },
         "colorscale": [
          [
           0,
           "#00224e"
          ],
          [
           0.1111111111111111,
           "#123570"
          ],
          [
           0.2222222222222222,
           "#3b496c"
          ],
          [
           0.3333333333333333,
           "#575d6d"
          ],
          [
           0.4444444444444444,
           "#707173"
          ],
          [
           0.5555555555555556,
           "#8a8678"
          ],
          [
           0.6666666666666666,
           "#a59c74"
          ],
          [
           0.7777777777777778,
           "#c3b369"
          ],
          [
           0.8888888888888888,
           "#e1cc55"
          ],
          [
           1,
           "#fee838"
          ]
         ]
        },
        "height": 500,
        "margin": {
         "t": 60
        },
        "template": {
         "data": {
          "bar": [
           {
            "error_x": {
             "color": "#2a3f5f"
            },
            "error_y": {
             "color": "#2a3f5f"
            },
            "marker": {
             "line": {
              "color": "#E5ECF6",
              "width": 0.5
             },
             "pattern": {
              "fillmode": "overlay",
              "size": 10,
              "solidity": 0.2
             }
            },
            "type": "bar"
           }
          ],
          "barpolar": [
           {
            "marker": {
             "line": {
              "color": "#E5ECF6",
              "width": 0.5
             },
             "pattern": {
              "fillmode": "overlay",
              "size": 10,
              "solidity": 0.2
             }
            },
            "type": "barpolar"
           }
          ],
          "carpet": [
           {
            "aaxis": {
             "endlinecolor": "#2a3f5f",
             "gridcolor": "white",
             "linecolor": "white",
             "minorgridcolor": "white",
             "startlinecolor": "#2a3f5f"
            },
            "baxis": {
             "endlinecolor": "#2a3f5f",
             "gridcolor": "white",
             "linecolor": "white",
             "minorgridcolor": "white",
             "startlinecolor": "#2a3f5f"
            },
            "type": "carpet"
           }
          ],
          "choropleth": [
           {
            "colorbar": {
             "outlinewidth": 0,
             "ticks": ""
            },
            "type": "choropleth"
           }
          ],
          "contour": [
           {
            "colorbar": {
             "outlinewidth": 0,
             "ticks": ""
            },
            "colorscale": [
             [
              0,
              "#0d0887"
             ],
             [
              0.1111111111111111,
              "#46039f"
             ],
             [
              0.2222222222222222,
              "#7201a8"
             ],
             [
              0.3333333333333333,
              "#9c179e"
             ],
             [
              0.4444444444444444,
              "#bd3786"
             ],
             [
              0.5555555555555556,
              "#d8576b"
             ],
             [
              0.6666666666666666,
              "#ed7953"
             ],
             [
              0.7777777777777778,
              "#fb9f3a"
             ],
             [
              0.8888888888888888,
              "#fdca26"
             ],
             [
              1,
              "#f0f921"
             ]
            ],
            "type": "contour"
           }
          ],
          "contourcarpet": [
           {
            "colorbar": {
             "outlinewidth": 0,
             "ticks": ""
            },
            "type": "contourcarpet"
           }
          ],
          "heatmap": [
           {
            "colorbar": {
             "outlinewidth": 0,
             "ticks": ""
            },
            "colorscale": [
             [
              0,
              "#0d0887"
             ],
             [
              0.1111111111111111,
              "#46039f"
             ],
             [
              0.2222222222222222,
              "#7201a8"
             ],
             [
              0.3333333333333333,
              "#9c179e"
             ],
             [
              0.4444444444444444,
              "#bd3786"
             ],
             [
              0.5555555555555556,
              "#d8576b"
             ],
             [
              0.6666666666666666,
              "#ed7953"
             ],
             [
              0.7777777777777778,
              "#fb9f3a"
             ],
             [
              0.8888888888888888,
              "#fdca26"
             ],
             [
              1,
              "#f0f921"
             ]
            ],
            "type": "heatmap"
           }
          ],
          "histogram": [
           {
            "marker": {
             "pattern": {
              "fillmode": "overlay",
              "size": 10,
              "solidity": 0.2
             }
            },
            "type": "histogram"
           }
          ],
          "histogram2d": [
           {
            "colorbar": {
             "outlinewidth": 0,
             "ticks": ""
            },
            "colorscale": [
             [
              0,
              "#0d0887"
             ],
             [
              0.1111111111111111,
              "#46039f"
             ],
             [
              0.2222222222222222,
              "#7201a8"
             ],
             [
              0.3333333333333333,
              "#9c179e"
             ],
             [
              0.4444444444444444,
              "#bd3786"
             ],
             [
              0.5555555555555556,
              "#d8576b"
             ],
             [
              0.6666666666666666,
              "#ed7953"
             ],
             [
              0.7777777777777778,
              "#fb9f3a"
             ],
             [
              0.8888888888888888,
              "#fdca26"
             ],
             [
              1,
              "#f0f921"
             ]
            ],
            "type": "histogram2d"
           }
          ],
          "histogram2dcontour": [
           {
            "colorbar": {
             "outlinewidth": 0,
             "ticks": ""
            },
            "colorscale": [
             [
              0,
              "#0d0887"
             ],
             [
              0.1111111111111111,
              "#46039f"
             ],
             [
              0.2222222222222222,
              "#7201a8"
             ],
             [
              0.3333333333333333,
              "#9c179e"
             ],
             [
              0.4444444444444444,
              "#bd3786"
             ],
             [
              0.5555555555555556,
              "#d8576b"
             ],
             [
              0.6666666666666666,
              "#ed7953"
             ],
             [
              0.7777777777777778,
              "#fb9f3a"
             ],
             [
              0.8888888888888888,
              "#fdca26"
             ],
             [
              1,
              "#f0f921"
             ]
            ],
            "type": "histogram2dcontour"
           }
          ],
          "mesh3d": [
           {
            "colorbar": {
             "outlinewidth": 0,
             "ticks": ""
            },
            "type": "mesh3d"
           }
          ],
          "parcoords": [
           {
            "line": {
             "colorbar": {
              "outlinewidth": 0,
              "ticks": ""
             }
            },
            "type": "parcoords"
           }
          ],
          "pie": [
           {
            "automargin": true,
            "type": "pie"
           }
          ],
          "scatter": [
           {
            "fillpattern": {
             "fillmode": "overlay",
             "size": 10,
             "solidity": 0.2
            },
            "type": "scatter"
           }
          ],
          "scatter3d": [
           {
            "line": {
             "colorbar": {
              "outlinewidth": 0,
              "ticks": ""
             }
            },
            "marker": {
             "colorbar": {
              "outlinewidth": 0,
              "ticks": ""
             }
            },
            "type": "scatter3d"
           }
          ],
          "scattercarpet": [
           {
            "marker": {
             "colorbar": {
              "outlinewidth": 0,
              "ticks": ""
             }
            },
            "type": "scattercarpet"
           }
          ],
          "scattergeo": [
           {
            "marker": {
             "colorbar": {
              "outlinewidth": 0,
              "ticks": ""
             }
            },
            "type": "scattergeo"
           }
          ],
          "scattergl": [
           {
            "marker": {
             "colorbar": {
              "outlinewidth": 0,
              "ticks": ""
             }
            },
            "type": "scattergl"
           }
          ],
          "scattermap": [
           {
            "marker": {
             "colorbar": {
              "outlinewidth": 0,
              "ticks": ""
             }
            },
            "type": "scattermap"
           }
          ],
          "scattermapbox": [
           {
            "marker": {
             "colorbar": {
              "outlinewidth": 0,
              "ticks": ""
             }
            },
            "type": "scattermapbox"
           }
          ],
          "scatterpolar": [
           {
            "marker": {
             "colorbar": {
              "outlinewidth": 0,
              "ticks": ""
             }
            },
            "type": "scatterpolar"
           }
          ],
          "scatterpolargl": [
           {
            "marker": {
             "colorbar": {
              "outlinewidth": 0,
              "ticks": ""
             }
            },
            "type": "scatterpolargl"
           }
          ],
          "scatterternary": [
           {
            "marker": {
             "colorbar": {
              "outlinewidth": 0,
              "ticks": ""
             }
            },
            "type": "scatterternary"
           }
          ],
          "surface": [
           {
            "colorbar": {
             "outlinewidth": 0,
             "ticks": ""
            },
            "colorscale": [
             [
              0,
              "#0d0887"
             ],
             [
              0.1111111111111111,
              "#46039f"
             ],
             [
              0.2222222222222222,
              "#7201a8"
             ],
             [
              0.3333333333333333,
              "#9c179e"
             ],
             [
              0.4444444444444444,
              "#bd3786"
             ],
             [
              0.5555555555555556,
              "#d8576b"
             ],
             [
              0.6666666666666666,
              "#ed7953"
             ],
             [
              0.7777777777777778,
              "#fb9f3a"
             ],
             [
              0.8888888888888888,
              "#fdca26"
             ],
             [
              1,
              "#f0f921"
             ]
            ],
            "type": "surface"
           }
          ],
          "table": [
           {
            "cells": {
             "fill": {
              "color": "#EBF0F8"
             },
             "line": {
              "color": "white"
             }
            },
            "header": {
             "fill": {
              "color": "#C8D4E3"
             },
             "line": {
              "color": "white"
             }
            },
            "type": "table"
           }
          ]
         },
         "layout": {
          "annotationdefaults": {
           "arrowcolor": "#2a3f5f",
           "arrowhead": 0,
           "arrowwidth": 1
          },
          "autotypenumbers": "strict",
          "coloraxis": {
           "colorbar": {
            "outlinewidth": 0,
            "ticks": ""
           }
          },
          "colorscale": {
           "diverging": [
            [
             0,
             "#8e0152"
            ],
            [
             0.1,
             "#c51b7d"
            ],
            [
             0.2,
             "#de77ae"
            ],
            [
             0.3,
             "#f1b6da"
            ],
            [
             0.4,
             "#fde0ef"
            ],
            [
             0.5,
             "#f7f7f7"
            ],
            [
             0.6,
             "#e6f5d0"
            ],
            [
             0.7,
             "#b8e186"
            ],
            [
             0.8,
             "#7fbc41"
            ],
            [
             0.9,
             "#4d9221"
            ],
            [
             1,
             "#276419"
            ]
           ],
           "sequential": [
            [
             0,
             "#0d0887"
            ],
            [
             0.1111111111111111,
             "#46039f"
            ],
            [
             0.2222222222222222,
             "#7201a8"
            ],
            [
             0.3333333333333333,
             "#9c179e"
            ],
            [
             0.4444444444444444,
             "#bd3786"
            ],
            [
             0.5555555555555556,
             "#d8576b"
            ],
            [
             0.6666666666666666,
             "#ed7953"
            ],
            [
             0.7777777777777778,
             "#fb9f3a"
            ],
            [
             0.8888888888888888,
             "#fdca26"
            ],
            [
             1,
             "#f0f921"
            ]
           ],
           "sequentialminus": [
            [
             0,
             "#0d0887"
            ],
            [
             0.1111111111111111,
             "#46039f"
            ],
            [
             0.2222222222222222,
             "#7201a8"
            ],
            [
             0.3333333333333333,
             "#9c179e"
            ],
            [
             0.4444444444444444,
             "#bd3786"
            ],
            [
             0.5555555555555556,
             "#d8576b"
            ],
            [
             0.6666666666666666,
             "#ed7953"
            ],
            [
             0.7777777777777778,
             "#fb9f3a"
            ],
            [
             0.8888888888888888,
             "#fdca26"
            ],
            [
             1,
             "#f0f921"
            ]
           ]
          },
          "colorway": [
           "#636efa",
           "#EF553B",
           "#00cc96",
           "#ab63fa",
           "#FFA15A",
           "#19d3f3",
           "#FF6692",
           "#B6E880",
           "#FF97FF",
           "#FECB52"
          ],
          "font": {
           "color": "#2a3f5f"
          },
          "geo": {
           "bgcolor": "white",
           "lakecolor": "white",
           "landcolor": "#E5ECF6",
           "showlakes": true,
           "showland": true,
           "subunitcolor": "white"
          },
          "hoverlabel": {
           "align": "left"
          },
          "hovermode": "closest",
          "mapbox": {
           "style": "light"
          },
          "paper_bgcolor": "white",
          "plot_bgcolor": "#E5ECF6",
          "polar": {
           "angularaxis": {
            "gridcolor": "white",
            "linecolor": "white",
            "ticks": ""
           },
           "bgcolor": "#E5ECF6",
           "radialaxis": {
            "gridcolor": "white",
            "linecolor": "white",
            "ticks": ""
           }
          },
          "scene": {
           "xaxis": {
            "backgroundcolor": "#E5ECF6",
            "gridcolor": "white",
            "gridwidth": 2,
            "linecolor": "white",
            "showbackground": true,
            "ticks": "",
            "zerolinecolor": "white"
           },
           "yaxis": {
            "backgroundcolor": "#E5ECF6",
            "gridcolor": "white",
            "gridwidth": 2,
            "linecolor": "white",
            "showbackground": true,
            "ticks": "",
            "zerolinecolor": "white"
           },
           "zaxis": {
            "backgroundcolor": "#E5ECF6",
            "gridcolor": "white",
            "gridwidth": 2,
            "linecolor": "white",
            "showbackground": true,
            "ticks": "",
            "zerolinecolor": "white"
           }
          },
          "shapedefaults": {
           "line": {
            "color": "#2a3f5f"
           }
          },
          "ternary": {
           "aaxis": {
            "gridcolor": "white",
            "linecolor": "white",
            "ticks": ""
           },
           "baxis": {
            "gridcolor": "white",
            "linecolor": "white",
            "ticks": ""
           },
           "bgcolor": "#E5ECF6",
           "caxis": {
            "gridcolor": "white",
            "linecolor": "white",
            "ticks": ""
           }
          },
          "title": {
           "x": 0.05
          },
          "xaxis": {
           "automargin": true,
           "gridcolor": "white",
           "linecolor": "white",
           "ticks": "",
           "title": {
            "standoff": 15
           },
           "zerolinecolor": "white",
           "zerolinewidth": 2
          },
          "yaxis": {
           "automargin": true,
           "gridcolor": "white",
           "linecolor": "white",
           "ticks": "",
           "title": {
            "standoff": 15
           },
           "zerolinecolor": "white",
           "zerolinewidth": 2
          }
         }
        },
        "title": {
         "text": "Crop Area (1000 ha) per Year Heatmap"
        },
        "xaxis": {
         "anchor": "y",
         "domain": [
          0,
          1
         ],
         "nticks": 20,
         "title": {
          "text": "Year"
         }
        },
        "yaxis": {
         "anchor": "x",
         "autorange": "reversed",
         "domain": [
          0,
          1
         ],
         "title": {
          "text": "Crop"
         }
        }
       }
      }
     },
     "metadata": {},
     "output_type": "display_data"
    }
   ],
   "source": [
    "\n",
    "production_cols = [col for col in data.columns if 'AREA' in col]\n",
    "production_data = data[['year_to_decade'] + production_cols]\n",
    "\n",
    "grouped_data = production_data.groupby('year_to_decade',observed=True, as_index=False).sum()\n",
    "\n",
    "heatmap_data = grouped_data.melt(id_vars='year_to_decade', \n",
    "                                 var_name='Crop', \n",
    "                                 value_name='Area (1000 ha)')\n",
    "\n",
    "heatmap_matrix = heatmap_data.pivot(index='Crop', columns='year_to_decade', values='Area (1000 ha)')\n",
    "\n",
    "fig = px.imshow(\n",
    "    heatmap_matrix,\n",
    "    labels=dict(x=\"Year\", y=\"Crop\", color=\"Area (1000 ha)\"),\n",
    "    color_continuous_scale='Cividis',\n",
    "    aspect=\"auto\"\n",
    ")\n",
    "\n",
    "fig.update_layout(\n",
    "    title='Crop Area (1000 ha) per Year Heatmap',\n",
    "    height=500,\n",
    "    xaxis_nticks=20\n",
    ")\n",
    "\n",
    "fig.show()"
   ]
  },
  {
   "cell_type": "code",
   "execution_count": null,
   "id": "42e76545",
   "metadata": {},
   "outputs": [
    {
     "data": {
      "application/vnd.plotly.v1+json": {
       "config": {
        "plotlyServerURL": "https://plot.ly"
       },
       "data": [
        {
         "coloraxis": "coloraxis",
         "hovertemplate": "Year: %{x}<br>Crop: %{y}<br>YIELD (kg/ha): %{z}<extra></extra>",
         "name": "0",
         "type": "heatmap",
         "x": [
          "1966-1970",
          "1971-1975",
          "1976-1980",
          "1981-1985",
          "1986-1990",
          "1991-1995",
          "1996-2000",
          "2001-2005",
          "2006-2010",
          "2011-2015"
         ],
         "xaxis": "x",
         "y": [
          "GROUNDNUT YIELD (Kg per ha)",
          "LINSEED YIELD (Kg per ha)",
          "MAIZE YIELD (Kg per ha)",
          "MINOR PULSES YIELD (Kg per ha)",
          "OILSEEDS YIELD (Kg per ha)",
          "RAPESEED AND MUSTARD YIELD (Kg per ha)",
          "RICE YIELD (Kg per ha)",
          "SESAMUM YIELD (Kg per ha)",
          "SUGARCANE YIELD (Kg per ha)",
          "SUNFLOWER YIELD (Kg per ha)",
          "WHEAT YIELD (Kg per ha)"
         ],
         "yaxis": "y",
         "z": {
          "bdata": "w/UoXIqWKEFxPQpXvQgrQfYoXI+niixBrkfheg9YLUGuR+F6z6gwQSlcj8LbjjJBzczMTD/zMkFSuB4FmX40QVyPwjV4UDZBCtej8CDNOUGkcD0KhyMBQdejcD0y4QhBCtejcFNcB0FSuB6Ff7wGQVyPwvXeEQtBFK5H4UcfFEHD9ShcoT4VQXE9CtfjvxVBMzMzMzTXFEFcj8L14+0UQXsUrseN1DNBH4XrUWdmNUEfhetRVWQ3QcP1KJzkCDxBhetROLksO0EzMzMzbao+QXsUrmeVXEFBPQrXw69iQ0GF61FYI2pGQT0K1+NliUpBuB6F63sNEEG4HoXrgTwXQWZmZmaZfiBBPQrXo/H7JkEUrkdhKs4jQR+F69HslyZB9ihcDzwTKUFSuB4FIi8pQSlcj0L9kilBpHA9ipApLUFSuB6FzL8XQRSuR2FaQiFBw/UoXHKAIUHsUbieWIwnQWZmZuZhUCxBexSuh4qeMEHXo3C9a2oxQT0K1yP0/jFB9ihcT1SqNEEAAABAHrc1QXsUrkdP/BdBPQrXo0p/HEGamZmZRfQcQaRwPQq4TSRBMzMzMwASJ0Fcj8L1xzIqQR+F61GIAipBCtejcA5rLEE9CtejePYvQaRwPcqMyjBBKVyPQgl0NEEUrkehiXw4QaRwPQry3DtBPQrX48L5PkG4HoUrNO9AQQrXo1BqekJBZmZmRumqQ0GuR+GawtZDQa5H4ZpJTkVBKVyPYkx3SEGamZmZEWUSQcP1KFyv3xJBKVyPwuklE0EAAAAAWEQTQVK4HoXgwhVB4XoUrqYXGkEAAAAAZBYbQQrXo3Djah5BexSuR++sH0HD9ShcgW4gQXE9CmezSFZBPQrXo1JJWEGkcD26PPFYQbgehcuVYFpBMzMz05UzW0FmZmbGTa1cQT0K18O9alxBzczMXKVUWkEpXI/yfQFbQQrXo7Amb11BFK5H4Vro0EDrUbgetRbQQOF6FK63L+5AAAAAAHrRCkF7FK5HQXQPQfYoXI+YpCJB4XoUrtZhJUHNzMzMJ0AoQT0K1yP1jihBuB6F63ISJUGPwvXoWTgyQcP1KBxg/DdBUrgehY2cOkHNzMzMSYM/QY/C9eii+kBBAAAA4AAxQ0EfhetRENhDQYXrUfg1F0RB4XoUjpEvRkFcj8IVkFxIQQ==",
          "dtype": "f8",
          "shape": "11, 10"
         }
        }
       ],
       "layout": {
        "coloraxis": {
         "colorbar": {
          "title": {
           "text": "YIELD (kg/ha)"
          }
         },
         "colorscale": [
          [
           0,
           "#000004"
          ],
          [
           0.1111111111111111,
           "#180f3d"
          ],
          [
           0.2222222222222222,
           "#440f76"
          ],
          [
           0.3333333333333333,
           "#721f81"
          ],
          [
           0.4444444444444444,
           "#9e2f7f"
          ],
          [
           0.5555555555555556,
           "#cd4071"
          ],
          [
           0.6666666666666666,
           "#f1605d"
          ],
          [
           0.7777777777777778,
           "#fd9668"
          ],
          [
           0.8888888888888888,
           "#feca8d"
          ],
          [
           1,
           "#fcfdbf"
          ]
         ]
        },
        "height": 500,
        "margin": {
         "t": 60
        },
        "template": {
         "data": {
          "bar": [
           {
            "error_x": {
             "color": "#2a3f5f"
            },
            "error_y": {
             "color": "#2a3f5f"
            },
            "marker": {
             "line": {
              "color": "#E5ECF6",
              "width": 0.5
             },
             "pattern": {
              "fillmode": "overlay",
              "size": 10,
              "solidity": 0.2
             }
            },
            "type": "bar"
           }
          ],
          "barpolar": [
           {
            "marker": {
             "line": {
              "color": "#E5ECF6",
              "width": 0.5
             },
             "pattern": {
              "fillmode": "overlay",
              "size": 10,
              "solidity": 0.2
             }
            },
            "type": "barpolar"
           }
          ],
          "carpet": [
           {
            "aaxis": {
             "endlinecolor": "#2a3f5f",
             "gridcolor": "white",
             "linecolor": "white",
             "minorgridcolor": "white",
             "startlinecolor": "#2a3f5f"
            },
            "baxis": {
             "endlinecolor": "#2a3f5f",
             "gridcolor": "white",
             "linecolor": "white",
             "minorgridcolor": "white",
             "startlinecolor": "#2a3f5f"
            },
            "type": "carpet"
           }
          ],
          "choropleth": [
           {
            "colorbar": {
             "outlinewidth": 0,
             "ticks": ""
            },
            "type": "choropleth"
           }
          ],
          "contour": [
           {
            "colorbar": {
             "outlinewidth": 0,
             "ticks": ""
            },
            "colorscale": [
             [
              0,
              "#0d0887"
             ],
             [
              0.1111111111111111,
              "#46039f"
             ],
             [
              0.2222222222222222,
              "#7201a8"
             ],
             [
              0.3333333333333333,
              "#9c179e"
             ],
             [
              0.4444444444444444,
              "#bd3786"
             ],
             [
              0.5555555555555556,
              "#d8576b"
             ],
             [
              0.6666666666666666,
              "#ed7953"
             ],
             [
              0.7777777777777778,
              "#fb9f3a"
             ],
             [
              0.8888888888888888,
              "#fdca26"
             ],
             [
              1,
              "#f0f921"
             ]
            ],
            "type": "contour"
           }
          ],
          "contourcarpet": [
           {
            "colorbar": {
             "outlinewidth": 0,
             "ticks": ""
            },
            "type": "contourcarpet"
           }
          ],
          "heatmap": [
           {
            "colorbar": {
             "outlinewidth": 0,
             "ticks": ""
            },
            "colorscale": [
             [
              0,
              "#0d0887"
             ],
             [
              0.1111111111111111,
              "#46039f"
             ],
             [
              0.2222222222222222,
              "#7201a8"
             ],
             [
              0.3333333333333333,
              "#9c179e"
             ],
             [
              0.4444444444444444,
              "#bd3786"
             ],
             [
              0.5555555555555556,
              "#d8576b"
             ],
             [
              0.6666666666666666,
              "#ed7953"
             ],
             [
              0.7777777777777778,
              "#fb9f3a"
             ],
             [
              0.8888888888888888,
              "#fdca26"
             ],
             [
              1,
              "#f0f921"
             ]
            ],
            "type": "heatmap"
           }
          ],
          "histogram": [
           {
            "marker": {
             "pattern": {
              "fillmode": "overlay",
              "size": 10,
              "solidity": 0.2
             }
            },
            "type": "histogram"
           }
          ],
          "histogram2d": [
           {
            "colorbar": {
             "outlinewidth": 0,
             "ticks": ""
            },
            "colorscale": [
             [
              0,
              "#0d0887"
             ],
             [
              0.1111111111111111,
              "#46039f"
             ],
             [
              0.2222222222222222,
              "#7201a8"
             ],
             [
              0.3333333333333333,
              "#9c179e"
             ],
             [
              0.4444444444444444,
              "#bd3786"
             ],
             [
              0.5555555555555556,
              "#d8576b"
             ],
             [
              0.6666666666666666,
              "#ed7953"
             ],
             [
              0.7777777777777778,
              "#fb9f3a"
             ],
             [
              0.8888888888888888,
              "#fdca26"
             ],
             [
              1,
              "#f0f921"
             ]
            ],
            "type": "histogram2d"
           }
          ],
          "histogram2dcontour": [
           {
            "colorbar": {
             "outlinewidth": 0,
             "ticks": ""
            },
            "colorscale": [
             [
              0,
              "#0d0887"
             ],
             [
              0.1111111111111111,
              "#46039f"
             ],
             [
              0.2222222222222222,
              "#7201a8"
             ],
             [
              0.3333333333333333,
              "#9c179e"
             ],
             [
              0.4444444444444444,
              "#bd3786"
             ],
             [
              0.5555555555555556,
              "#d8576b"
             ],
             [
              0.6666666666666666,
              "#ed7953"
             ],
             [
              0.7777777777777778,
              "#fb9f3a"
             ],
             [
              0.8888888888888888,
              "#fdca26"
             ],
             [
              1,
              "#f0f921"
             ]
            ],
            "type": "histogram2dcontour"
           }
          ],
          "mesh3d": [
           {
            "colorbar": {
             "outlinewidth": 0,
             "ticks": ""
            },
            "type": "mesh3d"
           }
          ],
          "parcoords": [
           {
            "line": {
             "colorbar": {
              "outlinewidth": 0,
              "ticks": ""
             }
            },
            "type": "parcoords"
           }
          ],
          "pie": [
           {
            "automargin": true,
            "type": "pie"
           }
          ],
          "scatter": [
           {
            "fillpattern": {
             "fillmode": "overlay",
             "size": 10,
             "solidity": 0.2
            },
            "type": "scatter"
           }
          ],
          "scatter3d": [
           {
            "line": {
             "colorbar": {
              "outlinewidth": 0,
              "ticks": ""
             }
            },
            "marker": {
             "colorbar": {
              "outlinewidth": 0,
              "ticks": ""
             }
            },
            "type": "scatter3d"
           }
          ],
          "scattercarpet": [
           {
            "marker": {
             "colorbar": {
              "outlinewidth": 0,
              "ticks": ""
             }
            },
            "type": "scattercarpet"
           }
          ],
          "scattergeo": [
           {
            "marker": {
             "colorbar": {
              "outlinewidth": 0,
              "ticks": ""
             }
            },
            "type": "scattergeo"
           }
          ],
          "scattergl": [
           {
            "marker": {
             "colorbar": {
              "outlinewidth": 0,
              "ticks": ""
             }
            },
            "type": "scattergl"
           }
          ],
          "scattermap": [
           {
            "marker": {
             "colorbar": {
              "outlinewidth": 0,
              "ticks": ""
             }
            },
            "type": "scattermap"
           }
          ],
          "scattermapbox": [
           {
            "marker": {
             "colorbar": {
              "outlinewidth": 0,
              "ticks": ""
             }
            },
            "type": "scattermapbox"
           }
          ],
          "scatterpolar": [
           {
            "marker": {
             "colorbar": {
              "outlinewidth": 0,
              "ticks": ""
             }
            },
            "type": "scatterpolar"
           }
          ],
          "scatterpolargl": [
           {
            "marker": {
             "colorbar": {
              "outlinewidth": 0,
              "ticks": ""
             }
            },
            "type": "scatterpolargl"
           }
          ],
          "scatterternary": [
           {
            "marker": {
             "colorbar": {
              "outlinewidth": 0,
              "ticks": ""
             }
            },
            "type": "scatterternary"
           }
          ],
          "surface": [
           {
            "colorbar": {
             "outlinewidth": 0,
             "ticks": ""
            },
            "colorscale": [
             [
              0,
              "#0d0887"
             ],
             [
              0.1111111111111111,
              "#46039f"
             ],
             [
              0.2222222222222222,
              "#7201a8"
             ],
             [
              0.3333333333333333,
              "#9c179e"
             ],
             [
              0.4444444444444444,
              "#bd3786"
             ],
             [
              0.5555555555555556,
              "#d8576b"
             ],
             [
              0.6666666666666666,
              "#ed7953"
             ],
             [
              0.7777777777777778,
              "#fb9f3a"
             ],
             [
              0.8888888888888888,
              "#fdca26"
             ],
             [
              1,
              "#f0f921"
             ]
            ],
            "type": "surface"
           }
          ],
          "table": [
           {
            "cells": {
             "fill": {
              "color": "#EBF0F8"
             },
             "line": {
              "color": "white"
             }
            },
            "header": {
             "fill": {
              "color": "#C8D4E3"
             },
             "line": {
              "color": "white"
             }
            },
            "type": "table"
           }
          ]
         },
         "layout": {
          "annotationdefaults": {
           "arrowcolor": "#2a3f5f",
           "arrowhead": 0,
           "arrowwidth": 1
          },
          "autotypenumbers": "strict",
          "coloraxis": {
           "colorbar": {
            "outlinewidth": 0,
            "ticks": ""
           }
          },
          "colorscale": {
           "diverging": [
            [
             0,
             "#8e0152"
            ],
            [
             0.1,
             "#c51b7d"
            ],
            [
             0.2,
             "#de77ae"
            ],
            [
             0.3,
             "#f1b6da"
            ],
            [
             0.4,
             "#fde0ef"
            ],
            [
             0.5,
             "#f7f7f7"
            ],
            [
             0.6,
             "#e6f5d0"
            ],
            [
             0.7,
             "#b8e186"
            ],
            [
             0.8,
             "#7fbc41"
            ],
            [
             0.9,
             "#4d9221"
            ],
            [
             1,
             "#276419"
            ]
           ],
           "sequential": [
            [
             0,
             "#0d0887"
            ],
            [
             0.1111111111111111,
             "#46039f"
            ],
            [
             0.2222222222222222,
             "#7201a8"
            ],
            [
             0.3333333333333333,
             "#9c179e"
            ],
            [
             0.4444444444444444,
             "#bd3786"
            ],
            [
             0.5555555555555556,
             "#d8576b"
            ],
            [
             0.6666666666666666,
             "#ed7953"
            ],
            [
             0.7777777777777778,
             "#fb9f3a"
            ],
            [
             0.8888888888888888,
             "#fdca26"
            ],
            [
             1,
             "#f0f921"
            ]
           ],
           "sequentialminus": [
            [
             0,
             "#0d0887"
            ],
            [
             0.1111111111111111,
             "#46039f"
            ],
            [
             0.2222222222222222,
             "#7201a8"
            ],
            [
             0.3333333333333333,
             "#9c179e"
            ],
            [
             0.4444444444444444,
             "#bd3786"
            ],
            [
             0.5555555555555556,
             "#d8576b"
            ],
            [
             0.6666666666666666,
             "#ed7953"
            ],
            [
             0.7777777777777778,
             "#fb9f3a"
            ],
            [
             0.8888888888888888,
             "#fdca26"
            ],
            [
             1,
             "#f0f921"
            ]
           ]
          },
          "colorway": [
           "#636efa",
           "#EF553B",
           "#00cc96",
           "#ab63fa",
           "#FFA15A",
           "#19d3f3",
           "#FF6692",
           "#B6E880",
           "#FF97FF",
           "#FECB52"
          ],
          "font": {
           "color": "#2a3f5f"
          },
          "geo": {
           "bgcolor": "white",
           "lakecolor": "white",
           "landcolor": "#E5ECF6",
           "showlakes": true,
           "showland": true,
           "subunitcolor": "white"
          },
          "hoverlabel": {
           "align": "left"
          },
          "hovermode": "closest",
          "mapbox": {
           "style": "light"
          },
          "paper_bgcolor": "white",
          "plot_bgcolor": "#E5ECF6",
          "polar": {
           "angularaxis": {
            "gridcolor": "white",
            "linecolor": "white",
            "ticks": ""
           },
           "bgcolor": "#E5ECF6",
           "radialaxis": {
            "gridcolor": "white",
            "linecolor": "white",
            "ticks": ""
           }
          },
          "scene": {
           "xaxis": {
            "backgroundcolor": "#E5ECF6",
            "gridcolor": "white",
            "gridwidth": 2,
            "linecolor": "white",
            "showbackground": true,
            "ticks": "",
            "zerolinecolor": "white"
           },
           "yaxis": {
            "backgroundcolor": "#E5ECF6",
            "gridcolor": "white",
            "gridwidth": 2,
            "linecolor": "white",
            "showbackground": true,
            "ticks": "",
            "zerolinecolor": "white"
           },
           "zaxis": {
            "backgroundcolor": "#E5ECF6",
            "gridcolor": "white",
            "gridwidth": 2,
            "linecolor": "white",
            "showbackground": true,
            "ticks": "",
            "zerolinecolor": "white"
           }
          },
          "shapedefaults": {
           "line": {
            "color": "#2a3f5f"
           }
          },
          "ternary": {
           "aaxis": {
            "gridcolor": "white",
            "linecolor": "white",
            "ticks": ""
           },
           "baxis": {
            "gridcolor": "white",
            "linecolor": "white",
            "ticks": ""
           },
           "bgcolor": "#E5ECF6",
           "caxis": {
            "gridcolor": "white",
            "linecolor": "white",
            "ticks": ""
           }
          },
          "title": {
           "x": 0.05
          },
          "xaxis": {
           "automargin": true,
           "gridcolor": "white",
           "linecolor": "white",
           "ticks": "",
           "title": {
            "standoff": 15
           },
           "zerolinecolor": "white",
           "zerolinewidth": 2
          },
          "yaxis": {
           "automargin": true,
           "gridcolor": "white",
           "linecolor": "white",
           "ticks": "",
           "title": {
            "standoff": 15
           },
           "zerolinecolor": "white",
           "zerolinewidth": 2
          }
         }
        },
        "title": {
         "text": "Crop Yield (kg/ha) per Year Heatmap"
        },
        "xaxis": {
         "anchor": "y",
         "domain": [
          0,
          1
         ],
         "nticks": 20,
         "title": {
          "text": "Year"
         }
        },
        "yaxis": {
         "anchor": "x",
         "autorange": "reversed",
         "domain": [
          0,
          1
         ],
         "title": {
          "text": "Crop"
         }
        }
       }
      }
     },
     "metadata": {},
     "output_type": "display_data"
    }
   ],
   "source": [
    "\n",
    "production_cols = [col for col in data.columns if 'YIELD' in col]\n",
    "production_data = data[['year_to_decade'] + production_cols]\n",
    "\n",
    "grouped_data = production_data.groupby('year_to_decade',observed=True, as_index=False).sum()\n",
    "\n",
    "heatmap_data = grouped_data.melt(id_vars='year_to_decade', \n",
    "                                 var_name='Crop', \n",
    "                                 value_name='YIELD (kg/ha)')\n",
    "\n",
    "heatmap_matrix = heatmap_data.pivot(index='Crop', columns='year_to_decade', values='YIELD (kg/ha)')\n",
    "\n",
    "fig = px.imshow(\n",
    "    heatmap_matrix,\n",
    "    labels=dict(x=\"Year\", y=\"Crop\", color=\"YIELD (kg/ha)\"),\n",
    "    color_continuous_scale='Magma',\n",
    "    aspect=\"auto\"\n",
    ")\n",
    "\n",
    "fig.update_layout(\n",
    "    title='Crop Yield (kg/ha) per Year Heatmap',\n",
    "    height=500,\n",
    "    xaxis_nticks=20\n",
    ")\n",
    "\n",
    "fig.show()"
   ]
  },
  {
   "cell_type": "code",
   "execution_count": null,
   "id": "fb774ed4",
   "metadata": {},
   "outputs": [
    {
     "data": {
      "application/vnd.plotly.v1+json": {
       "config": {
        "plotlyServerURL": "https://plot.ly"
       },
       "data": [
        {
         "coloraxis": "coloraxis",
         "hovertemplate": "State Name: %{x}<br>Crop: %{y}<br>YIELD (kg/ha): %{z}<extra></extra>",
         "name": "0",
         "type": "heatmap",
         "x": [
          "Andhra Pradesh",
          "Assam",
          "Bihar",
          "Chhattisgarh",
          "Gujarat",
          "Haryana",
          "Himachal Pradesh",
          "Jharkhand",
          "Karnataka",
          "Kerala",
          "Madhya Pradesh",
          "Maharashtra",
          "Orissa",
          "Punjab",
          "Rajasthan",
          "Tamil Nadu",
          "Telangana",
          "Uttar Pradesh",
          "Uttarakhand",
          "West Bengal"
         ],
         "xaxis": "x",
         "y": [
          "GROUNDNUT YIELD (Kg per ha)",
          "LINSEED YIELD (Kg per ha)",
          "MAIZE YIELD (Kg per ha)",
          "MINOR PULSES YIELD (Kg per ha)",
          "OILSEEDS YIELD (Kg per ha)",
          "RAPESEED AND MUSTARD YIELD (Kg per ha)",
          "RICE YIELD (Kg per ha)",
          "SESAMUM YIELD (Kg per ha)",
          "SUGARCANE YIELD (Kg per ha)",
          "SUNFLOWER YIELD (Kg per ha)",
          "WHEAT YIELD (Kg per ha)"
         ],
         "yaxis": "y",
         "z": {
          "bdata": "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",
          "dtype": "f8",
          "shape": "11, 20"
         }
        }
       ],
       "layout": {
        "coloraxis": {
         "colorbar": {
          "title": {
           "text": "YIELD (kg/ha)"
          }
         },
         "colorscale": [
          [
           0,
           "#30123b"
          ],
          [
           0.07142857142857142,
           "#4145ab"
          ],
          [
           0.14285714285714285,
           "#4675ed"
          ],
          [
           0.21428571428571427,
           "#39a2fc"
          ],
          [
           0.2857142857142857,
           "#1bcfd4"
          ],
          [
           0.35714285714285715,
           "#24eca6"
          ],
          [
           0.42857142857142855,
           "#61fc6c"
          ],
          [
           0.5,
           "#a4fc3b"
          ],
          [
           0.5714285714285714,
           "#d1e834"
          ],
          [
           0.6428571428571429,
           "#f3c63a"
          ],
          [
           0.7142857142857143,
           "#fe9b2d"
          ],
          [
           0.7857142857142857,
           "#f36315"
          ],
          [
           0.8571428571428571,
           "#d93806"
          ],
          [
           0.9285714285714286,
           "#b11901"
          ],
          [
           1,
           "#7a0402"
          ]
         ]
        },
        "height": 500,
        "margin": {
         "t": 60
        },
        "template": {
         "data": {
          "bar": [
           {
            "error_x": {
             "color": "#2a3f5f"
            },
            "error_y": {
             "color": "#2a3f5f"
            },
            "marker": {
             "line": {
              "color": "#E5ECF6",
              "width": 0.5
             },
             "pattern": {
              "fillmode": "overlay",
              "size": 10,
              "solidity": 0.2
             }
            },
            "type": "bar"
           }
          ],
          "barpolar": [
           {
            "marker": {
             "line": {
              "color": "#E5ECF6",
              "width": 0.5
             },
             "pattern": {
              "fillmode": "overlay",
              "size": 10,
              "solidity": 0.2
             }
            },
            "type": "barpolar"
           }
          ],
          "carpet": [
           {
            "aaxis": {
             "endlinecolor": "#2a3f5f",
             "gridcolor": "white",
             "linecolor": "white",
             "minorgridcolor": "white",
             "startlinecolor": "#2a3f5f"
            },
            "baxis": {
             "endlinecolor": "#2a3f5f",
             "gridcolor": "white",
             "linecolor": "white",
             "minorgridcolor": "white",
             "startlinecolor": "#2a3f5f"
            },
            "type": "carpet"
           }
          ],
          "choropleth": [
           {
            "colorbar": {
             "outlinewidth": 0,
             "ticks": ""
            },
            "type": "choropleth"
           }
          ],
          "contour": [
           {
            "colorbar": {
             "outlinewidth": 0,
             "ticks": ""
            },
            "colorscale": [
             [
              0,
              "#0d0887"
             ],
             [
              0.1111111111111111,
              "#46039f"
             ],
             [
              0.2222222222222222,
              "#7201a8"
             ],
             [
              0.3333333333333333,
              "#9c179e"
             ],
             [
              0.4444444444444444,
              "#bd3786"
             ],
             [
              0.5555555555555556,
              "#d8576b"
             ],
             [
              0.6666666666666666,
              "#ed7953"
             ],
             [
              0.7777777777777778,
              "#fb9f3a"
             ],
             [
              0.8888888888888888,
              "#fdca26"
             ],
             [
              1,
              "#f0f921"
             ]
            ],
            "type": "contour"
           }
          ],
          "contourcarpet": [
           {
            "colorbar": {
             "outlinewidth": 0,
             "ticks": ""
            },
            "type": "contourcarpet"
           }
          ],
          "heatmap": [
           {
            "colorbar": {
             "outlinewidth": 0,
             "ticks": ""
            },
            "colorscale": [
             [
              0,
              "#0d0887"
             ],
             [
              0.1111111111111111,
              "#46039f"
             ],
             [
              0.2222222222222222,
              "#7201a8"
             ],
             [
              0.3333333333333333,
              "#9c179e"
             ],
             [
              0.4444444444444444,
              "#bd3786"
             ],
             [
              0.5555555555555556,
              "#d8576b"
             ],
             [
              0.6666666666666666,
              "#ed7953"
             ],
             [
              0.7777777777777778,
              "#fb9f3a"
             ],
             [
              0.8888888888888888,
              "#fdca26"
             ],
             [
              1,
              "#f0f921"
             ]
            ],
            "type": "heatmap"
           }
          ],
          "histogram": [
           {
            "marker": {
             "pattern": {
              "fillmode": "overlay",
              "size": 10,
              "solidity": 0.2
             }
            },
            "type": "histogram"
           }
          ],
          "histogram2d": [
           {
            "colorbar": {
             "outlinewidth": 0,
             "ticks": ""
            },
            "colorscale": [
             [
              0,
              "#0d0887"
             ],
             [
              0.1111111111111111,
              "#46039f"
             ],
             [
              0.2222222222222222,
              "#7201a8"
             ],
             [
              0.3333333333333333,
              "#9c179e"
             ],
             [
              0.4444444444444444,
              "#bd3786"
             ],
             [
              0.5555555555555556,
              "#d8576b"
             ],
             [
              0.6666666666666666,
              "#ed7953"
             ],
             [
              0.7777777777777778,
              "#fb9f3a"
             ],
             [
              0.8888888888888888,
              "#fdca26"
             ],
             [
              1,
              "#f0f921"
             ]
            ],
            "type": "histogram2d"
           }
          ],
          "histogram2dcontour": [
           {
            "colorbar": {
             "outlinewidth": 0,
             "ticks": ""
            },
            "colorscale": [
             [
              0,
              "#0d0887"
             ],
             [
              0.1111111111111111,
              "#46039f"
             ],
             [
              0.2222222222222222,
              "#7201a8"
             ],
             [
              0.3333333333333333,
              "#9c179e"
             ],
             [
              0.4444444444444444,
              "#bd3786"
             ],
             [
              0.5555555555555556,
              "#d8576b"
             ],
             [
              0.6666666666666666,
              "#ed7953"
             ],
             [
              0.7777777777777778,
              "#fb9f3a"
             ],
             [
              0.8888888888888888,
              "#fdca26"
             ],
             [
              1,
              "#f0f921"
             ]
            ],
            "type": "histogram2dcontour"
           }
          ],
          "mesh3d": [
           {
            "colorbar": {
             "outlinewidth": 0,
             "ticks": ""
            },
            "type": "mesh3d"
           }
          ],
          "parcoords": [
           {
            "line": {
             "colorbar": {
              "outlinewidth": 0,
              "ticks": ""
             }
            },
            "type": "parcoords"
           }
          ],
          "pie": [
           {
            "automargin": true,
            "type": "pie"
           }
          ],
          "scatter": [
           {
            "fillpattern": {
             "fillmode": "overlay",
             "size": 10,
             "solidity": 0.2
            },
            "type": "scatter"
           }
          ],
          "scatter3d": [
           {
            "line": {
             "colorbar": {
              "outlinewidth": 0,
              "ticks": ""
             }
            },
            "marker": {
             "colorbar": {
              "outlinewidth": 0,
              "ticks": ""
             }
            },
            "type": "scatter3d"
           }
          ],
          "scattercarpet": [
           {
            "marker": {
             "colorbar": {
              "outlinewidth": 0,
              "ticks": ""
             }
            },
            "type": "scattercarpet"
           }
          ],
          "scattergeo": [
           {
            "marker": {
             "colorbar": {
              "outlinewidth": 0,
              "ticks": ""
             }
            },
            "type": "scattergeo"
           }
          ],
          "scattergl": [
           {
            "marker": {
             "colorbar": {
              "outlinewidth": 0,
              "ticks": ""
             }
            },
            "type": "scattergl"
           }
          ],
          "scattermap": [
           {
            "marker": {
             "colorbar": {
              "outlinewidth": 0,
              "ticks": ""
             }
            },
            "type": "scattermap"
           }
          ],
          "scattermapbox": [
           {
            "marker": {
             "colorbar": {
              "outlinewidth": 0,
              "ticks": ""
             }
            },
            "type": "scattermapbox"
           }
          ],
          "scatterpolar": [
           {
            "marker": {
             "colorbar": {
              "outlinewidth": 0,
              "ticks": ""
             }
            },
            "type": "scatterpolar"
           }
          ],
          "scatterpolargl": [
           {
            "marker": {
             "colorbar": {
              "outlinewidth": 0,
              "ticks": ""
             }
            },
            "type": "scatterpolargl"
           }
          ],
          "scatterternary": [
           {
            "marker": {
             "colorbar": {
              "outlinewidth": 0,
              "ticks": ""
             }
            },
            "type": "scatterternary"
           }
          ],
          "surface": [
           {
            "colorbar": {
             "outlinewidth": 0,
             "ticks": ""
            },
            "colorscale": [
             [
              0,
              "#0d0887"
             ],
             [
              0.1111111111111111,
              "#46039f"
             ],
             [
              0.2222222222222222,
              "#7201a8"
             ],
             [
              0.3333333333333333,
              "#9c179e"
             ],
             [
              0.4444444444444444,
              "#bd3786"
             ],
             [
              0.5555555555555556,
              "#d8576b"
             ],
             [
              0.6666666666666666,
              "#ed7953"
             ],
             [
              0.7777777777777778,
              "#fb9f3a"
             ],
             [
              0.8888888888888888,
              "#fdca26"
             ],
             [
              1,
              "#f0f921"
             ]
            ],
            "type": "surface"
           }
          ],
          "table": [
           {
            "cells": {
             "fill": {
              "color": "#EBF0F8"
             },
             "line": {
              "color": "white"
             }
            },
            "header": {
             "fill": {
              "color": "#C8D4E3"
             },
             "line": {
              "color": "white"
             }
            },
            "type": "table"
           }
          ]
         },
         "layout": {
          "annotationdefaults": {
           "arrowcolor": "#2a3f5f",
           "arrowhead": 0,
           "arrowwidth": 1
          },
          "autotypenumbers": "strict",
          "coloraxis": {
           "colorbar": {
            "outlinewidth": 0,
            "ticks": ""
           }
          },
          "colorscale": {
           "diverging": [
            [
             0,
             "#8e0152"
            ],
            [
             0.1,
             "#c51b7d"
            ],
            [
             0.2,
             "#de77ae"
            ],
            [
             0.3,
             "#f1b6da"
            ],
            [
             0.4,
             "#fde0ef"
            ],
            [
             0.5,
             "#f7f7f7"
            ],
            [
             0.6,
             "#e6f5d0"
            ],
            [
             0.7,
             "#b8e186"
            ],
            [
             0.8,
             "#7fbc41"
            ],
            [
             0.9,
             "#4d9221"
            ],
            [
             1,
             "#276419"
            ]
           ],
           "sequential": [
            [
             0,
             "#0d0887"
            ],
            [
             0.1111111111111111,
             "#46039f"
            ],
            [
             0.2222222222222222,
             "#7201a8"
            ],
            [
             0.3333333333333333,
             "#9c179e"
            ],
            [
             0.4444444444444444,
             "#bd3786"
            ],
            [
             0.5555555555555556,
             "#d8576b"
            ],
            [
             0.6666666666666666,
             "#ed7953"
            ],
            [
             0.7777777777777778,
             "#fb9f3a"
            ],
            [
             0.8888888888888888,
             "#fdca26"
            ],
            [
             1,
             "#f0f921"
            ]
           ],
           "sequentialminus": [
            [
             0,
             "#0d0887"
            ],
            [
             0.1111111111111111,
             "#46039f"
            ],
            [
             0.2222222222222222,
             "#7201a8"
            ],
            [
             0.3333333333333333,
             "#9c179e"
            ],
            [
             0.4444444444444444,
             "#bd3786"
            ],
            [
             0.5555555555555556,
             "#d8576b"
            ],
            [
             0.6666666666666666,
             "#ed7953"
            ],
            [
             0.7777777777777778,
             "#fb9f3a"
            ],
            [
             0.8888888888888888,
             "#fdca26"
            ],
            [
             1,
             "#f0f921"
            ]
           ]
          },
          "colorway": [
           "#636efa",
           "#EF553B",
           "#00cc96",
           "#ab63fa",
           "#FFA15A",
           "#19d3f3",
           "#FF6692",
           "#B6E880",
           "#FF97FF",
           "#FECB52"
          ],
          "font": {
           "color": "#2a3f5f"
          },
          "geo": {
           "bgcolor": "white",
           "lakecolor": "white",
           "landcolor": "#E5ECF6",
           "showlakes": true,
           "showland": true,
           "subunitcolor": "white"
          },
          "hoverlabel": {
           "align": "left"
          },
          "hovermode": "closest",
          "mapbox": {
           "style": "light"
          },
          "paper_bgcolor": "white",
          "plot_bgcolor": "#E5ECF6",
          "polar": {
           "angularaxis": {
            "gridcolor": "white",
            "linecolor": "white",
            "ticks": ""
           },
           "bgcolor": "#E5ECF6",
           "radialaxis": {
            "gridcolor": "white",
            "linecolor": "white",
            "ticks": ""
           }
          },
          "scene": {
           "xaxis": {
            "backgroundcolor": "#E5ECF6",
            "gridcolor": "white",
            "gridwidth": 2,
            "linecolor": "white",
            "showbackground": true,
            "ticks": "",
            "zerolinecolor": "white"
           },
           "yaxis": {
            "backgroundcolor": "#E5ECF6",
            "gridcolor": "white",
            "gridwidth": 2,
            "linecolor": "white",
            "showbackground": true,
            "ticks": "",
            "zerolinecolor": "white"
           },
           "zaxis": {
            "backgroundcolor": "#E5ECF6",
            "gridcolor": "white",
            "gridwidth": 2,
            "linecolor": "white",
            "showbackground": true,
            "ticks": "",
            "zerolinecolor": "white"
           }
          },
          "shapedefaults": {
           "line": {
            "color": "#2a3f5f"
           }
          },
          "ternary": {
           "aaxis": {
            "gridcolor": "white",
            "linecolor": "white",
            "ticks": ""
           },
           "baxis": {
            "gridcolor": "white",
            "linecolor": "white",
            "ticks": ""
           },
           "bgcolor": "#E5ECF6",
           "caxis": {
            "gridcolor": "white",
            "linecolor": "white",
            "ticks": ""
           }
          },
          "title": {
           "x": 0.05
          },
          "xaxis": {
           "automargin": true,
           "gridcolor": "white",
           "linecolor": "white",
           "ticks": "",
           "title": {
            "standoff": 15
           },
           "zerolinecolor": "white",
           "zerolinewidth": 2
          },
          "yaxis": {
           "automargin": true,
           "gridcolor": "white",
           "linecolor": "white",
           "ticks": "",
           "title": {
            "standoff": 15
           },
           "zerolinecolor": "white",
           "zerolinewidth": 2
          }
         }
        },
        "title": {
         "text": "Crop Yield (kg/ha) per State (last 5 years)"
        },
        "xaxis": {
         "anchor": "y",
         "domain": [
          0,
          1
         ],
         "nticks": 20,
         "title": {
          "text": "State Name"
         }
        },
        "yaxis": {
         "anchor": "x",
         "autorange": "reversed",
         "domain": [
          0,
          1
         ],
         "title": {
          "text": "Crop"
         }
        }
       }
      }
     },
     "metadata": {},
     "output_type": "display_data"
    }
   ],
   "source": [
    "last_5_year = data[data['year_to_decade'] == '2011-2015']  ######### for last 5 year\n",
    "\n",
    "\n",
    "production_cols = [col for col in last_5_year.columns if 'YIELD' in col]\n",
    "production_data = last_5_year[['State Name'] + production_cols]\n",
    "\n",
    "grouped_data = production_data.groupby('State Name',observed=True, as_index=False).sum()\n",
    "\n",
    "heatmap_data = grouped_data.melt(id_vars='State Name', \n",
    "                                 var_name='Crop', \n",
    "                                 value_name='YIELD (kg/ha)')\n",
    "\n",
    "heatmap_matrix = heatmap_data.pivot(index='Crop', columns='State Name', values='YIELD (kg/ha)')\n",
    "\n",
    "fig = px.imshow(\n",
    "    heatmap_matrix,\n",
    "    labels=dict(x=\"State Name\", y=\"Crop\", color=\"YIELD (kg/ha)\"),\n",
    "    color_continuous_scale='Turbo',\n",
    "    aspect=\"auto\"\n",
    ")\n",
    "\n",
    "fig.update_layout(\n",
    "    title='Crop Yield (kg/ha) per State (last 5 years)',\n",
    "    height=500,\n",
    "    xaxis_nticks=20\n",
    ")\n",
    "\n",
    "fig.show()"
   ]
  },
  {
   "cell_type": "code",
   "execution_count": null,
   "id": "2fefde48",
   "metadata": {},
   "outputs": [],
   "source": []
  },
  {
   "cell_type": "code",
   "execution_count": null,
   "id": "cc696492",
   "metadata": {},
   "outputs": [],
   "source": []
  },
  {
   "cell_type": "markdown",
   "id": "008419d4",
   "metadata": {},
   "source": [
    "<div style=\"text-align: center;background-color:#f0e9d5; padding:10px; border-left: 5px solid #4CAF50; font-family: Trebuchet MS; font-size: 20px; color: #333;\">\n",
    "  Gujarat\n",
    "</div>\n"
   ]
  },
  {
   "cell_type": "code",
   "execution_count": 37,
   "id": "3e4cf91a",
   "metadata": {},
   "outputs": [
    {
     "name": "stdout",
     "output_type": "stream",
     "text": [
      "        Dist Code         Year  State Code  RICE AREA (1000 ha)  \\\n",
      "count  936.000000   936.000000       936.0           936.000000   \n",
      "mean   129.500000  1991.500000         3.0            34.207105   \n",
      "std      5.190901    15.016355         0.0            47.458155   \n",
      "min    121.000000  1966.000000         3.0             0.000000   \n",
      "25%    125.000000  1978.750000         3.0             0.200000   \n",
      "50%    129.500000  1991.500000         3.0             8.250000   \n",
      "75%    134.000000  2004.250000         3.0            56.425000   \n",
      "max    138.000000  2017.000000         3.0           235.190000   \n",
      "\n",
      "       RICE PRODUCTION (1000 tons)  RICE YIELD (Kg per ha)  \\\n",
      "count                   936.000000              936.000000   \n",
      "mean                     52.044177             1057.362682   \n",
      "std                      94.277225              787.026476   \n",
      "min                       0.000000                0.000000   \n",
      "25%                       0.300000              385.625000   \n",
      "50%                       7.500000             1000.000000   \n",
      "75%                      57.325000             1633.350000   \n",
      "max                     610.280000             3448.970000   \n",
      "\n",
      "       WHEAT AREA (1000 ha)  WHEAT PRODUCTION (1000 tons)  \\\n",
      "count            936.000000                    936.000000   \n",
      "mean              39.163878                     91.386357   \n",
      "std               40.423662                    117.986826   \n",
      "min                0.000000                      0.000000   \n",
      "25%               11.500000                     19.000000   \n",
      "50%               25.015000                     51.050000   \n",
      "75%               50.825000                    114.705000   \n",
      "max              251.580000                   1021.100000   \n",
      "\n",
      "       WHEAT YIELD (Kg per ha)  MAIZE AREA (1000 ha)  ...  \\\n",
      "count               936.000000            936.000000  ...   \n",
      "mean               2127.523782             20.569744  ...   \n",
      "std                 810.715282             49.465945  ...   \n",
      "min                   0.000000              0.000000  ...   \n",
      "25%                1571.055000              0.200000  ...   \n",
      "50%                2128.640000              1.000000  ...   \n",
      "75%                2685.892500             10.425000  ...   \n",
      "max                4328.910000            295.000000  ...   \n",
      "\n",
      "       LINSEED YIELD (Kg per ha)  SUNFLOWER AREA (1000 ha)  \\\n",
      "count                      936.0                936.000000   \n",
      "mean                         0.0                  0.011645   \n",
      "std                          0.0                  0.157599   \n",
      "min                          0.0                  0.000000   \n",
      "25%                          0.0                  0.000000   \n",
      "50%                          0.0                  0.000000   \n",
      "75%                          0.0                  0.000000   \n",
      "max                          0.0                  4.300000   \n",
      "\n",
      "       SUNFLOWER PRODUCTION (1000 tons)  SUNFLOWER YIELD (Kg per ha)  \\\n",
      "count                        936.000000                   936.000000   \n",
      "mean                           0.007692                    22.518194   \n",
      "std                            0.093217                   139.858171   \n",
      "min                            0.000000                     0.000000   \n",
      "25%                            0.000000                     0.000000   \n",
      "50%                            0.000000                     0.000000   \n",
      "75%                            0.000000                     0.000000   \n",
      "max                            2.500000                  1000.000000   \n",
      "\n",
      "       OILSEEDS AREA (1000 ha)  OILSEEDS PRODUCTION (1000 tons)  \\\n",
      "count               936.000000                       936.000000   \n",
      "mean                139.663152                       134.854712   \n",
      "std                 151.065772                       205.698118   \n",
      "min                  -1.000000                        -1.000000   \n",
      "25%                  19.990000                         8.250000   \n",
      "50%                  65.170000                        40.100000   \n",
      "75%                 241.160000                       201.600000   \n",
      "max                 584.000000                      1712.920000   \n",
      "\n",
      "       OILSEEDS YIELD (Kg per ha)  SUGARCANE AREA (1000 ha)  \\\n",
      "count                  936.000000                936.000000   \n",
      "mean                   870.961688                  7.895064   \n",
      "std                    590.331111                 22.767239   \n",
      "min                     -1.000000                  0.000000   \n",
      "25%                    453.640000                  0.100000   \n",
      "50%                    854.410000                  0.500000   \n",
      "75%                   1289.622500                  4.455000   \n",
      "max                   3395.620000                156.100000   \n",
      "\n",
      "       SUGARCANE PRODUCTION (1000 tons)  SUGARCANE YIELD (Kg per ha)  \n",
      "count                        936.000000                   936.000000  \n",
      "mean                          55.206090                  5196.176880  \n",
      "std                          167.913119                  2958.620972  \n",
      "min                            0.000000                     0.000000  \n",
      "25%                            0.600000                  3500.000000  \n",
      "50%                            3.150000                  6090.890000  \n",
      "75%                           26.585000                  7100.417500  \n",
      "max                         1298.000000                 19000.000000  \n",
      "\n",
      "[8 rows x 36 columns]\n"
     ]
    }
   ],
   "source": [
    "gujarat = data[data['State Name'] == 'Gujarat' ]\n",
    "print(gujarat.describe())"
   ]
  },
  {
   "cell_type": "code",
   "execution_count": 246,
   "id": "3c4cac7a",
   "metadata": {},
   "outputs": [
    {
     "data": {
      "text/plain": [
       "array(['Ahmedabad', 'Amreli', 'Banaskantha', 'Bharuch',\n",
       "       'Vadodara / Baroda', 'Bhavnagar', 'Valsad', 'Dangs', 'Jamnagar',\n",
       "       'Junagadh', 'Kheda', 'Kutch', 'Mehsana', 'Panchmahal', 'Rajkot',\n",
       "       'Sabarkantha', 'Surat', 'Surendranagar'], dtype=object)"
      ]
     },
     "execution_count": 246,
     "metadata": {},
     "output_type": "execute_result"
    }
   ],
   "source": [
    "gujarat['Dist Name'].unique()"
   ]
  },
  {
   "cell_type": "code",
   "execution_count": 39,
   "id": "1e31b215",
   "metadata": {},
   "outputs": [
    {
     "data": {
      "text/html": [
       "<div>\n",
       "<style scoped>\n",
       "    .dataframe tbody tr th:only-of-type {\n",
       "        vertical-align: middle;\n",
       "    }\n",
       "\n",
       "    .dataframe tbody tr th {\n",
       "        vertical-align: top;\n",
       "    }\n",
       "\n",
       "    .dataframe thead th {\n",
       "        text-align: right;\n",
       "    }\n",
       "</style>\n",
       "<table border=\"1\" class=\"dataframe\">\n",
       "  <thead>\n",
       "    <tr style=\"text-align: right;\">\n",
       "      <th></th>\n",
       "      <th>Dist Code</th>\n",
       "      <th>Year</th>\n",
       "      <th>State Code</th>\n",
       "      <th>RICE AREA (1000 ha)</th>\n",
       "      <th>RICE PRODUCTION (1000 tons)</th>\n",
       "      <th>RICE YIELD (Kg per ha)</th>\n",
       "      <th>WHEAT AREA (1000 ha)</th>\n",
       "      <th>WHEAT PRODUCTION (1000 tons)</th>\n",
       "      <th>WHEAT YIELD (Kg per ha)</th>\n",
       "      <th>MAIZE AREA (1000 ha)</th>\n",
       "      <th>...</th>\n",
       "      <th>LINSEED YIELD (Kg per ha)</th>\n",
       "      <th>SUNFLOWER AREA (1000 ha)</th>\n",
       "      <th>SUNFLOWER PRODUCTION (1000 tons)</th>\n",
       "      <th>SUNFLOWER YIELD (Kg per ha)</th>\n",
       "      <th>OILSEEDS AREA (1000 ha)</th>\n",
       "      <th>OILSEEDS PRODUCTION (1000 tons)</th>\n",
       "      <th>OILSEEDS YIELD (Kg per ha)</th>\n",
       "      <th>SUGARCANE AREA (1000 ha)</th>\n",
       "      <th>SUGARCANE PRODUCTION (1000 tons)</th>\n",
       "      <th>SUGARCANE YIELD (Kg per ha)</th>\n",
       "    </tr>\n",
       "  </thead>\n",
       "  <tbody>\n",
       "    <tr>\n",
       "      <th>count</th>\n",
       "      <td>16146.000000</td>\n",
       "      <td>16146.000000</td>\n",
       "      <td>16146.000000</td>\n",
       "      <td>16146.000000</td>\n",
       "      <td>16146.000000</td>\n",
       "      <td>16146.000000</td>\n",
       "      <td>16146.000000</td>\n",
       "      <td>16146.000000</td>\n",
       "      <td>16146.000000</td>\n",
       "      <td>16146.00000</td>\n",
       "      <td>...</td>\n",
       "      <td>16146.000000</td>\n",
       "      <td>16146.000000</td>\n",
       "      <td>16146.000000</td>\n",
       "      <td>16146.000000</td>\n",
       "      <td>16146.000000</td>\n",
       "      <td>16146.000000</td>\n",
       "      <td>16146.000000</td>\n",
       "      <td>16146.000000</td>\n",
       "      <td>16146.000000</td>\n",
       "      <td>16146.00000</td>\n",
       "    </tr>\n",
       "    <tr>\n",
       "      <th>mean</th>\n",
       "      <td>269.769231</td>\n",
       "      <td>1991.496841</td>\n",
       "      <td>9.568562</td>\n",
       "      <td>128.593192</td>\n",
       "      <td>224.889565</td>\n",
       "      <td>1486.924784</td>\n",
       "      <td>77.057946</td>\n",
       "      <td>182.012746</td>\n",
       "      <td>1492.419859</td>\n",
       "      <td>20.12212</td>\n",
       "      <td>...</td>\n",
       "      <td>175.548071</td>\n",
       "      <td>3.008939</td>\n",
       "      <td>1.591570</td>\n",
       "      <td>278.449695</td>\n",
       "      <td>66.740024</td>\n",
       "      <td>50.909822</td>\n",
       "      <td>593.659625</td>\n",
       "      <td>11.905851</td>\n",
       "      <td>75.511777</td>\n",
       "      <td>4500.15306</td>\n",
       "    </tr>\n",
       "    <tr>\n",
       "      <th>std</th>\n",
       "      <td>278.309125</td>\n",
       "      <td>15.011185</td>\n",
       "      <td>4.988538</td>\n",
       "      <td>160.078825</td>\n",
       "      <td>326.629828</td>\n",
       "      <td>956.185281</td>\n",
       "      <td>100.394479</td>\n",
       "      <td>348.834254</td>\n",
       "      <td>1081.255367</td>\n",
       "      <td>34.81708</td>\n",
       "      <td>...</td>\n",
       "      <td>271.867902</td>\n",
       "      <td>18.734039</td>\n",
       "      <td>8.432117</td>\n",
       "      <td>503.515134</td>\n",
       "      <td>94.033750</td>\n",
       "      <td>99.834037</td>\n",
       "      <td>673.280027</td>\n",
       "      <td>29.590148</td>\n",
       "      <td>198.815998</td>\n",
       "      <td>3153.97042</td>\n",
       "    </tr>\n",
       "    <tr>\n",
       "      <th>min</th>\n",
       "      <td>1.000000</td>\n",
       "      <td>1966.000000</td>\n",
       "      <td>1.000000</td>\n",
       "      <td>-1.000000</td>\n",
       "      <td>-1.000000</td>\n",
       "      <td>-1.000000</td>\n",
       "      <td>-1.000000</td>\n",
       "      <td>-1.000000</td>\n",
       "      <td>-1.000000</td>\n",
       "      <td>-1.00000</td>\n",
       "      <td>...</td>\n",
       "      <td>-1.000000</td>\n",
       "      <td>-1.000000</td>\n",
       "      <td>-1.000000</td>\n",
       "      <td>-1.000000</td>\n",
       "      <td>-1.000000</td>\n",
       "      <td>-1.000000</td>\n",
       "      <td>-1.000000</td>\n",
       "      <td>-1.000000</td>\n",
       "      <td>-1.000000</td>\n",
       "      <td>-1.00000</td>\n",
       "    </tr>\n",
       "    <tr>\n",
       "      <th>25%</th>\n",
       "      <td>78.000000</td>\n",
       "      <td>1978.000000</td>\n",
       "      <td>6.000000</td>\n",
       "      <td>10.400000</td>\n",
       "      <td>9.460000</td>\n",
       "      <td>800.000000</td>\n",
       "      <td>1.770000</td>\n",
       "      <td>2.000000</td>\n",
       "      <td>750.000000</td>\n",
       "      <td>0.53000</td>\n",
       "      <td>...</td>\n",
       "      <td>0.000000</td>\n",
       "      <td>0.000000</td>\n",
       "      <td>0.000000</td>\n",
       "      <td>0.000000</td>\n",
       "      <td>7.950000</td>\n",
       "      <td>0.730000</td>\n",
       "      <td>199.362500</td>\n",
       "      <td>0.140000</td>\n",
       "      <td>0.452500</td>\n",
       "      <td>2000.00000</td>\n",
       "    </tr>\n",
       "    <tr>\n",
       "      <th>50%</th>\n",
       "      <td>156.000000</td>\n",
       "      <td>1991.000000</td>\n",
       "      <td>10.000000</td>\n",
       "      <td>66.800000</td>\n",
       "      <td>95.840000</td>\n",
       "      <td>1333.210000</td>\n",
       "      <td>36.800000</td>\n",
       "      <td>42.700000</td>\n",
       "      <td>1347.450000</td>\n",
       "      <td>5.13000</td>\n",
       "      <td>...</td>\n",
       "      <td>0.000000</td>\n",
       "      <td>0.000000</td>\n",
       "      <td>0.000000</td>\n",
       "      <td>0.000000</td>\n",
       "      <td>32.880000</td>\n",
       "      <td>13.200000</td>\n",
       "      <td>536.260000</td>\n",
       "      <td>1.730000</td>\n",
       "      <td>7.240000</td>\n",
       "      <td>4502.21000</td>\n",
       "    </tr>\n",
       "    <tr>\n",
       "      <th>75%</th>\n",
       "      <td>241.000000</td>\n",
       "      <td>2005.000000</td>\n",
       "      <td>12.000000</td>\n",
       "      <td>191.390000</td>\n",
       "      <td>315.715000</td>\n",
       "      <td>2113.517500</td>\n",
       "      <td>123.000000</td>\n",
       "      <td>215.192500</td>\n",
       "      <td>2131.580000</td>\n",
       "      <td>24.50000</td>\n",
       "      <td>...</td>\n",
       "      <td>310.340000</td>\n",
       "      <td>0.080000</td>\n",
       "      <td>0.050000</td>\n",
       "      <td>454.245000</td>\n",
       "      <td>82.200000</td>\n",
       "      <td>52.400000</td>\n",
       "      <td>852.445000</td>\n",
       "      <td>9.000000</td>\n",
       "      <td>50.200000</td>\n",
       "      <td>6704.60500</td>\n",
       "    </tr>\n",
       "    <tr>\n",
       "      <th>max</th>\n",
       "      <td>917.000000</td>\n",
       "      <td>2017.000000</td>\n",
       "      <td>20.000000</td>\n",
       "      <td>1154.230000</td>\n",
       "      <td>3215.010000</td>\n",
       "      <td>5653.830000</td>\n",
       "      <td>879.490000</td>\n",
       "      <td>4305.500000</td>\n",
       "      <td>5541.520000</td>\n",
       "      <td>295.00000</td>\n",
       "      <td>...</td>\n",
       "      <td>7000.000000</td>\n",
       "      <td>476.670000</td>\n",
       "      <td>222.670000</td>\n",
       "      <td>4282.050000</td>\n",
       "      <td>951.240000</td>\n",
       "      <td>1712.920000</td>\n",
       "      <td>25500.000000</td>\n",
       "      <td>342.410000</td>\n",
       "      <td>3252.900000</td>\n",
       "      <td>22062.30000</td>\n",
       "    </tr>\n",
       "  </tbody>\n",
       "</table>\n",
       "<p>8 rows × 36 columns</p>\n",
       "</div>"
      ],
      "text/plain": [
       "          Dist Code          Year    State Code  RICE AREA (1000 ha)  \\\n",
       "count  16146.000000  16146.000000  16146.000000         16146.000000   \n",
       "mean     269.769231   1991.496841      9.568562           128.593192   \n",
       "std      278.309125     15.011185      4.988538           160.078825   \n",
       "min        1.000000   1966.000000      1.000000            -1.000000   \n",
       "25%       78.000000   1978.000000      6.000000            10.400000   \n",
       "50%      156.000000   1991.000000     10.000000            66.800000   \n",
       "75%      241.000000   2005.000000     12.000000           191.390000   \n",
       "max      917.000000   2017.000000     20.000000          1154.230000   \n",
       "\n",
       "       RICE PRODUCTION (1000 tons)  RICE YIELD (Kg per ha)  \\\n",
       "count                 16146.000000            16146.000000   \n",
       "mean                    224.889565             1486.924784   \n",
       "std                     326.629828              956.185281   \n",
       "min                      -1.000000               -1.000000   \n",
       "25%                       9.460000              800.000000   \n",
       "50%                      95.840000             1333.210000   \n",
       "75%                     315.715000             2113.517500   \n",
       "max                    3215.010000             5653.830000   \n",
       "\n",
       "       WHEAT AREA (1000 ha)  WHEAT PRODUCTION (1000 tons)  \\\n",
       "count          16146.000000                  16146.000000   \n",
       "mean              77.057946                    182.012746   \n",
       "std              100.394479                    348.834254   \n",
       "min               -1.000000                     -1.000000   \n",
       "25%                1.770000                      2.000000   \n",
       "50%               36.800000                     42.700000   \n",
       "75%              123.000000                    215.192500   \n",
       "max              879.490000                   4305.500000   \n",
       "\n",
       "       WHEAT YIELD (Kg per ha)  MAIZE AREA (1000 ha)  ...  \\\n",
       "count             16146.000000           16146.00000  ...   \n",
       "mean               1492.419859              20.12212  ...   \n",
       "std                1081.255367              34.81708  ...   \n",
       "min                  -1.000000              -1.00000  ...   \n",
       "25%                 750.000000               0.53000  ...   \n",
       "50%                1347.450000               5.13000  ...   \n",
       "75%                2131.580000              24.50000  ...   \n",
       "max                5541.520000             295.00000  ...   \n",
       "\n",
       "       LINSEED YIELD (Kg per ha)  SUNFLOWER AREA (1000 ha)  \\\n",
       "count               16146.000000              16146.000000   \n",
       "mean                  175.548071                  3.008939   \n",
       "std                   271.867902                 18.734039   \n",
       "min                    -1.000000                 -1.000000   \n",
       "25%                     0.000000                  0.000000   \n",
       "50%                     0.000000                  0.000000   \n",
       "75%                   310.340000                  0.080000   \n",
       "max                  7000.000000                476.670000   \n",
       "\n",
       "       SUNFLOWER PRODUCTION (1000 tons)  SUNFLOWER YIELD (Kg per ha)  \\\n",
       "count                      16146.000000                 16146.000000   \n",
       "mean                           1.591570                   278.449695   \n",
       "std                            8.432117                   503.515134   \n",
       "min                           -1.000000                    -1.000000   \n",
       "25%                            0.000000                     0.000000   \n",
       "50%                            0.000000                     0.000000   \n",
       "75%                            0.050000                   454.245000   \n",
       "max                          222.670000                  4282.050000   \n",
       "\n",
       "       OILSEEDS AREA (1000 ha)  OILSEEDS PRODUCTION (1000 tons)  \\\n",
       "count             16146.000000                     16146.000000   \n",
       "mean                 66.740024                        50.909822   \n",
       "std                  94.033750                        99.834037   \n",
       "min                  -1.000000                        -1.000000   \n",
       "25%                   7.950000                         0.730000   \n",
       "50%                  32.880000                        13.200000   \n",
       "75%                  82.200000                        52.400000   \n",
       "max                 951.240000                      1712.920000   \n",
       "\n",
       "       OILSEEDS YIELD (Kg per ha)  SUGARCANE AREA (1000 ha)  \\\n",
       "count                16146.000000              16146.000000   \n",
       "mean                   593.659625                 11.905851   \n",
       "std                    673.280027                 29.590148   \n",
       "min                     -1.000000                 -1.000000   \n",
       "25%                    199.362500                  0.140000   \n",
       "50%                    536.260000                  1.730000   \n",
       "75%                    852.445000                  9.000000   \n",
       "max                  25500.000000                342.410000   \n",
       "\n",
       "       SUGARCANE PRODUCTION (1000 tons)  SUGARCANE YIELD (Kg per ha)  \n",
       "count                      16146.000000                  16146.00000  \n",
       "mean                          75.511777                   4500.15306  \n",
       "std                          198.815998                   3153.97042  \n",
       "min                           -1.000000                     -1.00000  \n",
       "25%                            0.452500                   2000.00000  \n",
       "50%                            7.240000                   4502.21000  \n",
       "75%                           50.200000                   6704.60500  \n",
       "max                         3252.900000                  22062.30000  \n",
       "\n",
       "[8 rows x 36 columns]"
      ]
     },
     "execution_count": 39,
     "metadata": {},
     "output_type": "execute_result"
    }
   ],
   "source": [
    "data.describe()"
   ]
  },
  {
   "cell_type": "code",
   "execution_count": null,
   "id": "7ebea274",
   "metadata": {},
   "outputs": [
    {
     "data": {
      "application/vnd.plotly.v1+json": {
       "config": {
        "plotlyServerURL": "https://plot.ly"
       },
       "data": [
        {
         "hovertemplate": "Year=%{x}<br>PRODUCTION (1000 tons)=%{y}<extra></extra>",
         "legendgroup": "",
         "marker": {
          "color": "#636efa",
          "symbol": "circle"
         },
         "mode": "markers",
         "name": "",
         "orientation": "v",
         "showlegend": false,
         "type": "scatter",
         "x": {
          "bdata": "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",
          "dtype": "i2"
         },
         "xaxis": "x",
         "y": {
          "bdata": "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",
          "dtype": "f8"
         },
         "yaxis": "y"
        }
       ],
       "layout": {
        "height": 500,
        "legend": {
         "tracegroupgap": 0
        },
        "template": {
         "data": {
          "bar": [
           {
            "error_x": {
             "color": "#2a3f5f"
            },
            "error_y": {
             "color": "#2a3f5f"
            },
            "marker": {
             "line": {
              "color": "white",
              "width": 0.5
             },
             "pattern": {
              "fillmode": "overlay",
              "size": 10,
              "solidity": 0.2
             }
            },
            "type": "bar"
           }
          ],
          "barpolar": [
           {
            "marker": {
             "line": {
              "color": "white",
              "width": 0.5
             },
             "pattern": {
              "fillmode": "overlay",
              "size": 10,
              "solidity": 0.2
             }
            },
            "type": "barpolar"
           }
          ],
          "carpet": [
           {
            "aaxis": {
             "endlinecolor": "#2a3f5f",
             "gridcolor": "#C8D4E3",
             "linecolor": "#C8D4E3",
             "minorgridcolor": "#C8D4E3",
             "startlinecolor": "#2a3f5f"
            },
            "baxis": {
             "endlinecolor": "#2a3f5f",
             "gridcolor": "#C8D4E3",
             "linecolor": "#C8D4E3",
             "minorgridcolor": "#C8D4E3",
             "startlinecolor": "#2a3f5f"
            },
            "type": "carpet"
           }
          ],
          "choropleth": [
           {
            "colorbar": {
             "outlinewidth": 0,
             "ticks": ""
            },
            "type": "choropleth"
           }
          ],
          "contour": [
           {
            "colorbar": {
             "outlinewidth": 0,
             "ticks": ""
            },
            "colorscale": [
             [
              0,
              "#0d0887"
             ],
             [
              0.1111111111111111,
              "#46039f"
             ],
             [
              0.2222222222222222,
              "#7201a8"
             ],
             [
              0.3333333333333333,
              "#9c179e"
             ],
             [
              0.4444444444444444,
              "#bd3786"
             ],
             [
              0.5555555555555556,
              "#d8576b"
             ],
             [
              0.6666666666666666,
              "#ed7953"
             ],
             [
              0.7777777777777778,
              "#fb9f3a"
             ],
             [
              0.8888888888888888,
              "#fdca26"
             ],
             [
              1,
              "#f0f921"
             ]
            ],
            "type": "contour"
           }
          ],
          "contourcarpet": [
           {
            "colorbar": {
             "outlinewidth": 0,
             "ticks": ""
            },
            "type": "contourcarpet"
           }
          ],
          "heatmap": [
           {
            "colorbar": {
             "outlinewidth": 0,
             "ticks": ""
            },
            "colorscale": [
             [
              0,
              "#0d0887"
             ],
             [
              0.1111111111111111,
              "#46039f"
             ],
             [
              0.2222222222222222,
              "#7201a8"
             ],
             [
              0.3333333333333333,
              "#9c179e"
             ],
             [
              0.4444444444444444,
              "#bd3786"
             ],
             [
              0.5555555555555556,
              "#d8576b"
             ],
             [
              0.6666666666666666,
              "#ed7953"
             ],
             [
              0.7777777777777778,
              "#fb9f3a"
             ],
             [
              0.8888888888888888,
              "#fdca26"
             ],
             [
              1,
              "#f0f921"
             ]
            ],
            "type": "heatmap"
           }
          ],
          "histogram": [
           {
            "marker": {
             "pattern": {
              "fillmode": "overlay",
              "size": 10,
              "solidity": 0.2
             }
            },
            "type": "histogram"
           }
          ],
          "histogram2d": [
           {
            "colorbar": {
             "outlinewidth": 0,
             "ticks": ""
            },
            "colorscale": [
             [
              0,
              "#0d0887"
             ],
             [
              0.1111111111111111,
              "#46039f"
             ],
             [
              0.2222222222222222,
              "#7201a8"
             ],
             [
              0.3333333333333333,
              "#9c179e"
             ],
             [
              0.4444444444444444,
              "#bd3786"
             ],
             [
              0.5555555555555556,
              "#d8576b"
             ],
             [
              0.6666666666666666,
              "#ed7953"
             ],
             [
              0.7777777777777778,
              "#fb9f3a"
             ],
             [
              0.8888888888888888,
              "#fdca26"
             ],
             [
              1,
              "#f0f921"
             ]
            ],
            "type": "histogram2d"
           }
          ],
          "histogram2dcontour": [
           {
            "colorbar": {
             "outlinewidth": 0,
             "ticks": ""
            },
            "colorscale": [
             [
              0,
              "#0d0887"
             ],
             [
              0.1111111111111111,
              "#46039f"
             ],
             [
              0.2222222222222222,
              "#7201a8"
             ],
             [
              0.3333333333333333,
              "#9c179e"
             ],
             [
              0.4444444444444444,
              "#bd3786"
             ],
             [
              0.5555555555555556,
              "#d8576b"
             ],
             [
              0.6666666666666666,
              "#ed7953"
             ],
             [
              0.7777777777777778,
              "#fb9f3a"
             ],
             [
              0.8888888888888888,
              "#fdca26"
             ],
             [
              1,
              "#f0f921"
             ]
            ],
            "type": "histogram2dcontour"
           }
          ],
          "mesh3d": [
           {
            "colorbar": {
             "outlinewidth": 0,
             "ticks": ""
            },
            "type": "mesh3d"
           }
          ],
          "parcoords": [
           {
            "line": {
             "colorbar": {
              "outlinewidth": 0,
              "ticks": ""
             }
            },
            "type": "parcoords"
           }
          ],
          "pie": [
           {
            "automargin": true,
            "type": "pie"
           }
          ],
          "scatter": [
           {
            "fillpattern": {
             "fillmode": "overlay",
             "size": 10,
             "solidity": 0.2
            },
            "type": "scatter"
           }
          ],
          "scatter3d": [
           {
            "line": {
             "colorbar": {
              "outlinewidth": 0,
              "ticks": ""
             }
            },
            "marker": {
             "colorbar": {
              "outlinewidth": 0,
              "ticks": ""
             }
            },
            "type": "scatter3d"
           }
          ],
          "scattercarpet": [
           {
            "marker": {
             "colorbar": {
              "outlinewidth": 0,
              "ticks": ""
             }
            },
            "type": "scattercarpet"
           }
          ],
          "scattergeo": [
           {
            "marker": {
             "colorbar": {
              "outlinewidth": 0,
              "ticks": ""
             }
            },
            "type": "scattergeo"
           }
          ],
          "scattergl": [
           {
            "marker": {
             "colorbar": {
              "outlinewidth": 0,
              "ticks": ""
             }
            },
            "type": "scattergl"
           }
          ],
          "scattermap": [
           {
            "marker": {
             "colorbar": {
              "outlinewidth": 0,
              "ticks": ""
             }
            },
            "type": "scattermap"
           }
          ],
          "scattermapbox": [
           {
            "marker": {
             "colorbar": {
              "outlinewidth": 0,
              "ticks": ""
             }
            },
            "type": "scattermapbox"
           }
          ],
          "scatterpolar": [
           {
            "marker": {
             "colorbar": {
              "outlinewidth": 0,
              "ticks": ""
             }
            },
            "type": "scatterpolar"
           }
          ],
          "scatterpolargl": [
           {
            "marker": {
             "colorbar": {
              "outlinewidth": 0,
              "ticks": ""
             }
            },
            "type": "scatterpolargl"
           }
          ],
          "scatterternary": [
           {
            "marker": {
             "colorbar": {
              "outlinewidth": 0,
              "ticks": ""
             }
            },
            "type": "scatterternary"
           }
          ],
          "surface": [
           {
            "colorbar": {
             "outlinewidth": 0,
             "ticks": ""
            },
            "colorscale": [
             [
              0,
              "#0d0887"
             ],
             [
              0.1111111111111111,
              "#46039f"
             ],
             [
              0.2222222222222222,
              "#7201a8"
             ],
             [
              0.3333333333333333,
              "#9c179e"
             ],
             [
              0.4444444444444444,
              "#bd3786"
             ],
             [
              0.5555555555555556,
              "#d8576b"
             ],
             [
              0.6666666666666666,
              "#ed7953"
             ],
             [
              0.7777777777777778,
              "#fb9f3a"
             ],
             [
              0.8888888888888888,
              "#fdca26"
             ],
             [
              1,
              "#f0f921"
             ]
            ],
            "type": "surface"
           }
          ],
          "table": [
           {
            "cells": {
             "fill": {
              "color": "#EBF0F8"
             },
             "line": {
              "color": "white"
             }
            },
            "header": {
             "fill": {
              "color": "#C8D4E3"
             },
             "line": {
              "color": "white"
             }
            },
            "type": "table"
           }
          ]
         },
         "layout": {
          "annotationdefaults": {
           "arrowcolor": "#2a3f5f",
           "arrowhead": 0,
           "arrowwidth": 1
          },
          "autotypenumbers": "strict",
          "coloraxis": {
           "colorbar": {
            "outlinewidth": 0,
            "ticks": ""
           }
          },
          "colorscale": {
           "diverging": [
            [
             0,
             "#8e0152"
            ],
            [
             0.1,
             "#c51b7d"
            ],
            [
             0.2,
             "#de77ae"
            ],
            [
             0.3,
             "#f1b6da"
            ],
            [
             0.4,
             "#fde0ef"
            ],
            [
             0.5,
             "#f7f7f7"
            ],
            [
             0.6,
             "#e6f5d0"
            ],
            [
             0.7,
             "#b8e186"
            ],
            [
             0.8,
             "#7fbc41"
            ],
            [
             0.9,
             "#4d9221"
            ],
            [
             1,
             "#276419"
            ]
           ],
           "sequential": [
            [
             0,
             "#0d0887"
            ],
            [
             0.1111111111111111,
             "#46039f"
            ],
            [
             0.2222222222222222,
             "#7201a8"
            ],
            [
             0.3333333333333333,
             "#9c179e"
            ],
            [
             0.4444444444444444,
             "#bd3786"
            ],
            [
             0.5555555555555556,
             "#d8576b"
            ],
            [
             0.6666666666666666,
             "#ed7953"
            ],
            [
             0.7777777777777778,
             "#fb9f3a"
            ],
            [
             0.8888888888888888,
             "#fdca26"
            ],
            [
             1,
             "#f0f921"
            ]
           ],
           "sequentialminus": [
            [
             0,
             "#0d0887"
            ],
            [
             0.1111111111111111,
             "#46039f"
            ],
            [
             0.2222222222222222,
             "#7201a8"
            ],
            [
             0.3333333333333333,
             "#9c179e"
            ],
            [
             0.4444444444444444,
             "#bd3786"
            ],
            [
             0.5555555555555556,
             "#d8576b"
            ],
            [
             0.6666666666666666,
             "#ed7953"
            ],
            [
             0.7777777777777778,
             "#fb9f3a"
            ],
            [
             0.8888888888888888,
             "#fdca26"
            ],
            [
             1,
             "#f0f921"
            ]
           ]
          },
          "colorway": [
           "#636efa",
           "#EF553B",
           "#00cc96",
           "#ab63fa",
           "#FFA15A",
           "#19d3f3",
           "#FF6692",
           "#B6E880",
           "#FF97FF",
           "#FECB52"
          ],
          "font": {
           "color": "#2a3f5f"
          },
          "geo": {
           "bgcolor": "white",
           "lakecolor": "white",
           "landcolor": "white",
           "showlakes": true,
           "showland": true,
           "subunitcolor": "#C8D4E3"
          },
          "hoverlabel": {
           "align": "left"
          },
          "hovermode": "closest",
          "mapbox": {
           "style": "light"
          },
          "paper_bgcolor": "white",
          "plot_bgcolor": "white",
          "polar": {
           "angularaxis": {
            "gridcolor": "#EBF0F8",
            "linecolor": "#EBF0F8",
            "ticks": ""
           },
           "bgcolor": "white",
           "radialaxis": {
            "gridcolor": "#EBF0F8",
            "linecolor": "#EBF0F8",
            "ticks": ""
           }
          },
          "scene": {
           "xaxis": {
            "backgroundcolor": "white",
            "gridcolor": "#DFE8F3",
            "gridwidth": 2,
            "linecolor": "#EBF0F8",
            "showbackground": true,
            "ticks": "",
            "zerolinecolor": "#EBF0F8"
           },
           "yaxis": {
            "backgroundcolor": "white",
            "gridcolor": "#DFE8F3",
            "gridwidth": 2,
            "linecolor": "#EBF0F8",
            "showbackground": true,
            "ticks": "",
            "zerolinecolor": "#EBF0F8"
           },
           "zaxis": {
            "backgroundcolor": "white",
            "gridcolor": "#DFE8F3",
            "gridwidth": 2,
            "linecolor": "#EBF0F8",
            "showbackground": true,
            "ticks": "",
            "zerolinecolor": "#EBF0F8"
           }
          },
          "shapedefaults": {
           "line": {
            "color": "#2a3f5f"
           }
          },
          "ternary": {
           "aaxis": {
            "gridcolor": "#DFE8F3",
            "linecolor": "#A2B1C6",
            "ticks": ""
           },
           "baxis": {
            "gridcolor": "#DFE8F3",
            "linecolor": "#A2B1C6",
            "ticks": ""
           },
           "bgcolor": "white",
           "caxis": {
            "gridcolor": "#DFE8F3",
            "linecolor": "#A2B1C6",
            "ticks": ""
           }
          },
          "title": {
           "x": 0.05
          },
          "xaxis": {
           "automargin": true,
           "gridcolor": "#EBF0F8",
           "linecolor": "#EBF0F8",
           "ticks": "",
           "title": {
            "standoff": 15
           },
           "zerolinecolor": "#EBF0F8",
           "zerolinewidth": 2
          },
          "yaxis": {
           "automargin": true,
           "gridcolor": "#EBF0F8",
           "linecolor": "#EBF0F8",
           "ticks": "",
           "title": {
            "standoff": 15
           },
           "zerolinecolor": "#EBF0F8",
           "zerolinewidth": 2
          }
         }
        },
        "title": {
         "text": "Gujarat Wheat production vs year "
        },
        "width": 500,
        "xaxis": {
         "anchor": "y",
         "domain": [
          0,
          1
         ],
         "title": {
          "text": "Year"
         }
        },
        "yaxis": {
         "anchor": "x",
         "domain": [
          0,
          1
         ],
         "title": {
          "text": "PRODUCTION (1000 tons)"
         }
        }
       }
      }
     },
     "metadata": {},
     "output_type": "display_data"
    }
   ],
   "source": [
    "wheat = gujarat['WHEAT PRODUCTION (1000 tons)'].dropna()\n",
    "x= gujarat['Year'].values\n",
    "\n",
    "\n",
    "fig = px.scatter(x=x, y=wheat, labels={'x': 'Year', 'y': 'PRODUCTION (1000 tons)'}, title='Gujarat Wheat production vs year ')\n",
    "fig.update_layout(template='plotly_white',\n",
    "                  height = 500,\n",
    "                  width = 500\n",
    "                 )\n",
    "\n",
    "fig.show()"
   ]
  },
  {
   "cell_type": "code",
   "execution_count": null,
   "id": "16698dcf",
   "metadata": {},
   "outputs": [
    {
     "data": {
      "application/vnd.plotly.v1+json": {
       "config": {
        "plotlyServerURL": "https://plot.ly"
       },
       "data": [
        {
         "name": "Wheat Yield (Kg/ha)",
         "type": "box",
         "y": {
          "bdata": "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",
          "dtype": "f8"
         }
        },
        {
         "name": "Wheat Production (1000 tons)",
         "type": "box",
         "y": {
          "bdata": "AAAAAACAUkAAAAAAAMBXQAAAAAAAAEtAzczMzMyMUUBmZmZmZiZaQDMzMzMzU1lAMzMzMzNzRkDNzMzMzGxfQDMzMzMzc05AZmZmZmYGWUBmZmZmZqZRQAAAAAAA4FJAmpmZmZmZWkDNzMzMzOxTQGZmZmZm5lZAZmZmZmZGUUAAAAAAAOBRQM3MzMzMTFZAmpmZmZmZW0AzMzMzM3NTQAAAAAAAAE9AAAAAAAAAP0AAAAAAAEBfQDMzMzMzc1RAFK5H4XqkWkAzMzMzM2NYQHE9CtejAFhAPQrXo3D9WEBmZmZmZvZiQOxRuB6FC1pAexSuR+G6X0D2KFyPwtVeQOF6FK5H4V5Aj8L1KFwPX0BmZmZmZqZYQGZmZmZmFlxAH4XrUbgeYEDsUbgehfNrQM3MzMzMiHBA9ihcj8K1bUCuR+F6FEpxQDMzMzMzc3ZArkfhehR2bkC4HoXrUUxwQAAAAAAARoNASOF6FK7zgEDD9Shcj9J/QD0K16Nw7XxAuB6F61Ece0DXo3A9ClN1QKRwPQrXP3hArkfhehR2eEAAAAAAAAAkQAAAAAAAADBAAAAAAAAANkBmZmZmZmYzQJqZmZmZmUZAMzMzMzOzO0AAAAAAAIA3QJqZmZmZmTlAZmZmZmZmJ0BmZmZmZmYvQM3MzMzMTDRAmpmZmZmZOkDNzMzMzExGQAAAAAAAYFBAmpmZmZlZT0AAAAAAAGBaQGZmZmZm1mJAMzMzMzOTX0AzMzMzM7NJQM3MzMzMzDtAAAAAAAAAO0AAAAAAAAAiQM3MzMzMzFpAzczMzMzMPUCamZmZmdlNQM3MzMzMDEFAZmZmZmbmTEAzMzMzM3NCQM3MzMzMbF5AmpmZmZn5UEBmZmZmZuZRQDMzMzMz80dAMzMzMzOzS0AAAAAAAIAyQGZmZmZmZiFAAAAAAAAALUDNzMzMzMwvQDMzMzMz80JAMzMzMzNzTkAzMzMzMxNWQM3MzMzMLFdAZmZmZma2ZkAAAAAAAABcQM3MzMzMTDtAZmZmZmYGakBmZmZmZgZdQM3MzMzMzC5AMzMzMzOjUUDsUbgehessQHsUrkfhujZASOF6FK4nRUBmZmZmZuY+QAAAAAAAAEpAAAAAAACAT0AAAAAAAIBKQDMzMzMzk1FAAAAAAABgVkCamZmZmTlTQAAAAAAAAFJAZmZmZmZGVUAAAAAAAIBRQJqZmZmZuVtAMzMzMzPzWkBmZmZmZsZYQGZmZmZm5lxAZmZmZmbmWkCamZmZmflaQM3MzMzMbFlAMzMzMzMTWkAzMzMzM9NZQJqZmZmZ2VpAZmZmZmYGU0BmZmZmZsZUQAAAAAAAAElAAAAAAABAWEBmZmZmZuZQQGZmZmZmRlpAZmZmZmaGWUCamZmZmblZQGZmZmZmZlxAAAAAAADgY0BmZmZmZgZdQDMzMzMz82BAZmZmZmY2YECamZmZmUliQM3MzMzMbFxAMzMzMzOTXUAAAAAAABBhQAAAAAAAoFpAAAAAAACAYEBmZmZmZqZXQGZmZmZmxl5AAAAAAABQZUAAAAAAAKBtQM3MzMzMjF1AzczMzMxcZkAzMzMzM4NxQDMzMzMzQ25AzczMzMzscEA9CtejcCVyQD0K16NwDXFA4XoUrkcZbkBI4XoUrk9sQNejcD0KB2xAmpmZmZmZJkAAAAAAAAAzQAAAAAAAAChAZmZmZmZmL0BmZmZmZuY5QGZmZmZmZi9AAAAAAAAAHkAzMzMzMzMyQM3MzMzMzCdAmpmZmZmZPEAzMzMzM7M1QJqZmZmZGTBAAAAAAACANUBmZmZmZmYoQAAAAAAAADFAMzMzMzOzMECamZmZmZkyQM3MzMzMTDZAmpmZmZmZN0BmZmZmZmYuQAAAAAAAACxAAAAAAAAAGECamZmZmZk4QDMzMzMzszNAAAAAAAAANUBmZmZmZmYtQAAAAAAAgDJAmpmZmZkZM0AAAAAAAAAyQGZmZmZmZipAmpmZmZmZLkDNzMzMzEwxQJqZmZmZmTBAZmZmZmZmLkDNzMzMzMwqQAAAAAAAAC1AzczMzMxMNUAzMzMzM7M6QAAAAAAAAEFAMzMzMzMzPUBmZmZmZuY4QM3MzMzMTEVAmpmZmZkZQUCamZmZmVlBQDMzMzMzc0dAAAAAAADATUDNzMzMzExLQHE9CtejsEdASOF6FK5nSUCkcD0K14NFQKRwPQrXY0BAzczMzMxsQ0AAAAAAAAAYQAAAAAAAACJAAAAAAAAAJkCamZmZmZkpQDMzMzMzMy1AzczMzMzMLkAzMzMzMzMyQJqZmZmZmTdAZmZmZmbmNUCamZmZmRk8QGZmZmZm5jRAAAAAAAAAOEAAAAAAAIBEQGZmZmZmpkBAAAAAAABAQ0CamZmZmdlBQDMzMzMz80dAMzMzMzMzRkBmZmZmZmZEQAAAAAAAgEBAAAAAAAAAN0AAAAAAAAAxQM3MzMzMDERAAAAAAACAP0CamZmZmZk9QGZmZmZmZj9AzczMzMxMPkBmZmZmZuZAQAAAAAAAAEBAZmZmZmbmOkAAAAAAAMBCQGZmZmZm5kJAAAAAAACAQEDNzMzMzMw/QAAAAAAAgD5AzczMzMzMQEAzMzMzM/NEQJqZmZmZWUNAAAAAAAAAQkAzMzMzM7NBQDMzMzMzc0pAzczMzMxsU0BmZmZmZqZLQAAAAAAAwElAMzMzMzOTYEDNzMzMzAxgQAAAAAAAQF9ASOF6FK7nUUB7FK5H4TpOQI/C9ShcP1JArkfhehRuTUCPwvUoXI9LQAAAAAAAADZAAAAAAACAQEAAAAAAAAA9QDMzMzMz80tAmpmZmZnZQUAAAAAAAIA9QGZmZmZmZjFAZmZmZmbmQ0CamZmZmZk/QGZmZmZmZkhAzczMzMwMTkCamZmZmflRQGZmZmZmZktAAAAAAADgU0AAAAAAAGBVQJqZmZmZeVxAzczMzMwMXkCamZmZmZlbQM3MzMzMTE5AZmZmZmYmQ0BmZmZmZiZBQAAAAAAAABRAAAAAAACgWkBmZmZmZqZgQM3MzMzMjEVAZmZmZmamRUCamZmZmVlFQAAAAAAAgD1AAAAAAAAAQUAAAAAAAAAxQGZmZmZmJkBAzczMzMzMQ0BmZmZmZiZDQGZmZmZmZjJAzczMzMzM/D+amZmZmZknQAAAAAAAgDlAZmZmZmYmQUAAAAAAAAAxQAAAAAAAwFZAAAAAAABAV0AAAAAAAABkQAAAAAAAAFZAAAAAAAAAK0CamZmZmTlXQDMzMzMzszxAmpmZmZmZH0AfhetRuP5XQHsUrkfhejdAMzMzMzNTQUD2KFyPwvVGQArXo3A9Ck5AAAAAAAAAAEAAAAAAAAAIQAAAAAAAABBAmpmZmZmZDUAAAAAAAAAQQGZmZmZmZhRAMzMzMzMzHUAzMzMzMzMkQDMzMzMzMx9AMzMzMzMzIEAAAAAAAAAcQJqZmZmZmSFAZmZmZmZmKkDNzMzMzMwlQDMzMzMzMyRAAAAAAAAAJkAzMzMzMzMZQDMzMzMzMx1AMzMzMzMzH0AAAAAAAAAcQAAAAAAAABBAAAAAAAAACEDNzMzMzMwcQJqZmZmZmRNAAAAAAAAAGkBmZmZmZmYaQGZmZmZmZhZAmpmZmZmZE0DNzMzMzMwaQM3MzMzMzB5AAAAAAAAAEkAzMzMzMzMTQGZmZmZmZhJAMzMzMzMzC0BmZmZmZmYGQM3MzMzMzAhAzczMzMzMBEAzMzMzMzMDQJqZmZmZmQFAMzMzMzMzB0CamZmZmZkFQGZmZmZmZv4/ZmZmZmZm9j8AAAAAAAAEQGZmZmZmZv4/MzMzMzMz+z9mZmZmZmb2PwAAAAAAAPA/16NwPQrX6z+F61G4HoXbP+F6FK5H4do/MzMzMzMz4z8AAAAAAAAAAAAAAAAAAAAAAAAAAAAAAAAAAAAAAAAAAJqZmZmZmbk/mpmZmZmZuT8AAAAAAAAAAJqZmZmZmbk/mpmZmZmZuT+amZmZmZnJPwAAAAAAAAAAmpmZmZmZuT8AAAAAAAAAAAAAAAAAAAAAmpmZmZmZyT8AAAAAAAAAAAAAAAAAAAAAAAAAAAAAAACamZmZmZm5PwAAAAAAAAAAAAAAAAAAAAAAAAAAAAAAAAAAAAAAAAAAAAAAAAAAAACamZmZmZnJPwAAAAAAAAAAmpmZmZmZuT8zMzMzMzPTPwAAAAAAAAAAmpmZmZmZuT+amZmZmZnJP5qZmZmZmdk/mpmZmZmZ2T8zMzMzMzPTP5qZmZmZmck/MzMzMzMz0z+amZmZmZnJPwAAAAAAAAAAmpmZmZmZ2T8AAAAAAADgP83MzMzMzOw/ZmZmZmZm9j8zMzMzMzP7P5qZmZmZmQFAMzMzMzMzIEDNzMzMzMwrQJqZmZmZmSZA4XoUrkdhIUAAAAAAAAAQQK5H4XoUrg1AmpmZmZmZCUD2KFyPwvX8PwAAAAAAACxAAAAAAACARUAAAAAAAAA8QDMzMzMzszVAZmZmZmbmSkDNzMzMzMw9QDMzMzMzMy5AzczMzMzMJkAzMzMzMzMPQJqZmZmZGUNAmpmZmZnZQECamZmZmVlCQM3MzMzMjERAzczMzMzMTEAzMzMzM9NSQAAAAAAAoFNAAAAAAAAAVUAAAAAAAMBVQJqZmZmZGUtAMzMzMzOzMUAzMzMzMzMqQAAAAAAAAPA/MzMzMzMzUUAAAAAAAEBHQAAAAAAAgDtAZmZmZmZmMEBmZmZmZiZOQJqZmZmZmR9AAAAAAACAYEBmZmZmZuY6QJqZmZmZGURAZmZmZmamUEAAAAAAAABNQGZmZmZmZhJAmpmZmZmZF0CamZmZmZk7QJqZmZmZmTRAzczMzMysYEBmZmZmZqZHQDMzMzMz01NAAAAAAABQYkAAAAAAAKBmQGZmZmZmRl1AZmZmZmamXUDNzMzMzHxrQM3MzMzMHGFAZmZmZmZmJ0CF61G4HrVlQArXo3A9ijNAzczMzMzMGkCuR+F6FK4rQGZmZmZmxkNAAAAAAAAAOUAAAAAAAABNQAAAAAAAAEtAAAAAAADASECamZmZmdlUQJqZmZmZmVJAzczMzMwMQ0BmZmZmZuZFQDMzMzMzszhAmpmZmZnZR0CamZmZmRlLQGZmZmZmZlFAZmZmZmamT0AzMzMzM/NZQM3MzMzMDF1AmpmZmZn5Y0AzMzMzMzNpQAAAAAAAcGNAAAAAAADQYEAAAAAAAMBTQGZmZmZmBlNAMzMzMzMzF0DNzMzMzBxlQM3MzMzM7GJAmpmZmZm5YUAAAAAAAKBYQJqZmZmZeWVAMzMzMzMzV0AAAAAAAOBsQDMzMzMzc2NAzczMzMzcZkCamZmZmblkQM3MzMzMvGRAzczMzMzMTEAAAAAAAAA7QM3MzMzMbGNAmpmZmZkZSkBmZmZmZrZ1QM3MzMzMvHZAMzMzMzPjekAzMzMzM3uBQGZmZmZmBolAmpmZmZm1gUCamZmZmSl6QM3MzMzM6I9AzczMzMyUhECamZmZmQlgQDMzMzMz4Y9AUrgehevHhkAAAAAAALBTQK5H4XoUSnpAXI/C9ShUd0AAAAAAAABJQAAAAAAAQFFAAAAAAADAUEAAAAAAACBSQDMzMzMzs1RAMzMzMzPzUkAzMzMzM/NHQM3MzMzMLFRAMzMzMzNzU0CamZmZmTlUQDMzMzMzE1JAmpmZmZn5VkAzMzMzM1NaQAAAAAAAoFRAmpmZmZmZVkAzMzMzM3NYQAAAAAAA4FRAZmZmZmZWYECamZmZmTlVQGZmZmZm5lFAAAAAAABAVEAAAAAAAIBNQDMzMzMzE1ZAZmZmZmbmVUAAAAAAAKBbQM3MzMzM7F1AZmZmZmaGW0BmZmZmZmZdQAAAAAAAwGJAmpmZmZn5XkDNzMzMzOxhQDMzMzMzY2FAZmZmZmbWYUBmZmZmZkZkQM3MzMzMjF5AAAAAAAAAXkCamZmZmWlhQAAAAAAAYG5AmpmZmZlJb0CamZmZmbFwQJqZmZmZKW5AAAAAAABYd0DNzMzMzBRwQAAAAAAAuHBAzczMzMy0ekAAAAAAAJB4QGZmZmZmJnlAH4XrUbjmeUAzMzMzM/d2QOxRuB6FF3RAUrgeheuReECuR+F6FBJ6QAAAAAAAABhAAAAAAAAAKkAAAAAAAAAzQAAAAAAAADJAmpmZmZmZNkDNzMzMzMwvQJqZmZmZmTZAZmZmZmbmMUCamZmZmZkuQDMzMzMzszRAZmZmZmZmK0AzMzMzM7MwQDMzMzMzsz1AAAAAAABAQkAzMzMzM3NCQGZmZmZmJkNAZmZmZmZmRECamZmZmVlIQDMzMzMz80BAAAAAAACAQkAAAAAAAABDQAAAAAAAADRAMzMzMzNzRECamZmZmZk7QAAAAAAAgDxAZmZmZmZmPEDNzMzMzEw9QJqZmZmZmTtAzczMzMzMQEAzMzMzMzM4QAAAAAAAgDlAmpmZmZnZQkBmZmZmZuZCQJqZmZmZGUpAAAAAAAAAO0AzMzMzM/NBQAAAAAAAwENAZmZmZmZmR0AzMzMzMzM9QM3MzMzMTDRAMzMzMzOTUEAzMzMzMxNVQJqZmZmZmUtAMzMzMzPzUUAAAAAAAEBYQDMzMzMzc1ZAZmZmZmbmVkCPwvUoXL9XQArXo3A9yktAMzMzMzNzVUCPwvUoXA9OQIXrUbge5U5AAAAAAADAWkAAAAAAAIBZQAAAAAAAAFtAzczMzMzMWUAAAAAAAOBlQDMzMzMz42BAMzMzMzNzYEAAAAAAAKBnQJqZmZmZWWZAmpmZmZnpa0DNzMzMzDxmQGZmZmZmdmRAAAAAAABgcECamZmZmdlmQAAAAAAA0GtAmpmZmZlJZ0BmZmZmZrZnQM3MzMzMPGxAZmZmZmZGaEAAAAAAAFBtQOxRuB6FA2ZAAAAAAAAAVkDNzMzMzOxhQM3MzMzMjGFA9ihcj8INbUDNzMzMzGRsQEjhehSuX2pArkfhehROaEDNzMzMzCRyQHE9CtejIGxAj8L1KFzPbUAfhetRuB5uQI/C9ShcD2pAuB6F61H4akAzMzMzMzNnQJqZmZmZsWpASOF6FK4HY0CamZmZmXlnQM3MzMzMBGRAcT0K16OQakDXo3A9Cj9vQAAAAAAAeHVAUrgehevpbkB7FK5H4TZ1QAAAAAAADHtA16NwPQr/eUA9CtejcJ16QJqZmZmZqXxA7FG4HoWLdkCPwvUoXGN1QEjhehSuf3RAw/UoXI8OeEAAAAAAAAAUQAAAAAAAADhAAAAAAAAAM0CamZmZmZk9QDMzMzMzMzxAmpmZmZlZQUAzMzMzMzM2QAAAAAAAAEVAMzMzMzMzNEAAAAAAAIA+QJqZmZmZGTtAMzMzMzOzQkAzMzMzM3NJQAAAAAAAwEVAMzMzMzMzQ0AzMzMzM7NLQGZmZmZmZkpAZmZmZmZGUEDNzMzMzGxTQGZmZmZmJkVAAAAAAACAQkAAAAAAAAA2QJqZmZmZ2UpAMzMzMzNTUEAAAAAAACBSQGZmZmZmBlBAzczMzMzsUECamZmZmRlQQAAAAAAAgFVAAAAAAACATEDNzMzMzOxcQM3MzMzMbF1AMzMzMzNzYECamZmZmZlJQDMzMzMzMyFAmpmZmZmZKkDNzMzMzEw7QAAAAAAAIGBAmpmZmZm5YkCamZmZmblcQGZmZmZmNmJAzczMzMycZ0AzMzMzM3NQQJqZmZmZOVVAMzMzMzPzWUAAAAAAAPBjQJqZmZmZKXFAPQrXo3CFZEAAAAAAALhoQAAAAAAA0FlAexSuR+GiY0AzMzMzMxNlQAAAAAAAADJAAAAAAAAAUUAAAAAAAIBIQDMzMzMzsztAMzMzMzPTWUCamZmZmXlSQJqZmZmZmS1AmpmZmZmZH0DNzMzMzMwwQJqZmZmZmU9AmpmZmZmZUEAzMzMzM9NVQAAAAAAAQFpAzczMzMwsXUCamZmZmblkQJqZmZmZ2WRAZmZmZmYWYEAAAAAAAFBsQAAAAAAAcGVAMzMzMzOzMUAAAAAAAAAiQAAAAAAAAABAMzMzMzMTcUAAAAAAAMBXQM3MzMzMbF9AmpmZmZnZTUCamZmZmRlrQDMzMzMzMz9AAAAAAAAwdkDNzMzMzMxRQJqZmZmZeVlAZmZmZmZ2Y0AzMzMzM/NZQAAAAAAAgDxAMzMzMzMzHUAAAAAAAIAzQGZmZmZmZkRAzczMzMwsb0DNzMzMzAxgQDMzMzMzy3BAmpmZmZkZc0BmZmZmZmZ1QM3MzMzM3HNAZmZmZmZGY0BmZmZmZjKFQAAAAAAAOHxAMzMzMzOzOUBSuB6F68eBQClcj8L1qFxAhetRuB41WUDXo3A9CidXQK5H4XoU7m9AAAAAAAAAPUAAAAAAAIBBQAAAAAAAAEJAzczMzMyMQUAzMzMzM7NPQAAAAAAAoFBAMzMzMzPzRUAAAAAAAEBSQDMzMzMzc09AAAAAAADAV0AAAAAAAABSQAAAAAAAwFhAAAAAAABAWkAzMzMzM9NbQDMzMzMzk1lAmpmZmZk5WUAzMzMzMxNYQAAAAAAAoFVAzczMzMyMWEAzMzMzM/NTQDMzMzMz81BAAAAAAAAANUDNzMzMzMxVQAAAAAAAYFRAmpmZmZmpYECamZmZmflfQDMzMzMzs15AmpmZmZk5YEAAAAAAAKBmQAAAAAAAQGRAAAAAAADwZkAAAAAAAGBoQGZmZmZmlmZAzczMzMzsX0DNzMzMzOxUQGZmZmZm5lRAmpmZmZn5UUAzMzMzM1NeQM3MzMzMTFlAmpmZmZkJbEAzMzMzMwNxQJqZmZmZOXRAMzMzMzPDaEAAAAAAAIBrQJqZmZmZKXlAZmZmZmZWeEBmZmZmZoZ8QDMzMzMzdYBAXI/C9ShkekDXo3A9CoN4QArXo3A9/nZAUrgehev9e0AAAAAAAAAiQAAAAAAAACZAAAAAAAAAKkAAAAAAAAArQGZmZmZmZi1AMzMzMzMzLkCamZmZmZktQDMzMzMzszVAmpmZmZmZMkAAAAAAAIAzQAAAAAAAAC9AzczMzMzMNEAAAAAAAAA9QM3MzMzMTDpAmpmZmZkZTEBmZmZmZmY9QDMzMzMzszhAMzMzMzOzP0CamZmZmZk6QM3MzMzMTDJAAAAAAAAANUAAAAAAAAAcQAAAAAAAACdAZmZmZmZmKUCamZmZmZkqQAAAAAAAgDFAAAAAAAAAJ0DNzMzMzMwyQAAAAAAAAC5AZmZmZmZmJECamZmZmZksQJqZmZmZmSJAMzMzMzMzL0DNzMzMzMwuQJqZmZmZmTNAZmZmZmZmK0DNzMzMzMwxQAAAAAAAAC9AmpmZmZmZKkDNzMzMzEwwQDMzMzMzMzFAZmZmZmbmMkCamZmZmRk6QGZmZmZmZkFAMzMzMzMzQkAAAAAAAMBCQGZmZmZm5kJAKVyPwvVoO0CamZmZmVlFQM3MzMzMzC9A9ihcj8J1NkDNzMzMzMw0QAAAAAAAADNAAAAAAAAAO0AAAAAAAAAqQGZmZmZmZiJAMzMzMzOzOkBmZmZmZuY4QDMzMzMzMy5AZmZmZmZmNEAzMzMzMzMgQAAAAAAAADdAMzMzMzOzNUAzMzMzM7MwQAAAAAAAgD1AmpmZmZmZOkDNzMzMzMxAQDMzMzMzszlAMzMzMzOzOkDNzMzMzExQQAAAAAAAwElAZmZmZmZmK0AAAAAAAAAkQM3MzMzMzBJAMzMzMzMzUUAAAAAAAAA5QM3MzMzMDENAMzMzMzOzMkAzMzMzM7M1QM3MzMzMzDRAAAAAAACAR0CamZmZmRk3QJqZmZmZmUZAzczMzMxMR0CamZmZmRlCQAAAAAAAAERAzczMzMzMOEDNzMzMzMw7QDMzMzMzsz1AMzMzMzPTUEAzMzMzMzNKQAAAAAAAYFNAZmZmZmZGUkAzMzMzM9NdQM3MzMzMrFVAZmZmZmaGUUBmZmZmZtZpQDMzMzMz42lAZmZmZmaGV0AUrkfheqRbQFyPwvUozF5AAAAAAABQW0AzMzMzMwNaQAAAAAAAGGBA",
          "dtype": "f8"
         }
        },
        {
         "name": "Wheat Area (1000 ha)",
         "type": "box",
         "y": {
          "bdata": "AAAAAADAWUAAAAAAAEBbQM3MzMzMTFVAZmZmZmYmT0CamZmZmXlgQJqZmZmZmVVAAAAAAADASUAAAAAAACBhQAAAAAAAAElAMzMzMzPTXEDNzMzMzIxdQDMzMzMz81dAMzMzMzOTWkAAAAAAAIBaQDMzMzMz81ZAmpmZmZkZQkAAAAAAAABDQAAAAAAAoFpAzczMzMxsWEBmZmZmZgZUQAAAAAAAgENAAAAAAAAANECamZmZmTlbQM3MzMzMzFVA9ihcj8IVU0AzMzMzM1NUQBSuR+F6VFVAhetRuB4FVkDNzMzMzPxhQHsUrkfhCl1Aj8L1KFwvWEBmZmZmZhZcQDMzMzMzE1dArkfhehS+V0DXo3A9ChdNQIXrUbgeFVRAPQrXo3C9V0CF61G4Ht1gQK5H4XoUfmFASOF6FK63XkCkcD0K15NiQOF6FK5HAWZAzczMzMwEZEB7FK5H4SpbQMP1KFyPcm9AuB6F61FQakD2KFyPwpVoQB+F61G4/mdAFK5H4XoMakA9CtejcOVgQJqZmZmZkWRApHA9CtczZUAAAAAAAAAmQAAAAAAAACxAAAAAAAAAMEDNzMzMzMwoQGZmZmZmZjZAZmZmZmZmM0BmZmZmZmYsQAAAAAAAACpAAAAAAAAAHEDNzMzMzMwgQDMzMzMzMyhAZmZmZmZmKkAAAAAAAIA0QDMzMzMzsz5AmpmZmZkZPEAAAAAAAMBBQGZmZmZmJkVAZmZmZmZmRkAzMzMzM7M2QGZmZmZmZihAAAAAAAAAKEAAAAAAAAAUQAAAAAAAAEFAZmZmZmbmMEAzMzMzM7M0QDMzMzMzMypAZmZmZmZmNUAAAAAAAIAwQDMzMzMzs0FAmpmZmZmZNUDNzMzMzMw8QJqZmZmZmTBAmpmZmZmZMkDNzMzMzMwgQDMzMzMzMw9AmpmZmZmZFUAAAAAAAAAaQDMzMzMzMydAmpmZmZkZM0AAAAAAAAA7QM3MzMzMzDtAmpmZmZlZR0BmZmZmZqZDQDMzMzMzMyJAAAAAAACAS0BmZmZmZiZAQJqZmZmZmRVA9ihcj8L1MUBI4XoUrkcRQD0K16NwPR1AzczMzMzMKEAUrkfhehQgQAAAAAAAgERAAAAAAAAARkCamZmZmVlIQGZmZmZmZkhAAAAAAACAS0BmZmZmZqZKQGZmZmZmJkdAmpmZmZlZSUAzMzMzMzNFQAAAAAAAAEpAzczMzMzMS0AzMzMzM7NKQM3MzMzMzEdAzczMzMwMSkDNzMzMzMxIQGZmZmZm5kVAzczMzMzMREAzMzMzMzNIQDMzMzMz80RAAAAAAAAAREDNzMzMzAxEQAAAAAAAADlAmpmZmZmZQUCamZmZmRlAQJqZmZmZmURAZmZmZmbmREDNzMzMzExGQGZmZmZmpkhAAAAAAACASUBmZmZmZmZHQM3MzMzMjEhAzczMzMxMSEDNzMzMzAxJQDMzMzMzc0hAmpmZmZlZR0BmZmZmZiZJQAAAAAAAAElAzczMzMxMSEAAAAAAAIBDQGZmZmZmJkdAZmZmZmYGUUAAAAAAAMBUQJqZmZmZGUxAAAAAAABAUECamZmZmTlXQAAAAAAAQFZAmpmZmZk5V0AK16NwPUpXQFK4HoXrAVZAH4XrUbheVEDXo3A9CvdSQK5H4XoUflJAmpmZmZmZLUAAAAAAAAAwQAAAAAAAACRAzczMzMzMJ0DNzMzMzEw2QAAAAAAAACZAAAAAAAAAJEAAAAAAAAAzQJqZmZmZmSdAZmZmZmbmPECamZmZmZk+QJqZmZmZGTVAMzMzMzOzNUDNzMzMzMw1QDMzMzMzszdAMzMzMzMzNEAzMzMzMzM6QDMzMzMzsz9AmpmZmZkZNEAAAAAAAAAxQAAAAAAAACpAAAAAAAAAGEAAAAAAAEBAQGZmZmZmZjxAMzMzMzOzOECamZmZmZkpQGZmZmZm5jBAAAAAAAAAMUAAAAAAAAAzQAAAAAAAAC1AAAAAAAAANECamZmZmZkyQM3MzMzMzDJAAAAAAAAAK0AzMzMzMzMgQAAAAAAAACZAMzMzMzMzNEBmZmZmZmY0QJqZmZmZmTdAmpmZmZkZM0CamZmZmZkzQDMzMzMzszRAzczMzMxMN0CamZmZmZk0QM3MzMzMzDRAzczMzMxMOkAAAAAAAAA7QKRwPQrX4zhAPQrXo3A9P0AUrkfhelQ4QHsUrkfhujZAzczMzMzMM0AAAAAAAAAcQAAAAAAAACBAmpmZmZmZH0AzMzMzMzMjQDMzMzMzMylAmpmZmZmZJUCamZmZmZkmQGZmZmZmZihAzczMzMzMKkAAAAAAAAAvQAAAAAAAACtAzczMzMzMKEAzMzMzM7M1QDMzMzMzMzFAMzMzMzMzMkBmZmZmZuYxQAAAAAAAADJAZmZmZmbmMUDNzMzMzEwxQM3MzMzMzC1AAAAAAAAAKEAAAAAAAAAiQM3MzMzMTDFAzczMzMzMLUCamZmZmZkrQM3MzMzMzCpAmpmZmZmZLECamZmZmZkvQAAAAAAAACxAZmZmZmZmL0AzMzMzMzMxQDMzMzMzszJAAAAAAAAAL0AzMzMzMzMuQM3MzMzMzCtAmpmZmZmZMECamZmZmZkzQAAAAAAAgDNAzczMzMzMMkBmZmZmZmYvQAAAAAAAgDdAmpmZmZkZPkBmZmZmZmY4QJqZmZmZGTRAAAAAAADAR0CamZmZmZlHQAAAAAAAQEJAMzMzMzNzPUBI4XoUrgc5QDMzMzMzcztAKVyPwvVoNkAUrkfhepQ0QAAAAAAAADlAAAAAAAAAOUAzMzMzM7M7QM3MzMzMTDhAzczMzMxMN0CamZmZmZk2QAAAAAAAAC5AMzMzMzMzN0AzMzMzM7MwQM3MzMzMzDNAZmZmZmZmNkDNzMzMzMw7QM3MzMzMzDZAAAAAAACAPUCamZmZmdlGQM3MzMzMjEpAzczMzMwMRUBmZmZmZiZFQGZmZmZm5jtAAAAAAAAANkDNzMzMzMwwQAAAAAAAABBAMzMzMzPzRUAzMzMzM9NQQM3MzMzMTDZAzczMzMzMM0AzMzMzM7MzQJqZmZmZmStAAAAAAAAALkCamZmZmZkgQAAAAAAAADRAAAAAAACAMUAzMzMzMzMxQJqZmZmZmRlAmpmZmZmZ6T9mZmZmZmYWQAAAAAAAACZAAAAAAAAALEAAAAAAAAAiQDMzMzMzsz9AZmZmZmamQEAAAAAAAMBIQDMzMzMz80BAmpmZmZmZFUAzMzMzM7M/QGZmZmZmZiNAMzMzMzMzA0BxPQrXo3A7QEjhehSuRyRAXI/C9ShcKEDNzMzMzEwuQB+F61G43jJAAAAAAAAAAEAAAAAAAAAIQM3MzMzMzARAZmZmZmZmBkAAAAAAAAAMQM3MzMzMzAxAmpmZmZmZEUAzMzMzMzMTQM3MzMzMzBJAMzMzMzMzEUDNzMzMzMwQQJqZmZmZmRFAAAAAAAAAGEBmZmZmZmYWQAAAAAAAABJAMzMzMzMzD0CamZmZmZkFQGZmZmZmZgZAZmZmZmZmBkCamZmZmZkNQDMzMzMzMwNAAAAAAAAAAEDNzMzMzMwEQM3MzMzMzABAzczMzMzMBEAAAAAAAAAEQJqZmZmZmQFAmpmZmZmZAUCamZmZmZkBQAAAAAAAAAhAmpmZmZmZ+T/NzMzMzMz8PzMzMzMzM/s/ZmZmZmZm9j8zMzMzMzPzPzMzMzMzM/M/MzMzMzMz8z8zMzMzMzPzP5qZmZmZmek/mpmZmZmZ8T/NzMzMzMzsPzMzMzMzM+M/MzMzMzMz4z8AAAAAAADwPzMzMzMzM+M/AAAAAAAA4D8AAAAAAADgPzMzMzMzM9M/16NwPQrX0z/D9Shcj8LFP3sUrkfhesQ/UrgehetRyD8AAAAAAAAAAAAAAAAAAAAAAAAAAAAAAAAAAAAAAAAAAJqZmZmZmbk/mpmZmZmZuT8AAAAAAAAAAJqZmZmZmbk/mpmZmZmZuT+amZmZmZm5PwAAAAAAAAAAmpmZmZmZuT+amZmZmZm5PwAAAAAAAAAAMzMzMzMz0z8AAAAAAAAAAAAAAAAAAAAAAAAAAAAAAACamZmZmZm5PwAAAAAAAAAAAAAAAAAAAAAAAAAAAAAAAAAAAAAAAAAAAAAAAAAAAACamZmZmZm5PwAAAAAAAAAAmpmZmZmZuT+amZmZmZm5PwAAAAAAAAAAmpmZmZmZuT+amZmZmZm5P5qZmZmZmck/mpmZmZmZuT+amZmZmZm5P5qZmZmZmbk/mpmZmZmZuT+amZmZmZm5PwAAAAAAAAAAmpmZmZmZuT+amZmZmZnJPzMzMzMzM9M/mpmZmZmZ2T9mZmZmZmbmP5qZmZmZmek/MzMzMzMzA0CamZmZmZkRQGZmZmZmZg5AH4XrUbgeBUB7FK5H4XoEQBSuR+F6FARAMzMzMzMzAUAUrkfhehQCQAAAAAAAAC5AAAAAAACAQEBmZmZmZmY5QDMzMzMzMzJAMzMzMzOzPkBmZmZmZuYzQGZmZmZmZiJAAAAAAAAAFkBmZmZmZmYCQGZmZmZm5jdAAAAAAAAANkBmZmZmZuYzQM3MzMzMzDRAAAAAAACAQUAzMzMzM3NBQDMzMzMz80BAZmZmZmamQUBmZmZmZmZCQAAAAAAAQEBAAAAAAAAAJkBmZmZmZmYaQAAAAAAAAPA/MzMzMzMzP0AAAAAAAAA3QAAAAAAAgEBAmpmZmZmZHUDNzMzMzEw5QDMzMzMzMxFAAAAAAAAARUBmZmZmZmYmQAAAAAAAACtAAAAAAAAAOUBmZmZmZuY1QJqZmZmZmQlAAAAAAAAACEBmZmZmZmYjQJqZmZmZmSBAzczMzMzMQkDNzMzMzEw5QJqZmZmZGT1AMzMzMzPzSEAAAAAAAEBIQM3MzMzMzEFAAAAAAAAAQkAzMzMzMzNOQM3MzMzMDENAMzMzMzMzE0DNzMzMzCxFQMP1KFyPwhRACtejcD0KAUDXo3A9CtcSQPYoXI/C9SVAAAAAAAAAMUAAAAAAAABBQGZmZmZmZkBAZmZmZmZmPUDNzMzMzIxDQDMzMzMz80JAzczMzMzMM0CamZmZmRk1QAAAAAAAACtAMzMzMzMzNkAAAAAAAAA7QM3MzMzMzDxAMzMzMzMzQEBmZmZmZiZFQJqZmZmZmUZAZmZmZmamSUAAAAAAAEBPQM3MzMzMDEhAmpmZmZlZR0CamZmZmRk7QAAAAAAAADxAAAAAAAAAEkCamZmZmVlIQJqZmZmZWUxAzczMzMxMR0DNzMzMzAxBQJqZmZmZGUxAAAAAAAAAQUAAAAAAAABNQM3MzMzMjEZAMzMzMzNzSUAAAAAAAMBGQDMzMzMz80VAAAAAAAAANECamZmZmZkmQGZmZmZm5kZAAAAAAAAAMUBmZmZmZqZXQM3MzMzMjFlAzczMzMzMXEDNzMzMzFxjQM3MzMzMHGhAZmZmZmY2aEDNzMzMzKxeQDMzMzMzk25AAAAAAAAwZkDNzMzMzAxFQIXrUbgedW1AH4XrUbj2ZkCkcD0K12M1QHsUrkfhCl1ApHA9CtezWEAAAAAAAABHQAAAAAAAAE1AAAAAAAAARkAzMzMzM3NHQJqZmZmZWUxAZmZmZmZmRkBmZmZmZiZCQM3MzMzMDExAZmZmZmZmSUAAAAAAAMBOQM3MzMzMjExAMzMzMzPzTECamZmZmdlQQAAAAAAAgEVAAAAAAADATkAAAAAAAEBIQJqZmZmZGURAZmZmZmZmSUBmZmZmZiZJQGZmZmZmZkpAAAAAAACARUAAAAAAAIBCQAAAAAAAwElAMzMzMzOzTEBmZmZmZiZOQAAAAAAAwE1AzczMzMwMTUAzMzMzM7NOQAAAAAAAwFFAAAAAAADAUEDNzMzMzExSQAAAAAAAgFJAmpmZmZlZUUAAAAAAAIBTQDMzMzMzs0tAZmZmZmYmSUCamZmZmblRQAAAAAAA4FhAmpmZmZlZW0DNzMzMzIxcQJqZmZmZ2V1AzczMzMycYEAAAAAAAGBeQDMzMzMzc1xAZmZmZmbmY0DNzMzMzOxhQM3MzMzMrGJA7FG4HoV7Y0BSuB6F6/lgQKRwPQrXY1xAmpmZmZnRYEDXo3A9CgdiQAAAAAAAABhAAAAAAAAAKEBmZmZmZmYsQAAAAAAAACtAzczMzMzMKkBmZmZmZmYmQGZmZmZmZitAZmZmZmZmIUAzMzMzMzMiQGZmZmZmZidAmpmZmZmZIECamZmZmZkgQGZmZmZmZitAzczMzMzMMkBmZmZmZmYuQJqZmZmZGTZAZmZmZmbmNEDNzMzMzMwyQJqZmZmZmShAzczMzMzMKEAAAAAAAAAqQAAAAAAAACJAZmZmZmZmLEAAAAAAAAAsQAAAAAAAACdAAAAAAAAAI0AAAAAAAAApQAAAAAAAACVAAAAAAAAAKUAAAAAAAAAjQGZmZmZmZiRAMzMzMzMzKUAzMzMzMzMrQAAAAAAAgDJAAAAAAAAAJkAzMzMzMzMrQDMzMzMzMzBAAAAAAAAAMUDNzMzMzMwpQJqZmZmZmR9AAAAAAACAOUAzMzMzMzM+QJqZmZmZGTRAzczMzMxMOUBmZmZmZmZBQJqZmZmZmT5AZmZmZmbmPUCamZmZmdk8QPYoXI/CdTJACtejcD0KPkAK16NwPUo1QBSuR+F6VDVAAAAAAAAAUEAAAAAAAEBTQM3MzMzMzFJAZmZmZmZmUEAAAAAAAGBXQM3MzMzMrFJAmpmZmZn5UEAAAAAAAKBVQGZmZmZmZlBAMzMzMzMTWkDNzMzMzMxXQDMzMzMz01VAZmZmZmbmV0DNzMzMzKxSQAAAAAAAAFZAzczMzMzsW0AzMzMzMxNWQDMzMzMzs1ZAzczMzMyMVEBmZmZmZmZXQGZmZmZmNlFAAAAAAACAQ0AzMzMzM7NGQM3MzMzMzExA16NwPQr3U0DNzMzMzGxTQFK4HoXrsVRArkfhehTuU0BmZmZmZkZXQFK4HoXrYVVACtejcD2KVECamZmZmYlWQPYoXI/CJVNAUrgehesBU0DhehSuR6FRQEjhehSud1JAUrgeheuRT0ApXI/C9fhQQOF6FK5HoU1AhetRuB61UkBSuB6F61FXQHE9Ctej0FxAmpmZmZmpWUDsUbgehZtcQArXo3A9OmFAFK5H4XpsYECkcD0K1wNhQBSuR+F6HGJAZmZmZmY2XkCPwvUoXJ9dQClcj8L1iFtA7FG4HoWLXkAAAAAAAAAUQAAAAAAAADRAMzMzMzMzK0DNzMzMzEw2QDMzMzMzMzhAZmZmZmZmOECamZmZmRkwQDMzMzMzMzlAMzMzMzMzLkAAAAAAAIA0QAAAAAAAgDdAAAAAAACAOECamZmZmZlAQAAAAAAAgDZAzczMzMxMOkBmZmZmZuY4QGZmZmZm5jlAMzMzMzMzQEDNzMzMzEw+QDMzMzMzszlAAAAAAAAAMkAAAAAAAAAoQDMzMzMzMzdAZmZmZmYmRkAzMzMzMzNDQAAAAAAAgEJAzczMzMxMQ0DNzMzMzMxCQAAAAAAAAEVAzczMzMxMP0CamZmZmZlHQM3MzMzMjE9AmpmZmZkZT0AzMzMzMzM8QGZmZmZmZhJAAAAAAAAAHkCamZmZmRkwQGZmZmZm5k9AzczMzMzsUkDNzMzMzAxLQAAAAAAAgFNAZmZmZmaGVUBmZmZmZmZGQJqZmZmZGUhAMzMzMzOzSUCamZmZmZlQQDMzMzMz81VAAAAAAABAVkBSuB6F6xFYQOxRuB6FK09AZmZmZmbmVUDsUbgehStSQAAAAAAAADJAAAAAAAAAQ0AzMzMzMzNAQJqZmZmZGTBAzczMzMyMRUAAAAAAAMBCQAAAAAAAACNAMzMzMzMzE0AAAAAAAAAmQGZmZmZm5kNAmpmZmZkZQ0AzMzMzM/NBQJqZmZmZWUVAzczMzMwMTEAzMzMzMzNNQGZmZmZmpktAAAAAAAAASUCamZmZmRlTQJqZmZmZmU9AMzMzMzMzIUAAAAAAAAAQQAAAAAAAAABAMzMzMzOzVEBmZmZmZmZIQGZmZmZmpklAZmZmZmZmOEAzMzMzM5NRQGZmZmZmZi9AAAAAAAAAWEAAAAAAAAA3QAAAAAAAgD5AAAAAAACARUCamZmZmZk/QDMzMzMzMyNAmpmZmZmZCUCamZmZmZkdQGZmZmZmZi5AMzMzMzPzTkBmZmZmZmZGQM3MzMzMbFJAzczMzMwMVUCamZmZmblWQAAAAAAAQFhAzczMzMxMREBmZmZmZkZlQDMzMzMzc1xAzczMzMzMHEAK16NwPZpgQOxRuB6F6ztAuB6F61G4O0AzMzMzM7M5QHsUrkfhylFAAAAAAAAAN0AAAAAAAAA7QAAAAAAAADxAZmZmZmbmOEDNzMzMzMxAQJqZmZmZWUBAMzMzMzOzP0AAAAAAAABCQDMzMzMzsz5AZmZmZmbmQkBmZmZmZuZCQAAAAAAAAERAzczMzMxMSUAAAAAAAABGQGZmZmZmJkRAAAAAAABAR0BmZmZmZmZHQAAAAAAAAEZAzczMzMwMRUAAAAAAAIBBQM3MzMzMTD9AAAAAAAAAJkBmZmZmZmZDQJqZmZmZ2URAmpmZmZnZSEBmZmZmZuZLQJqZmZmZ2UxAMzMzMzMzTkAAAAAAAIBRQJqZmZmZGVFAZmZmZmYGU0AAAAAAAGBUQM3MzMzMbFJAAAAAAACgUEBmZmZmZqZHQGZmZmZmJkdAMzMzMzMzRkAAAAAAAEBJQGZmZmZm5kVAAAAAAAAAVUDNzMzMzGxaQJqZmZmZ2V1AAAAAAACAVkAAAAAAACBaQDMzMzMzw2JAZmZmZmamYkCamZmZmUljQNejcD0Kb2ZAUrgehesRY0C4HoXrUaBiQK5H4XoUZmFAAAAAAABIY0AAAAAAAAAkQAAAAAAAACRAZmZmZmZmI0AzMzMzMzMkQDMzMzMzMylAMzMzMzMzJUAAAAAAAAAlQAAAAAAAACZAAAAAAAAAKkCamZmZmZklQGZmZmZmZiNAMzMzMzMzJUAAAAAAAAAtQDMzMzMzMytAzczMzMxMMUCamZmZmZkuQJqZmZmZmSVAMzMzMzMzKkBmZmZmZmYqQAAAAAAAACRAAAAAAAAAJEAAAAAAAAAYQDMzMzMzMxlAMzMzMzMzHUAAAAAAAAAhQDMzMzMzMx1AZmZmZmZmHEAzMzMzMzMmQAAAAAAAABxAzczMzMzMGkBmZmZmZmYcQAAAAAAAABhAmpmZmZmZG0BmZmZmZmYeQJqZmZmZmR1AzczMzMzMHEDNzMzMzMwjQAAAAAAAACVAmpmZmZmZIkAAAAAAAAAaQJqZmZmZmRtAZmZmZmZmI0AAAAAAAAAmQGZmZmZmZipAAAAAAAAAJ0DNzMzMzMwqQDMzMzMzMypAj8L1KFyPIkDsUbgehWsyQIXrUbgehR5A16NwPQpXIUAzMzMzMzMgQAAAAAAAADpAAAAAAAAAPEAzMzMzMzM1QAAAAAAAACdAAAAAAACAPUDNzMzMzMw3QDMzMzMzMypAZmZmZmbmNkAAAAAAAAAiQGZmZmZm5jpAAAAAAAAAOkBmZmZmZmYyQJqZmZmZGTRAZmZmZmZmK0CamZmZmZlBQJqZmZmZmSlAMzMzMzMzJ0AAAAAAAMBBQM3MzMzMzEBAAAAAAACAMEAAAAAAAAAiQJqZmZmZmQVAZmZmZmYmQEDNzMzMzEwzQM3MzMzMzDtAAAAAAAAAKUDNzMzMzEwxQGZmZmZmZixAAAAAAAAAN0CamZmZmRkyQM3MzMzMzDRAzczMzMxMNkAAAAAAAIAzQDMzMzMzszVAzczMzMzMJUDNzMzMzMwjQGZmZmZmZixAmpmZmZkZOkAAAAAAAIA5QGZmZmZmpkFAMzMzMzMzQEAAAAAAAIBEQAAAAAAAQEJAmpmZmZmZPEBmZmZmZoZQQJqZmZmZuVBAzczMzMzMQEDsUbgehStCQAAAAAAAIEVAKVyPwvVoQUC4HoXrUfhBQHsUrkfh2kRA",
          "dtype": "f8"
         }
        }
       ],
       "layout": {
        "boxmode": "group",
        "height": 600,
        "template": {
         "data": {
          "bar": [
           {
            "error_x": {
             "color": "#2a3f5f"
            },
            "error_y": {
             "color": "#2a3f5f"
            },
            "marker": {
             "line": {
              "color": "#E5ECF6",
              "width": 0.5
             },
             "pattern": {
              "fillmode": "overlay",
              "size": 10,
              "solidity": 0.2
             }
            },
            "type": "bar"
           }
          ],
          "barpolar": [
           {
            "marker": {
             "line": {
              "color": "#E5ECF6",
              "width": 0.5
             },
             "pattern": {
              "fillmode": "overlay",
              "size": 10,
              "solidity": 0.2
             }
            },
            "type": "barpolar"
           }
          ],
          "carpet": [
           {
            "aaxis": {
             "endlinecolor": "#2a3f5f",
             "gridcolor": "white",
             "linecolor": "white",
             "minorgridcolor": "white",
             "startlinecolor": "#2a3f5f"
            },
            "baxis": {
             "endlinecolor": "#2a3f5f",
             "gridcolor": "white",
             "linecolor": "white",
             "minorgridcolor": "white",
             "startlinecolor": "#2a3f5f"
            },
            "type": "carpet"
           }
          ],
          "choropleth": [
           {
            "colorbar": {
             "outlinewidth": 0,
             "ticks": ""
            },
            "type": "choropleth"
           }
          ],
          "contour": [
           {
            "colorbar": {
             "outlinewidth": 0,
             "ticks": ""
            },
            "colorscale": [
             [
              0,
              "#0d0887"
             ],
             [
              0.1111111111111111,
              "#46039f"
             ],
             [
              0.2222222222222222,
              "#7201a8"
             ],
             [
              0.3333333333333333,
              "#9c179e"
             ],
             [
              0.4444444444444444,
              "#bd3786"
             ],
             [
              0.5555555555555556,
              "#d8576b"
             ],
             [
              0.6666666666666666,
              "#ed7953"
             ],
             [
              0.7777777777777778,
              "#fb9f3a"
             ],
             [
              0.8888888888888888,
              "#fdca26"
             ],
             [
              1,
              "#f0f921"
             ]
            ],
            "type": "contour"
           }
          ],
          "contourcarpet": [
           {
            "colorbar": {
             "outlinewidth": 0,
             "ticks": ""
            },
            "type": "contourcarpet"
           }
          ],
          "heatmap": [
           {
            "colorbar": {
             "outlinewidth": 0,
             "ticks": ""
            },
            "colorscale": [
             [
              0,
              "#0d0887"
             ],
             [
              0.1111111111111111,
              "#46039f"
             ],
             [
              0.2222222222222222,
              "#7201a8"
             ],
             [
              0.3333333333333333,
              "#9c179e"
             ],
             [
              0.4444444444444444,
              "#bd3786"
             ],
             [
              0.5555555555555556,
              "#d8576b"
             ],
             [
              0.6666666666666666,
              "#ed7953"
             ],
             [
              0.7777777777777778,
              "#fb9f3a"
             ],
             [
              0.8888888888888888,
              "#fdca26"
             ],
             [
              1,
              "#f0f921"
             ]
            ],
            "type": "heatmap"
           }
          ],
          "histogram": [
           {
            "marker": {
             "pattern": {
              "fillmode": "overlay",
              "size": 10,
              "solidity": 0.2
             }
            },
            "type": "histogram"
           }
          ],
          "histogram2d": [
           {
            "colorbar": {
             "outlinewidth": 0,
             "ticks": ""
            },
            "colorscale": [
             [
              0,
              "#0d0887"
             ],
             [
              0.1111111111111111,
              "#46039f"
             ],
             [
              0.2222222222222222,
              "#7201a8"
             ],
             [
              0.3333333333333333,
              "#9c179e"
             ],
             [
              0.4444444444444444,
              "#bd3786"
             ],
             [
              0.5555555555555556,
              "#d8576b"
             ],
             [
              0.6666666666666666,
              "#ed7953"
             ],
             [
              0.7777777777777778,
              "#fb9f3a"
             ],
             [
              0.8888888888888888,
              "#fdca26"
             ],
             [
              1,
              "#f0f921"
             ]
            ],
            "type": "histogram2d"
           }
          ],
          "histogram2dcontour": [
           {
            "colorbar": {
             "outlinewidth": 0,
             "ticks": ""
            },
            "colorscale": [
             [
              0,
              "#0d0887"
             ],
             [
              0.1111111111111111,
              "#46039f"
             ],
             [
              0.2222222222222222,
              "#7201a8"
             ],
             [
              0.3333333333333333,
              "#9c179e"
             ],
             [
              0.4444444444444444,
              "#bd3786"
             ],
             [
              0.5555555555555556,
              "#d8576b"
             ],
             [
              0.6666666666666666,
              "#ed7953"
             ],
             [
              0.7777777777777778,
              "#fb9f3a"
             ],
             [
              0.8888888888888888,
              "#fdca26"
             ],
             [
              1,
              "#f0f921"
             ]
            ],
            "type": "histogram2dcontour"
           }
          ],
          "mesh3d": [
           {
            "colorbar": {
             "outlinewidth": 0,
             "ticks": ""
            },
            "type": "mesh3d"
           }
          ],
          "parcoords": [
           {
            "line": {
             "colorbar": {
              "outlinewidth": 0,
              "ticks": ""
             }
            },
            "type": "parcoords"
           }
          ],
          "pie": [
           {
            "automargin": true,
            "type": "pie"
           }
          ],
          "scatter": [
           {
            "fillpattern": {
             "fillmode": "overlay",
             "size": 10,
             "solidity": 0.2
            },
            "type": "scatter"
           }
          ],
          "scatter3d": [
           {
            "line": {
             "colorbar": {
              "outlinewidth": 0,
              "ticks": ""
             }
            },
            "marker": {
             "colorbar": {
              "outlinewidth": 0,
              "ticks": ""
             }
            },
            "type": "scatter3d"
           }
          ],
          "scattercarpet": [
           {
            "marker": {
             "colorbar": {
              "outlinewidth": 0,
              "ticks": ""
             }
            },
            "type": "scattercarpet"
           }
          ],
          "scattergeo": [
           {
            "marker": {
             "colorbar": {
              "outlinewidth": 0,
              "ticks": ""
             }
            },
            "type": "scattergeo"
           }
          ],
          "scattergl": [
           {
            "marker": {
             "colorbar": {
              "outlinewidth": 0,
              "ticks": ""
             }
            },
            "type": "scattergl"
           }
          ],
          "scattermap": [
           {
            "marker": {
             "colorbar": {
              "outlinewidth": 0,
              "ticks": ""
             }
            },
            "type": "scattermap"
           }
          ],
          "scattermapbox": [
           {
            "marker": {
             "colorbar": {
              "outlinewidth": 0,
              "ticks": ""
             }
            },
            "type": "scattermapbox"
           }
          ],
          "scatterpolar": [
           {
            "marker": {
             "colorbar": {
              "outlinewidth": 0,
              "ticks": ""
             }
            },
            "type": "scatterpolar"
           }
          ],
          "scatterpolargl": [
           {
            "marker": {
             "colorbar": {
              "outlinewidth": 0,
              "ticks": ""
             }
            },
            "type": "scatterpolargl"
           }
          ],
          "scatterternary": [
           {
            "marker": {
             "colorbar": {
              "outlinewidth": 0,
              "ticks": ""
             }
            },
            "type": "scatterternary"
           }
          ],
          "surface": [
           {
            "colorbar": {
             "outlinewidth": 0,
             "ticks": ""
            },
            "colorscale": [
             [
              0,
              "#0d0887"
             ],
             [
              0.1111111111111111,
              "#46039f"
             ],
             [
              0.2222222222222222,
              "#7201a8"
             ],
             [
              0.3333333333333333,
              "#9c179e"
             ],
             [
              0.4444444444444444,
              "#bd3786"
             ],
             [
              0.5555555555555556,
              "#d8576b"
             ],
             [
              0.6666666666666666,
              "#ed7953"
             ],
             [
              0.7777777777777778,
              "#fb9f3a"
             ],
             [
              0.8888888888888888,
              "#fdca26"
             ],
             [
              1,
              "#f0f921"
             ]
            ],
            "type": "surface"
           }
          ],
          "table": [
           {
            "cells": {
             "fill": {
              "color": "#EBF0F8"
             },
             "line": {
              "color": "white"
             }
            },
            "header": {
             "fill": {
              "color": "#C8D4E3"
             },
             "line": {
              "color": "white"
             }
            },
            "type": "table"
           }
          ]
         },
         "layout": {
          "annotationdefaults": {
           "arrowcolor": "#2a3f5f",
           "arrowhead": 0,
           "arrowwidth": 1
          },
          "autotypenumbers": "strict",
          "coloraxis": {
           "colorbar": {
            "outlinewidth": 0,
            "ticks": ""
           }
          },
          "colorscale": {
           "diverging": [
            [
             0,
             "#8e0152"
            ],
            [
             0.1,
             "#c51b7d"
            ],
            [
             0.2,
             "#de77ae"
            ],
            [
             0.3,
             "#f1b6da"
            ],
            [
             0.4,
             "#fde0ef"
            ],
            [
             0.5,
             "#f7f7f7"
            ],
            [
             0.6,
             "#e6f5d0"
            ],
            [
             0.7,
             "#b8e186"
            ],
            [
             0.8,
             "#7fbc41"
            ],
            [
             0.9,
             "#4d9221"
            ],
            [
             1,
             "#276419"
            ]
           ],
           "sequential": [
            [
             0,
             "#0d0887"
            ],
            [
             0.1111111111111111,
             "#46039f"
            ],
            [
             0.2222222222222222,
             "#7201a8"
            ],
            [
             0.3333333333333333,
             "#9c179e"
            ],
            [
             0.4444444444444444,
             "#bd3786"
            ],
            [
             0.5555555555555556,
             "#d8576b"
            ],
            [
             0.6666666666666666,
             "#ed7953"
            ],
            [
             0.7777777777777778,
             "#fb9f3a"
            ],
            [
             0.8888888888888888,
             "#fdca26"
            ],
            [
             1,
             "#f0f921"
            ]
           ],
           "sequentialminus": [
            [
             0,
             "#0d0887"
            ],
            [
             0.1111111111111111,
             "#46039f"
            ],
            [
             0.2222222222222222,
             "#7201a8"
            ],
            [
             0.3333333333333333,
             "#9c179e"
            ],
            [
             0.4444444444444444,
             "#bd3786"
            ],
            [
             0.5555555555555556,
             "#d8576b"
            ],
            [
             0.6666666666666666,
             "#ed7953"
            ],
            [
             0.7777777777777778,
             "#fb9f3a"
            ],
            [
             0.8888888888888888,
             "#fdca26"
            ],
            [
             1,
             "#f0f921"
            ]
           ]
          },
          "colorway": [
           "#636efa",
           "#EF553B",
           "#00cc96",
           "#ab63fa",
           "#FFA15A",
           "#19d3f3",
           "#FF6692",
           "#B6E880",
           "#FF97FF",
           "#FECB52"
          ],
          "font": {
           "color": "#2a3f5f"
          },
          "geo": {
           "bgcolor": "white",
           "lakecolor": "white",
           "landcolor": "#E5ECF6",
           "showlakes": true,
           "showland": true,
           "subunitcolor": "white"
          },
          "hoverlabel": {
           "align": "left"
          },
          "hovermode": "closest",
          "mapbox": {
           "style": "light"
          },
          "paper_bgcolor": "white",
          "plot_bgcolor": "#E5ECF6",
          "polar": {
           "angularaxis": {
            "gridcolor": "white",
            "linecolor": "white",
            "ticks": ""
           },
           "bgcolor": "#E5ECF6",
           "radialaxis": {
            "gridcolor": "white",
            "linecolor": "white",
            "ticks": ""
           }
          },
          "scene": {
           "xaxis": {
            "backgroundcolor": "#E5ECF6",
            "gridcolor": "white",
            "gridwidth": 2,
            "linecolor": "white",
            "showbackground": true,
            "ticks": "",
            "zerolinecolor": "white"
           },
           "yaxis": {
            "backgroundcolor": "#E5ECF6",
            "gridcolor": "white",
            "gridwidth": 2,
            "linecolor": "white",
            "showbackground": true,
            "ticks": "",
            "zerolinecolor": "white"
           },
           "zaxis": {
            "backgroundcolor": "#E5ECF6",
            "gridcolor": "white",
            "gridwidth": 2,
            "linecolor": "white",
            "showbackground": true,
            "ticks": "",
            "zerolinecolor": "white"
           }
          },
          "shapedefaults": {
           "line": {
            "color": "#2a3f5f"
           }
          },
          "ternary": {
           "aaxis": {
            "gridcolor": "white",
            "linecolor": "white",
            "ticks": ""
           },
           "baxis": {
            "gridcolor": "white",
            "linecolor": "white",
            "ticks": ""
           },
           "bgcolor": "#E5ECF6",
           "caxis": {
            "gridcolor": "white",
            "linecolor": "white",
            "ticks": ""
           }
          },
          "title": {
           "x": 0.05
          },
          "xaxis": {
           "automargin": true,
           "gridcolor": "white",
           "linecolor": "white",
           "ticks": "",
           "title": {
            "standoff": 15
           },
           "zerolinecolor": "white",
           "zerolinewidth": 2
          },
          "yaxis": {
           "automargin": true,
           "gridcolor": "white",
           "linecolor": "white",
           "ticks": "",
           "title": {
            "standoff": 15
           },
           "zerolinecolor": "white",
           "zerolinewidth": 2
          }
         }
        },
        "title": {
         "text": "Gujarat Wheat Metrics - Outlier Detection"
        },
        "yaxis": {
         "title": {
          "text": "Values"
         }
        }
       }
      }
     },
     "metadata": {},
     "output_type": "display_data"
    }
   ],
   "source": [
    "fig = go.Figure()\n",
    "\n",
    "fig.add_trace(go.Box(y=gujarat['WHEAT YIELD (Kg per ha)'], name='Wheat Yield (Kg/ha)'))\n",
    "fig.add_trace(go.Box(y=gujarat['WHEAT PRODUCTION (1000 tons)'], name='Wheat Production (1000 tons)'))\n",
    "fig.add_trace(go.Box(y=gujarat['WHEAT AREA (1000 ha)'], name='Wheat Area (1000 ha)'))\n",
    "\n",
    "\n",
    "fig.update_layout(title='Gujarat Wheat Metrics - Outlier Detection',\n",
    "                  yaxis_title='Values',\n",
    "                  boxmode='group',\n",
    "                  height = 600)\n",
    "\n",
    "fig.show()"
   ]
  },
  {
   "cell_type": "code",
   "execution_count": null,
   "id": "b24a385a",
   "metadata": {},
   "outputs": [],
   "source": [
    "fig = px.box(gujarat, y = 'WHEAT YIELD (Kg per ha)', title='Gujarat Wheat production vs year ')\n",
    "fig.update_layout(template='plotly_white',\n",
    "                  height = 600,\n",
    "                  width = 1000\n",
    "                 )\n",
    "fig.show()"
   ]
  },
  {
   "cell_type": "code",
   "execution_count": null,
   "id": "570e0641",
   "metadata": {},
   "outputs": [],
   "source": [
    "production_cols = [col for col in gujarat.columns if 'PRODUCTION' in col]\n",
    "production_data = gujarat[['year_to_decade'] + production_cols]"
   ]
  },
  {
   "cell_type": "code",
   "execution_count": 248,
   "id": "3783bc55",
   "metadata": {},
   "outputs": [
    {
     "name": "stderr",
     "output_type": "stream",
     "text": [
      "C:\\Users\\Kartik\\AppData\\Local\\Temp\\ipykernel_17092\\3298645166.py:5: SettingWithCopyWarning:\n",
      "\n",
      "\n",
      "A value is trying to be set on a copy of a slice from a DataFrame.\n",
      "Try using .loc[row_indexer,col_indexer] = value instead\n",
      "\n",
      "See the caveats in the documentation: https://pandas.pydata.org/pandas-docs/stable/user_guide/indexing.html#returning-a-view-versus-a-copy\n",
      "\n"
     ]
    }
   ],
   "source": [
    "bins = list(range(1966, 2021, 5))  \n",
    "\n",
    "labels = [f\"{bins[i]}-{bins[i+1]-1}\" for i in range(len(bins)-1)]\n",
    "\n",
    "gujarat['year_to_decade'] = pd.cut(gujarat['Year'], bins=bins, labels=labels, right=False)"
   ]
  },
  {
   "cell_type": "code",
   "execution_count": 252,
   "id": "ac038392",
   "metadata": {},
   "outputs": [
    {
     "data": {
      "application/vnd.plotly.v1+json": {
       "config": {
        "plotlyServerURL": "https://plot.ly"
       },
       "data": [
        {
         "coloraxis": "coloraxis",
         "hovertemplate": "Dist Name: %{x}<br>Crop: %{y}<br>Production (1000 tons): %{z}<extra></extra>",
         "name": "0",
         "type": "heatmap",
         "x": [
          "Ahmedabad",
          "Amreli",
          "Banaskantha",
          "Bharuch",
          "Bhavnagar",
          "Dangs",
          "Jamnagar",
          "Junagadh",
          "Kheda",
          "Kutch",
          "Mehsana",
          "Panchmahal",
          "Rajkot",
          "Sabarkantha",
          "Surat",
          "Surendranagar",
          "Vadodara / Baroda",
          "Valsad"
         ],
         "xaxis": "x",
         "y": [
          "GROUNDNUT PRODUCTION (1000 tons)",
          "LINSEED PRODUCTION (1000 tons)",
          "MAIZE PRODUCTION (1000 tons)",
          "MINOR PULSES PRODUCTION (1000 tons)",
          "OILSEEDS PRODUCTION (1000 tons)",
          "RAPESEED AND MUSTARD PRODUCTION (1000 tons)",
          "RICE PRODUCTION (1000 tons)",
          "SESAMUM PRODUCTION (1000 tons)",
          "SUGARCANE PRODUCTION (1000 tons)",
          "SUNFLOWER PRODUCTION (1000 tons)",
          "WHEAT PRODUCTION (1000 tons)"
         ],
         "yaxis": "y",
         "z": {
          "bdata": "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",
          "dtype": "f8",
          "shape": "11, 18"
         }
        }
       ],
       "layout": {
        "coloraxis": {
         "colorbar": {
          "title": {
           "text": "Production (1000 tons)"
          }
         },
         "colorscale": [
          [
           0,
           "#30123b"
          ],
          [
           0.07142857142857142,
           "#4145ab"
          ],
          [
           0.14285714285714285,
           "#4675ed"
          ],
          [
           0.21428571428571427,
           "#39a2fc"
          ],
          [
           0.2857142857142857,
           "#1bcfd4"
          ],
          [
           0.35714285714285715,
           "#24eca6"
          ],
          [
           0.42857142857142855,
           "#61fc6c"
          ],
          [
           0.5,
           "#a4fc3b"
          ],
          [
           0.5714285714285714,
           "#d1e834"
          ],
          [
           0.6428571428571429,
           "#f3c63a"
          ],
          [
           0.7142857142857143,
           "#fe9b2d"
          ],
          [
           0.7857142857142857,
           "#f36315"
          ],
          [
           0.8571428571428571,
           "#d93806"
          ],
          [
           0.9285714285714286,
           "#b11901"
          ],
          [
           1,
           "#7a0402"
          ]
         ]
        },
        "height": 500,
        "margin": {
         "t": 60
        },
        "template": {
         "data": {
          "bar": [
           {
            "error_x": {
             "color": "#2a3f5f"
            },
            "error_y": {
             "color": "#2a3f5f"
            },
            "marker": {
             "line": {
              "color": "#E5ECF6",
              "width": 0.5
             },
             "pattern": {
              "fillmode": "overlay",
              "size": 10,
              "solidity": 0.2
             }
            },
            "type": "bar"
           }
          ],
          "barpolar": [
           {
            "marker": {
             "line": {
              "color": "#E5ECF6",
              "width": 0.5
             },
             "pattern": {
              "fillmode": "overlay",
              "size": 10,
              "solidity": 0.2
             }
            },
            "type": "barpolar"
           }
          ],
          "carpet": [
           {
            "aaxis": {
             "endlinecolor": "#2a3f5f",
             "gridcolor": "white",
             "linecolor": "white",
             "minorgridcolor": "white",
             "startlinecolor": "#2a3f5f"
            },
            "baxis": {
             "endlinecolor": "#2a3f5f",
             "gridcolor": "white",
             "linecolor": "white",
             "minorgridcolor": "white",
             "startlinecolor": "#2a3f5f"
            },
            "type": "carpet"
           }
          ],
          "choropleth": [
           {
            "colorbar": {
             "outlinewidth": 0,
             "ticks": ""
            },
            "type": "choropleth"
           }
          ],
          "contour": [
           {
            "colorbar": {
             "outlinewidth": 0,
             "ticks": ""
            },
            "colorscale": [
             [
              0,
              "#0d0887"
             ],
             [
              0.1111111111111111,
              "#46039f"
             ],
             [
              0.2222222222222222,
              "#7201a8"
             ],
             [
              0.3333333333333333,
              "#9c179e"
             ],
             [
              0.4444444444444444,
              "#bd3786"
             ],
             [
              0.5555555555555556,
              "#d8576b"
             ],
             [
              0.6666666666666666,
              "#ed7953"
             ],
             [
              0.7777777777777778,
              "#fb9f3a"
             ],
             [
              0.8888888888888888,
              "#fdca26"
             ],
             [
              1,
              "#f0f921"
             ]
            ],
            "type": "contour"
           }
          ],
          "contourcarpet": [
           {
            "colorbar": {
             "outlinewidth": 0,
             "ticks": ""
            },
            "type": "contourcarpet"
           }
          ],
          "heatmap": [
           {
            "colorbar": {
             "outlinewidth": 0,
             "ticks": ""
            },
            "colorscale": [
             [
              0,
              "#0d0887"
             ],
             [
              0.1111111111111111,
              "#46039f"
             ],
             [
              0.2222222222222222,
              "#7201a8"
             ],
             [
              0.3333333333333333,
              "#9c179e"
             ],
             [
              0.4444444444444444,
              "#bd3786"
             ],
             [
              0.5555555555555556,
              "#d8576b"
             ],
             [
              0.6666666666666666,
              "#ed7953"
             ],
             [
              0.7777777777777778,
              "#fb9f3a"
             ],
             [
              0.8888888888888888,
              "#fdca26"
             ],
             [
              1,
              "#f0f921"
             ]
            ],
            "type": "heatmap"
           }
          ],
          "histogram": [
           {
            "marker": {
             "pattern": {
              "fillmode": "overlay",
              "size": 10,
              "solidity": 0.2
             }
            },
            "type": "histogram"
           }
          ],
          "histogram2d": [
           {
            "colorbar": {
             "outlinewidth": 0,
             "ticks": ""
            },
            "colorscale": [
             [
              0,
              "#0d0887"
             ],
             [
              0.1111111111111111,
              "#46039f"
             ],
             [
              0.2222222222222222,
              "#7201a8"
             ],
             [
              0.3333333333333333,
              "#9c179e"
             ],
             [
              0.4444444444444444,
              "#bd3786"
             ],
             [
              0.5555555555555556,
              "#d8576b"
             ],
             [
              0.6666666666666666,
              "#ed7953"
             ],
             [
              0.7777777777777778,
              "#fb9f3a"
             ],
             [
              0.8888888888888888,
              "#fdca26"
             ],
             [
              1,
              "#f0f921"
             ]
            ],
            "type": "histogram2d"
           }
          ],
          "histogram2dcontour": [
           {
            "colorbar": {
             "outlinewidth": 0,
             "ticks": ""
            },
            "colorscale": [
             [
              0,
              "#0d0887"
             ],
             [
              0.1111111111111111,
              "#46039f"
             ],
             [
              0.2222222222222222,
              "#7201a8"
             ],
             [
              0.3333333333333333,
              "#9c179e"
             ],
             [
              0.4444444444444444,
              "#bd3786"
             ],
             [
              0.5555555555555556,
              "#d8576b"
             ],
             [
              0.6666666666666666,
              "#ed7953"
             ],
             [
              0.7777777777777778,
              "#fb9f3a"
             ],
             [
              0.8888888888888888,
              "#fdca26"
             ],
             [
              1,
              "#f0f921"
             ]
            ],
            "type": "histogram2dcontour"
           }
          ],
          "mesh3d": [
           {
            "colorbar": {
             "outlinewidth": 0,
             "ticks": ""
            },
            "type": "mesh3d"
           }
          ],
          "parcoords": [
           {
            "line": {
             "colorbar": {
              "outlinewidth": 0,
              "ticks": ""
             }
            },
            "type": "parcoords"
           }
          ],
          "pie": [
           {
            "automargin": true,
            "type": "pie"
           }
          ],
          "scatter": [
           {
            "fillpattern": {
             "fillmode": "overlay",
             "size": 10,
             "solidity": 0.2
            },
            "type": "scatter"
           }
          ],
          "scatter3d": [
           {
            "line": {
             "colorbar": {
              "outlinewidth": 0,
              "ticks": ""
             }
            },
            "marker": {
             "colorbar": {
              "outlinewidth": 0,
              "ticks": ""
             }
            },
            "type": "scatter3d"
           }
          ],
          "scattercarpet": [
           {
            "marker": {
             "colorbar": {
              "outlinewidth": 0,
              "ticks": ""
             }
            },
            "type": "scattercarpet"
           }
          ],
          "scattergeo": [
           {
            "marker": {
             "colorbar": {
              "outlinewidth": 0,
              "ticks": ""
             }
            },
            "type": "scattergeo"
           }
          ],
          "scattergl": [
           {
            "marker": {
             "colorbar": {
              "outlinewidth": 0,
              "ticks": ""
             }
            },
            "type": "scattergl"
           }
          ],
          "scattermap": [
           {
            "marker": {
             "colorbar": {
              "outlinewidth": 0,
              "ticks": ""
             }
            },
            "type": "scattermap"
           }
          ],
          "scattermapbox": [
           {
            "marker": {
             "colorbar": {
              "outlinewidth": 0,
              "ticks": ""
             }
            },
            "type": "scattermapbox"
           }
          ],
          "scatterpolar": [
           {
            "marker": {
             "colorbar": {
              "outlinewidth": 0,
              "ticks": ""
             }
            },
            "type": "scatterpolar"
           }
          ],
          "scatterpolargl": [
           {
            "marker": {
             "colorbar": {
              "outlinewidth": 0,
              "ticks": ""
             }
            },
            "type": "scatterpolargl"
           }
          ],
          "scatterternary": [
           {
            "marker": {
             "colorbar": {
              "outlinewidth": 0,
              "ticks": ""
             }
            },
            "type": "scatterternary"
           }
          ],
          "surface": [
           {
            "colorbar": {
             "outlinewidth": 0,
             "ticks": ""
            },
            "colorscale": [
             [
              0,
              "#0d0887"
             ],
             [
              0.1111111111111111,
              "#46039f"
             ],
             [
              0.2222222222222222,
              "#7201a8"
             ],
             [
              0.3333333333333333,
              "#9c179e"
             ],
             [
              0.4444444444444444,
              "#bd3786"
             ],
             [
              0.5555555555555556,
              "#d8576b"
             ],
             [
              0.6666666666666666,
              "#ed7953"
             ],
             [
              0.7777777777777778,
              "#fb9f3a"
             ],
             [
              0.8888888888888888,
              "#fdca26"
             ],
             [
              1,
              "#f0f921"
             ]
            ],
            "type": "surface"
           }
          ],
          "table": [
           {
            "cells": {
             "fill": {
              "color": "#EBF0F8"
             },
             "line": {
              "color": "white"
             }
            },
            "header": {
             "fill": {
              "color": "#C8D4E3"
             },
             "line": {
              "color": "white"
             }
            },
            "type": "table"
           }
          ]
         },
         "layout": {
          "annotationdefaults": {
           "arrowcolor": "#2a3f5f",
           "arrowhead": 0,
           "arrowwidth": 1
          },
          "autotypenumbers": "strict",
          "coloraxis": {
           "colorbar": {
            "outlinewidth": 0,
            "ticks": ""
           }
          },
          "colorscale": {
           "diverging": [
            [
             0,
             "#8e0152"
            ],
            [
             0.1,
             "#c51b7d"
            ],
            [
             0.2,
             "#de77ae"
            ],
            [
             0.3,
             "#f1b6da"
            ],
            [
             0.4,
             "#fde0ef"
            ],
            [
             0.5,
             "#f7f7f7"
            ],
            [
             0.6,
             "#e6f5d0"
            ],
            [
             0.7,
             "#b8e186"
            ],
            [
             0.8,
             "#7fbc41"
            ],
            [
             0.9,
             "#4d9221"
            ],
            [
             1,
             "#276419"
            ]
           ],
           "sequential": [
            [
             0,
             "#0d0887"
            ],
            [
             0.1111111111111111,
             "#46039f"
            ],
            [
             0.2222222222222222,
             "#7201a8"
            ],
            [
             0.3333333333333333,
             "#9c179e"
            ],
            [
             0.4444444444444444,
             "#bd3786"
            ],
            [
             0.5555555555555556,
             "#d8576b"
            ],
            [
             0.6666666666666666,
             "#ed7953"
            ],
            [
             0.7777777777777778,
             "#fb9f3a"
            ],
            [
             0.8888888888888888,
             "#fdca26"
            ],
            [
             1,
             "#f0f921"
            ]
           ],
           "sequentialminus": [
            [
             0,
             "#0d0887"
            ],
            [
             0.1111111111111111,
             "#46039f"
            ],
            [
             0.2222222222222222,
             "#7201a8"
            ],
            [
             0.3333333333333333,
             "#9c179e"
            ],
            [
             0.4444444444444444,
             "#bd3786"
            ],
            [
             0.5555555555555556,
             "#d8576b"
            ],
            [
             0.6666666666666666,
             "#ed7953"
            ],
            [
             0.7777777777777778,
             "#fb9f3a"
            ],
            [
             0.8888888888888888,
             "#fdca26"
            ],
            [
             1,
             "#f0f921"
            ]
           ]
          },
          "colorway": [
           "#636efa",
           "#EF553B",
           "#00cc96",
           "#ab63fa",
           "#FFA15A",
           "#19d3f3",
           "#FF6692",
           "#B6E880",
           "#FF97FF",
           "#FECB52"
          ],
          "font": {
           "color": "#2a3f5f"
          },
          "geo": {
           "bgcolor": "white",
           "lakecolor": "white",
           "landcolor": "#E5ECF6",
           "showlakes": true,
           "showland": true,
           "subunitcolor": "white"
          },
          "hoverlabel": {
           "align": "left"
          },
          "hovermode": "closest",
          "mapbox": {
           "style": "light"
          },
          "paper_bgcolor": "white",
          "plot_bgcolor": "#E5ECF6",
          "polar": {
           "angularaxis": {
            "gridcolor": "white",
            "linecolor": "white",
            "ticks": ""
           },
           "bgcolor": "#E5ECF6",
           "radialaxis": {
            "gridcolor": "white",
            "linecolor": "white",
            "ticks": ""
           }
          },
          "scene": {
           "xaxis": {
            "backgroundcolor": "#E5ECF6",
            "gridcolor": "white",
            "gridwidth": 2,
            "linecolor": "white",
            "showbackground": true,
            "ticks": "",
            "zerolinecolor": "white"
           },
           "yaxis": {
            "backgroundcolor": "#E5ECF6",
            "gridcolor": "white",
            "gridwidth": 2,
            "linecolor": "white",
            "showbackground": true,
            "ticks": "",
            "zerolinecolor": "white"
           },
           "zaxis": {
            "backgroundcolor": "#E5ECF6",
            "gridcolor": "white",
            "gridwidth": 2,
            "linecolor": "white",
            "showbackground": true,
            "ticks": "",
            "zerolinecolor": "white"
           }
          },
          "shapedefaults": {
           "line": {
            "color": "#2a3f5f"
           }
          },
          "ternary": {
           "aaxis": {
            "gridcolor": "white",
            "linecolor": "white",
            "ticks": ""
           },
           "baxis": {
            "gridcolor": "white",
            "linecolor": "white",
            "ticks": ""
           },
           "bgcolor": "#E5ECF6",
           "caxis": {
            "gridcolor": "white",
            "linecolor": "white",
            "ticks": ""
           }
          },
          "title": {
           "x": 0.05
          },
          "xaxis": {
           "automargin": true,
           "gridcolor": "white",
           "linecolor": "white",
           "ticks": "",
           "title": {
            "standoff": 15
           },
           "zerolinecolor": "white",
           "zerolinewidth": 2
          },
          "yaxis": {
           "automargin": true,
           "gridcolor": "white",
           "linecolor": "white",
           "ticks": "",
           "title": {
            "standoff": 15
           },
           "zerolinecolor": "white",
           "zerolinewidth": 2
          }
         }
        },
        "title": {
         "text": "Crop Production (1000 tons) per District (last 5 years)"
        },
        "xaxis": {
         "anchor": "y",
         "domain": [
          0,
          1
         ],
         "nticks": 20,
         "title": {
          "text": "Dist Name"
         }
        },
        "yaxis": {
         "anchor": "x",
         "autorange": "reversed",
         "domain": [
          0,
          1
         ],
         "title": {
          "text": "Crop"
         }
        }
       }
      }
     },
     "metadata": {},
     "output_type": "display_data"
    }
   ],
   "source": [
    "last_5_year = gujarat[gujarat['year_to_decade'] == '2011-2015']  ######### for last 5 year\n",
    "\n",
    "\n",
    "production_cols = [col for col in last_5_year.columns if 'PRODUCTION' in col]\n",
    "production_data = last_5_year[['Dist Name'] + production_cols]\n",
    "\n",
    "grouped_data = production_data.groupby('Dist Name',observed=True, as_index=False).sum()\n",
    "\n",
    "heatmap_data = grouped_data.melt(id_vars='Dist Name', \n",
    "                                 var_name='Crop', \n",
    "                                 value_name='Production (1000 tons)')\n",
    "\n",
    "heatmap_matrix = heatmap_data.pivot(index='Crop', columns='Dist Name', values='Production (1000 tons)')\n",
    "\n",
    "fig = px.imshow(\n",
    "    heatmap_matrix,\n",
    "    labels=dict(x=\"Dist Name\", y=\"Crop\", color=\"Production (1000 tons)\"),\n",
    "    color_continuous_scale='Turbo',\n",
    "    aspect=\"auto\"\n",
    ")\n",
    "\n",
    "fig.update_layout(\n",
    "    title='Crop Production (1000 tons) per District (last 5 years)',\n",
    "    height=500,\n",
    "    xaxis_nticks=20\n",
    ")\n",
    "\n",
    "fig.show()"
   ]
  },
  {
   "cell_type": "code",
   "execution_count": 274,
   "id": "b880e5a9",
   "metadata": {},
   "outputs": [
    {
     "data": {
      "application/vnd.plotly.v1+json": {
       "config": {
        "plotlyServerURL": "https://plot.ly"
       },
       "data": [
        {
         "hovertemplate": "Crop=WHEAT PRODUCTION (1000 tons)<br>Year=%{x}<br>Production (1000 tones)=%{y}<extra></extra>",
         "legendgroup": "WHEAT PRODUCTION (1000 tons)",
         "line": {
          "color": "#636efa",
          "dash": "solid"
         },
         "marker": {
          "symbol": "circle"
         },
         "mode": "lines+markers",
         "name": "WHEAT PRODUCTION (1000 tons)",
         "orientation": "v",
         "showlegend": true,
         "type": "scatter",
         "x": {
          "bdata": "rgevB7AHsQeyB7MHtAe1B7YHtwe4B7kHuge7B7wHvQe+B78HwAfBB8IHwwfEB8UHxgfHB8gHyQfKB8sHzAfNB84HzwfQB9EH0gfTB9QH1QfWB9cH2AfZB9oH2wfcB90H3gffB+AH4Qc=",
          "dtype": "i2"
         },
         "xaxis": "x",
         "y": {
          "bdata": "AAAAAAAAOUAAAAAAAABNQAAAAAAAAEtAAAAAAADASECamZmZmdlUQJqZmZmZmVJAzczMzMwMQ0BmZmZmZuZFQDMzMzMzszhAmpmZmZnZR0CamZmZmRlLQGZmZmZmZlFAZmZmZmamT0AzMzMzM/NZQM3MzMzMDF1AmpmZmZn5Y0AzMzMzMzNpQAAAAAAAcGNAAAAAAADQYEAAAAAAAMBTQGZmZmZmBlNAMzMzMzMzF0DNzMzMzBxlQM3MzMzM7GJAmpmZmZm5YUAAAAAAAKBYQJqZmZmZeWVAMzMzMzMzV0AAAAAAAOBsQDMzMzMzc2NAzczMzMzcZkCamZmZmblkQM3MzMzMvGRAzczMzMzMTEAAAAAAAAA7QM3MzMzMbGNAmpmZmZkZSkBmZmZmZrZ1QM3MzMzMvHZAMzMzMzPjekAzMzMzM3uBQGZmZmZmBolAmpmZmZm1gUCamZmZmSl6QM3MzMzM6I9AzczMzMyUhECamZmZmQlgQDMzMzMz4Y9AUrgehevHhkAAAAAAALBTQK5H4XoUSnpAXI/C9ShUd0A=",
          "dtype": "f8"
         },
         "yaxis": "y"
        },
        {
         "hovertemplate": "Crop=GROUNDNUT PRODUCTION (1000 tons)<br>Year=%{x}<br>Production (1000 tones)=%{y}<extra></extra>",
         "legendgroup": "GROUNDNUT PRODUCTION (1000 tons)",
         "line": {
          "color": "#EF553B",
          "dash": "solid"
         },
         "marker": {
          "symbol": "circle"
         },
         "mode": "lines+markers",
         "name": "GROUNDNUT PRODUCTION (1000 tons)",
         "orientation": "v",
         "showlegend": true,
         "type": "scatter",
         "x": {
          "bdata": "rgevB7AHsQeyB7MHtAe1B7YHtwe4B7kHuge7B7wHvQe+B78HwAfBB8IHwwfEB8UHxgfHB8gHyQfKB8sHzAfNB84HzwfQB9EH0gfTB9QH1QfWB9cH2AfZB9oH2wfcB90H3gffB+AH4Qc=",
          "dtype": "i2"
         },
         "xaxis": "x",
         "y": {
          "bdata": "AAAAAADAa0AAAAAAALB0QAAAAAAAsHJAAAAAAACQcUDNzMzMzPR9QDMzMzMzc35AAAAAAACgWECamZmZmel7QAAAAAAAoGJAzczMzMyMgUBmZmZmZgqBQGZmZmZmvn9AAAAAAAAwgUAAAAAAALB/QJqZmZmZEXxAMzMzMzNHgkDNzMzMzER5QGZmZmZmVoJAmpmZmZlNgEBmZmZmZtZhQAAAAAAA2IBAAAAAAAAANEDNzMzMzHiDQJqZmZmZcYJAZmZmZmYGd0CamZmZmWltQJqZmZmZoX1AAAAAAACQYUAAAAAAADiDQM3MzMzMFHdAZmZmZmaShUAzMzMzM2OIQGZmZmZm+olAzczMzMzccUBmZmZmZmZ8QAAAAAAAjIdAAAAAAABwe0DNzMzMzFKWQJqZmZmZjYVAmpmZmZlnkEAAAAAAAJyCQJqZmZmZYYtAZmZmZmb2j0DNzMzMzPSAQJqZmZmZGZBAzczMzMwkjEBmZmZmZlZmQD0K16NwYJpAw/UoXI/RkECamZmZmXl6QDMzMzMzd41AUrgeheuLjUA=",
          "dtype": "f8"
         },
         "yaxis": "y"
        },
        {
         "hovertemplate": "Crop=SESAMUM PRODUCTION (1000 tons)<br>Year=%{x}<br>Production (1000 tones)=%{y}<extra></extra>",
         "legendgroup": "SESAMUM PRODUCTION (1000 tons)",
         "line": {
          "color": "#00cc96",
          "dash": "solid"
         },
         "marker": {
          "symbol": "circle"
         },
         "mode": "lines+markers",
         "name": "SESAMUM PRODUCTION (1000 tons)",
         "orientation": "v",
         "showlegend": true,
         "type": "scatter",
         "x": {
          "bdata": "rgevB7AHsQeyB7MHtAe1B7YHtwe4B7kHuge7B7wHvQe+B78HwAfBB8IHwwfEB8UHxgfHB8gHyQfKB8sHzAfNB84HzwfQB9EH0gfTB9QH1QfWB9cH2AfZB9oH2wfcB90H3gffB+AH4Qc=",
          "dtype": "i2"
         },
         "xaxis": "x",
         "y": {
          "bdata": "AAAAAAAA8D/NzMzMzMzsP5qZmZmZmdk/AAAAAAAA4D9mZmZmZmbmP5qZmZmZmdk/mpmZmZmZyT+amZmZmZnZP5qZmZmZmck/zczMzMzM7D8zMzMzMzPjPzMzMzMzM+M/mpmZmZmZ2T+amZmZmZnZPzMzMzMzM9M/AAAAAAAA4D+amZmZmZnZP5qZmZmZmdk/mpmZmZmZ6T8zMzMzMzPTP5qZmZmZmck/AAAAAAAA4D/NzMzMzMz8P2ZmZmZmZuY/mpmZmZmZFUBmZmZmZmYUQJqZmZmZmSRAmpmZmZmZ+T8AAAAAAAAiQGZmZmZmZhJAZmZmZmZmGEAzMzMzMzMgQJqZmZmZmRtAMzMzMzMz+z+amZmZmZkjQDMzMzMzMyBAmpmZmZmZAUAAAAAAAAAYQJqZmZmZmQVAzczMzMzM/D+amZmZmZnpPwAAAAAAAPA/mpmZmZmZ6T8AAAAAAAAAAM3MzMzMzDVAZmZmZmZmL0CamZmZmZksQIXrUbgeRTNAhetRuB4FKEBmZmZmZmbmP+F6FK5H4RdA7FG4HoXrH0A=",
          "dtype": "f8"
         },
         "yaxis": "y"
        }
       ],
       "layout": {
        "height": 600,
        "legend": {
         "title": {
          "text": "Crop"
         },
         "tracegroupgap": 0
        },
        "template": {
         "data": {
          "bar": [
           {
            "error_x": {
             "color": "#2a3f5f"
            },
            "error_y": {
             "color": "#2a3f5f"
            },
            "marker": {
             "line": {
              "color": "#E5ECF6",
              "width": 0.5
             },
             "pattern": {
              "fillmode": "overlay",
              "size": 10,
              "solidity": 0.2
             }
            },
            "type": "bar"
           }
          ],
          "barpolar": [
           {
            "marker": {
             "line": {
              "color": "#E5ECF6",
              "width": 0.5
             },
             "pattern": {
              "fillmode": "overlay",
              "size": 10,
              "solidity": 0.2
             }
            },
            "type": "barpolar"
           }
          ],
          "carpet": [
           {
            "aaxis": {
             "endlinecolor": "#2a3f5f",
             "gridcolor": "white",
             "linecolor": "white",
             "minorgridcolor": "white",
             "startlinecolor": "#2a3f5f"
            },
            "baxis": {
             "endlinecolor": "#2a3f5f",
             "gridcolor": "white",
             "linecolor": "white",
             "minorgridcolor": "white",
             "startlinecolor": "#2a3f5f"
            },
            "type": "carpet"
           }
          ],
          "choropleth": [
           {
            "colorbar": {
             "outlinewidth": 0,
             "ticks": ""
            },
            "type": "choropleth"
           }
          ],
          "contour": [
           {
            "colorbar": {
             "outlinewidth": 0,
             "ticks": ""
            },
            "colorscale": [
             [
              0,
              "#0d0887"
             ],
             [
              0.1111111111111111,
              "#46039f"
             ],
             [
              0.2222222222222222,
              "#7201a8"
             ],
             [
              0.3333333333333333,
              "#9c179e"
             ],
             [
              0.4444444444444444,
              "#bd3786"
             ],
             [
              0.5555555555555556,
              "#d8576b"
             ],
             [
              0.6666666666666666,
              "#ed7953"
             ],
             [
              0.7777777777777778,
              "#fb9f3a"
             ],
             [
              0.8888888888888888,
              "#fdca26"
             ],
             [
              1,
              "#f0f921"
             ]
            ],
            "type": "contour"
           }
          ],
          "contourcarpet": [
           {
            "colorbar": {
             "outlinewidth": 0,
             "ticks": ""
            },
            "type": "contourcarpet"
           }
          ],
          "heatmap": [
           {
            "colorbar": {
             "outlinewidth": 0,
             "ticks": ""
            },
            "colorscale": [
             [
              0,
              "#0d0887"
             ],
             [
              0.1111111111111111,
              "#46039f"
             ],
             [
              0.2222222222222222,
              "#7201a8"
             ],
             [
              0.3333333333333333,
              "#9c179e"
             ],
             [
              0.4444444444444444,
              "#bd3786"
             ],
             [
              0.5555555555555556,
              "#d8576b"
             ],
             [
              0.6666666666666666,
              "#ed7953"
             ],
             [
              0.7777777777777778,
              "#fb9f3a"
             ],
             [
              0.8888888888888888,
              "#fdca26"
             ],
             [
              1,
              "#f0f921"
             ]
            ],
            "type": "heatmap"
           }
          ],
          "histogram": [
           {
            "marker": {
             "pattern": {
              "fillmode": "overlay",
              "size": 10,
              "solidity": 0.2
             }
            },
            "type": "histogram"
           }
          ],
          "histogram2d": [
           {
            "colorbar": {
             "outlinewidth": 0,
             "ticks": ""
            },
            "colorscale": [
             [
              0,
              "#0d0887"
             ],
             [
              0.1111111111111111,
              "#46039f"
             ],
             [
              0.2222222222222222,
              "#7201a8"
             ],
             [
              0.3333333333333333,
              "#9c179e"
             ],
             [
              0.4444444444444444,
              "#bd3786"
             ],
             [
              0.5555555555555556,
              "#d8576b"
             ],
             [
              0.6666666666666666,
              "#ed7953"
             ],
             [
              0.7777777777777778,
              "#fb9f3a"
             ],
             [
              0.8888888888888888,
              "#fdca26"
             ],
             [
              1,
              "#f0f921"
             ]
            ],
            "type": "histogram2d"
           }
          ],
          "histogram2dcontour": [
           {
            "colorbar": {
             "outlinewidth": 0,
             "ticks": ""
            },
            "colorscale": [
             [
              0,
              "#0d0887"
             ],
             [
              0.1111111111111111,
              "#46039f"
             ],
             [
              0.2222222222222222,
              "#7201a8"
             ],
             [
              0.3333333333333333,
              "#9c179e"
             ],
             [
              0.4444444444444444,
              "#bd3786"
             ],
             [
              0.5555555555555556,
              "#d8576b"
             ],
             [
              0.6666666666666666,
              "#ed7953"
             ],
             [
              0.7777777777777778,
              "#fb9f3a"
             ],
             [
              0.8888888888888888,
              "#fdca26"
             ],
             [
              1,
              "#f0f921"
             ]
            ],
            "type": "histogram2dcontour"
           }
          ],
          "mesh3d": [
           {
            "colorbar": {
             "outlinewidth": 0,
             "ticks": ""
            },
            "type": "mesh3d"
           }
          ],
          "parcoords": [
           {
            "line": {
             "colorbar": {
              "outlinewidth": 0,
              "ticks": ""
             }
            },
            "type": "parcoords"
           }
          ],
          "pie": [
           {
            "automargin": true,
            "type": "pie"
           }
          ],
          "scatter": [
           {
            "fillpattern": {
             "fillmode": "overlay",
             "size": 10,
             "solidity": 0.2
            },
            "type": "scatter"
           }
          ],
          "scatter3d": [
           {
            "line": {
             "colorbar": {
              "outlinewidth": 0,
              "ticks": ""
             }
            },
            "marker": {
             "colorbar": {
              "outlinewidth": 0,
              "ticks": ""
             }
            },
            "type": "scatter3d"
           }
          ],
          "scattercarpet": [
           {
            "marker": {
             "colorbar": {
              "outlinewidth": 0,
              "ticks": ""
             }
            },
            "type": "scattercarpet"
           }
          ],
          "scattergeo": [
           {
            "marker": {
             "colorbar": {
              "outlinewidth": 0,
              "ticks": ""
             }
            },
            "type": "scattergeo"
           }
          ],
          "scattergl": [
           {
            "marker": {
             "colorbar": {
              "outlinewidth": 0,
              "ticks": ""
             }
            },
            "type": "scattergl"
           }
          ],
          "scattermap": [
           {
            "marker": {
             "colorbar": {
              "outlinewidth": 0,
              "ticks": ""
             }
            },
            "type": "scattermap"
           }
          ],
          "scattermapbox": [
           {
            "marker": {
             "colorbar": {
              "outlinewidth": 0,
              "ticks": ""
             }
            },
            "type": "scattermapbox"
           }
          ],
          "scatterpolar": [
           {
            "marker": {
             "colorbar": {
              "outlinewidth": 0,
              "ticks": ""
             }
            },
            "type": "scatterpolar"
           }
          ],
          "scatterpolargl": [
           {
            "marker": {
             "colorbar": {
              "outlinewidth": 0,
              "ticks": ""
             }
            },
            "type": "scatterpolargl"
           }
          ],
          "scatterternary": [
           {
            "marker": {
             "colorbar": {
              "outlinewidth": 0,
              "ticks": ""
             }
            },
            "type": "scatterternary"
           }
          ],
          "surface": [
           {
            "colorbar": {
             "outlinewidth": 0,
             "ticks": ""
            },
            "colorscale": [
             [
              0,
              "#0d0887"
             ],
             [
              0.1111111111111111,
              "#46039f"
             ],
             [
              0.2222222222222222,
              "#7201a8"
             ],
             [
              0.3333333333333333,
              "#9c179e"
             ],
             [
              0.4444444444444444,
              "#bd3786"
             ],
             [
              0.5555555555555556,
              "#d8576b"
             ],
             [
              0.6666666666666666,
              "#ed7953"
             ],
             [
              0.7777777777777778,
              "#fb9f3a"
             ],
             [
              0.8888888888888888,
              "#fdca26"
             ],
             [
              1,
              "#f0f921"
             ]
            ],
            "type": "surface"
           }
          ],
          "table": [
           {
            "cells": {
             "fill": {
              "color": "#EBF0F8"
             },
             "line": {
              "color": "white"
             }
            },
            "header": {
             "fill": {
              "color": "#C8D4E3"
             },
             "line": {
              "color": "white"
             }
            },
            "type": "table"
           }
          ]
         },
         "layout": {
          "annotationdefaults": {
           "arrowcolor": "#2a3f5f",
           "arrowhead": 0,
           "arrowwidth": 1
          },
          "autotypenumbers": "strict",
          "coloraxis": {
           "colorbar": {
            "outlinewidth": 0,
            "ticks": ""
           }
          },
          "colorscale": {
           "diverging": [
            [
             0,
             "#8e0152"
            ],
            [
             0.1,
             "#c51b7d"
            ],
            [
             0.2,
             "#de77ae"
            ],
            [
             0.3,
             "#f1b6da"
            ],
            [
             0.4,
             "#fde0ef"
            ],
            [
             0.5,
             "#f7f7f7"
            ],
            [
             0.6,
             "#e6f5d0"
            ],
            [
             0.7,
             "#b8e186"
            ],
            [
             0.8,
             "#7fbc41"
            ],
            [
             0.9,
             "#4d9221"
            ],
            [
             1,
             "#276419"
            ]
           ],
           "sequential": [
            [
             0,
             "#0d0887"
            ],
            [
             0.1111111111111111,
             "#46039f"
            ],
            [
             0.2222222222222222,
             "#7201a8"
            ],
            [
             0.3333333333333333,
             "#9c179e"
            ],
            [
             0.4444444444444444,
             "#bd3786"
            ],
            [
             0.5555555555555556,
             "#d8576b"
            ],
            [
             0.6666666666666666,
             "#ed7953"
            ],
            [
             0.7777777777777778,
             "#fb9f3a"
            ],
            [
             0.8888888888888888,
             "#fdca26"
            ],
            [
             1,
             "#f0f921"
            ]
           ],
           "sequentialminus": [
            [
             0,
             "#0d0887"
            ],
            [
             0.1111111111111111,
             "#46039f"
            ],
            [
             0.2222222222222222,
             "#7201a8"
            ],
            [
             0.3333333333333333,
             "#9c179e"
            ],
            [
             0.4444444444444444,
             "#bd3786"
            ],
            [
             0.5555555555555556,
             "#d8576b"
            ],
            [
             0.6666666666666666,
             "#ed7953"
            ],
            [
             0.7777777777777778,
             "#fb9f3a"
            ],
            [
             0.8888888888888888,
             "#fdca26"
            ],
            [
             1,
             "#f0f921"
            ]
           ]
          },
          "colorway": [
           "#636efa",
           "#EF553B",
           "#00cc96",
           "#ab63fa",
           "#FFA15A",
           "#19d3f3",
           "#FF6692",
           "#B6E880",
           "#FF97FF",
           "#FECB52"
          ],
          "font": {
           "color": "#2a3f5f"
          },
          "geo": {
           "bgcolor": "white",
           "lakecolor": "white",
           "landcolor": "#E5ECF6",
           "showlakes": true,
           "showland": true,
           "subunitcolor": "white"
          },
          "hoverlabel": {
           "align": "left"
          },
          "hovermode": "closest",
          "mapbox": {
           "style": "light"
          },
          "paper_bgcolor": "white",
          "plot_bgcolor": "#E5ECF6",
          "polar": {
           "angularaxis": {
            "gridcolor": "white",
            "linecolor": "white",
            "ticks": ""
           },
           "bgcolor": "#E5ECF6",
           "radialaxis": {
            "gridcolor": "white",
            "linecolor": "white",
            "ticks": ""
           }
          },
          "scene": {
           "xaxis": {
            "backgroundcolor": "#E5ECF6",
            "gridcolor": "white",
            "gridwidth": 2,
            "linecolor": "white",
            "showbackground": true,
            "ticks": "",
            "zerolinecolor": "white"
           },
           "yaxis": {
            "backgroundcolor": "#E5ECF6",
            "gridcolor": "white",
            "gridwidth": 2,
            "linecolor": "white",
            "showbackground": true,
            "ticks": "",
            "zerolinecolor": "white"
           },
           "zaxis": {
            "backgroundcolor": "#E5ECF6",
            "gridcolor": "white",
            "gridwidth": 2,
            "linecolor": "white",
            "showbackground": true,
            "ticks": "",
            "zerolinecolor": "white"
           }
          },
          "shapedefaults": {
           "line": {
            "color": "#2a3f5f"
           }
          },
          "ternary": {
           "aaxis": {
            "gridcolor": "white",
            "linecolor": "white",
            "ticks": ""
           },
           "baxis": {
            "gridcolor": "white",
            "linecolor": "white",
            "ticks": ""
           },
           "bgcolor": "#E5ECF6",
           "caxis": {
            "gridcolor": "white",
            "linecolor": "white",
            "ticks": ""
           }
          },
          "title": {
           "x": 0.05
          },
          "xaxis": {
           "automargin": true,
           "gridcolor": "white",
           "linecolor": "white",
           "ticks": "",
           "title": {
            "standoff": 15
           },
           "zerolinecolor": "white",
           "zerolinewidth": 2
          },
          "yaxis": {
           "automargin": true,
           "gridcolor": "white",
           "linecolor": "white",
           "ticks": "",
           "title": {
            "standoff": 15
           },
           "zerolinecolor": "white",
           "zerolinewidth": 2
          }
         }
        },
        "title": {
         "text": "Crop Production per Hectare in Junagadh Over the Years"
        },
        "xaxis": {
         "anchor": "y",
         "domain": [
          0,
          1
         ],
         "title": {
          "text": "Year"
         }
        },
        "yaxis": {
         "anchor": "x",
         "domain": [
          0,
          1
         ],
         "title": {
          "text": "Production (1000 tones)"
         }
        }
       }
      }
     },
     "metadata": {},
     "output_type": "display_data"
    }
   ],
   "source": [
    "junagadh_data = gujarat[gujarat['Dist Name'] == 'Junagadh']\n",
    "\n",
    "\n",
    "crop_cols = [\n",
    "    'WHEAT PRODUCTION (1000 tons)', \n",
    "    'GROUNDNUT PRODUCTION (1000 tons)', \n",
    "    'SESAMUM PRODUCTION (1000 tons)',\n",
    "    \n",
    "\n",
    "]\n",
    "\n",
    "\n",
    "line_data = junagadh_data[['Year'] + crop_cols].melt(\n",
    "    id_vars='Year',\n",
    "    var_name='Crop',\n",
    "    value_name='Production (1000 tones)'\n",
    ")\n",
    "\n",
    "fig = px.line(\n",
    "    line_data,\n",
    "    x='Year',\n",
    "    y='Production (1000 tones)',\n",
    "    color='Crop',\n",
    "    markers=True,\n",
    "    title='Crop Production per Hectare in Junagadh Over the Years'\n",
    ")\n",
    "\n",
    "fig.update_layout(\n",
    "    xaxis_title='Year',\n",
    "    yaxis_title='Production (1000 tones)',\n",
    "    height=600\n",
    ")\n",
    "\n",
    "fig.show()\n"
   ]
  },
  {
   "cell_type": "code",
   "execution_count": 272,
   "id": "f0ef6f0f",
   "metadata": {},
   "outputs": [
    {
     "data": {
      "application/vnd.plotly.v1+json": {
       "config": {
        "plotlyServerURL": "https://plot.ly"
       },
       "data": [
        {
         "hovertemplate": "Crop=WHEAT PRODUCTION (1000 tons)<br>Year=%{x}<br>Production (1000 tones)=%{y}<extra></extra>",
         "legendgroup": "WHEAT PRODUCTION (1000 tons)",
         "line": {
          "color": "#DAA520",
          "dash": "solid"
         },
         "marker": {
          "symbol": "circle"
         },
         "mode": "lines+markers",
         "name": "WHEAT PRODUCTION (1000 tons)",
         "orientation": "v",
         "showlegend": true,
         "type": "scatter",
         "x": {
          "bdata": "rgevB7AHsQeyB7MHtAe1B7YHtwe4B7kHuge7B7wHvQe+B78HwAfBB8IHwwfEB8UHxgfHB8gHyQfKB8sHzAfNB84HzwfQB9EH0gfTB9QH1QfWB9cH2AfZB9oH2wfcB90H3gffB+AH4Qc=",
          "dtype": "i2"
         },
         "xaxis": "x",
         "y": {
          "bdata": "AAAAAAAAIkAAAAAAAAAmQAAAAAAAACpAAAAAAAAAK0BmZmZmZmYtQDMzMzMzMy5AmpmZmZmZLUAzMzMzM7M1QJqZmZmZmTJAAAAAAACAM0AAAAAAAAAvQM3MzMzMzDRAAAAAAAAAPUDNzMzMzEw6QJqZmZmZGUxAZmZmZmZmPUAzMzMzM7M4QDMzMzMzsz9AmpmZmZmZOkDNzMzMzEwyQAAAAAAAADVAAAAAAAAAHEAAAAAAAAAnQGZmZmZmZilAmpmZmZmZKkAAAAAAAIAxQAAAAAAAACdAzczMzMzMMkAAAAAAAAAuQGZmZmZmZiRAmpmZmZmZLECamZmZmZkiQDMzMzMzMy9AzczMzMzMLkCamZmZmZkzQGZmZmZmZitAzczMzMzMMUAAAAAAAAAvQJqZmZmZmSpAzczMzMxMMEAzMzMzMzMxQGZmZmZm5jJAmpmZmZkZOkBmZmZmZmZBQDMzMzMzM0JAAAAAAADAQkBmZmZmZuZCQClcj8L1aDtAmpmZmZlZRUDNzMzMzMwvQPYoXI/CdTZAzczMzMzMNEA=",
          "dtype": "f8"
         },
         "yaxis": "y"
        },
        {
         "hovertemplate": "Crop=RICE PRODUCTION (1000 tons)<br>Year=%{x}<br>Production (1000 tones)=%{y}<extra></extra>",
         "legendgroup": "RICE PRODUCTION (1000 tons)",
         "line": {
          "color": "#C6C96A",
          "dash": "solid"
         },
         "marker": {
          "symbol": "circle"
         },
         "mode": "lines+markers",
         "name": "RICE PRODUCTION (1000 tons)",
         "orientation": "v",
         "showlegend": true,
         "type": "scatter",
         "x": {
          "bdata": "rgevB7AHsQeyB7MHtAe1B7YHtwe4B7kHuge7B7wHvQe+B78HwAfBB8IHwwfEB8UHxgfHB8gHyQfKB8sHzAfNB84HzwfQB9EH0gfTB9QH1QfWB9cH2AfZB9oH2wfcB90H3gffB+AH4Qc=",
          "dtype": "i2"
         },
         "xaxis": "x",
         "y": {
          "bdata": "AAAAAACARkAAAAAAAIBIQAAAAAAAAEpAZmZmZmbGUEDNzMzMzCxRQAAAAAAAQE9AAAAAAADAREBmZmZmZmZLQGZmZmZmZkRAZmZmZmamUEBmZmZmZqZMQDMzMzMz01FAMzMzMzPzUkDNzMzMzOxQQJqZmZmZGVFAmpmZmZlZV0CamZmZmXlSQGZmZmZmBlpAmpmZmZn5V0AzMzMzM5NQQAAAAAAAwFRAAAAAAABAUUDNzMzMzKxWQDMzMzMz81xAzczMzMyMYUAzMzMzM+NiQDMzMzMzQ2VAMzMzMzMTYkAAAAAAAEBjQAAAAAAAQGlAAAAAAABAaUCamZmZmflmQAAAAAAA0GtAAAAAAACgaEDNzMzMzAxnQAAAAAAAYGxAzczMzMysa0CamZmZmVljQGZmZmZmJmNAzczMzMy8YUAzMzMzM9NjQDMzMzMzE2ZAMzMzMzOjaEAzMzMzMyNpQM3MzMzMRHBAZmZmZmamckCamZmZmSltQFK4HoXrzXBA9ihcj8ItbkBmZmZmZmZsQD0K16NwfXBAexSuR+EecUA=",
          "dtype": "f8"
         },
         "yaxis": "y"
        },
        {
         "hovertemplate": "Crop=SUGARCANE PRODUCTION (1000 tons)<br>Year=%{x}<br>Production (1000 tones)=%{y}<extra></extra>",
         "legendgroup": "SUGARCANE PRODUCTION (1000 tons)",
         "line": {
          "color": "#228B22",
          "dash": "solid"
         },
         "marker": {
          "symbol": "circle"
         },
         "mode": "lines+markers",
         "name": "SUGARCANE PRODUCTION (1000 tons)",
         "orientation": "v",
         "showlegend": true,
         "type": "scatter",
         "x": {
          "bdata": "rgevB7AHsQeyB7MHtAe1B7YHtwe4B7kHuge7B7wHvQe+B78HwAfBB8IHwwfEB8UHxgfHB8gHyQfKB8sHzAfNB84HzwfQB9EH0gfTB9QH1QfWB9cH2AfZB9oH2wfcB90H3gffB+AH4Qc=",
          "dtype": "i2"
         },
         "xaxis": "x",
         "y": {
          "bdata": "MzMzMzMzPEDNzMzMzMw9QM3MzMzMjENAMzMzMzOzS0BmZmZmZmZIQDMzMzMz01FAMzMzMzPzU0AzMzMzM5NZQGZmZmZmZl1AZmZmZmaGWEAzMzMzM1NcQM3MzMzMDGFAAAAAAABgYEDNzMzMzMxfQJqZmZmZGWZAZmZmZmYGaUDNzMzMzKxwQGZmZmZmlndAZmZmZmamdkDNzMzMzIR2QJqZmZmZEXVAZmZmZmYOfEBmZmZmZgaBQM3MzMzM5IJAAAAAAAA8iECamZmZmWmJQGZmZmZmfotAZmZmZmb+jEAAAAAAADSQQAAAAAAASJRAMzMzMzMHj0AzMzMzMzuKQM3MzMzM4pBAmpmZmZlJkkAzMzMzMymSQDMzMzMzS5JAzczMzMwkkECamZmZmR2IQM3MzMzMWIxAmpmZmZldkkCamZmZmZWMQAAAAAAAMIxAMzMzMzNbjUAzMzMzM2eJQJqZmZmZxYhA7FG4HoUziEDNzMzMzFSIQLgehetRAohA7FG4HoUNi0BxPQrXo2KEQGZmZmZm7IVAAAAAAABIhkA=",
          "dtype": "f8"
         },
         "yaxis": "y"
        }
       ],
       "layout": {
        "height": 600,
        "legend": {
         "title": {
          "text": "Crop"
         },
         "tracegroupgap": 0
        },
        "template": {
         "data": {
          "bar": [
           {
            "error_x": {
             "color": "#2a3f5f"
            },
            "error_y": {
             "color": "#2a3f5f"
            },
            "marker": {
             "line": {
              "color": "#E5ECF6",
              "width": 0.5
             },
             "pattern": {
              "fillmode": "overlay",
              "size": 10,
              "solidity": 0.2
             }
            },
            "type": "bar"
           }
          ],
          "barpolar": [
           {
            "marker": {
             "line": {
              "color": "#E5ECF6",
              "width": 0.5
             },
             "pattern": {
              "fillmode": "overlay",
              "size": 10,
              "solidity": 0.2
             }
            },
            "type": "barpolar"
           }
          ],
          "carpet": [
           {
            "aaxis": {
             "endlinecolor": "#2a3f5f",
             "gridcolor": "white",
             "linecolor": "white",
             "minorgridcolor": "white",
             "startlinecolor": "#2a3f5f"
            },
            "baxis": {
             "endlinecolor": "#2a3f5f",
             "gridcolor": "white",
             "linecolor": "white",
             "minorgridcolor": "white",
             "startlinecolor": "#2a3f5f"
            },
            "type": "carpet"
           }
          ],
          "choropleth": [
           {
            "colorbar": {
             "outlinewidth": 0,
             "ticks": ""
            },
            "type": "choropleth"
           }
          ],
          "contour": [
           {
            "colorbar": {
             "outlinewidth": 0,
             "ticks": ""
            },
            "colorscale": [
             [
              0,
              "#0d0887"
             ],
             [
              0.1111111111111111,
              "#46039f"
             ],
             [
              0.2222222222222222,
              "#7201a8"
             ],
             [
              0.3333333333333333,
              "#9c179e"
             ],
             [
              0.4444444444444444,
              "#bd3786"
             ],
             [
              0.5555555555555556,
              "#d8576b"
             ],
             [
              0.6666666666666666,
              "#ed7953"
             ],
             [
              0.7777777777777778,
              "#fb9f3a"
             ],
             [
              0.8888888888888888,
              "#fdca26"
             ],
             [
              1,
              "#f0f921"
             ]
            ],
            "type": "contour"
           }
          ],
          "contourcarpet": [
           {
            "colorbar": {
             "outlinewidth": 0,
             "ticks": ""
            },
            "type": "contourcarpet"
           }
          ],
          "heatmap": [
           {
            "colorbar": {
             "outlinewidth": 0,
             "ticks": ""
            },
            "colorscale": [
             [
              0,
              "#0d0887"
             ],
             [
              0.1111111111111111,
              "#46039f"
             ],
             [
              0.2222222222222222,
              "#7201a8"
             ],
             [
              0.3333333333333333,
              "#9c179e"
             ],
             [
              0.4444444444444444,
              "#bd3786"
             ],
             [
              0.5555555555555556,
              "#d8576b"
             ],
             [
              0.6666666666666666,
              "#ed7953"
             ],
             [
              0.7777777777777778,
              "#fb9f3a"
             ],
             [
              0.8888888888888888,
              "#fdca26"
             ],
             [
              1,
              "#f0f921"
             ]
            ],
            "type": "heatmap"
           }
          ],
          "histogram": [
           {
            "marker": {
             "pattern": {
              "fillmode": "overlay",
              "size": 10,
              "solidity": 0.2
             }
            },
            "type": "histogram"
           }
          ],
          "histogram2d": [
           {
            "colorbar": {
             "outlinewidth": 0,
             "ticks": ""
            },
            "colorscale": [
             [
              0,
              "#0d0887"
             ],
             [
              0.1111111111111111,
              "#46039f"
             ],
             [
              0.2222222222222222,
              "#7201a8"
             ],
             [
              0.3333333333333333,
              "#9c179e"
             ],
             [
              0.4444444444444444,
              "#bd3786"
             ],
             [
              0.5555555555555556,
              "#d8576b"
             ],
             [
              0.6666666666666666,
              "#ed7953"
             ],
             [
              0.7777777777777778,
              "#fb9f3a"
             ],
             [
              0.8888888888888888,
              "#fdca26"
             ],
             [
              1,
              "#f0f921"
             ]
            ],
            "type": "histogram2d"
           }
          ],
          "histogram2dcontour": [
           {
            "colorbar": {
             "outlinewidth": 0,
             "ticks": ""
            },
            "colorscale": [
             [
              0,
              "#0d0887"
             ],
             [
              0.1111111111111111,
              "#46039f"
             ],
             [
              0.2222222222222222,
              "#7201a8"
             ],
             [
              0.3333333333333333,
              "#9c179e"
             ],
             [
              0.4444444444444444,
              "#bd3786"
             ],
             [
              0.5555555555555556,
              "#d8576b"
             ],
             [
              0.6666666666666666,
              "#ed7953"
             ],
             [
              0.7777777777777778,
              "#fb9f3a"
             ],
             [
              0.8888888888888888,
              "#fdca26"
             ],
             [
              1,
              "#f0f921"
             ]
            ],
            "type": "histogram2dcontour"
           }
          ],
          "mesh3d": [
           {
            "colorbar": {
             "outlinewidth": 0,
             "ticks": ""
            },
            "type": "mesh3d"
           }
          ],
          "parcoords": [
           {
            "line": {
             "colorbar": {
              "outlinewidth": 0,
              "ticks": ""
             }
            },
            "type": "parcoords"
           }
          ],
          "pie": [
           {
            "automargin": true,
            "type": "pie"
           }
          ],
          "scatter": [
           {
            "fillpattern": {
             "fillmode": "overlay",
             "size": 10,
             "solidity": 0.2
            },
            "type": "scatter"
           }
          ],
          "scatter3d": [
           {
            "line": {
             "colorbar": {
              "outlinewidth": 0,
              "ticks": ""
             }
            },
            "marker": {
             "colorbar": {
              "outlinewidth": 0,
              "ticks": ""
             }
            },
            "type": "scatter3d"
           }
          ],
          "scattercarpet": [
           {
            "marker": {
             "colorbar": {
              "outlinewidth": 0,
              "ticks": ""
             }
            },
            "type": "scattercarpet"
           }
          ],
          "scattergeo": [
           {
            "marker": {
             "colorbar": {
              "outlinewidth": 0,
              "ticks": ""
             }
            },
            "type": "scattergeo"
           }
          ],
          "scattergl": [
           {
            "marker": {
             "colorbar": {
              "outlinewidth": 0,
              "ticks": ""
             }
            },
            "type": "scattergl"
           }
          ],
          "scattermap": [
           {
            "marker": {
             "colorbar": {
              "outlinewidth": 0,
              "ticks": ""
             }
            },
            "type": "scattermap"
           }
          ],
          "scattermapbox": [
           {
            "marker": {
             "colorbar": {
              "outlinewidth": 0,
              "ticks": ""
             }
            },
            "type": "scattermapbox"
           }
          ],
          "scatterpolar": [
           {
            "marker": {
             "colorbar": {
              "outlinewidth": 0,
              "ticks": ""
             }
            },
            "type": "scatterpolar"
           }
          ],
          "scatterpolargl": [
           {
            "marker": {
             "colorbar": {
              "outlinewidth": 0,
              "ticks": ""
             }
            },
            "type": "scatterpolargl"
           }
          ],
          "scatterternary": [
           {
            "marker": {
             "colorbar": {
              "outlinewidth": 0,
              "ticks": ""
             }
            },
            "type": "scatterternary"
           }
          ],
          "surface": [
           {
            "colorbar": {
             "outlinewidth": 0,
             "ticks": ""
            },
            "colorscale": [
             [
              0,
              "#0d0887"
             ],
             [
              0.1111111111111111,
              "#46039f"
             ],
             [
              0.2222222222222222,
              "#7201a8"
             ],
             [
              0.3333333333333333,
              "#9c179e"
             ],
             [
              0.4444444444444444,
              "#bd3786"
             ],
             [
              0.5555555555555556,
              "#d8576b"
             ],
             [
              0.6666666666666666,
              "#ed7953"
             ],
             [
              0.7777777777777778,
              "#fb9f3a"
             ],
             [
              0.8888888888888888,
              "#fdca26"
             ],
             [
              1,
              "#f0f921"
             ]
            ],
            "type": "surface"
           }
          ],
          "table": [
           {
            "cells": {
             "fill": {
              "color": "#EBF0F8"
             },
             "line": {
              "color": "white"
             }
            },
            "header": {
             "fill": {
              "color": "#C8D4E3"
             },
             "line": {
              "color": "white"
             }
            },
            "type": "table"
           }
          ]
         },
         "layout": {
          "annotationdefaults": {
           "arrowcolor": "#2a3f5f",
           "arrowhead": 0,
           "arrowwidth": 1
          },
          "autotypenumbers": "strict",
          "coloraxis": {
           "colorbar": {
            "outlinewidth": 0,
            "ticks": ""
           }
          },
          "colorscale": {
           "diverging": [
            [
             0,
             "#8e0152"
            ],
            [
             0.1,
             "#c51b7d"
            ],
            [
             0.2,
             "#de77ae"
            ],
            [
             0.3,
             "#f1b6da"
            ],
            [
             0.4,
             "#fde0ef"
            ],
            [
             0.5,
             "#f7f7f7"
            ],
            [
             0.6,
             "#e6f5d0"
            ],
            [
             0.7,
             "#b8e186"
            ],
            [
             0.8,
             "#7fbc41"
            ],
            [
             0.9,
             "#4d9221"
            ],
            [
             1,
             "#276419"
            ]
           ],
           "sequential": [
            [
             0,
             "#0d0887"
            ],
            [
             0.1111111111111111,
             "#46039f"
            ],
            [
             0.2222222222222222,
             "#7201a8"
            ],
            [
             0.3333333333333333,
             "#9c179e"
            ],
            [
             0.4444444444444444,
             "#bd3786"
            ],
            [
             0.5555555555555556,
             "#d8576b"
            ],
            [
             0.6666666666666666,
             "#ed7953"
            ],
            [
             0.7777777777777778,
             "#fb9f3a"
            ],
            [
             0.8888888888888888,
             "#fdca26"
            ],
            [
             1,
             "#f0f921"
            ]
           ],
           "sequentialminus": [
            [
             0,
             "#0d0887"
            ],
            [
             0.1111111111111111,
             "#46039f"
            ],
            [
             0.2222222222222222,
             "#7201a8"
            ],
            [
             0.3333333333333333,
             "#9c179e"
            ],
            [
             0.4444444444444444,
             "#bd3786"
            ],
            [
             0.5555555555555556,
             "#d8576b"
            ],
            [
             0.6666666666666666,
             "#ed7953"
            ],
            [
             0.7777777777777778,
             "#fb9f3a"
            ],
            [
             0.8888888888888888,
             "#fdca26"
            ],
            [
             1,
             "#f0f921"
            ]
           ]
          },
          "colorway": [
           "#636efa",
           "#EF553B",
           "#00cc96",
           "#ab63fa",
           "#FFA15A",
           "#19d3f3",
           "#FF6692",
           "#B6E880",
           "#FF97FF",
           "#FECB52"
          ],
          "font": {
           "color": "#2a3f5f"
          },
          "geo": {
           "bgcolor": "white",
           "lakecolor": "white",
           "landcolor": "#E5ECF6",
           "showlakes": true,
           "showland": true,
           "subunitcolor": "white"
          },
          "hoverlabel": {
           "align": "left"
          },
          "hovermode": "closest",
          "mapbox": {
           "style": "light"
          },
          "paper_bgcolor": "white",
          "plot_bgcolor": "#E5ECF6",
          "polar": {
           "angularaxis": {
            "gridcolor": "white",
            "linecolor": "white",
            "ticks": ""
           },
           "bgcolor": "#E5ECF6",
           "radialaxis": {
            "gridcolor": "white",
            "linecolor": "white",
            "ticks": ""
           }
          },
          "scene": {
           "xaxis": {
            "backgroundcolor": "#E5ECF6",
            "gridcolor": "white",
            "gridwidth": 2,
            "linecolor": "white",
            "showbackground": true,
            "ticks": "",
            "zerolinecolor": "white"
           },
           "yaxis": {
            "backgroundcolor": "#E5ECF6",
            "gridcolor": "white",
            "gridwidth": 2,
            "linecolor": "white",
            "showbackground": true,
            "ticks": "",
            "zerolinecolor": "white"
           },
           "zaxis": {
            "backgroundcolor": "#E5ECF6",
            "gridcolor": "white",
            "gridwidth": 2,
            "linecolor": "white",
            "showbackground": true,
            "ticks": "",
            "zerolinecolor": "white"
           }
          },
          "shapedefaults": {
           "line": {
            "color": "#2a3f5f"
           }
          },
          "ternary": {
           "aaxis": {
            "gridcolor": "white",
            "linecolor": "white",
            "ticks": ""
           },
           "baxis": {
            "gridcolor": "white",
            "linecolor": "white",
            "ticks": ""
           },
           "bgcolor": "#E5ECF6",
           "caxis": {
            "gridcolor": "white",
            "linecolor": "white",
            "ticks": ""
           }
          },
          "title": {
           "x": 0.05
          },
          "xaxis": {
           "automargin": true,
           "gridcolor": "white",
           "linecolor": "white",
           "ticks": "",
           "title": {
            "standoff": 15
           },
           "zerolinecolor": "white",
           "zerolinewidth": 2
          },
          "yaxis": {
           "automargin": true,
           "gridcolor": "white",
           "linecolor": "white",
           "ticks": "",
           "title": {
            "standoff": 15
           },
           "zerolinecolor": "white",
           "zerolinewidth": 2
          }
         }
        },
        "title": {
         "text": "Crop Production per Hectare in surat Over the Years"
        },
        "xaxis": {
         "anchor": "y",
         "domain": [
          0,
          1
         ],
         "title": {
          "text": "Year"
         }
        },
        "yaxis": {
         "anchor": "x",
         "domain": [
          0,
          1
         ],
         "title": {
          "text": "Production (1000 tones)"
         }
        }
       }
      }
     },
     "metadata": {},
     "output_type": "display_data"
    }
   ],
   "source": [
    "surat_data = gujarat[gujarat['Dist Name'] == 'Surat']\n",
    "\n",
    "\n",
    "crop_cols = [\n",
    "    'WHEAT PRODUCTION (1000 tons)', \n",
    "    'RICE PRODUCTION (1000 tons)',\n",
    "    'SUGARCANE PRODUCTION (1000 tons)'\n",
    "]\n",
    "\n",
    "\n",
    "line_data = surat_data[['Year'] + crop_cols].melt(\n",
    "    id_vars='Year',\n",
    "    var_name='Crop',\n",
    "    value_name='Production (1000 tones)'\n",
    ")\n",
    "\n",
    "fig = px.line(\n",
    "    line_data,\n",
    "    x='Year',\n",
    "    y='Production (1000 tones)',\n",
    "    color='Crop',\n",
    "    color_discrete_map={'WHEAT PRODUCTION (1000 tons)' : '#DAA520', \n",
    "    'RICE PRODUCTION (1000 tons)':\"#C6C96A\",\n",
    "    'SUGARCANE PRODUCTION (1000 tons)': '#228B22'},\n",
    "    markers=True,\n",
    "    title='Crop Production per Hectare in surat Over the Years'\n",
    ")\n",
    "\n",
    "fig.update_layout(\n",
    "    xaxis_title='Year',\n",
    "    yaxis_title='Production (1000 tones)',\n",
    "    height=600\n",
    ")\n",
    "\n",
    "fig.show()"
   ]
  },
  {
   "cell_type": "markdown",
   "id": "a5f68282",
   "metadata": {},
   "source": [
    "<div style=\"text-align: center;background-color:#f0e9d5; padding:10px; border-left: 5px solid #4CAF50; font-family: Trebuchet MS; font-size: 20px; color: #333;\">\n",
    "  Uttar Pradesh\n",
    "</div>"
   ]
  },
  {
   "cell_type": "code",
   "execution_count": 276,
   "id": "6fe70967",
   "metadata": {},
   "outputs": [
    {
     "data": {
      "text/plain": [
       "array(['Chhattisgarh', 'Madhya Pradesh', 'Andhra Pradesh', 'Telangana',\n",
       "       'Karnataka', 'Tamil Nadu', 'Maharashtra', 'Gujarat', 'Rajasthan',\n",
       "       'Punjab', 'Haryana', 'Uttar Pradesh', 'Uttarakhand', 'Assam',\n",
       "       'Himachal Pradesh', 'Kerala', 'Orissa', 'West Bengal', 'Bihar',\n",
       "       'Jharkhand'], dtype=object)"
      ]
     },
     "execution_count": 276,
     "metadata": {},
     "output_type": "execute_result"
    }
   ],
   "source": [
    "data['State Name'].unique()"
   ]
  },
  {
   "cell_type": "code",
   "execution_count": null,
   "id": "ee726851",
   "metadata": {},
   "outputs": [],
   "source": []
  },
  {
   "cell_type": "code",
   "execution_count": 285,
   "id": "75ecf0c8",
   "metadata": {},
   "outputs": [],
   "source": [
    "up = data[data['State Name'] == 'Uttar Pradesh' ]\n",
    "# print(up.describe())"
   ]
  },
  {
   "cell_type": "code",
   "execution_count": 286,
   "id": "ce66237d",
   "metadata": {},
   "outputs": [
    {
     "data": {
      "text/plain": [
       "array(['Saharanpur', 'Muzaffarnagar', 'Meerut', 'Buland Shahar',\n",
       "       'Aligarh', 'Mathura', 'Agra', 'Mainpuri', 'Etah', 'Bareilly',\n",
       "       'Budaun', 'Moradabad', 'Shahjahanpur', 'Pilibhit', 'Rampur',\n",
       "       'Bijnor', 'Farrukhabad', 'Etawah', 'Kanpur', 'Fatehpur',\n",
       "       'Allahabad', 'Jhansi', 'Jalaun', 'Hamirpur', 'Banda', 'Varanasi',\n",
       "       'Mirzpur', 'Jaunpur', 'Ghazipur', 'Ballia', 'Gorakhpur', 'Deoria',\n",
       "       'Basti', 'Azamgarh', 'Lucknow', 'Unnao', 'Rae-Bareily', 'Sitapur',\n",
       "       'Hardoi', 'Kheri', 'Faizabad', 'Gonda', 'Bahraich', 'Sultanpur',\n",
       "       'Pratapgarh', 'Barabanki'], dtype=object)"
      ]
     },
     "execution_count": 286,
     "metadata": {},
     "output_type": "execute_result"
    }
   ],
   "source": [
    "up['Dist Name'].unique()"
   ]
  },
  {
   "cell_type": "code",
   "execution_count": 279,
   "id": "dada617b",
   "metadata": {},
   "outputs": [
    {
     "data": {
      "application/vnd.plotly.v1+json": {
       "config": {
        "plotlyServerURL": "https://plot.ly"
       },
       "data": [
        {
         "coloraxis": "coloraxis",
         "hovertemplate": "Dist Name: %{x}<br>Crop: %{y}<br>Production (1000 tons): %{z}<extra></extra>",
         "name": "0",
         "type": "heatmap",
         "x": [
          "Agra",
          "Aligarh",
          "Allahabad",
          "Azamgarh",
          "Bahraich",
          "Ballia",
          "Banda",
          "Barabanki",
          "Bareilly",
          "Basti",
          "Bijnor",
          "Budaun",
          "Buland Shahar",
          "Deoria",
          "Etah",
          "Etawah",
          "Faizabad",
          "Farrukhabad",
          "Fatehpur",
          "Ghazipur",
          "Gonda",
          "Gorakhpur",
          "Hamirpur",
          "Hardoi",
          "Jalaun",
          "Jaunpur",
          "Jhansi",
          "Kanpur",
          "Kheri",
          "Lucknow",
          "Mainpuri",
          "Mathura",
          "Meerut",
          "Mirzpur",
          "Moradabad",
          "Muzaffarnagar",
          "Pilibhit",
          "Pratapgarh",
          "Rae-Bareily",
          "Rampur",
          "Saharanpur",
          "Shahjahanpur",
          "Sitapur",
          "Sultanpur",
          "Unnao",
          "Varanasi"
         ],
         "xaxis": "x",
         "y": [
          "GROUNDNUT PRODUCTION (1000 tons)",
          "LINSEED PRODUCTION (1000 tons)",
          "MAIZE PRODUCTION (1000 tons)",
          "MINOR PULSES PRODUCTION (1000 tons)",
          "OILSEEDS PRODUCTION (1000 tons)",
          "RAPESEED AND MUSTARD PRODUCTION (1000 tons)",
          "RICE PRODUCTION (1000 tons)",
          "SESAMUM PRODUCTION (1000 tons)",
          "SUGARCANE PRODUCTION (1000 tons)",
          "SUNFLOWER PRODUCTION (1000 tons)",
          "WHEAT PRODUCTION (1000 tons)"
         ],
         "yaxis": "y",
         "z": {
          "bdata": "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",
          "dtype": "f8",
          "shape": "11, 46"
         }
        }
       ],
       "layout": {
        "coloraxis": {
         "colorbar": {
          "title": {
           "text": "Production (1000 tons)"
          }
         },
         "colorscale": [
          [
           0,
           "#30123b"
          ],
          [
           0.07142857142857142,
           "#4145ab"
          ],
          [
           0.14285714285714285,
           "#4675ed"
          ],
          [
           0.21428571428571427,
           "#39a2fc"
          ],
          [
           0.2857142857142857,
           "#1bcfd4"
          ],
          [
           0.35714285714285715,
           "#24eca6"
          ],
          [
           0.42857142857142855,
           "#61fc6c"
          ],
          [
           0.5,
           "#a4fc3b"
          ],
          [
           0.5714285714285714,
           "#d1e834"
          ],
          [
           0.6428571428571429,
           "#f3c63a"
          ],
          [
           0.7142857142857143,
           "#fe9b2d"
          ],
          [
           0.7857142857142857,
           "#f36315"
          ],
          [
           0.8571428571428571,
           "#d93806"
          ],
          [
           0.9285714285714286,
           "#b11901"
          ],
          [
           1,
           "#7a0402"
          ]
         ]
        },
        "height": 500,
        "margin": {
         "t": 60
        },
        "template": {
         "data": {
          "bar": [
           {
            "error_x": {
             "color": "#2a3f5f"
            },
            "error_y": {
             "color": "#2a3f5f"
            },
            "marker": {
             "line": {
              "color": "#E5ECF6",
              "width": 0.5
             },
             "pattern": {
              "fillmode": "overlay",
              "size": 10,
              "solidity": 0.2
             }
            },
            "type": "bar"
           }
          ],
          "barpolar": [
           {
            "marker": {
             "line": {
              "color": "#E5ECF6",
              "width": 0.5
             },
             "pattern": {
              "fillmode": "overlay",
              "size": 10,
              "solidity": 0.2
             }
            },
            "type": "barpolar"
           }
          ],
          "carpet": [
           {
            "aaxis": {
             "endlinecolor": "#2a3f5f",
             "gridcolor": "white",
             "linecolor": "white",
             "minorgridcolor": "white",
             "startlinecolor": "#2a3f5f"
            },
            "baxis": {
             "endlinecolor": "#2a3f5f",
             "gridcolor": "white",
             "linecolor": "white",
             "minorgridcolor": "white",
             "startlinecolor": "#2a3f5f"
            },
            "type": "carpet"
           }
          ],
          "choropleth": [
           {
            "colorbar": {
             "outlinewidth": 0,
             "ticks": ""
            },
            "type": "choropleth"
           }
          ],
          "contour": [
           {
            "colorbar": {
             "outlinewidth": 0,
             "ticks": ""
            },
            "colorscale": [
             [
              0,
              "#0d0887"
             ],
             [
              0.1111111111111111,
              "#46039f"
             ],
             [
              0.2222222222222222,
              "#7201a8"
             ],
             [
              0.3333333333333333,
              "#9c179e"
             ],
             [
              0.4444444444444444,
              "#bd3786"
             ],
             [
              0.5555555555555556,
              "#d8576b"
             ],
             [
              0.6666666666666666,
              "#ed7953"
             ],
             [
              0.7777777777777778,
              "#fb9f3a"
             ],
             [
              0.8888888888888888,
              "#fdca26"
             ],
             [
              1,
              "#f0f921"
             ]
            ],
            "type": "contour"
           }
          ],
          "contourcarpet": [
           {
            "colorbar": {
             "outlinewidth": 0,
             "ticks": ""
            },
            "type": "contourcarpet"
           }
          ],
          "heatmap": [
           {
            "colorbar": {
             "outlinewidth": 0,
             "ticks": ""
            },
            "colorscale": [
             [
              0,
              "#0d0887"
             ],
             [
              0.1111111111111111,
              "#46039f"
             ],
             [
              0.2222222222222222,
              "#7201a8"
             ],
             [
              0.3333333333333333,
              "#9c179e"
             ],
             [
              0.4444444444444444,
              "#bd3786"
             ],
             [
              0.5555555555555556,
              "#d8576b"
             ],
             [
              0.6666666666666666,
              "#ed7953"
             ],
             [
              0.7777777777777778,
              "#fb9f3a"
             ],
             [
              0.8888888888888888,
              "#fdca26"
             ],
             [
              1,
              "#f0f921"
             ]
            ],
            "type": "heatmap"
           }
          ],
          "histogram": [
           {
            "marker": {
             "pattern": {
              "fillmode": "overlay",
              "size": 10,
              "solidity": 0.2
             }
            },
            "type": "histogram"
           }
          ],
          "histogram2d": [
           {
            "colorbar": {
             "outlinewidth": 0,
             "ticks": ""
            },
            "colorscale": [
             [
              0,
              "#0d0887"
             ],
             [
              0.1111111111111111,
              "#46039f"
             ],
             [
              0.2222222222222222,
              "#7201a8"
             ],
             [
              0.3333333333333333,
              "#9c179e"
             ],
             [
              0.4444444444444444,
              "#bd3786"
             ],
             [
              0.5555555555555556,
              "#d8576b"
             ],
             [
              0.6666666666666666,
              "#ed7953"
             ],
             [
              0.7777777777777778,
              "#fb9f3a"
             ],
             [
              0.8888888888888888,
              "#fdca26"
             ],
             [
              1,
              "#f0f921"
             ]
            ],
            "type": "histogram2d"
           }
          ],
          "histogram2dcontour": [
           {
            "colorbar": {
             "outlinewidth": 0,
             "ticks": ""
            },
            "colorscale": [
             [
              0,
              "#0d0887"
             ],
             [
              0.1111111111111111,
              "#46039f"
             ],
             [
              0.2222222222222222,
              "#7201a8"
             ],
             [
              0.3333333333333333,
              "#9c179e"
             ],
             [
              0.4444444444444444,
              "#bd3786"
             ],
             [
              0.5555555555555556,
              "#d8576b"
             ],
             [
              0.6666666666666666,
              "#ed7953"
             ],
             [
              0.7777777777777778,
              "#fb9f3a"
             ],
             [
              0.8888888888888888,
              "#fdca26"
             ],
             [
              1,
              "#f0f921"
             ]
            ],
            "type": "histogram2dcontour"
           }
          ],
          "mesh3d": [
           {
            "colorbar": {
             "outlinewidth": 0,
             "ticks": ""
            },
            "type": "mesh3d"
           }
          ],
          "parcoords": [
           {
            "line": {
             "colorbar": {
              "outlinewidth": 0,
              "ticks": ""
             }
            },
            "type": "parcoords"
           }
          ],
          "pie": [
           {
            "automargin": true,
            "type": "pie"
           }
          ],
          "scatter": [
           {
            "fillpattern": {
             "fillmode": "overlay",
             "size": 10,
             "solidity": 0.2
            },
            "type": "scatter"
           }
          ],
          "scatter3d": [
           {
            "line": {
             "colorbar": {
              "outlinewidth": 0,
              "ticks": ""
             }
            },
            "marker": {
             "colorbar": {
              "outlinewidth": 0,
              "ticks": ""
             }
            },
            "type": "scatter3d"
           }
          ],
          "scattercarpet": [
           {
            "marker": {
             "colorbar": {
              "outlinewidth": 0,
              "ticks": ""
             }
            },
            "type": "scattercarpet"
           }
          ],
          "scattergeo": [
           {
            "marker": {
             "colorbar": {
              "outlinewidth": 0,
              "ticks": ""
             }
            },
            "type": "scattergeo"
           }
          ],
          "scattergl": [
           {
            "marker": {
             "colorbar": {
              "outlinewidth": 0,
              "ticks": ""
             }
            },
            "type": "scattergl"
           }
          ],
          "scattermap": [
           {
            "marker": {
             "colorbar": {
              "outlinewidth": 0,
              "ticks": ""
             }
            },
            "type": "scattermap"
           }
          ],
          "scattermapbox": [
           {
            "marker": {
             "colorbar": {
              "outlinewidth": 0,
              "ticks": ""
             }
            },
            "type": "scattermapbox"
           }
          ],
          "scatterpolar": [
           {
            "marker": {
             "colorbar": {
              "outlinewidth": 0,
              "ticks": ""
             }
            },
            "type": "scatterpolar"
           }
          ],
          "scatterpolargl": [
           {
            "marker": {
             "colorbar": {
              "outlinewidth": 0,
              "ticks": ""
             }
            },
            "type": "scatterpolargl"
           }
          ],
          "scatterternary": [
           {
            "marker": {
             "colorbar": {
              "outlinewidth": 0,
              "ticks": ""
             }
            },
            "type": "scatterternary"
           }
          ],
          "surface": [
           {
            "colorbar": {
             "outlinewidth": 0,
             "ticks": ""
            },
            "colorscale": [
             [
              0,
              "#0d0887"
             ],
             [
              0.1111111111111111,
              "#46039f"
             ],
             [
              0.2222222222222222,
              "#7201a8"
             ],
             [
              0.3333333333333333,
              "#9c179e"
             ],
             [
              0.4444444444444444,
              "#bd3786"
             ],
             [
              0.5555555555555556,
              "#d8576b"
             ],
             [
              0.6666666666666666,
              "#ed7953"
             ],
             [
              0.7777777777777778,
              "#fb9f3a"
             ],
             [
              0.8888888888888888,
              "#fdca26"
             ],
             [
              1,
              "#f0f921"
             ]
            ],
            "type": "surface"
           }
          ],
          "table": [
           {
            "cells": {
             "fill": {
              "color": "#EBF0F8"
             },
             "line": {
              "color": "white"
             }
            },
            "header": {
             "fill": {
              "color": "#C8D4E3"
             },
             "line": {
              "color": "white"
             }
            },
            "type": "table"
           }
          ]
         },
         "layout": {
          "annotationdefaults": {
           "arrowcolor": "#2a3f5f",
           "arrowhead": 0,
           "arrowwidth": 1
          },
          "autotypenumbers": "strict",
          "coloraxis": {
           "colorbar": {
            "outlinewidth": 0,
            "ticks": ""
           }
          },
          "colorscale": {
           "diverging": [
            [
             0,
             "#8e0152"
            ],
            [
             0.1,
             "#c51b7d"
            ],
            [
             0.2,
             "#de77ae"
            ],
            [
             0.3,
             "#f1b6da"
            ],
            [
             0.4,
             "#fde0ef"
            ],
            [
             0.5,
             "#f7f7f7"
            ],
            [
             0.6,
             "#e6f5d0"
            ],
            [
             0.7,
             "#b8e186"
            ],
            [
             0.8,
             "#7fbc41"
            ],
            [
             0.9,
             "#4d9221"
            ],
            [
             1,
             "#276419"
            ]
           ],
           "sequential": [
            [
             0,
             "#0d0887"
            ],
            [
             0.1111111111111111,
             "#46039f"
            ],
            [
             0.2222222222222222,
             "#7201a8"
            ],
            [
             0.3333333333333333,
             "#9c179e"
            ],
            [
             0.4444444444444444,
             "#bd3786"
            ],
            [
             0.5555555555555556,
             "#d8576b"
            ],
            [
             0.6666666666666666,
             "#ed7953"
            ],
            [
             0.7777777777777778,
             "#fb9f3a"
            ],
            [
             0.8888888888888888,
             "#fdca26"
            ],
            [
             1,
             "#f0f921"
            ]
           ],
           "sequentialminus": [
            [
             0,
             "#0d0887"
            ],
            [
             0.1111111111111111,
             "#46039f"
            ],
            [
             0.2222222222222222,
             "#7201a8"
            ],
            [
             0.3333333333333333,
             "#9c179e"
            ],
            [
             0.4444444444444444,
             "#bd3786"
            ],
            [
             0.5555555555555556,
             "#d8576b"
            ],
            [
             0.6666666666666666,
             "#ed7953"
            ],
            [
             0.7777777777777778,
             "#fb9f3a"
            ],
            [
             0.8888888888888888,
             "#fdca26"
            ],
            [
             1,
             "#f0f921"
            ]
           ]
          },
          "colorway": [
           "#636efa",
           "#EF553B",
           "#00cc96",
           "#ab63fa",
           "#FFA15A",
           "#19d3f3",
           "#FF6692",
           "#B6E880",
           "#FF97FF",
           "#FECB52"
          ],
          "font": {
           "color": "#2a3f5f"
          },
          "geo": {
           "bgcolor": "white",
           "lakecolor": "white",
           "landcolor": "#E5ECF6",
           "showlakes": true,
           "showland": true,
           "subunitcolor": "white"
          },
          "hoverlabel": {
           "align": "left"
          },
          "hovermode": "closest",
          "mapbox": {
           "style": "light"
          },
          "paper_bgcolor": "white",
          "plot_bgcolor": "#E5ECF6",
          "polar": {
           "angularaxis": {
            "gridcolor": "white",
            "linecolor": "white",
            "ticks": ""
           },
           "bgcolor": "#E5ECF6",
           "radialaxis": {
            "gridcolor": "white",
            "linecolor": "white",
            "ticks": ""
           }
          },
          "scene": {
           "xaxis": {
            "backgroundcolor": "#E5ECF6",
            "gridcolor": "white",
            "gridwidth": 2,
            "linecolor": "white",
            "showbackground": true,
            "ticks": "",
            "zerolinecolor": "white"
           },
           "yaxis": {
            "backgroundcolor": "#E5ECF6",
            "gridcolor": "white",
            "gridwidth": 2,
            "linecolor": "white",
            "showbackground": true,
            "ticks": "",
            "zerolinecolor": "white"
           },
           "zaxis": {
            "backgroundcolor": "#E5ECF6",
            "gridcolor": "white",
            "gridwidth": 2,
            "linecolor": "white",
            "showbackground": true,
            "ticks": "",
            "zerolinecolor": "white"
           }
          },
          "shapedefaults": {
           "line": {
            "color": "#2a3f5f"
           }
          },
          "ternary": {
           "aaxis": {
            "gridcolor": "white",
            "linecolor": "white",
            "ticks": ""
           },
           "baxis": {
            "gridcolor": "white",
            "linecolor": "white",
            "ticks": ""
           },
           "bgcolor": "#E5ECF6",
           "caxis": {
            "gridcolor": "white",
            "linecolor": "white",
            "ticks": ""
           }
          },
          "title": {
           "x": 0.05
          },
          "xaxis": {
           "automargin": true,
           "gridcolor": "white",
           "linecolor": "white",
           "ticks": "",
           "title": {
            "standoff": 15
           },
           "zerolinecolor": "white",
           "zerolinewidth": 2
          },
          "yaxis": {
           "automargin": true,
           "gridcolor": "white",
           "linecolor": "white",
           "ticks": "",
           "title": {
            "standoff": 15
           },
           "zerolinecolor": "white",
           "zerolinewidth": 2
          }
         }
        },
        "title": {
         "text": "Crop Production (1000 tons) per District (last 5 years)"
        },
        "xaxis": {
         "anchor": "y",
         "domain": [
          0,
          1
         ],
         "nticks": 20,
         "title": {
          "text": "Dist Name"
         }
        },
        "yaxis": {
         "anchor": "x",
         "autorange": "reversed",
         "domain": [
          0,
          1
         ],
         "title": {
          "text": "Crop"
         }
        }
       }
      }
     },
     "metadata": {},
     "output_type": "display_data"
    }
   ],
   "source": [
    "last_5_year = up[up['year_to_decade'] == '2011-2015']  ######### for last 5 year\n",
    "\n",
    "\n",
    "production_cols = [col for col in last_5_year.columns if 'PRODUCTION' in col]\n",
    "production_data = last_5_year[['Dist Name'] + production_cols]\n",
    "\n",
    "grouped_data = production_data.groupby('Dist Name',observed=True, as_index=False).sum()\n",
    "\n",
    "heatmap_data = grouped_data.melt(id_vars='Dist Name', \n",
    "                                 var_name='Crop', \n",
    "                                 value_name='Production (1000 tons)')\n",
    "\n",
    "heatmap_matrix = heatmap_data.pivot(index='Crop', columns='Dist Name', values='Production (1000 tons)')\n",
    "\n",
    "fig = px.imshow(\n",
    "    heatmap_matrix,\n",
    "    labels=dict(x=\"Dist Name\", y=\"Crop\", color=\"Production (1000 tons)\"),\n",
    "    color_continuous_scale='Turbo',\n",
    "    aspect=\"auto\"\n",
    ")\n",
    "\n",
    "fig.update_layout(\n",
    "    title='Crop Production (1000 tons) per District (last 5 years)',\n",
    "    height=500,\n",
    "    xaxis_nticks=20\n",
    ")\n",
    "\n",
    "fig.show()"
   ]
  },
  {
   "cell_type": "code",
   "execution_count": 308,
   "id": "49acd34f",
   "metadata": {},
   "outputs": [
    {
     "data": {
      "text/plain": [
       "array([287.2 , 269.5 , 412.8 , ...,  54.95,  61.66,  73.55], shape=(2392,))"
      ]
     },
     "execution_count": 308,
     "metadata": {},
     "output_type": "execute_result"
    }
   ],
   "source": [
    "y = up['SUGARCANE PRODUCTION (1000 tons)']\n",
    "y.values"
   ]
  },
  {
   "cell_type": "code",
   "execution_count": 324,
   "id": "c07fca46",
   "metadata": {},
   "outputs": [
    {
     "data": {
      "application/vnd.plotly.v1+json": {
       "config": {
        "plotlyServerURL": "https://plot.ly"
       },
       "data": [
        {
         "hovertemplate": "Dist Name=Muzaffarnagar<br>Year=%{x}<br>SUGARCANE PRODUCTION (1000 tons)=%{y}<extra></extra>",
         "legendgroup": "Muzaffarnagar",
         "line": {
          "color": "green",
          "dash": "solid"
         },
         "marker": {
          "symbol": "circle"
         },
         "mode": "lines+markers",
         "name": "Muzaffarnagar",
         "orientation": "v",
         "showlegend": true,
         "type": "scatter",
         "x": {
          "bdata": "rgevB7AHsQeyB7MHtAe1B7YHtwe4B7kHuge7B7wHvQe+B78HwAfBB8IHwwfEB8UHxgfHB8gHyQfKB8sHzAfNB84HzwfQB9EH0gfTB9QH1QfWB9cH2AfZB9oH2wfcB90H3gffB+AH4Qc=",
          "dtype": "i2"
         },
         "xaxis": "x",
         "y": {
          "bdata": "zczMzMw8eUCamZmZmfl6QDMzMzMz44FAAAAAAADAhECamZmZmV2CQJqZmZmZDYZAZmZmZmbWhEAzMzMzM1+HQM3MzMzMDIZAzczMzMwMhkBmZmZmZtKLQM3MzMzMUI1AAAAAAADwhUBmZmZmZoaGQM3MzMzMaItAMzMzMzPnjEBmZmZmZqqOQJqZmZmZ0ZBAmpmZmZnRkEBmZmZmZjaOQJqZmZmZlZBAMzMzMzNXkUBmZmZmZr6SQDMzMzMz7ZFArkfhehSDk0DD9Shcj8eUQGZmZmZmZ5NAexSuR+HdlEDNzMzMzFyUQK5H4XoUBZZAUrgehev9lkBSuB6F6/+VQClcj8L1epZAcT0K16MLlUAK16NwPQKVQI/C9ShcBJZAMzMzMzPMlkAK16NwPTmYQJqZmZmZuZhA7FG4HoVSmEAK16NwPZCZQJqZmZmZ5JhAFK5H4XoelkBxPQrXo8qYQKRwPQrXW5ZAMzMzMzPal0D2KFyPwpOaQFyPwvUomZtApHA9CtczmkB7FK5H4UabQLgehetRqJ5A16NwPYqDoEA=",
          "dtype": "f8"
         },
         "yaxis": "y"
        },
        {
         "hovertemplate": "Dist Name=Meerut<br>Year=%{x}<br>SUGARCANE PRODUCTION (1000 tons)=%{y}<extra></extra>",
         "legendgroup": "Meerut",
         "line": {
          "color": "blue",
          "dash": "solid"
         },
         "marker": {
          "symbol": "circle"
         },
         "mode": "lines+markers",
         "name": "Meerut",
         "orientation": "v",
         "showlegend": true,
         "type": "scatter",
         "x": {
          "bdata": "rgevB7AHsQeyB7MHtAe1B7YHtwe4B7kHuge7B7wHvQe+B78HwAfBB8IHwwfEB8UHxgfHB8gHyQfKB8sHzAfNB84HzwfQB9EH0gfTB9QH1QfWB9cH2AfZB9oH2wfcB90H3gffB+AH4Qc=",
          "dtype": "i2"
         },
         "xaxis": "x",
         "y": {
          "bdata": "zczMzMwUfUBmZmZmZi59QAAAAAAA5IJAMzMzMzNrhUBmZmZmZnaEQAAAAAAAtIRAAAAAAAAMhkAAAAAAACiJQDMzMzMzr4dAMzMzMzOvh0DNzMzMzMiEQM3MzMzM0pBAzczMzMyMikAAAAAAAEyIQJqZmZmZpY5AmpmZmZkxj0BmZmZmZnqQQJqZmZmZfZBAAAAAAAB0j0CamZmZmXWLQM3MzMzMgI9AAAAAAACqkEAAAAAAAAKQQAAAAAAAFpNAAAAAAADik0DhehSuR++UQGZmZmZmUJNA7FG4HoWNlEB7FK5H4X+VQOxRuB6FUZdArkfhehSel0DXo3A9Cl6YQHE9CtejQ5dA16NwPQqllUBmZmZmZkKWQJqZmZmZHphAexSuR+GKmEDsUbgehTKZQEjhehSuqJlA9ihcj8KNmUCkcD0K1wycQEjhehSuYpxAAAAAAADomEAzMzMzM6SZQArXo3A9iZhApHA9CtetmECF61G4HkObQArXo3A9yJxAPQrXo3Dem0CkcD0K11WcQBSuR+F6n59A7FG4HgUtokA=",
          "dtype": "f8"
         },
         "yaxis": "y"
        },
        {
         "hovertemplate": "Dist Name=Kheri<br>Year=%{x}<br>SUGARCANE PRODUCTION (1000 tons)=%{y}<extra></extra>",
         "legendgroup": "Kheri",
         "line": {
          "color": "red",
          "dash": "solid"
         },
         "marker": {
          "symbol": "circle"
         },
         "mode": "lines+markers",
         "name": "Kheri",
         "orientation": "v",
         "showlegend": true,
         "type": "scatter",
         "x": {
          "bdata": "rgevB7AHsQeyB7MHtAe1B7YHtwe4B7kHuge7B7wHvQe+B78HwAfBB8IHwwfEB8UHxgfHB8gHyQfKB8sHzAfNB84HzwfQB9EH0gfTB9QH1QfWB9cH2AfZB9oH2wfcB90H3gffB+AH4Qc=",
          "dtype": "i2"
         },
         "xaxis": "x",
         "y": {
          "bdata": "mpmZmZkZYEBmZmZmZgZnQJqZmZmZIXBAzczMzMwMc0BmZmZmZmZzQAAAAAAA4GxAAAAAAACockCamZmZmdl0QM3MzMzM5HJAzczMzMzkckAzMzMzM3tyQM3MzMzMjHVAAAAAAACIcEDNzMzMzDxqQJqZmZmZ6XFAzczMzMwEekDNzMzMzPx6QAAAAAAAuHhAMzMzMzPreUAAAAAAAIB+QJqZmZmZPYJAzczMzMyUhECamZmZmU2EQGZmZmZmvoRAexSuR+FGg0BxPQrXowaHQD0K16Nw44dAzczMzMzkh0CamZmZmUeJQOxRuB6F34pAKVyPwvVCj0CuR+F6FBOQQArXo3A9qI5AexSuR+ERkUAfhetRuBiOQDMzMzMz+JFACtejcD3CkkAAAAAAACaRQAAAAAAAupNAmpmZmZkGk0BI4XoUrieUQLgehetR1ZJAw/UoXI9fkUDsUbgehZ6UQNejcD0Kj5NAZmZmZmajlkB7FK5H4W+WQOF6FK5HgJdAMzMzMzO/m0DhehSuR8ecQIXrUbgep5tAmpmZmZlKn0A=",
          "dtype": "f8"
         },
         "yaxis": "y"
        }
       ],
       "layout": {
        "height": 600,
        "legend": {
         "title": {
          "text": "Dist Name"
         },
         "tracegroupgap": 0
        },
        "template": {
         "data": {
          "bar": [
           {
            "error_x": {
             "color": "#2a3f5f"
            },
            "error_y": {
             "color": "#2a3f5f"
            },
            "marker": {
             "line": {
              "color": "#E5ECF6",
              "width": 0.5
             },
             "pattern": {
              "fillmode": "overlay",
              "size": 10,
              "solidity": 0.2
             }
            },
            "type": "bar"
           }
          ],
          "barpolar": [
           {
            "marker": {
             "line": {
              "color": "#E5ECF6",
              "width": 0.5
             },
             "pattern": {
              "fillmode": "overlay",
              "size": 10,
              "solidity": 0.2
             }
            },
            "type": "barpolar"
           }
          ],
          "carpet": [
           {
            "aaxis": {
             "endlinecolor": "#2a3f5f",
             "gridcolor": "white",
             "linecolor": "white",
             "minorgridcolor": "white",
             "startlinecolor": "#2a3f5f"
            },
            "baxis": {
             "endlinecolor": "#2a3f5f",
             "gridcolor": "white",
             "linecolor": "white",
             "minorgridcolor": "white",
             "startlinecolor": "#2a3f5f"
            },
            "type": "carpet"
           }
          ],
          "choropleth": [
           {
            "colorbar": {
             "outlinewidth": 0,
             "ticks": ""
            },
            "type": "choropleth"
           }
          ],
          "contour": [
           {
            "colorbar": {
             "outlinewidth": 0,
             "ticks": ""
            },
            "colorscale": [
             [
              0,
              "#0d0887"
             ],
             [
              0.1111111111111111,
              "#46039f"
             ],
             [
              0.2222222222222222,
              "#7201a8"
             ],
             [
              0.3333333333333333,
              "#9c179e"
             ],
             [
              0.4444444444444444,
              "#bd3786"
             ],
             [
              0.5555555555555556,
              "#d8576b"
             ],
             [
              0.6666666666666666,
              "#ed7953"
             ],
             [
              0.7777777777777778,
              "#fb9f3a"
             ],
             [
              0.8888888888888888,
              "#fdca26"
             ],
             [
              1,
              "#f0f921"
             ]
            ],
            "type": "contour"
           }
          ],
          "contourcarpet": [
           {
            "colorbar": {
             "outlinewidth": 0,
             "ticks": ""
            },
            "type": "contourcarpet"
           }
          ],
          "heatmap": [
           {
            "colorbar": {
             "outlinewidth": 0,
             "ticks": ""
            },
            "colorscale": [
             [
              0,
              "#0d0887"
             ],
             [
              0.1111111111111111,
              "#46039f"
             ],
             [
              0.2222222222222222,
              "#7201a8"
             ],
             [
              0.3333333333333333,
              "#9c179e"
             ],
             [
              0.4444444444444444,
              "#bd3786"
             ],
             [
              0.5555555555555556,
              "#d8576b"
             ],
             [
              0.6666666666666666,
              "#ed7953"
             ],
             [
              0.7777777777777778,
              "#fb9f3a"
             ],
             [
              0.8888888888888888,
              "#fdca26"
             ],
             [
              1,
              "#f0f921"
             ]
            ],
            "type": "heatmap"
           }
          ],
          "histogram": [
           {
            "marker": {
             "pattern": {
              "fillmode": "overlay",
              "size": 10,
              "solidity": 0.2
             }
            },
            "type": "histogram"
           }
          ],
          "histogram2d": [
           {
            "colorbar": {
             "outlinewidth": 0,
             "ticks": ""
            },
            "colorscale": [
             [
              0,
              "#0d0887"
             ],
             [
              0.1111111111111111,
              "#46039f"
             ],
             [
              0.2222222222222222,
              "#7201a8"
             ],
             [
              0.3333333333333333,
              "#9c179e"
             ],
             [
              0.4444444444444444,
              "#bd3786"
             ],
             [
              0.5555555555555556,
              "#d8576b"
             ],
             [
              0.6666666666666666,
              "#ed7953"
             ],
             [
              0.7777777777777778,
              "#fb9f3a"
             ],
             [
              0.8888888888888888,
              "#fdca26"
             ],
             [
              1,
              "#f0f921"
             ]
            ],
            "type": "histogram2d"
           }
          ],
          "histogram2dcontour": [
           {
            "colorbar": {
             "outlinewidth": 0,
             "ticks": ""
            },
            "colorscale": [
             [
              0,
              "#0d0887"
             ],
             [
              0.1111111111111111,
              "#46039f"
             ],
             [
              0.2222222222222222,
              "#7201a8"
             ],
             [
              0.3333333333333333,
              "#9c179e"
             ],
             [
              0.4444444444444444,
              "#bd3786"
             ],
             [
              0.5555555555555556,
              "#d8576b"
             ],
             [
              0.6666666666666666,
              "#ed7953"
             ],
             [
              0.7777777777777778,
              "#fb9f3a"
             ],
             [
              0.8888888888888888,
              "#fdca26"
             ],
             [
              1,
              "#f0f921"
             ]
            ],
            "type": "histogram2dcontour"
           }
          ],
          "mesh3d": [
           {
            "colorbar": {
             "outlinewidth": 0,
             "ticks": ""
            },
            "type": "mesh3d"
           }
          ],
          "parcoords": [
           {
            "line": {
             "colorbar": {
              "outlinewidth": 0,
              "ticks": ""
             }
            },
            "type": "parcoords"
           }
          ],
          "pie": [
           {
            "automargin": true,
            "type": "pie"
           }
          ],
          "scatter": [
           {
            "fillpattern": {
             "fillmode": "overlay",
             "size": 10,
             "solidity": 0.2
            },
            "type": "scatter"
           }
          ],
          "scatter3d": [
           {
            "line": {
             "colorbar": {
              "outlinewidth": 0,
              "ticks": ""
             }
            },
            "marker": {
             "colorbar": {
              "outlinewidth": 0,
              "ticks": ""
             }
            },
            "type": "scatter3d"
           }
          ],
          "scattercarpet": [
           {
            "marker": {
             "colorbar": {
              "outlinewidth": 0,
              "ticks": ""
             }
            },
            "type": "scattercarpet"
           }
          ],
          "scattergeo": [
           {
            "marker": {
             "colorbar": {
              "outlinewidth": 0,
              "ticks": ""
             }
            },
            "type": "scattergeo"
           }
          ],
          "scattergl": [
           {
            "marker": {
             "colorbar": {
              "outlinewidth": 0,
              "ticks": ""
             }
            },
            "type": "scattergl"
           }
          ],
          "scattermap": [
           {
            "marker": {
             "colorbar": {
              "outlinewidth": 0,
              "ticks": ""
             }
            },
            "type": "scattermap"
           }
          ],
          "scattermapbox": [
           {
            "marker": {
             "colorbar": {
              "outlinewidth": 0,
              "ticks": ""
             }
            },
            "type": "scattermapbox"
           }
          ],
          "scatterpolar": [
           {
            "marker": {
             "colorbar": {
              "outlinewidth": 0,
              "ticks": ""
             }
            },
            "type": "scatterpolar"
           }
          ],
          "scatterpolargl": [
           {
            "marker": {
             "colorbar": {
              "outlinewidth": 0,
              "ticks": ""
             }
            },
            "type": "scatterpolargl"
           }
          ],
          "scatterternary": [
           {
            "marker": {
             "colorbar": {
              "outlinewidth": 0,
              "ticks": ""
             }
            },
            "type": "scatterternary"
           }
          ],
          "surface": [
           {
            "colorbar": {
             "outlinewidth": 0,
             "ticks": ""
            },
            "colorscale": [
             [
              0,
              "#0d0887"
             ],
             [
              0.1111111111111111,
              "#46039f"
             ],
             [
              0.2222222222222222,
              "#7201a8"
             ],
             [
              0.3333333333333333,
              "#9c179e"
             ],
             [
              0.4444444444444444,
              "#bd3786"
             ],
             [
              0.5555555555555556,
              "#d8576b"
             ],
             [
              0.6666666666666666,
              "#ed7953"
             ],
             [
              0.7777777777777778,
              "#fb9f3a"
             ],
             [
              0.8888888888888888,
              "#fdca26"
             ],
             [
              1,
              "#f0f921"
             ]
            ],
            "type": "surface"
           }
          ],
          "table": [
           {
            "cells": {
             "fill": {
              "color": "#EBF0F8"
             },
             "line": {
              "color": "white"
             }
            },
            "header": {
             "fill": {
              "color": "#C8D4E3"
             },
             "line": {
              "color": "white"
             }
            },
            "type": "table"
           }
          ]
         },
         "layout": {
          "annotationdefaults": {
           "arrowcolor": "#2a3f5f",
           "arrowhead": 0,
           "arrowwidth": 1
          },
          "autotypenumbers": "strict",
          "coloraxis": {
           "colorbar": {
            "outlinewidth": 0,
            "ticks": ""
           }
          },
          "colorscale": {
           "diverging": [
            [
             0,
             "#8e0152"
            ],
            [
             0.1,
             "#c51b7d"
            ],
            [
             0.2,
             "#de77ae"
            ],
            [
             0.3,
             "#f1b6da"
            ],
            [
             0.4,
             "#fde0ef"
            ],
            [
             0.5,
             "#f7f7f7"
            ],
            [
             0.6,
             "#e6f5d0"
            ],
            [
             0.7,
             "#b8e186"
            ],
            [
             0.8,
             "#7fbc41"
            ],
            [
             0.9,
             "#4d9221"
            ],
            [
             1,
             "#276419"
            ]
           ],
           "sequential": [
            [
             0,
             "#0d0887"
            ],
            [
             0.1111111111111111,
             "#46039f"
            ],
            [
             0.2222222222222222,
             "#7201a8"
            ],
            [
             0.3333333333333333,
             "#9c179e"
            ],
            [
             0.4444444444444444,
             "#bd3786"
            ],
            [
             0.5555555555555556,
             "#d8576b"
            ],
            [
             0.6666666666666666,
             "#ed7953"
            ],
            [
             0.7777777777777778,
             "#fb9f3a"
            ],
            [
             0.8888888888888888,
             "#fdca26"
            ],
            [
             1,
             "#f0f921"
            ]
           ],
           "sequentialminus": [
            [
             0,
             "#0d0887"
            ],
            [
             0.1111111111111111,
             "#46039f"
            ],
            [
             0.2222222222222222,
             "#7201a8"
            ],
            [
             0.3333333333333333,
             "#9c179e"
            ],
            [
             0.4444444444444444,
             "#bd3786"
            ],
            [
             0.5555555555555556,
             "#d8576b"
            ],
            [
             0.6666666666666666,
             "#ed7953"
            ],
            [
             0.7777777777777778,
             "#fb9f3a"
            ],
            [
             0.8888888888888888,
             "#fdca26"
            ],
            [
             1,
             "#f0f921"
            ]
           ]
          },
          "colorway": [
           "#636efa",
           "#EF553B",
           "#00cc96",
           "#ab63fa",
           "#FFA15A",
           "#19d3f3",
           "#FF6692",
           "#B6E880",
           "#FF97FF",
           "#FECB52"
          ],
          "font": {
           "color": "#2a3f5f"
          },
          "geo": {
           "bgcolor": "white",
           "lakecolor": "white",
           "landcolor": "#E5ECF6",
           "showlakes": true,
           "showland": true,
           "subunitcolor": "white"
          },
          "hoverlabel": {
           "align": "left"
          },
          "hovermode": "closest",
          "mapbox": {
           "style": "light"
          },
          "paper_bgcolor": "white",
          "plot_bgcolor": "#E5ECF6",
          "polar": {
           "angularaxis": {
            "gridcolor": "white",
            "linecolor": "white",
            "ticks": ""
           },
           "bgcolor": "#E5ECF6",
           "radialaxis": {
            "gridcolor": "white",
            "linecolor": "white",
            "ticks": ""
           }
          },
          "scene": {
           "xaxis": {
            "backgroundcolor": "#E5ECF6",
            "gridcolor": "white",
            "gridwidth": 2,
            "linecolor": "white",
            "showbackground": true,
            "ticks": "",
            "zerolinecolor": "white"
           },
           "yaxis": {
            "backgroundcolor": "#E5ECF6",
            "gridcolor": "white",
            "gridwidth": 2,
            "linecolor": "white",
            "showbackground": true,
            "ticks": "",
            "zerolinecolor": "white"
           },
           "zaxis": {
            "backgroundcolor": "#E5ECF6",
            "gridcolor": "white",
            "gridwidth": 2,
            "linecolor": "white",
            "showbackground": true,
            "ticks": "",
            "zerolinecolor": "white"
           }
          },
          "shapedefaults": {
           "line": {
            "color": "#2a3f5f"
           }
          },
          "ternary": {
           "aaxis": {
            "gridcolor": "white",
            "linecolor": "white",
            "ticks": ""
           },
           "baxis": {
            "gridcolor": "white",
            "linecolor": "white",
            "ticks": ""
           },
           "bgcolor": "#E5ECF6",
           "caxis": {
            "gridcolor": "white",
            "linecolor": "white",
            "ticks": ""
           }
          },
          "title": {
           "x": 0.05
          },
          "xaxis": {
           "automargin": true,
           "gridcolor": "white",
           "linecolor": "white",
           "ticks": "",
           "title": {
            "standoff": 15
           },
           "zerolinecolor": "white",
           "zerolinewidth": 2
          },
          "yaxis": {
           "automargin": true,
           "gridcolor": "white",
           "linecolor": "white",
           "ticks": "",
           "title": {
            "standoff": 15
           },
           "zerolinecolor": "white",
           "zerolinewidth": 2
          }
         }
        },
        "title": {
         "text": "Sugarcane Production(1000 tons) in 3 district of UP Over the Years"
        },
        "xaxis": {
         "anchor": "y",
         "domain": [
          0,
          1
         ],
         "title": {
          "text": "Year"
         }
        },
        "yaxis": {
         "anchor": "x",
         "domain": [
          0,
          1
         ],
         "title": {
          "text": "Production (1000 tones)"
         }
        }
       }
      }
     },
     "metadata": {},
     "output_type": "display_data"
    }
   ],
   "source": [
    "y = up['SUGARCANE PRODUCTION (1000 tons)']\n",
    "x = up['Year']\n",
    "dist_cols = [\n",
    "    'Kheri', \n",
    "    'Meerut',\n",
    "    'Muzaffarnagar'\n",
    "]\n",
    "filtered_data = up[up['Dist Name'].isin(dist_cols)]\n",
    "\n",
    "fig = px.line(\n",
    "    filtered_data,\n",
    "    x='Year',\n",
    "    y='SUGARCANE PRODUCTION (1000 tons)',\n",
    "    color='Dist Name',\n",
    "    \n",
    "    color_discrete_map={'Kheri': 'red', \n",
    "    'Meerut':'blue',\n",
    "    'Muzaffarnagar':'green',},\n",
    "    markers=True,\n",
    "    title='Sugarcane Production(1000 tons) in 3 district of UP Over the Years'\n",
    ")\n",
    "\n",
    "fig.update_layout(\n",
    "    xaxis_title='Year',\n",
    "    yaxis_title='Production (1000 tones)',\n",
    "    height=600\n",
    ")\n",
    "\n",
    "fig.show()"
   ]
  },
  {
   "cell_type": "code",
   "execution_count": null,
   "id": "06590400",
   "metadata": {},
   "outputs": [],
   "source": []
  }
 ],
 "metadata": {
  "kernelspec": {
   "display_name": "env",
   "language": "python",
   "name": "python3"
  },
  "language_info": {
   "codemirror_mode": {
    "name": "ipython",
    "version": 3
   },
   "file_extension": ".py",
   "mimetype": "text/x-python",
   "name": "python",
   "nbconvert_exporter": "python",
   "pygments_lexer": "ipython3",
   "version": "3.13.5"
  }
 },
 "nbformat": 4,
 "nbformat_minor": 5
}
