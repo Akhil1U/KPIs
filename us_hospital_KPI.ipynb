{
 "cells": [
  {
   "cell_type": "code",
   "execution_count": null,
   "id": "4b2c9911",
   "metadata": {},
   "outputs": [],
   "source": [
    "import pandas as pd\n",
    "import plotly.express as px\n",
    "import plotly.graph_objects as go\n",
    "import numpy as np\n",
    "from scipy.stats import gaussian_kde\n",
    "from plotly.subplots import make_subplots\n",
    "import pprint"
   ]
  },
  {
   "cell_type": "code",
   "execution_count": 2,
   "id": "ac4e7675",
   "metadata": {},
   "outputs": [],
   "source": [
    "data = pd.read_csv(\"../datasets/cardiac_data_cleaned_engineered.csv\")"
   ]
  },
  {
   "cell_type": "code",
   "execution_count": 3,
   "id": "e91d0cd7",
   "metadata": {},
   "outputs": [
    {
     "data": {
      "text/plain": [
       "(2812, 23)"
      ]
     },
     "execution_count": 3,
     "metadata": {},
     "output_type": "execute_result"
    }
   ],
   "source": [
    "data.shape"
   ]
  },
  {
   "cell_type": "code",
   "execution_count": 8,
   "id": "05a19672",
   "metadata": {},
   "outputs": [],
   "source": [
    "#### to dispaly all feature without wrap in data.head()\n",
    "pd.set_option('display.max_columns', None)"
   ]
  },
  {
   "cell_type": "code",
   "execution_count": 7,
   "id": "1f7f3d0b",
   "metadata": {},
   "outputs": [
    {
     "data": {
      "text/html": [
       "<div>\n",
       "<style scoped>\n",
       "    .dataframe tbody tr th:only-of-type {\n",
       "        vertical-align: middle;\n",
       "    }\n",
       "\n",
       "    .dataframe tbody tr th {\n",
       "        vertical-align: top;\n",
       "    }\n",
       "\n",
       "    .dataframe thead th {\n",
       "        text-align: right;\n",
       "    }\n",
       "</style>\n",
       "<table border=\"1\" class=\"dataframe\">\n",
       "  <thead>\n",
       "    <tr style=\"text-align: right;\">\n",
       "      <th></th>\n",
       "      <th>Facility_ID</th>\n",
       "      <th>Hospital_Name</th>\n",
       "      <th>Detailed_Region</th>\n",
       "      <th>Region</th>\n",
       "      <th>Procedure</th>\n",
       "      <th>Year_of_Hospital_Discharge</th>\n",
       "      <th>Number_of_Cases</th>\n",
       "      <th>Number_of_Deaths</th>\n",
       "      <th>Observed_Mortality_Rate</th>\n",
       "      <th>Expected_Mortality_Rate</th>\n",
       "      <th>Risk_Adjusted_Mortality_Rate</th>\n",
       "      <th>Lower_Limit_of_Confidence_Interval</th>\n",
       "      <th>Upper_Limit_of_Confidence_Interval</th>\n",
       "      <th>Comparison_Results</th>\n",
       "      <th>Start_Year</th>\n",
       "      <th>End_Year</th>\n",
       "      <th>Mid_Year</th>\n",
       "      <th>Comparison_Results_Category</th>\n",
       "      <th>Is_Higher_Than_Expected_Mortality</th>\n",
       "      <th>Is_Lower_Than_Expected_Mortality</th>\n",
       "      <th>Is_As_Expected_Mortality</th>\n",
       "      <th>Observed_vs_Expected_Difference</th>\n",
       "      <th>Observed_vs_RiskAdjusted_Difference</th>\n",
       "    </tr>\n",
       "  </thead>\n",
       "  <tbody>\n",
       "    <tr>\n",
       "      <th>0</th>\n",
       "      <td>1</td>\n",
       "      <td>Albany Med. Ctr</td>\n",
       "      <td>Capital District</td>\n",
       "      <td>Capital District</td>\n",
       "      <td>All PCI</td>\n",
       "      <td>2016</td>\n",
       "      <td>680</td>\n",
       "      <td>17</td>\n",
       "      <td>2.50</td>\n",
       "      <td>1.52</td>\n",
       "      <td>2.03</td>\n",
       "      <td>1.18</td>\n",
       "      <td>3.26</td>\n",
       "      <td>Rate not different than Statewide Rate</td>\n",
       "      <td>2016</td>\n",
       "      <td>2016</td>\n",
       "      <td>2016</td>\n",
       "      <td>Rate not different than Statewide Rate</td>\n",
       "      <td>False</td>\n",
       "      <td>False</td>\n",
       "      <td>True</td>\n",
       "      <td>0.98</td>\n",
       "      <td>0.47</td>\n",
       "    </tr>\n",
       "    <tr>\n",
       "      <th>1</th>\n",
       "      <td>1045</td>\n",
       "      <td>White Plains Hospital</td>\n",
       "      <td>NY Metro - New Rochelle</td>\n",
       "      <td>NY Metro - New Rochelle</td>\n",
       "      <td>Non-Emergency PCI</td>\n",
       "      <td>2015</td>\n",
       "      <td>338</td>\n",
       "      <td>1</td>\n",
       "      <td>0.30</td>\n",
       "      <td>0.64</td>\n",
       "      <td>0.34</td>\n",
       "      <td>0.00</td>\n",
       "      <td>1.91</td>\n",
       "      <td>Rate not different than Statewide Rate</td>\n",
       "      <td>2015</td>\n",
       "      <td>2015</td>\n",
       "      <td>2015</td>\n",
       "      <td>Rate not different than Statewide Rate</td>\n",
       "      <td>False</td>\n",
       "      <td>False</td>\n",
       "      <td>True</td>\n",
       "      <td>-0.34</td>\n",
       "      <td>-0.04</td>\n",
       "    </tr>\n",
       "    <tr>\n",
       "      <th>2</th>\n",
       "      <td>1438</td>\n",
       "      <td>Bellevue Hospital Ctr</td>\n",
       "      <td>Manhattan</td>\n",
       "      <td>NY Metro - NYC</td>\n",
       "      <td>All PCI</td>\n",
       "      <td>2010</td>\n",
       "      <td>448</td>\n",
       "      <td>4</td>\n",
       "      <td>0.89</td>\n",
       "      <td>0.89</td>\n",
       "      <td>0.84</td>\n",
       "      <td>0.23</td>\n",
       "      <td>2.16</td>\n",
       "      <td>Rate not different than Statewide Rate</td>\n",
       "      <td>2010</td>\n",
       "      <td>2010</td>\n",
       "      <td>2010</td>\n",
       "      <td>Rate not different than Statewide Rate</td>\n",
       "      <td>False</td>\n",
       "      <td>False</td>\n",
       "      <td>True</td>\n",
       "      <td>0.00</td>\n",
       "      <td>0.05</td>\n",
       "    </tr>\n",
       "    <tr>\n",
       "      <th>3</th>\n",
       "      <td>1439</td>\n",
       "      <td>Beth Israel Med Ctr</td>\n",
       "      <td>Manhattan</td>\n",
       "      <td>NY Metro - NYC</td>\n",
       "      <td>All PCI</td>\n",
       "      <td>2010</td>\n",
       "      <td>1762</td>\n",
       "      <td>11</td>\n",
       "      <td>0.62</td>\n",
       "      <td>0.70</td>\n",
       "      <td>0.75</td>\n",
       "      <td>0.38</td>\n",
       "      <td>1.35</td>\n",
       "      <td>Rate not different than Statewide Rate</td>\n",
       "      <td>2010</td>\n",
       "      <td>2010</td>\n",
       "      <td>2010</td>\n",
       "      <td>Rate not different than Statewide Rate</td>\n",
       "      <td>False</td>\n",
       "      <td>False</td>\n",
       "      <td>True</td>\n",
       "      <td>-0.08</td>\n",
       "      <td>-0.13</td>\n",
       "    </tr>\n",
       "    <tr>\n",
       "      <th>4</th>\n",
       "      <td>1178</td>\n",
       "      <td>Bronx-Lebanon-Cncourse</td>\n",
       "      <td>Bronx</td>\n",
       "      <td>NY Metro - NYC</td>\n",
       "      <td>All PCI</td>\n",
       "      <td>2010</td>\n",
       "      <td>65</td>\n",
       "      <td>4</td>\n",
       "      <td>6.15</td>\n",
       "      <td>2.41</td>\n",
       "      <td>2.15</td>\n",
       "      <td>0.58</td>\n",
       "      <td>5.50</td>\n",
       "      <td>Rate not different than Statewide Rate</td>\n",
       "      <td>2010</td>\n",
       "      <td>2010</td>\n",
       "      <td>2010</td>\n",
       "      <td>Rate not different than Statewide Rate</td>\n",
       "      <td>False</td>\n",
       "      <td>False</td>\n",
       "      <td>True</td>\n",
       "      <td>3.74</td>\n",
       "      <td>4.00</td>\n",
       "    </tr>\n",
       "  </tbody>\n",
       "</table>\n",
       "</div>"
      ],
      "text/plain": [
       "   Facility_ID           Hospital_Name          Detailed_Region  \\\n",
       "0            1         Albany Med. Ctr         Capital District   \n",
       "1         1045   White Plains Hospital  NY Metro - New Rochelle   \n",
       "2         1438   Bellevue Hospital Ctr                Manhattan   \n",
       "3         1439     Beth Israel Med Ctr                Manhattan   \n",
       "4         1178  Bronx-Lebanon-Cncourse                    Bronx   \n",
       "\n",
       "                    Region          Procedure Year_of_Hospital_Discharge  \\\n",
       "0         Capital District            All PCI                       2016   \n",
       "1  NY Metro - New Rochelle  Non-Emergency PCI                       2015   \n",
       "2           NY Metro - NYC            All PCI                       2010   \n",
       "3           NY Metro - NYC            All PCI                       2010   \n",
       "4           NY Metro - NYC            All PCI                       2010   \n",
       "\n",
       "   Number_of_Cases  Number_of_Deaths  Observed_Mortality_Rate  \\\n",
       "0              680                17                     2.50   \n",
       "1              338                 1                     0.30   \n",
       "2              448                 4                     0.89   \n",
       "3             1762                11                     0.62   \n",
       "4               65                 4                     6.15   \n",
       "\n",
       "   Expected_Mortality_Rate  Risk_Adjusted_Mortality_Rate  \\\n",
       "0                     1.52                          2.03   \n",
       "1                     0.64                          0.34   \n",
       "2                     0.89                          0.84   \n",
       "3                     0.70                          0.75   \n",
       "4                     2.41                          2.15   \n",
       "\n",
       "   Lower_Limit_of_Confidence_Interval  Upper_Limit_of_Confidence_Interval  \\\n",
       "0                                1.18                                3.26   \n",
       "1                                0.00                                1.91   \n",
       "2                                0.23                                2.16   \n",
       "3                                0.38                                1.35   \n",
       "4                                0.58                                5.50   \n",
       "\n",
       "                       Comparison_Results  Start_Year  End_Year  Mid_Year  \\\n",
       "0  Rate not different than Statewide Rate        2016      2016      2016   \n",
       "1  Rate not different than Statewide Rate        2015      2015      2015   \n",
       "2  Rate not different than Statewide Rate        2010      2010      2010   \n",
       "3  Rate not different than Statewide Rate        2010      2010      2010   \n",
       "4  Rate not different than Statewide Rate        2010      2010      2010   \n",
       "\n",
       "              Comparison_Results_Category  Is_Higher_Than_Expected_Mortality  \\\n",
       "0  Rate not different than Statewide Rate                              False   \n",
       "1  Rate not different than Statewide Rate                              False   \n",
       "2  Rate not different than Statewide Rate                              False   \n",
       "3  Rate not different than Statewide Rate                              False   \n",
       "4  Rate not different than Statewide Rate                              False   \n",
       "\n",
       "   Is_Lower_Than_Expected_Mortality  Is_As_Expected_Mortality  \\\n",
       "0                             False                      True   \n",
       "1                             False                      True   \n",
       "2                             False                      True   \n",
       "3                             False                      True   \n",
       "4                             False                      True   \n",
       "\n",
       "   Observed_vs_Expected_Difference  Observed_vs_RiskAdjusted_Difference  \n",
       "0                             0.98                                 0.47  \n",
       "1                            -0.34                                -0.04  \n",
       "2                             0.00                                 0.05  \n",
       "3                            -0.08                                -0.13  \n",
       "4                             3.74                                 4.00  "
      ]
     },
     "execution_count": 7,
     "metadata": {},
     "output_type": "execute_result"
    }
   ],
   "source": [
    "data.head()"
   ]
  },
  {
   "cell_type": "code",
   "execution_count": 5,
   "id": "5da3403c",
   "metadata": {},
   "outputs": [
    {
     "name": "stdout",
     "output_type": "stream",
     "text": [
      "<class 'pandas.core.frame.DataFrame'>\n",
      "RangeIndex: 2812 entries, 0 to 2811\n",
      "Data columns (total 23 columns):\n",
      " #   Column                               Non-Null Count  Dtype  \n",
      "---  ------                               --------------  -----  \n",
      " 0   Facility_ID                          2812 non-null   int64  \n",
      " 1   Hospital_Name                        2812 non-null   object \n",
      " 2   Detailed_Region                      2812 non-null   object \n",
      " 3   Region                               2812 non-null   object \n",
      " 4   Procedure                            2812 non-null   object \n",
      " 5   Year_of_Hospital_Discharge           2812 non-null   object \n",
      " 6   Number_of_Cases                      2812 non-null   int64  \n",
      " 7   Number_of_Deaths                     2812 non-null   int64  \n",
      " 8   Observed_Mortality_Rate              2812 non-null   float64\n",
      " 9   Expected_Mortality_Rate              2812 non-null   float64\n",
      " 10  Risk_Adjusted_Mortality_Rate         2812 non-null   float64\n",
      " 11  Lower_Limit_of_Confidence_Interval   2757 non-null   float64\n",
      " 12  Upper_Limit_of_Confidence_Interval   2757 non-null   float64\n",
      " 13  Comparison_Results                   2812 non-null   object \n",
      " 14  Start_Year                           2812 non-null   int64  \n",
      " 15  End_Year                             2812 non-null   int64  \n",
      " 16  Mid_Year                             2812 non-null   int64  \n",
      " 17  Comparison_Results_Category          2812 non-null   object \n",
      " 18  Is_Higher_Than_Expected_Mortality    2812 non-null   bool   \n",
      " 19  Is_Lower_Than_Expected_Mortality     2812 non-null   bool   \n",
      " 20  Is_As_Expected_Mortality             2812 non-null   bool   \n",
      " 21  Observed_vs_Expected_Difference      2812 non-null   float64\n",
      " 22  Observed_vs_RiskAdjusted_Difference  2812 non-null   float64\n",
      "dtypes: bool(3), float64(7), int64(6), object(7)\n",
      "memory usage: 447.7+ KB\n"
     ]
    }
   ],
   "source": [
    "data.info()"
   ]
  },
  {
   "cell_type": "code",
   "execution_count": 11,
   "id": "a109a78c",
   "metadata": {},
   "outputs": [
    {
     "data": {
      "text/html": [
       "<div>\n",
       "<style scoped>\n",
       "    .dataframe tbody tr th:only-of-type {\n",
       "        vertical-align: middle;\n",
       "    }\n",
       "\n",
       "    .dataframe tbody tr th {\n",
       "        vertical-align: top;\n",
       "    }\n",
       "\n",
       "    .dataframe thead th {\n",
       "        text-align: right;\n",
       "    }\n",
       "</style>\n",
       "<table border=\"1\" class=\"dataframe\">\n",
       "  <thead>\n",
       "    <tr style=\"text-align: right;\">\n",
       "      <th></th>\n",
       "      <th>Facility_ID</th>\n",
       "      <th>Number_of_Cases</th>\n",
       "      <th>Number_of_Deaths</th>\n",
       "      <th>Observed_Mortality_Rate</th>\n",
       "      <th>Expected_Mortality_Rate</th>\n",
       "      <th>Risk_Adjusted_Mortality_Rate</th>\n",
       "      <th>Lower_Limit_of_Confidence_Interval</th>\n",
       "      <th>Upper_Limit_of_Confidence_Interval</th>\n",
       "      <th>Start_Year</th>\n",
       "      <th>End_Year</th>\n",
       "      <th>Mid_Year</th>\n",
       "      <th>Observed_vs_Expected_Difference</th>\n",
       "      <th>Observed_vs_RiskAdjusted_Difference</th>\n",
       "    </tr>\n",
       "  </thead>\n",
       "  <tbody>\n",
       "    <tr>\n",
       "      <th>count</th>\n",
       "      <td>2812.000000</td>\n",
       "      <td>2812.000000</td>\n",
       "      <td>2812.000000</td>\n",
       "      <td>2812.000000</td>\n",
       "      <td>2812.000000</td>\n",
       "      <td>2812.000000</td>\n",
       "      <td>2757.000000</td>\n",
       "      <td>2757.000000</td>\n",
       "      <td>2812.000000</td>\n",
       "      <td>2812.000000</td>\n",
       "      <td>2812.000000</td>\n",
       "      <td>2812.000000</td>\n",
       "      <td>2812.000000</td>\n",
       "    </tr>\n",
       "    <tr>\n",
       "      <th>mean</th>\n",
       "      <td>897.571124</td>\n",
       "      <td>1080.069701</td>\n",
       "      <td>18.603841</td>\n",
       "      <td>2.065509</td>\n",
       "      <td>1.950423</td>\n",
       "      <td>2.077287</td>\n",
       "      <td>0.900511</td>\n",
       "      <td>5.929300</td>\n",
       "      <td>2013.844595</td>\n",
       "      <td>2014.679587</td>\n",
       "      <td>2014.262091</td>\n",
       "      <td>0.115085</td>\n",
       "      <td>-0.011778</td>\n",
       "    </tr>\n",
       "    <tr>\n",
       "      <th>std</th>\n",
       "      <td>602.381608</td>\n",
       "      <td>4359.572902</td>\n",
       "      <td>74.354456</td>\n",
       "      <td>1.699924</td>\n",
       "      <td>1.202760</td>\n",
       "      <td>1.752055</td>\n",
       "      <td>0.967809</td>\n",
       "      <td>24.886388</td>\n",
       "      <td>2.991336</td>\n",
       "      <td>2.872502</td>\n",
       "      <td>2.890744</td>\n",
       "      <td>1.189586</td>\n",
       "      <td>0.734439</td>\n",
       "    </tr>\n",
       "    <tr>\n",
       "      <th>min</th>\n",
       "      <td>0.000000</td>\n",
       "      <td>1.000000</td>\n",
       "      <td>0.000000</td>\n",
       "      <td>0.000000</td>\n",
       "      <td>0.170000</td>\n",
       "      <td>0.000000</td>\n",
       "      <td>0.000000</td>\n",
       "      <td>0.580000</td>\n",
       "      <td>2008.000000</td>\n",
       "      <td>2010.000000</td>\n",
       "      <td>2009.000000</td>\n",
       "      <td>-7.450000</td>\n",
       "      <td>-6.290000</td>\n",
       "    </tr>\n",
       "    <tr>\n",
       "      <th>25%</th>\n",
       "      <td>456.500000</td>\n",
       "      <td>202.000000</td>\n",
       "      <td>3.000000</td>\n",
       "      <td>0.810000</td>\n",
       "      <td>0.947500</td>\n",
       "      <td>0.840000</td>\n",
       "      <td>0.170000</td>\n",
       "      <td>2.300000</td>\n",
       "      <td>2011.000000</td>\n",
       "      <td>2012.000000</td>\n",
       "      <td>2012.000000</td>\n",
       "      <td>-0.460000</td>\n",
       "      <td>-0.210000</td>\n",
       "    </tr>\n",
       "    <tr>\n",
       "      <th>50%</th>\n",
       "      <td>885.000000</td>\n",
       "      <td>375.000000</td>\n",
       "      <td>7.000000</td>\n",
       "      <td>1.605000</td>\n",
       "      <td>1.610000</td>\n",
       "      <td>1.560000</td>\n",
       "      <td>0.540000</td>\n",
       "      <td>3.980000</td>\n",
       "      <td>2014.000000</td>\n",
       "      <td>2015.000000</td>\n",
       "      <td>2014.000000</td>\n",
       "      <td>0.000000</td>\n",
       "      <td>0.000000</td>\n",
       "    </tr>\n",
       "    <tr>\n",
       "      <th>75%</th>\n",
       "      <td>1438.000000</td>\n",
       "      <td>702.250000</td>\n",
       "      <td>13.000000</td>\n",
       "      <td>2.992500</td>\n",
       "      <td>2.810000</td>\n",
       "      <td>3.000000</td>\n",
       "      <td>1.370000</td>\n",
       "      <td>6.000000</td>\n",
       "      <td>2016.000000</td>\n",
       "      <td>2017.000000</td>\n",
       "      <td>2017.000000</td>\n",
       "      <td>0.500000</td>\n",
       "      <td>0.210000</td>\n",
       "    </tr>\n",
       "    <tr>\n",
       "      <th>max</th>\n",
       "      <td>3058.000000</td>\n",
       "      <td>54276.000000</td>\n",
       "      <td>1021.000000</td>\n",
       "      <td>20.000000</td>\n",
       "      <td>8.060000</td>\n",
       "      <td>14.590000</td>\n",
       "      <td>6.660000</td>\n",
       "      <td>1228.420000</td>\n",
       "      <td>2019.000000</td>\n",
       "      <td>2019.000000</td>\n",
       "      <td>2019.000000</td>\n",
       "      <td>14.610000</td>\n",
       "      <td>12.620000</td>\n",
       "    </tr>\n",
       "  </tbody>\n",
       "</table>\n",
       "</div>"
      ],
      "text/plain": [
       "       Facility_ID  Number_of_Cases  Number_of_Deaths  \\\n",
       "count  2812.000000      2812.000000       2812.000000   \n",
       "mean    897.571124      1080.069701         18.603841   \n",
       "std     602.381608      4359.572902         74.354456   \n",
       "min       0.000000         1.000000          0.000000   \n",
       "25%     456.500000       202.000000          3.000000   \n",
       "50%     885.000000       375.000000          7.000000   \n",
       "75%    1438.000000       702.250000         13.000000   \n",
       "max    3058.000000     54276.000000       1021.000000   \n",
       "\n",
       "       Observed_Mortality_Rate  Expected_Mortality_Rate  \\\n",
       "count              2812.000000              2812.000000   \n",
       "mean                  2.065509                 1.950423   \n",
       "std                   1.699924                 1.202760   \n",
       "min                   0.000000                 0.170000   \n",
       "25%                   0.810000                 0.947500   \n",
       "50%                   1.605000                 1.610000   \n",
       "75%                   2.992500                 2.810000   \n",
       "max                  20.000000                 8.060000   \n",
       "\n",
       "       Risk_Adjusted_Mortality_Rate  Lower_Limit_of_Confidence_Interval  \\\n",
       "count                   2812.000000                         2757.000000   \n",
       "mean                       2.077287                            0.900511   \n",
       "std                        1.752055                            0.967809   \n",
       "min                        0.000000                            0.000000   \n",
       "25%                        0.840000                            0.170000   \n",
       "50%                        1.560000                            0.540000   \n",
       "75%                        3.000000                            1.370000   \n",
       "max                       14.590000                            6.660000   \n",
       "\n",
       "       Upper_Limit_of_Confidence_Interval   Start_Year     End_Year  \\\n",
       "count                         2757.000000  2812.000000  2812.000000   \n",
       "mean                             5.929300  2013.844595  2014.679587   \n",
       "std                             24.886388     2.991336     2.872502   \n",
       "min                              0.580000  2008.000000  2010.000000   \n",
       "25%                              2.300000  2011.000000  2012.000000   \n",
       "50%                              3.980000  2014.000000  2015.000000   \n",
       "75%                              6.000000  2016.000000  2017.000000   \n",
       "max                           1228.420000  2019.000000  2019.000000   \n",
       "\n",
       "          Mid_Year  Observed_vs_Expected_Difference  \\\n",
       "count  2812.000000                      2812.000000   \n",
       "mean   2014.262091                         0.115085   \n",
       "std       2.890744                         1.189586   \n",
       "min    2009.000000                        -7.450000   \n",
       "25%    2012.000000                        -0.460000   \n",
       "50%    2014.000000                         0.000000   \n",
       "75%    2017.000000                         0.500000   \n",
       "max    2019.000000                        14.610000   \n",
       "\n",
       "       Observed_vs_RiskAdjusted_Difference  \n",
       "count                          2812.000000  \n",
       "mean                             -0.011778  \n",
       "std                               0.734439  \n",
       "min                              -6.290000  \n",
       "25%                              -0.210000  \n",
       "50%                               0.000000  \n",
       "75%                               0.210000  \n",
       "max                              12.620000  "
      ]
     },
     "execution_count": 11,
     "metadata": {},
     "output_type": "execute_result"
    }
   ],
   "source": [
    "data.describe()"
   ]
  },
  {
   "cell_type": "code",
   "execution_count": null,
   "id": "7dc11416",
   "metadata": {},
   "outputs": [
    {
     "data": {
      "text/html": [
       "<div>\n",
       "<style scoped>\n",
       "    .dataframe tbody tr th:only-of-type {\n",
       "        vertical-align: middle;\n",
       "    }\n",
       "\n",
       "    .dataframe tbody tr th {\n",
       "        vertical-align: top;\n",
       "    }\n",
       "\n",
       "    .dataframe thead th {\n",
       "        text-align: right;\n",
       "    }\n",
       "</style>\n",
       "<table border=\"1\" class=\"dataframe\">\n",
       "  <thead>\n",
       "    <tr style=\"text-align: right;\">\n",
       "      <th></th>\n",
       "      <th>Column</th>\n",
       "      <th>Unique Values</th>\n",
       "      <th>null values</th>\n",
       "    </tr>\n",
       "  </thead>\n",
       "  <tbody>\n",
       "    <tr>\n",
       "      <th>0</th>\n",
       "      <td>Facility_ID</td>\n",
       "      <td>72</td>\n",
       "      <td>0</td>\n",
       "    </tr>\n",
       "    <tr>\n",
       "      <th>1</th>\n",
       "      <td>Hospital_Name</td>\n",
       "      <td>114</td>\n",
       "      <td>0</td>\n",
       "    </tr>\n",
       "    <tr>\n",
       "      <th>2</th>\n",
       "      <td>Detailed_Region</td>\n",
       "      <td>12</td>\n",
       "      <td>0</td>\n",
       "    </tr>\n",
       "    <tr>\n",
       "      <th>3</th>\n",
       "      <td>Region</td>\n",
       "      <td>8</td>\n",
       "      <td>0</td>\n",
       "    </tr>\n",
       "    <tr>\n",
       "      <th>4</th>\n",
       "      <td>Procedure</td>\n",
       "      <td>6</td>\n",
       "      <td>0</td>\n",
       "    </tr>\n",
       "    <tr>\n",
       "      <th>5</th>\n",
       "      <td>Year_of_Hospital_Discharge</td>\n",
       "      <td>20</td>\n",
       "      <td>0</td>\n",
       "    </tr>\n",
       "    <tr>\n",
       "      <th>6</th>\n",
       "      <td>Number_of_Cases</td>\n",
       "      <td>1219</td>\n",
       "      <td>0</td>\n",
       "    </tr>\n",
       "    <tr>\n",
       "      <th>7</th>\n",
       "      <td>Number_of_Deaths</td>\n",
       "      <td>116</td>\n",
       "      <td>0</td>\n",
       "    </tr>\n",
       "    <tr>\n",
       "      <th>8</th>\n",
       "      <td>Observed_Mortality_Rate</td>\n",
       "      <td>568</td>\n",
       "      <td>0</td>\n",
       "    </tr>\n",
       "    <tr>\n",
       "      <th>9</th>\n",
       "      <td>Expected_Mortality_Rate</td>\n",
       "      <td>474</td>\n",
       "      <td>0</td>\n",
       "    </tr>\n",
       "    <tr>\n",
       "      <th>10</th>\n",
       "      <td>Risk_Adjusted_Mortality_Rate</td>\n",
       "      <td>594</td>\n",
       "      <td>0</td>\n",
       "    </tr>\n",
       "    <tr>\n",
       "      <th>11</th>\n",
       "      <td>Lower_Limit_of_Confidence_Interval</td>\n",
       "      <td>373</td>\n",
       "      <td>55</td>\n",
       "    </tr>\n",
       "    <tr>\n",
       "      <th>12</th>\n",
       "      <td>Upper_Limit_of_Confidence_Interval</td>\n",
       "      <td>987</td>\n",
       "      <td>55</td>\n",
       "    </tr>\n",
       "    <tr>\n",
       "      <th>13</th>\n",
       "      <td>Comparison_Results</td>\n",
       "      <td>4</td>\n",
       "      <td>0</td>\n",
       "    </tr>\n",
       "    <tr>\n",
       "      <th>14</th>\n",
       "      <td>Start_Year</td>\n",
       "      <td>12</td>\n",
       "      <td>0</td>\n",
       "    </tr>\n",
       "    <tr>\n",
       "      <th>15</th>\n",
       "      <td>End_Year</td>\n",
       "      <td>10</td>\n",
       "      <td>0</td>\n",
       "    </tr>\n",
       "    <tr>\n",
       "      <th>16</th>\n",
       "      <td>Mid_Year</td>\n",
       "      <td>11</td>\n",
       "      <td>0</td>\n",
       "    </tr>\n",
       "    <tr>\n",
       "      <th>17</th>\n",
       "      <td>Comparison_Results_Category</td>\n",
       "      <td>4</td>\n",
       "      <td>0</td>\n",
       "    </tr>\n",
       "    <tr>\n",
       "      <th>18</th>\n",
       "      <td>Is_Higher_Than_Expected_Mortality</td>\n",
       "      <td>1</td>\n",
       "      <td>0</td>\n",
       "    </tr>\n",
       "    <tr>\n",
       "      <th>19</th>\n",
       "      <td>Is_Lower_Than_Expected_Mortality</td>\n",
       "      <td>1</td>\n",
       "      <td>0</td>\n",
       "    </tr>\n",
       "    <tr>\n",
       "      <th>20</th>\n",
       "      <td>Is_As_Expected_Mortality</td>\n",
       "      <td>2</td>\n",
       "      <td>0</td>\n",
       "    </tr>\n",
       "    <tr>\n",
       "      <th>21</th>\n",
       "      <td>Observed_vs_Expected_Difference</td>\n",
       "      <td>1079</td>\n",
       "      <td>0</td>\n",
       "    </tr>\n",
       "    <tr>\n",
       "      <th>22</th>\n",
       "      <td>Observed_vs_RiskAdjusted_Difference</td>\n",
       "      <td>809</td>\n",
       "      <td>0</td>\n",
       "    </tr>\n",
       "  </tbody>\n",
       "</table>\n",
       "</div>"
      ],
      "text/plain": [
       "                                 Column  Unique Values  null values\n",
       "0                           Facility_ID             72            0\n",
       "1                         Hospital_Name            114            0\n",
       "2                       Detailed_Region             12            0\n",
       "3                                Region              8            0\n",
       "4                             Procedure              6            0\n",
       "5            Year_of_Hospital_Discharge             20            0\n",
       "6                       Number_of_Cases           1219            0\n",
       "7                      Number_of_Deaths            116            0\n",
       "8               Observed_Mortality_Rate            568            0\n",
       "9               Expected_Mortality_Rate            474            0\n",
       "10         Risk_Adjusted_Mortality_Rate            594            0\n",
       "11   Lower_Limit_of_Confidence_Interval            373           55\n",
       "12   Upper_Limit_of_Confidence_Interval            987           55\n",
       "13                   Comparison_Results              4            0\n",
       "14                           Start_Year             12            0\n",
       "15                             End_Year             10            0\n",
       "16                             Mid_Year             11            0\n",
       "17          Comparison_Results_Category              4            0\n",
       "18    Is_Higher_Than_Expected_Mortality              1            0\n",
       "19     Is_Lower_Than_Expected_Mortality              1            0\n",
       "20             Is_As_Expected_Mortality              2            0\n",
       "21      Observed_vs_Expected_Difference           1079            0\n",
       "22  Observed_vs_RiskAdjusted_Difference            809            0"
      ]
     },
     "metadata": {},
     "output_type": "display_data"
    }
   ],
   "source": [
    "def Columns_Info(data):\n",
    "    \"\"\"\n",
    "    Display a table showing the number of unique values for each column in the DataFrame.\n",
    "    \"\"\"\n",
    "    unique_counts = {\n",
    "        \"Column\": data.columns,\n",
    "        \"Unique Values\": [data[col].nunique() for col in data.columns],\n",
    "        'null values': [data[col].isna().sum() for col in data.columns]\n",
    "    }\n",
    "    \n",
    "    result_df = pd.DataFrame(unique_counts)\n",
    "    display(result_df)\n",
    "Columns_Info(data)"
   ]
  },
  {
   "cell_type": "markdown",
   "id": "d07c5909",
   "metadata": {},
   "source": [
    "## All Unique Values of Categorical Feature "
   ]
  },
  {
   "cell_type": "code",
   "execution_count": 12,
   "id": "47ed56e0",
   "metadata": {},
   "outputs": [
    {
     "data": {
      "text/plain": [
       "array(['Capital District', 'NY Metro - New Rochelle', 'NY Metro - NYC',\n",
       "       'Western NY - Rochester', 'Western NY - Buffalo', 'Central NY',\n",
       "       'NY Metro - Long Island', 'New York State'], dtype=object)"
      ]
     },
     "execution_count": 12,
     "metadata": {},
     "output_type": "execute_result"
    }
   ],
   "source": [
    "data['Region'].unique()"
   ]
  },
  {
   "cell_type": "code",
   "execution_count": null,
   "id": "bbb2d3f3",
   "metadata": {},
   "outputs": [
    {
     "data": {
      "text/plain": [
       "array(['Capital District', 'NY Metro - New Rochelle', 'Manhattan',\n",
       "       'Bronx', 'Kings', 'Western NY - Rochester', 'Queens',\n",
       "       'Western NY - Buffalo', 'Central NY', 'NY Metro - Long Island',\n",
       "       'Staten Island', 'New York State'], dtype=object)"
      ]
     },
     "execution_count": 10,
     "metadata": {},
     "output_type": "execute_result"
    }
   ],
   "source": [
    "data['Detailed_Region'].unique()    ## Region and detailed region has not sigmificant difference so we will remove this feature."
   ]
  },
  {
   "cell_type": "code",
   "execution_count": 13,
   "id": "92ac4427",
   "metadata": {},
   "outputs": [
    {
     "data": {
      "text/plain": [
       "array(['All PCI', 'Non-Emergency PCI', 'Valve or Valve/CABG', 'TAVR',\n",
       "       'CABG', 'Emergency PCI'], dtype=object)"
      ]
     },
     "execution_count": 13,
     "metadata": {},
     "output_type": "execute_result"
    }
   ],
   "source": [
    "data['Procedure'].unique()"
   ]
  },
  {
   "cell_type": "code",
   "execution_count": null,
   "id": "4a47fb98",
   "metadata": {},
   "outputs": [
    {
     "data": {
      "text/plain": [
       "array(['Rate not different than Statewide Rate',\n",
       "       'Rate significantly higher than Statewide Rate',\n",
       "       'Rate significantly lower than Statewide Rate', 'Statewide Rate'],\n",
       "      dtype=object)"
      ]
     },
     "execution_count": 15,
     "metadata": {},
     "output_type": "execute_result"
    }
   ],
   "source": [
    "data['Comparison_Results'].unique()  ## Comparison_Results_Category also same as this feature"
   ]
  },
  {
   "cell_type": "code",
   "execution_count": 20,
   "id": "336d926e",
   "metadata": {},
   "outputs": [
    {
     "data": {
      "text/plain": [
       "Hospital_Name\n",
       "Mount Sinai Hospital       55\n",
       "Lenox Hill Hospital        55\n",
       "Maimonides Medical Ctr     55\n",
       "Montefiore - Moses         55\n",
       "North Shore Univ Hosp      55\n",
       "Westchester Med Ctr        55\n",
       "Montefiore - Weiler        55\n",
       "Strong Memorial Hosp       55\n",
       "St. Francis Hospital       55\n",
       "Rochester General Hosp     55\n",
       "Univ. Hosp-Stony Brook     55\n",
       "NYS - All Hospitals        55\n",
       "Vassar Bros. Med Ctr       54\n",
       "St. Elizabeth Med Ctr      54\n",
       "Staten Island Univ Hosp    53\n",
       "Name: count, dtype: int64"
      ]
     },
     "execution_count": 20,
     "metadata": {},
     "output_type": "execute_result"
    }
   ],
   "source": [
    "data['Hospital_Name'].value_counts().head(15)"
   ]
  },
  {
   "cell_type": "code",
   "execution_count": null,
   "id": "3171e335",
   "metadata": {},
   "outputs": [
    {
     "data": {
      "text/plain": [
       "array(['2016', '2015', '2010', '2013-2015', '2008-2010', '2011',\n",
       "       '2014-2016', '2009-2011', '2010-2012', '2012', '2014', '2012-2014',\n",
       "       '2011-2013', '2013', '2017', '2015-2017', '2018', '2016-2018',\n",
       "       '2019', '2017-2019'], dtype=object)"
      ]
     },
     "execution_count": 23,
     "metadata": {},
     "output_type": "execute_result"
    }
   ],
   "source": [
    "data['Year_of_Hospital_Discharge'].unique()  ### data collection year "
   ]
  },
  {
   "cell_type": "code",
   "execution_count": 29,
   "id": "c5bcd95b",
   "metadata": {},
   "outputs": [
    {
     "data": {
      "text/plain": [
       "array([ True, False])"
      ]
     },
     "execution_count": 29,
     "metadata": {},
     "output_type": "execute_result"
    }
   ],
   "source": [
    "data['Is_As_Expected_Mortality'].unique()"
   ]
  },
  {
   "cell_type": "code",
   "execution_count": null,
   "id": "bf4db480",
   "metadata": {},
   "outputs": [
    {
     "data": {
      "text/plain": [
       "array([False])"
      ]
     },
     "execution_count": 24,
     "metadata": {},
     "output_type": "execute_result"
    }
   ],
   "source": [
    "data['Is_Higher_Than_Expected_Mortality'].unique()  ## highre and lower fence has only false value, it does't make sence so we will simply remove this features."
   ]
  },
  {
   "cell_type": "code",
   "execution_count": null,
   "id": "ebeaf724",
   "metadata": {},
   "outputs": [
    {
     "data": {
      "text/plain": [
       "array([False])"
      ]
     },
     "execution_count": 27,
     "metadata": {},
     "output_type": "execute_result"
    }
   ],
   "source": [
    "data['Is_Lower_Than_Expected_Mortality'].unique()"
   ]
  },
  {
   "cell_type": "code",
   "execution_count": 54,
   "id": "404aad08",
   "metadata": {},
   "outputs": [
    {
     "data": {
      "text/plain": [
       "array([ True, False])"
      ]
     },
     "execution_count": 54,
     "metadata": {},
     "output_type": "execute_result"
    }
   ],
   "source": [
    "\n",
    "data['Is_As_Expected_Mortality'].unique()"
   ]
  },
  {
   "cell_type": "code",
   "execution_count": null,
   "id": "f71f23df",
   "metadata": {},
   "outputs": [],
   "source": [
    "### we drop this features, this is not improtant and has unwanted values.\n",
    "\n",
    "data.drop((['Is_Higher_Than_Expected_Mortality','Is_Lower_Than_Expected_Mortality','Detailed_Region','Facility_ID']) , axis=1, inplace=True)"
   ]
  },
  {
   "cell_type": "code",
   "execution_count": 162,
   "id": "ea6acab9",
   "metadata": {},
   "outputs": [
    {
     "data": {
      "application/vnd.plotly.v1+json": {
       "config": {
        "plotlyServerURL": "https://plot.ly"
       },
       "data": [
        {
         "bingroup": "x",
         "hovertemplate": "Lower_Limit_of_Confidence_Interval=%{x}<br>count=%{y}<extra></extra>",
         "legendgroup": "",
         "marker": {
          "color": "#636efa",
          "pattern": {
           "shape": ""
          }
         },
         "name": "",
         "orientation": "v",
         "showlegend": false,
         "type": "histogram",
         "x": {
          "bdata": "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",
          "dtype": "f8"
         },
         "xaxis": "x",
         "yaxis": "y"
        }
       ],
       "layout": {
        "barmode": "relative",
        "legend": {
         "tracegroupgap": 0
        },
        "margin": {
         "t": 60
        },
        "template": {
         "data": {
          "bar": [
           {
            "error_x": {
             "color": "#2a3f5f"
            },
            "error_y": {
             "color": "#2a3f5f"
            },
            "marker": {
             "line": {
              "color": "#E5ECF6",
              "width": 0.5
             },
             "pattern": {
              "fillmode": "overlay",
              "size": 10,
              "solidity": 0.2
             }
            },
            "type": "bar"
           }
          ],
          "barpolar": [
           {
            "marker": {
             "line": {
              "color": "#E5ECF6",
              "width": 0.5
             },
             "pattern": {
              "fillmode": "overlay",
              "size": 10,
              "solidity": 0.2
             }
            },
            "type": "barpolar"
           }
          ],
          "carpet": [
           {
            "aaxis": {
             "endlinecolor": "#2a3f5f",
             "gridcolor": "white",
             "linecolor": "white",
             "minorgridcolor": "white",
             "startlinecolor": "#2a3f5f"
            },
            "baxis": {
             "endlinecolor": "#2a3f5f",
             "gridcolor": "white",
             "linecolor": "white",
             "minorgridcolor": "white",
             "startlinecolor": "#2a3f5f"
            },
            "type": "carpet"
           }
          ],
          "choropleth": [
           {
            "colorbar": {
             "outlinewidth": 0,
             "ticks": ""
            },
            "type": "choropleth"
           }
          ],
          "contour": [
           {
            "colorbar": {
             "outlinewidth": 0,
             "ticks": ""
            },
            "colorscale": [
             [
              0,
              "#0d0887"
             ],
             [
              0.1111111111111111,
              "#46039f"
             ],
             [
              0.2222222222222222,
              "#7201a8"
             ],
             [
              0.3333333333333333,
              "#9c179e"
             ],
             [
              0.4444444444444444,
              "#bd3786"
             ],
             [
              0.5555555555555556,
              "#d8576b"
             ],
             [
              0.6666666666666666,
              "#ed7953"
             ],
             [
              0.7777777777777778,
              "#fb9f3a"
             ],
             [
              0.8888888888888888,
              "#fdca26"
             ],
             [
              1,
              "#f0f921"
             ]
            ],
            "type": "contour"
           }
          ],
          "contourcarpet": [
           {
            "colorbar": {
             "outlinewidth": 0,
             "ticks": ""
            },
            "type": "contourcarpet"
           }
          ],
          "heatmap": [
           {
            "colorbar": {
             "outlinewidth": 0,
             "ticks": ""
            },
            "colorscale": [
             [
              0,
              "#0d0887"
             ],
             [
              0.1111111111111111,
              "#46039f"
             ],
             [
              0.2222222222222222,
              "#7201a8"
             ],
             [
              0.3333333333333333,
              "#9c179e"
             ],
             [
              0.4444444444444444,
              "#bd3786"
             ],
             [
              0.5555555555555556,
              "#d8576b"
             ],
             [
              0.6666666666666666,
              "#ed7953"
             ],
             [
              0.7777777777777778,
              "#fb9f3a"
             ],
             [
              0.8888888888888888,
              "#fdca26"
             ],
             [
              1,
              "#f0f921"
             ]
            ],
            "type": "heatmap"
           }
          ],
          "histogram": [
           {
            "marker": {
             "pattern": {
              "fillmode": "overlay",
              "size": 10,
              "solidity": 0.2
             }
            },
            "type": "histogram"
           }
          ],
          "histogram2d": [
           {
            "colorbar": {
             "outlinewidth": 0,
             "ticks": ""
            },
            "colorscale": [
             [
              0,
              "#0d0887"
             ],
             [
              0.1111111111111111,
              "#46039f"
             ],
             [
              0.2222222222222222,
              "#7201a8"
             ],
             [
              0.3333333333333333,
              "#9c179e"
             ],
             [
              0.4444444444444444,
              "#bd3786"
             ],
             [
              0.5555555555555556,
              "#d8576b"
             ],
             [
              0.6666666666666666,
              "#ed7953"
             ],
             [
              0.7777777777777778,
              "#fb9f3a"
             ],
             [
              0.8888888888888888,
              "#fdca26"
             ],
             [
              1,
              "#f0f921"
             ]
            ],
            "type": "histogram2d"
           }
          ],
          "histogram2dcontour": [
           {
            "colorbar": {
             "outlinewidth": 0,
             "ticks": ""
            },
            "colorscale": [
             [
              0,
              "#0d0887"
             ],
             [
              0.1111111111111111,
              "#46039f"
             ],
             [
              0.2222222222222222,
              "#7201a8"
             ],
             [
              0.3333333333333333,
              "#9c179e"
             ],
             [
              0.4444444444444444,
              "#bd3786"
             ],
             [
              0.5555555555555556,
              "#d8576b"
             ],
             [
              0.6666666666666666,
              "#ed7953"
             ],
             [
              0.7777777777777778,
              "#fb9f3a"
             ],
             [
              0.8888888888888888,
              "#fdca26"
             ],
             [
              1,
              "#f0f921"
             ]
            ],
            "type": "histogram2dcontour"
           }
          ],
          "mesh3d": [
           {
            "colorbar": {
             "outlinewidth": 0,
             "ticks": ""
            },
            "type": "mesh3d"
           }
          ],
          "parcoords": [
           {
            "line": {
             "colorbar": {
              "outlinewidth": 0,
              "ticks": ""
             }
            },
            "type": "parcoords"
           }
          ],
          "pie": [
           {
            "automargin": true,
            "type": "pie"
           }
          ],
          "scatter": [
           {
            "fillpattern": {
             "fillmode": "overlay",
             "size": 10,
             "solidity": 0.2
            },
            "type": "scatter"
           }
          ],
          "scatter3d": [
           {
            "line": {
             "colorbar": {
              "outlinewidth": 0,
              "ticks": ""
             }
            },
            "marker": {
             "colorbar": {
              "outlinewidth": 0,
              "ticks": ""
             }
            },
            "type": "scatter3d"
           }
          ],
          "scattercarpet": [
           {
            "marker": {
             "colorbar": {
              "outlinewidth": 0,
              "ticks": ""
             }
            },
            "type": "scattercarpet"
           }
          ],
          "scattergeo": [
           {
            "marker": {
             "colorbar": {
              "outlinewidth": 0,
              "ticks": ""
             }
            },
            "type": "scattergeo"
           }
          ],
          "scattergl": [
           {
            "marker": {
             "colorbar": {
              "outlinewidth": 0,
              "ticks": ""
             }
            },
            "type": "scattergl"
           }
          ],
          "scattermap": [
           {
            "marker": {
             "colorbar": {
              "outlinewidth": 0,
              "ticks": ""
             }
            },
            "type": "scattermap"
           }
          ],
          "scattermapbox": [
           {
            "marker": {
             "colorbar": {
              "outlinewidth": 0,
              "ticks": ""
             }
            },
            "type": "scattermapbox"
           }
          ],
          "scatterpolar": [
           {
            "marker": {
             "colorbar": {
              "outlinewidth": 0,
              "ticks": ""
             }
            },
            "type": "scatterpolar"
           }
          ],
          "scatterpolargl": [
           {
            "marker": {
             "colorbar": {
              "outlinewidth": 0,
              "ticks": ""
             }
            },
            "type": "scatterpolargl"
           }
          ],
          "scatterternary": [
           {
            "marker": {
             "colorbar": {
              "outlinewidth": 0,
              "ticks": ""
             }
            },
            "type": "scatterternary"
           }
          ],
          "surface": [
           {
            "colorbar": {
             "outlinewidth": 0,
             "ticks": ""
            },
            "colorscale": [
             [
              0,
              "#0d0887"
             ],
             [
              0.1111111111111111,
              "#46039f"
             ],
             [
              0.2222222222222222,
              "#7201a8"
             ],
             [
              0.3333333333333333,
              "#9c179e"
             ],
             [
              0.4444444444444444,
              "#bd3786"
             ],
             [
              0.5555555555555556,
              "#d8576b"
             ],
             [
              0.6666666666666666,
              "#ed7953"
             ],
             [
              0.7777777777777778,
              "#fb9f3a"
             ],
             [
              0.8888888888888888,
              "#fdca26"
             ],
             [
              1,
              "#f0f921"
             ]
            ],
            "type": "surface"
           }
          ],
          "table": [
           {
            "cells": {
             "fill": {
              "color": "#EBF0F8"
             },
             "line": {
              "color": "white"
             }
            },
            "header": {
             "fill": {
              "color": "#C8D4E3"
             },
             "line": {
              "color": "white"
             }
            },
            "type": "table"
           }
          ]
         },
         "layout": {
          "annotationdefaults": {
           "arrowcolor": "#2a3f5f",
           "arrowhead": 0,
           "arrowwidth": 1
          },
          "autotypenumbers": "strict",
          "coloraxis": {
           "colorbar": {
            "outlinewidth": 0,
            "ticks": ""
           }
          },
          "colorscale": {
           "diverging": [
            [
             0,
             "#8e0152"
            ],
            [
             0.1,
             "#c51b7d"
            ],
            [
             0.2,
             "#de77ae"
            ],
            [
             0.3,
             "#f1b6da"
            ],
            [
             0.4,
             "#fde0ef"
            ],
            [
             0.5,
             "#f7f7f7"
            ],
            [
             0.6,
             "#e6f5d0"
            ],
            [
             0.7,
             "#b8e186"
            ],
            [
             0.8,
             "#7fbc41"
            ],
            [
             0.9,
             "#4d9221"
            ],
            [
             1,
             "#276419"
            ]
           ],
           "sequential": [
            [
             0,
             "#0d0887"
            ],
            [
             0.1111111111111111,
             "#46039f"
            ],
            [
             0.2222222222222222,
             "#7201a8"
            ],
            [
             0.3333333333333333,
             "#9c179e"
            ],
            [
             0.4444444444444444,
             "#bd3786"
            ],
            [
             0.5555555555555556,
             "#d8576b"
            ],
            [
             0.6666666666666666,
             "#ed7953"
            ],
            [
             0.7777777777777778,
             "#fb9f3a"
            ],
            [
             0.8888888888888888,
             "#fdca26"
            ],
            [
             1,
             "#f0f921"
            ]
           ],
           "sequentialminus": [
            [
             0,
             "#0d0887"
            ],
            [
             0.1111111111111111,
             "#46039f"
            ],
            [
             0.2222222222222222,
             "#7201a8"
            ],
            [
             0.3333333333333333,
             "#9c179e"
            ],
            [
             0.4444444444444444,
             "#bd3786"
            ],
            [
             0.5555555555555556,
             "#d8576b"
            ],
            [
             0.6666666666666666,
             "#ed7953"
            ],
            [
             0.7777777777777778,
             "#fb9f3a"
            ],
            [
             0.8888888888888888,
             "#fdca26"
            ],
            [
             1,
             "#f0f921"
            ]
           ]
          },
          "colorway": [
           "#636efa",
           "#EF553B",
           "#00cc96",
           "#ab63fa",
           "#FFA15A",
           "#19d3f3",
           "#FF6692",
           "#B6E880",
           "#FF97FF",
           "#FECB52"
          ],
          "font": {
           "color": "#2a3f5f"
          },
          "geo": {
           "bgcolor": "white",
           "lakecolor": "white",
           "landcolor": "#E5ECF6",
           "showlakes": true,
           "showland": true,
           "subunitcolor": "white"
          },
          "hoverlabel": {
           "align": "left"
          },
          "hovermode": "closest",
          "mapbox": {
           "style": "light"
          },
          "paper_bgcolor": "white",
          "plot_bgcolor": "#E5ECF6",
          "polar": {
           "angularaxis": {
            "gridcolor": "white",
            "linecolor": "white",
            "ticks": ""
           },
           "bgcolor": "#E5ECF6",
           "radialaxis": {
            "gridcolor": "white",
            "linecolor": "white",
            "ticks": ""
           }
          },
          "scene": {
           "xaxis": {
            "backgroundcolor": "#E5ECF6",
            "gridcolor": "white",
            "gridwidth": 2,
            "linecolor": "white",
            "showbackground": true,
            "ticks": "",
            "zerolinecolor": "white"
           },
           "yaxis": {
            "backgroundcolor": "#E5ECF6",
            "gridcolor": "white",
            "gridwidth": 2,
            "linecolor": "white",
            "showbackground": true,
            "ticks": "",
            "zerolinecolor": "white"
           },
           "zaxis": {
            "backgroundcolor": "#E5ECF6",
            "gridcolor": "white",
            "gridwidth": 2,
            "linecolor": "white",
            "showbackground": true,
            "ticks": "",
            "zerolinecolor": "white"
           }
          },
          "shapedefaults": {
           "line": {
            "color": "#2a3f5f"
           }
          },
          "ternary": {
           "aaxis": {
            "gridcolor": "white",
            "linecolor": "white",
            "ticks": ""
           },
           "baxis": {
            "gridcolor": "white",
            "linecolor": "white",
            "ticks": ""
           },
           "bgcolor": "#E5ECF6",
           "caxis": {
            "gridcolor": "white",
            "linecolor": "white",
            "ticks": ""
           }
          },
          "title": {
           "x": 0.05
          },
          "xaxis": {
           "automargin": true,
           "gridcolor": "white",
           "linecolor": "white",
           "ticks": "",
           "title": {
            "standoff": 15
           },
           "zerolinecolor": "white",
           "zerolinewidth": 2
          },
          "yaxis": {
           "automargin": true,
           "gridcolor": "white",
           "linecolor": "white",
           "ticks": "",
           "title": {
            "standoff": 15
           },
           "zerolinecolor": "white",
           "zerolinewidth": 2
          }
         }
        },
        "xaxis": {
         "anchor": "y",
         "domain": [
          0,
          1
         ],
         "title": {
          "text": "Lower_Limit_of_Confidence_Interval"
         }
        },
        "yaxis": {
         "anchor": "x",
         "domain": [
          0,
          1
         ],
         "title": {
          "text": "count"
         }
        }
       }
      }
     },
     "metadata": {},
     "output_type": "display_data"
    }
   ],
   "source": [
    "fig = px.histogram(data, x=\"Lower_Limit_of_Confidence_Interval\")\n",
    "fig.show()"
   ]
  },
  {
   "cell_type": "code",
   "execution_count": 163,
   "id": "afcb8b61",
   "metadata": {},
   "outputs": [
    {
     "data": {
      "application/vnd.plotly.v1+json": {
       "config": {
        "plotlyServerURL": "https://plot.ly"
       },
       "data": [
        {
         "bingroup": "x",
         "hovertemplate": "Upper_Limit_of_Confidence_Interval=%{x}<br>count=%{y}<extra></extra>",
         "legendgroup": "",
         "marker": {
          "color": "#636efa",
          "pattern": {
           "shape": ""
          }
         },
         "name": "",
         "orientation": "v",
         "showlegend": false,
         "type": "histogram",
         "x": {
          "bdata": "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",
          "dtype": "f8"
         },
         "xaxis": "x",
         "yaxis": "y"
        }
       ],
       "layout": {
        "barmode": "relative",
        "legend": {
         "tracegroupgap": 0
        },
        "margin": {
         "t": 60
        },
        "template": {
         "data": {
          "bar": [
           {
            "error_x": {
             "color": "#2a3f5f"
            },
            "error_y": {
             "color": "#2a3f5f"
            },
            "marker": {
             "line": {
              "color": "#E5ECF6",
              "width": 0.5
             },
             "pattern": {
              "fillmode": "overlay",
              "size": 10,
              "solidity": 0.2
             }
            },
            "type": "bar"
           }
          ],
          "barpolar": [
           {
            "marker": {
             "line": {
              "color": "#E5ECF6",
              "width": 0.5
             },
             "pattern": {
              "fillmode": "overlay",
              "size": 10,
              "solidity": 0.2
             }
            },
            "type": "barpolar"
           }
          ],
          "carpet": [
           {
            "aaxis": {
             "endlinecolor": "#2a3f5f",
             "gridcolor": "white",
             "linecolor": "white",
             "minorgridcolor": "white",
             "startlinecolor": "#2a3f5f"
            },
            "baxis": {
             "endlinecolor": "#2a3f5f",
             "gridcolor": "white",
             "linecolor": "white",
             "minorgridcolor": "white",
             "startlinecolor": "#2a3f5f"
            },
            "type": "carpet"
           }
          ],
          "choropleth": [
           {
            "colorbar": {
             "outlinewidth": 0,
             "ticks": ""
            },
            "type": "choropleth"
           }
          ],
          "contour": [
           {
            "colorbar": {
             "outlinewidth": 0,
             "ticks": ""
            },
            "colorscale": [
             [
              0,
              "#0d0887"
             ],
             [
              0.1111111111111111,
              "#46039f"
             ],
             [
              0.2222222222222222,
              "#7201a8"
             ],
             [
              0.3333333333333333,
              "#9c179e"
             ],
             [
              0.4444444444444444,
              "#bd3786"
             ],
             [
              0.5555555555555556,
              "#d8576b"
             ],
             [
              0.6666666666666666,
              "#ed7953"
             ],
             [
              0.7777777777777778,
              "#fb9f3a"
             ],
             [
              0.8888888888888888,
              "#fdca26"
             ],
             [
              1,
              "#f0f921"
             ]
            ],
            "type": "contour"
           }
          ],
          "contourcarpet": [
           {
            "colorbar": {
             "outlinewidth": 0,
             "ticks": ""
            },
            "type": "contourcarpet"
           }
          ],
          "heatmap": [
           {
            "colorbar": {
             "outlinewidth": 0,
             "ticks": ""
            },
            "colorscale": [
             [
              0,
              "#0d0887"
             ],
             [
              0.1111111111111111,
              "#46039f"
             ],
             [
              0.2222222222222222,
              "#7201a8"
             ],
             [
              0.3333333333333333,
              "#9c179e"
             ],
             [
              0.4444444444444444,
              "#bd3786"
             ],
             [
              0.5555555555555556,
              "#d8576b"
             ],
             [
              0.6666666666666666,
              "#ed7953"
             ],
             [
              0.7777777777777778,
              "#fb9f3a"
             ],
             [
              0.8888888888888888,
              "#fdca26"
             ],
             [
              1,
              "#f0f921"
             ]
            ],
            "type": "heatmap"
           }
          ],
          "histogram": [
           {
            "marker": {
             "pattern": {
              "fillmode": "overlay",
              "size": 10,
              "solidity": 0.2
             }
            },
            "type": "histogram"
           }
          ],
          "histogram2d": [
           {
            "colorbar": {
             "outlinewidth": 0,
             "ticks": ""
            },
            "colorscale": [
             [
              0,
              "#0d0887"
             ],
             [
              0.1111111111111111,
              "#46039f"
             ],
             [
              0.2222222222222222,
              "#7201a8"
             ],
             [
              0.3333333333333333,
              "#9c179e"
             ],
             [
              0.4444444444444444,
              "#bd3786"
             ],
             [
              0.5555555555555556,
              "#d8576b"
             ],
             [
              0.6666666666666666,
              "#ed7953"
             ],
             [
              0.7777777777777778,
              "#fb9f3a"
             ],
             [
              0.8888888888888888,
              "#fdca26"
             ],
             [
              1,
              "#f0f921"
             ]
            ],
            "type": "histogram2d"
           }
          ],
          "histogram2dcontour": [
           {
            "colorbar": {
             "outlinewidth": 0,
             "ticks": ""
            },
            "colorscale": [
             [
              0,
              "#0d0887"
             ],
             [
              0.1111111111111111,
              "#46039f"
             ],
             [
              0.2222222222222222,
              "#7201a8"
             ],
             [
              0.3333333333333333,
              "#9c179e"
             ],
             [
              0.4444444444444444,
              "#bd3786"
             ],
             [
              0.5555555555555556,
              "#d8576b"
             ],
             [
              0.6666666666666666,
              "#ed7953"
             ],
             [
              0.7777777777777778,
              "#fb9f3a"
             ],
             [
              0.8888888888888888,
              "#fdca26"
             ],
             [
              1,
              "#f0f921"
             ]
            ],
            "type": "histogram2dcontour"
           }
          ],
          "mesh3d": [
           {
            "colorbar": {
             "outlinewidth": 0,
             "ticks": ""
            },
            "type": "mesh3d"
           }
          ],
          "parcoords": [
           {
            "line": {
             "colorbar": {
              "outlinewidth": 0,
              "ticks": ""
             }
            },
            "type": "parcoords"
           }
          ],
          "pie": [
           {
            "automargin": true,
            "type": "pie"
           }
          ],
          "scatter": [
           {
            "fillpattern": {
             "fillmode": "overlay",
             "size": 10,
             "solidity": 0.2
            },
            "type": "scatter"
           }
          ],
          "scatter3d": [
           {
            "line": {
             "colorbar": {
              "outlinewidth": 0,
              "ticks": ""
             }
            },
            "marker": {
             "colorbar": {
              "outlinewidth": 0,
              "ticks": ""
             }
            },
            "type": "scatter3d"
           }
          ],
          "scattercarpet": [
           {
            "marker": {
             "colorbar": {
              "outlinewidth": 0,
              "ticks": ""
             }
            },
            "type": "scattercarpet"
           }
          ],
          "scattergeo": [
           {
            "marker": {
             "colorbar": {
              "outlinewidth": 0,
              "ticks": ""
             }
            },
            "type": "scattergeo"
           }
          ],
          "scattergl": [
           {
            "marker": {
             "colorbar": {
              "outlinewidth": 0,
              "ticks": ""
             }
            },
            "type": "scattergl"
           }
          ],
          "scattermap": [
           {
            "marker": {
             "colorbar": {
              "outlinewidth": 0,
              "ticks": ""
             }
            },
            "type": "scattermap"
           }
          ],
          "scattermapbox": [
           {
            "marker": {
             "colorbar": {
              "outlinewidth": 0,
              "ticks": ""
             }
            },
            "type": "scattermapbox"
           }
          ],
          "scatterpolar": [
           {
            "marker": {
             "colorbar": {
              "outlinewidth": 0,
              "ticks": ""
             }
            },
            "type": "scatterpolar"
           }
          ],
          "scatterpolargl": [
           {
            "marker": {
             "colorbar": {
              "outlinewidth": 0,
              "ticks": ""
             }
            },
            "type": "scatterpolargl"
           }
          ],
          "scatterternary": [
           {
            "marker": {
             "colorbar": {
              "outlinewidth": 0,
              "ticks": ""
             }
            },
            "type": "scatterternary"
           }
          ],
          "surface": [
           {
            "colorbar": {
             "outlinewidth": 0,
             "ticks": ""
            },
            "colorscale": [
             [
              0,
              "#0d0887"
             ],
             [
              0.1111111111111111,
              "#46039f"
             ],
             [
              0.2222222222222222,
              "#7201a8"
             ],
             [
              0.3333333333333333,
              "#9c179e"
             ],
             [
              0.4444444444444444,
              "#bd3786"
             ],
             [
              0.5555555555555556,
              "#d8576b"
             ],
             [
              0.6666666666666666,
              "#ed7953"
             ],
             [
              0.7777777777777778,
              "#fb9f3a"
             ],
             [
              0.8888888888888888,
              "#fdca26"
             ],
             [
              1,
              "#f0f921"
             ]
            ],
            "type": "surface"
           }
          ],
          "table": [
           {
            "cells": {
             "fill": {
              "color": "#EBF0F8"
             },
             "line": {
              "color": "white"
             }
            },
            "header": {
             "fill": {
              "color": "#C8D4E3"
             },
             "line": {
              "color": "white"
             }
            },
            "type": "table"
           }
          ]
         },
         "layout": {
          "annotationdefaults": {
           "arrowcolor": "#2a3f5f",
           "arrowhead": 0,
           "arrowwidth": 1
          },
          "autotypenumbers": "strict",
          "coloraxis": {
           "colorbar": {
            "outlinewidth": 0,
            "ticks": ""
           }
          },
          "colorscale": {
           "diverging": [
            [
             0,
             "#8e0152"
            ],
            [
             0.1,
             "#c51b7d"
            ],
            [
             0.2,
             "#de77ae"
            ],
            [
             0.3,
             "#f1b6da"
            ],
            [
             0.4,
             "#fde0ef"
            ],
            [
             0.5,
             "#f7f7f7"
            ],
            [
             0.6,
             "#e6f5d0"
            ],
            [
             0.7,
             "#b8e186"
            ],
            [
             0.8,
             "#7fbc41"
            ],
            [
             0.9,
             "#4d9221"
            ],
            [
             1,
             "#276419"
            ]
           ],
           "sequential": [
            [
             0,
             "#0d0887"
            ],
            [
             0.1111111111111111,
             "#46039f"
            ],
            [
             0.2222222222222222,
             "#7201a8"
            ],
            [
             0.3333333333333333,
             "#9c179e"
            ],
            [
             0.4444444444444444,
             "#bd3786"
            ],
            [
             0.5555555555555556,
             "#d8576b"
            ],
            [
             0.6666666666666666,
             "#ed7953"
            ],
            [
             0.7777777777777778,
             "#fb9f3a"
            ],
            [
             0.8888888888888888,
             "#fdca26"
            ],
            [
             1,
             "#f0f921"
            ]
           ],
           "sequentialminus": [
            [
             0,
             "#0d0887"
            ],
            [
             0.1111111111111111,
             "#46039f"
            ],
            [
             0.2222222222222222,
             "#7201a8"
            ],
            [
             0.3333333333333333,
             "#9c179e"
            ],
            [
             0.4444444444444444,
             "#bd3786"
            ],
            [
             0.5555555555555556,
             "#d8576b"
            ],
            [
             0.6666666666666666,
             "#ed7953"
            ],
            [
             0.7777777777777778,
             "#fb9f3a"
            ],
            [
             0.8888888888888888,
             "#fdca26"
            ],
            [
             1,
             "#f0f921"
            ]
           ]
          },
          "colorway": [
           "#636efa",
           "#EF553B",
           "#00cc96",
           "#ab63fa",
           "#FFA15A",
           "#19d3f3",
           "#FF6692",
           "#B6E880",
           "#FF97FF",
           "#FECB52"
          ],
          "font": {
           "color": "#2a3f5f"
          },
          "geo": {
           "bgcolor": "white",
           "lakecolor": "white",
           "landcolor": "#E5ECF6",
           "showlakes": true,
           "showland": true,
           "subunitcolor": "white"
          },
          "hoverlabel": {
           "align": "left"
          },
          "hovermode": "closest",
          "mapbox": {
           "style": "light"
          },
          "paper_bgcolor": "white",
          "plot_bgcolor": "#E5ECF6",
          "polar": {
           "angularaxis": {
            "gridcolor": "white",
            "linecolor": "white",
            "ticks": ""
           },
           "bgcolor": "#E5ECF6",
           "radialaxis": {
            "gridcolor": "white",
            "linecolor": "white",
            "ticks": ""
           }
          },
          "scene": {
           "xaxis": {
            "backgroundcolor": "#E5ECF6",
            "gridcolor": "white",
            "gridwidth": 2,
            "linecolor": "white",
            "showbackground": true,
            "ticks": "",
            "zerolinecolor": "white"
           },
           "yaxis": {
            "backgroundcolor": "#E5ECF6",
            "gridcolor": "white",
            "gridwidth": 2,
            "linecolor": "white",
            "showbackground": true,
            "ticks": "",
            "zerolinecolor": "white"
           },
           "zaxis": {
            "backgroundcolor": "#E5ECF6",
            "gridcolor": "white",
            "gridwidth": 2,
            "linecolor": "white",
            "showbackground": true,
            "ticks": "",
            "zerolinecolor": "white"
           }
          },
          "shapedefaults": {
           "line": {
            "color": "#2a3f5f"
           }
          },
          "ternary": {
           "aaxis": {
            "gridcolor": "white",
            "linecolor": "white",
            "ticks": ""
           },
           "baxis": {
            "gridcolor": "white",
            "linecolor": "white",
            "ticks": ""
           },
           "bgcolor": "#E5ECF6",
           "caxis": {
            "gridcolor": "white",
            "linecolor": "white",
            "ticks": ""
           }
          },
          "title": {
           "x": 0.05
          },
          "xaxis": {
           "automargin": true,
           "gridcolor": "white",
           "linecolor": "white",
           "ticks": "",
           "title": {
            "standoff": 15
           },
           "zerolinecolor": "white",
           "zerolinewidth": 2
          },
          "yaxis": {
           "automargin": true,
           "gridcolor": "white",
           "linecolor": "white",
           "ticks": "",
           "title": {
            "standoff": 15
           },
           "zerolinecolor": "white",
           "zerolinewidth": 2
          }
         }
        },
        "xaxis": {
         "anchor": "y",
         "domain": [
          0,
          1
         ],
         "title": {
          "text": "Upper_Limit_of_Confidence_Interval"
         }
        },
        "yaxis": {
         "anchor": "x",
         "domain": [
          0,
          1
         ],
         "title": {
          "text": "count"
         }
        }
       }
      }
     },
     "metadata": {},
     "output_type": "display_data"
    }
   ],
   "source": [
    "fig = px.histogram(data, x=\"Upper_Limit_of_Confidence_Interval\")\n",
    "fig.show()"
   ]
  },
  {
   "cell_type": "code",
   "execution_count": null,
   "id": "a76a94b6",
   "metadata": {},
   "outputs": [],
   "source": []
  },
  {
   "cell_type": "code",
   "execution_count": null,
   "id": "10b84c2a",
   "metadata": {},
   "outputs": [],
   "source": []
  },
  {
   "cell_type": "code",
   "execution_count": 144,
   "id": "f0eaf317",
   "metadata": {},
   "outputs": [
    {
     "data": {
      "application/vnd.plotly.v1+json": {
       "config": {
        "plotlyServerURL": "https://plot.ly"
       },
       "data": [
        {
         "alignmentgroup": "True",
         "boxpoints": "all",
         "hovertemplate": "Lower_Limit_of_Confidence_Interval=%{y}<extra></extra>",
         "legendgroup": "",
         "marker": {
          "color": "#636efa"
         },
         "name": "",
         "notched": false,
         "offsetgroup": "",
         "orientation": "v",
         "showlegend": false,
         "type": "box",
         "x0": " ",
         "xaxis": "x",
         "y": {
          "bdata": "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",
          "dtype": "f8"
         },
         "y0": " ",
         "yaxis": "y"
        }
       ],
       "layout": {
        "boxmode": "group",
        "height": 600,
        "legend": {
         "tracegroupgap": 0
        },
        "margin": {
         "t": 60
        },
        "template": {
         "data": {
          "bar": [
           {
            "error_x": {
             "color": "#2a3f5f"
            },
            "error_y": {
             "color": "#2a3f5f"
            },
            "marker": {
             "line": {
              "color": "#E5ECF6",
              "width": 0.5
             },
             "pattern": {
              "fillmode": "overlay",
              "size": 10,
              "solidity": 0.2
             }
            },
            "type": "bar"
           }
          ],
          "barpolar": [
           {
            "marker": {
             "line": {
              "color": "#E5ECF6",
              "width": 0.5
             },
             "pattern": {
              "fillmode": "overlay",
              "size": 10,
              "solidity": 0.2
             }
            },
            "type": "barpolar"
           }
          ],
          "carpet": [
           {
            "aaxis": {
             "endlinecolor": "#2a3f5f",
             "gridcolor": "white",
             "linecolor": "white",
             "minorgridcolor": "white",
             "startlinecolor": "#2a3f5f"
            },
            "baxis": {
             "endlinecolor": "#2a3f5f",
             "gridcolor": "white",
             "linecolor": "white",
             "minorgridcolor": "white",
             "startlinecolor": "#2a3f5f"
            },
            "type": "carpet"
           }
          ],
          "choropleth": [
           {
            "colorbar": {
             "outlinewidth": 0,
             "ticks": ""
            },
            "type": "choropleth"
           }
          ],
          "contour": [
           {
            "colorbar": {
             "outlinewidth": 0,
             "ticks": ""
            },
            "colorscale": [
             [
              0,
              "#0d0887"
             ],
             [
              0.1111111111111111,
              "#46039f"
             ],
             [
              0.2222222222222222,
              "#7201a8"
             ],
             [
              0.3333333333333333,
              "#9c179e"
             ],
             [
              0.4444444444444444,
              "#bd3786"
             ],
             [
              0.5555555555555556,
              "#d8576b"
             ],
             [
              0.6666666666666666,
              "#ed7953"
             ],
             [
              0.7777777777777778,
              "#fb9f3a"
             ],
             [
              0.8888888888888888,
              "#fdca26"
             ],
             [
              1,
              "#f0f921"
             ]
            ],
            "type": "contour"
           }
          ],
          "contourcarpet": [
           {
            "colorbar": {
             "outlinewidth": 0,
             "ticks": ""
            },
            "type": "contourcarpet"
           }
          ],
          "heatmap": [
           {
            "colorbar": {
             "outlinewidth": 0,
             "ticks": ""
            },
            "colorscale": [
             [
              0,
              "#0d0887"
             ],
             [
              0.1111111111111111,
              "#46039f"
             ],
             [
              0.2222222222222222,
              "#7201a8"
             ],
             [
              0.3333333333333333,
              "#9c179e"
             ],
             [
              0.4444444444444444,
              "#bd3786"
             ],
             [
              0.5555555555555556,
              "#d8576b"
             ],
             [
              0.6666666666666666,
              "#ed7953"
             ],
             [
              0.7777777777777778,
              "#fb9f3a"
             ],
             [
              0.8888888888888888,
              "#fdca26"
             ],
             [
              1,
              "#f0f921"
             ]
            ],
            "type": "heatmap"
           }
          ],
          "histogram": [
           {
            "marker": {
             "pattern": {
              "fillmode": "overlay",
              "size": 10,
              "solidity": 0.2
             }
            },
            "type": "histogram"
           }
          ],
          "histogram2d": [
           {
            "colorbar": {
             "outlinewidth": 0,
             "ticks": ""
            },
            "colorscale": [
             [
              0,
              "#0d0887"
             ],
             [
              0.1111111111111111,
              "#46039f"
             ],
             [
              0.2222222222222222,
              "#7201a8"
             ],
             [
              0.3333333333333333,
              "#9c179e"
             ],
             [
              0.4444444444444444,
              "#bd3786"
             ],
             [
              0.5555555555555556,
              "#d8576b"
             ],
             [
              0.6666666666666666,
              "#ed7953"
             ],
             [
              0.7777777777777778,
              "#fb9f3a"
             ],
             [
              0.8888888888888888,
              "#fdca26"
             ],
             [
              1,
              "#f0f921"
             ]
            ],
            "type": "histogram2d"
           }
          ],
          "histogram2dcontour": [
           {
            "colorbar": {
             "outlinewidth": 0,
             "ticks": ""
            },
            "colorscale": [
             [
              0,
              "#0d0887"
             ],
             [
              0.1111111111111111,
              "#46039f"
             ],
             [
              0.2222222222222222,
              "#7201a8"
             ],
             [
              0.3333333333333333,
              "#9c179e"
             ],
             [
              0.4444444444444444,
              "#bd3786"
             ],
             [
              0.5555555555555556,
              "#d8576b"
             ],
             [
              0.6666666666666666,
              "#ed7953"
             ],
             [
              0.7777777777777778,
              "#fb9f3a"
             ],
             [
              0.8888888888888888,
              "#fdca26"
             ],
             [
              1,
              "#f0f921"
             ]
            ],
            "type": "histogram2dcontour"
           }
          ],
          "mesh3d": [
           {
            "colorbar": {
             "outlinewidth": 0,
             "ticks": ""
            },
            "type": "mesh3d"
           }
          ],
          "parcoords": [
           {
            "line": {
             "colorbar": {
              "outlinewidth": 0,
              "ticks": ""
             }
            },
            "type": "parcoords"
           }
          ],
          "pie": [
           {
            "automargin": true,
            "type": "pie"
           }
          ],
          "scatter": [
           {
            "fillpattern": {
             "fillmode": "overlay",
             "size": 10,
             "solidity": 0.2
            },
            "type": "scatter"
           }
          ],
          "scatter3d": [
           {
            "line": {
             "colorbar": {
              "outlinewidth": 0,
              "ticks": ""
             }
            },
            "marker": {
             "colorbar": {
              "outlinewidth": 0,
              "ticks": ""
             }
            },
            "type": "scatter3d"
           }
          ],
          "scattercarpet": [
           {
            "marker": {
             "colorbar": {
              "outlinewidth": 0,
              "ticks": ""
             }
            },
            "type": "scattercarpet"
           }
          ],
          "scattergeo": [
           {
            "marker": {
             "colorbar": {
              "outlinewidth": 0,
              "ticks": ""
             }
            },
            "type": "scattergeo"
           }
          ],
          "scattergl": [
           {
            "marker": {
             "colorbar": {
              "outlinewidth": 0,
              "ticks": ""
             }
            },
            "type": "scattergl"
           }
          ],
          "scattermap": [
           {
            "marker": {
             "colorbar": {
              "outlinewidth": 0,
              "ticks": ""
             }
            },
            "type": "scattermap"
           }
          ],
          "scattermapbox": [
           {
            "marker": {
             "colorbar": {
              "outlinewidth": 0,
              "ticks": ""
             }
            },
            "type": "scattermapbox"
           }
          ],
          "scatterpolar": [
           {
            "marker": {
             "colorbar": {
              "outlinewidth": 0,
              "ticks": ""
             }
            },
            "type": "scatterpolar"
           }
          ],
          "scatterpolargl": [
           {
            "marker": {
             "colorbar": {
              "outlinewidth": 0,
              "ticks": ""
             }
            },
            "type": "scatterpolargl"
           }
          ],
          "scatterternary": [
           {
            "marker": {
             "colorbar": {
              "outlinewidth": 0,
              "ticks": ""
             }
            },
            "type": "scatterternary"
           }
          ],
          "surface": [
           {
            "colorbar": {
             "outlinewidth": 0,
             "ticks": ""
            },
            "colorscale": [
             [
              0,
              "#0d0887"
             ],
             [
              0.1111111111111111,
              "#46039f"
             ],
             [
              0.2222222222222222,
              "#7201a8"
             ],
             [
              0.3333333333333333,
              "#9c179e"
             ],
             [
              0.4444444444444444,
              "#bd3786"
             ],
             [
              0.5555555555555556,
              "#d8576b"
             ],
             [
              0.6666666666666666,
              "#ed7953"
             ],
             [
              0.7777777777777778,
              "#fb9f3a"
             ],
             [
              0.8888888888888888,
              "#fdca26"
             ],
             [
              1,
              "#f0f921"
             ]
            ],
            "type": "surface"
           }
          ],
          "table": [
           {
            "cells": {
             "fill": {
              "color": "#EBF0F8"
             },
             "line": {
              "color": "white"
             }
            },
            "header": {
             "fill": {
              "color": "#C8D4E3"
             },
             "line": {
              "color": "white"
             }
            },
            "type": "table"
           }
          ]
         },
         "layout": {
          "annotationdefaults": {
           "arrowcolor": "#2a3f5f",
           "arrowhead": 0,
           "arrowwidth": 1
          },
          "autotypenumbers": "strict",
          "coloraxis": {
           "colorbar": {
            "outlinewidth": 0,
            "ticks": ""
           }
          },
          "colorscale": {
           "diverging": [
            [
             0,
             "#8e0152"
            ],
            [
             0.1,
             "#c51b7d"
            ],
            [
             0.2,
             "#de77ae"
            ],
            [
             0.3,
             "#f1b6da"
            ],
            [
             0.4,
             "#fde0ef"
            ],
            [
             0.5,
             "#f7f7f7"
            ],
            [
             0.6,
             "#e6f5d0"
            ],
            [
             0.7,
             "#b8e186"
            ],
            [
             0.8,
             "#7fbc41"
            ],
            [
             0.9,
             "#4d9221"
            ],
            [
             1,
             "#276419"
            ]
           ],
           "sequential": [
            [
             0,
             "#0d0887"
            ],
            [
             0.1111111111111111,
             "#46039f"
            ],
            [
             0.2222222222222222,
             "#7201a8"
            ],
            [
             0.3333333333333333,
             "#9c179e"
            ],
            [
             0.4444444444444444,
             "#bd3786"
            ],
            [
             0.5555555555555556,
             "#d8576b"
            ],
            [
             0.6666666666666666,
             "#ed7953"
            ],
            [
             0.7777777777777778,
             "#fb9f3a"
            ],
            [
             0.8888888888888888,
             "#fdca26"
            ],
            [
             1,
             "#f0f921"
            ]
           ],
           "sequentialminus": [
            [
             0,
             "#0d0887"
            ],
            [
             0.1111111111111111,
             "#46039f"
            ],
            [
             0.2222222222222222,
             "#7201a8"
            ],
            [
             0.3333333333333333,
             "#9c179e"
            ],
            [
             0.4444444444444444,
             "#bd3786"
            ],
            [
             0.5555555555555556,
             "#d8576b"
            ],
            [
             0.6666666666666666,
             "#ed7953"
            ],
            [
             0.7777777777777778,
             "#fb9f3a"
            ],
            [
             0.8888888888888888,
             "#fdca26"
            ],
            [
             1,
             "#f0f921"
            ]
           ]
          },
          "colorway": [
           "#636efa",
           "#EF553B",
           "#00cc96",
           "#ab63fa",
           "#FFA15A",
           "#19d3f3",
           "#FF6692",
           "#B6E880",
           "#FF97FF",
           "#FECB52"
          ],
          "font": {
           "color": "#2a3f5f"
          },
          "geo": {
           "bgcolor": "white",
           "lakecolor": "white",
           "landcolor": "#E5ECF6",
           "showlakes": true,
           "showland": true,
           "subunitcolor": "white"
          },
          "hoverlabel": {
           "align": "left"
          },
          "hovermode": "closest",
          "mapbox": {
           "style": "light"
          },
          "paper_bgcolor": "white",
          "plot_bgcolor": "#E5ECF6",
          "polar": {
           "angularaxis": {
            "gridcolor": "white",
            "linecolor": "white",
            "ticks": ""
           },
           "bgcolor": "#E5ECF6",
           "radialaxis": {
            "gridcolor": "white",
            "linecolor": "white",
            "ticks": ""
           }
          },
          "scene": {
           "xaxis": {
            "backgroundcolor": "#E5ECF6",
            "gridcolor": "white",
            "gridwidth": 2,
            "linecolor": "white",
            "showbackground": true,
            "ticks": "",
            "zerolinecolor": "white"
           },
           "yaxis": {
            "backgroundcolor": "#E5ECF6",
            "gridcolor": "white",
            "gridwidth": 2,
            "linecolor": "white",
            "showbackground": true,
            "ticks": "",
            "zerolinecolor": "white"
           },
           "zaxis": {
            "backgroundcolor": "#E5ECF6",
            "gridcolor": "white",
            "gridwidth": 2,
            "linecolor": "white",
            "showbackground": true,
            "ticks": "",
            "zerolinecolor": "white"
           }
          },
          "shapedefaults": {
           "line": {
            "color": "#2a3f5f"
           }
          },
          "ternary": {
           "aaxis": {
            "gridcolor": "white",
            "linecolor": "white",
            "ticks": ""
           },
           "baxis": {
            "gridcolor": "white",
            "linecolor": "white",
            "ticks": ""
           },
           "bgcolor": "#E5ECF6",
           "caxis": {
            "gridcolor": "white",
            "linecolor": "white",
            "ticks": ""
           }
          },
          "title": {
           "x": 0.05
          },
          "xaxis": {
           "automargin": true,
           "gridcolor": "white",
           "linecolor": "white",
           "ticks": "",
           "title": {
            "standoff": 15
           },
           "zerolinecolor": "white",
           "zerolinewidth": 2
          },
          "yaxis": {
           "automargin": true,
           "gridcolor": "white",
           "linecolor": "white",
           "ticks": "",
           "title": {
            "standoff": 15
           },
           "zerolinecolor": "white",
           "zerolinewidth": 2
          }
         }
        },
        "width": 1300,
        "xaxis": {
         "anchor": "y",
         "domain": [
          0,
          1
         ]
        },
        "yaxis": {
         "anchor": "x",
         "domain": [
          0,
          1
         ],
         "title": {
          "text": "Lower_Limit_of_Confidence_Interval"
         }
        }
       }
      }
     },
     "metadata": {},
     "output_type": "display_data"
    }
   ],
   "source": [
    "fig = px.box(data, y=\"Lower_Limit_of_Confidence_Interval\", points='all')\n",
    "fig.update_layout(width = 1300, height = 600)\n",
    "fig.show()"
   ]
  },
  {
   "cell_type": "code",
   "execution_count": 145,
   "id": "361a404a",
   "metadata": {},
   "outputs": [
    {
     "data": {
      "application/vnd.plotly.v1+json": {
       "config": {
        "plotlyServerURL": "https://plot.ly"
       },
       "data": [
        {
         "alignmentgroup": "True",
         "boxpoints": "all",
         "hovertemplate": "Upper_Limit_of_Confidence_Interval=%{y}<extra></extra>",
         "legendgroup": "",
         "marker": {
          "color": "#636efa"
         },
         "name": "",
         "notched": false,
         "offsetgroup": "",
         "orientation": "v",
         "showlegend": false,
         "type": "box",
         "x0": " ",
         "xaxis": "x",
         "y": {
          "bdata": "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",
          "dtype": "f8"
         },
         "y0": " ",
         "yaxis": "y"
        }
       ],
       "layout": {
        "boxmode": "group",
        "height": 600,
        "legend": {
         "tracegroupgap": 0
        },
        "margin": {
         "t": 60
        },
        "template": {
         "data": {
          "bar": [
           {
            "error_x": {
             "color": "#2a3f5f"
            },
            "error_y": {
             "color": "#2a3f5f"
            },
            "marker": {
             "line": {
              "color": "#E5ECF6",
              "width": 0.5
             },
             "pattern": {
              "fillmode": "overlay",
              "size": 10,
              "solidity": 0.2
             }
            },
            "type": "bar"
           }
          ],
          "barpolar": [
           {
            "marker": {
             "line": {
              "color": "#E5ECF6",
              "width": 0.5
             },
             "pattern": {
              "fillmode": "overlay",
              "size": 10,
              "solidity": 0.2
             }
            },
            "type": "barpolar"
           }
          ],
          "carpet": [
           {
            "aaxis": {
             "endlinecolor": "#2a3f5f",
             "gridcolor": "white",
             "linecolor": "white",
             "minorgridcolor": "white",
             "startlinecolor": "#2a3f5f"
            },
            "baxis": {
             "endlinecolor": "#2a3f5f",
             "gridcolor": "white",
             "linecolor": "white",
             "minorgridcolor": "white",
             "startlinecolor": "#2a3f5f"
            },
            "type": "carpet"
           }
          ],
          "choropleth": [
           {
            "colorbar": {
             "outlinewidth": 0,
             "ticks": ""
            },
            "type": "choropleth"
           }
          ],
          "contour": [
           {
            "colorbar": {
             "outlinewidth": 0,
             "ticks": ""
            },
            "colorscale": [
             [
              0,
              "#0d0887"
             ],
             [
              0.1111111111111111,
              "#46039f"
             ],
             [
              0.2222222222222222,
              "#7201a8"
             ],
             [
              0.3333333333333333,
              "#9c179e"
             ],
             [
              0.4444444444444444,
              "#bd3786"
             ],
             [
              0.5555555555555556,
              "#d8576b"
             ],
             [
              0.6666666666666666,
              "#ed7953"
             ],
             [
              0.7777777777777778,
              "#fb9f3a"
             ],
             [
              0.8888888888888888,
              "#fdca26"
             ],
             [
              1,
              "#f0f921"
             ]
            ],
            "type": "contour"
           }
          ],
          "contourcarpet": [
           {
            "colorbar": {
             "outlinewidth": 0,
             "ticks": ""
            },
            "type": "contourcarpet"
           }
          ],
          "heatmap": [
           {
            "colorbar": {
             "outlinewidth": 0,
             "ticks": ""
            },
            "colorscale": [
             [
              0,
              "#0d0887"
             ],
             [
              0.1111111111111111,
              "#46039f"
             ],
             [
              0.2222222222222222,
              "#7201a8"
             ],
             [
              0.3333333333333333,
              "#9c179e"
             ],
             [
              0.4444444444444444,
              "#bd3786"
             ],
             [
              0.5555555555555556,
              "#d8576b"
             ],
             [
              0.6666666666666666,
              "#ed7953"
             ],
             [
              0.7777777777777778,
              "#fb9f3a"
             ],
             [
              0.8888888888888888,
              "#fdca26"
             ],
             [
              1,
              "#f0f921"
             ]
            ],
            "type": "heatmap"
           }
          ],
          "histogram": [
           {
            "marker": {
             "pattern": {
              "fillmode": "overlay",
              "size": 10,
              "solidity": 0.2
             }
            },
            "type": "histogram"
           }
          ],
          "histogram2d": [
           {
            "colorbar": {
             "outlinewidth": 0,
             "ticks": ""
            },
            "colorscale": [
             [
              0,
              "#0d0887"
             ],
             [
              0.1111111111111111,
              "#46039f"
             ],
             [
              0.2222222222222222,
              "#7201a8"
             ],
             [
              0.3333333333333333,
              "#9c179e"
             ],
             [
              0.4444444444444444,
              "#bd3786"
             ],
             [
              0.5555555555555556,
              "#d8576b"
             ],
             [
              0.6666666666666666,
              "#ed7953"
             ],
             [
              0.7777777777777778,
              "#fb9f3a"
             ],
             [
              0.8888888888888888,
              "#fdca26"
             ],
             [
              1,
              "#f0f921"
             ]
            ],
            "type": "histogram2d"
           }
          ],
          "histogram2dcontour": [
           {
            "colorbar": {
             "outlinewidth": 0,
             "ticks": ""
            },
            "colorscale": [
             [
              0,
              "#0d0887"
             ],
             [
              0.1111111111111111,
              "#46039f"
             ],
             [
              0.2222222222222222,
              "#7201a8"
             ],
             [
              0.3333333333333333,
              "#9c179e"
             ],
             [
              0.4444444444444444,
              "#bd3786"
             ],
             [
              0.5555555555555556,
              "#d8576b"
             ],
             [
              0.6666666666666666,
              "#ed7953"
             ],
             [
              0.7777777777777778,
              "#fb9f3a"
             ],
             [
              0.8888888888888888,
              "#fdca26"
             ],
             [
              1,
              "#f0f921"
             ]
            ],
            "type": "histogram2dcontour"
           }
          ],
          "mesh3d": [
           {
            "colorbar": {
             "outlinewidth": 0,
             "ticks": ""
            },
            "type": "mesh3d"
           }
          ],
          "parcoords": [
           {
            "line": {
             "colorbar": {
              "outlinewidth": 0,
              "ticks": ""
             }
            },
            "type": "parcoords"
           }
          ],
          "pie": [
           {
            "automargin": true,
            "type": "pie"
           }
          ],
          "scatter": [
           {
            "fillpattern": {
             "fillmode": "overlay",
             "size": 10,
             "solidity": 0.2
            },
            "type": "scatter"
           }
          ],
          "scatter3d": [
           {
            "line": {
             "colorbar": {
              "outlinewidth": 0,
              "ticks": ""
             }
            },
            "marker": {
             "colorbar": {
              "outlinewidth": 0,
              "ticks": ""
             }
            },
            "type": "scatter3d"
           }
          ],
          "scattercarpet": [
           {
            "marker": {
             "colorbar": {
              "outlinewidth": 0,
              "ticks": ""
             }
            },
            "type": "scattercarpet"
           }
          ],
          "scattergeo": [
           {
            "marker": {
             "colorbar": {
              "outlinewidth": 0,
              "ticks": ""
             }
            },
            "type": "scattergeo"
           }
          ],
          "scattergl": [
           {
            "marker": {
             "colorbar": {
              "outlinewidth": 0,
              "ticks": ""
             }
            },
            "type": "scattergl"
           }
          ],
          "scattermap": [
           {
            "marker": {
             "colorbar": {
              "outlinewidth": 0,
              "ticks": ""
             }
            },
            "type": "scattermap"
           }
          ],
          "scattermapbox": [
           {
            "marker": {
             "colorbar": {
              "outlinewidth": 0,
              "ticks": ""
             }
            },
            "type": "scattermapbox"
           }
          ],
          "scatterpolar": [
           {
            "marker": {
             "colorbar": {
              "outlinewidth": 0,
              "ticks": ""
             }
            },
            "type": "scatterpolar"
           }
          ],
          "scatterpolargl": [
           {
            "marker": {
             "colorbar": {
              "outlinewidth": 0,
              "ticks": ""
             }
            },
            "type": "scatterpolargl"
           }
          ],
          "scatterternary": [
           {
            "marker": {
             "colorbar": {
              "outlinewidth": 0,
              "ticks": ""
             }
            },
            "type": "scatterternary"
           }
          ],
          "surface": [
           {
            "colorbar": {
             "outlinewidth": 0,
             "ticks": ""
            },
            "colorscale": [
             [
              0,
              "#0d0887"
             ],
             [
              0.1111111111111111,
              "#46039f"
             ],
             [
              0.2222222222222222,
              "#7201a8"
             ],
             [
              0.3333333333333333,
              "#9c179e"
             ],
             [
              0.4444444444444444,
              "#bd3786"
             ],
             [
              0.5555555555555556,
              "#d8576b"
             ],
             [
              0.6666666666666666,
              "#ed7953"
             ],
             [
              0.7777777777777778,
              "#fb9f3a"
             ],
             [
              0.8888888888888888,
              "#fdca26"
             ],
             [
              1,
              "#f0f921"
             ]
            ],
            "type": "surface"
           }
          ],
          "table": [
           {
            "cells": {
             "fill": {
              "color": "#EBF0F8"
             },
             "line": {
              "color": "white"
             }
            },
            "header": {
             "fill": {
              "color": "#C8D4E3"
             },
             "line": {
              "color": "white"
             }
            },
            "type": "table"
           }
          ]
         },
         "layout": {
          "annotationdefaults": {
           "arrowcolor": "#2a3f5f",
           "arrowhead": 0,
           "arrowwidth": 1
          },
          "autotypenumbers": "strict",
          "coloraxis": {
           "colorbar": {
            "outlinewidth": 0,
            "ticks": ""
           }
          },
          "colorscale": {
           "diverging": [
            [
             0,
             "#8e0152"
            ],
            [
             0.1,
             "#c51b7d"
            ],
            [
             0.2,
             "#de77ae"
            ],
            [
             0.3,
             "#f1b6da"
            ],
            [
             0.4,
             "#fde0ef"
            ],
            [
             0.5,
             "#f7f7f7"
            ],
            [
             0.6,
             "#e6f5d0"
            ],
            [
             0.7,
             "#b8e186"
            ],
            [
             0.8,
             "#7fbc41"
            ],
            [
             0.9,
             "#4d9221"
            ],
            [
             1,
             "#276419"
            ]
           ],
           "sequential": [
            [
             0,
             "#0d0887"
            ],
            [
             0.1111111111111111,
             "#46039f"
            ],
            [
             0.2222222222222222,
             "#7201a8"
            ],
            [
             0.3333333333333333,
             "#9c179e"
            ],
            [
             0.4444444444444444,
             "#bd3786"
            ],
            [
             0.5555555555555556,
             "#d8576b"
            ],
            [
             0.6666666666666666,
             "#ed7953"
            ],
            [
             0.7777777777777778,
             "#fb9f3a"
            ],
            [
             0.8888888888888888,
             "#fdca26"
            ],
            [
             1,
             "#f0f921"
            ]
           ],
           "sequentialminus": [
            [
             0,
             "#0d0887"
            ],
            [
             0.1111111111111111,
             "#46039f"
            ],
            [
             0.2222222222222222,
             "#7201a8"
            ],
            [
             0.3333333333333333,
             "#9c179e"
            ],
            [
             0.4444444444444444,
             "#bd3786"
            ],
            [
             0.5555555555555556,
             "#d8576b"
            ],
            [
             0.6666666666666666,
             "#ed7953"
            ],
            [
             0.7777777777777778,
             "#fb9f3a"
            ],
            [
             0.8888888888888888,
             "#fdca26"
            ],
            [
             1,
             "#f0f921"
            ]
           ]
          },
          "colorway": [
           "#636efa",
           "#EF553B",
           "#00cc96",
           "#ab63fa",
           "#FFA15A",
           "#19d3f3",
           "#FF6692",
           "#B6E880",
           "#FF97FF",
           "#FECB52"
          ],
          "font": {
           "color": "#2a3f5f"
          },
          "geo": {
           "bgcolor": "white",
           "lakecolor": "white",
           "landcolor": "#E5ECF6",
           "showlakes": true,
           "showland": true,
           "subunitcolor": "white"
          },
          "hoverlabel": {
           "align": "left"
          },
          "hovermode": "closest",
          "mapbox": {
           "style": "light"
          },
          "paper_bgcolor": "white",
          "plot_bgcolor": "#E5ECF6",
          "polar": {
           "angularaxis": {
            "gridcolor": "white",
            "linecolor": "white",
            "ticks": ""
           },
           "bgcolor": "#E5ECF6",
           "radialaxis": {
            "gridcolor": "white",
            "linecolor": "white",
            "ticks": ""
           }
          },
          "scene": {
           "xaxis": {
            "backgroundcolor": "#E5ECF6",
            "gridcolor": "white",
            "gridwidth": 2,
            "linecolor": "white",
            "showbackground": true,
            "ticks": "",
            "zerolinecolor": "white"
           },
           "yaxis": {
            "backgroundcolor": "#E5ECF6",
            "gridcolor": "white",
            "gridwidth": 2,
            "linecolor": "white",
            "showbackground": true,
            "ticks": "",
            "zerolinecolor": "white"
           },
           "zaxis": {
            "backgroundcolor": "#E5ECF6",
            "gridcolor": "white",
            "gridwidth": 2,
            "linecolor": "white",
            "showbackground": true,
            "ticks": "",
            "zerolinecolor": "white"
           }
          },
          "shapedefaults": {
           "line": {
            "color": "#2a3f5f"
           }
          },
          "ternary": {
           "aaxis": {
            "gridcolor": "white",
            "linecolor": "white",
            "ticks": ""
           },
           "baxis": {
            "gridcolor": "white",
            "linecolor": "white",
            "ticks": ""
           },
           "bgcolor": "#E5ECF6",
           "caxis": {
            "gridcolor": "white",
            "linecolor": "white",
            "ticks": ""
           }
          },
          "title": {
           "x": 0.05
          },
          "xaxis": {
           "automargin": true,
           "gridcolor": "white",
           "linecolor": "white",
           "ticks": "",
           "title": {
            "standoff": 15
           },
           "zerolinecolor": "white",
           "zerolinewidth": 2
          },
          "yaxis": {
           "automargin": true,
           "gridcolor": "white",
           "linecolor": "white",
           "ticks": "",
           "title": {
            "standoff": 15
           },
           "zerolinecolor": "white",
           "zerolinewidth": 2
          }
         }
        },
        "width": 1300,
        "xaxis": {
         "anchor": "y",
         "domain": [
          0,
          1
         ]
        },
        "yaxis": {
         "anchor": "x",
         "domain": [
          0,
          1
         ],
         "title": {
          "text": "Upper_Limit_of_Confidence_Interval"
         }
        }
       }
      }
     },
     "metadata": {},
     "output_type": "display_data"
    }
   ],
   "source": [
    "fig = px.box(data, y=\"Upper_Limit_of_Confidence_Interval\", points='all')\n",
    "fig.update_layout(width = 1300, height = 600)\n",
    "fig.show()"
   ]
  },
  {
   "cell_type": "code",
   "execution_count": null,
   "id": "6b5cf205",
   "metadata": {},
   "outputs": [],
   "source": [
    "# upperlimit = data[data['Upper_Limit_of_Confidence_Interval'] ==  1228.42, ['Upper_Limit_of_Confidence_Interval'] = 204.32]\n",
    "data.loc[data['Upper_Limit_of_Confidence_Interval'] == 1228.42, 'Upper_Limit_of_Confidence_Interval'] = 204.32\n",
    "\n"
   ]
  },
  {
   "cell_type": "code",
   "execution_count": 149,
   "id": "8dd243ed",
   "metadata": {},
   "outputs": [
    {
     "data": {
      "text/plain": [
       "np.float64(4.004277821625888)"
      ]
     },
     "execution_count": 149,
     "metadata": {},
     "output_type": "execute_result"
    }
   ],
   "source": [
    "upperlimit['Upper_Limit_of_Confidence_Interval'].mean()\n"
   ]
  },
  {
   "cell_type": "code",
   "execution_count": 146,
   "id": "c2d41a8f",
   "metadata": {},
   "outputs": [
    {
     "data": {
      "text/plain": [
       "count    2757.000000\n",
       "mean        5.929300\n",
       "std        24.886388\n",
       "min         0.580000\n",
       "25%         2.300000\n",
       "50%         3.980000\n",
       "75%         6.000000\n",
       "max      1228.420000\n",
       "Name: Upper_Limit_of_Confidence_Interval, dtype: float64"
      ]
     },
     "execution_count": 146,
     "metadata": {},
     "output_type": "execute_result"
    }
   ],
   "source": [
    "data['Upper_Limit_of_Confidence_Interval'].describe()"
   ]
  },
  {
   "cell_type": "code",
   "execution_count": null,
   "id": "a0379009",
   "metadata": {},
   "outputs": [],
   "source": []
  },
  {
   "cell_type": "code",
   "execution_count": 135,
   "id": "7ccf1cc6",
   "metadata": {},
   "outputs": [
    {
     "data": {
      "text/html": [
       "<div>\n",
       "<style scoped>\n",
       "    .dataframe tbody tr th:only-of-type {\n",
       "        vertical-align: middle;\n",
       "    }\n",
       "\n",
       "    .dataframe tbody tr th {\n",
       "        vertical-align: top;\n",
       "    }\n",
       "\n",
       "    .dataframe thead th {\n",
       "        text-align: right;\n",
       "    }\n",
       "</style>\n",
       "<table border=\"1\" class=\"dataframe\">\n",
       "  <thead>\n",
       "    <tr style=\"text-align: right;\">\n",
       "      <th></th>\n",
       "      <th>Hospital_Name</th>\n",
       "      <th>Region</th>\n",
       "      <th>Procedure</th>\n",
       "      <th>Year_of_Hospital_Discharge</th>\n",
       "      <th>Number_of_Cases</th>\n",
       "      <th>Number_of_Deaths</th>\n",
       "      <th>Observed_Mortality_Rate</th>\n",
       "      <th>Expected_Mortality_Rate</th>\n",
       "      <th>Risk_Adjusted_Mortality_Rate</th>\n",
       "      <th>Lower_Limit_of_Confidence_Interval</th>\n",
       "      <th>Upper_Limit_of_Confidence_Interval</th>\n",
       "      <th>Comparison_Results</th>\n",
       "      <th>Start_Year</th>\n",
       "      <th>End_Year</th>\n",
       "      <th>Mid_Year</th>\n",
       "      <th>Comparison_Results_Category</th>\n",
       "      <th>Is_As_Expected_Mortality</th>\n",
       "      <th>Observed_vs_Expected_Difference</th>\n",
       "      <th>Observed_vs_RiskAdjusted_Difference</th>\n",
       "    </tr>\n",
       "  </thead>\n",
       "  <tbody>\n",
       "    <tr>\n",
       "      <th>0</th>\n",
       "      <td>Albany Med. Ctr</td>\n",
       "      <td>Capital District</td>\n",
       "      <td>All PCI</td>\n",
       "      <td>2016</td>\n",
       "      <td>680</td>\n",
       "      <td>17</td>\n",
       "      <td>2.50</td>\n",
       "      <td>1.52</td>\n",
       "      <td>2.03</td>\n",
       "      <td>1.18</td>\n",
       "      <td>3.26</td>\n",
       "      <td>Rate not different than Statewide Rate</td>\n",
       "      <td>2016</td>\n",
       "      <td>2016</td>\n",
       "      <td>2016</td>\n",
       "      <td>Rate not different than Statewide Rate</td>\n",
       "      <td>True</td>\n",
       "      <td>0.98</td>\n",
       "      <td>0.47</td>\n",
       "    </tr>\n",
       "    <tr>\n",
       "      <th>1</th>\n",
       "      <td>White Plains Hospital</td>\n",
       "      <td>NY Metro - New Rochelle</td>\n",
       "      <td>Non-Emergency PCI</td>\n",
       "      <td>2015</td>\n",
       "      <td>338</td>\n",
       "      <td>1</td>\n",
       "      <td>0.30</td>\n",
       "      <td>0.64</td>\n",
       "      <td>0.34</td>\n",
       "      <td>0.00</td>\n",
       "      <td>1.91</td>\n",
       "      <td>Rate not different than Statewide Rate</td>\n",
       "      <td>2015</td>\n",
       "      <td>2015</td>\n",
       "      <td>2015</td>\n",
       "      <td>Rate not different than Statewide Rate</td>\n",
       "      <td>True</td>\n",
       "      <td>-0.34</td>\n",
       "      <td>-0.04</td>\n",
       "    </tr>\n",
       "    <tr>\n",
       "      <th>2</th>\n",
       "      <td>Bellevue Hospital Ctr</td>\n",
       "      <td>NY Metro - NYC</td>\n",
       "      <td>All PCI</td>\n",
       "      <td>2010</td>\n",
       "      <td>448</td>\n",
       "      <td>4</td>\n",
       "      <td>0.89</td>\n",
       "      <td>0.89</td>\n",
       "      <td>0.84</td>\n",
       "      <td>0.23</td>\n",
       "      <td>2.16</td>\n",
       "      <td>Rate not different than Statewide Rate</td>\n",
       "      <td>2010</td>\n",
       "      <td>2010</td>\n",
       "      <td>2010</td>\n",
       "      <td>Rate not different than Statewide Rate</td>\n",
       "      <td>True</td>\n",
       "      <td>0.00</td>\n",
       "      <td>0.05</td>\n",
       "    </tr>\n",
       "    <tr>\n",
       "      <th>3</th>\n",
       "      <td>Beth Israel Med Ctr</td>\n",
       "      <td>NY Metro - NYC</td>\n",
       "      <td>All PCI</td>\n",
       "      <td>2010</td>\n",
       "      <td>1762</td>\n",
       "      <td>11</td>\n",
       "      <td>0.62</td>\n",
       "      <td>0.70</td>\n",
       "      <td>0.75</td>\n",
       "      <td>0.38</td>\n",
       "      <td>1.35</td>\n",
       "      <td>Rate not different than Statewide Rate</td>\n",
       "      <td>2010</td>\n",
       "      <td>2010</td>\n",
       "      <td>2010</td>\n",
       "      <td>Rate not different than Statewide Rate</td>\n",
       "      <td>True</td>\n",
       "      <td>-0.08</td>\n",
       "      <td>-0.13</td>\n",
       "    </tr>\n",
       "    <tr>\n",
       "      <th>4</th>\n",
       "      <td>Bronx-Lebanon-Cncourse</td>\n",
       "      <td>NY Metro - NYC</td>\n",
       "      <td>All PCI</td>\n",
       "      <td>2010</td>\n",
       "      <td>65</td>\n",
       "      <td>4</td>\n",
       "      <td>6.15</td>\n",
       "      <td>2.41</td>\n",
       "      <td>2.15</td>\n",
       "      <td>0.58</td>\n",
       "      <td>5.50</td>\n",
       "      <td>Rate not different than Statewide Rate</td>\n",
       "      <td>2010</td>\n",
       "      <td>2010</td>\n",
       "      <td>2010</td>\n",
       "      <td>Rate not different than Statewide Rate</td>\n",
       "      <td>True</td>\n",
       "      <td>3.74</td>\n",
       "      <td>4.00</td>\n",
       "    </tr>\n",
       "  </tbody>\n",
       "</table>\n",
       "</div>"
      ],
      "text/plain": [
       "            Hospital_Name                   Region          Procedure  \\\n",
       "0         Albany Med. Ctr         Capital District            All PCI   \n",
       "1   White Plains Hospital  NY Metro - New Rochelle  Non-Emergency PCI   \n",
       "2   Bellevue Hospital Ctr           NY Metro - NYC            All PCI   \n",
       "3     Beth Israel Med Ctr           NY Metro - NYC            All PCI   \n",
       "4  Bronx-Lebanon-Cncourse           NY Metro - NYC            All PCI   \n",
       "\n",
       "  Year_of_Hospital_Discharge  Number_of_Cases  Number_of_Deaths  \\\n",
       "0                       2016              680                17   \n",
       "1                       2015              338                 1   \n",
       "2                       2010              448                 4   \n",
       "3                       2010             1762                11   \n",
       "4                       2010               65                 4   \n",
       "\n",
       "   Observed_Mortality_Rate  Expected_Mortality_Rate  \\\n",
       "0                     2.50                     1.52   \n",
       "1                     0.30                     0.64   \n",
       "2                     0.89                     0.89   \n",
       "3                     0.62                     0.70   \n",
       "4                     6.15                     2.41   \n",
       "\n",
       "   Risk_Adjusted_Mortality_Rate  Lower_Limit_of_Confidence_Interval  \\\n",
       "0                          2.03                                1.18   \n",
       "1                          0.34                                0.00   \n",
       "2                          0.84                                0.23   \n",
       "3                          0.75                                0.38   \n",
       "4                          2.15                                0.58   \n",
       "\n",
       "   Upper_Limit_of_Confidence_Interval                      Comparison_Results  \\\n",
       "0                                3.26  Rate not different than Statewide Rate   \n",
       "1                                1.91  Rate not different than Statewide Rate   \n",
       "2                                2.16  Rate not different than Statewide Rate   \n",
       "3                                1.35  Rate not different than Statewide Rate   \n",
       "4                                5.50  Rate not different than Statewide Rate   \n",
       "\n",
       "   Start_Year  End_Year  Mid_Year             Comparison_Results_Category  \\\n",
       "0        2016      2016      2016  Rate not different than Statewide Rate   \n",
       "1        2015      2015      2015  Rate not different than Statewide Rate   \n",
       "2        2010      2010      2010  Rate not different than Statewide Rate   \n",
       "3        2010      2010      2010  Rate not different than Statewide Rate   \n",
       "4        2010      2010      2010  Rate not different than Statewide Rate   \n",
       "\n",
       "   Is_As_Expected_Mortality  Observed_vs_Expected_Difference  \\\n",
       "0                      True                             0.98   \n",
       "1                      True                            -0.34   \n",
       "2                      True                             0.00   \n",
       "3                      True                            -0.08   \n",
       "4                      True                             3.74   \n",
       "\n",
       "   Observed_vs_RiskAdjusted_Difference  \n",
       "0                                 0.47  \n",
       "1                                -0.04  \n",
       "2                                 0.05  \n",
       "3                                -0.13  \n",
       "4                                 4.00  "
      ]
     },
     "execution_count": 135,
     "metadata": {},
     "output_type": "execute_result"
    }
   ],
   "source": [
    "data.head()\n"
   ]
  },
  {
   "cell_type": "markdown",
   "id": "61bd1bc9",
   "metadata": {},
   "source": [
    "# Analysis"
   ]
  },
  {
   "cell_type": "markdown",
   "id": "0b586452",
   "metadata": {},
   "source": []
  },
  {
   "cell_type": "code",
   "execution_count": 48,
   "id": "0640d197",
   "metadata": {},
   "outputs": [
    {
     "name": "stdout",
     "output_type": "stream",
     "text": [
      "Average Mortality rate : 2.07%\n"
     ]
    }
   ],
   "source": [
    "avg_mortality_rate = data['Observed_Mortality_Rate'].mean()\n",
    "print(f\"Average Mortality rate : {avg_mortality_rate:.2f}%\")"
   ]
  },
  {
   "cell_type": "code",
   "execution_count": 49,
   "id": "86d9cbb7",
   "metadata": {},
   "outputs": [
    {
     "name": "stdout",
     "output_type": "stream",
     "text": [
      "Average Expected Mortality rate : 1.95%\n"
     ]
    }
   ],
   "source": [
    "Expected_mortality_rate = data['Expected_Mortality_Rate'].mean()\n",
    "print(f\"Average Expected Mortality rate : {Expected_mortality_rate:.2f}%\")"
   ]
  },
  {
   "cell_type": "code",
   "execution_count": 50,
   "id": "12964a49",
   "metadata": {},
   "outputs": [
    {
     "name": "stdout",
     "output_type": "stream",
     "text": [
      "Average Risk Adjusted Mortality rate : 2.08%\n"
     ]
    }
   ],
   "source": [
    "risk_adjusted_mortality_rate = data['Risk_Adjusted_Mortality_Rate'].mean()\n",
    "print(f\"Average Risk Adjusted Mortality rate : {risk_adjusted_mortality_rate:.2f}%\")"
   ]
  },
  {
   "cell_type": "code",
   "execution_count": 51,
   "id": "7795d88a",
   "metadata": {},
   "outputs": [
    {
     "name": "stdout",
     "output_type": "stream",
     "text": [
      "Observed vs Expected  Mortality Difference Average : 0.12%\n"
     ]
    }
   ],
   "source": [
    "obseved_vs_expected = data['Observed_vs_Expected_Difference'].mean()\n",
    "print(f\"Observed vs Expected  Mortality Difference Average : {obseved_vs_expected:.2f}%\")"
   ]
  },
  {
   "cell_type": "code",
   "execution_count": 59,
   "id": "087a2851",
   "metadata": {},
   "outputs": [
    {
     "data": {
      "application/vnd.plotly.v1+json": {
       "config": {
        "plotlyServerURL": "https://plot.ly"
       },
       "data": [
        {
         "customdata": [
          [
           true
          ],
          [
           false
          ]
         ],
         "domain": {
          "x": [
           0,
           1
          ],
          "y": [
           0,
           1
          ]
         },
         "hovertemplate": "Is_As_Expected_Mortality=%{customdata[0]}<br>Count=%{value}<extra></extra>",
         "labels": [
          true,
          false
         ],
         "legendgroup": "",
         "marker": {
          "colors": [
           "green",
           "red"
          ]
         },
         "name": "",
         "showlegend": true,
         "type": "pie",
         "values": {
          "bdata": "5wkVAQ==",
          "dtype": "i2"
         }
        }
       ],
       "layout": {
        "legend": {
         "tracegroupgap": 0
        },
        "template": {
         "data": {
          "bar": [
           {
            "error_x": {
             "color": "#2a3f5f"
            },
            "error_y": {
             "color": "#2a3f5f"
            },
            "marker": {
             "line": {
              "color": "#E5ECF6",
              "width": 0.5
             },
             "pattern": {
              "fillmode": "overlay",
              "size": 10,
              "solidity": 0.2
             }
            },
            "type": "bar"
           }
          ],
          "barpolar": [
           {
            "marker": {
             "line": {
              "color": "#E5ECF6",
              "width": 0.5
             },
             "pattern": {
              "fillmode": "overlay",
              "size": 10,
              "solidity": 0.2
             }
            },
            "type": "barpolar"
           }
          ],
          "carpet": [
           {
            "aaxis": {
             "endlinecolor": "#2a3f5f",
             "gridcolor": "white",
             "linecolor": "white",
             "minorgridcolor": "white",
             "startlinecolor": "#2a3f5f"
            },
            "baxis": {
             "endlinecolor": "#2a3f5f",
             "gridcolor": "white",
             "linecolor": "white",
             "minorgridcolor": "white",
             "startlinecolor": "#2a3f5f"
            },
            "type": "carpet"
           }
          ],
          "choropleth": [
           {
            "colorbar": {
             "outlinewidth": 0,
             "ticks": ""
            },
            "type": "choropleth"
           }
          ],
          "contour": [
           {
            "colorbar": {
             "outlinewidth": 0,
             "ticks": ""
            },
            "colorscale": [
             [
              0,
              "#0d0887"
             ],
             [
              0.1111111111111111,
              "#46039f"
             ],
             [
              0.2222222222222222,
              "#7201a8"
             ],
             [
              0.3333333333333333,
              "#9c179e"
             ],
             [
              0.4444444444444444,
              "#bd3786"
             ],
             [
              0.5555555555555556,
              "#d8576b"
             ],
             [
              0.6666666666666666,
              "#ed7953"
             ],
             [
              0.7777777777777778,
              "#fb9f3a"
             ],
             [
              0.8888888888888888,
              "#fdca26"
             ],
             [
              1,
              "#f0f921"
             ]
            ],
            "type": "contour"
           }
          ],
          "contourcarpet": [
           {
            "colorbar": {
             "outlinewidth": 0,
             "ticks": ""
            },
            "type": "contourcarpet"
           }
          ],
          "heatmap": [
           {
            "colorbar": {
             "outlinewidth": 0,
             "ticks": ""
            },
            "colorscale": [
             [
              0,
              "#0d0887"
             ],
             [
              0.1111111111111111,
              "#46039f"
             ],
             [
              0.2222222222222222,
              "#7201a8"
             ],
             [
              0.3333333333333333,
              "#9c179e"
             ],
             [
              0.4444444444444444,
              "#bd3786"
             ],
             [
              0.5555555555555556,
              "#d8576b"
             ],
             [
              0.6666666666666666,
              "#ed7953"
             ],
             [
              0.7777777777777778,
              "#fb9f3a"
             ],
             [
              0.8888888888888888,
              "#fdca26"
             ],
             [
              1,
              "#f0f921"
             ]
            ],
            "type": "heatmap"
           }
          ],
          "histogram": [
           {
            "marker": {
             "pattern": {
              "fillmode": "overlay",
              "size": 10,
              "solidity": 0.2
             }
            },
            "type": "histogram"
           }
          ],
          "histogram2d": [
           {
            "colorbar": {
             "outlinewidth": 0,
             "ticks": ""
            },
            "colorscale": [
             [
              0,
              "#0d0887"
             ],
             [
              0.1111111111111111,
              "#46039f"
             ],
             [
              0.2222222222222222,
              "#7201a8"
             ],
             [
              0.3333333333333333,
              "#9c179e"
             ],
             [
              0.4444444444444444,
              "#bd3786"
             ],
             [
              0.5555555555555556,
              "#d8576b"
             ],
             [
              0.6666666666666666,
              "#ed7953"
             ],
             [
              0.7777777777777778,
              "#fb9f3a"
             ],
             [
              0.8888888888888888,
              "#fdca26"
             ],
             [
              1,
              "#f0f921"
             ]
            ],
            "type": "histogram2d"
           }
          ],
          "histogram2dcontour": [
           {
            "colorbar": {
             "outlinewidth": 0,
             "ticks": ""
            },
            "colorscale": [
             [
              0,
              "#0d0887"
             ],
             [
              0.1111111111111111,
              "#46039f"
             ],
             [
              0.2222222222222222,
              "#7201a8"
             ],
             [
              0.3333333333333333,
              "#9c179e"
             ],
             [
              0.4444444444444444,
              "#bd3786"
             ],
             [
              0.5555555555555556,
              "#d8576b"
             ],
             [
              0.6666666666666666,
              "#ed7953"
             ],
             [
              0.7777777777777778,
              "#fb9f3a"
             ],
             [
              0.8888888888888888,
              "#fdca26"
             ],
             [
              1,
              "#f0f921"
             ]
            ],
            "type": "histogram2dcontour"
           }
          ],
          "mesh3d": [
           {
            "colorbar": {
             "outlinewidth": 0,
             "ticks": ""
            },
            "type": "mesh3d"
           }
          ],
          "parcoords": [
           {
            "line": {
             "colorbar": {
              "outlinewidth": 0,
              "ticks": ""
             }
            },
            "type": "parcoords"
           }
          ],
          "pie": [
           {
            "automargin": true,
            "type": "pie"
           }
          ],
          "scatter": [
           {
            "fillpattern": {
             "fillmode": "overlay",
             "size": 10,
             "solidity": 0.2
            },
            "type": "scatter"
           }
          ],
          "scatter3d": [
           {
            "line": {
             "colorbar": {
              "outlinewidth": 0,
              "ticks": ""
             }
            },
            "marker": {
             "colorbar": {
              "outlinewidth": 0,
              "ticks": ""
             }
            },
            "type": "scatter3d"
           }
          ],
          "scattercarpet": [
           {
            "marker": {
             "colorbar": {
              "outlinewidth": 0,
              "ticks": ""
             }
            },
            "type": "scattercarpet"
           }
          ],
          "scattergeo": [
           {
            "marker": {
             "colorbar": {
              "outlinewidth": 0,
              "ticks": ""
             }
            },
            "type": "scattergeo"
           }
          ],
          "scattergl": [
           {
            "marker": {
             "colorbar": {
              "outlinewidth": 0,
              "ticks": ""
             }
            },
            "type": "scattergl"
           }
          ],
          "scattermap": [
           {
            "marker": {
             "colorbar": {
              "outlinewidth": 0,
              "ticks": ""
             }
            },
            "type": "scattermap"
           }
          ],
          "scattermapbox": [
           {
            "marker": {
             "colorbar": {
              "outlinewidth": 0,
              "ticks": ""
             }
            },
            "type": "scattermapbox"
           }
          ],
          "scatterpolar": [
           {
            "marker": {
             "colorbar": {
              "outlinewidth": 0,
              "ticks": ""
             }
            },
            "type": "scatterpolar"
           }
          ],
          "scatterpolargl": [
           {
            "marker": {
             "colorbar": {
              "outlinewidth": 0,
              "ticks": ""
             }
            },
            "type": "scatterpolargl"
           }
          ],
          "scatterternary": [
           {
            "marker": {
             "colorbar": {
              "outlinewidth": 0,
              "ticks": ""
             }
            },
            "type": "scatterternary"
           }
          ],
          "surface": [
           {
            "colorbar": {
             "outlinewidth": 0,
             "ticks": ""
            },
            "colorscale": [
             [
              0,
              "#0d0887"
             ],
             [
              0.1111111111111111,
              "#46039f"
             ],
             [
              0.2222222222222222,
              "#7201a8"
             ],
             [
              0.3333333333333333,
              "#9c179e"
             ],
             [
              0.4444444444444444,
              "#bd3786"
             ],
             [
              0.5555555555555556,
              "#d8576b"
             ],
             [
              0.6666666666666666,
              "#ed7953"
             ],
             [
              0.7777777777777778,
              "#fb9f3a"
             ],
             [
              0.8888888888888888,
              "#fdca26"
             ],
             [
              1,
              "#f0f921"
             ]
            ],
            "type": "surface"
           }
          ],
          "table": [
           {
            "cells": {
             "fill": {
              "color": "#EBF0F8"
             },
             "line": {
              "color": "white"
             }
            },
            "header": {
             "fill": {
              "color": "#C8D4E3"
             },
             "line": {
              "color": "white"
             }
            },
            "type": "table"
           }
          ]
         },
         "layout": {
          "annotationdefaults": {
           "arrowcolor": "#2a3f5f",
           "arrowhead": 0,
           "arrowwidth": 1
          },
          "autotypenumbers": "strict",
          "coloraxis": {
           "colorbar": {
            "outlinewidth": 0,
            "ticks": ""
           }
          },
          "colorscale": {
           "diverging": [
            [
             0,
             "#8e0152"
            ],
            [
             0.1,
             "#c51b7d"
            ],
            [
             0.2,
             "#de77ae"
            ],
            [
             0.3,
             "#f1b6da"
            ],
            [
             0.4,
             "#fde0ef"
            ],
            [
             0.5,
             "#f7f7f7"
            ],
            [
             0.6,
             "#e6f5d0"
            ],
            [
             0.7,
             "#b8e186"
            ],
            [
             0.8,
             "#7fbc41"
            ],
            [
             0.9,
             "#4d9221"
            ],
            [
             1,
             "#276419"
            ]
           ],
           "sequential": [
            [
             0,
             "#0d0887"
            ],
            [
             0.1111111111111111,
             "#46039f"
            ],
            [
             0.2222222222222222,
             "#7201a8"
            ],
            [
             0.3333333333333333,
             "#9c179e"
            ],
            [
             0.4444444444444444,
             "#bd3786"
            ],
            [
             0.5555555555555556,
             "#d8576b"
            ],
            [
             0.6666666666666666,
             "#ed7953"
            ],
            [
             0.7777777777777778,
             "#fb9f3a"
            ],
            [
             0.8888888888888888,
             "#fdca26"
            ],
            [
             1,
             "#f0f921"
            ]
           ],
           "sequentialminus": [
            [
             0,
             "#0d0887"
            ],
            [
             0.1111111111111111,
             "#46039f"
            ],
            [
             0.2222222222222222,
             "#7201a8"
            ],
            [
             0.3333333333333333,
             "#9c179e"
            ],
            [
             0.4444444444444444,
             "#bd3786"
            ],
            [
             0.5555555555555556,
             "#d8576b"
            ],
            [
             0.6666666666666666,
             "#ed7953"
            ],
            [
             0.7777777777777778,
             "#fb9f3a"
            ],
            [
             0.8888888888888888,
             "#fdca26"
            ],
            [
             1,
             "#f0f921"
            ]
           ]
          },
          "colorway": [
           "#636efa",
           "#EF553B",
           "#00cc96",
           "#ab63fa",
           "#FFA15A",
           "#19d3f3",
           "#FF6692",
           "#B6E880",
           "#FF97FF",
           "#FECB52"
          ],
          "font": {
           "color": "#2a3f5f"
          },
          "geo": {
           "bgcolor": "white",
           "lakecolor": "white",
           "landcolor": "#E5ECF6",
           "showlakes": true,
           "showland": true,
           "subunitcolor": "white"
          },
          "hoverlabel": {
           "align": "left"
          },
          "hovermode": "closest",
          "mapbox": {
           "style": "light"
          },
          "paper_bgcolor": "white",
          "plot_bgcolor": "#E5ECF6",
          "polar": {
           "angularaxis": {
            "gridcolor": "white",
            "linecolor": "white",
            "ticks": ""
           },
           "bgcolor": "#E5ECF6",
           "radialaxis": {
            "gridcolor": "white",
            "linecolor": "white",
            "ticks": ""
           }
          },
          "scene": {
           "xaxis": {
            "backgroundcolor": "#E5ECF6",
            "gridcolor": "white",
            "gridwidth": 2,
            "linecolor": "white",
            "showbackground": true,
            "ticks": "",
            "zerolinecolor": "white"
           },
           "yaxis": {
            "backgroundcolor": "#E5ECF6",
            "gridcolor": "white",
            "gridwidth": 2,
            "linecolor": "white",
            "showbackground": true,
            "ticks": "",
            "zerolinecolor": "white"
           },
           "zaxis": {
            "backgroundcolor": "#E5ECF6",
            "gridcolor": "white",
            "gridwidth": 2,
            "linecolor": "white",
            "showbackground": true,
            "ticks": "",
            "zerolinecolor": "white"
           }
          },
          "shapedefaults": {
           "line": {
            "color": "#2a3f5f"
           }
          },
          "ternary": {
           "aaxis": {
            "gridcolor": "white",
            "linecolor": "white",
            "ticks": ""
           },
           "baxis": {
            "gridcolor": "white",
            "linecolor": "white",
            "ticks": ""
           },
           "bgcolor": "#E5ECF6",
           "caxis": {
            "gridcolor": "white",
            "linecolor": "white",
            "ticks": ""
           }
          },
          "title": {
           "x": 0.05
          },
          "xaxis": {
           "automargin": true,
           "gridcolor": "white",
           "linecolor": "white",
           "ticks": "",
           "title": {
            "standoff": 15
           },
           "zerolinecolor": "white",
           "zerolinewidth": 2
          },
          "yaxis": {
           "automargin": true,
           "gridcolor": "white",
           "linecolor": "white",
           "ticks": "",
           "title": {
            "standoff": 15
           },
           "zerolinecolor": "white",
           "zerolinewidth": 2
          }
         }
        },
        "title": {
         "text": "Distribution of True vs False"
        },
        "width": 600
       }
      }
     },
     "metadata": {},
     "output_type": "display_data"
    }
   ],
   "source": [
    "value_counts = data['Is_As_Expected_Mortality'].value_counts().reset_index()\n",
    "value_counts.columns = ['Is_As_Expected_Mortality', 'Count']\n",
    "\n",
    "fig = px.pie(\n",
    "    value_counts,\n",
    "    names='Is_As_Expected_Mortality',\n",
    "    values='Count',\n",
    "    title='Distribution of True vs False',\n",
    "    color='Is_As_Expected_Mortality',\n",
    "    color_discrete_map={True: 'green', False: 'red'}\n",
    ")\n",
    "fig.update_layout(\n",
    "    width = 600\n",
    "    \n",
    ")\n",
    "\n",
    "fig.show()\n"
   ]
  },
  {
   "cell_type": "markdown",
   "id": "9a1d6fac",
   "metadata": {},
   "source": [
    "### Here we can see that above 90 % expected mortality is True Comparatively Observed mortality."
   ]
  },
  {
   "cell_type": "code",
   "execution_count": 68,
   "id": "179ba1d2",
   "metadata": {},
   "outputs": [
    {
     "data": {
      "text/plain": [
       "np.int64(2019)"
      ]
     },
     "execution_count": 68,
     "metadata": {},
     "output_type": "execute_result"
    }
   ],
   "source": [
    "data['Start_Year'].max()"
   ]
  },
  {
   "cell_type": "code",
   "execution_count": 90,
   "id": "a9d36e8b",
   "metadata": {},
   "outputs": [
    {
     "data": {
      "application/vnd.plotly.v1+json": {
       "config": {
        "plotlyServerURL": "https://plot.ly"
       },
       "data": [
        {
         "marker": {
          "size": 6
         },
         "name": "Observed Mortality Rate",
         "type": "scatter",
         "x": {
          "bdata": "2AfZB9oH2wfcB90H3gffB+AH4QfiB+MH",
          "dtype": "i2"
         },
         "y": {
          "bdata": "MIoR71ImEEDVsV4iEcMMQPWep5gP5f0/eGWBVxb4/T/LmNBbgoP9P9o+Fj2H/QFAXrpJDAIrAUDzjoa9FvgAQHgmuf+0WgBApWAc2JNPAEDIGOcaRJz1P4i7aa8xzPI/",
          "dtype": "f8"
         }
        },
        {
         "line": {
          "color": "grey",
          "dash": "dot",
          "width": 4
         },
         "marker": {
          "size": 6
         },
         "name": "Expected Mortality Rate",
         "type": "scatter",
         "x": {
          "bdata": "2AfZB9oH2wfcB90H3gffB+AH4QfiB+MH",
          "dtype": "i2"
         },
         "y": {
          "bdata": "CLnrZ4uVDUAJJwu6WYcLQLbFwYKSjvw//GLJL5b8+z+J5cXI35f8P8EhUm3UQAFAxg31IqkdAEBshqmunFv/PztnR5YV2v8/scLT5PUG/j/FTI3kRA/0P4DE1ThW8fE/",
          "dtype": "f8"
         }
        },
        {
         "line": {
          "color": "#FF4500",
          "dash": "dot",
          "width": 4
         },
         "marker": {
          "size": 6
         },
         "name": "Risk Adjusted Mortality Rate",
         "type": "scatter",
         "x": {
          "bdata": "2AfZB9oH2wfcB90H3gffB+AH4QfiB+MH",
          "dtype": "i2"
         },
         "y": {
          "bdata": "zSQZqD6OEECI8zZKdMkNQBhMZcWTRv4/RiBYBILF/j/Or4gciLH9PynyI0sYaAJAn7DDZUdFAUBAdwJoUW0AQBo/zDYCWABAzFTdZe52AEB0DSLOtrf0PyFZwQnfH/I/",
          "dtype": "f8"
         }
        }
       ],
       "layout": {
        "height": 500,
        "template": {
         "data": {
          "bar": [
           {
            "error_x": {
             "color": "#2a3f5f"
            },
            "error_y": {
             "color": "#2a3f5f"
            },
            "marker": {
             "line": {
              "color": "white",
              "width": 0.5
             },
             "pattern": {
              "fillmode": "overlay",
              "size": 10,
              "solidity": 0.2
             }
            },
            "type": "bar"
           }
          ],
          "barpolar": [
           {
            "marker": {
             "line": {
              "color": "white",
              "width": 0.5
             },
             "pattern": {
              "fillmode": "overlay",
              "size": 10,
              "solidity": 0.2
             }
            },
            "type": "barpolar"
           }
          ],
          "carpet": [
           {
            "aaxis": {
             "endlinecolor": "#2a3f5f",
             "gridcolor": "#C8D4E3",
             "linecolor": "#C8D4E3",
             "minorgridcolor": "#C8D4E3",
             "startlinecolor": "#2a3f5f"
            },
            "baxis": {
             "endlinecolor": "#2a3f5f",
             "gridcolor": "#C8D4E3",
             "linecolor": "#C8D4E3",
             "minorgridcolor": "#C8D4E3",
             "startlinecolor": "#2a3f5f"
            },
            "type": "carpet"
           }
          ],
          "choropleth": [
           {
            "colorbar": {
             "outlinewidth": 0,
             "ticks": ""
            },
            "type": "choropleth"
           }
          ],
          "contour": [
           {
            "colorbar": {
             "outlinewidth": 0,
             "ticks": ""
            },
            "colorscale": [
             [
              0,
              "#0d0887"
             ],
             [
              0.1111111111111111,
              "#46039f"
             ],
             [
              0.2222222222222222,
              "#7201a8"
             ],
             [
              0.3333333333333333,
              "#9c179e"
             ],
             [
              0.4444444444444444,
              "#bd3786"
             ],
             [
              0.5555555555555556,
              "#d8576b"
             ],
             [
              0.6666666666666666,
              "#ed7953"
             ],
             [
              0.7777777777777778,
              "#fb9f3a"
             ],
             [
              0.8888888888888888,
              "#fdca26"
             ],
             [
              1,
              "#f0f921"
             ]
            ],
            "type": "contour"
           }
          ],
          "contourcarpet": [
           {
            "colorbar": {
             "outlinewidth": 0,
             "ticks": ""
            },
            "type": "contourcarpet"
           }
          ],
          "heatmap": [
           {
            "colorbar": {
             "outlinewidth": 0,
             "ticks": ""
            },
            "colorscale": [
             [
              0,
              "#0d0887"
             ],
             [
              0.1111111111111111,
              "#46039f"
             ],
             [
              0.2222222222222222,
              "#7201a8"
             ],
             [
              0.3333333333333333,
              "#9c179e"
             ],
             [
              0.4444444444444444,
              "#bd3786"
             ],
             [
              0.5555555555555556,
              "#d8576b"
             ],
             [
              0.6666666666666666,
              "#ed7953"
             ],
             [
              0.7777777777777778,
              "#fb9f3a"
             ],
             [
              0.8888888888888888,
              "#fdca26"
             ],
             [
              1,
              "#f0f921"
             ]
            ],
            "type": "heatmap"
           }
          ],
          "histogram": [
           {
            "marker": {
             "pattern": {
              "fillmode": "overlay",
              "size": 10,
              "solidity": 0.2
             }
            },
            "type": "histogram"
           }
          ],
          "histogram2d": [
           {
            "colorbar": {
             "outlinewidth": 0,
             "ticks": ""
            },
            "colorscale": [
             [
              0,
              "#0d0887"
             ],
             [
              0.1111111111111111,
              "#46039f"
             ],
             [
              0.2222222222222222,
              "#7201a8"
             ],
             [
              0.3333333333333333,
              "#9c179e"
             ],
             [
              0.4444444444444444,
              "#bd3786"
             ],
             [
              0.5555555555555556,
              "#d8576b"
             ],
             [
              0.6666666666666666,
              "#ed7953"
             ],
             [
              0.7777777777777778,
              "#fb9f3a"
             ],
             [
              0.8888888888888888,
              "#fdca26"
             ],
             [
              1,
              "#f0f921"
             ]
            ],
            "type": "histogram2d"
           }
          ],
          "histogram2dcontour": [
           {
            "colorbar": {
             "outlinewidth": 0,
             "ticks": ""
            },
            "colorscale": [
             [
              0,
              "#0d0887"
             ],
             [
              0.1111111111111111,
              "#46039f"
             ],
             [
              0.2222222222222222,
              "#7201a8"
             ],
             [
              0.3333333333333333,
              "#9c179e"
             ],
             [
              0.4444444444444444,
              "#bd3786"
             ],
             [
              0.5555555555555556,
              "#d8576b"
             ],
             [
              0.6666666666666666,
              "#ed7953"
             ],
             [
              0.7777777777777778,
              "#fb9f3a"
             ],
             [
              0.8888888888888888,
              "#fdca26"
             ],
             [
              1,
              "#f0f921"
             ]
            ],
            "type": "histogram2dcontour"
           }
          ],
          "mesh3d": [
           {
            "colorbar": {
             "outlinewidth": 0,
             "ticks": ""
            },
            "type": "mesh3d"
           }
          ],
          "parcoords": [
           {
            "line": {
             "colorbar": {
              "outlinewidth": 0,
              "ticks": ""
             }
            },
            "type": "parcoords"
           }
          ],
          "pie": [
           {
            "automargin": true,
            "type": "pie"
           }
          ],
          "scatter": [
           {
            "fillpattern": {
             "fillmode": "overlay",
             "size": 10,
             "solidity": 0.2
            },
            "type": "scatter"
           }
          ],
          "scatter3d": [
           {
            "line": {
             "colorbar": {
              "outlinewidth": 0,
              "ticks": ""
             }
            },
            "marker": {
             "colorbar": {
              "outlinewidth": 0,
              "ticks": ""
             }
            },
            "type": "scatter3d"
           }
          ],
          "scattercarpet": [
           {
            "marker": {
             "colorbar": {
              "outlinewidth": 0,
              "ticks": ""
             }
            },
            "type": "scattercarpet"
           }
          ],
          "scattergeo": [
           {
            "marker": {
             "colorbar": {
              "outlinewidth": 0,
              "ticks": ""
             }
            },
            "type": "scattergeo"
           }
          ],
          "scattergl": [
           {
            "marker": {
             "colorbar": {
              "outlinewidth": 0,
              "ticks": ""
             }
            },
            "type": "scattergl"
           }
          ],
          "scattermap": [
           {
            "marker": {
             "colorbar": {
              "outlinewidth": 0,
              "ticks": ""
             }
            },
            "type": "scattermap"
           }
          ],
          "scattermapbox": [
           {
            "marker": {
             "colorbar": {
              "outlinewidth": 0,
              "ticks": ""
             }
            },
            "type": "scattermapbox"
           }
          ],
          "scatterpolar": [
           {
            "marker": {
             "colorbar": {
              "outlinewidth": 0,
              "ticks": ""
             }
            },
            "type": "scatterpolar"
           }
          ],
          "scatterpolargl": [
           {
            "marker": {
             "colorbar": {
              "outlinewidth": 0,
              "ticks": ""
             }
            },
            "type": "scatterpolargl"
           }
          ],
          "scatterternary": [
           {
            "marker": {
             "colorbar": {
              "outlinewidth": 0,
              "ticks": ""
             }
            },
            "type": "scatterternary"
           }
          ],
          "surface": [
           {
            "colorbar": {
             "outlinewidth": 0,
             "ticks": ""
            },
            "colorscale": [
             [
              0,
              "#0d0887"
             ],
             [
              0.1111111111111111,
              "#46039f"
             ],
             [
              0.2222222222222222,
              "#7201a8"
             ],
             [
              0.3333333333333333,
              "#9c179e"
             ],
             [
              0.4444444444444444,
              "#bd3786"
             ],
             [
              0.5555555555555556,
              "#d8576b"
             ],
             [
              0.6666666666666666,
              "#ed7953"
             ],
             [
              0.7777777777777778,
              "#fb9f3a"
             ],
             [
              0.8888888888888888,
              "#fdca26"
             ],
             [
              1,
              "#f0f921"
             ]
            ],
            "type": "surface"
           }
          ],
          "table": [
           {
            "cells": {
             "fill": {
              "color": "#EBF0F8"
             },
             "line": {
              "color": "white"
             }
            },
            "header": {
             "fill": {
              "color": "#C8D4E3"
             },
             "line": {
              "color": "white"
             }
            },
            "type": "table"
           }
          ]
         },
         "layout": {
          "annotationdefaults": {
           "arrowcolor": "#2a3f5f",
           "arrowhead": 0,
           "arrowwidth": 1
          },
          "autotypenumbers": "strict",
          "coloraxis": {
           "colorbar": {
            "outlinewidth": 0,
            "ticks": ""
           }
          },
          "colorscale": {
           "diverging": [
            [
             0,
             "#8e0152"
            ],
            [
             0.1,
             "#c51b7d"
            ],
            [
             0.2,
             "#de77ae"
            ],
            [
             0.3,
             "#f1b6da"
            ],
            [
             0.4,
             "#fde0ef"
            ],
            [
             0.5,
             "#f7f7f7"
            ],
            [
             0.6,
             "#e6f5d0"
            ],
            [
             0.7,
             "#b8e186"
            ],
            [
             0.8,
             "#7fbc41"
            ],
            [
             0.9,
             "#4d9221"
            ],
            [
             1,
             "#276419"
            ]
           ],
           "sequential": [
            [
             0,
             "#0d0887"
            ],
            [
             0.1111111111111111,
             "#46039f"
            ],
            [
             0.2222222222222222,
             "#7201a8"
            ],
            [
             0.3333333333333333,
             "#9c179e"
            ],
            [
             0.4444444444444444,
             "#bd3786"
            ],
            [
             0.5555555555555556,
             "#d8576b"
            ],
            [
             0.6666666666666666,
             "#ed7953"
            ],
            [
             0.7777777777777778,
             "#fb9f3a"
            ],
            [
             0.8888888888888888,
             "#fdca26"
            ],
            [
             1,
             "#f0f921"
            ]
           ],
           "sequentialminus": [
            [
             0,
             "#0d0887"
            ],
            [
             0.1111111111111111,
             "#46039f"
            ],
            [
             0.2222222222222222,
             "#7201a8"
            ],
            [
             0.3333333333333333,
             "#9c179e"
            ],
            [
             0.4444444444444444,
             "#bd3786"
            ],
            [
             0.5555555555555556,
             "#d8576b"
            ],
            [
             0.6666666666666666,
             "#ed7953"
            ],
            [
             0.7777777777777778,
             "#fb9f3a"
            ],
            [
             0.8888888888888888,
             "#fdca26"
            ],
            [
             1,
             "#f0f921"
            ]
           ]
          },
          "colorway": [
           "#636efa",
           "#EF553B",
           "#00cc96",
           "#ab63fa",
           "#FFA15A",
           "#19d3f3",
           "#FF6692",
           "#B6E880",
           "#FF97FF",
           "#FECB52"
          ],
          "font": {
           "color": "#2a3f5f"
          },
          "geo": {
           "bgcolor": "white",
           "lakecolor": "white",
           "landcolor": "white",
           "showlakes": true,
           "showland": true,
           "subunitcolor": "#C8D4E3"
          },
          "hoverlabel": {
           "align": "left"
          },
          "hovermode": "closest",
          "mapbox": {
           "style": "light"
          },
          "paper_bgcolor": "white",
          "plot_bgcolor": "white",
          "polar": {
           "angularaxis": {
            "gridcolor": "#EBF0F8",
            "linecolor": "#EBF0F8",
            "ticks": ""
           },
           "bgcolor": "white",
           "radialaxis": {
            "gridcolor": "#EBF0F8",
            "linecolor": "#EBF0F8",
            "ticks": ""
           }
          },
          "scene": {
           "xaxis": {
            "backgroundcolor": "white",
            "gridcolor": "#DFE8F3",
            "gridwidth": 2,
            "linecolor": "#EBF0F8",
            "showbackground": true,
            "ticks": "",
            "zerolinecolor": "#EBF0F8"
           },
           "yaxis": {
            "backgroundcolor": "white",
            "gridcolor": "#DFE8F3",
            "gridwidth": 2,
            "linecolor": "#EBF0F8",
            "showbackground": true,
            "ticks": "",
            "zerolinecolor": "#EBF0F8"
           },
           "zaxis": {
            "backgroundcolor": "white",
            "gridcolor": "#DFE8F3",
            "gridwidth": 2,
            "linecolor": "#EBF0F8",
            "showbackground": true,
            "ticks": "",
            "zerolinecolor": "#EBF0F8"
           }
          },
          "shapedefaults": {
           "line": {
            "color": "#2a3f5f"
           }
          },
          "ternary": {
           "aaxis": {
            "gridcolor": "#DFE8F3",
            "linecolor": "#A2B1C6",
            "ticks": ""
           },
           "baxis": {
            "gridcolor": "#DFE8F3",
            "linecolor": "#A2B1C6",
            "ticks": ""
           },
           "bgcolor": "white",
           "caxis": {
            "gridcolor": "#DFE8F3",
            "linecolor": "#A2B1C6",
            "ticks": ""
           }
          },
          "title": {
           "x": 0.05
          },
          "xaxis": {
           "automargin": true,
           "gridcolor": "#EBF0F8",
           "linecolor": "#EBF0F8",
           "ticks": "",
           "title": {
            "standoff": 15
           },
           "zerolinecolor": "#EBF0F8",
           "zerolinewidth": 2
          },
          "yaxis": {
           "automargin": true,
           "gridcolor": "#EBF0F8",
           "linecolor": "#EBF0F8",
           "ticks": "",
           "title": {
            "standoff": 15
           },
           "zerolinecolor": "#EBF0F8",
           "zerolinewidth": 2
          }
         }
        },
        "title": {
         "font": {
          "color": "saddlebrown",
          "size": 22
         },
         "text": "Observed Mortality Rate (2008-2019)",
         "x": 0.5
        },
        "width": 900,
        "xaxis": {
         "title": {
          "text": "Year"
         }
        },
        "yaxis": {
         "title": {
          "text": "Observed Mortality Rate"
         }
        }
       }
      }
     },
     "metadata": {},
     "output_type": "display_data"
    }
   ],
   "source": [
    "group_observed = data.groupby('Start_Year', as_index=False)['Observed_Mortality_Rate'].mean()\n",
    "group_expected = data.groupby('Start_Year', as_index=False)['Expected_Mortality_Rate'].mean()\n",
    "group_rist_adjusted = data.groupby('Start_Year', as_index=False)['Risk_Adjusted_Mortality_Rate'].mean()\n",
    "\n",
    "fig = go.Figure()\n",
    "\n",
    "fig.add_trace(go.Scatter(\n",
    "    y=group_observed['Observed_Mortality_Rate'],\n",
    "    x=group_observed['Start_Year'],\n",
    "    name='Observed Mortality Rate',\n",
    "    \n",
    "    marker=dict(size=6)\n",
    "))\n",
    "\n",
    "fig.add_trace(go.Scatter(\n",
    "    y=group_expected['Expected_Mortality_Rate'],\n",
    "    x=group_expected['Start_Year'],\n",
    "    name='Expected Mortality Rate',\n",
    "    line = dict(color='grey', width=4, dash='dot'),\n",
    "    marker=dict(size=6)\n",
    "))\n",
    "\n",
    "fig.add_trace(go.Scatter(\n",
    "    y=group_rist_adjusted['Risk_Adjusted_Mortality_Rate'],\n",
    "    x=group_rist_adjusted['Start_Year'],\n",
    "    line=dict(color='#FF4500', width=4, dash='dot'),\n",
    "    name='Risk Adjusted Mortality Rate',\n",
    "    marker=dict(size=6)\n",
    "))\n",
    "\n",
    "# Step 3: Update layout\n",
    "fig.update_layout(\n",
    "    title=dict(\n",
    "        text='Observed Mortality Rate (2008-2019)',\n",
    "        font=dict(size=22, color='saddlebrown'),\n",
    "        x=0.5\n",
    "    ),\n",
    "    xaxis_title='Year',\n",
    "    yaxis_title='Observed Mortality Rate',\n",
    "    template='plotly_white',\n",
    "    height=500,\n",
    "    width=900\n",
    ")\n",
    "\n",
    "fig.show()"
   ]
  },
  {
   "cell_type": "markdown",
   "id": "8262c957",
   "metadata": {},
   "source": [
    "### 🔑 Key Points\n",
    "* Average mortality rates are decreasing over time.\n",
    "\n",
    "* Environmental pollution and lifestyle-related diseases are on the rise.\n",
    "\n",
    "* People are becoming more vulnerable to chronic illnesses.\n",
    "\n",
    "* Medical advancements and better healthcare systems are helping reduce death rates.\n",
    "\n",
    "* The decline in mortality does not necessarily reflect better overall health."
   ]
  },
  {
   "cell_type": "code",
   "execution_count": 107,
   "id": "08806ee8",
   "metadata": {},
   "outputs": [
    {
     "data": {
      "application/vnd.plotly.v1+json": {
       "config": {
        "plotlyServerURL": "https://plot.ly"
       },
       "data": [
        {
         "line": {
          "color": "green",
          "dash": "dot",
          "width": 4
         },
         "marker": {
          "size": 6
         },
         "name": "Average No. of cases",
         "type": "scatter",
         "x": {
          "bdata": "2AfZB9oH2wfcB90H3gffB+AH4QfiB+MH",
          "dtype": "i2"
         },
         "y": {
          "bdata": "IXf9bLEii0AXK8M3onCLQHIjN3IjsZJAH3zwwQeKkUBBtEwQLZOQQOtLBa2+DJBAmpmZmZkJkEDKPKuoMSqQQAdT5LNu0pBA1oAr1oCnkEDAGdciQeWSQHX7yupd+pNA",
          "dtype": "f8"
         }
        },
        {
         "line": {
          "color": "red",
          "dash": "dot",
          "width": 4
         },
         "marker": {
          "size": 6
         },
         "name": "Average No. deaths",
         "type": "scatter",
         "x": {
          "bdata": "2AfZB9oH2wfcB90H3gffB+AH4QfiB+MH",
          "dtype": "i2"
         },
         "y": {
          "bdata": "cESBSafmQEDfiAKTTs0/QI7cyI3cyDFA4YMPPvigMUDT7Ls0+y4xQBW0+lJBqzJAHn844PGHMkDOrR8RxNExQPmsG0yRDzNA5+bm5ubmMUC6fWX1LnksQCpEGz5/zClA",
          "dtype": "f8"
         }
        }
       ],
       "layout": {
        "height": 500,
        "template": {
         "data": {
          "bar": [
           {
            "error_x": {
             "color": "#2a3f5f"
            },
            "error_y": {
             "color": "#2a3f5f"
            },
            "marker": {
             "line": {
              "color": "white",
              "width": 0.5
             },
             "pattern": {
              "fillmode": "overlay",
              "size": 10,
              "solidity": 0.2
             }
            },
            "type": "bar"
           }
          ],
          "barpolar": [
           {
            "marker": {
             "line": {
              "color": "white",
              "width": 0.5
             },
             "pattern": {
              "fillmode": "overlay",
              "size": 10,
              "solidity": 0.2
             }
            },
            "type": "barpolar"
           }
          ],
          "carpet": [
           {
            "aaxis": {
             "endlinecolor": "#2a3f5f",
             "gridcolor": "#C8D4E3",
             "linecolor": "#C8D4E3",
             "minorgridcolor": "#C8D4E3",
             "startlinecolor": "#2a3f5f"
            },
            "baxis": {
             "endlinecolor": "#2a3f5f",
             "gridcolor": "#C8D4E3",
             "linecolor": "#C8D4E3",
             "minorgridcolor": "#C8D4E3",
             "startlinecolor": "#2a3f5f"
            },
            "type": "carpet"
           }
          ],
          "choropleth": [
           {
            "colorbar": {
             "outlinewidth": 0,
             "ticks": ""
            },
            "type": "choropleth"
           }
          ],
          "contour": [
           {
            "colorbar": {
             "outlinewidth": 0,
             "ticks": ""
            },
            "colorscale": [
             [
              0,
              "#0d0887"
             ],
             [
              0.1111111111111111,
              "#46039f"
             ],
             [
              0.2222222222222222,
              "#7201a8"
             ],
             [
              0.3333333333333333,
              "#9c179e"
             ],
             [
              0.4444444444444444,
              "#bd3786"
             ],
             [
              0.5555555555555556,
              "#d8576b"
             ],
             [
              0.6666666666666666,
              "#ed7953"
             ],
             [
              0.7777777777777778,
              "#fb9f3a"
             ],
             [
              0.8888888888888888,
              "#fdca26"
             ],
             [
              1,
              "#f0f921"
             ]
            ],
            "type": "contour"
           }
          ],
          "contourcarpet": [
           {
            "colorbar": {
             "outlinewidth": 0,
             "ticks": ""
            },
            "type": "contourcarpet"
           }
          ],
          "heatmap": [
           {
            "colorbar": {
             "outlinewidth": 0,
             "ticks": ""
            },
            "colorscale": [
             [
              0,
              "#0d0887"
             ],
             [
              0.1111111111111111,
              "#46039f"
             ],
             [
              0.2222222222222222,
              "#7201a8"
             ],
             [
              0.3333333333333333,
              "#9c179e"
             ],
             [
              0.4444444444444444,
              "#bd3786"
             ],
             [
              0.5555555555555556,
              "#d8576b"
             ],
             [
              0.6666666666666666,
              "#ed7953"
             ],
             [
              0.7777777777777778,
              "#fb9f3a"
             ],
             [
              0.8888888888888888,
              "#fdca26"
             ],
             [
              1,
              "#f0f921"
             ]
            ],
            "type": "heatmap"
           }
          ],
          "histogram": [
           {
            "marker": {
             "pattern": {
              "fillmode": "overlay",
              "size": 10,
              "solidity": 0.2
             }
            },
            "type": "histogram"
           }
          ],
          "histogram2d": [
           {
            "colorbar": {
             "outlinewidth": 0,
             "ticks": ""
            },
            "colorscale": [
             [
              0,
              "#0d0887"
             ],
             [
              0.1111111111111111,
              "#46039f"
             ],
             [
              0.2222222222222222,
              "#7201a8"
             ],
             [
              0.3333333333333333,
              "#9c179e"
             ],
             [
              0.4444444444444444,
              "#bd3786"
             ],
             [
              0.5555555555555556,
              "#d8576b"
             ],
             [
              0.6666666666666666,
              "#ed7953"
             ],
             [
              0.7777777777777778,
              "#fb9f3a"
             ],
             [
              0.8888888888888888,
              "#fdca26"
             ],
             [
              1,
              "#f0f921"
             ]
            ],
            "type": "histogram2d"
           }
          ],
          "histogram2dcontour": [
           {
            "colorbar": {
             "outlinewidth": 0,
             "ticks": ""
            },
            "colorscale": [
             [
              0,
              "#0d0887"
             ],
             [
              0.1111111111111111,
              "#46039f"
             ],
             [
              0.2222222222222222,
              "#7201a8"
             ],
             [
              0.3333333333333333,
              "#9c179e"
             ],
             [
              0.4444444444444444,
              "#bd3786"
             ],
             [
              0.5555555555555556,
              "#d8576b"
             ],
             [
              0.6666666666666666,
              "#ed7953"
             ],
             [
              0.7777777777777778,
              "#fb9f3a"
             ],
             [
              0.8888888888888888,
              "#fdca26"
             ],
             [
              1,
              "#f0f921"
             ]
            ],
            "type": "histogram2dcontour"
           }
          ],
          "mesh3d": [
           {
            "colorbar": {
             "outlinewidth": 0,
             "ticks": ""
            },
            "type": "mesh3d"
           }
          ],
          "parcoords": [
           {
            "line": {
             "colorbar": {
              "outlinewidth": 0,
              "ticks": ""
             }
            },
            "type": "parcoords"
           }
          ],
          "pie": [
           {
            "automargin": true,
            "type": "pie"
           }
          ],
          "scatter": [
           {
            "fillpattern": {
             "fillmode": "overlay",
             "size": 10,
             "solidity": 0.2
            },
            "type": "scatter"
           }
          ],
          "scatter3d": [
           {
            "line": {
             "colorbar": {
              "outlinewidth": 0,
              "ticks": ""
             }
            },
            "marker": {
             "colorbar": {
              "outlinewidth": 0,
              "ticks": ""
             }
            },
            "type": "scatter3d"
           }
          ],
          "scattercarpet": [
           {
            "marker": {
             "colorbar": {
              "outlinewidth": 0,
              "ticks": ""
             }
            },
            "type": "scattercarpet"
           }
          ],
          "scattergeo": [
           {
            "marker": {
             "colorbar": {
              "outlinewidth": 0,
              "ticks": ""
             }
            },
            "type": "scattergeo"
           }
          ],
          "scattergl": [
           {
            "marker": {
             "colorbar": {
              "outlinewidth": 0,
              "ticks": ""
             }
            },
            "type": "scattergl"
           }
          ],
          "scattermap": [
           {
            "marker": {
             "colorbar": {
              "outlinewidth": 0,
              "ticks": ""
             }
            },
            "type": "scattermap"
           }
          ],
          "scattermapbox": [
           {
            "marker": {
             "colorbar": {
              "outlinewidth": 0,
              "ticks": ""
             }
            },
            "type": "scattermapbox"
           }
          ],
          "scatterpolar": [
           {
            "marker": {
             "colorbar": {
              "outlinewidth": 0,
              "ticks": ""
             }
            },
            "type": "scatterpolar"
           }
          ],
          "scatterpolargl": [
           {
            "marker": {
             "colorbar": {
              "outlinewidth": 0,
              "ticks": ""
             }
            },
            "type": "scatterpolargl"
           }
          ],
          "scatterternary": [
           {
            "marker": {
             "colorbar": {
              "outlinewidth": 0,
              "ticks": ""
             }
            },
            "type": "scatterternary"
           }
          ],
          "surface": [
           {
            "colorbar": {
             "outlinewidth": 0,
             "ticks": ""
            },
            "colorscale": [
             [
              0,
              "#0d0887"
             ],
             [
              0.1111111111111111,
              "#46039f"
             ],
             [
              0.2222222222222222,
              "#7201a8"
             ],
             [
              0.3333333333333333,
              "#9c179e"
             ],
             [
              0.4444444444444444,
              "#bd3786"
             ],
             [
              0.5555555555555556,
              "#d8576b"
             ],
             [
              0.6666666666666666,
              "#ed7953"
             ],
             [
              0.7777777777777778,
              "#fb9f3a"
             ],
             [
              0.8888888888888888,
              "#fdca26"
             ],
             [
              1,
              "#f0f921"
             ]
            ],
            "type": "surface"
           }
          ],
          "table": [
           {
            "cells": {
             "fill": {
              "color": "#EBF0F8"
             },
             "line": {
              "color": "white"
             }
            },
            "header": {
             "fill": {
              "color": "#C8D4E3"
             },
             "line": {
              "color": "white"
             }
            },
            "type": "table"
           }
          ]
         },
         "layout": {
          "annotationdefaults": {
           "arrowcolor": "#2a3f5f",
           "arrowhead": 0,
           "arrowwidth": 1
          },
          "autotypenumbers": "strict",
          "coloraxis": {
           "colorbar": {
            "outlinewidth": 0,
            "ticks": ""
           }
          },
          "colorscale": {
           "diverging": [
            [
             0,
             "#8e0152"
            ],
            [
             0.1,
             "#c51b7d"
            ],
            [
             0.2,
             "#de77ae"
            ],
            [
             0.3,
             "#f1b6da"
            ],
            [
             0.4,
             "#fde0ef"
            ],
            [
             0.5,
             "#f7f7f7"
            ],
            [
             0.6,
             "#e6f5d0"
            ],
            [
             0.7,
             "#b8e186"
            ],
            [
             0.8,
             "#7fbc41"
            ],
            [
             0.9,
             "#4d9221"
            ],
            [
             1,
             "#276419"
            ]
           ],
           "sequential": [
            [
             0,
             "#0d0887"
            ],
            [
             0.1111111111111111,
             "#46039f"
            ],
            [
             0.2222222222222222,
             "#7201a8"
            ],
            [
             0.3333333333333333,
             "#9c179e"
            ],
            [
             0.4444444444444444,
             "#bd3786"
            ],
            [
             0.5555555555555556,
             "#d8576b"
            ],
            [
             0.6666666666666666,
             "#ed7953"
            ],
            [
             0.7777777777777778,
             "#fb9f3a"
            ],
            [
             0.8888888888888888,
             "#fdca26"
            ],
            [
             1,
             "#f0f921"
            ]
           ],
           "sequentialminus": [
            [
             0,
             "#0d0887"
            ],
            [
             0.1111111111111111,
             "#46039f"
            ],
            [
             0.2222222222222222,
             "#7201a8"
            ],
            [
             0.3333333333333333,
             "#9c179e"
            ],
            [
             0.4444444444444444,
             "#bd3786"
            ],
            [
             0.5555555555555556,
             "#d8576b"
            ],
            [
             0.6666666666666666,
             "#ed7953"
            ],
            [
             0.7777777777777778,
             "#fb9f3a"
            ],
            [
             0.8888888888888888,
             "#fdca26"
            ],
            [
             1,
             "#f0f921"
            ]
           ]
          },
          "colorway": [
           "#636efa",
           "#EF553B",
           "#00cc96",
           "#ab63fa",
           "#FFA15A",
           "#19d3f3",
           "#FF6692",
           "#B6E880",
           "#FF97FF",
           "#FECB52"
          ],
          "font": {
           "color": "#2a3f5f"
          },
          "geo": {
           "bgcolor": "white",
           "lakecolor": "white",
           "landcolor": "white",
           "showlakes": true,
           "showland": true,
           "subunitcolor": "#C8D4E3"
          },
          "hoverlabel": {
           "align": "left"
          },
          "hovermode": "closest",
          "mapbox": {
           "style": "light"
          },
          "paper_bgcolor": "white",
          "plot_bgcolor": "white",
          "polar": {
           "angularaxis": {
            "gridcolor": "#EBF0F8",
            "linecolor": "#EBF0F8",
            "ticks": ""
           },
           "bgcolor": "white",
           "radialaxis": {
            "gridcolor": "#EBF0F8",
            "linecolor": "#EBF0F8",
            "ticks": ""
           }
          },
          "scene": {
           "xaxis": {
            "backgroundcolor": "white",
            "gridcolor": "#DFE8F3",
            "gridwidth": 2,
            "linecolor": "#EBF0F8",
            "showbackground": true,
            "ticks": "",
            "zerolinecolor": "#EBF0F8"
           },
           "yaxis": {
            "backgroundcolor": "white",
            "gridcolor": "#DFE8F3",
            "gridwidth": 2,
            "linecolor": "#EBF0F8",
            "showbackground": true,
            "ticks": "",
            "zerolinecolor": "#EBF0F8"
           },
           "zaxis": {
            "backgroundcolor": "white",
            "gridcolor": "#DFE8F3",
            "gridwidth": 2,
            "linecolor": "#EBF0F8",
            "showbackground": true,
            "ticks": "",
            "zerolinecolor": "#EBF0F8"
           }
          },
          "shapedefaults": {
           "line": {
            "color": "#2a3f5f"
           }
          },
          "ternary": {
           "aaxis": {
            "gridcolor": "#DFE8F3",
            "linecolor": "#A2B1C6",
            "ticks": ""
           },
           "baxis": {
            "gridcolor": "#DFE8F3",
            "linecolor": "#A2B1C6",
            "ticks": ""
           },
           "bgcolor": "white",
           "caxis": {
            "gridcolor": "#DFE8F3",
            "linecolor": "#A2B1C6",
            "ticks": ""
           }
          },
          "title": {
           "x": 0.05
          },
          "xaxis": {
           "automargin": true,
           "gridcolor": "#EBF0F8",
           "linecolor": "#EBF0F8",
           "ticks": "",
           "title": {
            "standoff": 15
           },
           "zerolinecolor": "#EBF0F8",
           "zerolinewidth": 2
          },
          "yaxis": {
           "automargin": true,
           "gridcolor": "#EBF0F8",
           "linecolor": "#EBF0F8",
           "ticks": "",
           "title": {
            "standoff": 15
           },
           "zerolinecolor": "#EBF0F8",
           "zerolinewidth": 2
          }
         }
        },
        "title": {
         "font": {
          "color": "saddlebrown",
          "size": 22
         },
         "text": "NO. of Cases and Death per year ",
         "x": 0.5
        },
        "width": 900,
        "xaxis": {
         "title": {
          "text": "Year"
         }
        },
        "yaxis": {
         "title": {
          "text": "No. of cases"
         }
        }
       }
      }
     },
     "metadata": {},
     "output_type": "display_data"
    }
   ],
   "source": [
    "group_observed = data.groupby('Start_Year', as_index=False)['Number_of_Cases'].mean()\n",
    "group_expected = data.groupby('Start_Year', as_index=False)['Number_of_Deaths'].mean()\n",
    "\n",
    "fig = go.Figure()\n",
    "\n",
    "fig.add_trace(go.Scatter(\n",
    "    y=group_observed['Number_of_Cases'],\n",
    "    x=group_observed['Start_Year'],\n",
    "    name='Average No. of cases',\n",
    "    line = dict(color='green', width=4, dash='dot'),\n",
    "    marker=dict(size=6)\n",
    "))\n",
    "\n",
    "fig.add_trace(go.Scatter(\n",
    "    y=group_expected['Number_of_Deaths'],\n",
    "    x=group_expected['Start_Year'],\n",
    "    line=dict(color='red', width=4, dash='dot'),\n",
    "    name='Average No. deaths',\n",
    "    marker=dict(size=6)\n",
    "))\n",
    "\n",
    "fig.update_layout(\n",
    "    title=dict(\n",
    "        text='NO. of Cases and Death per year ',\n",
    "        font=dict(size=22, color='saddlebrown'),\n",
    "        x=0.5\n",
    "    ),\n",
    "    xaxis_title='Year',\n",
    "    yaxis_title='No. of cases',\n",
    "    template='plotly_white',\n",
    "    height=500,\n",
    "    width=900\n",
    ")\n",
    "\n",
    "fig.show()"
   ]
  },
  {
   "cell_type": "markdown",
   "id": "4fc4eca6",
   "metadata": {},
   "source": [
    "### 🔍 Observations & Insights:\n",
    "\n",
    "* The average number of cases is gradually increasing over the years.\n",
    "\n",
    "* Despite more cases, the number of deaths remains relatively constant, showing no significant upward trend.\n",
    "\n",
    "* Interestingly, the average deaths in 2008 were higher than in 2018 and 2019.\n",
    "\n",
    "* This indicates a significant improvement in treatment quality and healthcare performance over time.\n",
    "\n",
    "* Better clinical outcomes, even with more patient load, suggest enhanced hospital efficiency and capability."
   ]
  },
  {
   "cell_type": "code",
   "execution_count": 120,
   "id": "f9aaadd2",
   "metadata": {},
   "outputs": [
    {
     "data": {
      "application/vnd.plotly.v1+json": {
       "config": {
        "plotlyServerURL": "https://plot.ly"
       },
       "data": [
        {
         "hovertemplate": "Start_Year=%{x}<br>Observed_vs_Expected_Difference=%{y}<extra></extra>",
         "legendgroup": "",
         "line": {
          "color": "#636efa",
          "dash": "solid"
         },
         "marker": {
          "symbol": "circle"
         },
         "mode": "lines+markers",
         "name": "",
         "orientation": "v",
         "showlegend": false,
         "type": "scatter",
         "x": {
          "bdata": "2AfZB9oH2wfcB90H3gffB+AH4QfiB+MH",
          "dtype": "i2"
         },
         "xaxis": "x",
         "y": {
          "bdata": "w/UoXI/C1T8zMzMzMzPDP3sUrkfherQ/uB6F61G4vj+4HoXrUbiuPwrXo3A9Crc/pHA9CtejwD97FK5H4XrEP5qZmZmZmak/exSuR+F6xD+amZmZmZm5P5qZmZmZmak/",
          "dtype": "f8"
         },
         "yaxis": "y"
        }
       ],
       "layout": {
        "height": 500,
        "legend": {
         "tracegroupgap": 0
        },
        "margin": {
         "t": 60
        },
        "template": {
         "data": {
          "bar": [
           {
            "error_x": {
             "color": "#2a3f5f"
            },
            "error_y": {
             "color": "#2a3f5f"
            },
            "marker": {
             "line": {
              "color": "white",
              "width": 0.5
             },
             "pattern": {
              "fillmode": "overlay",
              "size": 10,
              "solidity": 0.2
             }
            },
            "type": "bar"
           }
          ],
          "barpolar": [
           {
            "marker": {
             "line": {
              "color": "white",
              "width": 0.5
             },
             "pattern": {
              "fillmode": "overlay",
              "size": 10,
              "solidity": 0.2
             }
            },
            "type": "barpolar"
           }
          ],
          "carpet": [
           {
            "aaxis": {
             "endlinecolor": "#2a3f5f",
             "gridcolor": "#C8D4E3",
             "linecolor": "#C8D4E3",
             "minorgridcolor": "#C8D4E3",
             "startlinecolor": "#2a3f5f"
            },
            "baxis": {
             "endlinecolor": "#2a3f5f",
             "gridcolor": "#C8D4E3",
             "linecolor": "#C8D4E3",
             "minorgridcolor": "#C8D4E3",
             "startlinecolor": "#2a3f5f"
            },
            "type": "carpet"
           }
          ],
          "choropleth": [
           {
            "colorbar": {
             "outlinewidth": 0,
             "ticks": ""
            },
            "type": "choropleth"
           }
          ],
          "contour": [
           {
            "colorbar": {
             "outlinewidth": 0,
             "ticks": ""
            },
            "colorscale": [
             [
              0,
              "#0d0887"
             ],
             [
              0.1111111111111111,
              "#46039f"
             ],
             [
              0.2222222222222222,
              "#7201a8"
             ],
             [
              0.3333333333333333,
              "#9c179e"
             ],
             [
              0.4444444444444444,
              "#bd3786"
             ],
             [
              0.5555555555555556,
              "#d8576b"
             ],
             [
              0.6666666666666666,
              "#ed7953"
             ],
             [
              0.7777777777777778,
              "#fb9f3a"
             ],
             [
              0.8888888888888888,
              "#fdca26"
             ],
             [
              1,
              "#f0f921"
             ]
            ],
            "type": "contour"
           }
          ],
          "contourcarpet": [
           {
            "colorbar": {
             "outlinewidth": 0,
             "ticks": ""
            },
            "type": "contourcarpet"
           }
          ],
          "heatmap": [
           {
            "colorbar": {
             "outlinewidth": 0,
             "ticks": ""
            },
            "colorscale": [
             [
              0,
              "#0d0887"
             ],
             [
              0.1111111111111111,
              "#46039f"
             ],
             [
              0.2222222222222222,
              "#7201a8"
             ],
             [
              0.3333333333333333,
              "#9c179e"
             ],
             [
              0.4444444444444444,
              "#bd3786"
             ],
             [
              0.5555555555555556,
              "#d8576b"
             ],
             [
              0.6666666666666666,
              "#ed7953"
             ],
             [
              0.7777777777777778,
              "#fb9f3a"
             ],
             [
              0.8888888888888888,
              "#fdca26"
             ],
             [
              1,
              "#f0f921"
             ]
            ],
            "type": "heatmap"
           }
          ],
          "histogram": [
           {
            "marker": {
             "pattern": {
              "fillmode": "overlay",
              "size": 10,
              "solidity": 0.2
             }
            },
            "type": "histogram"
           }
          ],
          "histogram2d": [
           {
            "colorbar": {
             "outlinewidth": 0,
             "ticks": ""
            },
            "colorscale": [
             [
              0,
              "#0d0887"
             ],
             [
              0.1111111111111111,
              "#46039f"
             ],
             [
              0.2222222222222222,
              "#7201a8"
             ],
             [
              0.3333333333333333,
              "#9c179e"
             ],
             [
              0.4444444444444444,
              "#bd3786"
             ],
             [
              0.5555555555555556,
              "#d8576b"
             ],
             [
              0.6666666666666666,
              "#ed7953"
             ],
             [
              0.7777777777777778,
              "#fb9f3a"
             ],
             [
              0.8888888888888888,
              "#fdca26"
             ],
             [
              1,
              "#f0f921"
             ]
            ],
            "type": "histogram2d"
           }
          ],
          "histogram2dcontour": [
           {
            "colorbar": {
             "outlinewidth": 0,
             "ticks": ""
            },
            "colorscale": [
             [
              0,
              "#0d0887"
             ],
             [
              0.1111111111111111,
              "#46039f"
             ],
             [
              0.2222222222222222,
              "#7201a8"
             ],
             [
              0.3333333333333333,
              "#9c179e"
             ],
             [
              0.4444444444444444,
              "#bd3786"
             ],
             [
              0.5555555555555556,
              "#d8576b"
             ],
             [
              0.6666666666666666,
              "#ed7953"
             ],
             [
              0.7777777777777778,
              "#fb9f3a"
             ],
             [
              0.8888888888888888,
              "#fdca26"
             ],
             [
              1,
              "#f0f921"
             ]
            ],
            "type": "histogram2dcontour"
           }
          ],
          "mesh3d": [
           {
            "colorbar": {
             "outlinewidth": 0,
             "ticks": ""
            },
            "type": "mesh3d"
           }
          ],
          "parcoords": [
           {
            "line": {
             "colorbar": {
              "outlinewidth": 0,
              "ticks": ""
             }
            },
            "type": "parcoords"
           }
          ],
          "pie": [
           {
            "automargin": true,
            "type": "pie"
           }
          ],
          "scatter": [
           {
            "fillpattern": {
             "fillmode": "overlay",
             "size": 10,
             "solidity": 0.2
            },
            "type": "scatter"
           }
          ],
          "scatter3d": [
           {
            "line": {
             "colorbar": {
              "outlinewidth": 0,
              "ticks": ""
             }
            },
            "marker": {
             "colorbar": {
              "outlinewidth": 0,
              "ticks": ""
             }
            },
            "type": "scatter3d"
           }
          ],
          "scattercarpet": [
           {
            "marker": {
             "colorbar": {
              "outlinewidth": 0,
              "ticks": ""
             }
            },
            "type": "scattercarpet"
           }
          ],
          "scattergeo": [
           {
            "marker": {
             "colorbar": {
              "outlinewidth": 0,
              "ticks": ""
             }
            },
            "type": "scattergeo"
           }
          ],
          "scattergl": [
           {
            "marker": {
             "colorbar": {
              "outlinewidth": 0,
              "ticks": ""
             }
            },
            "type": "scattergl"
           }
          ],
          "scattermap": [
           {
            "marker": {
             "colorbar": {
              "outlinewidth": 0,
              "ticks": ""
             }
            },
            "type": "scattermap"
           }
          ],
          "scattermapbox": [
           {
            "marker": {
             "colorbar": {
              "outlinewidth": 0,
              "ticks": ""
             }
            },
            "type": "scattermapbox"
           }
          ],
          "scatterpolar": [
           {
            "marker": {
             "colorbar": {
              "outlinewidth": 0,
              "ticks": ""
             }
            },
            "type": "scatterpolar"
           }
          ],
          "scatterpolargl": [
           {
            "marker": {
             "colorbar": {
              "outlinewidth": 0,
              "ticks": ""
             }
            },
            "type": "scatterpolargl"
           }
          ],
          "scatterternary": [
           {
            "marker": {
             "colorbar": {
              "outlinewidth": 0,
              "ticks": ""
             }
            },
            "type": "scatterternary"
           }
          ],
          "surface": [
           {
            "colorbar": {
             "outlinewidth": 0,
             "ticks": ""
            },
            "colorscale": [
             [
              0,
              "#0d0887"
             ],
             [
              0.1111111111111111,
              "#46039f"
             ],
             [
              0.2222222222222222,
              "#7201a8"
             ],
             [
              0.3333333333333333,
              "#9c179e"
             ],
             [
              0.4444444444444444,
              "#bd3786"
             ],
             [
              0.5555555555555556,
              "#d8576b"
             ],
             [
              0.6666666666666666,
              "#ed7953"
             ],
             [
              0.7777777777777778,
              "#fb9f3a"
             ],
             [
              0.8888888888888888,
              "#fdca26"
             ],
             [
              1,
              "#f0f921"
             ]
            ],
            "type": "surface"
           }
          ],
          "table": [
           {
            "cells": {
             "fill": {
              "color": "#EBF0F8"
             },
             "line": {
              "color": "white"
             }
            },
            "header": {
             "fill": {
              "color": "#C8D4E3"
             },
             "line": {
              "color": "white"
             }
            },
            "type": "table"
           }
          ]
         },
         "layout": {
          "annotationdefaults": {
           "arrowcolor": "#2a3f5f",
           "arrowhead": 0,
           "arrowwidth": 1
          },
          "autotypenumbers": "strict",
          "coloraxis": {
           "colorbar": {
            "outlinewidth": 0,
            "ticks": ""
           }
          },
          "colorscale": {
           "diverging": [
            [
             0,
             "#8e0152"
            ],
            [
             0.1,
             "#c51b7d"
            ],
            [
             0.2,
             "#de77ae"
            ],
            [
             0.3,
             "#f1b6da"
            ],
            [
             0.4,
             "#fde0ef"
            ],
            [
             0.5,
             "#f7f7f7"
            ],
            [
             0.6,
             "#e6f5d0"
            ],
            [
             0.7,
             "#b8e186"
            ],
            [
             0.8,
             "#7fbc41"
            ],
            [
             0.9,
             "#4d9221"
            ],
            [
             1,
             "#276419"
            ]
           ],
           "sequential": [
            [
             0,
             "#0d0887"
            ],
            [
             0.1111111111111111,
             "#46039f"
            ],
            [
             0.2222222222222222,
             "#7201a8"
            ],
            [
             0.3333333333333333,
             "#9c179e"
            ],
            [
             0.4444444444444444,
             "#bd3786"
            ],
            [
             0.5555555555555556,
             "#d8576b"
            ],
            [
             0.6666666666666666,
             "#ed7953"
            ],
            [
             0.7777777777777778,
             "#fb9f3a"
            ],
            [
             0.8888888888888888,
             "#fdca26"
            ],
            [
             1,
             "#f0f921"
            ]
           ],
           "sequentialminus": [
            [
             0,
             "#0d0887"
            ],
            [
             0.1111111111111111,
             "#46039f"
            ],
            [
             0.2222222222222222,
             "#7201a8"
            ],
            [
             0.3333333333333333,
             "#9c179e"
            ],
            [
             0.4444444444444444,
             "#bd3786"
            ],
            [
             0.5555555555555556,
             "#d8576b"
            ],
            [
             0.6666666666666666,
             "#ed7953"
            ],
            [
             0.7777777777777778,
             "#fb9f3a"
            ],
            [
             0.8888888888888888,
             "#fdca26"
            ],
            [
             1,
             "#f0f921"
            ]
           ]
          },
          "colorway": [
           "#636efa",
           "#EF553B",
           "#00cc96",
           "#ab63fa",
           "#FFA15A",
           "#19d3f3",
           "#FF6692",
           "#B6E880",
           "#FF97FF",
           "#FECB52"
          ],
          "font": {
           "color": "#2a3f5f"
          },
          "geo": {
           "bgcolor": "white",
           "lakecolor": "white",
           "landcolor": "white",
           "showlakes": true,
           "showland": true,
           "subunitcolor": "#C8D4E3"
          },
          "hoverlabel": {
           "align": "left"
          },
          "hovermode": "closest",
          "mapbox": {
           "style": "light"
          },
          "paper_bgcolor": "white",
          "plot_bgcolor": "white",
          "polar": {
           "angularaxis": {
            "gridcolor": "#EBF0F8",
            "linecolor": "#EBF0F8",
            "ticks": ""
           },
           "bgcolor": "white",
           "radialaxis": {
            "gridcolor": "#EBF0F8",
            "linecolor": "#EBF0F8",
            "ticks": ""
           }
          },
          "scene": {
           "xaxis": {
            "backgroundcolor": "white",
            "gridcolor": "#DFE8F3",
            "gridwidth": 2,
            "linecolor": "#EBF0F8",
            "showbackground": true,
            "ticks": "",
            "zerolinecolor": "#EBF0F8"
           },
           "yaxis": {
            "backgroundcolor": "white",
            "gridcolor": "#DFE8F3",
            "gridwidth": 2,
            "linecolor": "#EBF0F8",
            "showbackground": true,
            "ticks": "",
            "zerolinecolor": "#EBF0F8"
           },
           "zaxis": {
            "backgroundcolor": "white",
            "gridcolor": "#DFE8F3",
            "gridwidth": 2,
            "linecolor": "#EBF0F8",
            "showbackground": true,
            "ticks": "",
            "zerolinecolor": "#EBF0F8"
           }
          },
          "shapedefaults": {
           "line": {
            "color": "#2a3f5f"
           }
          },
          "ternary": {
           "aaxis": {
            "gridcolor": "#DFE8F3",
            "linecolor": "#A2B1C6",
            "ticks": ""
           },
           "baxis": {
            "gridcolor": "#DFE8F3",
            "linecolor": "#A2B1C6",
            "ticks": ""
           },
           "bgcolor": "white",
           "caxis": {
            "gridcolor": "#DFE8F3",
            "linecolor": "#A2B1C6",
            "ticks": ""
           }
          },
          "title": {
           "x": 0.05
          },
          "xaxis": {
           "automargin": true,
           "gridcolor": "#EBF0F8",
           "linecolor": "#EBF0F8",
           "ticks": "",
           "title": {
            "standoff": 15
           },
           "zerolinecolor": "#EBF0F8",
           "zerolinewidth": 2
          },
          "yaxis": {
           "automargin": true,
           "gridcolor": "#EBF0F8",
           "linecolor": "#EBF0F8",
           "ticks": "",
           "title": {
            "standoff": 15
           },
           "zerolinecolor": "#EBF0F8",
           "zerolinewidth": 2
          }
         }
        },
        "title": {
         "font": {
          "color": "black",
          "size": 22
         },
         "text": "Observed vs Expected Difference Trends",
         "x": 0.5
        },
        "width": 900,
        "xaxis": {
         "anchor": "y",
         "domain": [
          0,
          1
         ],
         "title": {
          "text": "Year"
         }
        },
        "yaxis": {
         "anchor": "x",
         "domain": [
          0,
          1
         ],
         "title": {
          "text": "Difference (%)"
         }
        }
       }
      }
     },
     "metadata": {},
     "output_type": "display_data"
    }
   ],
   "source": [
    "mortality_difference= data.groupby('Start_Year', as_index=False)['Observed_vs_Expected_Difference'].mean().round(2)\n",
    "\n",
    "fig = px.line(mortality_difference, x=\"Start_Year\", y=\"Observed_vs_Expected_Difference\",markers=True)\n",
    "\n",
    "fig.update_layout(\n",
    "    title=dict(\n",
    "        text='Observed vs Expected Difference Trends',\n",
    "        font=dict(size=22, color='black'),\n",
    "        x=0.5\n",
    "    ),\n",
    "    xaxis_title='Year',\n",
    "    yaxis_title='Difference (%)',\n",
    "    template='plotly_white',\n",
    "    height=500,\n",
    "    width=900\n",
    ")\n",
    "fig.show()"
   ]
  },
  {
   "cell_type": "code",
   "execution_count": 134,
   "id": "32649361",
   "metadata": {},
   "outputs": [
    {
     "data": {
      "application/vnd.plotly.v1+json": {
       "config": {
        "plotlyServerURL": "https://plot.ly"
       },
       "data": [
        {
         "domain": {
          "x": [
           0,
           1
          ],
          "y": [
           0,
           1
          ]
         },
         "hovertemplate": "Procedure=%{label}<br>Count=%{value}<extra></extra>",
         "labels": [
          "Emergency PCI",
          "All PCI",
          "Non-Emergency PCI",
          "Valve or Valve/CABG",
          "CABG",
          "TAVR"
         ],
         "legendgroup": "",
         "name": "",
         "showlegend": true,
         "type": "pie",
         "values": {
          "bdata": "dwJwAnACkwGGAYwA",
          "dtype": "i2"
         }
        }
       ],
       "layout": {
        "legend": {
         "tracegroupgap": 0
        },
        "piecolorway": [
         "#0059b3",
         "#1a75ff",
         "#4da6ff",
         "#80c1ff",
         "#b3daff",
         "#e6f2ff"
        ],
        "template": {
         "data": {
          "bar": [
           {
            "error_x": {
             "color": "#2a3f5f"
            },
            "error_y": {
             "color": "#2a3f5f"
            },
            "marker": {
             "line": {
              "color": "#E5ECF6",
              "width": 0.5
             },
             "pattern": {
              "fillmode": "overlay",
              "size": 10,
              "solidity": 0.2
             }
            },
            "type": "bar"
           }
          ],
          "barpolar": [
           {
            "marker": {
             "line": {
              "color": "#E5ECF6",
              "width": 0.5
             },
             "pattern": {
              "fillmode": "overlay",
              "size": 10,
              "solidity": 0.2
             }
            },
            "type": "barpolar"
           }
          ],
          "carpet": [
           {
            "aaxis": {
             "endlinecolor": "#2a3f5f",
             "gridcolor": "white",
             "linecolor": "white",
             "minorgridcolor": "white",
             "startlinecolor": "#2a3f5f"
            },
            "baxis": {
             "endlinecolor": "#2a3f5f",
             "gridcolor": "white",
             "linecolor": "white",
             "minorgridcolor": "white",
             "startlinecolor": "#2a3f5f"
            },
            "type": "carpet"
           }
          ],
          "choropleth": [
           {
            "colorbar": {
             "outlinewidth": 0,
             "ticks": ""
            },
            "type": "choropleth"
           }
          ],
          "contour": [
           {
            "colorbar": {
             "outlinewidth": 0,
             "ticks": ""
            },
            "colorscale": [
             [
              0,
              "#0d0887"
             ],
             [
              0.1111111111111111,
              "#46039f"
             ],
             [
              0.2222222222222222,
              "#7201a8"
             ],
             [
              0.3333333333333333,
              "#9c179e"
             ],
             [
              0.4444444444444444,
              "#bd3786"
             ],
             [
              0.5555555555555556,
              "#d8576b"
             ],
             [
              0.6666666666666666,
              "#ed7953"
             ],
             [
              0.7777777777777778,
              "#fb9f3a"
             ],
             [
              0.8888888888888888,
              "#fdca26"
             ],
             [
              1,
              "#f0f921"
             ]
            ],
            "type": "contour"
           }
          ],
          "contourcarpet": [
           {
            "colorbar": {
             "outlinewidth": 0,
             "ticks": ""
            },
            "type": "contourcarpet"
           }
          ],
          "heatmap": [
           {
            "colorbar": {
             "outlinewidth": 0,
             "ticks": ""
            },
            "colorscale": [
             [
              0,
              "#0d0887"
             ],
             [
              0.1111111111111111,
              "#46039f"
             ],
             [
              0.2222222222222222,
              "#7201a8"
             ],
             [
              0.3333333333333333,
              "#9c179e"
             ],
             [
              0.4444444444444444,
              "#bd3786"
             ],
             [
              0.5555555555555556,
              "#d8576b"
             ],
             [
              0.6666666666666666,
              "#ed7953"
             ],
             [
              0.7777777777777778,
              "#fb9f3a"
             ],
             [
              0.8888888888888888,
              "#fdca26"
             ],
             [
              1,
              "#f0f921"
             ]
            ],
            "type": "heatmap"
           }
          ],
          "histogram": [
           {
            "marker": {
             "pattern": {
              "fillmode": "overlay",
              "size": 10,
              "solidity": 0.2
             }
            },
            "type": "histogram"
           }
          ],
          "histogram2d": [
           {
            "colorbar": {
             "outlinewidth": 0,
             "ticks": ""
            },
            "colorscale": [
             [
              0,
              "#0d0887"
             ],
             [
              0.1111111111111111,
              "#46039f"
             ],
             [
              0.2222222222222222,
              "#7201a8"
             ],
             [
              0.3333333333333333,
              "#9c179e"
             ],
             [
              0.4444444444444444,
              "#bd3786"
             ],
             [
              0.5555555555555556,
              "#d8576b"
             ],
             [
              0.6666666666666666,
              "#ed7953"
             ],
             [
              0.7777777777777778,
              "#fb9f3a"
             ],
             [
              0.8888888888888888,
              "#fdca26"
             ],
             [
              1,
              "#f0f921"
             ]
            ],
            "type": "histogram2d"
           }
          ],
          "histogram2dcontour": [
           {
            "colorbar": {
             "outlinewidth": 0,
             "ticks": ""
            },
            "colorscale": [
             [
              0,
              "#0d0887"
             ],
             [
              0.1111111111111111,
              "#46039f"
             ],
             [
              0.2222222222222222,
              "#7201a8"
             ],
             [
              0.3333333333333333,
              "#9c179e"
             ],
             [
              0.4444444444444444,
              "#bd3786"
             ],
             [
              0.5555555555555556,
              "#d8576b"
             ],
             [
              0.6666666666666666,
              "#ed7953"
             ],
             [
              0.7777777777777778,
              "#fb9f3a"
             ],
             [
              0.8888888888888888,
              "#fdca26"
             ],
             [
              1,
              "#f0f921"
             ]
            ],
            "type": "histogram2dcontour"
           }
          ],
          "mesh3d": [
           {
            "colorbar": {
             "outlinewidth": 0,
             "ticks": ""
            },
            "type": "mesh3d"
           }
          ],
          "parcoords": [
           {
            "line": {
             "colorbar": {
              "outlinewidth": 0,
              "ticks": ""
             }
            },
            "type": "parcoords"
           }
          ],
          "pie": [
           {
            "automargin": true,
            "type": "pie"
           }
          ],
          "scatter": [
           {
            "fillpattern": {
             "fillmode": "overlay",
             "size": 10,
             "solidity": 0.2
            },
            "type": "scatter"
           }
          ],
          "scatter3d": [
           {
            "line": {
             "colorbar": {
              "outlinewidth": 0,
              "ticks": ""
             }
            },
            "marker": {
             "colorbar": {
              "outlinewidth": 0,
              "ticks": ""
             }
            },
            "type": "scatter3d"
           }
          ],
          "scattercarpet": [
           {
            "marker": {
             "colorbar": {
              "outlinewidth": 0,
              "ticks": ""
             }
            },
            "type": "scattercarpet"
           }
          ],
          "scattergeo": [
           {
            "marker": {
             "colorbar": {
              "outlinewidth": 0,
              "ticks": ""
             }
            },
            "type": "scattergeo"
           }
          ],
          "scattergl": [
           {
            "marker": {
             "colorbar": {
              "outlinewidth": 0,
              "ticks": ""
             }
            },
            "type": "scattergl"
           }
          ],
          "scattermap": [
           {
            "marker": {
             "colorbar": {
              "outlinewidth": 0,
              "ticks": ""
             }
            },
            "type": "scattermap"
           }
          ],
          "scattermapbox": [
           {
            "marker": {
             "colorbar": {
              "outlinewidth": 0,
              "ticks": ""
             }
            },
            "type": "scattermapbox"
           }
          ],
          "scatterpolar": [
           {
            "marker": {
             "colorbar": {
              "outlinewidth": 0,
              "ticks": ""
             }
            },
            "type": "scatterpolar"
           }
          ],
          "scatterpolargl": [
           {
            "marker": {
             "colorbar": {
              "outlinewidth": 0,
              "ticks": ""
             }
            },
            "type": "scatterpolargl"
           }
          ],
          "scatterternary": [
           {
            "marker": {
             "colorbar": {
              "outlinewidth": 0,
              "ticks": ""
             }
            },
            "type": "scatterternary"
           }
          ],
          "surface": [
           {
            "colorbar": {
             "outlinewidth": 0,
             "ticks": ""
            },
            "colorscale": [
             [
              0,
              "#0d0887"
             ],
             [
              0.1111111111111111,
              "#46039f"
             ],
             [
              0.2222222222222222,
              "#7201a8"
             ],
             [
              0.3333333333333333,
              "#9c179e"
             ],
             [
              0.4444444444444444,
              "#bd3786"
             ],
             [
              0.5555555555555556,
              "#d8576b"
             ],
             [
              0.6666666666666666,
              "#ed7953"
             ],
             [
              0.7777777777777778,
              "#fb9f3a"
             ],
             [
              0.8888888888888888,
              "#fdca26"
             ],
             [
              1,
              "#f0f921"
             ]
            ],
            "type": "surface"
           }
          ],
          "table": [
           {
            "cells": {
             "fill": {
              "color": "#EBF0F8"
             },
             "line": {
              "color": "white"
             }
            },
            "header": {
             "fill": {
              "color": "#C8D4E3"
             },
             "line": {
              "color": "white"
             }
            },
            "type": "table"
           }
          ]
         },
         "layout": {
          "annotationdefaults": {
           "arrowcolor": "#2a3f5f",
           "arrowhead": 0,
           "arrowwidth": 1
          },
          "autotypenumbers": "strict",
          "coloraxis": {
           "colorbar": {
            "outlinewidth": 0,
            "ticks": ""
           }
          },
          "colorscale": {
           "diverging": [
            [
             0,
             "#8e0152"
            ],
            [
             0.1,
             "#c51b7d"
            ],
            [
             0.2,
             "#de77ae"
            ],
            [
             0.3,
             "#f1b6da"
            ],
            [
             0.4,
             "#fde0ef"
            ],
            [
             0.5,
             "#f7f7f7"
            ],
            [
             0.6,
             "#e6f5d0"
            ],
            [
             0.7,
             "#b8e186"
            ],
            [
             0.8,
             "#7fbc41"
            ],
            [
             0.9,
             "#4d9221"
            ],
            [
             1,
             "#276419"
            ]
           ],
           "sequential": [
            [
             0,
             "#0d0887"
            ],
            [
             0.1111111111111111,
             "#46039f"
            ],
            [
             0.2222222222222222,
             "#7201a8"
            ],
            [
             0.3333333333333333,
             "#9c179e"
            ],
            [
             0.4444444444444444,
             "#bd3786"
            ],
            [
             0.5555555555555556,
             "#d8576b"
            ],
            [
             0.6666666666666666,
             "#ed7953"
            ],
            [
             0.7777777777777778,
             "#fb9f3a"
            ],
            [
             0.8888888888888888,
             "#fdca26"
            ],
            [
             1,
             "#f0f921"
            ]
           ],
           "sequentialminus": [
            [
             0,
             "#0d0887"
            ],
            [
             0.1111111111111111,
             "#46039f"
            ],
            [
             0.2222222222222222,
             "#7201a8"
            ],
            [
             0.3333333333333333,
             "#9c179e"
            ],
            [
             0.4444444444444444,
             "#bd3786"
            ],
            [
             0.5555555555555556,
             "#d8576b"
            ],
            [
             0.6666666666666666,
             "#ed7953"
            ],
            [
             0.7777777777777778,
             "#fb9f3a"
            ],
            [
             0.8888888888888888,
             "#fdca26"
            ],
            [
             1,
             "#f0f921"
            ]
           ]
          },
          "colorway": [
           "#636efa",
           "#EF553B",
           "#00cc96",
           "#ab63fa",
           "#FFA15A",
           "#19d3f3",
           "#FF6692",
           "#B6E880",
           "#FF97FF",
           "#FECB52"
          ],
          "font": {
           "color": "#2a3f5f"
          },
          "geo": {
           "bgcolor": "white",
           "lakecolor": "white",
           "landcolor": "#E5ECF6",
           "showlakes": true,
           "showland": true,
           "subunitcolor": "white"
          },
          "hoverlabel": {
           "align": "left"
          },
          "hovermode": "closest",
          "mapbox": {
           "style": "light"
          },
          "paper_bgcolor": "white",
          "plot_bgcolor": "#E5ECF6",
          "polar": {
           "angularaxis": {
            "gridcolor": "white",
            "linecolor": "white",
            "ticks": ""
           },
           "bgcolor": "#E5ECF6",
           "radialaxis": {
            "gridcolor": "white",
            "linecolor": "white",
            "ticks": ""
           }
          },
          "scene": {
           "xaxis": {
            "backgroundcolor": "#E5ECF6",
            "gridcolor": "white",
            "gridwidth": 2,
            "linecolor": "white",
            "showbackground": true,
            "ticks": "",
            "zerolinecolor": "white"
           },
           "yaxis": {
            "backgroundcolor": "#E5ECF6",
            "gridcolor": "white",
            "gridwidth": 2,
            "linecolor": "white",
            "showbackground": true,
            "ticks": "",
            "zerolinecolor": "white"
           },
           "zaxis": {
            "backgroundcolor": "#E5ECF6",
            "gridcolor": "white",
            "gridwidth": 2,
            "linecolor": "white",
            "showbackground": true,
            "ticks": "",
            "zerolinecolor": "white"
           }
          },
          "shapedefaults": {
           "line": {
            "color": "#2a3f5f"
           }
          },
          "ternary": {
           "aaxis": {
            "gridcolor": "white",
            "linecolor": "white",
            "ticks": ""
           },
           "baxis": {
            "gridcolor": "white",
            "linecolor": "white",
            "ticks": ""
           },
           "bgcolor": "#E5ECF6",
           "caxis": {
            "gridcolor": "white",
            "linecolor": "white",
            "ticks": ""
           }
          },
          "title": {
           "x": 0.05
          },
          "xaxis": {
           "automargin": true,
           "gridcolor": "white",
           "linecolor": "white",
           "ticks": "",
           "title": {
            "standoff": 15
           },
           "zerolinecolor": "white",
           "zerolinewidth": 2
          },
          "yaxis": {
           "automargin": true,
           "gridcolor": "white",
           "linecolor": "white",
           "ticks": "",
           "title": {
            "standoff": 15
           },
           "zerolinecolor": "white",
           "zerolinewidth": 2
          }
         }
        },
        "title": {
         "text": "Distribution of Procedure"
        },
        "width": 700
       }
      }
     },
     "metadata": {},
     "output_type": "display_data"
    }
   ],
   "source": [
    "procedure_counts = data['Procedure'].value_counts().reset_index()\n",
    "procedure_counts.columns = ['Procedure', 'Count']\n",
    "\n",
    " \n",
    "blue_shades = ['#0059b3', '#1a75ff', '#4da6ff', '#80c1ff', '#b3daff', '#e6f2ff'] ## custom colors \n",
    "\n",
    "fig = px.pie(\n",
    "    procedure_counts,\n",
    "    names='Procedure',\n",
    "    values='Count',\n",
    "    title='Distribution of Procedure',\n",
    "    # color='Procedure',\n",
    "    color_discrete_map={True: 'green', False: 'red'},\n",
    "    color_discrete_sequence= blue_shades\n",
    ")\n",
    "fig.update_layout(\n",
    "    width = 700\n",
    "    \n",
    ")\n",
    "\n",
    "fig.show()\n"
   ]
  },
  {
   "cell_type": "code",
   "execution_count": null,
   "id": "a19b1f18",
   "metadata": {},
   "outputs": [
    {
     "data": {
      "text/plain": [
       "0       2.08\n",
       "1       1.91\n",
       "2       1.93\n",
       "3       0.97\n",
       "4       4.92\n",
       "        ... \n",
       "2807     NaN\n",
       "2808     NaN\n",
       "2809     NaN\n",
       "2810     NaN\n",
       "2811     NaN\n",
       "Length: 2812, dtype: float64"
      ]
     },
     "execution_count": 152,
     "metadata": {},
     "output_type": "execute_result"
    }
   ],
   "source": [
    "difference_of_confidence_interval = data['Upper_Limit_of_Confidence_Interval'] - data['Lower_Limit_of_Confidence_Interval']\n",
    "difference_of_confidence_interval"
   ]
  },
  {
   "cell_type": "code",
   "execution_count": null,
   "id": "96f75798",
   "metadata": {},
   "outputs": [
    {
     "data": {
      "application/vnd.plotly.v1+json": {
       "config": {
        "plotlyServerURL": "https://plot.ly"
       },
       "data": [
        {
         "hovertemplate": "Start_Year=%{x}<br>CI_Difference=%{y}<extra></extra>",
         "legendgroup": "",
         "line": {
          "color": "#636efa",
          "dash": "solid"
         },
         "marker": {
          "symbol": "circle"
         },
         "mode": "lines+markers",
         "name": "",
         "orientation": "v",
         "showlegend": false,
         "type": "scatter",
         "x": {
          "bdata": "2AfZB9oH2wfcB90H3gffB+AH4QfiB+MH",
          "dtype": "i2"
         },
         "xaxis": "x",
         "y": {
          "bdata": "pHA9CtejGEAAAAAAAAAWQFK4HoXrURBA9ihcj8L1EUApXI/C9SgSQFyPwvUoXBdAPQrXo3A9E0Bcj8L1KFwSQB+F61G4HhFAKVyPwvUoIkC4HoXrUbgIQKRwPQrXowZA",
          "dtype": "f8"
         },
         "yaxis": "y"
        }
       ],
       "layout": {
        "height": 500,
        "legend": {
         "tracegroupgap": 0
        },
        "template": {
         "data": {
          "bar": [
           {
            "error_x": {
             "color": "#2a3f5f"
            },
            "error_y": {
             "color": "#2a3f5f"
            },
            "marker": {
             "line": {
              "color": "white",
              "width": 0.5
             },
             "pattern": {
              "fillmode": "overlay",
              "size": 10,
              "solidity": 0.2
             }
            },
            "type": "bar"
           }
          ],
          "barpolar": [
           {
            "marker": {
             "line": {
              "color": "white",
              "width": 0.5
             },
             "pattern": {
              "fillmode": "overlay",
              "size": 10,
              "solidity": 0.2
             }
            },
            "type": "barpolar"
           }
          ],
          "carpet": [
           {
            "aaxis": {
             "endlinecolor": "#2a3f5f",
             "gridcolor": "#C8D4E3",
             "linecolor": "#C8D4E3",
             "minorgridcolor": "#C8D4E3",
             "startlinecolor": "#2a3f5f"
            },
            "baxis": {
             "endlinecolor": "#2a3f5f",
             "gridcolor": "#C8D4E3",
             "linecolor": "#C8D4E3",
             "minorgridcolor": "#C8D4E3",
             "startlinecolor": "#2a3f5f"
            },
            "type": "carpet"
           }
          ],
          "choropleth": [
           {
            "colorbar": {
             "outlinewidth": 0,
             "ticks": ""
            },
            "type": "choropleth"
           }
          ],
          "contour": [
           {
            "colorbar": {
             "outlinewidth": 0,
             "ticks": ""
            },
            "colorscale": [
             [
              0,
              "#0d0887"
             ],
             [
              0.1111111111111111,
              "#46039f"
             ],
             [
              0.2222222222222222,
              "#7201a8"
             ],
             [
              0.3333333333333333,
              "#9c179e"
             ],
             [
              0.4444444444444444,
              "#bd3786"
             ],
             [
              0.5555555555555556,
              "#d8576b"
             ],
             [
              0.6666666666666666,
              "#ed7953"
             ],
             [
              0.7777777777777778,
              "#fb9f3a"
             ],
             [
              0.8888888888888888,
              "#fdca26"
             ],
             [
              1,
              "#f0f921"
             ]
            ],
            "type": "contour"
           }
          ],
          "contourcarpet": [
           {
            "colorbar": {
             "outlinewidth": 0,
             "ticks": ""
            },
            "type": "contourcarpet"
           }
          ],
          "heatmap": [
           {
            "colorbar": {
             "outlinewidth": 0,
             "ticks": ""
            },
            "colorscale": [
             [
              0,
              "#0d0887"
             ],
             [
              0.1111111111111111,
              "#46039f"
             ],
             [
              0.2222222222222222,
              "#7201a8"
             ],
             [
              0.3333333333333333,
              "#9c179e"
             ],
             [
              0.4444444444444444,
              "#bd3786"
             ],
             [
              0.5555555555555556,
              "#d8576b"
             ],
             [
              0.6666666666666666,
              "#ed7953"
             ],
             [
              0.7777777777777778,
              "#fb9f3a"
             ],
             [
              0.8888888888888888,
              "#fdca26"
             ],
             [
              1,
              "#f0f921"
             ]
            ],
            "type": "heatmap"
           }
          ],
          "histogram": [
           {
            "marker": {
             "pattern": {
              "fillmode": "overlay",
              "size": 10,
              "solidity": 0.2
             }
            },
            "type": "histogram"
           }
          ],
          "histogram2d": [
           {
            "colorbar": {
             "outlinewidth": 0,
             "ticks": ""
            },
            "colorscale": [
             [
              0,
              "#0d0887"
             ],
             [
              0.1111111111111111,
              "#46039f"
             ],
             [
              0.2222222222222222,
              "#7201a8"
             ],
             [
              0.3333333333333333,
              "#9c179e"
             ],
             [
              0.4444444444444444,
              "#bd3786"
             ],
             [
              0.5555555555555556,
              "#d8576b"
             ],
             [
              0.6666666666666666,
              "#ed7953"
             ],
             [
              0.7777777777777778,
              "#fb9f3a"
             ],
             [
              0.8888888888888888,
              "#fdca26"
             ],
             [
              1,
              "#f0f921"
             ]
            ],
            "type": "histogram2d"
           }
          ],
          "histogram2dcontour": [
           {
            "colorbar": {
             "outlinewidth": 0,
             "ticks": ""
            },
            "colorscale": [
             [
              0,
              "#0d0887"
             ],
             [
              0.1111111111111111,
              "#46039f"
             ],
             [
              0.2222222222222222,
              "#7201a8"
             ],
             [
              0.3333333333333333,
              "#9c179e"
             ],
             [
              0.4444444444444444,
              "#bd3786"
             ],
             [
              0.5555555555555556,
              "#d8576b"
             ],
             [
              0.6666666666666666,
              "#ed7953"
             ],
             [
              0.7777777777777778,
              "#fb9f3a"
             ],
             [
              0.8888888888888888,
              "#fdca26"
             ],
             [
              1,
              "#f0f921"
             ]
            ],
            "type": "histogram2dcontour"
           }
          ],
          "mesh3d": [
           {
            "colorbar": {
             "outlinewidth": 0,
             "ticks": ""
            },
            "type": "mesh3d"
           }
          ],
          "parcoords": [
           {
            "line": {
             "colorbar": {
              "outlinewidth": 0,
              "ticks": ""
             }
            },
            "type": "parcoords"
           }
          ],
          "pie": [
           {
            "automargin": true,
            "type": "pie"
           }
          ],
          "scatter": [
           {
            "fillpattern": {
             "fillmode": "overlay",
             "size": 10,
             "solidity": 0.2
            },
            "type": "scatter"
           }
          ],
          "scatter3d": [
           {
            "line": {
             "colorbar": {
              "outlinewidth": 0,
              "ticks": ""
             }
            },
            "marker": {
             "colorbar": {
              "outlinewidth": 0,
              "ticks": ""
             }
            },
            "type": "scatter3d"
           }
          ],
          "scattercarpet": [
           {
            "marker": {
             "colorbar": {
              "outlinewidth": 0,
              "ticks": ""
             }
            },
            "type": "scattercarpet"
           }
          ],
          "scattergeo": [
           {
            "marker": {
             "colorbar": {
              "outlinewidth": 0,
              "ticks": ""
             }
            },
            "type": "scattergeo"
           }
          ],
          "scattergl": [
           {
            "marker": {
             "colorbar": {
              "outlinewidth": 0,
              "ticks": ""
             }
            },
            "type": "scattergl"
           }
          ],
          "scattermap": [
           {
            "marker": {
             "colorbar": {
              "outlinewidth": 0,
              "ticks": ""
             }
            },
            "type": "scattermap"
           }
          ],
          "scattermapbox": [
           {
            "marker": {
             "colorbar": {
              "outlinewidth": 0,
              "ticks": ""
             }
            },
            "type": "scattermapbox"
           }
          ],
          "scatterpolar": [
           {
            "marker": {
             "colorbar": {
              "outlinewidth": 0,
              "ticks": ""
             }
            },
            "type": "scatterpolar"
           }
          ],
          "scatterpolargl": [
           {
            "marker": {
             "colorbar": {
              "outlinewidth": 0,
              "ticks": ""
             }
            },
            "type": "scatterpolargl"
           }
          ],
          "scatterternary": [
           {
            "marker": {
             "colorbar": {
              "outlinewidth": 0,
              "ticks": ""
             }
            },
            "type": "scatterternary"
           }
          ],
          "surface": [
           {
            "colorbar": {
             "outlinewidth": 0,
             "ticks": ""
            },
            "colorscale": [
             [
              0,
              "#0d0887"
             ],
             [
              0.1111111111111111,
              "#46039f"
             ],
             [
              0.2222222222222222,
              "#7201a8"
             ],
             [
              0.3333333333333333,
              "#9c179e"
             ],
             [
              0.4444444444444444,
              "#bd3786"
             ],
             [
              0.5555555555555556,
              "#d8576b"
             ],
             [
              0.6666666666666666,
              "#ed7953"
             ],
             [
              0.7777777777777778,
              "#fb9f3a"
             ],
             [
              0.8888888888888888,
              "#fdca26"
             ],
             [
              1,
              "#f0f921"
             ]
            ],
            "type": "surface"
           }
          ],
          "table": [
           {
            "cells": {
             "fill": {
              "color": "#EBF0F8"
             },
             "line": {
              "color": "white"
             }
            },
            "header": {
             "fill": {
              "color": "#C8D4E3"
             },
             "line": {
              "color": "white"
             }
            },
            "type": "table"
           }
          ]
         },
         "layout": {
          "annotationdefaults": {
           "arrowcolor": "#2a3f5f",
           "arrowhead": 0,
           "arrowwidth": 1
          },
          "autotypenumbers": "strict",
          "coloraxis": {
           "colorbar": {
            "outlinewidth": 0,
            "ticks": ""
           }
          },
          "colorscale": {
           "diverging": [
            [
             0,
             "#8e0152"
            ],
            [
             0.1,
             "#c51b7d"
            ],
            [
             0.2,
             "#de77ae"
            ],
            [
             0.3,
             "#f1b6da"
            ],
            [
             0.4,
             "#fde0ef"
            ],
            [
             0.5,
             "#f7f7f7"
            ],
            [
             0.6,
             "#e6f5d0"
            ],
            [
             0.7,
             "#b8e186"
            ],
            [
             0.8,
             "#7fbc41"
            ],
            [
             0.9,
             "#4d9221"
            ],
            [
             1,
             "#276419"
            ]
           ],
           "sequential": [
            [
             0,
             "#0d0887"
            ],
            [
             0.1111111111111111,
             "#46039f"
            ],
            [
             0.2222222222222222,
             "#7201a8"
            ],
            [
             0.3333333333333333,
             "#9c179e"
            ],
            [
             0.4444444444444444,
             "#bd3786"
            ],
            [
             0.5555555555555556,
             "#d8576b"
            ],
            [
             0.6666666666666666,
             "#ed7953"
            ],
            [
             0.7777777777777778,
             "#fb9f3a"
            ],
            [
             0.8888888888888888,
             "#fdca26"
            ],
            [
             1,
             "#f0f921"
            ]
           ],
           "sequentialminus": [
            [
             0,
             "#0d0887"
            ],
            [
             0.1111111111111111,
             "#46039f"
            ],
            [
             0.2222222222222222,
             "#7201a8"
            ],
            [
             0.3333333333333333,
             "#9c179e"
            ],
            [
             0.4444444444444444,
             "#bd3786"
            ],
            [
             0.5555555555555556,
             "#d8576b"
            ],
            [
             0.6666666666666666,
             "#ed7953"
            ],
            [
             0.7777777777777778,
             "#fb9f3a"
            ],
            [
             0.8888888888888888,
             "#fdca26"
            ],
            [
             1,
             "#f0f921"
            ]
           ]
          },
          "colorway": [
           "#636efa",
           "#EF553B",
           "#00cc96",
           "#ab63fa",
           "#FFA15A",
           "#19d3f3",
           "#FF6692",
           "#B6E880",
           "#FF97FF",
           "#FECB52"
          ],
          "font": {
           "color": "#2a3f5f"
          },
          "geo": {
           "bgcolor": "white",
           "lakecolor": "white",
           "landcolor": "white",
           "showlakes": true,
           "showland": true,
           "subunitcolor": "#C8D4E3"
          },
          "hoverlabel": {
           "align": "left"
          },
          "hovermode": "closest",
          "mapbox": {
           "style": "light"
          },
          "paper_bgcolor": "white",
          "plot_bgcolor": "white",
          "polar": {
           "angularaxis": {
            "gridcolor": "#EBF0F8",
            "linecolor": "#EBF0F8",
            "ticks": ""
           },
           "bgcolor": "white",
           "radialaxis": {
            "gridcolor": "#EBF0F8",
            "linecolor": "#EBF0F8",
            "ticks": ""
           }
          },
          "scene": {
           "xaxis": {
            "backgroundcolor": "white",
            "gridcolor": "#DFE8F3",
            "gridwidth": 2,
            "linecolor": "#EBF0F8",
            "showbackground": true,
            "ticks": "",
            "zerolinecolor": "#EBF0F8"
           },
           "yaxis": {
            "backgroundcolor": "white",
            "gridcolor": "#DFE8F3",
            "gridwidth": 2,
            "linecolor": "#EBF0F8",
            "showbackground": true,
            "ticks": "",
            "zerolinecolor": "#EBF0F8"
           },
           "zaxis": {
            "backgroundcolor": "white",
            "gridcolor": "#DFE8F3",
            "gridwidth": 2,
            "linecolor": "#EBF0F8",
            "showbackground": true,
            "ticks": "",
            "zerolinecolor": "#EBF0F8"
           }
          },
          "shapedefaults": {
           "line": {
            "color": "#2a3f5f"
           }
          },
          "ternary": {
           "aaxis": {
            "gridcolor": "#DFE8F3",
            "linecolor": "#A2B1C6",
            "ticks": ""
           },
           "baxis": {
            "gridcolor": "#DFE8F3",
            "linecolor": "#A2B1C6",
            "ticks": ""
           },
           "bgcolor": "white",
           "caxis": {
            "gridcolor": "#DFE8F3",
            "linecolor": "#A2B1C6",
            "ticks": ""
           }
          },
          "title": {
           "x": 0.05
          },
          "xaxis": {
           "automargin": true,
           "gridcolor": "#EBF0F8",
           "linecolor": "#EBF0F8",
           "ticks": "",
           "title": {
            "standoff": 15
           },
           "zerolinecolor": "#EBF0F8",
           "zerolinewidth": 2
          },
          "yaxis": {
           "automargin": true,
           "gridcolor": "#EBF0F8",
           "linecolor": "#EBF0F8",
           "ticks": "",
           "title": {
            "standoff": 15
           },
           "zerolinecolor": "#EBF0F8",
           "zerolinewidth": 2
          }
         }
        },
        "title": {
         "font": {
          "color": "black",
          "size": 22
         },
         "text": "Year-wise Confidence Interval Difference Trend",
         "x": 0.5
        },
        "width": 900,
        "xaxis": {
         "anchor": "y",
         "domain": [
          0,
          1
         ],
         "dtick": 1,
         "tickmode": "linear",
         "title": {
          "text": "Year"
         }
        },
        "yaxis": {
         "anchor": "x",
         "domain": [
          0,
          1
         ],
         "title": {
          "text": "CI Width (Upper - Lower)"
         }
        }
       }
      }
     },
     "metadata": {},
     "output_type": "display_data"
    }
   ],
   "source": [
    "data['CI_Difference'] = data['Upper_Limit_of_Confidence_Interval'] - data['Lower_Limit_of_Confidence_Interval']  \n",
    "\n",
    "ci_diff_by_year = data.groupby('Start_Year', as_index=False)['CI_Difference'].mean().round(2) \n",
    "\n",
    "fig = px.line(\n",
    "    ci_diff_by_year,\n",
    "    x=\"Start_Year\",\n",
    "    y=\"CI_Difference\",\n",
    "    markers=True,\n",
    "    title='Year-wise Confidence Interval Difference Trend'\n",
    ")\n",
    "\n",
    "fig.update_layout(\n",
    "    title=dict(\n",
    "        text='Year-wise Confidence Interval Difference Trend',\n",
    "        font=dict(size=22, color='black'),\n",
    "        x=0.5\n",
    "    ),\n",
    "    xaxis_title='Year',\n",
    "    yaxis_title='CI Width (Upper - Lower)',\n",
    "    template='plotly_white',\n",
    "    height=500,\n",
    "    width=900,\n",
    "    xaxis=dict(\n",
    "        tickmode='linear',\n",
    "        dtick=1\n",
    "    )\n",
    ")\n",
    "\n",
    "fig.show()\n"
   ]
  },
  {
   "cell_type": "code",
   "execution_count": 160,
   "id": "a963aae1",
   "metadata": {},
   "outputs": [
    {
     "data": {
      "application/vnd.plotly.v1+json": {
       "config": {
        "plotlyServerURL": "https://plot.ly"
       },
       "data": [
        {
         "line": {
          "color": "green",
          "dash": "dot",
          "width": 4
         },
         "marker": {
          "size": 6
         },
         "name": "Upper_Limit_of_Confidence_Interval",
         "type": "scatter",
         "x": {
          "bdata": "2AfZB9oH2wfcB90H3gffB+AH4QfiB+MH",
          "dtype": "i2"
         },
         "y": {
          "bdata": "E+QpQZ6SIEAAD01FJqodQNQvv4F3oBNAZjNE6Vw2FUDiKD+Ic24VQBLLgK2DQRtAohU2BxLtFkC+j/vKkMUVQF66SQwCqxRAIiIiIiLiI0BIgqBxpXkMQN2+L0ctwwlA",
          "dtype": "f8"
         }
        },
        {
         "line": {
          "color": "red",
          "dash": "dot",
          "width": 4
         },
         "marker": {
          "size": 6
         },
         "name": "Lower_Limit_of_Confidence_Interval",
         "type": "scatter",
         "x": {
          "bdata": "2AfZB9oH2wfcB90H3gffB+AH4QfiB+MH",
          "dtype": "i2"
         },
         "y": {
          "bdata": "ry+ZpT0EAUCbfqjph5r+P8C13jrKjOo/WJ4xq4Ll6T8zFizkqxvqP2xZrPvBMe8/qJ8jhxmh7T8fudvl21zrP2pSCRw7Q+w/76fGSzeJ6z9V3dpWwEveP9KIsTPn6tg/",
          "dtype": "f8"
         }
        }
       ],
       "layout": {
        "height": 500,
        "template": {
         "data": {
          "bar": [
           {
            "error_x": {
             "color": "#2a3f5f"
            },
            "error_y": {
             "color": "#2a3f5f"
            },
            "marker": {
             "line": {
              "color": "white",
              "width": 0.5
             },
             "pattern": {
              "fillmode": "overlay",
              "size": 10,
              "solidity": 0.2
             }
            },
            "type": "bar"
           }
          ],
          "barpolar": [
           {
            "marker": {
             "line": {
              "color": "white",
              "width": 0.5
             },
             "pattern": {
              "fillmode": "overlay",
              "size": 10,
              "solidity": 0.2
             }
            },
            "type": "barpolar"
           }
          ],
          "carpet": [
           {
            "aaxis": {
             "endlinecolor": "#2a3f5f",
             "gridcolor": "#C8D4E3",
             "linecolor": "#C8D4E3",
             "minorgridcolor": "#C8D4E3",
             "startlinecolor": "#2a3f5f"
            },
            "baxis": {
             "endlinecolor": "#2a3f5f",
             "gridcolor": "#C8D4E3",
             "linecolor": "#C8D4E3",
             "minorgridcolor": "#C8D4E3",
             "startlinecolor": "#2a3f5f"
            },
            "type": "carpet"
           }
          ],
          "choropleth": [
           {
            "colorbar": {
             "outlinewidth": 0,
             "ticks": ""
            },
            "type": "choropleth"
           }
          ],
          "contour": [
           {
            "colorbar": {
             "outlinewidth": 0,
             "ticks": ""
            },
            "colorscale": [
             [
              0,
              "#0d0887"
             ],
             [
              0.1111111111111111,
              "#46039f"
             ],
             [
              0.2222222222222222,
              "#7201a8"
             ],
             [
              0.3333333333333333,
              "#9c179e"
             ],
             [
              0.4444444444444444,
              "#bd3786"
             ],
             [
              0.5555555555555556,
              "#d8576b"
             ],
             [
              0.6666666666666666,
              "#ed7953"
             ],
             [
              0.7777777777777778,
              "#fb9f3a"
             ],
             [
              0.8888888888888888,
              "#fdca26"
             ],
             [
              1,
              "#f0f921"
             ]
            ],
            "type": "contour"
           }
          ],
          "contourcarpet": [
           {
            "colorbar": {
             "outlinewidth": 0,
             "ticks": ""
            },
            "type": "contourcarpet"
           }
          ],
          "heatmap": [
           {
            "colorbar": {
             "outlinewidth": 0,
             "ticks": ""
            },
            "colorscale": [
             [
              0,
              "#0d0887"
             ],
             [
              0.1111111111111111,
              "#46039f"
             ],
             [
              0.2222222222222222,
              "#7201a8"
             ],
             [
              0.3333333333333333,
              "#9c179e"
             ],
             [
              0.4444444444444444,
              "#bd3786"
             ],
             [
              0.5555555555555556,
              "#d8576b"
             ],
             [
              0.6666666666666666,
              "#ed7953"
             ],
             [
              0.7777777777777778,
              "#fb9f3a"
             ],
             [
              0.8888888888888888,
              "#fdca26"
             ],
             [
              1,
              "#f0f921"
             ]
            ],
            "type": "heatmap"
           }
          ],
          "histogram": [
           {
            "marker": {
             "pattern": {
              "fillmode": "overlay",
              "size": 10,
              "solidity": 0.2
             }
            },
            "type": "histogram"
           }
          ],
          "histogram2d": [
           {
            "colorbar": {
             "outlinewidth": 0,
             "ticks": ""
            },
            "colorscale": [
             [
              0,
              "#0d0887"
             ],
             [
              0.1111111111111111,
              "#46039f"
             ],
             [
              0.2222222222222222,
              "#7201a8"
             ],
             [
              0.3333333333333333,
              "#9c179e"
             ],
             [
              0.4444444444444444,
              "#bd3786"
             ],
             [
              0.5555555555555556,
              "#d8576b"
             ],
             [
              0.6666666666666666,
              "#ed7953"
             ],
             [
              0.7777777777777778,
              "#fb9f3a"
             ],
             [
              0.8888888888888888,
              "#fdca26"
             ],
             [
              1,
              "#f0f921"
             ]
            ],
            "type": "histogram2d"
           }
          ],
          "histogram2dcontour": [
           {
            "colorbar": {
             "outlinewidth": 0,
             "ticks": ""
            },
            "colorscale": [
             [
              0,
              "#0d0887"
             ],
             [
              0.1111111111111111,
              "#46039f"
             ],
             [
              0.2222222222222222,
              "#7201a8"
             ],
             [
              0.3333333333333333,
              "#9c179e"
             ],
             [
              0.4444444444444444,
              "#bd3786"
             ],
             [
              0.5555555555555556,
              "#d8576b"
             ],
             [
              0.6666666666666666,
              "#ed7953"
             ],
             [
              0.7777777777777778,
              "#fb9f3a"
             ],
             [
              0.8888888888888888,
              "#fdca26"
             ],
             [
              1,
              "#f0f921"
             ]
            ],
            "type": "histogram2dcontour"
           }
          ],
          "mesh3d": [
           {
            "colorbar": {
             "outlinewidth": 0,
             "ticks": ""
            },
            "type": "mesh3d"
           }
          ],
          "parcoords": [
           {
            "line": {
             "colorbar": {
              "outlinewidth": 0,
              "ticks": ""
             }
            },
            "type": "parcoords"
           }
          ],
          "pie": [
           {
            "automargin": true,
            "type": "pie"
           }
          ],
          "scatter": [
           {
            "fillpattern": {
             "fillmode": "overlay",
             "size": 10,
             "solidity": 0.2
            },
            "type": "scatter"
           }
          ],
          "scatter3d": [
           {
            "line": {
             "colorbar": {
              "outlinewidth": 0,
              "ticks": ""
             }
            },
            "marker": {
             "colorbar": {
              "outlinewidth": 0,
              "ticks": ""
             }
            },
            "type": "scatter3d"
           }
          ],
          "scattercarpet": [
           {
            "marker": {
             "colorbar": {
              "outlinewidth": 0,
              "ticks": ""
             }
            },
            "type": "scattercarpet"
           }
          ],
          "scattergeo": [
           {
            "marker": {
             "colorbar": {
              "outlinewidth": 0,
              "ticks": ""
             }
            },
            "type": "scattergeo"
           }
          ],
          "scattergl": [
           {
            "marker": {
             "colorbar": {
              "outlinewidth": 0,
              "ticks": ""
             }
            },
            "type": "scattergl"
           }
          ],
          "scattermap": [
           {
            "marker": {
             "colorbar": {
              "outlinewidth": 0,
              "ticks": ""
             }
            },
            "type": "scattermap"
           }
          ],
          "scattermapbox": [
           {
            "marker": {
             "colorbar": {
              "outlinewidth": 0,
              "ticks": ""
             }
            },
            "type": "scattermapbox"
           }
          ],
          "scatterpolar": [
           {
            "marker": {
             "colorbar": {
              "outlinewidth": 0,
              "ticks": ""
             }
            },
            "type": "scatterpolar"
           }
          ],
          "scatterpolargl": [
           {
            "marker": {
             "colorbar": {
              "outlinewidth": 0,
              "ticks": ""
             }
            },
            "type": "scatterpolargl"
           }
          ],
          "scatterternary": [
           {
            "marker": {
             "colorbar": {
              "outlinewidth": 0,
              "ticks": ""
             }
            },
            "type": "scatterternary"
           }
          ],
          "surface": [
           {
            "colorbar": {
             "outlinewidth": 0,
             "ticks": ""
            },
            "colorscale": [
             [
              0,
              "#0d0887"
             ],
             [
              0.1111111111111111,
              "#46039f"
             ],
             [
              0.2222222222222222,
              "#7201a8"
             ],
             [
              0.3333333333333333,
              "#9c179e"
             ],
             [
              0.4444444444444444,
              "#bd3786"
             ],
             [
              0.5555555555555556,
              "#d8576b"
             ],
             [
              0.6666666666666666,
              "#ed7953"
             ],
             [
              0.7777777777777778,
              "#fb9f3a"
             ],
             [
              0.8888888888888888,
              "#fdca26"
             ],
             [
              1,
              "#f0f921"
             ]
            ],
            "type": "surface"
           }
          ],
          "table": [
           {
            "cells": {
             "fill": {
              "color": "#EBF0F8"
             },
             "line": {
              "color": "white"
             }
            },
            "header": {
             "fill": {
              "color": "#C8D4E3"
             },
             "line": {
              "color": "white"
             }
            },
            "type": "table"
           }
          ]
         },
         "layout": {
          "annotationdefaults": {
           "arrowcolor": "#2a3f5f",
           "arrowhead": 0,
           "arrowwidth": 1
          },
          "autotypenumbers": "strict",
          "coloraxis": {
           "colorbar": {
            "outlinewidth": 0,
            "ticks": ""
           }
          },
          "colorscale": {
           "diverging": [
            [
             0,
             "#8e0152"
            ],
            [
             0.1,
             "#c51b7d"
            ],
            [
             0.2,
             "#de77ae"
            ],
            [
             0.3,
             "#f1b6da"
            ],
            [
             0.4,
             "#fde0ef"
            ],
            [
             0.5,
             "#f7f7f7"
            ],
            [
             0.6,
             "#e6f5d0"
            ],
            [
             0.7,
             "#b8e186"
            ],
            [
             0.8,
             "#7fbc41"
            ],
            [
             0.9,
             "#4d9221"
            ],
            [
             1,
             "#276419"
            ]
           ],
           "sequential": [
            [
             0,
             "#0d0887"
            ],
            [
             0.1111111111111111,
             "#46039f"
            ],
            [
             0.2222222222222222,
             "#7201a8"
            ],
            [
             0.3333333333333333,
             "#9c179e"
            ],
            [
             0.4444444444444444,
             "#bd3786"
            ],
            [
             0.5555555555555556,
             "#d8576b"
            ],
            [
             0.6666666666666666,
             "#ed7953"
            ],
            [
             0.7777777777777778,
             "#fb9f3a"
            ],
            [
             0.8888888888888888,
             "#fdca26"
            ],
            [
             1,
             "#f0f921"
            ]
           ],
           "sequentialminus": [
            [
             0,
             "#0d0887"
            ],
            [
             0.1111111111111111,
             "#46039f"
            ],
            [
             0.2222222222222222,
             "#7201a8"
            ],
            [
             0.3333333333333333,
             "#9c179e"
            ],
            [
             0.4444444444444444,
             "#bd3786"
            ],
            [
             0.5555555555555556,
             "#d8576b"
            ],
            [
             0.6666666666666666,
             "#ed7953"
            ],
            [
             0.7777777777777778,
             "#fb9f3a"
            ],
            [
             0.8888888888888888,
             "#fdca26"
            ],
            [
             1,
             "#f0f921"
            ]
           ]
          },
          "colorway": [
           "#636efa",
           "#EF553B",
           "#00cc96",
           "#ab63fa",
           "#FFA15A",
           "#19d3f3",
           "#FF6692",
           "#B6E880",
           "#FF97FF",
           "#FECB52"
          ],
          "font": {
           "color": "#2a3f5f"
          },
          "geo": {
           "bgcolor": "white",
           "lakecolor": "white",
           "landcolor": "white",
           "showlakes": true,
           "showland": true,
           "subunitcolor": "#C8D4E3"
          },
          "hoverlabel": {
           "align": "left"
          },
          "hovermode": "closest",
          "mapbox": {
           "style": "light"
          },
          "paper_bgcolor": "white",
          "plot_bgcolor": "white",
          "polar": {
           "angularaxis": {
            "gridcolor": "#EBF0F8",
            "linecolor": "#EBF0F8",
            "ticks": ""
           },
           "bgcolor": "white",
           "radialaxis": {
            "gridcolor": "#EBF0F8",
            "linecolor": "#EBF0F8",
            "ticks": ""
           }
          },
          "scene": {
           "xaxis": {
            "backgroundcolor": "white",
            "gridcolor": "#DFE8F3",
            "gridwidth": 2,
            "linecolor": "#EBF0F8",
            "showbackground": true,
            "ticks": "",
            "zerolinecolor": "#EBF0F8"
           },
           "yaxis": {
            "backgroundcolor": "white",
            "gridcolor": "#DFE8F3",
            "gridwidth": 2,
            "linecolor": "#EBF0F8",
            "showbackground": true,
            "ticks": "",
            "zerolinecolor": "#EBF0F8"
           },
           "zaxis": {
            "backgroundcolor": "white",
            "gridcolor": "#DFE8F3",
            "gridwidth": 2,
            "linecolor": "#EBF0F8",
            "showbackground": true,
            "ticks": "",
            "zerolinecolor": "#EBF0F8"
           }
          },
          "shapedefaults": {
           "line": {
            "color": "#2a3f5f"
           }
          },
          "ternary": {
           "aaxis": {
            "gridcolor": "#DFE8F3",
            "linecolor": "#A2B1C6",
            "ticks": ""
           },
           "baxis": {
            "gridcolor": "#DFE8F3",
            "linecolor": "#A2B1C6",
            "ticks": ""
           },
           "bgcolor": "white",
           "caxis": {
            "gridcolor": "#DFE8F3",
            "linecolor": "#A2B1C6",
            "ticks": ""
           }
          },
          "title": {
           "x": 0.05
          },
          "xaxis": {
           "automargin": true,
           "gridcolor": "#EBF0F8",
           "linecolor": "#EBF0F8",
           "ticks": "",
           "title": {
            "standoff": 15
           },
           "zerolinecolor": "#EBF0F8",
           "zerolinewidth": 2
          },
          "yaxis": {
           "automargin": true,
           "gridcolor": "#EBF0F8",
           "linecolor": "#EBF0F8",
           "ticks": "",
           "title": {
            "standoff": 15
           },
           "zerolinecolor": "#EBF0F8",
           "zerolinewidth": 2
          }
         }
        },
        "title": {
         "font": {
          "color": "saddlebrown",
          "size": 22
         },
         "text": "Year-wise Confidence Interval Difference Trend ",
         "x": 0.5
        },
        "width": 1300,
        "xaxis": {
         "title": {
          "text": "Year"
         }
        },
        "yaxis": {
         "title": {
          "text": "No. of cases"
         }
        }
       }
      }
     },
     "metadata": {},
     "output_type": "display_data"
    }
   ],
   "source": [
    "group_observed = data.groupby('Start_Year', as_index=False)['Upper_Limit_of_Confidence_Interval'].mean()\n",
    "group_expected = data.groupby('Start_Year', as_index=False)['Lower_Limit_of_Confidence_Interval'].mean()\n",
    "\n",
    "fig = go.Figure()\n",
    "\n",
    "fig.add_trace(go.Scatter(\n",
    "    y=group_observed['Upper_Limit_of_Confidence_Interval'],\n",
    "    x=group_observed['Start_Year'],\n",
    "    name='Upper_Limit_of_Confidence_Interval',\n",
    "    line = dict(color='green', width=4, dash='dot'),\n",
    "    marker=dict(size=6)\n",
    "))\n",
    "\n",
    "fig.add_trace(go.Scatter(\n",
    "    y=group_expected['Lower_Limit_of_Confidence_Interval'],\n",
    "    x=group_expected['Start_Year'],\n",
    "    line=dict(color='red', width=4, dash='dot'),\n",
    "    name='Lower_Limit_of_Confidence_Interval',\n",
    "    marker=dict(size=6)\n",
    "))\n",
    "\n",
    "fig.update_layout(\n",
    "    title=dict(\n",
    "        text='Year-wise Confidence Interval Difference Trend ',\n",
    "        font=dict(size=22, color='saddlebrown'),\n",
    "        x=0.5\n",
    "    ),\n",
    "    xaxis_title='Year',\n",
    "    yaxis_title='No. of cases',\n",
    "    template='plotly_white',\n",
    "    height=500,\n",
    "    width=1300\n",
    ")\n",
    "\n",
    "fig.show()"
   ]
  },
  {
   "cell_type": "code",
   "execution_count": null,
   "id": "4b627379",
   "metadata": {},
   "outputs": [
    {
     "data": {
      "text/plain": [
       "np.float64(4.004277821625888)"
      ]
     },
     "metadata": {},
     "output_type": "display_data"
    }
   ],
   "source": [
    "upperlimit['Upper_Limit_of_Confidence_Interval'].mean()\n"
   ]
  },
  {
   "cell_type": "code",
   "execution_count": 61,
   "id": "c033558d",
   "metadata": {},
   "outputs": [
    {
     "data": {
      "text/html": [
       "<div>\n",
       "<style scoped>\n",
       "    .dataframe tbody tr th:only-of-type {\n",
       "        vertical-align: middle;\n",
       "    }\n",
       "\n",
       "    .dataframe tbody tr th {\n",
       "        vertical-align: top;\n",
       "    }\n",
       "\n",
       "    .dataframe thead th {\n",
       "        text-align: right;\n",
       "    }\n",
       "</style>\n",
       "<table border=\"1\" class=\"dataframe\">\n",
       "  <thead>\n",
       "    <tr style=\"text-align: right;\">\n",
       "      <th></th>\n",
       "      <th>Hospital_Name</th>\n",
       "      <th>Region</th>\n",
       "      <th>Procedure</th>\n",
       "      <th>Year_of_Hospital_Discharge</th>\n",
       "      <th>Number_of_Cases</th>\n",
       "      <th>Number_of_Deaths</th>\n",
       "      <th>Observed_Mortality_Rate</th>\n",
       "      <th>Expected_Mortality_Rate</th>\n",
       "      <th>Risk_Adjusted_Mortality_Rate</th>\n",
       "      <th>Lower_Limit_of_Confidence_Interval</th>\n",
       "      <th>Upper_Limit_of_Confidence_Interval</th>\n",
       "      <th>Comparison_Results</th>\n",
       "      <th>Start_Year</th>\n",
       "      <th>End_Year</th>\n",
       "      <th>Mid_Year</th>\n",
       "      <th>Comparison_Results_Category</th>\n",
       "      <th>Is_As_Expected_Mortality</th>\n",
       "      <th>Observed_vs_Expected_Difference</th>\n",
       "      <th>Observed_vs_RiskAdjusted_Difference</th>\n",
       "    </tr>\n",
       "  </thead>\n",
       "  <tbody>\n",
       "    <tr>\n",
       "      <th>0</th>\n",
       "      <td>Albany Med. Ctr</td>\n",
       "      <td>Capital District</td>\n",
       "      <td>All PCI</td>\n",
       "      <td>2016</td>\n",
       "      <td>680</td>\n",
       "      <td>17</td>\n",
       "      <td>2.50</td>\n",
       "      <td>1.52</td>\n",
       "      <td>2.03</td>\n",
       "      <td>1.18</td>\n",
       "      <td>3.26</td>\n",
       "      <td>Rate not different than Statewide Rate</td>\n",
       "      <td>2016</td>\n",
       "      <td>2016</td>\n",
       "      <td>2016</td>\n",
       "      <td>Rate not different than Statewide Rate</td>\n",
       "      <td>True</td>\n",
       "      <td>0.98</td>\n",
       "      <td>0.47</td>\n",
       "    </tr>\n",
       "    <tr>\n",
       "      <th>1</th>\n",
       "      <td>White Plains Hospital</td>\n",
       "      <td>NY Metro - New Rochelle</td>\n",
       "      <td>Non-Emergency PCI</td>\n",
       "      <td>2015</td>\n",
       "      <td>338</td>\n",
       "      <td>1</td>\n",
       "      <td>0.30</td>\n",
       "      <td>0.64</td>\n",
       "      <td>0.34</td>\n",
       "      <td>0.00</td>\n",
       "      <td>1.91</td>\n",
       "      <td>Rate not different than Statewide Rate</td>\n",
       "      <td>2015</td>\n",
       "      <td>2015</td>\n",
       "      <td>2015</td>\n",
       "      <td>Rate not different than Statewide Rate</td>\n",
       "      <td>True</td>\n",
       "      <td>-0.34</td>\n",
       "      <td>-0.04</td>\n",
       "    </tr>\n",
       "    <tr>\n",
       "      <th>2</th>\n",
       "      <td>Bellevue Hospital Ctr</td>\n",
       "      <td>NY Metro - NYC</td>\n",
       "      <td>All PCI</td>\n",
       "      <td>2010</td>\n",
       "      <td>448</td>\n",
       "      <td>4</td>\n",
       "      <td>0.89</td>\n",
       "      <td>0.89</td>\n",
       "      <td>0.84</td>\n",
       "      <td>0.23</td>\n",
       "      <td>2.16</td>\n",
       "      <td>Rate not different than Statewide Rate</td>\n",
       "      <td>2010</td>\n",
       "      <td>2010</td>\n",
       "      <td>2010</td>\n",
       "      <td>Rate not different than Statewide Rate</td>\n",
       "      <td>True</td>\n",
       "      <td>0.00</td>\n",
       "      <td>0.05</td>\n",
       "    </tr>\n",
       "    <tr>\n",
       "      <th>3</th>\n",
       "      <td>Beth Israel Med Ctr</td>\n",
       "      <td>NY Metro - NYC</td>\n",
       "      <td>All PCI</td>\n",
       "      <td>2010</td>\n",
       "      <td>1762</td>\n",
       "      <td>11</td>\n",
       "      <td>0.62</td>\n",
       "      <td>0.70</td>\n",
       "      <td>0.75</td>\n",
       "      <td>0.38</td>\n",
       "      <td>1.35</td>\n",
       "      <td>Rate not different than Statewide Rate</td>\n",
       "      <td>2010</td>\n",
       "      <td>2010</td>\n",
       "      <td>2010</td>\n",
       "      <td>Rate not different than Statewide Rate</td>\n",
       "      <td>True</td>\n",
       "      <td>-0.08</td>\n",
       "      <td>-0.13</td>\n",
       "    </tr>\n",
       "    <tr>\n",
       "      <th>4</th>\n",
       "      <td>Bronx-Lebanon-Cncourse</td>\n",
       "      <td>NY Metro - NYC</td>\n",
       "      <td>All PCI</td>\n",
       "      <td>2010</td>\n",
       "      <td>65</td>\n",
       "      <td>4</td>\n",
       "      <td>6.15</td>\n",
       "      <td>2.41</td>\n",
       "      <td>2.15</td>\n",
       "      <td>0.58</td>\n",
       "      <td>5.50</td>\n",
       "      <td>Rate not different than Statewide Rate</td>\n",
       "      <td>2010</td>\n",
       "      <td>2010</td>\n",
       "      <td>2010</td>\n",
       "      <td>Rate not different than Statewide Rate</td>\n",
       "      <td>True</td>\n",
       "      <td>3.74</td>\n",
       "      <td>4.00</td>\n",
       "    </tr>\n",
       "  </tbody>\n",
       "</table>\n",
       "</div>"
      ],
      "text/plain": [
       "            Hospital_Name                   Region          Procedure  \\\n",
       "0         Albany Med. Ctr         Capital District            All PCI   \n",
       "1   White Plains Hospital  NY Metro - New Rochelle  Non-Emergency PCI   \n",
       "2   Bellevue Hospital Ctr           NY Metro - NYC            All PCI   \n",
       "3     Beth Israel Med Ctr           NY Metro - NYC            All PCI   \n",
       "4  Bronx-Lebanon-Cncourse           NY Metro - NYC            All PCI   \n",
       "\n",
       "  Year_of_Hospital_Discharge  Number_of_Cases  Number_of_Deaths  \\\n",
       "0                       2016              680                17   \n",
       "1                       2015              338                 1   \n",
       "2                       2010              448                 4   \n",
       "3                       2010             1762                11   \n",
       "4                       2010               65                 4   \n",
       "\n",
       "   Observed_Mortality_Rate  Expected_Mortality_Rate  \\\n",
       "0                     2.50                     1.52   \n",
       "1                     0.30                     0.64   \n",
       "2                     0.89                     0.89   \n",
       "3                     0.62                     0.70   \n",
       "4                     6.15                     2.41   \n",
       "\n",
       "   Risk_Adjusted_Mortality_Rate  Lower_Limit_of_Confidence_Interval  \\\n",
       "0                          2.03                                1.18   \n",
       "1                          0.34                                0.00   \n",
       "2                          0.84                                0.23   \n",
       "3                          0.75                                0.38   \n",
       "4                          2.15                                0.58   \n",
       "\n",
       "   Upper_Limit_of_Confidence_Interval                      Comparison_Results  \\\n",
       "0                                3.26  Rate not different than Statewide Rate   \n",
       "1                                1.91  Rate not different than Statewide Rate   \n",
       "2                                2.16  Rate not different than Statewide Rate   \n",
       "3                                1.35  Rate not different than Statewide Rate   \n",
       "4                                5.50  Rate not different than Statewide Rate   \n",
       "\n",
       "   Start_Year  End_Year  Mid_Year             Comparison_Results_Category  \\\n",
       "0        2016      2016      2016  Rate not different than Statewide Rate   \n",
       "1        2015      2015      2015  Rate not different than Statewide Rate   \n",
       "2        2010      2010      2010  Rate not different than Statewide Rate   \n",
       "3        2010      2010      2010  Rate not different than Statewide Rate   \n",
       "4        2010      2010      2010  Rate not different than Statewide Rate   \n",
       "\n",
       "   Is_As_Expected_Mortality  Observed_vs_Expected_Difference  \\\n",
       "0                      True                             0.98   \n",
       "1                      True                            -0.34   \n",
       "2                      True                             0.00   \n",
       "3                      True                            -0.08   \n",
       "4                      True                             3.74   \n",
       "\n",
       "   Observed_vs_RiskAdjusted_Difference  \n",
       "0                                 0.47  \n",
       "1                                -0.04  \n",
       "2                                 0.05  \n",
       "3                                -0.13  \n",
       "4                                 4.00  "
      ]
     },
     "execution_count": 61,
     "metadata": {},
     "output_type": "execute_result"
    }
   ],
   "source": [
    "data.head()"
   ]
  },
  {
   "cell_type": "code",
   "execution_count": null,
   "id": "87518d2b",
   "metadata": {},
   "outputs": [],
   "source": []
  },
  {
   "cell_type": "code",
   "execution_count": null,
   "id": "6938fc0c",
   "metadata": {},
   "outputs": [],
   "source": []
  },
  {
   "cell_type": "code",
   "execution_count": null,
   "id": "b3f262fa",
   "metadata": {},
   "outputs": [],
   "source": []
  },
  {
   "cell_type": "code",
   "execution_count": null,
   "id": "6bac6f54",
   "metadata": {},
   "outputs": [],
   "source": []
  }
 ],
 "metadata": {
  "kernelspec": {
   "display_name": "env",
   "language": "python",
   "name": "python3"
  },
  "language_info": {
   "codemirror_mode": {
    "name": "ipython",
    "version": 3
   },
   "file_extension": ".py",
   "mimetype": "text/x-python",
   "name": "python",
   "nbconvert_exporter": "python",
   "pygments_lexer": "ipython3",
   "version": "3.13.5"
  }
 },
 "nbformat": 4,
 "nbformat_minor": 5
}
